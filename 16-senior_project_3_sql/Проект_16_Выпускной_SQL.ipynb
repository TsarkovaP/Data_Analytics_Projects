{
 "cells": [
  {
   "cell_type": "markdown",
   "metadata": {},
   "source": [
    "# Анализ базы данных сервиса для чтения книг (SQL)."
   ]
  },
  {
   "cell_type": "markdown",
   "metadata": {},
   "source": [
    "Компания решила купить крупный сервис для чтения книг по подписке.\n",
    "\n",
    "Задача проекта — проанализировать базу данных. В ней — информация о книгах, издательствах, авторах, а также пользовательские обзоры книг. Эти данные помогут сформулировать ценностное предложение для нового продукта.\n"
   ]
  },
  {
   "cell_type": "markdown",
   "metadata": {},
   "source": [
    "Описание данных \n",
    "\n",
    "Таблица books\n",
    "\n",
    "Содержит данные о книгах:\n",
    "\n",
    "- book_id — идентификатор книги;\n",
    "- author_id — идентификатор автора;\n",
    "- title — название книги;\n",
    "- num_pages — количество страниц; \n",
    "- publication_date — дата публикации книги; \n",
    "- publisher_id — идентификатор издателя.\n",
    "\n",
    "Таблица authors\n",
    "\n",
    "Содержит данные об авторах:\n",
    "\n",
    "- author_id — идентификатор автора;\n",
    "- author — имя автора.\n",
    "\n",
    "Таблица publishers\n",
    "\n",
    "Содержит данные об издательствах:\n",
    "\n",
    "- publisher_id — идентификатор издательства;\n",
    "- publisher — название издательства; \n",
    "\n",
    "Таблица ratings\n",
    "\n",
    "Содержит данные о пользовательских оценках книг: \n",
    "\n",
    "- rating_id — идентификатор оценки;\n",
    "- book_id — идентификатор книги;\n",
    "- username — имя пользователя, оставившего оценку; \n",
    "- rating — оценка книги.\n",
    "\n",
    "Таблица reviews\n",
    "\n",
    "Содержит данные о пользовательских обзорах на книги:\n",
    "\n",
    "- review_id — идентификатор обзора;\n",
    "- book_id — идентификатор книги;\n",
    "- username — имя пользователя, написавшего обзор; \n",
    "- text — текст обзора."
   ]
  },
  {
   "cell_type": "markdown",
   "metadata": {},
   "source": [
    "### Подключение к базе данных."
   ]
  },
  {
   "cell_type": "code",
   "execution_count": 1,
   "metadata": {},
   "outputs": [
    {
     "name": "stdout",
     "output_type": "stream",
     "text": [
      "Requirement already satisfied: sqlalchemy in /opt/conda/lib/python3.9/site-packages (1.4.27)\n",
      "Requirement already satisfied: greenlet!=0.4.17 in /opt/conda/lib/python3.9/site-packages (from sqlalchemy) (1.1.2)\n"
     ]
    }
   ],
   "source": [
    "!pip install sqlalchemy "
   ]
  },
  {
   "cell_type": "code",
   "execution_count": 2,
   "metadata": {},
   "outputs": [],
   "source": [
    "import pandas as pd\n",
    "import matplotlib.pyplot as plt\n",
    "from sqlalchemy import create_engine \n",
    "import seaborn as sns\n"
   ]
  },
  {
   "cell_type": "code",
   "execution_count": 3,
   "metadata": {},
   "outputs": [],
   "source": [
    "# импортируем библиотеки\n",
    "import pandas as pd\n",
    "from sqlalchemy import create_engine\n",
    "# устанавливаем параметры\n",
    "db_config = {'user': 'praktikum_student', # имя пользователя\n",
    "'pwd': 'Sdf4$2;d-d30pp', # пароль\n",
    "'host': 'rc1b-wcoijxj3yxfsf3fs.mdb.yandexcloud.net',\n",
    "'port': 6432, # порт подключения\n",
    "'db': 'data-analyst-final-project-db'} # название базы данных\n",
    "connection_string = 'postgresql://{}:{}@{}:{}/{}'.format(db_config['user'],\n",
    "db_config['pwd'],\n",
    "db_config['host'],\n",
    "db_config['port'],\n",
    "db_config['db'])\n",
    "# сохраняем коннектор\n",
    "engine = create_engine(connection_string, connect_args={'sslmode':'require'})"
   ]
  },
  {
   "cell_type": "markdown",
   "metadata": {},
   "source": [
    "### Анализ базы данных."
   ]
  },
  {
   "cell_type": "markdown",
   "metadata": {},
   "source": [
    "Выведим первые строки каждой таблицы и создадим первое представление о базе."
   ]
  },
  {
   "cell_type": "code",
   "execution_count": 4,
   "metadata": {},
   "outputs": [
    {
     "data": {
      "text/html": [
       "<div>\n",
       "<style scoped>\n",
       "    .dataframe tbody tr th:only-of-type {\n",
       "        vertical-align: middle;\n",
       "    }\n",
       "\n",
       "    .dataframe tbody tr th {\n",
       "        vertical-align: top;\n",
       "    }\n",
       "\n",
       "    .dataframe thead th {\n",
       "        text-align: right;\n",
       "    }\n",
       "</style>\n",
       "<table border=\"1\" class=\"dataframe\">\n",
       "  <thead>\n",
       "    <tr style=\"text-align: right;\">\n",
       "      <th></th>\n",
       "      <th>book_id</th>\n",
       "      <th>author_id</th>\n",
       "      <th>title</th>\n",
       "      <th>num_pages</th>\n",
       "      <th>publication_date</th>\n",
       "      <th>publisher_id</th>\n",
       "    </tr>\n",
       "  </thead>\n",
       "  <tbody>\n",
       "    <tr>\n",
       "      <th>0</th>\n",
       "      <td>1</td>\n",
       "      <td>546</td>\n",
       "      <td>'Salem's Lot</td>\n",
       "      <td>594</td>\n",
       "      <td>2005-11-01</td>\n",
       "      <td>93</td>\n",
       "    </tr>\n",
       "  </tbody>\n",
       "</table>\n",
       "</div>"
      ],
      "text/plain": [
       "   book_id  author_id         title  num_pages publication_date  publisher_id\n",
       "0        1        546  'Salem's Lot        594       2005-11-01            93"
      ]
     },
     "execution_count": 4,
     "metadata": {},
     "output_type": "execute_result"
    }
   ],
   "source": [
    "query = '''\n",
    "SELECT *\n",
    "FROM books\n",
    "LIMIT 1;\n",
    "'''\n",
    "sample_df = pd.io.sql.read_sql(query, con = engine)\n",
    "sample_df"
   ]
  },
  {
   "cell_type": "code",
   "execution_count": 5,
   "metadata": {},
   "outputs": [
    {
     "data": {
      "text/html": [
       "<div>\n",
       "<style scoped>\n",
       "    .dataframe tbody tr th:only-of-type {\n",
       "        vertical-align: middle;\n",
       "    }\n",
       "\n",
       "    .dataframe tbody tr th {\n",
       "        vertical-align: top;\n",
       "    }\n",
       "\n",
       "    .dataframe thead th {\n",
       "        text-align: right;\n",
       "    }\n",
       "</style>\n",
       "<table border=\"1\" class=\"dataframe\">\n",
       "  <thead>\n",
       "    <tr style=\"text-align: right;\">\n",
       "      <th></th>\n",
       "      <th>publisher_id</th>\n",
       "      <th>publisher</th>\n",
       "    </tr>\n",
       "  </thead>\n",
       "  <tbody>\n",
       "    <tr>\n",
       "      <th>0</th>\n",
       "      <td>1</td>\n",
       "      <td>Ace</td>\n",
       "    </tr>\n",
       "  </tbody>\n",
       "</table>\n",
       "</div>"
      ],
      "text/plain": [
       "   publisher_id publisher\n",
       "0             1       Ace"
      ]
     },
     "execution_count": 5,
     "metadata": {},
     "output_type": "execute_result"
    }
   ],
   "source": [
    "query = '''\n",
    "SELECT *\n",
    "FROM publishers\n",
    "LIMIT 1;\n",
    "'''\n",
    "sample_df = pd.io.sql.read_sql(query, con = engine)\n",
    "sample_df"
   ]
  },
  {
   "cell_type": "code",
   "execution_count": 6,
   "metadata": {},
   "outputs": [
    {
     "data": {
      "text/html": [
       "<div>\n",
       "<style scoped>\n",
       "    .dataframe tbody tr th:only-of-type {\n",
       "        vertical-align: middle;\n",
       "    }\n",
       "\n",
       "    .dataframe tbody tr th {\n",
       "        vertical-align: top;\n",
       "    }\n",
       "\n",
       "    .dataframe thead th {\n",
       "        text-align: right;\n",
       "    }\n",
       "</style>\n",
       "<table border=\"1\" class=\"dataframe\">\n",
       "  <thead>\n",
       "    <tr style=\"text-align: right;\">\n",
       "      <th></th>\n",
       "      <th>rating_id</th>\n",
       "      <th>book_id</th>\n",
       "      <th>username</th>\n",
       "      <th>rating</th>\n",
       "    </tr>\n",
       "  </thead>\n",
       "  <tbody>\n",
       "    <tr>\n",
       "      <th>0</th>\n",
       "      <td>1</td>\n",
       "      <td>1</td>\n",
       "      <td>ryanfranco</td>\n",
       "      <td>4</td>\n",
       "    </tr>\n",
       "  </tbody>\n",
       "</table>\n",
       "</div>"
      ],
      "text/plain": [
       "   rating_id  book_id    username  rating\n",
       "0          1        1  ryanfranco       4"
      ]
     },
     "execution_count": 6,
     "metadata": {},
     "output_type": "execute_result"
    }
   ],
   "source": [
    "query = '''\n",
    "SELECT *\n",
    "FROM ratings\n",
    "LIMIT 1;\n",
    "'''\n",
    "sample_df = pd.io.sql.read_sql(query, con = engine)\n",
    "sample_df"
   ]
  },
  {
   "cell_type": "code",
   "execution_count": 7,
   "metadata": {},
   "outputs": [
    {
     "data": {
      "text/html": [
       "<div>\n",
       "<style scoped>\n",
       "    .dataframe tbody tr th:only-of-type {\n",
       "        vertical-align: middle;\n",
       "    }\n",
       "\n",
       "    .dataframe tbody tr th {\n",
       "        vertical-align: top;\n",
       "    }\n",
       "\n",
       "    .dataframe thead th {\n",
       "        text-align: right;\n",
       "    }\n",
       "</style>\n",
       "<table border=\"1\" class=\"dataframe\">\n",
       "  <thead>\n",
       "    <tr style=\"text-align: right;\">\n",
       "      <th></th>\n",
       "      <th>review_id</th>\n",
       "      <th>book_id</th>\n",
       "      <th>username</th>\n",
       "      <th>text</th>\n",
       "    </tr>\n",
       "  </thead>\n",
       "  <tbody>\n",
       "    <tr>\n",
       "      <th>0</th>\n",
       "      <td>1</td>\n",
       "      <td>1</td>\n",
       "      <td>brandtandrea</td>\n",
       "      <td>Mention society tell send professor analysis. ...</td>\n",
       "    </tr>\n",
       "  </tbody>\n",
       "</table>\n",
       "</div>"
      ],
      "text/plain": [
       "   review_id  book_id      username  \\\n",
       "0          1        1  brandtandrea   \n",
       "\n",
       "                                                text  \n",
       "0  Mention society tell send professor analysis. ...  "
      ]
     },
     "execution_count": 7,
     "metadata": {},
     "output_type": "execute_result"
    }
   ],
   "source": [
    "query = '''\n",
    "SELECT *\n",
    "FROM reviews\n",
    "LIMIT 1;\n",
    "'''\n",
    "sample_df = pd.io.sql.read_sql(query, con = engine)\n",
    "sample_df"
   ]
  },
  {
   "cell_type": "markdown",
   "metadata": {},
   "source": [
    "#### "
   ]
  },
  {
   "cell_type": "markdown",
   "metadata": {},
   "source": [
    "- Посчитаем, сколько книг вышло после 1 января 2000 года"
   ]
  },
  {
   "cell_type": "code",
   "execution_count": 8,
   "metadata": {},
   "outputs": [
    {
     "data": {
      "text/html": [
       "<div>\n",
       "<style scoped>\n",
       "    .dataframe tbody tr th:only-of-type {\n",
       "        vertical-align: middle;\n",
       "    }\n",
       "\n",
       "    .dataframe tbody tr th {\n",
       "        vertical-align: top;\n",
       "    }\n",
       "\n",
       "    .dataframe thead th {\n",
       "        text-align: right;\n",
       "    }\n",
       "</style>\n",
       "<table border=\"1\" class=\"dataframe\">\n",
       "  <thead>\n",
       "    <tr style=\"text-align: right;\">\n",
       "      <th></th>\n",
       "      <th>count</th>\n",
       "    </tr>\n",
       "  </thead>\n",
       "  <tbody>\n",
       "    <tr>\n",
       "      <th>0</th>\n",
       "      <td>819</td>\n",
       "    </tr>\n",
       "  </tbody>\n",
       "</table>\n",
       "</div>"
      ],
      "text/plain": [
       "   count\n",
       "0    819"
      ]
     },
     "execution_count": 8,
     "metadata": {},
     "output_type": "execute_result"
    }
   ],
   "source": [
    "query = '''\n",
    "SELECT COUNT(*)\n",
    "FROM books as b\n",
    "WHERE b.publication_date > '2000-01-01'\n",
    ";\n",
    "'''\n",
    "sample_df = pd.io.sql.read_sql(query, con = engine)\n",
    "sample_df"
   ]
  },
  {
   "cell_type": "markdown",
   "metadata": {},
   "source": [
    "То есть после 1 января 2000 года было выпущено 819 книг."
   ]
  },
  {
   "cell_type": "markdown",
   "metadata": {},
   "source": [
    "#### "
   ]
  },
  {
   "cell_type": "markdown",
   "metadata": {},
   "source": [
    "- Для каждой книги посчитаем количество обзоров и среднюю оценку;\n"
   ]
  },
  {
   "cell_type": "code",
   "execution_count": 9,
   "metadata": {},
   "outputs": [
    {
     "data": {
      "text/html": [
       "<div>\n",
       "<style scoped>\n",
       "    .dataframe tbody tr th:only-of-type {\n",
       "        vertical-align: middle;\n",
       "    }\n",
       "\n",
       "    .dataframe tbody tr th {\n",
       "        vertical-align: top;\n",
       "    }\n",
       "\n",
       "    .dataframe thead th {\n",
       "        text-align: right;\n",
       "    }\n",
       "</style>\n",
       "<table border=\"1\" class=\"dataframe\">\n",
       "  <thead>\n",
       "    <tr style=\"text-align: right;\">\n",
       "      <th></th>\n",
       "      <th>book_id</th>\n",
       "      <th>author_id</th>\n",
       "      <th>title</th>\n",
       "      <th>num_pages</th>\n",
       "      <th>publication_date</th>\n",
       "      <th>publisher_id</th>\n",
       "    </tr>\n",
       "  </thead>\n",
       "  <tbody>\n",
       "    <tr>\n",
       "      <th>0</th>\n",
       "      <td>1</td>\n",
       "      <td>546</td>\n",
       "      <td>'Salem's Lot</td>\n",
       "      <td>594</td>\n",
       "      <td>2005-11-01</td>\n",
       "      <td>93</td>\n",
       "    </tr>\n",
       "    <tr>\n",
       "      <th>1</th>\n",
       "      <td>2</td>\n",
       "      <td>465</td>\n",
       "      <td>1 000 Places to See Before You Die</td>\n",
       "      <td>992</td>\n",
       "      <td>2003-05-22</td>\n",
       "      <td>336</td>\n",
       "    </tr>\n",
       "    <tr>\n",
       "      <th>2</th>\n",
       "      <td>3</td>\n",
       "      <td>407</td>\n",
       "      <td>13 Little Blue Envelopes (Little Blue Envelope...</td>\n",
       "      <td>322</td>\n",
       "      <td>2010-12-21</td>\n",
       "      <td>135</td>\n",
       "    </tr>\n",
       "    <tr>\n",
       "      <th>3</th>\n",
       "      <td>4</td>\n",
       "      <td>82</td>\n",
       "      <td>1491: New Revelations of the Americas Before C...</td>\n",
       "      <td>541</td>\n",
       "      <td>2006-10-10</td>\n",
       "      <td>309</td>\n",
       "    </tr>\n",
       "    <tr>\n",
       "      <th>4</th>\n",
       "      <td>5</td>\n",
       "      <td>125</td>\n",
       "      <td>1776</td>\n",
       "      <td>386</td>\n",
       "      <td>2006-07-04</td>\n",
       "      <td>268</td>\n",
       "    </tr>\n",
       "    <tr>\n",
       "      <th>...</th>\n",
       "      <td>...</td>\n",
       "      <td>...</td>\n",
       "      <td>...</td>\n",
       "      <td>...</td>\n",
       "      <td>...</td>\n",
       "      <td>...</td>\n",
       "    </tr>\n",
       "    <tr>\n",
       "      <th>995</th>\n",
       "      <td>996</td>\n",
       "      <td>571</td>\n",
       "      <td>Wyrd Sisters (Discworld  #6; Witches #2)</td>\n",
       "      <td>265</td>\n",
       "      <td>2001-02-06</td>\n",
       "      <td>147</td>\n",
       "    </tr>\n",
       "    <tr>\n",
       "      <th>996</th>\n",
       "      <td>997</td>\n",
       "      <td>454</td>\n",
       "      <td>Xenocide (Ender's Saga  #3)</td>\n",
       "      <td>592</td>\n",
       "      <td>1996-07-15</td>\n",
       "      <td>297</td>\n",
       "    </tr>\n",
       "    <tr>\n",
       "      <th>997</th>\n",
       "      <td>998</td>\n",
       "      <td>201</td>\n",
       "      <td>Year of Wonders</td>\n",
       "      <td>358</td>\n",
       "      <td>2002-04-30</td>\n",
       "      <td>212</td>\n",
       "    </tr>\n",
       "    <tr>\n",
       "      <th>998</th>\n",
       "      <td>999</td>\n",
       "      <td>94</td>\n",
       "      <td>You Suck (A Love Story  #2)</td>\n",
       "      <td>328</td>\n",
       "      <td>2007-01-16</td>\n",
       "      <td>331</td>\n",
       "    </tr>\n",
       "    <tr>\n",
       "      <th>999</th>\n",
       "      <td>1000</td>\n",
       "      <td>509</td>\n",
       "      <td>Zen and the Art of Motorcycle Maintenance: An ...</td>\n",
       "      <td>540</td>\n",
       "      <td>2006-04-25</td>\n",
       "      <td>143</td>\n",
       "    </tr>\n",
       "  </tbody>\n",
       "</table>\n",
       "<p>1000 rows × 6 columns</p>\n",
       "</div>"
      ],
      "text/plain": [
       "     book_id  author_id                                              title  \\\n",
       "0          1        546                                       'Salem's Lot   \n",
       "1          2        465                 1 000 Places to See Before You Die   \n",
       "2          3        407  13 Little Blue Envelopes (Little Blue Envelope...   \n",
       "3          4         82  1491: New Revelations of the Americas Before C...   \n",
       "4          5        125                                               1776   \n",
       "..       ...        ...                                                ...   \n",
       "995      996        571           Wyrd Sisters (Discworld  #6; Witches #2)   \n",
       "996      997        454                        Xenocide (Ender's Saga  #3)   \n",
       "997      998        201                                    Year of Wonders   \n",
       "998      999         94                        You Suck (A Love Story  #2)   \n",
       "999     1000        509  Zen and the Art of Motorcycle Maintenance: An ...   \n",
       "\n",
       "     num_pages publication_date  publisher_id  \n",
       "0          594       2005-11-01            93  \n",
       "1          992       2003-05-22           336  \n",
       "2          322       2010-12-21           135  \n",
       "3          541       2006-10-10           309  \n",
       "4          386       2006-07-04           268  \n",
       "..         ...              ...           ...  \n",
       "995        265       2001-02-06           147  \n",
       "996        592       1996-07-15           297  \n",
       "997        358       2002-04-30           212  \n",
       "998        328       2007-01-16           331  \n",
       "999        540       2006-04-25           143  \n",
       "\n",
       "[1000 rows x 6 columns]"
      ]
     },
     "execution_count": 9,
     "metadata": {},
     "output_type": "execute_result"
    }
   ],
   "source": [
    "#выведим таблицу books\n",
    "query = '''\n",
    "SELECT *\n",
    "       \n",
    "FROM books as b\n",
    "\n",
    ";\n",
    "'''\n",
    "sample_df = pd.io.sql.read_sql(query, con = engine)\n",
    "sample_df"
   ]
  },
  {
   "cell_type": "code",
   "execution_count": 10,
   "metadata": {},
   "outputs": [
    {
     "data": {
      "text/html": [
       "<div>\n",
       "<style scoped>\n",
       "    .dataframe tbody tr th:only-of-type {\n",
       "        vertical-align: middle;\n",
       "    }\n",
       "\n",
       "    .dataframe tbody tr th {\n",
       "        vertical-align: top;\n",
       "    }\n",
       "\n",
       "    .dataframe thead th {\n",
       "        text-align: right;\n",
       "    }\n",
       "</style>\n",
       "<table border=\"1\" class=\"dataframe\">\n",
       "  <thead>\n",
       "    <tr style=\"text-align: right;\">\n",
       "      <th></th>\n",
       "      <th>book_id</th>\n",
       "      <th>avg</th>\n",
       "    </tr>\n",
       "  </thead>\n",
       "  <tbody>\n",
       "    <tr>\n",
       "      <th>0</th>\n",
       "      <td>652</td>\n",
       "      <td>4.500000</td>\n",
       "    </tr>\n",
       "    <tr>\n",
       "      <th>1</th>\n",
       "      <td>273</td>\n",
       "      <td>4.500000</td>\n",
       "    </tr>\n",
       "    <tr>\n",
       "      <th>2</th>\n",
       "      <td>51</td>\n",
       "      <td>4.250000</td>\n",
       "    </tr>\n",
       "    <tr>\n",
       "      <th>3</th>\n",
       "      <td>951</td>\n",
       "      <td>4.000000</td>\n",
       "    </tr>\n",
       "    <tr>\n",
       "      <th>4</th>\n",
       "      <td>839</td>\n",
       "      <td>4.285714</td>\n",
       "    </tr>\n",
       "    <tr>\n",
       "      <th>...</th>\n",
       "      <td>...</td>\n",
       "      <td>...</td>\n",
       "    </tr>\n",
       "    <tr>\n",
       "      <th>995</th>\n",
       "      <td>64</td>\n",
       "      <td>4.230769</td>\n",
       "    </tr>\n",
       "    <tr>\n",
       "      <th>996</th>\n",
       "      <td>55</td>\n",
       "      <td>5.000000</td>\n",
       "    </tr>\n",
       "    <tr>\n",
       "      <th>997</th>\n",
       "      <td>148</td>\n",
       "      <td>3.428571</td>\n",
       "    </tr>\n",
       "    <tr>\n",
       "      <th>998</th>\n",
       "      <td>790</td>\n",
       "      <td>3.500000</td>\n",
       "    </tr>\n",
       "    <tr>\n",
       "      <th>999</th>\n",
       "      <td>828</td>\n",
       "      <td>3.000000</td>\n",
       "    </tr>\n",
       "  </tbody>\n",
       "</table>\n",
       "<p>1000 rows × 2 columns</p>\n",
       "</div>"
      ],
      "text/plain": [
       "     book_id       avg\n",
       "0        652  4.500000\n",
       "1        273  4.500000\n",
       "2         51  4.250000\n",
       "3        951  4.000000\n",
       "4        839  4.285714\n",
       "..       ...       ...\n",
       "995       64  4.230769\n",
       "996       55  5.000000\n",
       "997      148  3.428571\n",
       "998      790  3.500000\n",
       "999      828  3.000000\n",
       "\n",
       "[1000 rows x 2 columns]"
      ]
     },
     "execution_count": 10,
     "metadata": {},
     "output_type": "execute_result"
    }
   ],
   "source": [
    "#выведем в таблице ratings среднюю оценку по каждой книге\n",
    "query = '''\n",
    "SELECT book_id,\n",
    "       AVG(r.rating)\n",
    "       \n",
    "FROM ratings as r\n",
    "GROUP BY r.book_id\n",
    ";\n",
    "'''\n",
    "sample_df = pd.io.sql.read_sql(query, con = engine)\n",
    "sample_df"
   ]
  },
  {
   "cell_type": "code",
   "execution_count": 11,
   "metadata": {},
   "outputs": [
    {
     "data": {
      "text/html": [
       "<div>\n",
       "<style scoped>\n",
       "    .dataframe tbody tr th:only-of-type {\n",
       "        vertical-align: middle;\n",
       "    }\n",
       "\n",
       "    .dataframe tbody tr th {\n",
       "        vertical-align: top;\n",
       "    }\n",
       "\n",
       "    .dataframe thead th {\n",
       "        text-align: right;\n",
       "    }\n",
       "</style>\n",
       "<table border=\"1\" class=\"dataframe\">\n",
       "  <thead>\n",
       "    <tr style=\"text-align: right;\">\n",
       "      <th></th>\n",
       "      <th>book_id</th>\n",
       "      <th>count</th>\n",
       "    </tr>\n",
       "  </thead>\n",
       "  <tbody>\n",
       "    <tr>\n",
       "      <th>0</th>\n",
       "      <td>652</td>\n",
       "      <td>2</td>\n",
       "    </tr>\n",
       "    <tr>\n",
       "      <th>1</th>\n",
       "      <td>273</td>\n",
       "      <td>2</td>\n",
       "    </tr>\n",
       "    <tr>\n",
       "      <th>2</th>\n",
       "      <td>51</td>\n",
       "      <td>5</td>\n",
       "    </tr>\n",
       "    <tr>\n",
       "      <th>3</th>\n",
       "      <td>951</td>\n",
       "      <td>2</td>\n",
       "    </tr>\n",
       "    <tr>\n",
       "      <th>4</th>\n",
       "      <td>839</td>\n",
       "      <td>4</td>\n",
       "    </tr>\n",
       "    <tr>\n",
       "      <th>...</th>\n",
       "      <td>...</td>\n",
       "      <td>...</td>\n",
       "    </tr>\n",
       "    <tr>\n",
       "      <th>989</th>\n",
       "      <td>64</td>\n",
       "      <td>4</td>\n",
       "    </tr>\n",
       "    <tr>\n",
       "      <th>990</th>\n",
       "      <td>55</td>\n",
       "      <td>2</td>\n",
       "    </tr>\n",
       "    <tr>\n",
       "      <th>991</th>\n",
       "      <td>148</td>\n",
       "      <td>3</td>\n",
       "    </tr>\n",
       "    <tr>\n",
       "      <th>992</th>\n",
       "      <td>790</td>\n",
       "      <td>2</td>\n",
       "    </tr>\n",
       "    <tr>\n",
       "      <th>993</th>\n",
       "      <td>828</td>\n",
       "      <td>2</td>\n",
       "    </tr>\n",
       "  </tbody>\n",
       "</table>\n",
       "<p>994 rows × 2 columns</p>\n",
       "</div>"
      ],
      "text/plain": [
       "     book_id  count\n",
       "0        652      2\n",
       "1        273      2\n",
       "2         51      5\n",
       "3        951      2\n",
       "4        839      4\n",
       "..       ...    ...\n",
       "989       64      4\n",
       "990       55      2\n",
       "991      148      3\n",
       "992      790      2\n",
       "993      828      2\n",
       "\n",
       "[994 rows x 2 columns]"
      ]
     },
     "execution_count": 11,
     "metadata": {},
     "output_type": "execute_result"
    }
   ],
   "source": [
    "#в таблице reviews посчитаем количество обзоров по каждой книге\n",
    "query = '''\n",
    "SELECT rv.book_id,\n",
    "       COUNT(review_id)\n",
    "       \n",
    "FROM reviews as rv\n",
    "GROUP BY rv.book_id\n",
    ";\n",
    "'''\n",
    "sample_df = pd.io.sql.read_sql(query, con = engine)\n",
    "sample_df"
   ]
  },
  {
   "cell_type": "code",
   "execution_count": 12,
   "metadata": {},
   "outputs": [
    {
     "data": {
      "text/html": [
       "<div>\n",
       "<style scoped>\n",
       "    .dataframe tbody tr th:only-of-type {\n",
       "        vertical-align: middle;\n",
       "    }\n",
       "\n",
       "    .dataframe tbody tr th {\n",
       "        vertical-align: top;\n",
       "    }\n",
       "\n",
       "    .dataframe thead th {\n",
       "        text-align: right;\n",
       "    }\n",
       "</style>\n",
       "<table border=\"1\" class=\"dataframe\">\n",
       "  <thead>\n",
       "    <tr style=\"text-align: right;\">\n",
       "      <th></th>\n",
       "      <th>book_id</th>\n",
       "      <th>author_id</th>\n",
       "      <th>title</th>\n",
       "      <th>num_pages</th>\n",
       "      <th>publication_date</th>\n",
       "      <th>publisher_id</th>\n",
       "      <th>book_id</th>\n",
       "      <th>avg</th>\n",
       "      <th>book_id</th>\n",
       "      <th>count</th>\n",
       "    </tr>\n",
       "  </thead>\n",
       "  <tbody>\n",
       "    <tr>\n",
       "      <th>0</th>\n",
       "      <td>652</td>\n",
       "      <td>3</td>\n",
       "      <td>The Body in the Library (Miss Marple  #3)</td>\n",
       "      <td>191</td>\n",
       "      <td>2006-09-01</td>\n",
       "      <td>50</td>\n",
       "      <td>652</td>\n",
       "      <td>4.500000</td>\n",
       "      <td>652.0</td>\n",
       "      <td>2.0</td>\n",
       "    </tr>\n",
       "    <tr>\n",
       "      <th>1</th>\n",
       "      <td>273</td>\n",
       "      <td>352</td>\n",
       "      <td>Galápagos</td>\n",
       "      <td>324</td>\n",
       "      <td>1999-01-12</td>\n",
       "      <td>88</td>\n",
       "      <td>273</td>\n",
       "      <td>4.500000</td>\n",
       "      <td>273.0</td>\n",
       "      <td>2.0</td>\n",
       "    </tr>\n",
       "    <tr>\n",
       "      <th>2</th>\n",
       "      <td>51</td>\n",
       "      <td>54</td>\n",
       "      <td>A Tree Grows in Brooklyn</td>\n",
       "      <td>496</td>\n",
       "      <td>2006-05-30</td>\n",
       "      <td>135</td>\n",
       "      <td>51</td>\n",
       "      <td>4.250000</td>\n",
       "      <td>51.0</td>\n",
       "      <td>5.0</td>\n",
       "    </tr>\n",
       "    <tr>\n",
       "      <th>3</th>\n",
       "      <td>951</td>\n",
       "      <td>540</td>\n",
       "      <td>Undaunted Courage: The Pioneering First Missio...</td>\n",
       "      <td>592</td>\n",
       "      <td>2003-10-06</td>\n",
       "      <td>269</td>\n",
       "      <td>951</td>\n",
       "      <td>4.000000</td>\n",
       "      <td>951.0</td>\n",
       "      <td>2.0</td>\n",
       "    </tr>\n",
       "    <tr>\n",
       "      <th>4</th>\n",
       "      <td>839</td>\n",
       "      <td>332</td>\n",
       "      <td>The Prophet</td>\n",
       "      <td>127</td>\n",
       "      <td>2010-01-01</td>\n",
       "      <td>251</td>\n",
       "      <td>839</td>\n",
       "      <td>4.285714</td>\n",
       "      <td>839.0</td>\n",
       "      <td>4.0</td>\n",
       "    </tr>\n",
       "    <tr>\n",
       "      <th>...</th>\n",
       "      <td>...</td>\n",
       "      <td>...</td>\n",
       "      <td>...</td>\n",
       "      <td>...</td>\n",
       "      <td>...</td>\n",
       "      <td>...</td>\n",
       "      <td>...</td>\n",
       "      <td>...</td>\n",
       "      <td>...</td>\n",
       "      <td>...</td>\n",
       "    </tr>\n",
       "    <tr>\n",
       "      <th>995</th>\n",
       "      <td>672</td>\n",
       "      <td>144</td>\n",
       "      <td>The Cat in the Hat and Other Dr. Seuss Favorites</td>\n",
       "      <td>61</td>\n",
       "      <td>2003-10-14</td>\n",
       "      <td>174</td>\n",
       "      <td>672</td>\n",
       "      <td>5.000000</td>\n",
       "      <td>NaN</td>\n",
       "      <td>NaN</td>\n",
       "    </tr>\n",
       "    <tr>\n",
       "      <th>996</th>\n",
       "      <td>83</td>\n",
       "      <td>174</td>\n",
       "      <td>Anne Rice's The Vampire Lestat: A Graphic Novel</td>\n",
       "      <td>404</td>\n",
       "      <td>1991-11-30</td>\n",
       "      <td>33</td>\n",
       "      <td>83</td>\n",
       "      <td>3.666667</td>\n",
       "      <td>NaN</td>\n",
       "      <td>NaN</td>\n",
       "    </tr>\n",
       "    <tr>\n",
       "      <th>997</th>\n",
       "      <td>221</td>\n",
       "      <td>151</td>\n",
       "      <td>Essential Tales and Poems</td>\n",
       "      <td>688</td>\n",
       "      <td>2004-10-25</td>\n",
       "      <td>42</td>\n",
       "      <td>221</td>\n",
       "      <td>4.000000</td>\n",
       "      <td>NaN</td>\n",
       "      <td>NaN</td>\n",
       "    </tr>\n",
       "    <tr>\n",
       "      <th>998</th>\n",
       "      <td>387</td>\n",
       "      <td>365</td>\n",
       "      <td>Leonardo's Notebooks</td>\n",
       "      <td>352</td>\n",
       "      <td>2005-08-01</td>\n",
       "      <td>49</td>\n",
       "      <td>387</td>\n",
       "      <td>4.000000</td>\n",
       "      <td>NaN</td>\n",
       "      <td>NaN</td>\n",
       "    </tr>\n",
       "    <tr>\n",
       "      <th>999</th>\n",
       "      <td>808</td>\n",
       "      <td>350</td>\n",
       "      <td>The Natural Way to Draw</td>\n",
       "      <td>240</td>\n",
       "      <td>1990-02-01</td>\n",
       "      <td>178</td>\n",
       "      <td>808</td>\n",
       "      <td>3.000000</td>\n",
       "      <td>NaN</td>\n",
       "      <td>NaN</td>\n",
       "    </tr>\n",
       "  </tbody>\n",
       "</table>\n",
       "<p>1000 rows × 10 columns</p>\n",
       "</div>"
      ],
      "text/plain": [
       "     book_id  author_id                                              title  \\\n",
       "0        652          3          The Body in the Library (Miss Marple  #3)   \n",
       "1        273        352                                          Galápagos   \n",
       "2         51         54                           A Tree Grows in Brooklyn   \n",
       "3        951        540  Undaunted Courage: The Pioneering First Missio...   \n",
       "4        839        332                                        The Prophet   \n",
       "..       ...        ...                                                ...   \n",
       "995      672        144   The Cat in the Hat and Other Dr. Seuss Favorites   \n",
       "996       83        174    Anne Rice's The Vampire Lestat: A Graphic Novel   \n",
       "997      221        151                          Essential Tales and Poems   \n",
       "998      387        365                               Leonardo's Notebooks   \n",
       "999      808        350                            The Natural Way to Draw   \n",
       "\n",
       "     num_pages publication_date  publisher_id  book_id       avg  book_id  \\\n",
       "0          191       2006-09-01            50      652  4.500000    652.0   \n",
       "1          324       1999-01-12            88      273  4.500000    273.0   \n",
       "2          496       2006-05-30           135       51  4.250000     51.0   \n",
       "3          592       2003-10-06           269      951  4.000000    951.0   \n",
       "4          127       2010-01-01           251      839  4.285714    839.0   \n",
       "..         ...              ...           ...      ...       ...      ...   \n",
       "995         61       2003-10-14           174      672  5.000000      NaN   \n",
       "996        404       1991-11-30            33       83  3.666667      NaN   \n",
       "997        688       2004-10-25            42      221  4.000000      NaN   \n",
       "998        352       2005-08-01            49      387  4.000000      NaN   \n",
       "999        240       1990-02-01           178      808  3.000000      NaN   \n",
       "\n",
       "     count  \n",
       "0      2.0  \n",
       "1      2.0  \n",
       "2      5.0  \n",
       "3      2.0  \n",
       "4      4.0  \n",
       "..     ...  \n",
       "995    NaN  \n",
       "996    NaN  \n",
       "997    NaN  \n",
       "998    NaN  \n",
       "999    NaN  \n",
       "\n",
       "[1000 rows x 10 columns]"
      ]
     },
     "execution_count": 12,
     "metadata": {},
     "output_type": "execute_result"
    }
   ],
   "source": [
    "# объединим три таблицы \n",
    "query = '''\n",
    "WITH \n",
    "avg_r AS  \n",
    "(SELECT book_id,\n",
    "       AVG(r.rating)\n",
    "FROM ratings as r\n",
    "GROUP BY r.book_id),\n",
    "\n",
    "count_rv AS \n",
    "(SELECT rv.book_id,\n",
    "        COUNT(review_id)\n",
    "FROM reviews as rv\n",
    "GROUP BY rv.book_id) \n",
    "       \n",
    "SELECT *\n",
    "FROM books as b\n",
    "LEFT JOIN avg_r ON avg_r.book_id = b.book_id\n",
    "LEFT JOIN count_rv ON count_rv.book_id = b.book_id       \n",
    "\n",
    ";\n",
    "'''\n",
    "sample_df = pd.io.sql.read_sql(query, con = engine)\n",
    "sample_df"
   ]
  },
  {
   "cell_type": "code",
   "execution_count": 13,
   "metadata": {},
   "outputs": [
    {
     "data": {
      "text/html": [
       "<div>\n",
       "<style scoped>\n",
       "    .dataframe tbody tr th:only-of-type {\n",
       "        vertical-align: middle;\n",
       "    }\n",
       "\n",
       "    .dataframe tbody tr th {\n",
       "        vertical-align: top;\n",
       "    }\n",
       "\n",
       "    .dataframe thead th {\n",
       "        text-align: right;\n",
       "    }\n",
       "</style>\n",
       "<table border=\"1\" class=\"dataframe\">\n",
       "  <thead>\n",
       "    <tr style=\"text-align: right;\">\n",
       "      <th></th>\n",
       "      <th>title</th>\n",
       "      <th>round</th>\n",
       "      <th>sum</th>\n",
       "    </tr>\n",
       "  </thead>\n",
       "  <tbody>\n",
       "    <tr>\n",
       "      <th>0</th>\n",
       "      <td>The Body in the Library (Miss Marple  #3)</td>\n",
       "      <td>4.50</td>\n",
       "      <td>2.0</td>\n",
       "    </tr>\n",
       "    <tr>\n",
       "      <th>1</th>\n",
       "      <td>Galápagos</td>\n",
       "      <td>4.50</td>\n",
       "      <td>2.0</td>\n",
       "    </tr>\n",
       "    <tr>\n",
       "      <th>2</th>\n",
       "      <td>A Tree Grows in Brooklyn</td>\n",
       "      <td>4.25</td>\n",
       "      <td>5.0</td>\n",
       "    </tr>\n",
       "    <tr>\n",
       "      <th>3</th>\n",
       "      <td>Undaunted Courage: The Pioneering First Missio...</td>\n",
       "      <td>4.00</td>\n",
       "      <td>2.0</td>\n",
       "    </tr>\n",
       "    <tr>\n",
       "      <th>4</th>\n",
       "      <td>American Gods (American Gods  #1)</td>\n",
       "      <td>4.00</td>\n",
       "      <td>5.0</td>\n",
       "    </tr>\n",
       "    <tr>\n",
       "      <th>...</th>\n",
       "      <td>...</td>\n",
       "      <td>...</td>\n",
       "      <td>...</td>\n",
       "    </tr>\n",
       "    <tr>\n",
       "      <th>995</th>\n",
       "      <td>Possession</td>\n",
       "      <td>4.00</td>\n",
       "      <td>3.0</td>\n",
       "    </tr>\n",
       "    <tr>\n",
       "      <th>996</th>\n",
       "      <td>A Woman of Substance (Emma Harte Saga #1)</td>\n",
       "      <td>5.00</td>\n",
       "      <td>2.0</td>\n",
       "    </tr>\n",
       "    <tr>\n",
       "      <th>997</th>\n",
       "      <td>Christine</td>\n",
       "      <td>3.43</td>\n",
       "      <td>3.0</td>\n",
       "    </tr>\n",
       "    <tr>\n",
       "      <th>998</th>\n",
       "      <td>The Magicians' Guild (Black Magician Trilogy  #1)</td>\n",
       "      <td>3.50</td>\n",
       "      <td>2.0</td>\n",
       "    </tr>\n",
       "    <tr>\n",
       "      <th>999</th>\n",
       "      <td>The Plot Against America</td>\n",
       "      <td>3.00</td>\n",
       "      <td>2.0</td>\n",
       "    </tr>\n",
       "  </tbody>\n",
       "</table>\n",
       "<p>1000 rows × 3 columns</p>\n",
       "</div>"
      ],
      "text/plain": [
       "                                                 title  round  sum\n",
       "0            The Body in the Library (Miss Marple  #3)   4.50  2.0\n",
       "1                                            Galápagos   4.50  2.0\n",
       "2                             A Tree Grows in Brooklyn   4.25  5.0\n",
       "3    Undaunted Courage: The Pioneering First Missio...   4.00  2.0\n",
       "4                    American Gods (American Gods  #1)   4.00  5.0\n",
       "..                                                 ...    ...  ...\n",
       "995                                         Possession   4.00  3.0\n",
       "996          A Woman of Substance (Emma Harte Saga #1)   5.00  2.0\n",
       "997                                          Christine   3.43  3.0\n",
       "998  The Magicians' Guild (Black Magician Trilogy  #1)   3.50  2.0\n",
       "999                           The Plot Against America   3.00  2.0\n",
       "\n",
       "[1000 rows x 3 columns]"
      ]
     },
     "execution_count": 13,
     "metadata": {},
     "output_type": "execute_result"
    }
   ],
   "source": [
    "#найдем в объединенной таблице необходимые значения по каждой книге\n",
    "query = '''\n",
    "WITH \n",
    "avg_r AS  \n",
    "(SELECT book_id,\n",
    "       AVG(r.rating)\n",
    "FROM ratings as r\n",
    "GROUP BY r.book_id),\n",
    "\n",
    "count_rv AS \n",
    "(SELECT rv.book_id,\n",
    "        COUNT(review_id)\n",
    "FROM reviews as rv\n",
    "GROUP BY rv.book_id) \n",
    "       \n",
    "SELECT b.title,\n",
    "       ROUND(AVG(avg_r.avg), 2),\n",
    "       SUM(count)\n",
    "FROM books as b\n",
    "LEFT JOIN avg_r ON avg_r.book_id = b.book_id\n",
    "LEFT JOIN count_rv ON count_rv.book_id = b.book_id       \n",
    "GROUP BY b.book_id\n",
    ";\n",
    "'''\n",
    "sample_df = pd.io.sql.read_sql(query, con = engine)\n",
    "sample_df"
   ]
  },
  {
   "cell_type": "markdown",
   "metadata": {},
   "source": [
    "По каждой книге посчитали количество обзоров и среднюю оценку. Видим, что количество обзоров не влияет на среднюю оценку пользователей."
   ]
  },
  {
   "cell_type": "markdown",
   "metadata": {},
   "source": [
    "#### "
   ]
  },
  {
   "cell_type": "markdown",
   "metadata": {},
   "source": [
    "- Определим издательство, которое выпустило наибольшее число книг толще 50 страниц — так мы исключим из анализа брошюры"
   ]
  },
  {
   "cell_type": "code",
   "execution_count": 14,
   "metadata": {},
   "outputs": [
    {
     "data": {
      "text/html": [
       "<div>\n",
       "<style scoped>\n",
       "    .dataframe tbody tr th:only-of-type {\n",
       "        vertical-align: middle;\n",
       "    }\n",
       "\n",
       "    .dataframe tbody tr th {\n",
       "        vertical-align: top;\n",
       "    }\n",
       "\n",
       "    .dataframe thead th {\n",
       "        text-align: right;\n",
       "    }\n",
       "</style>\n",
       "<table border=\"1\" class=\"dataframe\">\n",
       "  <thead>\n",
       "    <tr style=\"text-align: right;\">\n",
       "      <th></th>\n",
       "      <th>publisher</th>\n",
       "      <th>publisher_id</th>\n",
       "      <th>count</th>\n",
       "    </tr>\n",
       "  </thead>\n",
       "  <tbody>\n",
       "    <tr>\n",
       "      <th>0</th>\n",
       "      <td>Penguin Books</td>\n",
       "      <td>212</td>\n",
       "      <td>42</td>\n",
       "    </tr>\n",
       "  </tbody>\n",
       "</table>\n",
       "</div>"
      ],
      "text/plain": [
       "       publisher  publisher_id  count\n",
       "0  Penguin Books           212     42"
      ]
     },
     "execution_count": 14,
     "metadata": {},
     "output_type": "execute_result"
    }
   ],
   "source": [
    "query = '''\n",
    "SELECT pub.publisher,\n",
    "       b.publisher_id,\n",
    "       COUNT(b.book_id)\n",
    "         \n",
    "       \n",
    "       \n",
    "FROM books as b\n",
    "LEFT JOIN publishers as pub ON pub.publisher_id = b.publisher_id\n",
    "WHERE b.num_pages > 50\n",
    "GROUP BY b.publisher_id, pub.publisher \n",
    "ORDER BY COUNT(b.book_id) DESC\n",
    "LIMIT 1\n",
    "\n",
    "\n",
    "         \n",
    ";\n",
    "'''\n",
    "sample_df = pd.io.sql.read_sql(query, con = engine)\n",
    "sample_df"
   ]
  },
  {
   "cell_type": "markdown",
   "metadata": {},
   "source": [
    "Определили издателя - Penguin Books, которое выпустило наибольшее число книг толще 50 страниц."
   ]
  },
  {
   "cell_type": "markdown",
   "metadata": {},
   "source": [
    "#### "
   ]
  },
  {
   "cell_type": "markdown",
   "metadata": {},
   "source": [
    "- Определим автора с самой высокой средней оценкой книг (только книги с 50 и более оценками)"
   ]
  },
  {
   "cell_type": "code",
   "execution_count": 15,
   "metadata": {},
   "outputs": [
    {
     "data": {
      "text/html": [
       "<div>\n",
       "<style scoped>\n",
       "    .dataframe tbody tr th:only-of-type {\n",
       "        vertical-align: middle;\n",
       "    }\n",
       "\n",
       "    .dataframe tbody tr th {\n",
       "        vertical-align: top;\n",
       "    }\n",
       "\n",
       "    .dataframe thead th {\n",
       "        text-align: right;\n",
       "    }\n",
       "</style>\n",
       "<table border=\"1\" class=\"dataframe\">\n",
       "  <thead>\n",
       "    <tr style=\"text-align: right;\">\n",
       "      <th></th>\n",
       "      <th>author</th>\n",
       "      <th>author_id</th>\n",
       "      <th>avg_rat</th>\n",
       "    </tr>\n",
       "  </thead>\n",
       "  <tbody>\n",
       "    <tr>\n",
       "      <th>0</th>\n",
       "      <td>J.K. Rowling/Mary GrandPré</td>\n",
       "      <td>236</td>\n",
       "      <td>4.283844</td>\n",
       "    </tr>\n",
       "  </tbody>\n",
       "</table>\n",
       "</div>"
      ],
      "text/plain": [
       "                       author  author_id   avg_rat\n",
       "0  J.K. Rowling/Mary GrandPré        236  4.283844"
      ]
     },
     "execution_count": 15,
     "metadata": {},
     "output_type": "execute_result"
    }
   ],
   "source": [
    "query = '''\n",
    "SELECT t.author,\n",
    "       t.author_id,\n",
    "       AVG(t.avg_rat) as avg_rat\n",
    "FROM (SELECT aut.author,\n",
    "       b.author_id, \n",
    "       AVG(r.rating) as avg_rat,\n",
    "       COUNT(r.rating_id) as count_rat\n",
    "FROM books as b\n",
    "LEFT JOIN ratings as r ON r.book_id = b.book_id\n",
    "LEFT JOIN authors as aut ON aut.author_id = b.author_id\n",
    "GROUP BY b.book_id, b.author_id, aut.author) as t\n",
    "WHERE t.count_rat > 50\n",
    "GROUP BY t.author_id, t.author \n",
    "ORDER BY avg_rat DESC\n",
    "LIMIT 1;\n",
    "'''\n",
    "sample_df = pd.io.sql.read_sql(query, con = engine)\n",
    "sample_df"
   ]
  },
  {
   "cell_type": "markdown",
   "metadata": {},
   "source": [
    "Определили идентификатор автора с самой высокой средней оценкой книг (только книги с 50 и более оценками) - J.K. Rowling/Mary GrandPré."
   ]
  },
  {
   "cell_type": "markdown",
   "metadata": {},
   "source": [
    "#### "
   ]
  },
  {
   "cell_type": "markdown",
   "metadata": {},
   "source": [
    "- Посчитаем среднее количество обзоров от пользователей, которые поставили больше 50 оценок."
   ]
  },
  {
   "cell_type": "code",
   "execution_count": 19,
   "metadata": {},
   "outputs": [
    {
     "data": {
      "text/html": [
       "<div>\n",
       "<style scoped>\n",
       "    .dataframe tbody tr th:only-of-type {\n",
       "        vertical-align: middle;\n",
       "    }\n",
       "\n",
       "    .dataframe tbody tr th {\n",
       "        vertical-align: top;\n",
       "    }\n",
       "\n",
       "    .dataframe thead th {\n",
       "        text-align: right;\n",
       "    }\n",
       "</style>\n",
       "<table border=\"1\" class=\"dataframe\">\n",
       "  <thead>\n",
       "    <tr style=\"text-align: right;\">\n",
       "      <th></th>\n",
       "      <th>count</th>\n",
       "    </tr>\n",
       "  </thead>\n",
       "  <tbody>\n",
       "    <tr>\n",
       "      <th>0</th>\n",
       "      <td>146</td>\n",
       "    </tr>\n",
       "  </tbody>\n",
       "</table>\n",
       "</div>"
      ],
      "text/plain": [
       "   count\n",
       "0    146"
      ]
     },
     "execution_count": 19,
     "metadata": {},
     "output_type": "execute_result"
    }
   ],
   "source": [
    "query = '''\n",
    "WITH \n",
    "r AS \n",
    "(SELECT r.username,\n",
    "       COUNT(r.rating)\n",
    "\n",
    "FROM ratings as r\n",
    "GROUP BY r.username\n",
    "HAVING (COUNT(r.rating)) > 50) \n",
    "\n",
    "SELECT ROUND(AVG(rv.review_id),0)\n",
    "FROM reviews as rv\n",
    "INNER JOIN r ON r.username = rv.username\n",
    ";\n",
    "'''\n",
    "sample_df = pd.io.sql.read_sql(query, con = engine)\n",
    "sample_df"
   ]
  },
  {
   "cell_type": "markdown",
   "metadata": {},
   "source": [
    "То есть среднее количество обзоров пользователей, которые поставили больше 50 оценок равно 1316 обзоров. "
   ]
  },
  {
   "cell_type": "code",
   "execution_count": 25,
   "metadata": {},
   "outputs": [
    {
     "data": {
      "text/html": [
       "<div>\n",
       "<style scoped>\n",
       "    .dataframe tbody tr th:only-of-type {\n",
       "        vertical-align: middle;\n",
       "    }\n",
       "\n",
       "    .dataframe tbody tr th {\n",
       "        vertical-align: top;\n",
       "    }\n",
       "\n",
       "    .dataframe thead th {\n",
       "        text-align: right;\n",
       "    }\n",
       "</style>\n",
       "<table border=\"1\" class=\"dataframe\">\n",
       "  <thead>\n",
       "    <tr style=\"text-align: right;\">\n",
       "      <th></th>\n",
       "      <th>count</th>\n",
       "      <th>username</th>\n",
       "    </tr>\n",
       "  </thead>\n",
       "  <tbody>\n",
       "    <tr>\n",
       "      <th>0</th>\n",
       "      <td>28</td>\n",
       "      <td>sfitzgerald</td>\n",
       "    </tr>\n",
       "    <tr>\n",
       "      <th>1</th>\n",
       "      <td>25</td>\n",
       "      <td>jennifermiller</td>\n",
       "    </tr>\n",
       "    <tr>\n",
       "      <th>2</th>\n",
       "      <td>18</td>\n",
       "      <td>xdavis</td>\n",
       "    </tr>\n",
       "    <tr>\n",
       "      <th>3</th>\n",
       "      <td>22</td>\n",
       "      <td>paul88</td>\n",
       "    </tr>\n",
       "    <tr>\n",
       "      <th>4</th>\n",
       "      <td>27</td>\n",
       "      <td>martinadam</td>\n",
       "    </tr>\n",
       "    <tr>\n",
       "      <th>5</th>\n",
       "      <td>26</td>\n",
       "      <td>richard89</td>\n",
       "    </tr>\n",
       "  </tbody>\n",
       "</table>\n",
       "</div>"
      ],
      "text/plain": [
       "   count        username\n",
       "0     28     sfitzgerald\n",
       "1     25  jennifermiller\n",
       "2     18          xdavis\n",
       "3     22          paul88\n",
       "4     27      martinadam\n",
       "5     26       richard89"
      ]
     },
     "execution_count": 25,
     "metadata": {},
     "output_type": "execute_result"
    }
   ],
   "source": [
    "query = '''\n",
    "WITH \n",
    "r AS \n",
    "(SELECT r.username,\n",
    "       COUNT(r.rating)\n",
    "\n",
    "FROM ratings as r\n",
    "GROUP BY r.username\n",
    "HAVING (COUNT(r.rating)) > 50) \n",
    "\n",
    "SELECT COUNT(rv.review_id),\n",
    "        rv.username\n",
    "FROM reviews as rv\n",
    "INNER JOIN r ON r.username = rv.username\n",
    "GROUP BY rv.username\n",
    ";\n",
    "'''\n",
    "sample_df = pd.io.sql.read_sql(query, con = engine)\n",
    "sample_df"
   ]
  },
  {
   "cell_type": "code",
   "execution_count": null,
   "metadata": {},
   "outputs": [],
   "source": []
  }
 ],
 "metadata": {
  "ExecuteTimeLog": [
   {
    "duration": 2334,
    "start_time": "2022-05-23T17:09:05.879Z"
   },
   {
    "duration": 1833,
    "start_time": "2022-05-23T17:09:30.737Z"
   },
   {
    "duration": 157,
    "start_time": "2022-05-23T17:09:46.777Z"
   },
   {
    "duration": 121,
    "start_time": "2022-05-23T17:11:30.851Z"
   },
   {
    "duration": 28,
    "start_time": "2022-05-23T17:14:58.960Z"
   },
   {
    "duration": 16,
    "start_time": "2022-05-23T17:15:19.281Z"
   },
   {
    "duration": 28,
    "start_time": "2022-05-23T17:15:37.751Z"
   },
   {
    "duration": 24,
    "start_time": "2022-05-23T17:17:37.801Z"
   },
   {
    "duration": 29,
    "start_time": "2022-05-23T17:18:51.927Z"
   },
   {
    "duration": 11,
    "start_time": "2022-05-23T17:20:11.781Z"
   },
   {
    "duration": 17,
    "start_time": "2022-05-23T17:21:16.441Z"
   },
   {
    "duration": 188,
    "start_time": "2022-05-23T17:27:40.222Z"
   },
   {
    "duration": 74,
    "start_time": "2022-05-23T17:28:01.848Z"
   },
   {
    "duration": 126,
    "start_time": "2022-05-23T17:28:08.776Z"
   },
   {
    "duration": 47,
    "start_time": "2022-05-23T17:31:49.388Z"
   },
   {
    "duration": 68,
    "start_time": "2022-05-23T17:34:13.549Z"
   },
   {
    "duration": 95,
    "start_time": "2022-05-23T17:34:22.710Z"
   },
   {
    "duration": 1769,
    "start_time": "2022-05-23T17:35:24.343Z"
   },
   {
    "duration": 92,
    "start_time": "2022-05-23T17:36:05.925Z"
   },
   {
    "duration": 56,
    "start_time": "2022-05-23T17:36:55.573Z"
   },
   {
    "duration": 49,
    "start_time": "2022-05-23T17:37:12.648Z"
   },
   {
    "duration": 39,
    "start_time": "2022-05-23T17:38:48.545Z"
   },
   {
    "duration": 87,
    "start_time": "2022-05-23T17:39:36.743Z"
   },
   {
    "duration": 105,
    "start_time": "2022-05-23T17:44:51.410Z"
   },
   {
    "duration": 28,
    "start_time": "2022-05-23T17:45:17.209Z"
   },
   {
    "duration": 27,
    "start_time": "2022-05-23T17:45:29.816Z"
   },
   {
    "duration": 1031,
    "start_time": "2022-05-23T17:46:47.452Z"
   },
   {
    "duration": 3957,
    "start_time": "2022-05-23T17:48:02.510Z"
   },
   {
    "duration": 10814,
    "start_time": "2022-05-23T17:49:27.952Z"
   },
   {
    "duration": 25,
    "start_time": "2022-05-23T17:50:03.847Z"
   },
   {
    "duration": 19,
    "start_time": "2022-05-23T17:51:06.380Z"
   },
   {
    "duration": 31,
    "start_time": "2022-05-23T17:51:45.158Z"
   },
   {
    "duration": 3391,
    "start_time": "2022-05-24T13:00:28.883Z"
   },
   {
    "duration": 1175,
    "start_time": "2022-05-24T13:00:32.276Z"
   },
   {
    "duration": 162,
    "start_time": "2022-05-24T13:00:33.452Z"
   },
   {
    "duration": 105,
    "start_time": "2022-05-24T13:00:33.616Z"
   },
   {
    "duration": 11,
    "start_time": "2022-05-24T13:00:33.722Z"
   },
   {
    "duration": 9,
    "start_time": "2022-05-24T13:00:33.734Z"
   },
   {
    "duration": 10,
    "start_time": "2022-05-24T13:00:33.745Z"
   },
   {
    "duration": 9,
    "start_time": "2022-05-24T13:00:33.757Z"
   },
   {
    "duration": 24,
    "start_time": "2022-05-24T13:00:33.767Z"
   },
   {
    "duration": 9,
    "start_time": "2022-05-24T13:00:33.793Z"
   },
   {
    "duration": 17,
    "start_time": "2022-05-24T13:00:33.803Z"
   },
   {
    "duration": 16,
    "start_time": "2022-05-24T13:00:33.822Z"
   },
   {
    "duration": 15,
    "start_time": "2022-05-24T13:03:19.952Z"
   },
   {
    "duration": 14,
    "start_time": "2022-05-24T13:03:23.910Z"
   },
   {
    "duration": 22,
    "start_time": "2022-05-24T13:05:23.333Z"
   },
   {
    "duration": 2491,
    "start_time": "2022-05-24T17:34:35.332Z"
   },
   {
    "duration": 1374,
    "start_time": "2022-05-24T17:34:37.825Z"
   },
   {
    "duration": 3788,
    "start_time": "2022-05-24T17:34:39.201Z"
   },
   {
    "duration": 75,
    "start_time": "2022-05-24T17:34:42.990Z"
   },
   {
    "duration": 12,
    "start_time": "2022-05-24T17:34:43.066Z"
   },
   {
    "duration": 15,
    "start_time": "2022-05-24T17:34:43.079Z"
   },
   {
    "duration": 10,
    "start_time": "2022-05-24T17:34:43.095Z"
   },
   {
    "duration": 11,
    "start_time": "2022-05-24T17:34:43.107Z"
   },
   {
    "duration": 25,
    "start_time": "2022-05-24T17:34:43.119Z"
   },
   {
    "duration": 10,
    "start_time": "2022-05-24T17:34:43.146Z"
   },
   {
    "duration": 15,
    "start_time": "2022-05-24T17:34:43.158Z"
   },
   {
    "duration": 20,
    "start_time": "2022-05-24T17:34:43.175Z"
   },
   {
    "duration": 11,
    "start_time": "2022-05-24T17:34:52.929Z"
   },
   {
    "duration": 257,
    "start_time": "2022-05-24T17:35:32.291Z"
   },
   {
    "duration": 272,
    "start_time": "2022-05-24T17:40:09.865Z"
   },
   {
    "duration": 19,
    "start_time": "2022-05-24T17:41:27.891Z"
   },
   {
    "duration": 45,
    "start_time": "2022-05-24T17:42:08.428Z"
   },
   {
    "duration": 190,
    "start_time": "2022-05-24T17:43:26.485Z"
   },
   {
    "duration": 48,
    "start_time": "2022-05-24T17:44:45.497Z"
   },
   {
    "duration": 20,
    "start_time": "2022-05-24T17:45:34.365Z"
   },
   {
    "duration": 45,
    "start_time": "2022-05-24T17:45:52.001Z"
   },
   {
    "duration": 25,
    "start_time": "2022-05-24T17:46:15.462Z"
   },
   {
    "duration": 98,
    "start_time": "2022-05-24T17:47:22.830Z"
   },
   {
    "duration": 161,
    "start_time": "2022-05-24T17:48:12.536Z"
   },
   {
    "duration": 44,
    "start_time": "2022-05-24T17:48:20.291Z"
   },
   {
    "duration": 85,
    "start_time": "2022-05-24T17:49:51.082Z"
   },
   {
    "duration": 445,
    "start_time": "2022-05-24T17:50:02.650Z"
   },
   {
    "duration": 51,
    "start_time": "2022-05-24T17:50:23.058Z"
   },
   {
    "duration": 57,
    "start_time": "2022-05-24T17:51:00.749Z"
   },
   {
    "duration": 28,
    "start_time": "2022-05-24T17:51:06.623Z"
   },
   {
    "duration": 20,
    "start_time": "2022-05-24T17:52:06.738Z"
   },
   {
    "duration": 22,
    "start_time": "2022-05-24T17:53:03.739Z"
   },
   {
    "duration": 15,
    "start_time": "2022-05-24T17:54:24.102Z"
   },
   {
    "duration": 58,
    "start_time": "2022-05-24T17:58:50.699Z"
   },
   {
    "duration": 54,
    "start_time": "2022-05-24T18:03:19.663Z"
   },
   {
    "duration": 92,
    "start_time": "2022-05-24T18:04:51.838Z"
   },
   {
    "duration": 58,
    "start_time": "2022-05-24T18:07:44.826Z"
   },
   {
    "duration": 80,
    "start_time": "2022-05-24T18:09:27.192Z"
   },
   {
    "duration": 47,
    "start_time": "2022-05-24T18:09:42.448Z"
   },
   {
    "duration": 29,
    "start_time": "2022-05-24T18:11:03.172Z"
   },
   {
    "duration": 30,
    "start_time": "2022-05-24T18:11:13.668Z"
   },
   {
    "duration": 24,
    "start_time": "2022-05-24T18:16:49.050Z"
   },
   {
    "duration": 22,
    "start_time": "2022-05-24T18:17:07.914Z"
   },
   {
    "duration": 21,
    "start_time": "2022-05-24T18:18:16.556Z"
   },
   {
    "duration": 20,
    "start_time": "2022-05-24T18:18:24.491Z"
   },
   {
    "duration": 17,
    "start_time": "2022-05-24T18:19:09.551Z"
   },
   {
    "duration": 15,
    "start_time": "2022-05-24T18:19:42.556Z"
   },
   {
    "duration": 37,
    "start_time": "2022-05-24T18:20:13.170Z"
   },
   {
    "duration": 27,
    "start_time": "2022-05-24T18:20:42.219Z"
   },
   {
    "duration": 64,
    "start_time": "2022-05-24T18:22:34.624Z"
   },
   {
    "duration": 10,
    "start_time": "2022-05-24T18:23:04.699Z"
   },
   {
    "duration": 58,
    "start_time": "2022-05-24T18:23:42.738Z"
   },
   {
    "duration": 10,
    "start_time": "2022-05-24T18:24:47.749Z"
   },
   {
    "duration": 12,
    "start_time": "2022-05-24T18:25:24.681Z"
   },
   {
    "duration": 25,
    "start_time": "2022-05-24T18:25:30.188Z"
   },
   {
    "duration": 45,
    "start_time": "2022-05-24T18:26:51.448Z"
   },
   {
    "duration": 56,
    "start_time": "2022-05-24T18:27:11.415Z"
   },
   {
    "duration": 24,
    "start_time": "2022-05-24T18:27:25.707Z"
   },
   {
    "duration": 49,
    "start_time": "2022-05-24T18:28:13.109Z"
   },
   {
    "duration": 56,
    "start_time": "2022-05-24T18:29:20.874Z"
   },
   {
    "duration": 70,
    "start_time": "2022-05-24T18:29:55.479Z"
   },
   {
    "duration": 84,
    "start_time": "2022-05-24T18:30:39.911Z"
   },
   {
    "duration": 50,
    "start_time": "2022-05-24T18:30:48.488Z"
   },
   {
    "duration": 16,
    "start_time": "2022-05-24T18:31:31.108Z"
   },
   {
    "duration": 12,
    "start_time": "2022-05-24T18:31:48.124Z"
   },
   {
    "duration": 85,
    "start_time": "2022-05-24T18:36:48.673Z"
   },
   {
    "duration": 73,
    "start_time": "2022-05-24T18:37:32.771Z"
   },
   {
    "duration": 21,
    "start_time": "2022-05-24T18:39:30.171Z"
   },
   {
    "duration": 65,
    "start_time": "2022-05-24T18:41:29.082Z"
   },
   {
    "duration": 59,
    "start_time": "2022-05-24T18:41:46.717Z"
   },
   {
    "duration": 55,
    "start_time": "2022-05-24T18:42:15.900Z"
   },
   {
    "duration": 54,
    "start_time": "2022-05-24T18:45:26.621Z"
   },
   {
    "duration": 23,
    "start_time": "2022-05-24T18:45:34.354Z"
   },
   {
    "duration": 57,
    "start_time": "2022-05-24T18:46:45.267Z"
   },
   {
    "duration": 25,
    "start_time": "2022-05-24T18:47:02.043Z"
   },
   {
    "duration": 17,
    "start_time": "2022-05-24T18:48:28.718Z"
   },
   {
    "duration": 22,
    "start_time": "2022-05-24T18:49:40.446Z"
   },
   {
    "duration": 36,
    "start_time": "2022-05-24T18:51:44.111Z"
   },
   {
    "duration": 27,
    "start_time": "2022-05-24T18:55:43.982Z"
   },
   {
    "duration": 14,
    "start_time": "2022-05-24T18:58:03.701Z"
   },
   {
    "duration": 61,
    "start_time": "2022-05-24T18:58:49.307Z"
   },
   {
    "duration": 15,
    "start_time": "2022-05-24T18:59:15.286Z"
   },
   {
    "duration": 16,
    "start_time": "2022-05-24T18:59:25.228Z"
   },
   {
    "duration": 16,
    "start_time": "2022-05-24T19:01:11.881Z"
   },
   {
    "duration": 30,
    "start_time": "2022-05-24T19:03:43.891Z"
   },
   {
    "duration": 17,
    "start_time": "2022-05-24T19:04:51.778Z"
   },
   {
    "duration": 13,
    "start_time": "2022-05-24T19:05:55.562Z"
   },
   {
    "duration": 73,
    "start_time": "2022-05-24T19:08:37.189Z"
   },
   {
    "duration": 62,
    "start_time": "2022-05-24T19:09:17.071Z"
   },
   {
    "duration": 61,
    "start_time": "2022-05-24T19:10:05.125Z"
   },
   {
    "duration": 65,
    "start_time": "2022-05-24T19:11:23.112Z"
   },
   {
    "duration": 58,
    "start_time": "2022-05-24T19:11:37.486Z"
   },
   {
    "duration": 80,
    "start_time": "2022-05-24T19:12:37.169Z"
   },
   {
    "duration": 19,
    "start_time": "2022-05-24T19:13:13.214Z"
   },
   {
    "duration": 61,
    "start_time": "2022-05-24T19:14:30.715Z"
   },
   {
    "duration": 56,
    "start_time": "2022-05-24T19:14:44.191Z"
   },
   {
    "duration": 212,
    "start_time": "2022-05-24T19:15:02.023Z"
   },
   {
    "duration": 17,
    "start_time": "2022-05-24T19:17:35.564Z"
   },
   {
    "duration": 19,
    "start_time": "2022-05-24T19:17:51.860Z"
   },
   {
    "duration": 17,
    "start_time": "2022-05-24T19:18:02.648Z"
   },
   {
    "duration": 71,
    "start_time": "2022-05-24T19:19:42.595Z"
   },
   {
    "duration": 13,
    "start_time": "2022-05-24T19:20:10.550Z"
   },
   {
    "duration": 13,
    "start_time": "2022-05-24T19:20:47.021Z"
   },
   {
    "duration": 12,
    "start_time": "2022-05-24T19:21:04.689Z"
   },
   {
    "duration": 62,
    "start_time": "2022-05-25T06:20:52.888Z"
   },
   {
    "duration": 2230,
    "start_time": "2022-05-25T06:20:58.109Z"
   },
   {
    "duration": 1341,
    "start_time": "2022-05-25T06:21:00.346Z"
   },
   {
    "duration": 39,
    "start_time": "2022-05-25T06:21:01.688Z"
   },
   {
    "duration": 257,
    "start_time": "2022-05-25T06:21:01.730Z"
   },
   {
    "duration": 76,
    "start_time": "2022-05-25T06:21:01.989Z"
   },
   {
    "duration": 84,
    "start_time": "2022-05-25T06:21:02.067Z"
   },
   {
    "duration": 71,
    "start_time": "2022-05-25T06:21:02.153Z"
   },
   {
    "duration": 74,
    "start_time": "2022-05-25T06:21:02.226Z"
   },
   {
    "duration": 102,
    "start_time": "2022-05-25T06:21:02.302Z"
   },
   {
    "duration": 78,
    "start_time": "2022-05-25T06:21:02.406Z"
   },
   {
    "duration": 85,
    "start_time": "2022-05-25T06:21:02.486Z"
   },
   {
    "duration": 100,
    "start_time": "2022-05-25T06:21:02.573Z"
   },
   {
    "duration": 84,
    "start_time": "2022-05-25T06:21:02.675Z"
   },
   {
    "duration": 78,
    "start_time": "2022-05-25T06:21:02.761Z"
   },
   {
    "duration": 75,
    "start_time": "2022-05-25T06:21:02.841Z"
   },
   {
    "duration": 74,
    "start_time": "2022-05-25T06:21:02.917Z"
   },
   {
    "duration": 70,
    "start_time": "2022-05-25T06:21:02.993Z"
   },
   {
    "duration": 242,
    "start_time": "2022-05-25T06:23:25.295Z"
   },
   {
    "duration": 70,
    "start_time": "2022-05-25T06:23:28.842Z"
   },
   {
    "duration": 72,
    "start_time": "2022-05-25T06:23:47.099Z"
   },
   {
    "duration": 138,
    "start_time": "2022-05-25T06:23:57.900Z"
   },
   {
    "duration": 79,
    "start_time": "2022-05-25T06:24:06.020Z"
   },
   {
    "duration": 74,
    "start_time": "2022-05-25T06:24:13.036Z"
   },
   {
    "duration": 72,
    "start_time": "2022-05-25T06:24:26.644Z"
   },
   {
    "duration": 78,
    "start_time": "2022-05-25T06:24:39.412Z"
   }
  ],
  "kernelspec": {
   "display_name": "Python 3",
   "language": "python",
   "name": "python3"
  },
  "language_info": {
   "codemirror_mode": {
    "name": "ipython",
    "version": 3
   },
   "file_extension": ".py",
   "mimetype": "text/x-python",
   "name": "python",
   "nbconvert_exporter": "python",
   "pygments_lexer": "ipython3",
   "version": "3.8.8"
  },
  "toc": {
   "base_numbering": 1,
   "nav_menu": {},
   "number_sections": true,
   "sideBar": true,
   "skip_h1_title": true,
   "title_cell": "Table of Contents",
   "title_sidebar": "Contents",
   "toc_cell": false,
   "toc_position": {},
   "toc_section_display": true,
   "toc_window_display": true
  }
 },
 "nbformat": 4,
 "nbformat_minor": 2
}
