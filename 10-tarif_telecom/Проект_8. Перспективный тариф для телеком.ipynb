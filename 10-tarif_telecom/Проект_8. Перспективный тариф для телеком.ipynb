{
 "cells": [
  {
   "cell_type": "markdown",
   "metadata": {},
   "source": [
    "# Определение перспективного тарифа для телеком-компании"
   ]
  },
  {
   "cell_type": "markdown",
   "metadata": {},
   "source": [
    "Заказчик исследования: компании «Мегалайн» — федерального оператора сотовой связи. \n",
    "\n",
    "Клиентам предлагают два тарифных плана: «Смарт» и «Ультра». Чтобы скорректировать рекламный бюджет, коммерческий департамент хочет понять, какой тариф приносит больше денег.\n",
    "\n",
    "Задача и данные: сделать предварительный анализ тарифов на небольшой выборке клиентов: данные по 500 пользователей «Мегалайна»: кто они, откуда, каким тарифом пользуются, сколько звонков и сообщений каждый отправил за 2018 год. Нужно проанализировать поведение клиентов и сделать вывод — какой тариф лучше.\n"
   ]
  },
  {
   "cell_type": "markdown",
   "metadata": {},
   "source": [
    "## Загрузка данных и подготовка их к анализу."
   ]
  },
  {
   "cell_type": "markdown",
   "metadata": {},
   "source": [
    "В этом пункте загрузим необходимые датасеты, подготовим данные к их анализу: проверка типа, дубликатов, пропусков, дополнительные проверки, а так же рассчитаем для каждого пользователя:\n",
    "\n",
    "- количество сделанных звонков и израсходованных минут разговора по месяцам;\n",
    "- количество отправленных сообщений по месяцам;\n",
    "- объем израсходованного интернет-трафика по месяцам;\n",
    "- помесячную выручку с каждого пользователя (вычтите бесплатный лимит из суммарного количества звонков, сообщений и интернет-трафика; остаток умножьте на значение из тарифного плана; прибавьте абонентскую плату, соответствующую тарифному плану)."
   ]
  },
  {
   "cell_type": "markdown",
   "metadata": {},
   "source": [
    "###  *Загрузить данные.*"
   ]
  },
  {
   "cell_type": "code",
   "execution_count": 1,
   "metadata": {},
   "outputs": [],
   "source": [
    "#импорт библиотек\n",
    "\n",
    "import pandas as pd\n",
    "import numpy as np\n",
    "from datetime import datetime, timedelta\n",
    "from matplotlib import pyplot as plt\n",
    "import seaborn as sns\n",
    "from scipy import stats as st\n",
    "import numpy as np\n",
    "import math"
   ]
  },
  {
   "cell_type": "code",
   "execution_count": 2,
   "metadata": {},
   "outputs": [],
   "source": [
    "#чтение файлов с данными и сохранение в соответствующую переменную\n",
    "calls = pd.read_csv('/datasets/calls.csv') \n",
    "internet = pd.read_csv('/datasets/internet.csv') \n",
    "messages = pd.read_csv('/datasets/messages.csv') \n",
    "tariffs = pd.read_csv('/datasets/tariffs.csv')\n",
    "users = pd.read_csv('/datasets/users.csv')"
   ]
  },
  {
   "cell_type": "markdown",
   "metadata": {},
   "source": [
    "###  *Проверка типа данных.*"
   ]
  },
  {
   "cell_type": "code",
   "execution_count": 3,
   "metadata": {},
   "outputs": [
    {
     "data": {
      "text/html": [
       "<div>\n",
       "<style scoped>\n",
       "    .dataframe tbody tr th:only-of-type {\n",
       "        vertical-align: middle;\n",
       "    }\n",
       "\n",
       "    .dataframe tbody tr th {\n",
       "        vertical-align: top;\n",
       "    }\n",
       "\n",
       "    .dataframe thead th {\n",
       "        text-align: right;\n",
       "    }\n",
       "</style>\n",
       "<table border=\"1\" class=\"dataframe\">\n",
       "  <thead>\n",
       "    <tr style=\"text-align: right;\">\n",
       "      <th></th>\n",
       "      <th>id</th>\n",
       "      <th>call_date</th>\n",
       "      <th>duration</th>\n",
       "      <th>user_id</th>\n",
       "    </tr>\n",
       "  </thead>\n",
       "  <tbody>\n",
       "    <tr>\n",
       "      <td>0</td>\n",
       "      <td>1000_0</td>\n",
       "      <td>2018-07-25</td>\n",
       "      <td>0.00</td>\n",
       "      <td>1000</td>\n",
       "    </tr>\n",
       "    <tr>\n",
       "      <td>1</td>\n",
       "      <td>1000_1</td>\n",
       "      <td>2018-08-17</td>\n",
       "      <td>0.00</td>\n",
       "      <td>1000</td>\n",
       "    </tr>\n",
       "    <tr>\n",
       "      <td>2</td>\n",
       "      <td>1000_2</td>\n",
       "      <td>2018-06-11</td>\n",
       "      <td>2.85</td>\n",
       "      <td>1000</td>\n",
       "    </tr>\n",
       "    <tr>\n",
       "      <td>3</td>\n",
       "      <td>1000_3</td>\n",
       "      <td>2018-09-21</td>\n",
       "      <td>13.80</td>\n",
       "      <td>1000</td>\n",
       "    </tr>\n",
       "    <tr>\n",
       "      <td>4</td>\n",
       "      <td>1000_4</td>\n",
       "      <td>2018-12-15</td>\n",
       "      <td>5.18</td>\n",
       "      <td>1000</td>\n",
       "    </tr>\n",
       "  </tbody>\n",
       "</table>\n",
       "</div>"
      ],
      "text/plain": [
       "       id   call_date  duration  user_id\n",
       "0  1000_0  2018-07-25      0.00     1000\n",
       "1  1000_1  2018-08-17      0.00     1000\n",
       "2  1000_2  2018-06-11      2.85     1000\n",
       "3  1000_3  2018-09-21     13.80     1000\n",
       "4  1000_4  2018-12-15      5.18     1000"
      ]
     },
     "execution_count": 3,
     "metadata": {},
     "output_type": "execute_result"
    }
   ],
   "source": [
    "#информация о звонках\n",
    "calls.head()"
   ]
  },
  {
   "cell_type": "code",
   "execution_count": 4,
   "metadata": {},
   "outputs": [
    {
     "name": "stdout",
     "output_type": "stream",
     "text": [
      "<class 'pandas.core.frame.DataFrame'>\n",
      "RangeIndex: 202607 entries, 0 to 202606\n",
      "Data columns (total 4 columns):\n",
      "id           202607 non-null object\n",
      "call_date    202607 non-null object\n",
      "duration     202607 non-null float64\n",
      "user_id      202607 non-null int64\n",
      "dtypes: float64(1), int64(1), object(2)\n",
      "memory usage: 6.2+ MB\n"
     ]
    }
   ],
   "source": [
    "calls.info()"
   ]
  },
  {
   "cell_type": "markdown",
   "metadata": {},
   "source": [
    "Столбец 'call_date ' (дата звонка) - перевести в тип data."
   ]
  },
  {
   "cell_type": "code",
   "execution_count": 5,
   "metadata": {},
   "outputs": [],
   "source": [
    "# преобразование данных в тип data\n",
    "time_format = '%Y-%m-%d'\n",
    "calls['call_date'] = pd.to_datetime(calls['call_date'], format = time_format)"
   ]
  },
  {
   "cell_type": "code",
   "execution_count": 6,
   "metadata": {},
   "outputs": [
    {
     "name": "stdout",
     "output_type": "stream",
     "text": [
      "<class 'pandas.core.frame.DataFrame'>\n",
      "RangeIndex: 202607 entries, 0 to 202606\n",
      "Data columns (total 4 columns):\n",
      "id           202607 non-null object\n",
      "call_date    202607 non-null datetime64[ns]\n",
      "duration     202607 non-null float64\n",
      "user_id      202607 non-null int64\n",
      "dtypes: datetime64[ns](1), float64(1), int64(1), object(1)\n",
      "memory usage: 6.2+ MB\n"
     ]
    }
   ],
   "source": [
    "#проверка\n",
    "calls.info()"
   ]
  },
  {
   "cell_type": "code",
   "execution_count": 7,
   "metadata": {},
   "outputs": [
    {
     "data": {
      "text/html": [
       "<div>\n",
       "<style scoped>\n",
       "    .dataframe tbody tr th:only-of-type {\n",
       "        vertical-align: middle;\n",
       "    }\n",
       "\n",
       "    .dataframe tbody tr th {\n",
       "        vertical-align: top;\n",
       "    }\n",
       "\n",
       "    .dataframe thead th {\n",
       "        text-align: right;\n",
       "    }\n",
       "</style>\n",
       "<table border=\"1\" class=\"dataframe\">\n",
       "  <thead>\n",
       "    <tr style=\"text-align: right;\">\n",
       "      <th></th>\n",
       "      <th>Unnamed: 0</th>\n",
       "      <th>id</th>\n",
       "      <th>mb_used</th>\n",
       "      <th>session_date</th>\n",
       "      <th>user_id</th>\n",
       "    </tr>\n",
       "  </thead>\n",
       "  <tbody>\n",
       "    <tr>\n",
       "      <td>0</td>\n",
       "      <td>0</td>\n",
       "      <td>1000_0</td>\n",
       "      <td>112.95</td>\n",
       "      <td>2018-11-25</td>\n",
       "      <td>1000</td>\n",
       "    </tr>\n",
       "    <tr>\n",
       "      <td>1</td>\n",
       "      <td>1</td>\n",
       "      <td>1000_1</td>\n",
       "      <td>1052.81</td>\n",
       "      <td>2018-09-07</td>\n",
       "      <td>1000</td>\n",
       "    </tr>\n",
       "    <tr>\n",
       "      <td>2</td>\n",
       "      <td>2</td>\n",
       "      <td>1000_2</td>\n",
       "      <td>1197.26</td>\n",
       "      <td>2018-06-25</td>\n",
       "      <td>1000</td>\n",
       "    </tr>\n",
       "    <tr>\n",
       "      <td>3</td>\n",
       "      <td>3</td>\n",
       "      <td>1000_3</td>\n",
       "      <td>550.27</td>\n",
       "      <td>2018-08-22</td>\n",
       "      <td>1000</td>\n",
       "    </tr>\n",
       "    <tr>\n",
       "      <td>4</td>\n",
       "      <td>4</td>\n",
       "      <td>1000_4</td>\n",
       "      <td>302.56</td>\n",
       "      <td>2018-09-24</td>\n",
       "      <td>1000</td>\n",
       "    </tr>\n",
       "  </tbody>\n",
       "</table>\n",
       "</div>"
      ],
      "text/plain": [
       "   Unnamed: 0      id  mb_used session_date  user_id\n",
       "0           0  1000_0   112.95   2018-11-25     1000\n",
       "1           1  1000_1  1052.81   2018-09-07     1000\n",
       "2           2  1000_2  1197.26   2018-06-25     1000\n",
       "3           3  1000_3   550.27   2018-08-22     1000\n",
       "4           4  1000_4   302.56   2018-09-24     1000"
      ]
     },
     "execution_count": 7,
     "metadata": {},
     "output_type": "execute_result"
    }
   ],
   "source": [
    "#информация об интернет-сессиях\n",
    "internet.head()"
   ]
  },
  {
   "cell_type": "code",
   "execution_count": 8,
   "metadata": {},
   "outputs": [
    {
     "name": "stdout",
     "output_type": "stream",
     "text": [
      "<class 'pandas.core.frame.DataFrame'>\n",
      "RangeIndex: 149396 entries, 0 to 149395\n",
      "Data columns (total 5 columns):\n",
      "Unnamed: 0      149396 non-null int64\n",
      "id              149396 non-null object\n",
      "mb_used         149396 non-null float64\n",
      "session_date    149396 non-null object\n",
      "user_id         149396 non-null int64\n",
      "dtypes: float64(1), int64(2), object(2)\n",
      "memory usage: 5.7+ MB\n"
     ]
    }
   ],
   "source": [
    "\n",
    "internet.info()"
   ]
  },
  {
   "cell_type": "markdown",
   "metadata": {},
   "source": [
    "Столбец 'session_date ' (дата интернет-сессии) - перевести в тип data."
   ]
  },
  {
   "cell_type": "code",
   "execution_count": 9,
   "metadata": {},
   "outputs": [],
   "source": [
    "# преобразование данных в тип data\n",
    "time_format = '%Y-%m-%d'\n",
    "internet['session_date'] = pd.to_datetime(internet['session_date'], format = time_format)"
   ]
  },
  {
   "cell_type": "code",
   "execution_count": 10,
   "metadata": {},
   "outputs": [
    {
     "name": "stdout",
     "output_type": "stream",
     "text": [
      "<class 'pandas.core.frame.DataFrame'>\n",
      "RangeIndex: 149396 entries, 0 to 149395\n",
      "Data columns (total 5 columns):\n",
      "Unnamed: 0      149396 non-null int64\n",
      "id              149396 non-null object\n",
      "mb_used         149396 non-null float64\n",
      "session_date    149396 non-null datetime64[ns]\n",
      "user_id         149396 non-null int64\n",
      "dtypes: datetime64[ns](1), float64(1), int64(2), object(1)\n",
      "memory usage: 5.7+ MB\n"
     ]
    }
   ],
   "source": [
    "#проверка\n",
    "internet.info()"
   ]
  },
  {
   "cell_type": "code",
   "execution_count": 11,
   "metadata": {},
   "outputs": [
    {
     "data": {
      "text/html": [
       "<div>\n",
       "<style scoped>\n",
       "    .dataframe tbody tr th:only-of-type {\n",
       "        vertical-align: middle;\n",
       "    }\n",
       "\n",
       "    .dataframe tbody tr th {\n",
       "        vertical-align: top;\n",
       "    }\n",
       "\n",
       "    .dataframe thead th {\n",
       "        text-align: right;\n",
       "    }\n",
       "</style>\n",
       "<table border=\"1\" class=\"dataframe\">\n",
       "  <thead>\n",
       "    <tr style=\"text-align: right;\">\n",
       "      <th></th>\n",
       "      <th>id</th>\n",
       "      <th>message_date</th>\n",
       "      <th>user_id</th>\n",
       "    </tr>\n",
       "  </thead>\n",
       "  <tbody>\n",
       "    <tr>\n",
       "      <td>0</td>\n",
       "      <td>1000_0</td>\n",
       "      <td>2018-06-27</td>\n",
       "      <td>1000</td>\n",
       "    </tr>\n",
       "    <tr>\n",
       "      <td>1</td>\n",
       "      <td>1000_1</td>\n",
       "      <td>2018-10-08</td>\n",
       "      <td>1000</td>\n",
       "    </tr>\n",
       "    <tr>\n",
       "      <td>2</td>\n",
       "      <td>1000_2</td>\n",
       "      <td>2018-08-04</td>\n",
       "      <td>1000</td>\n",
       "    </tr>\n",
       "    <tr>\n",
       "      <td>3</td>\n",
       "      <td>1000_3</td>\n",
       "      <td>2018-06-16</td>\n",
       "      <td>1000</td>\n",
       "    </tr>\n",
       "    <tr>\n",
       "      <td>4</td>\n",
       "      <td>1000_4</td>\n",
       "      <td>2018-12-05</td>\n",
       "      <td>1000</td>\n",
       "    </tr>\n",
       "  </tbody>\n",
       "</table>\n",
       "</div>"
      ],
      "text/plain": [
       "       id message_date  user_id\n",
       "0  1000_0   2018-06-27     1000\n",
       "1  1000_1   2018-10-08     1000\n",
       "2  1000_2   2018-08-04     1000\n",
       "3  1000_3   2018-06-16     1000\n",
       "4  1000_4   2018-12-05     1000"
      ]
     },
     "execution_count": 11,
     "metadata": {},
     "output_type": "execute_result"
    }
   ],
   "source": [
    "#информация о сообщениях\n",
    "messages.head()"
   ]
  },
  {
   "cell_type": "code",
   "execution_count": 12,
   "metadata": {},
   "outputs": [
    {
     "name": "stdout",
     "output_type": "stream",
     "text": [
      "<class 'pandas.core.frame.DataFrame'>\n",
      "RangeIndex: 123036 entries, 0 to 123035\n",
      "Data columns (total 3 columns):\n",
      "id              123036 non-null object\n",
      "message_date    123036 non-null object\n",
      "user_id         123036 non-null int64\n",
      "dtypes: int64(1), object(2)\n",
      "memory usage: 2.8+ MB\n"
     ]
    }
   ],
   "source": [
    "messages.info()"
   ]
  },
  {
   "cell_type": "markdown",
   "metadata": {},
   "source": [
    "Столбец 'message_date ' (дата сообщения) - перевести в тип data."
   ]
  },
  {
   "cell_type": "code",
   "execution_count": 13,
   "metadata": {},
   "outputs": [],
   "source": [
    "# преобразование данных в тип data\n",
    "time_format = '%Y-%m-%d'\n",
    "messages['message_date'] = pd.to_datetime(messages['message_date'], format = time_format)"
   ]
  },
  {
   "cell_type": "code",
   "execution_count": 14,
   "metadata": {},
   "outputs": [
    {
     "name": "stdout",
     "output_type": "stream",
     "text": [
      "<class 'pandas.core.frame.DataFrame'>\n",
      "RangeIndex: 123036 entries, 0 to 123035\n",
      "Data columns (total 3 columns):\n",
      "id              123036 non-null object\n",
      "message_date    123036 non-null datetime64[ns]\n",
      "user_id         123036 non-null int64\n",
      "dtypes: datetime64[ns](1), int64(1), object(1)\n",
      "memory usage: 2.8+ MB\n"
     ]
    }
   ],
   "source": [
    "#проверка\n",
    "messages.info()"
   ]
  },
  {
   "cell_type": "code",
   "execution_count": 15,
   "metadata": {},
   "outputs": [
    {
     "data": {
      "text/html": [
       "<div>\n",
       "<style scoped>\n",
       "    .dataframe tbody tr th:only-of-type {\n",
       "        vertical-align: middle;\n",
       "    }\n",
       "\n",
       "    .dataframe tbody tr th {\n",
       "        vertical-align: top;\n",
       "    }\n",
       "\n",
       "    .dataframe thead th {\n",
       "        text-align: right;\n",
       "    }\n",
       "</style>\n",
       "<table border=\"1\" class=\"dataframe\">\n",
       "  <thead>\n",
       "    <tr style=\"text-align: right;\">\n",
       "      <th></th>\n",
       "      <th>messages_included</th>\n",
       "      <th>mb_per_month_included</th>\n",
       "      <th>minutes_included</th>\n",
       "      <th>rub_monthly_fee</th>\n",
       "      <th>rub_per_gb</th>\n",
       "      <th>rub_per_message</th>\n",
       "      <th>rub_per_minute</th>\n",
       "      <th>tariff_name</th>\n",
       "    </tr>\n",
       "  </thead>\n",
       "  <tbody>\n",
       "    <tr>\n",
       "      <td>0</td>\n",
       "      <td>50</td>\n",
       "      <td>15360</td>\n",
       "      <td>500</td>\n",
       "      <td>550</td>\n",
       "      <td>200</td>\n",
       "      <td>3</td>\n",
       "      <td>3</td>\n",
       "      <td>smart</td>\n",
       "    </tr>\n",
       "    <tr>\n",
       "      <td>1</td>\n",
       "      <td>1000</td>\n",
       "      <td>30720</td>\n",
       "      <td>3000</td>\n",
       "      <td>1950</td>\n",
       "      <td>150</td>\n",
       "      <td>1</td>\n",
       "      <td>1</td>\n",
       "      <td>ultra</td>\n",
       "    </tr>\n",
       "  </tbody>\n",
       "</table>\n",
       "</div>"
      ],
      "text/plain": [
       "   messages_included  mb_per_month_included  minutes_included  \\\n",
       "0                 50                  15360               500   \n",
       "1               1000                  30720              3000   \n",
       "\n",
       "   rub_monthly_fee  rub_per_gb  rub_per_message  rub_per_minute tariff_name  \n",
       "0              550         200                3               3       smart  \n",
       "1             1950         150                1               1       ultra  "
      ]
     },
     "execution_count": 15,
     "metadata": {},
     "output_type": "execute_result"
    }
   ],
   "source": [
    "#информация о тарифах\n",
    "tariffs.head()"
   ]
  },
  {
   "cell_type": "code",
   "execution_count": 16,
   "metadata": {},
   "outputs": [
    {
     "name": "stdout",
     "output_type": "stream",
     "text": [
      "<class 'pandas.core.frame.DataFrame'>\n",
      "RangeIndex: 2 entries, 0 to 1\n",
      "Data columns (total 8 columns):\n",
      "messages_included        2 non-null int64\n",
      "mb_per_month_included    2 non-null int64\n",
      "minutes_included         2 non-null int64\n",
      "rub_monthly_fee          2 non-null int64\n",
      "rub_per_gb               2 non-null int64\n",
      "rub_per_message          2 non-null int64\n",
      "rub_per_minute           2 non-null int64\n",
      "tariff_name              2 non-null object\n",
      "dtypes: int64(7), object(1)\n",
      "memory usage: 256.0+ bytes\n"
     ]
    }
   ],
   "source": [
    "tariffs.info()"
   ]
  },
  {
   "cell_type": "markdown",
   "metadata": {},
   "source": [
    "На первый взгляд тип данных соответствует описанию."
   ]
  },
  {
   "cell_type": "code",
   "execution_count": 17,
   "metadata": {},
   "outputs": [
    {
     "data": {
      "text/html": [
       "<div>\n",
       "<style scoped>\n",
       "    .dataframe tbody tr th:only-of-type {\n",
       "        vertical-align: middle;\n",
       "    }\n",
       "\n",
       "    .dataframe tbody tr th {\n",
       "        vertical-align: top;\n",
       "    }\n",
       "\n",
       "    .dataframe thead th {\n",
       "        text-align: right;\n",
       "    }\n",
       "</style>\n",
       "<table border=\"1\" class=\"dataframe\">\n",
       "  <thead>\n",
       "    <tr style=\"text-align: right;\">\n",
       "      <th></th>\n",
       "      <th>user_id</th>\n",
       "      <th>age</th>\n",
       "      <th>churn_date</th>\n",
       "      <th>city</th>\n",
       "      <th>first_name</th>\n",
       "      <th>last_name</th>\n",
       "      <th>reg_date</th>\n",
       "      <th>tariff</th>\n",
       "    </tr>\n",
       "  </thead>\n",
       "  <tbody>\n",
       "    <tr>\n",
       "      <td>0</td>\n",
       "      <td>1000</td>\n",
       "      <td>52</td>\n",
       "      <td>NaN</td>\n",
       "      <td>Краснодар</td>\n",
       "      <td>Рафаил</td>\n",
       "      <td>Верещагин</td>\n",
       "      <td>2018-05-25</td>\n",
       "      <td>ultra</td>\n",
       "    </tr>\n",
       "    <tr>\n",
       "      <td>1</td>\n",
       "      <td>1001</td>\n",
       "      <td>41</td>\n",
       "      <td>NaN</td>\n",
       "      <td>Москва</td>\n",
       "      <td>Иван</td>\n",
       "      <td>Ежов</td>\n",
       "      <td>2018-11-01</td>\n",
       "      <td>smart</td>\n",
       "    </tr>\n",
       "    <tr>\n",
       "      <td>2</td>\n",
       "      <td>1002</td>\n",
       "      <td>59</td>\n",
       "      <td>NaN</td>\n",
       "      <td>Стерлитамак</td>\n",
       "      <td>Евгений</td>\n",
       "      <td>Абрамович</td>\n",
       "      <td>2018-06-17</td>\n",
       "      <td>smart</td>\n",
       "    </tr>\n",
       "    <tr>\n",
       "      <td>3</td>\n",
       "      <td>1003</td>\n",
       "      <td>23</td>\n",
       "      <td>NaN</td>\n",
       "      <td>Москва</td>\n",
       "      <td>Белла</td>\n",
       "      <td>Белякова</td>\n",
       "      <td>2018-08-17</td>\n",
       "      <td>ultra</td>\n",
       "    </tr>\n",
       "    <tr>\n",
       "      <td>4</td>\n",
       "      <td>1004</td>\n",
       "      <td>68</td>\n",
       "      <td>NaN</td>\n",
       "      <td>Новокузнецк</td>\n",
       "      <td>Татьяна</td>\n",
       "      <td>Авдеенко</td>\n",
       "      <td>2018-05-14</td>\n",
       "      <td>ultra</td>\n",
       "    </tr>\n",
       "  </tbody>\n",
       "</table>\n",
       "</div>"
      ],
      "text/plain": [
       "   user_id  age churn_date         city first_name  last_name    reg_date  \\\n",
       "0     1000   52        NaN    Краснодар     Рафаил  Верещагин  2018-05-25   \n",
       "1     1001   41        NaN       Москва       Иван       Ежов  2018-11-01   \n",
       "2     1002   59        NaN  Стерлитамак    Евгений  Абрамович  2018-06-17   \n",
       "3     1003   23        NaN       Москва      Белла   Белякова  2018-08-17   \n",
       "4     1004   68        NaN  Новокузнецк    Татьяна   Авдеенко  2018-05-14   \n",
       "\n",
       "  tariff  \n",
       "0  ultra  \n",
       "1  smart  \n",
       "2  smart  \n",
       "3  ultra  \n",
       "4  ultra  "
      ]
     },
     "execution_count": 17,
     "metadata": {},
     "output_type": "execute_result"
    }
   ],
   "source": [
    "#информация о пользователях\n",
    "users.head() "
   ]
  },
  {
   "cell_type": "code",
   "execution_count": 18,
   "metadata": {},
   "outputs": [
    {
     "name": "stdout",
     "output_type": "stream",
     "text": [
      "<class 'pandas.core.frame.DataFrame'>\n",
      "RangeIndex: 500 entries, 0 to 499\n",
      "Data columns (total 8 columns):\n",
      "user_id       500 non-null int64\n",
      "age           500 non-null int64\n",
      "churn_date    38 non-null object\n",
      "city          500 non-null object\n",
      "first_name    500 non-null object\n",
      "last_name     500 non-null object\n",
      "reg_date      500 non-null object\n",
      "tariff        500 non-null object\n",
      "dtypes: int64(2), object(6)\n",
      "memory usage: 31.4+ KB\n"
     ]
    }
   ],
   "source": [
    "users.info() "
   ]
  },
  {
   "cell_type": "markdown",
   "metadata": {},
   "source": [
    "Столбецы 'churn_date'(дата прекращения пользования тарифом), 'reg_date' (дата подключения тарифа (день, месяц, год)) - перевести в тип data.  "
   ]
  },
  {
   "cell_type": "code",
   "execution_count": 19,
   "metadata": {},
   "outputs": [],
   "source": [
    "# преобразование данных в тип data\n",
    "time_format = '%Y-%m-%d'\n",
    "users['churn_date'] = pd.to_datetime(users['churn_date'], \\\n",
    "                                          format = time_format)\n",
    "users['reg_date'] = pd.to_datetime(users['reg_date'], \\\n",
    "                                          format = time_format)"
   ]
  },
  {
   "cell_type": "code",
   "execution_count": 20,
   "metadata": {},
   "outputs": [
    {
     "name": "stdout",
     "output_type": "stream",
     "text": [
      "<class 'pandas.core.frame.DataFrame'>\n",
      "RangeIndex: 500 entries, 0 to 499\n",
      "Data columns (total 8 columns):\n",
      "user_id       500 non-null int64\n",
      "age           500 non-null int64\n",
      "churn_date    38 non-null datetime64[ns]\n",
      "city          500 non-null object\n",
      "first_name    500 non-null object\n",
      "last_name     500 non-null object\n",
      "reg_date      500 non-null datetime64[ns]\n",
      "tariff        500 non-null object\n",
      "dtypes: datetime64[ns](2), int64(2), object(4)\n",
      "memory usage: 31.4+ KB\n"
     ]
    }
   ],
   "source": [
    "#проверка\n",
    "users.info() "
   ]
  },
  {
   "cell_type": "markdown",
   "metadata": {},
   "source": [
    "Итак, все данные, содержащие информацию о датах, приведены к типу data."
   ]
  },
  {
   "cell_type": "markdown",
   "metadata": {},
   "source": [
    "### *Пропуски в датафреймах.*"
   ]
  },
  {
   "cell_type": "markdown",
   "metadata": {},
   "source": [
    "Итак, по данным из метода info(), пропуски обнаружены в датафрейме users, что очевидно, так как в описании данных указано, что:если значение пропущено, то тариф ещё действовал на момент выгрузки данных. "
   ]
  },
  {
   "cell_type": "markdown",
   "metadata": {},
   "source": [
    "### *Дубликаты в датафреймах.*"
   ]
  },
  {
   "cell_type": "code",
   "execution_count": 21,
   "metadata": {},
   "outputs": [
    {
     "data": {
      "text/plain": [
       "0"
      ]
     },
     "execution_count": 21,
     "metadata": {},
     "output_type": "execute_result"
    }
   ],
   "source": [
    "#подсчет явных дубликатов\n",
    "calls.duplicated().sum()"
   ]
  },
  {
   "cell_type": "code",
   "execution_count": 22,
   "metadata": {},
   "outputs": [
    {
     "data": {
      "text/plain": [
       "0"
      ]
     },
     "execution_count": 22,
     "metadata": {},
     "output_type": "execute_result"
    }
   ],
   "source": [
    "#подсчет явных дубликатов\n",
    "internet.duplicated().sum()"
   ]
  },
  {
   "cell_type": "code",
   "execution_count": 23,
   "metadata": {},
   "outputs": [
    {
     "data": {
      "text/plain": [
       "0"
      ]
     },
     "execution_count": 23,
     "metadata": {},
     "output_type": "execute_result"
    }
   ],
   "source": [
    "#подсчет явных дубликатов\n",
    "messages.duplicated().sum()"
   ]
  },
  {
   "cell_type": "code",
   "execution_count": 24,
   "metadata": {},
   "outputs": [
    {
     "data": {
      "text/plain": [
       "0"
      ]
     },
     "execution_count": 24,
     "metadata": {},
     "output_type": "execute_result"
    }
   ],
   "source": [
    "#подсчет явных дубликатов\n",
    "tariffs.duplicated().sum()"
   ]
  },
  {
   "cell_type": "code",
   "execution_count": 25,
   "metadata": {},
   "outputs": [
    {
     "data": {
      "text/plain": [
       "0"
      ]
     },
     "execution_count": 25,
     "metadata": {},
     "output_type": "execute_result"
    }
   ],
   "source": [
    "#подсчет явных дубликатов\n",
    "users.duplicated().sum()"
   ]
  },
  {
   "cell_type": "markdown",
   "metadata": {},
   "source": [
    "Таким образом, дубликатов в данных не обнаружено."
   ]
  },
  {
   "cell_type": "markdown",
   "metadata": {},
   "source": [
    "### *Дополнительные проверки данных.*"
   ]
  },
  {
   "cell_type": "markdown",
   "metadata": {},
   "source": [
    "#### Проверим категориальные переменные на корректность их написание."
   ]
  },
  {
   "cell_type": "code",
   "execution_count": 26,
   "metadata": {},
   "outputs": [
    {
     "data": {
      "text/plain": [
       "smart    1\n",
       "ultra    1\n",
       "Name: tariff_name, dtype: int64"
      ]
     },
     "execution_count": 26,
     "metadata": {},
     "output_type": "execute_result"
    }
   ],
   "source": [
    "tariffs['tariff_name'].value_counts()"
   ]
  },
  {
   "cell_type": "code",
   "execution_count": 27,
   "metadata": {},
   "outputs": [
    {
     "data": {
      "text/html": [
       "<div>\n",
       "<style scoped>\n",
       "    .dataframe tbody tr th:only-of-type {\n",
       "        vertical-align: middle;\n",
       "    }\n",
       "\n",
       "    .dataframe tbody tr th {\n",
       "        vertical-align: top;\n",
       "    }\n",
       "\n",
       "    .dataframe thead th {\n",
       "        text-align: right;\n",
       "    }\n",
       "</style>\n",
       "<table border=\"1\" class=\"dataframe\">\n",
       "  <thead>\n",
       "    <tr style=\"text-align: right;\">\n",
       "      <th></th>\n",
       "      <th>city</th>\n",
       "    </tr>\n",
       "  </thead>\n",
       "  <tbody>\n",
       "    <tr>\n",
       "      <td>Москва</td>\n",
       "      <td>99</td>\n",
       "    </tr>\n",
       "    <tr>\n",
       "      <td>Санкт-Петербург</td>\n",
       "      <td>39</td>\n",
       "    </tr>\n",
       "    <tr>\n",
       "      <td>Новосибирск</td>\n",
       "      <td>16</td>\n",
       "    </tr>\n",
       "    <tr>\n",
       "      <td>Омск</td>\n",
       "      <td>14</td>\n",
       "    </tr>\n",
       "    <tr>\n",
       "      <td>Казань</td>\n",
       "      <td>14</td>\n",
       "    </tr>\n",
       "    <tr>\n",
       "      <td>...</td>\n",
       "      <td>...</td>\n",
       "    </tr>\n",
       "    <tr>\n",
       "      <td>Химки</td>\n",
       "      <td>1</td>\n",
       "    </tr>\n",
       "    <tr>\n",
       "      <td>Подольск</td>\n",
       "      <td>1</td>\n",
       "    </tr>\n",
       "    <tr>\n",
       "      <td>Иваново</td>\n",
       "      <td>1</td>\n",
       "    </tr>\n",
       "    <tr>\n",
       "      <td>Нижневартовск</td>\n",
       "      <td>1</td>\n",
       "    </tr>\n",
       "    <tr>\n",
       "      <td>Архангельск</td>\n",
       "      <td>1</td>\n",
       "    </tr>\n",
       "  </tbody>\n",
       "</table>\n",
       "<p>76 rows × 1 columns</p>\n",
       "</div>"
      ],
      "text/plain": [
       "                 city\n",
       "Москва             99\n",
       "Санкт-Петербург    39\n",
       "Новосибирск        16\n",
       "Омск               14\n",
       "Казань             14\n",
       "...               ...\n",
       "Химки               1\n",
       "Подольск            1\n",
       "Иваново             1\n",
       "Нижневартовск       1\n",
       "Архангельск         1\n",
       "\n",
       "[76 rows x 1 columns]"
      ]
     },
     "execution_count": 27,
     "metadata": {},
     "output_type": "execute_result"
    }
   ],
   "source": [
    "pd.DataFrame(users['city'].value_counts())"
   ]
  },
  {
   "cell_type": "code",
   "execution_count": 28,
   "metadata": {},
   "outputs": [
    {
     "data": {
      "text/plain": [
       "smart    351\n",
       "ultra    149\n",
       "Name: tariff, dtype: int64"
      ]
     },
     "execution_count": 28,
     "metadata": {},
     "output_type": "execute_result"
    }
   ],
   "source": [
    "users['tariff'].value_counts()"
   ]
  },
  {
   "cell_type": "markdown",
   "metadata": {},
   "source": [
    "Проверка категорийных данных показала отсутсвие описок или ошибок в них."
   ]
  },
  {
   "cell_type": "markdown",
   "metadata": {},
   "source": [
    "#### Проверка численных данных."
   ]
  },
  {
   "cell_type": "markdown",
   "metadata": {},
   "source": [
    "Для численных данных посмотрим на их статистические показали и проверим их на наличие каких-то ошибок или аномалий "
   ]
  },
  {
   "cell_type": "code",
   "execution_count": 29,
   "metadata": {},
   "outputs": [
    {
     "data": {
      "text/plain": [
       "count    202607.000000\n",
       "mean          6.755887\n",
       "std           5.843365\n",
       "min           0.000000\n",
       "25%           1.300000\n",
       "50%           6.000000\n",
       "75%          10.700000\n",
       "max          38.000000\n",
       "Name: duration, dtype: float64"
      ]
     },
     "execution_count": 29,
     "metadata": {},
     "output_type": "execute_result"
    }
   ],
   "source": [
    "calls['duration'].describe()"
   ]
  },
  {
   "cell_type": "markdown",
   "metadata": {},
   "source": [
    "Данные таблицы calls сомнений не вызывают."
   ]
  },
  {
   "cell_type": "code",
   "execution_count": 30,
   "metadata": {},
   "outputs": [
    {
     "data": {
      "text/plain": [
       "count    149396.000000\n",
       "mean        370.192426\n",
       "std         278.300951\n",
       "min           0.000000\n",
       "25%         138.187500\n",
       "50%         348.015000\n",
       "75%         559.552500\n",
       "max        1724.830000\n",
       "Name: mb_used, dtype: float64"
      ]
     },
     "execution_count": 30,
     "metadata": {},
     "output_type": "execute_result"
    }
   ],
   "source": [
    "internet['mb_used'].describe()"
   ]
  },
  {
   "cell_type": "markdown",
   "metadata": {},
   "source": [
    "Данные таблицы internet сомнений не вызывают."
   ]
  },
  {
   "cell_type": "code",
   "execution_count": 31,
   "metadata": {},
   "outputs": [
    {
     "data": {
      "text/html": [
       "<div>\n",
       "<style scoped>\n",
       "    .dataframe tbody tr th:only-of-type {\n",
       "        vertical-align: middle;\n",
       "    }\n",
       "\n",
       "    .dataframe tbody tr th {\n",
       "        vertical-align: top;\n",
       "    }\n",
       "\n",
       "    .dataframe thead th {\n",
       "        text-align: right;\n",
       "    }\n",
       "</style>\n",
       "<table border=\"1\" class=\"dataframe\">\n",
       "  <thead>\n",
       "    <tr style=\"text-align: right;\">\n",
       "      <th></th>\n",
       "      <th>messages_included</th>\n",
       "      <th>mb_per_month_included</th>\n",
       "      <th>minutes_included</th>\n",
       "      <th>rub_monthly_fee</th>\n",
       "      <th>rub_per_gb</th>\n",
       "      <th>rub_per_message</th>\n",
       "      <th>rub_per_minute</th>\n",
       "    </tr>\n",
       "  </thead>\n",
       "  <tbody>\n",
       "    <tr>\n",
       "      <td>count</td>\n",
       "      <td>2.000000</td>\n",
       "      <td>2.000000</td>\n",
       "      <td>2.000000</td>\n",
       "      <td>2.000000</td>\n",
       "      <td>2.000000</td>\n",
       "      <td>2.000000</td>\n",
       "      <td>2.000000</td>\n",
       "    </tr>\n",
       "    <tr>\n",
       "      <td>mean</td>\n",
       "      <td>525.000000</td>\n",
       "      <td>23040.000000</td>\n",
       "      <td>1750.000000</td>\n",
       "      <td>1250.000000</td>\n",
       "      <td>175.000000</td>\n",
       "      <td>2.000000</td>\n",
       "      <td>2.000000</td>\n",
       "    </tr>\n",
       "    <tr>\n",
       "      <td>std</td>\n",
       "      <td>671.751442</td>\n",
       "      <td>10861.160159</td>\n",
       "      <td>1767.766953</td>\n",
       "      <td>989.949494</td>\n",
       "      <td>35.355339</td>\n",
       "      <td>1.414214</td>\n",
       "      <td>1.414214</td>\n",
       "    </tr>\n",
       "    <tr>\n",
       "      <td>min</td>\n",
       "      <td>50.000000</td>\n",
       "      <td>15360.000000</td>\n",
       "      <td>500.000000</td>\n",
       "      <td>550.000000</td>\n",
       "      <td>150.000000</td>\n",
       "      <td>1.000000</td>\n",
       "      <td>1.000000</td>\n",
       "    </tr>\n",
       "    <tr>\n",
       "      <td>25%</td>\n",
       "      <td>287.500000</td>\n",
       "      <td>19200.000000</td>\n",
       "      <td>1125.000000</td>\n",
       "      <td>900.000000</td>\n",
       "      <td>162.500000</td>\n",
       "      <td>1.500000</td>\n",
       "      <td>1.500000</td>\n",
       "    </tr>\n",
       "    <tr>\n",
       "      <td>50%</td>\n",
       "      <td>525.000000</td>\n",
       "      <td>23040.000000</td>\n",
       "      <td>1750.000000</td>\n",
       "      <td>1250.000000</td>\n",
       "      <td>175.000000</td>\n",
       "      <td>2.000000</td>\n",
       "      <td>2.000000</td>\n",
       "    </tr>\n",
       "    <tr>\n",
       "      <td>75%</td>\n",
       "      <td>762.500000</td>\n",
       "      <td>26880.000000</td>\n",
       "      <td>2375.000000</td>\n",
       "      <td>1600.000000</td>\n",
       "      <td>187.500000</td>\n",
       "      <td>2.500000</td>\n",
       "      <td>2.500000</td>\n",
       "    </tr>\n",
       "    <tr>\n",
       "      <td>max</td>\n",
       "      <td>1000.000000</td>\n",
       "      <td>30720.000000</td>\n",
       "      <td>3000.000000</td>\n",
       "      <td>1950.000000</td>\n",
       "      <td>200.000000</td>\n",
       "      <td>3.000000</td>\n",
       "      <td>3.000000</td>\n",
       "    </tr>\n",
       "  </tbody>\n",
       "</table>\n",
       "</div>"
      ],
      "text/plain": [
       "       messages_included  mb_per_month_included  minutes_included  \\\n",
       "count           2.000000               2.000000          2.000000   \n",
       "mean          525.000000           23040.000000       1750.000000   \n",
       "std           671.751442           10861.160159       1767.766953   \n",
       "min            50.000000           15360.000000        500.000000   \n",
       "25%           287.500000           19200.000000       1125.000000   \n",
       "50%           525.000000           23040.000000       1750.000000   \n",
       "75%           762.500000           26880.000000       2375.000000   \n",
       "max          1000.000000           30720.000000       3000.000000   \n",
       "\n",
       "       rub_monthly_fee  rub_per_gb  rub_per_message  rub_per_minute  \n",
       "count         2.000000    2.000000         2.000000        2.000000  \n",
       "mean       1250.000000  175.000000         2.000000        2.000000  \n",
       "std         989.949494   35.355339         1.414214        1.414214  \n",
       "min         550.000000  150.000000         1.000000        1.000000  \n",
       "25%         900.000000  162.500000         1.500000        1.500000  \n",
       "50%        1250.000000  175.000000         2.000000        2.000000  \n",
       "75%        1600.000000  187.500000         2.500000        2.500000  \n",
       "max        1950.000000  200.000000         3.000000        3.000000  "
      ]
     },
     "execution_count": 31,
     "metadata": {},
     "output_type": "execute_result"
    }
   ],
   "source": [
    "tariffs.describe()"
   ]
  },
  {
   "cell_type": "code",
   "execution_count": 32,
   "metadata": {},
   "outputs": [
    {
     "data": {
      "text/html": [
       "<div>\n",
       "<style scoped>\n",
       "    .dataframe tbody tr th:only-of-type {\n",
       "        vertical-align: middle;\n",
       "    }\n",
       "\n",
       "    .dataframe tbody tr th {\n",
       "        vertical-align: top;\n",
       "    }\n",
       "\n",
       "    .dataframe thead th {\n",
       "        text-align: right;\n",
       "    }\n",
       "</style>\n",
       "<table border=\"1\" class=\"dataframe\">\n",
       "  <thead>\n",
       "    <tr style=\"text-align: right;\">\n",
       "      <th></th>\n",
       "      <th>id</th>\n",
       "      <th>message_date</th>\n",
       "      <th>user_id</th>\n",
       "    </tr>\n",
       "  </thead>\n",
       "  <tbody>\n",
       "    <tr>\n",
       "      <td>0</td>\n",
       "      <td>1000_0</td>\n",
       "      <td>2018-06-27</td>\n",
       "      <td>1000</td>\n",
       "    </tr>\n",
       "    <tr>\n",
       "      <td>1</td>\n",
       "      <td>1000_1</td>\n",
       "      <td>2018-10-08</td>\n",
       "      <td>1000</td>\n",
       "    </tr>\n",
       "    <tr>\n",
       "      <td>2</td>\n",
       "      <td>1000_2</td>\n",
       "      <td>2018-08-04</td>\n",
       "      <td>1000</td>\n",
       "    </tr>\n",
       "    <tr>\n",
       "      <td>3</td>\n",
       "      <td>1000_3</td>\n",
       "      <td>2018-06-16</td>\n",
       "      <td>1000</td>\n",
       "    </tr>\n",
       "    <tr>\n",
       "      <td>4</td>\n",
       "      <td>1000_4</td>\n",
       "      <td>2018-12-05</td>\n",
       "      <td>1000</td>\n",
       "    </tr>\n",
       "  </tbody>\n",
       "</table>\n",
       "</div>"
      ],
      "text/plain": [
       "       id message_date  user_id\n",
       "0  1000_0   2018-06-27     1000\n",
       "1  1000_1   2018-10-08     1000\n",
       "2  1000_2   2018-08-04     1000\n",
       "3  1000_3   2018-06-16     1000\n",
       "4  1000_4   2018-12-05     1000"
      ]
     },
     "execution_count": 32,
     "metadata": {},
     "output_type": "execute_result"
    }
   ],
   "source": [
    "messages.head()"
   ]
  },
  {
   "cell_type": "markdown",
   "metadata": {},
   "source": [
    "Данные таблицы messages сомнений не вызывают."
   ]
  },
  {
   "cell_type": "code",
   "execution_count": 33,
   "metadata": {},
   "outputs": [
    {
     "data": {
      "text/plain": [
       "count    500.00000\n",
       "mean      46.58800\n",
       "std       16.66763\n",
       "min       18.00000\n",
       "25%       32.00000\n",
       "50%       46.00000\n",
       "75%       62.00000\n",
       "max       75.00000\n",
       "Name: age, dtype: float64"
      ]
     },
     "execution_count": 33,
     "metadata": {},
     "output_type": "execute_result"
    }
   ],
   "source": [
    "users['age'].describe()"
   ]
  },
  {
   "cell_type": "markdown",
   "metadata": {},
   "source": [
    "Данные таблицы users сомнений не вызывают."
   ]
  },
  {
   "cell_type": "markdown",
   "metadata": {},
   "source": [
    "Проверим количество уникальных пользователей в таблице users."
   ]
  },
  {
   "cell_type": "code",
   "execution_count": 34,
   "metadata": {},
   "outputs": [
    {
     "data": {
      "text/html": [
       "<div>\n",
       "<style scoped>\n",
       "    .dataframe tbody tr th:only-of-type {\n",
       "        vertical-align: middle;\n",
       "    }\n",
       "\n",
       "    .dataframe tbody tr th {\n",
       "        vertical-align: top;\n",
       "    }\n",
       "\n",
       "    .dataframe thead th {\n",
       "        text-align: right;\n",
       "    }\n",
       "</style>\n",
       "<table border=\"1\" class=\"dataframe\">\n",
       "  <thead>\n",
       "    <tr style=\"text-align: right;\">\n",
       "      <th></th>\n",
       "      <th>user_id</th>\n",
       "    </tr>\n",
       "  </thead>\n",
       "  <tbody>\n",
       "    <tr>\n",
       "      <td>1023</td>\n",
       "      <td>1</td>\n",
       "    </tr>\n",
       "    <tr>\n",
       "      <td>1194</td>\n",
       "      <td>1</td>\n",
       "    </tr>\n",
       "    <tr>\n",
       "      <td>1181</td>\n",
       "      <td>1</td>\n",
       "    </tr>\n",
       "    <tr>\n",
       "      <td>1182</td>\n",
       "      <td>1</td>\n",
       "    </tr>\n",
       "    <tr>\n",
       "      <td>1183</td>\n",
       "      <td>1</td>\n",
       "    </tr>\n",
       "    <tr>\n",
       "      <td>...</td>\n",
       "      <td>...</td>\n",
       "    </tr>\n",
       "    <tr>\n",
       "      <td>1362</td>\n",
       "      <td>1</td>\n",
       "    </tr>\n",
       "    <tr>\n",
       "      <td>1363</td>\n",
       "      <td>1</td>\n",
       "    </tr>\n",
       "    <tr>\n",
       "      <td>1364</td>\n",
       "      <td>1</td>\n",
       "    </tr>\n",
       "    <tr>\n",
       "      <td>1365</td>\n",
       "      <td>1</td>\n",
       "    </tr>\n",
       "    <tr>\n",
       "      <td>1024</td>\n",
       "      <td>1</td>\n",
       "    </tr>\n",
       "  </tbody>\n",
       "</table>\n",
       "<p>500 rows × 1 columns</p>\n",
       "</div>"
      ],
      "text/plain": [
       "      user_id\n",
       "1023        1\n",
       "1194        1\n",
       "1181        1\n",
       "1182        1\n",
       "1183        1\n",
       "...       ...\n",
       "1362        1\n",
       "1363        1\n",
       "1364        1\n",
       "1365        1\n",
       "1024        1\n",
       "\n",
       "[500 rows x 1 columns]"
      ]
     },
     "execution_count": 34,
     "metadata": {},
     "output_type": "execute_result"
    }
   ],
   "source": [
    "pd.DataFrame(users['user_id'].value_counts())"
   ]
  },
  {
   "cell_type": "markdown",
   "metadata": {},
   "source": [
    "Получилось 500 уникальных пользователей - что соответствет описанию данных."
   ]
  },
  {
   "cell_type": "markdown",
   "metadata": {},
   "source": [
    "Итак, в данном пункте исследования были загружены основные данные и проведены следующие проверки:\n",
    "\n",
    "1) Все данные, содержащие даты, переведены в тип дата.\n",
    "\n",
    "2) Проверка наличия пропусков и дубликатов в данных показала их отсутствие, за исключением пропусков в таблице users в столбце 'churn date' - эти пропуски оговорены в описании данных.\n",
    "\n",
    "3) Проверка категорийных данных показала отсутсвие описок или ошибок в них.\n",
    "\n",
    "4) При проверке численных данных, на данном этапе исследования, так же не выявлено никаких аномалий."
   ]
  },
  {
   "cell_type": "markdown",
   "metadata": {},
   "source": [
    "### Расчеты по каждому пользователю."
   ]
  },
  {
   "cell_type": "markdown",
   "metadata": {},
   "source": [
    "#### Количество сделанных звонков и израсходованных минут разговора по месяцам."
   ]
  },
  {
   "cell_type": "code",
   "execution_count": 35,
   "metadata": {},
   "outputs": [
    {
     "data": {
      "text/html": [
       "<div>\n",
       "<style scoped>\n",
       "    .dataframe tbody tr th:only-of-type {\n",
       "        vertical-align: middle;\n",
       "    }\n",
       "\n",
       "    .dataframe tbody tr th {\n",
       "        vertical-align: top;\n",
       "    }\n",
       "\n",
       "    .dataframe thead th {\n",
       "        text-align: right;\n",
       "    }\n",
       "</style>\n",
       "<table border=\"1\" class=\"dataframe\">\n",
       "  <thead>\n",
       "    <tr style=\"text-align: right;\">\n",
       "      <th></th>\n",
       "      <th>id</th>\n",
       "      <th>call_date</th>\n",
       "      <th>duration</th>\n",
       "      <th>user_id</th>\n",
       "    </tr>\n",
       "  </thead>\n",
       "  <tbody>\n",
       "    <tr>\n",
       "      <td>0</td>\n",
       "      <td>1000_0</td>\n",
       "      <td>2018-07-25</td>\n",
       "      <td>0.00</td>\n",
       "      <td>1000</td>\n",
       "    </tr>\n",
       "    <tr>\n",
       "      <td>1</td>\n",
       "      <td>1000_1</td>\n",
       "      <td>2018-08-17</td>\n",
       "      <td>0.00</td>\n",
       "      <td>1000</td>\n",
       "    </tr>\n",
       "    <tr>\n",
       "      <td>2</td>\n",
       "      <td>1000_2</td>\n",
       "      <td>2018-06-11</td>\n",
       "      <td>2.85</td>\n",
       "      <td>1000</td>\n",
       "    </tr>\n",
       "    <tr>\n",
       "      <td>3</td>\n",
       "      <td>1000_3</td>\n",
       "      <td>2018-09-21</td>\n",
       "      <td>13.80</td>\n",
       "      <td>1000</td>\n",
       "    </tr>\n",
       "    <tr>\n",
       "      <td>4</td>\n",
       "      <td>1000_4</td>\n",
       "      <td>2018-12-15</td>\n",
       "      <td>5.18</td>\n",
       "      <td>1000</td>\n",
       "    </tr>\n",
       "  </tbody>\n",
       "</table>\n",
       "</div>"
      ],
      "text/plain": [
       "       id  call_date  duration  user_id\n",
       "0  1000_0 2018-07-25      0.00     1000\n",
       "1  1000_1 2018-08-17      0.00     1000\n",
       "2  1000_2 2018-06-11      2.85     1000\n",
       "3  1000_3 2018-09-21     13.80     1000\n",
       "4  1000_4 2018-12-15      5.18     1000"
      ]
     },
     "execution_count": 35,
     "metadata": {},
     "output_type": "execute_result"
    }
   ],
   "source": [
    "calls.head()"
   ]
  },
  {
   "cell_type": "code",
   "execution_count": 36,
   "metadata": {},
   "outputs": [
    {
     "data": {
      "text/html": [
       "<div>\n",
       "<style scoped>\n",
       "    .dataframe tbody tr th:only-of-type {\n",
       "        vertical-align: middle;\n",
       "    }\n",
       "\n",
       "    .dataframe tbody tr th {\n",
       "        vertical-align: top;\n",
       "    }\n",
       "\n",
       "    .dataframe thead th {\n",
       "        text-align: right;\n",
       "    }\n",
       "</style>\n",
       "<table border=\"1\" class=\"dataframe\">\n",
       "  <thead>\n",
       "    <tr style=\"text-align: right;\">\n",
       "      <th></th>\n",
       "      <th>id</th>\n",
       "      <th>call_date</th>\n",
       "      <th>duration</th>\n",
       "      <th>user_id</th>\n",
       "      <th>call_date_month</th>\n",
       "    </tr>\n",
       "  </thead>\n",
       "  <tbody>\n",
       "    <tr>\n",
       "      <td>0</td>\n",
       "      <td>1000_0</td>\n",
       "      <td>2018-07-25</td>\n",
       "      <td>0.00</td>\n",
       "      <td>1000</td>\n",
       "      <td>2018-07-01</td>\n",
       "    </tr>\n",
       "    <tr>\n",
       "      <td>1</td>\n",
       "      <td>1000_1</td>\n",
       "      <td>2018-08-17</td>\n",
       "      <td>0.00</td>\n",
       "      <td>1000</td>\n",
       "      <td>2018-08-01</td>\n",
       "    </tr>\n",
       "    <tr>\n",
       "      <td>2</td>\n",
       "      <td>1000_2</td>\n",
       "      <td>2018-06-11</td>\n",
       "      <td>2.85</td>\n",
       "      <td>1000</td>\n",
       "      <td>2018-06-01</td>\n",
       "    </tr>\n",
       "    <tr>\n",
       "      <td>3</td>\n",
       "      <td>1000_3</td>\n",
       "      <td>2018-09-21</td>\n",
       "      <td>13.80</td>\n",
       "      <td>1000</td>\n",
       "      <td>2018-09-01</td>\n",
       "    </tr>\n",
       "    <tr>\n",
       "      <td>4</td>\n",
       "      <td>1000_4</td>\n",
       "      <td>2018-12-15</td>\n",
       "      <td>5.18</td>\n",
       "      <td>1000</td>\n",
       "      <td>2018-12-01</td>\n",
       "    </tr>\n",
       "    <tr>\n",
       "      <td>...</td>\n",
       "      <td>...</td>\n",
       "      <td>...</td>\n",
       "      <td>...</td>\n",
       "      <td>...</td>\n",
       "      <td>...</td>\n",
       "    </tr>\n",
       "    <tr>\n",
       "      <td>202602</td>\n",
       "      <td>1499_215</td>\n",
       "      <td>2018-12-26</td>\n",
       "      <td>0.76</td>\n",
       "      <td>1499</td>\n",
       "      <td>2018-12-01</td>\n",
       "    </tr>\n",
       "    <tr>\n",
       "      <td>202603</td>\n",
       "      <td>1499_216</td>\n",
       "      <td>2018-10-18</td>\n",
       "      <td>18.83</td>\n",
       "      <td>1499</td>\n",
       "      <td>2018-10-01</td>\n",
       "    </tr>\n",
       "    <tr>\n",
       "      <td>202604</td>\n",
       "      <td>1499_217</td>\n",
       "      <td>2018-11-10</td>\n",
       "      <td>10.81</td>\n",
       "      <td>1499</td>\n",
       "      <td>2018-11-01</td>\n",
       "    </tr>\n",
       "    <tr>\n",
       "      <td>202605</td>\n",
       "      <td>1499_218</td>\n",
       "      <td>2018-10-06</td>\n",
       "      <td>4.27</td>\n",
       "      <td>1499</td>\n",
       "      <td>2018-10-01</td>\n",
       "    </tr>\n",
       "    <tr>\n",
       "      <td>202606</td>\n",
       "      <td>1499_219</td>\n",
       "      <td>2018-12-14</td>\n",
       "      <td>19.62</td>\n",
       "      <td>1499</td>\n",
       "      <td>2018-12-01</td>\n",
       "    </tr>\n",
       "  </tbody>\n",
       "</table>\n",
       "<p>202607 rows × 5 columns</p>\n",
       "</div>"
      ],
      "text/plain": [
       "              id  call_date  duration  user_id call_date_month\n",
       "0         1000_0 2018-07-25      0.00     1000      2018-07-01\n",
       "1         1000_1 2018-08-17      0.00     1000      2018-08-01\n",
       "2         1000_2 2018-06-11      2.85     1000      2018-06-01\n",
       "3         1000_3 2018-09-21     13.80     1000      2018-09-01\n",
       "4         1000_4 2018-12-15      5.18     1000      2018-12-01\n",
       "...          ...        ...       ...      ...             ...\n",
       "202602  1499_215 2018-12-26      0.76     1499      2018-12-01\n",
       "202603  1499_216 2018-10-18     18.83     1499      2018-10-01\n",
       "202604  1499_217 2018-11-10     10.81     1499      2018-11-01\n",
       "202605  1499_218 2018-10-06      4.27     1499      2018-10-01\n",
       "202606  1499_219 2018-12-14     19.62     1499      2018-12-01\n",
       "\n",
       "[202607 rows x 5 columns]"
      ]
     },
     "execution_count": 36,
     "metadata": {},
     "output_type": "execute_result"
    }
   ],
   "source": [
    "# выделяем месяц \n",
    "calls['call_date_month'] = calls['call_date'].astype ('datetime64[M]')\n",
    "calls"
   ]
  },
  {
   "cell_type": "code",
   "execution_count": 37,
   "metadata": {},
   "outputs": [
    {
     "data": {
      "text/html": [
       "<div>\n",
       "<style scoped>\n",
       "    .dataframe tbody tr th:only-of-type {\n",
       "        vertical-align: middle;\n",
       "    }\n",
       "\n",
       "    .dataframe tbody tr th {\n",
       "        vertical-align: top;\n",
       "    }\n",
       "\n",
       "    .dataframe thead th {\n",
       "        text-align: right;\n",
       "    }\n",
       "</style>\n",
       "<table border=\"1\" class=\"dataframe\">\n",
       "  <thead>\n",
       "    <tr style=\"text-align: right;\">\n",
       "      <th></th>\n",
       "      <th>id</th>\n",
       "      <th>call_date</th>\n",
       "      <th>duration</th>\n",
       "      <th>user_id</th>\n",
       "      <th>call_date_month</th>\n",
       "    </tr>\n",
       "  </thead>\n",
       "  <tbody>\n",
       "    <tr>\n",
       "      <td>0</td>\n",
       "      <td>1000_0</td>\n",
       "      <td>2018-07-25</td>\n",
       "      <td>0</td>\n",
       "      <td>1000</td>\n",
       "      <td>2018-07-01</td>\n",
       "    </tr>\n",
       "    <tr>\n",
       "      <td>1</td>\n",
       "      <td>1000_1</td>\n",
       "      <td>2018-08-17</td>\n",
       "      <td>0</td>\n",
       "      <td>1000</td>\n",
       "      <td>2018-08-01</td>\n",
       "    </tr>\n",
       "    <tr>\n",
       "      <td>2</td>\n",
       "      <td>1000_2</td>\n",
       "      <td>2018-06-11</td>\n",
       "      <td>3</td>\n",
       "      <td>1000</td>\n",
       "      <td>2018-06-01</td>\n",
       "    </tr>\n",
       "    <tr>\n",
       "      <td>3</td>\n",
       "      <td>1000_3</td>\n",
       "      <td>2018-09-21</td>\n",
       "      <td>14</td>\n",
       "      <td>1000</td>\n",
       "      <td>2018-09-01</td>\n",
       "    </tr>\n",
       "    <tr>\n",
       "      <td>4</td>\n",
       "      <td>1000_4</td>\n",
       "      <td>2018-12-15</td>\n",
       "      <td>6</td>\n",
       "      <td>1000</td>\n",
       "      <td>2018-12-01</td>\n",
       "    </tr>\n",
       "  </tbody>\n",
       "</table>\n",
       "</div>"
      ],
      "text/plain": [
       "       id  call_date  duration  user_id call_date_month\n",
       "0  1000_0 2018-07-25         0     1000      2018-07-01\n",
       "1  1000_1 2018-08-17         0     1000      2018-08-01\n",
       "2  1000_2 2018-06-11         3     1000      2018-06-01\n",
       "3  1000_3 2018-09-21        14     1000      2018-09-01\n",
       "4  1000_4 2018-12-15         6     1000      2018-12-01"
      ]
     },
     "execution_count": 37,
     "metadata": {},
     "output_type": "execute_result"
    }
   ],
   "source": [
    "calls['duration'] = calls['duration'].apply(lambda x: math.ceil(x))\n",
    "calls.head(5)"
   ]
  },
  {
   "cell_type": "code",
   "execution_count": 38,
   "metadata": {},
   "outputs": [
    {
     "data": {
      "text/html": [
       "<div>\n",
       "<style scoped>\n",
       "    .dataframe tbody tr th:only-of-type {\n",
       "        vertical-align: middle;\n",
       "    }\n",
       "\n",
       "    .dataframe tbody tr th {\n",
       "        vertical-align: top;\n",
       "    }\n",
       "\n",
       "    .dataframe thead tr th {\n",
       "        text-align: left;\n",
       "    }\n",
       "</style>\n",
       "<table border=\"1\" class=\"dataframe\">\n",
       "  <thead>\n",
       "    <tr>\n",
       "      <th></th>\n",
       "      <th>user_id</th>\n",
       "      <th>call_date_month</th>\n",
       "      <th colspan=\"2\" halign=\"left\">duration</th>\n",
       "    </tr>\n",
       "    <tr>\n",
       "      <th></th>\n",
       "      <th></th>\n",
       "      <th></th>\n",
       "      <th>count</th>\n",
       "      <th>sum</th>\n",
       "    </tr>\n",
       "  </thead>\n",
       "  <tbody>\n",
       "    <tr>\n",
       "      <td>0</td>\n",
       "      <td>1000</td>\n",
       "      <td>2018-05-01</td>\n",
       "      <td>22</td>\n",
       "      <td>159</td>\n",
       "    </tr>\n",
       "    <tr>\n",
       "      <td>1</td>\n",
       "      <td>1000</td>\n",
       "      <td>2018-06-01</td>\n",
       "      <td>43</td>\n",
       "      <td>172</td>\n",
       "    </tr>\n",
       "    <tr>\n",
       "      <td>2</td>\n",
       "      <td>1000</td>\n",
       "      <td>2018-07-01</td>\n",
       "      <td>47</td>\n",
       "      <td>340</td>\n",
       "    </tr>\n",
       "    <tr>\n",
       "      <td>3</td>\n",
       "      <td>1000</td>\n",
       "      <td>2018-08-01</td>\n",
       "      <td>52</td>\n",
       "      <td>408</td>\n",
       "    </tr>\n",
       "    <tr>\n",
       "      <td>4</td>\n",
       "      <td>1000</td>\n",
       "      <td>2018-09-01</td>\n",
       "      <td>58</td>\n",
       "      <td>466</td>\n",
       "    </tr>\n",
       "    <tr>\n",
       "      <td>5</td>\n",
       "      <td>1000</td>\n",
       "      <td>2018-10-01</td>\n",
       "      <td>57</td>\n",
       "      <td>350</td>\n",
       "    </tr>\n",
       "    <tr>\n",
       "      <td>6</td>\n",
       "      <td>1000</td>\n",
       "      <td>2018-11-01</td>\n",
       "      <td>43</td>\n",
       "      <td>338</td>\n",
       "    </tr>\n",
       "    <tr>\n",
       "      <td>7</td>\n",
       "      <td>1000</td>\n",
       "      <td>2018-12-01</td>\n",
       "      <td>46</td>\n",
       "      <td>333</td>\n",
       "    </tr>\n",
       "    <tr>\n",
       "      <td>8</td>\n",
       "      <td>1001</td>\n",
       "      <td>2018-11-01</td>\n",
       "      <td>59</td>\n",
       "      <td>430</td>\n",
       "    </tr>\n",
       "    <tr>\n",
       "      <td>9</td>\n",
       "      <td>1001</td>\n",
       "      <td>2018-12-01</td>\n",
       "      <td>63</td>\n",
       "      <td>414</td>\n",
       "    </tr>\n",
       "    <tr>\n",
       "      <td>10</td>\n",
       "      <td>1002</td>\n",
       "      <td>2018-06-01</td>\n",
       "      <td>15</td>\n",
       "      <td>117</td>\n",
       "    </tr>\n",
       "    <tr>\n",
       "      <td>11</td>\n",
       "      <td>1002</td>\n",
       "      <td>2018-07-01</td>\n",
       "      <td>26</td>\n",
       "      <td>214</td>\n",
       "    </tr>\n",
       "  </tbody>\n",
       "</table>\n",
       "</div>"
      ],
      "text/plain": [
       "   user_id call_date_month duration     \n",
       "                              count  sum\n",
       "0     1000      2018-05-01       22  159\n",
       "1     1000      2018-06-01       43  172\n",
       "2     1000      2018-07-01       47  340\n",
       "3     1000      2018-08-01       52  408\n",
       "4     1000      2018-09-01       58  466\n",
       "5     1000      2018-10-01       57  350\n",
       "6     1000      2018-11-01       43  338\n",
       "7     1000      2018-12-01       46  333\n",
       "8     1001      2018-11-01       59  430\n",
       "9     1001      2018-12-01       63  414\n",
       "10    1002      2018-06-01       15  117\n",
       "11    1002      2018-07-01       26  214"
      ]
     },
     "execution_count": 38,
     "metadata": {},
     "output_type": "execute_result"
    }
   ],
   "source": [
    "#сгруппируем по пользователю и месяцу,\n",
    "#и поситаем количество сделанных звонков и минут\n",
    "#сбросим индексы\n",
    "calls_month_user_2 = pd.DataFrame(calls.groupby(['user_id','call_date_month'])\\\n",
    "                                  [['duration']].agg(['count', 'sum'])\\\n",
    "                                  ).reset_index()\n",
    "calls_month_user_2.head(12)    \n"
   ]
  },
  {
   "cell_type": "code",
   "execution_count": 39,
   "metadata": {},
   "outputs": [
    {
     "data": {
      "text/html": [
       "<div>\n",
       "<style scoped>\n",
       "    .dataframe tbody tr th:only-of-type {\n",
       "        vertical-align: middle;\n",
       "    }\n",
       "\n",
       "    .dataframe tbody tr th {\n",
       "        vertical-align: top;\n",
       "    }\n",
       "\n",
       "    .dataframe thead th {\n",
       "        text-align: right;\n",
       "    }\n",
       "</style>\n",
       "<table border=\"1\" class=\"dataframe\">\n",
       "  <thead>\n",
       "    <tr style=\"text-align: right;\">\n",
       "      <th></th>\n",
       "      <th>user_id</th>\n",
       "      <th>age</th>\n",
       "      <th>churn_date</th>\n",
       "      <th>city</th>\n",
       "      <th>first_name</th>\n",
       "      <th>last_name</th>\n",
       "      <th>reg_date</th>\n",
       "      <th>tariff</th>\n",
       "    </tr>\n",
       "  </thead>\n",
       "  <tbody>\n",
       "    <tr>\n",
       "      <td>0</td>\n",
       "      <td>1000</td>\n",
       "      <td>52</td>\n",
       "      <td>NaT</td>\n",
       "      <td>Краснодар</td>\n",
       "      <td>Рафаил</td>\n",
       "      <td>Верещагин</td>\n",
       "      <td>2018-05-25</td>\n",
       "      <td>ultra</td>\n",
       "    </tr>\n",
       "    <tr>\n",
       "      <td>1</td>\n",
       "      <td>1001</td>\n",
       "      <td>41</td>\n",
       "      <td>NaT</td>\n",
       "      <td>Москва</td>\n",
       "      <td>Иван</td>\n",
       "      <td>Ежов</td>\n",
       "      <td>2018-11-01</td>\n",
       "      <td>smart</td>\n",
       "    </tr>\n",
       "    <tr>\n",
       "      <td>2</td>\n",
       "      <td>1002</td>\n",
       "      <td>59</td>\n",
       "      <td>NaT</td>\n",
       "      <td>Стерлитамак</td>\n",
       "      <td>Евгений</td>\n",
       "      <td>Абрамович</td>\n",
       "      <td>2018-06-17</td>\n",
       "      <td>smart</td>\n",
       "    </tr>\n",
       "    <tr>\n",
       "      <td>3</td>\n",
       "      <td>1003</td>\n",
       "      <td>23</td>\n",
       "      <td>NaT</td>\n",
       "      <td>Москва</td>\n",
       "      <td>Белла</td>\n",
       "      <td>Белякова</td>\n",
       "      <td>2018-08-17</td>\n",
       "      <td>ultra</td>\n",
       "    </tr>\n",
       "    <tr>\n",
       "      <td>4</td>\n",
       "      <td>1004</td>\n",
       "      <td>68</td>\n",
       "      <td>NaT</td>\n",
       "      <td>Новокузнецк</td>\n",
       "      <td>Татьяна</td>\n",
       "      <td>Авдеенко</td>\n",
       "      <td>2018-05-14</td>\n",
       "      <td>ultra</td>\n",
       "    </tr>\n",
       "  </tbody>\n",
       "</table>\n",
       "</div>"
      ],
      "text/plain": [
       "   user_id  age churn_date         city first_name  last_name   reg_date  \\\n",
       "0     1000   52        NaT    Краснодар     Рафаил  Верещагин 2018-05-25   \n",
       "1     1001   41        NaT       Москва       Иван       Ежов 2018-11-01   \n",
       "2     1002   59        NaT  Стерлитамак    Евгений  Абрамович 2018-06-17   \n",
       "3     1003   23        NaT       Москва      Белла   Белякова 2018-08-17   \n",
       "4     1004   68        NaT  Новокузнецк    Татьяна   Авдеенко 2018-05-14   \n",
       "\n",
       "  tariff  \n",
       "0  ultra  \n",
       "1  smart  \n",
       "2  smart  \n",
       "3  ultra  \n",
       "4  ultra  "
      ]
     },
     "execution_count": 39,
     "metadata": {},
     "output_type": "execute_result"
    }
   ],
   "source": [
    "users.head()"
   ]
  },
  {
   "cell_type": "code",
   "execution_count": 40,
   "metadata": {
    "scrolled": true
   },
   "outputs": [
    {
     "name": "stderr",
     "output_type": "stream",
     "text": [
      "/opt/conda/lib/python3.7/site-packages/pandas/core/reshape/merge.py:617: UserWarning: merging between different levels can give an unintended result (2 levels on the left, 1 on the right)\n",
      "  warnings.warn(msg, UserWarning)\n"
     ]
    },
    {
     "data": {
      "text/html": [
       "<div>\n",
       "<style scoped>\n",
       "    .dataframe tbody tr th:only-of-type {\n",
       "        vertical-align: middle;\n",
       "    }\n",
       "\n",
       "    .dataframe tbody tr th {\n",
       "        vertical-align: top;\n",
       "    }\n",
       "\n",
       "    .dataframe thead th {\n",
       "        text-align: right;\n",
       "    }\n",
       "</style>\n",
       "<table border=\"1\" class=\"dataframe\">\n",
       "  <thead>\n",
       "    <tr style=\"text-align: right;\">\n",
       "      <th></th>\n",
       "      <th>user_id</th>\n",
       "      <th>(user_id, )</th>\n",
       "      <th>(call_date_month, )</th>\n",
       "      <th>(duration, count)</th>\n",
       "      <th>(duration, sum)</th>\n",
       "      <th>age</th>\n",
       "      <th>churn_date</th>\n",
       "      <th>city</th>\n",
       "      <th>first_name</th>\n",
       "      <th>last_name</th>\n",
       "      <th>reg_date</th>\n",
       "      <th>tariff</th>\n",
       "    </tr>\n",
       "  </thead>\n",
       "  <tbody>\n",
       "    <tr>\n",
       "      <td>0</td>\n",
       "      <td>1000</td>\n",
       "      <td>1000</td>\n",
       "      <td>2018-05-01</td>\n",
       "      <td>22</td>\n",
       "      <td>159</td>\n",
       "      <td>52</td>\n",
       "      <td>NaT</td>\n",
       "      <td>Краснодар</td>\n",
       "      <td>Рафаил</td>\n",
       "      <td>Верещагин</td>\n",
       "      <td>2018-05-25</td>\n",
       "      <td>ultra</td>\n",
       "    </tr>\n",
       "    <tr>\n",
       "      <td>1</td>\n",
       "      <td>1000</td>\n",
       "      <td>1000</td>\n",
       "      <td>2018-06-01</td>\n",
       "      <td>43</td>\n",
       "      <td>172</td>\n",
       "      <td>52</td>\n",
       "      <td>NaT</td>\n",
       "      <td>Краснодар</td>\n",
       "      <td>Рафаил</td>\n",
       "      <td>Верещагин</td>\n",
       "      <td>2018-05-25</td>\n",
       "      <td>ultra</td>\n",
       "    </tr>\n",
       "    <tr>\n",
       "      <td>2</td>\n",
       "      <td>1000</td>\n",
       "      <td>1000</td>\n",
       "      <td>2018-07-01</td>\n",
       "      <td>47</td>\n",
       "      <td>340</td>\n",
       "      <td>52</td>\n",
       "      <td>NaT</td>\n",
       "      <td>Краснодар</td>\n",
       "      <td>Рафаил</td>\n",
       "      <td>Верещагин</td>\n",
       "      <td>2018-05-25</td>\n",
       "      <td>ultra</td>\n",
       "    </tr>\n",
       "    <tr>\n",
       "      <td>3</td>\n",
       "      <td>1000</td>\n",
       "      <td>1000</td>\n",
       "      <td>2018-08-01</td>\n",
       "      <td>52</td>\n",
       "      <td>408</td>\n",
       "      <td>52</td>\n",
       "      <td>NaT</td>\n",
       "      <td>Краснодар</td>\n",
       "      <td>Рафаил</td>\n",
       "      <td>Верещагин</td>\n",
       "      <td>2018-05-25</td>\n",
       "      <td>ultra</td>\n",
       "    </tr>\n",
       "    <tr>\n",
       "      <td>4</td>\n",
       "      <td>1000</td>\n",
       "      <td>1000</td>\n",
       "      <td>2018-09-01</td>\n",
       "      <td>58</td>\n",
       "      <td>466</td>\n",
       "      <td>52</td>\n",
       "      <td>NaT</td>\n",
       "      <td>Краснодар</td>\n",
       "      <td>Рафаил</td>\n",
       "      <td>Верещагин</td>\n",
       "      <td>2018-05-25</td>\n",
       "      <td>ultra</td>\n",
       "    </tr>\n",
       "  </tbody>\n",
       "</table>\n",
       "</div>"
      ],
      "text/plain": [
       "   user_id  (user_id, ) (call_date_month, )  (duration, count)  \\\n",
       "0     1000         1000          2018-05-01                 22   \n",
       "1     1000         1000          2018-06-01                 43   \n",
       "2     1000         1000          2018-07-01                 47   \n",
       "3     1000         1000          2018-08-01                 52   \n",
       "4     1000         1000          2018-09-01                 58   \n",
       "\n",
       "   (duration, sum)  age churn_date       city first_name  last_name  \\\n",
       "0              159   52        NaT  Краснодар     Рафаил  Верещагин   \n",
       "1              172   52        NaT  Краснодар     Рафаил  Верещагин   \n",
       "2              340   52        NaT  Краснодар     Рафаил  Верещагин   \n",
       "3              408   52        NaT  Краснодар     Рафаил  Верещагин   \n",
       "4              466   52        NaT  Краснодар     Рафаил  Верещагин   \n",
       "\n",
       "    reg_date tariff  \n",
       "0 2018-05-25  ultra  \n",
       "1 2018-05-25  ultra  \n",
       "2 2018-05-25  ultra  \n",
       "3 2018-05-25  ultra  \n",
       "4 2018-05-25  ultra  "
      ]
     },
     "execution_count": 40,
     "metadata": {},
     "output_type": "execute_result"
    }
   ],
   "source": [
    "#объединим два датасета\n",
    "calls_month_user_3 = calls_month_user_2.\\\n",
    "merge(users, on='user_id', how='inner')\n",
    "calls_month_user_3.head()"
   ]
  },
  {
   "cell_type": "code",
   "execution_count": 41,
   "metadata": {},
   "outputs": [],
   "source": [
    "#переименуем столбцы\n",
    "calls_month_user_3.columns=['user_id', 'user_id_1', 'call_date_month', 'duration_count', \\\n",
    "                           'duration_sum', 'age', 'churn_date', 'city', 'first_name', 'last_name',\\\n",
    "                           'reg_date', 'tariff']\n",
    "calls_month_user_3 = calls_month_user_3.drop('user_id_1',1)"
   ]
  },
  {
   "cell_type": "code",
   "execution_count": 42,
   "metadata": {},
   "outputs": [
    {
     "data": {
      "text/html": [
       "<div>\n",
       "<style scoped>\n",
       "    .dataframe tbody tr th:only-of-type {\n",
       "        vertical-align: middle;\n",
       "    }\n",
       "\n",
       "    .dataframe tbody tr th {\n",
       "        vertical-align: top;\n",
       "    }\n",
       "\n",
       "    .dataframe thead th {\n",
       "        text-align: right;\n",
       "    }\n",
       "</style>\n",
       "<table border=\"1\" class=\"dataframe\">\n",
       "  <thead>\n",
       "    <tr style=\"text-align: right;\">\n",
       "      <th></th>\n",
       "      <th>user_id</th>\n",
       "      <th>call_date_month</th>\n",
       "      <th>duration_count</th>\n",
       "      <th>duration_sum</th>\n",
       "      <th>age</th>\n",
       "      <th>churn_date</th>\n",
       "      <th>city</th>\n",
       "      <th>first_name</th>\n",
       "      <th>last_name</th>\n",
       "      <th>reg_date</th>\n",
       "      <th>tariff</th>\n",
       "    </tr>\n",
       "  </thead>\n",
       "  <tbody>\n",
       "    <tr>\n",
       "      <td>0</td>\n",
       "      <td>1000</td>\n",
       "      <td>2018-05-01</td>\n",
       "      <td>22</td>\n",
       "      <td>159</td>\n",
       "      <td>52</td>\n",
       "      <td>NaT</td>\n",
       "      <td>Краснодар</td>\n",
       "      <td>Рафаил</td>\n",
       "      <td>Верещагин</td>\n",
       "      <td>2018-05-25</td>\n",
       "      <td>ultra</td>\n",
       "    </tr>\n",
       "    <tr>\n",
       "      <td>1</td>\n",
       "      <td>1000</td>\n",
       "      <td>2018-06-01</td>\n",
       "      <td>43</td>\n",
       "      <td>172</td>\n",
       "      <td>52</td>\n",
       "      <td>NaT</td>\n",
       "      <td>Краснодар</td>\n",
       "      <td>Рафаил</td>\n",
       "      <td>Верещагин</td>\n",
       "      <td>2018-05-25</td>\n",
       "      <td>ultra</td>\n",
       "    </tr>\n",
       "    <tr>\n",
       "      <td>2</td>\n",
       "      <td>1000</td>\n",
       "      <td>2018-07-01</td>\n",
       "      <td>47</td>\n",
       "      <td>340</td>\n",
       "      <td>52</td>\n",
       "      <td>NaT</td>\n",
       "      <td>Краснодар</td>\n",
       "      <td>Рафаил</td>\n",
       "      <td>Верещагин</td>\n",
       "      <td>2018-05-25</td>\n",
       "      <td>ultra</td>\n",
       "    </tr>\n",
       "    <tr>\n",
       "      <td>3</td>\n",
       "      <td>1000</td>\n",
       "      <td>2018-08-01</td>\n",
       "      <td>52</td>\n",
       "      <td>408</td>\n",
       "      <td>52</td>\n",
       "      <td>NaT</td>\n",
       "      <td>Краснодар</td>\n",
       "      <td>Рафаил</td>\n",
       "      <td>Верещагин</td>\n",
       "      <td>2018-05-25</td>\n",
       "      <td>ultra</td>\n",
       "    </tr>\n",
       "    <tr>\n",
       "      <td>4</td>\n",
       "      <td>1000</td>\n",
       "      <td>2018-09-01</td>\n",
       "      <td>58</td>\n",
       "      <td>466</td>\n",
       "      <td>52</td>\n",
       "      <td>NaT</td>\n",
       "      <td>Краснодар</td>\n",
       "      <td>Рафаил</td>\n",
       "      <td>Верещагин</td>\n",
       "      <td>2018-05-25</td>\n",
       "      <td>ultra</td>\n",
       "    </tr>\n",
       "  </tbody>\n",
       "</table>\n",
       "</div>"
      ],
      "text/plain": [
       "   user_id call_date_month  duration_count  duration_sum  age churn_date  \\\n",
       "0     1000      2018-05-01              22           159   52        NaT   \n",
       "1     1000      2018-06-01              43           172   52        NaT   \n",
       "2     1000      2018-07-01              47           340   52        NaT   \n",
       "3     1000      2018-08-01              52           408   52        NaT   \n",
       "4     1000      2018-09-01              58           466   52        NaT   \n",
       "\n",
       "        city first_name  last_name   reg_date tariff  \n",
       "0  Краснодар     Рафаил  Верещагин 2018-05-25  ultra  \n",
       "1  Краснодар     Рафаил  Верещагин 2018-05-25  ultra  \n",
       "2  Краснодар     Рафаил  Верещагин 2018-05-25  ultra  \n",
       "3  Краснодар     Рафаил  Верещагин 2018-05-25  ultra  \n",
       "4  Краснодар     Рафаил  Верещагин 2018-05-25  ultra  "
      ]
     },
     "execution_count": 42,
     "metadata": {},
     "output_type": "execute_result"
    }
   ],
   "source": [
    "calls_month_user_3.head()"
   ]
  },
  {
   "cell_type": "markdown",
   "metadata": {},
   "source": [
    "Подсчитаем выручку от \"платных\" минут (revenue_calls_per)."
   ]
  },
  {
   "cell_type": "code",
   "execution_count": 43,
   "metadata": {
    "scrolled": true
   },
   "outputs": [
    {
     "data": {
      "text/html": [
       "<div>\n",
       "<style scoped>\n",
       "    .dataframe tbody tr th:only-of-type {\n",
       "        vertical-align: middle;\n",
       "    }\n",
       "\n",
       "    .dataframe tbody tr th {\n",
       "        vertical-align: top;\n",
       "    }\n",
       "\n",
       "    .dataframe thead th {\n",
       "        text-align: right;\n",
       "    }\n",
       "</style>\n",
       "<table border=\"1\" class=\"dataframe\">\n",
       "  <thead>\n",
       "    <tr style=\"text-align: right;\">\n",
       "      <th></th>\n",
       "      <th>user_id</th>\n",
       "      <th>call_date_month</th>\n",
       "      <th>duration_count</th>\n",
       "      <th>duration_sum</th>\n",
       "      <th>age</th>\n",
       "      <th>churn_date</th>\n",
       "      <th>city</th>\n",
       "      <th>first_name</th>\n",
       "      <th>last_name</th>\n",
       "      <th>reg_date</th>\n",
       "      <th>tariff</th>\n",
       "      <th>revenue_calls_per</th>\n",
       "    </tr>\n",
       "  </thead>\n",
       "  <tbody>\n",
       "    <tr>\n",
       "      <td>1947</td>\n",
       "      <td>1310</td>\n",
       "      <td>2018-12-01</td>\n",
       "      <td>74</td>\n",
       "      <td>483</td>\n",
       "      <td>28</td>\n",
       "      <td>NaT</td>\n",
       "      <td>Уфа</td>\n",
       "      <td>Рудольф</td>\n",
       "      <td>Нестеров</td>\n",
       "      <td>2018-03-22</td>\n",
       "      <td>ultra</td>\n",
       "      <td>0</td>\n",
       "    </tr>\n",
       "  </tbody>\n",
       "</table>\n",
       "</div>"
      ],
      "text/plain": [
       "      user_id call_date_month  duration_count  duration_sum  age churn_date  \\\n",
       "1947     1310      2018-12-01              74           483   28        NaT   \n",
       "\n",
       "     city first_name last_name   reg_date tariff  revenue_calls_per  \n",
       "1947  Уфа    Рудольф  Нестеров 2018-03-22  ultra                  0  "
      ]
     },
     "execution_count": 43,
     "metadata": {},
     "output_type": "execute_result"
    }
   ],
   "source": [
    "def revenue_calls_per (row):\n",
    "    \"\"\"\n",
    "    функция, которая считает выручку с каждого пользователя:\n",
    "    - если тариф \"Ультра\" и суммарное количество звонков больше 3000, то:\n",
    "      revenue_calls_per = ((суммарное количество звонковм - бесплатный лимит звонков) * 1)\n",
    "    - если тариф \"Ультра\" и суммарное количество звонков меньше или равно 3000, то: \n",
    "      revenue_calls_per = 0\n",
    "    - если тариф \"Смарт\" и суммарное количество звонков больше 500, то: \n",
    "      revenue_calls_per = (суммарное количество звонковм - бесплатный лимит звонков) * 3) \n",
    "    - иначе:\n",
    "      revenue_calls_per = 0\n",
    "    \"\"\"\n",
    "    if (row['tariff'] == 'ultra' and row['duration_sum'] > 3000):\n",
    "        return ((row['duration_sum'] - 3000) * 1)\n",
    "    if (row['tariff'] == 'ultra' and row['duration_sum'] <= 3000):\n",
    "        return 0\n",
    "    if (row['tariff'] == 'smart' and row['duration_sum'] > 500):\n",
    "        return ((row['duration_sum'] - 500) * 3)\n",
    "    else:\n",
    "        return 0\n",
    "    \n",
    "#создадим новый столбец с результатами работы функции 'revenue_calls'\n",
    "calls_month_user_3['revenue_calls_per'] = calls_month_user_3\\\n",
    ".apply(revenue_calls_per, axis=1)\n",
    "#выборочная проверка\n",
    "calls_month_user_3.sample()"
   ]
  },
  {
   "cell_type": "code",
   "execution_count": 44,
   "metadata": {},
   "outputs": [
    {
     "data": {
      "text/html": [
       "<div>\n",
       "<style scoped>\n",
       "    .dataframe tbody tr th:only-of-type {\n",
       "        vertical-align: middle;\n",
       "    }\n",
       "\n",
       "    .dataframe tbody tr th {\n",
       "        vertical-align: top;\n",
       "    }\n",
       "\n",
       "    .dataframe thead th {\n",
       "        text-align: right;\n",
       "    }\n",
       "</style>\n",
       "<table border=\"1\" class=\"dataframe\">\n",
       "  <thead>\n",
       "    <tr style=\"text-align: right;\">\n",
       "      <th></th>\n",
       "      <th>user_id</th>\n",
       "      <th>month</th>\n",
       "      <th>duration_count</th>\n",
       "      <th>duration_sum</th>\n",
       "      <th>age</th>\n",
       "      <th>churn_date</th>\n",
       "      <th>city</th>\n",
       "      <th>first_name</th>\n",
       "      <th>last_name</th>\n",
       "      <th>reg_date</th>\n",
       "      <th>tariff</th>\n",
       "      <th>revenue_calls_per</th>\n",
       "    </tr>\n",
       "  </thead>\n",
       "  <tbody>\n",
       "    <tr>\n",
       "      <td>0</td>\n",
       "      <td>1000</td>\n",
       "      <td>2018-05-01</td>\n",
       "      <td>22</td>\n",
       "      <td>159</td>\n",
       "      <td>52</td>\n",
       "      <td>NaT</td>\n",
       "      <td>Краснодар</td>\n",
       "      <td>Рафаил</td>\n",
       "      <td>Верещагин</td>\n",
       "      <td>2018-05-25</td>\n",
       "      <td>ultra</td>\n",
       "      <td>0</td>\n",
       "    </tr>\n",
       "    <tr>\n",
       "      <td>1</td>\n",
       "      <td>1000</td>\n",
       "      <td>2018-06-01</td>\n",
       "      <td>43</td>\n",
       "      <td>172</td>\n",
       "      <td>52</td>\n",
       "      <td>NaT</td>\n",
       "      <td>Краснодар</td>\n",
       "      <td>Рафаил</td>\n",
       "      <td>Верещагин</td>\n",
       "      <td>2018-05-25</td>\n",
       "      <td>ultra</td>\n",
       "      <td>0</td>\n",
       "    </tr>\n",
       "    <tr>\n",
       "      <td>2</td>\n",
       "      <td>1000</td>\n",
       "      <td>2018-07-01</td>\n",
       "      <td>47</td>\n",
       "      <td>340</td>\n",
       "      <td>52</td>\n",
       "      <td>NaT</td>\n",
       "      <td>Краснодар</td>\n",
       "      <td>Рафаил</td>\n",
       "      <td>Верещагин</td>\n",
       "      <td>2018-05-25</td>\n",
       "      <td>ultra</td>\n",
       "      <td>0</td>\n",
       "    </tr>\n",
       "    <tr>\n",
       "      <td>3</td>\n",
       "      <td>1000</td>\n",
       "      <td>2018-08-01</td>\n",
       "      <td>52</td>\n",
       "      <td>408</td>\n",
       "      <td>52</td>\n",
       "      <td>NaT</td>\n",
       "      <td>Краснодар</td>\n",
       "      <td>Рафаил</td>\n",
       "      <td>Верещагин</td>\n",
       "      <td>2018-05-25</td>\n",
       "      <td>ultra</td>\n",
       "      <td>0</td>\n",
       "    </tr>\n",
       "    <tr>\n",
       "      <td>4</td>\n",
       "      <td>1000</td>\n",
       "      <td>2018-09-01</td>\n",
       "      <td>58</td>\n",
       "      <td>466</td>\n",
       "      <td>52</td>\n",
       "      <td>NaT</td>\n",
       "      <td>Краснодар</td>\n",
       "      <td>Рафаил</td>\n",
       "      <td>Верещагин</td>\n",
       "      <td>2018-05-25</td>\n",
       "      <td>ultra</td>\n",
       "      <td>0</td>\n",
       "    </tr>\n",
       "    <tr>\n",
       "      <td>5</td>\n",
       "      <td>1000</td>\n",
       "      <td>2018-10-01</td>\n",
       "      <td>57</td>\n",
       "      <td>350</td>\n",
       "      <td>52</td>\n",
       "      <td>NaT</td>\n",
       "      <td>Краснодар</td>\n",
       "      <td>Рафаил</td>\n",
       "      <td>Верещагин</td>\n",
       "      <td>2018-05-25</td>\n",
       "      <td>ultra</td>\n",
       "      <td>0</td>\n",
       "    </tr>\n",
       "    <tr>\n",
       "      <td>6</td>\n",
       "      <td>1000</td>\n",
       "      <td>2018-11-01</td>\n",
       "      <td>43</td>\n",
       "      <td>338</td>\n",
       "      <td>52</td>\n",
       "      <td>NaT</td>\n",
       "      <td>Краснодар</td>\n",
       "      <td>Рафаил</td>\n",
       "      <td>Верещагин</td>\n",
       "      <td>2018-05-25</td>\n",
       "      <td>ultra</td>\n",
       "      <td>0</td>\n",
       "    </tr>\n",
       "    <tr>\n",
       "      <td>7</td>\n",
       "      <td>1000</td>\n",
       "      <td>2018-12-01</td>\n",
       "      <td>46</td>\n",
       "      <td>333</td>\n",
       "      <td>52</td>\n",
       "      <td>NaT</td>\n",
       "      <td>Краснодар</td>\n",
       "      <td>Рафаил</td>\n",
       "      <td>Верещагин</td>\n",
       "      <td>2018-05-25</td>\n",
       "      <td>ultra</td>\n",
       "      <td>0</td>\n",
       "    </tr>\n",
       "    <tr>\n",
       "      <td>8</td>\n",
       "      <td>1001</td>\n",
       "      <td>2018-11-01</td>\n",
       "      <td>59</td>\n",
       "      <td>430</td>\n",
       "      <td>41</td>\n",
       "      <td>NaT</td>\n",
       "      <td>Москва</td>\n",
       "      <td>Иван</td>\n",
       "      <td>Ежов</td>\n",
       "      <td>2018-11-01</td>\n",
       "      <td>smart</td>\n",
       "      <td>0</td>\n",
       "    </tr>\n",
       "    <tr>\n",
       "      <td>9</td>\n",
       "      <td>1001</td>\n",
       "      <td>2018-12-01</td>\n",
       "      <td>63</td>\n",
       "      <td>414</td>\n",
       "      <td>41</td>\n",
       "      <td>NaT</td>\n",
       "      <td>Москва</td>\n",
       "      <td>Иван</td>\n",
       "      <td>Ежов</td>\n",
       "      <td>2018-11-01</td>\n",
       "      <td>smart</td>\n",
       "      <td>0</td>\n",
       "    </tr>\n",
       "    <tr>\n",
       "      <td>10</td>\n",
       "      <td>1002</td>\n",
       "      <td>2018-06-01</td>\n",
       "      <td>15</td>\n",
       "      <td>117</td>\n",
       "      <td>59</td>\n",
       "      <td>NaT</td>\n",
       "      <td>Стерлитамак</td>\n",
       "      <td>Евгений</td>\n",
       "      <td>Абрамович</td>\n",
       "      <td>2018-06-17</td>\n",
       "      <td>smart</td>\n",
       "      <td>0</td>\n",
       "    </tr>\n",
       "    <tr>\n",
       "      <td>11</td>\n",
       "      <td>1002</td>\n",
       "      <td>2018-07-01</td>\n",
       "      <td>26</td>\n",
       "      <td>214</td>\n",
       "      <td>59</td>\n",
       "      <td>NaT</td>\n",
       "      <td>Стерлитамак</td>\n",
       "      <td>Евгений</td>\n",
       "      <td>Абрамович</td>\n",
       "      <td>2018-06-17</td>\n",
       "      <td>smart</td>\n",
       "      <td>0</td>\n",
       "    </tr>\n",
       "  </tbody>\n",
       "</table>\n",
       "</div>"
      ],
      "text/plain": [
       "    user_id      month  duration_count  duration_sum  age churn_date  \\\n",
       "0      1000 2018-05-01              22           159   52        NaT   \n",
       "1      1000 2018-06-01              43           172   52        NaT   \n",
       "2      1000 2018-07-01              47           340   52        NaT   \n",
       "3      1000 2018-08-01              52           408   52        NaT   \n",
       "4      1000 2018-09-01              58           466   52        NaT   \n",
       "5      1000 2018-10-01              57           350   52        NaT   \n",
       "6      1000 2018-11-01              43           338   52        NaT   \n",
       "7      1000 2018-12-01              46           333   52        NaT   \n",
       "8      1001 2018-11-01              59           430   41        NaT   \n",
       "9      1001 2018-12-01              63           414   41        NaT   \n",
       "10     1002 2018-06-01              15           117   59        NaT   \n",
       "11     1002 2018-07-01              26           214   59        NaT   \n",
       "\n",
       "           city first_name  last_name   reg_date tariff  revenue_calls_per  \n",
       "0     Краснодар     Рафаил  Верещагин 2018-05-25  ultra                  0  \n",
       "1     Краснодар     Рафаил  Верещагин 2018-05-25  ultra                  0  \n",
       "2     Краснодар     Рафаил  Верещагин 2018-05-25  ultra                  0  \n",
       "3     Краснодар     Рафаил  Верещагин 2018-05-25  ultra                  0  \n",
       "4     Краснодар     Рафаил  Верещагин 2018-05-25  ultra                  0  \n",
       "5     Краснодар     Рафаил  Верещагин 2018-05-25  ultra                  0  \n",
       "6     Краснодар     Рафаил  Верещагин 2018-05-25  ultra                  0  \n",
       "7     Краснодар     Рафаил  Верещагин 2018-05-25  ultra                  0  \n",
       "8        Москва       Иван       Ежов 2018-11-01  smart                  0  \n",
       "9        Москва       Иван       Ежов 2018-11-01  smart                  0  \n",
       "10  Стерлитамак    Евгений  Абрамович 2018-06-17  smart                  0  \n",
       "11  Стерлитамак    Евгений  Абрамович 2018-06-17  smart                  0  "
      ]
     },
     "execution_count": 44,
     "metadata": {},
     "output_type": "execute_result"
    }
   ],
   "source": [
    "calls_month_user_3.columns = ['user_id', 'month', 'duration_count', 'duration_sum',\\\n",
    "'age', 'churn_date', 'city', 'first_name', 'last_name', 'reg_date',\\\n",
    "                              'tariff', 'revenue_calls_per']\n",
    "calls_month_user_3.head(12)"
   ]
  },
  {
   "cell_type": "code",
   "execution_count": 45,
   "metadata": {},
   "outputs": [
    {
     "data": {
      "text/plain": [
       "user_id                 0\n",
       "month                   0\n",
       "duration_count          0\n",
       "duration_sum            0\n",
       "age                     0\n",
       "churn_date           2987\n",
       "city                    0\n",
       "first_name              0\n",
       "last_name               0\n",
       "reg_date                0\n",
       "tariff                  0\n",
       "revenue_calls_per       0\n",
       "dtype: int64"
      ]
     },
     "execution_count": 45,
     "metadata": {},
     "output_type": "execute_result"
    }
   ],
   "source": [
    "calls_month_user_3.isna().sum()"
   ]
  },
  {
   "cell_type": "markdown",
   "metadata": {},
   "source": [
    "#### Количество отправленных сообщений по месяцам."
   ]
  },
  {
   "cell_type": "code",
   "execution_count": 46,
   "metadata": {},
   "outputs": [
    {
     "data": {
      "text/html": [
       "<div>\n",
       "<style scoped>\n",
       "    .dataframe tbody tr th:only-of-type {\n",
       "        vertical-align: middle;\n",
       "    }\n",
       "\n",
       "    .dataframe tbody tr th {\n",
       "        vertical-align: top;\n",
       "    }\n",
       "\n",
       "    .dataframe thead th {\n",
       "        text-align: right;\n",
       "    }\n",
       "</style>\n",
       "<table border=\"1\" class=\"dataframe\">\n",
       "  <thead>\n",
       "    <tr style=\"text-align: right;\">\n",
       "      <th></th>\n",
       "      <th>id</th>\n",
       "      <th>message_date</th>\n",
       "      <th>user_id</th>\n",
       "    </tr>\n",
       "  </thead>\n",
       "  <tbody>\n",
       "    <tr>\n",
       "      <td>0</td>\n",
       "      <td>1000_0</td>\n",
       "      <td>2018-06-27</td>\n",
       "      <td>1000</td>\n",
       "    </tr>\n",
       "    <tr>\n",
       "      <td>1</td>\n",
       "      <td>1000_1</td>\n",
       "      <td>2018-10-08</td>\n",
       "      <td>1000</td>\n",
       "    </tr>\n",
       "    <tr>\n",
       "      <td>2</td>\n",
       "      <td>1000_2</td>\n",
       "      <td>2018-08-04</td>\n",
       "      <td>1000</td>\n",
       "    </tr>\n",
       "    <tr>\n",
       "      <td>3</td>\n",
       "      <td>1000_3</td>\n",
       "      <td>2018-06-16</td>\n",
       "      <td>1000</td>\n",
       "    </tr>\n",
       "    <tr>\n",
       "      <td>4</td>\n",
       "      <td>1000_4</td>\n",
       "      <td>2018-12-05</td>\n",
       "      <td>1000</td>\n",
       "    </tr>\n",
       "  </tbody>\n",
       "</table>\n",
       "</div>"
      ],
      "text/plain": [
       "       id message_date  user_id\n",
       "0  1000_0   2018-06-27     1000\n",
       "1  1000_1   2018-10-08     1000\n",
       "2  1000_2   2018-08-04     1000\n",
       "3  1000_3   2018-06-16     1000\n",
       "4  1000_4   2018-12-05     1000"
      ]
     },
     "execution_count": 46,
     "metadata": {},
     "output_type": "execute_result"
    }
   ],
   "source": [
    "messages.head()"
   ]
  },
  {
   "cell_type": "code",
   "execution_count": 47,
   "metadata": {},
   "outputs": [
    {
     "data": {
      "text/html": [
       "<div>\n",
       "<style scoped>\n",
       "    .dataframe tbody tr th:only-of-type {\n",
       "        vertical-align: middle;\n",
       "    }\n",
       "\n",
       "    .dataframe tbody tr th {\n",
       "        vertical-align: top;\n",
       "    }\n",
       "\n",
       "    .dataframe thead th {\n",
       "        text-align: right;\n",
       "    }\n",
       "</style>\n",
       "<table border=\"1\" class=\"dataframe\">\n",
       "  <thead>\n",
       "    <tr style=\"text-align: right;\">\n",
       "      <th></th>\n",
       "      <th>id</th>\n",
       "      <th>message_date</th>\n",
       "      <th>user_id</th>\n",
       "      <th>message_date_month</th>\n",
       "    </tr>\n",
       "  </thead>\n",
       "  <tbody>\n",
       "    <tr>\n",
       "      <td>0</td>\n",
       "      <td>1000_0</td>\n",
       "      <td>2018-06-27</td>\n",
       "      <td>1000</td>\n",
       "      <td>2018-06-01</td>\n",
       "    </tr>\n",
       "    <tr>\n",
       "      <td>1</td>\n",
       "      <td>1000_1</td>\n",
       "      <td>2018-10-08</td>\n",
       "      <td>1000</td>\n",
       "      <td>2018-10-01</td>\n",
       "    </tr>\n",
       "    <tr>\n",
       "      <td>2</td>\n",
       "      <td>1000_2</td>\n",
       "      <td>2018-08-04</td>\n",
       "      <td>1000</td>\n",
       "      <td>2018-08-01</td>\n",
       "    </tr>\n",
       "    <tr>\n",
       "      <td>3</td>\n",
       "      <td>1000_3</td>\n",
       "      <td>2018-06-16</td>\n",
       "      <td>1000</td>\n",
       "      <td>2018-06-01</td>\n",
       "    </tr>\n",
       "    <tr>\n",
       "      <td>4</td>\n",
       "      <td>1000_4</td>\n",
       "      <td>2018-12-05</td>\n",
       "      <td>1000</td>\n",
       "      <td>2018-12-01</td>\n",
       "    </tr>\n",
       "  </tbody>\n",
       "</table>\n",
       "</div>"
      ],
      "text/plain": [
       "       id message_date  user_id message_date_month\n",
       "0  1000_0   2018-06-27     1000         2018-06-01\n",
       "1  1000_1   2018-10-08     1000         2018-10-01\n",
       "2  1000_2   2018-08-04     1000         2018-08-01\n",
       "3  1000_3   2018-06-16     1000         2018-06-01\n",
       "4  1000_4   2018-12-05     1000         2018-12-01"
      ]
     },
     "execution_count": 47,
     "metadata": {},
     "output_type": "execute_result"
    }
   ],
   "source": [
    "# выделяем месяц \n",
    "messages['message_date_month'] = messages['message_date'].astype ('datetime64[M]')\n",
    "messages.head()"
   ]
  },
  {
   "cell_type": "code",
   "execution_count": 48,
   "metadata": {},
   "outputs": [
    {
     "data": {
      "text/html": [
       "<div>\n",
       "<style scoped>\n",
       "    .dataframe tbody tr th:only-of-type {\n",
       "        vertical-align: middle;\n",
       "    }\n",
       "\n",
       "    .dataframe tbody tr th {\n",
       "        vertical-align: top;\n",
       "    }\n",
       "\n",
       "    .dataframe thead tr th {\n",
       "        text-align: left;\n",
       "    }\n",
       "</style>\n",
       "<table border=\"1\" class=\"dataframe\">\n",
       "  <thead>\n",
       "    <tr>\n",
       "      <th></th>\n",
       "      <th>user_id</th>\n",
       "      <th>message_date_month</th>\n",
       "      <th>id</th>\n",
       "    </tr>\n",
       "    <tr>\n",
       "      <th></th>\n",
       "      <th></th>\n",
       "      <th></th>\n",
       "      <th>count</th>\n",
       "    </tr>\n",
       "  </thead>\n",
       "  <tbody>\n",
       "    <tr>\n",
       "      <td>0</td>\n",
       "      <td>1000</td>\n",
       "      <td>2018-05-01</td>\n",
       "      <td>22</td>\n",
       "    </tr>\n",
       "    <tr>\n",
       "      <td>1</td>\n",
       "      <td>1000</td>\n",
       "      <td>2018-06-01</td>\n",
       "      <td>60</td>\n",
       "    </tr>\n",
       "    <tr>\n",
       "      <td>2</td>\n",
       "      <td>1000</td>\n",
       "      <td>2018-07-01</td>\n",
       "      <td>75</td>\n",
       "    </tr>\n",
       "    <tr>\n",
       "      <td>3</td>\n",
       "      <td>1000</td>\n",
       "      <td>2018-08-01</td>\n",
       "      <td>81</td>\n",
       "    </tr>\n",
       "    <tr>\n",
       "      <td>4</td>\n",
       "      <td>1000</td>\n",
       "      <td>2018-09-01</td>\n",
       "      <td>57</td>\n",
       "    </tr>\n",
       "    <tr>\n",
       "      <td>5</td>\n",
       "      <td>1000</td>\n",
       "      <td>2018-10-01</td>\n",
       "      <td>73</td>\n",
       "    </tr>\n",
       "    <tr>\n",
       "      <td>6</td>\n",
       "      <td>1000</td>\n",
       "      <td>2018-11-01</td>\n",
       "      <td>58</td>\n",
       "    </tr>\n",
       "    <tr>\n",
       "      <td>7</td>\n",
       "      <td>1000</td>\n",
       "      <td>2018-12-01</td>\n",
       "      <td>70</td>\n",
       "    </tr>\n",
       "    <tr>\n",
       "      <td>8</td>\n",
       "      <td>1002</td>\n",
       "      <td>2018-06-01</td>\n",
       "      <td>4</td>\n",
       "    </tr>\n",
       "    <tr>\n",
       "      <td>9</td>\n",
       "      <td>1002</td>\n",
       "      <td>2018-07-01</td>\n",
       "      <td>11</td>\n",
       "    </tr>\n",
       "    <tr>\n",
       "      <td>10</td>\n",
       "      <td>1002</td>\n",
       "      <td>2018-08-01</td>\n",
       "      <td>13</td>\n",
       "    </tr>\n",
       "    <tr>\n",
       "      <td>11</td>\n",
       "      <td>1002</td>\n",
       "      <td>2018-09-01</td>\n",
       "      <td>4</td>\n",
       "    </tr>\n",
       "  </tbody>\n",
       "</table>\n",
       "</div>"
      ],
      "text/plain": [
       "   user_id message_date_month    id\n",
       "                              count\n",
       "0     1000         2018-05-01    22\n",
       "1     1000         2018-06-01    60\n",
       "2     1000         2018-07-01    75\n",
       "3     1000         2018-08-01    81\n",
       "4     1000         2018-09-01    57\n",
       "5     1000         2018-10-01    73\n",
       "6     1000         2018-11-01    58\n",
       "7     1000         2018-12-01    70\n",
       "8     1002         2018-06-01     4\n",
       "9     1002         2018-07-01    11\n",
       "10    1002         2018-08-01    13\n",
       "11    1002         2018-09-01     4"
      ]
     },
     "execution_count": 48,
     "metadata": {},
     "output_type": "execute_result"
    }
   ],
   "source": [
    "#сгруппируем по пользователю и месяцу,\n",
    "#и поситаем количество сообщений\n",
    "#сбросим индексы\n",
    "messages_month_user_2 = pd.DataFrame(messages.groupby(['user_id','message_date_month'])\\\n",
    "                                  [['id']].agg(['count'])\\\n",
    "                                  ).reset_index()\n",
    "messages_month_user_2.head(12)   "
   ]
  },
  {
   "cell_type": "code",
   "execution_count": 49,
   "metadata": {},
   "outputs": [
    {
     "data": {
      "text/html": [
       "<div>\n",
       "<style scoped>\n",
       "    .dataframe tbody tr th:only-of-type {\n",
       "        vertical-align: middle;\n",
       "    }\n",
       "\n",
       "    .dataframe tbody tr th {\n",
       "        vertical-align: top;\n",
       "    }\n",
       "\n",
       "    .dataframe thead th {\n",
       "        text-align: right;\n",
       "    }\n",
       "</style>\n",
       "<table border=\"1\" class=\"dataframe\">\n",
       "  <thead>\n",
       "    <tr style=\"text-align: right;\">\n",
       "      <th></th>\n",
       "      <th>user_id</th>\n",
       "      <th>age</th>\n",
       "      <th>churn_date</th>\n",
       "      <th>city</th>\n",
       "      <th>first_name</th>\n",
       "      <th>last_name</th>\n",
       "      <th>reg_date</th>\n",
       "      <th>tariff</th>\n",
       "    </tr>\n",
       "  </thead>\n",
       "  <tbody>\n",
       "    <tr>\n",
       "      <td>0</td>\n",
       "      <td>1000</td>\n",
       "      <td>52</td>\n",
       "      <td>NaT</td>\n",
       "      <td>Краснодар</td>\n",
       "      <td>Рафаил</td>\n",
       "      <td>Верещагин</td>\n",
       "      <td>2018-05-25</td>\n",
       "      <td>ultra</td>\n",
       "    </tr>\n",
       "    <tr>\n",
       "      <td>1</td>\n",
       "      <td>1001</td>\n",
       "      <td>41</td>\n",
       "      <td>NaT</td>\n",
       "      <td>Москва</td>\n",
       "      <td>Иван</td>\n",
       "      <td>Ежов</td>\n",
       "      <td>2018-11-01</td>\n",
       "      <td>smart</td>\n",
       "    </tr>\n",
       "    <tr>\n",
       "      <td>2</td>\n",
       "      <td>1002</td>\n",
       "      <td>59</td>\n",
       "      <td>NaT</td>\n",
       "      <td>Стерлитамак</td>\n",
       "      <td>Евгений</td>\n",
       "      <td>Абрамович</td>\n",
       "      <td>2018-06-17</td>\n",
       "      <td>smart</td>\n",
       "    </tr>\n",
       "    <tr>\n",
       "      <td>3</td>\n",
       "      <td>1003</td>\n",
       "      <td>23</td>\n",
       "      <td>NaT</td>\n",
       "      <td>Москва</td>\n",
       "      <td>Белла</td>\n",
       "      <td>Белякова</td>\n",
       "      <td>2018-08-17</td>\n",
       "      <td>ultra</td>\n",
       "    </tr>\n",
       "    <tr>\n",
       "      <td>4</td>\n",
       "      <td>1004</td>\n",
       "      <td>68</td>\n",
       "      <td>NaT</td>\n",
       "      <td>Новокузнецк</td>\n",
       "      <td>Татьяна</td>\n",
       "      <td>Авдеенко</td>\n",
       "      <td>2018-05-14</td>\n",
       "      <td>ultra</td>\n",
       "    </tr>\n",
       "  </tbody>\n",
       "</table>\n",
       "</div>"
      ],
      "text/plain": [
       "   user_id  age churn_date         city first_name  last_name   reg_date  \\\n",
       "0     1000   52        NaT    Краснодар     Рафаил  Верещагин 2018-05-25   \n",
       "1     1001   41        NaT       Москва       Иван       Ежов 2018-11-01   \n",
       "2     1002   59        NaT  Стерлитамак    Евгений  Абрамович 2018-06-17   \n",
       "3     1003   23        NaT       Москва      Белла   Белякова 2018-08-17   \n",
       "4     1004   68        NaT  Новокузнецк    Татьяна   Авдеенко 2018-05-14   \n",
       "\n",
       "  tariff  \n",
       "0  ultra  \n",
       "1  smart  \n",
       "2  smart  \n",
       "3  ultra  \n",
       "4  ultra  "
      ]
     },
     "execution_count": 49,
     "metadata": {},
     "output_type": "execute_result"
    }
   ],
   "source": [
    "users.head()"
   ]
  },
  {
   "cell_type": "code",
   "execution_count": 50,
   "metadata": {},
   "outputs": [
    {
     "data": {
      "text/html": [
       "<div>\n",
       "<style scoped>\n",
       "    .dataframe tbody tr th:only-of-type {\n",
       "        vertical-align: middle;\n",
       "    }\n",
       "\n",
       "    .dataframe tbody tr th {\n",
       "        vertical-align: top;\n",
       "    }\n",
       "\n",
       "    .dataframe thead th {\n",
       "        text-align: right;\n",
       "    }\n",
       "</style>\n",
       "<table border=\"1\" class=\"dataframe\">\n",
       "  <thead>\n",
       "    <tr style=\"text-align: right;\">\n",
       "      <th></th>\n",
       "      <th>user_id</th>\n",
       "      <th>(user_id, )</th>\n",
       "      <th>(message_date_month, )</th>\n",
       "      <th>(id, count)</th>\n",
       "      <th>age</th>\n",
       "      <th>churn_date</th>\n",
       "      <th>city</th>\n",
       "      <th>first_name</th>\n",
       "      <th>last_name</th>\n",
       "      <th>reg_date</th>\n",
       "      <th>tariff</th>\n",
       "    </tr>\n",
       "  </thead>\n",
       "  <tbody>\n",
       "    <tr>\n",
       "      <td>0</td>\n",
       "      <td>1000</td>\n",
       "      <td>1000</td>\n",
       "      <td>2018-05-01</td>\n",
       "      <td>22</td>\n",
       "      <td>52</td>\n",
       "      <td>NaT</td>\n",
       "      <td>Краснодар</td>\n",
       "      <td>Рафаил</td>\n",
       "      <td>Верещагин</td>\n",
       "      <td>2018-05-25</td>\n",
       "      <td>ultra</td>\n",
       "    </tr>\n",
       "    <tr>\n",
       "      <td>1</td>\n",
       "      <td>1000</td>\n",
       "      <td>1000</td>\n",
       "      <td>2018-06-01</td>\n",
       "      <td>60</td>\n",
       "      <td>52</td>\n",
       "      <td>NaT</td>\n",
       "      <td>Краснодар</td>\n",
       "      <td>Рафаил</td>\n",
       "      <td>Верещагин</td>\n",
       "      <td>2018-05-25</td>\n",
       "      <td>ultra</td>\n",
       "    </tr>\n",
       "    <tr>\n",
       "      <td>2</td>\n",
       "      <td>1000</td>\n",
       "      <td>1000</td>\n",
       "      <td>2018-07-01</td>\n",
       "      <td>75</td>\n",
       "      <td>52</td>\n",
       "      <td>NaT</td>\n",
       "      <td>Краснодар</td>\n",
       "      <td>Рафаил</td>\n",
       "      <td>Верещагин</td>\n",
       "      <td>2018-05-25</td>\n",
       "      <td>ultra</td>\n",
       "    </tr>\n",
       "    <tr>\n",
       "      <td>3</td>\n",
       "      <td>1000</td>\n",
       "      <td>1000</td>\n",
       "      <td>2018-08-01</td>\n",
       "      <td>81</td>\n",
       "      <td>52</td>\n",
       "      <td>NaT</td>\n",
       "      <td>Краснодар</td>\n",
       "      <td>Рафаил</td>\n",
       "      <td>Верещагин</td>\n",
       "      <td>2018-05-25</td>\n",
       "      <td>ultra</td>\n",
       "    </tr>\n",
       "    <tr>\n",
       "      <td>4</td>\n",
       "      <td>1000</td>\n",
       "      <td>1000</td>\n",
       "      <td>2018-09-01</td>\n",
       "      <td>57</td>\n",
       "      <td>52</td>\n",
       "      <td>NaT</td>\n",
       "      <td>Краснодар</td>\n",
       "      <td>Рафаил</td>\n",
       "      <td>Верещагин</td>\n",
       "      <td>2018-05-25</td>\n",
       "      <td>ultra</td>\n",
       "    </tr>\n",
       "    <tr>\n",
       "      <td>5</td>\n",
       "      <td>1000</td>\n",
       "      <td>1000</td>\n",
       "      <td>2018-10-01</td>\n",
       "      <td>73</td>\n",
       "      <td>52</td>\n",
       "      <td>NaT</td>\n",
       "      <td>Краснодар</td>\n",
       "      <td>Рафаил</td>\n",
       "      <td>Верещагин</td>\n",
       "      <td>2018-05-25</td>\n",
       "      <td>ultra</td>\n",
       "    </tr>\n",
       "    <tr>\n",
       "      <td>6</td>\n",
       "      <td>1000</td>\n",
       "      <td>1000</td>\n",
       "      <td>2018-11-01</td>\n",
       "      <td>58</td>\n",
       "      <td>52</td>\n",
       "      <td>NaT</td>\n",
       "      <td>Краснодар</td>\n",
       "      <td>Рафаил</td>\n",
       "      <td>Верещагин</td>\n",
       "      <td>2018-05-25</td>\n",
       "      <td>ultra</td>\n",
       "    </tr>\n",
       "    <tr>\n",
       "      <td>7</td>\n",
       "      <td>1000</td>\n",
       "      <td>1000</td>\n",
       "      <td>2018-12-01</td>\n",
       "      <td>70</td>\n",
       "      <td>52</td>\n",
       "      <td>NaT</td>\n",
       "      <td>Краснодар</td>\n",
       "      <td>Рафаил</td>\n",
       "      <td>Верещагин</td>\n",
       "      <td>2018-05-25</td>\n",
       "      <td>ultra</td>\n",
       "    </tr>\n",
       "    <tr>\n",
       "      <td>8</td>\n",
       "      <td>1002</td>\n",
       "      <td>1002</td>\n",
       "      <td>2018-06-01</td>\n",
       "      <td>4</td>\n",
       "      <td>59</td>\n",
       "      <td>NaT</td>\n",
       "      <td>Стерлитамак</td>\n",
       "      <td>Евгений</td>\n",
       "      <td>Абрамович</td>\n",
       "      <td>2018-06-17</td>\n",
       "      <td>smart</td>\n",
       "    </tr>\n",
       "    <tr>\n",
       "      <td>9</td>\n",
       "      <td>1002</td>\n",
       "      <td>1002</td>\n",
       "      <td>2018-07-01</td>\n",
       "      <td>11</td>\n",
       "      <td>59</td>\n",
       "      <td>NaT</td>\n",
       "      <td>Стерлитамак</td>\n",
       "      <td>Евгений</td>\n",
       "      <td>Абрамович</td>\n",
       "      <td>2018-06-17</td>\n",
       "      <td>smart</td>\n",
       "    </tr>\n",
       "    <tr>\n",
       "      <td>10</td>\n",
       "      <td>1002</td>\n",
       "      <td>1002</td>\n",
       "      <td>2018-08-01</td>\n",
       "      <td>13</td>\n",
       "      <td>59</td>\n",
       "      <td>NaT</td>\n",
       "      <td>Стерлитамак</td>\n",
       "      <td>Евгений</td>\n",
       "      <td>Абрамович</td>\n",
       "      <td>2018-06-17</td>\n",
       "      <td>smart</td>\n",
       "    </tr>\n",
       "    <tr>\n",
       "      <td>11</td>\n",
       "      <td>1002</td>\n",
       "      <td>1002</td>\n",
       "      <td>2018-09-01</td>\n",
       "      <td>4</td>\n",
       "      <td>59</td>\n",
       "      <td>NaT</td>\n",
       "      <td>Стерлитамак</td>\n",
       "      <td>Евгений</td>\n",
       "      <td>Абрамович</td>\n",
       "      <td>2018-06-17</td>\n",
       "      <td>smart</td>\n",
       "    </tr>\n",
       "  </tbody>\n",
       "</table>\n",
       "</div>"
      ],
      "text/plain": [
       "    user_id  (user_id, ) (message_date_month, )  (id, count)  age churn_date  \\\n",
       "0      1000         1000             2018-05-01           22   52        NaT   \n",
       "1      1000         1000             2018-06-01           60   52        NaT   \n",
       "2      1000         1000             2018-07-01           75   52        NaT   \n",
       "3      1000         1000             2018-08-01           81   52        NaT   \n",
       "4      1000         1000             2018-09-01           57   52        NaT   \n",
       "5      1000         1000             2018-10-01           73   52        NaT   \n",
       "6      1000         1000             2018-11-01           58   52        NaT   \n",
       "7      1000         1000             2018-12-01           70   52        NaT   \n",
       "8      1002         1002             2018-06-01            4   59        NaT   \n",
       "9      1002         1002             2018-07-01           11   59        NaT   \n",
       "10     1002         1002             2018-08-01           13   59        NaT   \n",
       "11     1002         1002             2018-09-01            4   59        NaT   \n",
       "\n",
       "           city first_name  last_name   reg_date tariff  \n",
       "0     Краснодар     Рафаил  Верещагин 2018-05-25  ultra  \n",
       "1     Краснодар     Рафаил  Верещагин 2018-05-25  ultra  \n",
       "2     Краснодар     Рафаил  Верещагин 2018-05-25  ultra  \n",
       "3     Краснодар     Рафаил  Верещагин 2018-05-25  ultra  \n",
       "4     Краснодар     Рафаил  Верещагин 2018-05-25  ultra  \n",
       "5     Краснодар     Рафаил  Верещагин 2018-05-25  ultra  \n",
       "6     Краснодар     Рафаил  Верещагин 2018-05-25  ultra  \n",
       "7     Краснодар     Рафаил  Верещагин 2018-05-25  ultra  \n",
       "8   Стерлитамак    Евгений  Абрамович 2018-06-17  smart  \n",
       "9   Стерлитамак    Евгений  Абрамович 2018-06-17  smart  \n",
       "10  Стерлитамак    Евгений  Абрамович 2018-06-17  smart  \n",
       "11  Стерлитамак    Евгений  Абрамович 2018-06-17  smart  "
      ]
     },
     "execution_count": 50,
     "metadata": {},
     "output_type": "execute_result"
    }
   ],
   "source": [
    "#объединим два датасета\n",
    "messages_month_user_3 = messages_month_user_2.\\\n",
    "merge(users, on='user_id', how='left')\n",
    "messages_month_user_3.head(12)"
   ]
  },
  {
   "cell_type": "code",
   "execution_count": 51,
   "metadata": {},
   "outputs": [
    {
     "data": {
      "text/html": [
       "<div>\n",
       "<style scoped>\n",
       "    .dataframe tbody tr th:only-of-type {\n",
       "        vertical-align: middle;\n",
       "    }\n",
       "\n",
       "    .dataframe tbody tr th {\n",
       "        vertical-align: top;\n",
       "    }\n",
       "\n",
       "    .dataframe thead th {\n",
       "        text-align: right;\n",
       "    }\n",
       "</style>\n",
       "<table border=\"1\" class=\"dataframe\">\n",
       "  <thead>\n",
       "    <tr style=\"text-align: right;\">\n",
       "      <th></th>\n",
       "      <th>user_id</th>\n",
       "      <th>message_date_month</th>\n",
       "      <th>id_count</th>\n",
       "      <th>age</th>\n",
       "      <th>churn_date</th>\n",
       "      <th>city</th>\n",
       "      <th>first_name</th>\n",
       "      <th>last_name</th>\n",
       "      <th>reg_date</th>\n",
       "      <th>tariff</th>\n",
       "    </tr>\n",
       "  </thead>\n",
       "  <tbody>\n",
       "    <tr>\n",
       "      <td>0</td>\n",
       "      <td>1000</td>\n",
       "      <td>2018-05-01</td>\n",
       "      <td>22</td>\n",
       "      <td>52</td>\n",
       "      <td>NaT</td>\n",
       "      <td>Краснодар</td>\n",
       "      <td>Рафаил</td>\n",
       "      <td>Верещагин</td>\n",
       "      <td>2018-05-25</td>\n",
       "      <td>ultra</td>\n",
       "    </tr>\n",
       "    <tr>\n",
       "      <td>1</td>\n",
       "      <td>1000</td>\n",
       "      <td>2018-06-01</td>\n",
       "      <td>60</td>\n",
       "      <td>52</td>\n",
       "      <td>NaT</td>\n",
       "      <td>Краснодар</td>\n",
       "      <td>Рафаил</td>\n",
       "      <td>Верещагин</td>\n",
       "      <td>2018-05-25</td>\n",
       "      <td>ultra</td>\n",
       "    </tr>\n",
       "    <tr>\n",
       "      <td>2</td>\n",
       "      <td>1000</td>\n",
       "      <td>2018-07-01</td>\n",
       "      <td>75</td>\n",
       "      <td>52</td>\n",
       "      <td>NaT</td>\n",
       "      <td>Краснодар</td>\n",
       "      <td>Рафаил</td>\n",
       "      <td>Верещагин</td>\n",
       "      <td>2018-05-25</td>\n",
       "      <td>ultra</td>\n",
       "    </tr>\n",
       "    <tr>\n",
       "      <td>3</td>\n",
       "      <td>1000</td>\n",
       "      <td>2018-08-01</td>\n",
       "      <td>81</td>\n",
       "      <td>52</td>\n",
       "      <td>NaT</td>\n",
       "      <td>Краснодар</td>\n",
       "      <td>Рафаил</td>\n",
       "      <td>Верещагин</td>\n",
       "      <td>2018-05-25</td>\n",
       "      <td>ultra</td>\n",
       "    </tr>\n",
       "    <tr>\n",
       "      <td>4</td>\n",
       "      <td>1000</td>\n",
       "      <td>2018-09-01</td>\n",
       "      <td>57</td>\n",
       "      <td>52</td>\n",
       "      <td>NaT</td>\n",
       "      <td>Краснодар</td>\n",
       "      <td>Рафаил</td>\n",
       "      <td>Верещагин</td>\n",
       "      <td>2018-05-25</td>\n",
       "      <td>ultra</td>\n",
       "    </tr>\n",
       "  </tbody>\n",
       "</table>\n",
       "</div>"
      ],
      "text/plain": [
       "   user_id message_date_month  id_count  age churn_date       city first_name  \\\n",
       "0     1000         2018-05-01        22   52        NaT  Краснодар     Рафаил   \n",
       "1     1000         2018-06-01        60   52        NaT  Краснодар     Рафаил   \n",
       "2     1000         2018-07-01        75   52        NaT  Краснодар     Рафаил   \n",
       "3     1000         2018-08-01        81   52        NaT  Краснодар     Рафаил   \n",
       "4     1000         2018-09-01        57   52        NaT  Краснодар     Рафаил   \n",
       "\n",
       "   last_name   reg_date tariff  \n",
       "0  Верещагин 2018-05-25  ultra  \n",
       "1  Верещагин 2018-05-25  ultra  \n",
       "2  Верещагин 2018-05-25  ultra  \n",
       "3  Верещагин 2018-05-25  ultra  \n",
       "4  Верещагин 2018-05-25  ultra  "
      ]
     },
     "execution_count": 51,
     "metadata": {},
     "output_type": "execute_result"
    }
   ],
   "source": [
    "#переименуем столбцы\n",
    "messages_month_user_3.columns=['user_id', 'user_id_1', 'message_date_month',\\\n",
    "                               'id_count',\\\n",
    "                           'age', 'churn_date', 'city', 'first_name', 'last_name',\\\n",
    "                           'reg_date', 'tariff']\n",
    "messages_month_user_3 = messages_month_user_3.drop('user_id_1',1)\n",
    "messages_month_user_3.head()"
   ]
  },
  {
   "cell_type": "markdown",
   "metadata": {},
   "source": [
    "Подсчитаем выручку от \"платные\" сообщения (revenue_messages_per)."
   ]
  },
  {
   "cell_type": "code",
   "execution_count": 52,
   "metadata": {},
   "outputs": [
    {
     "data": {
      "text/html": [
       "<div>\n",
       "<style scoped>\n",
       "    .dataframe tbody tr th:only-of-type {\n",
       "        vertical-align: middle;\n",
       "    }\n",
       "\n",
       "    .dataframe tbody tr th {\n",
       "        vertical-align: top;\n",
       "    }\n",
       "\n",
       "    .dataframe thead th {\n",
       "        text-align: right;\n",
       "    }\n",
       "</style>\n",
       "<table border=\"1\" class=\"dataframe\">\n",
       "  <thead>\n",
       "    <tr style=\"text-align: right;\">\n",
       "      <th></th>\n",
       "      <th>user_id</th>\n",
       "      <th>message_date_month</th>\n",
       "      <th>id_count</th>\n",
       "      <th>age</th>\n",
       "      <th>churn_date</th>\n",
       "      <th>city</th>\n",
       "      <th>first_name</th>\n",
       "      <th>last_name</th>\n",
       "      <th>reg_date</th>\n",
       "      <th>tariff</th>\n",
       "      <th>revenue_messages_per</th>\n",
       "    </tr>\n",
       "  </thead>\n",
       "  <tbody>\n",
       "    <tr>\n",
       "      <td>721</td>\n",
       "      <td>1135</td>\n",
       "      <td>2018-06-01</td>\n",
       "      <td>25</td>\n",
       "      <td>64</td>\n",
       "      <td>NaT</td>\n",
       "      <td>Архангельск</td>\n",
       "      <td>Милена</td>\n",
       "      <td>Воронина</td>\n",
       "      <td>2018-01-29</td>\n",
       "      <td>smart</td>\n",
       "      <td>0</td>\n",
       "    </tr>\n",
       "  </tbody>\n",
       "</table>\n",
       "</div>"
      ],
      "text/plain": [
       "     user_id message_date_month  id_count  age churn_date         city  \\\n",
       "721     1135         2018-06-01        25   64        NaT  Архангельск   \n",
       "\n",
       "    first_name last_name   reg_date tariff  revenue_messages_per  \n",
       "721     Милена  Воронина 2018-01-29  smart                     0  "
      ]
     },
     "execution_count": 52,
     "metadata": {},
     "output_type": "execute_result"
    }
   ],
   "source": [
    "def revenue_messages_per (row):\n",
    "    \"\"\"\n",
    "    функция, которая считает выручку с каждого пользователя:\n",
    "    - если тариф \"Ультра\" и суммарное количество сообщений больше 1000, то:\n",
    "      revenue_messagess_per = ((суммарное количество сообщений - бесплатный лимит звонков) * 1)\n",
    "    - если тариф \"Ультра\" и суммарное количество сообщений меньше или равно 1000, то: \n",
    "      revenue_messages_per = 0\n",
    "    - если тариф \"Смарт\" и суммарное количество сообщений больше 50, то: \n",
    "      revenue_messages_per = (суммарное количество звонковм - бесплатный лимит звонков) * 3) \n",
    "    - иначе:\n",
    "      revenue_messages_per = 0\n",
    "    \"\"\"\n",
    "    if (row['tariff'] == 'ultra' and row['id_count'] > 1000):\n",
    "        return ((row['id_count'] - 1000) * 1)\n",
    "    if (row['tariff'] == 'ultra' and row['id_count'] <= 1000):\n",
    "        return 0\n",
    "    if (row['tariff'] == 'smart' and row['id_count'] > 50):\n",
    "        return ((row['id_count'] - 50) * 3)\n",
    "    else:\n",
    "        return 0\n",
    "    \n",
    "#создадим новый столбец с результатами работы функции 'revenue_messages_per'\n",
    "messages_month_user_3['revenue_messages_per'] = messages_month_user_3\\\n",
    ".apply(revenue_messages_per, axis=1)\n",
    "#выборочная проверка\n",
    "messages_month_user_3.sample()"
   ]
  },
  {
   "cell_type": "code",
   "execution_count": 53,
   "metadata": {},
   "outputs": [
    {
     "data": {
      "text/html": [
       "<div>\n",
       "<style scoped>\n",
       "    .dataframe tbody tr th:only-of-type {\n",
       "        vertical-align: middle;\n",
       "    }\n",
       "\n",
       "    .dataframe tbody tr th {\n",
       "        vertical-align: top;\n",
       "    }\n",
       "\n",
       "    .dataframe thead th {\n",
       "        text-align: right;\n",
       "    }\n",
       "</style>\n",
       "<table border=\"1\" class=\"dataframe\">\n",
       "  <thead>\n",
       "    <tr style=\"text-align: right;\">\n",
       "      <th></th>\n",
       "      <th>user_id</th>\n",
       "      <th>message_date_month</th>\n",
       "      <th>id_count</th>\n",
       "      <th>revenue_messages_per</th>\n",
       "    </tr>\n",
       "  </thead>\n",
       "  <tbody>\n",
       "    <tr>\n",
       "      <td>0</td>\n",
       "      <td>1000</td>\n",
       "      <td>2018-05-01</td>\n",
       "      <td>22</td>\n",
       "      <td>0</td>\n",
       "    </tr>\n",
       "    <tr>\n",
       "      <td>1</td>\n",
       "      <td>1000</td>\n",
       "      <td>2018-06-01</td>\n",
       "      <td>60</td>\n",
       "      <td>0</td>\n",
       "    </tr>\n",
       "    <tr>\n",
       "      <td>2</td>\n",
       "      <td>1000</td>\n",
       "      <td>2018-07-01</td>\n",
       "      <td>75</td>\n",
       "      <td>0</td>\n",
       "    </tr>\n",
       "    <tr>\n",
       "      <td>3</td>\n",
       "      <td>1000</td>\n",
       "      <td>2018-08-01</td>\n",
       "      <td>81</td>\n",
       "      <td>0</td>\n",
       "    </tr>\n",
       "    <tr>\n",
       "      <td>4</td>\n",
       "      <td>1000</td>\n",
       "      <td>2018-09-01</td>\n",
       "      <td>57</td>\n",
       "      <td>0</td>\n",
       "    </tr>\n",
       "  </tbody>\n",
       "</table>\n",
       "</div>"
      ],
      "text/plain": [
       "   user_id message_date_month  id_count  revenue_messages_per\n",
       "0     1000         2018-05-01        22                     0\n",
       "1     1000         2018-06-01        60                     0\n",
       "2     1000         2018-07-01        75                     0\n",
       "3     1000         2018-08-01        81                     0\n",
       "4     1000         2018-09-01        57                     0"
      ]
     },
     "execution_count": 53,
     "metadata": {},
     "output_type": "execute_result"
    }
   ],
   "source": [
    "messages_month_user_4 = messages_month_user_3[['user_id',\\\n",
    "                       'message_date_month', 'id_count', 'revenue_messages_per']]\n",
    "messages_month_user_4.head()"
   ]
  },
  {
   "cell_type": "code",
   "execution_count": 54,
   "metadata": {},
   "outputs": [
    {
     "data": {
      "text/html": [
       "<div>\n",
       "<style scoped>\n",
       "    .dataframe tbody tr th:only-of-type {\n",
       "        vertical-align: middle;\n",
       "    }\n",
       "\n",
       "    .dataframe tbody tr th {\n",
       "        vertical-align: top;\n",
       "    }\n",
       "\n",
       "    .dataframe thead th {\n",
       "        text-align: right;\n",
       "    }\n",
       "</style>\n",
       "<table border=\"1\" class=\"dataframe\">\n",
       "  <thead>\n",
       "    <tr style=\"text-align: right;\">\n",
       "      <th></th>\n",
       "      <th>user_id</th>\n",
       "      <th>month</th>\n",
       "      <th>id_count</th>\n",
       "      <th>revenue_messages_per</th>\n",
       "    </tr>\n",
       "  </thead>\n",
       "  <tbody>\n",
       "    <tr>\n",
       "      <td>0</td>\n",
       "      <td>1000</td>\n",
       "      <td>2018-05-01</td>\n",
       "      <td>22</td>\n",
       "      <td>0</td>\n",
       "    </tr>\n",
       "    <tr>\n",
       "      <td>1</td>\n",
       "      <td>1000</td>\n",
       "      <td>2018-06-01</td>\n",
       "      <td>60</td>\n",
       "      <td>0</td>\n",
       "    </tr>\n",
       "    <tr>\n",
       "      <td>2</td>\n",
       "      <td>1000</td>\n",
       "      <td>2018-07-01</td>\n",
       "      <td>75</td>\n",
       "      <td>0</td>\n",
       "    </tr>\n",
       "    <tr>\n",
       "      <td>3</td>\n",
       "      <td>1000</td>\n",
       "      <td>2018-08-01</td>\n",
       "      <td>81</td>\n",
       "      <td>0</td>\n",
       "    </tr>\n",
       "    <tr>\n",
       "      <td>4</td>\n",
       "      <td>1000</td>\n",
       "      <td>2018-09-01</td>\n",
       "      <td>57</td>\n",
       "      <td>0</td>\n",
       "    </tr>\n",
       "    <tr>\n",
       "      <td>5</td>\n",
       "      <td>1000</td>\n",
       "      <td>2018-10-01</td>\n",
       "      <td>73</td>\n",
       "      <td>0</td>\n",
       "    </tr>\n",
       "    <tr>\n",
       "      <td>6</td>\n",
       "      <td>1000</td>\n",
       "      <td>2018-11-01</td>\n",
       "      <td>58</td>\n",
       "      <td>0</td>\n",
       "    </tr>\n",
       "    <tr>\n",
       "      <td>7</td>\n",
       "      <td>1000</td>\n",
       "      <td>2018-12-01</td>\n",
       "      <td>70</td>\n",
       "      <td>0</td>\n",
       "    </tr>\n",
       "    <tr>\n",
       "      <td>8</td>\n",
       "      <td>1002</td>\n",
       "      <td>2018-06-01</td>\n",
       "      <td>4</td>\n",
       "      <td>0</td>\n",
       "    </tr>\n",
       "    <tr>\n",
       "      <td>9</td>\n",
       "      <td>1002</td>\n",
       "      <td>2018-07-01</td>\n",
       "      <td>11</td>\n",
       "      <td>0</td>\n",
       "    </tr>\n",
       "    <tr>\n",
       "      <td>10</td>\n",
       "      <td>1002</td>\n",
       "      <td>2018-08-01</td>\n",
       "      <td>13</td>\n",
       "      <td>0</td>\n",
       "    </tr>\n",
       "    <tr>\n",
       "      <td>11</td>\n",
       "      <td>1002</td>\n",
       "      <td>2018-09-01</td>\n",
       "      <td>4</td>\n",
       "      <td>0</td>\n",
       "    </tr>\n",
       "  </tbody>\n",
       "</table>\n",
       "</div>"
      ],
      "text/plain": [
       "    user_id      month  id_count  revenue_messages_per\n",
       "0      1000 2018-05-01        22                     0\n",
       "1      1000 2018-06-01        60                     0\n",
       "2      1000 2018-07-01        75                     0\n",
       "3      1000 2018-08-01        81                     0\n",
       "4      1000 2018-09-01        57                     0\n",
       "5      1000 2018-10-01        73                     0\n",
       "6      1000 2018-11-01        58                     0\n",
       "7      1000 2018-12-01        70                     0\n",
       "8      1002 2018-06-01         4                     0\n",
       "9      1002 2018-07-01        11                     0\n",
       "10     1002 2018-08-01        13                     0\n",
       "11     1002 2018-09-01         4                     0"
      ]
     },
     "execution_count": 54,
     "metadata": {},
     "output_type": "execute_result"
    }
   ],
   "source": [
    "messages_month_user_4.columns = ['user_id','month','id_count', 'revenue_messages_per']\n",
    "messages_month_user_4.head(12)"
   ]
  },
  {
   "cell_type": "code",
   "execution_count": 55,
   "metadata": {},
   "outputs": [
    {
     "data": {
      "text/plain": [
       "user_id                 0\n",
       "month                   0\n",
       "id_count                0\n",
       "revenue_messages_per    0\n",
       "dtype: int64"
      ]
     },
     "execution_count": 55,
     "metadata": {},
     "output_type": "execute_result"
    }
   ],
   "source": [
    "messages_month_user_4.isna().sum()"
   ]
  },
  {
   "cell_type": "markdown",
   "metadata": {},
   "source": [
    "#### Объем израсходованного интернет-трафика по месяцам."
   ]
  },
  {
   "cell_type": "code",
   "execution_count": 56,
   "metadata": {},
   "outputs": [
    {
     "data": {
      "text/html": [
       "<div>\n",
       "<style scoped>\n",
       "    .dataframe tbody tr th:only-of-type {\n",
       "        vertical-align: middle;\n",
       "    }\n",
       "\n",
       "    .dataframe tbody tr th {\n",
       "        vertical-align: top;\n",
       "    }\n",
       "\n",
       "    .dataframe thead th {\n",
       "        text-align: right;\n",
       "    }\n",
       "</style>\n",
       "<table border=\"1\" class=\"dataframe\">\n",
       "  <thead>\n",
       "    <tr style=\"text-align: right;\">\n",
       "      <th></th>\n",
       "      <th>Unnamed: 0</th>\n",
       "      <th>id</th>\n",
       "      <th>mb_used</th>\n",
       "      <th>session_date</th>\n",
       "      <th>user_id</th>\n",
       "    </tr>\n",
       "  </thead>\n",
       "  <tbody>\n",
       "    <tr>\n",
       "      <td>0</td>\n",
       "      <td>0</td>\n",
       "      <td>1000_0</td>\n",
       "      <td>112.95</td>\n",
       "      <td>2018-11-25</td>\n",
       "      <td>1000</td>\n",
       "    </tr>\n",
       "    <tr>\n",
       "      <td>1</td>\n",
       "      <td>1</td>\n",
       "      <td>1000_1</td>\n",
       "      <td>1052.81</td>\n",
       "      <td>2018-09-07</td>\n",
       "      <td>1000</td>\n",
       "    </tr>\n",
       "    <tr>\n",
       "      <td>2</td>\n",
       "      <td>2</td>\n",
       "      <td>1000_2</td>\n",
       "      <td>1197.26</td>\n",
       "      <td>2018-06-25</td>\n",
       "      <td>1000</td>\n",
       "    </tr>\n",
       "    <tr>\n",
       "      <td>3</td>\n",
       "      <td>3</td>\n",
       "      <td>1000_3</td>\n",
       "      <td>550.27</td>\n",
       "      <td>2018-08-22</td>\n",
       "      <td>1000</td>\n",
       "    </tr>\n",
       "    <tr>\n",
       "      <td>4</td>\n",
       "      <td>4</td>\n",
       "      <td>1000_4</td>\n",
       "      <td>302.56</td>\n",
       "      <td>2018-09-24</td>\n",
       "      <td>1000</td>\n",
       "    </tr>\n",
       "  </tbody>\n",
       "</table>\n",
       "</div>"
      ],
      "text/plain": [
       "   Unnamed: 0      id  mb_used session_date  user_id\n",
       "0           0  1000_0   112.95   2018-11-25     1000\n",
       "1           1  1000_1  1052.81   2018-09-07     1000\n",
       "2           2  1000_2  1197.26   2018-06-25     1000\n",
       "3           3  1000_3   550.27   2018-08-22     1000\n",
       "4           4  1000_4   302.56   2018-09-24     1000"
      ]
     },
     "execution_count": 56,
     "metadata": {},
     "output_type": "execute_result"
    }
   ],
   "source": [
    "internet.head()"
   ]
  },
  {
   "cell_type": "code",
   "execution_count": 57,
   "metadata": {},
   "outputs": [
    {
     "data": {
      "text/html": [
       "<div>\n",
       "<style scoped>\n",
       "    .dataframe tbody tr th:only-of-type {\n",
       "        vertical-align: middle;\n",
       "    }\n",
       "\n",
       "    .dataframe tbody tr th {\n",
       "        vertical-align: top;\n",
       "    }\n",
       "\n",
       "    .dataframe thead th {\n",
       "        text-align: right;\n",
       "    }\n",
       "</style>\n",
       "<table border=\"1\" class=\"dataframe\">\n",
       "  <thead>\n",
       "    <tr style=\"text-align: right;\">\n",
       "      <th></th>\n",
       "      <th>Unnamed: 0</th>\n",
       "      <th>id</th>\n",
       "      <th>mb_used</th>\n",
       "      <th>session_date</th>\n",
       "      <th>user_id</th>\n",
       "      <th>internet_data_month</th>\n",
       "    </tr>\n",
       "  </thead>\n",
       "  <tbody>\n",
       "    <tr>\n",
       "      <td>0</td>\n",
       "      <td>0</td>\n",
       "      <td>1000_0</td>\n",
       "      <td>112.95</td>\n",
       "      <td>2018-11-25</td>\n",
       "      <td>1000</td>\n",
       "      <td>2018-11-01</td>\n",
       "    </tr>\n",
       "    <tr>\n",
       "      <td>1</td>\n",
       "      <td>1</td>\n",
       "      <td>1000_1</td>\n",
       "      <td>1052.81</td>\n",
       "      <td>2018-09-07</td>\n",
       "      <td>1000</td>\n",
       "      <td>2018-09-01</td>\n",
       "    </tr>\n",
       "    <tr>\n",
       "      <td>2</td>\n",
       "      <td>2</td>\n",
       "      <td>1000_2</td>\n",
       "      <td>1197.26</td>\n",
       "      <td>2018-06-25</td>\n",
       "      <td>1000</td>\n",
       "      <td>2018-06-01</td>\n",
       "    </tr>\n",
       "    <tr>\n",
       "      <td>3</td>\n",
       "      <td>3</td>\n",
       "      <td>1000_3</td>\n",
       "      <td>550.27</td>\n",
       "      <td>2018-08-22</td>\n",
       "      <td>1000</td>\n",
       "      <td>2018-08-01</td>\n",
       "    </tr>\n",
       "    <tr>\n",
       "      <td>4</td>\n",
       "      <td>4</td>\n",
       "      <td>1000_4</td>\n",
       "      <td>302.56</td>\n",
       "      <td>2018-09-24</td>\n",
       "      <td>1000</td>\n",
       "      <td>2018-09-01</td>\n",
       "    </tr>\n",
       "  </tbody>\n",
       "</table>\n",
       "</div>"
      ],
      "text/plain": [
       "   Unnamed: 0      id  mb_used session_date  user_id internet_data_month\n",
       "0           0  1000_0   112.95   2018-11-25     1000          2018-11-01\n",
       "1           1  1000_1  1052.81   2018-09-07     1000          2018-09-01\n",
       "2           2  1000_2  1197.26   2018-06-25     1000          2018-06-01\n",
       "3           3  1000_3   550.27   2018-08-22     1000          2018-08-01\n",
       "4           4  1000_4   302.56   2018-09-24     1000          2018-09-01"
      ]
     },
     "execution_count": 57,
     "metadata": {},
     "output_type": "execute_result"
    }
   ],
   "source": [
    "# выделяем месяц \n",
    "internet['internet_data_month'] = internet['session_date'].astype ('datetime64[M]')\n",
    "internet.head()"
   ]
  },
  {
   "cell_type": "code",
   "execution_count": 58,
   "metadata": {},
   "outputs": [
    {
     "data": {
      "text/html": [
       "<div>\n",
       "<style scoped>\n",
       "    .dataframe tbody tr th:only-of-type {\n",
       "        vertical-align: middle;\n",
       "    }\n",
       "\n",
       "    .dataframe tbody tr th {\n",
       "        vertical-align: top;\n",
       "    }\n",
       "\n",
       "    .dataframe thead tr th {\n",
       "        text-align: left;\n",
       "    }\n",
       "</style>\n",
       "<table border=\"1\" class=\"dataframe\">\n",
       "  <thead>\n",
       "    <tr>\n",
       "      <th></th>\n",
       "      <th>user_id</th>\n",
       "      <th>internet_data_month</th>\n",
       "      <th>mb_used</th>\n",
       "    </tr>\n",
       "    <tr>\n",
       "      <th></th>\n",
       "      <th></th>\n",
       "      <th></th>\n",
       "      <th>sum</th>\n",
       "    </tr>\n",
       "  </thead>\n",
       "  <tbody>\n",
       "    <tr>\n",
       "      <td>0</td>\n",
       "      <td>1000</td>\n",
       "      <td>2018-05-01</td>\n",
       "      <td>2253.49</td>\n",
       "    </tr>\n",
       "    <tr>\n",
       "      <td>1</td>\n",
       "      <td>1000</td>\n",
       "      <td>2018-06-01</td>\n",
       "      <td>23233.77</td>\n",
       "    </tr>\n",
       "    <tr>\n",
       "      <td>2</td>\n",
       "      <td>1000</td>\n",
       "      <td>2018-07-01</td>\n",
       "      <td>14003.64</td>\n",
       "    </tr>\n",
       "    <tr>\n",
       "      <td>3</td>\n",
       "      <td>1000</td>\n",
       "      <td>2018-08-01</td>\n",
       "      <td>14055.93</td>\n",
       "    </tr>\n",
       "    <tr>\n",
       "      <td>4</td>\n",
       "      <td>1000</td>\n",
       "      <td>2018-09-01</td>\n",
       "      <td>14568.91</td>\n",
       "    </tr>\n",
       "    <tr>\n",
       "      <td>5</td>\n",
       "      <td>1000</td>\n",
       "      <td>2018-10-01</td>\n",
       "      <td>14702.49</td>\n",
       "    </tr>\n",
       "    <tr>\n",
       "      <td>6</td>\n",
       "      <td>1000</td>\n",
       "      <td>2018-11-01</td>\n",
       "      <td>14756.47</td>\n",
       "    </tr>\n",
       "    <tr>\n",
       "      <td>7</td>\n",
       "      <td>1000</td>\n",
       "      <td>2018-12-01</td>\n",
       "      <td>9817.61</td>\n",
       "    </tr>\n",
       "    <tr>\n",
       "      <td>8</td>\n",
       "      <td>1001</td>\n",
       "      <td>2018-11-01</td>\n",
       "      <td>18429.34</td>\n",
       "    </tr>\n",
       "    <tr>\n",
       "      <td>9</td>\n",
       "      <td>1001</td>\n",
       "      <td>2018-12-01</td>\n",
       "      <td>14036.66</td>\n",
       "    </tr>\n",
       "    <tr>\n",
       "      <td>10</td>\n",
       "      <td>1002</td>\n",
       "      <td>2018-06-01</td>\n",
       "      <td>10856.82</td>\n",
       "    </tr>\n",
       "    <tr>\n",
       "      <td>11</td>\n",
       "      <td>1002</td>\n",
       "      <td>2018-07-01</td>\n",
       "      <td>17580.10</td>\n",
       "    </tr>\n",
       "  </tbody>\n",
       "</table>\n",
       "</div>"
      ],
      "text/plain": [
       "   user_id internet_data_month   mb_used\n",
       "                                     sum\n",
       "0     1000          2018-05-01   2253.49\n",
       "1     1000          2018-06-01  23233.77\n",
       "2     1000          2018-07-01  14003.64\n",
       "3     1000          2018-08-01  14055.93\n",
       "4     1000          2018-09-01  14568.91\n",
       "5     1000          2018-10-01  14702.49\n",
       "6     1000          2018-11-01  14756.47\n",
       "7     1000          2018-12-01   9817.61\n",
       "8     1001          2018-11-01  18429.34\n",
       "9     1001          2018-12-01  14036.66\n",
       "10    1002          2018-06-01  10856.82\n",
       "11    1002          2018-07-01  17580.10"
      ]
     },
     "execution_count": 58,
     "metadata": {},
     "output_type": "execute_result"
    }
   ],
   "source": [
    "#сгруппируем по пользователю и месяцу,\n",
    "#и поситаем количество объем израсходованного трафика в месяц в Мб\n",
    "#сбросим индексы\n",
    "internet_month_user_2 = pd.DataFrame(internet.groupby(['user_id','internet_data_month'])\\\n",
    "                                  [['mb_used']].agg(['sum'])\\\n",
    "                                  ).reset_index()\n",
    "internet_month_user_2.head(12)   "
   ]
  },
  {
   "cell_type": "code",
   "execution_count": 59,
   "metadata": {},
   "outputs": [
    {
     "data": {
      "text/html": [
       "<div>\n",
       "<style scoped>\n",
       "    .dataframe tbody tr th:only-of-type {\n",
       "        vertical-align: middle;\n",
       "    }\n",
       "\n",
       "    .dataframe tbody tr th {\n",
       "        vertical-align: top;\n",
       "    }\n",
       "\n",
       "    .dataframe thead th {\n",
       "        text-align: right;\n",
       "    }\n",
       "</style>\n",
       "<table border=\"1\" class=\"dataframe\">\n",
       "  <thead>\n",
       "    <tr style=\"text-align: right;\">\n",
       "      <th></th>\n",
       "      <th>user_id</th>\n",
       "      <th>(user_id, )</th>\n",
       "      <th>(internet_data_month, )</th>\n",
       "      <th>(mb_used, sum)</th>\n",
       "      <th>age</th>\n",
       "      <th>churn_date</th>\n",
       "      <th>city</th>\n",
       "      <th>first_name</th>\n",
       "      <th>last_name</th>\n",
       "      <th>reg_date</th>\n",
       "      <th>tariff</th>\n",
       "    </tr>\n",
       "  </thead>\n",
       "  <tbody>\n",
       "    <tr>\n",
       "      <td>0</td>\n",
       "      <td>1000</td>\n",
       "      <td>1000</td>\n",
       "      <td>2018-05-01</td>\n",
       "      <td>2253.49</td>\n",
       "      <td>52</td>\n",
       "      <td>NaT</td>\n",
       "      <td>Краснодар</td>\n",
       "      <td>Рафаил</td>\n",
       "      <td>Верещагин</td>\n",
       "      <td>2018-05-25</td>\n",
       "      <td>ultra</td>\n",
       "    </tr>\n",
       "    <tr>\n",
       "      <td>1</td>\n",
       "      <td>1000</td>\n",
       "      <td>1000</td>\n",
       "      <td>2018-06-01</td>\n",
       "      <td>23233.77</td>\n",
       "      <td>52</td>\n",
       "      <td>NaT</td>\n",
       "      <td>Краснодар</td>\n",
       "      <td>Рафаил</td>\n",
       "      <td>Верещагин</td>\n",
       "      <td>2018-05-25</td>\n",
       "      <td>ultra</td>\n",
       "    </tr>\n",
       "    <tr>\n",
       "      <td>2</td>\n",
       "      <td>1000</td>\n",
       "      <td>1000</td>\n",
       "      <td>2018-07-01</td>\n",
       "      <td>14003.64</td>\n",
       "      <td>52</td>\n",
       "      <td>NaT</td>\n",
       "      <td>Краснодар</td>\n",
       "      <td>Рафаил</td>\n",
       "      <td>Верещагин</td>\n",
       "      <td>2018-05-25</td>\n",
       "      <td>ultra</td>\n",
       "    </tr>\n",
       "    <tr>\n",
       "      <td>3</td>\n",
       "      <td>1000</td>\n",
       "      <td>1000</td>\n",
       "      <td>2018-08-01</td>\n",
       "      <td>14055.93</td>\n",
       "      <td>52</td>\n",
       "      <td>NaT</td>\n",
       "      <td>Краснодар</td>\n",
       "      <td>Рафаил</td>\n",
       "      <td>Верещагин</td>\n",
       "      <td>2018-05-25</td>\n",
       "      <td>ultra</td>\n",
       "    </tr>\n",
       "    <tr>\n",
       "      <td>4</td>\n",
       "      <td>1000</td>\n",
       "      <td>1000</td>\n",
       "      <td>2018-09-01</td>\n",
       "      <td>14568.91</td>\n",
       "      <td>52</td>\n",
       "      <td>NaT</td>\n",
       "      <td>Краснодар</td>\n",
       "      <td>Рафаил</td>\n",
       "      <td>Верещагин</td>\n",
       "      <td>2018-05-25</td>\n",
       "      <td>ultra</td>\n",
       "    </tr>\n",
       "    <tr>\n",
       "      <td>5</td>\n",
       "      <td>1000</td>\n",
       "      <td>1000</td>\n",
       "      <td>2018-10-01</td>\n",
       "      <td>14702.49</td>\n",
       "      <td>52</td>\n",
       "      <td>NaT</td>\n",
       "      <td>Краснодар</td>\n",
       "      <td>Рафаил</td>\n",
       "      <td>Верещагин</td>\n",
       "      <td>2018-05-25</td>\n",
       "      <td>ultra</td>\n",
       "    </tr>\n",
       "    <tr>\n",
       "      <td>6</td>\n",
       "      <td>1000</td>\n",
       "      <td>1000</td>\n",
       "      <td>2018-11-01</td>\n",
       "      <td>14756.47</td>\n",
       "      <td>52</td>\n",
       "      <td>NaT</td>\n",
       "      <td>Краснодар</td>\n",
       "      <td>Рафаил</td>\n",
       "      <td>Верещагин</td>\n",
       "      <td>2018-05-25</td>\n",
       "      <td>ultra</td>\n",
       "    </tr>\n",
       "    <tr>\n",
       "      <td>7</td>\n",
       "      <td>1000</td>\n",
       "      <td>1000</td>\n",
       "      <td>2018-12-01</td>\n",
       "      <td>9817.61</td>\n",
       "      <td>52</td>\n",
       "      <td>NaT</td>\n",
       "      <td>Краснодар</td>\n",
       "      <td>Рафаил</td>\n",
       "      <td>Верещагин</td>\n",
       "      <td>2018-05-25</td>\n",
       "      <td>ultra</td>\n",
       "    </tr>\n",
       "    <tr>\n",
       "      <td>8</td>\n",
       "      <td>1001</td>\n",
       "      <td>1001</td>\n",
       "      <td>2018-11-01</td>\n",
       "      <td>18429.34</td>\n",
       "      <td>41</td>\n",
       "      <td>NaT</td>\n",
       "      <td>Москва</td>\n",
       "      <td>Иван</td>\n",
       "      <td>Ежов</td>\n",
       "      <td>2018-11-01</td>\n",
       "      <td>smart</td>\n",
       "    </tr>\n",
       "    <tr>\n",
       "      <td>9</td>\n",
       "      <td>1001</td>\n",
       "      <td>1001</td>\n",
       "      <td>2018-12-01</td>\n",
       "      <td>14036.66</td>\n",
       "      <td>41</td>\n",
       "      <td>NaT</td>\n",
       "      <td>Москва</td>\n",
       "      <td>Иван</td>\n",
       "      <td>Ежов</td>\n",
       "      <td>2018-11-01</td>\n",
       "      <td>smart</td>\n",
       "    </tr>\n",
       "    <tr>\n",
       "      <td>10</td>\n",
       "      <td>1002</td>\n",
       "      <td>1002</td>\n",
       "      <td>2018-06-01</td>\n",
       "      <td>10856.82</td>\n",
       "      <td>59</td>\n",
       "      <td>NaT</td>\n",
       "      <td>Стерлитамак</td>\n",
       "      <td>Евгений</td>\n",
       "      <td>Абрамович</td>\n",
       "      <td>2018-06-17</td>\n",
       "      <td>smart</td>\n",
       "    </tr>\n",
       "    <tr>\n",
       "      <td>11</td>\n",
       "      <td>1002</td>\n",
       "      <td>1002</td>\n",
       "      <td>2018-07-01</td>\n",
       "      <td>17580.10</td>\n",
       "      <td>59</td>\n",
       "      <td>NaT</td>\n",
       "      <td>Стерлитамак</td>\n",
       "      <td>Евгений</td>\n",
       "      <td>Абрамович</td>\n",
       "      <td>2018-06-17</td>\n",
       "      <td>smart</td>\n",
       "    </tr>\n",
       "  </tbody>\n",
       "</table>\n",
       "</div>"
      ],
      "text/plain": [
       "    user_id  (user_id, ) (internet_data_month, )  (mb_used, sum)  age  \\\n",
       "0      1000         1000              2018-05-01         2253.49   52   \n",
       "1      1000         1000              2018-06-01        23233.77   52   \n",
       "2      1000         1000              2018-07-01        14003.64   52   \n",
       "3      1000         1000              2018-08-01        14055.93   52   \n",
       "4      1000         1000              2018-09-01        14568.91   52   \n",
       "5      1000         1000              2018-10-01        14702.49   52   \n",
       "6      1000         1000              2018-11-01        14756.47   52   \n",
       "7      1000         1000              2018-12-01         9817.61   52   \n",
       "8      1001         1001              2018-11-01        18429.34   41   \n",
       "9      1001         1001              2018-12-01        14036.66   41   \n",
       "10     1002         1002              2018-06-01        10856.82   59   \n",
       "11     1002         1002              2018-07-01        17580.10   59   \n",
       "\n",
       "   churn_date         city first_name  last_name   reg_date tariff  \n",
       "0         NaT    Краснодар     Рафаил  Верещагин 2018-05-25  ultra  \n",
       "1         NaT    Краснодар     Рафаил  Верещагин 2018-05-25  ultra  \n",
       "2         NaT    Краснодар     Рафаил  Верещагин 2018-05-25  ultra  \n",
       "3         NaT    Краснодар     Рафаил  Верещагин 2018-05-25  ultra  \n",
       "4         NaT    Краснодар     Рафаил  Верещагин 2018-05-25  ultra  \n",
       "5         NaT    Краснодар     Рафаил  Верещагин 2018-05-25  ultra  \n",
       "6         NaT    Краснодар     Рафаил  Верещагин 2018-05-25  ultra  \n",
       "7         NaT    Краснодар     Рафаил  Верещагин 2018-05-25  ultra  \n",
       "8         NaT       Москва       Иван       Ежов 2018-11-01  smart  \n",
       "9         NaT       Москва       Иван       Ежов 2018-11-01  smart  \n",
       "10        NaT  Стерлитамак    Евгений  Абрамович 2018-06-17  smart  \n",
       "11        NaT  Стерлитамак    Евгений  Абрамович 2018-06-17  smart  "
      ]
     },
     "execution_count": 59,
     "metadata": {},
     "output_type": "execute_result"
    }
   ],
   "source": [
    "#объединим два датасета\n",
    "internet_month_user_3 = internet_month_user_2.\\\n",
    "merge(users, on='user_id', how='left')\n",
    "internet_month_user_3.head(12)"
   ]
  },
  {
   "cell_type": "code",
   "execution_count": 60,
   "metadata": {},
   "outputs": [
    {
     "data": {
      "text/html": [
       "<div>\n",
       "<style scoped>\n",
       "    .dataframe tbody tr th:only-of-type {\n",
       "        vertical-align: middle;\n",
       "    }\n",
       "\n",
       "    .dataframe tbody tr th {\n",
       "        vertical-align: top;\n",
       "    }\n",
       "\n",
       "    .dataframe thead th {\n",
       "        text-align: right;\n",
       "    }\n",
       "</style>\n",
       "<table border=\"1\" class=\"dataframe\">\n",
       "  <thead>\n",
       "    <tr style=\"text-align: right;\">\n",
       "      <th></th>\n",
       "      <th>user_id</th>\n",
       "      <th>internet_data_month</th>\n",
       "      <th>mb_used_sum</th>\n",
       "      <th>age</th>\n",
       "      <th>churn_date</th>\n",
       "      <th>city</th>\n",
       "      <th>first_name</th>\n",
       "      <th>last_name</th>\n",
       "      <th>reg_date</th>\n",
       "      <th>tariff</th>\n",
       "    </tr>\n",
       "  </thead>\n",
       "  <tbody>\n",
       "    <tr>\n",
       "      <td>0</td>\n",
       "      <td>1000</td>\n",
       "      <td>2018-05-01</td>\n",
       "      <td>2253.49</td>\n",
       "      <td>52</td>\n",
       "      <td>NaT</td>\n",
       "      <td>Краснодар</td>\n",
       "      <td>Рафаил</td>\n",
       "      <td>Верещагин</td>\n",
       "      <td>2018-05-25</td>\n",
       "      <td>ultra</td>\n",
       "    </tr>\n",
       "    <tr>\n",
       "      <td>1</td>\n",
       "      <td>1000</td>\n",
       "      <td>2018-06-01</td>\n",
       "      <td>23233.77</td>\n",
       "      <td>52</td>\n",
       "      <td>NaT</td>\n",
       "      <td>Краснодар</td>\n",
       "      <td>Рафаил</td>\n",
       "      <td>Верещагин</td>\n",
       "      <td>2018-05-25</td>\n",
       "      <td>ultra</td>\n",
       "    </tr>\n",
       "    <tr>\n",
       "      <td>2</td>\n",
       "      <td>1000</td>\n",
       "      <td>2018-07-01</td>\n",
       "      <td>14003.64</td>\n",
       "      <td>52</td>\n",
       "      <td>NaT</td>\n",
       "      <td>Краснодар</td>\n",
       "      <td>Рафаил</td>\n",
       "      <td>Верещагин</td>\n",
       "      <td>2018-05-25</td>\n",
       "      <td>ultra</td>\n",
       "    </tr>\n",
       "    <tr>\n",
       "      <td>3</td>\n",
       "      <td>1000</td>\n",
       "      <td>2018-08-01</td>\n",
       "      <td>14055.93</td>\n",
       "      <td>52</td>\n",
       "      <td>NaT</td>\n",
       "      <td>Краснодар</td>\n",
       "      <td>Рафаил</td>\n",
       "      <td>Верещагин</td>\n",
       "      <td>2018-05-25</td>\n",
       "      <td>ultra</td>\n",
       "    </tr>\n",
       "    <tr>\n",
       "      <td>4</td>\n",
       "      <td>1000</td>\n",
       "      <td>2018-09-01</td>\n",
       "      <td>14568.91</td>\n",
       "      <td>52</td>\n",
       "      <td>NaT</td>\n",
       "      <td>Краснодар</td>\n",
       "      <td>Рафаил</td>\n",
       "      <td>Верещагин</td>\n",
       "      <td>2018-05-25</td>\n",
       "      <td>ultra</td>\n",
       "    </tr>\n",
       "  </tbody>\n",
       "</table>\n",
       "</div>"
      ],
      "text/plain": [
       "   user_id internet_data_month  mb_used_sum  age churn_date       city  \\\n",
       "0     1000          2018-05-01      2253.49   52        NaT  Краснодар   \n",
       "1     1000          2018-06-01     23233.77   52        NaT  Краснодар   \n",
       "2     1000          2018-07-01     14003.64   52        NaT  Краснодар   \n",
       "3     1000          2018-08-01     14055.93   52        NaT  Краснодар   \n",
       "4     1000          2018-09-01     14568.91   52        NaT  Краснодар   \n",
       "\n",
       "  first_name  last_name   reg_date tariff  \n",
       "0     Рафаил  Верещагин 2018-05-25  ultra  \n",
       "1     Рафаил  Верещагин 2018-05-25  ultra  \n",
       "2     Рафаил  Верещагин 2018-05-25  ultra  \n",
       "3     Рафаил  Верещагин 2018-05-25  ultra  \n",
       "4     Рафаил  Верещагин 2018-05-25  ultra  "
      ]
     },
     "execution_count": 60,
     "metadata": {},
     "output_type": "execute_result"
    }
   ],
   "source": [
    "#переименуем столбцы\n",
    "internet_month_user_3.columns=['user_id', 'user_id_1', 'internet_data_month',\\\n",
    "                               'mb_used_sum',\\\n",
    "                           'age', 'churn_date', 'city', 'first_name', 'last_name',\\\n",
    "                           'reg_date', 'tariff']\n",
    "internet_month_user_3 = internet_month_user_3.drop('user_id_1',1)\n",
    "internet_month_user_3.head()"
   ]
  },
  {
   "cell_type": "code",
   "execution_count": 61,
   "metadata": {},
   "outputs": [
    {
     "data": {
      "text/html": [
       "<div>\n",
       "<style scoped>\n",
       "    .dataframe tbody tr th:only-of-type {\n",
       "        vertical-align: middle;\n",
       "    }\n",
       "\n",
       "    .dataframe tbody tr th {\n",
       "        vertical-align: top;\n",
       "    }\n",
       "\n",
       "    .dataframe thead th {\n",
       "        text-align: right;\n",
       "    }\n",
       "</style>\n",
       "<table border=\"1\" class=\"dataframe\">\n",
       "  <thead>\n",
       "    <tr style=\"text-align: right;\">\n",
       "      <th></th>\n",
       "      <th>user_id</th>\n",
       "      <th>internet_data_month</th>\n",
       "      <th>mb_used_sum</th>\n",
       "      <th>age</th>\n",
       "      <th>churn_date</th>\n",
       "      <th>city</th>\n",
       "      <th>first_name</th>\n",
       "      <th>last_name</th>\n",
       "      <th>reg_date</th>\n",
       "      <th>tariff</th>\n",
       "    </tr>\n",
       "  </thead>\n",
       "  <tbody>\n",
       "    <tr>\n",
       "      <td>0</td>\n",
       "      <td>1000</td>\n",
       "      <td>2018-05-01</td>\n",
       "      <td>3</td>\n",
       "      <td>52</td>\n",
       "      <td>NaT</td>\n",
       "      <td>Краснодар</td>\n",
       "      <td>Рафаил</td>\n",
       "      <td>Верещагин</td>\n",
       "      <td>2018-05-25</td>\n",
       "      <td>ultra</td>\n",
       "    </tr>\n",
       "    <tr>\n",
       "      <td>1</td>\n",
       "      <td>1000</td>\n",
       "      <td>2018-06-01</td>\n",
       "      <td>23</td>\n",
       "      <td>52</td>\n",
       "      <td>NaT</td>\n",
       "      <td>Краснодар</td>\n",
       "      <td>Рафаил</td>\n",
       "      <td>Верещагин</td>\n",
       "      <td>2018-05-25</td>\n",
       "      <td>ultra</td>\n",
       "    </tr>\n",
       "    <tr>\n",
       "      <td>2</td>\n",
       "      <td>1000</td>\n",
       "      <td>2018-07-01</td>\n",
       "      <td>14</td>\n",
       "      <td>52</td>\n",
       "      <td>NaT</td>\n",
       "      <td>Краснодар</td>\n",
       "      <td>Рафаил</td>\n",
       "      <td>Верещагин</td>\n",
       "      <td>2018-05-25</td>\n",
       "      <td>ultra</td>\n",
       "    </tr>\n",
       "    <tr>\n",
       "      <td>3</td>\n",
       "      <td>1000</td>\n",
       "      <td>2018-08-01</td>\n",
       "      <td>14</td>\n",
       "      <td>52</td>\n",
       "      <td>NaT</td>\n",
       "      <td>Краснодар</td>\n",
       "      <td>Рафаил</td>\n",
       "      <td>Верещагин</td>\n",
       "      <td>2018-05-25</td>\n",
       "      <td>ultra</td>\n",
       "    </tr>\n",
       "    <tr>\n",
       "      <td>4</td>\n",
       "      <td>1000</td>\n",
       "      <td>2018-09-01</td>\n",
       "      <td>15</td>\n",
       "      <td>52</td>\n",
       "      <td>NaT</td>\n",
       "      <td>Краснодар</td>\n",
       "      <td>Рафаил</td>\n",
       "      <td>Верещагин</td>\n",
       "      <td>2018-05-25</td>\n",
       "      <td>ultra</td>\n",
       "    </tr>\n",
       "  </tbody>\n",
       "</table>\n",
       "</div>"
      ],
      "text/plain": [
       "   user_id internet_data_month  mb_used_sum  age churn_date       city  \\\n",
       "0     1000          2018-05-01            3   52        NaT  Краснодар   \n",
       "1     1000          2018-06-01           23   52        NaT  Краснодар   \n",
       "2     1000          2018-07-01           14   52        NaT  Краснодар   \n",
       "3     1000          2018-08-01           14   52        NaT  Краснодар   \n",
       "4     1000          2018-09-01           15   52        NaT  Краснодар   \n",
       "\n",
       "  first_name  last_name   reg_date tariff  \n",
       "0     Рафаил  Верещагин 2018-05-25  ultra  \n",
       "1     Рафаил  Верещагин 2018-05-25  ultra  \n",
       "2     Рафаил  Верещагин 2018-05-25  ultra  \n",
       "3     Рафаил  Верещагин 2018-05-25  ultra  \n",
       "4     Рафаил  Верещагин 2018-05-25  ultra  "
      ]
     },
     "execution_count": 61,
     "metadata": {},
     "output_type": "execute_result"
    }
   ],
   "source": [
    "#переведем Мб в Гб и округлим в большую сторону\n",
    "internet_month_user_3['mb_used_sum'] = internet_month_user_3['mb_used_sum']\\\n",
    ".apply(lambda x:math.ceil(x / 1024))\n",
    "internet_month_user_3.head(5)\n"
   ]
  },
  {
   "cell_type": "markdown",
   "metadata": {},
   "source": [
    "Подсчитаем выручку от \"платный\" тафик (revenue_internet_per)."
   ]
  },
  {
   "cell_type": "code",
   "execution_count": 62,
   "metadata": {},
   "outputs": [
    {
     "data": {
      "text/html": [
       "<div>\n",
       "<style scoped>\n",
       "    .dataframe tbody tr th:only-of-type {\n",
       "        vertical-align: middle;\n",
       "    }\n",
       "\n",
       "    .dataframe tbody tr th {\n",
       "        vertical-align: top;\n",
       "    }\n",
       "\n",
       "    .dataframe thead th {\n",
       "        text-align: right;\n",
       "    }\n",
       "</style>\n",
       "<table border=\"1\" class=\"dataframe\">\n",
       "  <thead>\n",
       "    <tr style=\"text-align: right;\">\n",
       "      <th></th>\n",
       "      <th>user_id</th>\n",
       "      <th>internet_data_month</th>\n",
       "      <th>mb_used_sum</th>\n",
       "      <th>age</th>\n",
       "      <th>churn_date</th>\n",
       "      <th>city</th>\n",
       "      <th>first_name</th>\n",
       "      <th>last_name</th>\n",
       "      <th>reg_date</th>\n",
       "      <th>tariff</th>\n",
       "      <th>revenue_internet_per</th>\n",
       "    </tr>\n",
       "  </thead>\n",
       "  <tbody>\n",
       "    <tr>\n",
       "      <td>1760</td>\n",
       "      <td>1280</td>\n",
       "      <td>2018-08-01</td>\n",
       "      <td>16</td>\n",
       "      <td>53</td>\n",
       "      <td>NaT</td>\n",
       "      <td>Астрахань</td>\n",
       "      <td>Артемий</td>\n",
       "      <td>Худяков</td>\n",
       "      <td>2018-07-18</td>\n",
       "      <td>smart</td>\n",
       "      <td>200</td>\n",
       "    </tr>\n",
       "  </tbody>\n",
       "</table>\n",
       "</div>"
      ],
      "text/plain": [
       "      user_id internet_data_month  mb_used_sum  age churn_date       city  \\\n",
       "1760     1280          2018-08-01           16   53        NaT  Астрахань   \n",
       "\n",
       "     first_name last_name   reg_date tariff  revenue_internet_per  \n",
       "1760    Артемий   Худяков 2018-07-18  smart                   200  "
      ]
     },
     "execution_count": 62,
     "metadata": {},
     "output_type": "execute_result"
    }
   ],
   "source": [
    "def revenue_internet_per (row):\n",
    "    \"\"\"\n",
    "    функция, которая считает выручку с каждого пользователя:\n",
    "    - если тариф \"Ультра\" и суммарный объем трафика больше 30, то:\n",
    "      revenue_internet_per = ((суммарный объем трафика - бесплатный лимит трафика) * 150)\n",
    "    - если тариф \"Ультра\" и суммарный объем трафика меньше или равно 30, то: \n",
    "      revenue_internet_per = 0\n",
    "    - если тариф \"Смарт\" и суммарный объем трафика больше 15, то: \n",
    "      revenue_internet_per  = (суммарный объем трафика - бесплатный лимит трафика) * 200) \n",
    "    - иначе:\n",
    "      revenue_internet_per = 0\n",
    "    \"\"\"\n",
    "    if (row['tariff'] == 'ultra' and row['mb_used_sum'] > 30):\n",
    "        return (((row['mb_used_sum']) - 30) * 150)\n",
    "    if (row['tariff'] == 'ultra' and (row['mb_used_sum']) <= 30):\n",
    "        return 0\n",
    "    if (row['tariff'] == 'smart' and (row['mb_used_sum']) > 15):\n",
    "        return (((row['mb_used_sum']) - 15) * 200)\n",
    "    else:\n",
    "        return 0\n",
    "    \n",
    "#создадим новый столбец с результатами работы функции 'revenue_internet_per'\n",
    "internet_month_user_3['revenue_internet_per'] = internet_month_user_3\\\n",
    ".apply(revenue_internet_per, axis=1)\n",
    "#выборочная проверка\n",
    "internet_month_user_3.sample()"
   ]
  },
  {
   "cell_type": "code",
   "execution_count": 63,
   "metadata": {},
   "outputs": [
    {
     "data": {
      "text/html": [
       "<div>\n",
       "<style scoped>\n",
       "    .dataframe tbody tr th:only-of-type {\n",
       "        vertical-align: middle;\n",
       "    }\n",
       "\n",
       "    .dataframe tbody tr th {\n",
       "        vertical-align: top;\n",
       "    }\n",
       "\n",
       "    .dataframe thead th {\n",
       "        text-align: right;\n",
       "    }\n",
       "</style>\n",
       "<table border=\"1\" class=\"dataframe\">\n",
       "  <thead>\n",
       "    <tr style=\"text-align: right;\">\n",
       "      <th></th>\n",
       "      <th>user_id</th>\n",
       "      <th>internet_data_month</th>\n",
       "      <th>mb_used_sum</th>\n",
       "      <th>revenue_internet_per</th>\n",
       "    </tr>\n",
       "  </thead>\n",
       "  <tbody>\n",
       "    <tr>\n",
       "      <td>0</td>\n",
       "      <td>1000</td>\n",
       "      <td>2018-05-01</td>\n",
       "      <td>3</td>\n",
       "      <td>0</td>\n",
       "    </tr>\n",
       "    <tr>\n",
       "      <td>1</td>\n",
       "      <td>1000</td>\n",
       "      <td>2018-06-01</td>\n",
       "      <td>23</td>\n",
       "      <td>0</td>\n",
       "    </tr>\n",
       "    <tr>\n",
       "      <td>2</td>\n",
       "      <td>1000</td>\n",
       "      <td>2018-07-01</td>\n",
       "      <td>14</td>\n",
       "      <td>0</td>\n",
       "    </tr>\n",
       "    <tr>\n",
       "      <td>3</td>\n",
       "      <td>1000</td>\n",
       "      <td>2018-08-01</td>\n",
       "      <td>14</td>\n",
       "      <td>0</td>\n",
       "    </tr>\n",
       "    <tr>\n",
       "      <td>4</td>\n",
       "      <td>1000</td>\n",
       "      <td>2018-09-01</td>\n",
       "      <td>15</td>\n",
       "      <td>0</td>\n",
       "    </tr>\n",
       "  </tbody>\n",
       "</table>\n",
       "</div>"
      ],
      "text/plain": [
       "   user_id internet_data_month  mb_used_sum  revenue_internet_per\n",
       "0     1000          2018-05-01            3                     0\n",
       "1     1000          2018-06-01           23                     0\n",
       "2     1000          2018-07-01           14                     0\n",
       "3     1000          2018-08-01           14                     0\n",
       "4     1000          2018-09-01           15                     0"
      ]
     },
     "execution_count": 63,
     "metadata": {},
     "output_type": "execute_result"
    }
   ],
   "source": [
    "#возьмем необходимые для анализа столбцы\n",
    "internet_month_user_4 = internet_month_user_3[['user_id', 'internet_data_month',\\\n",
    "                        'mb_used_sum','revenue_internet_per']]\n",
    "internet_month_user_4.head()"
   ]
  },
  {
   "cell_type": "code",
   "execution_count": 64,
   "metadata": {},
   "outputs": [
    {
     "data": {
      "text/html": [
       "<div>\n",
       "<style scoped>\n",
       "    .dataframe tbody tr th:only-of-type {\n",
       "        vertical-align: middle;\n",
       "    }\n",
       "\n",
       "    .dataframe tbody tr th {\n",
       "        vertical-align: top;\n",
       "    }\n",
       "\n",
       "    .dataframe thead th {\n",
       "        text-align: right;\n",
       "    }\n",
       "</style>\n",
       "<table border=\"1\" class=\"dataframe\">\n",
       "  <thead>\n",
       "    <tr style=\"text-align: right;\">\n",
       "      <th></th>\n",
       "      <th>user_id</th>\n",
       "      <th>month</th>\n",
       "      <th>mb_used_sum</th>\n",
       "      <th>revenue_internet_per</th>\n",
       "    </tr>\n",
       "  </thead>\n",
       "  <tbody>\n",
       "    <tr>\n",
       "      <td>0</td>\n",
       "      <td>1000</td>\n",
       "      <td>2018-05-01</td>\n",
       "      <td>3</td>\n",
       "      <td>0</td>\n",
       "    </tr>\n",
       "    <tr>\n",
       "      <td>1</td>\n",
       "      <td>1000</td>\n",
       "      <td>2018-06-01</td>\n",
       "      <td>23</td>\n",
       "      <td>0</td>\n",
       "    </tr>\n",
       "    <tr>\n",
       "      <td>2</td>\n",
       "      <td>1000</td>\n",
       "      <td>2018-07-01</td>\n",
       "      <td>14</td>\n",
       "      <td>0</td>\n",
       "    </tr>\n",
       "    <tr>\n",
       "      <td>3</td>\n",
       "      <td>1000</td>\n",
       "      <td>2018-08-01</td>\n",
       "      <td>14</td>\n",
       "      <td>0</td>\n",
       "    </tr>\n",
       "    <tr>\n",
       "      <td>4</td>\n",
       "      <td>1000</td>\n",
       "      <td>2018-09-01</td>\n",
       "      <td>15</td>\n",
       "      <td>0</td>\n",
       "    </tr>\n",
       "  </tbody>\n",
       "</table>\n",
       "</div>"
      ],
      "text/plain": [
       "   user_id      month  mb_used_sum  revenue_internet_per\n",
       "0     1000 2018-05-01            3                     0\n",
       "1     1000 2018-06-01           23                     0\n",
       "2     1000 2018-07-01           14                     0\n",
       "3     1000 2018-08-01           14                     0\n",
       "4     1000 2018-09-01           15                     0"
      ]
     },
     "execution_count": 64,
     "metadata": {},
     "output_type": "execute_result"
    }
   ],
   "source": [
    "#переименуем стобцы\n",
    "internet_month_user_4.columns = ['user_id','month','mb_used_sum','revenue_internet_per']\n",
    "internet_month_user_4.head()"
   ]
  },
  {
   "cell_type": "code",
   "execution_count": 65,
   "metadata": {},
   "outputs": [
    {
     "data": {
      "text/plain": [
       "user_id                 0\n",
       "month                   0\n",
       "mb_used_sum             0\n",
       "revenue_internet_per    0\n",
       "dtype: int64"
      ]
     },
     "execution_count": 65,
     "metadata": {},
     "output_type": "execute_result"
    }
   ],
   "source": [
    "internet_month_user_4.isna().sum()"
   ]
  },
  {
   "cell_type": "code",
   "execution_count": 66,
   "metadata": {},
   "outputs": [
    {
     "data": {
      "text/html": [
       "<div>\n",
       "<style scoped>\n",
       "    .dataframe tbody tr th:only-of-type {\n",
       "        vertical-align: middle;\n",
       "    }\n",
       "\n",
       "    .dataframe tbody tr th {\n",
       "        vertical-align: top;\n",
       "    }\n",
       "\n",
       "    .dataframe thead th {\n",
       "        text-align: right;\n",
       "    }\n",
       "</style>\n",
       "<table border=\"1\" class=\"dataframe\">\n",
       "  <thead>\n",
       "    <tr style=\"text-align: right;\">\n",
       "      <th></th>\n",
       "      <th>user_id</th>\n",
       "      <th>month</th>\n",
       "      <th>duration_count</th>\n",
       "      <th>duration_sum</th>\n",
       "      <th>age</th>\n",
       "      <th>churn_date</th>\n",
       "      <th>city</th>\n",
       "      <th>first_name</th>\n",
       "      <th>last_name</th>\n",
       "      <th>reg_date</th>\n",
       "      <th>tariff</th>\n",
       "      <th>revenue_calls_per</th>\n",
       "      <th>id_count</th>\n",
       "      <th>revenue_messages_per</th>\n",
       "    </tr>\n",
       "  </thead>\n",
       "  <tbody>\n",
       "    <tr>\n",
       "      <td>0</td>\n",
       "      <td>1000</td>\n",
       "      <td>2018-05-01</td>\n",
       "      <td>22.0</td>\n",
       "      <td>159.0</td>\n",
       "      <td>52.0</td>\n",
       "      <td>NaT</td>\n",
       "      <td>Краснодар</td>\n",
       "      <td>Рафаил</td>\n",
       "      <td>Верещагин</td>\n",
       "      <td>2018-05-25</td>\n",
       "      <td>ultra</td>\n",
       "      <td>0.0</td>\n",
       "      <td>22.0</td>\n",
       "      <td>0.0</td>\n",
       "    </tr>\n",
       "    <tr>\n",
       "      <td>1</td>\n",
       "      <td>1000</td>\n",
       "      <td>2018-06-01</td>\n",
       "      <td>43.0</td>\n",
       "      <td>172.0</td>\n",
       "      <td>52.0</td>\n",
       "      <td>NaT</td>\n",
       "      <td>Краснодар</td>\n",
       "      <td>Рафаил</td>\n",
       "      <td>Верещагин</td>\n",
       "      <td>2018-05-25</td>\n",
       "      <td>ultra</td>\n",
       "      <td>0.0</td>\n",
       "      <td>60.0</td>\n",
       "      <td>0.0</td>\n",
       "    </tr>\n",
       "    <tr>\n",
       "      <td>2</td>\n",
       "      <td>1000</td>\n",
       "      <td>2018-07-01</td>\n",
       "      <td>47.0</td>\n",
       "      <td>340.0</td>\n",
       "      <td>52.0</td>\n",
       "      <td>NaT</td>\n",
       "      <td>Краснодар</td>\n",
       "      <td>Рафаил</td>\n",
       "      <td>Верещагин</td>\n",
       "      <td>2018-05-25</td>\n",
       "      <td>ultra</td>\n",
       "      <td>0.0</td>\n",
       "      <td>75.0</td>\n",
       "      <td>0.0</td>\n",
       "    </tr>\n",
       "    <tr>\n",
       "      <td>3</td>\n",
       "      <td>1000</td>\n",
       "      <td>2018-08-01</td>\n",
       "      <td>52.0</td>\n",
       "      <td>408.0</td>\n",
       "      <td>52.0</td>\n",
       "      <td>NaT</td>\n",
       "      <td>Краснодар</td>\n",
       "      <td>Рафаил</td>\n",
       "      <td>Верещагин</td>\n",
       "      <td>2018-05-25</td>\n",
       "      <td>ultra</td>\n",
       "      <td>0.0</td>\n",
       "      <td>81.0</td>\n",
       "      <td>0.0</td>\n",
       "    </tr>\n",
       "    <tr>\n",
       "      <td>4</td>\n",
       "      <td>1000</td>\n",
       "      <td>2018-09-01</td>\n",
       "      <td>58.0</td>\n",
       "      <td>466.0</td>\n",
       "      <td>52.0</td>\n",
       "      <td>NaT</td>\n",
       "      <td>Краснодар</td>\n",
       "      <td>Рафаил</td>\n",
       "      <td>Верещагин</td>\n",
       "      <td>2018-05-25</td>\n",
       "      <td>ultra</td>\n",
       "      <td>0.0</td>\n",
       "      <td>57.0</td>\n",
       "      <td>0.0</td>\n",
       "    </tr>\n",
       "  </tbody>\n",
       "</table>\n",
       "</div>"
      ],
      "text/plain": [
       "   user_id      month  duration_count  duration_sum   age churn_date  \\\n",
       "0     1000 2018-05-01            22.0         159.0  52.0        NaT   \n",
       "1     1000 2018-06-01            43.0         172.0  52.0        NaT   \n",
       "2     1000 2018-07-01            47.0         340.0  52.0        NaT   \n",
       "3     1000 2018-08-01            52.0         408.0  52.0        NaT   \n",
       "4     1000 2018-09-01            58.0         466.0  52.0        NaT   \n",
       "\n",
       "        city first_name  last_name   reg_date tariff  revenue_calls_per  \\\n",
       "0  Краснодар     Рафаил  Верещагин 2018-05-25  ultra                0.0   \n",
       "1  Краснодар     Рафаил  Верещагин 2018-05-25  ultra                0.0   \n",
       "2  Краснодар     Рафаил  Верещагин 2018-05-25  ultra                0.0   \n",
       "3  Краснодар     Рафаил  Верещагин 2018-05-25  ultra                0.0   \n",
       "4  Краснодар     Рафаил  Верещагин 2018-05-25  ultra                0.0   \n",
       "\n",
       "   id_count  revenue_messages_per  \n",
       "0      22.0                   0.0  \n",
       "1      60.0                   0.0  \n",
       "2      75.0                   0.0  \n",
       "3      81.0                   0.0  \n",
       "4      57.0                   0.0  "
      ]
     },
     "execution_count": 66,
     "metadata": {},
     "output_type": "execute_result"
    }
   ],
   "source": [
    "#объединим таблицы\n",
    "revenue_month_user_1 = pd.merge(calls_month_user_3, messages_month_user_4,how='outer',\\\n",
    "                                on = ['user_id', 'month'] )\n",
    "revenue_month_user_1 .head()"
   ]
  },
  {
   "cell_type": "code",
   "execution_count": 67,
   "metadata": {},
   "outputs": [
    {
     "data": {
      "text/plain": [
       "user_id                    0\n",
       "month                      0\n",
       "duration_count            39\n",
       "duration_sum              39\n",
       "age                       39\n",
       "churn_date              3026\n",
       "city                      39\n",
       "first_name                39\n",
       "last_name                 39\n",
       "reg_date                  39\n",
       "tariff                    39\n",
       "revenue_calls_per         39\n",
       "id_count                 496\n",
       "revenue_messages_per     496\n",
       "dtype: int64"
      ]
     },
     "execution_count": 67,
     "metadata": {},
     "output_type": "execute_result"
    }
   ],
   "source": [
    "revenue_month_user_1.isna().sum()"
   ]
  },
  {
   "cell_type": "code",
   "execution_count": 68,
   "metadata": {},
   "outputs": [
    {
     "data": {
      "text/html": [
       "<div>\n",
       "<style scoped>\n",
       "    .dataframe tbody tr th:only-of-type {\n",
       "        vertical-align: middle;\n",
       "    }\n",
       "\n",
       "    .dataframe tbody tr th {\n",
       "        vertical-align: top;\n",
       "    }\n",
       "\n",
       "    .dataframe thead th {\n",
       "        text-align: right;\n",
       "    }\n",
       "</style>\n",
       "<table border=\"1\" class=\"dataframe\">\n",
       "  <thead>\n",
       "    <tr style=\"text-align: right;\">\n",
       "      <th></th>\n",
       "      <th>user_id</th>\n",
       "      <th>month</th>\n",
       "      <th>duration_count</th>\n",
       "      <th>duration_sum</th>\n",
       "      <th>age</th>\n",
       "      <th>churn_date</th>\n",
       "      <th>city</th>\n",
       "      <th>first_name</th>\n",
       "      <th>last_name</th>\n",
       "      <th>reg_date</th>\n",
       "      <th>tariff</th>\n",
       "      <th>revenue_calls_per</th>\n",
       "      <th>id_count</th>\n",
       "      <th>revenue_messages_per</th>\n",
       "      <th>mb_used_sum</th>\n",
       "      <th>revenue_internet_per</th>\n",
       "    </tr>\n",
       "  </thead>\n",
       "  <tbody>\n",
       "    <tr>\n",
       "      <td>0</td>\n",
       "      <td>1000</td>\n",
       "      <td>2018-05-01</td>\n",
       "      <td>22.0</td>\n",
       "      <td>159.0</td>\n",
       "      <td>52.0</td>\n",
       "      <td>NaT</td>\n",
       "      <td>Краснодар</td>\n",
       "      <td>Рафаил</td>\n",
       "      <td>Верещагин</td>\n",
       "      <td>2018-05-25</td>\n",
       "      <td>ultra</td>\n",
       "      <td>0.0</td>\n",
       "      <td>22.0</td>\n",
       "      <td>0.0</td>\n",
       "      <td>3.0</td>\n",
       "      <td>0.0</td>\n",
       "    </tr>\n",
       "    <tr>\n",
       "      <td>1</td>\n",
       "      <td>1000</td>\n",
       "      <td>2018-06-01</td>\n",
       "      <td>43.0</td>\n",
       "      <td>172.0</td>\n",
       "      <td>52.0</td>\n",
       "      <td>NaT</td>\n",
       "      <td>Краснодар</td>\n",
       "      <td>Рафаил</td>\n",
       "      <td>Верещагин</td>\n",
       "      <td>2018-05-25</td>\n",
       "      <td>ultra</td>\n",
       "      <td>0.0</td>\n",
       "      <td>60.0</td>\n",
       "      <td>0.0</td>\n",
       "      <td>23.0</td>\n",
       "      <td>0.0</td>\n",
       "    </tr>\n",
       "    <tr>\n",
       "      <td>2</td>\n",
       "      <td>1000</td>\n",
       "      <td>2018-07-01</td>\n",
       "      <td>47.0</td>\n",
       "      <td>340.0</td>\n",
       "      <td>52.0</td>\n",
       "      <td>NaT</td>\n",
       "      <td>Краснодар</td>\n",
       "      <td>Рафаил</td>\n",
       "      <td>Верещагин</td>\n",
       "      <td>2018-05-25</td>\n",
       "      <td>ultra</td>\n",
       "      <td>0.0</td>\n",
       "      <td>75.0</td>\n",
       "      <td>0.0</td>\n",
       "      <td>14.0</td>\n",
       "      <td>0.0</td>\n",
       "    </tr>\n",
       "    <tr>\n",
       "      <td>3</td>\n",
       "      <td>1000</td>\n",
       "      <td>2018-08-01</td>\n",
       "      <td>52.0</td>\n",
       "      <td>408.0</td>\n",
       "      <td>52.0</td>\n",
       "      <td>NaT</td>\n",
       "      <td>Краснодар</td>\n",
       "      <td>Рафаил</td>\n",
       "      <td>Верещагин</td>\n",
       "      <td>2018-05-25</td>\n",
       "      <td>ultra</td>\n",
       "      <td>0.0</td>\n",
       "      <td>81.0</td>\n",
       "      <td>0.0</td>\n",
       "      <td>14.0</td>\n",
       "      <td>0.0</td>\n",
       "    </tr>\n",
       "    <tr>\n",
       "      <td>4</td>\n",
       "      <td>1000</td>\n",
       "      <td>2018-09-01</td>\n",
       "      <td>58.0</td>\n",
       "      <td>466.0</td>\n",
       "      <td>52.0</td>\n",
       "      <td>NaT</td>\n",
       "      <td>Краснодар</td>\n",
       "      <td>Рафаил</td>\n",
       "      <td>Верещагин</td>\n",
       "      <td>2018-05-25</td>\n",
       "      <td>ultra</td>\n",
       "      <td>0.0</td>\n",
       "      <td>57.0</td>\n",
       "      <td>0.0</td>\n",
       "      <td>15.0</td>\n",
       "      <td>0.0</td>\n",
       "    </tr>\n",
       "  </tbody>\n",
       "</table>\n",
       "</div>"
      ],
      "text/plain": [
       "   user_id      month  duration_count  duration_sum   age churn_date  \\\n",
       "0     1000 2018-05-01            22.0         159.0  52.0        NaT   \n",
       "1     1000 2018-06-01            43.0         172.0  52.0        NaT   \n",
       "2     1000 2018-07-01            47.0         340.0  52.0        NaT   \n",
       "3     1000 2018-08-01            52.0         408.0  52.0        NaT   \n",
       "4     1000 2018-09-01            58.0         466.0  52.0        NaT   \n",
       "\n",
       "        city first_name  last_name   reg_date tariff  revenue_calls_per  \\\n",
       "0  Краснодар     Рафаил  Верещагин 2018-05-25  ultra                0.0   \n",
       "1  Краснодар     Рафаил  Верещагин 2018-05-25  ultra                0.0   \n",
       "2  Краснодар     Рафаил  Верещагин 2018-05-25  ultra                0.0   \n",
       "3  Краснодар     Рафаил  Верещагин 2018-05-25  ultra                0.0   \n",
       "4  Краснодар     Рафаил  Верещагин 2018-05-25  ultra                0.0   \n",
       "\n",
       "   id_count  revenue_messages_per  mb_used_sum  revenue_internet_per  \n",
       "0      22.0                   0.0          3.0                   0.0  \n",
       "1      60.0                   0.0         23.0                   0.0  \n",
       "2      75.0                   0.0         14.0                   0.0  \n",
       "3      81.0                   0.0         14.0                   0.0  \n",
       "4      57.0                   0.0         15.0                   0.0  "
      ]
     },
     "execution_count": 68,
     "metadata": {},
     "output_type": "execute_result"
    }
   ],
   "source": [
    "#объединим таблицы\n",
    "revenue_month_user_2 = pd.merge(revenue_month_user_1, internet_month_user_4,how='outer', \\\n",
    "                                on = ['user_id', 'month'] )\n",
    "revenue_month_user_2 .head()"
   ]
  },
  {
   "cell_type": "code",
   "execution_count": 69,
   "metadata": {},
   "outputs": [
    {
     "data": {
      "text/plain": [
       "user_id                    0\n",
       "month                      0\n",
       "duration_count            40\n",
       "duration_sum              40\n",
       "age                       40\n",
       "churn_date              3027\n",
       "city                      40\n",
       "first_name                40\n",
       "last_name                 40\n",
       "reg_date                  40\n",
       "tariff                    40\n",
       "revenue_calls_per         40\n",
       "id_count                 497\n",
       "revenue_messages_per     497\n",
       "mb_used_sum               11\n",
       "revenue_internet_per      11\n",
       "dtype: int64"
      ]
     },
     "execution_count": 69,
     "metadata": {},
     "output_type": "execute_result"
    }
   ],
   "source": [
    "revenue_month_user_2.isna().sum()"
   ]
  },
  {
   "cell_type": "markdown",
   "metadata": {},
   "source": [
    "Посчитаем общую выручку с одного абонента в месяц:"
   ]
  },
  {
   "cell_type": "code",
   "execution_count": 70,
   "metadata": {},
   "outputs": [
    {
     "data": {
      "text/html": [
       "<div>\n",
       "<style scoped>\n",
       "    .dataframe tbody tr th:only-of-type {\n",
       "        vertical-align: middle;\n",
       "    }\n",
       "\n",
       "    .dataframe tbody tr th {\n",
       "        vertical-align: top;\n",
       "    }\n",
       "\n",
       "    .dataframe thead th {\n",
       "        text-align: right;\n",
       "    }\n",
       "</style>\n",
       "<table border=\"1\" class=\"dataframe\">\n",
       "  <thead>\n",
       "    <tr style=\"text-align: right;\">\n",
       "      <th></th>\n",
       "      <th>user_id</th>\n",
       "      <th>month</th>\n",
       "      <th>duration_count</th>\n",
       "      <th>duration_sum</th>\n",
       "      <th>age</th>\n",
       "      <th>churn_date</th>\n",
       "      <th>city</th>\n",
       "      <th>first_name</th>\n",
       "      <th>last_name</th>\n",
       "      <th>reg_date</th>\n",
       "      <th>tariff</th>\n",
       "      <th>revenue_calls_per</th>\n",
       "      <th>id_count</th>\n",
       "      <th>revenue_messages_per</th>\n",
       "      <th>mb_used_sum</th>\n",
       "      <th>revenue_internet_per</th>\n",
       "      <th>revenue_users_month</th>\n",
       "    </tr>\n",
       "  </thead>\n",
       "  <tbody>\n",
       "    <tr>\n",
       "      <td>0</td>\n",
       "      <td>1000</td>\n",
       "      <td>2018-05-01</td>\n",
       "      <td>22.0</td>\n",
       "      <td>159.0</td>\n",
       "      <td>52.0</td>\n",
       "      <td>NaT</td>\n",
       "      <td>Краснодар</td>\n",
       "      <td>Рафаил</td>\n",
       "      <td>Верещагин</td>\n",
       "      <td>2018-05-25</td>\n",
       "      <td>ultra</td>\n",
       "      <td>0.0</td>\n",
       "      <td>22.0</td>\n",
       "      <td>0.0</td>\n",
       "      <td>3.0</td>\n",
       "      <td>0.0</td>\n",
       "      <td>1950.0</td>\n",
       "    </tr>\n",
       "    <tr>\n",
       "      <td>1</td>\n",
       "      <td>1000</td>\n",
       "      <td>2018-06-01</td>\n",
       "      <td>43.0</td>\n",
       "      <td>172.0</td>\n",
       "      <td>52.0</td>\n",
       "      <td>NaT</td>\n",
       "      <td>Краснодар</td>\n",
       "      <td>Рафаил</td>\n",
       "      <td>Верещагин</td>\n",
       "      <td>2018-05-25</td>\n",
       "      <td>ultra</td>\n",
       "      <td>0.0</td>\n",
       "      <td>60.0</td>\n",
       "      <td>0.0</td>\n",
       "      <td>23.0</td>\n",
       "      <td>0.0</td>\n",
       "      <td>1950.0</td>\n",
       "    </tr>\n",
       "    <tr>\n",
       "      <td>2</td>\n",
       "      <td>1000</td>\n",
       "      <td>2018-07-01</td>\n",
       "      <td>47.0</td>\n",
       "      <td>340.0</td>\n",
       "      <td>52.0</td>\n",
       "      <td>NaT</td>\n",
       "      <td>Краснодар</td>\n",
       "      <td>Рафаил</td>\n",
       "      <td>Верещагин</td>\n",
       "      <td>2018-05-25</td>\n",
       "      <td>ultra</td>\n",
       "      <td>0.0</td>\n",
       "      <td>75.0</td>\n",
       "      <td>0.0</td>\n",
       "      <td>14.0</td>\n",
       "      <td>0.0</td>\n",
       "      <td>1950.0</td>\n",
       "    </tr>\n",
       "    <tr>\n",
       "      <td>3</td>\n",
       "      <td>1000</td>\n",
       "      <td>2018-08-01</td>\n",
       "      <td>52.0</td>\n",
       "      <td>408.0</td>\n",
       "      <td>52.0</td>\n",
       "      <td>NaT</td>\n",
       "      <td>Краснодар</td>\n",
       "      <td>Рафаил</td>\n",
       "      <td>Верещагин</td>\n",
       "      <td>2018-05-25</td>\n",
       "      <td>ultra</td>\n",
       "      <td>0.0</td>\n",
       "      <td>81.0</td>\n",
       "      <td>0.0</td>\n",
       "      <td>14.0</td>\n",
       "      <td>0.0</td>\n",
       "      <td>1950.0</td>\n",
       "    </tr>\n",
       "    <tr>\n",
       "      <td>4</td>\n",
       "      <td>1000</td>\n",
       "      <td>2018-09-01</td>\n",
       "      <td>58.0</td>\n",
       "      <td>466.0</td>\n",
       "      <td>52.0</td>\n",
       "      <td>NaT</td>\n",
       "      <td>Краснодар</td>\n",
       "      <td>Рафаил</td>\n",
       "      <td>Верещагин</td>\n",
       "      <td>2018-05-25</td>\n",
       "      <td>ultra</td>\n",
       "      <td>0.0</td>\n",
       "      <td>57.0</td>\n",
       "      <td>0.0</td>\n",
       "      <td>15.0</td>\n",
       "      <td>0.0</td>\n",
       "      <td>1950.0</td>\n",
       "    </tr>\n",
       "  </tbody>\n",
       "</table>\n",
       "</div>"
      ],
      "text/plain": [
       "   user_id      month  duration_count  duration_sum   age churn_date  \\\n",
       "0     1000 2018-05-01            22.0         159.0  52.0        NaT   \n",
       "1     1000 2018-06-01            43.0         172.0  52.0        NaT   \n",
       "2     1000 2018-07-01            47.0         340.0  52.0        NaT   \n",
       "3     1000 2018-08-01            52.0         408.0  52.0        NaT   \n",
       "4     1000 2018-09-01            58.0         466.0  52.0        NaT   \n",
       "\n",
       "        city first_name  last_name   reg_date tariff  revenue_calls_per  \\\n",
       "0  Краснодар     Рафаил  Верещагин 2018-05-25  ultra                0.0   \n",
       "1  Краснодар     Рафаил  Верещагин 2018-05-25  ultra                0.0   \n",
       "2  Краснодар     Рафаил  Верещагин 2018-05-25  ultra                0.0   \n",
       "3  Краснодар     Рафаил  Верещагин 2018-05-25  ultra                0.0   \n",
       "4  Краснодар     Рафаил  Верещагин 2018-05-25  ultra                0.0   \n",
       "\n",
       "   id_count  revenue_messages_per  mb_used_sum  revenue_internet_per  \\\n",
       "0      22.0                   0.0          3.0                   0.0   \n",
       "1      60.0                   0.0         23.0                   0.0   \n",
       "2      75.0                   0.0         14.0                   0.0   \n",
       "3      81.0                   0.0         14.0                   0.0   \n",
       "4      57.0                   0.0         15.0                   0.0   \n",
       "\n",
       "   revenue_users_month  \n",
       "0               1950.0  \n",
       "1               1950.0  \n",
       "2               1950.0  \n",
       "3               1950.0  \n",
       "4               1950.0  "
      ]
     },
     "execution_count": 70,
     "metadata": {},
     "output_type": "execute_result"
    }
   ],
   "source": [
    "def revenue_users_month (row):\n",
    "    \"\"\"\n",
    "    функция, которая считает выручку с каждого пользователя:\n",
    "    - если тариф \"Ультра\", то:\n",
    "      выручка = (абонентская плата по тарифу \"Ультра\"\n",
    "                + выручка от \"платных \"звонков \n",
    "                + выручка от \"платных\" сообщений \n",
    "                + выручка от \"платного\" интернет-трафика)\n",
    "    \n",
    "    - если тариф \"Смарт\" , то: \n",
    "      выручка = (абонентская плата по тарифу \"Смарт\"\n",
    "                + выручка от \"платных \"звонков \n",
    "                + выручка от \"платных\" сообщений \n",
    "                + выручка от \"платного\" интернет-трафика)\n",
    "    \"\"\"\n",
    "    if (row['tariff'] == 'ultra'):\n",
    "        return (1950 + row['revenue_calls_per'] + row['revenue_messages_per'] \\\n",
    "                + row['revenue_internet_per'])\n",
    "    if (row['tariff'] == 'smart'):\n",
    "        return (550 + row['revenue_calls_per'] + row['revenue_messages_per'] \\\n",
    "                + row['revenue_internet_per'])\n",
    "   \n",
    "    \n",
    "#создадим новый столбец с результатами работы функции 'revenue_users_month'\n",
    "revenue_month_user_2 ['revenue_users_month'] = revenue_month_user_2\\\n",
    "        .apply(revenue_users_month, axis=1)\n",
    "revenue_month_user_2.head()\n"
   ]
  },
  {
   "cell_type": "code",
   "execution_count": 71,
   "metadata": {},
   "outputs": [
    {
     "data": {
      "text/plain": [
       "user_id                    0\n",
       "month                      0\n",
       "duration_count            40\n",
       "duration_sum              40\n",
       "age                       40\n",
       "churn_date              3027\n",
       "city                      40\n",
       "first_name                40\n",
       "last_name                 40\n",
       "reg_date                  40\n",
       "tariff                    40\n",
       "revenue_calls_per         40\n",
       "id_count                 497\n",
       "revenue_messages_per     497\n",
       "mb_used_sum               11\n",
       "revenue_internet_per      11\n",
       "revenue_users_month      547\n",
       "dtype: int64"
      ]
     },
     "execution_count": 71,
     "metadata": {},
     "output_type": "execute_result"
    }
   ],
   "source": [
    "revenue_month_user_2.isna().sum()"
   ]
  },
  {
   "cell_type": "markdown",
   "metadata": {},
   "source": [
    "Итак, необходимые датасеты загружены, данные подготовлены к их анализу, для каждого пользователя рассчитаны:\n",
    "- количество сделанных звонков и израсходованных минут разговора по месяцам;\n",
    "- количество отправленных сообщений по месяцам;\n",
    "- объем израсходованного интернет-трафика по месяцам;\n",
    "- помесячную выручку с каждого пользователя (вычтите бесплатный лимит из суммарного количества звонков, сообщений и интернет-трафика; остаток умножьте на значение из тарифного плана; прибавьте абонентскую плату, соответствующую тарифному плану)."
   ]
  },
  {
   "cell_type": "markdown",
   "metadata": {},
   "source": [
    "## Анализ данных."
   ]
  },
  {
   "cell_type": "markdown",
   "metadata": {},
   "source": [
    "### Поведение клиентов оператора (исходя из выборки), в зависимости от тарифа."
   ]
  },
  {
   "cell_type": "markdown",
   "metadata": {},
   "source": [
    "#### Общие показатели анализа тарифов Смарт и Ультра."
   ]
  },
  {
   "cell_type": "markdown",
   "metadata": {},
   "source": [
    "Посмотрим долю количества абонентов двух тарифов."
   ]
  },
  {
   "cell_type": "code",
   "execution_count": 72,
   "metadata": {},
   "outputs": [
    {
     "data": {
      "text/html": [
       "<div>\n",
       "<style scoped>\n",
       "    .dataframe tbody tr th:only-of-type {\n",
       "        vertical-align: middle;\n",
       "    }\n",
       "\n",
       "    .dataframe tbody tr th {\n",
       "        vertical-align: top;\n",
       "    }\n",
       "\n",
       "    .dataframe thead th {\n",
       "        text-align: right;\n",
       "    }\n",
       "</style>\n",
       "<table border=\"1\" class=\"dataframe\">\n",
       "  <thead>\n",
       "    <tr style=\"text-align: right;\">\n",
       "      <th></th>\n",
       "      <th>tariff</th>\n",
       "      <th>user_id</th>\n",
       "    </tr>\n",
       "    <tr>\n",
       "      <th>tariff</th>\n",
       "      <th></th>\n",
       "      <th></th>\n",
       "    </tr>\n",
       "  </thead>\n",
       "  <tbody>\n",
       "    <tr>\n",
       "      <td>smart</td>\n",
       "      <td>1</td>\n",
       "      <td>349</td>\n",
       "    </tr>\n",
       "    <tr>\n",
       "      <td>ultra</td>\n",
       "      <td>1</td>\n",
       "      <td>143</td>\n",
       "    </tr>\n",
       "  </tbody>\n",
       "</table>\n",
       "</div>"
      ],
      "text/plain": [
       "        tariff  user_id\n",
       "tariff                 \n",
       "smart        1      349\n",
       "ultra        1      143"
      ]
     },
     "execution_count": 72,
     "metadata": {},
     "output_type": "execute_result"
    }
   ],
   "source": [
    "#посчитаем количество абонентов\n",
    "user_count = revenue_month_user_2.\\\n",
    "pivot_table(index = 'tariff', values = 'user_id', aggfunc ='nunique')\n",
    "user_count"
   ]
  },
  {
   "cell_type": "code",
   "execution_count": 73,
   "metadata": {},
   "outputs": [
    {
     "data": {
      "text/plain": [
       "Text(0.5, 1.0, 'Количество абонентов в зависимости от тарифа')"
      ]
     },
     "execution_count": 73,
     "metadata": {},
     "output_type": "execute_result"
    },
    {
     "data": {
      "image/png": "[encoded data removed]",
      "text/plain": [
       "<Figure size 432x288 with 1 Axes>"
      ]
     },
     "metadata": {
      "needs_background": "light"
     },
     "output_type": "display_data"
    }
   ],
   "source": [
    "#построим гистограмму количества абонентов, в зависимости от тарифа\n",
    "revenue_month_user_2.\\\n",
    "pivot_table(index = 'tariff', values = 'user_id', aggfunc ='nunique')\\\n",
    ".plot(y='user_id', kind='bar')\n",
    "plt.title('Количество абонентов в зависимости от тарифа')"
   ]
  },
  {
   "cell_type": "code",
   "execution_count": 74,
   "metadata": {},
   "outputs": [
    {
     "data": {
      "text/plain": [
       "0.7183770883054893"
      ]
     },
     "execution_count": 74,
     "metadata": {},
     "output_type": "execute_result"
    }
   ],
   "source": [
    "#посчитаем долю количества по каждому тарифу\n",
    "301 / (301+118) # тариa Смарт\n"
   ]
  },
  {
   "cell_type": "code",
   "execution_count": 75,
   "metadata": {},
   "outputs": [
    {
     "data": {
      "text/plain": [
       "0.28162291169451076"
      ]
     },
     "execution_count": 75,
     "metadata": {},
     "output_type": "execute_result"
    }
   ],
   "source": [
    "118 / (301+118) # тариф Ультра"
   ]
  },
  {
   "cell_type": "markdown",
   "metadata": {},
   "source": [
    "Судя по графику видно, что в выборке тариф Смарт лидирует по количеству абонентов более чем в два раза. Смарт - 72%, Ультра - 28%."
   ]
  },
  {
   "cell_type": "markdown",
   "metadata": {},
   "source": [
    "Рассчитаем долю выручки по каждому тарифу."
   ]
  },
  {
   "cell_type": "code",
   "execution_count": 76,
   "metadata": {},
   "outputs": [
    {
     "data": {
      "text/html": [
       "<div>\n",
       "<style scoped>\n",
       "    .dataframe tbody tr th:only-of-type {\n",
       "        vertical-align: middle;\n",
       "    }\n",
       "\n",
       "    .dataframe tbody tr th {\n",
       "        vertical-align: top;\n",
       "    }\n",
       "\n",
       "    .dataframe thead th {\n",
       "        text-align: right;\n",
       "    }\n",
       "</style>\n",
       "<table border=\"1\" class=\"dataframe\">\n",
       "  <thead>\n",
       "    <tr style=\"text-align: right;\">\n",
       "      <th></th>\n",
       "      <th>revenue_users_month</th>\n",
       "    </tr>\n",
       "    <tr>\n",
       "      <th>tariff</th>\n",
       "      <th></th>\n",
       "    </tr>\n",
       "  </thead>\n",
       "  <tbody>\n",
       "    <tr>\n",
       "      <td>smart</td>\n",
       "      <td>2471648.0</td>\n",
       "    </tr>\n",
       "    <tr>\n",
       "      <td>ultra</td>\n",
       "      <td>1540800.0</td>\n",
       "    </tr>\n",
       "  </tbody>\n",
       "</table>\n",
       "</div>"
      ],
      "text/plain": [
       "        revenue_users_month\n",
       "tariff                     \n",
       "smart             2471648.0\n",
       "ultra             1540800.0"
      ]
     },
     "execution_count": 76,
     "metadata": {},
     "output_type": "execute_result"
    }
   ],
   "source": [
    "#посчитаем количество абонентов\n",
    "user_count = revenue_month_user_2.\\\n",
    "pivot_table(index = 'tariff', values = 'revenue_users_month', aggfunc ='sum')\n",
    "user_count"
   ]
  },
  {
   "cell_type": "code",
   "execution_count": 77,
   "metadata": {},
   "outputs": [
    {
     "data": {
      "text/plain": [
       "Text(0.5, 1.0, 'Количество абонентов в зависимости от тарифа')"
      ]
     },
     "execution_count": 77,
     "metadata": {},
     "output_type": "execute_result"
    },
    {
     "data": {
      "image/png": "[encoded data removed]",
      "text/plain": [
       "<Figure size 432x288 with 1 Axes>"
      ]
     },
     "metadata": {
      "needs_background": "light"
     },
     "output_type": "display_data"
    }
   ],
   "source": [
    "revenue_month_user_2.\\\n",
    "pivot_table(index = 'tariff', values = 'revenue_users_month', aggfunc ='sum').plot(y='revenue_users_month', kind='bar')\n",
    "plt.title('Количество абонентов в зависимости от тарифа')"
   ]
  },
  {
   "cell_type": "code",
   "execution_count": 78,
   "metadata": {},
   "outputs": [
    {
     "data": {
      "text/plain": [
       "0.5886000875481858"
      ]
     },
     "execution_count": 78,
     "metadata": {},
     "output_type": "execute_result"
    }
   ],
   "source": [
    "#Смарт\n",
    "2184931.49 / (2184931.49 + 1527150.00)"
   ]
  },
  {
   "cell_type": "code",
   "execution_count": 79,
   "metadata": {},
   "outputs": [
    {
     "data": {
      "text/plain": [
       "0.4113999124518142"
      ]
     },
     "execution_count": 79,
     "metadata": {},
     "output_type": "execute_result"
    }
   ],
   "source": [
    "#Ультра\n",
    "1527150.00 / (2184931.49 + 1527150.00)"
   ]
  },
  {
   "cell_type": "markdown",
   "metadata": {},
   "source": [
    "По доле выручки тариф Смарт (59%) так же выше тарифа Ультра (41%)."
   ]
  },
  {
   "cell_type": "markdown",
   "metadata": {},
   "source": [
    "Разделим общую таблицу на две: для удобства в расчетах и анализе показателей отдельно по каждому тарифу."
   ]
  },
  {
   "cell_type": "code",
   "execution_count": 80,
   "metadata": {},
   "outputs": [
    {
     "data": {
      "text/html": [
       "<div>\n",
       "<style scoped>\n",
       "    .dataframe tbody tr th:only-of-type {\n",
       "        vertical-align: middle;\n",
       "    }\n",
       "\n",
       "    .dataframe tbody tr th {\n",
       "        vertical-align: top;\n",
       "    }\n",
       "\n",
       "    .dataframe thead th {\n",
       "        text-align: right;\n",
       "    }\n",
       "</style>\n",
       "<table border=\"1\" class=\"dataframe\">\n",
       "  <thead>\n",
       "    <tr style=\"text-align: right;\">\n",
       "      <th></th>\n",
       "      <th>user_id</th>\n",
       "      <th>month</th>\n",
       "      <th>duration_count</th>\n",
       "      <th>duration_sum</th>\n",
       "      <th>age</th>\n",
       "      <th>churn_date</th>\n",
       "      <th>city</th>\n",
       "      <th>first_name</th>\n",
       "      <th>last_name</th>\n",
       "      <th>reg_date</th>\n",
       "      <th>tariff</th>\n",
       "      <th>revenue_calls_per</th>\n",
       "      <th>id_count</th>\n",
       "      <th>revenue_messages_per</th>\n",
       "      <th>mb_used_sum</th>\n",
       "      <th>revenue_internet_per</th>\n",
       "      <th>revenue_users_month</th>\n",
       "    </tr>\n",
       "  </thead>\n",
       "  <tbody>\n",
       "    <tr>\n",
       "      <td>0</td>\n",
       "      <td>1000</td>\n",
       "      <td>2018-05-01</td>\n",
       "      <td>22.0</td>\n",
       "      <td>159.0</td>\n",
       "      <td>52.0</td>\n",
       "      <td>NaT</td>\n",
       "      <td>Краснодар</td>\n",
       "      <td>Рафаил</td>\n",
       "      <td>Верещагин</td>\n",
       "      <td>2018-05-25</td>\n",
       "      <td>ultra</td>\n",
       "      <td>0.0</td>\n",
       "      <td>22.0</td>\n",
       "      <td>0.0</td>\n",
       "      <td>3.0</td>\n",
       "      <td>0.0</td>\n",
       "      <td>1950.0</td>\n",
       "    </tr>\n",
       "    <tr>\n",
       "      <td>1</td>\n",
       "      <td>1000</td>\n",
       "      <td>2018-06-01</td>\n",
       "      <td>43.0</td>\n",
       "      <td>172.0</td>\n",
       "      <td>52.0</td>\n",
       "      <td>NaT</td>\n",
       "      <td>Краснодар</td>\n",
       "      <td>Рафаил</td>\n",
       "      <td>Верещагин</td>\n",
       "      <td>2018-05-25</td>\n",
       "      <td>ultra</td>\n",
       "      <td>0.0</td>\n",
       "      <td>60.0</td>\n",
       "      <td>0.0</td>\n",
       "      <td>23.0</td>\n",
       "      <td>0.0</td>\n",
       "      <td>1950.0</td>\n",
       "    </tr>\n",
       "    <tr>\n",
       "      <td>2</td>\n",
       "      <td>1000</td>\n",
       "      <td>2018-07-01</td>\n",
       "      <td>47.0</td>\n",
       "      <td>340.0</td>\n",
       "      <td>52.0</td>\n",
       "      <td>NaT</td>\n",
       "      <td>Краснодар</td>\n",
       "      <td>Рафаил</td>\n",
       "      <td>Верещагин</td>\n",
       "      <td>2018-05-25</td>\n",
       "      <td>ultra</td>\n",
       "      <td>0.0</td>\n",
       "      <td>75.0</td>\n",
       "      <td>0.0</td>\n",
       "      <td>14.0</td>\n",
       "      <td>0.0</td>\n",
       "      <td>1950.0</td>\n",
       "    </tr>\n",
       "    <tr>\n",
       "      <td>3</td>\n",
       "      <td>1000</td>\n",
       "      <td>2018-08-01</td>\n",
       "      <td>52.0</td>\n",
       "      <td>408.0</td>\n",
       "      <td>52.0</td>\n",
       "      <td>NaT</td>\n",
       "      <td>Краснодар</td>\n",
       "      <td>Рафаил</td>\n",
       "      <td>Верещагин</td>\n",
       "      <td>2018-05-25</td>\n",
       "      <td>ultra</td>\n",
       "      <td>0.0</td>\n",
       "      <td>81.0</td>\n",
       "      <td>0.0</td>\n",
       "      <td>14.0</td>\n",
       "      <td>0.0</td>\n",
       "      <td>1950.0</td>\n",
       "    </tr>\n",
       "    <tr>\n",
       "      <td>4</td>\n",
       "      <td>1000</td>\n",
       "      <td>2018-09-01</td>\n",
       "      <td>58.0</td>\n",
       "      <td>466.0</td>\n",
       "      <td>52.0</td>\n",
       "      <td>NaT</td>\n",
       "      <td>Краснодар</td>\n",
       "      <td>Рафаил</td>\n",
       "      <td>Верещагин</td>\n",
       "      <td>2018-05-25</td>\n",
       "      <td>ultra</td>\n",
       "      <td>0.0</td>\n",
       "      <td>57.0</td>\n",
       "      <td>0.0</td>\n",
       "      <td>15.0</td>\n",
       "      <td>0.0</td>\n",
       "      <td>1950.0</td>\n",
       "    </tr>\n",
       "  </tbody>\n",
       "</table>\n",
       "</div>"
      ],
      "text/plain": [
       "   user_id      month  duration_count  duration_sum   age churn_date  \\\n",
       "0     1000 2018-05-01            22.0         159.0  52.0        NaT   \n",
       "1     1000 2018-06-01            43.0         172.0  52.0        NaT   \n",
       "2     1000 2018-07-01            47.0         340.0  52.0        NaT   \n",
       "3     1000 2018-08-01            52.0         408.0  52.0        NaT   \n",
       "4     1000 2018-09-01            58.0         466.0  52.0        NaT   \n",
       "\n",
       "        city first_name  last_name   reg_date tariff  revenue_calls_per  \\\n",
       "0  Краснодар     Рафаил  Верещагин 2018-05-25  ultra                0.0   \n",
       "1  Краснодар     Рафаил  Верещагин 2018-05-25  ultra                0.0   \n",
       "2  Краснодар     Рафаил  Верещагин 2018-05-25  ultra                0.0   \n",
       "3  Краснодар     Рафаил  Верещагин 2018-05-25  ultra                0.0   \n",
       "4  Краснодар     Рафаил  Верещагин 2018-05-25  ultra                0.0   \n",
       "\n",
       "   id_count  revenue_messages_per  mb_used_sum  revenue_internet_per  \\\n",
       "0      22.0                   0.0          3.0                   0.0   \n",
       "1      60.0                   0.0         23.0                   0.0   \n",
       "2      75.0                   0.0         14.0                   0.0   \n",
       "3      81.0                   0.0         14.0                   0.0   \n",
       "4      57.0                   0.0         15.0                   0.0   \n",
       "\n",
       "   revenue_users_month  \n",
       "0               1950.0  \n",
       "1               1950.0  \n",
       "2               1950.0  \n",
       "3               1950.0  \n",
       "4               1950.0  "
      ]
     },
     "execution_count": 80,
     "metadata": {},
     "output_type": "execute_result"
    }
   ],
   "source": [
    "ultra = revenue_month_user_2[revenue_month_user_2['tariff'] == 'ultra']\n",
    "ultra.head()"
   ]
  },
  {
   "cell_type": "code",
   "execution_count": 81,
   "metadata": {},
   "outputs": [
    {
     "data": {
      "text/html": [
       "<div>\n",
       "<style scoped>\n",
       "    .dataframe tbody tr th:only-of-type {\n",
       "        vertical-align: middle;\n",
       "    }\n",
       "\n",
       "    .dataframe tbody tr th {\n",
       "        vertical-align: top;\n",
       "    }\n",
       "\n",
       "    .dataframe thead th {\n",
       "        text-align: right;\n",
       "    }\n",
       "</style>\n",
       "<table border=\"1\" class=\"dataframe\">\n",
       "  <thead>\n",
       "    <tr style=\"text-align: right;\">\n",
       "      <th></th>\n",
       "      <th>user_id</th>\n",
       "      <th>month</th>\n",
       "      <th>duration_count</th>\n",
       "      <th>duration_sum</th>\n",
       "      <th>age</th>\n",
       "      <th>churn_date</th>\n",
       "      <th>city</th>\n",
       "      <th>first_name</th>\n",
       "      <th>last_name</th>\n",
       "      <th>reg_date</th>\n",
       "      <th>tariff</th>\n",
       "      <th>revenue_calls_per</th>\n",
       "      <th>id_count</th>\n",
       "      <th>revenue_messages_per</th>\n",
       "      <th>mb_used_sum</th>\n",
       "      <th>revenue_internet_per</th>\n",
       "      <th>revenue_users_month</th>\n",
       "    </tr>\n",
       "  </thead>\n",
       "  <tbody>\n",
       "    <tr>\n",
       "      <td>8</td>\n",
       "      <td>1001</td>\n",
       "      <td>2018-11-01</td>\n",
       "      <td>59.0</td>\n",
       "      <td>430.0</td>\n",
       "      <td>41.0</td>\n",
       "      <td>NaT</td>\n",
       "      <td>Москва</td>\n",
       "      <td>Иван</td>\n",
       "      <td>Ежов</td>\n",
       "      <td>2018-11-01</td>\n",
       "      <td>smart</td>\n",
       "      <td>0.0</td>\n",
       "      <td>NaN</td>\n",
       "      <td>NaN</td>\n",
       "      <td>18.0</td>\n",
       "      <td>600.0</td>\n",
       "      <td>NaN</td>\n",
       "    </tr>\n",
       "    <tr>\n",
       "      <td>9</td>\n",
       "      <td>1001</td>\n",
       "      <td>2018-12-01</td>\n",
       "      <td>63.0</td>\n",
       "      <td>414.0</td>\n",
       "      <td>41.0</td>\n",
       "      <td>NaT</td>\n",
       "      <td>Москва</td>\n",
       "      <td>Иван</td>\n",
       "      <td>Ежов</td>\n",
       "      <td>2018-11-01</td>\n",
       "      <td>smart</td>\n",
       "      <td>0.0</td>\n",
       "      <td>NaN</td>\n",
       "      <td>NaN</td>\n",
       "      <td>14.0</td>\n",
       "      <td>0.0</td>\n",
       "      <td>NaN</td>\n",
       "    </tr>\n",
       "    <tr>\n",
       "      <td>10</td>\n",
       "      <td>1002</td>\n",
       "      <td>2018-06-01</td>\n",
       "      <td>15.0</td>\n",
       "      <td>117.0</td>\n",
       "      <td>59.0</td>\n",
       "      <td>NaT</td>\n",
       "      <td>Стерлитамак</td>\n",
       "      <td>Евгений</td>\n",
       "      <td>Абрамович</td>\n",
       "      <td>2018-06-17</td>\n",
       "      <td>smart</td>\n",
       "      <td>0.0</td>\n",
       "      <td>4.0</td>\n",
       "      <td>0.0</td>\n",
       "      <td>11.0</td>\n",
       "      <td>0.0</td>\n",
       "      <td>550.0</td>\n",
       "    </tr>\n",
       "    <tr>\n",
       "      <td>11</td>\n",
       "      <td>1002</td>\n",
       "      <td>2018-07-01</td>\n",
       "      <td>26.0</td>\n",
       "      <td>214.0</td>\n",
       "      <td>59.0</td>\n",
       "      <td>NaT</td>\n",
       "      <td>Стерлитамак</td>\n",
       "      <td>Евгений</td>\n",
       "      <td>Абрамович</td>\n",
       "      <td>2018-06-17</td>\n",
       "      <td>smart</td>\n",
       "      <td>0.0</td>\n",
       "      <td>11.0</td>\n",
       "      <td>0.0</td>\n",
       "      <td>18.0</td>\n",
       "      <td>600.0</td>\n",
       "      <td>1150.0</td>\n",
       "    </tr>\n",
       "    <tr>\n",
       "      <td>12</td>\n",
       "      <td>1002</td>\n",
       "      <td>2018-08-01</td>\n",
       "      <td>42.0</td>\n",
       "      <td>289.0</td>\n",
       "      <td>59.0</td>\n",
       "      <td>NaT</td>\n",
       "      <td>Стерлитамак</td>\n",
       "      <td>Евгений</td>\n",
       "      <td>Абрамович</td>\n",
       "      <td>2018-06-17</td>\n",
       "      <td>smart</td>\n",
       "      <td>0.0</td>\n",
       "      <td>13.0</td>\n",
       "      <td>0.0</td>\n",
       "      <td>20.0</td>\n",
       "      <td>1000.0</td>\n",
       "      <td>1550.0</td>\n",
       "    </tr>\n",
       "  </tbody>\n",
       "</table>\n",
       "</div>"
      ],
      "text/plain": [
       "    user_id      month  duration_count  duration_sum   age churn_date  \\\n",
       "8      1001 2018-11-01            59.0         430.0  41.0        NaT   \n",
       "9      1001 2018-12-01            63.0         414.0  41.0        NaT   \n",
       "10     1002 2018-06-01            15.0         117.0  59.0        NaT   \n",
       "11     1002 2018-07-01            26.0         214.0  59.0        NaT   \n",
       "12     1002 2018-08-01            42.0         289.0  59.0        NaT   \n",
       "\n",
       "           city first_name  last_name   reg_date tariff  revenue_calls_per  \\\n",
       "8        Москва       Иван       Ежов 2018-11-01  smart                0.0   \n",
       "9        Москва       Иван       Ежов 2018-11-01  smart                0.0   \n",
       "10  Стерлитамак    Евгений  Абрамович 2018-06-17  smart                0.0   \n",
       "11  Стерлитамак    Евгений  Абрамович 2018-06-17  smart                0.0   \n",
       "12  Стерлитамак    Евгений  Абрамович 2018-06-17  smart                0.0   \n",
       "\n",
       "    id_count  revenue_messages_per  mb_used_sum  revenue_internet_per  \\\n",
       "8        NaN                   NaN         18.0                 600.0   \n",
       "9        NaN                   NaN         14.0                   0.0   \n",
       "10       4.0                   0.0         11.0                   0.0   \n",
       "11      11.0                   0.0         18.0                 600.0   \n",
       "12      13.0                   0.0         20.0                1000.0   \n",
       "\n",
       "    revenue_users_month  \n",
       "8                   NaN  \n",
       "9                   NaN  \n",
       "10                550.0  \n",
       "11               1150.0  \n",
       "12               1550.0  "
      ]
     },
     "execution_count": 81,
     "metadata": {},
     "output_type": "execute_result"
    }
   ],
   "source": [
    "smart = revenue_month_user_2[revenue_month_user_2['tariff'] != 'ultra']\n",
    "smart.head()"
   ]
  },
  {
   "cell_type": "markdown",
   "metadata": {},
   "source": [
    "Рассчитаем для пользователей тарифов Ультра и Смарт:\n",
    "\n",
    "- количество минут разговора,\n",
    "- количество сообщений,\n",
    "- объём интернет-трафика,\n",
    "- средняя выручка в месяц на одного пользователя\n",
    "\n",
    "Посчитаем для этих показателей:\n",
    "- среднее количество,\n",
    "- медиану,\n",
    "- дисперсию,\n",
    "- стандартное отклонение.\n",
    "\n",
    "И построим гистограммы."
   ]
  },
  {
   "cell_type": "markdown",
   "metadata": {},
   "source": [
    "#### КОЛИЧЕСТВО МИНУТ РАЗГОВОРА."
   ]
  },
  {
   "cell_type": "markdown",
   "metadata": {},
   "source": [
    " - ТАРИФ УЛЬТРА"
   ]
  },
  {
   "cell_type": "code",
   "execution_count": 82,
   "metadata": {},
   "outputs": [
    {
     "data": {
      "text/html": [
       "<div>\n",
       "<style scoped>\n",
       "    .dataframe tbody tr th:only-of-type {\n",
       "        vertical-align: middle;\n",
       "    }\n",
       "\n",
       "    .dataframe tbody tr th {\n",
       "        vertical-align: top;\n",
       "    }\n",
       "\n",
       "    .dataframe thead th {\n",
       "        text-align: right;\n",
       "    }\n",
       "</style>\n",
       "<table border=\"1\" class=\"dataframe\">\n",
       "  <thead>\n",
       "    <tr style=\"text-align: right;\">\n",
       "      <th></th>\n",
       "      <th>duration_sum</th>\n",
       "    </tr>\n",
       "  </thead>\n",
       "  <tbody>\n",
       "    <tr>\n",
       "      <td>mean</td>\n",
       "      <td>545.451104</td>\n",
       "    </tr>\n",
       "    <tr>\n",
       "      <td>median</td>\n",
       "      <td>528.000000</td>\n",
       "    </tr>\n",
       "    <tr>\n",
       "      <td>var</td>\n",
       "      <td>94203.418396</td>\n",
       "    </tr>\n",
       "    <tr>\n",
       "      <td>std</td>\n",
       "      <td>306.925754</td>\n",
       "    </tr>\n",
       "  </tbody>\n",
       "</table>\n",
       "</div>"
      ],
      "text/plain": [
       "        duration_sum\n",
       "mean      545.451104\n",
       "median    528.000000\n",
       "var     94203.418396\n",
       "std       306.925754"
      ]
     },
     "execution_count": 82,
     "metadata": {},
     "output_type": "execute_result"
    }
   ],
   "source": [
    "# посчитаем среднее, медиану, дисперсию и стандартное отклонение количества минут по тарифу Ультра \n",
    "ulta_duration_sum = ultra[['duration_sum']].agg(['mean', 'median', 'var', 'std'])\n",
    "ulta_duration_sum"
   ]
  },
  {
   "cell_type": "code",
   "execution_count": 83,
   "metadata": {},
   "outputs": [
    {
     "data": {
      "text/plain": [
       "1159.302612"
      ]
     },
     "execution_count": 83,
     "metadata": {},
     "output_type": "execute_result"
    }
   ],
   "source": [
    "#подсчитаем по правилу трех сигм промежуток 96% всех значений по тарифу Ультра\n",
    "th_sigm_1_duration_sum_ultra = 545.451104 + 2*306.925754\n",
    "th_sigm_1_duration_sum_ultra"
   ]
  },
  {
   "cell_type": "code",
   "execution_count": 84,
   "metadata": {},
   "outputs": [
    {
     "data": {
      "text/plain": [
       "-68.40040399999998"
      ]
     },
     "execution_count": 84,
     "metadata": {},
     "output_type": "execute_result"
    }
   ],
   "source": [
    "#подсчитаем по правилу трех сигм промежуток 96% всех значений \n",
    "th_sigm_2_duration_sum_ultra = 545.451104 - 2*306.925754\n",
    "th_sigm_2_duration_sum_ultra"
   ]
  },
  {
   "cell_type": "markdown",
   "metadata": {},
   "source": [
    "- ТАРИФ СМАРТ"
   ]
  },
  {
   "cell_type": "code",
   "execution_count": 85,
   "metadata": {},
   "outputs": [
    {
     "data": {
      "text/html": [
       "<div>\n",
       "<style scoped>\n",
       "    .dataframe tbody tr th:only-of-type {\n",
       "        vertical-align: middle;\n",
       "    }\n",
       "\n",
       "    .dataframe tbody tr th {\n",
       "        vertical-align: top;\n",
       "    }\n",
       "\n",
       "    .dataframe thead th {\n",
       "        text-align: right;\n",
       "    }\n",
       "</style>\n",
       "<table border=\"1\" class=\"dataframe\">\n",
       "  <thead>\n",
       "    <tr style=\"text-align: right;\">\n",
       "      <th></th>\n",
       "      <th>duration_sum</th>\n",
       "    </tr>\n",
       "  </thead>\n",
       "  <tbody>\n",
       "    <tr>\n",
       "      <td>mean</td>\n",
       "      <td>419.062978</td>\n",
       "    </tr>\n",
       "    <tr>\n",
       "      <td>median</td>\n",
       "      <td>423.000000</td>\n",
       "    </tr>\n",
       "    <tr>\n",
       "      <td>var</td>\n",
       "      <td>35844.189551</td>\n",
       "    </tr>\n",
       "    <tr>\n",
       "      <td>std</td>\n",
       "      <td>189.325618</td>\n",
       "    </tr>\n",
       "  </tbody>\n",
       "</table>\n",
       "</div>"
      ],
      "text/plain": [
       "        duration_sum\n",
       "mean      419.062978\n",
       "median    423.000000\n",
       "var     35844.189551\n",
       "std       189.325618"
      ]
     },
     "execution_count": 85,
     "metadata": {},
     "output_type": "execute_result"
    }
   ],
   "source": [
    "# посчитаем среднее, медиану, дисперсию и стандартное отклонение количества минут по тарифу Смарт \n",
    "smart[['duration_sum']].agg(['mean', 'median', 'var', 'std'])\n"
   ]
  },
  {
   "cell_type": "code",
   "execution_count": 86,
   "metadata": {},
   "outputs": [
    {
     "data": {
      "text/plain": [
       "797.714214"
      ]
     },
     "execution_count": 86,
     "metadata": {},
     "output_type": "execute_result"
    }
   ],
   "source": [
    "#подсчитаем по правилу трех сигм промежуток 96% всех значений по тарифу Ультра\n",
    "th_sigm_1_duration_sum_smart = 419.062978 + 2*189.325618\n",
    "th_sigm_1_duration_sum_smart"
   ]
  },
  {
   "cell_type": "code",
   "execution_count": 87,
   "metadata": {},
   "outputs": [
    {
     "data": {
      "text/plain": [
       "40.411742000000004"
      ]
     },
     "execution_count": 87,
     "metadata": {},
     "output_type": "execute_result"
    }
   ],
   "source": [
    "#подсчитаем по правилу трех сигм промежуток 96% всех значений \n",
    "th_sigm_2_duration_sum_smart = 419.062978 - 2*189.325618\n",
    "th_sigm_2_duration_sum_smart"
   ]
  },
  {
   "cell_type": "code",
   "execution_count": 88,
   "metadata": {},
   "outputs": [
    {
     "data": {
      "text/plain": [
       "Text(0.5, 1.0, 'Кол-во минут разговора по тарифам Ультра и Смарт')"
      ]
     },
     "execution_count": 88,
     "metadata": {},
     "output_type": "execute_result"
    },
    {
     "data": {
      "image/png": "[encoded data removed]",
      "text/plain": [
       "<Figure size 432x288 with 1 Axes>"
      ]
     },
     "metadata": {
      "needs_background": "light"
     },
     "output_type": "display_data"
    }
   ],
   "source": [
    "#построим гистаграммы по тарифу Ультра и Смарт\n",
    "ultra['duration_sum'].plot(bins = 20, alpha=1, kind='hist', legend=True)\n",
    "smart['duration_sum'].plot(bins = 20, alpha=0.5, kind='hist', legend=True)\n",
    "plt.axvline(40.411742000000004, color='red')\n",
    "plt.axvline(797.714214, color='red')\n",
    "plt.axvline(1159.302612, color='blue')\n",
    "plt.axvline(0, color='blue')\n",
    "plt.title('Кол-во минут разговора по тарифам Ультра и Смарт')"
   ]
  },
  {
   "cell_type": "markdown",
   "metadata": {},
   "source": [
    "Тариф Ультра:\n",
    "- Среднее значение и медиана практически равны, поэтому распределение кол-ва минут разговора  можно считать нормальным. \n",
    "- 96% всех значений попадает в промежуток от 0 до 1159 минут разговора.\n",
    "\n",
    "Тариф Смарт:\n",
    "- Среднее значение меньше медиана  так же практически равны, поэтому распределение кол-ва минут разговора можно считать нормальным. \n",
    "- 96% всех значений попадает в промежуток от 40 до 797 мин."
   ]
  },
  {
   "cell_type": "markdown",
   "metadata": {},
   "source": [
    "#### КОЛИЧЕСТВО СООБЩЕНИЙ РАЗГОВОРА. "
   ]
  },
  {
   "cell_type": "markdown",
   "metadata": {},
   "source": [
    " - ТАРИФ УЛЬТРА"
   ]
  },
  {
   "cell_type": "code",
   "execution_count": 89,
   "metadata": {},
   "outputs": [
    {
     "data": {
      "text/html": [
       "<div>\n",
       "<style scoped>\n",
       "    .dataframe tbody tr th:only-of-type {\n",
       "        vertical-align: middle;\n",
       "    }\n",
       "\n",
       "    .dataframe tbody tr th {\n",
       "        vertical-align: top;\n",
       "    }\n",
       "\n",
       "    .dataframe thead th {\n",
       "        text-align: right;\n",
       "    }\n",
       "</style>\n",
       "<table border=\"1\" class=\"dataframe\">\n",
       "  <thead>\n",
       "    <tr style=\"text-align: right;\">\n",
       "      <th></th>\n",
       "      <th>id_count</th>\n",
       "    </tr>\n",
       "  </thead>\n",
       "  <tbody>\n",
       "    <tr>\n",
       "      <td>mean</td>\n",
       "      <td>61.195538</td>\n",
       "    </tr>\n",
       "    <tr>\n",
       "      <td>median</td>\n",
       "      <td>52.000000</td>\n",
       "    </tr>\n",
       "    <tr>\n",
       "      <td>var</td>\n",
       "      <td>1999.574067</td>\n",
       "    </tr>\n",
       "    <tr>\n",
       "      <td>std</td>\n",
       "      <td>44.716597</td>\n",
       "    </tr>\n",
       "  </tbody>\n",
       "</table>\n",
       "</div>"
      ],
      "text/plain": [
       "           id_count\n",
       "mean      61.195538\n",
       "median    52.000000\n",
       "var     1999.574067\n",
       "std       44.716597"
      ]
     },
     "execution_count": 89,
     "metadata": {},
     "output_type": "execute_result"
    }
   ],
   "source": [
    "# посчитаем среднее, медиану, дисперсию и стандартное отклонение количества cooбщений по тарифу Ультра \n",
    "ulta_count_sum = ultra[['id_count']].agg(['mean', 'median', 'var', 'std'])\n",
    "ulta_count_sum"
   ]
  },
  {
   "cell_type": "code",
   "execution_count": 90,
   "metadata": {},
   "outputs": [
    {
     "data": {
      "text/plain": [
       "150.628732"
      ]
     },
     "execution_count": 90,
     "metadata": {},
     "output_type": "execute_result"
    }
   ],
   "source": [
    "#подсчитаем по правилу трех сигм промежуток 96% всех значений по тарифу Ультра\n",
    "th_sigm_1_count_sum_ultra = 61.195538 + 2*44.716597\n",
    "th_sigm_1_count_sum_ultra"
   ]
  },
  {
   "cell_type": "code",
   "execution_count": 91,
   "metadata": {},
   "outputs": [
    {
     "data": {
      "text/plain": [
       "-28.237656"
      ]
     },
     "execution_count": 91,
     "metadata": {},
     "output_type": "execute_result"
    }
   ],
   "source": [
    "#подсчитаем по правилу трех сигм промежуток 96% всех значений \n",
    "th_sigm_2_count_sum_ultra = 61.195538 - 2*44.716597\n",
    "th_sigm_2_count_sum_ultra"
   ]
  },
  {
   "cell_type": "markdown",
   "metadata": {},
   "source": [
    "- ТАРИФ СМАРТ"
   ]
  },
  {
   "cell_type": "code",
   "execution_count": 92,
   "metadata": {},
   "outputs": [
    {
     "data": {
      "text/html": [
       "<div>\n",
       "<style scoped>\n",
       "    .dataframe tbody tr th:only-of-type {\n",
       "        vertical-align: middle;\n",
       "    }\n",
       "\n",
       "    .dataframe tbody tr th {\n",
       "        vertical-align: top;\n",
       "    }\n",
       "\n",
       "    .dataframe thead th {\n",
       "        text-align: right;\n",
       "    }\n",
       "</style>\n",
       "<table border=\"1\" class=\"dataframe\">\n",
       "  <thead>\n",
       "    <tr style=\"text-align: right;\">\n",
       "      <th></th>\n",
       "      <th>id_count</th>\n",
       "    </tr>\n",
       "  </thead>\n",
       "  <tbody>\n",
       "    <tr>\n",
       "      <td>mean</td>\n",
       "      <td>39.081841</td>\n",
       "    </tr>\n",
       "    <tr>\n",
       "      <td>median</td>\n",
       "      <td>33.000000</td>\n",
       "    </tr>\n",
       "    <tr>\n",
       "      <td>var</td>\n",
       "      <td>791.746625</td>\n",
       "    </tr>\n",
       "    <tr>\n",
       "      <td>std</td>\n",
       "      <td>28.137993</td>\n",
       "    </tr>\n",
       "  </tbody>\n",
       "</table>\n",
       "</div>"
      ],
      "text/plain": [
       "          id_count\n",
       "mean     39.081841\n",
       "median   33.000000\n",
       "var     791.746625\n",
       "std      28.137993"
      ]
     },
     "execution_count": 92,
     "metadata": {},
     "output_type": "execute_result"
    }
   ],
   "source": [
    "# посчитаем среднее, медиану, дисперсию и стандартное отклонение количества cooбщений по тарифу Ультра \n",
    "smart_count_sum = smart[['id_count']].agg(['mean', 'median', 'var', 'std'])\n",
    "smart_count_sum"
   ]
  },
  {
   "cell_type": "code",
   "execution_count": 93,
   "metadata": {},
   "outputs": [
    {
     "data": {
      "text/plain": [
       "95.357827"
      ]
     },
     "execution_count": 93,
     "metadata": {},
     "output_type": "execute_result"
    }
   ],
   "source": [
    "#подсчитаем по правилу трех сигм промежуток 96% всех значений по тарифу Ультра\n",
    "th_sigm_1_count_sum_smart = 39.081841 + 2*28.137993\n",
    "th_sigm_1_count_sum_smart"
   ]
  },
  {
   "cell_type": "code",
   "execution_count": 94,
   "metadata": {},
   "outputs": [
    {
     "data": {
      "text/plain": [
       "-17.194145000000006"
      ]
     },
     "execution_count": 94,
     "metadata": {},
     "output_type": "execute_result"
    }
   ],
   "source": [
    "#подсчитаем по правилу трех сигм промежуток 96% всех значений по тарифу Ультра\n",
    "th_sigm_1_count_sum_smart = 39.081841 - 2*28.137993\n",
    "th_sigm_1_count_sum_smart"
   ]
  },
  {
   "cell_type": "code",
   "execution_count": 95,
   "metadata": {},
   "outputs": [
    {
     "data": {
      "text/plain": [
       "Text(0.5, 1.0, 'Кол-во сообщений разговора по тарифам Ультра и Смарт')"
      ]
     },
     "execution_count": 95,
     "metadata": {},
     "output_type": "execute_result"
    },
    {
     "data": {
      "image/png": "[encoded data removed]",
      "text/plain": [
       "<Figure size 432x288 with 1 Axes>"
      ]
     },
     "metadata": {
      "needs_background": "light"
     },
     "output_type": "display_data"
    }
   ],
   "source": [
    "#построим гистаграммы\n",
    "ultra['id_count'].plot(bins = 20, alpha=1, kind='hist', legend=True)\n",
    "smart['id_count'].plot(bins = 20, alpha=0.5, kind='hist', legend=True)\n",
    "plt.axvline(95.357827, color='red')\n",
    "plt.axvline(0, color='red')\n",
    "plt.axvline(150.628732, color='blue')\n",
    "plt.axvline(0, color='blue')\n",
    "plt.title('Кол-во сообщений разговора по тарифам Ультра и Смарт')"
   ]
  },
  {
   "cell_type": "markdown",
   "metadata": {},
   "source": [
    "Тариф Ультра:\n",
    "- Среднее значение больше медиана  - распределение кол-ва сообщений смещено вправо. \n",
    "- 96% всех значений попадает в промежуток от 0 до 151 сообщений.\n",
    "\n",
    "Тариф Смарт:\n",
    "- Среднее значение больше медиана  - распределение количества минут разговора смещено вправо. \n",
    "- 96% всех значений попадает в промежуток от 0 до 95 сообщений."
   ]
  },
  {
   "cell_type": "markdown",
   "metadata": {},
   "source": [
    "#### ОБЪЕМ ИНТЕРНЕТ-ТРАФИКА. "
   ]
  },
  {
   "cell_type": "markdown",
   "metadata": {},
   "source": [
    "- ТАРИФ УЛЬТРА"
   ]
  },
  {
   "cell_type": "code",
   "execution_count": 96,
   "metadata": {},
   "outputs": [
    {
     "data": {
      "text/html": [
       "<div>\n",
       "<style scoped>\n",
       "    .dataframe tbody tr th:only-of-type {\n",
       "        vertical-align: middle;\n",
       "    }\n",
       "\n",
       "    .dataframe tbody tr th {\n",
       "        vertical-align: top;\n",
       "    }\n",
       "\n",
       "    .dataframe thead th {\n",
       "        text-align: right;\n",
       "    }\n",
       "</style>\n",
       "<table border=\"1\" class=\"dataframe\">\n",
       "  <thead>\n",
       "    <tr style=\"text-align: right;\">\n",
       "      <th></th>\n",
       "      <th>mb_used_sum</th>\n",
       "    </tr>\n",
       "  </thead>\n",
       "  <tbody>\n",
       "    <tr>\n",
       "      <td>mean</td>\n",
       "      <td>19.695005</td>\n",
       "    </tr>\n",
       "    <tr>\n",
       "      <td>median</td>\n",
       "      <td>19.000000</td>\n",
       "    </tr>\n",
       "    <tr>\n",
       "      <td>var</td>\n",
       "      <td>94.778156</td>\n",
       "    </tr>\n",
       "    <tr>\n",
       "      <td>std</td>\n",
       "      <td>9.735407</td>\n",
       "    </tr>\n",
       "  </tbody>\n",
       "</table>\n",
       "</div>"
      ],
      "text/plain": [
       "        mb_used_sum\n",
       "mean      19.695005\n",
       "median    19.000000\n",
       "var       94.778156\n",
       "std        9.735407"
      ]
     },
     "execution_count": 96,
     "metadata": {},
     "output_type": "execute_result"
    }
   ],
   "source": [
    "# посчитаем среднее, медиану, дисперсию и стандартное отклонение объем интернет-трафика по тарифу Ультра \n",
    "ulta_mb_used_sum = ultra[['mb_used_sum']].agg(['mean', 'median', 'var', 'std'])\n",
    "ulta_mb_used_sum"
   ]
  },
  {
   "cell_type": "code",
   "execution_count": 97,
   "metadata": {},
   "outputs": [
    {
     "data": {
      "text/plain": [
       "39.165819"
      ]
     },
     "execution_count": 97,
     "metadata": {},
     "output_type": "execute_result"
    }
   ],
   "source": [
    "#подсчитаем по правилу трех сигм промежуток 96% всех значений по тарифу Ультра\n",
    "th_sigm_1_mb_used_sum_ultra = 19.695005 + 2*9.735407\n",
    "th_sigm_1_mb_used_sum_ultra"
   ]
  },
  {
   "cell_type": "code",
   "execution_count": 98,
   "metadata": {},
   "outputs": [
    {
     "data": {
      "text/plain": [
       "0.2241909999999976"
      ]
     },
     "execution_count": 98,
     "metadata": {},
     "output_type": "execute_result"
    }
   ],
   "source": [
    "#подсчитаем по правилу трех сигм промежуток 96% всех значений \n",
    "th_sigm_2_mb_used_sum_ultra = 19.695005 - 2*9.735407\n",
    "th_sigm_2_mb_used_sum_ultra"
   ]
  },
  {
   "cell_type": "markdown",
   "metadata": {},
   "source": [
    "- ТАРИФ СМАРТ"
   ]
  },
  {
   "cell_type": "code",
   "execution_count": 99,
   "metadata": {},
   "outputs": [
    {
     "data": {
      "text/html": [
       "<div>\n",
       "<style scoped>\n",
       "    .dataframe tbody tr th:only-of-type {\n",
       "        vertical-align: middle;\n",
       "    }\n",
       "\n",
       "    .dataframe tbody tr th {\n",
       "        vertical-align: top;\n",
       "    }\n",
       "\n",
       "    .dataframe thead th {\n",
       "        text-align: right;\n",
       "    }\n",
       "</style>\n",
       "<table border=\"1\" class=\"dataframe\">\n",
       "  <thead>\n",
       "    <tr style=\"text-align: right;\">\n",
       "      <th></th>\n",
       "      <th>mb_used_sum</th>\n",
       "    </tr>\n",
       "  </thead>\n",
       "  <tbody>\n",
       "    <tr>\n",
       "      <td>mean</td>\n",
       "      <td>16.386384</td>\n",
       "    </tr>\n",
       "    <tr>\n",
       "      <td>median</td>\n",
       "      <td>17.000000</td>\n",
       "    </tr>\n",
       "    <tr>\n",
       "      <td>var</td>\n",
       "      <td>33.747148</td>\n",
       "    </tr>\n",
       "    <tr>\n",
       "      <td>std</td>\n",
       "      <td>5.809230</td>\n",
       "    </tr>\n",
       "  </tbody>\n",
       "</table>\n",
       "</div>"
      ],
      "text/plain": [
       "        mb_used_sum\n",
       "mean      16.386384\n",
       "median    17.000000\n",
       "var       33.747148\n",
       "std        5.809230"
      ]
     },
     "execution_count": 99,
     "metadata": {},
     "output_type": "execute_result"
    }
   ],
   "source": [
    "# посчитаем среднее, медиану, дисперсию и стандартное отклонение объем интернет-трафика по тарифу Ультра \n",
    "smart_mb_used_sum = smart[['mb_used_sum']].agg(['mean', 'median', 'var', 'std'])\n",
    "smart_mb_used_sum"
   ]
  },
  {
   "cell_type": "code",
   "execution_count": 100,
   "metadata": {},
   "outputs": [
    {
     "data": {
      "text/plain": [
       "28.004844"
      ]
     },
     "execution_count": 100,
     "metadata": {},
     "output_type": "execute_result"
    }
   ],
   "source": [
    "#подсчитаем по правилу трех сигм промежуток 96% всех значений по тарифу Ультра\n",
    "th_sigm_1_mb_used_sum_smart = 16.386384 + 2*5.809230\n",
    "th_sigm_1_mb_used_sum_smart"
   ]
  },
  {
   "cell_type": "code",
   "execution_count": 101,
   "metadata": {},
   "outputs": [
    {
     "data": {
      "text/plain": [
       "4.767923999999999"
      ]
     },
     "execution_count": 101,
     "metadata": {},
     "output_type": "execute_result"
    }
   ],
   "source": [
    "#подсчитаем по правилу трех сигм промежуток 96% всех значений \n",
    "th_sigm_1_mb_used_sum_smart = 16.386384 - 2*5.809230\n",
    "th_sigm_1_mb_used_sum_smart"
   ]
  },
  {
   "cell_type": "code",
   "execution_count": 102,
   "metadata": {},
   "outputs": [
    {
     "data": {
      "text/plain": [
       "Text(0.5, 1.0, 'Кол-во объема интернет-трафика по тарифам Ультра и Смарт')"
      ]
     },
     "execution_count": 102,
     "metadata": {},
     "output_type": "execute_result"
    },
    {
     "data": {
      "image/png": "[encoded data removed]",
      "text/plain": [
       "<Figure size 432x288 with 1 Axes>"
      ]
     },
     "metadata": {
      "needs_background": "light"
     },
     "output_type": "display_data"
    }
   ],
   "source": [
    "#построим гистаграммы\n",
    "ultra['mb_used_sum'].plot(bins = 20, alpha=1, kind='hist', legend=True)\n",
    "smart['mb_used_sum'].plot(bins = 20, alpha=0.5, kind='hist', legend=True)\n",
    "plt.axvline(28.004844, color='red')\n",
    "plt.axvline(4.767923999999999, color='red')\n",
    "plt.axvline(39.165819, color='blue')\n",
    "plt.axvline(0.2241909999999976, color='blue')\n",
    "plt.title('Кол-во объема интернет-трафика по тарифам Ультра и Смарт')"
   ]
  },
  {
   "cell_type": "markdown",
   "metadata": {},
   "source": [
    "Тариф Ультра:\n",
    "- Среднее значение среднего и медиана примерно одинаковые - распределение объема интернет-трафика нормальное.\n",
    "- 96% всех значений попадает в промежуток от 0 до 39 Гб интернет-трафика.\n",
    "\n",
    "Тариф Смарт:\n",
    "- Среднее значение немного меньше медиана  - распределение  объема интернет-трафика смещено влево. \n",
    "- 96% всех значений попадает в промежуток от 5 до 28 Гб интернет-трафика."
   ]
  },
  {
   "cell_type": "markdown",
   "metadata": {},
   "source": [
    "#### СРЕДНЯЯ ВЫРУЧКА НА ОДНОГО ПОЛЬЗОВАТЕЛЯ В МЕСЯЦ. "
   ]
  },
  {
   "cell_type": "markdown",
   "metadata": {},
   "source": [
    "- ТАРИФ УЛЬТРА."
   ]
  },
  {
   "cell_type": "code",
   "execution_count": 103,
   "metadata": {},
   "outputs": [
    {
     "data": {
      "text/html": [
       "<div>\n",
       "<style scoped>\n",
       "    .dataframe tbody tr th:only-of-type {\n",
       "        vertical-align: middle;\n",
       "    }\n",
       "\n",
       "    .dataframe tbody tr th {\n",
       "        vertical-align: top;\n",
       "    }\n",
       "\n",
       "    .dataframe thead th {\n",
       "        text-align: right;\n",
       "    }\n",
       "</style>\n",
       "<table border=\"1\" class=\"dataframe\">\n",
       "  <thead>\n",
       "    <tr style=\"text-align: right;\">\n",
       "      <th></th>\n",
       "      <th>revenue_users_month</th>\n",
       "    </tr>\n",
       "  </thead>\n",
       "  <tbody>\n",
       "    <tr>\n",
       "      <td>mean</td>\n",
       "      <td>2048.936170</td>\n",
       "    </tr>\n",
       "    <tr>\n",
       "      <td>median</td>\n",
       "      <td>1950.000000</td>\n",
       "    </tr>\n",
       "    <tr>\n",
       "      <td>var</td>\n",
       "      <td>110817.774882</td>\n",
       "    </tr>\n",
       "    <tr>\n",
       "      <td>std</td>\n",
       "      <td>332.893038</td>\n",
       "    </tr>\n",
       "  </tbody>\n",
       "</table>\n",
       "</div>"
      ],
      "text/plain": [
       "        revenue_users_month\n",
       "mean            2048.936170\n",
       "median          1950.000000\n",
       "var           110817.774882\n",
       "std              332.893038"
      ]
     },
     "execution_count": 103,
     "metadata": {},
     "output_type": "execute_result"
    }
   ],
   "source": [
    "# посчитаем среднее, медиану, дисперсию и стандартное отклонение выручки по тарифу Ультра \n",
    "ulta_revenue_sum = ultra[['revenue_users_month']].agg(['mean', 'median', 'var', 'std'])\n",
    "ulta_revenue_sum"
   ]
  },
  {
   "cell_type": "code",
   "execution_count": 104,
   "metadata": {},
   "outputs": [
    {
     "data": {
      "text/plain": [
       "2714.722246"
      ]
     },
     "execution_count": 104,
     "metadata": {},
     "output_type": "execute_result"
    }
   ],
   "source": [
    "#подсчитаем по правилу трех сигм промежуток 96% всех значений по тарифу Ультра\n",
    "th_sigm_1_revenue_sum_ultra = 2048.936170 + 2*332.893038\n",
    "th_sigm_1_revenue_sum_ultra"
   ]
  },
  {
   "cell_type": "code",
   "execution_count": 105,
   "metadata": {},
   "outputs": [
    {
     "data": {
      "text/plain": [
       "1383.150094"
      ]
     },
     "execution_count": 105,
     "metadata": {},
     "output_type": "execute_result"
    }
   ],
   "source": [
    "#подсчитаем по правилу трех сигм промежуток 96% всех значений \n",
    "th_sigm_2_revenue_sum_ultra = 2048.936170 - 2*332.893038\n",
    "th_sigm_2_revenue_sum_ultra"
   ]
  },
  {
   "cell_type": "markdown",
   "metadata": {},
   "source": [
    "- ТАРИФ СМАРТ."
   ]
  },
  {
   "cell_type": "code",
   "execution_count": 106,
   "metadata": {},
   "outputs": [
    {
     "data": {
      "text/html": [
       "<div>\n",
       "<style scoped>\n",
       "    .dataframe tbody tr th:only-of-type {\n",
       "        vertical-align: middle;\n",
       "    }\n",
       "\n",
       "    .dataframe tbody tr th {\n",
       "        vertical-align: top;\n",
       "    }\n",
       "\n",
       "    .dataframe thead th {\n",
       "        text-align: right;\n",
       "    }\n",
       "</style>\n",
       "<table border=\"1\" class=\"dataframe\">\n",
       "  <thead>\n",
       "    <tr style=\"text-align: right;\">\n",
       "      <th></th>\n",
       "      <th>revenue_users_month</th>\n",
       "    </tr>\n",
       "  </thead>\n",
       "  <tbody>\n",
       "    <tr>\n",
       "      <td>mean</td>\n",
       "      <td>1290.677807</td>\n",
       "    </tr>\n",
       "    <tr>\n",
       "      <td>median</td>\n",
       "      <td>1012.000000</td>\n",
       "    </tr>\n",
       "    <tr>\n",
       "      <td>var</td>\n",
       "      <td>677052.568551</td>\n",
       "    </tr>\n",
       "    <tr>\n",
       "      <td>std</td>\n",
       "      <td>822.832042</td>\n",
       "    </tr>\n",
       "  </tbody>\n",
       "</table>\n",
       "</div>"
      ],
      "text/plain": [
       "        revenue_users_month\n",
       "mean            1290.677807\n",
       "median          1012.000000\n",
       "var           677052.568551\n",
       "std              822.832042"
      ]
     },
     "execution_count": 106,
     "metadata": {},
     "output_type": "execute_result"
    }
   ],
   "source": [
    "# посчитаем среднее, медиану, дисперсию и стандартное отклонение выручки по тарифу Смарт \n",
    "smart_revenue_sum = smart[['revenue_users_month']].agg(['mean', 'median', 'var', 'std'])\n",
    "smart_revenue_sum"
   ]
  },
  {
   "cell_type": "code",
   "execution_count": 107,
   "metadata": {},
   "outputs": [
    {
     "data": {
      "text/plain": [
       "2936.341891"
      ]
     },
     "execution_count": 107,
     "metadata": {},
     "output_type": "execute_result"
    }
   ],
   "source": [
    "#подсчитаем по правилу трех сигм промежуток 96% всех значений по тарифу Ультра\n",
    "th_sigm_1_revenue_sum_smart = 1290.677807 + 2*822.832042\n",
    "th_sigm_1_revenue_sum_smart"
   ]
  },
  {
   "cell_type": "code",
   "execution_count": 108,
   "metadata": {},
   "outputs": [
    {
     "data": {
      "text/plain": [
       "-354.986277"
      ]
     },
     "execution_count": 108,
     "metadata": {},
     "output_type": "execute_result"
    }
   ],
   "source": [
    "#подсчитаем по правилу трех сигм промежуток 96% всех значений \n",
    "th_sigm_2_revenue_sum_smart = 1290.677807 - 2*822.832042\n",
    "th_sigm_2_revenue_sum_smart"
   ]
  },
  {
   "cell_type": "code",
   "execution_count": 109,
   "metadata": {},
   "outputs": [
    {
     "data": {
      "text/plain": [
       "Text(0.5, 1.0, 'Средняя выручка по тарифам Ультра и Смарт')"
      ]
     },
     "execution_count": 109,
     "metadata": {},
     "output_type": "execute_result"
    },
    {
     "data": {
      "image/png": "[encoded data removed]",
      "text/plain": [
       "<Figure size 432x288 with 1 Axes>"
      ]
     },
     "metadata": {
      "needs_background": "light"
     },
     "output_type": "display_data"
    }
   ],
   "source": [
    "#построим гистаграммы\n",
    "ultra['revenue_users_month'].plot(bins = 20, alpha=1, kind='hist', legend=True)\n",
    "smart['revenue_users_month'].plot(bins = 20, alpha=0.5, kind='hist', legend=True)\n",
    "plt.axvline(2936.341891, color='red')\n",
    "plt.axvline(0, color='red')\n",
    "plt.axvline(2714.722246, color='blue')\n",
    "plt.axvline(1383.150094, color='blue')\n",
    "plt.title('Средняя выручка по тарифам Ультра и Смарт')"
   ]
  },
  {
   "cell_type": "markdown",
   "metadata": {},
   "source": [
    "Тариф Ультра:\n",
    "- Среднее значение больше медиана  - распределение средней выручки на одного пользователя в месяц смещено вправо. \n",
    "- 96% всех значений попадает в промежуток от 1383 до 2714 руб.\n",
    "\n",
    "Тариф Смарт:\n",
    "- Среднее значение больше медиана  - распределение средней выручки на одного пользователя в месяц смещено вправо. \n",
    "- 96% всех значений попадает в промежуток от 0 до 2936 руб."
   ]
  },
  {
   "cell_type": "markdown",
   "metadata": {},
   "source": [
    "## Проверка гипотез."
   ]
  },
  {
   "cell_type": "markdown",
   "metadata": {},
   "source": [
    "### Гипотеза 1:\n",
    "\"Средняя выручка пользователей тарифа Ультра и Смарт различаются.\"\n",
    "   \n",
    "\n",
    "   "
   ]
  },
  {
   "cell_type": "code",
   "execution_count": 110,
   "metadata": {},
   "outputs": [
    {
     "data": {
      "text/html": [
       "<div>\n",
       "<style scoped>\n",
       "    .dataframe tbody tr th:only-of-type {\n",
       "        vertical-align: middle;\n",
       "    }\n",
       "\n",
       "    .dataframe tbody tr th {\n",
       "        vertical-align: top;\n",
       "    }\n",
       "\n",
       "    .dataframe thead th {\n",
       "        text-align: right;\n",
       "    }\n",
       "</style>\n",
       "<table border=\"1\" class=\"dataframe\">\n",
       "  <thead>\n",
       "    <tr style=\"text-align: right;\">\n",
       "      <th></th>\n",
       "      <th>user_id</th>\n",
       "      <th>month</th>\n",
       "      <th>duration_count</th>\n",
       "      <th>duration_sum</th>\n",
       "      <th>age</th>\n",
       "      <th>churn_date</th>\n",
       "      <th>city</th>\n",
       "      <th>first_name</th>\n",
       "      <th>last_name</th>\n",
       "      <th>reg_date</th>\n",
       "      <th>tariff</th>\n",
       "      <th>revenue_calls_per</th>\n",
       "      <th>id_count</th>\n",
       "      <th>revenue_messages_per</th>\n",
       "      <th>mb_used_sum</th>\n",
       "      <th>revenue_internet_per</th>\n",
       "      <th>revenue_users_month</th>\n",
       "    </tr>\n",
       "  </thead>\n",
       "  <tbody>\n",
       "    <tr>\n",
       "      <td>0</td>\n",
       "      <td>1000</td>\n",
       "      <td>2018-05-01</td>\n",
       "      <td>22.0</td>\n",
       "      <td>159.0</td>\n",
       "      <td>52.0</td>\n",
       "      <td>NaT</td>\n",
       "      <td>Краснодар</td>\n",
       "      <td>Рафаил</td>\n",
       "      <td>Верещагин</td>\n",
       "      <td>2018-05-25</td>\n",
       "      <td>ultra</td>\n",
       "      <td>0.0</td>\n",
       "      <td>22.0</td>\n",
       "      <td>0.0</td>\n",
       "      <td>3.0</td>\n",
       "      <td>0.0</td>\n",
       "      <td>1950.0</td>\n",
       "    </tr>\n",
       "    <tr>\n",
       "      <td>1</td>\n",
       "      <td>1000</td>\n",
       "      <td>2018-06-01</td>\n",
       "      <td>43.0</td>\n",
       "      <td>172.0</td>\n",
       "      <td>52.0</td>\n",
       "      <td>NaT</td>\n",
       "      <td>Краснодар</td>\n",
       "      <td>Рафаил</td>\n",
       "      <td>Верещагин</td>\n",
       "      <td>2018-05-25</td>\n",
       "      <td>ultra</td>\n",
       "      <td>0.0</td>\n",
       "      <td>60.0</td>\n",
       "      <td>0.0</td>\n",
       "      <td>23.0</td>\n",
       "      <td>0.0</td>\n",
       "      <td>1950.0</td>\n",
       "    </tr>\n",
       "    <tr>\n",
       "      <td>2</td>\n",
       "      <td>1000</td>\n",
       "      <td>2018-07-01</td>\n",
       "      <td>47.0</td>\n",
       "      <td>340.0</td>\n",
       "      <td>52.0</td>\n",
       "      <td>NaT</td>\n",
       "      <td>Краснодар</td>\n",
       "      <td>Рафаил</td>\n",
       "      <td>Верещагин</td>\n",
       "      <td>2018-05-25</td>\n",
       "      <td>ultra</td>\n",
       "      <td>0.0</td>\n",
       "      <td>75.0</td>\n",
       "      <td>0.0</td>\n",
       "      <td>14.0</td>\n",
       "      <td>0.0</td>\n",
       "      <td>1950.0</td>\n",
       "    </tr>\n",
       "    <tr>\n",
       "      <td>3</td>\n",
       "      <td>1000</td>\n",
       "      <td>2018-08-01</td>\n",
       "      <td>52.0</td>\n",
       "      <td>408.0</td>\n",
       "      <td>52.0</td>\n",
       "      <td>NaT</td>\n",
       "      <td>Краснодар</td>\n",
       "      <td>Рафаил</td>\n",
       "      <td>Верещагин</td>\n",
       "      <td>2018-05-25</td>\n",
       "      <td>ultra</td>\n",
       "      <td>0.0</td>\n",
       "      <td>81.0</td>\n",
       "      <td>0.0</td>\n",
       "      <td>14.0</td>\n",
       "      <td>0.0</td>\n",
       "      <td>1950.0</td>\n",
       "    </tr>\n",
       "    <tr>\n",
       "      <td>4</td>\n",
       "      <td>1000</td>\n",
       "      <td>2018-09-01</td>\n",
       "      <td>58.0</td>\n",
       "      <td>466.0</td>\n",
       "      <td>52.0</td>\n",
       "      <td>NaT</td>\n",
       "      <td>Краснодар</td>\n",
       "      <td>Рафаил</td>\n",
       "      <td>Верещагин</td>\n",
       "      <td>2018-05-25</td>\n",
       "      <td>ultra</td>\n",
       "      <td>0.0</td>\n",
       "      <td>57.0</td>\n",
       "      <td>0.0</td>\n",
       "      <td>15.0</td>\n",
       "      <td>0.0</td>\n",
       "      <td>1950.0</td>\n",
       "    </tr>\n",
       "  </tbody>\n",
       "</table>\n",
       "</div>"
      ],
      "text/plain": [
       "   user_id      month  duration_count  duration_sum   age churn_date  \\\n",
       "0     1000 2018-05-01            22.0         159.0  52.0        NaT   \n",
       "1     1000 2018-06-01            43.0         172.0  52.0        NaT   \n",
       "2     1000 2018-07-01            47.0         340.0  52.0        NaT   \n",
       "3     1000 2018-08-01            52.0         408.0  52.0        NaT   \n",
       "4     1000 2018-09-01            58.0         466.0  52.0        NaT   \n",
       "\n",
       "        city first_name  last_name   reg_date tariff  revenue_calls_per  \\\n",
       "0  Краснодар     Рафаил  Верещагин 2018-05-25  ultra                0.0   \n",
       "1  Краснодар     Рафаил  Верещагин 2018-05-25  ultra                0.0   \n",
       "2  Краснодар     Рафаил  Верещагин 2018-05-25  ultra                0.0   \n",
       "3  Краснодар     Рафаил  Верещагин 2018-05-25  ultra                0.0   \n",
       "4  Краснодар     Рафаил  Верещагин 2018-05-25  ultra                0.0   \n",
       "\n",
       "   id_count  revenue_messages_per  mb_used_sum  revenue_internet_per  \\\n",
       "0      22.0                   0.0          3.0                   0.0   \n",
       "1      60.0                   0.0         23.0                   0.0   \n",
       "2      75.0                   0.0         14.0                   0.0   \n",
       "3      81.0                   0.0         14.0                   0.0   \n",
       "4      57.0                   0.0         15.0                   0.0   \n",
       "\n",
       "   revenue_users_month  \n",
       "0               1950.0  \n",
       "1               1950.0  \n",
       "2               1950.0  \n",
       "3               1950.0  \n",
       "4               1950.0  "
      ]
     },
     "execution_count": 110,
     "metadata": {},
     "output_type": "execute_result"
    }
   ],
   "source": [
    "ultra.head()"
   ]
  },
  {
   "cell_type": "code",
   "execution_count": 111,
   "metadata": {},
   "outputs": [
    {
     "data": {
      "text/plain": [
       "2048.936170212766"
      ]
     },
     "execution_count": 111,
     "metadata": {},
     "output_type": "execute_result"
    }
   ],
   "source": [
    "#средняя выручка по тарифу Ультра\n",
    "mean_revenue_users_month = ultra['revenue_users_month'].mean()\n",
    "mean_revenue_users_month"
   ]
  },
  {
   "cell_type": "code",
   "execution_count": 112,
   "metadata": {},
   "outputs": [
    {
     "data": {
      "text/html": [
       "<div>\n",
       "<style scoped>\n",
       "    .dataframe tbody tr th:only-of-type {\n",
       "        vertical-align: middle;\n",
       "    }\n",
       "\n",
       "    .dataframe tbody tr th {\n",
       "        vertical-align: top;\n",
       "    }\n",
       "\n",
       "    .dataframe thead th {\n",
       "        text-align: right;\n",
       "    }\n",
       "</style>\n",
       "<table border=\"1\" class=\"dataframe\">\n",
       "  <thead>\n",
       "    <tr style=\"text-align: right;\">\n",
       "      <th></th>\n",
       "      <th>user_id</th>\n",
       "      <th>month</th>\n",
       "      <th>duration_count</th>\n",
       "      <th>duration_sum</th>\n",
       "      <th>age</th>\n",
       "      <th>churn_date</th>\n",
       "      <th>city</th>\n",
       "      <th>first_name</th>\n",
       "      <th>last_name</th>\n",
       "      <th>reg_date</th>\n",
       "      <th>tariff</th>\n",
       "      <th>revenue_calls_per</th>\n",
       "      <th>id_count</th>\n",
       "      <th>revenue_messages_per</th>\n",
       "      <th>mb_used_sum</th>\n",
       "      <th>revenue_internet_per</th>\n",
       "      <th>revenue_users_month</th>\n",
       "    </tr>\n",
       "  </thead>\n",
       "  <tbody>\n",
       "    <tr>\n",
       "      <td>8</td>\n",
       "      <td>1001</td>\n",
       "      <td>2018-11-01</td>\n",
       "      <td>59.0</td>\n",
       "      <td>430.0</td>\n",
       "      <td>41.0</td>\n",
       "      <td>NaT</td>\n",
       "      <td>Москва</td>\n",
       "      <td>Иван</td>\n",
       "      <td>Ежов</td>\n",
       "      <td>2018-11-01</td>\n",
       "      <td>smart</td>\n",
       "      <td>0.0</td>\n",
       "      <td>NaN</td>\n",
       "      <td>NaN</td>\n",
       "      <td>18.0</td>\n",
       "      <td>600.0</td>\n",
       "      <td>NaN</td>\n",
       "    </tr>\n",
       "    <tr>\n",
       "      <td>9</td>\n",
       "      <td>1001</td>\n",
       "      <td>2018-12-01</td>\n",
       "      <td>63.0</td>\n",
       "      <td>414.0</td>\n",
       "      <td>41.0</td>\n",
       "      <td>NaT</td>\n",
       "      <td>Москва</td>\n",
       "      <td>Иван</td>\n",
       "      <td>Ежов</td>\n",
       "      <td>2018-11-01</td>\n",
       "      <td>smart</td>\n",
       "      <td>0.0</td>\n",
       "      <td>NaN</td>\n",
       "      <td>NaN</td>\n",
       "      <td>14.0</td>\n",
       "      <td>0.0</td>\n",
       "      <td>NaN</td>\n",
       "    </tr>\n",
       "    <tr>\n",
       "      <td>10</td>\n",
       "      <td>1002</td>\n",
       "      <td>2018-06-01</td>\n",
       "      <td>15.0</td>\n",
       "      <td>117.0</td>\n",
       "      <td>59.0</td>\n",
       "      <td>NaT</td>\n",
       "      <td>Стерлитамак</td>\n",
       "      <td>Евгений</td>\n",
       "      <td>Абрамович</td>\n",
       "      <td>2018-06-17</td>\n",
       "      <td>smart</td>\n",
       "      <td>0.0</td>\n",
       "      <td>4.0</td>\n",
       "      <td>0.0</td>\n",
       "      <td>11.0</td>\n",
       "      <td>0.0</td>\n",
       "      <td>550.0</td>\n",
       "    </tr>\n",
       "    <tr>\n",
       "      <td>11</td>\n",
       "      <td>1002</td>\n",
       "      <td>2018-07-01</td>\n",
       "      <td>26.0</td>\n",
       "      <td>214.0</td>\n",
       "      <td>59.0</td>\n",
       "      <td>NaT</td>\n",
       "      <td>Стерлитамак</td>\n",
       "      <td>Евгений</td>\n",
       "      <td>Абрамович</td>\n",
       "      <td>2018-06-17</td>\n",
       "      <td>smart</td>\n",
       "      <td>0.0</td>\n",
       "      <td>11.0</td>\n",
       "      <td>0.0</td>\n",
       "      <td>18.0</td>\n",
       "      <td>600.0</td>\n",
       "      <td>1150.0</td>\n",
       "    </tr>\n",
       "    <tr>\n",
       "      <td>12</td>\n",
       "      <td>1002</td>\n",
       "      <td>2018-08-01</td>\n",
       "      <td>42.0</td>\n",
       "      <td>289.0</td>\n",
       "      <td>59.0</td>\n",
       "      <td>NaT</td>\n",
       "      <td>Стерлитамак</td>\n",
       "      <td>Евгений</td>\n",
       "      <td>Абрамович</td>\n",
       "      <td>2018-06-17</td>\n",
       "      <td>smart</td>\n",
       "      <td>0.0</td>\n",
       "      <td>13.0</td>\n",
       "      <td>0.0</td>\n",
       "      <td>20.0</td>\n",
       "      <td>1000.0</td>\n",
       "      <td>1550.0</td>\n",
       "    </tr>\n",
       "  </tbody>\n",
       "</table>\n",
       "</div>"
      ],
      "text/plain": [
       "    user_id      month  duration_count  duration_sum   age churn_date  \\\n",
       "8      1001 2018-11-01            59.0         430.0  41.0        NaT   \n",
       "9      1001 2018-12-01            63.0         414.0  41.0        NaT   \n",
       "10     1002 2018-06-01            15.0         117.0  59.0        NaT   \n",
       "11     1002 2018-07-01            26.0         214.0  59.0        NaT   \n",
       "12     1002 2018-08-01            42.0         289.0  59.0        NaT   \n",
       "\n",
       "           city first_name  last_name   reg_date tariff  revenue_calls_per  \\\n",
       "8        Москва       Иван       Ежов 2018-11-01  smart                0.0   \n",
       "9        Москва       Иван       Ежов 2018-11-01  smart                0.0   \n",
       "10  Стерлитамак    Евгений  Абрамович 2018-06-17  smart                0.0   \n",
       "11  Стерлитамак    Евгений  Абрамович 2018-06-17  smart                0.0   \n",
       "12  Стерлитамак    Евгений  Абрамович 2018-06-17  smart                0.0   \n",
       "\n",
       "    id_count  revenue_messages_per  mb_used_sum  revenue_internet_per  \\\n",
       "8        NaN                   NaN         18.0                 600.0   \n",
       "9        NaN                   NaN         14.0                   0.0   \n",
       "10       4.0                   0.0         11.0                   0.0   \n",
       "11      11.0                   0.0         18.0                 600.0   \n",
       "12      13.0                   0.0         20.0                1000.0   \n",
       "\n",
       "    revenue_users_month  \n",
       "8                   NaN  \n",
       "9                   NaN  \n",
       "10                550.0  \n",
       "11               1150.0  \n",
       "12               1550.0  "
      ]
     },
     "execution_count": 112,
     "metadata": {},
     "output_type": "execute_result"
    }
   ],
   "source": [
    "#выведем данные по тарифу Смарт\n",
    "smart.head()"
   ]
  },
  {
   "cell_type": "code",
   "execution_count": 113,
   "metadata": {},
   "outputs": [
    {
     "data": {
      "text/plain": [
       "1290.6778067885118"
      ]
     },
     "execution_count": 113,
     "metadata": {},
     "output_type": "execute_result"
    }
   ],
   "source": [
    "#средняя выручка по тарифу Смарт\n",
    "mean_revenue_users_month_2 = smart['revenue_users_month'].mean()\n",
    "mean_revenue_users_month_2 "
   ]
  },
  {
   "cell_type": "markdown",
   "metadata": {},
   "source": [
    "Сравнивая два средних значения по выручки на одного пользователя по двум тарифам, видим, что этот показатель выше по тарифу Ультра. "
   ]
  },
  {
   "cell_type": "markdown",
   "metadata": {},
   "source": [
    " - Проверим гипотезу: \"Средняя выручка пользователей тарифа Ультра и Смарт различаются.\"\n",
    "   \n",
    "1) Сформулируем нулевую гипотезу (Н0): \n",
    "\n",
    "\"Средняя выручка пользователей тарифа Ультра равна средней выручки пользователей тарифа Смарт.\"\n",
    "\n",
    "2) Альтернативная гипотеза (Н1):\n",
    "\n",
    "\"Средняя выручка пользователей тарифа Ультра НЕ равна средней выручки пользователей тарифа Смарт.\"\n",
    "   \n",
    "   Н1 - двусторонняя гипотеза.\n",
    "   "
   ]
  },
  {
   "cell_type": "markdown",
   "metadata": {},
   "source": [
    "Для проверки гипотезы  равенстве среднего двух генеральных совокупностей по взятым из них выборкам воспользуемся специальным методом: st.ttest_ind  "
   ]
  },
  {
   "cell_type": "code",
   "execution_count": 114,
   "metadata": {},
   "outputs": [
    {
     "name": "stdout",
     "output_type": "stream",
     "text": [
      "p-значение:  1.6111423096150572e-209\n",
      "Отвергаем нулевую гипотезу\n"
     ]
    }
   ],
   "source": [
    "\n",
    "alpha = .05 # критический уровень статистической значимости\n",
    "# если p-value окажется меньше него - отвегнем гипотезу\n",
    "\n",
    "results = st.ttest_ind(\n",
    "    ultra['revenue_users_month'], \n",
    "    smart['revenue_users_month'], equal_var = False, nan_policy = 'omit') \n",
    "#агрумент nan_policy = 'omit' дает возможность обойти nan\n",
    "\n",
    "print('p-значение: ', results.pvalue)\n",
    "\n",
    "if results.pvalue < alpha:\n",
    "    print(\"Отвергаем нулевую гипотезу\")\n",
    "else:\n",
    "    print(\"Не получилось отвергнуть нулевую гипотезу\") "
   ]
  },
  {
   "cell_type": "markdown",
   "metadata": {},
   "source": [
    "Итак, средняя выручка пользователей тарифа Ультра НЕ равна средней выручки пользователей тарифа Смарт.\""
   ]
  },
  {
   "cell_type": "markdown",
   "metadata": {},
   "source": [
    "### Гипотеза 2:"
   ]
  },
  {
   "cell_type": "markdown",
   "metadata": {},
   "source": [
    "\"Средняя выручка пользователей из Москвы отличается от выручки пользователей из других регионов\"\n",
    "1) Сформулируем нулевую гипотезу (Н0):\n",
    "\n",
    "\"Средняя выручка пользователей из Москвы равна средней выручки пользователей из других регионов.\"\n",
    "\n",
    "2) Альтернативная гипотеза (Н1):\n",
    "\n",
    "\"Средняя выручка пользователей из Москвы НЕ равна средней выручки пользователей из других регионов.\"\n",
    "\n",
    "Н1 - двусторонняя гипотеза."
   ]
  },
  {
   "cell_type": "code",
   "execution_count": 115,
   "metadata": {},
   "outputs": [
    {
     "data": {
      "text/html": [
       "<div>\n",
       "<style scoped>\n",
       "    .dataframe tbody tr th:only-of-type {\n",
       "        vertical-align: middle;\n",
       "    }\n",
       "\n",
       "    .dataframe tbody tr th {\n",
       "        vertical-align: top;\n",
       "    }\n",
       "\n",
       "    .dataframe thead th {\n",
       "        text-align: right;\n",
       "    }\n",
       "</style>\n",
       "<table border=\"1\" class=\"dataframe\">\n",
       "  <thead>\n",
       "    <tr style=\"text-align: right;\">\n",
       "      <th></th>\n",
       "      <th>user_id</th>\n",
       "      <th>month</th>\n",
       "      <th>duration_count</th>\n",
       "      <th>duration_sum</th>\n",
       "      <th>age</th>\n",
       "      <th>churn_date</th>\n",
       "      <th>city</th>\n",
       "      <th>first_name</th>\n",
       "      <th>last_name</th>\n",
       "      <th>reg_date</th>\n",
       "      <th>tariff</th>\n",
       "      <th>revenue_calls_per</th>\n",
       "      <th>id_count</th>\n",
       "      <th>revenue_messages_per</th>\n",
       "      <th>mb_used_sum</th>\n",
       "      <th>revenue_internet_per</th>\n",
       "      <th>revenue_users_month</th>\n",
       "    </tr>\n",
       "  </thead>\n",
       "  <tbody>\n",
       "    <tr>\n",
       "      <td>0</td>\n",
       "      <td>1000</td>\n",
       "      <td>2018-05-01</td>\n",
       "      <td>22.0</td>\n",
       "      <td>159.0</td>\n",
       "      <td>52.0</td>\n",
       "      <td>NaT</td>\n",
       "      <td>Краснодар</td>\n",
       "      <td>Рафаил</td>\n",
       "      <td>Верещагин</td>\n",
       "      <td>2018-05-25</td>\n",
       "      <td>ultra</td>\n",
       "      <td>0.0</td>\n",
       "      <td>22.0</td>\n",
       "      <td>0.0</td>\n",
       "      <td>3.0</td>\n",
       "      <td>0.0</td>\n",
       "      <td>1950.0</td>\n",
       "    </tr>\n",
       "    <tr>\n",
       "      <td>1</td>\n",
       "      <td>1000</td>\n",
       "      <td>2018-06-01</td>\n",
       "      <td>43.0</td>\n",
       "      <td>172.0</td>\n",
       "      <td>52.0</td>\n",
       "      <td>NaT</td>\n",
       "      <td>Краснодар</td>\n",
       "      <td>Рафаил</td>\n",
       "      <td>Верещагин</td>\n",
       "      <td>2018-05-25</td>\n",
       "      <td>ultra</td>\n",
       "      <td>0.0</td>\n",
       "      <td>60.0</td>\n",
       "      <td>0.0</td>\n",
       "      <td>23.0</td>\n",
       "      <td>0.0</td>\n",
       "      <td>1950.0</td>\n",
       "    </tr>\n",
       "    <tr>\n",
       "      <td>2</td>\n",
       "      <td>1000</td>\n",
       "      <td>2018-07-01</td>\n",
       "      <td>47.0</td>\n",
       "      <td>340.0</td>\n",
       "      <td>52.0</td>\n",
       "      <td>NaT</td>\n",
       "      <td>Краснодар</td>\n",
       "      <td>Рафаил</td>\n",
       "      <td>Верещагин</td>\n",
       "      <td>2018-05-25</td>\n",
       "      <td>ultra</td>\n",
       "      <td>0.0</td>\n",
       "      <td>75.0</td>\n",
       "      <td>0.0</td>\n",
       "      <td>14.0</td>\n",
       "      <td>0.0</td>\n",
       "      <td>1950.0</td>\n",
       "    </tr>\n",
       "    <tr>\n",
       "      <td>3</td>\n",
       "      <td>1000</td>\n",
       "      <td>2018-08-01</td>\n",
       "      <td>52.0</td>\n",
       "      <td>408.0</td>\n",
       "      <td>52.0</td>\n",
       "      <td>NaT</td>\n",
       "      <td>Краснодар</td>\n",
       "      <td>Рафаил</td>\n",
       "      <td>Верещагин</td>\n",
       "      <td>2018-05-25</td>\n",
       "      <td>ultra</td>\n",
       "      <td>0.0</td>\n",
       "      <td>81.0</td>\n",
       "      <td>0.0</td>\n",
       "      <td>14.0</td>\n",
       "      <td>0.0</td>\n",
       "      <td>1950.0</td>\n",
       "    </tr>\n",
       "    <tr>\n",
       "      <td>4</td>\n",
       "      <td>1000</td>\n",
       "      <td>2018-09-01</td>\n",
       "      <td>58.0</td>\n",
       "      <td>466.0</td>\n",
       "      <td>52.0</td>\n",
       "      <td>NaT</td>\n",
       "      <td>Краснодар</td>\n",
       "      <td>Рафаил</td>\n",
       "      <td>Верещагин</td>\n",
       "      <td>2018-05-25</td>\n",
       "      <td>ultra</td>\n",
       "      <td>0.0</td>\n",
       "      <td>57.0</td>\n",
       "      <td>0.0</td>\n",
       "      <td>15.0</td>\n",
       "      <td>0.0</td>\n",
       "      <td>1950.0</td>\n",
       "    </tr>\n",
       "  </tbody>\n",
       "</table>\n",
       "</div>"
      ],
      "text/plain": [
       "   user_id      month  duration_count  duration_sum   age churn_date  \\\n",
       "0     1000 2018-05-01            22.0         159.0  52.0        NaT   \n",
       "1     1000 2018-06-01            43.0         172.0  52.0        NaT   \n",
       "2     1000 2018-07-01            47.0         340.0  52.0        NaT   \n",
       "3     1000 2018-08-01            52.0         408.0  52.0        NaT   \n",
       "4     1000 2018-09-01            58.0         466.0  52.0        NaT   \n",
       "\n",
       "        city first_name  last_name   reg_date tariff  revenue_calls_per  \\\n",
       "0  Краснодар     Рафаил  Верещагин 2018-05-25  ultra                0.0   \n",
       "1  Краснодар     Рафаил  Верещагин 2018-05-25  ultra                0.0   \n",
       "2  Краснодар     Рафаил  Верещагин 2018-05-25  ultra                0.0   \n",
       "3  Краснодар     Рафаил  Верещагин 2018-05-25  ultra                0.0   \n",
       "4  Краснодар     Рафаил  Верещагин 2018-05-25  ultra                0.0   \n",
       "\n",
       "   id_count  revenue_messages_per  mb_used_sum  revenue_internet_per  \\\n",
       "0      22.0                   0.0          3.0                   0.0   \n",
       "1      60.0                   0.0         23.0                   0.0   \n",
       "2      75.0                   0.0         14.0                   0.0   \n",
       "3      81.0                   0.0         14.0                   0.0   \n",
       "4      57.0                   0.0         15.0                   0.0   \n",
       "\n",
       "   revenue_users_month  \n",
       "0               1950.0  \n",
       "1               1950.0  \n",
       "2               1950.0  \n",
       "3               1950.0  \n",
       "4               1950.0  "
      ]
     },
     "execution_count": 115,
     "metadata": {},
     "output_type": "execute_result"
    }
   ],
   "source": [
    "revenue_month_user_2.head()"
   ]
  },
  {
   "cell_type": "markdown",
   "metadata": {},
   "source": [
    "- Найдем среднюю выручку пользователей из Москвы."
   ]
  },
  {
   "cell_type": "code",
   "execution_count": 116,
   "metadata": {},
   "outputs": [
    {
     "data": {
      "text/plain": [
       "<matplotlib.axes._subplots.AxesSubplot at 0x7f30c426d790>"
      ]
     },
     "execution_count": 116,
     "metadata": {},
     "output_type": "execute_result"
    },
    {
     "data": {
      "image/png": "[encoded data removed]",
      "text/plain": [
       "<Figure size 432x288 with 1 Axes>"
      ]
     },
     "metadata": {
      "needs_background": "light"
     },
     "output_type": "display_data"
    }
   ],
   "source": [
    "#Москва\n",
    "revenue_month_user_2[revenue_month_user_2['city'] == 'Москва']\\\n",
    "['revenue_users_month'].hist()"
   ]
  },
  {
   "cell_type": "code",
   "execution_count": 117,
   "metadata": {},
   "outputs": [
    {
     "data": {
      "text/plain": [
       "1554.7107942973523"
      ]
     },
     "execution_count": 117,
     "metadata": {},
     "output_type": "execute_result"
    }
   ],
   "source": [
    "#посчитаем среднюю выручку пользователей Москвы\n",
    "Moscow = revenue_month_user_2[revenue_month_user_2['city'] == 'Москва']\\\n",
    "['revenue_users_month']\n",
    "Moscow.mean() "
   ]
  },
  {
   "cell_type": "markdown",
   "metadata": {},
   "source": [
    "- Найдем среднюю выручку пользователей из неМосквы."
   ]
  },
  {
   "cell_type": "code",
   "execution_count": 118,
   "metadata": {},
   "outputs": [
    {
     "data": {
      "text/plain": [
       "<matplotlib.axes._subplots.AxesSubplot at 0x7f30c42034d0>"
      ]
     },
     "execution_count": 118,
     "metadata": {},
     "output_type": "execute_result"
    },
    {
     "data": {
      "image/png": "[encoded data removed]",
      "text/plain": [
       "<Figure size 432x288 with 1 Axes>"
      ]
     },
     "metadata": {
      "needs_background": "light"
     },
     "output_type": "display_data"
    }
   ],
   "source": [
    "#неМосква\n",
    "revenue_month_user_2[revenue_month_user_2['city'] != 'Москва']\\\n",
    "['revenue_users_month'].hist()\n"
   ]
  },
  {
   "cell_type": "code",
   "execution_count": 119,
   "metadata": {},
   "outputs": [
    {
     "data": {
      "text/plain": [
       "1493.1456801470588"
      ]
     },
     "execution_count": 119,
     "metadata": {},
     "output_type": "execute_result"
    }
   ],
   "source": [
    "#посчитаем среднюю выручку пользователей неМосквы\n",
    "no_Moscow = revenue_month_user_2[revenue_month_user_2['city'] != 'Москва']\\\n",
    "['revenue_users_month']\n",
    "no_Moscow.mean()"
   ]
  },
  {
   "cell_type": "markdown",
   "metadata": {},
   "source": [
    "Сравнивая два средних значения по выручки на одного пользователя по пользователям из Москвы и других регионов, видим, что этот показатель незначительно выше у пользователей Москвы."
   ]
  },
  {
   "cell_type": "markdown",
   "metadata": {},
   "source": [
    "Проверим гипотезу 2: \"Средняя выручка пользователей из Москвы отличается от выручки пользователей из других регионов\"\n",
    "1) Сформулируем нулевую гипотезу (Н0):\n",
    "\n",
    "\"Средняя выручка пользователей из Москвы равна средней выручки пользователей из других регионов.\"\n",
    "\n",
    "2) Альтернативная гипотеза (Н1):\n",
    "\n",
    "\"Средняя выручка пользователей из Москвы НЕ равна средней выручки пользователей из других регионов.\"\n",
    "\n",
    "Н1 - двусторонняя гипотеза.\n",
    "   "
   ]
  },
  {
   "cell_type": "markdown",
   "metadata": {},
   "source": [
    "Для проверки гипотезы  равенстве среднего двух генеральных совокупностей по взятым из них выборкам воспользуемся специальным методом: st.ttest_ind :"
   ]
  },
  {
   "cell_type": "code",
   "execution_count": 120,
   "metadata": {},
   "outputs": [
    {
     "name": "stdout",
     "output_type": "stream",
     "text": [
      "p-значение:  0.11142595553001099\n",
      "Не получилось отвергнуть нулевую гипотезу\n"
     ]
    }
   ],
   "source": [
    "alpha = .05 # критический уровень статистической значимости\n",
    "# если p-value окажется меньше него - отвегнем гипотезу\n",
    "\n",
    "results = st.ttest_ind(\n",
    "    Moscow, \n",
    "    no_Moscow, equal_var = False, nan_policy = 'omit') \n",
    "#агрумент nan_policy = 'omit' дает возможность обойти nan в данных\n",
    "\n",
    "print('p-значение: ', results.pvalue)\n",
    "\n",
    "if results.pvalue < alpha:\n",
    "    print(\"Отвергаем нулевую гипотезу\")\n",
    "else:\n",
    "    print(\"Не получилось отвергнуть нулевую гипотезу\") "
   ]
  },
  {
   "cell_type": "markdown",
   "metadata": {},
   "source": [
    "Итак, средняя выручка пользователей из Москвы равна средней выручки пользователей из других регионов. "
   ]
  },
  {
   "cell_type": "markdown",
   "metadata": {},
   "source": [
    "## Общий вывод."
   ]
  },
  {
   "cell_type": "markdown",
   "metadata": {},
   "source": [
    "Итак, в данном исследовании:\n",
    "\n",
    "1. Были произведены расчеты:\n",
    "    - количество сделанных звонков и израсходованных минут разговора по месяцам;\n",
    "    - количество отправленных сообщений по месяцам;\n",
    "    - объем израсходованного интернет-трафика по месяцам;\n",
    "    - помесячную выручку с каждого пользователя (вычтите бесплатный лимит из суммарного количества звонков,       сообщений и интернет-трафика; остаток умножьте на значение из тарифного плана; прибавьте абонентскую         плату, соответствующую тарифному плану).\n",
    "    \n",
    "2.  При расчете общих показателей по предоставленной выборке абонентов пришли к результатам:\n",
    "\n",
    "    - доля выручки по тарифу Смарт (59%) выше, чем по тарифу Ультра (41%);\n",
    "    - по количеству абонентов тариф Смарт лидирует: Смарт - 72%, Ультра - 28%. \n",
    "    \n",
    "3.  Расчеты таких характеристик:\n",
    "\n",
    "- количество минут разговора,\n",
    "- количество сообщений,\n",
    "- объём интернет-трафика,\n",
    "- средняя выручка в месяц на одного пользователя\n",
    "\n",
    "    И:  \n",
    "- среднее количество,\n",
    "- медиану,\n",
    "- дисперсию,\n",
    "- стандартное отклонение.\n",
    "\n",
    "для этих показателей, дали результат: лидер тут тариф Смарт.\n",
    "\n",
    "4. Были проверены гипотезы, которые позволяют принять факты, что:\n",
    "- средняя выручка пользователей тарифа Ультра НЕ равна средней выручки пользователей тарифа Смарт.\"\n",
    "- средняя выручка пользователей из Москвы равна средней выручки пользователей из других регионов. \n",
    "\n",
    "РЕКОМЕНДАЦИИ:\n",
    "\n",
    "Для более полного ответа коммерческому департаменту необходимо учесть не только выручку по абонентам каждого тарифа, но и расходы по ним. \n",
    "\n",
    "Исходя из предоставленных данных коммерческий департамент компании для корректировки рекламного бюджета может пойти по двум пути:\n",
    "- вложить средства в уже \"успешный\" тариф Смарт,\n",
    "- продумать стратегию по вложению средств на привлечение абонентов тарифа Ультра: более дорогого, но и более статусного. "
   ]
  },
  {
   "cell_type": "code",
   "execution_count": null,
   "metadata": {},
   "outputs": [],
   "source": []
  }
 ],
 "metadata": {
  "ExecuteTimeLog": [
   {
    "duration": 1128,
    "start_time": "2022-01-22T11:08:32.988Z"
   },
   {
    "duration": 3,
    "start_time": "2022-01-22T11:12:56.616Z"
   },
   {
    "duration": 3104,
    "start_time": "2022-01-22T11:12:57.710Z"
   },
   {
    "duration": 2629,
    "start_time": "2022-01-22T11:13:52.376Z"
   },
   {
    "duration": 3,
    "start_time": "2022-01-22T11:20:41.790Z"
   },
   {
    "duration": 3115,
    "start_time": "2022-01-22T11:20:42.819Z"
   },
   {
    "duration": 457,
    "start_time": "2022-01-22T11:21:05.946Z"
   },
   {
    "duration": 14,
    "start_time": "2022-01-22T11:21:41.917Z"
   },
   {
    "duration": 8,
    "start_time": "2022-01-22T11:23:16.992Z"
   },
   {
    "duration": 7,
    "start_time": "2022-01-22T11:24:03.084Z"
   },
   {
    "duration": 8,
    "start_time": "2022-01-22T11:25:40.620Z"
   },
   {
    "duration": 7,
    "start_time": "2022-01-22T11:26:49.986Z"
   },
   {
    "duration": 7,
    "start_time": "2022-01-22T11:27:03.439Z"
   },
   {
    "duration": 10,
    "start_time": "2022-01-22T11:27:46.486Z"
   },
   {
    "duration": 21,
    "start_time": "2022-01-22T11:29:48.251Z"
   },
   {
    "duration": 8,
    "start_time": "2022-01-22T11:30:26.208Z"
   },
   {
    "duration": 9,
    "start_time": "2022-01-22T11:36:13.032Z"
   },
   {
    "duration": 16,
    "start_time": "2022-01-22T11:36:28.004Z"
   },
   {
    "duration": 97,
    "start_time": "2022-01-22T11:37:41.377Z"
   },
   {
    "duration": 6,
    "start_time": "2022-01-22T11:38:07.364Z"
   },
   {
    "duration": 15,
    "start_time": "2022-01-22T11:38:22.268Z"
   },
   {
    "duration": 7,
    "start_time": "2022-01-22T11:40:46.817Z"
   },
   {
    "duration": 8,
    "start_time": "2022-01-22T11:41:07.099Z"
   },
   {
    "duration": 9,
    "start_time": "2022-01-22T11:44:48.250Z"
   },
   {
    "duration": 7,
    "start_time": "2022-01-22T11:45:04.081Z"
   },
   {
    "duration": 3,
    "start_time": "2022-01-22T12:26:09.015Z"
   },
   {
    "duration": 387,
    "start_time": "2022-01-22T12:26:09.442Z"
   },
   {
    "duration": 390,
    "start_time": "2022-01-22T12:26:23.974Z"
   },
   {
    "duration": 9,
    "start_time": "2022-01-22T12:26:26.079Z"
   },
   {
    "duration": 20,
    "start_time": "2022-01-22T12:26:26.867Z"
   },
   {
    "duration": 27,
    "start_time": "2022-01-22T12:29:21.747Z"
   },
   {
    "duration": 9,
    "start_time": "2022-01-22T12:29:53.147Z"
   },
   {
    "duration": 13,
    "start_time": "2022-01-22T12:29:54.137Z"
   },
   {
    "duration": 7,
    "start_time": "2022-01-22T12:29:59.630Z"
   },
   {
    "duration": 14,
    "start_time": "2022-01-22T12:30:15.822Z"
   },
   {
    "duration": 10,
    "start_time": "2022-01-22T12:31:34.524Z"
   },
   {
    "duration": 1167,
    "start_time": "2022-01-22T12:31:44.253Z"
   },
   {
    "duration": 416,
    "start_time": "2022-01-22T12:31:45.422Z"
   },
   {
    "duration": 10,
    "start_time": "2022-01-22T12:31:45.840Z"
   },
   {
    "duration": 20,
    "start_time": "2022-01-22T12:31:45.852Z"
   },
   {
    "duration": 31,
    "start_time": "2022-01-22T12:31:45.873Z"
   },
   {
    "duration": 13,
    "start_time": "2022-01-22T12:31:45.905Z"
   },
   {
    "duration": 8,
    "start_time": "2022-01-22T12:31:45.920Z"
   },
   {
    "duration": 16,
    "start_time": "2022-01-22T12:31:45.929Z"
   },
   {
    "duration": 28,
    "start_time": "2022-01-22T12:31:45.947Z"
   },
   {
    "duration": 17,
    "start_time": "2022-01-22T12:31:45.976Z"
   },
   {
    "duration": 7,
    "start_time": "2022-01-22T12:31:45.995Z"
   },
   {
    "duration": 16,
    "start_time": "2022-01-22T12:31:46.004Z"
   },
   {
    "duration": 7,
    "start_time": "2022-01-22T12:31:46.021Z"
   },
   {
    "duration": 6,
    "start_time": "2022-01-22T12:31:46.030Z"
   },
   {
    "duration": 10,
    "start_time": "2022-01-22T12:31:46.071Z"
   },
   {
    "duration": 6,
    "start_time": "2022-01-22T12:31:46.082Z"
   },
   {
    "duration": 16,
    "start_time": "2022-01-22T12:33:02.420Z"
   },
   {
    "duration": 7,
    "start_time": "2022-01-22T12:34:32.596Z"
   },
   {
    "duration": 16,
    "start_time": "2022-01-22T12:34:37.995Z"
   },
   {
    "duration": 22,
    "start_time": "2022-01-22T12:35:01.528Z"
   },
   {
    "duration": 14,
    "start_time": "2022-01-22T12:35:11.795Z"
   },
   {
    "duration": 8,
    "start_time": "2022-01-22T12:35:27.741Z"
   },
   {
    "duration": 123,
    "start_time": "2022-01-22T12:36:35.281Z"
   },
   {
    "duration": 107,
    "start_time": "2022-01-22T12:36:49.323Z"
   },
   {
    "duration": 9,
    "start_time": "2022-01-22T12:37:04.288Z"
   },
   {
    "duration": 12,
    "start_time": "2022-01-22T12:37:06.757Z"
   },
   {
    "duration": 19,
    "start_time": "2022-01-22T12:37:20.504Z"
   },
   {
    "duration": 12,
    "start_time": "2022-01-22T12:37:52.919Z"
   },
   {
    "duration": 5,
    "start_time": "2022-01-22T12:39:09.607Z"
   },
   {
    "duration": 7,
    "start_time": "2022-01-22T12:39:36.806Z"
   },
   {
    "duration": 7,
    "start_time": "2022-01-22T12:39:56.387Z"
   },
   {
    "duration": 105,
    "start_time": "2022-01-22T12:40:53.880Z"
   },
   {
    "duration": 28,
    "start_time": "2022-01-22T12:45:00.074Z"
   },
   {
    "duration": 14,
    "start_time": "2022-01-22T12:45:38.545Z"
   },
   {
    "duration": 12,
    "start_time": "2022-01-22T12:45:41.050Z"
   },
   {
    "duration": 11,
    "start_time": "2022-01-22T12:45:43.693Z"
   },
   {
    "duration": 6,
    "start_time": "2022-01-22T12:45:45.806Z"
   },
   {
    "duration": 5,
    "start_time": "2022-01-22T12:45:48.434Z"
   },
   {
    "duration": 81,
    "start_time": "2022-01-22T12:52:21.553Z"
   },
   {
    "duration": 50,
    "start_time": "2022-01-22T12:52:50.458Z"
   },
   {
    "duration": 36,
    "start_time": "2022-01-22T12:53:03.822Z"
   },
   {
    "duration": 5,
    "start_time": "2022-01-22T12:53:18.357Z"
   },
   {
    "duration": 6,
    "start_time": "2022-01-22T12:53:35.682Z"
   },
   {
    "duration": 6,
    "start_time": "2022-01-22T13:09:01.647Z"
   },
   {
    "duration": 9,
    "start_time": "2022-01-22T13:10:12.318Z"
   },
   {
    "duration": 172,
    "start_time": "2022-01-22T13:11:05.600Z"
   },
   {
    "duration": 7,
    "start_time": "2022-01-22T13:11:24.122Z"
   },
   {
    "duration": 9,
    "start_time": "2022-01-22T13:22:36.455Z"
   },
   {
    "duration": 8575,
    "start_time": "2022-01-22T13:25:01.680Z"
   },
   {
    "duration": 6,
    "start_time": "2022-01-22T13:25:40.290Z"
   },
   {
    "duration": 29,
    "start_time": "2022-01-22T13:29:03.613Z"
   },
   {
    "duration": 26,
    "start_time": "2022-01-22T13:31:21.969Z"
   },
   {
    "duration": 99,
    "start_time": "2022-01-22T13:34:42.877Z"
   },
   {
    "duration": 14,
    "start_time": "2022-01-22T13:35:16.390Z"
   },
   {
    "duration": 12,
    "start_time": "2022-01-22T13:35:33.446Z"
   },
   {
    "duration": 323,
    "start_time": "2022-01-22T13:36:12.263Z"
   },
   {
    "duration": 13,
    "start_time": "2022-01-22T13:36:21.117Z"
   },
   {
    "duration": 7,
    "start_time": "2022-01-22T13:36:46.775Z"
   },
   {
    "duration": 26,
    "start_time": "2022-01-22T13:37:35.523Z"
   },
   {
    "duration": 15,
    "start_time": "2022-01-22T13:45:19.123Z"
   },
   {
    "duration": 7,
    "start_time": "2022-01-22T13:45:44.912Z"
   },
   {
    "duration": 9,
    "start_time": "2022-01-22T13:47:28.353Z"
   },
   {
    "duration": 9,
    "start_time": "2022-01-22T14:06:01.268Z"
   },
   {
    "duration": 21,
    "start_time": "2022-01-22T14:08:57.098Z"
   },
   {
    "duration": 28,
    "start_time": "2022-01-22T14:09:09.689Z"
   },
   {
    "duration": 334,
    "start_time": "2022-01-22T14:10:44.578Z"
   },
   {
    "duration": 29,
    "start_time": "2022-01-22T14:11:01.397Z"
   },
   {
    "duration": 22,
    "start_time": "2022-01-22T14:14:39.298Z"
   },
   {
    "duration": 21,
    "start_time": "2022-01-22T14:14:49.663Z"
   },
   {
    "duration": 333,
    "start_time": "2022-01-22T14:17:51.409Z"
   },
   {
    "duration": 14,
    "start_time": "2022-01-22T14:18:03.757Z"
   },
   {
    "duration": 15,
    "start_time": "2022-01-22T14:18:11.319Z"
   },
   {
    "duration": 295,
    "start_time": "2022-01-22T14:19:42.346Z"
   },
   {
    "duration": 16,
    "start_time": "2022-01-22T14:20:10.974Z"
   },
   {
    "duration": 8,
    "start_time": "2022-01-22T14:20:25.963Z"
   },
   {
    "duration": 29,
    "start_time": "2022-01-22T14:26:24.640Z"
   },
   {
    "duration": 39,
    "start_time": "2022-01-22T14:26:28.945Z"
   },
   {
    "duration": 33,
    "start_time": "2022-01-22T14:27:38.029Z"
   },
   {
    "duration": 39,
    "start_time": "2022-01-22T14:28:01.478Z"
   },
   {
    "duration": 34,
    "start_time": "2022-01-22T14:30:06.876Z"
   },
   {
    "duration": 8,
    "start_time": "2022-01-22T14:31:40.772Z"
   },
   {
    "duration": 7,
    "start_time": "2022-01-22T14:33:55.865Z"
   },
   {
    "duration": 24,
    "start_time": "2022-01-22T14:33:56.912Z"
   },
   {
    "duration": 20,
    "start_time": "2022-01-22T14:34:07.029Z"
   },
   {
    "duration": 19,
    "start_time": "2022-01-22T14:34:16.442Z"
   },
   {
    "duration": 8,
    "start_time": "2022-01-22T14:34:18.532Z"
   },
   {
    "duration": 19,
    "start_time": "2022-01-22T14:34:19.580Z"
   },
   {
    "duration": 897,
    "start_time": "2022-01-22T14:35:50.278Z"
   },
   {
    "duration": 33,
    "start_time": "2022-01-22T14:36:11.779Z"
   },
   {
    "duration": 8,
    "start_time": "2022-01-22T14:37:54.539Z"
   },
   {
    "duration": 23,
    "start_time": "2022-01-22T14:39:10.347Z"
   },
   {
    "duration": 24,
    "start_time": "2022-01-22T14:39:22.076Z"
   },
   {
    "duration": 28,
    "start_time": "2022-01-22T14:41:05.664Z"
   },
   {
    "duration": 4,
    "start_time": "2022-01-22T15:02:50.541Z"
   },
   {
    "duration": 343,
    "start_time": "2022-01-22T15:03:03.463Z"
   },
   {
    "duration": 376,
    "start_time": "2022-01-22T15:05:20.233Z"
   },
   {
    "duration": 16,
    "start_time": "2022-01-22T15:13:20.832Z"
   },
   {
    "duration": 7553,
    "start_time": "2022-01-22T15:15:09.691Z"
   },
   {
    "duration": 1099,
    "start_time": "2022-01-22T15:15:30.635Z"
   },
   {
    "duration": 380,
    "start_time": "2022-01-22T15:15:31.737Z"
   },
   {
    "duration": 11,
    "start_time": "2022-01-22T15:15:32.121Z"
   },
   {
    "duration": 21,
    "start_time": "2022-01-22T15:15:32.133Z"
   },
   {
    "duration": 28,
    "start_time": "2022-01-22T15:15:32.155Z"
   },
   {
    "duration": 13,
    "start_time": "2022-01-22T15:15:32.185Z"
   },
   {
    "duration": 8,
    "start_time": "2022-01-22T15:15:32.199Z"
   },
   {
    "duration": 16,
    "start_time": "2022-01-22T15:15:32.209Z"
   },
   {
    "duration": 18,
    "start_time": "2022-01-22T15:15:32.227Z"
   },
   {
    "duration": 33,
    "start_time": "2022-01-22T15:15:32.247Z"
   },
   {
    "duration": 6,
    "start_time": "2022-01-22T15:15:32.281Z"
   },
   {
    "duration": 14,
    "start_time": "2022-01-22T15:15:32.289Z"
   },
   {
    "duration": 18,
    "start_time": "2022-01-22T15:15:32.304Z"
   },
   {
    "duration": 10,
    "start_time": "2022-01-22T15:15:32.324Z"
   },
   {
    "duration": 38,
    "start_time": "2022-01-22T15:15:32.335Z"
   },
   {
    "duration": 5,
    "start_time": "2022-01-22T15:15:32.375Z"
   },
   {
    "duration": 9,
    "start_time": "2022-01-22T15:15:32.382Z"
   },
   {
    "duration": 9,
    "start_time": "2022-01-22T15:15:32.392Z"
   },
   {
    "duration": 10,
    "start_time": "2022-01-22T15:15:32.403Z"
   },
   {
    "duration": 16,
    "start_time": "2022-01-22T15:15:32.414Z"
   },
   {
    "duration": 23,
    "start_time": "2022-01-22T15:15:32.432Z"
   },
   {
    "duration": 19,
    "start_time": "2022-01-22T15:15:32.456Z"
   },
   {
    "duration": 10,
    "start_time": "2022-01-22T15:15:32.477Z"
   },
   {
    "duration": 5,
    "start_time": "2022-01-22T15:15:32.489Z"
   },
   {
    "duration": 10,
    "start_time": "2022-01-22T15:15:32.496Z"
   },
   {
    "duration": 108,
    "start_time": "2022-01-22T15:15:32.509Z"
   },
   {
    "duration": 62,
    "start_time": "2022-01-22T15:15:32.619Z"
   },
   {
    "duration": 46,
    "start_time": "2022-01-22T15:15:32.682Z"
   },
   {
    "duration": 5,
    "start_time": "2022-01-22T15:15:32.729Z"
   },
   {
    "duration": 6,
    "start_time": "2022-01-22T15:15:32.736Z"
   },
   {
    "duration": 29,
    "start_time": "2022-01-22T15:15:32.744Z"
   },
   {
    "duration": 9,
    "start_time": "2022-01-22T15:15:32.775Z"
   },
   {
    "duration": 6,
    "start_time": "2022-01-22T15:15:32.786Z"
   },
   {
    "duration": 16,
    "start_time": "2022-01-22T15:15:32.793Z"
   },
   {
    "duration": 12,
    "start_time": "2022-01-22T15:15:32.811Z"
   },
   {
    "duration": 57,
    "start_time": "2022-01-22T15:15:32.825Z"
   },
   {
    "duration": 7,
    "start_time": "2022-01-22T15:15:32.883Z"
   },
   {
    "duration": 7,
    "start_time": "2022-01-22T15:15:32.892Z"
   },
   {
    "duration": 8,
    "start_time": "2022-01-22T15:15:32.901Z"
   },
   {
    "duration": 7,
    "start_time": "2022-01-22T15:15:32.911Z"
   },
   {
    "duration": 57,
    "start_time": "2022-01-22T15:15:32.920Z"
   },
   {
    "duration": 40,
    "start_time": "2022-01-22T15:15:32.979Z"
   },
   {
    "duration": 16,
    "start_time": "2022-01-22T15:15:33.021Z"
   },
   {
    "duration": 8178,
    "start_time": "2022-01-22T15:15:33.038Z"
   },
   {
    "duration": 235,
    "start_time": "2022-01-22T15:15:40.983Z"
   },
   {
    "duration": 224,
    "start_time": "2022-01-22T15:15:40.995Z"
   },
   {
    "duration": 221,
    "start_time": "2022-01-22T15:15:40.999Z"
   },
   {
    "duration": 216,
    "start_time": "2022-01-22T15:15:41.004Z"
   },
   {
    "duration": 211,
    "start_time": "2022-01-22T15:15:41.010Z"
   },
   {
    "duration": 208,
    "start_time": "2022-01-22T15:15:41.014Z"
   },
   {
    "duration": 33,
    "start_time": "2022-01-22T15:16:40.543Z"
   },
   {
    "duration": 17,
    "start_time": "2022-01-22T15:16:41.973Z"
   },
   {
    "duration": 34,
    "start_time": "2022-01-22T15:17:27.627Z"
   },
   {
    "duration": 15,
    "start_time": "2022-01-22T15:17:28.762Z"
   },
   {
    "duration": 15,
    "start_time": "2022-01-22T15:18:05.344Z"
   },
   {
    "duration": 312,
    "start_time": "2022-01-22T15:18:14.671Z"
   },
   {
    "duration": 16,
    "start_time": "2022-01-22T15:18:25.594Z"
   },
   {
    "duration": 571,
    "start_time": "2022-01-22T15:21:38.683Z"
   },
   {
    "duration": 33,
    "start_time": "2022-01-22T16:15:37.316Z"
   },
   {
    "duration": 99,
    "start_time": "2022-01-22T16:15:39.526Z"
   },
   {
    "duration": 28,
    "start_time": "2022-01-22T16:21:29.928Z"
   },
   {
    "duration": 34,
    "start_time": "2022-01-22T16:21:30.736Z"
   },
   {
    "duration": 96,
    "start_time": "2022-01-22T16:21:32.365Z"
   },
   {
    "duration": 39,
    "start_time": "2022-01-22T16:22:53.569Z"
   },
   {
    "duration": 36,
    "start_time": "2022-01-22T16:29:27.983Z"
   },
   {
    "duration": 37,
    "start_time": "2022-01-22T16:30:58.280Z"
   },
   {
    "duration": 8,
    "start_time": "2022-01-22T16:38:49.979Z"
   },
   {
    "duration": 19,
    "start_time": "2022-01-22T16:38:51.369Z"
   },
   {
    "duration": 37,
    "start_time": "2022-01-22T16:41:19.830Z"
   },
   {
    "duration": 28,
    "start_time": "2022-01-22T16:43:57.700Z"
   },
   {
    "duration": 345,
    "start_time": "2022-01-22T16:45:48.997Z"
   },
   {
    "duration": 34,
    "start_time": "2022-01-22T16:46:00.193Z"
   },
   {
    "duration": 380,
    "start_time": "2022-01-22T16:46:23.264Z"
   },
   {
    "duration": 39,
    "start_time": "2022-01-22T16:46:38.601Z"
   },
   {
    "duration": 34,
    "start_time": "2022-01-22T16:47:31.050Z"
   },
   {
    "duration": 24,
    "start_time": "2022-01-22T16:48:32.564Z"
   },
   {
    "duration": 37,
    "start_time": "2022-01-22T16:50:03.074Z"
   },
   {
    "duration": 33,
    "start_time": "2022-01-22T16:51:20.215Z"
   },
   {
    "duration": 22,
    "start_time": "2022-01-22T16:51:28.188Z"
   },
   {
    "duration": 40,
    "start_time": "2022-01-22T16:52:12.089Z"
   },
   {
    "duration": 36,
    "start_time": "2022-01-22T16:52:49.802Z"
   },
   {
    "duration": 29,
    "start_time": "2022-01-22T16:52:57.638Z"
   },
   {
    "duration": 9,
    "start_time": "2022-01-22T16:54:39.260Z"
   },
   {
    "duration": 21,
    "start_time": "2022-01-22T16:54:39.910Z"
   },
   {
    "duration": 32,
    "start_time": "2022-01-22T16:54:40.460Z"
   },
   {
    "duration": 397,
    "start_time": "2022-01-22T16:54:42.766Z"
   },
   {
    "duration": 38,
    "start_time": "2022-01-22T16:55:17.422Z"
   },
   {
    "duration": 41,
    "start_time": "2022-01-22T16:56:29.116Z"
   },
   {
    "duration": 10,
    "start_time": "2022-01-22T16:56:50.977Z"
   },
   {
    "duration": 19,
    "start_time": "2022-01-22T16:56:51.246Z"
   },
   {
    "duration": 31,
    "start_time": "2022-01-22T16:56:51.544Z"
   },
   {
    "duration": 38,
    "start_time": "2022-01-22T16:56:52.609Z"
   },
   {
    "duration": 29,
    "start_time": "2022-01-22T16:56:54.779Z"
   },
   {
    "duration": 21,
    "start_time": "2022-01-22T16:56:58.575Z"
   },
   {
    "duration": 41,
    "start_time": "2022-01-22T17:06:54.306Z"
   },
   {
    "duration": 35,
    "start_time": "2022-01-22T17:07:12.507Z"
   },
   {
    "duration": 406,
    "start_time": "2022-01-22T17:12:18.130Z"
   },
   {
    "duration": 10,
    "start_time": "2022-01-22T17:12:27.453Z"
   },
   {
    "duration": 12,
    "start_time": "2022-01-22T17:15:02.300Z"
   },
   {
    "duration": 27,
    "start_time": "2022-01-22T17:15:13.038Z"
   },
   {
    "duration": 24,
    "start_time": "2022-01-22T17:16:16.348Z"
   },
   {
    "duration": 107,
    "start_time": "2022-01-22T17:40:04.662Z"
   },
   {
    "duration": 109,
    "start_time": "2022-01-22T17:40:52.360Z"
   },
   {
    "duration": 117,
    "start_time": "2022-01-22T17:40:59.351Z"
   },
   {
    "duration": 313,
    "start_time": "2022-01-22T18:40:59.531Z"
   },
   {
    "duration": 409,
    "start_time": "2022-01-22T18:41:19.412Z"
   },
   {
    "duration": 291,
    "start_time": "2022-01-22T18:41:56.336Z"
   },
   {
    "duration": 402,
    "start_time": "2022-01-22T18:42:15.489Z"
   },
   {
    "duration": 302,
    "start_time": "2022-01-22T18:42:46.440Z"
   },
   {
    "duration": 3,
    "start_time": "2022-01-22T18:44:19.766Z"
   },
   {
    "duration": 24,
    "start_time": "2022-01-22T18:44:35.252Z"
   },
   {
    "duration": 14,
    "start_time": "2022-01-22T18:44:43.992Z"
   },
   {
    "duration": 323,
    "start_time": "2022-01-22T18:45:30.117Z"
   },
   {
    "duration": 7,
    "start_time": "2022-01-22T18:45:52.047Z"
   },
   {
    "duration": 12,
    "start_time": "2022-01-22T18:45:54.701Z"
   },
   {
    "duration": 1251,
    "start_time": "2022-01-22T18:46:13.637Z"
   },
   {
    "duration": 11,
    "start_time": "2022-01-22T18:46:26.266Z"
   },
   {
    "duration": 33,
    "start_time": "2022-01-22T18:46:27.080Z"
   },
   {
    "duration": 8,
    "start_time": "2022-01-22T18:46:28.746Z"
   },
   {
    "duration": 16,
    "start_time": "2022-01-22T18:46:32.580Z"
   },
   {
    "duration": 75,
    "start_time": "2022-01-22T18:54:24.495Z"
   },
   {
    "duration": 129,
    "start_time": "2022-01-22T18:54:35.883Z"
   },
   {
    "duration": 91,
    "start_time": "2022-01-22T18:55:00.580Z"
   },
   {
    "duration": 90,
    "start_time": "2022-01-22T18:56:32.964Z"
   },
   {
    "duration": 92,
    "start_time": "2022-01-22T18:56:58.371Z"
   },
   {
    "duration": 78,
    "start_time": "2022-01-22T19:06:36.466Z"
   },
   {
    "duration": 80,
    "start_time": "2022-01-22T19:07:13.191Z"
   },
   {
    "duration": 100,
    "start_time": "2022-01-22T19:08:06.895Z"
   },
   {
    "duration": 88,
    "start_time": "2022-01-22T19:08:46.744Z"
   },
   {
    "duration": 130,
    "start_time": "2022-01-22T19:09:17.332Z"
   },
   {
    "duration": 82,
    "start_time": "2022-01-22T19:10:45.852Z"
   },
   {
    "duration": 22,
    "start_time": "2022-01-22T19:10:53.197Z"
   },
   {
    "duration": 6,
    "start_time": "2022-01-22T19:10:54.203Z"
   },
   {
    "duration": 12,
    "start_time": "2022-01-22T19:10:55.718Z"
   },
   {
    "duration": 81,
    "start_time": "2022-01-22T19:14:32.433Z"
   },
   {
    "duration": 79,
    "start_time": "2022-01-22T19:15:12.875Z"
   },
   {
    "duration": 117,
    "start_time": "2022-01-22T19:16:27.087Z"
   },
   {
    "duration": 102,
    "start_time": "2022-01-22T19:16:38.691Z"
   },
   {
    "duration": 97,
    "start_time": "2022-01-22T19:18:21.100Z"
   },
   {
    "duration": 98,
    "start_time": "2022-01-22T19:18:52.847Z"
   },
   {
    "duration": 95,
    "start_time": "2022-01-22T19:19:10.800Z"
   },
   {
    "duration": 95,
    "start_time": "2022-01-22T19:21:39.665Z"
   },
   {
    "duration": 114,
    "start_time": "2022-01-22T19:22:09.982Z"
   },
   {
    "duration": 117,
    "start_time": "2022-01-22T19:22:25.138Z"
   },
   {
    "duration": 128,
    "start_time": "2022-01-22T19:23:05.956Z"
   },
   {
    "duration": 108,
    "start_time": "2022-01-22T19:23:18.653Z"
   },
   {
    "duration": 524,
    "start_time": "2022-01-22T19:24:38.222Z"
   },
   {
    "duration": 130,
    "start_time": "2022-01-22T19:26:06.476Z"
   },
   {
    "duration": 5,
    "start_time": "2022-01-22T19:26:17.116Z"
   },
   {
    "duration": 12,
    "start_time": "2022-01-22T19:26:17.817Z"
   },
   {
    "duration": 2005,
    "start_time": "2022-01-22T19:26:18.534Z"
   },
   {
    "duration": 18,
    "start_time": "2022-01-22T19:26:56.222Z"
   },
   {
    "duration": 1116,
    "start_time": "2022-01-22T19:27:08.802Z"
   },
   {
    "duration": 388,
    "start_time": "2022-01-22T19:27:09.919Z"
   },
   {
    "duration": 11,
    "start_time": "2022-01-22T19:27:10.309Z"
   },
   {
    "duration": 21,
    "start_time": "2022-01-22T19:27:10.322Z"
   },
   {
    "duration": 30,
    "start_time": "2022-01-22T19:27:10.344Z"
   },
   {
    "duration": 12,
    "start_time": "2022-01-22T19:27:10.376Z"
   },
   {
    "duration": 7,
    "start_time": "2022-01-22T19:27:10.390Z"
   },
   {
    "duration": 16,
    "start_time": "2022-01-22T19:27:10.400Z"
   },
   {
    "duration": 22,
    "start_time": "2022-01-22T19:27:10.418Z"
   },
   {
    "duration": 36,
    "start_time": "2022-01-22T19:27:10.441Z"
   },
   {
    "duration": 6,
    "start_time": "2022-01-22T19:27:10.479Z"
   },
   {
    "duration": 14,
    "start_time": "2022-01-22T19:27:10.487Z"
   },
   {
    "duration": 18,
    "start_time": "2022-01-22T19:27:10.502Z"
   },
   {
    "duration": 10,
    "start_time": "2022-01-22T19:27:10.521Z"
   },
   {
    "duration": 42,
    "start_time": "2022-01-22T19:27:10.533Z"
   },
   {
    "duration": 7,
    "start_time": "2022-01-22T19:27:10.577Z"
   },
   {
    "duration": 10,
    "start_time": "2022-01-22T19:27:10.586Z"
   },
   {
    "duration": 6,
    "start_time": "2022-01-22T19:27:10.598Z"
   },
   {
    "duration": 7,
    "start_time": "2022-01-22T19:27:10.605Z"
   },
   {
    "duration": 10,
    "start_time": "2022-01-22T19:27:10.614Z"
   },
   {
    "duration": 18,
    "start_time": "2022-01-22T19:27:10.625Z"
   },
   {
    "duration": 37,
    "start_time": "2022-01-22T19:27:10.644Z"
   },
   {
    "duration": 12,
    "start_time": "2022-01-22T19:27:10.683Z"
   },
   {
    "duration": 5,
    "start_time": "2022-01-22T19:27:10.696Z"
   },
   {
    "duration": 8,
    "start_time": "2022-01-22T19:27:10.703Z"
   },
   {
    "duration": 108,
    "start_time": "2022-01-22T19:27:10.715Z"
   },
   {
    "duration": 59,
    "start_time": "2022-01-22T19:27:10.826Z"
   },
   {
    "duration": 37,
    "start_time": "2022-01-22T19:27:10.887Z"
   },
   {
    "duration": 5,
    "start_time": "2022-01-22T19:27:10.926Z"
   },
   {
    "duration": 7,
    "start_time": "2022-01-22T19:27:10.933Z"
   },
   {
    "duration": 30,
    "start_time": "2022-01-22T19:27:10.942Z"
   },
   {
    "duration": 8,
    "start_time": "2022-01-22T19:27:10.974Z"
   },
   {
    "duration": 5,
    "start_time": "2022-01-22T19:27:10.984Z"
   },
   {
    "duration": 17,
    "start_time": "2022-01-22T19:27:10.991Z"
   },
   {
    "duration": 13,
    "start_time": "2022-01-22T19:27:11.010Z"
   },
   {
    "duration": 66,
    "start_time": "2022-01-22T19:27:11.025Z"
   },
   {
    "duration": 8,
    "start_time": "2022-01-22T19:27:11.093Z"
   },
   {
    "duration": 8,
    "start_time": "2022-01-22T19:27:11.102Z"
   },
   {
    "duration": 9,
    "start_time": "2022-01-22T19:27:11.112Z"
   },
   {
    "duration": 8,
    "start_time": "2022-01-22T19:27:11.122Z"
   },
   {
    "duration": 69,
    "start_time": "2022-01-22T19:27:11.132Z"
   },
   {
    "duration": 41,
    "start_time": "2022-01-22T19:27:11.203Z"
   },
   {
    "duration": 28,
    "start_time": "2022-01-22T19:27:11.245Z"
   },
   {
    "duration": 22,
    "start_time": "2022-01-22T19:27:11.275Z"
   },
   {
    "duration": 6,
    "start_time": "2022-01-22T19:27:11.299Z"
   },
   {
    "duration": 12,
    "start_time": "2022-01-22T19:27:11.307Z"
   },
   {
    "duration": 2093,
    "start_time": "2022-01-22T19:27:11.321Z"
   },
   {
    "duration": 9,
    "start_time": "2022-01-22T19:27:13.416Z"
   },
   {
    "duration": 23,
    "start_time": "2022-01-22T19:27:13.426Z"
   },
   {
    "duration": 50,
    "start_time": "2022-01-22T19:27:13.451Z"
   },
   {
    "duration": 31,
    "start_time": "2022-01-22T19:27:13.503Z"
   },
   {
    "duration": 48,
    "start_time": "2022-01-22T19:27:13.536Z"
   },
   {
    "duration": 390,
    "start_time": "2022-01-22T19:27:13.586Z"
   },
   {
    "duration": 1902,
    "start_time": "2022-01-22T19:27:12.076Z"
   },
   {
    "duration": 1899,
    "start_time": "2022-01-22T19:27:12.080Z"
   },
   {
    "duration": 1896,
    "start_time": "2022-01-22T19:27:12.084Z"
   },
   {
    "duration": 127,
    "start_time": "2022-01-22T19:28:56.336Z"
   },
   {
    "duration": 122,
    "start_time": "2022-01-22T19:31:22.315Z"
   },
   {
    "duration": 8,
    "start_time": "2022-01-22T19:31:55.332Z"
   },
   {
    "duration": 8,
    "start_time": "2022-01-22T19:32:01.354Z"
   },
   {
    "duration": 21,
    "start_time": "2022-01-22T19:32:10.811Z"
   },
   {
    "duration": 9,
    "start_time": "2022-01-22T19:32:25.951Z"
   },
   {
    "duration": 21,
    "start_time": "2022-01-22T19:33:38.880Z"
   },
   {
    "duration": 12,
    "start_time": "2022-01-22T19:33:52.516Z"
   },
   {
    "duration": 121,
    "start_time": "2022-01-22T19:33:53.565Z"
   },
   {
    "duration": 20,
    "start_time": "2022-01-22T19:33:54.602Z"
   },
   {
    "duration": 16,
    "start_time": "2022-01-22T19:35:03.449Z"
   },
   {
    "duration": 38,
    "start_time": "2022-01-22T19:36:15.254Z"
   },
   {
    "duration": 122,
    "start_time": "2022-01-22T19:46:07.684Z"
   },
   {
    "duration": 34,
    "start_time": "2022-01-22T19:48:52.794Z"
   },
   {
    "duration": 32,
    "start_time": "2022-01-22T19:48:56.555Z"
   },
   {
    "duration": 12,
    "start_time": "2022-01-22T19:50:35.343Z"
   },
   {
    "duration": 20,
    "start_time": "2022-01-22T19:51:32.727Z"
   },
   {
    "duration": 359,
    "start_time": "2022-01-22T19:53:50.391Z"
   },
   {
    "duration": 10,
    "start_time": "2022-01-22T19:54:01.916Z"
   },
   {
    "duration": 21,
    "start_time": "2022-01-22T19:54:02.680Z"
   },
   {
    "duration": 309,
    "start_time": "2022-01-22T19:54:03.675Z"
   },
   {
    "duration": 8,
    "start_time": "2022-01-22T19:54:30.596Z"
   },
   {
    "duration": 19,
    "start_time": "2022-01-22T19:54:30.884Z"
   },
   {
    "duration": 32,
    "start_time": "2022-01-22T19:54:31.132Z"
   },
   {
    "duration": 10,
    "start_time": "2022-01-22T19:54:31.966Z"
   },
   {
    "duration": 21,
    "start_time": "2022-01-22T19:54:33.071Z"
   },
   {
    "duration": 305,
    "start_time": "2022-01-22T19:54:35.077Z"
   },
   {
    "duration": 297,
    "start_time": "2022-01-22T19:55:07.239Z"
   },
   {
    "duration": 308,
    "start_time": "2022-01-22T19:55:25.056Z"
   },
   {
    "duration": 3,
    "start_time": "2022-01-22T19:55:38.661Z"
   },
   {
    "duration": 6,
    "start_time": "2022-01-22T19:56:03.265Z"
   },
   {
    "duration": 1178,
    "start_time": "2022-01-22T19:56:22.283Z"
   },
   {
    "duration": 35,
    "start_time": "2022-01-22T19:57:58.505Z"
   },
   {
    "duration": 10,
    "start_time": "2022-01-22T19:57:58.941Z"
   },
   {
    "duration": 22,
    "start_time": "2022-01-22T19:57:59.943Z"
   },
   {
    "duration": 15,
    "start_time": "2022-01-22T19:58:00.838Z"
   },
   {
    "duration": 125,
    "start_time": "2022-01-22T20:11:31.183Z"
   },
   {
    "duration": 8,
    "start_time": "2022-01-22T20:11:47.320Z"
   },
   {
    "duration": 31,
    "start_time": "2022-01-22T20:11:47.514Z"
   },
   {
    "duration": 40,
    "start_time": "2022-01-22T20:11:47.932Z"
   },
   {
    "duration": 10,
    "start_time": "2022-01-22T20:11:48.078Z"
   },
   {
    "duration": 22,
    "start_time": "2022-01-22T20:11:48.339Z"
   },
   {
    "duration": 6,
    "start_time": "2022-01-22T20:11:49.408Z"
   },
   {
    "duration": 12,
    "start_time": "2022-01-22T20:11:50.676Z"
   },
   {
    "duration": 133,
    "start_time": "2022-01-22T20:11:57.886Z"
   },
   {
    "duration": 1174,
    "start_time": "2022-01-22T20:12:20.453Z"
   },
   {
    "duration": 382,
    "start_time": "2022-01-22T20:12:21.629Z"
   },
   {
    "duration": 11,
    "start_time": "2022-01-22T20:12:22.013Z"
   },
   {
    "duration": 24,
    "start_time": "2022-01-22T20:12:22.025Z"
   },
   {
    "duration": 31,
    "start_time": "2022-01-22T20:12:22.051Z"
   },
   {
    "duration": 14,
    "start_time": "2022-01-22T20:12:22.083Z"
   },
   {
    "duration": 8,
    "start_time": "2022-01-22T20:12:22.098Z"
   },
   {
    "duration": 18,
    "start_time": "2022-01-22T20:12:22.108Z"
   },
   {
    "duration": 48,
    "start_time": "2022-01-22T20:12:22.128Z"
   },
   {
    "duration": 12,
    "start_time": "2022-01-22T20:12:22.178Z"
   },
   {
    "duration": 6,
    "start_time": "2022-01-22T20:12:22.192Z"
   },
   {
    "duration": 13,
    "start_time": "2022-01-22T20:12:22.200Z"
   },
   {
    "duration": 17,
    "start_time": "2022-01-22T20:12:22.215Z"
   },
   {
    "duration": 37,
    "start_time": "2022-01-22T20:12:22.234Z"
   },
   {
    "duration": 7,
    "start_time": "2022-01-22T20:12:22.273Z"
   },
   {
    "duration": 8,
    "start_time": "2022-01-22T20:12:22.282Z"
   },
   {
    "duration": 10,
    "start_time": "2022-01-22T20:12:22.291Z"
   },
   {
    "duration": 6,
    "start_time": "2022-01-22T20:12:22.303Z"
   },
   {
    "duration": 7,
    "start_time": "2022-01-22T20:12:22.310Z"
   },
   {
    "duration": 7,
    "start_time": "2022-01-22T20:12:22.319Z"
   },
   {
    "duration": 43,
    "start_time": "2022-01-22T20:12:22.328Z"
   },
   {
    "duration": 11,
    "start_time": "2022-01-22T20:12:22.373Z"
   },
   {
    "duration": 9,
    "start_time": "2022-01-22T20:12:22.388Z"
   },
   {
    "duration": 5,
    "start_time": "2022-01-22T20:12:22.399Z"
   },
   {
    "duration": 6,
    "start_time": "2022-01-22T20:12:22.406Z"
   },
   {
    "duration": 121,
    "start_time": "2022-01-22T20:12:22.414Z"
   },
   {
    "duration": 60,
    "start_time": "2022-01-22T20:12:22.537Z"
   },
   {
    "duration": 37,
    "start_time": "2022-01-22T20:12:22.599Z"
   },
   {
    "duration": 5,
    "start_time": "2022-01-22T20:12:22.638Z"
   },
   {
    "duration": 27,
    "start_time": "2022-01-22T20:12:22.645Z"
   },
   {
    "duration": 5,
    "start_time": "2022-01-22T20:12:22.674Z"
   },
   {
    "duration": 22,
    "start_time": "2022-01-22T20:12:22.681Z"
   },
   {
    "duration": 6,
    "start_time": "2022-01-22T20:12:22.705Z"
   },
   {
    "duration": 17,
    "start_time": "2022-01-22T20:12:22.713Z"
   },
   {
    "duration": 14,
    "start_time": "2022-01-22T20:12:22.732Z"
   },
   {
    "duration": 48,
    "start_time": "2022-01-22T20:12:22.748Z"
   },
   {
    "duration": 8,
    "start_time": "2022-01-22T20:12:22.798Z"
   },
   {
    "duration": 8,
    "start_time": "2022-01-22T20:12:22.808Z"
   },
   {
    "duration": 10,
    "start_time": "2022-01-22T20:12:22.818Z"
   },
   {
    "duration": 46,
    "start_time": "2022-01-22T20:12:22.830Z"
   },
   {
    "duration": 31,
    "start_time": "2022-01-22T20:12:22.878Z"
   },
   {
    "duration": 41,
    "start_time": "2022-01-22T20:12:22.910Z"
   },
   {
    "duration": 10,
    "start_time": "2022-01-22T20:12:22.972Z"
   },
   {
    "duration": 28,
    "start_time": "2022-01-22T20:12:22.983Z"
   },
   {
    "duration": 5,
    "start_time": "2022-01-22T20:12:23.013Z"
   },
   {
    "duration": 11,
    "start_time": "2022-01-22T20:12:23.019Z"
   },
   {
    "duration": 366,
    "start_time": "2022-01-22T20:12:23.032Z"
   },
   {
    "duration": 1764,
    "start_time": "2022-01-22T20:12:21.635Z"
   },
   {
    "duration": 1763,
    "start_time": "2022-01-22T20:12:21.638Z"
   },
   {
    "duration": 1759,
    "start_time": "2022-01-22T20:12:21.642Z"
   },
   {
    "duration": 1757,
    "start_time": "2022-01-22T20:12:21.645Z"
   },
   {
    "duration": 1739,
    "start_time": "2022-01-22T20:12:21.664Z"
   },
   {
    "duration": 1732,
    "start_time": "2022-01-22T20:12:21.672Z"
   },
   {
    "duration": 1730,
    "start_time": "2022-01-22T20:12:21.675Z"
   },
   {
    "duration": 1728,
    "start_time": "2022-01-22T20:12:21.678Z"
   },
   {
    "duration": 1720,
    "start_time": "2022-01-22T20:12:21.687Z"
   },
   {
    "duration": 1714,
    "start_time": "2022-01-22T20:12:21.694Z"
   },
   {
    "duration": 122,
    "start_time": "2022-01-22T20:13:01.789Z"
   },
   {
    "duration": 124,
    "start_time": "2022-01-22T20:13:26.157Z"
   },
   {
    "duration": 129,
    "start_time": "2022-01-22T20:13:39.867Z"
   },
   {
    "duration": 293,
    "start_time": "2022-01-22T20:14:18.580Z"
   },
   {
    "duration": 305,
    "start_time": "2022-01-22T20:19:56.968Z"
   },
   {
    "duration": 7,
    "start_time": "2022-01-22T20:20:05.358Z"
   },
   {
    "duration": 18,
    "start_time": "2022-01-22T20:20:05.624Z"
   },
   {
    "duration": 35,
    "start_time": "2022-01-22T20:20:06.453Z"
   },
   {
    "duration": 10,
    "start_time": "2022-01-22T20:20:07.133Z"
   },
   {
    "duration": 20,
    "start_time": "2022-01-22T20:20:07.884Z"
   },
   {
    "duration": 13,
    "start_time": "2022-01-22T20:20:12.770Z"
   },
   {
    "duration": 106,
    "start_time": "2022-01-22T20:22:04.759Z"
   },
   {
    "duration": 107,
    "start_time": "2022-01-22T20:23:06.625Z"
   },
   {
    "duration": 117,
    "start_time": "2022-01-22T20:23:26.725Z"
   },
   {
    "duration": 8,
    "start_time": "2022-01-22T20:23:58.023Z"
   },
   {
    "duration": 24,
    "start_time": "2022-01-22T20:24:00.241Z"
   },
   {
    "duration": 32,
    "start_time": "2022-01-22T20:24:48.317Z"
   },
   {
    "duration": 312,
    "start_time": "2022-01-22T20:27:05.039Z"
   },
   {
    "duration": 31,
    "start_time": "2022-01-22T20:27:26.823Z"
   },
   {
    "duration": 20,
    "start_time": "2022-01-22T20:29:10.939Z"
   },
   {
    "duration": 14,
    "start_time": "2022-01-22T20:31:14.216Z"
   },
   {
    "duration": 128,
    "start_time": "2022-01-22T20:38:58.730Z"
   },
   {
    "duration": 132,
    "start_time": "2022-01-22T20:41:58.020Z"
   },
   {
    "duration": 123,
    "start_time": "2022-01-22T20:47:29.675Z"
   },
   {
    "duration": 176,
    "start_time": "2022-01-22T20:48:00.637Z"
   },
   {
    "duration": 225,
    "start_time": "2022-01-22T20:49:40.315Z"
   },
   {
    "duration": 224,
    "start_time": "2022-01-22T20:50:45.330Z"
   },
   {
    "duration": 131,
    "start_time": "2022-01-22T20:51:23.506Z"
   },
   {
    "duration": 292,
    "start_time": "2022-01-22T20:59:54.686Z"
   },
   {
    "duration": 9,
    "start_time": "2022-01-22T21:00:14.154Z"
   },
   {
    "duration": 30,
    "start_time": "2022-01-22T21:00:14.609Z"
   },
   {
    "duration": 35,
    "start_time": "2022-01-22T21:00:15.103Z"
   },
   {
    "duration": 10,
    "start_time": "2022-01-22T21:00:15.657Z"
   },
   {
    "duration": 23,
    "start_time": "2022-01-22T21:00:16.262Z"
   },
   {
    "duration": 6,
    "start_time": "2022-01-22T21:00:18.158Z"
   },
   {
    "duration": 11,
    "start_time": "2022-01-22T21:00:19.198Z"
   },
   {
    "duration": 123,
    "start_time": "2022-01-22T21:00:21.951Z"
   },
   {
    "duration": 314,
    "start_time": "2022-01-22T21:00:26.536Z"
   },
   {
    "duration": 7678,
    "start_time": "2022-01-22T21:00:37.213Z"
   },
   {
    "duration": 7392,
    "start_time": "2022-01-22T21:02:42.463Z"
   },
   {
    "duration": 124,
    "start_time": "2022-01-22T21:03:08.913Z"
   },
   {
    "duration": 125,
    "start_time": "2022-01-22T21:03:34.913Z"
   },
   {
    "duration": 120,
    "start_time": "2022-01-22T21:03:37.258Z"
   },
   {
    "duration": 202,
    "start_time": "2022-01-22T21:04:08.475Z"
   },
   {
    "duration": 104,
    "start_time": "2022-01-22T21:04:53.975Z"
   },
   {
    "duration": 126,
    "start_time": "2022-01-22T21:05:44.115Z"
   },
   {
    "duration": 2527,
    "start_time": "2022-01-22T21:10:27.015Z"
   },
   {
    "duration": 14,
    "start_time": "2022-01-22T21:11:33.044Z"
   },
   {
    "duration": 10,
    "start_time": "2022-01-22T21:12:02.851Z"
   },
   {
    "duration": 12,
    "start_time": "2022-01-22T21:13:27.765Z"
   },
   {
    "duration": 107,
    "start_time": "2022-01-22T21:14:58.872Z"
   },
   {
    "duration": 297,
    "start_time": "2022-01-22T21:16:36.479Z"
   },
   {
    "duration": 13,
    "start_time": "2022-01-22T21:16:51.817Z"
   },
   {
    "duration": 10,
    "start_time": "2022-01-22T21:17:21.878Z"
   },
   {
    "duration": 11,
    "start_time": "2022-01-22T21:19:15.510Z"
   },
   {
    "duration": 10,
    "start_time": "2022-01-22T21:19:50.231Z"
   },
   {
    "duration": 9,
    "start_time": "2022-01-22T21:20:37.717Z"
   },
   {
    "duration": 10,
    "start_time": "2022-01-22T21:21:53.968Z"
   },
   {
    "duration": 8,
    "start_time": "2022-01-22T21:22:34.701Z"
   },
   {
    "duration": 9,
    "start_time": "2022-01-22T21:22:45.664Z"
   },
   {
    "duration": 17,
    "start_time": "2022-01-22T21:25:06.502Z"
   },
   {
    "duration": 298,
    "start_time": "2022-01-22T21:30:49.402Z"
   },
   {
    "duration": 15,
    "start_time": "2022-01-22T21:31:17.447Z"
   },
   {
    "duration": 318,
    "start_time": "2022-01-22T21:32:07.005Z"
   },
   {
    "duration": 15,
    "start_time": "2022-01-22T21:32:23.058Z"
   },
   {
    "duration": 39,
    "start_time": "2022-01-22T21:33:27.468Z"
   },
   {
    "duration": 769,
    "start_time": "2022-01-22T21:35:38.154Z"
   },
   {
    "duration": 12,
    "start_time": "2022-01-22T21:36:01.240Z"
   },
   {
    "duration": 1212,
    "start_time": "2022-01-22T21:37:53.654Z"
   },
   {
    "duration": 113,
    "start_time": "2022-01-22T21:38:03.459Z"
   },
   {
    "duration": 10,
    "start_time": "2022-01-22T21:38:04.196Z"
   },
   {
    "duration": 327,
    "start_time": "2022-01-22T21:38:16.421Z"
   },
   {
    "duration": 10,
    "start_time": "2022-01-22T21:38:34.182Z"
   },
   {
    "duration": 9,
    "start_time": "2022-01-22T21:38:35.207Z"
   },
   {
    "duration": 19,
    "start_time": "2022-01-22T21:38:35.265Z"
   },
   {
    "duration": 33,
    "start_time": "2022-01-22T21:38:35.599Z"
   },
   {
    "duration": 9,
    "start_time": "2022-01-22T21:38:37.318Z"
   },
   {
    "duration": 21,
    "start_time": "2022-01-22T21:38:38.356Z"
   },
   {
    "duration": 13,
    "start_time": "2022-01-22T21:38:39.401Z"
   },
   {
    "duration": 112,
    "start_time": "2022-01-22T21:38:41.507Z"
   },
   {
    "duration": 9,
    "start_time": "2022-01-22T21:38:42.666Z"
   },
   {
    "duration": 365,
    "start_time": "2022-01-22T21:38:45.037Z"
   },
   {
    "duration": 304,
    "start_time": "2022-01-22T21:39:36.061Z"
   },
   {
    "duration": 107,
    "start_time": "2022-01-22T21:39:56.996Z"
   },
   {
    "duration": 8,
    "start_time": "2022-01-22T21:39:59.485Z"
   },
   {
    "duration": 313,
    "start_time": "2022-01-22T21:40:01.356Z"
   },
   {
    "duration": 307,
    "start_time": "2022-01-22T21:41:05.154Z"
   },
   {
    "duration": 170,
    "start_time": "2022-01-22T21:41:16.474Z"
   },
   {
    "duration": 12,
    "start_time": "2022-01-22T21:41:21.946Z"
   },
   {
    "duration": 314,
    "start_time": "2022-01-22T21:42:00.729Z"
   },
   {
    "duration": 1450,
    "start_time": "2022-01-22T21:42:09.520Z"
   },
   {
    "duration": 406,
    "start_time": "2022-01-22T21:42:10.972Z"
   },
   {
    "duration": 11,
    "start_time": "2022-01-22T21:42:11.380Z"
   },
   {
    "duration": 21,
    "start_time": "2022-01-22T21:42:11.393Z"
   },
   {
    "duration": 30,
    "start_time": "2022-01-22T21:42:11.416Z"
   },
   {
    "duration": 29,
    "start_time": "2022-01-22T21:42:11.448Z"
   },
   {
    "duration": 7,
    "start_time": "2022-01-22T21:42:11.479Z"
   },
   {
    "duration": 15,
    "start_time": "2022-01-22T21:42:11.488Z"
   },
   {
    "duration": 20,
    "start_time": "2022-01-22T21:42:11.504Z"
   },
   {
    "duration": 11,
    "start_time": "2022-01-22T21:42:11.525Z"
   },
   {
    "duration": 34,
    "start_time": "2022-01-22T21:42:11.538Z"
   },
   {
    "duration": 13,
    "start_time": "2022-01-22T21:42:11.574Z"
   },
   {
    "duration": 17,
    "start_time": "2022-01-22T21:42:11.589Z"
   },
   {
    "duration": 10,
    "start_time": "2022-01-22T21:42:11.608Z"
   },
   {
    "duration": 7,
    "start_time": "2022-01-22T21:42:11.620Z"
   },
   {
    "duration": 44,
    "start_time": "2022-01-22T21:42:11.629Z"
   },
   {
    "duration": 9,
    "start_time": "2022-01-22T21:42:11.674Z"
   },
   {
    "duration": 7,
    "start_time": "2022-01-22T21:42:11.685Z"
   },
   {
    "duration": 5,
    "start_time": "2022-01-22T21:42:11.694Z"
   },
   {
    "duration": 11,
    "start_time": "2022-01-22T21:42:11.701Z"
   },
   {
    "duration": 17,
    "start_time": "2022-01-22T21:42:11.714Z"
   },
   {
    "duration": 10,
    "start_time": "2022-01-22T21:42:11.732Z"
   },
   {
    "duration": 10,
    "start_time": "2022-01-22T21:42:11.774Z"
   },
   {
    "duration": 5,
    "start_time": "2022-01-22T21:42:11.786Z"
   },
   {
    "duration": 6,
    "start_time": "2022-01-22T21:42:11.793Z"
   },
   {
    "duration": 143,
    "start_time": "2022-01-22T21:42:11.800Z"
   },
   {
    "duration": 80,
    "start_time": "2022-01-22T21:42:11.945Z"
   },
   {
    "duration": 56,
    "start_time": "2022-01-22T21:42:12.027Z"
   },
   {
    "duration": 7,
    "start_time": "2022-01-22T21:42:12.085Z"
   },
   {
    "duration": 7,
    "start_time": "2022-01-22T21:42:12.094Z"
   },
   {
    "duration": 6,
    "start_time": "2022-01-22T21:42:12.103Z"
   },
   {
    "duration": 11,
    "start_time": "2022-01-22T21:42:12.111Z"
   },
   {
    "duration": 5,
    "start_time": "2022-01-22T21:42:12.124Z"
   },
   {
    "duration": 53,
    "start_time": "2022-01-22T21:42:12.131Z"
   },
   {
    "duration": 13,
    "start_time": "2022-01-22T21:42:12.185Z"
   },
   {
    "duration": 26,
    "start_time": "2022-01-22T21:42:12.200Z"
   },
   {
    "duration": 7,
    "start_time": "2022-01-22T21:42:12.227Z"
   },
   {
    "duration": 36,
    "start_time": "2022-01-22T21:42:12.236Z"
   },
   {
    "duration": 10,
    "start_time": "2022-01-22T21:42:12.273Z"
   },
   {
    "duration": 8,
    "start_time": "2022-01-22T21:42:12.284Z"
   },
   {
    "duration": 29,
    "start_time": "2022-01-22T21:42:12.294Z"
   },
   {
    "duration": 61,
    "start_time": "2022-01-22T21:42:12.325Z"
   },
   {
    "duration": 9,
    "start_time": "2022-01-22T21:42:12.388Z"
   },
   {
    "duration": 20,
    "start_time": "2022-01-22T21:42:12.399Z"
   },
   {
    "duration": 5,
    "start_time": "2022-01-22T21:42:12.421Z"
   },
   {
    "duration": 11,
    "start_time": "2022-01-22T21:42:12.428Z"
   },
   {
    "duration": 162,
    "start_time": "2022-01-22T21:42:12.440Z"
   },
   {
    "duration": 10,
    "start_time": "2022-01-22T21:42:12.604Z"
   },
   {
    "duration": 8,
    "start_time": "2022-01-22T21:42:12.617Z"
   },
   {
    "duration": 46,
    "start_time": "2022-01-22T21:42:12.627Z"
   },
   {
    "duration": 35,
    "start_time": "2022-01-22T21:42:12.674Z"
   },
   {
    "duration": 8,
    "start_time": "2022-01-22T21:42:12.711Z"
   },
   {
    "duration": 19,
    "start_time": "2022-01-22T21:42:12.721Z"
   },
   {
    "duration": 38,
    "start_time": "2022-01-22T21:42:12.741Z"
   },
   {
    "duration": 126,
    "start_time": "2022-01-22T21:42:12.781Z"
   },
   {
    "duration": 7,
    "start_time": "2022-01-22T21:42:12.909Z"
   },
   {
    "duration": 372,
    "start_time": "2022-01-22T21:42:12.918Z"
   },
   {
    "duration": 1775,
    "start_time": "2022-01-22T21:42:11.516Z"
   },
   {
    "duration": 1773,
    "start_time": "2022-01-22T21:42:11.519Z"
   },
   {
    "duration": 1770,
    "start_time": "2022-01-22T21:42:11.523Z"
   },
   {
    "duration": 1768,
    "start_time": "2022-01-22T21:42:11.526Z"
   },
   {
    "duration": 1766,
    "start_time": "2022-01-22T21:42:11.529Z"
   },
   {
    "duration": 1763,
    "start_time": "2022-01-22T21:42:11.533Z"
   },
   {
    "duration": 1761,
    "start_time": "2022-01-22T21:42:11.536Z"
   },
   {
    "duration": 1759,
    "start_time": "2022-01-22T21:42:11.539Z"
   },
   {
    "duration": 1739,
    "start_time": "2022-01-22T21:42:11.560Z"
   },
   {
    "duration": 1733,
    "start_time": "2022-01-22T21:42:11.566Z"
   },
   {
    "duration": 318,
    "start_time": "2022-01-22T21:42:25.479Z"
   },
   {
    "duration": 8,
    "start_time": "2022-01-22T21:42:53.918Z"
   },
   {
    "duration": 290,
    "start_time": "2022-01-22T21:43:51.304Z"
   },
   {
    "duration": 304,
    "start_time": "2022-01-22T21:43:59.920Z"
   },
   {
    "duration": 9,
    "start_time": "2022-01-22T21:44:11.339Z"
   },
   {
    "duration": 22,
    "start_time": "2022-01-22T21:44:12.317Z"
   },
   {
    "duration": 34,
    "start_time": "2022-01-22T21:44:13.943Z"
   },
   {
    "duration": 22,
    "start_time": "2022-01-22T21:44:17.436Z"
   },
   {
    "duration": 15,
    "start_time": "2022-01-22T21:44:20.331Z"
   },
   {
    "duration": 102,
    "start_time": "2022-01-22T21:44:23.335Z"
   },
   {
    "duration": 126,
    "start_time": "2022-01-22T21:44:24.381Z"
   },
   {
    "duration": 9,
    "start_time": "2022-01-22T21:44:29.395Z"
   },
   {
    "duration": 8,
    "start_time": "2022-01-22T21:44:34.384Z"
   },
   {
    "duration": 14,
    "start_time": "2022-01-22T21:46:32.449Z"
   },
   {
    "duration": 14,
    "start_time": "2022-01-22T21:47:56.405Z"
   },
   {
    "duration": 14,
    "start_time": "2022-01-22T21:48:03.534Z"
   },
   {
    "duration": 17,
    "start_time": "2022-01-22T21:48:30.511Z"
   },
   {
    "duration": 16,
    "start_time": "2022-01-22T21:48:53.887Z"
   },
   {
    "duration": 18,
    "start_time": "2022-01-22T21:50:43.966Z"
   },
   {
    "duration": 104,
    "start_time": "2022-01-22T21:57:35.785Z"
   },
   {
    "duration": 141,
    "start_time": "2022-01-22T21:57:58.574Z"
   },
   {
    "duration": 115,
    "start_time": "2022-01-22T21:58:08.064Z"
   },
   {
    "duration": 98,
    "start_time": "2022-01-22T21:58:14.319Z"
   },
   {
    "duration": 172,
    "start_time": "2022-01-22T21:58:16.974Z"
   },
   {
    "duration": 182,
    "start_time": "2022-01-22T21:58:27.851Z"
   },
   {
    "duration": 199,
    "start_time": "2022-01-22T21:58:38.338Z"
   },
   {
    "duration": 109,
    "start_time": "2022-01-22T22:06:32.401Z"
   },
   {
    "duration": 111,
    "start_time": "2022-01-22T22:06:49.900Z"
   },
   {
    "duration": 38,
    "start_time": "2022-01-22T22:10:13.138Z"
   },
   {
    "duration": 121,
    "start_time": "2022-01-22T22:10:24.186Z"
   },
   {
    "duration": 9180,
    "start_time": "2022-01-22T22:10:46.348Z"
   },
   {
    "duration": 16,
    "start_time": "2022-01-22T22:11:54.853Z"
   },
   {
    "duration": 18,
    "start_time": "2022-01-22T22:12:01.446Z"
   },
   {
    "duration": 117,
    "start_time": "2022-01-22T22:12:06.089Z"
   },
   {
    "duration": 1264,
    "start_time": "2022-01-22T22:13:26.654Z"
   },
   {
    "duration": 413,
    "start_time": "2022-01-22T22:13:27.920Z"
   },
   {
    "duration": 10,
    "start_time": "2022-01-22T22:13:28.335Z"
   },
   {
    "duration": 20,
    "start_time": "2022-01-22T22:13:28.347Z"
   },
   {
    "duration": 29,
    "start_time": "2022-01-22T22:13:28.369Z"
   },
   {
    "duration": 14,
    "start_time": "2022-01-22T22:13:28.400Z"
   },
   {
    "duration": 8,
    "start_time": "2022-01-22T22:13:28.416Z"
   },
   {
    "duration": 16,
    "start_time": "2022-01-22T22:13:28.427Z"
   },
   {
    "duration": 45,
    "start_time": "2022-01-22T22:13:28.446Z"
   },
   {
    "duration": 12,
    "start_time": "2022-01-22T22:13:28.493Z"
   },
   {
    "duration": 7,
    "start_time": "2022-01-22T22:13:28.506Z"
   },
   {
    "duration": 15,
    "start_time": "2022-01-22T22:13:28.515Z"
   },
   {
    "duration": 48,
    "start_time": "2022-01-22T22:13:28.531Z"
   },
   {
    "duration": 9,
    "start_time": "2022-01-22T22:13:28.581Z"
   },
   {
    "duration": 7,
    "start_time": "2022-01-22T22:13:28.592Z"
   },
   {
    "duration": 8,
    "start_time": "2022-01-22T22:13:28.600Z"
   },
   {
    "duration": 10,
    "start_time": "2022-01-22T22:13:28.609Z"
   },
   {
    "duration": 6,
    "start_time": "2022-01-22T22:13:28.621Z"
   },
   {
    "duration": 8,
    "start_time": "2022-01-22T22:13:28.628Z"
   },
   {
    "duration": 37,
    "start_time": "2022-01-22T22:13:28.638Z"
   },
   {
    "duration": 12,
    "start_time": "2022-01-22T22:13:28.677Z"
   },
   {
    "duration": 10,
    "start_time": "2022-01-22T22:13:28.691Z"
   },
   {
    "duration": 10,
    "start_time": "2022-01-22T22:13:28.705Z"
   },
   {
    "duration": 5,
    "start_time": "2022-01-22T22:13:28.718Z"
   },
   {
    "duration": 10,
    "start_time": "2022-01-22T22:13:28.724Z"
   },
   {
    "duration": 118,
    "start_time": "2022-01-22T22:13:28.736Z"
   },
   {
    "duration": 64,
    "start_time": "2022-01-22T22:13:28.857Z"
   },
   {
    "duration": 37,
    "start_time": "2022-01-22T22:13:28.923Z"
   },
   {
    "duration": 6,
    "start_time": "2022-01-22T22:13:28.972Z"
   },
   {
    "duration": 7,
    "start_time": "2022-01-22T22:13:28.980Z"
   },
   {
    "duration": 5,
    "start_time": "2022-01-22T22:13:28.989Z"
   },
   {
    "duration": 9,
    "start_time": "2022-01-22T22:13:28.995Z"
   },
   {
    "duration": 6,
    "start_time": "2022-01-22T22:13:29.006Z"
   },
   {
    "duration": 16,
    "start_time": "2022-01-22T22:13:29.014Z"
   },
   {
    "duration": 48,
    "start_time": "2022-01-22T22:13:29.032Z"
   },
   {
    "duration": 24,
    "start_time": "2022-01-22T22:13:29.082Z"
   },
   {
    "duration": 7,
    "start_time": "2022-01-22T22:13:29.107Z"
   },
   {
    "duration": 7,
    "start_time": "2022-01-22T22:13:29.115Z"
   },
   {
    "duration": 8,
    "start_time": "2022-01-22T22:13:29.123Z"
   },
   {
    "duration": 40,
    "start_time": "2022-01-22T22:13:29.133Z"
   },
   {
    "duration": 30,
    "start_time": "2022-01-22T22:13:29.175Z"
   },
   {
    "duration": 40,
    "start_time": "2022-01-22T22:13:29.206Z"
   },
   {
    "duration": 27,
    "start_time": "2022-01-22T22:13:29.248Z"
   },
   {
    "duration": 22,
    "start_time": "2022-01-22T22:13:29.276Z"
   },
   {
    "duration": 6,
    "start_time": "2022-01-22T22:13:29.300Z"
   },
   {
    "duration": 11,
    "start_time": "2022-01-22T22:13:29.308Z"
   },
   {
    "duration": 163,
    "start_time": "2022-01-22T22:13:29.321Z"
   },
   {
    "duration": 11,
    "start_time": "2022-01-22T22:13:29.486Z"
   },
   {
    "duration": 9,
    "start_time": "2022-01-22T22:13:29.499Z"
   },
   {
    "duration": 30,
    "start_time": "2022-01-22T22:13:29.510Z"
   },
   {
    "duration": 65,
    "start_time": "2022-01-22T22:13:29.542Z"
   },
   {
    "duration": 10,
    "start_time": "2022-01-22T22:13:29.608Z"
   },
   {
    "duration": 19,
    "start_time": "2022-01-22T22:13:29.620Z"
   },
   {
    "duration": 33,
    "start_time": "2022-01-22T22:13:29.641Z"
   },
   {
    "duration": 124,
    "start_time": "2022-01-22T22:13:29.676Z"
   },
   {
    "duration": 8,
    "start_time": "2022-01-22T22:13:29.802Z"
   },
   {
    "duration": 8,
    "start_time": "2022-01-22T22:13:29.812Z"
   },
   {
    "duration": 9,
    "start_time": "2022-01-22T22:13:29.822Z"
   },
   {
    "duration": 44,
    "start_time": "2022-01-22T22:13:29.832Z"
   },
   {
    "duration": 33,
    "start_time": "2022-01-22T22:13:29.878Z"
   },
   {
    "duration": 20,
    "start_time": "2022-01-22T22:13:29.912Z"
   },
   {
    "duration": 38,
    "start_time": "2022-01-22T22:13:29.934Z"
   },
   {
    "duration": 143,
    "start_time": "2022-01-22T22:13:29.974Z"
   },
   {
    "duration": 8,
    "start_time": "2022-01-22T22:13:30.119Z"
   },
   {
    "duration": 13,
    "start_time": "2022-01-22T22:13:30.129Z"
   },
   {
    "duration": 61,
    "start_time": "2022-01-22T22:13:30.144Z"
   },
   {
    "duration": 136,
    "start_time": "2022-01-22T22:13:30.207Z"
   },
   {
    "duration": 9460,
    "start_time": "2022-01-22T22:13:30.348Z"
   },
   {
    "duration": 8,
    "start_time": "2022-01-22T22:18:39.854Z"
   },
   {
    "duration": 2023,
    "start_time": "2022-01-22T22:18:53.433Z"
   },
   {
    "duration": 9,
    "start_time": "2022-01-22T22:19:15.957Z"
   },
   {
    "duration": 135,
    "start_time": "2022-01-22T22:19:44.641Z"
   },
   {
    "duration": 9,
    "start_time": "2022-01-22T22:20:27.887Z"
   },
   {
    "duration": 10,
    "start_time": "2022-01-22T22:20:29.070Z"
   },
   {
    "duration": 8,
    "start_time": "2022-01-22T22:20:37.311Z"
   },
   {
    "duration": 29,
    "start_time": "2022-01-22T22:20:46.750Z"
   },
   {
    "duration": 33,
    "start_time": "2022-01-22T22:20:55.447Z"
   },
   {
    "duration": 17,
    "start_time": "2022-01-22T22:22:27.718Z"
   },
   {
    "duration": 21,
    "start_time": "2022-01-22T22:22:29.534Z"
   },
   {
    "duration": 124,
    "start_time": "2022-01-22T22:22:32.791Z"
   },
   {
    "duration": 127,
    "start_time": "2022-01-22T22:26:10.581Z"
   },
   {
    "duration": 2043,
    "start_time": "2022-01-22T22:26:13.946Z"
   },
   {
    "duration": 126,
    "start_time": "2022-01-22T22:26:18.246Z"
   },
   {
    "duration": 16,
    "start_time": "2022-01-22T22:27:15.534Z"
   },
   {
    "duration": 8,
    "start_time": "2022-01-22T22:27:22.554Z"
   },
   {
    "duration": 19,
    "start_time": "2022-01-22T22:27:23.385Z"
   },
   {
    "duration": 30,
    "start_time": "2022-01-22T22:27:24.187Z"
   },
   {
    "duration": 10,
    "start_time": "2022-01-22T22:27:26.447Z"
   },
   {
    "duration": 23,
    "start_time": "2022-01-22T22:27:26.685Z"
   },
   {
    "duration": 14,
    "start_time": "2022-01-22T22:27:27.053Z"
   },
   {
    "duration": 115,
    "start_time": "2022-01-22T22:27:27.443Z"
   },
   {
    "duration": 9,
    "start_time": "2022-01-22T22:27:28.130Z"
   },
   {
    "duration": 9,
    "start_time": "2022-01-22T22:27:28.205Z"
   },
   {
    "duration": 9,
    "start_time": "2022-01-22T22:27:28.597Z"
   },
   {
    "duration": 21,
    "start_time": "2022-01-22T22:27:28.810Z"
   },
   {
    "duration": 25,
    "start_time": "2022-01-22T22:27:29.577Z"
   },
   {
    "duration": 22,
    "start_time": "2022-01-22T22:27:29.798Z"
   },
   {
    "duration": 15,
    "start_time": "2022-01-22T22:27:30.666Z"
   },
   {
    "duration": 150,
    "start_time": "2022-01-22T22:27:32.575Z"
   },
   {
    "duration": 10,
    "start_time": "2022-01-22T22:27:32.839Z"
   },
   {
    "duration": 9,
    "start_time": "2022-01-22T22:27:33.783Z"
   },
   {
    "duration": 27,
    "start_time": "2022-01-22T22:27:42.129Z"
   },
   {
    "duration": 27,
    "start_time": "2022-01-22T22:27:46.350Z"
   },
   {
    "duration": 29,
    "start_time": "2022-01-22T22:28:24.215Z"
   },
   {
    "duration": 142,
    "start_time": "2022-01-22T22:28:26.826Z"
   },
   {
    "duration": 1553,
    "start_time": "2022-01-23T19:10:21.971Z"
   },
   {
    "duration": 456,
    "start_time": "2022-01-23T19:10:23.527Z"
   },
   {
    "duration": 11,
    "start_time": "2022-01-23T19:10:23.986Z"
   },
   {
    "duration": 31,
    "start_time": "2022-01-23T19:10:23.999Z"
   },
   {
    "duration": 37,
    "start_time": "2022-01-23T19:10:24.032Z"
   },
   {
    "duration": 16,
    "start_time": "2022-01-23T19:10:24.071Z"
   },
   {
    "duration": 22,
    "start_time": "2022-01-23T19:10:24.089Z"
   },
   {
    "duration": 23,
    "start_time": "2022-01-23T19:10:24.114Z"
   },
   {
    "duration": 24,
    "start_time": "2022-01-23T19:10:24.139Z"
   },
   {
    "duration": 14,
    "start_time": "2022-01-23T19:10:24.165Z"
   },
   {
    "duration": 33,
    "start_time": "2022-01-23T19:10:24.181Z"
   },
   {
    "duration": 44,
    "start_time": "2022-01-23T19:10:24.216Z"
   },
   {
    "duration": 24,
    "start_time": "2022-01-23T19:10:24.262Z"
   },
   {
    "duration": 13,
    "start_time": "2022-01-23T19:10:24.289Z"
   },
   {
    "duration": 11,
    "start_time": "2022-01-23T19:10:24.304Z"
   },
   {
    "duration": 21,
    "start_time": "2022-01-23T19:10:24.317Z"
   },
   {
    "duration": 23,
    "start_time": "2022-01-23T19:10:24.341Z"
   },
   {
    "duration": 16,
    "start_time": "2022-01-23T19:10:24.366Z"
   },
   {
    "duration": 25,
    "start_time": "2022-01-23T19:10:24.385Z"
   },
   {
    "duration": 12,
    "start_time": "2022-01-23T19:10:24.412Z"
   },
   {
    "duration": 23,
    "start_time": "2022-01-23T19:10:24.426Z"
   },
   {
    "duration": 19,
    "start_time": "2022-01-23T19:10:24.452Z"
   },
   {
    "duration": 37,
    "start_time": "2022-01-23T19:10:24.477Z"
   },
   {
    "duration": 10,
    "start_time": "2022-01-23T19:10:24.518Z"
   },
   {
    "duration": 13,
    "start_time": "2022-01-23T19:10:24.530Z"
   },
   {
    "duration": 122,
    "start_time": "2022-01-23T19:10:24.545Z"
   },
   {
    "duration": 66,
    "start_time": "2022-01-23T19:10:24.669Z"
   },
   {
    "duration": 45,
    "start_time": "2022-01-23T19:10:24.738Z"
   },
   {
    "duration": 25,
    "start_time": "2022-01-23T19:10:24.785Z"
   },
   {
    "duration": 16,
    "start_time": "2022-01-23T19:10:24.812Z"
   },
   {
    "duration": 15,
    "start_time": "2022-01-23T19:10:24.830Z"
   },
   {
    "duration": 15,
    "start_time": "2022-01-23T19:10:24.847Z"
   },
   {
    "duration": 13,
    "start_time": "2022-01-23T19:10:24.864Z"
   },
   {
    "duration": 29,
    "start_time": "2022-01-23T19:10:24.880Z"
   },
   {
    "duration": 16,
    "start_time": "2022-01-23T19:10:24.911Z"
   },
   {
    "duration": 38,
    "start_time": "2022-01-23T19:10:24.929Z"
   },
   {
    "duration": 12,
    "start_time": "2022-01-23T19:10:24.969Z"
   },
   {
    "duration": 12,
    "start_time": "2022-01-23T19:10:25.008Z"
   },
   {
    "duration": 18,
    "start_time": "2022-01-23T19:10:25.023Z"
   },
   {
    "duration": 13,
    "start_time": "2022-01-23T19:10:25.043Z"
   },
   {
    "duration": 56,
    "start_time": "2022-01-23T19:10:25.058Z"
   },
   {
    "duration": 45,
    "start_time": "2022-01-23T19:10:25.116Z"
   },
   {
    "duration": 11,
    "start_time": "2022-01-23T19:10:25.163Z"
   },
   {
    "duration": 51,
    "start_time": "2022-01-23T19:10:25.175Z"
   },
   {
    "duration": 7,
    "start_time": "2022-01-23T19:10:25.228Z"
   },
   {
    "duration": 21,
    "start_time": "2022-01-23T19:10:25.238Z"
   },
   {
    "duration": 188,
    "start_time": "2022-01-23T19:10:25.261Z"
   },
   {
    "duration": 15,
    "start_time": "2022-01-23T19:10:25.451Z"
   },
   {
    "duration": 54,
    "start_time": "2022-01-23T19:10:25.468Z"
   },
   {
    "duration": 66,
    "start_time": "2022-01-23T19:10:25.524Z"
   },
   {
    "duration": 39,
    "start_time": "2022-01-23T19:10:25.591Z"
   },
   {
    "duration": 11,
    "start_time": "2022-01-23T19:10:25.633Z"
   },
   {
    "duration": 39,
    "start_time": "2022-01-23T19:10:25.647Z"
   },
   {
    "duration": 20,
    "start_time": "2022-01-23T19:10:25.688Z"
   },
   {
    "duration": 137,
    "start_time": "2022-01-23T19:10:25.711Z"
   },
   {
    "duration": 9,
    "start_time": "2022-01-23T19:10:25.851Z"
   },
   {
    "duration": 18,
    "start_time": "2022-01-23T19:10:25.862Z"
   },
   {
    "duration": 18,
    "start_time": "2022-01-23T19:10:25.881Z"
   },
   {
    "duration": 37,
    "start_time": "2022-01-23T19:10:25.908Z"
   },
   {
    "duration": 65,
    "start_time": "2022-01-23T19:10:25.947Z"
   },
   {
    "duration": 34,
    "start_time": "2022-01-23T19:10:26.015Z"
   },
   {
    "duration": 21,
    "start_time": "2022-01-23T19:10:26.051Z"
   },
   {
    "duration": 167,
    "start_time": "2022-01-23T19:10:26.074Z"
   },
   {
    "duration": 10,
    "start_time": "2022-01-23T19:10:26.243Z"
   },
   {
    "duration": 16,
    "start_time": "2022-01-23T19:10:26.254Z"
   },
   {
    "duration": 45,
    "start_time": "2022-01-23T19:10:26.271Z"
   },
   {
    "duration": 32,
    "start_time": "2022-01-23T19:10:26.318Z"
   },
   {
    "duration": 175,
    "start_time": "2022-01-23T19:10:26.355Z"
   },
   {
    "duration": 342,
    "start_time": "2022-01-23T19:12:51.406Z"
   },
   {
    "duration": 163,
    "start_time": "2022-01-23T19:13:54.816Z"
   },
   {
    "duration": 162,
    "start_time": "2022-01-23T19:18:48.958Z"
   },
   {
    "duration": 155,
    "start_time": "2022-01-23T19:20:35.593Z"
   },
   {
    "duration": 537,
    "start_time": "2022-01-24T13:40:58.940Z"
   },
   {
    "duration": 1088,
    "start_time": "2022-01-24T13:41:10.763Z"
   },
   {
    "duration": 362,
    "start_time": "2022-01-24T13:41:11.853Z"
   },
   {
    "duration": 11,
    "start_time": "2022-01-24T13:41:12.217Z"
   },
   {
    "duration": 33,
    "start_time": "2022-01-24T13:41:12.230Z"
   },
   {
    "duration": 28,
    "start_time": "2022-01-24T13:41:12.265Z"
   },
   {
    "duration": 13,
    "start_time": "2022-01-24T13:41:12.295Z"
   },
   {
    "duration": 14,
    "start_time": "2022-01-24T13:41:12.310Z"
   },
   {
    "duration": 26,
    "start_time": "2022-01-24T13:41:12.326Z"
   },
   {
    "duration": 20,
    "start_time": "2022-01-24T13:41:12.354Z"
   },
   {
    "duration": 23,
    "start_time": "2022-01-24T13:41:12.376Z"
   },
   {
    "duration": 8,
    "start_time": "2022-01-24T13:41:12.401Z"
   },
   {
    "duration": 44,
    "start_time": "2022-01-24T13:41:12.410Z"
   },
   {
    "duration": 39,
    "start_time": "2022-01-24T13:41:12.455Z"
   },
   {
    "duration": 20,
    "start_time": "2022-01-24T13:41:12.496Z"
   },
   {
    "duration": 29,
    "start_time": "2022-01-24T13:41:12.517Z"
   },
   {
    "duration": 25,
    "start_time": "2022-01-24T13:41:12.547Z"
   },
   {
    "duration": 33,
    "start_time": "2022-01-24T13:41:12.574Z"
   },
   {
    "duration": 24,
    "start_time": "2022-01-24T13:41:12.608Z"
   },
   {
    "duration": 32,
    "start_time": "2022-01-24T13:41:12.634Z"
   },
   {
    "duration": 21,
    "start_time": "2022-01-24T13:41:12.668Z"
   },
   {
    "duration": 39,
    "start_time": "2022-01-24T13:41:12.691Z"
   },
   {
    "duration": 25,
    "start_time": "2022-01-24T13:41:12.732Z"
   },
   {
    "duration": 15,
    "start_time": "2022-01-24T13:41:12.760Z"
   },
   {
    "duration": 28,
    "start_time": "2022-01-24T13:41:12.777Z"
   },
   {
    "duration": 22,
    "start_time": "2022-01-24T13:41:12.806Z"
   },
   {
    "duration": 95,
    "start_time": "2022-01-24T13:41:12.829Z"
   },
   {
    "duration": 45,
    "start_time": "2022-01-24T13:41:12.925Z"
   },
   {
    "duration": 32,
    "start_time": "2022-01-24T13:41:12.972Z"
   },
   {
    "duration": 4,
    "start_time": "2022-01-24T13:41:13.005Z"
   },
   {
    "duration": 7,
    "start_time": "2022-01-24T13:41:13.011Z"
   },
   {
    "duration": 4,
    "start_time": "2022-01-24T13:41:13.027Z"
   },
   {
    "duration": 8,
    "start_time": "2022-01-24T13:41:13.033Z"
   },
   {
    "duration": 6,
    "start_time": "2022-01-24T13:41:13.042Z"
   },
   {
    "duration": 14,
    "start_time": "2022-01-24T13:41:13.049Z"
   },
   {
    "duration": 11,
    "start_time": "2022-01-24T13:41:13.064Z"
   },
   {
    "duration": 52,
    "start_time": "2022-01-24T13:41:13.076Z"
   },
   {
    "duration": 6,
    "start_time": "2022-01-24T13:41:13.129Z"
   },
   {
    "duration": 8,
    "start_time": "2022-01-24T13:41:13.136Z"
   },
   {
    "duration": 8,
    "start_time": "2022-01-24T13:41:13.145Z"
   },
   {
    "duration": 8,
    "start_time": "2022-01-24T13:41:13.155Z"
   },
   {
    "duration": 29,
    "start_time": "2022-01-24T13:41:13.165Z"
   },
   {
    "duration": 62,
    "start_time": "2022-01-24T13:41:13.196Z"
   },
   {
    "duration": 9,
    "start_time": "2022-01-24T13:41:13.260Z"
   },
   {
    "duration": 22,
    "start_time": "2022-01-24T13:41:13.271Z"
   },
   {
    "duration": 4,
    "start_time": "2022-01-24T13:41:13.294Z"
   },
   {
    "duration": 35,
    "start_time": "2022-01-24T13:41:13.300Z"
   },
   {
    "duration": 128,
    "start_time": "2022-01-24T13:41:13.337Z"
   },
   {
    "duration": 12,
    "start_time": "2022-01-24T13:41:13.467Z"
   },
   {
    "duration": 15,
    "start_time": "2022-01-24T13:41:13.481Z"
   },
   {
    "duration": 43,
    "start_time": "2022-01-24T13:41:13.497Z"
   },
   {
    "duration": 31,
    "start_time": "2022-01-24T13:41:13.541Z"
   },
   {
    "duration": 8,
    "start_time": "2022-01-24T13:41:13.574Z"
   },
   {
    "duration": 37,
    "start_time": "2022-01-24T13:41:13.584Z"
   },
   {
    "duration": 14,
    "start_time": "2022-01-24T13:41:13.622Z"
   },
   {
    "duration": 113,
    "start_time": "2022-01-24T13:41:13.637Z"
   },
   {
    "duration": 7,
    "start_time": "2022-01-24T13:41:13.752Z"
   },
   {
    "duration": 17,
    "start_time": "2022-01-24T13:41:13.760Z"
   },
   {
    "duration": 34,
    "start_time": "2022-01-24T13:41:13.778Z"
   },
   {
    "duration": 33,
    "start_time": "2022-01-24T13:41:13.813Z"
   },
   {
    "duration": 39,
    "start_time": "2022-01-24T13:41:13.847Z"
   },
   {
    "duration": 25,
    "start_time": "2022-01-24T13:41:13.888Z"
   },
   {
    "duration": 12,
    "start_time": "2022-01-24T13:41:13.915Z"
   },
   {
    "duration": 132,
    "start_time": "2022-01-24T13:41:13.928Z"
   },
   {
    "duration": 8,
    "start_time": "2022-01-24T13:41:14.062Z"
   },
   {
    "duration": 22,
    "start_time": "2022-01-24T13:41:14.071Z"
   },
   {
    "duration": 45,
    "start_time": "2022-01-24T13:41:14.095Z"
   },
   {
    "duration": 43,
    "start_time": "2022-01-24T13:41:14.141Z"
   },
   {
    "duration": 127,
    "start_time": "2022-01-24T13:41:14.188Z"
   },
   {
    "duration": 145,
    "start_time": "2022-01-24T13:41:14.316Z"
   },
   {
    "duration": 147,
    "start_time": "2022-01-24T13:41:14.462Z"
   },
   {
    "duration": 19,
    "start_time": "2022-01-24T13:41:14.610Z"
   },
   {
    "duration": 424,
    "start_time": "2022-01-24T13:41:14.630Z"
   },
   {
    "duration": 33,
    "start_time": "2022-01-24T13:47:22.969Z"
   },
   {
    "duration": 14,
    "start_time": "2022-01-24T13:48:35.077Z"
   },
   {
    "duration": 204,
    "start_time": "2022-01-24T13:51:10.701Z"
   },
   {
    "duration": 15,
    "start_time": "2022-01-24T13:51:38.931Z"
   },
   {
    "duration": 240,
    "start_time": "2022-01-24T13:51:41.373Z"
   },
   {
    "duration": 27,
    "start_time": "2022-01-24T13:53:06.909Z"
   },
   {
    "duration": 110,
    "start_time": "2022-01-24T13:53:49.307Z"
   },
   {
    "duration": 593,
    "start_time": "2022-01-24T13:53:55.178Z"
   },
   {
    "duration": 396,
    "start_time": "2022-01-24T14:00:37.901Z"
   },
   {
    "duration": 15,
    "start_time": "2022-01-24T14:03:46.799Z"
   },
   {
    "duration": 14,
    "start_time": "2022-01-24T14:04:10.671Z"
   },
   {
    "duration": 8955,
    "start_time": "2022-01-24T14:05:28.589Z"
   },
   {
    "duration": 407,
    "start_time": "2022-01-24T14:06:01.882Z"
   },
   {
    "duration": 16,
    "start_time": "2022-01-24T14:10:42.447Z"
   },
   {
    "duration": 14,
    "start_time": "2022-01-24T14:11:05.811Z"
   },
   {
    "duration": 17,
    "start_time": "2022-01-24T14:11:29.634Z"
   },
   {
    "duration": 404,
    "start_time": "2022-01-24T14:12:46.578Z"
   },
   {
    "duration": 3,
    "start_time": "2022-01-24T14:16:10.004Z"
   },
   {
    "duration": 1103,
    "start_time": "2022-01-24T14:16:18.063Z"
   },
   {
    "duration": 406,
    "start_time": "2022-01-24T14:16:19.168Z"
   },
   {
    "duration": 10,
    "start_time": "2022-01-24T14:16:19.578Z"
   },
   {
    "duration": 18,
    "start_time": "2022-01-24T14:16:19.590Z"
   },
   {
    "duration": 27,
    "start_time": "2022-01-24T14:16:19.610Z"
   },
   {
    "duration": 17,
    "start_time": "2022-01-24T14:16:19.639Z"
   },
   {
    "duration": 11,
    "start_time": "2022-01-24T14:16:19.660Z"
   },
   {
    "duration": 28,
    "start_time": "2022-01-24T14:16:19.673Z"
   },
   {
    "duration": 35,
    "start_time": "2022-01-24T14:16:19.703Z"
   },
   {
    "duration": 11,
    "start_time": "2022-01-24T14:16:19.740Z"
   },
   {
    "duration": 13,
    "start_time": "2022-01-24T14:16:19.753Z"
   },
   {
    "duration": 29,
    "start_time": "2022-01-24T14:16:19.768Z"
   },
   {
    "duration": 31,
    "start_time": "2022-01-24T14:16:19.799Z"
   },
   {
    "duration": 10,
    "start_time": "2022-01-24T14:16:19.832Z"
   },
   {
    "duration": 9,
    "start_time": "2022-01-24T14:16:19.844Z"
   },
   {
    "duration": 7,
    "start_time": "2022-01-24T14:16:19.855Z"
   },
   {
    "duration": 10,
    "start_time": "2022-01-24T14:16:19.864Z"
   },
   {
    "duration": 11,
    "start_time": "2022-01-24T14:16:19.875Z"
   },
   {
    "duration": 10,
    "start_time": "2022-01-24T14:16:19.888Z"
   },
   {
    "duration": 32,
    "start_time": "2022-01-24T14:16:19.900Z"
   },
   {
    "duration": 16,
    "start_time": "2022-01-24T14:16:19.933Z"
   },
   {
    "duration": 11,
    "start_time": "2022-01-24T14:16:19.953Z"
   },
   {
    "duration": 11,
    "start_time": "2022-01-24T14:16:19.966Z"
   },
   {
    "duration": 5,
    "start_time": "2022-01-24T14:16:19.979Z"
   },
   {
    "duration": 9,
    "start_time": "2022-01-24T14:16:19.985Z"
   },
   {
    "duration": 120,
    "start_time": "2022-01-24T14:16:19.995Z"
   },
   {
    "duration": 57,
    "start_time": "2022-01-24T14:16:20.116Z"
   },
   {
    "duration": 53,
    "start_time": "2022-01-24T14:16:20.175Z"
   },
   {
    "duration": 6,
    "start_time": "2022-01-24T14:16:20.230Z"
   },
   {
    "duration": 8,
    "start_time": "2022-01-24T14:16:20.238Z"
   },
   {
    "duration": 5,
    "start_time": "2022-01-24T14:16:20.248Z"
   },
   {
    "duration": 12,
    "start_time": "2022-01-24T14:16:20.254Z"
   },
   {
    "duration": 6,
    "start_time": "2022-01-24T14:16:20.267Z"
   },
   {
    "duration": 20,
    "start_time": "2022-01-24T14:16:20.274Z"
   },
   {
    "duration": 43,
    "start_time": "2022-01-24T14:16:20.295Z"
   },
   {
    "duration": 25,
    "start_time": "2022-01-24T14:16:20.339Z"
   },
   {
    "duration": 7,
    "start_time": "2022-01-24T14:16:20.365Z"
   },
   {
    "duration": 7,
    "start_time": "2022-01-24T14:16:20.374Z"
   },
   {
    "duration": 46,
    "start_time": "2022-01-24T14:16:20.382Z"
   },
   {
    "duration": 8,
    "start_time": "2022-01-24T14:16:20.430Z"
   },
   {
    "duration": 31,
    "start_time": "2022-01-24T14:16:20.439Z"
   },
   {
    "duration": 56,
    "start_time": "2022-01-24T14:16:20.472Z"
   },
   {
    "duration": 8,
    "start_time": "2022-01-24T14:16:20.530Z"
   },
   {
    "duration": 26,
    "start_time": "2022-01-24T14:16:20.540Z"
   },
   {
    "duration": 6,
    "start_time": "2022-01-24T14:16:20.568Z"
   },
   {
    "duration": 12,
    "start_time": "2022-01-24T14:16:20.575Z"
   },
   {
    "duration": 154,
    "start_time": "2022-01-24T14:16:20.589Z"
   },
   {
    "duration": 13,
    "start_time": "2022-01-24T14:16:20.745Z"
   },
   {
    "duration": 9,
    "start_time": "2022-01-24T14:16:20.760Z"
   },
   {
    "duration": 26,
    "start_time": "2022-01-24T14:16:20.771Z"
   },
   {
    "duration": 74,
    "start_time": "2022-01-24T14:16:20.799Z"
   },
   {
    "duration": 9,
    "start_time": "2022-01-24T14:16:20.875Z"
   },
   {
    "duration": 45,
    "start_time": "2022-01-24T14:16:20.886Z"
   },
   {
    "duration": 12,
    "start_time": "2022-01-24T14:16:20.933Z"
   },
   {
    "duration": 122,
    "start_time": "2022-01-24T14:16:20.947Z"
   },
   {
    "duration": 7,
    "start_time": "2022-01-24T14:16:21.071Z"
   },
   {
    "duration": 9,
    "start_time": "2022-01-24T14:16:21.080Z"
   },
   {
    "duration": 8,
    "start_time": "2022-01-24T14:16:21.091Z"
   },
   {
    "duration": 39,
    "start_time": "2022-01-24T14:16:21.100Z"
   },
   {
    "duration": 29,
    "start_time": "2022-01-24T14:16:21.140Z"
   },
   {
    "duration": 19,
    "start_time": "2022-01-24T14:16:21.170Z"
   },
   {
    "duration": 12,
    "start_time": "2022-01-24T14:16:21.190Z"
   },
   {
    "duration": 148,
    "start_time": "2022-01-24T14:16:21.203Z"
   },
   {
    "duration": 8,
    "start_time": "2022-01-24T14:16:21.353Z"
   },
   {
    "duration": 19,
    "start_time": "2022-01-24T14:16:21.363Z"
   },
   {
    "duration": 24,
    "start_time": "2022-01-24T14:16:21.383Z"
   },
   {
    "duration": 33,
    "start_time": "2022-01-24T14:16:21.411Z"
   },
   {
    "duration": 133,
    "start_time": "2022-01-24T14:16:21.446Z"
   },
   {
    "duration": 147,
    "start_time": "2022-01-24T14:16:21.580Z"
   },
   {
    "duration": 142,
    "start_time": "2022-01-24T14:16:21.728Z"
   },
   {
    "duration": 15,
    "start_time": "2022-01-24T14:16:21.872Z"
   },
   {
    "duration": 20,
    "start_time": "2022-01-24T14:16:21.888Z"
   },
   {
    "duration": 29,
    "start_time": "2022-01-24T14:16:21.909Z"
   },
   {
    "duration": 410,
    "start_time": "2022-01-24T14:16:21.940Z"
   },
   {
    "duration": 14,
    "start_time": "2022-01-24T14:16:22.352Z"
   },
   {
    "duration": 25,
    "start_time": "2022-01-24T14:16:22.367Z"
   },
   {
    "duration": 465,
    "start_time": "2022-01-24T14:16:22.393Z"
   },
   {
    "duration": 15,
    "start_time": "2022-01-24T14:16:22.859Z"
   },
   {
    "duration": 25,
    "start_time": "2022-01-24T14:16:22.875Z"
   },
   {
    "duration": 19,
    "start_time": "2022-01-24T14:16:22.901Z"
   },
   {
    "duration": 417,
    "start_time": "2022-01-24T14:16:22.922Z"
   },
   {
    "duration": 18,
    "start_time": "2022-01-24T14:20:28.606Z"
   },
   {
    "duration": 14,
    "start_time": "2022-01-24T14:21:24.413Z"
   },
   {
    "duration": 16,
    "start_time": "2022-01-24T14:22:01.522Z"
   },
   {
    "duration": 19,
    "start_time": "2022-01-24T14:35:34.699Z"
   },
   {
    "duration": 16,
    "start_time": "2022-01-24T14:35:58.279Z"
   },
   {
    "duration": 106,
    "start_time": "2022-01-24T14:36:53.440Z"
   },
   {
    "duration": 15,
    "start_time": "2022-01-24T14:38:43.012Z"
   },
   {
    "duration": 16,
    "start_time": "2022-01-24T14:39:07.556Z"
   },
   {
    "duration": 16,
    "start_time": "2022-01-24T14:40:41.525Z"
   },
   {
    "duration": 16,
    "start_time": "2022-01-24T14:40:59.325Z"
   },
   {
    "duration": 14,
    "start_time": "2022-01-24T14:44:40.695Z"
   },
   {
    "duration": 16,
    "start_time": "2022-01-24T14:45:24.208Z"
   },
   {
    "duration": 16,
    "start_time": "2022-01-24T14:45:50.750Z"
   },
   {
    "duration": 15,
    "start_time": "2022-01-24T14:45:52.860Z"
   },
   {
    "duration": 15,
    "start_time": "2022-01-24T14:47:15.870Z"
   },
   {
    "duration": 15,
    "start_time": "2022-01-24T14:47:41.002Z"
   },
   {
    "duration": 15,
    "start_time": "2022-01-24T14:49:29.745Z"
   },
   {
    "duration": 18,
    "start_time": "2022-01-24T14:50:23.283Z"
   },
   {
    "duration": 21,
    "start_time": "2022-01-24T14:50:36.464Z"
   },
   {
    "duration": 15,
    "start_time": "2022-01-24T14:52:12.516Z"
   },
   {
    "duration": 132,
    "start_time": "2022-01-24T14:53:26.332Z"
   },
   {
    "duration": 203,
    "start_time": "2022-01-24T14:53:33.107Z"
   },
   {
    "duration": 217,
    "start_time": "2022-01-24T15:07:31.045Z"
   },
   {
    "duration": 17,
    "start_time": "2022-01-24T15:10:11.449Z"
   },
   {
    "duration": 113,
    "start_time": "2022-01-24T15:11:03.879Z"
   },
   {
    "duration": 432,
    "start_time": "2022-01-24T15:11:23.802Z"
   },
   {
    "duration": 319,
    "start_time": "2022-01-25T08:55:01.197Z"
   },
   {
    "duration": 1143,
    "start_time": "2022-01-25T08:55:08.973Z"
   },
   {
    "duration": 383,
    "start_time": "2022-01-25T08:55:10.118Z"
   },
   {
    "duration": 11,
    "start_time": "2022-01-25T08:55:10.503Z"
   },
   {
    "duration": 21,
    "start_time": "2022-01-25T08:55:10.515Z"
   },
   {
    "duration": 29,
    "start_time": "2022-01-25T08:55:10.538Z"
   },
   {
    "duration": 14,
    "start_time": "2022-01-25T08:55:10.568Z"
   },
   {
    "duration": 8,
    "start_time": "2022-01-25T08:55:10.584Z"
   },
   {
    "duration": 17,
    "start_time": "2022-01-25T08:55:10.594Z"
   },
   {
    "duration": 22,
    "start_time": "2022-01-25T08:55:10.613Z"
   },
   {
    "duration": 13,
    "start_time": "2022-01-25T08:55:10.636Z"
   },
   {
    "duration": 27,
    "start_time": "2022-01-25T08:55:10.650Z"
   },
   {
    "duration": 13,
    "start_time": "2022-01-25T08:55:10.679Z"
   },
   {
    "duration": 17,
    "start_time": "2022-01-25T08:55:10.694Z"
   },
   {
    "duration": 10,
    "start_time": "2022-01-25T08:55:10.712Z"
   },
   {
    "duration": 8,
    "start_time": "2022-01-25T08:55:10.723Z"
   },
   {
    "duration": 8,
    "start_time": "2022-01-25T08:55:10.732Z"
   },
   {
    "duration": 34,
    "start_time": "2022-01-25T08:55:10.741Z"
   },
   {
    "duration": 6,
    "start_time": "2022-01-25T08:55:10.776Z"
   },
   {
    "duration": 7,
    "start_time": "2022-01-25T08:55:10.784Z"
   },
   {
    "duration": 12,
    "start_time": "2022-01-25T08:55:10.792Z"
   },
   {
    "duration": 13,
    "start_time": "2022-01-25T08:55:10.805Z"
   },
   {
    "duration": 14,
    "start_time": "2022-01-25T08:55:10.820Z"
   },
   {
    "duration": 42,
    "start_time": "2022-01-25T08:55:10.836Z"
   },
   {
    "duration": 4,
    "start_time": "2022-01-25T08:55:10.880Z"
   },
   {
    "duration": 6,
    "start_time": "2022-01-25T08:55:10.885Z"
   },
   {
    "duration": 107,
    "start_time": "2022-01-25T08:55:10.895Z"
   },
   {
    "duration": 51,
    "start_time": "2022-01-25T08:55:11.004Z"
   },
   {
    "duration": 48,
    "start_time": "2022-01-25T08:55:11.056Z"
   },
   {
    "duration": 6,
    "start_time": "2022-01-25T08:55:11.105Z"
   },
   {
    "duration": 7,
    "start_time": "2022-01-25T08:55:11.112Z"
   },
   {
    "duration": 5,
    "start_time": "2022-01-25T08:55:11.121Z"
   },
   {
    "duration": 9,
    "start_time": "2022-01-25T08:55:11.127Z"
   },
   {
    "duration": 5,
    "start_time": "2022-01-25T08:55:11.137Z"
   },
   {
    "duration": 16,
    "start_time": "2022-01-25T08:55:11.172Z"
   },
   {
    "duration": 11,
    "start_time": "2022-01-25T08:55:11.189Z"
   },
   {
    "duration": 24,
    "start_time": "2022-01-25T08:55:11.202Z"
   },
   {
    "duration": 7,
    "start_time": "2022-01-25T08:55:11.227Z"
   },
   {
    "duration": 38,
    "start_time": "2022-01-25T08:55:11.235Z"
   },
   {
    "duration": 9,
    "start_time": "2022-01-25T08:55:11.274Z"
   },
   {
    "duration": 8,
    "start_time": "2022-01-25T08:55:11.284Z"
   },
   {
    "duration": 29,
    "start_time": "2022-01-25T08:55:11.294Z"
   },
   {
    "duration": 61,
    "start_time": "2022-01-25T08:55:11.324Z"
   },
   {
    "duration": 9,
    "start_time": "2022-01-25T08:55:11.386Z"
   },
   {
    "duration": 21,
    "start_time": "2022-01-25T08:55:11.397Z"
   },
   {
    "duration": 5,
    "start_time": "2022-01-25T08:55:11.420Z"
   },
   {
    "duration": 11,
    "start_time": "2022-01-25T08:55:11.426Z"
   },
   {
    "duration": 153,
    "start_time": "2022-01-25T08:55:11.438Z"
   },
   {
    "duration": 12,
    "start_time": "2022-01-25T08:55:11.593Z"
   },
   {
    "duration": 8,
    "start_time": "2022-01-25T08:55:11.607Z"
   },
   {
    "duration": 19,
    "start_time": "2022-01-25T08:55:11.617Z"
   },
   {
    "duration": 54,
    "start_time": "2022-01-25T08:55:11.638Z"
   },
   {
    "duration": 9,
    "start_time": "2022-01-25T08:55:11.694Z"
   },
   {
    "duration": 19,
    "start_time": "2022-01-25T08:55:11.704Z"
   },
   {
    "duration": 12,
    "start_time": "2022-01-25T08:55:11.725Z"
   },
   {
    "duration": 125,
    "start_time": "2022-01-25T08:55:11.739Z"
   },
   {
    "duration": 11,
    "start_time": "2022-01-25T08:55:11.866Z"
   },
   {
    "duration": 6,
    "start_time": "2022-01-25T08:55:11.879Z"
   },
   {
    "duration": 9,
    "start_time": "2022-01-25T08:55:11.887Z"
   },
   {
    "duration": 22,
    "start_time": "2022-01-25T08:55:11.897Z"
   },
   {
    "duration": 54,
    "start_time": "2022-01-25T08:55:11.920Z"
   },
   {
    "duration": 20,
    "start_time": "2022-01-25T08:55:11.975Z"
   },
   {
    "duration": 14,
    "start_time": "2022-01-25T08:55:11.996Z"
   },
   {
    "duration": 147,
    "start_time": "2022-01-25T08:55:12.012Z"
   },
   {
    "duration": 14,
    "start_time": "2022-01-25T08:55:12.161Z"
   },
   {
    "duration": 10,
    "start_time": "2022-01-25T08:55:12.176Z"
   },
   {
    "duration": 24,
    "start_time": "2022-01-25T08:55:12.187Z"
   },
   {
    "duration": 28,
    "start_time": "2022-01-25T08:55:12.213Z"
   },
   {
    "duration": 160,
    "start_time": "2022-01-25T08:55:12.242Z"
   },
   {
    "duration": 147,
    "start_time": "2022-01-25T08:55:12.404Z"
   },
   {
    "duration": 156,
    "start_time": "2022-01-25T08:55:12.552Z"
   },
   {
    "duration": 15,
    "start_time": "2022-01-25T08:55:12.709Z"
   },
   {
    "duration": 18,
    "start_time": "2022-01-25T08:55:12.726Z"
   },
   {
    "duration": 31,
    "start_time": "2022-01-25T08:55:12.745Z"
   },
   {
    "duration": 477,
    "start_time": "2022-01-25T08:55:12.777Z"
   },
   {
    "duration": 25,
    "start_time": "2022-01-25T08:55:13.256Z"
   },
   {
    "duration": 15,
    "start_time": "2022-01-25T08:55:13.282Z"
   },
   {
    "duration": 452,
    "start_time": "2022-01-25T08:55:13.299Z"
   },
   {
    "duration": 25,
    "start_time": "2022-01-25T08:55:13.753Z"
   },
   {
    "duration": 15,
    "start_time": "2022-01-25T08:55:13.779Z"
   },
   {
    "duration": 15,
    "start_time": "2022-01-25T08:55:13.799Z"
   },
   {
    "duration": 438,
    "start_time": "2022-01-25T08:55:13.816Z"
   },
   {
    "duration": 23,
    "start_time": "2022-01-25T08:55:14.256Z"
   },
   {
    "duration": 15,
    "start_time": "2022-01-25T08:55:14.281Z"
   },
   {
    "duration": 15,
    "start_time": "2022-01-25T08:55:14.297Z"
   },
   {
    "duration": 15,
    "start_time": "2022-01-25T08:55:14.313Z"
   },
   {
    "duration": 15,
    "start_time": "2022-01-25T08:55:14.329Z"
   },
   {
    "duration": 17,
    "start_time": "2022-01-25T08:55:14.372Z"
   },
   {
    "duration": 16,
    "start_time": "2022-01-25T08:55:14.390Z"
   },
   {
    "duration": 17,
    "start_time": "2022-01-25T08:55:14.408Z"
   },
   {
    "duration": 460,
    "start_time": "2022-01-25T08:55:14.427Z"
   },
   {
    "duration": 16,
    "start_time": "2022-01-25T08:55:14.888Z"
   },
   {
    "duration": 14,
    "start_time": "2022-01-25T08:55:14.906Z"
   },
   {
    "duration": 15,
    "start_time": "2022-01-25T08:55:14.922Z"
   },
   {
    "duration": 39,
    "start_time": "2022-01-25T08:55:14.939Z"
   },
   {
    "duration": 553,
    "start_time": "2022-01-25T08:55:14.980Z"
   },
   {
    "duration": 1110,
    "start_time": "2022-01-25T08:55:35.641Z"
   },
   {
    "duration": 17,
    "start_time": "2022-01-25T08:57:35.377Z"
   },
   {
    "duration": 200,
    "start_time": "2022-01-25T08:57:51.723Z"
   },
   {
    "duration": 5,
    "start_time": "2022-01-25T09:14:19.969Z"
   },
   {
    "duration": 5,
    "start_time": "2022-01-25T09:14:32.337Z"
   },
   {
    "duration": 5,
    "start_time": "2022-01-25T09:16:05.048Z"
   },
   {
    "duration": 305,
    "start_time": "2022-01-25T09:46:53.151Z"
   },
   {
    "duration": 4,
    "start_time": "2022-01-25T09:47:29.090Z"
   },
   {
    "duration": 5,
    "start_time": "2022-01-25T09:49:04.842Z"
   },
   {
    "duration": 7,
    "start_time": "2022-01-25T09:52:06.556Z"
   },
   {
    "duration": 306,
    "start_time": "2022-01-25T12:09:54.557Z"
   },
   {
    "duration": 7,
    "start_time": "2022-01-25T12:12:29.234Z"
   },
   {
    "duration": 5,
    "start_time": "2022-01-25T12:12:47.347Z"
   },
   {
    "duration": 7,
    "start_time": "2022-01-25T12:13:34.524Z"
   },
   {
    "duration": 23010,
    "start_time": "2022-01-25T12:14:25.260Z"
   },
   {
    "duration": 192,
    "start_time": "2022-01-25T12:15:43.684Z"
   },
   {
    "duration": 180,
    "start_time": "2022-01-25T12:16:41.395Z"
   },
   {
    "duration": 187,
    "start_time": "2022-01-25T12:17:19.071Z"
   },
   {
    "duration": 109,
    "start_time": "2022-01-25T12:18:17.939Z"
   },
   {
    "duration": 296,
    "start_time": "2022-01-25T12:18:41.769Z"
   },
   {
    "duration": 7,
    "start_time": "2022-01-25T12:26:15.102Z"
   },
   {
    "duration": 7,
    "start_time": "2022-01-25T12:27:03.151Z"
   },
   {
    "duration": 6,
    "start_time": "2022-01-25T12:27:32.141Z"
   },
   {
    "duration": 7,
    "start_time": "2022-01-25T12:27:40.522Z"
   },
   {
    "duration": 7,
    "start_time": "2022-01-25T12:28:52.816Z"
   },
   {
    "duration": 7,
    "start_time": "2022-01-25T12:29:11.335Z"
   },
   {
    "duration": 7,
    "start_time": "2022-01-25T12:35:49.756Z"
   },
   {
    "duration": 6,
    "start_time": "2022-01-25T12:44:14.400Z"
   },
   {
    "duration": 316,
    "start_time": "2022-01-25T12:44:32.236Z"
   },
   {
    "duration": 237,
    "start_time": "2022-01-25T12:45:58.482Z"
   },
   {
    "duration": 240,
    "start_time": "2022-01-25T12:50:40.374Z"
   },
   {
    "duration": 8,
    "start_time": "2022-01-25T12:52:43.570Z"
   },
   {
    "duration": 1184,
    "start_time": "2022-01-26T08:26:45.207Z"
   },
   {
    "duration": 420,
    "start_time": "2022-01-26T08:26:46.393Z"
   },
   {
    "duration": 10,
    "start_time": "2022-01-26T08:26:46.815Z"
   },
   {
    "duration": 24,
    "start_time": "2022-01-26T08:26:46.827Z"
   },
   {
    "duration": 31,
    "start_time": "2022-01-26T08:26:46.853Z"
   },
   {
    "duration": 19,
    "start_time": "2022-01-26T08:26:46.886Z"
   },
   {
    "duration": 8,
    "start_time": "2022-01-26T08:26:46.907Z"
   },
   {
    "duration": 20,
    "start_time": "2022-01-26T08:26:46.917Z"
   },
   {
    "duration": 21,
    "start_time": "2022-01-26T08:26:46.939Z"
   },
   {
    "duration": 41,
    "start_time": "2022-01-26T08:26:46.962Z"
   },
   {
    "duration": 7,
    "start_time": "2022-01-26T08:26:47.005Z"
   },
   {
    "duration": 17,
    "start_time": "2022-01-26T08:26:47.014Z"
   },
   {
    "duration": 21,
    "start_time": "2022-01-26T08:26:47.033Z"
   },
   {
    "duration": 44,
    "start_time": "2022-01-26T08:26:47.056Z"
   },
   {
    "duration": 8,
    "start_time": "2022-01-26T08:26:47.102Z"
   },
   {
    "duration": 10,
    "start_time": "2022-01-26T08:26:47.111Z"
   },
   {
    "duration": 12,
    "start_time": "2022-01-26T08:26:47.123Z"
   },
   {
    "duration": 14,
    "start_time": "2022-01-26T08:26:47.137Z"
   },
   {
    "duration": 8,
    "start_time": "2022-01-26T08:26:47.153Z"
   },
   {
    "duration": 12,
    "start_time": "2022-01-26T08:26:47.162Z"
   },
   {
    "duration": 16,
    "start_time": "2022-01-26T08:26:47.197Z"
   },
   {
    "duration": 12,
    "start_time": "2022-01-26T08:26:47.214Z"
   },
   {
    "duration": 10,
    "start_time": "2022-01-26T08:26:47.230Z"
   },
   {
    "duration": 9,
    "start_time": "2022-01-26T08:26:47.242Z"
   },
   {
    "duration": 9,
    "start_time": "2022-01-26T08:26:47.253Z"
   },
   {
    "duration": 140,
    "start_time": "2022-01-26T08:26:47.263Z"
   },
   {
    "duration": 65,
    "start_time": "2022-01-26T08:26:47.404Z"
   },
   {
    "duration": 62,
    "start_time": "2022-01-26T08:26:47.471Z"
   },
   {
    "duration": 5,
    "start_time": "2022-01-26T08:26:47.535Z"
   },
   {
    "duration": 10,
    "start_time": "2022-01-26T08:26:47.542Z"
   },
   {
    "duration": 7,
    "start_time": "2022-01-26T08:26:47.554Z"
   },
   {
    "duration": 36,
    "start_time": "2022-01-26T08:26:47.563Z"
   },
   {
    "duration": 12,
    "start_time": "2022-01-26T08:26:47.601Z"
   },
   {
    "duration": 21,
    "start_time": "2022-01-26T08:26:47.614Z"
   },
   {
    "duration": 14,
    "start_time": "2022-01-26T08:26:47.637Z"
   },
   {
    "duration": 49,
    "start_time": "2022-01-26T08:26:47.653Z"
   },
   {
    "duration": 7,
    "start_time": "2022-01-26T08:26:47.704Z"
   },
   {
    "duration": 12,
    "start_time": "2022-01-26T08:26:47.713Z"
   },
   {
    "duration": 13,
    "start_time": "2022-01-26T08:26:47.726Z"
   },
   {
    "duration": 13,
    "start_time": "2022-01-26T08:26:47.741Z"
   },
   {
    "duration": 54,
    "start_time": "2022-01-26T08:26:47.756Z"
   },
   {
    "duration": 45,
    "start_time": "2022-01-26T08:26:47.811Z"
   },
   {
    "duration": 10,
    "start_time": "2022-01-26T08:26:47.858Z"
   },
   {
    "duration": 48,
    "start_time": "2022-01-26T08:26:47.869Z"
   },
   {
    "duration": 6,
    "start_time": "2022-01-26T08:26:47.919Z"
   },
   {
    "duration": 19,
    "start_time": "2022-01-26T08:26:47.927Z"
   },
   {
    "duration": 143,
    "start_time": "2022-01-26T08:26:47.948Z"
   },
   {
    "duration": 15,
    "start_time": "2022-01-26T08:26:48.096Z"
   },
   {
    "duration": 11,
    "start_time": "2022-01-26T08:26:48.113Z"
   },
   {
    "duration": 27,
    "start_time": "2022-01-26T08:26:48.125Z"
   },
   {
    "duration": 57,
    "start_time": "2022-01-26T08:26:48.154Z"
   },
   {
    "duration": 11,
    "start_time": "2022-01-26T08:26:48.212Z"
   },
   {
    "duration": 31,
    "start_time": "2022-01-26T08:26:48.224Z"
   },
   {
    "duration": 16,
    "start_time": "2022-01-26T08:26:48.256Z"
   },
   {
    "duration": 142,
    "start_time": "2022-01-26T08:26:48.274Z"
   },
   {
    "duration": 8,
    "start_time": "2022-01-26T08:26:48.418Z"
   },
   {
    "duration": 13,
    "start_time": "2022-01-26T08:26:48.428Z"
   },
   {
    "duration": 11,
    "start_time": "2022-01-26T08:26:48.443Z"
   },
   {
    "duration": 43,
    "start_time": "2022-01-26T08:26:48.455Z"
   },
   {
    "duration": 35,
    "start_time": "2022-01-26T08:26:48.500Z"
   },
   {
    "duration": 23,
    "start_time": "2022-01-26T08:26:48.537Z"
   },
   {
    "duration": 41,
    "start_time": "2022-01-26T08:26:48.562Z"
   },
   {
    "duration": 143,
    "start_time": "2022-01-26T08:26:48.604Z"
   },
   {
    "duration": 10,
    "start_time": "2022-01-26T08:26:48.749Z"
   },
   {
    "duration": 15,
    "start_time": "2022-01-26T08:26:48.761Z"
   },
   {
    "duration": 44,
    "start_time": "2022-01-26T08:26:48.777Z"
   },
   {
    "duration": 32,
    "start_time": "2022-01-26T08:26:48.823Z"
   },
   {
    "duration": 164,
    "start_time": "2022-01-26T08:26:48.862Z"
   },
   {
    "duration": 195,
    "start_time": "2022-01-26T08:26:49.029Z"
   },
   {
    "duration": 180,
    "start_time": "2022-01-26T08:26:49.226Z"
   },
   {
    "duration": 19,
    "start_time": "2022-01-26T08:26:49.408Z"
   },
   {
    "duration": 16,
    "start_time": "2022-01-26T08:26:49.429Z"
   },
   {
    "duration": 13,
    "start_time": "2022-01-26T08:26:49.447Z"
   },
   {
    "duration": 8,
    "start_time": "2022-01-26T08:26:49.462Z"
   },
   {
    "duration": 28,
    "start_time": "2022-01-26T08:26:49.472Z"
   },
   {
    "duration": 8,
    "start_time": "2022-01-26T08:26:49.502Z"
   },
   {
    "duration": 12,
    "start_time": "2022-01-26T08:26:49.512Z"
   },
   {
    "duration": 7,
    "start_time": "2022-01-26T08:26:49.526Z"
   },
   {
    "duration": 8,
    "start_time": "2022-01-26T08:26:49.535Z"
   },
   {
    "duration": 314,
    "start_time": "2022-01-26T08:26:49.545Z"
   },
   {
    "duration": 381,
    "start_time": "2022-01-26T08:26:49.862Z"
   },
   {
    "duration": 20,
    "start_time": "2022-01-26T08:26:50.245Z"
   },
   {
    "duration": 38,
    "start_time": "2022-01-26T08:26:50.267Z"
   },
   {
    "duration": 519,
    "start_time": "2022-01-26T08:26:50.308Z"
   },
   {
    "duration": 19,
    "start_time": "2022-01-26T08:26:50.829Z"
   },
   {
    "duration": 19,
    "start_time": "2022-01-26T08:26:50.850Z"
   },
   {
    "duration": 44,
    "start_time": "2022-01-26T08:26:50.871Z"
   },
   {
    "duration": 532,
    "start_time": "2022-01-26T08:26:50.917Z"
   },
   {
    "duration": 20,
    "start_time": "2022-01-26T08:26:51.451Z"
   },
   {
    "duration": 35,
    "start_time": "2022-01-26T08:26:51.473Z"
   },
   {
    "duration": 18,
    "start_time": "2022-01-26T08:26:51.510Z"
   },
   {
    "duration": 18,
    "start_time": "2022-01-26T08:26:51.530Z"
   },
   {
    "duration": 51,
    "start_time": "2022-01-26T08:26:51.551Z"
   },
   {
    "duration": 19,
    "start_time": "2022-01-26T08:26:51.605Z"
   },
   {
    "duration": 17,
    "start_time": "2022-01-26T08:26:51.626Z"
   },
   {
    "duration": 19,
    "start_time": "2022-01-26T08:26:51.645Z"
   },
   {
    "duration": 549,
    "start_time": "2022-01-26T08:26:51.698Z"
   },
   {
    "duration": 19,
    "start_time": "2022-01-26T08:26:52.249Z"
   },
   {
    "duration": 39,
    "start_time": "2022-01-26T08:26:52.270Z"
   },
   {
    "duration": 17,
    "start_time": "2022-01-26T08:26:52.311Z"
   },
   {
    "duration": 18,
    "start_time": "2022-01-26T08:26:52.330Z"
   },
   {
    "duration": 18,
    "start_time": "2022-01-26T08:26:52.350Z"
   },
   {
    "duration": 223,
    "start_time": "2022-01-26T08:26:52.397Z"
   },
   {
    "duration": 5,
    "start_time": "2022-01-26T08:26:52.622Z"
   },
   {
    "duration": 10,
    "start_time": "2022-01-26T08:26:52.628Z"
   },
   {
    "duration": 6,
    "start_time": "2022-01-26T08:26:52.640Z"
   },
   {
    "duration": 7,
    "start_time": "2022-01-26T08:26:52.648Z"
   },
   {
    "duration": 9,
    "start_time": "2022-01-26T08:26:52.656Z"
   },
   {
    "duration": 11,
    "start_time": "2022-01-26T08:26:52.667Z"
   },
   {
    "duration": 7,
    "start_time": "2022-01-26T08:54:12.371Z"
   },
   {
    "duration": 7,
    "start_time": "2022-01-26T08:54:13.318Z"
   },
   {
    "duration": 296,
    "start_time": "2022-01-26T08:55:03.680Z"
   },
   {
    "duration": 248,
    "start_time": "2022-01-26T08:55:33.534Z"
   },
   {
    "duration": 247,
    "start_time": "2022-01-26T08:57:45.225Z"
   },
   {
    "duration": 336,
    "start_time": "2022-01-26T08:58:09.100Z"
   },
   {
    "duration": 261,
    "start_time": "2022-01-26T08:58:30.073Z"
   },
   {
    "duration": 336,
    "start_time": "2022-01-27T08:12:30.111Z"
   },
   {
    "duration": 1472,
    "start_time": "2022-01-27T08:12:42.297Z"
   },
   {
    "duration": 535,
    "start_time": "2022-01-27T08:12:43.772Z"
   },
   {
    "duration": 17,
    "start_time": "2022-01-27T08:12:44.310Z"
   },
   {
    "duration": 30,
    "start_time": "2022-01-27T08:12:44.331Z"
   },
   {
    "duration": 45,
    "start_time": "2022-01-27T08:12:44.364Z"
   },
   {
    "duration": 20,
    "start_time": "2022-01-27T08:12:44.412Z"
   },
   {
    "duration": 34,
    "start_time": "2022-01-27T08:12:44.435Z"
   },
   {
    "duration": 35,
    "start_time": "2022-01-27T08:12:44.474Z"
   },
   {
    "duration": 57,
    "start_time": "2022-01-27T08:12:44.512Z"
   },
   {
    "duration": 20,
    "start_time": "2022-01-27T08:12:44.572Z"
   },
   {
    "duration": 10,
    "start_time": "2022-01-27T08:12:44.594Z"
   },
   {
    "duration": 21,
    "start_time": "2022-01-27T08:12:44.607Z"
   },
   {
    "duration": 59,
    "start_time": "2022-01-27T08:12:44.630Z"
   },
   {
    "duration": 16,
    "start_time": "2022-01-27T08:12:44.691Z"
   },
   {
    "duration": 13,
    "start_time": "2022-01-27T08:12:44.710Z"
   },
   {
    "duration": 49,
    "start_time": "2022-01-27T08:12:44.726Z"
   },
   {
    "duration": 16,
    "start_time": "2022-01-27T08:12:44.777Z"
   },
   {
    "duration": 9,
    "start_time": "2022-01-27T08:12:44.796Z"
   },
   {
    "duration": 11,
    "start_time": "2022-01-27T08:12:44.807Z"
   },
   {
    "duration": 17,
    "start_time": "2022-01-27T08:12:44.821Z"
   },
   {
    "duration": 18,
    "start_time": "2022-01-27T08:12:44.870Z"
   },
   {
    "duration": 16,
    "start_time": "2022-01-27T08:12:44.891Z"
   },
   {
    "duration": 13,
    "start_time": "2022-01-27T08:12:44.913Z"
   },
   {
    "duration": 44,
    "start_time": "2022-01-27T08:12:44.930Z"
   },
   {
    "duration": 8,
    "start_time": "2022-01-27T08:12:44.977Z"
   },
   {
    "duration": 152,
    "start_time": "2022-01-27T08:12:44.988Z"
   },
   {
    "duration": 118,
    "start_time": "2022-01-27T08:12:45.143Z"
   },
   {
    "duration": 62,
    "start_time": "2022-01-27T08:12:45.263Z"
   },
   {
    "duration": 8,
    "start_time": "2022-01-27T08:12:45.327Z"
   },
   {
    "duration": 33,
    "start_time": "2022-01-27T08:12:45.337Z"
   },
   {
    "duration": 8,
    "start_time": "2022-01-27T08:12:45.373Z"
   },
   {
    "duration": 21,
    "start_time": "2022-01-27T08:12:45.383Z"
   },
   {
    "duration": 10,
    "start_time": "2022-01-27T08:12:45.407Z"
   },
   {
    "duration": 61,
    "start_time": "2022-01-27T08:12:45.420Z"
   },
   {
    "duration": 18,
    "start_time": "2022-01-27T08:12:45.484Z"
   },
   {
    "duration": 67,
    "start_time": "2022-01-27T08:12:45.505Z"
   },
   {
    "duration": 10,
    "start_time": "2022-01-27T08:12:45.575Z"
   },
   {
    "duration": 36,
    "start_time": "2022-01-27T08:12:45.587Z"
   },
   {
    "duration": 17,
    "start_time": "2022-01-27T08:12:45.625Z"
   },
   {
    "duration": 27,
    "start_time": "2022-01-27T08:12:45.644Z"
   },
   {
    "duration": 45,
    "start_time": "2022-01-27T08:12:45.673Z"
   },
   {
    "duration": 83,
    "start_time": "2022-01-27T08:12:45.721Z"
   },
   {
    "duration": 16,
    "start_time": "2022-01-27T08:12:45.806Z"
   },
   {
    "duration": 57,
    "start_time": "2022-01-27T08:12:45.824Z"
   },
   {
    "duration": 8,
    "start_time": "2022-01-27T08:12:45.884Z"
   },
   {
    "duration": 25,
    "start_time": "2022-01-27T08:12:45.894Z"
   },
   {
    "duration": 278,
    "start_time": "2022-01-27T08:12:45.922Z"
   },
   {
    "duration": 26,
    "start_time": "2022-01-27T08:12:46.203Z"
   },
   {
    "duration": 17,
    "start_time": "2022-01-27T08:12:46.232Z"
   },
   {
    "duration": 45,
    "start_time": "2022-01-27T08:12:46.252Z"
   },
   {
    "duration": 76,
    "start_time": "2022-01-27T08:12:46.300Z"
   },
   {
    "duration": 14,
    "start_time": "2022-01-27T08:12:46.379Z"
   },
   {
    "duration": 42,
    "start_time": "2022-01-27T08:12:46.395Z"
   },
   {
    "duration": 41,
    "start_time": "2022-01-27T08:12:46.439Z"
   },
   {
    "duration": 205,
    "start_time": "2022-01-27T08:12:46.483Z"
   },
   {
    "duration": 14,
    "start_time": "2022-01-27T08:12:46.690Z"
   },
   {
    "duration": 15,
    "start_time": "2022-01-27T08:12:46.707Z"
   },
   {
    "duration": 54,
    "start_time": "2022-01-27T08:12:46.724Z"
   },
   {
    "duration": 34,
    "start_time": "2022-01-27T08:12:46.781Z"
   },
   {
    "duration": 76,
    "start_time": "2022-01-27T08:12:46.818Z"
   },
   {
    "duration": 36,
    "start_time": "2022-01-27T08:12:46.897Z"
   },
   {
    "duration": 49,
    "start_time": "2022-01-27T08:12:46.936Z"
   },
   {
    "duration": 286,
    "start_time": "2022-01-27T08:12:46.988Z"
   },
   {
    "duration": 14,
    "start_time": "2022-01-27T08:12:47.276Z"
   },
   {
    "duration": 14,
    "start_time": "2022-01-27T08:12:47.293Z"
   },
   {
    "duration": 73,
    "start_time": "2022-01-27T08:12:47.310Z"
   },
   {
    "duration": 47,
    "start_time": "2022-01-27T08:12:47.386Z"
   },
   {
    "duration": 250,
    "start_time": "2022-01-27T08:12:47.441Z"
   },
   {
    "duration": 270,
    "start_time": "2022-01-27T08:12:47.695Z"
   },
   {
    "duration": 272,
    "start_time": "2022-01-27T08:12:47.968Z"
   },
   {
    "duration": 31,
    "start_time": "2022-01-27T08:12:48.242Z"
   },
   {
    "duration": 14,
    "start_time": "2022-01-27T08:12:48.276Z"
   },
   {
    "duration": 12,
    "start_time": "2022-01-27T08:12:48.292Z"
   },
   {
    "duration": 469,
    "start_time": "2022-01-27T08:12:48.307Z"
   },
   {
    "duration": 8,
    "start_time": "2022-01-27T08:12:48.778Z"
   },
   {
    "duration": 9,
    "start_time": "2022-01-27T08:12:48.788Z"
   },
   {
    "duration": 8,
    "start_time": "2022-01-27T08:12:48.799Z"
   },
   {
    "duration": 11,
    "start_time": "2022-01-27T08:12:48.810Z"
   },
   {
    "duration": 55,
    "start_time": "2022-01-27T08:12:48.823Z"
   },
   {
    "duration": 11,
    "start_time": "2022-01-27T08:12:48.881Z"
   },
   {
    "duration": 536,
    "start_time": "2022-01-27T08:12:48.894Z"
   },
   {
    "duration": 39,
    "start_time": "2022-01-27T08:12:49.432Z"
   },
   {
    "duration": 27,
    "start_time": "2022-01-27T08:12:49.474Z"
   },
   {
    "duration": 777,
    "start_time": "2022-01-27T08:12:49.504Z"
   },
   {
    "duration": 26,
    "start_time": "2022-01-27T08:12:50.285Z"
   },
   {
    "duration": 28,
    "start_time": "2022-01-27T08:12:50.314Z"
   },
   {
    "duration": 25,
    "start_time": "2022-01-27T08:12:50.369Z"
   },
   {
    "duration": 781,
    "start_time": "2022-01-27T08:12:50.396Z"
   },
   {
    "duration": 25,
    "start_time": "2022-01-27T08:12:51.179Z"
   },
   {
    "duration": 25,
    "start_time": "2022-01-27T08:12:51.207Z"
   },
   {
    "duration": 59,
    "start_time": "2022-01-27T08:12:51.235Z"
   },
   {
    "duration": 22,
    "start_time": "2022-01-27T08:12:51.296Z"
   },
   {
    "duration": 57,
    "start_time": "2022-01-27T08:12:51.321Z"
   },
   {
    "duration": 30,
    "start_time": "2022-01-27T08:12:51.380Z"
   },
   {
    "duration": 23,
    "start_time": "2022-01-27T08:12:51.413Z"
   },
   {
    "duration": 48,
    "start_time": "2022-01-27T08:12:51.438Z"
   },
   {
    "duration": 762,
    "start_time": "2022-01-27T08:12:51.489Z"
   },
   {
    "duration": 33,
    "start_time": "2022-01-27T08:12:52.253Z"
   },
   {
    "duration": 28,
    "start_time": "2022-01-27T08:12:52.289Z"
   },
   {
    "duration": 24,
    "start_time": "2022-01-27T08:12:52.319Z"
   },
   {
    "duration": 24,
    "start_time": "2022-01-27T08:12:52.370Z"
   },
   {
    "duration": 24,
    "start_time": "2022-01-27T08:12:52.397Z"
   },
   {
    "duration": 367,
    "start_time": "2022-01-27T08:12:52.424Z"
   },
   {
    "duration": 9,
    "start_time": "2022-01-27T08:12:52.794Z"
   },
   {
    "duration": 9,
    "start_time": "2022-01-27T08:12:52.805Z"
   },
   {
    "duration": 8,
    "start_time": "2022-01-27T08:12:52.817Z"
   },
   {
    "duration": 47,
    "start_time": "2022-01-27T08:12:52.827Z"
   },
   {
    "duration": 8,
    "start_time": "2022-01-27T08:12:52.877Z"
   },
   {
    "duration": 9,
    "start_time": "2022-01-27T08:12:52.888Z"
   },
   {
    "duration": 9,
    "start_time": "2022-01-27T08:17:11.737Z"
   },
   {
    "duration": 9,
    "start_time": "2022-01-27T08:17:41.042Z"
   },
   {
    "duration": 9,
    "start_time": "2022-01-27T08:25:12.493Z"
   },
   {
    "duration": 9,
    "start_time": "2022-01-27T08:25:28.759Z"
   },
   {
    "duration": 26,
    "start_time": "2022-01-27T08:28:00.103Z"
   },
   {
    "duration": 26,
    "start_time": "2022-01-27T08:29:47.217Z"
   },
   {
    "duration": 10,
    "start_time": "2022-01-27T08:29:48.998Z"
   },
   {
    "duration": 10,
    "start_time": "2022-01-27T08:29:53.346Z"
   },
   {
    "duration": 10,
    "start_time": "2022-01-27T08:29:56.313Z"
   },
   {
    "duration": 10,
    "start_time": "2022-01-27T08:29:58.872Z"
   },
   {
    "duration": 361,
    "start_time": "2022-01-27T08:30:04.736Z"
   },
   {
    "duration": 330,
    "start_time": "2022-01-27T08:30:47.479Z"
   },
   {
    "duration": 91,
    "start_time": "2022-01-27T08:32:18.332Z"
   },
   {
    "duration": 9,
    "start_time": "2022-01-27T08:35:22.736Z"
   },
   {
    "duration": 8,
    "start_time": "2022-01-27T08:35:23.819Z"
   },
   {
    "duration": 9,
    "start_time": "2022-01-27T08:35:24.843Z"
   },
   {
    "duration": 10,
    "start_time": "2022-01-27T08:35:25.752Z"
   },
   {
    "duration": 341,
    "start_time": "2022-01-27T08:35:26.644Z"
   },
   {
    "duration": 1551,
    "start_time": "2022-01-27T08:37:35.500Z"
   },
   {
    "duration": 524,
    "start_time": "2022-01-27T08:37:37.054Z"
   },
   {
    "duration": 15,
    "start_time": "2022-01-27T08:37:37.581Z"
   },
   {
    "duration": 30,
    "start_time": "2022-01-27T08:37:37.599Z"
   },
   {
    "duration": 60,
    "start_time": "2022-01-27T08:37:37.631Z"
   },
   {
    "duration": 19,
    "start_time": "2022-01-27T08:37:37.694Z"
   },
   {
    "duration": 12,
    "start_time": "2022-01-27T08:37:37.715Z"
   },
   {
    "duration": 55,
    "start_time": "2022-01-27T08:37:37.730Z"
   },
   {
    "duration": 31,
    "start_time": "2022-01-27T08:37:37.788Z"
   },
   {
    "duration": 16,
    "start_time": "2022-01-27T08:37:37.822Z"
   },
   {
    "duration": 34,
    "start_time": "2022-01-27T08:37:37.840Z"
   },
   {
    "duration": 20,
    "start_time": "2022-01-27T08:37:37.877Z"
   },
   {
    "duration": 27,
    "start_time": "2022-01-27T08:37:37.899Z"
   },
   {
    "duration": 43,
    "start_time": "2022-01-27T08:37:37.928Z"
   },
   {
    "duration": 12,
    "start_time": "2022-01-27T08:37:37.974Z"
   },
   {
    "duration": 13,
    "start_time": "2022-01-27T08:37:37.988Z"
   },
   {
    "duration": 17,
    "start_time": "2022-01-27T08:37:38.003Z"
   },
   {
    "duration": 51,
    "start_time": "2022-01-27T08:37:38.023Z"
   },
   {
    "duration": 8,
    "start_time": "2022-01-27T08:37:38.077Z"
   },
   {
    "duration": 14,
    "start_time": "2022-01-27T08:37:38.088Z"
   },
   {
    "duration": 23,
    "start_time": "2022-01-27T08:37:38.105Z"
   },
   {
    "duration": 45,
    "start_time": "2022-01-27T08:37:38.130Z"
   },
   {
    "duration": 14,
    "start_time": "2022-01-27T08:37:38.181Z"
   },
   {
    "duration": 8,
    "start_time": "2022-01-27T08:37:38.199Z"
   },
   {
    "duration": 9,
    "start_time": "2022-01-27T08:37:38.209Z"
   },
   {
    "duration": 164,
    "start_time": "2022-01-27T08:37:38.221Z"
   },
   {
    "duration": 105,
    "start_time": "2022-01-27T08:37:38.387Z"
   },
   {
    "duration": 74,
    "start_time": "2022-01-27T08:37:38.495Z"
   },
   {
    "duration": 9,
    "start_time": "2022-01-27T08:37:38.571Z"
   },
   {
    "duration": 12,
    "start_time": "2022-01-27T08:37:38.583Z"
   },
   {
    "duration": 9,
    "start_time": "2022-01-27T08:37:38.597Z"
   },
   {
    "duration": 17,
    "start_time": "2022-01-27T08:37:38.608Z"
   },
   {
    "duration": 8,
    "start_time": "2022-01-27T08:37:38.668Z"
   },
   {
    "duration": 26,
    "start_time": "2022-01-27T08:37:38.679Z"
   },
   {
    "duration": 17,
    "start_time": "2022-01-27T08:37:38.708Z"
   },
   {
    "duration": 75,
    "start_time": "2022-01-27T08:37:38.727Z"
   },
   {
    "duration": 11,
    "start_time": "2022-01-27T08:37:38.804Z"
   },
   {
    "duration": 13,
    "start_time": "2022-01-27T08:37:38.818Z"
   },
   {
    "duration": 48,
    "start_time": "2022-01-27T08:37:38.834Z"
   },
   {
    "duration": 16,
    "start_time": "2022-01-27T08:37:38.885Z"
   },
   {
    "duration": 71,
    "start_time": "2022-01-27T08:37:38.904Z"
   },
   {
    "duration": 59,
    "start_time": "2022-01-27T08:37:38.978Z"
   },
   {
    "duration": 42,
    "start_time": "2022-01-27T08:37:39.040Z"
   },
   {
    "duration": 37,
    "start_time": "2022-01-27T08:37:39.085Z"
   },
   {
    "duration": 8,
    "start_time": "2022-01-27T08:37:39.124Z"
   },
   {
    "duration": 52,
    "start_time": "2022-01-27T08:37:39.134Z"
   },
   {
    "duration": 235,
    "start_time": "2022-01-27T08:37:39.188Z"
   },
   {
    "duration": 22,
    "start_time": "2022-01-27T08:37:39.425Z"
   },
   {
    "duration": 12,
    "start_time": "2022-01-27T08:37:39.470Z"
   },
   {
    "duration": 31,
    "start_time": "2022-01-27T08:37:39.485Z"
   },
   {
    "duration": 74,
    "start_time": "2022-01-27T08:37:39.519Z"
   },
   {
    "duration": 15,
    "start_time": "2022-01-27T08:37:39.595Z"
   },
   {
    "duration": 59,
    "start_time": "2022-01-27T08:37:39.613Z"
   },
   {
    "duration": 29,
    "start_time": "2022-01-27T08:37:39.675Z"
   },
   {
    "duration": 210,
    "start_time": "2022-01-27T08:37:39.707Z"
   },
   {
    "duration": 11,
    "start_time": "2022-01-27T08:37:39.919Z"
   },
   {
    "duration": 14,
    "start_time": "2022-01-27T08:37:39.933Z"
   },
   {
    "duration": 13,
    "start_time": "2022-01-27T08:37:39.969Z"
   },
   {
    "duration": 38,
    "start_time": "2022-01-27T08:37:39.984Z"
   },
   {
    "duration": 73,
    "start_time": "2022-01-27T08:37:40.025Z"
   },
   {
    "duration": 34,
    "start_time": "2022-01-27T08:37:40.100Z"
   },
   {
    "duration": 48,
    "start_time": "2022-01-27T08:37:40.136Z"
   },
   {
    "duration": 240,
    "start_time": "2022-01-27T08:37:40.187Z"
   },
   {
    "duration": 15,
    "start_time": "2022-01-27T08:37:40.429Z"
   },
   {
    "duration": 34,
    "start_time": "2022-01-27T08:37:40.447Z"
   },
   {
    "duration": 47,
    "start_time": "2022-01-27T08:37:40.484Z"
   },
   {
    "duration": 76,
    "start_time": "2022-01-27T08:37:40.533Z"
   },
   {
    "duration": 265,
    "start_time": "2022-01-27T08:37:40.616Z"
   },
   {
    "duration": 278,
    "start_time": "2022-01-27T08:37:40.884Z"
   },
   {
    "duration": 265,
    "start_time": "2022-01-27T08:37:41.169Z"
   },
   {
    "duration": 35,
    "start_time": "2022-01-27T08:37:41.437Z"
   },
   {
    "duration": 12,
    "start_time": "2022-01-27T08:37:41.477Z"
   },
   {
    "duration": 9,
    "start_time": "2022-01-27T08:37:41.492Z"
   },
   {
    "duration": 10,
    "start_time": "2022-01-27T08:37:41.503Z"
   },
   {
    "duration": 57,
    "start_time": "2022-01-27T08:37:41.516Z"
   },
   {
    "duration": 377,
    "start_time": "2022-01-27T08:37:41.576Z"
   },
   {
    "duration": 35,
    "start_time": "2022-01-27T08:37:41.956Z"
   },
   {
    "duration": 11,
    "start_time": "2022-01-27T08:37:41.993Z"
   },
   {
    "duration": 18,
    "start_time": "2022-01-27T08:37:42.007Z"
   },
   {
    "duration": 15,
    "start_time": "2022-01-27T08:37:42.028Z"
   },
   {
    "duration": 29,
    "start_time": "2022-01-27T08:37:42.045Z"
   },
   {
    "duration": 400,
    "start_time": "2022-01-27T08:37:42.077Z"
   },
   {
    "duration": 8,
    "start_time": "2022-01-27T08:37:42.480Z"
   },
   {
    "duration": 10,
    "start_time": "2022-01-27T08:37:42.490Z"
   },
   {
    "duration": 8,
    "start_time": "2022-01-27T08:37:42.502Z"
   },
   {
    "duration": 8,
    "start_time": "2022-01-27T08:37:42.513Z"
   },
   {
    "duration": 412,
    "start_time": "2022-01-27T08:37:42.523Z"
   },
   {
    "duration": 9,
    "start_time": "2022-01-27T08:41:04.613Z"
   },
   {
    "duration": 10,
    "start_time": "2022-01-27T08:41:05.483Z"
   },
   {
    "duration": 10,
    "start_time": "2022-01-27T08:41:06.222Z"
   },
   {
    "duration": 11,
    "start_time": "2022-01-27T08:41:07.190Z"
   },
   {
    "duration": 448,
    "start_time": "2022-01-27T08:41:08.237Z"
   },
   {
    "duration": 351,
    "start_time": "2022-01-27T08:41:24.718Z"
   },
   {
    "duration": 10,
    "start_time": "2022-01-27T08:44:10.187Z"
   },
   {
    "duration": 8,
    "start_time": "2022-01-27T08:44:10.894Z"
   },
   {
    "duration": 9,
    "start_time": "2022-01-27T08:44:11.739Z"
   },
   {
    "duration": 10,
    "start_time": "2022-01-27T08:44:14.228Z"
   },
   {
    "duration": 338,
    "start_time": "2022-01-27T08:44:21.790Z"
   },
   {
    "duration": 9,
    "start_time": "2022-01-27T08:47:57.216Z"
   },
   {
    "duration": 8,
    "start_time": "2022-01-27T08:47:59.053Z"
   },
   {
    "duration": 8,
    "start_time": "2022-01-27T08:48:00.053Z"
   },
   {
    "duration": 8,
    "start_time": "2022-01-27T08:48:02.819Z"
   },
   {
    "duration": 369,
    "start_time": "2022-01-27T08:48:04.112Z"
   },
   {
    "duration": 107,
    "start_time": "2022-01-27T09:12:45.880Z"
   },
   {
    "duration": 26,
    "start_time": "2022-01-27T09:16:51.097Z"
   },
   {
    "duration": 26,
    "start_time": "2022-01-27T09:17:41.480Z"
   },
   {
    "duration": 8,
    "start_time": "2022-01-27T09:17:42.648Z"
   },
   {
    "duration": 8,
    "start_time": "2022-01-27T09:17:45.275Z"
   },
   {
    "duration": 9,
    "start_time": "2022-01-27T09:17:49.903Z"
   },
   {
    "duration": 9,
    "start_time": "2022-01-27T09:17:51.329Z"
   },
   {
    "duration": 338,
    "start_time": "2022-01-27T09:17:52.804Z"
   },
   {
    "duration": 389,
    "start_time": "2022-01-27T09:20:59.402Z"
   },
   {
    "duration": 412,
    "start_time": "2022-01-27T09:24:27.892Z"
   },
   {
    "duration": 338,
    "start_time": "2022-01-27T09:24:44.848Z"
   },
   {
    "duration": 10,
    "start_time": "2022-01-27T09:25:03.332Z"
   },
   {
    "duration": 302,
    "start_time": "2022-01-27T09:25:29.269Z"
   },
   {
    "duration": 11,
    "start_time": "2022-01-27T09:38:50.065Z"
   },
   {
    "duration": 12,
    "start_time": "2022-01-27T09:38:51.174Z"
   },
   {
    "duration": 9,
    "start_time": "2022-01-27T09:39:20.697Z"
   },
   {
    "duration": 9,
    "start_time": "2022-01-27T09:39:44.653Z"
   },
   {
    "duration": 5,
    "start_time": "2022-01-27T09:41:55.247Z"
   },
   {
    "duration": 6,
    "start_time": "2022-01-27T09:43:00.227Z"
   },
   {
    "duration": 5,
    "start_time": "2022-01-27T09:43:17.126Z"
   },
   {
    "duration": 5,
    "start_time": "2022-01-27T09:43:18.335Z"
   },
   {
    "duration": 6,
    "start_time": "2022-01-27T09:43:26.165Z"
   },
   {
    "duration": 6,
    "start_time": "2022-01-27T09:43:27.262Z"
   },
   {
    "duration": 271,
    "start_time": "2022-01-27T09:59:05.543Z"
   },
   {
    "duration": 9,
    "start_time": "2022-01-27T10:01:04.662Z"
   },
   {
    "duration": 10,
    "start_time": "2022-01-27T10:01:36.822Z"
   },
   {
    "duration": 9,
    "start_time": "2022-01-27T10:02:04.322Z"
   },
   {
    "duration": 9,
    "start_time": "2022-01-27T10:02:37.237Z"
   },
   {
    "duration": 307,
    "start_time": "2022-01-27T10:02:43.610Z"
   },
   {
    "duration": 6,
    "start_time": "2022-01-27T10:02:59.968Z"
   },
   {
    "duration": 1501,
    "start_time": "2022-01-27T12:41:40.754Z"
   },
   {
    "duration": 525,
    "start_time": "2022-01-27T12:41:42.258Z"
   },
   {
    "duration": 15,
    "start_time": "2022-01-27T12:41:42.786Z"
   },
   {
    "duration": 27,
    "start_time": "2022-01-27T12:41:42.804Z"
   },
   {
    "duration": 61,
    "start_time": "2022-01-27T12:41:42.834Z"
   },
   {
    "duration": 20,
    "start_time": "2022-01-27T12:41:42.898Z"
   },
   {
    "duration": 12,
    "start_time": "2022-01-27T12:41:42.920Z"
   },
   {
    "duration": 52,
    "start_time": "2022-01-27T12:41:42.934Z"
   },
   {
    "duration": 31,
    "start_time": "2022-01-27T12:41:42.990Z"
   },
   {
    "duration": 17,
    "start_time": "2022-01-27T12:41:43.025Z"
   },
   {
    "duration": 10,
    "start_time": "2022-01-27T12:41:43.070Z"
   },
   {
    "duration": 23,
    "start_time": "2022-01-27T12:41:43.083Z"
   },
   {
    "duration": 26,
    "start_time": "2022-01-27T12:41:43.108Z"
   },
   {
    "duration": 42,
    "start_time": "2022-01-27T12:41:43.137Z"
   },
   {
    "duration": 13,
    "start_time": "2022-01-27T12:41:43.181Z"
   },
   {
    "duration": 15,
    "start_time": "2022-01-27T12:41:43.196Z"
   },
   {
    "duration": 20,
    "start_time": "2022-01-27T12:41:43.213Z"
   },
   {
    "duration": 33,
    "start_time": "2022-01-27T12:41:43.236Z"
   },
   {
    "duration": 10,
    "start_time": "2022-01-27T12:41:43.272Z"
   },
   {
    "duration": 13,
    "start_time": "2022-01-27T12:41:43.284Z"
   },
   {
    "duration": 22,
    "start_time": "2022-01-27T12:41:43.300Z"
   },
   {
    "duration": 57,
    "start_time": "2022-01-27T12:41:43.324Z"
   },
   {
    "duration": 18,
    "start_time": "2022-01-27T12:41:43.384Z"
   },
   {
    "duration": 10,
    "start_time": "2022-01-27T12:41:43.404Z"
   },
   {
    "duration": 16,
    "start_time": "2022-01-27T12:41:43.416Z"
   },
   {
    "duration": 165,
    "start_time": "2022-01-27T12:41:43.434Z"
   },
   {
    "duration": 107,
    "start_time": "2022-01-27T12:41:43.607Z"
   },
   {
    "duration": 63,
    "start_time": "2022-01-27T12:41:43.718Z"
   },
   {
    "duration": 8,
    "start_time": "2022-01-27T12:41:43.783Z"
   },
   {
    "duration": 12,
    "start_time": "2022-01-27T12:41:43.793Z"
   },
   {
    "duration": 8,
    "start_time": "2022-01-27T12:41:43.808Z"
   },
   {
    "duration": 59,
    "start_time": "2022-01-27T12:41:43.819Z"
   },
   {
    "duration": 9,
    "start_time": "2022-01-27T12:41:43.880Z"
   },
   {
    "duration": 25,
    "start_time": "2022-01-27T12:41:43.891Z"
   },
   {
    "duration": 18,
    "start_time": "2022-01-27T12:41:43.918Z"
   },
   {
    "duration": 73,
    "start_time": "2022-01-27T12:41:43.938Z"
   },
   {
    "duration": 18,
    "start_time": "2022-01-27T12:41:44.013Z"
   },
   {
    "duration": 10,
    "start_time": "2022-01-27T12:41:44.034Z"
   },
   {
    "duration": 13,
    "start_time": "2022-01-27T12:41:44.070Z"
   },
   {
    "duration": 13,
    "start_time": "2022-01-27T12:41:44.086Z"
   },
   {
    "duration": 76,
    "start_time": "2022-01-27T12:41:44.102Z"
   },
   {
    "duration": 59,
    "start_time": "2022-01-27T12:41:44.180Z"
   },
   {
    "duration": 32,
    "start_time": "2022-01-27T12:41:44.241Z"
   },
   {
    "duration": 36,
    "start_time": "2022-01-27T12:41:44.276Z"
   },
   {
    "duration": 7,
    "start_time": "2022-01-27T12:41:44.315Z"
   },
   {
    "duration": 51,
    "start_time": "2022-01-27T12:41:44.325Z"
   },
   {
    "duration": 320,
    "start_time": "2022-01-27T12:41:44.379Z"
   },
   {
    "duration": 24,
    "start_time": "2022-01-27T12:41:44.701Z"
   },
   {
    "duration": 12,
    "start_time": "2022-01-27T12:41:44.728Z"
   },
   {
    "duration": 28,
    "start_time": "2022-01-27T12:41:44.770Z"
   },
   {
    "duration": 71,
    "start_time": "2022-01-27T12:41:44.800Z"
   },
   {
    "duration": 15,
    "start_time": "2022-01-27T12:41:44.873Z"
   },
   {
    "duration": 35,
    "start_time": "2022-01-27T12:41:44.890Z"
   },
   {
    "duration": 50,
    "start_time": "2022-01-27T12:41:44.927Z"
   },
   {
    "duration": 218,
    "start_time": "2022-01-27T12:41:44.979Z"
   },
   {
    "duration": 13,
    "start_time": "2022-01-27T12:41:45.200Z"
   },
   {
    "duration": 14,
    "start_time": "2022-01-27T12:41:45.216Z"
   },
   {
    "duration": 46,
    "start_time": "2022-01-27T12:41:45.233Z"
   },
   {
    "duration": 36,
    "start_time": "2022-01-27T12:41:45.282Z"
   },
   {
    "duration": 76,
    "start_time": "2022-01-27T12:41:45.321Z"
   },
   {
    "duration": 37,
    "start_time": "2022-01-27T12:41:45.400Z"
   },
   {
    "duration": 42,
    "start_time": "2022-01-27T12:41:45.439Z"
   },
   {
    "duration": 239,
    "start_time": "2022-01-27T12:41:45.484Z"
   },
   {
    "duration": 15,
    "start_time": "2022-01-27T12:41:45.725Z"
   },
   {
    "duration": 34,
    "start_time": "2022-01-27T12:41:45.742Z"
   },
   {
    "duration": 44,
    "start_time": "2022-01-27T12:41:45.778Z"
   },
   {
    "duration": 73,
    "start_time": "2022-01-27T12:41:45.825Z"
   },
   {
    "duration": 241,
    "start_time": "2022-01-27T12:41:45.900Z"
   },
   {
    "duration": 288,
    "start_time": "2022-01-27T12:41:46.144Z"
   },
   {
    "duration": 272,
    "start_time": "2022-01-27T12:41:46.434Z"
   },
   {
    "duration": 27,
    "start_time": "2022-01-27T12:41:46.709Z"
   },
   {
    "duration": 33,
    "start_time": "2022-01-27T12:41:46.739Z"
   },
   {
    "duration": 9,
    "start_time": "2022-01-27T12:41:46.774Z"
   },
   {
    "duration": 8,
    "start_time": "2022-01-27T12:41:46.785Z"
   },
   {
    "duration": 10,
    "start_time": "2022-01-27T12:41:46.795Z"
   },
   {
    "duration": 416,
    "start_time": "2022-01-27T12:41:46.807Z"
   },
   {
    "duration": 5,
    "start_time": "2022-01-27T12:41:47.226Z"
   },
   {
    "duration": 45,
    "start_time": "2022-01-27T12:41:47.233Z"
   },
   {
    "duration": 17,
    "start_time": "2022-01-27T12:41:47.280Z"
   },
   {
    "duration": 11,
    "start_time": "2022-01-27T12:41:47.299Z"
   },
   {
    "duration": 8,
    "start_time": "2022-01-27T12:41:47.319Z"
   },
   {
    "duration": 40,
    "start_time": "2022-01-27T12:41:47.330Z"
   },
   {
    "duration": 407,
    "start_time": "2022-01-27T12:41:47.373Z"
   },
   {
    "duration": 6,
    "start_time": "2022-01-27T12:41:47.782Z"
   },
   {
    "duration": 10,
    "start_time": "2022-01-27T12:41:47.790Z"
   },
   {
    "duration": 12,
    "start_time": "2022-01-27T12:41:47.802Z"
   },
   {
    "duration": 8,
    "start_time": "2022-01-27T12:41:47.816Z"
   },
   {
    "duration": 49,
    "start_time": "2022-01-27T12:41:47.826Z"
   },
   {
    "duration": 363,
    "start_time": "2022-01-27T12:41:47.877Z"
   },
   {
    "duration": 5,
    "start_time": "2022-01-27T12:41:48.242Z"
   },
   {
    "duration": 40,
    "start_time": "2022-01-27T12:41:48.250Z"
   },
   {
    "duration": 8,
    "start_time": "2022-01-27T12:41:48.293Z"
   },
   {
    "duration": 12,
    "start_time": "2022-01-27T12:41:48.303Z"
   },
   {
    "duration": 10,
    "start_time": "2022-01-27T12:41:48.317Z"
   },
   {
    "duration": 45,
    "start_time": "2022-01-27T12:41:48.329Z"
   },
   {
    "duration": 333,
    "start_time": "2022-01-27T12:41:48.377Z"
   },
   {
    "duration": 10,
    "start_time": "2022-01-27T12:41:48.712Z"
   },
   {
    "duration": 12,
    "start_time": "2022-01-27T12:41:48.725Z"
   },
   {
    "duration": 35,
    "start_time": "2022-01-27T12:41:48.739Z"
   },
   {
    "duration": 10,
    "start_time": "2022-01-27T12:41:48.777Z"
   },
   {
    "duration": 386,
    "start_time": "2022-01-27T12:41:48.790Z"
   },
   {
    "duration": 8,
    "start_time": "2022-01-27T12:41:49.179Z"
   },
   {
    "duration": 14,
    "start_time": "2022-01-27T12:41:49.190Z"
   },
   {
    "duration": 8,
    "start_time": "2022-01-27T12:41:49.206Z"
   },
   {
    "duration": 11,
    "start_time": "2022-01-27T12:41:49.217Z"
   },
   {
    "duration": 388,
    "start_time": "2022-01-27T12:41:49.230Z"
   },
   {
    "duration": 9,
    "start_time": "2022-01-27T12:41:49.620Z"
   },
   {
    "duration": 14,
    "start_time": "2022-01-27T12:41:49.631Z"
   },
   {
    "duration": 26,
    "start_time": "2022-01-27T12:41:49.647Z"
   },
   {
    "duration": 11,
    "start_time": "2022-01-27T12:41:49.676Z"
   },
   {
    "duration": 485,
    "start_time": "2022-01-27T12:41:49.689Z"
   },
   {
    "duration": 10,
    "start_time": "2022-01-27T12:42:46.853Z"
   },
   {
    "duration": 9,
    "start_time": "2022-01-27T12:43:22.679Z"
   },
   {
    "duration": 9,
    "start_time": "2022-01-27T12:43:50.974Z"
   },
   {
    "duration": 6,
    "start_time": "2022-01-27T12:44:56.592Z"
   },
   {
    "duration": 101,
    "start_time": "2022-01-27T12:46:35.154Z"
   },
   {
    "duration": 8,
    "start_time": "2022-01-27T12:47:18.194Z"
   },
   {
    "duration": 10,
    "start_time": "2022-01-27T12:47:53.954Z"
   },
   {
    "duration": 8,
    "start_time": "2022-01-27T12:48:26.475Z"
   },
   {
    "duration": 9,
    "start_time": "2022-01-27T12:48:51.394Z"
   },
   {
    "duration": 6,
    "start_time": "2022-01-27T12:50:14.735Z"
   },
   {
    "duration": 5,
    "start_time": "2022-01-27T12:50:44.815Z"
   },
   {
    "duration": 570,
    "start_time": "2022-01-27T12:51:52.515Z"
   },
   {
    "duration": 298,
    "start_time": "2022-01-27T12:51:59.654Z"
   },
   {
    "duration": 7,
    "start_time": "2022-01-27T12:52:22.483Z"
   },
   {
    "duration": 85,
    "start_time": "2022-01-27T12:53:52.082Z"
   },
   {
    "duration": 5,
    "start_time": "2022-01-27T12:54:43.981Z"
   },
   {
    "duration": 11,
    "start_time": "2022-01-27T12:56:07.715Z"
   },
   {
    "duration": 13,
    "start_time": "2022-01-27T12:56:20.255Z"
   },
   {
    "duration": 8,
    "start_time": "2022-01-27T12:56:31.672Z"
   },
   {
    "duration": 9,
    "start_time": "2022-01-27T12:56:41.014Z"
   },
   {
    "duration": 308,
    "start_time": "2022-01-27T12:57:12.682Z"
   },
   {
    "duration": 6,
    "start_time": "2022-01-27T12:58:08.073Z"
   },
   {
    "duration": 6,
    "start_time": "2022-01-27T12:58:36.513Z"
   },
   {
    "duration": 6,
    "start_time": "2022-01-27T12:58:57.478Z"
   },
   {
    "duration": 7,
    "start_time": "2022-01-27T12:59:18.287Z"
   },
   {
    "duration": 7,
    "start_time": "2022-01-27T12:59:32.402Z"
   },
   {
    "duration": 5,
    "start_time": "2022-01-27T12:59:44.618Z"
   },
   {
    "duration": 5,
    "start_time": "2022-01-27T13:00:17.932Z"
   },
   {
    "duration": 9,
    "start_time": "2022-01-27T13:01:25.554Z"
   },
   {
    "duration": 9,
    "start_time": "2022-01-27T13:01:50.041Z"
   },
   {
    "duration": 10,
    "start_time": "2022-01-27T13:02:16.633Z"
   },
   {
    "duration": 9,
    "start_time": "2022-01-27T13:02:45.319Z"
   },
   {
    "duration": 6,
    "start_time": "2022-01-27T13:04:20.492Z"
   },
   {
    "duration": 5,
    "start_time": "2022-01-27T13:04:53.441Z"
   },
   {
    "duration": 8,
    "start_time": "2022-01-27T13:08:27.343Z"
   },
   {
    "duration": 9,
    "start_time": "2022-01-27T13:08:55.292Z"
   },
   {
    "duration": 9,
    "start_time": "2022-01-27T13:09:32.453Z"
   },
   {
    "duration": 9,
    "start_time": "2022-01-27T13:09:57.121Z"
   },
   {
    "duration": 5,
    "start_time": "2022-01-27T13:11:48.613Z"
   },
   {
    "duration": 6,
    "start_time": "2022-01-27T13:11:49.873Z"
   },
   {
    "duration": 975,
    "start_time": "2022-01-27T13:12:39.092Z"
   },
   {
    "duration": 10,
    "start_time": "2022-01-27T13:13:37.156Z"
   },
   {
    "duration": 10,
    "start_time": "2022-01-27T13:14:09.789Z"
   },
   {
    "duration": 10,
    "start_time": "2022-01-27T13:14:37.072Z"
   },
   {
    "duration": 10,
    "start_time": "2022-01-27T13:15:03.396Z"
   },
   {
    "duration": 5,
    "start_time": "2022-01-27T13:18:23.193Z"
   },
   {
    "duration": 6,
    "start_time": "2022-01-27T13:18:24.113Z"
   },
   {
    "duration": 9,
    "start_time": "2022-01-27T13:23:41.442Z"
   },
   {
    "duration": 9,
    "start_time": "2022-01-27T13:24:02.953Z"
   },
   {
    "duration": 8,
    "start_time": "2022-01-27T13:25:39.782Z"
   },
   {
    "duration": 10,
    "start_time": "2022-01-27T13:25:40.675Z"
   },
   {
    "duration": 305,
    "start_time": "2022-01-27T13:25:58.312Z"
   },
   {
    "duration": 6,
    "start_time": "2022-01-27T13:26:25.887Z"
   },
   {
    "duration": 6,
    "start_time": "2022-01-27T13:26:42.721Z"
   },
   {
    "duration": 101,
    "start_time": "2022-01-27T13:27:43.952Z"
   },
   {
    "duration": 410,
    "start_time": "2022-01-27T13:30:53.205Z"
   },
   {
    "duration": 19,
    "start_time": "2022-01-27T14:41:55.527Z"
   },
   {
    "duration": 29,
    "start_time": "2022-01-27T14:42:46.714Z"
   },
   {
    "duration": 24,
    "start_time": "2022-01-27T14:47:58.366Z"
   },
   {
    "duration": 2248,
    "start_time": "2022-01-27T14:48:40.237Z"
   },
   {
    "duration": 12,
    "start_time": "2022-01-27T14:49:23.037Z"
   },
   {
    "duration": 283,
    "start_time": "2022-01-27T14:50:06.242Z"
   },
   {
    "duration": 726,
    "start_time": "2022-01-27T14:50:49.706Z"
   },
   {
    "duration": 151,
    "start_time": "2022-01-27T14:50:50.283Z"
   },
   {
    "duration": 294,
    "start_time": "2022-01-27T14:50:51.117Z"
   },
   {
    "duration": 13,
    "start_time": "2022-01-27T14:51:00.128Z"
   },
   {
    "duration": 20,
    "start_time": "2022-01-27T14:51:23.527Z"
   },
   {
    "duration": 269,
    "start_time": "2022-01-27T14:51:24.936Z"
   },
   {
    "duration": 99,
    "start_time": "2022-01-27T14:56:47.024Z"
   },
   {
    "duration": 8830,
    "start_time": "2022-01-27T14:57:05.959Z"
   },
   {
    "duration": 5,
    "start_time": "2022-01-27T14:59:00.195Z"
   },
   {
    "duration": 5,
    "start_time": "2022-01-27T14:59:18.806Z"
   },
   {
    "duration": 5,
    "start_time": "2022-01-27T14:59:34.196Z"
   },
   {
    "duration": 6,
    "start_time": "2022-01-27T14:59:35.186Z"
   },
   {
    "duration": 6,
    "start_time": "2022-01-27T15:00:08.156Z"
   },
   {
    "duration": 5,
    "start_time": "2022-01-27T17:25:29.361Z"
   },
   {
    "duration": 5,
    "start_time": "2022-01-27T17:30:23.580Z"
   },
   {
    "duration": 858,
    "start_time": "2022-01-27T17:33:24.343Z"
   },
   {
    "duration": 1543,
    "start_time": "2022-01-27T17:33:38.764Z"
   },
   {
    "duration": 515,
    "start_time": "2022-01-27T17:33:40.310Z"
   },
   {
    "duration": 19,
    "start_time": "2022-01-27T17:33:40.828Z"
   },
   {
    "duration": 31,
    "start_time": "2022-01-27T17:33:40.850Z"
   },
   {
    "duration": 47,
    "start_time": "2022-01-27T17:33:40.884Z"
   },
   {
    "duration": 47,
    "start_time": "2022-01-27T17:33:40.934Z"
   },
   {
    "duration": 13,
    "start_time": "2022-01-27T17:33:40.984Z"
   },
   {
    "duration": 25,
    "start_time": "2022-01-27T17:33:41.003Z"
   },
   {
    "duration": 68,
    "start_time": "2022-01-27T17:33:41.032Z"
   },
   {
    "duration": 20,
    "start_time": "2022-01-27T17:33:41.102Z"
   },
   {
    "duration": 43,
    "start_time": "2022-01-27T17:33:41.125Z"
   },
   {
    "duration": 21,
    "start_time": "2022-01-27T17:33:41.172Z"
   },
   {
    "duration": 29,
    "start_time": "2022-01-27T17:33:41.196Z"
   },
   {
    "duration": 53,
    "start_time": "2022-01-27T17:33:41.228Z"
   },
   {
    "duration": 12,
    "start_time": "2022-01-27T17:33:41.285Z"
   },
   {
    "duration": 12,
    "start_time": "2022-01-27T17:33:41.300Z"
   },
   {
    "duration": 16,
    "start_time": "2022-01-27T17:33:41.314Z"
   },
   {
    "duration": 16,
    "start_time": "2022-01-27T17:33:41.369Z"
   },
   {
    "duration": 10,
    "start_time": "2022-01-27T17:33:41.387Z"
   },
   {
    "duration": 10,
    "start_time": "2022-01-27T17:33:41.399Z"
   },
   {
    "duration": 24,
    "start_time": "2022-01-27T17:33:41.411Z"
   },
   {
    "duration": 44,
    "start_time": "2022-01-27T17:33:41.437Z"
   },
   {
    "duration": 14,
    "start_time": "2022-01-27T17:33:41.487Z"
   },
   {
    "duration": 9,
    "start_time": "2022-01-27T17:33:41.504Z"
   },
   {
    "duration": 8,
    "start_time": "2022-01-27T17:33:41.516Z"
   },
   {
    "duration": 139,
    "start_time": "2022-01-27T17:33:41.571Z"
   },
   {
    "duration": 113,
    "start_time": "2022-01-27T17:33:41.713Z"
   },
   {
    "duration": 73,
    "start_time": "2022-01-27T17:33:41.829Z"
   },
   {
    "duration": 8,
    "start_time": "2022-01-27T17:33:41.905Z"
   },
   {
    "duration": 11,
    "start_time": "2022-01-27T17:33:41.916Z"
   },
   {
    "duration": 45,
    "start_time": "2022-01-27T17:33:41.930Z"
   },
   {
    "duration": 13,
    "start_time": "2022-01-27T17:33:41.978Z"
   },
   {
    "duration": 9,
    "start_time": "2022-01-27T17:33:41.993Z"
   },
   {
    "duration": 25,
    "start_time": "2022-01-27T17:33:42.004Z"
   },
   {
    "duration": 50,
    "start_time": "2022-01-27T17:33:42.031Z"
   },
   {
    "duration": 41,
    "start_time": "2022-01-27T17:33:42.083Z"
   },
   {
    "duration": 10,
    "start_time": "2022-01-27T17:33:42.126Z"
   },
   {
    "duration": 10,
    "start_time": "2022-01-27T17:33:42.170Z"
   },
   {
    "duration": 14,
    "start_time": "2022-01-27T17:33:42.182Z"
   },
   {
    "duration": 11,
    "start_time": "2022-01-27T17:33:42.199Z"
   },
   {
    "duration": 84,
    "start_time": "2022-01-27T17:33:42.213Z"
   },
   {
    "duration": 75,
    "start_time": "2022-01-27T17:33:42.300Z"
   },
   {
    "duration": 17,
    "start_time": "2022-01-27T17:33:42.378Z"
   },
   {
    "duration": 42,
    "start_time": "2022-01-27T17:33:42.398Z"
   },
   {
    "duration": 32,
    "start_time": "2022-01-27T17:33:42.443Z"
   },
   {
    "duration": 18,
    "start_time": "2022-01-27T17:33:42.478Z"
   },
   {
    "duration": 254,
    "start_time": "2022-01-27T17:33:42.499Z"
   },
   {
    "duration": 28,
    "start_time": "2022-01-27T17:33:42.755Z"
   },
   {
    "duration": 10,
    "start_time": "2022-01-27T17:33:42.786Z"
   },
   {
    "duration": 29,
    "start_time": "2022-01-27T17:33:42.799Z"
   },
   {
    "duration": 88,
    "start_time": "2022-01-27T17:33:42.830Z"
   },
   {
    "duration": 16,
    "start_time": "2022-01-27T17:33:42.921Z"
   },
   {
    "duration": 58,
    "start_time": "2022-01-27T17:33:42.939Z"
   },
   {
    "duration": 21,
    "start_time": "2022-01-27T17:33:42.999Z"
   },
   {
    "duration": 215,
    "start_time": "2022-01-27T17:33:43.023Z"
   },
   {
    "duration": 29,
    "start_time": "2022-01-27T17:33:43.240Z"
   },
   {
    "duration": 13,
    "start_time": "2022-01-27T17:33:43.271Z"
   },
   {
    "duration": 12,
    "start_time": "2022-01-27T17:33:43.287Z"
   },
   {
    "duration": 34,
    "start_time": "2022-01-27T17:33:43.301Z"
   },
   {
    "duration": 75,
    "start_time": "2022-01-27T17:33:43.337Z"
   },
   {
    "duration": 57,
    "start_time": "2022-01-27T17:33:43.414Z"
   },
   {
    "duration": 23,
    "start_time": "2022-01-27T17:33:43.473Z"
   },
   {
    "duration": 249,
    "start_time": "2022-01-27T17:33:43.498Z"
   },
   {
    "duration": 22,
    "start_time": "2022-01-27T17:33:43.750Z"
   },
   {
    "duration": 13,
    "start_time": "2022-01-27T17:33:43.774Z"
   },
   {
    "duration": 43,
    "start_time": "2022-01-27T17:33:43.789Z"
   },
   {
    "duration": 77,
    "start_time": "2022-01-27T17:33:43.834Z"
   },
   {
    "duration": 259,
    "start_time": "2022-01-27T17:33:43.920Z"
   },
   {
    "duration": 19,
    "start_time": "2022-01-27T17:33:44.183Z"
   },
   {
    "duration": 293,
    "start_time": "2022-01-27T17:33:44.205Z"
   },
   {
    "duration": 5,
    "start_time": "2022-01-27T17:33:44.501Z"
   },
   {
    "duration": 8,
    "start_time": "2022-01-27T17:33:44.509Z"
   },
   {
    "duration": 63,
    "start_time": "2022-01-27T17:33:44.520Z"
   },
   {
    "duration": 9,
    "start_time": "2022-01-27T17:33:44.585Z"
   },
   {
    "duration": 15,
    "start_time": "2022-01-27T17:33:44.596Z"
   },
   {
    "duration": 9,
    "start_time": "2022-01-27T17:33:44.613Z"
   },
   {
    "duration": 47,
    "start_time": "2022-01-27T17:33:44.624Z"
   },
   {
    "duration": 372,
    "start_time": "2022-01-27T17:33:44.673Z"
   },
   {
    "duration": 5,
    "start_time": "2022-01-27T17:33:45.048Z"
   },
   {
    "duration": 5,
    "start_time": "2022-01-27T17:33:45.070Z"
   },
   {
    "duration": 31,
    "start_time": "2022-01-27T17:33:45.077Z"
   },
   {
    "duration": 9,
    "start_time": "2022-01-27T17:33:45.110Z"
   },
   {
    "duration": 10,
    "start_time": "2022-01-27T17:33:45.122Z"
   },
   {
    "duration": 41,
    "start_time": "2022-01-27T17:33:45.135Z"
   },
   {
    "duration": 9,
    "start_time": "2022-01-27T17:33:45.178Z"
   },
   {
    "duration": 343,
    "start_time": "2022-01-27T17:33:45.189Z"
   },
   {
    "duration": 5,
    "start_time": "2022-01-27T17:33:45.535Z"
   },
   {
    "duration": 28,
    "start_time": "2022-01-27T17:33:45.543Z"
   },
   {
    "duration": 11,
    "start_time": "2022-01-27T17:33:45.574Z"
   },
   {
    "duration": 10,
    "start_time": "2022-01-27T17:33:45.588Z"
   },
   {
    "duration": 12,
    "start_time": "2022-01-27T17:33:45.601Z"
   },
   {
    "duration": 58,
    "start_time": "2022-01-27T17:33:45.617Z"
   },
   {
    "duration": 603,
    "start_time": "2022-01-27T17:33:45.678Z"
   },
   {
    "duration": 7,
    "start_time": "2022-01-27T17:33:46.284Z"
   },
   {
    "duration": 9,
    "start_time": "2022-01-27T17:33:46.294Z"
   },
   {
    "duration": 66,
    "start_time": "2022-01-27T17:33:46.306Z"
   },
   {
    "duration": 10,
    "start_time": "2022-01-27T17:33:46.374Z"
   },
   {
    "duration": 11,
    "start_time": "2022-01-27T17:33:46.387Z"
   },
   {
    "duration": 7,
    "start_time": "2022-01-27T17:33:46.400Z"
   },
   {
    "duration": 10,
    "start_time": "2022-01-27T17:33:46.410Z"
   },
   {
    "duration": 362,
    "start_time": "2022-01-27T17:33:46.423Z"
   },
   {
    "duration": 5,
    "start_time": "2022-01-27T17:33:46.787Z"
   },
   {
    "duration": 6,
    "start_time": "2022-01-27T17:33:46.794Z"
   },
   {
    "duration": 9,
    "start_time": "2022-01-27T17:33:46.802Z"
   },
   {
    "duration": 9,
    "start_time": "2022-01-27T17:33:46.814Z"
   },
   {
    "duration": 50,
    "start_time": "2022-01-27T17:33:46.826Z"
   },
   {
    "duration": 9,
    "start_time": "2022-01-27T17:33:46.879Z"
   },
   {
    "duration": 394,
    "start_time": "2022-01-27T17:33:46.890Z"
   },
   {
    "duration": 5,
    "start_time": "2022-01-27T17:33:47.287Z"
   },
   {
    "duration": 10,
    "start_time": "2022-01-27T17:33:47.295Z"
   },
   {
    "duration": 10,
    "start_time": "2022-01-27T17:33:47.307Z"
   },
   {
    "duration": 50,
    "start_time": "2022-01-27T17:33:47.319Z"
   },
   {
    "duration": 8,
    "start_time": "2022-01-27T17:33:47.372Z"
   },
   {
    "duration": 10,
    "start_time": "2022-01-27T17:33:47.382Z"
   },
   {
    "duration": 376,
    "start_time": "2022-01-27T17:33:47.394Z"
   },
   {
    "duration": 6,
    "start_time": "2022-01-27T17:33:47.772Z"
   },
   {
    "duration": 9,
    "start_time": "2022-01-27T17:33:47.780Z"
   },
   {
    "duration": 12,
    "start_time": "2022-01-27T17:33:47.792Z"
   },
   {
    "duration": 8,
    "start_time": "2022-01-27T17:33:47.806Z"
   },
   {
    "duration": 55,
    "start_time": "2022-01-27T17:33:47.816Z"
   },
   {
    "duration": 10,
    "start_time": "2022-01-27T17:33:47.875Z"
   },
   {
    "duration": 391,
    "start_time": "2022-01-27T17:33:47.887Z"
   },
   {
    "duration": 5,
    "start_time": "2022-01-27T17:33:48.281Z"
   },
   {
    "duration": 13,
    "start_time": "2022-01-27T17:33:48.289Z"
   },
   {
    "duration": 13,
    "start_time": "2022-01-27T17:33:48.305Z"
   },
   {
    "duration": 10,
    "start_time": "2022-01-27T17:33:48.321Z"
   },
   {
    "duration": 37,
    "start_time": "2022-01-27T17:33:48.334Z"
   },
   {
    "duration": 17,
    "start_time": "2022-01-27T17:33:48.374Z"
   },
   {
    "duration": 323,
    "start_time": "2022-01-27T17:33:48.393Z"
   },
   {
    "duration": 5,
    "start_time": "2022-01-27T17:33:48.719Z"
   },
   {
    "duration": 7,
    "start_time": "2022-01-27T17:33:48.726Z"
   },
   {
    "duration": 36,
    "start_time": "2022-01-27T17:33:48.736Z"
   },
   {
    "duration": 883,
    "start_time": "2022-01-27T17:33:48.775Z"
   },
   {
    "duration": 8,
    "start_time": "2022-01-27T17:34:37.457Z"
   },
   {
    "duration": 29,
    "start_time": "2022-01-27T18:00:54.394Z"
   },
   {
    "duration": 39,
    "start_time": "2022-01-27T18:01:33.445Z"
   },
   {
    "duration": 30,
    "start_time": "2022-01-27T18:02:02.072Z"
   },
   {
    "duration": 761,
    "start_time": "2022-01-27T18:03:41.948Z"
   },
   {
    "duration": 7,
    "start_time": "2022-01-27T18:04:25.196Z"
   },
   {
    "duration": 1594,
    "start_time": "2022-01-27T18:04:40.856Z"
   },
   {
    "duration": 524,
    "start_time": "2022-01-27T18:04:42.453Z"
   },
   {
    "duration": 16,
    "start_time": "2022-01-27T18:04:42.979Z"
   },
   {
    "duration": 27,
    "start_time": "2022-01-27T18:04:42.997Z"
   },
   {
    "duration": 67,
    "start_time": "2022-01-27T18:04:43.027Z"
   },
   {
    "duration": 18,
    "start_time": "2022-01-27T18:04:43.097Z"
   },
   {
    "duration": 12,
    "start_time": "2022-01-27T18:04:43.117Z"
   },
   {
    "duration": 51,
    "start_time": "2022-01-27T18:04:43.133Z"
   },
   {
    "duration": 32,
    "start_time": "2022-01-27T18:04:43.188Z"
   },
   {
    "duration": 16,
    "start_time": "2022-01-27T18:04:43.222Z"
   },
   {
    "duration": 35,
    "start_time": "2022-01-27T18:04:43.241Z"
   },
   {
    "duration": 20,
    "start_time": "2022-01-27T18:04:43.279Z"
   },
   {
    "duration": 31,
    "start_time": "2022-01-27T18:04:43.301Z"
   },
   {
    "duration": 42,
    "start_time": "2022-01-27T18:04:43.335Z"
   },
   {
    "duration": 11,
    "start_time": "2022-01-27T18:04:43.380Z"
   },
   {
    "duration": 10,
    "start_time": "2022-01-27T18:04:43.394Z"
   },
   {
    "duration": 14,
    "start_time": "2022-01-27T18:04:43.407Z"
   },
   {
    "duration": 52,
    "start_time": "2022-01-27T18:04:43.423Z"
   },
   {
    "duration": 9,
    "start_time": "2022-01-27T18:04:43.477Z"
   },
   {
    "duration": 11,
    "start_time": "2022-01-27T18:04:43.488Z"
   },
   {
    "duration": 18,
    "start_time": "2022-01-27T18:04:43.501Z"
   },
   {
    "duration": 54,
    "start_time": "2022-01-27T18:04:43.522Z"
   },
   {
    "duration": 14,
    "start_time": "2022-01-27T18:04:43.582Z"
   },
   {
    "duration": 8,
    "start_time": "2022-01-27T18:04:43.600Z"
   },
   {
    "duration": 9,
    "start_time": "2022-01-27T18:04:43.610Z"
   },
   {
    "duration": 162,
    "start_time": "2022-01-27T18:04:43.621Z"
   },
   {
    "duration": 104,
    "start_time": "2022-01-27T18:04:43.786Z"
   },
   {
    "duration": 54,
    "start_time": "2022-01-27T18:04:43.892Z"
   },
   {
    "duration": 24,
    "start_time": "2022-01-27T18:04:43.949Z"
   },
   {
    "duration": 9,
    "start_time": "2022-01-27T18:04:43.976Z"
   },
   {
    "duration": 11,
    "start_time": "2022-01-27T18:04:43.987Z"
   },
   {
    "duration": 14,
    "start_time": "2022-01-27T18:04:44.000Z"
   },
   {
    "duration": 7,
    "start_time": "2022-01-27T18:04:44.017Z"
   },
   {
    "duration": 63,
    "start_time": "2022-01-27T18:04:44.027Z"
   },
   {
    "duration": 17,
    "start_time": "2022-01-27T18:04:44.092Z"
   },
   {
    "duration": 76,
    "start_time": "2022-01-27T18:04:44.111Z"
   },
   {
    "duration": 15,
    "start_time": "2022-01-27T18:04:44.190Z"
   },
   {
    "duration": 10,
    "start_time": "2022-01-27T18:04:44.207Z"
   },
   {
    "duration": 14,
    "start_time": "2022-01-27T18:04:44.220Z"
   },
   {
    "duration": 12,
    "start_time": "2022-01-27T18:04:44.270Z"
   },
   {
    "duration": 44,
    "start_time": "2022-01-27T18:04:44.285Z"
   },
   {
    "duration": 85,
    "start_time": "2022-01-27T18:04:44.332Z"
   },
   {
    "duration": 23,
    "start_time": "2022-01-27T18:04:44.419Z"
   },
   {
    "duration": 61,
    "start_time": "2022-01-27T18:04:44.446Z"
   },
   {
    "duration": 8,
    "start_time": "2022-01-27T18:04:44.509Z"
   },
   {
    "duration": 54,
    "start_time": "2022-01-27T18:04:44.520Z"
   },
   {
    "duration": 382,
    "start_time": "2022-01-27T18:04:44.577Z"
   },
   {
    "duration": 24,
    "start_time": "2022-01-27T18:04:44.969Z"
   },
   {
    "duration": 13,
    "start_time": "2022-01-27T18:04:44.996Z"
   },
   {
    "duration": 57,
    "start_time": "2022-01-27T18:04:45.012Z"
   },
   {
    "duration": 54,
    "start_time": "2022-01-27T18:04:45.072Z"
   },
   {
    "duration": 41,
    "start_time": "2022-01-27T18:04:45.129Z"
   },
   {
    "duration": 36,
    "start_time": "2022-01-27T18:04:45.172Z"
   },
   {
    "duration": 24,
    "start_time": "2022-01-27T18:04:45.211Z"
   },
   {
    "duration": 337,
    "start_time": "2022-01-27T18:04:45.270Z"
   },
   {
    "duration": 12,
    "start_time": "2022-01-27T18:04:45.610Z"
   },
   {
    "duration": 14,
    "start_time": "2022-01-27T18:04:45.625Z"
   },
   {
    "duration": 37,
    "start_time": "2022-01-27T18:04:45.641Z"
   },
   {
    "duration": 36,
    "start_time": "2022-01-27T18:04:45.680Z"
   },
   {
    "duration": 73,
    "start_time": "2022-01-27T18:04:45.719Z"
   },
   {
    "duration": 34,
    "start_time": "2022-01-27T18:04:45.794Z"
   },
   {
    "duration": 46,
    "start_time": "2022-01-27T18:04:45.830Z"
   },
   {
    "duration": 233,
    "start_time": "2022-01-27T18:04:45.879Z"
   },
   {
    "duration": 15,
    "start_time": "2022-01-27T18:04:46.115Z"
   },
   {
    "duration": 38,
    "start_time": "2022-01-27T18:04:46.133Z"
   },
   {
    "duration": 46,
    "start_time": "2022-01-27T18:04:46.174Z"
   },
   {
    "duration": 102,
    "start_time": "2022-01-27T18:04:46.223Z"
   },
   {
    "duration": 446,
    "start_time": "2022-01-27T18:04:46.342Z"
   },
   {
    "duration": 30,
    "start_time": "2022-01-27T18:04:46.795Z"
   },
   {
    "duration": 431,
    "start_time": "2022-01-27T18:04:46.828Z"
   },
   {
    "duration": 12,
    "start_time": "2022-01-27T18:04:47.262Z"
   },
   {
    "duration": 6,
    "start_time": "2022-01-27T18:04:47.277Z"
   },
   {
    "duration": 28,
    "start_time": "2022-01-27T18:04:47.286Z"
   },
   {
    "duration": 9,
    "start_time": "2022-01-27T18:04:47.317Z"
   },
   {
    "duration": 46,
    "start_time": "2022-01-27T18:04:47.329Z"
   },
   {
    "duration": 8,
    "start_time": "2022-01-27T18:04:47.378Z"
   },
   {
    "duration": 9,
    "start_time": "2022-01-27T18:04:47.388Z"
   },
   {
    "duration": 399,
    "start_time": "2022-01-27T18:04:47.399Z"
   },
   {
    "duration": 5,
    "start_time": "2022-01-27T18:04:47.801Z"
   },
   {
    "duration": 9,
    "start_time": "2022-01-27T18:04:47.808Z"
   },
   {
    "duration": 52,
    "start_time": "2022-01-27T18:04:47.820Z"
   },
   {
    "duration": 11,
    "start_time": "2022-01-27T18:04:47.875Z"
   },
   {
    "duration": 12,
    "start_time": "2022-01-27T18:04:47.888Z"
   },
   {
    "duration": 9,
    "start_time": "2022-01-27T18:04:47.902Z"
   },
   {
    "duration": 11,
    "start_time": "2022-01-27T18:04:47.913Z"
   },
   {
    "duration": 355,
    "start_time": "2022-01-27T18:04:47.926Z"
   },
   {
    "duration": 6,
    "start_time": "2022-01-27T18:04:48.284Z"
   },
   {
    "duration": 8,
    "start_time": "2022-01-27T18:04:48.292Z"
   },
   {
    "duration": 9,
    "start_time": "2022-01-27T18:04:48.302Z"
   },
   {
    "duration": 9,
    "start_time": "2022-01-27T18:04:48.314Z"
   },
   {
    "duration": 13,
    "start_time": "2022-01-27T18:04:48.371Z"
   },
   {
    "duration": 11,
    "start_time": "2022-01-27T18:04:48.388Z"
   },
   {
    "duration": 678,
    "start_time": "2022-01-27T18:04:48.402Z"
   },
   {
    "duration": 5,
    "start_time": "2022-01-27T18:04:49.083Z"
   },
   {
    "duration": 7,
    "start_time": "2022-01-27T18:04:49.091Z"
   },
   {
    "duration": 29,
    "start_time": "2022-01-27T18:04:49.100Z"
   },
   {
    "duration": 46,
    "start_time": "2022-01-27T18:04:49.132Z"
   },
   {
    "duration": 10,
    "start_time": "2022-01-27T18:04:49.181Z"
   },
   {
    "duration": 10,
    "start_time": "2022-01-27T18:04:49.194Z"
   },
   {
    "duration": 10,
    "start_time": "2022-01-27T18:04:49.207Z"
   },
   {
    "duration": 514,
    "start_time": "2022-01-27T18:04:49.220Z"
   },
   {
    "duration": 5,
    "start_time": "2022-01-27T18:04:49.737Z"
   },
   {
    "duration": 26,
    "start_time": "2022-01-27T18:04:49.744Z"
   },
   {
    "duration": 8,
    "start_time": "2022-01-27T18:04:49.773Z"
   },
   {
    "duration": 8,
    "start_time": "2022-01-27T18:04:49.784Z"
   },
   {
    "duration": 11,
    "start_time": "2022-01-27T18:04:49.794Z"
   },
   {
    "duration": 15,
    "start_time": "2022-01-27T18:04:49.807Z"
   },
   {
    "duration": 394,
    "start_time": "2022-01-27T18:04:49.825Z"
   },
   {
    "duration": 5,
    "start_time": "2022-01-27T18:04:50.222Z"
   },
   {
    "duration": 13,
    "start_time": "2022-01-27T18:04:50.231Z"
   },
   {
    "duration": 11,
    "start_time": "2022-01-27T18:04:50.270Z"
   },
   {
    "duration": 10,
    "start_time": "2022-01-27T18:04:50.284Z"
   },
   {
    "duration": 12,
    "start_time": "2022-01-27T18:04:50.296Z"
   },
   {
    "duration": 10,
    "start_time": "2022-01-27T18:04:50.310Z"
   },
   {
    "duration": 479,
    "start_time": "2022-01-27T18:04:50.322Z"
   },
   {
    "duration": 7,
    "start_time": "2022-01-27T18:04:50.803Z"
   },
   {
    "duration": 10,
    "start_time": "2022-01-27T18:04:50.813Z"
   },
   {
    "duration": 11,
    "start_time": "2022-01-27T18:04:50.825Z"
   },
   {
    "duration": 14,
    "start_time": "2022-01-27T18:04:50.871Z"
   },
   {
    "duration": 13,
    "start_time": "2022-01-27T18:04:50.888Z"
   },
   {
    "duration": 13,
    "start_time": "2022-01-27T18:04:50.904Z"
   },
   {
    "duration": 620,
    "start_time": "2022-01-27T18:04:50.921Z"
   },
   {
    "duration": 8,
    "start_time": "2022-01-27T18:04:51.545Z"
   },
   {
    "duration": 7,
    "start_time": "2022-01-27T18:04:51.571Z"
   },
   {
    "duration": 11,
    "start_time": "2022-01-27T18:04:51.581Z"
   },
   {
    "duration": 11,
    "start_time": "2022-01-27T18:04:51.596Z"
   },
   {
    "duration": 11,
    "start_time": "2022-01-27T18:04:51.611Z"
   },
   {
    "duration": 53,
    "start_time": "2022-01-27T18:04:51.625Z"
   },
   {
    "duration": 338,
    "start_time": "2022-01-27T18:04:51.681Z"
   },
   {
    "duration": 6,
    "start_time": "2022-01-27T18:04:52.022Z"
   },
   {
    "duration": 11,
    "start_time": "2022-01-27T18:04:52.030Z"
   },
   {
    "duration": 53,
    "start_time": "2022-01-27T18:04:52.043Z"
   },
   {
    "duration": 29,
    "start_time": "2022-01-27T18:04:52.099Z"
   },
   {
    "duration": 7,
    "start_time": "2022-01-27T18:04:52.131Z"
   },
   {
    "duration": 7,
    "start_time": "2022-01-27T18:09:59.555Z"
   },
   {
    "duration": 11,
    "start_time": "2022-01-27T18:11:09.735Z"
   },
   {
    "duration": 407,
    "start_time": "2022-01-27T18:11:54.465Z"
   },
   {
    "duration": 59,
    "start_time": "2022-01-27T18:12:35.393Z"
   },
   {
    "duration": 332,
    "start_time": "2022-01-27T18:13:44.505Z"
   },
   {
    "duration": 294,
    "start_time": "2022-01-27T18:14:07.705Z"
   },
   {
    "duration": 298,
    "start_time": "2022-01-27T18:15:06.950Z"
   },
   {
    "duration": 5,
    "start_time": "2022-01-27T18:51:18.577Z"
   },
   {
    "duration": 1554,
    "start_time": "2022-01-27T18:51:27.927Z"
   },
   {
    "duration": 550,
    "start_time": "2022-01-27T18:51:29.484Z"
   },
   {
    "duration": 16,
    "start_time": "2022-01-27T18:51:30.037Z"
   },
   {
    "duration": 36,
    "start_time": "2022-01-27T18:51:30.057Z"
   },
   {
    "duration": 46,
    "start_time": "2022-01-27T18:51:30.095Z"
   },
   {
    "duration": 37,
    "start_time": "2022-01-27T18:51:30.144Z"
   },
   {
    "duration": 17,
    "start_time": "2022-01-27T18:51:30.184Z"
   },
   {
    "duration": 26,
    "start_time": "2022-01-27T18:51:30.205Z"
   },
   {
    "duration": 65,
    "start_time": "2022-01-27T18:51:30.234Z"
   },
   {
    "duration": 18,
    "start_time": "2022-01-27T18:51:30.301Z"
   },
   {
    "duration": 21,
    "start_time": "2022-01-27T18:51:30.322Z"
   },
   {
    "duration": 37,
    "start_time": "2022-01-27T18:51:30.346Z"
   },
   {
    "duration": 29,
    "start_time": "2022-01-27T18:51:30.386Z"
   },
   {
    "duration": 14,
    "start_time": "2022-01-27T18:51:30.418Z"
   },
   {
    "duration": 43,
    "start_time": "2022-01-27T18:51:30.435Z"
   },
   {
    "duration": 9,
    "start_time": "2022-01-27T18:51:30.481Z"
   },
   {
    "duration": 25,
    "start_time": "2022-01-27T18:51:30.492Z"
   },
   {
    "duration": 17,
    "start_time": "2022-01-27T18:51:30.519Z"
   },
   {
    "duration": 33,
    "start_time": "2022-01-27T18:51:30.539Z"
   },
   {
    "duration": 9,
    "start_time": "2022-01-27T18:51:30.575Z"
   },
   {
    "duration": 36,
    "start_time": "2022-01-27T18:51:30.587Z"
   },
   {
    "duration": 49,
    "start_time": "2022-01-27T18:51:30.627Z"
   },
   {
    "duration": 17,
    "start_time": "2022-01-27T18:51:30.685Z"
   },
   {
    "duration": 18,
    "start_time": "2022-01-27T18:51:30.707Z"
   },
   {
    "duration": 13,
    "start_time": "2022-01-27T18:51:30.727Z"
   },
   {
    "duration": 161,
    "start_time": "2022-01-27T18:51:30.743Z"
   },
   {
    "duration": 110,
    "start_time": "2022-01-27T18:51:30.907Z"
   },
   {
    "duration": 74,
    "start_time": "2022-01-27T18:51:31.020Z"
   },
   {
    "duration": 10,
    "start_time": "2022-01-27T18:51:31.097Z"
   },
   {
    "duration": 15,
    "start_time": "2022-01-27T18:51:31.109Z"
   },
   {
    "duration": 10,
    "start_time": "2022-01-27T18:51:31.127Z"
   },
   {
    "duration": 15,
    "start_time": "2022-01-27T18:51:31.170Z"
   },
   {
    "duration": 12,
    "start_time": "2022-01-27T18:51:31.189Z"
   },
   {
    "duration": 25,
    "start_time": "2022-01-27T18:51:31.204Z"
   },
   {
    "duration": 52,
    "start_time": "2022-01-27T18:51:31.232Z"
   },
   {
    "duration": 46,
    "start_time": "2022-01-27T18:51:31.286Z"
   },
   {
    "duration": 46,
    "start_time": "2022-01-27T18:51:31.335Z"
   },
   {
    "duration": 13,
    "start_time": "2022-01-27T18:51:31.384Z"
   },
   {
    "duration": 15,
    "start_time": "2022-01-27T18:51:31.400Z"
   },
   {
    "duration": 55,
    "start_time": "2022-01-27T18:51:31.418Z"
   },
   {
    "duration": 51,
    "start_time": "2022-01-27T18:51:31.476Z"
   },
   {
    "duration": 83,
    "start_time": "2022-01-27T18:51:31.530Z"
   },
   {
    "duration": 17,
    "start_time": "2022-01-27T18:51:31.616Z"
   },
   {
    "duration": 58,
    "start_time": "2022-01-27T18:51:31.635Z"
   },
   {
    "duration": 7,
    "start_time": "2022-01-27T18:51:31.696Z"
   },
   {
    "duration": 17,
    "start_time": "2022-01-27T18:51:31.706Z"
   },
   {
    "duration": 258,
    "start_time": "2022-01-27T18:51:31.725Z"
   },
   {
    "duration": 24,
    "start_time": "2022-01-27T18:51:31.986Z"
   },
   {
    "duration": 12,
    "start_time": "2022-01-27T18:51:32.013Z"
   },
   {
    "duration": 57,
    "start_time": "2022-01-27T18:51:32.027Z"
   },
   {
    "duration": 49,
    "start_time": "2022-01-27T18:51:32.087Z"
   },
   {
    "duration": 33,
    "start_time": "2022-01-27T18:51:32.138Z"
   },
   {
    "duration": 35,
    "start_time": "2022-01-27T18:51:32.174Z"
   },
   {
    "duration": 59,
    "start_time": "2022-01-27T18:51:32.212Z"
   },
   {
    "duration": 201,
    "start_time": "2022-01-27T18:51:32.274Z"
   },
   {
    "duration": 14,
    "start_time": "2022-01-27T18:51:32.477Z"
   },
   {
    "duration": 14,
    "start_time": "2022-01-27T18:51:32.494Z"
   },
   {
    "duration": 58,
    "start_time": "2022-01-27T18:51:32.511Z"
   },
   {
    "duration": 32,
    "start_time": "2022-01-27T18:51:32.572Z"
   },
   {
    "duration": 64,
    "start_time": "2022-01-27T18:51:32.606Z"
   },
   {
    "duration": 34,
    "start_time": "2022-01-27T18:51:32.673Z"
   },
   {
    "duration": 25,
    "start_time": "2022-01-27T18:51:32.710Z"
   },
   {
    "duration": 260,
    "start_time": "2022-01-27T18:51:32.738Z"
   },
   {
    "duration": 14,
    "start_time": "2022-01-27T18:51:33.001Z"
   },
   {
    "duration": 12,
    "start_time": "2022-01-27T18:51:33.018Z"
   },
   {
    "duration": 78,
    "start_time": "2022-01-27T18:51:33.032Z"
   },
   {
    "duration": 65,
    "start_time": "2022-01-27T18:51:33.113Z"
   },
   {
    "duration": 249,
    "start_time": "2022-01-27T18:51:33.190Z"
   },
   {
    "duration": 37,
    "start_time": "2022-01-27T18:51:33.443Z"
   },
   {
    "duration": 268,
    "start_time": "2022-01-27T18:51:33.482Z"
   },
   {
    "duration": 5,
    "start_time": "2022-01-27T18:51:33.752Z"
   },
   {
    "duration": 13,
    "start_time": "2022-01-27T18:51:33.760Z"
   },
   {
    "duration": 26,
    "start_time": "2022-01-27T18:51:33.776Z"
   },
   {
    "duration": 8,
    "start_time": "2022-01-27T18:51:33.805Z"
   },
   {
    "duration": 7,
    "start_time": "2022-01-27T18:51:33.816Z"
   },
   {
    "duration": 49,
    "start_time": "2022-01-27T18:51:33.826Z"
   },
   {
    "duration": 8,
    "start_time": "2022-01-27T18:51:33.877Z"
   },
   {
    "duration": 388,
    "start_time": "2022-01-27T18:51:33.888Z"
   },
   {
    "duration": 6,
    "start_time": "2022-01-27T18:51:34.278Z"
   },
   {
    "duration": 7,
    "start_time": "2022-01-27T18:51:34.286Z"
   },
   {
    "duration": 30,
    "start_time": "2022-01-27T18:51:34.295Z"
   },
   {
    "duration": 43,
    "start_time": "2022-01-27T18:51:34.328Z"
   },
   {
    "duration": 9,
    "start_time": "2022-01-27T18:51:34.375Z"
   },
   {
    "duration": 10,
    "start_time": "2022-01-27T18:51:34.386Z"
   },
   {
    "duration": 11,
    "start_time": "2022-01-27T18:51:34.398Z"
   },
   {
    "duration": 357,
    "start_time": "2022-01-27T18:51:34.412Z"
   },
   {
    "duration": 5,
    "start_time": "2022-01-27T18:51:34.772Z"
   },
   {
    "duration": 8,
    "start_time": "2022-01-27T18:51:34.779Z"
   },
   {
    "duration": 9,
    "start_time": "2022-01-27T18:51:34.789Z"
   },
   {
    "duration": 9,
    "start_time": "2022-01-27T18:51:34.801Z"
   },
   {
    "duration": 10,
    "start_time": "2022-01-27T18:51:34.813Z"
   },
   {
    "duration": 10,
    "start_time": "2022-01-27T18:51:34.870Z"
   },
   {
    "duration": 447,
    "start_time": "2022-01-27T18:51:34.882Z"
   },
   {
    "duration": 6,
    "start_time": "2022-01-27T18:51:35.331Z"
   },
   {
    "duration": 29,
    "start_time": "2022-01-27T18:51:35.340Z"
   },
   {
    "duration": 26,
    "start_time": "2022-01-27T18:51:35.372Z"
   },
   {
    "duration": 10,
    "start_time": "2022-01-27T18:51:35.400Z"
   },
   {
    "duration": 11,
    "start_time": "2022-01-27T18:51:35.413Z"
   },
   {
    "duration": 44,
    "start_time": "2022-01-27T18:51:35.427Z"
   },
   {
    "duration": 9,
    "start_time": "2022-01-27T18:51:35.473Z"
   },
   {
    "duration": 334,
    "start_time": "2022-01-27T18:51:35.484Z"
   },
   {
    "duration": 6,
    "start_time": "2022-01-27T18:51:35.820Z"
   },
   {
    "duration": 8,
    "start_time": "2022-01-27T18:51:35.828Z"
   },
   {
    "duration": 32,
    "start_time": "2022-01-27T18:51:35.839Z"
   },
   {
    "duration": 19,
    "start_time": "2022-01-27T18:51:35.873Z"
   },
   {
    "duration": 8,
    "start_time": "2022-01-27T18:51:35.894Z"
   },
   {
    "duration": 12,
    "start_time": "2022-01-27T18:51:35.904Z"
   },
   {
    "duration": 397,
    "start_time": "2022-01-27T18:51:35.919Z"
   },
   {
    "duration": 5,
    "start_time": "2022-01-27T18:51:36.319Z"
   },
   {
    "duration": 7,
    "start_time": "2022-01-27T18:51:36.326Z"
   },
   {
    "duration": 39,
    "start_time": "2022-01-27T18:51:36.336Z"
   },
   {
    "duration": 8,
    "start_time": "2022-01-27T18:51:36.377Z"
   },
   {
    "duration": 9,
    "start_time": "2022-01-27T18:51:36.387Z"
   },
   {
    "duration": 10,
    "start_time": "2022-01-27T18:51:36.399Z"
   },
   {
    "duration": 386,
    "start_time": "2022-01-27T18:51:36.412Z"
   },
   {
    "duration": 6,
    "start_time": "2022-01-27T18:51:36.802Z"
   },
   {
    "duration": 7,
    "start_time": "2022-01-27T18:51:36.810Z"
   },
   {
    "duration": 9,
    "start_time": "2022-01-27T18:51:36.819Z"
   },
   {
    "duration": 44,
    "start_time": "2022-01-27T18:51:36.830Z"
   },
   {
    "duration": 8,
    "start_time": "2022-01-27T18:51:36.876Z"
   },
   {
    "duration": 12,
    "start_time": "2022-01-27T18:51:36.886Z"
   },
   {
    "duration": 501,
    "start_time": "2022-01-27T18:51:36.900Z"
   },
   {
    "duration": 5,
    "start_time": "2022-01-27T18:51:37.404Z"
   },
   {
    "duration": 9,
    "start_time": "2022-01-27T18:51:37.411Z"
   },
   {
    "duration": 11,
    "start_time": "2022-01-27T18:51:37.423Z"
   },
   {
    "duration": 42,
    "start_time": "2022-01-27T18:51:37.436Z"
   },
   {
    "duration": 9,
    "start_time": "2022-01-27T18:51:37.480Z"
   },
   {
    "duration": 8,
    "start_time": "2022-01-27T18:51:37.491Z"
   },
   {
    "duration": 348,
    "start_time": "2022-01-27T18:51:37.502Z"
   },
   {
    "duration": 5,
    "start_time": "2022-01-27T18:51:37.853Z"
   },
   {
    "duration": 6,
    "start_time": "2022-01-27T18:51:37.870Z"
   },
   {
    "duration": 30,
    "start_time": "2022-01-27T18:51:37.879Z"
   },
   {
    "duration": 369,
    "start_time": "2022-01-27T18:51:37.912Z"
   },
   {
    "duration": 10,
    "start_time": "2022-01-27T18:51:38.283Z"
   },
   {
    "duration": 78,
    "start_time": "2022-01-27T18:51:38.296Z"
   },
   {
    "duration": 28,
    "start_time": "2022-01-27T18:51:38.377Z"
   },
   {
    "duration": 361,
    "start_time": "2022-01-27T18:51:38.408Z"
   },
   {
    "duration": 7,
    "start_time": "2022-01-27T18:51:38.772Z"
   },
   {
    "duration": 7,
    "start_time": "2022-01-27T18:52:25.455Z"
   },
   {
    "duration": 57,
    "start_time": "2022-01-27T18:54:22.909Z"
   },
   {
    "duration": 34,
    "start_time": "2022-01-27T18:55:00.070Z"
   },
   {
    "duration": 30,
    "start_time": "2022-01-27T18:55:26.800Z"
   },
   {
    "duration": 1459,
    "start_time": "2022-01-27T18:55:36.704Z"
   },
   {
    "duration": 509,
    "start_time": "2022-01-27T18:55:38.165Z"
   },
   {
    "duration": 19,
    "start_time": "2022-01-27T18:55:38.682Z"
   },
   {
    "duration": 30,
    "start_time": "2022-01-27T18:55:38.703Z"
   },
   {
    "duration": 74,
    "start_time": "2022-01-27T18:55:38.735Z"
   },
   {
    "duration": 19,
    "start_time": "2022-01-27T18:55:38.811Z"
   },
   {
    "duration": 12,
    "start_time": "2022-01-27T18:55:38.832Z"
   },
   {
    "duration": 23,
    "start_time": "2022-01-27T18:55:38.871Z"
   },
   {
    "duration": 29,
    "start_time": "2022-01-27T18:55:38.897Z"
   },
   {
    "duration": 45,
    "start_time": "2022-01-27T18:55:38.929Z"
   },
   {
    "duration": 10,
    "start_time": "2022-01-27T18:55:38.976Z"
   },
   {
    "duration": 20,
    "start_time": "2022-01-27T18:55:38.988Z"
   },
   {
    "duration": 27,
    "start_time": "2022-01-27T18:55:39.011Z"
   },
   {
    "duration": 15,
    "start_time": "2022-01-27T18:55:39.069Z"
   },
   {
    "duration": 13,
    "start_time": "2022-01-27T18:55:39.086Z"
   },
   {
    "duration": 11,
    "start_time": "2022-01-27T18:55:39.102Z"
   },
   {
    "duration": 57,
    "start_time": "2022-01-27T18:55:39.116Z"
   },
   {
    "duration": 10,
    "start_time": "2022-01-27T18:55:39.175Z"
   },
   {
    "duration": 9,
    "start_time": "2022-01-27T18:55:39.187Z"
   },
   {
    "duration": 11,
    "start_time": "2022-01-27T18:55:39.198Z"
   },
   {
    "duration": 20,
    "start_time": "2022-01-27T18:55:39.212Z"
   },
   {
    "duration": 48,
    "start_time": "2022-01-27T18:55:39.234Z"
   },
   {
    "duration": 14,
    "start_time": "2022-01-27T18:55:39.285Z"
   },
   {
    "duration": 8,
    "start_time": "2022-01-27T18:55:39.301Z"
   },
   {
    "duration": 10,
    "start_time": "2022-01-27T18:55:39.311Z"
   },
   {
    "duration": 132,
    "start_time": "2022-01-27T18:55:39.374Z"
   },
   {
    "duration": 105,
    "start_time": "2022-01-27T18:55:39.510Z"
   },
   {
    "duration": 65,
    "start_time": "2022-01-27T18:55:39.618Z"
   },
   {
    "duration": 8,
    "start_time": "2022-01-27T18:55:39.685Z"
   },
   {
    "duration": 11,
    "start_time": "2022-01-27T18:55:39.695Z"
   },
   {
    "duration": 8,
    "start_time": "2022-01-27T18:55:39.708Z"
   },
   {
    "duration": 15,
    "start_time": "2022-01-27T18:55:39.718Z"
   },
   {
    "duration": 41,
    "start_time": "2022-01-27T18:55:39.735Z"
   },
   {
    "duration": 23,
    "start_time": "2022-01-27T18:55:39.778Z"
   },
   {
    "duration": 17,
    "start_time": "2022-01-27T18:55:39.803Z"
   },
   {
    "duration": 82,
    "start_time": "2022-01-27T18:55:39.822Z"
   },
   {
    "duration": 10,
    "start_time": "2022-01-27T18:55:39.907Z"
   },
   {
    "duration": 10,
    "start_time": "2022-01-27T18:55:39.919Z"
   },
   {
    "duration": 52,
    "start_time": "2022-01-27T18:55:39.931Z"
   },
   {
    "duration": 12,
    "start_time": "2022-01-27T18:55:39.985Z"
   },
   {
    "duration": 73,
    "start_time": "2022-01-27T18:55:39.999Z"
   },
   {
    "duration": 62,
    "start_time": "2022-01-27T18:55:40.074Z"
   },
   {
    "duration": 33,
    "start_time": "2022-01-27T18:55:40.138Z"
   },
   {
    "duration": 36,
    "start_time": "2022-01-27T18:55:40.173Z"
   },
   {
    "duration": 7,
    "start_time": "2022-01-27T18:55:40.211Z"
   },
   {
    "duration": 51,
    "start_time": "2022-01-27T18:55:40.220Z"
   },
   {
    "duration": 247,
    "start_time": "2022-01-27T18:55:40.274Z"
   },
   {
    "duration": 22,
    "start_time": "2022-01-27T18:55:40.523Z"
   },
   {
    "duration": 25,
    "start_time": "2022-01-27T18:55:40.547Z"
   },
   {
    "duration": 32,
    "start_time": "2022-01-27T18:55:40.575Z"
   },
   {
    "duration": 76,
    "start_time": "2022-01-27T18:55:40.610Z"
   },
   {
    "duration": 14,
    "start_time": "2022-01-27T18:55:40.689Z"
   },
   {
    "duration": 71,
    "start_time": "2022-01-27T18:55:40.707Z"
   },
   {
    "duration": 22,
    "start_time": "2022-01-27T18:55:40.781Z"
   },
   {
    "duration": 317,
    "start_time": "2022-01-27T18:55:40.806Z"
   },
   {
    "duration": 12,
    "start_time": "2022-01-27T18:55:41.125Z"
   },
   {
    "duration": 31,
    "start_time": "2022-01-27T18:55:41.139Z"
   },
   {
    "duration": 11,
    "start_time": "2022-01-27T18:55:41.173Z"
   },
   {
    "duration": 34,
    "start_time": "2022-01-27T18:55:41.187Z"
   },
   {
    "duration": 69,
    "start_time": "2022-01-27T18:55:41.224Z"
   },
   {
    "duration": 33,
    "start_time": "2022-01-27T18:55:41.295Z"
   },
   {
    "duration": 41,
    "start_time": "2022-01-27T18:55:41.330Z"
   },
   {
    "duration": 244,
    "start_time": "2022-01-27T18:55:41.374Z"
   },
   {
    "duration": 16,
    "start_time": "2022-01-27T18:55:41.622Z"
   },
   {
    "duration": 34,
    "start_time": "2022-01-27T18:55:41.640Z"
   },
   {
    "duration": 41,
    "start_time": "2022-01-27T18:55:41.676Z"
   },
   {
    "duration": 73,
    "start_time": "2022-01-27T18:55:41.719Z"
   },
   {
    "duration": 243,
    "start_time": "2022-01-27T18:55:41.794Z"
   },
   {
    "duration": 31,
    "start_time": "2022-01-27T18:55:42.039Z"
   },
   {
    "duration": 269,
    "start_time": "2022-01-27T18:55:42.073Z"
   },
   {
    "duration": 5,
    "start_time": "2022-01-27T18:55:42.345Z"
   },
   {
    "duration": 4,
    "start_time": "2022-01-27T18:55:42.369Z"
   },
   {
    "duration": 27,
    "start_time": "2022-01-27T18:55:42.376Z"
   },
   {
    "duration": 9,
    "start_time": "2022-01-27T18:55:42.405Z"
   },
   {
    "duration": 9,
    "start_time": "2022-01-27T18:55:42.416Z"
   },
   {
    "duration": 47,
    "start_time": "2022-01-27T18:55:42.427Z"
   },
   {
    "duration": 8,
    "start_time": "2022-01-27T18:55:42.477Z"
   },
   {
    "duration": 379,
    "start_time": "2022-01-27T18:55:42.487Z"
   },
   {
    "duration": 4,
    "start_time": "2022-01-27T18:55:42.869Z"
   },
   {
    "duration": 5,
    "start_time": "2022-01-27T18:55:42.884Z"
   },
   {
    "duration": 28,
    "start_time": "2022-01-27T18:55:42.893Z"
   },
   {
    "duration": 11,
    "start_time": "2022-01-27T18:55:42.923Z"
   },
   {
    "duration": 10,
    "start_time": "2022-01-27T18:55:42.969Z"
   },
   {
    "duration": 11,
    "start_time": "2022-01-27T18:55:42.982Z"
   },
   {
    "duration": 11,
    "start_time": "2022-01-27T18:55:42.996Z"
   },
   {
    "duration": 368,
    "start_time": "2022-01-27T18:55:43.010Z"
   },
   {
    "duration": 6,
    "start_time": "2022-01-27T18:55:43.380Z"
   },
   {
    "duration": 7,
    "start_time": "2022-01-27T18:55:43.389Z"
   },
   {
    "duration": 9,
    "start_time": "2022-01-27T18:55:43.398Z"
   },
   {
    "duration": 9,
    "start_time": "2022-01-27T18:55:43.409Z"
   },
   {
    "duration": 53,
    "start_time": "2022-01-27T18:55:43.420Z"
   },
   {
    "duration": 9,
    "start_time": "2022-01-27T18:55:43.476Z"
   },
   {
    "duration": 434,
    "start_time": "2022-01-27T18:55:43.488Z"
   },
   {
    "duration": 6,
    "start_time": "2022-01-27T18:55:43.924Z"
   },
   {
    "duration": 13,
    "start_time": "2022-01-27T18:55:43.932Z"
   },
   {
    "duration": 43,
    "start_time": "2022-01-27T18:55:43.947Z"
   },
   {
    "duration": 9,
    "start_time": "2022-01-27T18:55:43.992Z"
   },
   {
    "duration": 10,
    "start_time": "2022-01-27T18:55:44.003Z"
   },
   {
    "duration": 8,
    "start_time": "2022-01-27T18:55:44.015Z"
   },
   {
    "duration": 48,
    "start_time": "2022-01-27T18:55:44.025Z"
   },
   {
    "duration": 312,
    "start_time": "2022-01-27T18:55:44.076Z"
   },
   {
    "duration": 5,
    "start_time": "2022-01-27T18:55:44.391Z"
   },
   {
    "duration": 7,
    "start_time": "2022-01-27T18:55:44.399Z"
   },
   {
    "duration": 12,
    "start_time": "2022-01-27T18:55:44.410Z"
   },
   {
    "duration": 45,
    "start_time": "2022-01-27T18:55:44.424Z"
   },
   {
    "duration": 10,
    "start_time": "2022-01-27T18:55:44.472Z"
   },
   {
    "duration": 25,
    "start_time": "2022-01-27T18:55:44.484Z"
   },
   {
    "duration": 429,
    "start_time": "2022-01-27T18:55:44.512Z"
   },
   {
    "duration": 6,
    "start_time": "2022-01-27T18:55:44.943Z"
   },
   {
    "duration": 8,
    "start_time": "2022-01-27T18:55:44.951Z"
   },
   {
    "duration": 8,
    "start_time": "2022-01-27T18:55:44.970Z"
   },
   {
    "duration": 8,
    "start_time": "2022-01-27T18:55:44.980Z"
   },
   {
    "duration": 8,
    "start_time": "2022-01-27T18:55:44.990Z"
   },
   {
    "duration": 19,
    "start_time": "2022-01-27T18:55:45.000Z"
   },
   {
    "duration": 376,
    "start_time": "2022-01-27T18:55:45.021Z"
   },
   {
    "duration": 5,
    "start_time": "2022-01-27T18:55:45.399Z"
   },
   {
    "duration": 7,
    "start_time": "2022-01-27T18:55:45.406Z"
   },
   {
    "duration": 11,
    "start_time": "2022-01-27T18:55:45.415Z"
   },
   {
    "duration": 43,
    "start_time": "2022-01-27T18:55:45.428Z"
   },
   {
    "duration": 9,
    "start_time": "2022-01-27T18:55:45.473Z"
   },
   {
    "duration": 8,
    "start_time": "2022-01-27T18:55:45.485Z"
   },
   {
    "duration": 371,
    "start_time": "2022-01-27T18:55:45.495Z"
   },
   {
    "duration": 7,
    "start_time": "2022-01-27T18:55:45.870Z"
   },
   {
    "duration": 9,
    "start_time": "2022-01-27T18:55:45.880Z"
   },
   {
    "duration": 9,
    "start_time": "2022-01-27T18:55:45.892Z"
   },
   {
    "duration": 9,
    "start_time": "2022-01-27T18:55:45.903Z"
   },
   {
    "duration": 57,
    "start_time": "2022-01-27T18:55:45.915Z"
   },
   {
    "duration": 10,
    "start_time": "2022-01-27T18:55:45.975Z"
   },
   {
    "duration": 348,
    "start_time": "2022-01-27T18:55:45.988Z"
   },
   {
    "duration": 5,
    "start_time": "2022-01-27T18:55:46.338Z"
   },
   {
    "duration": 26,
    "start_time": "2022-01-27T18:55:46.345Z"
   },
   {
    "duration": 33,
    "start_time": "2022-01-27T18:55:46.373Z"
   },
   {
    "duration": 29,
    "start_time": "2022-01-27T18:55:46.408Z"
   },
   {
    "duration": 341,
    "start_time": "2022-01-27T18:55:46.439Z"
   },
   {
    "duration": 11,
    "start_time": "2022-01-27T18:55:46.783Z"
   },
   {
    "duration": 84,
    "start_time": "2022-01-27T18:55:46.798Z"
   },
   {
    "duration": 29,
    "start_time": "2022-01-27T18:55:46.885Z"
   },
   {
    "duration": 58,
    "start_time": "2022-01-27T18:55:46.917Z"
   },
   {
    "duration": 299,
    "start_time": "2022-01-27T18:55:46.978Z"
   },
   {
    "duration": 7,
    "start_time": "2022-01-27T18:55:47.280Z"
   },
   {
    "duration": 8,
    "start_time": "2022-01-27T18:57:10.192Z"
   },
   {
    "duration": 1553,
    "start_time": "2022-01-28T08:19:19.063Z"
   },
   {
    "duration": 525,
    "start_time": "2022-01-28T08:19:20.618Z"
   },
   {
    "duration": 16,
    "start_time": "2022-01-28T08:19:21.146Z"
   },
   {
    "duration": 30,
    "start_time": "2022-01-28T08:19:21.164Z"
   },
   {
    "duration": 44,
    "start_time": "2022-01-28T08:19:21.196Z"
   },
   {
    "duration": 34,
    "start_time": "2022-01-28T08:19:21.242Z"
   },
   {
    "duration": 11,
    "start_time": "2022-01-28T08:19:21.279Z"
   },
   {
    "duration": 23,
    "start_time": "2022-01-28T08:19:21.293Z"
   },
   {
    "duration": 62,
    "start_time": "2022-01-28T08:19:21.320Z"
   },
   {
    "duration": 17,
    "start_time": "2022-01-28T08:19:21.385Z"
   },
   {
    "duration": 10,
    "start_time": "2022-01-28T08:19:21.404Z"
   },
   {
    "duration": 24,
    "start_time": "2022-01-28T08:19:21.416Z"
   },
   {
    "duration": 28,
    "start_time": "2022-01-28T08:19:21.469Z"
   },
   {
    "duration": 16,
    "start_time": "2022-01-28T08:19:21.499Z"
   },
   {
    "duration": 12,
    "start_time": "2022-01-28T08:19:21.518Z"
   },
   {
    "duration": 42,
    "start_time": "2022-01-28T08:19:21.533Z"
   },
   {
    "duration": 19,
    "start_time": "2022-01-28T08:19:21.578Z"
   },
   {
    "duration": 13,
    "start_time": "2022-01-28T08:19:21.599Z"
   },
   {
    "duration": 13,
    "start_time": "2022-01-28T08:19:21.615Z"
   },
   {
    "duration": 41,
    "start_time": "2022-01-28T08:19:21.630Z"
   },
   {
    "duration": 19,
    "start_time": "2022-01-28T08:19:21.674Z"
   },
   {
    "duration": 18,
    "start_time": "2022-01-28T08:19:21.695Z"
   },
   {
    "duration": 14,
    "start_time": "2022-01-28T08:19:21.715Z"
   },
   {
    "duration": 45,
    "start_time": "2022-01-28T08:19:21.731Z"
   },
   {
    "duration": 10,
    "start_time": "2022-01-28T08:19:21.779Z"
   },
   {
    "duration": 162,
    "start_time": "2022-01-28T08:19:21.791Z"
   },
   {
    "duration": 91,
    "start_time": "2022-01-28T08:19:21.968Z"
   },
   {
    "duration": 56,
    "start_time": "2022-01-28T08:19:22.063Z"
   },
   {
    "duration": 7,
    "start_time": "2022-01-28T08:19:22.122Z"
   },
   {
    "duration": 39,
    "start_time": "2022-01-28T08:19:22.131Z"
   },
   {
    "duration": 9,
    "start_time": "2022-01-28T08:19:22.172Z"
   },
   {
    "duration": 15,
    "start_time": "2022-01-28T08:19:22.183Z"
   },
   {
    "duration": 11,
    "start_time": "2022-01-28T08:19:22.200Z"
   },
   {
    "duration": 23,
    "start_time": "2022-01-28T08:19:22.213Z"
   },
   {
    "duration": 45,
    "start_time": "2022-01-28T08:19:22.238Z"
   },
   {
    "duration": 43,
    "start_time": "2022-01-28T08:19:22.285Z"
   },
   {
    "duration": 9,
    "start_time": "2022-01-28T08:19:22.330Z"
   },
   {
    "duration": 10,
    "start_time": "2022-01-28T08:19:22.370Z"
   },
   {
    "duration": 15,
    "start_time": "2022-01-28T08:19:22.382Z"
   },
   {
    "duration": 13,
    "start_time": "2022-01-28T08:19:22.399Z"
   },
   {
    "duration": 81,
    "start_time": "2022-01-28T08:19:22.414Z"
   },
   {
    "duration": 73,
    "start_time": "2022-01-28T08:19:22.498Z"
   },
   {
    "duration": 14,
    "start_time": "2022-01-28T08:19:22.573Z"
   },
   {
    "duration": 38,
    "start_time": "2022-01-28T08:19:22.589Z"
   },
   {
    "duration": 8,
    "start_time": "2022-01-28T08:19:22.629Z"
   },
   {
    "duration": 18,
    "start_time": "2022-01-28T08:19:22.670Z"
   },
   {
    "duration": 239,
    "start_time": "2022-01-28T08:19:22.691Z"
   },
   {
    "duration": 22,
    "start_time": "2022-01-28T08:19:22.932Z"
   },
   {
    "duration": 21,
    "start_time": "2022-01-28T08:19:22.956Z"
   },
   {
    "duration": 32,
    "start_time": "2022-01-28T08:19:22.979Z"
   },
   {
    "duration": 75,
    "start_time": "2022-01-28T08:19:23.014Z"
   },
   {
    "duration": 15,
    "start_time": "2022-01-28T08:19:23.092Z"
   },
   {
    "duration": 61,
    "start_time": "2022-01-28T08:19:23.110Z"
   },
   {
    "duration": 21,
    "start_time": "2022-01-28T08:19:23.174Z"
   },
   {
    "duration": 212,
    "start_time": "2022-01-28T08:19:23.198Z"
   },
   {
    "duration": 13,
    "start_time": "2022-01-28T08:19:23.412Z"
   },
   {
    "duration": 14,
    "start_time": "2022-01-28T08:19:23.427Z"
   },
   {
    "duration": 30,
    "start_time": "2022-01-28T08:19:23.443Z"
   },
   {
    "duration": 32,
    "start_time": "2022-01-28T08:19:23.476Z"
   },
   {
    "duration": 74,
    "start_time": "2022-01-28T08:19:23.511Z"
   },
   {
    "duration": 33,
    "start_time": "2022-01-28T08:19:23.587Z"
   },
   {
    "duration": 47,
    "start_time": "2022-01-28T08:19:23.622Z"
   },
   {
    "duration": 227,
    "start_time": "2022-01-28T08:19:23.672Z"
   },
   {
    "duration": 14,
    "start_time": "2022-01-28T08:19:23.902Z"
   },
   {
    "duration": 15,
    "start_time": "2022-01-28T08:19:23.918Z"
   },
   {
    "duration": 70,
    "start_time": "2022-01-28T08:19:23.935Z"
   },
   {
    "duration": 63,
    "start_time": "2022-01-28T08:19:24.008Z"
   },
   {
    "duration": 245,
    "start_time": "2022-01-28T08:19:24.073Z"
   },
   {
    "duration": 21,
    "start_time": "2022-01-28T08:19:24.321Z"
   },
   {
    "duration": 277,
    "start_time": "2022-01-28T08:19:24.344Z"
   },
   {
    "duration": 5,
    "start_time": "2022-01-28T08:19:24.624Z"
   },
   {
    "duration": 9,
    "start_time": "2022-01-28T08:19:24.632Z"
   },
   {
    "duration": 48,
    "start_time": "2022-01-28T08:19:24.644Z"
   },
   {
    "duration": 9,
    "start_time": "2022-01-28T08:19:24.694Z"
   },
   {
    "duration": 12,
    "start_time": "2022-01-28T08:19:24.705Z"
   },
   {
    "duration": 10,
    "start_time": "2022-01-28T08:19:24.720Z"
   },
   {
    "duration": 41,
    "start_time": "2022-01-28T08:19:24.732Z"
   },
   {
    "duration": 370,
    "start_time": "2022-01-28T08:19:24.775Z"
   },
   {
    "duration": 5,
    "start_time": "2022-01-28T08:19:25.147Z"
   },
   {
    "duration": 5,
    "start_time": "2022-01-28T08:19:25.170Z"
   },
   {
    "duration": 26,
    "start_time": "2022-01-28T08:19:25.185Z"
   },
   {
    "duration": 8,
    "start_time": "2022-01-28T08:19:25.215Z"
   },
   {
    "duration": 45,
    "start_time": "2022-01-28T08:19:25.225Z"
   },
   {
    "duration": 8,
    "start_time": "2022-01-28T08:19:25.273Z"
   },
   {
    "duration": 10,
    "start_time": "2022-01-28T08:19:25.283Z"
   },
   {
    "duration": 356,
    "start_time": "2022-01-28T08:19:25.296Z"
   },
   {
    "duration": 5,
    "start_time": "2022-01-28T08:19:25.654Z"
   },
   {
    "duration": 5,
    "start_time": "2022-01-28T08:19:25.670Z"
   },
   {
    "duration": 14,
    "start_time": "2022-01-28T08:19:25.677Z"
   },
   {
    "duration": 10,
    "start_time": "2022-01-28T08:19:25.693Z"
   },
   {
    "duration": 12,
    "start_time": "2022-01-28T08:19:25.706Z"
   },
   {
    "duration": 9,
    "start_time": "2022-01-28T08:19:25.720Z"
   },
   {
    "duration": 426,
    "start_time": "2022-01-28T08:19:25.770Z"
   },
   {
    "duration": 5,
    "start_time": "2022-01-28T08:19:26.198Z"
   },
   {
    "duration": 7,
    "start_time": "2022-01-28T08:19:26.205Z"
   },
   {
    "duration": 55,
    "start_time": "2022-01-28T08:19:26.214Z"
   },
   {
    "duration": 8,
    "start_time": "2022-01-28T08:19:26.272Z"
   },
   {
    "duration": 12,
    "start_time": "2022-01-28T08:19:26.283Z"
   },
   {
    "duration": 11,
    "start_time": "2022-01-28T08:19:26.297Z"
   },
   {
    "duration": 13,
    "start_time": "2022-01-28T08:19:26.310Z"
   },
   {
    "duration": 444,
    "start_time": "2022-01-28T08:19:26.325Z"
   },
   {
    "duration": 5,
    "start_time": "2022-01-28T08:19:26.771Z"
   },
   {
    "duration": 8,
    "start_time": "2022-01-28T08:19:26.779Z"
   },
   {
    "duration": 9,
    "start_time": "2022-01-28T08:19:26.789Z"
   },
   {
    "duration": 11,
    "start_time": "2022-01-28T08:19:26.800Z"
   },
   {
    "duration": 9,
    "start_time": "2022-01-28T08:19:26.813Z"
   },
   {
    "duration": 50,
    "start_time": "2022-01-28T08:19:26.825Z"
   },
   {
    "duration": 375,
    "start_time": "2022-01-28T08:19:26.877Z"
   },
   {
    "duration": 5,
    "start_time": "2022-01-28T08:19:27.254Z"
   },
   {
    "duration": 4,
    "start_time": "2022-01-28T08:19:27.270Z"
   },
   {
    "duration": 9,
    "start_time": "2022-01-28T08:19:27.277Z"
   },
   {
    "duration": 9,
    "start_time": "2022-01-28T08:19:27.289Z"
   },
   {
    "duration": 9,
    "start_time": "2022-01-28T08:19:27.301Z"
   },
   {
    "duration": 65,
    "start_time": "2022-01-28T08:19:27.313Z"
   },
   {
    "duration": 347,
    "start_time": "2022-01-28T08:19:27.381Z"
   },
   {
    "duration": 5,
    "start_time": "2022-01-28T08:19:27.731Z"
   },
   {
    "duration": 12,
    "start_time": "2022-01-28T08:19:27.738Z"
   },
   {
    "duration": 23,
    "start_time": "2022-01-28T08:19:27.752Z"
   },
   {
    "duration": 10,
    "start_time": "2022-01-28T08:19:27.777Z"
   },
   {
    "duration": 11,
    "start_time": "2022-01-28T08:19:27.789Z"
   },
   {
    "duration": 12,
    "start_time": "2022-01-28T08:19:27.803Z"
   },
   {
    "duration": 381,
    "start_time": "2022-01-28T08:19:27.817Z"
   },
   {
    "duration": 6,
    "start_time": "2022-01-28T08:19:28.202Z"
   },
   {
    "duration": 18,
    "start_time": "2022-01-28T08:19:28.211Z"
   },
   {
    "duration": 13,
    "start_time": "2022-01-28T08:19:28.231Z"
   },
   {
    "duration": 27,
    "start_time": "2022-01-28T08:19:28.247Z"
   },
   {
    "duration": 10,
    "start_time": "2022-01-28T08:19:28.276Z"
   },
   {
    "duration": 14,
    "start_time": "2022-01-28T08:19:28.289Z"
   },
   {
    "duration": 354,
    "start_time": "2022-01-28T08:19:28.305Z"
   },
   {
    "duration": 6,
    "start_time": "2022-01-28T08:19:28.670Z"
   },
   {
    "duration": 13,
    "start_time": "2022-01-28T08:19:28.678Z"
   },
   {
    "duration": 38,
    "start_time": "2022-01-28T08:19:28.693Z"
   },
   {
    "duration": 47,
    "start_time": "2022-01-28T08:19:28.733Z"
   },
   {
    "duration": 318,
    "start_time": "2022-01-28T08:19:28.782Z"
   },
   {
    "duration": 10,
    "start_time": "2022-01-28T08:19:29.103Z"
   },
   {
    "duration": 77,
    "start_time": "2022-01-28T08:19:29.115Z"
   },
   {
    "duration": 29,
    "start_time": "2022-01-28T08:19:29.195Z"
   },
   {
    "duration": 54,
    "start_time": "2022-01-28T08:19:29.227Z"
   },
   {
    "duration": 317,
    "start_time": "2022-01-28T08:19:29.284Z"
   },
   {
    "duration": 8,
    "start_time": "2022-01-28T08:19:29.603Z"
   },
   {
    "duration": 1572,
    "start_time": "2022-01-28T11:34:05.977Z"
   },
   {
    "duration": 568,
    "start_time": "2022-01-28T11:34:07.553Z"
   },
   {
    "duration": 16,
    "start_time": "2022-01-28T11:34:08.124Z"
   },
   {
    "duration": 34,
    "start_time": "2022-01-28T11:34:08.143Z"
   },
   {
    "duration": 45,
    "start_time": "2022-01-28T11:34:08.180Z"
   },
   {
    "duration": 47,
    "start_time": "2022-01-28T11:34:08.227Z"
   },
   {
    "duration": 12,
    "start_time": "2022-01-28T11:34:08.276Z"
   },
   {
    "duration": 31,
    "start_time": "2022-01-28T11:34:08.292Z"
   },
   {
    "duration": 62,
    "start_time": "2022-01-28T11:34:08.327Z"
   },
   {
    "duration": 19,
    "start_time": "2022-01-28T11:34:08.392Z"
   },
   {
    "duration": 10,
    "start_time": "2022-01-28T11:34:08.414Z"
   },
   {
    "duration": 58,
    "start_time": "2022-01-28T11:34:08.426Z"
   },
   {
    "duration": 28,
    "start_time": "2022-01-28T11:34:08.487Z"
   },
   {
    "duration": 14,
    "start_time": "2022-01-28T11:34:08.517Z"
   },
   {
    "duration": 42,
    "start_time": "2022-01-28T11:34:08.534Z"
   },
   {
    "duration": 14,
    "start_time": "2022-01-28T11:34:08.579Z"
   },
   {
    "duration": 26,
    "start_time": "2022-01-28T11:34:08.596Z"
   },
   {
    "duration": 46,
    "start_time": "2022-01-28T11:34:08.625Z"
   },
   {
    "duration": 10,
    "start_time": "2022-01-28T11:34:08.674Z"
   },
   {
    "duration": 13,
    "start_time": "2022-01-28T11:34:08.686Z"
   },
   {
    "duration": 26,
    "start_time": "2022-01-28T11:34:08.702Z"
   },
   {
    "duration": 50,
    "start_time": "2022-01-28T11:34:08.731Z"
   },
   {
    "duration": 14,
    "start_time": "2022-01-28T11:34:08.788Z"
   },
   {
    "duration": 11,
    "start_time": "2022-01-28T11:34:08.806Z"
   },
   {
    "duration": 18,
    "start_time": "2022-01-28T11:34:08.819Z"
   },
   {
    "duration": 142,
    "start_time": "2022-01-28T11:34:08.870Z"
   },
   {
    "duration": 107,
    "start_time": "2022-01-28T11:34:09.015Z"
   },
   {
    "duration": 76,
    "start_time": "2022-01-28T11:34:09.124Z"
   },
   {
    "duration": 8,
    "start_time": "2022-01-28T11:34:09.202Z"
   },
   {
    "duration": 14,
    "start_time": "2022-01-28T11:34:09.212Z"
   },
   {
    "duration": 8,
    "start_time": "2022-01-28T11:34:09.228Z"
   },
   {
    "duration": 14,
    "start_time": "2022-01-28T11:34:09.270Z"
   },
   {
    "duration": 9,
    "start_time": "2022-01-28T11:34:09.286Z"
   },
   {
    "duration": 27,
    "start_time": "2022-01-28T11:34:09.297Z"
   },
   {
    "duration": 17,
    "start_time": "2022-01-28T11:34:09.370Z"
   },
   {
    "duration": 44,
    "start_time": "2022-01-28T11:34:09.390Z"
   },
   {
    "duration": 41,
    "start_time": "2022-01-28T11:34:09.437Z"
   },
   {
    "duration": 12,
    "start_time": "2022-01-28T11:34:09.480Z"
   },
   {
    "duration": 13,
    "start_time": "2022-01-28T11:34:09.495Z"
   },
   {
    "duration": 61,
    "start_time": "2022-01-28T11:34:09.510Z"
   },
   {
    "duration": 51,
    "start_time": "2022-01-28T11:34:09.573Z"
   },
   {
    "duration": 81,
    "start_time": "2022-01-28T11:34:09.627Z"
   },
   {
    "duration": 15,
    "start_time": "2022-01-28T11:34:09.710Z"
   },
   {
    "duration": 65,
    "start_time": "2022-01-28T11:34:09.727Z"
   },
   {
    "duration": 8,
    "start_time": "2022-01-28T11:34:09.794Z"
   },
   {
    "duration": 21,
    "start_time": "2022-01-28T11:34:09.804Z"
   },
   {
    "duration": 374,
    "start_time": "2022-01-28T11:34:09.827Z"
   },
   {
    "duration": 23,
    "start_time": "2022-01-28T11:34:10.204Z"
   },
   {
    "duration": 41,
    "start_time": "2022-01-28T11:34:10.230Z"
   },
   {
    "duration": 32,
    "start_time": "2022-01-28T11:34:10.274Z"
   },
   {
    "duration": 95,
    "start_time": "2022-01-28T11:34:10.309Z"
   },
   {
    "duration": 17,
    "start_time": "2022-01-28T11:34:10.407Z"
   },
   {
    "duration": 64,
    "start_time": "2022-01-28T11:34:10.426Z"
   },
   {
    "duration": 21,
    "start_time": "2022-01-28T11:34:10.492Z"
   },
   {
    "duration": 225,
    "start_time": "2022-01-28T11:34:10.516Z"
   },
   {
    "duration": 12,
    "start_time": "2022-01-28T11:34:10.743Z"
   },
   {
    "duration": 12,
    "start_time": "2022-01-28T11:34:10.769Z"
   },
   {
    "duration": 15,
    "start_time": "2022-01-28T11:34:10.783Z"
   },
   {
    "duration": 70,
    "start_time": "2022-01-28T11:34:10.801Z"
   },
   {
    "duration": 51,
    "start_time": "2022-01-28T11:34:10.874Z"
   },
   {
    "duration": 70,
    "start_time": "2022-01-28T11:34:10.928Z"
   },
   {
    "duration": 27,
    "start_time": "2022-01-28T11:34:11.001Z"
   },
   {
    "duration": 276,
    "start_time": "2022-01-28T11:34:11.031Z"
   },
   {
    "duration": 15,
    "start_time": "2022-01-28T11:34:11.309Z"
   },
   {
    "duration": 43,
    "start_time": "2022-01-28T11:34:11.326Z"
   },
   {
    "duration": 46,
    "start_time": "2022-01-28T11:34:11.372Z"
   },
   {
    "duration": 92,
    "start_time": "2022-01-28T11:34:11.422Z"
   },
   {
    "duration": 280,
    "start_time": "2022-01-28T11:34:11.528Z"
   },
   {
    "duration": 21,
    "start_time": "2022-01-28T11:34:11.814Z"
   },
   {
    "duration": 293,
    "start_time": "2022-01-28T11:34:11.837Z"
   },
   {
    "duration": 5,
    "start_time": "2022-01-28T11:34:12.133Z"
   },
   {
    "duration": 30,
    "start_time": "2022-01-28T11:34:12.141Z"
   },
   {
    "duration": 29,
    "start_time": "2022-01-28T11:34:12.174Z"
   },
   {
    "duration": 9,
    "start_time": "2022-01-28T11:34:12.206Z"
   },
   {
    "duration": 11,
    "start_time": "2022-01-28T11:34:12.217Z"
   },
   {
    "duration": 10,
    "start_time": "2022-01-28T11:34:12.270Z"
   },
   {
    "duration": 16,
    "start_time": "2022-01-28T11:34:12.282Z"
   },
   {
    "duration": 407,
    "start_time": "2022-01-28T11:34:12.301Z"
   },
   {
    "duration": 5,
    "start_time": "2022-01-28T11:34:12.711Z"
   },
   {
    "duration": 8,
    "start_time": "2022-01-28T11:34:12.718Z"
   },
   {
    "duration": 62,
    "start_time": "2022-01-28T11:34:12.728Z"
   },
   {
    "duration": 10,
    "start_time": "2022-01-28T11:34:12.792Z"
   },
   {
    "duration": 11,
    "start_time": "2022-01-28T11:34:12.805Z"
   },
   {
    "duration": 52,
    "start_time": "2022-01-28T11:34:12.819Z"
   },
   {
    "duration": 9,
    "start_time": "2022-01-28T11:34:12.873Z"
   },
   {
    "duration": 369,
    "start_time": "2022-01-28T11:34:12.885Z"
   },
   {
    "duration": 14,
    "start_time": "2022-01-28T11:34:13.258Z"
   },
   {
    "duration": 5,
    "start_time": "2022-01-28T11:34:13.274Z"
   },
   {
    "duration": 9,
    "start_time": "2022-01-28T11:34:13.282Z"
   },
   {
    "duration": 9,
    "start_time": "2022-01-28T11:34:13.294Z"
   },
   {
    "duration": 66,
    "start_time": "2022-01-28T11:34:13.305Z"
   },
   {
    "duration": 8,
    "start_time": "2022-01-28T11:34:13.373Z"
   },
   {
    "duration": 450,
    "start_time": "2022-01-28T11:34:13.384Z"
   },
   {
    "duration": 5,
    "start_time": "2022-01-28T11:34:13.838Z"
   },
   {
    "duration": 25,
    "start_time": "2022-01-28T11:34:13.846Z"
   },
   {
    "duration": 32,
    "start_time": "2022-01-28T11:34:13.874Z"
   },
   {
    "duration": 11,
    "start_time": "2022-01-28T11:34:13.908Z"
   },
   {
    "duration": 52,
    "start_time": "2022-01-28T11:34:13.921Z"
   },
   {
    "duration": 13,
    "start_time": "2022-01-28T11:34:13.976Z"
   },
   {
    "duration": 20,
    "start_time": "2022-01-28T11:34:13.991Z"
   },
   {
    "duration": 331,
    "start_time": "2022-01-28T11:34:14.014Z"
   },
   {
    "duration": 5,
    "start_time": "2022-01-28T11:34:14.347Z"
   },
   {
    "duration": 17,
    "start_time": "2022-01-28T11:34:14.355Z"
   },
   {
    "duration": 10,
    "start_time": "2022-01-28T11:34:14.375Z"
   },
   {
    "duration": 11,
    "start_time": "2022-01-28T11:34:14.387Z"
   },
   {
    "duration": 12,
    "start_time": "2022-01-28T11:34:14.401Z"
   },
   {
    "duration": 10,
    "start_time": "2022-01-28T11:34:14.471Z"
   },
   {
    "duration": 385,
    "start_time": "2022-01-28T11:34:14.484Z"
   },
   {
    "duration": 6,
    "start_time": "2022-01-28T11:34:14.871Z"
   },
   {
    "duration": 7,
    "start_time": "2022-01-28T11:34:14.880Z"
   },
   {
    "duration": 8,
    "start_time": "2022-01-28T11:34:14.890Z"
   },
   {
    "duration": 10,
    "start_time": "2022-01-28T11:34:14.901Z"
   },
   {
    "duration": 61,
    "start_time": "2022-01-28T11:34:14.914Z"
   },
   {
    "duration": 8,
    "start_time": "2022-01-28T11:34:14.977Z"
   },
   {
    "duration": 381,
    "start_time": "2022-01-28T11:34:14.988Z"
   },
   {
    "duration": 7,
    "start_time": "2022-01-28T11:34:15.373Z"
   },
   {
    "duration": 9,
    "start_time": "2022-01-28T11:34:15.382Z"
   },
   {
    "duration": 9,
    "start_time": "2022-01-28T11:34:15.393Z"
   },
   {
    "duration": 65,
    "start_time": "2022-01-28T11:34:15.405Z"
   },
   {
    "duration": 10,
    "start_time": "2022-01-28T11:34:15.472Z"
   },
   {
    "duration": 20,
    "start_time": "2022-01-28T11:34:15.484Z"
   },
   {
    "duration": 391,
    "start_time": "2022-01-28T11:34:15.506Z"
   },
   {
    "duration": 5,
    "start_time": "2022-01-28T11:34:15.900Z"
   },
   {
    "duration": 11,
    "start_time": "2022-01-28T11:34:15.908Z"
   },
   {
    "duration": 47,
    "start_time": "2022-01-28T11:34:15.922Z"
   },
   {
    "duration": 12,
    "start_time": "2022-01-28T11:34:15.973Z"
   },
   {
    "duration": 11,
    "start_time": "2022-01-28T11:34:15.989Z"
   },
   {
    "duration": 10,
    "start_time": "2022-01-28T11:34:16.003Z"
   },
   {
    "duration": 374,
    "start_time": "2022-01-28T11:34:16.016Z"
   },
   {
    "duration": 6,
    "start_time": "2022-01-28T11:34:16.392Z"
   },
   {
    "duration": 9,
    "start_time": "2022-01-28T11:34:16.400Z"
   },
   {
    "duration": 68,
    "start_time": "2022-01-28T11:34:16.411Z"
   },
   {
    "duration": 86,
    "start_time": "2022-01-28T11:34:16.482Z"
   },
   {
    "duration": -293,
    "start_time": "2022-01-28T11:34:16.863Z"
   },
   {
    "duration": -298,
    "start_time": "2022-01-28T11:34:16.870Z"
   },
   {
    "duration": -302,
    "start_time": "2022-01-28T11:34:16.875Z"
   },
   {
    "duration": -306,
    "start_time": "2022-01-28T11:34:16.880Z"
   },
   {
    "duration": -308,
    "start_time": "2022-01-28T11:34:16.884Z"
   },
   {
    "duration": -311,
    "start_time": "2022-01-28T11:34:16.888Z"
   },
   {
    "duration": -316,
    "start_time": "2022-01-28T11:34:16.894Z"
   },
   {
    "duration": -318,
    "start_time": "2022-01-28T11:34:16.898Z"
   },
   {
    "duration": 83,
    "start_time": "2022-01-28T11:34:30.337Z"
   },
   {
    "duration": 453,
    "start_time": "2022-01-28T11:34:37.119Z"
   },
   {
    "duration": 9,
    "start_time": "2022-01-28T11:35:09.751Z"
   },
   {
    "duration": 264,
    "start_time": "2022-01-28T11:36:15.433Z"
   },
   {
    "duration": 10,
    "start_time": "2022-01-28T11:36:32.920Z"
   },
   {
    "duration": 305,
    "start_time": "2022-01-28T11:36:34.055Z"
   },
   {
    "duration": 12,
    "start_time": "2022-01-28T11:36:35.038Z"
   },
   {
    "duration": 55,
    "start_time": "2022-01-28T11:36:35.411Z"
   },
   {
    "duration": 28,
    "start_time": "2022-01-28T11:36:36.013Z"
   },
   {
    "duration": 10,
    "start_time": "2022-01-28T11:36:36.572Z"
   },
   {
    "duration": 295,
    "start_time": "2022-01-28T11:36:36.874Z"
   },
   {
    "duration": 8,
    "start_time": "2022-01-28T11:36:37.172Z"
   },
   {
    "duration": 37,
    "start_time": "2022-01-28T11:42:58.245Z"
   },
   {
    "duration": 12,
    "start_time": "2022-01-28T11:43:41.809Z"
   },
   {
    "duration": 7,
    "start_time": "2022-01-28T11:44:20.913Z"
   },
   {
    "duration": 20,
    "start_time": "2022-01-28T11:44:26.154Z"
   },
   {
    "duration": 229,
    "start_time": "2022-01-28T11:44:35.594Z"
   },
   {
    "duration": 10,
    "start_time": "2022-01-28T11:45:11.244Z"
   },
   {
    "duration": 24,
    "start_time": "2022-01-28T11:45:27.104Z"
   },
   {
    "duration": 32,
    "start_time": "2022-01-28T11:46:57.970Z"
   },
   {
    "duration": 11,
    "start_time": "2022-01-28T11:47:07.091Z"
   },
   {
    "duration": 12,
    "start_time": "2022-01-28T11:49:54.814Z"
   },
   {
    "duration": 10,
    "start_time": "2022-01-28T11:50:41.578Z"
   },
   {
    "duration": 43,
    "start_time": "2022-01-28T11:53:45.071Z"
   },
   {
    "duration": 431,
    "start_time": "2022-01-28T11:53:51.341Z"
   },
   {
    "duration": 18,
    "start_time": "2022-01-28T11:53:57.639Z"
   },
   {
    "duration": 10,
    "start_time": "2022-01-28T11:54:32.628Z"
   },
   {
    "duration": 12,
    "start_time": "2022-01-28T11:54:38.195Z"
   },
   {
    "duration": 48,
    "start_time": "2022-01-28T11:54:39.339Z"
   },
   {
    "duration": 10,
    "start_time": "2022-01-28T11:54:41.253Z"
   },
   {
    "duration": 284,
    "start_time": "2022-01-28T11:55:27.339Z"
   },
   {
    "duration": 408,
    "start_time": "2022-01-28T11:56:01.365Z"
   },
   {
    "duration": 308,
    "start_time": "2022-01-28T11:56:15.174Z"
   },
   {
    "duration": 30,
    "start_time": "2022-01-28T11:56:16.108Z"
   },
   {
    "duration": 10,
    "start_time": "2022-01-28T11:56:17.740Z"
   },
   {
    "duration": 419,
    "start_time": "2022-01-28T11:56:18.867Z"
   },
   {
    "duration": 11,
    "start_time": "2022-01-28T11:56:27.312Z"
   },
   {
    "duration": 93,
    "start_time": "2022-01-28T12:11:40.977Z"
   },
   {
    "duration": 26,
    "start_time": "2022-01-28T12:13:32.051Z"
   },
   {
    "duration": 8,
    "start_time": "2022-01-28T12:14:30.770Z"
   },
   {
    "duration": 8,
    "start_time": "2022-01-28T12:14:53.879Z"
   },
   {
    "duration": 10,
    "start_time": "2022-01-28T12:15:13.765Z"
   },
   {
    "duration": 30,
    "start_time": "2022-01-28T12:15:41.765Z"
   },
   {
    "duration": 9,
    "start_time": "2022-01-28T12:16:07.530Z"
   },
   {
    "duration": 9,
    "start_time": "2022-01-28T12:18:02.243Z"
   },
   {
    "duration": 11,
    "start_time": "2022-01-28T12:18:37.493Z"
   },
   {
    "duration": 1625,
    "start_time": "2022-01-28T12:18:59.333Z"
   },
   {
    "duration": 608,
    "start_time": "2022-01-28T12:19:00.960Z"
   },
   {
    "duration": 18,
    "start_time": "2022-01-28T12:19:01.571Z"
   },
   {
    "duration": 40,
    "start_time": "2022-01-28T12:19:01.591Z"
   },
   {
    "duration": 77,
    "start_time": "2022-01-28T12:19:01.633Z"
   },
   {
    "duration": 20,
    "start_time": "2022-01-28T12:19:01.713Z"
   },
   {
    "duration": 48,
    "start_time": "2022-01-28T12:19:01.736Z"
   },
   {
    "duration": 27,
    "start_time": "2022-01-28T12:19:01.786Z"
   },
   {
    "duration": 69,
    "start_time": "2022-01-28T12:19:01.817Z"
   },
   {
    "duration": 16,
    "start_time": "2022-01-28T12:19:01.890Z"
   },
   {
    "duration": 9,
    "start_time": "2022-01-28T12:19:01.909Z"
   },
   {
    "duration": 58,
    "start_time": "2022-01-28T12:19:01.921Z"
   },
   {
    "duration": 32,
    "start_time": "2022-01-28T12:19:01.982Z"
   },
   {
    "duration": 14,
    "start_time": "2022-01-28T12:19:02.017Z"
   },
   {
    "duration": 12,
    "start_time": "2022-01-28T12:19:02.069Z"
   },
   {
    "duration": 20,
    "start_time": "2022-01-28T12:19:02.083Z"
   },
   {
    "duration": 15,
    "start_time": "2022-01-28T12:19:02.105Z"
   },
   {
    "duration": 47,
    "start_time": "2022-01-28T12:19:02.123Z"
   },
   {
    "duration": 14,
    "start_time": "2022-01-28T12:19:02.173Z"
   },
   {
    "duration": 25,
    "start_time": "2022-01-28T12:19:02.190Z"
   },
   {
    "duration": 59,
    "start_time": "2022-01-28T12:19:02.217Z"
   },
   {
    "duration": 16,
    "start_time": "2022-01-28T12:19:02.278Z"
   },
   {
    "duration": 16,
    "start_time": "2022-01-28T12:19:02.297Z"
   },
   {
    "duration": 8,
    "start_time": "2022-01-28T12:19:02.316Z"
   },
   {
    "duration": 10,
    "start_time": "2022-01-28T12:19:02.371Z"
   },
   {
    "duration": 183,
    "start_time": "2022-01-28T12:19:02.384Z"
   },
   {
    "duration": 106,
    "start_time": "2022-01-28T12:19:02.574Z"
   },
   {
    "duration": 55,
    "start_time": "2022-01-28T12:19:02.684Z"
   },
   {
    "duration": 34,
    "start_time": "2022-01-28T12:19:02.741Z"
   },
   {
    "duration": 9,
    "start_time": "2022-01-28T12:19:02.777Z"
   },
   {
    "duration": 7,
    "start_time": "2022-01-28T12:19:02.789Z"
   },
   {
    "duration": 14,
    "start_time": "2022-01-28T12:19:02.798Z"
   },
   {
    "duration": 57,
    "start_time": "2022-01-28T12:19:02.814Z"
   },
   {
    "duration": 23,
    "start_time": "2022-01-28T12:19:02.874Z"
   },
   {
    "duration": 72,
    "start_time": "2022-01-28T12:19:02.899Z"
   },
   {
    "duration": 43,
    "start_time": "2022-01-28T12:19:02.973Z"
   },
   {
    "duration": 11,
    "start_time": "2022-01-28T12:19:03.018Z"
   },
   {
    "duration": 46,
    "start_time": "2022-01-28T12:19:03.032Z"
   },
   {
    "duration": 21,
    "start_time": "2022-01-28T12:19:03.080Z"
   },
   {
    "duration": 67,
    "start_time": "2022-01-28T12:19:03.104Z"
   },
   {
    "duration": 49,
    "start_time": "2022-01-28T12:19:03.174Z"
   },
   {
    "duration": 103,
    "start_time": "2022-01-28T12:19:03.226Z"
   },
   {
    "duration": 42,
    "start_time": "2022-01-28T12:19:03.333Z"
   },
   {
    "duration": 38,
    "start_time": "2022-01-28T12:19:03.377Z"
   },
   {
    "duration": 8,
    "start_time": "2022-01-28T12:19:03.417Z"
   },
   {
    "duration": 19,
    "start_time": "2022-01-28T12:19:03.469Z"
   },
   {
    "duration": 259,
    "start_time": "2022-01-28T12:19:03.490Z"
   },
   {
    "duration": 19,
    "start_time": "2022-01-28T12:19:03.751Z"
   },
   {
    "duration": 23,
    "start_time": "2022-01-28T12:19:03.773Z"
   },
   {
    "duration": 21,
    "start_time": "2022-01-28T12:19:03.798Z"
   },
   {
    "duration": 70,
    "start_time": "2022-01-28T12:19:03.821Z"
   },
   {
    "duration": 77,
    "start_time": "2022-01-28T12:19:03.894Z"
   },
   {
    "duration": 22,
    "start_time": "2022-01-28T12:19:03.974Z"
   },
   {
    "duration": 70,
    "start_time": "2022-01-28T12:19:03.999Z"
   },
   {
    "duration": 21,
    "start_time": "2022-01-28T12:19:04.071Z"
   },
   {
    "duration": 218,
    "start_time": "2022-01-28T12:19:04.095Z"
   },
   {
    "duration": 13,
    "start_time": "2022-01-28T12:19:04.315Z"
   },
   {
    "duration": 41,
    "start_time": "2022-01-28T12:19:04.330Z"
   },
   {
    "duration": 12,
    "start_time": "2022-01-28T12:19:04.373Z"
   },
   {
    "duration": 37,
    "start_time": "2022-01-28T12:19:04.387Z"
   },
   {
    "duration": 83,
    "start_time": "2022-01-28T12:19:04.426Z"
   },
   {
    "duration": 66,
    "start_time": "2022-01-28T12:19:04.512Z"
   },
   {
    "duration": 25,
    "start_time": "2022-01-28T12:19:04.580Z"
   },
   {
    "duration": 260,
    "start_time": "2022-01-28T12:19:04.607Z"
   },
   {
    "duration": 14,
    "start_time": "2022-01-28T12:19:04.869Z"
   },
   {
    "duration": 15,
    "start_time": "2022-01-28T12:19:04.886Z"
   },
   {
    "duration": 90,
    "start_time": "2022-01-28T12:19:04.903Z"
   },
   {
    "duration": 46,
    "start_time": "2022-01-28T12:19:04.996Z"
   },
   {
    "duration": 267,
    "start_time": "2022-01-28T12:19:05.044Z"
   },
   {
    "duration": 22,
    "start_time": "2022-01-28T12:19:05.313Z"
   },
   {
    "duration": 301,
    "start_time": "2022-01-28T12:19:05.337Z"
   },
   {
    "duration": 7,
    "start_time": "2022-01-28T12:19:05.641Z"
   },
   {
    "duration": 21,
    "start_time": "2022-01-28T12:19:05.650Z"
   },
   {
    "duration": 60,
    "start_time": "2022-01-28T12:19:05.673Z"
   },
   {
    "duration": 10,
    "start_time": "2022-01-28T12:19:05.736Z"
   },
   {
    "duration": 9,
    "start_time": "2022-01-28T12:19:05.770Z"
   },
   {
    "duration": 14,
    "start_time": "2022-01-28T12:19:05.781Z"
   },
   {
    "duration": 12,
    "start_time": "2022-01-28T12:19:05.797Z"
   },
   {
    "duration": 453,
    "start_time": "2022-01-28T12:19:05.812Z"
   },
   {
    "duration": 4,
    "start_time": "2022-01-28T12:19:06.270Z"
   },
   {
    "duration": 6,
    "start_time": "2022-01-28T12:19:06.285Z"
   },
   {
    "duration": 76,
    "start_time": "2022-01-28T12:19:06.295Z"
   },
   {
    "duration": 8,
    "start_time": "2022-01-28T12:19:06.374Z"
   },
   {
    "duration": 8,
    "start_time": "2022-01-28T12:19:06.384Z"
   },
   {
    "duration": 10,
    "start_time": "2022-01-28T12:19:06.395Z"
   },
   {
    "duration": 9,
    "start_time": "2022-01-28T12:19:06.408Z"
   },
   {
    "duration": 354,
    "start_time": "2022-01-28T12:19:06.470Z"
   },
   {
    "duration": 6,
    "start_time": "2022-01-28T12:19:06.826Z"
   },
   {
    "duration": 9,
    "start_time": "2022-01-28T12:19:06.834Z"
   },
   {
    "duration": 31,
    "start_time": "2022-01-28T12:19:06.845Z"
   },
   {
    "duration": 9,
    "start_time": "2022-01-28T12:19:06.879Z"
   },
   {
    "duration": 14,
    "start_time": "2022-01-28T12:19:06.890Z"
   },
   {
    "duration": 8,
    "start_time": "2022-01-28T12:19:06.906Z"
   },
   {
    "duration": 503,
    "start_time": "2022-01-28T12:19:06.917Z"
   },
   {
    "duration": 5,
    "start_time": "2022-01-28T12:19:07.423Z"
   },
   {
    "duration": 39,
    "start_time": "2022-01-28T12:19:07.431Z"
   },
   {
    "duration": 26,
    "start_time": "2022-01-28T12:19:07.473Z"
   },
   {
    "duration": 12,
    "start_time": "2022-01-28T12:19:07.502Z"
   },
   {
    "duration": 53,
    "start_time": "2022-01-28T12:19:07.517Z"
   },
   {
    "duration": 9,
    "start_time": "2022-01-28T12:19:07.573Z"
   },
   {
    "duration": 20,
    "start_time": "2022-01-28T12:19:07.584Z"
   },
   {
    "duration": 349,
    "start_time": "2022-01-28T12:19:07.607Z"
   },
   {
    "duration": 10,
    "start_time": "2022-01-28T12:19:07.959Z"
   },
   {
    "duration": 5,
    "start_time": "2022-01-28T12:19:07.972Z"
   },
   {
    "duration": 8,
    "start_time": "2022-01-28T12:19:07.979Z"
   },
   {
    "duration": 11,
    "start_time": "2022-01-28T12:19:07.990Z"
   },
   {
    "duration": 66,
    "start_time": "2022-01-28T12:19:08.004Z"
   },
   {
    "duration": 8,
    "start_time": "2022-01-28T12:19:08.072Z"
   },
   {
    "duration": 396,
    "start_time": "2022-01-28T12:19:08.083Z"
   },
   {
    "duration": 5,
    "start_time": "2022-01-28T12:19:08.481Z"
   },
   {
    "duration": 10,
    "start_time": "2022-01-28T12:19:08.488Z"
   },
   {
    "duration": 10,
    "start_time": "2022-01-28T12:19:08.500Z"
   },
   {
    "duration": 57,
    "start_time": "2022-01-28T12:19:08.512Z"
   },
   {
    "duration": 9,
    "start_time": "2022-01-28T12:19:08.572Z"
   },
   {
    "duration": 9,
    "start_time": "2022-01-28T12:19:08.583Z"
   },
   {
    "duration": 398,
    "start_time": "2022-01-28T12:19:08.594Z"
   },
   {
    "duration": 5,
    "start_time": "2022-01-28T12:19:08.995Z"
   },
   {
    "duration": 9,
    "start_time": "2022-01-28T12:19:09.002Z"
   },
   {
    "duration": 55,
    "start_time": "2022-01-28T12:19:09.014Z"
   },
   {
    "duration": 9,
    "start_time": "2022-01-28T12:19:09.071Z"
   },
   {
    "duration": 8,
    "start_time": "2022-01-28T12:19:09.082Z"
   },
   {
    "duration": 8,
    "start_time": "2022-01-28T12:19:09.093Z"
   },
   {
    "duration": 422,
    "start_time": "2022-01-28T12:19:09.103Z"
   },
   {
    "duration": 5,
    "start_time": "2022-01-28T12:19:09.527Z"
   },
   {
    "duration": 10,
    "start_time": "2022-01-28T12:19:09.534Z"
   },
   {
    "duration": 30,
    "start_time": "2022-01-28T12:19:09.546Z"
   },
   {
    "duration": 11,
    "start_time": "2022-01-28T12:19:09.579Z"
   },
   {
    "duration": 8,
    "start_time": "2022-01-28T12:19:09.592Z"
   },
   {
    "duration": 67,
    "start_time": "2022-01-28T12:19:09.603Z"
   },
   {
    "duration": 352,
    "start_time": "2022-01-28T12:19:09.672Z"
   },
   {
    "duration": 6,
    "start_time": "2022-01-28T12:19:10.026Z"
   },
   {
    "duration": 11,
    "start_time": "2022-01-28T12:19:10.034Z"
   },
   {
    "duration": 30,
    "start_time": "2022-01-28T12:19:10.070Z"
   },
   {
    "duration": 9,
    "start_time": "2022-01-28T12:19:10.103Z"
   },
   {
    "duration": 367,
    "start_time": "2022-01-28T12:19:10.114Z"
   },
   {
    "duration": 29,
    "start_time": "2022-01-28T12:19:10.484Z"
   },
   {
    "duration": 10,
    "start_time": "2022-01-28T12:19:10.516Z"
   },
   {
    "duration": 355,
    "start_time": "2022-01-28T12:19:10.529Z"
   },
   {
    "duration": 10,
    "start_time": "2022-01-28T12:19:10.887Z"
   },
   {
    "duration": 27,
    "start_time": "2022-01-28T12:19:10.900Z"
   },
   {
    "duration": 10,
    "start_time": "2022-01-28T12:19:10.970Z"
   },
   {
    "duration": 16,
    "start_time": "2022-01-28T12:19:10.982Z"
   },
   {
    "duration": 9,
    "start_time": "2022-01-28T12:20:31.489Z"
   },
   {
    "duration": 10,
    "start_time": "2022-01-28T12:20:32.536Z"
   },
   {
    "duration": 395,
    "start_time": "2022-01-28T12:21:20.003Z"
   },
   {
    "duration": 280,
    "start_time": "2022-01-28T12:22:36.308Z"
   },
   {
    "duration": 266,
    "start_time": "2022-01-28T12:23:30.344Z"
   },
   {
    "duration": 2118,
    "start_time": "2022-01-28T12:23:44.128Z"
   },
   {
    "duration": 802,
    "start_time": "2022-01-28T12:23:46.251Z"
   },
   {
    "duration": 21,
    "start_time": "2022-01-28T12:23:47.057Z"
   },
   {
    "duration": 53,
    "start_time": "2022-01-28T12:23:47.080Z"
   },
   {
    "duration": 88,
    "start_time": "2022-01-28T12:23:47.136Z"
   },
   {
    "duration": 40,
    "start_time": "2022-01-28T12:23:47.229Z"
   },
   {
    "duration": 17,
    "start_time": "2022-01-28T12:23:47.273Z"
   },
   {
    "duration": 26,
    "start_time": "2022-01-28T12:23:47.294Z"
   },
   {
    "duration": 31,
    "start_time": "2022-01-28T12:23:47.371Z"
   },
   {
    "duration": 16,
    "start_time": "2022-01-28T12:23:47.405Z"
   },
   {
    "duration": 47,
    "start_time": "2022-01-28T12:23:47.424Z"
   },
   {
    "duration": 22,
    "start_time": "2022-01-28T12:23:47.473Z"
   },
   {
    "duration": 26,
    "start_time": "2022-01-28T12:23:47.498Z"
   },
   {
    "duration": 55,
    "start_time": "2022-01-28T12:23:47.526Z"
   },
   {
    "duration": 14,
    "start_time": "2022-01-28T12:23:47.584Z"
   },
   {
    "duration": 10,
    "start_time": "2022-01-28T12:23:47.600Z"
   },
   {
    "duration": 68,
    "start_time": "2022-01-28T12:23:47.613Z"
   },
   {
    "duration": 11,
    "start_time": "2022-01-28T12:23:47.688Z"
   },
   {
    "duration": 11,
    "start_time": "2022-01-28T12:23:47.703Z"
   },
   {
    "duration": 60,
    "start_time": "2022-01-28T12:23:47.717Z"
   },
   {
    "duration": 20,
    "start_time": "2022-01-28T12:23:47.779Z"
   },
   {
    "duration": 15,
    "start_time": "2022-01-28T12:23:47.802Z"
   },
   {
    "duration": 67,
    "start_time": "2022-01-28T12:23:47.819Z"
   },
   {
    "duration": 8,
    "start_time": "2022-01-28T12:23:47.889Z"
   },
   {
    "duration": 10,
    "start_time": "2022-01-28T12:23:47.900Z"
   },
   {
    "duration": 192,
    "start_time": "2022-01-28T12:23:47.913Z"
   },
   {
    "duration": 114,
    "start_time": "2022-01-28T12:23:48.107Z"
   },
   {
    "duration": 79,
    "start_time": "2022-01-28T12:23:48.224Z"
   },
   {
    "duration": 8,
    "start_time": "2022-01-28T12:23:48.305Z"
   },
   {
    "duration": 14,
    "start_time": "2022-01-28T12:23:48.315Z"
   },
   {
    "duration": 40,
    "start_time": "2022-01-28T12:23:48.331Z"
   },
   {
    "duration": 24,
    "start_time": "2022-01-28T12:23:48.374Z"
   },
   {
    "duration": 10,
    "start_time": "2022-01-28T12:23:48.400Z"
   },
   {
    "duration": 72,
    "start_time": "2022-01-28T12:23:48.413Z"
   },
   {
    "duration": 18,
    "start_time": "2022-01-28T12:23:48.487Z"
   },
   {
    "duration": 103,
    "start_time": "2022-01-28T12:23:48.508Z"
   },
   {
    "duration": 17,
    "start_time": "2022-01-28T12:23:48.613Z"
   },
   {
    "duration": 19,
    "start_time": "2022-01-28T12:23:48.669Z"
   },
   {
    "duration": 15,
    "start_time": "2022-01-28T12:23:48.690Z"
   },
   {
    "duration": 13,
    "start_time": "2022-01-28T12:23:48.707Z"
   },
   {
    "duration": 113,
    "start_time": "2022-01-28T12:23:48.722Z"
   },
   {
    "duration": 88,
    "start_time": "2022-01-28T12:23:48.838Z"
   },
   {
    "duration": 46,
    "start_time": "2022-01-28T12:23:48.929Z"
   },
   {
    "duration": 37,
    "start_time": "2022-01-28T12:23:48.978Z"
   },
   {
    "duration": 8,
    "start_time": "2022-01-28T12:23:49.018Z"
   },
   {
    "duration": 19,
    "start_time": "2022-01-28T12:23:49.069Z"
   },
   {
    "duration": 324,
    "start_time": "2022-01-28T12:23:49.091Z"
   },
   {
    "duration": 10,
    "start_time": "2022-01-28T12:23:49.417Z"
   },
   {
    "duration": 53,
    "start_time": "2022-01-28T12:23:49.429Z"
   },
   {
    "duration": 44,
    "start_time": "2022-01-28T12:23:49.484Z"
   },
   {
    "duration": 46,
    "start_time": "2022-01-28T12:23:49.530Z"
   },
   {
    "duration": 56,
    "start_time": "2022-01-28T12:23:49.578Z"
   },
   {
    "duration": 43,
    "start_time": "2022-01-28T12:23:49.637Z"
   },
   {
    "duration": 94,
    "start_time": "2022-01-28T12:23:49.690Z"
   },
   {
    "duration": 22,
    "start_time": "2022-01-28T12:23:49.789Z"
   },
   {
    "duration": 211,
    "start_time": "2022-01-28T12:23:49.814Z"
   },
   {
    "duration": 17,
    "start_time": "2022-01-28T12:23:50.028Z"
   },
   {
    "duration": 17,
    "start_time": "2022-01-28T12:23:50.071Z"
   },
   {
    "duration": 18,
    "start_time": "2022-01-28T12:23:50.090Z"
   },
   {
    "duration": 73,
    "start_time": "2022-01-28T12:23:50.110Z"
   },
   {
    "duration": 47,
    "start_time": "2022-01-28T12:23:50.186Z"
   },
   {
    "duration": 68,
    "start_time": "2022-01-28T12:23:50.236Z"
   },
   {
    "duration": 71,
    "start_time": "2022-01-28T12:23:50.307Z"
   },
   {
    "duration": 348,
    "start_time": "2022-01-28T12:23:50.381Z"
   },
   {
    "duration": 18,
    "start_time": "2022-01-28T12:23:50.731Z"
   },
   {
    "duration": 17,
    "start_time": "2022-01-28T12:23:50.769Z"
   },
   {
    "duration": 98,
    "start_time": "2022-01-28T12:23:50.789Z"
   },
   {
    "duration": 86,
    "start_time": "2022-01-28T12:23:50.890Z"
   },
   {
    "duration": 264,
    "start_time": "2022-01-28T12:23:50.979Z"
   },
   {
    "duration": 32,
    "start_time": "2022-01-28T12:23:51.246Z"
   },
   {
    "duration": 296,
    "start_time": "2022-01-28T12:23:51.281Z"
   },
   {
    "duration": 5,
    "start_time": "2022-01-28T12:23:51.580Z"
   },
   {
    "duration": 13,
    "start_time": "2022-01-28T12:23:51.587Z"
   },
   {
    "duration": 69,
    "start_time": "2022-01-28T12:23:51.603Z"
   },
   {
    "duration": 10,
    "start_time": "2022-01-28T12:23:51.675Z"
   },
   {
    "duration": 15,
    "start_time": "2022-01-28T12:23:51.687Z"
   },
   {
    "duration": 9,
    "start_time": "2022-01-28T12:23:51.705Z"
   },
   {
    "duration": 59,
    "start_time": "2022-01-28T12:23:51.716Z"
   },
   {
    "duration": 437,
    "start_time": "2022-01-28T12:23:51.777Z"
   },
   {
    "duration": 7,
    "start_time": "2022-01-28T12:23:52.217Z"
   },
   {
    "duration": 7,
    "start_time": "2022-01-28T12:23:52.226Z"
   },
   {
    "duration": 37,
    "start_time": "2022-01-28T12:23:52.268Z"
   },
   {
    "duration": 61,
    "start_time": "2022-01-28T12:23:52.308Z"
   },
   {
    "duration": 10,
    "start_time": "2022-01-28T12:23:52.372Z"
   },
   {
    "duration": 18,
    "start_time": "2022-01-28T12:23:52.385Z"
   },
   {
    "duration": 65,
    "start_time": "2022-01-28T12:23:52.406Z"
   },
   {
    "duration": 398,
    "start_time": "2022-01-28T12:23:52.474Z"
   },
   {
    "duration": 6,
    "start_time": "2022-01-28T12:23:52.874Z"
   },
   {
    "duration": 25,
    "start_time": "2022-01-28T12:23:52.883Z"
   },
   {
    "duration": 22,
    "start_time": "2022-01-28T12:23:52.910Z"
   },
   {
    "duration": 14,
    "start_time": "2022-01-28T12:23:52.971Z"
   },
   {
    "duration": 19,
    "start_time": "2022-01-28T12:23:52.987Z"
   },
   {
    "duration": 18,
    "start_time": "2022-01-28T12:23:53.009Z"
   },
   {
    "duration": 440,
    "start_time": "2022-01-28T12:23:53.069Z"
   },
   {
    "duration": 6,
    "start_time": "2022-01-28T12:23:53.512Z"
   },
   {
    "duration": 8,
    "start_time": "2022-01-28T12:23:53.521Z"
   },
   {
    "duration": 57,
    "start_time": "2022-01-28T12:23:53.532Z"
   },
   {
    "duration": 13,
    "start_time": "2022-01-28T12:23:53.592Z"
   },
   {
    "duration": 62,
    "start_time": "2022-01-28T12:23:53.608Z"
   },
   {
    "duration": 11,
    "start_time": "2022-01-28T12:23:53.673Z"
   },
   {
    "duration": 13,
    "start_time": "2022-01-28T12:23:53.686Z"
   },
   {
    "duration": 451,
    "start_time": "2022-01-28T12:23:53.702Z"
   },
   {
    "duration": 16,
    "start_time": "2022-01-28T12:23:54.155Z"
   },
   {
    "duration": 15,
    "start_time": "2022-01-28T12:23:54.174Z"
   },
   {
    "duration": 10,
    "start_time": "2022-01-28T12:23:54.192Z"
   },
   {
    "duration": 9,
    "start_time": "2022-01-28T12:23:54.205Z"
   },
   {
    "duration": 66,
    "start_time": "2022-01-28T12:23:54.216Z"
   },
   {
    "duration": 20,
    "start_time": "2022-01-28T12:23:54.286Z"
   },
   {
    "duration": 452,
    "start_time": "2022-01-28T12:23:54.309Z"
   },
   {
    "duration": 5,
    "start_time": "2022-01-28T12:23:54.768Z"
   },
   {
    "duration": 13,
    "start_time": "2022-01-28T12:23:54.776Z"
   },
   {
    "duration": 11,
    "start_time": "2022-01-28T12:23:54.792Z"
   },
   {
    "duration": 63,
    "start_time": "2022-01-28T12:23:54.806Z"
   },
   {
    "duration": 10,
    "start_time": "2022-01-28T12:23:54.872Z"
   },
   {
    "duration": 11,
    "start_time": "2022-01-28T12:23:54.886Z"
   },
   {
    "duration": 443,
    "start_time": "2022-01-28T12:23:54.901Z"
   },
   {
    "duration": 7,
    "start_time": "2022-01-28T12:23:55.346Z"
   },
   {
    "duration": 6,
    "start_time": "2022-01-28T12:23:55.371Z"
   },
   {
    "duration": 14,
    "start_time": "2022-01-28T12:23:55.381Z"
   },
   {
    "duration": 13,
    "start_time": "2022-01-28T12:23:55.398Z"
   },
   {
    "duration": 72,
    "start_time": "2022-01-28T12:23:55.414Z"
   },
   {
    "duration": 21,
    "start_time": "2022-01-28T12:23:55.489Z"
   },
   {
    "duration": 527,
    "start_time": "2022-01-28T12:23:55.514Z"
   },
   {
    "duration": 8,
    "start_time": "2022-01-28T12:23:56.045Z"
   },
   {
    "duration": 5,
    "start_time": "2022-01-28T12:23:56.071Z"
   },
   {
    "duration": 13,
    "start_time": "2022-01-28T12:23:56.079Z"
   },
   {
    "duration": 10,
    "start_time": "2022-01-28T12:23:56.095Z"
   },
   {
    "duration": 68,
    "start_time": "2022-01-28T12:23:56.108Z"
   },
   {
    "duration": 10,
    "start_time": "2022-01-28T12:23:56.179Z"
   },
   {
    "duration": 394,
    "start_time": "2022-01-28T12:23:56.191Z"
   },
   {
    "duration": 8,
    "start_time": "2022-01-28T12:23:56.587Z"
   },
   {
    "duration": 8,
    "start_time": "2022-01-28T12:23:56.597Z"
   },
   {
    "duration": 82,
    "start_time": "2022-01-28T12:23:56.607Z"
   },
   {
    "duration": 12,
    "start_time": "2022-01-28T12:23:56.692Z"
   },
   {
    "duration": 455,
    "start_time": "2022-01-28T12:23:56.707Z"
   },
   {
    "duration": 33,
    "start_time": "2022-01-28T12:23:57.164Z"
   },
   {
    "duration": 10,
    "start_time": "2022-01-28T12:23:57.200Z"
   },
   {
    "duration": 333,
    "start_time": "2022-01-28T12:23:57.213Z"
   },
   {
    "duration": 24,
    "start_time": "2022-01-28T12:23:57.549Z"
   },
   {
    "duration": 32,
    "start_time": "2022-01-28T12:23:57.576Z"
   },
   {
    "duration": 10,
    "start_time": "2022-01-28T12:23:57.611Z"
   },
   {
    "duration": 461,
    "start_time": "2022-01-28T12:23:57.623Z"
   },
   {
    "duration": -813,
    "start_time": "2022-01-28T12:23:58.899Z"
   },
   {
    "duration": -817,
    "start_time": "2022-01-28T12:23:58.905Z"
   },
   {
    "duration": -825,
    "start_time": "2022-01-28T12:23:58.914Z"
   },
   {
    "duration": 10,
    "start_time": "2022-01-28T12:24:25.906Z"
   },
   {
    "duration": 621,
    "start_time": "2022-01-28T12:24:29.661Z"
   },
   {
    "duration": 336,
    "start_time": "2022-01-28T12:25:11.704Z"
   },
   {
    "duration": 287,
    "start_time": "2022-01-28T12:25:35.205Z"
   },
   {
    "duration": 292,
    "start_time": "2022-01-28T12:25:54.458Z"
   },
   {
    "duration": 107,
    "start_time": "2022-01-28T12:33:43.556Z"
   },
   {
    "duration": 280,
    "start_time": "2022-01-28T12:33:59.094Z"
   },
   {
    "duration": 271,
    "start_time": "2022-01-28T12:34:13.068Z"
   },
   {
    "duration": 266,
    "start_time": "2022-01-28T12:36:13.504Z"
   },
   {
    "duration": 245,
    "start_time": "2022-01-28T12:36:49.155Z"
   },
   {
    "duration": 10,
    "start_time": "2022-01-28T12:41:11.571Z"
   },
   {
    "duration": 285,
    "start_time": "2022-01-28T12:41:32.272Z"
   },
   {
    "duration": 15,
    "start_time": "2022-01-28T12:41:47.718Z"
   },
   {
    "duration": 9,
    "start_time": "2022-01-28T12:43:37.712Z"
   },
   {
    "duration": 10,
    "start_time": "2022-01-28T12:43:45.756Z"
   },
   {
    "duration": 22,
    "start_time": "2022-01-28T12:44:42.076Z"
   },
   {
    "duration": 7,
    "start_time": "2022-01-28T12:45:25.792Z"
   },
   {
    "duration": 12,
    "start_time": "2022-01-28T12:45:37.859Z"
   },
   {
    "duration": 269,
    "start_time": "2022-01-28T12:50:09.385Z"
   },
   {
    "duration": 10,
    "start_time": "2022-01-28T12:50:16.564Z"
   },
   {
    "duration": 1709,
    "start_time": "2022-01-28T12:50:28.876Z"
   },
   {
    "duration": 564,
    "start_time": "2022-01-28T12:50:30.589Z"
   },
   {
    "duration": 18,
    "start_time": "2022-01-28T12:50:31.157Z"
   },
   {
    "duration": 43,
    "start_time": "2022-01-28T12:50:31.178Z"
   },
   {
    "duration": 71,
    "start_time": "2022-01-28T12:50:31.224Z"
   },
   {
    "duration": 20,
    "start_time": "2022-01-28T12:50:31.298Z"
   },
   {
    "duration": 49,
    "start_time": "2022-01-28T12:50:31.324Z"
   },
   {
    "duration": 28,
    "start_time": "2022-01-28T12:50:31.378Z"
   },
   {
    "duration": 80,
    "start_time": "2022-01-28T12:50:31.408Z"
   },
   {
    "duration": 17,
    "start_time": "2022-01-28T12:50:31.491Z"
   },
   {
    "duration": 10,
    "start_time": "2022-01-28T12:50:31.511Z"
   },
   {
    "duration": 56,
    "start_time": "2022-01-28T12:50:31.524Z"
   },
   {
    "duration": 26,
    "start_time": "2022-01-28T12:50:31.583Z"
   },
   {
    "duration": 59,
    "start_time": "2022-01-28T12:50:31.612Z"
   },
   {
    "duration": 13,
    "start_time": "2022-01-28T12:50:31.673Z"
   },
   {
    "duration": 8,
    "start_time": "2022-01-28T12:50:31.689Z"
   },
   {
    "duration": 70,
    "start_time": "2022-01-28T12:50:31.700Z"
   },
   {
    "duration": 9,
    "start_time": "2022-01-28T12:50:31.773Z"
   },
   {
    "duration": 10,
    "start_time": "2022-01-28T12:50:31.785Z"
   },
   {
    "duration": 10,
    "start_time": "2022-01-28T12:50:31.798Z"
   },
   {
    "duration": 71,
    "start_time": "2022-01-28T12:50:31.811Z"
   },
   {
    "duration": 16,
    "start_time": "2022-01-28T12:50:31.889Z"
   },
   {
    "duration": 71,
    "start_time": "2022-01-28T12:50:31.910Z"
   },
   {
    "duration": 14,
    "start_time": "2022-01-28T12:50:31.983Z"
   },
   {
    "duration": 10,
    "start_time": "2022-01-28T12:50:32.000Z"
   },
   {
    "duration": 201,
    "start_time": "2022-01-28T12:50:32.012Z"
   },
   {
    "duration": 119,
    "start_time": "2022-01-28T12:50:32.215Z"
   },
   {
    "duration": 73,
    "start_time": "2022-01-28T12:50:32.337Z"
   },
   {
    "duration": 9,
    "start_time": "2022-01-28T12:50:32.413Z"
   },
   {
    "duration": 12,
    "start_time": "2022-01-28T12:50:32.424Z"
   },
   {
    "duration": 8,
    "start_time": "2022-01-28T12:50:32.470Z"
   },
   {
    "duration": 17,
    "start_time": "2022-01-28T12:50:32.480Z"
   },
   {
    "duration": 11,
    "start_time": "2022-01-28T12:50:32.499Z"
   },
   {
    "duration": 72,
    "start_time": "2022-01-28T12:50:32.512Z"
   },
   {
    "duration": 20,
    "start_time": "2022-01-28T12:50:32.587Z"
   },
   {
    "duration": 97,
    "start_time": "2022-01-28T12:50:32.610Z"
   },
   {
    "duration": 12,
    "start_time": "2022-01-28T12:50:32.710Z"
   },
   {
    "duration": 46,
    "start_time": "2022-01-28T12:50:32.725Z"
   },
   {
    "duration": 13,
    "start_time": "2022-01-28T12:50:32.774Z"
   },
   {
    "duration": 16,
    "start_time": "2022-01-28T12:50:32.789Z"
   },
   {
    "duration": 113,
    "start_time": "2022-01-28T12:50:32.808Z"
   },
   {
    "duration": 83,
    "start_time": "2022-01-28T12:50:32.923Z"
   },
   {
    "duration": 15,
    "start_time": "2022-01-28T12:50:33.009Z"
   },
   {
    "duration": 63,
    "start_time": "2022-01-28T12:50:33.027Z"
   },
   {
    "duration": 7,
    "start_time": "2022-01-28T12:50:33.093Z"
   },
   {
    "duration": 23,
    "start_time": "2022-01-28T12:50:33.103Z"
   },
   {
    "duration": 348,
    "start_time": "2022-01-28T12:50:33.169Z"
   },
   {
    "duration": 11,
    "start_time": "2022-01-28T12:50:33.520Z"
   },
   {
    "duration": 60,
    "start_time": "2022-01-28T12:50:33.533Z"
   },
   {
    "duration": 18,
    "start_time": "2022-01-28T12:50:33.595Z"
   },
   {
    "duration": 73,
    "start_time": "2022-01-28T12:50:33.616Z"
   },
   {
    "duration": 92,
    "start_time": "2022-01-28T12:50:33.692Z"
   },
   {
    "duration": 17,
    "start_time": "2022-01-28T12:50:33.787Z"
   },
   {
    "duration": 79,
    "start_time": "2022-01-28T12:50:33.807Z"
   },
   {
    "duration": 22,
    "start_time": "2022-01-28T12:50:33.888Z"
   },
   {
    "duration": 232,
    "start_time": "2022-01-28T12:50:33.912Z"
   },
   {
    "duration": 25,
    "start_time": "2022-01-28T12:50:34.146Z"
   },
   {
    "duration": 19,
    "start_time": "2022-01-28T12:50:34.174Z"
   },
   {
    "duration": 17,
    "start_time": "2022-01-28T12:50:34.195Z"
   },
   {
    "duration": 74,
    "start_time": "2022-01-28T12:50:34.215Z"
   },
   {
    "duration": 77,
    "start_time": "2022-01-28T12:50:34.292Z"
   },
   {
    "duration": 35,
    "start_time": "2022-01-28T12:50:34.372Z"
   },
   {
    "duration": 61,
    "start_time": "2022-01-28T12:50:34.410Z"
   },
   {
    "duration": 236,
    "start_time": "2022-01-28T12:50:34.474Z"
   },
   {
    "duration": 14,
    "start_time": "2022-01-28T12:50:34.712Z"
   },
   {
    "duration": 43,
    "start_time": "2022-01-28T12:50:34.728Z"
   },
   {
    "duration": 45,
    "start_time": "2022-01-28T12:50:34.782Z"
   },
   {
    "duration": 84,
    "start_time": "2022-01-28T12:50:34.831Z"
   },
   {
    "duration": 279,
    "start_time": "2022-01-28T12:50:34.918Z"
   },
   {
    "duration": 26,
    "start_time": "2022-01-28T12:50:35.200Z"
   },
   {
    "duration": 313,
    "start_time": "2022-01-28T12:50:35.229Z"
   },
   {
    "duration": 7,
    "start_time": "2022-01-28T12:50:35.545Z"
   },
   {
    "duration": 7,
    "start_time": "2022-01-28T12:50:35.570Z"
   },
   {
    "duration": 93,
    "start_time": "2022-01-28T12:50:35.580Z"
   },
   {
    "duration": 12,
    "start_time": "2022-01-28T12:50:35.676Z"
   },
   {
    "duration": 14,
    "start_time": "2022-01-28T12:50:35.691Z"
   },
   {
    "duration": 63,
    "start_time": "2022-01-28T12:50:35.708Z"
   },
   {
    "duration": 12,
    "start_time": "2022-01-28T12:50:35.774Z"
   },
   {
    "duration": 438,
    "start_time": "2022-01-28T12:50:35.789Z"
   },
   {
    "duration": 18,
    "start_time": "2022-01-28T12:50:36.229Z"
   },
   {
    "duration": 23,
    "start_time": "2022-01-28T12:50:36.250Z"
   },
   {
    "duration": 35,
    "start_time": "2022-01-28T12:50:36.276Z"
   },
   {
    "duration": 31,
    "start_time": "2022-01-28T12:50:36.314Z"
   },
   {
    "duration": 9,
    "start_time": "2022-01-28T12:50:36.369Z"
   },
   {
    "duration": 9,
    "start_time": "2022-01-28T12:50:36.381Z"
   },
   {
    "duration": 10,
    "start_time": "2022-01-28T12:50:36.393Z"
   },
   {
    "duration": 397,
    "start_time": "2022-01-28T12:50:36.406Z"
   },
   {
    "duration": 5,
    "start_time": "2022-01-28T12:50:36.806Z"
   },
   {
    "duration": 8,
    "start_time": "2022-01-28T12:50:36.813Z"
   },
   {
    "duration": 12,
    "start_time": "2022-01-28T12:50:36.823Z"
   },
   {
    "duration": 13,
    "start_time": "2022-01-28T12:50:36.870Z"
   },
   {
    "duration": 13,
    "start_time": "2022-01-28T12:50:36.886Z"
   },
   {
    "duration": 9,
    "start_time": "2022-01-28T12:50:36.902Z"
   },
   {
    "duration": 494,
    "start_time": "2022-01-28T12:50:36.913Z"
   },
   {
    "duration": 9,
    "start_time": "2022-01-28T12:50:37.410Z"
   },
   {
    "duration": 8,
    "start_time": "2022-01-28T12:50:37.422Z"
   },
   {
    "duration": 63,
    "start_time": "2022-01-28T12:50:37.434Z"
   },
   {
    "duration": 15,
    "start_time": "2022-01-28T12:50:37.500Z"
   },
   {
    "duration": 9,
    "start_time": "2022-01-28T12:50:37.569Z"
   },
   {
    "duration": 11,
    "start_time": "2022-01-28T12:50:37.580Z"
   },
   {
    "duration": 16,
    "start_time": "2022-01-28T12:50:37.594Z"
   },
   {
    "duration": 372,
    "start_time": "2022-01-28T12:50:37.612Z"
   },
   {
    "duration": 7,
    "start_time": "2022-01-28T12:50:37.987Z"
   },
   {
    "duration": 19,
    "start_time": "2022-01-28T12:50:37.997Z"
   },
   {
    "duration": 50,
    "start_time": "2022-01-28T12:50:38.019Z"
   },
   {
    "duration": 10,
    "start_time": "2022-01-28T12:50:38.072Z"
   },
   {
    "duration": 15,
    "start_time": "2022-01-28T12:50:38.085Z"
   },
   {
    "duration": 14,
    "start_time": "2022-01-28T12:50:38.103Z"
   },
   {
    "duration": 430,
    "start_time": "2022-01-28T12:50:38.119Z"
   },
   {
    "duration": 18,
    "start_time": "2022-01-28T12:50:38.552Z"
   },
   {
    "duration": 13,
    "start_time": "2022-01-28T12:50:38.574Z"
   },
   {
    "duration": 16,
    "start_time": "2022-01-28T12:50:38.590Z"
   },
   {
    "duration": 62,
    "start_time": "2022-01-28T12:50:38.609Z"
   },
   {
    "duration": 9,
    "start_time": "2022-01-28T12:50:38.675Z"
   },
   {
    "duration": 15,
    "start_time": "2022-01-28T12:50:38.686Z"
   },
   {
    "duration": 406,
    "start_time": "2022-01-28T12:50:38.703Z"
   },
   {
    "duration": 5,
    "start_time": "2022-01-28T12:50:39.112Z"
   },
   {
    "duration": 13,
    "start_time": "2022-01-28T12:50:39.120Z"
   },
   {
    "duration": 38,
    "start_time": "2022-01-28T12:50:39.135Z"
   },
   {
    "duration": 9,
    "start_time": "2022-01-28T12:50:39.176Z"
   },
   {
    "duration": 12,
    "start_time": "2022-01-28T12:50:39.187Z"
   },
   {
    "duration": 11,
    "start_time": "2022-01-28T12:50:39.202Z"
   },
   {
    "duration": 416,
    "start_time": "2022-01-28T12:50:39.215Z"
   },
   {
    "duration": 5,
    "start_time": "2022-01-28T12:50:39.634Z"
   },
   {
    "duration": 29,
    "start_time": "2022-01-28T12:50:39.642Z"
   },
   {
    "duration": 12,
    "start_time": "2022-01-28T12:50:39.674Z"
   },
   {
    "duration": 11,
    "start_time": "2022-01-28T12:50:39.689Z"
   },
   {
    "duration": 11,
    "start_time": "2022-01-28T12:50:39.702Z"
   },
   {
    "duration": 62,
    "start_time": "2022-01-28T12:50:39.715Z"
   },
   {
    "duration": 347,
    "start_time": "2022-01-28T12:50:39.780Z"
   },
   {
    "duration": 6,
    "start_time": "2022-01-28T12:50:40.129Z"
   },
   {
    "duration": 37,
    "start_time": "2022-01-28T12:50:40.137Z"
   },
   {
    "duration": 39,
    "start_time": "2022-01-28T12:50:40.177Z"
   },
   {
    "duration": 50,
    "start_time": "2022-01-28T12:50:40.219Z"
   },
   {
    "duration": 333,
    "start_time": "2022-01-28T12:50:40.272Z"
   },
   {
    "duration": 61,
    "start_time": "2022-01-28T12:50:40.608Z"
   },
   {
    "duration": 12,
    "start_time": "2022-01-28T12:50:40.672Z"
   },
   {
    "duration": 367,
    "start_time": "2022-01-28T12:50:40.687Z"
   },
   {
    "duration": 21,
    "start_time": "2022-01-28T12:50:41.056Z"
   },
   {
    "duration": 33,
    "start_time": "2022-01-28T12:50:41.080Z"
   },
   {
    "duration": 53,
    "start_time": "2022-01-28T12:50:41.116Z"
   },
   {
    "duration": 15,
    "start_time": "2022-01-28T12:50:41.173Z"
   },
   {
    "duration": 18,
    "start_time": "2022-01-28T12:50:41.190Z"
   },
   {
    "duration": 60,
    "start_time": "2022-01-28T12:50:41.211Z"
   },
   {
    "duration": 18,
    "start_time": "2022-01-28T12:50:41.274Z"
   },
   {
    "duration": 483,
    "start_time": "2022-01-28T12:50:41.295Z"
   },
   {
    "duration": -66,
    "start_time": "2022-01-28T12:50:41.847Z"
   },
   {
    "duration": -76,
    "start_time": "2022-01-28T12:50:41.858Z"
   },
   {
    "duration": 10,
    "start_time": "2022-01-28T12:51:01.311Z"
   },
   {
    "duration": 11,
    "start_time": "2022-01-28T12:51:26.451Z"
   },
   {
    "duration": 10,
    "start_time": "2022-01-28T12:51:42.280Z"
   },
   {
    "duration": 10,
    "start_time": "2022-01-28T12:51:43.284Z"
   },
   {
    "duration": 10,
    "start_time": "2022-01-28T12:51:44.259Z"
   },
   {
    "duration": 10,
    "start_time": "2022-01-28T12:51:45.302Z"
   },
   {
    "duration": 321,
    "start_time": "2022-01-28T12:54:33.074Z"
   },
   {
    "duration": 289,
    "start_time": "2022-01-28T12:56:41.565Z"
   },
   {
    "duration": 10,
    "start_time": "2022-01-28T12:56:55.059Z"
   },
   {
    "duration": 377,
    "start_time": "2022-01-28T12:58:23.222Z"
   },
   {
    "duration": 9,
    "start_time": "2022-01-28T13:12:52.804Z"
   },
   {
    "duration": 6,
    "start_time": "2022-01-28T13:14:02.833Z"
   },
   {
    "duration": 10,
    "start_time": "2022-01-28T13:14:53.301Z"
   },
   {
    "duration": 11,
    "start_time": "2022-01-28T13:18:37.387Z"
   },
   {
    "duration": 10,
    "start_time": "2022-01-28T13:18:46.905Z"
   },
   {
    "duration": 10,
    "start_time": "2022-01-28T13:19:14.105Z"
   },
   {
    "duration": 10,
    "start_time": "2022-01-28T13:19:27.748Z"
   },
   {
    "duration": 10,
    "start_time": "2022-01-28T13:20:11.013Z"
   },
   {
    "duration": 3572,
    "start_time": "2022-01-28T13:20:31.959Z"
   },
   {
    "duration": 10,
    "start_time": "2022-01-28T13:21:05.007Z"
   },
   {
    "duration": 10,
    "start_time": "2022-01-28T13:21:53.090Z"
   },
   {
    "duration": 85,
    "start_time": "2022-01-28T13:22:47.695Z"
   },
   {
    "duration": 323,
    "start_time": "2022-01-28T13:33:16.953Z"
   },
   {
    "duration": 9,
    "start_time": "2022-01-28T13:33:23.036Z"
   },
   {
    "duration": 371,
    "start_time": "2022-01-28T13:33:27.007Z"
   },
   {
    "duration": 10,
    "start_time": "2022-01-28T13:34:43.392Z"
   },
   {
    "duration": 1832,
    "start_time": "2022-01-28T15:33:57.538Z"
   },
   {
    "duration": 570,
    "start_time": "2022-01-28T15:33:59.377Z"
   },
   {
    "duration": 19,
    "start_time": "2022-01-28T15:33:59.950Z"
   },
   {
    "duration": 41,
    "start_time": "2022-01-28T15:33:59.972Z"
   },
   {
    "duration": 72,
    "start_time": "2022-01-28T15:34:00.016Z"
   },
   {
    "duration": 21,
    "start_time": "2022-01-28T15:34:00.090Z"
   },
   {
    "duration": 16,
    "start_time": "2022-01-28T15:34:00.115Z"
   },
   {
    "duration": 77,
    "start_time": "2022-01-28T15:34:00.135Z"
   },
   {
    "duration": 54,
    "start_time": "2022-01-28T15:34:00.215Z"
   },
   {
    "duration": 17,
    "start_time": "2022-01-28T15:34:00.272Z"
   },
   {
    "duration": 14,
    "start_time": "2022-01-28T15:34:00.291Z"
   },
   {
    "duration": 67,
    "start_time": "2022-01-28T15:34:00.307Z"
   },
   {
    "duration": 28,
    "start_time": "2022-01-28T15:34:00.376Z"
   },
   {
    "duration": 16,
    "start_time": "2022-01-28T15:34:00.406Z"
   },
   {
    "duration": 53,
    "start_time": "2022-01-28T15:34:00.426Z"
   },
   {
    "duration": 19,
    "start_time": "2022-01-28T15:34:00.482Z"
   },
   {
    "duration": 26,
    "start_time": "2022-01-28T15:34:00.504Z"
   },
   {
    "duration": 45,
    "start_time": "2022-01-28T15:34:00.533Z"
   },
   {
    "duration": 36,
    "start_time": "2022-01-28T15:34:00.580Z"
   },
   {
    "duration": 26,
    "start_time": "2022-01-28T15:34:00.618Z"
   },
   {
    "duration": 33,
    "start_time": "2022-01-28T15:34:00.646Z"
   },
   {
    "duration": 15,
    "start_time": "2022-01-28T15:34:00.686Z"
   },
   {
    "duration": 21,
    "start_time": "2022-01-28T15:34:00.705Z"
   },
   {
    "duration": 46,
    "start_time": "2022-01-28T15:34:00.728Z"
   },
   {
    "duration": 25,
    "start_time": "2022-01-28T15:34:00.777Z"
   },
   {
    "duration": 167,
    "start_time": "2022-01-28T15:34:00.804Z"
   },
   {
    "duration": 165,
    "start_time": "2022-01-28T15:34:00.974Z"
   },
   {
    "duration": 76,
    "start_time": "2022-01-28T15:34:01.142Z"
   },
   {
    "duration": 24,
    "start_time": "2022-01-28T15:34:01.221Z"
   },
   {
    "duration": 39,
    "start_time": "2022-01-28T15:34:01.247Z"
   },
   {
    "duration": 20,
    "start_time": "2022-01-28T15:34:01.289Z"
   },
   {
    "duration": 30,
    "start_time": "2022-01-28T15:34:01.313Z"
   },
   {
    "duration": 37,
    "start_time": "2022-01-28T15:34:01.346Z"
   },
   {
    "duration": 50,
    "start_time": "2022-01-28T15:34:01.386Z"
   },
   {
    "duration": 47,
    "start_time": "2022-01-28T15:34:01.439Z"
   },
   {
    "duration": 62,
    "start_time": "2022-01-28T15:34:01.488Z"
   },
   {
    "duration": 27,
    "start_time": "2022-01-28T15:34:01.552Z"
   },
   {
    "duration": 35,
    "start_time": "2022-01-28T15:34:01.581Z"
   },
   {
    "duration": 28,
    "start_time": "2022-01-28T15:34:01.619Z"
   },
   {
    "duration": 19,
    "start_time": "2022-01-28T15:34:01.650Z"
   },
   {
    "duration": 56,
    "start_time": "2022-01-28T15:34:01.672Z"
   },
   {
    "duration": 90,
    "start_time": "2022-01-28T15:34:01.730Z"
   },
   {
    "duration": 22,
    "start_time": "2022-01-28T15:34:01.822Z"
   },
   {
    "duration": 38,
    "start_time": "2022-01-28T15:34:01.870Z"
   },
   {
    "duration": 11,
    "start_time": "2022-01-28T15:34:01.911Z"
   },
   {
    "duration": 47,
    "start_time": "2022-01-28T15:34:01.925Z"
   },
   {
    "duration": 27,
    "start_time": "2022-01-28T15:34:01.975Z"
   },
   {
    "duration": 259,
    "start_time": "2022-01-28T15:34:02.005Z"
   },
   {
    "duration": 9,
    "start_time": "2022-01-28T15:34:02.269Z"
   },
   {
    "duration": 29,
    "start_time": "2022-01-28T15:34:02.280Z"
   },
   {
    "duration": 59,
    "start_time": "2022-01-28T15:34:02.312Z"
   },
   {
    "duration": 30,
    "start_time": "2022-01-28T15:34:02.374Z"
   },
   {
    "duration": 87,
    "start_time": "2022-01-28T15:34:02.406Z"
   },
   {
    "duration": 14,
    "start_time": "2022-01-28T15:34:02.496Z"
   },
   {
    "duration": 68,
    "start_time": "2022-01-28T15:34:02.512Z"
   },
   {
    "duration": 27,
    "start_time": "2022-01-28T15:34:02.583Z"
   },
   {
    "duration": 224,
    "start_time": "2022-01-28T15:34:02.613Z"
   },
   {
    "duration": 14,
    "start_time": "2022-01-28T15:34:02.839Z"
   },
   {
    "duration": 27,
    "start_time": "2022-01-28T15:34:02.855Z"
   },
   {
    "duration": 15,
    "start_time": "2022-01-28T15:34:02.885Z"
   },
   {
    "duration": 75,
    "start_time": "2022-01-28T15:34:02.903Z"
   },
   {
    "duration": 45,
    "start_time": "2022-01-28T15:34:02.980Z"
   },
   {
    "duration": 62,
    "start_time": "2022-01-28T15:34:03.028Z"
   },
   {
    "duration": 21,
    "start_time": "2022-01-28T15:34:03.093Z"
   },
   {
    "duration": 256,
    "start_time": "2022-01-28T15:34:03.116Z"
   },
   {
    "duration": 14,
    "start_time": "2022-01-28T15:34:03.374Z"
   },
   {
    "duration": 12,
    "start_time": "2022-01-28T15:34:03.398Z"
   },
   {
    "duration": 105,
    "start_time": "2022-01-28T15:34:03.416Z"
   },
   {
    "duration": 68,
    "start_time": "2022-01-28T15:34:03.523Z"
   },
   {
    "duration": 248,
    "start_time": "2022-01-28T15:34:03.594Z"
   },
   {
    "duration": 35,
    "start_time": "2022-01-28T15:34:03.844Z"
   },
   {
    "duration": 296,
    "start_time": "2022-01-28T15:34:03.881Z"
   },
   {
    "duration": 10,
    "start_time": "2022-01-28T15:34:04.186Z"
   },
   {
    "duration": 43,
    "start_time": "2022-01-28T15:34:04.201Z"
   },
   {
    "duration": 125,
    "start_time": "2022-01-28T15:34:04.248Z"
   },
   {
    "duration": 11,
    "start_time": "2022-01-28T15:34:04.376Z"
   },
   {
    "duration": 10,
    "start_time": "2022-01-28T15:34:04.389Z"
   },
   {
    "duration": 9,
    "start_time": "2022-01-28T15:34:04.401Z"
   },
   {
    "duration": 58,
    "start_time": "2022-01-28T15:34:04.413Z"
   },
   {
    "duration": 383,
    "start_time": "2022-01-28T15:34:04.473Z"
   },
   {
    "duration": 14,
    "start_time": "2022-01-28T15:34:04.859Z"
   },
   {
    "duration": 8,
    "start_time": "2022-01-28T15:34:04.876Z"
   },
   {
    "duration": 39,
    "start_time": "2022-01-28T15:34:04.886Z"
   },
   {
    "duration": 46,
    "start_time": "2022-01-28T15:34:04.927Z"
   },
   {
    "duration": 9,
    "start_time": "2022-01-28T15:34:04.976Z"
   },
   {
    "duration": 10,
    "start_time": "2022-01-28T15:34:04.988Z"
   },
   {
    "duration": 13,
    "start_time": "2022-01-28T15:34:05.000Z"
   },
   {
    "duration": 364,
    "start_time": "2022-01-28T15:34:05.015Z"
   },
   {
    "duration": 6,
    "start_time": "2022-01-28T15:34:05.381Z"
   },
   {
    "duration": 9,
    "start_time": "2022-01-28T15:34:05.390Z"
   },
   {
    "duration": 20,
    "start_time": "2022-01-28T15:34:05.402Z"
   },
   {
    "duration": 48,
    "start_time": "2022-01-28T15:34:05.425Z"
   },
   {
    "duration": 13,
    "start_time": "2022-01-28T15:34:05.477Z"
   },
   {
    "duration": 12,
    "start_time": "2022-01-28T15:34:05.493Z"
   },
   {
    "duration": 620,
    "start_time": "2022-01-28T15:34:05.508Z"
   },
   {
    "duration": 6,
    "start_time": "2022-01-28T15:34:06.131Z"
   },
   {
    "duration": 33,
    "start_time": "2022-01-28T15:34:06.140Z"
   },
   {
    "duration": 30,
    "start_time": "2022-01-28T15:34:06.176Z"
   },
   {
    "duration": 8,
    "start_time": "2022-01-28T15:34:06.208Z"
   },
   {
    "duration": 8,
    "start_time": "2022-01-28T15:34:06.219Z"
   },
   {
    "duration": 8,
    "start_time": "2022-01-28T15:34:06.271Z"
   },
   {
    "duration": 10,
    "start_time": "2022-01-28T15:34:06.282Z"
   },
   {
    "duration": 334,
    "start_time": "2022-01-28T15:34:06.294Z"
   },
   {
    "duration": 6,
    "start_time": "2022-01-28T15:34:06.631Z"
   },
   {
    "duration": 31,
    "start_time": "2022-01-28T15:34:06.639Z"
   },
   {
    "duration": 9,
    "start_time": "2022-01-28T15:34:06.672Z"
   },
   {
    "duration": 10,
    "start_time": "2022-01-28T15:34:06.684Z"
   },
   {
    "duration": 12,
    "start_time": "2022-01-28T15:34:06.696Z"
   },
   {
    "duration": 62,
    "start_time": "2022-01-28T15:34:06.711Z"
   },
   {
    "duration": 362,
    "start_time": "2022-01-28T15:34:06.775Z"
   },
   {
    "duration": 6,
    "start_time": "2022-01-28T15:34:07.139Z"
   },
   {
    "duration": 21,
    "start_time": "2022-01-28T15:34:07.148Z"
   },
   {
    "duration": 9,
    "start_time": "2022-01-28T15:34:07.172Z"
   },
   {
    "duration": 9,
    "start_time": "2022-01-28T15:34:07.184Z"
   },
   {
    "duration": 10,
    "start_time": "2022-01-28T15:34:07.196Z"
   },
   {
    "duration": 68,
    "start_time": "2022-01-28T15:34:07.209Z"
   },
   {
    "duration": 363,
    "start_time": "2022-01-28T15:34:07.279Z"
   },
   {
    "duration": 6,
    "start_time": "2022-01-28T15:34:07.644Z"
   },
   {
    "duration": 23,
    "start_time": "2022-01-28T15:34:07.652Z"
   },
   {
    "duration": 10,
    "start_time": "2022-01-28T15:34:07.677Z"
   },
   {
    "duration": 14,
    "start_time": "2022-01-28T15:34:07.690Z"
   },
   {
    "duration": 12,
    "start_time": "2022-01-28T15:34:07.706Z"
   },
   {
    "duration": 54,
    "start_time": "2022-01-28T15:34:07.721Z"
   },
   {
    "duration": 401,
    "start_time": "2022-01-28T15:34:07.779Z"
   },
   {
    "duration": 7,
    "start_time": "2022-01-28T15:34:08.183Z"
   },
   {
    "duration": 9,
    "start_time": "2022-01-28T15:34:08.193Z"
   },
   {
    "duration": 17,
    "start_time": "2022-01-28T15:34:08.205Z"
   },
   {
    "duration": 52,
    "start_time": "2022-01-28T15:34:08.225Z"
   },
   {
    "duration": 12,
    "start_time": "2022-01-28T15:34:08.280Z"
   },
   {
    "duration": 10,
    "start_time": "2022-01-28T15:34:08.295Z"
   },
   {
    "duration": 475,
    "start_time": "2022-01-28T15:34:08.308Z"
   },
   {
    "duration": 6,
    "start_time": "2022-01-28T15:34:08.786Z"
   },
   {
    "duration": 12,
    "start_time": "2022-01-28T15:34:08.795Z"
   },
   {
    "duration": 64,
    "start_time": "2022-01-28T15:34:08.810Z"
   },
   {
    "duration": 13,
    "start_time": "2022-01-28T15:34:08.877Z"
   },
   {
    "duration": 11,
    "start_time": "2022-01-28T15:34:08.893Z"
   },
   {
    "duration": 339,
    "start_time": "2022-01-28T15:34:08.907Z"
   },
   {
    "duration": 44,
    "start_time": "2022-01-28T15:34:09.248Z"
   },
   {
    "duration": 12,
    "start_time": "2022-01-28T15:34:09.295Z"
   },
   {
    "duration": 6,
    "start_time": "2022-01-28T15:34:09.310Z"
   },
   {
    "duration": 433,
    "start_time": "2022-01-28T15:34:09.318Z"
   },
   {
    "duration": 20,
    "start_time": "2022-01-28T15:34:09.754Z"
   },
   {
    "duration": 36,
    "start_time": "2022-01-28T15:34:09.777Z"
   },
   {
    "duration": 354,
    "start_time": "2022-01-28T15:34:09.815Z"
   },
   {
    "duration": 11,
    "start_time": "2022-01-28T15:34:10.172Z"
   },
   {
    "duration": 340,
    "start_time": "2022-01-28T15:34:10.186Z"
   },
   {
    "duration": 9,
    "start_time": "2022-01-28T15:34:10.528Z"
   },
   {
    "duration": 33,
    "start_time": "2022-01-28T15:34:10.540Z"
   },
   {
    "duration": 28,
    "start_time": "2022-01-28T15:36:26.381Z"
   },
   {
    "duration": 5,
    "start_time": "2022-01-28T15:37:39.543Z"
   },
   {
    "duration": 30,
    "start_time": "2022-01-28T15:38:40.718Z"
   },
   {
    "duration": 9,
    "start_time": "2022-01-28T15:38:53.941Z"
   },
   {
    "duration": 5,
    "start_time": "2022-01-28T15:39:14.558Z"
   },
   {
    "duration": 9,
    "start_time": "2022-01-28T15:48:02.852Z"
   },
   {
    "duration": 6,
    "start_time": "2022-01-28T15:49:24.898Z"
   },
   {
    "duration": 19,
    "start_time": "2022-01-28T15:49:25.867Z"
   },
   {
    "duration": 6747,
    "start_time": "2022-01-28T16:02:41.655Z"
   },
   {
    "duration": 277,
    "start_time": "2022-01-28T16:03:02.857Z"
   },
   {
    "duration": 17,
    "start_time": "2022-01-28T16:03:48.073Z"
   },
   {
    "duration": 9,
    "start_time": "2022-01-28T16:05:13.402Z"
   },
   {
    "duration": 8,
    "start_time": "2022-01-28T16:05:58.218Z"
   },
   {
    "duration": 9,
    "start_time": "2022-01-28T16:07:13.988Z"
   },
   {
    "duration": 11,
    "start_time": "2022-01-28T16:07:43.627Z"
   },
   {
    "duration": 9,
    "start_time": "2022-01-28T16:10:06.112Z"
   },
   {
    "duration": 9,
    "start_time": "2022-01-28T16:10:41.888Z"
   },
   {
    "duration": 23,
    "start_time": "2022-01-28T16:16:34.205Z"
   },
   {
    "duration": 24,
    "start_time": "2022-01-28T16:18:11.460Z"
   },
   {
    "duration": 19,
    "start_time": "2022-01-28T16:19:05.981Z"
   },
   {
    "duration": 343,
    "start_time": "2022-01-28T16:19:10.176Z"
   },
   {
    "duration": 18,
    "start_time": "2022-01-28T16:26:50.280Z"
   },
   {
    "duration": 22,
    "start_time": "2022-01-28T16:28:12.873Z"
   },
   {
    "duration": 24,
    "start_time": "2022-01-28T16:36:07.916Z"
   },
   {
    "duration": 18,
    "start_time": "2022-01-28T16:38:39.744Z"
   },
   {
    "duration": 1473,
    "start_time": "2022-01-29T08:26:43.437Z"
   },
   {
    "duration": 504,
    "start_time": "2022-01-29T08:26:44.913Z"
   },
   {
    "duration": 15,
    "start_time": "2022-01-29T08:26:45.419Z"
   },
   {
    "duration": 27,
    "start_time": "2022-01-29T08:26:45.437Z"
   },
   {
    "duration": 40,
    "start_time": "2022-01-29T08:26:45.467Z"
   },
   {
    "duration": 19,
    "start_time": "2022-01-29T08:26:45.509Z"
   },
   {
    "duration": 11,
    "start_time": "2022-01-29T08:26:45.549Z"
   },
   {
    "duration": 21,
    "start_time": "2022-01-29T08:26:45.565Z"
   },
   {
    "duration": 61,
    "start_time": "2022-01-29T08:26:45.589Z"
   },
   {
    "duration": 16,
    "start_time": "2022-01-29T08:26:45.653Z"
   },
   {
    "duration": 10,
    "start_time": "2022-01-29T08:26:45.672Z"
   },
   {
    "duration": 19,
    "start_time": "2022-01-29T08:26:45.684Z"
   },
   {
    "duration": 58,
    "start_time": "2022-01-29T08:26:45.705Z"
   },
   {
    "duration": 13,
    "start_time": "2022-01-29T08:26:45.766Z"
   },
   {
    "duration": 11,
    "start_time": "2022-01-29T08:26:45.782Z"
   },
   {
    "duration": 11,
    "start_time": "2022-01-29T08:26:45.796Z"
   },
   {
    "duration": 52,
    "start_time": "2022-01-29T08:26:45.809Z"
   },
   {
    "duration": 20,
    "start_time": "2022-01-29T08:26:45.863Z"
   },
   {
    "duration": 19,
    "start_time": "2022-01-29T08:26:45.885Z"
   },
   {
    "duration": 24,
    "start_time": "2022-01-29T08:26:45.906Z"
   },
   {
    "duration": 22,
    "start_time": "2022-01-29T08:26:45.932Z"
   },
   {
    "duration": 15,
    "start_time": "2022-01-29T08:26:45.956Z"
   },
   {
    "duration": 13,
    "start_time": "2022-01-29T08:26:45.977Z"
   },
   {
    "duration": 7,
    "start_time": "2022-01-29T08:26:45.994Z"
   },
   {
    "duration": 49,
    "start_time": "2022-01-29T08:26:46.003Z"
   },
   {
    "duration": 127,
    "start_time": "2022-01-29T08:26:46.055Z"
   },
   {
    "duration": 95,
    "start_time": "2022-01-29T08:26:46.185Z"
   },
   {
    "duration": 48,
    "start_time": "2022-01-29T08:26:46.283Z"
   },
   {
    "duration": 8,
    "start_time": "2022-01-29T08:26:46.348Z"
   },
   {
    "duration": 11,
    "start_time": "2022-01-29T08:26:46.359Z"
   },
   {
    "duration": 7,
    "start_time": "2022-01-29T08:26:46.372Z"
   },
   {
    "duration": 15,
    "start_time": "2022-01-29T08:26:46.382Z"
   },
   {
    "duration": 10,
    "start_time": "2022-01-29T08:26:46.399Z"
   },
   {
    "duration": 21,
    "start_time": "2022-01-29T08:26:46.449Z"
   },
   {
    "duration": 16,
    "start_time": "2022-01-29T08:26:46.473Z"
   },
   {
    "duration": 70,
    "start_time": "2022-01-29T08:26:46.492Z"
   },
   {
    "duration": 10,
    "start_time": "2022-01-29T08:26:46.564Z"
   },
   {
    "duration": 13,
    "start_time": "2022-01-29T08:26:46.576Z"
   },
   {
    "duration": 15,
    "start_time": "2022-01-29T08:26:46.592Z"
   },
   {
    "duration": 45,
    "start_time": "2022-01-29T08:26:46.609Z"
   },
   {
    "duration": 47,
    "start_time": "2022-01-29T08:26:46.656Z"
   },
   {
    "duration": 83,
    "start_time": "2022-01-29T08:26:46.706Z"
   },
   {
    "duration": 16,
    "start_time": "2022-01-29T08:26:46.791Z"
   },
   {
    "duration": 57,
    "start_time": "2022-01-29T08:26:46.809Z"
   },
   {
    "duration": 8,
    "start_time": "2022-01-29T08:26:46.869Z"
   },
   {
    "duration": 19,
    "start_time": "2022-01-29T08:26:46.880Z"
   },
   {
    "duration": 253,
    "start_time": "2022-01-29T08:26:46.902Z"
   },
   {
    "duration": 25,
    "start_time": "2022-01-29T08:26:47.158Z"
   },
   {
    "duration": 13,
    "start_time": "2022-01-29T08:26:47.185Z"
   },
   {
    "duration": 11,
    "start_time": "2022-01-29T08:26:47.200Z"
   },
   {
    "duration": 60,
    "start_time": "2022-01-29T08:26:47.214Z"
   },
   {
    "duration": 71,
    "start_time": "2022-01-29T08:26:47.277Z"
   },
   {
    "duration": 14,
    "start_time": "2022-01-29T08:26:47.350Z"
   },
   {
    "duration": 32,
    "start_time": "2022-01-29T08:26:47.367Z"
   },
   {
    "duration": 49,
    "start_time": "2022-01-29T08:26:47.402Z"
   },
   {
    "duration": 191,
    "start_time": "2022-01-29T08:26:47.453Z"
   },
   {
    "duration": 13,
    "start_time": "2022-01-29T08:26:47.647Z"
   },
   {
    "duration": 16,
    "start_time": "2022-01-29T08:26:47.663Z"
   },
   {
    "duration": 11,
    "start_time": "2022-01-29T08:26:47.682Z"
   },
   {
    "duration": 14,
    "start_time": "2022-01-29T08:26:47.696Z"
   },
   {
    "duration": 34,
    "start_time": "2022-01-29T08:26:47.749Z"
   },
   {
    "duration": 74,
    "start_time": "2022-01-29T08:26:47.786Z"
   },
   {
    "duration": 34,
    "start_time": "2022-01-29T08:26:47.864Z"
   },
   {
    "duration": 52,
    "start_time": "2022-01-29T08:26:47.902Z"
   },
   {
    "duration": 230,
    "start_time": "2022-01-29T08:26:47.957Z"
   },
   {
    "duration": 15,
    "start_time": "2022-01-29T08:26:48.190Z"
   },
   {
    "duration": 42,
    "start_time": "2022-01-29T08:26:48.208Z"
   },
   {
    "duration": 7,
    "start_time": "2022-01-29T08:26:48.260Z"
   },
   {
    "duration": 46,
    "start_time": "2022-01-29T08:26:48.271Z"
   },
   {
    "duration": 34,
    "start_time": "2022-01-29T08:26:48.319Z"
   },
   {
    "duration": 43,
    "start_time": "2022-01-29T08:26:48.356Z"
   },
   {
    "duration": 10,
    "start_time": "2022-01-29T08:26:48.401Z"
   },
   {
    "duration": 270,
    "start_time": "2022-01-29T08:26:48.414Z"
   },
   {
    "duration": 9,
    "start_time": "2022-01-29T08:26:48.686Z"
   },
   {
    "duration": 20,
    "start_time": "2022-01-29T08:26:48.698Z"
   },
   {
    "duration": 347,
    "start_time": "2022-01-29T08:26:48.721Z"
   },
   {
    "duration": 6,
    "start_time": "2022-01-29T08:26:49.071Z"
   },
   {
    "duration": 6,
    "start_time": "2022-01-29T08:26:49.079Z"
   },
   {
    "duration": 19,
    "start_time": "2022-01-29T08:26:49.088Z"
   },
   {
    "duration": 63,
    "start_time": "2022-01-29T08:26:49.109Z"
   },
   {
    "duration": 8,
    "start_time": "2022-01-29T08:26:49.175Z"
   },
   {
    "duration": 9,
    "start_time": "2022-01-29T08:26:49.186Z"
   },
   {
    "duration": 8,
    "start_time": "2022-01-29T08:26:49.197Z"
   },
   {
    "duration": 45,
    "start_time": "2022-01-29T08:26:49.207Z"
   },
   {
    "duration": 368,
    "start_time": "2022-01-29T08:26:49.255Z"
   },
   {
    "duration": 5,
    "start_time": "2022-01-29T08:26:49.625Z"
   },
   {
    "duration": 19,
    "start_time": "2022-01-29T08:26:49.632Z"
   },
   {
    "duration": 27,
    "start_time": "2022-01-29T08:26:49.654Z"
   },
   {
    "duration": 11,
    "start_time": "2022-01-29T08:26:49.684Z"
   },
   {
    "duration": 9,
    "start_time": "2022-01-29T08:26:49.698Z"
   },
   {
    "duration": 47,
    "start_time": "2022-01-29T08:26:49.709Z"
   },
   {
    "duration": 14,
    "start_time": "2022-01-29T08:26:49.759Z"
   },
   {
    "duration": 331,
    "start_time": "2022-01-29T08:26:49.776Z"
   },
   {
    "duration": 5,
    "start_time": "2022-01-29T08:26:50.110Z"
   },
   {
    "duration": 7,
    "start_time": "2022-01-29T08:26:50.117Z"
   },
   {
    "duration": 9,
    "start_time": "2022-01-29T08:26:50.149Z"
   },
   {
    "duration": 10,
    "start_time": "2022-01-29T08:26:50.160Z"
   },
   {
    "duration": 7,
    "start_time": "2022-01-29T08:26:50.173Z"
   },
   {
    "duration": 10,
    "start_time": "2022-01-29T08:26:50.183Z"
   },
   {
    "duration": 440,
    "start_time": "2022-01-29T08:26:50.195Z"
   },
   {
    "duration": 13,
    "start_time": "2022-01-29T08:26:50.637Z"
   },
   {
    "duration": 12,
    "start_time": "2022-01-29T08:26:50.652Z"
   },
   {
    "duration": 27,
    "start_time": "2022-01-29T08:26:50.666Z"
   },
   {
    "duration": 12,
    "start_time": "2022-01-29T08:26:50.696Z"
   },
   {
    "duration": 40,
    "start_time": "2022-01-29T08:26:50.710Z"
   },
   {
    "duration": 8,
    "start_time": "2022-01-29T08:26:50.753Z"
   },
   {
    "duration": 12,
    "start_time": "2022-01-29T08:26:50.764Z"
   },
   {
    "duration": 328,
    "start_time": "2022-01-29T08:26:50.779Z"
   },
   {
    "duration": 5,
    "start_time": "2022-01-29T08:26:51.109Z"
   },
   {
    "duration": 8,
    "start_time": "2022-01-29T08:26:51.117Z"
   },
   {
    "duration": 26,
    "start_time": "2022-01-29T08:26:51.128Z"
   },
   {
    "duration": 10,
    "start_time": "2022-01-29T08:26:51.157Z"
   },
   {
    "duration": 14,
    "start_time": "2022-01-29T08:26:51.170Z"
   },
   {
    "duration": 8,
    "start_time": "2022-01-29T08:26:51.187Z"
   },
   {
    "duration": 365,
    "start_time": "2022-01-29T08:26:51.198Z"
   },
   {
    "duration": 6,
    "start_time": "2022-01-29T08:26:51.565Z"
   },
   {
    "duration": 7,
    "start_time": "2022-01-29T08:26:51.573Z"
   },
   {
    "duration": 11,
    "start_time": "2022-01-29T08:26:51.582Z"
   },
   {
    "duration": 11,
    "start_time": "2022-01-29T08:26:51.595Z"
   },
   {
    "duration": 47,
    "start_time": "2022-01-29T08:26:51.609Z"
   },
   {
    "duration": 8,
    "start_time": "2022-01-29T08:26:51.659Z"
   },
   {
    "duration": 338,
    "start_time": "2022-01-29T08:26:51.670Z"
   },
   {
    "duration": 5,
    "start_time": "2022-01-29T08:26:52.011Z"
   },
   {
    "duration": 31,
    "start_time": "2022-01-29T08:26:52.019Z"
   },
   {
    "duration": 12,
    "start_time": "2022-01-29T08:26:52.053Z"
   },
   {
    "duration": 11,
    "start_time": "2022-01-29T08:26:52.068Z"
   },
   {
    "duration": 10,
    "start_time": "2022-01-29T08:26:52.082Z"
   },
   {
    "duration": 55,
    "start_time": "2022-01-29T08:26:52.095Z"
   },
   {
    "duration": 363,
    "start_time": "2022-01-29T08:26:52.153Z"
   },
   {
    "duration": 4,
    "start_time": "2022-01-29T08:26:52.519Z"
   },
   {
    "duration": 23,
    "start_time": "2022-01-29T08:26:52.526Z"
   },
   {
    "duration": 9,
    "start_time": "2022-01-29T08:26:52.552Z"
   },
   {
    "duration": 9,
    "start_time": "2022-01-29T08:26:52.563Z"
   },
   {
    "duration": 8,
    "start_time": "2022-01-29T08:26:52.575Z"
   },
   {
    "duration": 9,
    "start_time": "2022-01-29T08:26:52.585Z"
   },
   {
    "duration": 336,
    "start_time": "2022-01-29T08:26:52.597Z"
   },
   {
    "duration": 15,
    "start_time": "2022-01-29T08:26:52.935Z"
   },
   {
    "duration": 5,
    "start_time": "2022-01-29T08:26:52.953Z"
   },
   {
    "duration": 28,
    "start_time": "2022-01-29T08:26:52.960Z"
   },
   {
    "duration": 9,
    "start_time": "2022-01-29T08:26:52.990Z"
   },
   {
    "duration": 6,
    "start_time": "2022-01-29T08:26:53.002Z"
   },
   {
    "duration": 72,
    "start_time": "2022-01-29T08:26:53.009Z"
   },
   {
    "duration": 11,
    "start_time": "2022-01-29T08:26:53.085Z"
   },
   {
    "duration": 4,
    "start_time": "2022-01-29T08:26:53.099Z"
   },
   {
    "duration": 51,
    "start_time": "2022-01-29T08:26:53.106Z"
   },
   {
    "duration": 26,
    "start_time": "2022-01-29T08:26:53.160Z"
   },
   {
    "duration": 326,
    "start_time": "2022-01-29T08:26:53.189Z"
   },
   {
    "duration": 9,
    "start_time": "2022-01-29T08:26:53.517Z"
   },
   {
    "duration": 286,
    "start_time": "2022-01-29T08:26:53.528Z"
   },
   {
    "duration": 10,
    "start_time": "2022-01-29T08:26:53.817Z"
   },
   {
    "duration": 10,
    "start_time": "2022-01-29T08:26:53.849Z"
   },
   {
    "duration": 7212,
    "start_time": "2022-01-29T08:27:45.197Z"
   },
   {
    "duration": 247,
    "start_time": "2022-01-29T08:28:13.863Z"
   },
   {
    "duration": 217,
    "start_time": "2022-01-29T08:28:54.462Z"
   },
   {
    "duration": 272,
    "start_time": "2022-01-29T08:44:21.234Z"
   },
   {
    "duration": 282,
    "start_time": "2022-01-29T08:44:35.002Z"
   },
   {
    "duration": 99,
    "start_time": "2022-01-29T08:45:35.831Z"
   },
   {
    "duration": 282,
    "start_time": "2022-01-29T08:45:54.492Z"
   },
   {
    "duration": 296,
    "start_time": "2022-01-29T08:46:05.532Z"
   },
   {
    "duration": 303,
    "start_time": "2022-01-29T08:46:16.614Z"
   },
   {
    "duration": 95,
    "start_time": "2022-01-29T08:46:34.850Z"
   },
   {
    "duration": 291,
    "start_time": "2022-01-29T08:46:43.593Z"
   },
   {
    "duration": 481,
    "start_time": "2022-01-29T08:51:15.649Z"
   },
   {
    "duration": 281,
    "start_time": "2022-01-29T08:54:58.110Z"
   },
   {
    "duration": 304,
    "start_time": "2022-01-29T08:55:24.190Z"
   },
   {
    "duration": 321,
    "start_time": "2022-01-29T08:56:07.863Z"
   },
   {
    "duration": 286,
    "start_time": "2022-01-29T08:56:23.868Z"
   },
   {
    "duration": 292,
    "start_time": "2022-01-29T08:56:57.280Z"
   },
   {
    "duration": 284,
    "start_time": "2022-01-29T08:57:44.862Z"
   },
   {
    "duration": 93,
    "start_time": "2022-01-29T08:58:20.053Z"
   },
   {
    "duration": 98,
    "start_time": "2022-01-29T08:58:27.062Z"
   },
   {
    "duration": 276,
    "start_time": "2022-01-29T08:58:39.690Z"
   },
   {
    "duration": 490,
    "start_time": "2022-01-29T09:00:33.020Z"
   },
   {
    "duration": 560,
    "start_time": "2022-01-29T09:04:19.504Z"
   },
   {
    "duration": 90,
    "start_time": "2022-01-29T09:05:49.330Z"
   },
   {
    "duration": 119,
    "start_time": "2022-01-29T09:06:22.607Z"
   },
   {
    "duration": 6,
    "start_time": "2022-01-29T09:09:59.396Z"
   },
   {
    "duration": 6,
    "start_time": "2022-01-29T09:10:37.694Z"
   },
   {
    "duration": 1632,
    "start_time": "2022-02-06T16:26:05.664Z"
   },
   {
    "duration": 569,
    "start_time": "2022-02-06T16:26:07.300Z"
   },
   {
    "duration": 16,
    "start_time": "2022-02-06T16:26:07.872Z"
   },
   {
    "duration": 30,
    "start_time": "2022-02-06T16:26:07.890Z"
   },
   {
    "duration": 55,
    "start_time": "2022-02-06T16:26:07.923Z"
   },
   {
    "duration": 20,
    "start_time": "2022-02-06T16:26:07.980Z"
   },
   {
    "duration": 17,
    "start_time": "2022-02-06T16:26:08.002Z"
   },
   {
    "duration": 41,
    "start_time": "2022-02-06T16:26:08.023Z"
   },
   {
    "duration": 30,
    "start_time": "2022-02-06T16:26:08.067Z"
   },
   {
    "duration": 49,
    "start_time": "2022-02-06T16:26:08.100Z"
   },
   {
    "duration": 11,
    "start_time": "2022-02-06T16:26:08.152Z"
   },
   {
    "duration": 20,
    "start_time": "2022-02-06T16:26:08.165Z"
   },
   {
    "duration": 26,
    "start_time": "2022-02-06T16:26:08.187Z"
   },
   {
    "duration": 46,
    "start_time": "2022-02-06T16:26:08.216Z"
   },
   {
    "duration": 23,
    "start_time": "2022-02-06T16:26:08.265Z"
   },
   {
    "duration": 24,
    "start_time": "2022-02-06T16:26:08.291Z"
   },
   {
    "duration": 25,
    "start_time": "2022-02-06T16:26:08.317Z"
   },
   {
    "duration": 21,
    "start_time": "2022-02-06T16:26:08.350Z"
   },
   {
    "duration": 16,
    "start_time": "2022-02-06T16:26:08.373Z"
   },
   {
    "duration": 28,
    "start_time": "2022-02-06T16:26:08.391Z"
   },
   {
    "duration": 51,
    "start_time": "2022-02-06T16:26:08.421Z"
   },
   {
    "duration": 22,
    "start_time": "2022-02-06T16:26:08.476Z"
   },
   {
    "duration": 18,
    "start_time": "2022-02-06T16:26:08.506Z"
   },
   {
    "duration": 15,
    "start_time": "2022-02-06T16:26:08.553Z"
   },
   {
    "duration": 15,
    "start_time": "2022-02-06T16:26:08.571Z"
   },
   {
    "duration": 172,
    "start_time": "2022-02-06T16:26:08.589Z"
   },
   {
    "duration": 105,
    "start_time": "2022-02-06T16:26:08.764Z"
   },
   {
    "duration": 56,
    "start_time": "2022-02-06T16:26:08.871Z"
   },
   {
    "duration": 26,
    "start_time": "2022-02-06T16:26:08.929Z"
   },
   {
    "duration": 16,
    "start_time": "2022-02-06T16:26:08.959Z"
   },
   {
    "duration": 11,
    "start_time": "2022-02-06T16:26:08.977Z"
   },
   {
    "duration": 21,
    "start_time": "2022-02-06T16:26:08.991Z"
   },
   {
    "duration": 37,
    "start_time": "2022-02-06T16:26:09.015Z"
   },
   {
    "duration": 25,
    "start_time": "2022-02-06T16:26:09.056Z"
   },
   {
    "duration": 17,
    "start_time": "2022-02-06T16:26:09.084Z"
   },
   {
    "duration": 75,
    "start_time": "2022-02-06T16:26:09.104Z"
   },
   {
    "duration": 13,
    "start_time": "2022-02-06T16:26:09.182Z"
   },
   {
    "duration": 18,
    "start_time": "2022-02-06T16:26:09.198Z"
   },
   {
    "duration": 42,
    "start_time": "2022-02-06T16:26:09.219Z"
   },
   {
    "duration": 25,
    "start_time": "2022-02-06T16:26:09.264Z"
   },
   {
    "duration": 73,
    "start_time": "2022-02-06T16:26:09.298Z"
   },
   {
    "duration": 62,
    "start_time": "2022-02-06T16:26:09.374Z"
   },
   {
    "duration": 25,
    "start_time": "2022-02-06T16:26:09.439Z"
   },
   {
    "duration": 57,
    "start_time": "2022-02-06T16:26:09.467Z"
   },
   {
    "duration": 26,
    "start_time": "2022-02-06T16:26:09.527Z"
   },
   {
    "duration": 29,
    "start_time": "2022-02-06T16:26:09.556Z"
   },
   {
    "duration": 272,
    "start_time": "2022-02-06T16:26:09.588Z"
   },
   {
    "duration": 23,
    "start_time": "2022-02-06T16:26:09.863Z"
   },
   {
    "duration": 15,
    "start_time": "2022-02-06T16:26:09.890Z"
   },
   {
    "duration": 42,
    "start_time": "2022-02-06T16:26:09.909Z"
   },
   {
    "duration": 35,
    "start_time": "2022-02-06T16:26:09.954Z"
   },
   {
    "duration": 70,
    "start_time": "2022-02-06T16:26:09.992Z"
   },
   {
    "duration": 16,
    "start_time": "2022-02-06T16:26:10.065Z"
   },
   {
    "duration": 41,
    "start_time": "2022-02-06T16:26:10.084Z"
   },
   {
    "duration": 27,
    "start_time": "2022-02-06T16:26:10.149Z"
   },
   {
    "duration": 212,
    "start_time": "2022-02-06T16:26:10.178Z"
   },
   {
    "duration": 13,
    "start_time": "2022-02-06T16:26:10.394Z"
   },
   {
    "duration": 40,
    "start_time": "2022-02-06T16:26:10.409Z"
   },
   {
    "duration": 8,
    "start_time": "2022-02-06T16:26:10.451Z"
   },
   {
    "duration": 23,
    "start_time": "2022-02-06T16:26:10.462Z"
   },
   {
    "duration": 38,
    "start_time": "2022-02-06T16:26:10.489Z"
   },
   {
    "duration": 49,
    "start_time": "2022-02-06T16:26:10.553Z"
   },
   {
    "duration": 54,
    "start_time": "2022-02-06T16:26:10.605Z"
   },
   {
    "duration": 25,
    "start_time": "2022-02-06T16:26:10.661Z"
   },
   {
    "duration": 286,
    "start_time": "2022-02-06T16:26:10.689Z"
   },
   {
    "duration": 16,
    "start_time": "2022-02-06T16:26:10.978Z"
   },
   {
    "duration": 15,
    "start_time": "2022-02-06T16:26:10.997Z"
   },
   {
    "duration": 14,
    "start_time": "2022-02-06T16:26:11.057Z"
   },
   {
    "duration": 55,
    "start_time": "2022-02-06T16:26:11.077Z"
   },
   {
    "duration": 13,
    "start_time": "2022-02-06T16:26:11.150Z"
   },
   {
    "duration": 95,
    "start_time": "2022-02-06T16:26:11.165Z"
   },
   {
    "duration": 17,
    "start_time": "2022-02-06T16:26:11.263Z"
   },
   {
    "duration": 266,
    "start_time": "2022-02-06T16:26:11.284Z"
   },
   {
    "duration": 14,
    "start_time": "2022-02-06T16:26:11.553Z"
   },
   {
    "duration": 24,
    "start_time": "2022-02-06T16:26:11.570Z"
   },
   {
    "duration": 319,
    "start_time": "2022-02-06T16:26:11.597Z"
   },
   {
    "duration": 6,
    "start_time": "2022-02-06T16:26:11.918Z"
   },
   {
    "duration": 23,
    "start_time": "2022-02-06T16:26:11.926Z"
   },
   {
    "duration": 18,
    "start_time": "2022-02-06T16:26:11.951Z"
   },
   {
    "duration": 346,
    "start_time": "2022-02-06T16:26:11.971Z"
   },
   {
    "duration": 6,
    "start_time": "2022-02-06T16:26:12.320Z"
   },
   {
    "duration": 21,
    "start_time": "2022-02-06T16:26:12.329Z"
   },
   {
    "duration": 39,
    "start_time": "2022-02-06T16:26:12.353Z"
   },
   {
    "duration": 13,
    "start_time": "2022-02-06T16:26:12.395Z"
   },
   {
    "duration": 41,
    "start_time": "2022-02-06T16:26:12.411Z"
   },
   {
    "duration": 11,
    "start_time": "2022-02-06T16:26:12.455Z"
   },
   {
    "duration": 15,
    "start_time": "2022-02-06T16:26:12.468Z"
   },
   {
    "duration": 400,
    "start_time": "2022-02-06T16:26:12.486Z"
   },
   {
    "duration": 6,
    "start_time": "2022-02-06T16:26:12.888Z"
   },
   {
    "duration": 9,
    "start_time": "2022-02-06T16:26:12.897Z"
   },
   {
    "duration": 59,
    "start_time": "2022-02-06T16:26:12.909Z"
   },
   {
    "duration": 10,
    "start_time": "2022-02-06T16:26:12.971Z"
   },
   {
    "duration": 10,
    "start_time": "2022-02-06T16:26:12.984Z"
   },
   {
    "duration": 15,
    "start_time": "2022-02-06T16:26:12.996Z"
   },
   {
    "duration": 42,
    "start_time": "2022-02-06T16:26:13.013Z"
   },
   {
    "duration": 371,
    "start_time": "2022-02-06T16:26:13.058Z"
   },
   {
    "duration": 18,
    "start_time": "2022-02-06T16:26:13.432Z"
   },
   {
    "duration": 9,
    "start_time": "2022-02-06T16:26:13.453Z"
   },
   {
    "duration": 10,
    "start_time": "2022-02-06T16:26:13.464Z"
   },
   {
    "duration": 10,
    "start_time": "2022-02-06T16:26:13.477Z"
   },
   {
    "duration": 9,
    "start_time": "2022-02-06T16:26:13.490Z"
   },
   {
    "duration": 51,
    "start_time": "2022-02-06T16:26:13.501Z"
   },
   {
    "duration": 345,
    "start_time": "2022-02-06T16:26:13.555Z"
   },
   {
    "duration": 6,
    "start_time": "2022-02-06T16:26:13.902Z"
   },
   {
    "duration": 8,
    "start_time": "2022-02-06T16:26:13.910Z"
   },
   {
    "duration": 47,
    "start_time": "2022-02-06T16:26:13.921Z"
   },
   {
    "duration": 11,
    "start_time": "2022-02-06T16:26:13.970Z"
   },
   {
    "duration": 8,
    "start_time": "2022-02-06T16:26:13.984Z"
   },
   {
    "duration": 9,
    "start_time": "2022-02-06T16:26:13.994Z"
   },
   {
    "duration": 45,
    "start_time": "2022-02-06T16:26:14.005Z"
   },
   {
    "duration": 312,
    "start_time": "2022-02-06T16:26:14.052Z"
   },
   {
    "duration": 6,
    "start_time": "2022-02-06T16:26:14.366Z"
   },
   {
    "duration": 15,
    "start_time": "2022-02-06T16:26:14.376Z"
   },
   {
    "duration": 20,
    "start_time": "2022-02-06T16:26:14.394Z"
   },
   {
    "duration": 38,
    "start_time": "2022-02-06T16:26:14.417Z"
   },
   {
    "duration": 10,
    "start_time": "2022-02-06T16:26:14.458Z"
   },
   {
    "duration": 10,
    "start_time": "2022-02-06T16:26:14.471Z"
   },
   {
    "duration": 368,
    "start_time": "2022-02-06T16:26:14.483Z"
   },
   {
    "duration": 6,
    "start_time": "2022-02-06T16:26:14.853Z"
   },
   {
    "duration": 14,
    "start_time": "2022-02-06T16:26:14.862Z"
   },
   {
    "duration": 29,
    "start_time": "2022-02-06T16:26:14.878Z"
   },
   {
    "duration": 9,
    "start_time": "2022-02-06T16:26:14.910Z"
   },
   {
    "duration": 29,
    "start_time": "2022-02-06T16:26:14.922Z"
   },
   {
    "duration": 12,
    "start_time": "2022-02-06T16:26:14.954Z"
   },
   {
    "duration": 360,
    "start_time": "2022-02-06T16:26:14.969Z"
   },
   {
    "duration": 6,
    "start_time": "2022-02-06T16:26:15.331Z"
   },
   {
    "duration": 6,
    "start_time": "2022-02-06T16:26:15.349Z"
   },
   {
    "duration": 10,
    "start_time": "2022-02-06T16:26:15.358Z"
   },
   {
    "duration": 9,
    "start_time": "2022-02-06T16:26:15.371Z"
   },
   {
    "duration": 10,
    "start_time": "2022-02-06T16:26:15.382Z"
   },
   {
    "duration": 57,
    "start_time": "2022-02-06T16:26:15.395Z"
   },
   {
    "duration": 357,
    "start_time": "2022-02-06T16:26:15.455Z"
   },
   {
    "duration": 6,
    "start_time": "2022-02-06T16:26:15.814Z"
   },
   {
    "duration": 26,
    "start_time": "2022-02-06T16:26:15.822Z"
   },
   {
    "duration": 11,
    "start_time": "2022-02-06T16:26:15.851Z"
   },
   {
    "duration": 9,
    "start_time": "2022-02-06T16:26:15.865Z"
   },
   {
    "duration": 18,
    "start_time": "2022-02-06T16:26:15.876Z"
   },
   {
    "duration": 15,
    "start_time": "2022-02-06T16:26:15.896Z"
   },
   {
    "duration": 314,
    "start_time": "2022-02-06T16:26:15.914Z"
   },
   {
    "duration": 17,
    "start_time": "2022-02-06T16:26:16.230Z"
   },
   {
    "duration": 5,
    "start_time": "2022-02-06T16:26:16.250Z"
   },
   {
    "duration": 32,
    "start_time": "2022-02-06T16:26:16.257Z"
   },
   {
    "duration": 10,
    "start_time": "2022-02-06T16:26:16.291Z"
   },
   {
    "duration": 5,
    "start_time": "2022-02-06T16:26:16.304Z"
   },
   {
    "duration": 59,
    "start_time": "2022-02-06T16:26:16.311Z"
   },
   {
    "duration": 12,
    "start_time": "2022-02-06T16:26:16.373Z"
   },
   {
    "duration": 6,
    "start_time": "2022-02-06T16:26:16.388Z"
   },
   {
    "duration": 10,
    "start_time": "2022-02-06T16:26:16.396Z"
   },
   {
    "duration": 25,
    "start_time": "2022-02-06T16:26:16.449Z"
   },
   {
    "duration": 320,
    "start_time": "2022-02-06T16:26:16.477Z"
   },
   {
    "duration": 9,
    "start_time": "2022-02-06T16:26:16.799Z"
   },
   {
    "duration": 296,
    "start_time": "2022-02-06T16:26:16.811Z"
   },
   {
    "duration": 12,
    "start_time": "2022-02-06T16:26:17.110Z"
   },
   {
    "duration": 32,
    "start_time": "2022-02-06T16:26:17.125Z"
   },
   {
    "duration": 5,
    "start_time": "2022-02-06T16:49:28.804Z"
   },
   {
    "duration": 341,
    "start_time": "2022-02-07T13:39:08.365Z"
   },
   {
    "duration": 1097,
    "start_time": "2022-02-07T13:39:26.309Z"
   },
   {
    "duration": 364,
    "start_time": "2022-02-07T13:39:27.408Z"
   },
   {
    "duration": 10,
    "start_time": "2022-02-07T13:39:27.774Z"
   },
   {
    "duration": 18,
    "start_time": "2022-02-07T13:39:27.786Z"
   },
   {
    "duration": 27,
    "start_time": "2022-02-07T13:39:27.805Z"
   },
   {
    "duration": 12,
    "start_time": "2022-02-07T13:39:27.834Z"
   },
   {
    "duration": 28,
    "start_time": "2022-02-07T13:39:27.847Z"
   },
   {
    "duration": 15,
    "start_time": "2022-02-07T13:39:27.877Z"
   },
   {
    "duration": 19,
    "start_time": "2022-02-07T13:39:27.894Z"
   },
   {
    "duration": 10,
    "start_time": "2022-02-07T13:39:27.915Z"
   },
   {
    "duration": 6,
    "start_time": "2022-02-07T13:39:27.927Z"
   },
   {
    "duration": 42,
    "start_time": "2022-02-07T13:39:27.934Z"
   },
   {
    "duration": 17,
    "start_time": "2022-02-07T13:39:27.977Z"
   },
   {
    "duration": 10,
    "start_time": "2022-02-07T13:39:27.995Z"
   },
   {
    "duration": 6,
    "start_time": "2022-02-07T13:39:28.006Z"
   },
   {
    "duration": 6,
    "start_time": "2022-02-07T13:39:28.014Z"
   },
   {
    "duration": 9,
    "start_time": "2022-02-07T13:39:28.022Z"
   },
   {
    "duration": 38,
    "start_time": "2022-02-07T13:39:28.033Z"
   },
   {
    "duration": 7,
    "start_time": "2022-02-07T13:39:28.073Z"
   },
   {
    "duration": 11,
    "start_time": "2022-02-07T13:39:28.081Z"
   },
   {
    "duration": 86,
    "start_time": "2022-02-07T13:39:28.094Z"
   },
   {
    "duration": 52,
    "start_time": "2022-02-07T13:39:28.182Z"
   },
   {
    "duration": 49,
    "start_time": "2022-02-07T13:39:28.238Z"
   },
   {
    "duration": 4,
    "start_time": "2022-02-07T13:39:28.290Z"
   },
   {
    "duration": 6,
    "start_time": "2022-02-07T13:39:28.295Z"
   },
   {
    "duration": 5,
    "start_time": "2022-02-07T13:39:28.303Z"
   },
   {
    "duration": 8,
    "start_time": "2022-02-07T13:39:28.309Z"
   },
   {
    "duration": 5,
    "start_time": "2022-02-07T13:39:28.318Z"
   },
   {
    "duration": 47,
    "start_time": "2022-02-07T13:39:28.325Z"
   },
   {
    "duration": 11,
    "start_time": "2022-02-07T13:39:28.373Z"
   },
   {
    "duration": 22,
    "start_time": "2022-02-07T13:39:28.385Z"
   },
   {
    "duration": 6,
    "start_time": "2022-02-07T13:39:28.408Z"
   },
   {
    "duration": 6,
    "start_time": "2022-02-07T13:39:28.416Z"
   },
   {
    "duration": 10,
    "start_time": "2022-02-07T13:39:28.423Z"
   },
   {
    "duration": 11,
    "start_time": "2022-02-07T13:39:28.434Z"
   },
   {
    "duration": 28,
    "start_time": "2022-02-07T13:39:28.471Z"
   },
   {
    "duration": 1601,
    "start_time": "2022-02-07T13:39:28.501Z"
   },
   {
    "duration": -92,
    "start_time": "2022-02-07T13:39:30.198Z"
   },
   {
    "duration": -97,
    "start_time": "2022-02-07T13:39:30.204Z"
   },
   {
    "duration": -101,
    "start_time": "2022-02-07T13:39:30.209Z"
   },
   {
    "duration": -106,
    "start_time": "2022-02-07T13:39:30.215Z"
   },
   {
    "duration": -110,
    "start_time": "2022-02-07T13:39:30.220Z"
   },
   {
    "duration": -114,
    "start_time": "2022-02-07T13:39:30.225Z"
   },
   {
    "duration": -118,
    "start_time": "2022-02-07T13:39:30.230Z"
   },
   {
    "duration": -123,
    "start_time": "2022-02-07T13:39:30.235Z"
   },
   {
    "duration": -127,
    "start_time": "2022-02-07T13:39:30.240Z"
   },
   {
    "duration": -132,
    "start_time": "2022-02-07T13:39:30.246Z"
   },
   {
    "duration": -136,
    "start_time": "2022-02-07T13:39:30.250Z"
   },
   {
    "duration": -140,
    "start_time": "2022-02-07T13:39:30.255Z"
   },
   {
    "duration": -144,
    "start_time": "2022-02-07T13:39:30.260Z"
   },
   {
    "duration": -148,
    "start_time": "2022-02-07T13:39:30.265Z"
   },
   {
    "duration": -152,
    "start_time": "2022-02-07T13:39:30.270Z"
   },
   {
    "duration": -157,
    "start_time": "2022-02-07T13:39:30.276Z"
   },
   {
    "duration": -160,
    "start_time": "2022-02-07T13:39:30.280Z"
   },
   {
    "duration": -165,
    "start_time": "2022-02-07T13:39:30.286Z"
   },
   {
    "duration": -168,
    "start_time": "2022-02-07T13:39:30.290Z"
   },
   {
    "duration": -171,
    "start_time": "2022-02-07T13:39:30.295Z"
   },
   {
    "duration": -175,
    "start_time": "2022-02-07T13:39:30.300Z"
   },
   {
    "duration": -266,
    "start_time": "2022-02-07T13:39:30.391Z"
   },
   {
    "duration": -271,
    "start_time": "2022-02-07T13:39:30.397Z"
   },
   {
    "duration": -276,
    "start_time": "2022-02-07T13:39:30.403Z"
   },
   {
    "duration": -285,
    "start_time": "2022-02-07T13:39:30.413Z"
   },
   {
    "duration": -293,
    "start_time": "2022-02-07T13:39:30.422Z"
   },
   {
    "duration": -300,
    "start_time": "2022-02-07T13:39:30.430Z"
   },
   {
    "duration": -309,
    "start_time": "2022-02-07T13:39:30.440Z"
   },
   {
    "duration": -314,
    "start_time": "2022-02-07T13:39:30.446Z"
   },
   {
    "duration": -318,
    "start_time": "2022-02-07T13:39:30.451Z"
   },
   {
    "duration": -322,
    "start_time": "2022-02-07T13:39:30.456Z"
   },
   {
    "duration": -326,
    "start_time": "2022-02-07T13:39:30.461Z"
   },
   {
    "duration": -331,
    "start_time": "2022-02-07T13:39:30.467Z"
   },
   {
    "duration": -338,
    "start_time": "2022-02-07T13:39:30.474Z"
   },
   {
    "duration": -342,
    "start_time": "2022-02-07T13:39:30.479Z"
   },
   {
    "duration": -346,
    "start_time": "2022-02-07T13:39:30.484Z"
   },
   {
    "duration": -350,
    "start_time": "2022-02-07T13:39:30.489Z"
   },
   {
    "duration": -354,
    "start_time": "2022-02-07T13:39:30.494Z"
   },
   {
    "duration": -357,
    "start_time": "2022-02-07T13:39:30.498Z"
   },
   {
    "duration": -363,
    "start_time": "2022-02-07T13:39:30.505Z"
   },
   {
    "duration": -367,
    "start_time": "2022-02-07T13:39:30.510Z"
   },
   {
    "duration": -344,
    "start_time": "2022-02-07T13:39:30.515Z"
   },
   {
    "duration": -348,
    "start_time": "2022-02-07T13:39:30.520Z"
   },
   {
    "duration": -351,
    "start_time": "2022-02-07T13:39:30.525Z"
   },
   {
    "duration": -355,
    "start_time": "2022-02-07T13:39:30.530Z"
   },
   {
    "duration": -360,
    "start_time": "2022-02-07T13:39:30.535Z"
   },
   {
    "duration": -364,
    "start_time": "2022-02-07T13:39:30.540Z"
   },
   {
    "duration": -368,
    "start_time": "2022-02-07T13:39:30.545Z"
   },
   {
    "duration": -371,
    "start_time": "2022-02-07T13:39:30.549Z"
   },
   {
    "duration": -376,
    "start_time": "2022-02-07T13:39:30.555Z"
   },
   {
    "duration": -380,
    "start_time": "2022-02-07T13:39:30.560Z"
   },
   {
    "duration": -384,
    "start_time": "2022-02-07T13:39:30.565Z"
   },
   {
    "duration": -388,
    "start_time": "2022-02-07T13:39:30.570Z"
   },
   {
    "duration": -392,
    "start_time": "2022-02-07T13:39:30.575Z"
   },
   {
    "duration": -395,
    "start_time": "2022-02-07T13:39:30.579Z"
   },
   {
    "duration": -399,
    "start_time": "2022-02-07T13:39:30.584Z"
   },
   {
    "duration": -403,
    "start_time": "2022-02-07T13:39:30.589Z"
   },
   {
    "duration": -407,
    "start_time": "2022-02-07T13:39:30.594Z"
   },
   {
    "duration": -411,
    "start_time": "2022-02-07T13:39:30.599Z"
   },
   {
    "duration": -415,
    "start_time": "2022-02-07T13:39:30.604Z"
   },
   {
    "duration": -418,
    "start_time": "2022-02-07T13:39:30.608Z"
   },
   {
    "duration": -423,
    "start_time": "2022-02-07T13:39:30.614Z"
   },
   {
    "duration": -427,
    "start_time": "2022-02-07T13:39:30.618Z"
   },
   {
    "duration": -431,
    "start_time": "2022-02-07T13:39:30.623Z"
   },
   {
    "duration": -435,
    "start_time": "2022-02-07T13:39:30.628Z"
   },
   {
    "duration": -439,
    "start_time": "2022-02-07T13:39:30.633Z"
   },
   {
    "duration": -444,
    "start_time": "2022-02-07T13:39:30.638Z"
   },
   {
    "duration": -448,
    "start_time": "2022-02-07T13:39:30.643Z"
   },
   {
    "duration": -451,
    "start_time": "2022-02-07T13:39:30.648Z"
   },
   {
    "duration": -456,
    "start_time": "2022-02-07T13:39:30.653Z"
   },
   {
    "duration": -460,
    "start_time": "2022-02-07T13:39:30.658Z"
   },
   {
    "duration": -464,
    "start_time": "2022-02-07T13:39:30.663Z"
   },
   {
    "duration": -468,
    "start_time": "2022-02-07T13:39:30.668Z"
   },
   {
    "duration": -473,
    "start_time": "2022-02-07T13:39:30.674Z"
   },
   {
    "duration": -476,
    "start_time": "2022-02-07T13:39:30.678Z"
   },
   {
    "duration": -481,
    "start_time": "2022-02-07T13:39:30.684Z"
   },
   {
    "duration": -485,
    "start_time": "2022-02-07T13:39:30.689Z"
   },
   {
    "duration": -489,
    "start_time": "2022-02-07T13:39:30.694Z"
   },
   {
    "duration": -492,
    "start_time": "2022-02-07T13:39:30.698Z"
   },
   {
    "duration": -497,
    "start_time": "2022-02-07T13:39:30.703Z"
   },
   {
    "duration": -501,
    "start_time": "2022-02-07T13:39:30.708Z"
   },
   {
    "duration": -505,
    "start_time": "2022-02-07T13:39:30.713Z"
   },
   {
    "duration": -508,
    "start_time": "2022-02-07T13:39:30.717Z"
   },
   {
    "duration": -513,
    "start_time": "2022-02-07T13:39:30.722Z"
   },
   {
    "duration": -455,
    "start_time": "2022-02-07T13:39:30.726Z"
   },
   {
    "duration": -459,
    "start_time": "2022-02-07T13:39:30.731Z"
   },
   {
    "duration": -463,
    "start_time": "2022-02-07T13:39:30.736Z"
   },
   {
    "duration": -467,
    "start_time": "2022-02-07T13:39:30.741Z"
   },
   {
    "duration": -470,
    "start_time": "2022-02-07T13:39:30.745Z"
   },
   {
    "duration": -475,
    "start_time": "2022-02-07T13:39:30.751Z"
   },
   {
    "duration": -478,
    "start_time": "2022-02-07T13:39:30.755Z"
   },
   {
    "duration": -483,
    "start_time": "2022-02-07T13:39:30.760Z"
   },
   {
    "duration": -487,
    "start_time": "2022-02-07T13:39:30.765Z"
   },
   {
    "duration": -491,
    "start_time": "2022-02-07T13:39:30.770Z"
   },
   {
    "duration": -494,
    "start_time": "2022-02-07T13:39:30.774Z"
   },
   {
    "duration": -498,
    "start_time": "2022-02-07T13:39:30.779Z"
   },
   {
    "duration": -503,
    "start_time": "2022-02-07T13:39:30.784Z"
   },
   {
    "duration": -507,
    "start_time": "2022-02-07T13:39:30.789Z"
   },
   {
    "duration": -510,
    "start_time": "2022-02-07T13:39:30.793Z"
   },
   {
    "duration": -515,
    "start_time": "2022-02-07T13:39:30.799Z"
   },
   {
    "duration": -518,
    "start_time": "2022-02-07T13:39:30.803Z"
   },
   {
    "duration": -522,
    "start_time": "2022-02-07T13:39:30.808Z"
   },
   {
    "duration": -526,
    "start_time": "2022-02-07T13:39:30.812Z"
   },
   {
    "duration": -531,
    "start_time": "2022-02-07T13:39:30.818Z"
   },
   {
    "duration": -534,
    "start_time": "2022-02-07T13:39:30.822Z"
   },
   {
    "duration": -538,
    "start_time": "2022-02-07T13:39:30.827Z"
   },
   {
    "duration": -542,
    "start_time": "2022-02-07T13:39:30.832Z"
   },
   {
    "duration": -546,
    "start_time": "2022-02-07T13:39:30.837Z"
   },
   {
    "duration": -550,
    "start_time": "2022-02-07T13:39:30.841Z"
   },
   {
    "duration": -554,
    "start_time": "2022-02-07T13:39:30.846Z"
   },
   {
    "duration": -558,
    "start_time": "2022-02-07T13:39:30.851Z"
   },
   {
    "duration": -562,
    "start_time": "2022-02-07T13:39:30.856Z"
   },
   {
    "duration": -565,
    "start_time": "2022-02-07T13:39:30.860Z"
   },
   {
    "duration": 1517,
    "start_time": "2022-02-07T13:40:29.800Z"
   },
   {
    "duration": 369,
    "start_time": "2022-02-07T13:40:31.319Z"
   },
   {
    "duration": 10,
    "start_time": "2022-02-07T13:40:31.690Z"
   },
   {
    "duration": 20,
    "start_time": "2022-02-07T13:40:31.701Z"
   },
   {
    "duration": 28,
    "start_time": "2022-02-07T13:40:31.722Z"
   },
   {
    "duration": 12,
    "start_time": "2022-02-07T13:40:31.752Z"
   },
   {
    "duration": 7,
    "start_time": "2022-02-07T13:40:31.772Z"
   },
   {
    "duration": 19,
    "start_time": "2022-02-07T13:40:31.781Z"
   },
   {
    "duration": 20,
    "start_time": "2022-02-07T13:40:31.801Z"
   },
   {
    "duration": 10,
    "start_time": "2022-02-07T13:40:31.823Z"
   },
   {
    "duration": 6,
    "start_time": "2022-02-07T13:40:31.835Z"
   },
   {
    "duration": 40,
    "start_time": "2022-02-07T13:40:31.843Z"
   },
   {
    "duration": 18,
    "start_time": "2022-02-07T13:40:31.884Z"
   },
   {
    "duration": 10,
    "start_time": "2022-02-07T13:40:31.903Z"
   },
   {
    "duration": 8,
    "start_time": "2022-02-07T13:40:31.914Z"
   },
   {
    "duration": 5,
    "start_time": "2022-02-07T13:40:31.923Z"
   },
   {
    "duration": 13,
    "start_time": "2022-02-07T13:40:31.930Z"
   },
   {
    "duration": 30,
    "start_time": "2022-02-07T13:40:31.944Z"
   },
   {
    "duration": 6,
    "start_time": "2022-02-07T13:40:31.975Z"
   },
   {
    "duration": 9,
    "start_time": "2022-02-07T13:40:31.983Z"
   },
   {
    "duration": 96,
    "start_time": "2022-02-07T13:40:31.994Z"
   },
   {
    "duration": 47,
    "start_time": "2022-02-07T13:40:32.094Z"
   },
   {
    "duration": 44,
    "start_time": "2022-02-07T13:40:32.144Z"
   },
   {
    "duration": 5,
    "start_time": "2022-02-07T13:40:32.189Z"
   },
   {
    "duration": 7,
    "start_time": "2022-02-07T13:40:32.196Z"
   },
   {
    "duration": 6,
    "start_time": "2022-02-07T13:40:32.205Z"
   },
   {
    "duration": 9,
    "start_time": "2022-02-07T13:40:32.213Z"
   },
   {
    "duration": 5,
    "start_time": "2022-02-07T13:40:32.224Z"
   },
   {
    "duration": 42,
    "start_time": "2022-02-07T13:40:32.230Z"
   },
   {
    "duration": 12,
    "start_time": "2022-02-07T13:40:32.274Z"
   },
   {
    "duration": 25,
    "start_time": "2022-02-07T13:40:32.287Z"
   },
   {
    "duration": 7,
    "start_time": "2022-02-07T13:40:32.313Z"
   },
   {
    "duration": 7,
    "start_time": "2022-02-07T13:40:32.322Z"
   },
   {
    "duration": 40,
    "start_time": "2022-02-07T13:40:32.331Z"
   },
   {
    "duration": 8,
    "start_time": "2022-02-07T13:40:32.373Z"
   },
   {
    "duration": 29,
    "start_time": "2022-02-07T13:40:32.383Z"
   },
   {
    "duration": 103,
    "start_time": "2022-02-07T13:40:32.414Z"
   },
   {
    "duration": 40,
    "start_time": "2022-02-07T13:40:32.519Z"
   },
   {
    "duration": 8,
    "start_time": "2022-02-07T13:40:32.572Z"
   },
   {
    "duration": 25,
    "start_time": "2022-02-07T13:40:32.582Z"
   },
   {
    "duration": 5,
    "start_time": "2022-02-07T13:40:32.609Z"
   },
   {
    "duration": 12,
    "start_time": "2022-02-07T13:40:32.616Z"
   },
   {
    "duration": 149,
    "start_time": "2022-02-07T13:40:32.630Z"
   },
   {
    "duration": 12,
    "start_time": "2022-02-07T13:40:32.781Z"
   },
   {
    "duration": 5,
    "start_time": "2022-02-07T13:40:32.795Z"
   },
   {
    "duration": 8,
    "start_time": "2022-02-07T13:40:32.802Z"
   },
   {
    "duration": 19,
    "start_time": "2022-02-07T13:40:32.811Z"
   },
   {
    "duration": 61,
    "start_time": "2022-02-07T13:40:32.832Z"
   },
   {
    "duration": 9,
    "start_time": "2022-02-07T13:40:32.894Z"
   },
   {
    "duration": 20,
    "start_time": "2022-02-07T13:40:32.904Z"
   },
   {
    "duration": 12,
    "start_time": "2022-02-07T13:40:32.925Z"
   },
   {
    "duration": 133,
    "start_time": "2022-02-07T13:40:32.939Z"
   },
   {
    "duration": 8,
    "start_time": "2022-02-07T13:40:33.073Z"
   },
   {
    "duration": 10,
    "start_time": "2022-02-07T13:40:33.082Z"
   },
   {
    "duration": 6,
    "start_time": "2022-02-07T13:40:33.093Z"
   },
   {
    "duration": 7,
    "start_time": "2022-02-07T13:40:33.100Z"
   },
   {
    "duration": 22,
    "start_time": "2022-02-07T13:40:33.108Z"
   },
   {
    "duration": 58,
    "start_time": "2022-02-07T13:40:33.131Z"
   },
   {
    "duration": 19,
    "start_time": "2022-02-07T13:40:33.191Z"
   },
   {
    "duration": 14,
    "start_time": "2022-02-07T13:40:33.212Z"
   },
   {
    "duration": 139,
    "start_time": "2022-02-07T13:40:33.227Z"
   },
   {
    "duration": 9,
    "start_time": "2022-02-07T13:40:33.372Z"
   },
   {
    "duration": 7,
    "start_time": "2022-02-07T13:40:33.383Z"
   },
   {
    "duration": 5,
    "start_time": "2022-02-07T13:40:33.392Z"
   },
   {
    "duration": 23,
    "start_time": "2022-02-07T13:40:33.399Z"
   },
   {
    "duration": 6,
    "start_time": "2022-02-07T13:40:33.423Z"
   },
   {
    "duration": 57,
    "start_time": "2022-02-07T13:40:33.435Z"
   },
   {
    "duration": 6,
    "start_time": "2022-02-07T13:40:33.495Z"
   },
   {
    "duration": 138,
    "start_time": "2022-02-07T13:40:33.502Z"
   },
   {
    "duration": 5,
    "start_time": "2022-02-07T13:40:33.642Z"
   },
   {
    "duration": 24,
    "start_time": "2022-02-07T13:40:33.649Z"
   },
   {
    "duration": 151,
    "start_time": "2022-02-07T13:40:33.674Z"
   },
   {
    "duration": 4,
    "start_time": "2022-02-07T13:40:33.827Z"
   },
   {
    "duration": 4,
    "start_time": "2022-02-07T13:40:33.833Z"
   },
   {
    "duration": 12,
    "start_time": "2022-02-07T13:40:33.839Z"
   },
   {
    "duration": 153,
    "start_time": "2022-02-07T13:40:33.852Z"
   },
   {
    "duration": 4,
    "start_time": "2022-02-07T13:40:34.006Z"
   },
   {
    "duration": 4,
    "start_time": "2022-02-07T13:40:34.011Z"
   },
   {
    "duration": 16,
    "start_time": "2022-02-07T13:40:34.017Z"
   },
   {
    "duration": 6,
    "start_time": "2022-02-07T13:40:34.035Z"
   },
   {
    "duration": 31,
    "start_time": "2022-02-07T13:40:34.042Z"
   },
   {
    "duration": 5,
    "start_time": "2022-02-07T13:40:34.074Z"
   },
   {
    "duration": 6,
    "start_time": "2022-02-07T13:40:34.081Z"
   },
   {
    "duration": 206,
    "start_time": "2022-02-07T13:40:34.088Z"
   },
   {
    "duration": 4,
    "start_time": "2022-02-07T13:40:34.296Z"
   },
   {
    "duration": 6,
    "start_time": "2022-02-07T13:40:34.302Z"
   },
   {
    "duration": 16,
    "start_time": "2022-02-07T13:40:34.310Z"
   },
   {
    "duration": 6,
    "start_time": "2022-02-07T13:40:34.327Z"
   },
   {
    "duration": 5,
    "start_time": "2022-02-07T13:40:34.334Z"
   },
   {
    "duration": 31,
    "start_time": "2022-02-07T13:40:34.341Z"
   },
   {
    "duration": 6,
    "start_time": "2022-02-07T13:40:34.374Z"
   },
   {
    "duration": 224,
    "start_time": "2022-02-07T13:40:34.381Z"
   },
   {
    "duration": 4,
    "start_time": "2022-02-07T13:40:34.606Z"
   },
   {
    "duration": 5,
    "start_time": "2022-02-07T13:40:34.611Z"
   },
   {
    "duration": 6,
    "start_time": "2022-02-07T13:40:34.617Z"
   },
   {
    "duration": 7,
    "start_time": "2022-02-07T13:40:34.625Z"
   },
   {
    "duration": 5,
    "start_time": "2022-02-07T13:40:34.633Z"
   },
   {
    "duration": 35,
    "start_time": "2022-02-07T13:40:34.639Z"
   },
   {
    "duration": 203,
    "start_time": "2022-02-07T13:40:34.675Z"
   },
   {
    "duration": 5,
    "start_time": "2022-02-07T13:40:34.880Z"
   },
   {
    "duration": 5,
    "start_time": "2022-02-07T13:40:34.887Z"
   },
   {
    "duration": 18,
    "start_time": "2022-02-07T13:40:34.893Z"
   },
   {
    "duration": 6,
    "start_time": "2022-02-07T13:40:34.912Z"
   },
   {
    "duration": 5,
    "start_time": "2022-02-07T13:40:34.920Z"
   },
   {
    "duration": 6,
    "start_time": "2022-02-07T13:40:34.927Z"
   },
   {
    "duration": 7,
    "start_time": "2022-02-07T13:40:34.972Z"
   },
   {
    "duration": 202,
    "start_time": "2022-02-07T13:40:34.981Z"
   },
   {
    "duration": 4,
    "start_time": "2022-02-07T13:40:35.186Z"
   },
   {
    "duration": 9,
    "start_time": "2022-02-07T13:40:35.191Z"
   },
   {
    "duration": 8,
    "start_time": "2022-02-07T13:40:35.201Z"
   },
   {
    "duration": 5,
    "start_time": "2022-02-07T13:40:35.211Z"
   },
   {
    "duration": 5,
    "start_time": "2022-02-07T13:40:35.218Z"
   },
   {
    "duration": 7,
    "start_time": "2022-02-07T13:40:35.225Z"
   },
   {
    "duration": 217,
    "start_time": "2022-02-07T13:40:35.233Z"
   },
   {
    "duration": 3,
    "start_time": "2022-02-07T13:40:35.452Z"
   },
   {
    "duration": 16,
    "start_time": "2022-02-07T13:40:35.457Z"
   },
   {
    "duration": 11,
    "start_time": "2022-02-07T13:40:35.474Z"
   },
   {
    "duration": 6,
    "start_time": "2022-02-07T13:40:35.486Z"
   },
   {
    "duration": 5,
    "start_time": "2022-02-07T13:40:35.494Z"
   },
   {
    "duration": 5,
    "start_time": "2022-02-07T13:40:35.501Z"
   },
   {
    "duration": 201,
    "start_time": "2022-02-07T13:40:35.508Z"
   },
   {
    "duration": 3,
    "start_time": "2022-02-07T13:40:35.711Z"
   },
   {
    "duration": 7,
    "start_time": "2022-02-07T13:40:35.716Z"
   },
   {
    "duration": 12,
    "start_time": "2022-02-07T13:40:35.725Z"
   },
   {
    "duration": 5,
    "start_time": "2022-02-07T13:40:35.738Z"
   },
   {
    "duration": 26,
    "start_time": "2022-02-07T13:40:35.745Z"
   },
   {
    "duration": 6,
    "start_time": "2022-02-07T13:40:35.773Z"
   },
   {
    "duration": 198,
    "start_time": "2022-02-07T13:40:35.781Z"
   },
   {
    "duration": 4,
    "start_time": "2022-02-07T13:40:35.980Z"
   },
   {
    "duration": 5,
    "start_time": "2022-02-07T13:40:35.985Z"
   },
   {
    "duration": 6,
    "start_time": "2022-02-07T13:40:35.991Z"
   },
   {
    "duration": 5,
    "start_time": "2022-02-07T13:40:35.999Z"
   },
   {
    "duration": 6,
    "start_time": "2022-02-07T13:40:36.006Z"
   },
   {
    "duration": 7,
    "start_time": "2022-02-07T13:40:36.013Z"
   },
   {
    "duration": 199,
    "start_time": "2022-02-07T13:40:36.021Z"
   },
   {
    "duration": 3,
    "start_time": "2022-02-07T13:40:36.222Z"
   },
   {
    "duration": 5,
    "start_time": "2022-02-07T13:40:36.226Z"
   },
   {
    "duration": 18,
    "start_time": "2022-02-07T13:40:36.232Z"
   },
   {
    "duration": 21,
    "start_time": "2022-02-07T13:40:36.251Z"
   },
   {
    "duration": 3,
    "start_time": "2022-02-07T13:40:36.274Z"
   },
   {
    "duration": 16,
    "start_time": "2022-02-07T13:40:36.279Z"
   },
   {
    "duration": 5,
    "start_time": "2022-02-07T13:40:36.297Z"
   },
   {
    "duration": 3,
    "start_time": "2022-02-07T13:40:36.303Z"
   },
   {
    "duration": 12,
    "start_time": "2022-02-07T13:40:36.308Z"
   },
   {
    "duration": 21,
    "start_time": "2022-02-07T13:40:36.321Z"
   },
   {
    "duration": 184,
    "start_time": "2022-02-07T13:40:36.344Z"
   },
   {
    "duration": 6,
    "start_time": "2022-02-07T13:40:36.530Z"
   },
   {
    "duration": 163,
    "start_time": "2022-02-07T13:40:36.537Z"
   },
   {
    "duration": 7,
    "start_time": "2022-02-07T13:40:36.702Z"
   },
   {
    "duration": 10,
    "start_time": "2022-02-07T13:40:36.711Z"
   },
   {
    "duration": 39,
    "start_time": "2022-02-07T13:41:53.743Z"
   },
   {
    "duration": 10,
    "start_time": "2022-02-07T13:42:03.274Z"
   },
   {
    "duration": 33,
    "start_time": "2022-02-07T13:44:59.898Z"
   },
   {
    "duration": 20,
    "start_time": "2022-02-07T13:45:19.172Z"
   },
   {
    "duration": 6,
    "start_time": "2022-02-07T13:45:31.753Z"
   },
   {
    "duration": 12,
    "start_time": "2022-02-07T13:45:36.143Z"
   },
   {
    "duration": 29,
    "start_time": "2022-02-07T14:01:38.751Z"
   },
   {
    "duration": 112,
    "start_time": "2022-02-07T14:04:24.541Z"
   },
   {
    "duration": 8515,
    "start_time": "2022-02-07T14:04:42.614Z"
   },
   {
    "duration": 1155,
    "start_time": "2022-02-07T14:08:39.743Z"
   },
   {
    "duration": 378,
    "start_time": "2022-02-07T14:08:40.899Z"
   },
   {
    "duration": 11,
    "start_time": "2022-02-07T14:08:41.279Z"
   },
   {
    "duration": 19,
    "start_time": "2022-02-07T14:08:41.291Z"
   },
   {
    "duration": 25,
    "start_time": "2022-02-07T14:08:41.312Z"
   },
   {
    "duration": 12,
    "start_time": "2022-02-07T14:08:41.339Z"
   },
   {
    "duration": 23,
    "start_time": "2022-02-07T14:08:41.352Z"
   },
   {
    "duration": 17,
    "start_time": "2022-02-07T14:08:41.376Z"
   },
   {
    "duration": 18,
    "start_time": "2022-02-07T14:08:41.396Z"
   },
   {
    "duration": 11,
    "start_time": "2022-02-07T14:08:41.417Z"
   },
   {
    "duration": 7,
    "start_time": "2022-02-07T14:08:41.430Z"
   },
   {
    "duration": 44,
    "start_time": "2022-02-07T14:08:41.439Z"
   },
   {
    "duration": 18,
    "start_time": "2022-02-07T14:08:41.485Z"
   },
   {
    "duration": 10,
    "start_time": "2022-02-07T14:08:41.505Z"
   },
   {
    "duration": 7,
    "start_time": "2022-02-07T14:08:41.517Z"
   },
   {
    "duration": 7,
    "start_time": "2022-02-07T14:08:41.526Z"
   },
   {
    "duration": 50,
    "start_time": "2022-02-07T14:08:41.535Z"
   },
   {
    "duration": 7,
    "start_time": "2022-02-07T14:08:41.587Z"
   },
   {
    "duration": 8,
    "start_time": "2022-02-07T14:08:41.596Z"
   },
   {
    "duration": 11,
    "start_time": "2022-02-07T14:08:41.606Z"
   },
   {
    "duration": 94,
    "start_time": "2022-02-07T14:08:41.619Z"
   },
   {
    "duration": 58,
    "start_time": "2022-02-07T14:08:41.715Z"
   },
   {
    "duration": 37,
    "start_time": "2022-02-07T14:08:41.774Z"
   },
   {
    "duration": 5,
    "start_time": "2022-02-07T14:08:41.812Z"
   },
   {
    "duration": 7,
    "start_time": "2022-02-07T14:08:41.818Z"
   },
   {
    "duration": 4,
    "start_time": "2022-02-07T14:08:41.827Z"
   },
   {
    "duration": 8,
    "start_time": "2022-02-07T14:08:41.835Z"
   },
   {
    "duration": 6,
    "start_time": "2022-02-07T14:08:41.872Z"
   },
   {
    "duration": 17,
    "start_time": "2022-02-07T14:08:41.879Z"
   },
   {
    "duration": 11,
    "start_time": "2022-02-07T14:08:41.898Z"
   },
   {
    "duration": 22,
    "start_time": "2022-02-07T14:08:41.910Z"
   },
   {
    "duration": 6,
    "start_time": "2022-02-07T14:08:41.934Z"
   },
   {
    "duration": 32,
    "start_time": "2022-02-07T14:08:41.941Z"
   },
   {
    "duration": 9,
    "start_time": "2022-02-07T14:08:41.975Z"
   },
   {
    "duration": 8,
    "start_time": "2022-02-07T14:08:41.986Z"
   },
   {
    "duration": 31,
    "start_time": "2022-02-07T14:08:41.996Z"
   },
   {
    "duration": 115,
    "start_time": "2022-02-07T14:08:42.029Z"
   },
   {
    "duration": 44,
    "start_time": "2022-02-07T14:08:42.145Z"
   },
   {
    "duration": 8,
    "start_time": "2022-02-07T14:08:42.190Z"
   },
   {
    "duration": 22,
    "start_time": "2022-02-07T14:08:42.200Z"
   },
   {
    "duration": 4,
    "start_time": "2022-02-07T14:08:42.225Z"
   },
   {
    "duration": 13,
    "start_time": "2022-02-07T14:08:42.231Z"
   },
   {
    "duration": 140,
    "start_time": "2022-02-07T14:08:42.245Z"
   },
   {
    "duration": 13,
    "start_time": "2022-02-07T14:08:42.386Z"
   },
   {
    "duration": 9,
    "start_time": "2022-02-07T14:08:42.400Z"
   },
   {
    "duration": 6,
    "start_time": "2022-02-07T14:08:42.410Z"
   },
   {
    "duration": 17,
    "start_time": "2022-02-07T14:08:42.417Z"
   },
   {
    "duration": 59,
    "start_time": "2022-02-07T14:08:42.436Z"
   },
   {
    "duration": 9,
    "start_time": "2022-02-07T14:08:42.497Z"
   },
   {
    "duration": 18,
    "start_time": "2022-02-07T14:08:42.507Z"
   },
   {
    "duration": 11,
    "start_time": "2022-02-07T14:08:42.527Z"
   },
   {
    "duration": 124,
    "start_time": "2022-02-07T14:08:42.539Z"
   },
   {
    "duration": 7,
    "start_time": "2022-02-07T14:08:42.671Z"
   },
   {
    "duration": 9,
    "start_time": "2022-02-07T14:08:42.679Z"
   },
   {
    "duration": 10,
    "start_time": "2022-02-07T14:08:42.689Z"
   },
   {
    "duration": 7,
    "start_time": "2022-02-07T14:08:42.701Z"
   },
   {
    "duration": 23,
    "start_time": "2022-02-07T14:08:42.709Z"
   },
   {
    "duration": 50,
    "start_time": "2022-02-07T14:08:42.733Z"
   },
   {
    "duration": 19,
    "start_time": "2022-02-07T14:08:42.784Z"
   },
   {
    "duration": 13,
    "start_time": "2022-02-07T14:08:42.804Z"
   },
   {
    "duration": 8864,
    "start_time": "2022-02-07T14:08:42.818Z"
   },
   {
    "duration": -20,
    "start_time": "2022-02-07T14:08:51.706Z"
   },
   {
    "duration": -26,
    "start_time": "2022-02-07T14:08:51.713Z"
   },
   {
    "duration": -32,
    "start_time": "2022-02-07T14:08:51.720Z"
   },
   {
    "duration": -37,
    "start_time": "2022-02-07T14:08:51.726Z"
   },
   {
    "duration": -43,
    "start_time": "2022-02-07T14:08:51.733Z"
   },
   {
    "duration": -48,
    "start_time": "2022-02-07T14:08:51.739Z"
   },
   {
    "duration": -54,
    "start_time": "2022-02-07T14:08:51.746Z"
   },
   {
    "duration": -60,
    "start_time": "2022-02-07T14:08:51.753Z"
   },
   {
    "duration": -67,
    "start_time": "2022-02-07T14:08:51.760Z"
   },
   {
    "duration": -73,
    "start_time": "2022-02-07T14:08:51.767Z"
   },
   {
    "duration": -79,
    "start_time": "2022-02-07T14:08:51.774Z"
   },
   {
    "duration": -84,
    "start_time": "2022-02-07T14:08:51.780Z"
   },
   {
    "duration": -91,
    "start_time": "2022-02-07T14:08:51.788Z"
   },
   {
    "duration": -96,
    "start_time": "2022-02-07T14:08:51.794Z"
   },
   {
    "duration": -102,
    "start_time": "2022-02-07T14:08:51.801Z"
   },
   {
    "duration": -182,
    "start_time": "2022-02-07T14:08:51.882Z"
   },
   {
    "duration": -191,
    "start_time": "2022-02-07T14:08:51.892Z"
   },
   {
    "duration": -198,
    "start_time": "2022-02-07T14:08:51.900Z"
   },
   {
    "duration": -207,
    "start_time": "2022-02-07T14:08:51.909Z"
   },
   {
    "duration": -221,
    "start_time": "2022-02-07T14:08:51.924Z"
   },
   {
    "duration": -227,
    "start_time": "2022-02-07T14:08:51.931Z"
   },
   {
    "duration": -232,
    "start_time": "2022-02-07T14:08:51.937Z"
   },
   {
    "duration": -237,
    "start_time": "2022-02-07T14:08:51.943Z"
   },
   {
    "duration": -241,
    "start_time": "2022-02-07T14:08:51.948Z"
   },
   {
    "duration": -246,
    "start_time": "2022-02-07T14:08:51.954Z"
   },
   {
    "duration": -250,
    "start_time": "2022-02-07T14:08:51.959Z"
   },
   {
    "duration": -255,
    "start_time": "2022-02-07T14:08:51.964Z"
   },
   {
    "duration": -259,
    "start_time": "2022-02-07T14:08:51.969Z"
   },
   {
    "duration": -265,
    "start_time": "2022-02-07T14:08:51.976Z"
   },
   {
    "duration": -293,
    "start_time": "2022-02-07T14:08:52.005Z"
   },
   {
    "duration": -298,
    "start_time": "2022-02-07T14:08:52.011Z"
   },
   {
    "duration": -303,
    "start_time": "2022-02-07T14:08:52.017Z"
   },
   {
    "duration": -309,
    "start_time": "2022-02-07T14:08:52.023Z"
   },
   {
    "duration": -315,
    "start_time": "2022-02-07T14:08:52.030Z"
   },
   {
    "duration": -319,
    "start_time": "2022-02-07T14:08:52.036Z"
   },
   {
    "duration": -322,
    "start_time": "2022-02-07T14:08:52.040Z"
   },
   {
    "duration": -326,
    "start_time": "2022-02-07T14:08:52.046Z"
   },
   {
    "duration": -330,
    "start_time": "2022-02-07T14:08:52.051Z"
   },
   {
    "duration": -335,
    "start_time": "2022-02-07T14:08:52.057Z"
   },
   {
    "duration": -339,
    "start_time": "2022-02-07T14:08:52.062Z"
   },
   {
    "duration": -343,
    "start_time": "2022-02-07T14:08:52.068Z"
   },
   {
    "duration": -346,
    "start_time": "2022-02-07T14:08:52.072Z"
   },
   {
    "duration": -351,
    "start_time": "2022-02-07T14:08:52.078Z"
   },
   {
    "duration": -355,
    "start_time": "2022-02-07T14:08:52.083Z"
   },
   {
    "duration": -360,
    "start_time": "2022-02-07T14:08:52.089Z"
   },
   {
    "duration": -364,
    "start_time": "2022-02-07T14:08:52.094Z"
   },
   {
    "duration": -329,
    "start_time": "2022-02-07T14:08:52.100Z"
   },
   {
    "duration": -333,
    "start_time": "2022-02-07T14:08:52.105Z"
   },
   {
    "duration": -337,
    "start_time": "2022-02-07T14:08:52.111Z"
   },
   {
    "duration": -341,
    "start_time": "2022-02-07T14:08:52.116Z"
   },
   {
    "duration": -346,
    "start_time": "2022-02-07T14:08:52.122Z"
   },
   {
    "duration": -350,
    "start_time": "2022-02-07T14:08:52.127Z"
   },
   {
    "duration": -355,
    "start_time": "2022-02-07T14:08:52.133Z"
   },
   {
    "duration": -358,
    "start_time": "2022-02-07T14:08:52.137Z"
   },
   {
    "duration": -362,
    "start_time": "2022-02-07T14:08:52.143Z"
   },
   {
    "duration": -366,
    "start_time": "2022-02-07T14:08:52.148Z"
   },
   {
    "duration": -371,
    "start_time": "2022-02-07T14:08:52.154Z"
   },
   {
    "duration": -374,
    "start_time": "2022-02-07T14:08:52.158Z"
   },
   {
    "duration": -379,
    "start_time": "2022-02-07T14:08:52.164Z"
   },
   {
    "duration": -383,
    "start_time": "2022-02-07T14:08:52.169Z"
   },
   {
    "duration": -387,
    "start_time": "2022-02-07T14:08:52.175Z"
   },
   {
    "duration": -391,
    "start_time": "2022-02-07T14:08:52.180Z"
   },
   {
    "duration": -396,
    "start_time": "2022-02-07T14:08:52.186Z"
   },
   {
    "duration": -397,
    "start_time": "2022-02-07T14:08:52.190Z"
   },
   {
    "duration": -403,
    "start_time": "2022-02-07T14:08:52.196Z"
   },
   {
    "duration": -407,
    "start_time": "2022-02-07T14:08:52.201Z"
   },
   {
    "duration": -412,
    "start_time": "2022-02-07T14:08:52.207Z"
   },
   {
    "duration": -416,
    "start_time": "2022-02-07T14:08:52.212Z"
   },
   {
    "duration": -420,
    "start_time": "2022-02-07T14:08:52.217Z"
   },
   {
    "duration": -425,
    "start_time": "2022-02-07T14:08:52.222Z"
   },
   {
    "duration": -430,
    "start_time": "2022-02-07T14:08:52.228Z"
   },
   {
    "duration": -433,
    "start_time": "2022-02-07T14:08:52.232Z"
   },
   {
    "duration": -438,
    "start_time": "2022-02-07T14:08:52.238Z"
   },
   {
    "duration": -443,
    "start_time": "2022-02-07T14:08:52.243Z"
   },
   {
    "duration": -448,
    "start_time": "2022-02-07T14:08:52.249Z"
   },
   {
    "duration": -452,
    "start_time": "2022-02-07T14:08:52.254Z"
   },
   {
    "duration": -458,
    "start_time": "2022-02-07T14:08:52.260Z"
   },
   {
    "duration": -463,
    "start_time": "2022-02-07T14:08:52.266Z"
   },
   {
    "duration": -468,
    "start_time": "2022-02-07T14:08:52.272Z"
   },
   {
    "duration": -472,
    "start_time": "2022-02-07T14:08:52.277Z"
   },
   {
    "duration": -478,
    "start_time": "2022-02-07T14:08:52.283Z"
   },
   {
    "duration": -483,
    "start_time": "2022-02-07T14:08:52.289Z"
   },
   {
    "duration": -489,
    "start_time": "2022-02-07T14:08:52.296Z"
   },
   {
    "duration": -493,
    "start_time": "2022-02-07T14:08:52.301Z"
   },
   {
    "duration": -500,
    "start_time": "2022-02-07T14:08:52.308Z"
   },
   {
    "duration": -503,
    "start_time": "2022-02-07T14:08:52.312Z"
   },
   {
    "duration": -508,
    "start_time": "2022-02-07T14:08:52.318Z"
   },
   {
    "duration": -512,
    "start_time": "2022-02-07T14:08:52.323Z"
   },
   {
    "duration": -518,
    "start_time": "2022-02-07T14:08:52.329Z"
   },
   {
    "duration": -522,
    "start_time": "2022-02-07T14:08:52.334Z"
   },
   {
    "duration": 8544,
    "start_time": "2022-02-07T14:09:36.784Z"
   },
   {
    "duration": 14,
    "start_time": "2022-02-07T14:11:17.260Z"
   },
   {
    "duration": 12,
    "start_time": "2022-02-07T14:11:34.004Z"
   },
   {
    "duration": 120,
    "start_time": "2022-02-07T14:12:22.181Z"
   },
   {
    "duration": 112,
    "start_time": "2022-02-07T14:12:30.505Z"
   },
   {
    "duration": 8,
    "start_time": "2022-02-07T14:14:45.689Z"
   },
   {
    "duration": 7,
    "start_time": "2022-02-07T14:14:49.371Z"
   },
   {
    "duration": 5,
    "start_time": "2022-02-07T14:14:53.055Z"
   },
   {
    "duration": 27,
    "start_time": "2022-02-07T14:28:57.884Z"
   },
   {
    "duration": 20,
    "start_time": "2022-02-07T14:29:06.433Z"
   },
   {
    "duration": 7,
    "start_time": "2022-02-07T14:29:10.955Z"
   },
   {
    "duration": 26,
    "start_time": "2022-02-07T14:29:43.057Z"
   },
   {
    "duration": 20,
    "start_time": "2022-02-07T14:29:49.098Z"
   },
   {
    "duration": 7,
    "start_time": "2022-02-07T14:29:51.535Z"
   },
   {
    "duration": 132,
    "start_time": "2022-02-07T14:30:00.002Z"
   },
   {
    "duration": 7,
    "start_time": "2022-02-07T14:30:07.293Z"
   },
   {
    "duration": 145,
    "start_time": "2022-02-07T14:34:02.801Z"
   },
   {
    "duration": 13,
    "start_time": "2022-02-07T14:34:52.157Z"
   },
   {
    "duration": 138,
    "start_time": "2022-02-07T14:34:54.194Z"
   },
   {
    "duration": 4,
    "start_time": "2022-02-07T14:34:57.947Z"
   },
   {
    "duration": 5,
    "start_time": "2022-02-07T14:34:58.921Z"
   },
   {
    "duration": 11,
    "start_time": "2022-02-07T14:35:03.080Z"
   },
   {
    "duration": 153,
    "start_time": "2022-02-07T14:35:04.860Z"
   },
   {
    "duration": 4,
    "start_time": "2022-02-07T14:35:08.868Z"
   },
   {
    "duration": 4,
    "start_time": "2022-02-07T14:35:09.916Z"
   },
   {
    "duration": 15,
    "start_time": "2022-02-07T14:35:28.038Z"
   },
   {
    "duration": 6,
    "start_time": "2022-02-07T14:36:15.248Z"
   },
   {
    "duration": 7,
    "start_time": "2022-02-07T14:36:16.687Z"
   },
   {
    "duration": 6,
    "start_time": "2022-02-07T14:36:17.801Z"
   },
   {
    "duration": 6,
    "start_time": "2022-02-07T14:36:23.444Z"
   },
   {
    "duration": 178,
    "start_time": "2022-02-07T14:36:24.422Z"
   },
   {
    "duration": 4,
    "start_time": "2022-02-07T14:36:31.760Z"
   },
   {
    "duration": 4,
    "start_time": "2022-02-07T14:36:37.673Z"
   },
   {
    "duration": 13,
    "start_time": "2022-02-07T14:40:10.342Z"
   },
   {
    "duration": 243,
    "start_time": "2022-02-07T14:40:11.452Z"
   },
   {
    "duration": 4,
    "start_time": "2022-02-07T14:40:16.355Z"
   },
   {
    "duration": 4,
    "start_time": "2022-02-07T14:40:20.938Z"
   },
   {
    "duration": 12,
    "start_time": "2022-02-07T14:40:24.064Z"
   },
   {
    "duration": 143,
    "start_time": "2022-02-07T14:40:29.780Z"
   },
   {
    "duration": 3,
    "start_time": "2022-02-07T14:40:37.005Z"
   },
   {
    "duration": 3,
    "start_time": "2022-02-07T14:40:37.979Z"
   },
   {
    "duration": 16,
    "start_time": "2022-02-07T14:42:47.598Z"
   },
   {
    "duration": 16,
    "start_time": "2022-02-07T14:43:19.911Z"
   },
   {
    "duration": 16,
    "start_time": "2022-02-07T14:45:55.022Z"
   },
   {
    "duration": 1091,
    "start_time": "2022-02-07T15:05:04.306Z"
   },
   {
    "duration": 359,
    "start_time": "2022-02-07T15:05:05.399Z"
   },
   {
    "duration": 10,
    "start_time": "2022-02-07T15:05:05.760Z"
   },
   {
    "duration": 21,
    "start_time": "2022-02-07T15:05:05.771Z"
   },
   {
    "duration": 30,
    "start_time": "2022-02-07T15:05:05.793Z"
   },
   {
    "duration": 14,
    "start_time": "2022-02-07T15:05:05.824Z"
   },
   {
    "duration": 31,
    "start_time": "2022-02-07T15:05:05.840Z"
   },
   {
    "duration": 16,
    "start_time": "2022-02-07T15:05:05.873Z"
   },
   {
    "duration": 20,
    "start_time": "2022-02-07T15:05:05.892Z"
   },
   {
    "duration": 10,
    "start_time": "2022-02-07T15:05:05.914Z"
   },
   {
    "duration": 6,
    "start_time": "2022-02-07T15:05:05.926Z"
   },
   {
    "duration": 38,
    "start_time": "2022-02-07T15:05:05.933Z"
   },
   {
    "duration": 16,
    "start_time": "2022-02-07T15:05:05.973Z"
   },
   {
    "duration": 11,
    "start_time": "2022-02-07T15:05:05.991Z"
   },
   {
    "duration": 12,
    "start_time": "2022-02-07T15:05:06.004Z"
   },
   {
    "duration": 9,
    "start_time": "2022-02-07T15:05:06.018Z"
   },
   {
    "duration": 12,
    "start_time": "2022-02-07T15:05:06.029Z"
   },
   {
    "duration": 6,
    "start_time": "2022-02-07T15:05:06.042Z"
   },
   {
    "duration": 27,
    "start_time": "2022-02-07T15:05:06.049Z"
   },
   {
    "duration": 8,
    "start_time": "2022-02-07T15:05:06.077Z"
   },
   {
    "duration": 93,
    "start_time": "2022-02-07T15:05:06.087Z"
   },
   {
    "duration": 46,
    "start_time": "2022-02-07T15:05:06.182Z"
   },
   {
    "duration": 45,
    "start_time": "2022-02-07T15:05:06.230Z"
   },
   {
    "duration": 5,
    "start_time": "2022-02-07T15:05:06.276Z"
   },
   {
    "duration": 6,
    "start_time": "2022-02-07T15:05:06.283Z"
   },
   {
    "duration": 6,
    "start_time": "2022-02-07T15:05:06.291Z"
   },
   {
    "duration": 10,
    "start_time": "2022-02-07T15:05:06.302Z"
   },
   {
    "duration": 5,
    "start_time": "2022-02-07T15:05:06.314Z"
   },
   {
    "duration": 17,
    "start_time": "2022-02-07T15:05:06.320Z"
   },
   {
    "duration": 11,
    "start_time": "2022-02-07T15:05:06.372Z"
   },
   {
    "duration": 24,
    "start_time": "2022-02-07T15:05:06.384Z"
   },
   {
    "duration": 6,
    "start_time": "2022-02-07T15:05:06.409Z"
   },
   {
    "duration": 8,
    "start_time": "2022-02-07T15:05:06.417Z"
   },
   {
    "duration": 8,
    "start_time": "2022-02-07T15:05:06.427Z"
   },
   {
    "duration": 40,
    "start_time": "2022-02-07T15:05:06.437Z"
   },
   {
    "duration": 30,
    "start_time": "2022-02-07T15:05:06.479Z"
   },
   {
    "duration": 105,
    "start_time": "2022-02-07T15:05:06.510Z"
   },
   {
    "duration": 39,
    "start_time": "2022-02-07T15:05:06.617Z"
   },
   {
    "duration": 22,
    "start_time": "2022-02-07T15:05:06.658Z"
   },
   {
    "duration": 21,
    "start_time": "2022-02-07T15:05:06.682Z"
   },
   {
    "duration": 5,
    "start_time": "2022-02-07T15:05:06.705Z"
   },
   {
    "duration": 11,
    "start_time": "2022-02-07T15:05:06.712Z"
   },
   {
    "duration": 161,
    "start_time": "2022-02-07T15:05:06.725Z"
   },
   {
    "duration": 13,
    "start_time": "2022-02-07T15:05:06.888Z"
   },
   {
    "duration": 12,
    "start_time": "2022-02-07T15:05:06.903Z"
   },
   {
    "duration": 7,
    "start_time": "2022-02-07T15:05:06.916Z"
   },
   {
    "duration": 18,
    "start_time": "2022-02-07T15:05:06.924Z"
   },
   {
    "duration": 60,
    "start_time": "2022-02-07T15:05:06.944Z"
   },
   {
    "duration": 9,
    "start_time": "2022-02-07T15:05:07.006Z"
   },
   {
    "duration": 21,
    "start_time": "2022-02-07T15:05:07.016Z"
   },
   {
    "duration": 34,
    "start_time": "2022-02-07T15:05:07.038Z"
   },
   {
    "duration": 111,
    "start_time": "2022-02-07T15:05:07.074Z"
   },
   {
    "duration": 8,
    "start_time": "2022-02-07T15:05:07.186Z"
   },
   {
    "duration": 9,
    "start_time": "2022-02-07T15:05:07.195Z"
   },
   {
    "duration": 6,
    "start_time": "2022-02-07T15:05:07.205Z"
   },
   {
    "duration": 12,
    "start_time": "2022-02-07T15:05:07.213Z"
   },
   {
    "duration": 45,
    "start_time": "2022-02-07T15:05:07.227Z"
   },
   {
    "duration": 29,
    "start_time": "2022-02-07T15:05:07.274Z"
   },
   {
    "duration": 19,
    "start_time": "2022-02-07T15:05:07.305Z"
   },
   {
    "duration": 12,
    "start_time": "2022-02-07T15:05:07.325Z"
   },
   {
    "duration": 33,
    "start_time": "2022-02-07T15:05:07.339Z"
   },
   {
    "duration": 128,
    "start_time": "2022-02-07T15:05:07.374Z"
   },
   {
    "duration": 8,
    "start_time": "2022-02-07T15:05:07.503Z"
   },
   {
    "duration": 8,
    "start_time": "2022-02-07T15:05:07.512Z"
   },
   {
    "duration": 6,
    "start_time": "2022-02-07T15:05:07.521Z"
   },
   {
    "duration": 18,
    "start_time": "2022-02-07T15:05:07.528Z"
   },
   {
    "duration": 28,
    "start_time": "2022-02-07T15:05:07.548Z"
   },
   {
    "duration": 20,
    "start_time": "2022-02-07T15:05:07.578Z"
   },
   {
    "duration": 6,
    "start_time": "2022-02-07T15:05:07.599Z"
   },
   {
    "duration": 150,
    "start_time": "2022-02-07T15:05:07.607Z"
   },
   {
    "duration": 14,
    "start_time": "2022-02-07T15:05:07.759Z"
   },
   {
    "duration": 11,
    "start_time": "2022-02-07T15:05:07.774Z"
   },
   {
    "duration": 155,
    "start_time": "2022-02-07T15:05:07.786Z"
   },
   {
    "duration": 4,
    "start_time": "2022-02-07T15:05:07.942Z"
   },
   {
    "duration": 5,
    "start_time": "2022-02-07T15:05:07.947Z"
   },
   {
    "duration": 27,
    "start_time": "2022-02-07T15:05:07.954Z"
   },
   {
    "duration": 154,
    "start_time": "2022-02-07T15:05:07.983Z"
   },
   {
    "duration": 3,
    "start_time": "2022-02-07T15:05:08.139Z"
   },
   {
    "duration": 6,
    "start_time": "2022-02-07T15:05:08.143Z"
   },
   {
    "duration": 34,
    "start_time": "2022-02-07T15:05:08.150Z"
   },
   {
    "duration": 17,
    "start_time": "2022-02-07T15:05:08.191Z"
   },
   {
    "duration": 4,
    "start_time": "2022-02-07T15:05:08.211Z"
   },
   {
    "duration": 6,
    "start_time": "2022-02-07T15:05:08.216Z"
   },
   {
    "duration": 5,
    "start_time": "2022-02-07T15:05:08.223Z"
   },
   {
    "duration": 7,
    "start_time": "2022-02-07T15:05:08.229Z"
   },
   {
    "duration": 34,
    "start_time": "2022-02-07T15:05:08.238Z"
   },
   {
    "duration": 15,
    "start_time": "2022-02-07T15:05:08.274Z"
   },
   {
    "duration": 7,
    "start_time": "2022-02-07T15:05:08.290Z"
   },
   {
    "duration": 203,
    "start_time": "2022-02-07T15:05:08.298Z"
   },
   {
    "duration": 5,
    "start_time": "2022-02-07T15:05:08.503Z"
   },
   {
    "duration": 5,
    "start_time": "2022-02-07T15:05:08.509Z"
   },
   {
    "duration": 15,
    "start_time": "2022-02-07T15:05:08.516Z"
   },
   {
    "duration": 6,
    "start_time": "2022-02-07T15:05:08.533Z"
   },
   {
    "duration": 35,
    "start_time": "2022-02-07T15:05:08.541Z"
   },
   {
    "duration": 5,
    "start_time": "2022-02-07T15:05:08.578Z"
   },
   {
    "duration": 7,
    "start_time": "2022-02-07T15:05:08.585Z"
   },
   {
    "duration": 242,
    "start_time": "2022-02-07T15:05:08.594Z"
   },
   {
    "duration": 4,
    "start_time": "2022-02-07T15:05:08.838Z"
   },
   {
    "duration": 4,
    "start_time": "2022-02-07T15:05:08.844Z"
   },
   {
    "duration": 27,
    "start_time": "2022-02-07T15:05:08.850Z"
   },
   {
    "duration": 7,
    "start_time": "2022-02-07T15:05:08.879Z"
   },
   {
    "duration": 7,
    "start_time": "2022-02-07T15:05:08.888Z"
   },
   {
    "duration": 5,
    "start_time": "2022-02-07T15:05:08.897Z"
   },
   {
    "duration": 206,
    "start_time": "2022-02-07T15:05:08.904Z"
   },
   {
    "duration": 3,
    "start_time": "2022-02-07T15:05:09.112Z"
   },
   {
    "duration": 20,
    "start_time": "2022-02-07T15:05:09.117Z"
   },
   {
    "duration": 26,
    "start_time": "2022-02-07T15:05:09.139Z"
   },
   {
    "duration": 16,
    "start_time": "2022-02-07T15:05:09.167Z"
   },
   {
    "duration": 25,
    "start_time": "2022-02-07T15:05:09.185Z"
   },
   {
    "duration": 10,
    "start_time": "2022-02-07T15:05:09.211Z"
   },
   {
    "duration": 21,
    "start_time": "2022-02-07T15:05:09.223Z"
   },
   {
    "duration": 162,
    "start_time": "2022-02-07T15:05:09.246Z"
   },
   {
    "duration": 3,
    "start_time": "2022-02-07T15:05:09.410Z"
   },
   {
    "duration": 17,
    "start_time": "2022-02-07T15:05:09.414Z"
   },
   {
    "duration": 11,
    "start_time": "2022-02-07T15:05:09.432Z"
   },
   {
    "duration": 21,
    "start_time": "2022-02-07T15:05:09.444Z"
   },
   {
    "duration": 11,
    "start_time": "2022-02-07T15:05:09.467Z"
   },
   {
    "duration": 20,
    "start_time": "2022-02-07T15:05:09.479Z"
   },
   {
    "duration": 192,
    "start_time": "2022-02-07T15:05:09.501Z"
   },
   {
    "duration": 3,
    "start_time": "2022-02-07T15:05:09.695Z"
   },
   {
    "duration": 23,
    "start_time": "2022-02-07T15:05:09.700Z"
   },
   {
    "duration": 24,
    "start_time": "2022-02-07T15:05:09.724Z"
   },
   {
    "duration": 16,
    "start_time": "2022-02-07T15:05:09.749Z"
   },
   {
    "duration": 21,
    "start_time": "2022-02-07T15:05:09.767Z"
   },
   {
    "duration": 19,
    "start_time": "2022-02-07T15:05:09.790Z"
   },
   {
    "duration": 186,
    "start_time": "2022-02-07T15:05:09.811Z"
   },
   {
    "duration": 4,
    "start_time": "2022-02-07T15:05:09.999Z"
   },
   {
    "duration": 11,
    "start_time": "2022-02-07T15:05:10.005Z"
   },
   {
    "duration": 20,
    "start_time": "2022-02-07T15:05:10.017Z"
   },
   {
    "duration": 40,
    "start_time": "2022-02-07T15:05:10.039Z"
   },
   {
    "duration": 17,
    "start_time": "2022-02-07T15:05:10.081Z"
   },
   {
    "duration": 8,
    "start_time": "2022-02-07T15:05:10.099Z"
   },
   {
    "duration": 206,
    "start_time": "2022-02-07T15:05:10.108Z"
   },
   {
    "duration": 4,
    "start_time": "2022-02-07T15:05:10.315Z"
   },
   {
    "duration": 14,
    "start_time": "2022-02-07T15:05:10.320Z"
   },
   {
    "duration": 13,
    "start_time": "2022-02-07T15:05:10.336Z"
   },
   {
    "duration": 21,
    "start_time": "2022-02-07T15:05:10.351Z"
   },
   {
    "duration": 23,
    "start_time": "2022-02-07T15:05:10.374Z"
   },
   {
    "duration": 15,
    "start_time": "2022-02-07T15:05:10.399Z"
   },
   {
    "duration": 175,
    "start_time": "2022-02-07T15:05:10.416Z"
   },
   {
    "duration": 4,
    "start_time": "2022-02-07T15:05:10.592Z"
   },
   {
    "duration": 10,
    "start_time": "2022-02-07T15:05:10.597Z"
   },
   {
    "duration": 34,
    "start_time": "2022-02-07T15:05:10.609Z"
   },
   {
    "duration": 5,
    "start_time": "2022-02-07T15:05:10.644Z"
   },
   {
    "duration": 16,
    "start_time": "2022-02-07T15:05:10.650Z"
   },
   {
    "duration": 29,
    "start_time": "2022-02-07T15:05:10.667Z"
   },
   {
    "duration": 8,
    "start_time": "2022-02-07T15:05:10.698Z"
   },
   {
    "duration": 15,
    "start_time": "2022-02-07T15:05:10.708Z"
   },
   {
    "duration": 23,
    "start_time": "2022-02-07T15:05:10.724Z"
   },
   {
    "duration": 23,
    "start_time": "2022-02-07T15:05:10.748Z"
   },
   {
    "duration": 179,
    "start_time": "2022-02-07T15:05:10.772Z"
   },
   {
    "duration": 6,
    "start_time": "2022-02-07T15:05:10.952Z"
   },
   {
    "duration": 170,
    "start_time": "2022-02-07T15:05:10.960Z"
   },
   {
    "duration": 6,
    "start_time": "2022-02-07T15:05:11.132Z"
   },
   {
    "duration": 20,
    "start_time": "2022-02-07T15:05:11.140Z"
   },
   {
    "duration": 9,
    "start_time": "2022-02-07T15:06:51.933Z"
   },
   {
    "duration": 8,
    "start_time": "2022-02-07T15:08:15.492Z"
   },
   {
    "duration": 10,
    "start_time": "2022-02-07T15:08:53.141Z"
   },
   {
    "duration": 191,
    "start_time": "2022-02-07T15:11:39.871Z"
   },
   {
    "duration": 4,
    "start_time": "2022-02-07T15:16:58.448Z"
   },
   {
    "duration": 4,
    "start_time": "2022-02-07T15:16:59.629Z"
   },
   {
    "duration": 10,
    "start_time": "2022-02-07T15:26:21.692Z"
   },
   {
    "duration": 398,
    "start_time": "2022-02-07T15:27:55.124Z"
   },
   {
    "duration": 315,
    "start_time": "2022-02-07T15:29:29.016Z"
   },
   {
    "duration": 4,
    "start_time": "2022-02-07T15:30:32.277Z"
   },
   {
    "duration": 4,
    "start_time": "2022-02-07T15:30:57.851Z"
   },
   {
    "duration": 187,
    "start_time": "2022-02-07T15:31:06.023Z"
   },
   {
    "duration": 4,
    "start_time": "2022-02-07T15:32:58.913Z"
   },
   {
    "duration": 4,
    "start_time": "2022-02-07T15:33:30.315Z"
   },
   {
    "duration": 4,
    "start_time": "2022-02-07T15:34:05.984Z"
   },
   {
    "duration": 4,
    "start_time": "2022-02-07T15:35:15.417Z"
   },
   {
    "duration": 4,
    "start_time": "2022-02-07T15:35:16.436Z"
   },
   {
    "duration": 4,
    "start_time": "2022-02-07T15:36:59.508Z"
   },
   {
    "duration": 4,
    "start_time": "2022-02-07T15:37:13.129Z"
   },
   {
    "duration": 306,
    "start_time": "2022-02-07T15:37:45.650Z"
   },
   {
    "duration": 658,
    "start_time": "2022-02-07T15:38:55.520Z"
   },
   {
    "duration": 238,
    "start_time": "2022-02-07T15:39:14.159Z"
   },
   {
    "duration": 244,
    "start_time": "2022-02-07T15:39:23.444Z"
   },
   {
    "duration": 282,
    "start_time": "2022-02-07T15:40:24.577Z"
   },
   {
    "duration": 250,
    "start_time": "2022-02-07T15:40:57.402Z"
   },
   {
    "duration": 256,
    "start_time": "2022-02-07T15:43:07.995Z"
   },
   {
    "duration": 288,
    "start_time": "2022-02-07T18:31:33.996Z"
   },
   {
    "duration": 1633,
    "start_time": "2022-02-07T18:31:43.309Z"
   },
   {
    "duration": 525,
    "start_time": "2022-02-07T18:31:44.945Z"
   },
   {
    "duration": 18,
    "start_time": "2022-02-07T18:31:45.474Z"
   },
   {
    "duration": 31,
    "start_time": "2022-02-07T18:31:45.496Z"
   },
   {
    "duration": 48,
    "start_time": "2022-02-07T18:31:45.533Z"
   },
   {
    "duration": 23,
    "start_time": "2022-02-07T18:31:45.583Z"
   },
   {
    "duration": 14,
    "start_time": "2022-02-07T18:31:45.634Z"
   },
   {
    "duration": 25,
    "start_time": "2022-02-07T18:31:45.653Z"
   },
   {
    "duration": 65,
    "start_time": "2022-02-07T18:31:45.682Z"
   },
   {
    "duration": 17,
    "start_time": "2022-02-07T18:31:45.750Z"
   },
   {
    "duration": 10,
    "start_time": "2022-02-07T18:31:45.769Z"
   },
   {
    "duration": 24,
    "start_time": "2022-02-07T18:31:45.781Z"
   },
   {
    "duration": 28,
    "start_time": "2022-02-07T18:31:45.832Z"
   },
   {
    "duration": 17,
    "start_time": "2022-02-07T18:31:45.863Z"
   },
   {
    "duration": 13,
    "start_time": "2022-02-07T18:31:45.883Z"
   },
   {
    "duration": 13,
    "start_time": "2022-02-07T18:31:45.932Z"
   },
   {
    "duration": 17,
    "start_time": "2022-02-07T18:31:45.948Z"
   },
   {
    "duration": 14,
    "start_time": "2022-02-07T18:31:45.967Z"
   },
   {
    "duration": 50,
    "start_time": "2022-02-07T18:31:45.983Z"
   },
   {
    "duration": 14,
    "start_time": "2022-02-07T18:31:46.036Z"
   },
   {
    "duration": 139,
    "start_time": "2022-02-07T18:31:46.052Z"
   },
   {
    "duration": 106,
    "start_time": "2022-02-07T18:31:46.194Z"
   },
   {
    "duration": 66,
    "start_time": "2022-02-07T18:31:46.306Z"
   },
   {
    "duration": 11,
    "start_time": "2022-02-07T18:31:46.378Z"
   },
   {
    "duration": 14,
    "start_time": "2022-02-07T18:31:46.392Z"
   },
   {
    "duration": 27,
    "start_time": "2022-02-07T18:31:46.409Z"
   },
   {
    "duration": 12,
    "start_time": "2022-02-07T18:31:46.439Z"
   },
   {
    "duration": 10,
    "start_time": "2022-02-07T18:31:46.453Z"
   },
   {
    "duration": 23,
    "start_time": "2022-02-07T18:31:46.466Z"
   },
   {
    "duration": 58,
    "start_time": "2022-02-07T18:31:46.492Z"
   },
   {
    "duration": 81,
    "start_time": "2022-02-07T18:31:46.553Z"
   },
   {
    "duration": 14,
    "start_time": "2022-02-07T18:31:46.637Z"
   },
   {
    "duration": 17,
    "start_time": "2022-02-07T18:31:46.654Z"
   },
   {
    "duration": 18,
    "start_time": "2022-02-07T18:31:46.675Z"
   },
   {
    "duration": 46,
    "start_time": "2022-02-07T18:31:46.696Z"
   },
   {
    "duration": 50,
    "start_time": "2022-02-07T18:31:46.744Z"
   },
   {
    "duration": 177,
    "start_time": "2022-02-07T18:31:46.797Z"
   },
   {
    "duration": 80,
    "start_time": "2022-02-07T18:31:46.977Z"
   },
   {
    "duration": 14,
    "start_time": "2022-02-07T18:31:47.059Z"
   },
   {
    "duration": 56,
    "start_time": "2022-02-07T18:31:47.076Z"
   },
   {
    "duration": 8,
    "start_time": "2022-02-07T18:31:47.135Z"
   },
   {
    "duration": 22,
    "start_time": "2022-02-07T18:31:47.145Z"
   },
   {
    "duration": 244,
    "start_time": "2022-02-07T18:31:47.170Z"
   },
   {
    "duration": 29,
    "start_time": "2022-02-07T18:31:47.417Z"
   },
   {
    "duration": 14,
    "start_time": "2022-02-07T18:31:47.448Z"
   },
   {
    "duration": 10,
    "start_time": "2022-02-07T18:31:47.464Z"
   },
   {
    "duration": 56,
    "start_time": "2022-02-07T18:31:47.477Z"
   },
   {
    "duration": 49,
    "start_time": "2022-02-07T18:31:47.536Z"
   },
   {
    "duration": 15,
    "start_time": "2022-02-07T18:31:47.588Z"
   },
   {
    "duration": 49,
    "start_time": "2022-02-07T18:31:47.632Z"
   },
   {
    "duration": 21,
    "start_time": "2022-02-07T18:31:47.684Z"
   },
   {
    "duration": 193,
    "start_time": "2022-02-07T18:31:47.733Z"
   },
   {
    "duration": 13,
    "start_time": "2022-02-07T18:31:47.933Z"
   },
   {
    "duration": 19,
    "start_time": "2022-02-07T18:31:47.948Z"
   },
   {
    "duration": 8,
    "start_time": "2022-02-07T18:31:47.970Z"
   },
   {
    "duration": 15,
    "start_time": "2022-02-07T18:31:47.980Z"
   },
   {
    "duration": 69,
    "start_time": "2022-02-07T18:31:47.998Z"
   },
   {
    "duration": 69,
    "start_time": "2022-02-07T18:31:48.070Z"
   },
   {
    "duration": 36,
    "start_time": "2022-02-07T18:31:48.142Z"
   },
   {
    "duration": 58,
    "start_time": "2022-02-07T18:31:48.181Z"
   },
   {
    "duration": 21,
    "start_time": "2022-02-07T18:31:48.242Z"
   },
   {
    "duration": 250,
    "start_time": "2022-02-07T18:31:48.266Z"
   },
   {
    "duration": 22,
    "start_time": "2022-02-07T18:31:48.518Z"
   },
   {
    "duration": 18,
    "start_time": "2022-02-07T18:31:48.542Z"
   },
   {
    "duration": 13,
    "start_time": "2022-02-07T18:31:48.563Z"
   },
   {
    "duration": 62,
    "start_time": "2022-02-07T18:31:48.580Z"
   },
   {
    "duration": 13,
    "start_time": "2022-02-07T18:31:48.645Z"
   },
   {
    "duration": 66,
    "start_time": "2022-02-07T18:31:48.676Z"
   },
   {
    "duration": 13,
    "start_time": "2022-02-07T18:31:48.746Z"
   },
   {
    "duration": 281,
    "start_time": "2022-02-07T18:31:48.763Z"
   },
   {
    "duration": 9,
    "start_time": "2022-02-07T18:31:49.047Z"
   },
   {
    "duration": 35,
    "start_time": "2022-02-07T18:31:49.058Z"
   },
   {
    "duration": 436,
    "start_time": "2022-02-07T18:31:49.096Z"
   },
   {
    "duration": 6,
    "start_time": "2022-02-07T18:31:49.535Z"
   },
   {
    "duration": 9,
    "start_time": "2022-02-07T18:31:49.545Z"
   },
   {
    "duration": 23,
    "start_time": "2022-02-07T18:31:49.557Z"
   },
   {
    "duration": 297,
    "start_time": "2022-02-07T18:31:49.583Z"
   },
   {
    "duration": 5,
    "start_time": "2022-02-07T18:31:49.882Z"
   },
   {
    "duration": 9,
    "start_time": "2022-02-07T18:31:49.890Z"
   },
   {
    "duration": 56,
    "start_time": "2022-02-07T18:31:49.901Z"
   },
   {
    "duration": 28,
    "start_time": "2022-02-07T18:31:49.959Z"
   },
   {
    "duration": 15,
    "start_time": "2022-02-07T18:31:49.989Z"
   },
   {
    "duration": 8,
    "start_time": "2022-02-07T18:31:50.033Z"
   },
   {
    "duration": 11,
    "start_time": "2022-02-07T18:31:50.044Z"
   },
   {
    "duration": 26,
    "start_time": "2022-02-07T18:31:50.057Z"
   },
   {
    "duration": 5,
    "start_time": "2022-02-07T18:31:50.085Z"
   },
   {
    "duration": 7,
    "start_time": "2022-02-07T18:31:50.093Z"
   },
   {
    "duration": 464,
    "start_time": "2022-02-07T18:31:50.102Z"
   },
   {
    "duration": 18,
    "start_time": "2022-02-07T18:31:50.569Z"
   },
   {
    "duration": 19,
    "start_time": "2022-02-07T18:31:50.590Z"
   },
   {
    "duration": 23,
    "start_time": "2022-02-07T18:31:50.611Z"
   },
   {
    "duration": 43,
    "start_time": "2022-02-07T18:31:50.637Z"
   },
   {
    "duration": 18,
    "start_time": "2022-02-07T18:31:50.683Z"
   },
   {
    "duration": 21,
    "start_time": "2022-02-07T18:31:50.703Z"
   },
   {
    "duration": 16,
    "start_time": "2022-02-07T18:31:50.732Z"
   },
   {
    "duration": 11,
    "start_time": "2022-02-07T18:31:50.751Z"
   },
   {
    "duration": 712,
    "start_time": "2022-02-07T18:31:50.766Z"
   },
   {
    "duration": 5,
    "start_time": "2022-02-07T18:31:51.481Z"
   },
   {
    "duration": 7,
    "start_time": "2022-02-07T18:31:51.488Z"
   },
   {
    "duration": 36,
    "start_time": "2022-02-07T18:31:51.498Z"
   },
   {
    "duration": 13,
    "start_time": "2022-02-07T18:31:51.537Z"
   },
   {
    "duration": 11,
    "start_time": "2022-02-07T18:31:51.553Z"
   },
   {
    "duration": 13,
    "start_time": "2022-02-07T18:31:51.566Z"
   },
   {
    "duration": 493,
    "start_time": "2022-02-07T18:31:51.582Z"
   },
   {
    "duration": 7,
    "start_time": "2022-02-07T18:31:52.079Z"
   },
   {
    "duration": 9,
    "start_time": "2022-02-07T18:31:52.089Z"
   },
   {
    "duration": 53,
    "start_time": "2022-02-07T18:31:52.101Z"
   },
   {
    "duration": 9,
    "start_time": "2022-02-07T18:31:52.157Z"
   },
   {
    "duration": 11,
    "start_time": "2022-02-07T18:31:52.169Z"
   },
   {
    "duration": 9,
    "start_time": "2022-02-07T18:31:52.183Z"
   },
   {
    "duration": 9,
    "start_time": "2022-02-07T18:31:52.234Z"
   },
   {
    "duration": 336,
    "start_time": "2022-02-07T18:31:52.245Z"
   },
   {
    "duration": 6,
    "start_time": "2022-02-07T18:31:52.584Z"
   },
   {
    "duration": 6,
    "start_time": "2022-02-07T18:31:52.593Z"
   },
   {
    "duration": 37,
    "start_time": "2022-02-07T18:31:52.602Z"
   },
   {
    "duration": 12,
    "start_time": "2022-02-07T18:31:52.641Z"
   },
   {
    "duration": 12,
    "start_time": "2022-02-07T18:31:52.656Z"
   },
   {
    "duration": 15,
    "start_time": "2022-02-07T18:31:52.670Z"
   },
   {
    "duration": 374,
    "start_time": "2022-02-07T18:31:52.688Z"
   },
   {
    "duration": 6,
    "start_time": "2022-02-07T18:31:53.065Z"
   },
   {
    "duration": 10,
    "start_time": "2022-02-07T18:31:53.073Z"
   },
   {
    "duration": 16,
    "start_time": "2022-02-07T18:31:53.086Z"
   },
   {
    "duration": 46,
    "start_time": "2022-02-07T18:31:53.105Z"
   },
   {
    "duration": 12,
    "start_time": "2022-02-07T18:31:53.154Z"
   },
   {
    "duration": 8,
    "start_time": "2022-02-07T18:31:53.169Z"
   },
   {
    "duration": 411,
    "start_time": "2022-02-07T18:31:53.179Z"
   },
   {
    "duration": 5,
    "start_time": "2022-02-07T18:31:53.593Z"
   },
   {
    "duration": 33,
    "start_time": "2022-02-07T18:31:53.600Z"
   },
   {
    "duration": 8,
    "start_time": "2022-02-07T18:31:53.636Z"
   },
   {
    "duration": 11,
    "start_time": "2022-02-07T18:31:53.647Z"
   },
   {
    "duration": 22,
    "start_time": "2022-02-07T18:31:53.660Z"
   },
   {
    "duration": 17,
    "start_time": "2022-02-07T18:31:53.685Z"
   },
   {
    "duration": 323,
    "start_time": "2022-02-07T18:31:53.733Z"
   },
   {
    "duration": 6,
    "start_time": "2022-02-07T18:31:54.059Z"
   },
   {
    "duration": 9,
    "start_time": "2022-02-07T18:31:54.068Z"
   },
   {
    "duration": 64,
    "start_time": "2022-02-07T18:31:54.079Z"
   },
   {
    "duration": 11,
    "start_time": "2022-02-07T18:31:54.146Z"
   },
   {
    "duration": 6,
    "start_time": "2022-02-07T18:31:54.160Z"
   },
   {
    "duration": 71,
    "start_time": "2022-02-07T18:31:54.169Z"
   },
   {
    "duration": 8,
    "start_time": "2022-02-07T18:31:54.243Z"
   },
   {
    "duration": 13,
    "start_time": "2022-02-07T18:31:54.253Z"
   },
   {
    "duration": 20,
    "start_time": "2022-02-07T18:31:54.268Z"
   },
   {
    "duration": 50,
    "start_time": "2022-02-07T18:31:54.291Z"
   },
   {
    "duration": 315,
    "start_time": "2022-02-07T18:31:54.344Z"
   },
   {
    "duration": 14,
    "start_time": "2022-02-07T18:31:54.663Z"
   },
   {
    "duration": 455,
    "start_time": "2022-02-07T18:31:54.680Z"
   },
   {
    "duration": 9,
    "start_time": "2022-02-07T18:31:55.138Z"
   },
   {
    "duration": 11,
    "start_time": "2022-02-07T18:31:55.150Z"
   },
   {
    "duration": 6,
    "start_time": "2022-02-07T18:32:35.684Z"
   },
   {
    "duration": 6,
    "start_time": "2022-02-07T18:32:55.682Z"
   },
   {
    "duration": 82,
    "start_time": "2022-02-07T18:38:12.297Z"
   },
   {
    "duration": 15,
    "start_time": "2022-02-07T18:41:29.807Z"
   },
   {
    "duration": 6,
    "start_time": "2022-02-07T18:41:57.439Z"
   },
   {
    "duration": 6,
    "start_time": "2022-02-07T18:42:15.915Z"
   },
   {
    "duration": 8,
    "start_time": "2022-02-07T18:42:16.868Z"
   },
   {
    "duration": 506,
    "start_time": "2022-02-07T18:43:46.268Z"
   },
   {
    "duration": 624,
    "start_time": "2022-02-07T18:44:10.630Z"
   },
   {
    "duration": 94,
    "start_time": "2022-02-07T18:56:27.421Z"
   },
   {
    "duration": 15,
    "start_time": "2022-02-07T19:00:17.691Z"
   },
   {
    "duration": 21,
    "start_time": "2022-02-07T19:01:32.149Z"
   },
   {
    "duration": 5,
    "start_time": "2022-02-07T19:02:01.512Z"
   },
   {
    "duration": 5,
    "start_time": "2022-02-07T19:02:16.196Z"
   },
   {
    "duration": 15,
    "start_time": "2022-02-07T19:05:08.709Z"
   },
   {
    "duration": 16,
    "start_time": "2022-02-07T19:06:01.120Z"
   },
   {
    "duration": 5,
    "start_time": "2022-02-07T19:06:03.065Z"
   },
   {
    "duration": 6,
    "start_time": "2022-02-07T19:06:04.361Z"
   },
   {
    "duration": 405,
    "start_time": "2022-02-07T19:07:40.587Z"
   },
   {
    "duration": 6,
    "start_time": "2022-02-07T19:18:25.091Z"
   },
   {
    "duration": 14,
    "start_time": "2022-02-07T19:18:39.391Z"
   },
   {
    "duration": 6,
    "start_time": "2022-02-07T19:19:22.749Z"
   },
   {
    "duration": 5,
    "start_time": "2022-02-07T19:19:38.555Z"
   },
   {
    "duration": 15,
    "start_time": "2022-02-07T19:20:36.143Z"
   },
   {
    "duration": 6,
    "start_time": "2022-02-07T19:22:10.761Z"
   },
   {
    "duration": 5,
    "start_time": "2022-02-07T19:22:11.784Z"
   },
   {
    "duration": 881,
    "start_time": "2022-02-07T19:23:42.789Z"
   },
   {
    "duration": 80,
    "start_time": "2022-02-07T19:32:19.797Z"
   },
   {
    "duration": 1064,
    "start_time": "2022-02-08T09:37:56.876Z"
   },
   {
    "duration": 350,
    "start_time": "2022-02-08T09:37:57.942Z"
   },
   {
    "duration": 11,
    "start_time": "2022-02-08T09:37:58.296Z"
   },
   {
    "duration": 25,
    "start_time": "2022-02-08T09:37:58.308Z"
   },
   {
    "duration": 29,
    "start_time": "2022-02-08T09:37:58.335Z"
   },
   {
    "duration": 14,
    "start_time": "2022-02-08T09:37:58.365Z"
   },
   {
    "duration": 7,
    "start_time": "2022-02-08T09:37:58.381Z"
   },
   {
    "duration": 37,
    "start_time": "2022-02-08T09:37:58.390Z"
   },
   {
    "duration": 21,
    "start_time": "2022-02-08T09:37:58.428Z"
   },
   {
    "duration": 10,
    "start_time": "2022-02-08T09:37:58.451Z"
   },
   {
    "duration": 5,
    "start_time": "2022-02-08T09:37:58.463Z"
   },
   {
    "duration": 14,
    "start_time": "2022-02-08T09:37:58.470Z"
   },
   {
    "duration": 17,
    "start_time": "2022-02-08T09:37:58.512Z"
   },
   {
    "duration": 9,
    "start_time": "2022-02-08T09:37:58.530Z"
   },
   {
    "duration": 8,
    "start_time": "2022-02-08T09:37:58.541Z"
   },
   {
    "duration": 9,
    "start_time": "2022-02-08T09:37:58.550Z"
   },
   {
    "duration": 13,
    "start_time": "2022-02-08T09:37:58.560Z"
   },
   {
    "duration": 13,
    "start_time": "2022-02-08T09:37:58.575Z"
   },
   {
    "duration": 26,
    "start_time": "2022-02-08T09:37:58.590Z"
   },
   {
    "duration": 8,
    "start_time": "2022-02-08T09:37:58.618Z"
   },
   {
    "duration": 97,
    "start_time": "2022-02-08T09:37:58.627Z"
   },
   {
    "duration": 46,
    "start_time": "2022-02-08T09:37:58.728Z"
   },
   {
    "duration": 48,
    "start_time": "2022-02-08T09:37:58.776Z"
   },
   {
    "duration": 5,
    "start_time": "2022-02-08T09:37:58.826Z"
   },
   {
    "duration": 13,
    "start_time": "2022-02-08T09:37:58.832Z"
   },
   {
    "duration": 4,
    "start_time": "2022-02-08T09:37:58.847Z"
   },
   {
    "duration": 8,
    "start_time": "2022-02-08T09:37:58.853Z"
   },
   {
    "duration": 8,
    "start_time": "2022-02-08T09:37:58.862Z"
   },
   {
    "duration": 18,
    "start_time": "2022-02-08T09:37:58.872Z"
   },
   {
    "duration": 28,
    "start_time": "2022-02-08T09:37:58.891Z"
   },
   {
    "duration": 27,
    "start_time": "2022-02-08T09:37:58.921Z"
   },
   {
    "duration": 6,
    "start_time": "2022-02-08T09:37:58.950Z"
   },
   {
    "duration": 9,
    "start_time": "2022-02-08T09:37:58.958Z"
   },
   {
    "duration": 9,
    "start_time": "2022-02-08T09:37:58.968Z"
   },
   {
    "duration": 35,
    "start_time": "2022-02-08T09:37:58.979Z"
   },
   {
    "duration": 29,
    "start_time": "2022-02-08T09:37:59.016Z"
   },
   {
    "duration": 110,
    "start_time": "2022-02-08T09:37:59.047Z"
   },
   {
    "duration": 39,
    "start_time": "2022-02-08T09:37:59.159Z"
   },
   {
    "duration": 20,
    "start_time": "2022-02-08T09:37:59.200Z"
   },
   {
    "duration": 21,
    "start_time": "2022-02-08T09:37:59.221Z"
   },
   {
    "duration": 5,
    "start_time": "2022-02-08T09:37:59.243Z"
   },
   {
    "duration": 10,
    "start_time": "2022-02-08T09:37:59.249Z"
   },
   {
    "duration": 161,
    "start_time": "2022-02-08T09:37:59.261Z"
   },
   {
    "duration": 13,
    "start_time": "2022-02-08T09:37:59.424Z"
   },
   {
    "duration": 6,
    "start_time": "2022-02-08T09:37:59.439Z"
   },
   {
    "duration": 7,
    "start_time": "2022-02-08T09:37:59.447Z"
   },
   {
    "duration": 22,
    "start_time": "2022-02-08T09:37:59.456Z"
   },
   {
    "duration": 63,
    "start_time": "2022-02-08T09:37:59.480Z"
   },
   {
    "duration": 9,
    "start_time": "2022-02-08T09:37:59.545Z"
   },
   {
    "duration": 19,
    "start_time": "2022-02-08T09:37:59.556Z"
   },
   {
    "duration": 37,
    "start_time": "2022-02-08T09:37:59.577Z"
   },
   {
    "duration": 127,
    "start_time": "2022-02-08T09:37:59.616Z"
   },
   {
    "duration": 10,
    "start_time": "2022-02-08T09:37:59.745Z"
   },
   {
    "duration": 9,
    "start_time": "2022-02-08T09:37:59.757Z"
   },
   {
    "duration": 6,
    "start_time": "2022-02-08T09:37:59.768Z"
   },
   {
    "duration": 40,
    "start_time": "2022-02-08T09:37:59.776Z"
   },
   {
    "duration": 24,
    "start_time": "2022-02-08T09:37:59.818Z"
   },
   {
    "duration": 30,
    "start_time": "2022-02-08T09:37:59.843Z"
   },
   {
    "duration": 41,
    "start_time": "2022-02-08T09:37:59.874Z"
   },
   {
    "duration": 14,
    "start_time": "2022-02-08T09:37:59.916Z"
   },
   {
    "duration": 12,
    "start_time": "2022-02-08T09:37:59.932Z"
   },
   {
    "duration": 153,
    "start_time": "2022-02-08T09:37:59.945Z"
   },
   {
    "duration": 14,
    "start_time": "2022-02-08T09:38:00.099Z"
   },
   {
    "duration": 15,
    "start_time": "2022-02-08T09:38:00.115Z"
   },
   {
    "duration": 12,
    "start_time": "2022-02-08T09:38:00.131Z"
   },
   {
    "duration": 32,
    "start_time": "2022-02-08T09:38:00.144Z"
   },
   {
    "duration": 8,
    "start_time": "2022-02-08T09:38:00.181Z"
   },
   {
    "duration": 34,
    "start_time": "2022-02-08T09:38:00.191Z"
   },
   {
    "duration": 6,
    "start_time": "2022-02-08T09:38:00.227Z"
   },
   {
    "duration": 153,
    "start_time": "2022-02-08T09:38:00.235Z"
   },
   {
    "duration": 6,
    "start_time": "2022-02-08T09:38:00.390Z"
   },
   {
    "duration": 32,
    "start_time": "2022-02-08T09:38:00.398Z"
   },
   {
    "duration": 172,
    "start_time": "2022-02-08T09:38:00.431Z"
   },
   {
    "duration": 8,
    "start_time": "2022-02-08T09:38:00.605Z"
   },
   {
    "duration": 16,
    "start_time": "2022-02-08T09:38:00.614Z"
   },
   {
    "duration": 27,
    "start_time": "2022-02-08T09:38:00.632Z"
   },
   {
    "duration": 170,
    "start_time": "2022-02-08T09:38:00.661Z"
   },
   {
    "duration": 4,
    "start_time": "2022-02-08T09:38:00.832Z"
   },
   {
    "duration": 16,
    "start_time": "2022-02-08T09:38:00.837Z"
   },
   {
    "duration": 40,
    "start_time": "2022-02-08T09:38:00.855Z"
   },
   {
    "duration": 19,
    "start_time": "2022-02-08T09:38:00.897Z"
   },
   {
    "duration": 10,
    "start_time": "2022-02-08T09:38:00.917Z"
   },
   {
    "duration": 7,
    "start_time": "2022-02-08T09:38:00.928Z"
   },
   {
    "duration": 15,
    "start_time": "2022-02-08T09:38:00.936Z"
   },
   {
    "duration": 26,
    "start_time": "2022-02-08T09:38:00.952Z"
   },
   {
    "duration": 7,
    "start_time": "2022-02-08T09:38:00.979Z"
   },
   {
    "duration": 16,
    "start_time": "2022-02-08T09:38:00.987Z"
   },
   {
    "duration": 276,
    "start_time": "2022-02-08T09:38:01.005Z"
   },
   {
    "duration": 10,
    "start_time": "2022-02-08T09:38:01.282Z"
   },
   {
    "duration": 7,
    "start_time": "2022-02-08T09:38:01.294Z"
   },
   {
    "duration": 13,
    "start_time": "2022-02-08T09:38:01.312Z"
   },
   {
    "duration": 17,
    "start_time": "2022-02-08T09:38:01.327Z"
   },
   {
    "duration": 39,
    "start_time": "2022-02-08T09:38:01.346Z"
   },
   {
    "duration": 18,
    "start_time": "2022-02-08T09:38:01.386Z"
   },
   {
    "duration": 329,
    "start_time": "2022-02-08T09:38:01.406Z"
   },
   {
    "duration": 9,
    "start_time": "2022-02-08T09:38:01.737Z"
   },
   {
    "duration": 16,
    "start_time": "2022-02-08T09:38:01.748Z"
   },
   {
    "duration": 14,
    "start_time": "2022-02-08T09:38:01.765Z"
   },
   {
    "duration": 15,
    "start_time": "2022-02-08T09:38:01.780Z"
   },
   {
    "duration": 9,
    "start_time": "2022-02-08T09:38:01.796Z"
   },
   {
    "duration": 17,
    "start_time": "2022-02-08T09:38:01.806Z"
   },
   {
    "duration": 259,
    "start_time": "2022-02-08T09:38:01.825Z"
   },
   {
    "duration": 9,
    "start_time": "2022-02-08T09:38:02.085Z"
   },
   {
    "duration": 4,
    "start_time": "2022-02-08T09:38:02.096Z"
   },
   {
    "duration": 4,
    "start_time": "2022-02-08T09:38:02.112Z"
   },
   {
    "duration": 28,
    "start_time": "2022-02-08T09:38:02.117Z"
   },
   {
    "duration": 3,
    "start_time": "2022-02-08T09:38:02.146Z"
   },
   {
    "duration": 7,
    "start_time": "2022-02-08T09:38:02.151Z"
   },
   {
    "duration": 289,
    "start_time": "2022-02-08T09:38:02.160Z"
   },
   {
    "duration": 19,
    "start_time": "2022-02-08T09:38:02.451Z"
   },
   {
    "duration": 19,
    "start_time": "2022-02-08T09:38:02.472Z"
   },
   {
    "duration": 346,
    "start_time": "2022-02-08T09:38:02.492Z"
   },
   {
    "duration": -86,
    "start_time": "2022-02-08T09:38:02.926Z"
   },
   {
    "duration": -93,
    "start_time": "2022-02-08T09:38:02.934Z"
   },
   {
    "duration": -97,
    "start_time": "2022-02-08T09:38:02.939Z"
   },
   {
    "duration": -102,
    "start_time": "2022-02-08T09:38:02.945Z"
   },
   {
    "duration": -107,
    "start_time": "2022-02-08T09:38:02.951Z"
   },
   {
    "duration": -112,
    "start_time": "2022-02-08T09:38:02.957Z"
   },
   {
    "duration": -117,
    "start_time": "2022-02-08T09:38:02.963Z"
   },
   {
    "duration": -124,
    "start_time": "2022-02-08T09:38:02.971Z"
   },
   {
    "duration": -128,
    "start_time": "2022-02-08T09:38:02.976Z"
   },
   {
    "duration": -132,
    "start_time": "2022-02-08T09:38:02.981Z"
   },
   {
    "duration": 578,
    "start_time": "2022-02-08T09:40:45.649Z"
   },
   {
    "duration": 505,
    "start_time": "2022-02-08T09:47:14.511Z"
   },
   {
    "duration": 287,
    "start_time": "2022-02-08T09:47:42.935Z"
   },
   {
    "duration": 528,
    "start_time": "2022-02-08T09:50:54.836Z"
   },
   {
    "duration": 402,
    "start_time": "2022-02-08T09:51:43.083Z"
   },
   {
    "duration": 377,
    "start_time": "2022-02-08T09:51:56.504Z"
   },
   {
    "duration": 273,
    "start_time": "2022-02-08T09:52:05.633Z"
   },
   {
    "duration": 20,
    "start_time": "2022-02-08T09:53:41.026Z"
   },
   {
    "duration": 6,
    "start_time": "2022-02-08T09:53:43.070Z"
   },
   {
    "duration": 324,
    "start_time": "2022-02-08T09:53:43.287Z"
   },
   {
    "duration": 7,
    "start_time": "2022-02-08T09:53:57.208Z"
   },
   {
    "duration": 17,
    "start_time": "2022-02-08T09:53:59.210Z"
   },
   {
    "duration": 195,
    "start_time": "2022-02-08T09:53:59.792Z"
   },
   {
    "duration": 16,
    "start_time": "2022-02-08T09:53:59.997Z"
   },
   {
    "duration": 249,
    "start_time": "2022-02-08T09:54:00.329Z"
   },
   {
    "duration": 6,
    "start_time": "2022-02-08T09:54:00.580Z"
   },
   {
    "duration": 6,
    "start_time": "2022-02-08T09:54:01.754Z"
   },
   {
    "duration": 1079,
    "start_time": "2022-02-08T11:33:54.566Z"
   },
   {
    "duration": 387,
    "start_time": "2022-02-08T11:33:55.646Z"
   },
   {
    "duration": 11,
    "start_time": "2022-02-08T11:33:56.036Z"
   },
   {
    "duration": 19,
    "start_time": "2022-02-08T11:33:56.049Z"
   },
   {
    "duration": 26,
    "start_time": "2022-02-08T11:33:56.069Z"
   },
   {
    "duration": 33,
    "start_time": "2022-02-08T11:33:56.096Z"
   },
   {
    "duration": 10,
    "start_time": "2022-02-08T11:33:56.130Z"
   },
   {
    "duration": 26,
    "start_time": "2022-02-08T11:33:56.141Z"
   },
   {
    "duration": 19,
    "start_time": "2022-02-08T11:33:56.169Z"
   },
   {
    "duration": 12,
    "start_time": "2022-02-08T11:33:56.190Z"
   },
   {
    "duration": 24,
    "start_time": "2022-02-08T11:33:56.204Z"
   },
   {
    "duration": 22,
    "start_time": "2022-02-08T11:33:56.230Z"
   },
   {
    "duration": 18,
    "start_time": "2022-02-08T11:33:56.254Z"
   },
   {
    "duration": 9,
    "start_time": "2022-02-08T11:33:56.273Z"
   },
   {
    "duration": 6,
    "start_time": "2022-02-08T11:33:56.284Z"
   },
   {
    "duration": 8,
    "start_time": "2022-02-08T11:33:56.291Z"
   },
   {
    "duration": 31,
    "start_time": "2022-02-08T11:33:56.300Z"
   },
   {
    "duration": 8,
    "start_time": "2022-02-08T11:33:56.333Z"
   },
   {
    "duration": 15,
    "start_time": "2022-02-08T11:33:56.343Z"
   },
   {
    "duration": 8,
    "start_time": "2022-02-08T11:33:56.359Z"
   },
   {
    "duration": 88,
    "start_time": "2022-02-08T11:33:56.368Z"
   },
   {
    "duration": 71,
    "start_time": "2022-02-08T11:33:56.458Z"
   },
   {
    "duration": 35,
    "start_time": "2022-02-08T11:33:56.531Z"
   },
   {
    "duration": 5,
    "start_time": "2022-02-08T11:33:56.567Z"
   },
   {
    "duration": 7,
    "start_time": "2022-02-08T11:33:56.573Z"
   },
   {
    "duration": 5,
    "start_time": "2022-02-08T11:33:56.582Z"
   },
   {
    "duration": 10,
    "start_time": "2022-02-08T11:33:56.591Z"
   },
   {
    "duration": 5,
    "start_time": "2022-02-08T11:33:56.628Z"
   },
   {
    "duration": 28,
    "start_time": "2022-02-08T11:33:56.635Z"
   },
   {
    "duration": 11,
    "start_time": "2022-02-08T11:33:56.665Z"
   },
   {
    "duration": 26,
    "start_time": "2022-02-08T11:33:56.678Z"
   },
   {
    "duration": 7,
    "start_time": "2022-02-08T11:33:56.706Z"
   },
   {
    "duration": 19,
    "start_time": "2022-02-08T11:33:56.714Z"
   },
   {
    "duration": 16,
    "start_time": "2022-02-08T11:33:56.734Z"
   },
   {
    "duration": 12,
    "start_time": "2022-02-08T11:33:56.752Z"
   },
   {
    "duration": 35,
    "start_time": "2022-02-08T11:33:56.765Z"
   },
   {
    "duration": 129,
    "start_time": "2022-02-08T11:33:56.802Z"
   },
   {
    "duration": 55,
    "start_time": "2022-02-08T11:33:56.934Z"
   },
   {
    "duration": 13,
    "start_time": "2022-02-08T11:33:56.991Z"
   },
   {
    "duration": 27,
    "start_time": "2022-02-08T11:33:57.027Z"
   },
   {
    "duration": 7,
    "start_time": "2022-02-08T11:33:57.055Z"
   },
   {
    "duration": 15,
    "start_time": "2022-02-08T11:33:57.063Z"
   },
   {
    "duration": 145,
    "start_time": "2022-02-08T11:33:57.079Z"
   },
   {
    "duration": 16,
    "start_time": "2022-02-08T11:33:57.225Z"
   },
   {
    "duration": 6,
    "start_time": "2022-02-08T11:33:57.243Z"
   },
   {
    "duration": 19,
    "start_time": "2022-02-08T11:33:57.251Z"
   },
   {
    "duration": 27,
    "start_time": "2022-02-08T11:33:57.272Z"
   },
   {
    "duration": 66,
    "start_time": "2022-02-08T11:33:57.301Z"
   },
   {
    "duration": 12,
    "start_time": "2022-02-08T11:33:57.369Z"
   },
   {
    "duration": 29,
    "start_time": "2022-02-08T11:33:57.383Z"
   },
   {
    "duration": 28,
    "start_time": "2022-02-08T11:33:57.413Z"
   },
   {
    "duration": 124,
    "start_time": "2022-02-08T11:33:57.443Z"
   },
   {
    "duration": 8,
    "start_time": "2022-02-08T11:33:57.568Z"
   },
   {
    "duration": 10,
    "start_time": "2022-02-08T11:33:57.577Z"
   },
   {
    "duration": 7,
    "start_time": "2022-02-08T11:33:57.588Z"
   },
   {
    "duration": 9,
    "start_time": "2022-02-08T11:33:57.596Z"
   },
   {
    "duration": 25,
    "start_time": "2022-02-08T11:33:57.628Z"
   },
   {
    "duration": 30,
    "start_time": "2022-02-08T11:33:57.654Z"
   },
   {
    "duration": 20,
    "start_time": "2022-02-08T11:33:57.685Z"
   },
   {
    "duration": 20,
    "start_time": "2022-02-08T11:33:57.727Z"
   },
   {
    "duration": 12,
    "start_time": "2022-02-08T11:33:57.749Z"
   },
   {
    "duration": 145,
    "start_time": "2022-02-08T11:33:57.763Z"
   },
   {
    "duration": 8,
    "start_time": "2022-02-08T11:33:57.910Z"
   },
   {
    "duration": 8,
    "start_time": "2022-02-08T11:33:57.927Z"
   },
   {
    "duration": 17,
    "start_time": "2022-02-08T11:33:57.937Z"
   },
   {
    "duration": 19,
    "start_time": "2022-02-08T11:33:57.955Z"
   },
   {
    "duration": 5,
    "start_time": "2022-02-08T11:33:57.976Z"
   },
   {
    "duration": 21,
    "start_time": "2022-02-08T11:33:57.982Z"
   },
   {
    "duration": 24,
    "start_time": "2022-02-08T11:33:58.004Z"
   },
   {
    "duration": 152,
    "start_time": "2022-02-08T11:33:58.030Z"
   },
   {
    "duration": 6,
    "start_time": "2022-02-08T11:33:58.184Z"
   },
   {
    "duration": 13,
    "start_time": "2022-02-08T11:33:58.191Z"
   },
   {
    "duration": 169,
    "start_time": "2022-02-08T11:33:58.206Z"
   },
   {
    "duration": 3,
    "start_time": "2022-02-08T11:33:58.377Z"
   },
   {
    "duration": 4,
    "start_time": "2022-02-08T11:33:58.382Z"
   },
   {
    "duration": 17,
    "start_time": "2022-02-08T11:33:58.388Z"
   },
   {
    "duration": 159,
    "start_time": "2022-02-08T11:33:58.407Z"
   },
   {
    "duration": 4,
    "start_time": "2022-02-08T11:33:58.568Z"
   },
   {
    "duration": 5,
    "start_time": "2022-02-08T11:33:58.573Z"
   },
   {
    "duration": 19,
    "start_time": "2022-02-08T11:33:58.580Z"
   },
   {
    "duration": 38,
    "start_time": "2022-02-08T11:33:58.605Z"
   },
   {
    "duration": 9,
    "start_time": "2022-02-08T11:33:58.645Z"
   },
   {
    "duration": 5,
    "start_time": "2022-02-08T11:33:58.655Z"
   },
   {
    "duration": 5,
    "start_time": "2022-02-08T11:33:58.661Z"
   },
   {
    "duration": 13,
    "start_time": "2022-02-08T11:33:58.668Z"
   },
   {
    "duration": 5,
    "start_time": "2022-02-08T11:33:58.682Z"
   },
   {
    "duration": 5,
    "start_time": "2022-02-08T11:33:58.689Z"
   },
   {
    "duration": 284,
    "start_time": "2022-02-08T11:33:58.696Z"
   },
   {
    "duration": 9,
    "start_time": "2022-02-08T11:33:58.981Z"
   },
   {
    "duration": 6,
    "start_time": "2022-02-08T11:33:58.991Z"
   },
   {
    "duration": 4,
    "start_time": "2022-02-08T11:33:58.998Z"
   },
   {
    "duration": 30,
    "start_time": "2022-02-08T11:33:59.004Z"
   },
   {
    "duration": 16,
    "start_time": "2022-02-08T11:33:59.036Z"
   },
   {
    "duration": 7,
    "start_time": "2022-02-08T11:33:59.053Z"
   },
   {
    "duration": 285,
    "start_time": "2022-02-08T11:33:59.062Z"
   },
   {
    "duration": 9,
    "start_time": "2022-02-08T11:33:59.349Z"
   },
   {
    "duration": 5,
    "start_time": "2022-02-08T11:33:59.359Z"
   },
   {
    "duration": 5,
    "start_time": "2022-02-08T11:33:59.365Z"
   },
   {
    "duration": 10,
    "start_time": "2022-02-08T11:33:59.371Z"
   },
   {
    "duration": 3,
    "start_time": "2022-02-08T11:33:59.382Z"
   },
   {
    "duration": 6,
    "start_time": "2022-02-08T11:33:59.387Z"
   },
   {
    "duration": 362,
    "start_time": "2022-02-08T11:33:59.394Z"
   },
   {
    "duration": 13,
    "start_time": "2022-02-08T11:33:59.758Z"
   },
   {
    "duration": 4,
    "start_time": "2022-02-08T11:33:59.772Z"
   },
   {
    "duration": 4,
    "start_time": "2022-02-08T11:33:59.778Z"
   },
   {
    "duration": 11,
    "start_time": "2022-02-08T11:33:59.784Z"
   },
   {
    "duration": 32,
    "start_time": "2022-02-08T11:33:59.796Z"
   },
   {
    "duration": 10,
    "start_time": "2022-02-08T11:33:59.830Z"
   },
   {
    "duration": 238,
    "start_time": "2022-02-08T11:33:59.841Z"
   },
   {
    "duration": 17,
    "start_time": "2022-02-08T11:34:00.081Z"
   },
   {
    "duration": 9,
    "start_time": "2022-02-08T11:34:00.099Z"
   },
   {
    "duration": 427,
    "start_time": "2022-02-08T11:34:00.109Z"
   },
   {
    "duration": -286,
    "start_time": "2022-02-08T11:34:00.824Z"
   },
   {
    "duration": -290,
    "start_time": "2022-02-08T11:34:00.830Z"
   },
   {
    "duration": -295,
    "start_time": "2022-02-08T11:34:00.836Z"
   },
   {
    "duration": -300,
    "start_time": "2022-02-08T11:34:00.842Z"
   },
   {
    "duration": -304,
    "start_time": "2022-02-08T11:34:00.848Z"
   },
   {
    "duration": -308,
    "start_time": "2022-02-08T11:34:00.853Z"
   },
   {
    "duration": -313,
    "start_time": "2022-02-08T11:34:00.859Z"
   },
   {
    "duration": -317,
    "start_time": "2022-02-08T11:34:00.864Z"
   },
   {
    "duration": -321,
    "start_time": "2022-02-08T11:34:00.870Z"
   },
   {
    "duration": -326,
    "start_time": "2022-02-08T11:34:00.876Z"
   },
   {
    "duration": 21,
    "start_time": "2022-02-08T12:50:53.682Z"
   },
   {
    "duration": 10046,
    "start_time": "2022-02-08T12:51:07.018Z"
   },
   {
    "duration": 396,
    "start_time": "2022-02-08T12:53:05.509Z"
   },
   {
    "duration": 363,
    "start_time": "2022-02-08T12:54:13.659Z"
   },
   {
    "duration": 383,
    "start_time": "2022-02-08T12:55:25.045Z"
   },
   {
    "duration": 363,
    "start_time": "2022-02-08T12:57:21.433Z"
   },
   {
    "duration": 384,
    "start_time": "2022-02-08T12:59:08.419Z"
   },
   {
    "duration": 389,
    "start_time": "2022-02-08T13:00:42.707Z"
   },
   {
    "duration": 17,
    "start_time": "2022-02-08T13:04:18.810Z"
   },
   {
    "duration": 3,
    "start_time": "2022-02-08T13:05:08.770Z"
   },
   {
    "duration": 4,
    "start_time": "2022-02-08T13:05:20.135Z"
   },
   {
    "duration": 15,
    "start_time": "2022-02-08T13:05:36.040Z"
   },
   {
    "duration": 5,
    "start_time": "2022-02-08T13:06:33.726Z"
   },
   {
    "duration": 7,
    "start_time": "2022-02-08T13:06:54.521Z"
   },
   {
    "duration": 15,
    "start_time": "2022-02-08T13:07:02.803Z"
   },
   {
    "duration": 257,
    "start_time": "2022-02-08T13:07:08.735Z"
   },
   {
    "duration": 7,
    "start_time": "2022-02-08T13:07:10.455Z"
   },
   {
    "duration": 221,
    "start_time": "2022-02-08T13:07:12.775Z"
   },
   {
    "duration": 7,
    "start_time": "2022-02-08T13:07:14.872Z"
   },
   {
    "duration": 6,
    "start_time": "2022-02-08T13:07:19.259Z"
   },
   {
    "duration": 118,
    "start_time": "2022-02-08T13:12:00.362Z"
   },
   {
    "duration": 1161,
    "start_time": "2022-02-09T07:37:07.844Z"
   },
   {
    "duration": 362,
    "start_time": "2022-02-09T07:37:09.007Z"
   },
   {
    "duration": 9,
    "start_time": "2022-02-09T07:37:09.371Z"
   },
   {
    "duration": 21,
    "start_time": "2022-02-09T07:37:09.382Z"
   },
   {
    "duration": 28,
    "start_time": "2022-02-09T07:37:09.404Z"
   },
   {
    "duration": 12,
    "start_time": "2022-02-09T07:37:09.433Z"
   },
   {
    "duration": 6,
    "start_time": "2022-02-09T07:37:09.447Z"
   },
   {
    "duration": 33,
    "start_time": "2022-02-09T07:37:09.456Z"
   },
   {
    "duration": 19,
    "start_time": "2022-02-09T07:37:09.491Z"
   },
   {
    "duration": 11,
    "start_time": "2022-02-09T07:37:09.512Z"
   },
   {
    "duration": 6,
    "start_time": "2022-02-09T07:37:09.524Z"
   },
   {
    "duration": 39,
    "start_time": "2022-02-09T07:37:09.532Z"
   },
   {
    "duration": 16,
    "start_time": "2022-02-09T07:37:09.573Z"
   },
   {
    "duration": 9,
    "start_time": "2022-02-09T07:37:09.590Z"
   },
   {
    "duration": 7,
    "start_time": "2022-02-09T07:37:09.601Z"
   },
   {
    "duration": 11,
    "start_time": "2022-02-09T07:37:09.610Z"
   },
   {
    "duration": 13,
    "start_time": "2022-02-09T07:37:09.622Z"
   },
   {
    "duration": 10,
    "start_time": "2022-02-09T07:37:09.636Z"
   },
   {
    "duration": 27,
    "start_time": "2022-02-09T07:37:09.647Z"
   },
   {
    "duration": 11,
    "start_time": "2022-02-09T07:37:09.675Z"
   },
   {
    "duration": 80,
    "start_time": "2022-02-09T07:37:09.688Z"
   },
   {
    "duration": 49,
    "start_time": "2022-02-09T07:37:09.769Z"
   },
   {
    "duration": 33,
    "start_time": "2022-02-09T07:37:09.822Z"
   },
   {
    "duration": 5,
    "start_time": "2022-02-09T07:37:09.873Z"
   },
   {
    "duration": 7,
    "start_time": "2022-02-09T07:37:09.879Z"
   },
   {
    "duration": 5,
    "start_time": "2022-02-09T07:37:09.887Z"
   },
   {
    "duration": 9,
    "start_time": "2022-02-09T07:37:09.893Z"
   },
   {
    "duration": 5,
    "start_time": "2022-02-09T07:37:09.903Z"
   },
   {
    "duration": 15,
    "start_time": "2022-02-09T07:37:09.909Z"
   },
   {
    "duration": 11,
    "start_time": "2022-02-09T07:37:09.925Z"
   },
   {
    "duration": 58,
    "start_time": "2022-02-09T07:37:09.937Z"
   },
   {
    "duration": 6,
    "start_time": "2022-02-09T07:37:09.996Z"
   },
   {
    "duration": 7,
    "start_time": "2022-02-09T07:37:10.004Z"
   },
   {
    "duration": 12,
    "start_time": "2022-02-09T07:37:10.012Z"
   },
   {
    "duration": 8,
    "start_time": "2022-02-09T07:37:10.025Z"
   },
   {
    "duration": 54,
    "start_time": "2022-02-09T07:37:10.034Z"
   },
   {
    "duration": 95,
    "start_time": "2022-02-09T07:37:10.089Z"
   },
   {
    "duration": 36,
    "start_time": "2022-02-09T07:37:10.185Z"
   },
   {
    "duration": 8,
    "start_time": "2022-02-09T07:37:10.223Z"
   },
   {
    "duration": 19,
    "start_time": "2022-02-09T07:37:10.232Z"
   },
   {
    "duration": 5,
    "start_time": "2022-02-09T07:37:10.271Z"
   },
   {
    "duration": 10,
    "start_time": "2022-02-09T07:37:10.277Z"
   },
   {
    "duration": 131,
    "start_time": "2022-02-09T07:37:10.288Z"
   },
   {
    "duration": 12,
    "start_time": "2022-02-09T07:37:10.421Z"
   },
   {
    "duration": 6,
    "start_time": "2022-02-09T07:37:10.435Z"
   },
   {
    "duration": 6,
    "start_time": "2022-02-09T07:37:10.442Z"
   },
   {
    "duration": 34,
    "start_time": "2022-02-09T07:37:10.449Z"
   },
   {
    "duration": 29,
    "start_time": "2022-02-09T07:37:10.485Z"
   },
   {
    "duration": 8,
    "start_time": "2022-02-09T07:37:10.516Z"
   },
   {
    "duration": 21,
    "start_time": "2022-02-09T07:37:10.525Z"
   },
   {
    "duration": 32,
    "start_time": "2022-02-09T07:37:10.547Z"
   },
   {
    "duration": 112,
    "start_time": "2022-02-09T07:37:10.580Z"
   },
   {
    "duration": 7,
    "start_time": "2022-02-09T07:37:10.693Z"
   },
   {
    "duration": 9,
    "start_time": "2022-02-09T07:37:10.702Z"
   },
   {
    "duration": 6,
    "start_time": "2022-02-09T07:37:10.712Z"
   },
   {
    "duration": 10,
    "start_time": "2022-02-09T07:37:10.720Z"
   },
   {
    "duration": 41,
    "start_time": "2022-02-09T07:37:10.731Z"
   },
   {
    "duration": 28,
    "start_time": "2022-02-09T07:37:10.774Z"
   },
   {
    "duration": 19,
    "start_time": "2022-02-09T07:37:10.804Z"
   },
   {
    "duration": 13,
    "start_time": "2022-02-09T07:37:10.825Z"
   },
   {
    "duration": 38,
    "start_time": "2022-02-09T07:37:10.840Z"
   },
   {
    "duration": 168,
    "start_time": "2022-02-09T07:37:10.880Z"
   },
   {
    "duration": 9,
    "start_time": "2022-02-09T07:37:11.050Z"
   },
   {
    "duration": 15,
    "start_time": "2022-02-09T07:37:11.061Z"
   },
   {
    "duration": 5,
    "start_time": "2022-02-09T07:37:11.078Z"
   },
   {
    "duration": 21,
    "start_time": "2022-02-09T07:37:11.085Z"
   },
   {
    "duration": 6,
    "start_time": "2022-02-09T07:37:11.107Z"
   },
   {
    "duration": 20,
    "start_time": "2022-02-09T07:37:11.118Z"
   },
   {
    "duration": 34,
    "start_time": "2022-02-09T07:37:11.140Z"
   },
   {
    "duration": 134,
    "start_time": "2022-02-09T07:37:11.176Z"
   },
   {
    "duration": 5,
    "start_time": "2022-02-09T07:37:11.312Z"
   },
   {
    "duration": 12,
    "start_time": "2022-02-09T07:37:11.318Z"
   },
   {
    "duration": 159,
    "start_time": "2022-02-09T07:37:11.331Z"
   },
   {
    "duration": 3,
    "start_time": "2022-02-09T07:37:11.491Z"
   },
   {
    "duration": 5,
    "start_time": "2022-02-09T07:37:11.496Z"
   },
   {
    "duration": 12,
    "start_time": "2022-02-09T07:37:11.502Z"
   },
   {
    "duration": 163,
    "start_time": "2022-02-09T07:37:11.516Z"
   },
   {
    "duration": 3,
    "start_time": "2022-02-09T07:37:11.681Z"
   },
   {
    "duration": 6,
    "start_time": "2022-02-09T07:37:11.685Z"
   },
   {
    "duration": 17,
    "start_time": "2022-02-09T07:37:11.692Z"
   },
   {
    "duration": 16,
    "start_time": "2022-02-09T07:37:11.710Z"
   },
   {
    "duration": 45,
    "start_time": "2022-02-09T07:37:11.727Z"
   },
   {
    "duration": 3,
    "start_time": "2022-02-09T07:37:11.774Z"
   },
   {
    "duration": 4,
    "start_time": "2022-02-09T07:37:11.779Z"
   },
   {
    "duration": 10,
    "start_time": "2022-02-09T07:37:11.785Z"
   },
   {
    "duration": 3,
    "start_time": "2022-02-09T07:37:11.797Z"
   },
   {
    "duration": 6,
    "start_time": "2022-02-09T07:37:11.802Z"
   },
   {
    "duration": 428,
    "start_time": "2022-02-09T07:37:11.809Z"
   },
   {
    "duration": 9,
    "start_time": "2022-02-09T07:37:12.239Z"
   },
   {
    "duration": 4,
    "start_time": "2022-02-09T07:37:12.250Z"
   },
   {
    "duration": 4,
    "start_time": "2022-02-09T07:37:12.256Z"
   },
   {
    "duration": 8,
    "start_time": "2022-02-09T07:37:12.272Z"
   },
   {
    "duration": 3,
    "start_time": "2022-02-09T07:37:12.281Z"
   },
   {
    "duration": 12,
    "start_time": "2022-02-09T07:37:12.285Z"
   },
   {
    "duration": 436,
    "start_time": "2022-02-09T07:37:12.298Z"
   },
   {
    "duration": 8,
    "start_time": "2022-02-09T07:37:12.736Z"
   },
   {
    "duration": 3,
    "start_time": "2022-02-09T07:37:12.746Z"
   },
   {
    "duration": 4,
    "start_time": "2022-02-09T07:37:12.750Z"
   },
   {
    "duration": 22,
    "start_time": "2022-02-09T07:37:12.755Z"
   },
   {
    "duration": 3,
    "start_time": "2022-02-09T07:37:12.779Z"
   },
   {
    "duration": 4,
    "start_time": "2022-02-09T07:37:12.783Z"
   },
   {
    "duration": 385,
    "start_time": "2022-02-09T07:37:12.788Z"
   },
   {
    "duration": 8,
    "start_time": "2022-02-09T07:37:13.175Z"
   },
   {
    "duration": 4,
    "start_time": "2022-02-09T07:37:13.185Z"
   },
   {
    "duration": 4,
    "start_time": "2022-02-09T07:37:13.190Z"
   },
   {
    "duration": 10,
    "start_time": "2022-02-09T07:37:13.196Z"
   },
   {
    "duration": 3,
    "start_time": "2022-02-09T07:37:13.207Z"
   },
   {
    "duration": 6,
    "start_time": "2022-02-09T07:37:13.211Z"
   },
   {
    "duration": 435,
    "start_time": "2022-02-09T07:37:13.218Z"
   },
   {
    "duration": 17,
    "start_time": "2022-02-09T07:37:13.655Z"
   },
   {
    "duration": 4,
    "start_time": "2022-02-09T07:37:13.674Z"
   },
   {
    "duration": 18,
    "start_time": "2022-02-09T07:37:13.679Z"
   },
   {
    "duration": 4,
    "start_time": "2022-02-09T07:37:13.699Z"
   },
   {
    "duration": 5,
    "start_time": "2022-02-09T07:37:13.704Z"
   },
   {
    "duration": 16,
    "start_time": "2022-02-09T07:37:13.711Z"
   },
   {
    "duration": 195,
    "start_time": "2022-02-09T07:37:13.728Z"
   },
   {
    "duration": 6,
    "start_time": "2022-02-09T07:37:13.924Z"
   },
   {
    "duration": 166,
    "start_time": "2022-02-09T07:37:13.931Z"
   },
   {
    "duration": 6,
    "start_time": "2022-02-09T07:37:14.098Z"
   },
   {
    "duration": 7,
    "start_time": "2022-02-09T07:37:14.105Z"
   }
  ],
  "kernelspec": {
   "display_name": "Python 3",
   "language": "python",
   "name": "python3"
  },
  "language_info": {
   "codemirror_mode": {
    "name": "ipython",
    "version": 3
   },
   "file_extension": ".py",
   "mimetype": "text/x-python",
   "name": "python",
   "nbconvert_exporter": "python",
   "pygments_lexer": "ipython3",
   "version": "3.8.8"
  },
  "toc": {
   "base_numbering": 1,
   "nav_menu": {},
   "number_sections": true,
   "sideBar": true,
   "skip_h1_title": true,
   "title_cell": "Table of Contents",
   "title_sidebar": "Contents",
   "toc_cell": false,
   "toc_position": {
    "height": "calc(100% - 180px)",
    "left": "10px",
    "top": "150px",
    "width": "228px"
   },
   "toc_section_display": true,
   "toc_window_display": true
  }
 },
 "nbformat": 4,
 "nbformat_minor": 2
}
