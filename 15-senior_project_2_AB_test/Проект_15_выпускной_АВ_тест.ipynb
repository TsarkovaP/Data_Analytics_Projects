{
 "cells": [
  {
   "cell_type": "markdown",
   "metadata": {},
   "source": [
    "# Проект по А/B-тестированию"
   ]
  },
  {
   "cell_type": "markdown",
   "metadata": {},
   "source": [
    "Цель исследования - провести оценку результатов A/B-теста. \n",
    "- Оценить корректность проведения теста.\n",
    "- Проанализировать результаты теста."
   ]
  },
  {
   "cell_type": "markdown",
   "metadata": {},
   "source": [
    "Данные: датасет с действиями пользователей, техническое задание и несколько вспомогательных датасетов.\n",
    "\n"
   ]
  },
  {
   "cell_type": "markdown",
   "metadata": {},
   "source": [
    "Описание данных\n",
    "\n",
    " - /datasets/ab_project_marketing_events.csv — календарь маркетинговых событий на 2020 год;\n",
    "\n",
    "Структура файла:\n",
    "    - name — название маркетингового события;\n",
    "    - regions — регионы, в которых будет проводиться рекламная кампания;\n",
    "    - start_dt — дата начала кампании;\n",
    "    - finish_dt — дата завершения кампании.\n",
    "\n",
    "- /datasets/final_ab_new_users.csv — все пользователи, зарегистрировавшиеся в интернет-магазине в период с 7 по 21 декабря 2020 года;\n",
    "\n",
    "Структура файла:\n",
    "    - user_id — идентификатор пользователя;\n",
    "    - first_date — дата регистрации;\n",
    "    - region — регион пользователя;\n",
    "    - device — устройство, с которого происходила регистрация.\n",
    "\n",
    "- /datasets/final_ab_events.csv — все события новых пользователей в период с 7 декабря 2020 по 4 января 2021 года;\n",
    "\n",
    "Структура файла:\n",
    "    - user_id — идентификатор пользователя;\n",
    "    - event_dt — дата и время события;\n",
    "    - event_name — тип события;\n",
    "    - details — дополнительные данные о событии. Например, для покупок, purchase, в этом поле хранится стоимость покупки в долларах.\n",
    "\n",
    "- /datasets/final_ab_participants.csv — таблица участников тестов.\n",
    "\n",
    "Структура файла:\n",
    "    - user_id — идентификатор пользователя;\n",
    "    - ab_test — название теста;\n",
    "    - group — группа пользователя."
   ]
  },
  {
   "cell_type": "markdown",
   "metadata": {},
   "source": [
    "## Загрузка данных и подготовка их к анализу."
   ]
  },
  {
   "cell_type": "markdown",
   "metadata": {},
   "source": [
    "###  *Загрузить данные.*"
   ]
  },
  {
   "cell_type": "code",
   "execution_count": 1,
   "metadata": {},
   "outputs": [],
   "source": [
    "#импорт библиотек\n",
    "\n",
    "import pandas as pd\n",
    "import datetime as dt\n",
    "import numpy as np\n",
    "from datetime import datetime, timedelta\n",
    "from matplotlib import pyplot as plt\n",
    "import seaborn as sns\n",
    "from scipy import stats as st\n",
    "import numpy as np\n",
    "import math\n",
    "import scipy.stats as stats\n"
   ]
  },
  {
   "cell_type": "code",
   "execution_count": 2,
   "metadata": {},
   "outputs": [],
   "source": [
    "#чтение файлов с данными и сохранение в соответствующую переменную\n",
    "marketing_events = pd.read_csv('/datasets/ab_project_marketing_events.csv') \n",
    "users = pd.read_csv('/datasets/final_ab_new_users.csv', sep=',') \n",
    "events = pd.read_csv('/datasets/final_ab_events.csv', sep=',') \n",
    "participants = pd.read_csv('/datasets/final_ab_participants.csv', sep=',') "
   ]
  },
  {
   "cell_type": "code",
   "execution_count": 3,
   "metadata": {},
   "outputs": [
    {
     "data": {
      "text/html": [
       "<div>\n",
       "<style scoped>\n",
       "    .dataframe tbody tr th:only-of-type {\n",
       "        vertical-align: middle;\n",
       "    }\n",
       "\n",
       "    .dataframe tbody tr th {\n",
       "        vertical-align: top;\n",
       "    }\n",
       "\n",
       "    .dataframe thead th {\n",
       "        text-align: right;\n",
       "    }\n",
       "</style>\n",
       "<table border=\"1\" class=\"dataframe\">\n",
       "  <thead>\n",
       "    <tr style=\"text-align: right;\">\n",
       "      <th></th>\n",
       "      <th>name</th>\n",
       "      <th>regions</th>\n",
       "      <th>start_dt</th>\n",
       "      <th>finish_dt</th>\n",
       "    </tr>\n",
       "  </thead>\n",
       "  <tbody>\n",
       "    <tr>\n",
       "      <th>0</th>\n",
       "      <td>Christmas&amp;New Year Promo</td>\n",
       "      <td>EU, N.America</td>\n",
       "      <td>2020-12-25</td>\n",
       "      <td>2021-01-03</td>\n",
       "    </tr>\n",
       "    <tr>\n",
       "      <th>1</th>\n",
       "      <td>St. Valentine's Day Giveaway</td>\n",
       "      <td>EU, CIS, APAC, N.America</td>\n",
       "      <td>2020-02-14</td>\n",
       "      <td>2020-02-16</td>\n",
       "    </tr>\n",
       "    <tr>\n",
       "      <th>2</th>\n",
       "      <td>St. Patric's Day Promo</td>\n",
       "      <td>EU, N.America</td>\n",
       "      <td>2020-03-17</td>\n",
       "      <td>2020-03-19</td>\n",
       "    </tr>\n",
       "    <tr>\n",
       "      <th>3</th>\n",
       "      <td>Easter Promo</td>\n",
       "      <td>EU, CIS, APAC, N.America</td>\n",
       "      <td>2020-04-12</td>\n",
       "      <td>2020-04-19</td>\n",
       "    </tr>\n",
       "    <tr>\n",
       "      <th>4</th>\n",
       "      <td>4th of July Promo</td>\n",
       "      <td>N.America</td>\n",
       "      <td>2020-07-04</td>\n",
       "      <td>2020-07-11</td>\n",
       "    </tr>\n",
       "  </tbody>\n",
       "</table>\n",
       "</div>"
      ],
      "text/plain": [
       "                           name                   regions    start_dt  \\\n",
       "0      Christmas&New Year Promo             EU, N.America  2020-12-25   \n",
       "1  St. Valentine's Day Giveaway  EU, CIS, APAC, N.America  2020-02-14   \n",
       "2        St. Patric's Day Promo             EU, N.America  2020-03-17   \n",
       "3                  Easter Promo  EU, CIS, APAC, N.America  2020-04-12   \n",
       "4             4th of July Promo                 N.America  2020-07-04   \n",
       "\n",
       "    finish_dt  \n",
       "0  2021-01-03  \n",
       "1  2020-02-16  \n",
       "2  2020-03-19  \n",
       "3  2020-04-19  \n",
       "4  2020-07-11  "
      ]
     },
     "execution_count": 3,
     "metadata": {},
     "output_type": "execute_result"
    }
   ],
   "source": [
    "marketing_events.head()"
   ]
  },
  {
   "cell_type": "code",
   "execution_count": 4,
   "metadata": {},
   "outputs": [
    {
     "data": {
      "text/html": [
       "<div>\n",
       "<style scoped>\n",
       "    .dataframe tbody tr th:only-of-type {\n",
       "        vertical-align: middle;\n",
       "    }\n",
       "\n",
       "    .dataframe tbody tr th {\n",
       "        vertical-align: top;\n",
       "    }\n",
       "\n",
       "    .dataframe thead th {\n",
       "        text-align: right;\n",
       "    }\n",
       "</style>\n",
       "<table border=\"1\" class=\"dataframe\">\n",
       "  <thead>\n",
       "    <tr style=\"text-align: right;\">\n",
       "      <th></th>\n",
       "      <th>user_id</th>\n",
       "      <th>first_date</th>\n",
       "      <th>region</th>\n",
       "      <th>device</th>\n",
       "    </tr>\n",
       "  </thead>\n",
       "  <tbody>\n",
       "    <tr>\n",
       "      <th>0</th>\n",
       "      <td>D72A72121175D8BE</td>\n",
       "      <td>2020-12-07</td>\n",
       "      <td>EU</td>\n",
       "      <td>PC</td>\n",
       "    </tr>\n",
       "    <tr>\n",
       "      <th>1</th>\n",
       "      <td>F1C668619DFE6E65</td>\n",
       "      <td>2020-12-07</td>\n",
       "      <td>N.America</td>\n",
       "      <td>Android</td>\n",
       "    </tr>\n",
       "    <tr>\n",
       "      <th>2</th>\n",
       "      <td>2E1BF1D4C37EA01F</td>\n",
       "      <td>2020-12-07</td>\n",
       "      <td>EU</td>\n",
       "      <td>PC</td>\n",
       "    </tr>\n",
       "    <tr>\n",
       "      <th>3</th>\n",
       "      <td>50734A22C0C63768</td>\n",
       "      <td>2020-12-07</td>\n",
       "      <td>EU</td>\n",
       "      <td>iPhone</td>\n",
       "    </tr>\n",
       "    <tr>\n",
       "      <th>4</th>\n",
       "      <td>E1BDDCE0DAFA2679</td>\n",
       "      <td>2020-12-07</td>\n",
       "      <td>N.America</td>\n",
       "      <td>iPhone</td>\n",
       "    </tr>\n",
       "  </tbody>\n",
       "</table>\n",
       "</div>"
      ],
      "text/plain": [
       "            user_id  first_date     region   device\n",
       "0  D72A72121175D8BE  2020-12-07         EU       PC\n",
       "1  F1C668619DFE6E65  2020-12-07  N.America  Android\n",
       "2  2E1BF1D4C37EA01F  2020-12-07         EU       PC\n",
       "3  50734A22C0C63768  2020-12-07         EU   iPhone\n",
       "4  E1BDDCE0DAFA2679  2020-12-07  N.America   iPhone"
      ]
     },
     "execution_count": 4,
     "metadata": {},
     "output_type": "execute_result"
    }
   ],
   "source": [
    "users.head()"
   ]
  },
  {
   "cell_type": "code",
   "execution_count": 5,
   "metadata": {},
   "outputs": [
    {
     "data": {
      "text/html": [
       "<div>\n",
       "<style scoped>\n",
       "    .dataframe tbody tr th:only-of-type {\n",
       "        vertical-align: middle;\n",
       "    }\n",
       "\n",
       "    .dataframe tbody tr th {\n",
       "        vertical-align: top;\n",
       "    }\n",
       "\n",
       "    .dataframe thead th {\n",
       "        text-align: right;\n",
       "    }\n",
       "</style>\n",
       "<table border=\"1\" class=\"dataframe\">\n",
       "  <thead>\n",
       "    <tr style=\"text-align: right;\">\n",
       "      <th></th>\n",
       "      <th>user_id</th>\n",
       "      <th>event_dt</th>\n",
       "      <th>event_name</th>\n",
       "      <th>details</th>\n",
       "    </tr>\n",
       "  </thead>\n",
       "  <tbody>\n",
       "    <tr>\n",
       "      <th>0</th>\n",
       "      <td>E1BDDCE0DAFA2679</td>\n",
       "      <td>2020-12-07 20:22:03</td>\n",
       "      <td>purchase</td>\n",
       "      <td>99.99</td>\n",
       "    </tr>\n",
       "    <tr>\n",
       "      <th>1</th>\n",
       "      <td>7B6452F081F49504</td>\n",
       "      <td>2020-12-07 09:22:53</td>\n",
       "      <td>purchase</td>\n",
       "      <td>9.99</td>\n",
       "    </tr>\n",
       "    <tr>\n",
       "      <th>2</th>\n",
       "      <td>9CD9F34546DF254C</td>\n",
       "      <td>2020-12-07 12:59:29</td>\n",
       "      <td>purchase</td>\n",
       "      <td>4.99</td>\n",
       "    </tr>\n",
       "    <tr>\n",
       "      <th>3</th>\n",
       "      <td>96F27A054B191457</td>\n",
       "      <td>2020-12-07 04:02:40</td>\n",
       "      <td>purchase</td>\n",
       "      <td>4.99</td>\n",
       "    </tr>\n",
       "    <tr>\n",
       "      <th>4</th>\n",
       "      <td>1FD7660FDF94CA1F</td>\n",
       "      <td>2020-12-07 10:15:09</td>\n",
       "      <td>purchase</td>\n",
       "      <td>4.99</td>\n",
       "    </tr>\n",
       "  </tbody>\n",
       "</table>\n",
       "</div>"
      ],
      "text/plain": [
       "            user_id             event_dt event_name  details\n",
       "0  E1BDDCE0DAFA2679  2020-12-07 20:22:03   purchase    99.99\n",
       "1  7B6452F081F49504  2020-12-07 09:22:53   purchase     9.99\n",
       "2  9CD9F34546DF254C  2020-12-07 12:59:29   purchase     4.99\n",
       "3  96F27A054B191457  2020-12-07 04:02:40   purchase     4.99\n",
       "4  1FD7660FDF94CA1F  2020-12-07 10:15:09   purchase     4.99"
      ]
     },
     "execution_count": 5,
     "metadata": {},
     "output_type": "execute_result"
    }
   ],
   "source": [
    "events.head()"
   ]
  },
  {
   "cell_type": "code",
   "execution_count": 6,
   "metadata": {},
   "outputs": [
    {
     "data": {
      "text/html": [
       "<div>\n",
       "<style scoped>\n",
       "    .dataframe tbody tr th:only-of-type {\n",
       "        vertical-align: middle;\n",
       "    }\n",
       "\n",
       "    .dataframe tbody tr th {\n",
       "        vertical-align: top;\n",
       "    }\n",
       "\n",
       "    .dataframe thead th {\n",
       "        text-align: right;\n",
       "    }\n",
       "</style>\n",
       "<table border=\"1\" class=\"dataframe\">\n",
       "  <thead>\n",
       "    <tr style=\"text-align: right;\">\n",
       "      <th></th>\n",
       "      <th>user_id</th>\n",
       "      <th>group</th>\n",
       "      <th>ab_test</th>\n",
       "    </tr>\n",
       "  </thead>\n",
       "  <tbody>\n",
       "    <tr>\n",
       "      <th>0</th>\n",
       "      <td>D1ABA3E2887B6A73</td>\n",
       "      <td>A</td>\n",
       "      <td>recommender_system_test</td>\n",
       "    </tr>\n",
       "    <tr>\n",
       "      <th>1</th>\n",
       "      <td>A7A3664BD6242119</td>\n",
       "      <td>A</td>\n",
       "      <td>recommender_system_test</td>\n",
       "    </tr>\n",
       "    <tr>\n",
       "      <th>2</th>\n",
       "      <td>DABC14FDDFADD29E</td>\n",
       "      <td>A</td>\n",
       "      <td>recommender_system_test</td>\n",
       "    </tr>\n",
       "    <tr>\n",
       "      <th>3</th>\n",
       "      <td>04988C5DF189632E</td>\n",
       "      <td>A</td>\n",
       "      <td>recommender_system_test</td>\n",
       "    </tr>\n",
       "    <tr>\n",
       "      <th>4</th>\n",
       "      <td>482F14783456D21B</td>\n",
       "      <td>B</td>\n",
       "      <td>recommender_system_test</td>\n",
       "    </tr>\n",
       "  </tbody>\n",
       "</table>\n",
       "</div>"
      ],
      "text/plain": [
       "            user_id group                  ab_test\n",
       "0  D1ABA3E2887B6A73     A  recommender_system_test\n",
       "1  A7A3664BD6242119     A  recommender_system_test\n",
       "2  DABC14FDDFADD29E     A  recommender_system_test\n",
       "3  04988C5DF189632E     A  recommender_system_test\n",
       "4  482F14783456D21B     B  recommender_system_test"
      ]
     },
     "execution_count": 6,
     "metadata": {},
     "output_type": "execute_result"
    }
   ],
   "source": [
    "participants.head()"
   ]
  },
  {
   "cell_type": "markdown",
   "metadata": {},
   "source": [
    "###  *Предобработка данных.*"
   ]
  },
  {
   "cell_type": "markdown",
   "metadata": {},
   "source": [
    "#### Проверка типа данных"
   ]
  },
  {
   "cell_type": "code",
   "execution_count": 7,
   "metadata": {},
   "outputs": [
    {
     "name": "stdout",
     "output_type": "stream",
     "text": [
      "<class 'pandas.core.frame.DataFrame'>\n",
      "RangeIndex: 14 entries, 0 to 13\n",
      "Data columns (total 4 columns):\n",
      " #   Column     Non-Null Count  Dtype \n",
      "---  ------     --------------  ----- \n",
      " 0   name       14 non-null     object\n",
      " 1   regions    14 non-null     object\n",
      " 2   start_dt   14 non-null     object\n",
      " 3   finish_dt  14 non-null     object\n",
      "dtypes: object(4)\n",
      "memory usage: 576.0+ bytes\n"
     ]
    }
   ],
   "source": [
    "marketing_events.info()"
   ]
  },
  {
   "cell_type": "code",
   "execution_count": 8,
   "metadata": {},
   "outputs": [
    {
     "name": "stdout",
     "output_type": "stream",
     "text": [
      "<class 'pandas.core.frame.DataFrame'>\n",
      "RangeIndex: 61733 entries, 0 to 61732\n",
      "Data columns (total 4 columns):\n",
      " #   Column      Non-Null Count  Dtype \n",
      "---  ------      --------------  ----- \n",
      " 0   user_id     61733 non-null  object\n",
      " 1   first_date  61733 non-null  object\n",
      " 2   region      61733 non-null  object\n",
      " 3   device      61733 non-null  object\n",
      "dtypes: object(4)\n",
      "memory usage: 1.9+ MB\n"
     ]
    }
   ],
   "source": [
    "users.info()"
   ]
  },
  {
   "cell_type": "code",
   "execution_count": 9,
   "metadata": {},
   "outputs": [
    {
     "name": "stdout",
     "output_type": "stream",
     "text": [
      "<class 'pandas.core.frame.DataFrame'>\n",
      "RangeIndex: 440317 entries, 0 to 440316\n",
      "Data columns (total 4 columns):\n",
      " #   Column      Non-Null Count   Dtype  \n",
      "---  ------      --------------   -----  \n",
      " 0   user_id     440317 non-null  object \n",
      " 1   event_dt    440317 non-null  object \n",
      " 2   event_name  440317 non-null  object \n",
      " 3   details     62740 non-null   float64\n",
      "dtypes: float64(1), object(3)\n",
      "memory usage: 13.4+ MB\n"
     ]
    }
   ],
   "source": [
    "events.info()"
   ]
  },
  {
   "cell_type": "code",
   "execution_count": 10,
   "metadata": {},
   "outputs": [
    {
     "name": "stdout",
     "output_type": "stream",
     "text": [
      "<class 'pandas.core.frame.DataFrame'>\n",
      "RangeIndex: 18268 entries, 0 to 18267\n",
      "Data columns (total 3 columns):\n",
      " #   Column   Non-Null Count  Dtype \n",
      "---  ------   --------------  ----- \n",
      " 0   user_id  18268 non-null  object\n",
      " 1   group    18268 non-null  object\n",
      " 2   ab_test  18268 non-null  object\n",
      "dtypes: object(3)\n",
      "memory usage: 428.3+ KB\n"
     ]
    }
   ],
   "source": [
    "participants.info()"
   ]
  },
  {
   "cell_type": "markdown",
   "metadata": {},
   "source": [
    "Необходимо перевести в тип дата данные столбцов:\n",
    "\n",
    "датасет marketing_events\n",
    "- 'start_dt' \n",
    "- 'finish_dt'\n",
    "\n",
    "датасет users\n",
    "- 'first_date'\n",
    "\n",
    "датасет events\n",
    "- 'event_dt'"
   ]
  },
  {
   "cell_type": "code",
   "execution_count": 11,
   "metadata": {},
   "outputs": [],
   "source": [
    "# преобразование данных о времени\n",
    "time_format = \"%Y-%m-%d %H:%M:%S\"\n",
    "marketing_events['start_dt'] = pd.to_datetime(marketing_events['start_dt'], format = time_format)\n",
    "marketing_events['finish_dt'] = pd.to_datetime(marketing_events['finish_dt'], format = time_format)\n",
    "users['first_date'] = pd.to_datetime(users['first_date'], format = time_format)\n",
    "events['event_dt'] = pd.to_datetime(events['event_dt'], format = time_format)\n"
   ]
  },
  {
   "cell_type": "code",
   "execution_count": 12,
   "metadata": {},
   "outputs": [
    {
     "name": "stdout",
     "output_type": "stream",
     "text": [
      "<class 'pandas.core.frame.DataFrame'>\n",
      "RangeIndex: 14 entries, 0 to 13\n",
      "Data columns (total 4 columns):\n",
      " #   Column     Non-Null Count  Dtype         \n",
      "---  ------     --------------  -----         \n",
      " 0   name       14 non-null     object        \n",
      " 1   regions    14 non-null     object        \n",
      " 2   start_dt   14 non-null     datetime64[ns]\n",
      " 3   finish_dt  14 non-null     datetime64[ns]\n",
      "dtypes: datetime64[ns](2), object(2)\n",
      "memory usage: 576.0+ bytes\n"
     ]
    }
   ],
   "source": [
    "marketing_events.info()"
   ]
  },
  {
   "cell_type": "code",
   "execution_count": 13,
   "metadata": {},
   "outputs": [
    {
     "name": "stdout",
     "output_type": "stream",
     "text": [
      "<class 'pandas.core.frame.DataFrame'>\n",
      "RangeIndex: 61733 entries, 0 to 61732\n",
      "Data columns (total 4 columns):\n",
      " #   Column      Non-Null Count  Dtype         \n",
      "---  ------      --------------  -----         \n",
      " 0   user_id     61733 non-null  object        \n",
      " 1   first_date  61733 non-null  datetime64[ns]\n",
      " 2   region      61733 non-null  object        \n",
      " 3   device      61733 non-null  object        \n",
      "dtypes: datetime64[ns](1), object(3)\n",
      "memory usage: 1.9+ MB\n"
     ]
    }
   ],
   "source": [
    "users.info()"
   ]
  },
  {
   "cell_type": "code",
   "execution_count": 14,
   "metadata": {},
   "outputs": [
    {
     "name": "stdout",
     "output_type": "stream",
     "text": [
      "<class 'pandas.core.frame.DataFrame'>\n",
      "RangeIndex: 440317 entries, 0 to 440316\n",
      "Data columns (total 4 columns):\n",
      " #   Column      Non-Null Count   Dtype         \n",
      "---  ------      --------------   -----         \n",
      " 0   user_id     440317 non-null  object        \n",
      " 1   event_dt    440317 non-null  datetime64[ns]\n",
      " 2   event_name  440317 non-null  object        \n",
      " 3   details     62740 non-null   float64       \n",
      "dtypes: datetime64[ns](1), float64(1), object(2)\n",
      "memory usage: 13.4+ MB\n"
     ]
    }
   ],
   "source": [
    "events.info()"
   ]
  },
  {
   "cell_type": "markdown",
   "metadata": {},
   "source": [
    "#### Пропуски в датафреймах"
   ]
  },
  {
   "cell_type": "code",
   "execution_count": 15,
   "metadata": {},
   "outputs": [
    {
     "data": {
      "text/plain": [
       "name         0\n",
       "regions      0\n",
       "start_dt     0\n",
       "finish_dt    0\n",
       "dtype: int64"
      ]
     },
     "execution_count": 15,
     "metadata": {},
     "output_type": "execute_result"
    }
   ],
   "source": [
    "#подсчет пропусков\n",
    "marketing_events.isna().sum()"
   ]
  },
  {
   "cell_type": "code",
   "execution_count": 16,
   "metadata": {},
   "outputs": [
    {
     "data": {
      "text/plain": [
       "user_id       0\n",
       "first_date    0\n",
       "region        0\n",
       "device        0\n",
       "dtype: int64"
      ]
     },
     "execution_count": 16,
     "metadata": {},
     "output_type": "execute_result"
    }
   ],
   "source": [
    "users.isna().sum()"
   ]
  },
  {
   "cell_type": "code",
   "execution_count": 17,
   "metadata": {},
   "outputs": [
    {
     "data": {
      "text/plain": [
       "user_id            0\n",
       "event_dt           0\n",
       "event_name         0\n",
       "details       377577\n",
       "dtype: int64"
      ]
     },
     "execution_count": 17,
     "metadata": {},
     "output_type": "execute_result"
    }
   ],
   "source": [
    "events.isna().sum()"
   ]
  },
  {
   "cell_type": "code",
   "execution_count": 18,
   "metadata": {},
   "outputs": [
    {
     "data": {
      "text/plain": [
       "user_id    0\n",
       "group      0\n",
       "ab_test    0\n",
       "dtype: int64"
      ]
     },
     "execution_count": 18,
     "metadata": {},
     "output_type": "execute_result"
    }
   ],
   "source": [
    "participants.isna().sum()"
   ]
  },
  {
   "cell_type": "code",
   "execution_count": 19,
   "metadata": {},
   "outputs": [
    {
     "data": {
      "text/html": [
       "<div>\n",
       "<style scoped>\n",
       "    .dataframe tbody tr th:only-of-type {\n",
       "        vertical-align: middle;\n",
       "    }\n",
       "\n",
       "    .dataframe tbody tr th {\n",
       "        vertical-align: top;\n",
       "    }\n",
       "\n",
       "    .dataframe thead th {\n",
       "        text-align: right;\n",
       "    }\n",
       "</style>\n",
       "<table border=\"1\" class=\"dataframe\">\n",
       "  <thead>\n",
       "    <tr style=\"text-align: right;\">\n",
       "      <th></th>\n",
       "      <th>user_id</th>\n",
       "      <th>event_dt</th>\n",
       "      <th>event_name</th>\n",
       "      <th>details</th>\n",
       "    </tr>\n",
       "  </thead>\n",
       "  <tbody>\n",
       "    <tr>\n",
       "      <th>0</th>\n",
       "      <td>E1BDDCE0DAFA2679</td>\n",
       "      <td>2020-12-07 20:22:03</td>\n",
       "      <td>purchase</td>\n",
       "      <td>99.99</td>\n",
       "    </tr>\n",
       "    <tr>\n",
       "      <th>1</th>\n",
       "      <td>7B6452F081F49504</td>\n",
       "      <td>2020-12-07 09:22:53</td>\n",
       "      <td>purchase</td>\n",
       "      <td>9.99</td>\n",
       "    </tr>\n",
       "    <tr>\n",
       "      <th>2</th>\n",
       "      <td>9CD9F34546DF254C</td>\n",
       "      <td>2020-12-07 12:59:29</td>\n",
       "      <td>purchase</td>\n",
       "      <td>4.99</td>\n",
       "    </tr>\n",
       "    <tr>\n",
       "      <th>3</th>\n",
       "      <td>96F27A054B191457</td>\n",
       "      <td>2020-12-07 04:02:40</td>\n",
       "      <td>purchase</td>\n",
       "      <td>4.99</td>\n",
       "    </tr>\n",
       "    <tr>\n",
       "      <th>4</th>\n",
       "      <td>1FD7660FDF94CA1F</td>\n",
       "      <td>2020-12-07 10:15:09</td>\n",
       "      <td>purchase</td>\n",
       "      <td>4.99</td>\n",
       "    </tr>\n",
       "  </tbody>\n",
       "</table>\n",
       "</div>"
      ],
      "text/plain": [
       "            user_id            event_dt event_name  details\n",
       "0  E1BDDCE0DAFA2679 2020-12-07 20:22:03   purchase    99.99\n",
       "1  7B6452F081F49504 2020-12-07 09:22:53   purchase     9.99\n",
       "2  9CD9F34546DF254C 2020-12-07 12:59:29   purchase     4.99\n",
       "3  96F27A054B191457 2020-12-07 04:02:40   purchase     4.99\n",
       "4  1FD7660FDF94CA1F 2020-12-07 10:15:09   purchase     4.99"
      ]
     },
     "execution_count": 19,
     "metadata": {},
     "output_type": "execute_result"
    }
   ],
   "source": [
    "events.head()"
   ]
  },
  {
   "cell_type": "code",
   "execution_count": 20,
   "metadata": {},
   "outputs": [
    {
     "data": {
      "text/plain": [
       "event_name\n",
       "login                 NaN\n",
       "product_cart          NaN\n",
       "product_page          NaN\n",
       "purchase        23.877631\n",
       "Name: details, dtype: float64"
      ]
     },
     "execution_count": 20,
     "metadata": {},
     "output_type": "execute_result"
    }
   ],
   "source": [
    "events.groupby('event_name')['details'].mean()"
   ]
  },
  {
   "cell_type": "markdown",
   "metadata": {},
   "source": [
    "Обнаружено очень много пропусков в датасете events столбец 'details'. Сгруппировав по столбцу 'details' видно, что данные заполнены только по типу события purchase, в этом поле хранится стоимость покупки в долларах, а остальные события не имеют стоимости, поэтому не заполнены. Для удобства заменим их нулями."
   ]
  },
  {
   "cell_type": "code",
   "execution_count": 21,
   "metadata": {},
   "outputs": [],
   "source": [
    "events.loc[events['details'].isna(), 'details'] = 0"
   ]
  },
  {
   "cell_type": "code",
   "execution_count": 22,
   "metadata": {},
   "outputs": [
    {
     "data": {
      "text/plain": [
       "user_id       0\n",
       "event_dt      0\n",
       "event_name    0\n",
       "details       0\n",
       "dtype: int64"
      ]
     },
     "execution_count": 22,
     "metadata": {},
     "output_type": "execute_result"
    }
   ],
   "source": [
    "events.isna().sum()"
   ]
  },
  {
   "cell_type": "markdown",
   "metadata": {},
   "source": [
    "Итак, пропущенные значения мы проработали."
   ]
  },
  {
   "cell_type": "markdown",
   "metadata": {},
   "source": [
    "#### Дубликаты в датафреймах"
   ]
  },
  {
   "cell_type": "markdown",
   "metadata": {},
   "source": [
    "Подсчитаем явные дубликаты."
   ]
  },
  {
   "cell_type": "code",
   "execution_count": 23,
   "metadata": {},
   "outputs": [
    {
     "data": {
      "text/plain": [
       "0"
      ]
     },
     "execution_count": 23,
     "metadata": {},
     "output_type": "execute_result"
    }
   ],
   "source": [
    "#подсчет явных дубликатов\n",
    "marketing_events.duplicated().sum()"
   ]
  },
  {
   "cell_type": "code",
   "execution_count": 24,
   "metadata": {},
   "outputs": [
    {
     "data": {
      "text/plain": [
       "0"
      ]
     },
     "execution_count": 24,
     "metadata": {},
     "output_type": "execute_result"
    }
   ],
   "source": [
    "users.duplicated().sum()"
   ]
  },
  {
   "cell_type": "code",
   "execution_count": 25,
   "metadata": {},
   "outputs": [
    {
     "data": {
      "text/plain": [
       "0"
      ]
     },
     "execution_count": 25,
     "metadata": {},
     "output_type": "execute_result"
    }
   ],
   "source": [
    "events.duplicated().sum()"
   ]
  },
  {
   "cell_type": "code",
   "execution_count": 26,
   "metadata": {},
   "outputs": [
    {
     "data": {
      "text/plain": [
       "0"
      ]
     },
     "execution_count": 26,
     "metadata": {},
     "output_type": "execute_result"
    }
   ],
   "source": [
    "participants.duplicated().sum()"
   ]
  },
  {
   "cell_type": "markdown",
   "metadata": {},
   "source": [
    "Таким образом, дубликатов в данных не обнаружено."
   ]
  },
  {
   "cell_type": "markdown",
   "metadata": {},
   "source": [
    "#### *Дополнительные проверки данных.*"
   ]
  },
  {
   "cell_type": "code",
   "execution_count": 27,
   "metadata": {},
   "outputs": [
    {
     "data": {
      "text/html": [
       "<div>\n",
       "<style scoped>\n",
       "    .dataframe tbody tr th:only-of-type {\n",
       "        vertical-align: middle;\n",
       "    }\n",
       "\n",
       "    .dataframe tbody tr th {\n",
       "        vertical-align: top;\n",
       "    }\n",
       "\n",
       "    .dataframe thead th {\n",
       "        text-align: right;\n",
       "    }\n",
       "</style>\n",
       "<table border=\"1\" class=\"dataframe\">\n",
       "  <thead>\n",
       "    <tr style=\"text-align: right;\">\n",
       "      <th></th>\n",
       "      <th>name</th>\n",
       "      <th>regions</th>\n",
       "      <th>start_dt</th>\n",
       "      <th>finish_dt</th>\n",
       "    </tr>\n",
       "  </thead>\n",
       "  <tbody>\n",
       "    <tr>\n",
       "      <th>0</th>\n",
       "      <td>Christmas&amp;New Year Promo</td>\n",
       "      <td>EU, N.America</td>\n",
       "      <td>2020-12-25</td>\n",
       "      <td>2021-01-03</td>\n",
       "    </tr>\n",
       "    <tr>\n",
       "      <th>1</th>\n",
       "      <td>St. Valentine's Day Giveaway</td>\n",
       "      <td>EU, CIS, APAC, N.America</td>\n",
       "      <td>2020-02-14</td>\n",
       "      <td>2020-02-16</td>\n",
       "    </tr>\n",
       "    <tr>\n",
       "      <th>2</th>\n",
       "      <td>St. Patric's Day Promo</td>\n",
       "      <td>EU, N.America</td>\n",
       "      <td>2020-03-17</td>\n",
       "      <td>2020-03-19</td>\n",
       "    </tr>\n",
       "    <tr>\n",
       "      <th>3</th>\n",
       "      <td>Easter Promo</td>\n",
       "      <td>EU, CIS, APAC, N.America</td>\n",
       "      <td>2020-04-12</td>\n",
       "      <td>2020-04-19</td>\n",
       "    </tr>\n",
       "    <tr>\n",
       "      <th>4</th>\n",
       "      <td>4th of July Promo</td>\n",
       "      <td>N.America</td>\n",
       "      <td>2020-07-04</td>\n",
       "      <td>2020-07-11</td>\n",
       "    </tr>\n",
       "  </tbody>\n",
       "</table>\n",
       "</div>"
      ],
      "text/plain": [
       "                           name                   regions   start_dt  \\\n",
       "0      Christmas&New Year Promo             EU, N.America 2020-12-25   \n",
       "1  St. Valentine's Day Giveaway  EU, CIS, APAC, N.America 2020-02-14   \n",
       "2        St. Patric's Day Promo             EU, N.America 2020-03-17   \n",
       "3                  Easter Promo  EU, CIS, APAC, N.America 2020-04-12   \n",
       "4             4th of July Promo                 N.America 2020-07-04   \n",
       "\n",
       "   finish_dt  \n",
       "0 2021-01-03  \n",
       "1 2020-02-16  \n",
       "2 2020-03-19  \n",
       "3 2020-04-19  \n",
       "4 2020-07-11  "
      ]
     },
     "execution_count": 27,
     "metadata": {},
     "output_type": "execute_result"
    }
   ],
   "source": [
    "marketing_events.head()"
   ]
  },
  {
   "cell_type": "code",
   "execution_count": 28,
   "metadata": {},
   "outputs": [
    {
     "data": {
      "text/html": [
       "<div>\n",
       "<style scoped>\n",
       "    .dataframe tbody tr th:only-of-type {\n",
       "        vertical-align: middle;\n",
       "    }\n",
       "\n",
       "    .dataframe tbody tr th {\n",
       "        vertical-align: top;\n",
       "    }\n",
       "\n",
       "    .dataframe thead th {\n",
       "        text-align: right;\n",
       "    }\n",
       "</style>\n",
       "<table border=\"1\" class=\"dataframe\">\n",
       "  <thead>\n",
       "    <tr style=\"text-align: right;\">\n",
       "      <th></th>\n",
       "      <th>user_id</th>\n",
       "      <th>first_date</th>\n",
       "      <th>region</th>\n",
       "      <th>device</th>\n",
       "    </tr>\n",
       "  </thead>\n",
       "  <tbody>\n",
       "    <tr>\n",
       "      <th>0</th>\n",
       "      <td>D72A72121175D8BE</td>\n",
       "      <td>2020-12-07</td>\n",
       "      <td>EU</td>\n",
       "      <td>PC</td>\n",
       "    </tr>\n",
       "    <tr>\n",
       "      <th>1</th>\n",
       "      <td>F1C668619DFE6E65</td>\n",
       "      <td>2020-12-07</td>\n",
       "      <td>N.America</td>\n",
       "      <td>Android</td>\n",
       "    </tr>\n",
       "    <tr>\n",
       "      <th>2</th>\n",
       "      <td>2E1BF1D4C37EA01F</td>\n",
       "      <td>2020-12-07</td>\n",
       "      <td>EU</td>\n",
       "      <td>PC</td>\n",
       "    </tr>\n",
       "    <tr>\n",
       "      <th>3</th>\n",
       "      <td>50734A22C0C63768</td>\n",
       "      <td>2020-12-07</td>\n",
       "      <td>EU</td>\n",
       "      <td>iPhone</td>\n",
       "    </tr>\n",
       "    <tr>\n",
       "      <th>4</th>\n",
       "      <td>E1BDDCE0DAFA2679</td>\n",
       "      <td>2020-12-07</td>\n",
       "      <td>N.America</td>\n",
       "      <td>iPhone</td>\n",
       "    </tr>\n",
       "  </tbody>\n",
       "</table>\n",
       "</div>"
      ],
      "text/plain": [
       "            user_id first_date     region   device\n",
       "0  D72A72121175D8BE 2020-12-07         EU       PC\n",
       "1  F1C668619DFE6E65 2020-12-07  N.America  Android\n",
       "2  2E1BF1D4C37EA01F 2020-12-07         EU       PC\n",
       "3  50734A22C0C63768 2020-12-07         EU   iPhone\n",
       "4  E1BDDCE0DAFA2679 2020-12-07  N.America   iPhone"
      ]
     },
     "execution_count": 28,
     "metadata": {},
     "output_type": "execute_result"
    }
   ],
   "source": [
    "users.head()"
   ]
  },
  {
   "cell_type": "code",
   "execution_count": 29,
   "metadata": {},
   "outputs": [
    {
     "data": {
      "text/html": [
       "<div>\n",
       "<style scoped>\n",
       "    .dataframe tbody tr th:only-of-type {\n",
       "        vertical-align: middle;\n",
       "    }\n",
       "\n",
       "    .dataframe tbody tr th {\n",
       "        vertical-align: top;\n",
       "    }\n",
       "\n",
       "    .dataframe thead th {\n",
       "        text-align: right;\n",
       "    }\n",
       "</style>\n",
       "<table border=\"1\" class=\"dataframe\">\n",
       "  <thead>\n",
       "    <tr style=\"text-align: right;\">\n",
       "      <th></th>\n",
       "      <th>user_id</th>\n",
       "      <th>event_dt</th>\n",
       "      <th>event_name</th>\n",
       "      <th>details</th>\n",
       "    </tr>\n",
       "  </thead>\n",
       "  <tbody>\n",
       "    <tr>\n",
       "      <th>0</th>\n",
       "      <td>E1BDDCE0DAFA2679</td>\n",
       "      <td>2020-12-07 20:22:03</td>\n",
       "      <td>purchase</td>\n",
       "      <td>99.99</td>\n",
       "    </tr>\n",
       "    <tr>\n",
       "      <th>1</th>\n",
       "      <td>7B6452F081F49504</td>\n",
       "      <td>2020-12-07 09:22:53</td>\n",
       "      <td>purchase</td>\n",
       "      <td>9.99</td>\n",
       "    </tr>\n",
       "    <tr>\n",
       "      <th>2</th>\n",
       "      <td>9CD9F34546DF254C</td>\n",
       "      <td>2020-12-07 12:59:29</td>\n",
       "      <td>purchase</td>\n",
       "      <td>4.99</td>\n",
       "    </tr>\n",
       "    <tr>\n",
       "      <th>3</th>\n",
       "      <td>96F27A054B191457</td>\n",
       "      <td>2020-12-07 04:02:40</td>\n",
       "      <td>purchase</td>\n",
       "      <td>4.99</td>\n",
       "    </tr>\n",
       "    <tr>\n",
       "      <th>4</th>\n",
       "      <td>1FD7660FDF94CA1F</td>\n",
       "      <td>2020-12-07 10:15:09</td>\n",
       "      <td>purchase</td>\n",
       "      <td>4.99</td>\n",
       "    </tr>\n",
       "  </tbody>\n",
       "</table>\n",
       "</div>"
      ],
      "text/plain": [
       "            user_id            event_dt event_name  details\n",
       "0  E1BDDCE0DAFA2679 2020-12-07 20:22:03   purchase    99.99\n",
       "1  7B6452F081F49504 2020-12-07 09:22:53   purchase     9.99\n",
       "2  9CD9F34546DF254C 2020-12-07 12:59:29   purchase     4.99\n",
       "3  96F27A054B191457 2020-12-07 04:02:40   purchase     4.99\n",
       "4  1FD7660FDF94CA1F 2020-12-07 10:15:09   purchase     4.99"
      ]
     },
     "execution_count": 29,
     "metadata": {},
     "output_type": "execute_result"
    }
   ],
   "source": [
    "events.head()"
   ]
  },
  {
   "cell_type": "code",
   "execution_count": 30,
   "metadata": {},
   "outputs": [
    {
     "data": {
      "text/html": [
       "<div>\n",
       "<style scoped>\n",
       "    .dataframe tbody tr th:only-of-type {\n",
       "        vertical-align: middle;\n",
       "    }\n",
       "\n",
       "    .dataframe tbody tr th {\n",
       "        vertical-align: top;\n",
       "    }\n",
       "\n",
       "    .dataframe thead th {\n",
       "        text-align: right;\n",
       "    }\n",
       "</style>\n",
       "<table border=\"1\" class=\"dataframe\">\n",
       "  <thead>\n",
       "    <tr style=\"text-align: right;\">\n",
       "      <th></th>\n",
       "      <th>user_id</th>\n",
       "      <th>group</th>\n",
       "      <th>ab_test</th>\n",
       "    </tr>\n",
       "  </thead>\n",
       "  <tbody>\n",
       "    <tr>\n",
       "      <th>0</th>\n",
       "      <td>D1ABA3E2887B6A73</td>\n",
       "      <td>A</td>\n",
       "      <td>recommender_system_test</td>\n",
       "    </tr>\n",
       "    <tr>\n",
       "      <th>1</th>\n",
       "      <td>A7A3664BD6242119</td>\n",
       "      <td>A</td>\n",
       "      <td>recommender_system_test</td>\n",
       "    </tr>\n",
       "    <tr>\n",
       "      <th>2</th>\n",
       "      <td>DABC14FDDFADD29E</td>\n",
       "      <td>A</td>\n",
       "      <td>recommender_system_test</td>\n",
       "    </tr>\n",
       "    <tr>\n",
       "      <th>3</th>\n",
       "      <td>04988C5DF189632E</td>\n",
       "      <td>A</td>\n",
       "      <td>recommender_system_test</td>\n",
       "    </tr>\n",
       "    <tr>\n",
       "      <th>4</th>\n",
       "      <td>482F14783456D21B</td>\n",
       "      <td>B</td>\n",
       "      <td>recommender_system_test</td>\n",
       "    </tr>\n",
       "  </tbody>\n",
       "</table>\n",
       "</div>"
      ],
      "text/plain": [
       "            user_id group                  ab_test\n",
       "0  D1ABA3E2887B6A73     A  recommender_system_test\n",
       "1  A7A3664BD6242119     A  recommender_system_test\n",
       "2  DABC14FDDFADD29E     A  recommender_system_test\n",
       "3  04988C5DF189632E     A  recommender_system_test\n",
       "4  482F14783456D21B     B  recommender_system_test"
      ]
     },
     "execution_count": 30,
     "metadata": {},
     "output_type": "execute_result"
    }
   ],
   "source": [
    "participants.head()"
   ]
  },
  {
   "cell_type": "markdown",
   "metadata": {},
   "source": [
    "#####  Категориальные переменные"
   ]
  },
  {
   "cell_type": "markdown",
   "metadata": {},
   "source": [
    "Проверим категориальные переменные на корректность их написание."
   ]
  },
  {
   "cell_type": "code",
   "execution_count": 31,
   "metadata": {},
   "outputs": [
    {
     "data": {
      "text/plain": [
       "Black Friday Ads Campaign           1\n",
       "Chinese Moon Festival               1\n",
       "International Women's Day Promo     1\n",
       "St. Valentine's Day Giveaway        1\n",
       "Labor day (May 1st) Ads Campaign    1\n",
       "Dragon Boat Festival Giveaway       1\n",
       "St. Patric's Day Promo              1\n",
       "CIS New Year Gift Lottery           1\n",
       "Single's Day Gift Promo             1\n",
       "4th of July Promo                   1\n",
       "Chinese New Year Promo              1\n",
       "Victory Day CIS (May 9th) Event     1\n",
       "Christmas&New Year Promo            1\n",
       "Easter Promo                        1\n",
       "Name: name, dtype: int64"
      ]
     },
     "execution_count": 31,
     "metadata": {},
     "output_type": "execute_result"
    }
   ],
   "source": [
    "marketing_events['name'].value_counts()"
   ]
  },
  {
   "cell_type": "code",
   "execution_count": 32,
   "metadata": {},
   "outputs": [
    {
     "data": {
      "text/plain": [
       "APAC                        4\n",
       "EU, CIS, APAC, N.America    3\n",
       "CIS                         2\n",
       "EU, N.America               2\n",
       "EU, CIS, APAC               2\n",
       "N.America                   1\n",
       "Name: regions, dtype: int64"
      ]
     },
     "execution_count": 32,
     "metadata": {},
     "output_type": "execute_result"
    }
   ],
   "source": [
    "marketing_events['regions'].value_counts()"
   ]
  },
  {
   "cell_type": "code",
   "execution_count": 33,
   "metadata": {},
   "outputs": [
    {
     "data": {
      "text/plain": [
       "EU           46270\n",
       "N.America     9155\n",
       "CIS           3155\n",
       "APAC          3153\n",
       "Name: region, dtype: int64"
      ]
     },
     "execution_count": 33,
     "metadata": {},
     "output_type": "execute_result"
    }
   ],
   "source": [
    "users['region'].value_counts()"
   ]
  },
  {
   "cell_type": "code",
   "execution_count": 34,
   "metadata": {},
   "outputs": [
    {
     "data": {
      "text/plain": [
       "Android    27520\n",
       "PC         15599\n",
       "iPhone     12530\n",
       "Mac         6084\n",
       "Name: device, dtype: int64"
      ]
     },
     "execution_count": 34,
     "metadata": {},
     "output_type": "execute_result"
    }
   ],
   "source": [
    "users['device'].value_counts()"
   ]
  },
  {
   "cell_type": "code",
   "execution_count": 35,
   "metadata": {},
   "outputs": [
    {
     "data": {
      "text/plain": [
       "login           189552\n",
       "product_page    125563\n",
       "purchase         62740\n",
       "product_cart     62462\n",
       "Name: event_name, dtype: int64"
      ]
     },
     "execution_count": 35,
     "metadata": {},
     "output_type": "execute_result"
    }
   ],
   "source": [
    "events['event_name'].value_counts()"
   ]
  },
  {
   "cell_type": "code",
   "execution_count": 36,
   "metadata": {},
   "outputs": [
    {
     "data": {
      "text/plain": [
       "A    9655\n",
       "B    8613\n",
       "Name: group, dtype: int64"
      ]
     },
     "execution_count": 36,
     "metadata": {},
     "output_type": "execute_result"
    }
   ],
   "source": [
    "participants['group'].value_counts()"
   ]
  },
  {
   "cell_type": "code",
   "execution_count": 37,
   "metadata": {},
   "outputs": [
    {
     "data": {
      "text/plain": [
       "interface_eu_test          11567\n",
       "recommender_system_test     6701\n",
       "Name: ab_test, dtype: int64"
      ]
     },
     "execution_count": 37,
     "metadata": {},
     "output_type": "execute_result"
    }
   ],
   "source": [
    "participants['ab_test'].value_counts()"
   ]
  },
  {
   "cell_type": "markdown",
   "metadata": {},
   "source": [
    "Проверка категорийных данных не обнаружело каких-либо описок или ошибок в них."
   ]
  },
  {
   "cell_type": "markdown",
   "metadata": {},
   "source": [
    "##### Численные данные."
   ]
  },
  {
   "cell_type": "markdown",
   "metadata": {},
   "source": [
    "Численными данными в данных датасетах будем считать информацию по датам - проверим их на наличие каких-то ошибок или аномалий"
   ]
  },
  {
   "cell_type": "markdown",
   "metadata": {},
   "source": [
    "Логично, что в датасете marketing_events столбец start_dt — дата начала кампании было раньше, чем столбец finish_dt — дата завершения кампании, поэтому оно должно быть меньше. Проверим: "
   ]
  },
  {
   "cell_type": "code",
   "execution_count": 38,
   "metadata": {},
   "outputs": [
    {
     "data": {
      "text/plain": [
       "name         0\n",
       "regions      0\n",
       "start_dt     0\n",
       "finish_dt    0\n",
       "dtype: int64"
      ]
     },
     "execution_count": 38,
     "metadata": {},
     "output_type": "execute_result"
    }
   ],
   "source": [
    "marketing_events[marketing_events['finish_dt']< marketing_events['start_dt']].count()"
   ]
  },
  {
   "cell_type": "markdown",
   "metadata": {},
   "source": [
    "Итак, аномалий в числовых данных не обнаружено."
   ]
  },
  {
   "cell_type": "markdown",
   "metadata": {},
   "source": [
    "Вывод по п.1:\n",
    "\n",
    "В данном пункте исследования были загружены основные данные и проведены следующие проверки:\n",
    "\n",
    "1) Переведены в тип дата:\n",
    "\n",
    "датасет marketing_events\n",
    "- 'start_dt' \n",
    "- 'finish_dt'\n",
    "\n",
    "датасет users\n",
    "- 'first_date'\n",
    "\n",
    "датасет events\n",
    "- 'event_dt'\n",
    "\n",
    "2) Обнаружено очень много пропусков в датасете events столбец 'details'. Сгруппировав по столбцу 'details' видно, что данные заполнены только по типу события purchase, в этом поле хранится стоимость покупки в долларах, а остальные события не имеют стоимости, поэтому не заполнены. Для удобства заменим их нулями.\n",
    "\n",
    "3) Проверка наличия явных дубликатов в данных их не обнаружела.\n",
    "\n",
    "4) Проверка категорийных и численных данных показала отсутсвие описок, ошибок или других аномалий.\n",
    "\n"
   ]
  },
  {
   "cell_type": "markdown",
   "metadata": {},
   "source": [
    "## Оценка корректность проведения теста."
   ]
  },
  {
   "cell_type": "markdown",
   "metadata": {},
   "source": [
    "Техническое задание\n",
    "\n",
    "- Название теста: recommender_system_test;\n",
    "- Группы: А (контрольная), B (новая платёжная воронка);\n",
    "- Дата запуска: 2020-12-07;\n",
    "- Дата остановки набора новых пользователей: 2020-12-21;\n",
    "- Дата остановки: 2021-01-04;\n",
    "- Аудитория: 15% новых пользователей из региона EU;\n",
    "- Назначение теста: тестирование изменений, связанных с внедрением улучшенной рекомендательной системы;\n",
    "- Ожидаемое количество участников теста: 6000.\n",
    "- Ожидаемый эффект: за 14 дней с момента регистрации в системе пользователи покажут улучшение каждой метрики не менее, чем на 10%:\n",
    "   - конверсии в просмотр карточек товаров — событие product_page\n",
    "   - просмотры корзины — product_cart\n",
    "   - покупки — purchase."
   ]
  },
  {
   "cell_type": "markdown",
   "metadata": {},
   "source": [
    "В данном пункте исследования необходимо проверить:\n",
    "\n",
    "- Соответствие данных требованиям технического задания. Проверьте корректность всех пунктов технического задания.\n",
    "- Время проведения теста. Убедитесь, что оно не совпадает с маркетинговыми и другими активностями.\n",
    "- Аудиторию теста. Удостоверьтесь, что нет пересечений с конкурирующим тестом и нет пользователей, участвующих в двух группах теста одновременно. Проверьте равномерность распределения пользователей по тестовым группам и правильность их формирования."
   ]
  },
  {
   "cell_type": "markdown",
   "metadata": {},
   "source": [
    "### Пересечение тестовой аудитории с конкурирующим тестом."
   ]
  },
  {
   "cell_type": "markdown",
   "metadata": {},
   "source": [
    "- Название теста: recommender_system_test."
   ]
  },
  {
   "cell_type": "code",
   "execution_count": 39,
   "metadata": {},
   "outputs": [
    {
     "data": {
      "text/plain": [
       "user_id    18268\n",
       "group      18268\n",
       "ab_test    18268\n",
       "dtype: int64"
      ]
     },
     "execution_count": 39,
     "metadata": {},
     "output_type": "execute_result"
    }
   ],
   "source": [
    "participants.count()"
   ]
  },
  {
   "cell_type": "markdown",
   "metadata": {},
   "source": [
    "Проверим пересечение тестовой аудитории с конкурирующим тестом."
   ]
  },
  {
   "cell_type": "code",
   "execution_count": 40,
   "metadata": {},
   "outputs": [
    {
     "data": {
      "text/html": [
       "<div>\n",
       "<style scoped>\n",
       "    .dataframe tbody tr th:only-of-type {\n",
       "        vertical-align: middle;\n",
       "    }\n",
       "\n",
       "    .dataframe tbody tr th {\n",
       "        vertical-align: top;\n",
       "    }\n",
       "\n",
       "    .dataframe thead th {\n",
       "        text-align: right;\n",
       "    }\n",
       "</style>\n",
       "<table border=\"1\" class=\"dataframe\">\n",
       "  <thead>\n",
       "    <tr style=\"text-align: right;\">\n",
       "      <th></th>\n",
       "      <th>user_id</th>\n",
       "      <th>group</th>\n",
       "      <th>ab_test</th>\n",
       "    </tr>\n",
       "  </thead>\n",
       "  <tbody>\n",
       "    <tr>\n",
       "      <th>0</th>\n",
       "      <td>D1ABA3E2887B6A73</td>\n",
       "      <td>A</td>\n",
       "      <td>recommender_system_test</td>\n",
       "    </tr>\n",
       "    <tr>\n",
       "      <th>1</th>\n",
       "      <td>A7A3664BD6242119</td>\n",
       "      <td>A</td>\n",
       "      <td>recommender_system_test</td>\n",
       "    </tr>\n",
       "    <tr>\n",
       "      <th>2</th>\n",
       "      <td>DABC14FDDFADD29E</td>\n",
       "      <td>A</td>\n",
       "      <td>recommender_system_test</td>\n",
       "    </tr>\n",
       "    <tr>\n",
       "      <th>3</th>\n",
       "      <td>04988C5DF189632E</td>\n",
       "      <td>A</td>\n",
       "      <td>recommender_system_test</td>\n",
       "    </tr>\n",
       "    <tr>\n",
       "      <th>4</th>\n",
       "      <td>482F14783456D21B</td>\n",
       "      <td>B</td>\n",
       "      <td>recommender_system_test</td>\n",
       "    </tr>\n",
       "  </tbody>\n",
       "</table>\n",
       "</div>"
      ],
      "text/plain": [
       "            user_id group                  ab_test\n",
       "0  D1ABA3E2887B6A73     A  recommender_system_test\n",
       "1  A7A3664BD6242119     A  recommender_system_test\n",
       "2  DABC14FDDFADD29E     A  recommender_system_test\n",
       "3  04988C5DF189632E     A  recommender_system_test\n",
       "4  482F14783456D21B     B  recommender_system_test"
      ]
     },
     "execution_count": 40,
     "metadata": {},
     "output_type": "execute_result"
    }
   ],
   "source": [
    "#выделим в датасет данные по тесту recommender_system_test\n",
    "rec_sys = participants.loc[participants['ab_test'] == 'recommender_system_test']\n",
    "rec_sys.head()"
   ]
  },
  {
   "cell_type": "code",
   "execution_count": 41,
   "metadata": {},
   "outputs": [
    {
     "data": {
      "text/html": [
       "<div>\n",
       "<style scoped>\n",
       "    .dataframe tbody tr th:only-of-type {\n",
       "        vertical-align: middle;\n",
       "    }\n",
       "\n",
       "    .dataframe tbody tr th {\n",
       "        vertical-align: top;\n",
       "    }\n",
       "\n",
       "    .dataframe thead th {\n",
       "        text-align: right;\n",
       "    }\n",
       "</style>\n",
       "<table border=\"1\" class=\"dataframe\">\n",
       "  <thead>\n",
       "    <tr style=\"text-align: right;\">\n",
       "      <th></th>\n",
       "      <th>user_id</th>\n",
       "      <th>group</th>\n",
       "      <th>ab_test</th>\n",
       "    </tr>\n",
       "  </thead>\n",
       "  <tbody>\n",
       "    <tr>\n",
       "      <th>6701</th>\n",
       "      <td>D4E530F6595A05A3</td>\n",
       "      <td>A</td>\n",
       "      <td>interface_eu_test</td>\n",
       "    </tr>\n",
       "    <tr>\n",
       "      <th>6702</th>\n",
       "      <td>773ECB64E45DEBAB</td>\n",
       "      <td>A</td>\n",
       "      <td>interface_eu_test</td>\n",
       "    </tr>\n",
       "    <tr>\n",
       "      <th>6703</th>\n",
       "      <td>6BCB0F33D3BAB8C2</td>\n",
       "      <td>A</td>\n",
       "      <td>interface_eu_test</td>\n",
       "    </tr>\n",
       "    <tr>\n",
       "      <th>6704</th>\n",
       "      <td>AABA4219186465C9</td>\n",
       "      <td>A</td>\n",
       "      <td>interface_eu_test</td>\n",
       "    </tr>\n",
       "    <tr>\n",
       "      <th>6705</th>\n",
       "      <td>2BA8FA8754D1FE50</td>\n",
       "      <td>B</td>\n",
       "      <td>interface_eu_test</td>\n",
       "    </tr>\n",
       "  </tbody>\n",
       "</table>\n",
       "</div>"
      ],
      "text/plain": [
       "               user_id group            ab_test\n",
       "6701  D4E530F6595A05A3     A  interface_eu_test\n",
       "6702  773ECB64E45DEBAB     A  interface_eu_test\n",
       "6703  6BCB0F33D3BAB8C2     A  interface_eu_test\n",
       "6704  AABA4219186465C9     A  interface_eu_test\n",
       "6705  2BA8FA8754D1FE50     B  interface_eu_test"
      ]
     },
     "execution_count": 41,
     "metadata": {},
     "output_type": "execute_result"
    }
   ],
   "source": [
    "#выделим в датасет данные по тесту interface_eu_test \n",
    "int_t = participants.loc[participants['ab_test'] != 'recommender_system_test']\n",
    "int_t.head()"
   ]
  },
  {
   "cell_type": "code",
   "execution_count": 42,
   "metadata": {},
   "outputs": [
    {
     "data": {
      "text/html": [
       "<div>\n",
       "<style scoped>\n",
       "    .dataframe tbody tr th:only-of-type {\n",
       "        vertical-align: middle;\n",
       "    }\n",
       "\n",
       "    .dataframe tbody tr th {\n",
       "        vertical-align: top;\n",
       "    }\n",
       "\n",
       "    .dataframe thead th {\n",
       "        text-align: right;\n",
       "    }\n",
       "</style>\n",
       "<table border=\"1\" class=\"dataframe\">\n",
       "  <thead>\n",
       "    <tr style=\"text-align: right;\">\n",
       "      <th></th>\n",
       "      <th>user_id</th>\n",
       "      <th>group_x</th>\n",
       "      <th>ab_test_x</th>\n",
       "      <th>group_y</th>\n",
       "      <th>ab_test_y</th>\n",
       "    </tr>\n",
       "  </thead>\n",
       "  <tbody>\n",
       "    <tr>\n",
       "      <th>0</th>\n",
       "      <td>DABC14FDDFADD29E</td>\n",
       "      <td>A</td>\n",
       "      <td>recommender_system_test</td>\n",
       "      <td>A</td>\n",
       "      <td>interface_eu_test</td>\n",
       "    </tr>\n",
       "    <tr>\n",
       "      <th>1</th>\n",
       "      <td>04988C5DF189632E</td>\n",
       "      <td>A</td>\n",
       "      <td>recommender_system_test</td>\n",
       "      <td>A</td>\n",
       "      <td>interface_eu_test</td>\n",
       "    </tr>\n",
       "    <tr>\n",
       "      <th>2</th>\n",
       "      <td>B3A2485649E4A012</td>\n",
       "      <td>A</td>\n",
       "      <td>recommender_system_test</td>\n",
       "      <td>A</td>\n",
       "      <td>interface_eu_test</td>\n",
       "    </tr>\n",
       "    <tr>\n",
       "      <th>3</th>\n",
       "      <td>EAFB9027A27D510C</td>\n",
       "      <td>B</td>\n",
       "      <td>recommender_system_test</td>\n",
       "      <td>A</td>\n",
       "      <td>interface_eu_test</td>\n",
       "    </tr>\n",
       "    <tr>\n",
       "      <th>4</th>\n",
       "      <td>5D5E6EE92AF6E9E0</td>\n",
       "      <td>B</td>\n",
       "      <td>recommender_system_test</td>\n",
       "      <td>B</td>\n",
       "      <td>interface_eu_test</td>\n",
       "    </tr>\n",
       "    <tr>\n",
       "      <th>...</th>\n",
       "      <td>...</td>\n",
       "      <td>...</td>\n",
       "      <td>...</td>\n",
       "      <td>...</td>\n",
       "      <td>...</td>\n",
       "    </tr>\n",
       "    <tr>\n",
       "      <th>1597</th>\n",
       "      <td>C2DC7B6881CE6E30</td>\n",
       "      <td>B</td>\n",
       "      <td>recommender_system_test</td>\n",
       "      <td>B</td>\n",
       "      <td>interface_eu_test</td>\n",
       "    </tr>\n",
       "    <tr>\n",
       "      <th>1598</th>\n",
       "      <td>EA29547AB3C0CB9C</td>\n",
       "      <td>B</td>\n",
       "      <td>recommender_system_test</td>\n",
       "      <td>A</td>\n",
       "      <td>interface_eu_test</td>\n",
       "    </tr>\n",
       "    <tr>\n",
       "      <th>1599</th>\n",
       "      <td>9A44E27079666291</td>\n",
       "      <td>B</td>\n",
       "      <td>recommender_system_test</td>\n",
       "      <td>A</td>\n",
       "      <td>interface_eu_test</td>\n",
       "    </tr>\n",
       "    <tr>\n",
       "      <th>1600</th>\n",
       "      <td>FA86D8DFAD3ADADE</td>\n",
       "      <td>A</td>\n",
       "      <td>recommender_system_test</td>\n",
       "      <td>A</td>\n",
       "      <td>interface_eu_test</td>\n",
       "    </tr>\n",
       "    <tr>\n",
       "      <th>1601</th>\n",
       "      <td>95401934D6D6D4FC</td>\n",
       "      <td>B</td>\n",
       "      <td>recommender_system_test</td>\n",
       "      <td>A</td>\n",
       "      <td>interface_eu_test</td>\n",
       "    </tr>\n",
       "  </tbody>\n",
       "</table>\n",
       "<p>1602 rows × 5 columns</p>\n",
       "</div>"
      ],
      "text/plain": [
       "               user_id group_x                ab_test_x group_y  \\\n",
       "0     DABC14FDDFADD29E       A  recommender_system_test       A   \n",
       "1     04988C5DF189632E       A  recommender_system_test       A   \n",
       "2     B3A2485649E4A012       A  recommender_system_test       A   \n",
       "3     EAFB9027A27D510C       B  recommender_system_test       A   \n",
       "4     5D5E6EE92AF6E9E0       B  recommender_system_test       B   \n",
       "...                ...     ...                      ...     ...   \n",
       "1597  C2DC7B6881CE6E30       B  recommender_system_test       B   \n",
       "1598  EA29547AB3C0CB9C       B  recommender_system_test       A   \n",
       "1599  9A44E27079666291       B  recommender_system_test       A   \n",
       "1600  FA86D8DFAD3ADADE       A  recommender_system_test       A   \n",
       "1601  95401934D6D6D4FC       B  recommender_system_test       A   \n",
       "\n",
       "              ab_test_y  \n",
       "0     interface_eu_test  \n",
       "1     interface_eu_test  \n",
       "2     interface_eu_test  \n",
       "3     interface_eu_test  \n",
       "4     interface_eu_test  \n",
       "...                 ...  \n",
       "1597  interface_eu_test  \n",
       "1598  interface_eu_test  \n",
       "1599  interface_eu_test  \n",
       "1600  interface_eu_test  \n",
       "1601  interface_eu_test  \n",
       "\n",
       "[1602 rows x 5 columns]"
      ]
     },
     "execution_count": 42,
     "metadata": {},
     "output_type": "execute_result"
    }
   ],
   "source": [
    "#найдем пересечение по пользователям в группах\n",
    "s1 = pd.merge(rec_sys, int_t, on=['user_id'], how='inner')\n",
    "s1"
   ]
  },
  {
   "cell_type": "markdown",
   "metadata": {},
   "source": [
    "Пересечение найдено - это 1602 строки в данных, где один пользователь попадает и в тест recommender_system_test и в тест nterface_eu_test. Так как эти два теста ялвются конкурирующими: оба связаны с интерфейсом, то наличие таких данных может искозить результат. Поэтому было принято решение: удалить данные по этим пользователям."
   ]
  },
  {
   "cell_type": "code",
   "execution_count": 43,
   "metadata": {},
   "outputs": [],
   "source": [
    "participants.drop(s1.index, axis=0, inplace=True)"
   ]
  },
  {
   "cell_type": "code",
   "execution_count": 44,
   "metadata": {},
   "outputs": [
    {
     "data": {
      "text/plain": [
       "user_id    16666\n",
       "group      16666\n",
       "ab_test    16666\n",
       "dtype: int64"
      ]
     },
     "execution_count": 44,
     "metadata": {},
     "output_type": "execute_result"
    }
   ],
   "source": [
    "\n",
    "participants.count()"
   ]
  },
  {
   "cell_type": "markdown",
   "metadata": {},
   "source": [
    "### Временные границы теста."
   ]
  },
  {
   "cell_type": "markdown",
   "metadata": {},
   "source": [
    "- Дата запуска: 2020-12-07;\n",
    "- Дата остановки набора новых пользователей: 2020-12-21;\n",
    "- Дата остановки: 2021-01-04;"
   ]
  },
  {
   "cell_type": "markdown",
   "metadata": {},
   "source": [
    "При определении длительности теста важно понимать, какие всплески активности бывают у вашей аудитории.\n",
    "Поэтому при анализе данного исследования необходимо учитывать возможные причины всплесков, в связи:\n",
    "- Выходные: 12, 13, 19, 20, 26, 27 декабря 2020 года. \n",
    "- Праздники: 1, 2, 3, 4 января 2021 года. Период для исследования выбран некорректно, целесообразнее было бы перенести его проведение после 10 января.\n",
    "- Маркетинговые активности (скидки увеличивают активность аудитории, меняя её покупательское поведение).\n",
    "\n",
    "Так же необходимо проверить, что:\n",
    " - период регистрации всех новых пользователей находится между 7 и 21 декабря 2020 года.\n",
    " - данные заканчиваются 4 января 2021 года.\n"
   ]
  },
  {
   "cell_type": "markdown",
   "metadata": {},
   "source": [
    "#### Маркетинговые активности."
   ]
  },
  {
   "cell_type": "markdown",
   "metadata": {},
   "source": [
    "Найдем периоды маркетинговых активностей и сосставим их с интервалом проведения теста."
   ]
  },
  {
   "cell_type": "code",
   "execution_count": 45,
   "metadata": {},
   "outputs": [
    {
     "data": {
      "text/html": [
       "<div>\n",
       "<style scoped>\n",
       "    .dataframe tbody tr th:only-of-type {\n",
       "        vertical-align: middle;\n",
       "    }\n",
       "\n",
       "    .dataframe tbody tr th {\n",
       "        vertical-align: top;\n",
       "    }\n",
       "\n",
       "    .dataframe thead th {\n",
       "        text-align: right;\n",
       "    }\n",
       "</style>\n",
       "<table border=\"1\" class=\"dataframe\">\n",
       "  <thead>\n",
       "    <tr style=\"text-align: right;\">\n",
       "      <th></th>\n",
       "      <th>name</th>\n",
       "      <th>regions</th>\n",
       "      <th>start_dt</th>\n",
       "      <th>finish_dt</th>\n",
       "    </tr>\n",
       "  </thead>\n",
       "  <tbody>\n",
       "    <tr>\n",
       "      <th>0</th>\n",
       "      <td>Christmas&amp;New Year Promo</td>\n",
       "      <td>EU, N.America</td>\n",
       "      <td>2020-12-25</td>\n",
       "      <td>2021-01-03</td>\n",
       "    </tr>\n",
       "    <tr>\n",
       "      <th>1</th>\n",
       "      <td>St. Valentine's Day Giveaway</td>\n",
       "      <td>EU, CIS, APAC, N.America</td>\n",
       "      <td>2020-02-14</td>\n",
       "      <td>2020-02-16</td>\n",
       "    </tr>\n",
       "    <tr>\n",
       "      <th>2</th>\n",
       "      <td>St. Patric's Day Promo</td>\n",
       "      <td>EU, N.America</td>\n",
       "      <td>2020-03-17</td>\n",
       "      <td>2020-03-19</td>\n",
       "    </tr>\n",
       "    <tr>\n",
       "      <th>3</th>\n",
       "      <td>Easter Promo</td>\n",
       "      <td>EU, CIS, APAC, N.America</td>\n",
       "      <td>2020-04-12</td>\n",
       "      <td>2020-04-19</td>\n",
       "    </tr>\n",
       "    <tr>\n",
       "      <th>4</th>\n",
       "      <td>4th of July Promo</td>\n",
       "      <td>N.America</td>\n",
       "      <td>2020-07-04</td>\n",
       "      <td>2020-07-11</td>\n",
       "    </tr>\n",
       "  </tbody>\n",
       "</table>\n",
       "</div>"
      ],
      "text/plain": [
       "                           name                   regions   start_dt  \\\n",
       "0      Christmas&New Year Promo             EU, N.America 2020-12-25   \n",
       "1  St. Valentine's Day Giveaway  EU, CIS, APAC, N.America 2020-02-14   \n",
       "2        St. Patric's Day Promo             EU, N.America 2020-03-17   \n",
       "3                  Easter Promo  EU, CIS, APAC, N.America 2020-04-12   \n",
       "4             4th of July Promo                 N.America 2020-07-04   \n",
       "\n",
       "   finish_dt  \n",
       "0 2021-01-03  \n",
       "1 2020-02-16  \n",
       "2 2020-03-19  \n",
       "3 2020-04-19  \n",
       "4 2020-07-11  "
      ]
     },
     "execution_count": 45,
     "metadata": {},
     "output_type": "execute_result"
    }
   ],
   "source": [
    "marketing_events.head()"
   ]
  },
  {
   "cell_type": "code",
   "execution_count": 46,
   "metadata": {},
   "outputs": [
    {
     "data": {
      "text/html": [
       "<div>\n",
       "<style scoped>\n",
       "    .dataframe tbody tr th:only-of-type {\n",
       "        vertical-align: middle;\n",
       "    }\n",
       "\n",
       "    .dataframe tbody tr th {\n",
       "        vertical-align: top;\n",
       "    }\n",
       "\n",
       "    .dataframe thead th {\n",
       "        text-align: right;\n",
       "    }\n",
       "</style>\n",
       "<table border=\"1\" class=\"dataframe\">\n",
       "  <thead>\n",
       "    <tr style=\"text-align: right;\">\n",
       "      <th></th>\n",
       "      <th></th>\n",
       "      <th>name</th>\n",
       "    </tr>\n",
       "    <tr>\n",
       "      <th>start_dt</th>\n",
       "      <th>finish_dt</th>\n",
       "      <th></th>\n",
       "    </tr>\n",
       "  </thead>\n",
       "  <tbody>\n",
       "    <tr>\n",
       "      <th>2020-01-25</th>\n",
       "      <th>2020-02-07</th>\n",
       "      <td>1</td>\n",
       "    </tr>\n",
       "    <tr>\n",
       "      <th>2020-02-14</th>\n",
       "      <th>2020-02-16</th>\n",
       "      <td>1</td>\n",
       "    </tr>\n",
       "    <tr>\n",
       "      <th>2020-03-08</th>\n",
       "      <th>2020-03-10</th>\n",
       "      <td>1</td>\n",
       "    </tr>\n",
       "    <tr>\n",
       "      <th>2020-03-17</th>\n",
       "      <th>2020-03-19</th>\n",
       "      <td>1</td>\n",
       "    </tr>\n",
       "    <tr>\n",
       "      <th>2020-04-12</th>\n",
       "      <th>2020-04-19</th>\n",
       "      <td>1</td>\n",
       "    </tr>\n",
       "    <tr>\n",
       "      <th>2020-05-01</th>\n",
       "      <th>2020-05-03</th>\n",
       "      <td>1</td>\n",
       "    </tr>\n",
       "    <tr>\n",
       "      <th>2020-05-09</th>\n",
       "      <th>2020-05-11</th>\n",
       "      <td>1</td>\n",
       "    </tr>\n",
       "    <tr>\n",
       "      <th>2020-06-25</th>\n",
       "      <th>2020-07-01</th>\n",
       "      <td>1</td>\n",
       "    </tr>\n",
       "    <tr>\n",
       "      <th>2020-07-04</th>\n",
       "      <th>2020-07-11</th>\n",
       "      <td>1</td>\n",
       "    </tr>\n",
       "    <tr>\n",
       "      <th>2020-10-01</th>\n",
       "      <th>2020-10-07</th>\n",
       "      <td>1</td>\n",
       "    </tr>\n",
       "    <tr>\n",
       "      <th>2020-11-11</th>\n",
       "      <th>2020-11-12</th>\n",
       "      <td>1</td>\n",
       "    </tr>\n",
       "    <tr>\n",
       "      <th>2020-11-26</th>\n",
       "      <th>2020-12-01</th>\n",
       "      <td>1</td>\n",
       "    </tr>\n",
       "    <tr>\n",
       "      <th>2020-12-25</th>\n",
       "      <th>2021-01-03</th>\n",
       "      <td>1</td>\n",
       "    </tr>\n",
       "    <tr>\n",
       "      <th>2020-12-30</th>\n",
       "      <th>2021-01-07</th>\n",
       "      <td>1</td>\n",
       "    </tr>\n",
       "  </tbody>\n",
       "</table>\n",
       "</div>"
      ],
      "text/plain": [
       "                       name\n",
       "start_dt   finish_dt       \n",
       "2020-01-25 2020-02-07     1\n",
       "2020-02-14 2020-02-16     1\n",
       "2020-03-08 2020-03-10     1\n",
       "2020-03-17 2020-03-19     1\n",
       "2020-04-12 2020-04-19     1\n",
       "2020-05-01 2020-05-03     1\n",
       "2020-05-09 2020-05-11     1\n",
       "2020-06-25 2020-07-01     1\n",
       "2020-07-04 2020-07-11     1\n",
       "2020-10-01 2020-10-07     1\n",
       "2020-11-11 2020-11-12     1\n",
       "2020-11-26 2020-12-01     1\n",
       "2020-12-25 2021-01-03     1\n",
       "2020-12-30 2021-01-07     1"
      ]
     },
     "execution_count": 46,
     "metadata": {},
     "output_type": "execute_result"
    }
   ],
   "source": [
    "marketing_events.groupby(['start_dt', 'finish_dt']).agg({'name':'nunique'})\n"
   ]
  },
  {
   "cell_type": "markdown",
   "metadata": {},
   "source": [
    "Видим, что в период проведения теста попали две маркетинговые активности: \n",
    "\n",
    "- 2020-12-25\t2021-01-03\n",
    "- 2020-12-30\t2021-01-07\n",
    "\n",
    "То есть, при анализе исследования нужно помнить, что в  период с 25.12.2020 по 04.01.2021  - проводились маркетинговые активности."
   ]
  },
  {
   "cell_type": "markdown",
   "metadata": {},
   "source": [
    "#### Периоды проведения теста."
   ]
  },
  {
   "cell_type": "markdown",
   "metadata": {},
   "source": [
    "- Проверим, что период регистрации всех новых пользователей находится между 7 и 21 декабря 2020 года."
   ]
  },
  {
   "cell_type": "code",
   "execution_count": 47,
   "metadata": {},
   "outputs": [
    {
     "data": {
      "text/html": [
       "<div>\n",
       "<style scoped>\n",
       "    .dataframe tbody tr th:only-of-type {\n",
       "        vertical-align: middle;\n",
       "    }\n",
       "\n",
       "    .dataframe tbody tr th {\n",
       "        vertical-align: top;\n",
       "    }\n",
       "\n",
       "    .dataframe thead th {\n",
       "        text-align: right;\n",
       "    }\n",
       "</style>\n",
       "<table border=\"1\" class=\"dataframe\">\n",
       "  <thead>\n",
       "    <tr style=\"text-align: right;\">\n",
       "      <th></th>\n",
       "      <th>user_id</th>\n",
       "      <th>first_date</th>\n",
       "      <th>region</th>\n",
       "      <th>device</th>\n",
       "    </tr>\n",
       "  </thead>\n",
       "  <tbody>\n",
       "    <tr>\n",
       "      <th>0</th>\n",
       "      <td>D72A72121175D8BE</td>\n",
       "      <td>2020-12-07</td>\n",
       "      <td>EU</td>\n",
       "      <td>PC</td>\n",
       "    </tr>\n",
       "    <tr>\n",
       "      <th>1</th>\n",
       "      <td>F1C668619DFE6E65</td>\n",
       "      <td>2020-12-07</td>\n",
       "      <td>N.America</td>\n",
       "      <td>Android</td>\n",
       "    </tr>\n",
       "    <tr>\n",
       "      <th>2</th>\n",
       "      <td>2E1BF1D4C37EA01F</td>\n",
       "      <td>2020-12-07</td>\n",
       "      <td>EU</td>\n",
       "      <td>PC</td>\n",
       "    </tr>\n",
       "    <tr>\n",
       "      <th>3</th>\n",
       "      <td>50734A22C0C63768</td>\n",
       "      <td>2020-12-07</td>\n",
       "      <td>EU</td>\n",
       "      <td>iPhone</td>\n",
       "    </tr>\n",
       "    <tr>\n",
       "      <th>4</th>\n",
       "      <td>E1BDDCE0DAFA2679</td>\n",
       "      <td>2020-12-07</td>\n",
       "      <td>N.America</td>\n",
       "      <td>iPhone</td>\n",
       "    </tr>\n",
       "  </tbody>\n",
       "</table>\n",
       "</div>"
      ],
      "text/plain": [
       "            user_id first_date     region   device\n",
       "0  D72A72121175D8BE 2020-12-07         EU       PC\n",
       "1  F1C668619DFE6E65 2020-12-07  N.America  Android\n",
       "2  2E1BF1D4C37EA01F 2020-12-07         EU       PC\n",
       "3  50734A22C0C63768 2020-12-07         EU   iPhone\n",
       "4  E1BDDCE0DAFA2679 2020-12-07  N.America   iPhone"
      ]
     },
     "execution_count": 47,
     "metadata": {},
     "output_type": "execute_result"
    }
   ],
   "source": [
    "users.head()"
   ]
  },
  {
   "cell_type": "code",
   "execution_count": 48,
   "metadata": {},
   "outputs": [
    {
     "data": {
      "text/plain": [
       "5263"
      ]
     },
     "execution_count": 48,
     "metadata": {},
     "output_type": "execute_result"
    }
   ],
   "source": [
    "#найдем пользователей, которые зарегистрировались после 21.12.2020г\n",
    "users.loc[users['first_date'] > '2020-12-21', 'user_id'].nunique()"
   ]
  },
  {
   "cell_type": "markdown",
   "metadata": {},
   "source": [
    "Обнаружено 5 263 пользователя, которые зарегистрировались после 21.12.2020г. Это достаточно большое колличество неоткорректированных данных, которые скорее всего искозят в дальнейшем результаты теста."
   ]
  },
  {
   "cell_type": "markdown",
   "metadata": {},
   "source": [
    "- Проверим, что данные заканчиваются 4 января 2021 года."
   ]
  },
  {
   "cell_type": "code",
   "execution_count": 49,
   "metadata": {},
   "outputs": [
    {
     "data": {
      "text/html": [
       "<div>\n",
       "<style scoped>\n",
       "    .dataframe tbody tr th:only-of-type {\n",
       "        vertical-align: middle;\n",
       "    }\n",
       "\n",
       "    .dataframe tbody tr th {\n",
       "        vertical-align: top;\n",
       "    }\n",
       "\n",
       "    .dataframe thead th {\n",
       "        text-align: right;\n",
       "    }\n",
       "</style>\n",
       "<table border=\"1\" class=\"dataframe\">\n",
       "  <thead>\n",
       "    <tr style=\"text-align: right;\">\n",
       "      <th></th>\n",
       "      <th>user_id</th>\n",
       "      <th>event_dt</th>\n",
       "      <th>event_name</th>\n",
       "      <th>details</th>\n",
       "    </tr>\n",
       "  </thead>\n",
       "  <tbody>\n",
       "    <tr>\n",
       "      <th>0</th>\n",
       "      <td>E1BDDCE0DAFA2679</td>\n",
       "      <td>2020-12-07 20:22:03</td>\n",
       "      <td>purchase</td>\n",
       "      <td>99.99</td>\n",
       "    </tr>\n",
       "    <tr>\n",
       "      <th>1</th>\n",
       "      <td>7B6452F081F49504</td>\n",
       "      <td>2020-12-07 09:22:53</td>\n",
       "      <td>purchase</td>\n",
       "      <td>9.99</td>\n",
       "    </tr>\n",
       "    <tr>\n",
       "      <th>2</th>\n",
       "      <td>9CD9F34546DF254C</td>\n",
       "      <td>2020-12-07 12:59:29</td>\n",
       "      <td>purchase</td>\n",
       "      <td>4.99</td>\n",
       "    </tr>\n",
       "    <tr>\n",
       "      <th>3</th>\n",
       "      <td>96F27A054B191457</td>\n",
       "      <td>2020-12-07 04:02:40</td>\n",
       "      <td>purchase</td>\n",
       "      <td>4.99</td>\n",
       "    </tr>\n",
       "    <tr>\n",
       "      <th>4</th>\n",
       "      <td>1FD7660FDF94CA1F</td>\n",
       "      <td>2020-12-07 10:15:09</td>\n",
       "      <td>purchase</td>\n",
       "      <td>4.99</td>\n",
       "    </tr>\n",
       "  </tbody>\n",
       "</table>\n",
       "</div>"
      ],
      "text/plain": [
       "            user_id            event_dt event_name  details\n",
       "0  E1BDDCE0DAFA2679 2020-12-07 20:22:03   purchase    99.99\n",
       "1  7B6452F081F49504 2020-12-07 09:22:53   purchase     9.99\n",
       "2  9CD9F34546DF254C 2020-12-07 12:59:29   purchase     4.99\n",
       "3  96F27A054B191457 2020-12-07 04:02:40   purchase     4.99\n",
       "4  1FD7660FDF94CA1F 2020-12-07 10:15:09   purchase     4.99"
      ]
     },
     "execution_count": 49,
     "metadata": {},
     "output_type": "execute_result"
    }
   ],
   "source": [
    "events.head()"
   ]
  },
  {
   "cell_type": "code",
   "execution_count": 50,
   "metadata": {},
   "outputs": [
    {
     "data": {
      "text/plain": [
       "0"
      ]
     },
     "execution_count": 50,
     "metadata": {},
     "output_type": "execute_result"
    }
   ],
   "source": [
    "events.loc[events['event_dt'] > '2021-01-04', 'user_id'].nunique()"
   ]
  },
  {
   "cell_type": "markdown",
   "metadata": {},
   "source": [
    "Итак, событий, превышающих время остановки теста не обнаружено."
   ]
  },
  {
   "cell_type": "markdown",
   "metadata": {},
   "source": [
    "### *Аудиторию теста*"
   ]
  },
  {
   "cell_type": "markdown",
   "metadata": {},
   "source": [
    "#### Пересечение в пользователях."
   ]
  },
  {
   "cell_type": "markdown",
   "metadata": {},
   "source": [
    "Проверим группы А и В на наличие пересечений в пользователях."
   ]
  },
  {
   "cell_type": "code",
   "execution_count": 52,
   "metadata": {},
   "outputs": [
    {
     "data": {
      "text/html": [
       "<div>\n",
       "<style scoped>\n",
       "    .dataframe tbody tr th:only-of-type {\n",
       "        vertical-align: middle;\n",
       "    }\n",
       "\n",
       "    .dataframe tbody tr th {\n",
       "        vertical-align: top;\n",
       "    }\n",
       "\n",
       "    .dataframe thead th {\n",
       "        text-align: right;\n",
       "    }\n",
       "</style>\n",
       "<table border=\"1\" class=\"dataframe\">\n",
       "  <thead>\n",
       "    <tr style=\"text-align: right;\">\n",
       "      <th></th>\n",
       "      <th>user_id</th>\n",
       "      <th>group</th>\n",
       "      <th>ab_test</th>\n",
       "    </tr>\n",
       "  </thead>\n",
       "  <tbody>\n",
       "    <tr>\n",
       "      <th>1602</th>\n",
       "      <td>526BA4A669CC6CC2</td>\n",
       "      <td>A</td>\n",
       "      <td>recommender_system_test</td>\n",
       "    </tr>\n",
       "    <tr>\n",
       "      <th>1603</th>\n",
       "      <td>D2D3509933B9D5F3</td>\n",
       "      <td>A</td>\n",
       "      <td>recommender_system_test</td>\n",
       "    </tr>\n",
       "    <tr>\n",
       "      <th>1604</th>\n",
       "      <td>D6A6592338A322B0</td>\n",
       "      <td>A</td>\n",
       "      <td>recommender_system_test</td>\n",
       "    </tr>\n",
       "    <tr>\n",
       "      <th>1605</th>\n",
       "      <td>95A9423B37553B4B</td>\n",
       "      <td>A</td>\n",
       "      <td>recommender_system_test</td>\n",
       "    </tr>\n",
       "    <tr>\n",
       "      <th>1606</th>\n",
       "      <td>822A4D7433FDF914</td>\n",
       "      <td>A</td>\n",
       "      <td>recommender_system_test</td>\n",
       "    </tr>\n",
       "  </tbody>\n",
       "</table>\n",
       "</div>"
      ],
      "text/plain": [
       "               user_id group                  ab_test\n",
       "1602  526BA4A669CC6CC2     A  recommender_system_test\n",
       "1603  D2D3509933B9D5F3     A  recommender_system_test\n",
       "1604  D6A6592338A322B0     A  recommender_system_test\n",
       "1605  95A9423B37553B4B     A  recommender_system_test\n",
       "1606  822A4D7433FDF914     A  recommender_system_test"
      ]
     },
     "execution_count": 52,
     "metadata": {},
     "output_type": "execute_result"
    }
   ],
   "source": [
    "#выделим в датасет данные по тесту recommender_system_test\n",
    "rec_sys_2 = participants.loc[participants['ab_test'] == 'recommender_system_test']\n",
    "rec_sys_2.head()"
   ]
  },
  {
   "cell_type": "code",
   "execution_count": 53,
   "metadata": {},
   "outputs": [
    {
     "data": {
      "text/html": [
       "<div>\n",
       "<style scoped>\n",
       "    .dataframe tbody tr th:only-of-type {\n",
       "        vertical-align: middle;\n",
       "    }\n",
       "\n",
       "    .dataframe tbody tr th {\n",
       "        vertical-align: top;\n",
       "    }\n",
       "\n",
       "    .dataframe thead th {\n",
       "        text-align: right;\n",
       "    }\n",
       "</style>\n",
       "<table border=\"1\" class=\"dataframe\">\n",
       "  <thead>\n",
       "    <tr style=\"text-align: right;\">\n",
       "      <th></th>\n",
       "      <th>user_id</th>\n",
       "      <th>group</th>\n",
       "      <th>ab_test</th>\n",
       "    </tr>\n",
       "  </thead>\n",
       "  <tbody>\n",
       "    <tr>\n",
       "      <th>1602</th>\n",
       "      <td>526BA4A669CC6CC2</td>\n",
       "      <td>A</td>\n",
       "      <td>recommender_system_test</td>\n",
       "    </tr>\n",
       "    <tr>\n",
       "      <th>1603</th>\n",
       "      <td>D2D3509933B9D5F3</td>\n",
       "      <td>A</td>\n",
       "      <td>recommender_system_test</td>\n",
       "    </tr>\n",
       "    <tr>\n",
       "      <th>1604</th>\n",
       "      <td>D6A6592338A322B0</td>\n",
       "      <td>A</td>\n",
       "      <td>recommender_system_test</td>\n",
       "    </tr>\n",
       "    <tr>\n",
       "      <th>1605</th>\n",
       "      <td>95A9423B37553B4B</td>\n",
       "      <td>A</td>\n",
       "      <td>recommender_system_test</td>\n",
       "    </tr>\n",
       "    <tr>\n",
       "      <th>1606</th>\n",
       "      <td>822A4D7433FDF914</td>\n",
       "      <td>A</td>\n",
       "      <td>recommender_system_test</td>\n",
       "    </tr>\n",
       "  </tbody>\n",
       "</table>\n",
       "</div>"
      ],
      "text/plain": [
       "               user_id group                  ab_test\n",
       "1602  526BA4A669CC6CC2     A  recommender_system_test\n",
       "1603  D2D3509933B9D5F3     A  recommender_system_test\n",
       "1604  D6A6592338A322B0     A  recommender_system_test\n",
       "1605  95A9423B37553B4B     A  recommender_system_test\n",
       "1606  822A4D7433FDF914     A  recommender_system_test"
      ]
     },
     "metadata": {},
     "output_type": "display_data"
    },
    {
     "data": {
      "text/html": [
       "<div>\n",
       "<style scoped>\n",
       "    .dataframe tbody tr th:only-of-type {\n",
       "        vertical-align: middle;\n",
       "    }\n",
       "\n",
       "    .dataframe tbody tr th {\n",
       "        vertical-align: top;\n",
       "    }\n",
       "\n",
       "    .dataframe thead th {\n",
       "        text-align: right;\n",
       "    }\n",
       "</style>\n",
       "<table border=\"1\" class=\"dataframe\">\n",
       "  <thead>\n",
       "    <tr style=\"text-align: right;\">\n",
       "      <th></th>\n",
       "      <th>user_id</th>\n",
       "      <th>group</th>\n",
       "      <th>ab_test</th>\n",
       "    </tr>\n",
       "  </thead>\n",
       "  <tbody>\n",
       "    <tr>\n",
       "      <th>1608</th>\n",
       "      <td>75895B243932CA83</td>\n",
       "      <td>B</td>\n",
       "      <td>recommender_system_test</td>\n",
       "    </tr>\n",
       "    <tr>\n",
       "      <th>1610</th>\n",
       "      <td>95641DE55C19FB61</td>\n",
       "      <td>B</td>\n",
       "      <td>recommender_system_test</td>\n",
       "    </tr>\n",
       "    <tr>\n",
       "      <th>1611</th>\n",
       "      <td>58413BED951516D5</td>\n",
       "      <td>B</td>\n",
       "      <td>recommender_system_test</td>\n",
       "    </tr>\n",
       "    <tr>\n",
       "      <th>1618</th>\n",
       "      <td>6DEEABA508AAD2A7</td>\n",
       "      <td>B</td>\n",
       "      <td>recommender_system_test</td>\n",
       "    </tr>\n",
       "    <tr>\n",
       "      <th>1619</th>\n",
       "      <td>29535733A8B8C27A</td>\n",
       "      <td>B</td>\n",
       "      <td>recommender_system_test</td>\n",
       "    </tr>\n",
       "  </tbody>\n",
       "</table>\n",
       "</div>"
      ],
      "text/plain": [
       "               user_id group                  ab_test\n",
       "1608  75895B243932CA83     B  recommender_system_test\n",
       "1610  95641DE55C19FB61     B  recommender_system_test\n",
       "1611  58413BED951516D5     B  recommender_system_test\n",
       "1618  6DEEABA508AAD2A7     B  recommender_system_test\n",
       "1619  29535733A8B8C27A     B  recommender_system_test"
      ]
     },
     "metadata": {},
     "output_type": "display_data"
    }
   ],
   "source": [
    "#разделим общий датафрейм по группам А и В\n",
    "rec_sysA = rec_sys_2.loc[rec_sys['group'] == 'A']\n",
    "rec_sysB = rec_sys_2.loc[rec_sys['group'] != 'A']\n",
    "display(rec_sysA.head())\n",
    "display(rec_sysB.head())"
   ]
  },
  {
   "cell_type": "code",
   "execution_count": 54,
   "metadata": {},
   "outputs": [
    {
     "data": {
      "text/html": [
       "<div>\n",
       "<style scoped>\n",
       "    .dataframe tbody tr th:only-of-type {\n",
       "        vertical-align: middle;\n",
       "    }\n",
       "\n",
       "    .dataframe tbody tr th {\n",
       "        vertical-align: top;\n",
       "    }\n",
       "\n",
       "    .dataframe thead th {\n",
       "        text-align: right;\n",
       "    }\n",
       "</style>\n",
       "<table border=\"1\" class=\"dataframe\">\n",
       "  <thead>\n",
       "    <tr style=\"text-align: right;\">\n",
       "      <th></th>\n",
       "      <th>user_id</th>\n",
       "      <th>group_x</th>\n",
       "      <th>ab_test_x</th>\n",
       "      <th>group_y</th>\n",
       "      <th>ab_test_y</th>\n",
       "    </tr>\n",
       "  </thead>\n",
       "  <tbody>\n",
       "  </tbody>\n",
       "</table>\n",
       "</div>"
      ],
      "text/plain": [
       "Empty DataFrame\n",
       "Columns: [user_id, group_x, ab_test_x, group_y, ab_test_y]\n",
       "Index: []"
      ]
     },
     "execution_count": 54,
     "metadata": {},
     "output_type": "execute_result"
    }
   ],
   "source": [
    "#найдем пересечение по пользователям в группах\n",
    "s2 = pd.merge(rec_sysA, rec_sysB, on=['user_id'], how='inner')\n",
    "s2"
   ]
  },
  {
   "cell_type": "markdown",
   "metadata": {},
   "source": [
    "Пересечение пользователей Группы: А (контрольная), B (новая платёжная воронка) не обнаружено."
   ]
  },
  {
   "cell_type": "markdown",
   "metadata": {},
   "source": [
    "#### Аудитория из региона EU."
   ]
  },
  {
   "cell_type": "markdown",
   "metadata": {},
   "source": [
    "- Аудитория: 15% новых пользователей из региона EU - проверим этот пункт ТЗ;"
   ]
  },
  {
   "cell_type": "code",
   "execution_count": 55,
   "metadata": {},
   "outputs": [
    {
     "data": {
      "text/html": [
       "<div>\n",
       "<style scoped>\n",
       "    .dataframe tbody tr th:only-of-type {\n",
       "        vertical-align: middle;\n",
       "    }\n",
       "\n",
       "    .dataframe tbody tr th {\n",
       "        vertical-align: top;\n",
       "    }\n",
       "\n",
       "    .dataframe thead th {\n",
       "        text-align: right;\n",
       "    }\n",
       "</style>\n",
       "<table border=\"1\" class=\"dataframe\">\n",
       "  <thead>\n",
       "    <tr style=\"text-align: right;\">\n",
       "      <th></th>\n",
       "      <th>user_id</th>\n",
       "      <th>group</th>\n",
       "      <th>ab_test</th>\n",
       "    </tr>\n",
       "  </thead>\n",
       "  <tbody>\n",
       "    <tr>\n",
       "      <th>1602</th>\n",
       "      <td>526BA4A669CC6CC2</td>\n",
       "      <td>A</td>\n",
       "      <td>recommender_system_test</td>\n",
       "    </tr>\n",
       "    <tr>\n",
       "      <th>1603</th>\n",
       "      <td>D2D3509933B9D5F3</td>\n",
       "      <td>A</td>\n",
       "      <td>recommender_system_test</td>\n",
       "    </tr>\n",
       "    <tr>\n",
       "      <th>1604</th>\n",
       "      <td>D6A6592338A322B0</td>\n",
       "      <td>A</td>\n",
       "      <td>recommender_system_test</td>\n",
       "    </tr>\n",
       "    <tr>\n",
       "      <th>1605</th>\n",
       "      <td>95A9423B37553B4B</td>\n",
       "      <td>A</td>\n",
       "      <td>recommender_system_test</td>\n",
       "    </tr>\n",
       "    <tr>\n",
       "      <th>1606</th>\n",
       "      <td>822A4D7433FDF914</td>\n",
       "      <td>A</td>\n",
       "      <td>recommender_system_test</td>\n",
       "    </tr>\n",
       "  </tbody>\n",
       "</table>\n",
       "</div>"
      ],
      "text/plain": [
       "               user_id group                  ab_test\n",
       "1602  526BA4A669CC6CC2     A  recommender_system_test\n",
       "1603  D2D3509933B9D5F3     A  recommender_system_test\n",
       "1604  D6A6592338A322B0     A  recommender_system_test\n",
       "1605  95A9423B37553B4B     A  recommender_system_test\n",
       "1606  822A4D7433FDF914     A  recommender_system_test"
      ]
     },
     "execution_count": 55,
     "metadata": {},
     "output_type": "execute_result"
    }
   ],
   "source": [
    "#датасет с пользователями теста recommender_system_test\n",
    "rec_sys_2.head()"
   ]
  },
  {
   "cell_type": "code",
   "execution_count": 56,
   "metadata": {},
   "outputs": [
    {
     "data": {
      "text/html": [
       "<div>\n",
       "<style scoped>\n",
       "    .dataframe tbody tr th:only-of-type {\n",
       "        vertical-align: middle;\n",
       "    }\n",
       "\n",
       "    .dataframe tbody tr th {\n",
       "        vertical-align: top;\n",
       "    }\n",
       "\n",
       "    .dataframe thead th {\n",
       "        text-align: right;\n",
       "    }\n",
       "</style>\n",
       "<table border=\"1\" class=\"dataframe\">\n",
       "  <thead>\n",
       "    <tr style=\"text-align: right;\">\n",
       "      <th></th>\n",
       "      <th>user_id</th>\n",
       "      <th>first_date</th>\n",
       "      <th>region</th>\n",
       "      <th>device</th>\n",
       "    </tr>\n",
       "  </thead>\n",
       "  <tbody>\n",
       "    <tr>\n",
       "      <th>0</th>\n",
       "      <td>D72A72121175D8BE</td>\n",
       "      <td>2020-12-07</td>\n",
       "      <td>EU</td>\n",
       "      <td>PC</td>\n",
       "    </tr>\n",
       "    <tr>\n",
       "      <th>1</th>\n",
       "      <td>F1C668619DFE6E65</td>\n",
       "      <td>2020-12-07</td>\n",
       "      <td>N.America</td>\n",
       "      <td>Android</td>\n",
       "    </tr>\n",
       "    <tr>\n",
       "      <th>2</th>\n",
       "      <td>2E1BF1D4C37EA01F</td>\n",
       "      <td>2020-12-07</td>\n",
       "      <td>EU</td>\n",
       "      <td>PC</td>\n",
       "    </tr>\n",
       "    <tr>\n",
       "      <th>3</th>\n",
       "      <td>50734A22C0C63768</td>\n",
       "      <td>2020-12-07</td>\n",
       "      <td>EU</td>\n",
       "      <td>iPhone</td>\n",
       "    </tr>\n",
       "    <tr>\n",
       "      <th>4</th>\n",
       "      <td>E1BDDCE0DAFA2679</td>\n",
       "      <td>2020-12-07</td>\n",
       "      <td>N.America</td>\n",
       "      <td>iPhone</td>\n",
       "    </tr>\n",
       "  </tbody>\n",
       "</table>\n",
       "</div>"
      ],
      "text/plain": [
       "            user_id first_date     region   device\n",
       "0  D72A72121175D8BE 2020-12-07         EU       PC\n",
       "1  F1C668619DFE6E65 2020-12-07  N.America  Android\n",
       "2  2E1BF1D4C37EA01F 2020-12-07         EU       PC\n",
       "3  50734A22C0C63768 2020-12-07         EU   iPhone\n",
       "4  E1BDDCE0DAFA2679 2020-12-07  N.America   iPhone"
      ]
     },
     "execution_count": 56,
     "metadata": {},
     "output_type": "execute_result"
    }
   ],
   "source": [
    "users.head()"
   ]
  },
  {
   "cell_type": "code",
   "execution_count": 57,
   "metadata": {},
   "outputs": [
    {
     "data": {
      "text/html": [
       "<div>\n",
       "<style scoped>\n",
       "    .dataframe tbody tr th:only-of-type {\n",
       "        vertical-align: middle;\n",
       "    }\n",
       "\n",
       "    .dataframe tbody tr th {\n",
       "        vertical-align: top;\n",
       "    }\n",
       "\n",
       "    .dataframe thead th {\n",
       "        text-align: right;\n",
       "    }\n",
       "</style>\n",
       "<table border=\"1\" class=\"dataframe\">\n",
       "  <thead>\n",
       "    <tr style=\"text-align: right;\">\n",
       "      <th></th>\n",
       "      <th>user_id</th>\n",
       "      <th>group</th>\n",
       "      <th>ab_test</th>\n",
       "      <th>first_date</th>\n",
       "      <th>region</th>\n",
       "      <th>device</th>\n",
       "    </tr>\n",
       "  </thead>\n",
       "  <tbody>\n",
       "    <tr>\n",
       "      <th>0</th>\n",
       "      <td>526BA4A669CC6CC2</td>\n",
       "      <td>A</td>\n",
       "      <td>recommender_system_test</td>\n",
       "      <td>2020-12-21</td>\n",
       "      <td>EU</td>\n",
       "      <td>Mac</td>\n",
       "    </tr>\n",
       "    <tr>\n",
       "      <th>1</th>\n",
       "      <td>D2D3509933B9D5F3</td>\n",
       "      <td>A</td>\n",
       "      <td>recommender_system_test</td>\n",
       "      <td>2020-12-21</td>\n",
       "      <td>EU</td>\n",
       "      <td>iPhone</td>\n",
       "    </tr>\n",
       "    <tr>\n",
       "      <th>2</th>\n",
       "      <td>D6A6592338A322B0</td>\n",
       "      <td>A</td>\n",
       "      <td>recommender_system_test</td>\n",
       "      <td>2020-12-13</td>\n",
       "      <td>EU</td>\n",
       "      <td>Android</td>\n",
       "    </tr>\n",
       "    <tr>\n",
       "      <th>3</th>\n",
       "      <td>95A9423B37553B4B</td>\n",
       "      <td>A</td>\n",
       "      <td>recommender_system_test</td>\n",
       "      <td>2020-12-07</td>\n",
       "      <td>EU</td>\n",
       "      <td>Android</td>\n",
       "    </tr>\n",
       "    <tr>\n",
       "      <th>4</th>\n",
       "      <td>822A4D7433FDF914</td>\n",
       "      <td>A</td>\n",
       "      <td>recommender_system_test</td>\n",
       "      <td>2020-12-10</td>\n",
       "      <td>EU</td>\n",
       "      <td>Android</td>\n",
       "    </tr>\n",
       "  </tbody>\n",
       "</table>\n",
       "</div>"
      ],
      "text/plain": [
       "            user_id group                  ab_test first_date region   device\n",
       "0  526BA4A669CC6CC2     A  recommender_system_test 2020-12-21     EU      Mac\n",
       "1  D2D3509933B9D5F3     A  recommender_system_test 2020-12-21     EU   iPhone\n",
       "2  D6A6592338A322B0     A  recommender_system_test 2020-12-13     EU  Android\n",
       "3  95A9423B37553B4B     A  recommender_system_test 2020-12-07     EU  Android\n",
       "4  822A4D7433FDF914     A  recommender_system_test 2020-12-10     EU  Android"
      ]
     },
     "execution_count": 57,
     "metadata": {},
     "output_type": "execute_result"
    }
   ],
   "source": [
    "#объединим датасеты по тесту recommender_system_test и пользователей\n",
    "test_new_users = rec_sys_2.merge(users, on = 'user_id', how = 'left')\n",
    "test_new_users.head()"
   ]
  },
  {
   "cell_type": "code",
   "execution_count": 58,
   "metadata": {},
   "outputs": [
    {
     "data": {
      "text/plain": [
       "42340"
      ]
     },
     "execution_count": 58,
     "metadata": {},
     "output_type": "execute_result"
    }
   ],
   "source": [
    "#в датасете пользоваталей выделим пользователей, \n",
    "#зарегистрированных в период с 7 по 21 декабря и из региона EU\n",
    "users.loc[(users['region'] == 'EU') & (users['first_date'] <= '2020-12-21'),'user_id'].count()"
   ]
  },
  {
   "cell_type": "code",
   "execution_count": 59,
   "metadata": {},
   "outputs": [
    {
     "data": {
      "text/plain": [
       "4749"
      ]
     },
     "execution_count": 59,
     "metadata": {},
     "output_type": "execute_result"
    }
   ],
   "source": [
    "#в датасете по тесту recommender_system_test находим пользователей из региона EU\n",
    "test_new_users.loc[test_new_users['region'] == 'EU','user_id'].count()"
   ]
  },
  {
   "cell_type": "code",
   "execution_count": 60,
   "metadata": {},
   "outputs": [
    {
     "data": {
      "text/plain": [
       "10.263669764426194"
      ]
     },
     "execution_count": 60,
     "metadata": {},
     "output_type": "execute_result"
    }
   ],
   "source": [
    "#находим фактическую долю пользователей из региона EU в тесте recommender_system_test \n",
    "#в общем кол-ве таких пользователей  \n",
    "(test_new_users.loc[test_new_users['region'] == 'EU','user_id'].count() /\\\n",
    "users.loc[users['region'] == 'EU','user_id'].count())*100"
   ]
  },
  {
   "cell_type": "markdown",
   "metadata": {},
   "source": [
    "Согласно расчетам данных: аудитория новых пользователей из региона EU составила 10%, а не 15%, как было заявлено в ТЗ."
   ]
  },
  {
   "cell_type": "markdown",
   "metadata": {},
   "source": [
    "#### Ожидаемое количество участников теста."
   ]
  },
  {
   "cell_type": "markdown",
   "metadata": {},
   "source": [
    "- Ожидаемое количество участников теста: 6000 - проверим согласно данным."
   ]
  },
  {
   "cell_type": "code",
   "execution_count": 64,
   "metadata": {},
   "outputs": [
    {
     "data": {
      "text/html": [
       "<div>\n",
       "<style scoped>\n",
       "    .dataframe tbody tr th:only-of-type {\n",
       "        vertical-align: middle;\n",
       "    }\n",
       "\n",
       "    .dataframe tbody tr th {\n",
       "        vertical-align: top;\n",
       "    }\n",
       "\n",
       "    .dataframe thead th {\n",
       "        text-align: right;\n",
       "    }\n",
       "</style>\n",
       "<table border=\"1\" class=\"dataframe\">\n",
       "  <thead>\n",
       "    <tr style=\"text-align: right;\">\n",
       "      <th></th>\n",
       "      <th>user_id</th>\n",
       "      <th>group</th>\n",
       "      <th>ab_test</th>\n",
       "      <th>first_date</th>\n",
       "      <th>region</th>\n",
       "      <th>device</th>\n",
       "    </tr>\n",
       "  </thead>\n",
       "  <tbody>\n",
       "    <tr>\n",
       "      <th>0</th>\n",
       "      <td>526BA4A669CC6CC2</td>\n",
       "      <td>A</td>\n",
       "      <td>recommender_system_test</td>\n",
       "      <td>2020-12-21</td>\n",
       "      <td>EU</td>\n",
       "      <td>Mac</td>\n",
       "    </tr>\n",
       "    <tr>\n",
       "      <th>1</th>\n",
       "      <td>D2D3509933B9D5F3</td>\n",
       "      <td>A</td>\n",
       "      <td>recommender_system_test</td>\n",
       "      <td>2020-12-21</td>\n",
       "      <td>EU</td>\n",
       "      <td>iPhone</td>\n",
       "    </tr>\n",
       "    <tr>\n",
       "      <th>2</th>\n",
       "      <td>D6A6592338A322B0</td>\n",
       "      <td>A</td>\n",
       "      <td>recommender_system_test</td>\n",
       "      <td>2020-12-13</td>\n",
       "      <td>EU</td>\n",
       "      <td>Android</td>\n",
       "    </tr>\n",
       "    <tr>\n",
       "      <th>3</th>\n",
       "      <td>95A9423B37553B4B</td>\n",
       "      <td>A</td>\n",
       "      <td>recommender_system_test</td>\n",
       "      <td>2020-12-07</td>\n",
       "      <td>EU</td>\n",
       "      <td>Android</td>\n",
       "    </tr>\n",
       "    <tr>\n",
       "      <th>4</th>\n",
       "      <td>822A4D7433FDF914</td>\n",
       "      <td>A</td>\n",
       "      <td>recommender_system_test</td>\n",
       "      <td>2020-12-10</td>\n",
       "      <td>EU</td>\n",
       "      <td>Android</td>\n",
       "    </tr>\n",
       "  </tbody>\n",
       "</table>\n",
       "</div>"
      ],
      "text/plain": [
       "            user_id group                  ab_test first_date region   device\n",
       "0  526BA4A669CC6CC2     A  recommender_system_test 2020-12-21     EU      Mac\n",
       "1  D2D3509933B9D5F3     A  recommender_system_test 2020-12-21     EU   iPhone\n",
       "2  D6A6592338A322B0     A  recommender_system_test 2020-12-13     EU  Android\n",
       "3  95A9423B37553B4B     A  recommender_system_test 2020-12-07     EU  Android\n",
       "4  822A4D7433FDF914     A  recommender_system_test 2020-12-10     EU  Android"
      ]
     },
     "execution_count": 64,
     "metadata": {},
     "output_type": "execute_result"
    }
   ],
   "source": [
    "#датасет новых пользователей теста recommender_system_test\n",
    "test_new_users.head()"
   ]
  },
  {
   "cell_type": "code",
   "execution_count": 65,
   "metadata": {},
   "outputs": [
    {
     "data": {
      "text/html": [
       "<div>\n",
       "<style scoped>\n",
       "    .dataframe tbody tr th:only-of-type {\n",
       "        vertical-align: middle;\n",
       "    }\n",
       "\n",
       "    .dataframe tbody tr th {\n",
       "        vertical-align: top;\n",
       "    }\n",
       "\n",
       "    .dataframe thead th {\n",
       "        text-align: right;\n",
       "    }\n",
       "</style>\n",
       "<table border=\"1\" class=\"dataframe\">\n",
       "  <thead>\n",
       "    <tr style=\"text-align: right;\">\n",
       "      <th></th>\n",
       "      <th>user_id</th>\n",
       "      <th>group</th>\n",
       "      <th>ab_test</th>\n",
       "      <th>first_date</th>\n",
       "      <th>region</th>\n",
       "      <th>device</th>\n",
       "      <th>event_dt</th>\n",
       "      <th>event_name</th>\n",
       "      <th>details</th>\n",
       "    </tr>\n",
       "  </thead>\n",
       "  <tbody>\n",
       "    <tr>\n",
       "      <th>0</th>\n",
       "      <td>526BA4A669CC6CC2</td>\n",
       "      <td>A</td>\n",
       "      <td>recommender_system_test</td>\n",
       "      <td>2020-12-21</td>\n",
       "      <td>EU</td>\n",
       "      <td>Mac</td>\n",
       "      <td>2020-12-21 05:00:29</td>\n",
       "      <td>product_cart</td>\n",
       "      <td>0.0</td>\n",
       "    </tr>\n",
       "    <tr>\n",
       "      <th>1</th>\n",
       "      <td>526BA4A669CC6CC2</td>\n",
       "      <td>A</td>\n",
       "      <td>recommender_system_test</td>\n",
       "      <td>2020-12-21</td>\n",
       "      <td>EU</td>\n",
       "      <td>Mac</td>\n",
       "      <td>2020-12-23 09:46:55</td>\n",
       "      <td>product_cart</td>\n",
       "      <td>0.0</td>\n",
       "    </tr>\n",
       "    <tr>\n",
       "      <th>2</th>\n",
       "      <td>526BA4A669CC6CC2</td>\n",
       "      <td>A</td>\n",
       "      <td>recommender_system_test</td>\n",
       "      <td>2020-12-21</td>\n",
       "      <td>EU</td>\n",
       "      <td>Mac</td>\n",
       "      <td>2020-12-21 05:00:25</td>\n",
       "      <td>login</td>\n",
       "      <td>0.0</td>\n",
       "    </tr>\n",
       "    <tr>\n",
       "      <th>3</th>\n",
       "      <td>526BA4A669CC6CC2</td>\n",
       "      <td>A</td>\n",
       "      <td>recommender_system_test</td>\n",
       "      <td>2020-12-21</td>\n",
       "      <td>EU</td>\n",
       "      <td>Mac</td>\n",
       "      <td>2020-12-23 09:46:53</td>\n",
       "      <td>login</td>\n",
       "      <td>0.0</td>\n",
       "    </tr>\n",
       "    <tr>\n",
       "      <th>4</th>\n",
       "      <td>D2D3509933B9D5F3</td>\n",
       "      <td>A</td>\n",
       "      <td>recommender_system_test</td>\n",
       "      <td>2020-12-21</td>\n",
       "      <td>EU</td>\n",
       "      <td>iPhone</td>\n",
       "      <td>2020-12-21 20:32:41</td>\n",
       "      <td>product_cart</td>\n",
       "      <td>0.0</td>\n",
       "    </tr>\n",
       "  </tbody>\n",
       "</table>\n",
       "</div>"
      ],
      "text/plain": [
       "            user_id group                  ab_test first_date region  device  \\\n",
       "0  526BA4A669CC6CC2     A  recommender_system_test 2020-12-21     EU     Mac   \n",
       "1  526BA4A669CC6CC2     A  recommender_system_test 2020-12-21     EU     Mac   \n",
       "2  526BA4A669CC6CC2     A  recommender_system_test 2020-12-21     EU     Mac   \n",
       "3  526BA4A669CC6CC2     A  recommender_system_test 2020-12-21     EU     Mac   \n",
       "4  D2D3509933B9D5F3     A  recommender_system_test 2020-12-21     EU  iPhone   \n",
       "\n",
       "             event_dt    event_name  details  \n",
       "0 2020-12-21 05:00:29  product_cart      0.0  \n",
       "1 2020-12-23 09:46:55  product_cart      0.0  \n",
       "2 2020-12-21 05:00:25         login      0.0  \n",
       "3 2020-12-23 09:46:53         login      0.0  \n",
       "4 2020-12-21 20:32:41  product_cart      0.0  "
      ]
     },
     "execution_count": 65,
     "metadata": {},
     "output_type": "execute_result"
    }
   ],
   "source": [
    "#объединим новых пользователей теста recommender_system_test с их событиями\n",
    "test_new_users_ev = test_new_users.merge(events, on = 'user_id', how = 'left')\n",
    "test_new_users_ev.head()"
   ]
  },
  {
   "cell_type": "code",
   "execution_count": 66,
   "metadata": {},
   "outputs": [
    {
     "data": {
      "text/html": [
       "<div>\n",
       "<style scoped>\n",
       "    .dataframe tbody tr th:only-of-type {\n",
       "        vertical-align: middle;\n",
       "    }\n",
       "\n",
       "    .dataframe tbody tr th {\n",
       "        vertical-align: top;\n",
       "    }\n",
       "\n",
       "    .dataframe thead th {\n",
       "        text-align: right;\n",
       "    }\n",
       "</style>\n",
       "<table border=\"1\" class=\"dataframe\">\n",
       "  <thead>\n",
       "    <tr style=\"text-align: right;\">\n",
       "      <th></th>\n",
       "      <th>user_id</th>\n",
       "      <th>group</th>\n",
       "      <th>ab_test</th>\n",
       "      <th>first_date</th>\n",
       "      <th>region</th>\n",
       "      <th>device</th>\n",
       "      <th>event_dt</th>\n",
       "      <th>event_name</th>\n",
       "      <th>details</th>\n",
       "      <th>first_date_14day</th>\n",
       "    </tr>\n",
       "  </thead>\n",
       "  <tbody>\n",
       "    <tr>\n",
       "      <th>0</th>\n",
       "      <td>526BA4A669CC6CC2</td>\n",
       "      <td>A</td>\n",
       "      <td>recommender_system_test</td>\n",
       "      <td>2020-12-21</td>\n",
       "      <td>EU</td>\n",
       "      <td>Mac</td>\n",
       "      <td>2020-12-21 05:00:29</td>\n",
       "      <td>product_cart</td>\n",
       "      <td>0.0</td>\n",
       "      <td>2021-01-04</td>\n",
       "    </tr>\n",
       "    <tr>\n",
       "      <th>1</th>\n",
       "      <td>526BA4A669CC6CC2</td>\n",
       "      <td>A</td>\n",
       "      <td>recommender_system_test</td>\n",
       "      <td>2020-12-21</td>\n",
       "      <td>EU</td>\n",
       "      <td>Mac</td>\n",
       "      <td>2020-12-23 09:46:55</td>\n",
       "      <td>product_cart</td>\n",
       "      <td>0.0</td>\n",
       "      <td>2021-01-04</td>\n",
       "    </tr>\n",
       "    <tr>\n",
       "      <th>2</th>\n",
       "      <td>526BA4A669CC6CC2</td>\n",
       "      <td>A</td>\n",
       "      <td>recommender_system_test</td>\n",
       "      <td>2020-12-21</td>\n",
       "      <td>EU</td>\n",
       "      <td>Mac</td>\n",
       "      <td>2020-12-21 05:00:25</td>\n",
       "      <td>login</td>\n",
       "      <td>0.0</td>\n",
       "      <td>2021-01-04</td>\n",
       "    </tr>\n",
       "    <tr>\n",
       "      <th>3</th>\n",
       "      <td>526BA4A669CC6CC2</td>\n",
       "      <td>A</td>\n",
       "      <td>recommender_system_test</td>\n",
       "      <td>2020-12-21</td>\n",
       "      <td>EU</td>\n",
       "      <td>Mac</td>\n",
       "      <td>2020-12-23 09:46:53</td>\n",
       "      <td>login</td>\n",
       "      <td>0.0</td>\n",
       "      <td>2021-01-04</td>\n",
       "    </tr>\n",
       "    <tr>\n",
       "      <th>4</th>\n",
       "      <td>D2D3509933B9D5F3</td>\n",
       "      <td>A</td>\n",
       "      <td>recommender_system_test</td>\n",
       "      <td>2020-12-21</td>\n",
       "      <td>EU</td>\n",
       "      <td>iPhone</td>\n",
       "      <td>2020-12-21 20:32:41</td>\n",
       "      <td>product_cart</td>\n",
       "      <td>0.0</td>\n",
       "      <td>2021-01-04</td>\n",
       "    </tr>\n",
       "  </tbody>\n",
       "</table>\n",
       "</div>"
      ],
      "text/plain": [
       "            user_id group                  ab_test first_date region  device  \\\n",
       "0  526BA4A669CC6CC2     A  recommender_system_test 2020-12-21     EU     Mac   \n",
       "1  526BA4A669CC6CC2     A  recommender_system_test 2020-12-21     EU     Mac   \n",
       "2  526BA4A669CC6CC2     A  recommender_system_test 2020-12-21     EU     Mac   \n",
       "3  526BA4A669CC6CC2     A  recommender_system_test 2020-12-21     EU     Mac   \n",
       "4  D2D3509933B9D5F3     A  recommender_system_test 2020-12-21     EU  iPhone   \n",
       "\n",
       "             event_dt    event_name  details first_date_14day  \n",
       "0 2020-12-21 05:00:29  product_cart      0.0       2021-01-04  \n",
       "1 2020-12-23 09:46:55  product_cart      0.0       2021-01-04  \n",
       "2 2020-12-21 05:00:25         login      0.0       2021-01-04  \n",
       "3 2020-12-23 09:46:53         login      0.0       2021-01-04  \n",
       "4 2020-12-21 20:32:41  product_cart      0.0       2021-01-04  "
      ]
     },
     "execution_count": 66,
     "metadata": {},
     "output_type": "execute_result"
    }
   ],
   "source": [
    "#выделим столбец first_date_14day - дата 14 дней после регистрации\n",
    "test_new_users_ev['first_date_14day'] = test_new_users_ev['first_date'] +timedelta(days=14)\n",
    "test_new_users_ev.head()"
   ]
  },
  {
   "cell_type": "code",
   "execution_count": 67,
   "metadata": {},
   "outputs": [
    {
     "data": {
      "text/html": [
       "<div>\n",
       "<style scoped>\n",
       "    .dataframe tbody tr th:only-of-type {\n",
       "        vertical-align: middle;\n",
       "    }\n",
       "\n",
       "    .dataframe tbody tr th {\n",
       "        vertical-align: top;\n",
       "    }\n",
       "\n",
       "    .dataframe thead th {\n",
       "        text-align: right;\n",
       "    }\n",
       "</style>\n",
       "<table border=\"1\" class=\"dataframe\">\n",
       "  <thead>\n",
       "    <tr style=\"text-align: right;\">\n",
       "      <th></th>\n",
       "      <th>user_id</th>\n",
       "      <th>group</th>\n",
       "      <th>ab_test</th>\n",
       "      <th>first_date</th>\n",
       "      <th>region</th>\n",
       "      <th>device</th>\n",
       "      <th>event_dt</th>\n",
       "      <th>event_name</th>\n",
       "      <th>details</th>\n",
       "      <th>first_date_14day</th>\n",
       "    </tr>\n",
       "  </thead>\n",
       "  <tbody>\n",
       "    <tr>\n",
       "      <th>0</th>\n",
       "      <td>526BA4A669CC6CC2</td>\n",
       "      <td>A</td>\n",
       "      <td>recommender_system_test</td>\n",
       "      <td>2020-12-21</td>\n",
       "      <td>EU</td>\n",
       "      <td>Mac</td>\n",
       "      <td>2020-12-21 05:00:29</td>\n",
       "      <td>product_cart</td>\n",
       "      <td>0.0</td>\n",
       "      <td>2021-01-04</td>\n",
       "    </tr>\n",
       "    <tr>\n",
       "      <th>1</th>\n",
       "      <td>526BA4A669CC6CC2</td>\n",
       "      <td>A</td>\n",
       "      <td>recommender_system_test</td>\n",
       "      <td>2020-12-21</td>\n",
       "      <td>EU</td>\n",
       "      <td>Mac</td>\n",
       "      <td>2020-12-23 09:46:55</td>\n",
       "      <td>product_cart</td>\n",
       "      <td>0.0</td>\n",
       "      <td>2021-01-04</td>\n",
       "    </tr>\n",
       "    <tr>\n",
       "      <th>2</th>\n",
       "      <td>526BA4A669CC6CC2</td>\n",
       "      <td>A</td>\n",
       "      <td>recommender_system_test</td>\n",
       "      <td>2020-12-21</td>\n",
       "      <td>EU</td>\n",
       "      <td>Mac</td>\n",
       "      <td>2020-12-21 05:00:25</td>\n",
       "      <td>login</td>\n",
       "      <td>0.0</td>\n",
       "      <td>2021-01-04</td>\n",
       "    </tr>\n",
       "    <tr>\n",
       "      <th>3</th>\n",
       "      <td>526BA4A669CC6CC2</td>\n",
       "      <td>A</td>\n",
       "      <td>recommender_system_test</td>\n",
       "      <td>2020-12-21</td>\n",
       "      <td>EU</td>\n",
       "      <td>Mac</td>\n",
       "      <td>2020-12-23 09:46:53</td>\n",
       "      <td>login</td>\n",
       "      <td>0.0</td>\n",
       "      <td>2021-01-04</td>\n",
       "    </tr>\n",
       "    <tr>\n",
       "      <th>4</th>\n",
       "      <td>D2D3509933B9D5F3</td>\n",
       "      <td>A</td>\n",
       "      <td>recommender_system_test</td>\n",
       "      <td>2020-12-21</td>\n",
       "      <td>EU</td>\n",
       "      <td>iPhone</td>\n",
       "      <td>2020-12-21 20:32:41</td>\n",
       "      <td>product_cart</td>\n",
       "      <td>0.0</td>\n",
       "      <td>2021-01-04</td>\n",
       "    </tr>\n",
       "  </tbody>\n",
       "</table>\n",
       "</div>"
      ],
      "text/plain": [
       "            user_id group                  ab_test first_date region  device  \\\n",
       "0  526BA4A669CC6CC2     A  recommender_system_test 2020-12-21     EU     Mac   \n",
       "1  526BA4A669CC6CC2     A  recommender_system_test 2020-12-21     EU     Mac   \n",
       "2  526BA4A669CC6CC2     A  recommender_system_test 2020-12-21     EU     Mac   \n",
       "3  526BA4A669CC6CC2     A  recommender_system_test 2020-12-21     EU     Mac   \n",
       "4  D2D3509933B9D5F3     A  recommender_system_test 2020-12-21     EU  iPhone   \n",
       "\n",
       "             event_dt    event_name  details first_date_14day  \n",
       "0 2020-12-21 05:00:29  product_cart      0.0       2021-01-04  \n",
       "1 2020-12-23 09:46:55  product_cart      0.0       2021-01-04  \n",
       "2 2020-12-21 05:00:25         login      0.0       2021-01-04  \n",
       "3 2020-12-23 09:46:53         login      0.0       2021-01-04  \n",
       "4 2020-12-21 20:32:41  product_cart      0.0       2021-01-04  "
      ]
     },
     "execution_count": 67,
     "metadata": {},
     "output_type": "execute_result"
    }
   ],
   "source": [
    "#найдем количество пользователей, события которых совершены не позже, чем через 14 дней \n",
    "#после их регистрации\n",
    "test_new_users_ev = test_new_users_ev.loc[test_new_users_ev['event_dt'] <= test_new_users_ev['first_date_14day']]\n",
    "test_new_users_ev.head()"
   ]
  },
  {
   "cell_type": "code",
   "execution_count": 68,
   "metadata": {},
   "outputs": [
    {
     "data": {
      "text/plain": [
       "2815"
      ]
     },
     "metadata": {},
     "output_type": "display_data"
    }
   ],
   "source": [
    "display((test_new_users_ev['user_id']).nunique())"
   ]
  },
  {
   "cell_type": "code",
   "execution_count": 69,
   "metadata": {},
   "outputs": [
    {
     "data": {
      "text/plain": [
       "3185"
      ]
     },
     "execution_count": 69,
     "metadata": {},
     "output_type": "execute_result"
    }
   ],
   "source": [
    "6000 - (test_new_users_ev.loc[test_new_users_ev['event_dt']\\\n",
    "                               <= test_new_users_ev['first_date_14day'], 'user_id']).nunique()"
   ]
  },
  {
   "cell_type": "markdown",
   "metadata": {},
   "source": [
    "Количество участников теста составило 2815 человек - это на 3185 человек меньше ожидаемого."
   ]
  },
  {
   "cell_type": "markdown",
   "metadata": {},
   "source": [
    "### Распределения событий по тестовым группам"
   ]
  },
  {
   "cell_type": "markdown",
   "metadata": {},
   "source": [
    "#### Количество событий на пользователя."
   ]
  },
  {
   "cell_type": "code",
   "execution_count": 70,
   "metadata": {},
   "outputs": [
    {
     "data": {
      "text/html": [
       "<div>\n",
       "<style scoped>\n",
       "    .dataframe tbody tr th:only-of-type {\n",
       "        vertical-align: middle;\n",
       "    }\n",
       "\n",
       "    .dataframe tbody tr th {\n",
       "        vertical-align: top;\n",
       "    }\n",
       "\n",
       "    .dataframe thead th {\n",
       "        text-align: right;\n",
       "    }\n",
       "</style>\n",
       "<table border=\"1\" class=\"dataframe\">\n",
       "  <thead>\n",
       "    <tr style=\"text-align: right;\">\n",
       "      <th></th>\n",
       "      <th>user_id</th>\n",
       "      <th>group</th>\n",
       "      <th>ab_test</th>\n",
       "    </tr>\n",
       "  </thead>\n",
       "  <tbody>\n",
       "    <tr>\n",
       "      <th>1602</th>\n",
       "      <td>526BA4A669CC6CC2</td>\n",
       "      <td>A</td>\n",
       "      <td>recommender_system_test</td>\n",
       "    </tr>\n",
       "    <tr>\n",
       "      <th>1603</th>\n",
       "      <td>D2D3509933B9D5F3</td>\n",
       "      <td>A</td>\n",
       "      <td>recommender_system_test</td>\n",
       "    </tr>\n",
       "    <tr>\n",
       "      <th>1604</th>\n",
       "      <td>D6A6592338A322B0</td>\n",
       "      <td>A</td>\n",
       "      <td>recommender_system_test</td>\n",
       "    </tr>\n",
       "    <tr>\n",
       "      <th>1605</th>\n",
       "      <td>95A9423B37553B4B</td>\n",
       "      <td>A</td>\n",
       "      <td>recommender_system_test</td>\n",
       "    </tr>\n",
       "    <tr>\n",
       "      <th>1606</th>\n",
       "      <td>822A4D7433FDF914</td>\n",
       "      <td>A</td>\n",
       "      <td>recommender_system_test</td>\n",
       "    </tr>\n",
       "  </tbody>\n",
       "</table>\n",
       "</div>"
      ],
      "text/plain": [
       "               user_id group                  ab_test\n",
       "1602  526BA4A669CC6CC2     A  recommender_system_test\n",
       "1603  D2D3509933B9D5F3     A  recommender_system_test\n",
       "1604  D6A6592338A322B0     A  recommender_system_test\n",
       "1605  95A9423B37553B4B     A  recommender_system_test\n",
       "1606  822A4D7433FDF914     A  recommender_system_test"
      ]
     },
     "execution_count": 70,
     "metadata": {},
     "output_type": "execute_result"
    }
   ],
   "source": [
    "rec_sys_2.head()"
   ]
  },
  {
   "cell_type": "code",
   "execution_count": 71,
   "metadata": {},
   "outputs": [
    {
     "data": {
      "text/html": [
       "<div>\n",
       "<style scoped>\n",
       "    .dataframe tbody tr th:only-of-type {\n",
       "        vertical-align: middle;\n",
       "    }\n",
       "\n",
       "    .dataframe tbody tr th {\n",
       "        vertical-align: top;\n",
       "    }\n",
       "\n",
       "    .dataframe thead th {\n",
       "        text-align: right;\n",
       "    }\n",
       "</style>\n",
       "<table border=\"1\" class=\"dataframe\">\n",
       "  <thead>\n",
       "    <tr style=\"text-align: right;\">\n",
       "      <th></th>\n",
       "      <th>user_id</th>\n",
       "      <th>event_dt</th>\n",
       "      <th>event_name</th>\n",
       "      <th>details</th>\n",
       "    </tr>\n",
       "  </thead>\n",
       "  <tbody>\n",
       "    <tr>\n",
       "      <th>0</th>\n",
       "      <td>E1BDDCE0DAFA2679</td>\n",
       "      <td>2020-12-07 20:22:03</td>\n",
       "      <td>purchase</td>\n",
       "      <td>99.99</td>\n",
       "    </tr>\n",
       "    <tr>\n",
       "      <th>1</th>\n",
       "      <td>7B6452F081F49504</td>\n",
       "      <td>2020-12-07 09:22:53</td>\n",
       "      <td>purchase</td>\n",
       "      <td>9.99</td>\n",
       "    </tr>\n",
       "    <tr>\n",
       "      <th>2</th>\n",
       "      <td>9CD9F34546DF254C</td>\n",
       "      <td>2020-12-07 12:59:29</td>\n",
       "      <td>purchase</td>\n",
       "      <td>4.99</td>\n",
       "    </tr>\n",
       "    <tr>\n",
       "      <th>3</th>\n",
       "      <td>96F27A054B191457</td>\n",
       "      <td>2020-12-07 04:02:40</td>\n",
       "      <td>purchase</td>\n",
       "      <td>4.99</td>\n",
       "    </tr>\n",
       "    <tr>\n",
       "      <th>4</th>\n",
       "      <td>1FD7660FDF94CA1F</td>\n",
       "      <td>2020-12-07 10:15:09</td>\n",
       "      <td>purchase</td>\n",
       "      <td>4.99</td>\n",
       "    </tr>\n",
       "  </tbody>\n",
       "</table>\n",
       "</div>"
      ],
      "text/plain": [
       "            user_id            event_dt event_name  details\n",
       "0  E1BDDCE0DAFA2679 2020-12-07 20:22:03   purchase    99.99\n",
       "1  7B6452F081F49504 2020-12-07 09:22:53   purchase     9.99\n",
       "2  9CD9F34546DF254C 2020-12-07 12:59:29   purchase     4.99\n",
       "3  96F27A054B191457 2020-12-07 04:02:40   purchase     4.99\n",
       "4  1FD7660FDF94CA1F 2020-12-07 10:15:09   purchase     4.99"
      ]
     },
     "execution_count": 71,
     "metadata": {},
     "output_type": "execute_result"
    }
   ],
   "source": [
    "events.head()"
   ]
  },
  {
   "cell_type": "code",
   "execution_count": 72,
   "metadata": {},
   "outputs": [
    {
     "data": {
      "text/html": [
       "<div>\n",
       "<style scoped>\n",
       "    .dataframe tbody tr th:only-of-type {\n",
       "        vertical-align: middle;\n",
       "    }\n",
       "\n",
       "    .dataframe tbody tr th {\n",
       "        vertical-align: top;\n",
       "    }\n",
       "\n",
       "    .dataframe thead th {\n",
       "        text-align: right;\n",
       "    }\n",
       "</style>\n",
       "<table border=\"1\" class=\"dataframe\">\n",
       "  <thead>\n",
       "    <tr style=\"text-align: right;\">\n",
       "      <th></th>\n",
       "      <th>user_id</th>\n",
       "      <th>group</th>\n",
       "      <th>ab_test</th>\n",
       "      <th>event_dt</th>\n",
       "      <th>event_name</th>\n",
       "      <th>details</th>\n",
       "    </tr>\n",
       "  </thead>\n",
       "  <tbody>\n",
       "    <tr>\n",
       "      <th>0</th>\n",
       "      <td>526BA4A669CC6CC2</td>\n",
       "      <td>A</td>\n",
       "      <td>recommender_system_test</td>\n",
       "      <td>2020-12-21 05:00:29</td>\n",
       "      <td>product_cart</td>\n",
       "      <td>0.0</td>\n",
       "    </tr>\n",
       "    <tr>\n",
       "      <th>1</th>\n",
       "      <td>526BA4A669CC6CC2</td>\n",
       "      <td>A</td>\n",
       "      <td>recommender_system_test</td>\n",
       "      <td>2020-12-23 09:46:55</td>\n",
       "      <td>product_cart</td>\n",
       "      <td>0.0</td>\n",
       "    </tr>\n",
       "    <tr>\n",
       "      <th>2</th>\n",
       "      <td>526BA4A669CC6CC2</td>\n",
       "      <td>A</td>\n",
       "      <td>recommender_system_test</td>\n",
       "      <td>2020-12-21 05:00:25</td>\n",
       "      <td>login</td>\n",
       "      <td>0.0</td>\n",
       "    </tr>\n",
       "    <tr>\n",
       "      <th>3</th>\n",
       "      <td>526BA4A669CC6CC2</td>\n",
       "      <td>A</td>\n",
       "      <td>recommender_system_test</td>\n",
       "      <td>2020-12-23 09:46:53</td>\n",
       "      <td>login</td>\n",
       "      <td>0.0</td>\n",
       "    </tr>\n",
       "    <tr>\n",
       "      <th>4</th>\n",
       "      <td>D2D3509933B9D5F3</td>\n",
       "      <td>A</td>\n",
       "      <td>recommender_system_test</td>\n",
       "      <td>2020-12-21 20:32:41</td>\n",
       "      <td>product_cart</td>\n",
       "      <td>0.0</td>\n",
       "    </tr>\n",
       "  </tbody>\n",
       "</table>\n",
       "</div>"
      ],
      "text/plain": [
       "            user_id group                  ab_test            event_dt  \\\n",
       "0  526BA4A669CC6CC2     A  recommender_system_test 2020-12-21 05:00:29   \n",
       "1  526BA4A669CC6CC2     A  recommender_system_test 2020-12-23 09:46:55   \n",
       "2  526BA4A669CC6CC2     A  recommender_system_test 2020-12-21 05:00:25   \n",
       "3  526BA4A669CC6CC2     A  recommender_system_test 2020-12-23 09:46:53   \n",
       "4  D2D3509933B9D5F3     A  recommender_system_test 2020-12-21 20:32:41   \n",
       "\n",
       "     event_name  details  \n",
       "0  product_cart      0.0  \n",
       "1  product_cart      0.0  \n",
       "2         login      0.0  \n",
       "3         login      0.0  \n",
       "4  product_cart      0.0  "
      ]
     },
     "execution_count": 72,
     "metadata": {},
     "output_type": "execute_result"
    }
   ],
   "source": [
    "#объединим два датасета: данные теста и события\n",
    "rec_sys_ev = rec_sys_2.merge(events, on = 'user_id', how = 'left')\n",
    "rec_sys_ev.head()"
   ]
  },
  {
   "cell_type": "code",
   "execution_count": 73,
   "metadata": {},
   "outputs": [
    {
     "data": {
      "text/html": [
       "<div>\n",
       "<style scoped>\n",
       "    .dataframe tbody tr th:only-of-type {\n",
       "        vertical-align: middle;\n",
       "    }\n",
       "\n",
       "    .dataframe tbody tr th {\n",
       "        vertical-align: top;\n",
       "    }\n",
       "\n",
       "    .dataframe thead th {\n",
       "        text-align: right;\n",
       "    }\n",
       "</style>\n",
       "<table border=\"1\" class=\"dataframe\">\n",
       "  <thead>\n",
       "    <tr style=\"text-align: right;\">\n",
       "      <th></th>\n",
       "      <th>user_id</th>\n",
       "      <th>group</th>\n",
       "      <th>ab_test</th>\n",
       "      <th>event_dt</th>\n",
       "      <th>event_name</th>\n",
       "      <th>details</th>\n",
       "    </tr>\n",
       "  </thead>\n",
       "  <tbody>\n",
       "    <tr>\n",
       "      <th>0</th>\n",
       "      <td>526BA4A669CC6CC2</td>\n",
       "      <td>A</td>\n",
       "      <td>recommender_system_test</td>\n",
       "      <td>2020-12-21 05:00:29</td>\n",
       "      <td>product_cart</td>\n",
       "      <td>0.0</td>\n",
       "    </tr>\n",
       "    <tr>\n",
       "      <th>1</th>\n",
       "      <td>526BA4A669CC6CC2</td>\n",
       "      <td>A</td>\n",
       "      <td>recommender_system_test</td>\n",
       "      <td>2020-12-23 09:46:55</td>\n",
       "      <td>product_cart</td>\n",
       "      <td>0.0</td>\n",
       "    </tr>\n",
       "    <tr>\n",
       "      <th>2</th>\n",
       "      <td>526BA4A669CC6CC2</td>\n",
       "      <td>A</td>\n",
       "      <td>recommender_system_test</td>\n",
       "      <td>2020-12-21 05:00:25</td>\n",
       "      <td>login</td>\n",
       "      <td>0.0</td>\n",
       "    </tr>\n",
       "    <tr>\n",
       "      <th>3</th>\n",
       "      <td>526BA4A669CC6CC2</td>\n",
       "      <td>A</td>\n",
       "      <td>recommender_system_test</td>\n",
       "      <td>2020-12-23 09:46:53</td>\n",
       "      <td>login</td>\n",
       "      <td>0.0</td>\n",
       "    </tr>\n",
       "    <tr>\n",
       "      <th>4</th>\n",
       "      <td>D2D3509933B9D5F3</td>\n",
       "      <td>A</td>\n",
       "      <td>recommender_system_test</td>\n",
       "      <td>2020-12-21 20:32:41</td>\n",
       "      <td>product_cart</td>\n",
       "      <td>0.0</td>\n",
       "    </tr>\n",
       "  </tbody>\n",
       "</table>\n",
       "</div>"
      ],
      "text/plain": [
       "            user_id group                  ab_test            event_dt  \\\n",
       "0  526BA4A669CC6CC2     A  recommender_system_test 2020-12-21 05:00:29   \n",
       "1  526BA4A669CC6CC2     A  recommender_system_test 2020-12-23 09:46:55   \n",
       "2  526BA4A669CC6CC2     A  recommender_system_test 2020-12-21 05:00:25   \n",
       "3  526BA4A669CC6CC2     A  recommender_system_test 2020-12-23 09:46:53   \n",
       "4  D2D3509933B9D5F3     A  recommender_system_test 2020-12-21 20:32:41   \n",
       "\n",
       "     event_name  details  \n",
       "0  product_cart      0.0  \n",
       "1  product_cart      0.0  \n",
       "2         login      0.0  \n",
       "3         login      0.0  \n",
       "4  product_cart      0.0  "
      ]
     },
     "metadata": {},
     "output_type": "display_data"
    },
    {
     "data": {
      "text/html": [
       "<div>\n",
       "<style scoped>\n",
       "    .dataframe tbody tr th:only-of-type {\n",
       "        vertical-align: middle;\n",
       "    }\n",
       "\n",
       "    .dataframe tbody tr th {\n",
       "        vertical-align: top;\n",
       "    }\n",
       "\n",
       "    .dataframe thead th {\n",
       "        text-align: right;\n",
       "    }\n",
       "</style>\n",
       "<table border=\"1\" class=\"dataframe\">\n",
       "  <thead>\n",
       "    <tr style=\"text-align: right;\">\n",
       "      <th></th>\n",
       "      <th>user_id</th>\n",
       "      <th>group</th>\n",
       "      <th>ab_test</th>\n",
       "      <th>event_dt</th>\n",
       "      <th>event_name</th>\n",
       "      <th>details</th>\n",
       "    </tr>\n",
       "  </thead>\n",
       "  <tbody>\n",
       "    <tr>\n",
       "      <th>23</th>\n",
       "      <td>75895B243932CA83</td>\n",
       "      <td>B</td>\n",
       "      <td>recommender_system_test</td>\n",
       "      <td>NaT</td>\n",
       "      <td>NaN</td>\n",
       "      <td>NaN</td>\n",
       "    </tr>\n",
       "    <tr>\n",
       "      <th>36</th>\n",
       "      <td>95641DE55C19FB61</td>\n",
       "      <td>B</td>\n",
       "      <td>recommender_system_test</td>\n",
       "      <td>NaT</td>\n",
       "      <td>NaN</td>\n",
       "      <td>NaN</td>\n",
       "    </tr>\n",
       "    <tr>\n",
       "      <th>37</th>\n",
       "      <td>58413BED951516D5</td>\n",
       "      <td>B</td>\n",
       "      <td>recommender_system_test</td>\n",
       "      <td>NaT</td>\n",
       "      <td>NaN</td>\n",
       "      <td>NaN</td>\n",
       "    </tr>\n",
       "    <tr>\n",
       "      <th>51</th>\n",
       "      <td>6DEEABA508AAD2A7</td>\n",
       "      <td>B</td>\n",
       "      <td>recommender_system_test</td>\n",
       "      <td>NaT</td>\n",
       "      <td>NaN</td>\n",
       "      <td>NaN</td>\n",
       "    </tr>\n",
       "    <tr>\n",
       "      <th>52</th>\n",
       "      <td>29535733A8B8C27A</td>\n",
       "      <td>B</td>\n",
       "      <td>recommender_system_test</td>\n",
       "      <td>NaT</td>\n",
       "      <td>NaN</td>\n",
       "      <td>NaN</td>\n",
       "    </tr>\n",
       "  </tbody>\n",
       "</table>\n",
       "</div>"
      ],
      "text/plain": [
       "             user_id group                  ab_test event_dt event_name  \\\n",
       "23  75895B243932CA83     B  recommender_system_test      NaT        NaN   \n",
       "36  95641DE55C19FB61     B  recommender_system_test      NaT        NaN   \n",
       "37  58413BED951516D5     B  recommender_system_test      NaT        NaN   \n",
       "51  6DEEABA508AAD2A7     B  recommender_system_test      NaT        NaN   \n",
       "52  29535733A8B8C27A     B  recommender_system_test      NaT        NaN   \n",
       "\n",
       "    details  \n",
       "23      NaN  \n",
       "36      NaN  \n",
       "37      NaN  \n",
       "51      NaN  \n",
       "52      NaN  "
      ]
     },
     "metadata": {},
     "output_type": "display_data"
    }
   ],
   "source": [
    "#разделим на тестовые группы\n",
    "rec_sys_evA = rec_sys_ev.loc[rec_sys_ev['group'] == 'A']\n",
    "rec_sys_evB = rec_sys_ev.loc[rec_sys_ev['group'] != 'A']\n",
    "display(rec_sys_evA.head())\n",
    "display(rec_sys_evB.head())"
   ]
  },
  {
   "cell_type": "code",
   "execution_count": 74,
   "metadata": {},
   "outputs": [
    {
     "data": {
      "text/html": [
       "<div>\n",
       "<style scoped>\n",
       "    .dataframe tbody tr th:only-of-type {\n",
       "        vertical-align: middle;\n",
       "    }\n",
       "\n",
       "    .dataframe tbody tr th {\n",
       "        vertical-align: top;\n",
       "    }\n",
       "\n",
       "    .dataframe thead th {\n",
       "        text-align: right;\n",
       "    }\n",
       "</style>\n",
       "<table border=\"1\" class=\"dataframe\">\n",
       "  <thead>\n",
       "    <tr style=\"text-align: right;\">\n",
       "      <th></th>\n",
       "      <th>user_id</th>\n",
       "      <th>event_name</th>\n",
       "    </tr>\n",
       "  </thead>\n",
       "  <tbody>\n",
       "    <tr>\n",
       "      <th>1</th>\n",
       "      <td>0010A1C096941592</td>\n",
       "      <td>3</td>\n",
       "    </tr>\n",
       "    <tr>\n",
       "      <th>2</th>\n",
       "      <td>00341D8401F0F665</td>\n",
       "      <td>1</td>\n",
       "    </tr>\n",
       "    <tr>\n",
       "      <th>4</th>\n",
       "      <td>003DF44D7589BBD4</td>\n",
       "      <td>3</td>\n",
       "    </tr>\n",
       "    <tr>\n",
       "      <th>5</th>\n",
       "      <td>00505E15A9D81546</td>\n",
       "      <td>1</td>\n",
       "    </tr>\n",
       "    <tr>\n",
       "      <th>6</th>\n",
       "      <td>006E3E4E232CE760</td>\n",
       "      <td>2</td>\n",
       "    </tr>\n",
       "    <tr>\n",
       "      <th>...</th>\n",
       "      <td>...</td>\n",
       "      <td>...</td>\n",
       "    </tr>\n",
       "    <tr>\n",
       "      <th>2899</th>\n",
       "      <td>FF40F25452E70E3D</td>\n",
       "      <td>2</td>\n",
       "    </tr>\n",
       "    <tr>\n",
       "      <th>2900</th>\n",
       "      <td>FF5A1CD38F5DD996</td>\n",
       "      <td>2</td>\n",
       "    </tr>\n",
       "    <tr>\n",
       "      <th>2901</th>\n",
       "      <td>FF5B24BCE4387F86</td>\n",
       "      <td>3</td>\n",
       "    </tr>\n",
       "    <tr>\n",
       "      <th>2902</th>\n",
       "      <td>FF825C1D791989B5</td>\n",
       "      <td>2</td>\n",
       "    </tr>\n",
       "    <tr>\n",
       "      <th>2903</th>\n",
       "      <td>FFAE9489C76F352B</td>\n",
       "      <td>2</td>\n",
       "    </tr>\n",
       "  </tbody>\n",
       "</table>\n",
       "<p>2109 rows × 2 columns</p>\n",
       "</div>"
      ],
      "text/plain": [
       "               user_id  event_name\n",
       "1     0010A1C096941592           3\n",
       "2     00341D8401F0F665           1\n",
       "4     003DF44D7589BBD4           3\n",
       "5     00505E15A9D81546           1\n",
       "6     006E3E4E232CE760           2\n",
       "...                ...         ...\n",
       "2899  FF40F25452E70E3D           2\n",
       "2900  FF5A1CD38F5DD996           2\n",
       "2901  FF5B24BCE4387F86           3\n",
       "2902  FF825C1D791989B5           2\n",
       "2903  FFAE9489C76F352B           2\n",
       "\n",
       "[2109 rows x 2 columns]"
      ]
     },
     "execution_count": 74,
     "metadata": {},
     "output_type": "execute_result"
    }
   ],
   "source": [
    "#распределим количество событий на пользователя группы А \n",
    "rA = rec_sys_evA.groupby('user_id', as_index=False)[['event_name']].nunique()\n",
    "rA = rA.loc[rA['event_name'] !=0]\n",
    "rA "
   ]
  },
  {
   "cell_type": "code",
   "execution_count": 75,
   "metadata": {},
   "outputs": [
    {
     "name": "stdout",
     "output_type": "stream",
     "text": [
      "p-значение:  6.402870396429991e-39\n",
      "Отвергаем нулевую гипотезу: распределение не нормально\n"
     ]
    }
   ],
   "source": [
    "# проверим распределение количества событий на пользователя группы А на нормальность, \n",
    "#используя критерий Шапиро-Уилка.\n",
    "from scipy import stats as st\n",
    "\n",
    "sales_data = rA['event_name']\n",
    "\n",
    "alpha = 0.05 # ваш код\n",
    "\n",
    "results = st.shapiro(sales_data)\n",
    "p_value = results[1]\n",
    "\n",
    "print('p-значение: ', p_value)\n",
    "\n",
    "if p_value < alpha:\n",
    "    print('Отвергаем нулевую гипотезу: распределение не нормально')\n",
    "else:\n",
    "    print('Не получилось отвергнуть нулевую гипотезу, всё нормально') "
   ]
  },
  {
   "cell_type": "code",
   "execution_count": 76,
   "metadata": {},
   "outputs": [
    {
     "data": {
      "text/html": [
       "<div>\n",
       "<style scoped>\n",
       "    .dataframe tbody tr th:only-of-type {\n",
       "        vertical-align: middle;\n",
       "    }\n",
       "\n",
       "    .dataframe tbody tr th {\n",
       "        vertical-align: top;\n",
       "    }\n",
       "\n",
       "    .dataframe thead th {\n",
       "        text-align: right;\n",
       "    }\n",
       "</style>\n",
       "<table border=\"1\" class=\"dataframe\">\n",
       "  <thead>\n",
       "    <tr style=\"text-align: right;\">\n",
       "      <th></th>\n",
       "      <th>user_id</th>\n",
       "      <th>event_name</th>\n",
       "    </tr>\n",
       "  </thead>\n",
       "  <tbody>\n",
       "    <tr>\n",
       "      <th>0</th>\n",
       "      <td>005E096DBD379BCF</td>\n",
       "      <td>2</td>\n",
       "    </tr>\n",
       "    <tr>\n",
       "      <th>5</th>\n",
       "      <td>015D1E3BB893349D</td>\n",
       "      <td>2</td>\n",
       "    </tr>\n",
       "    <tr>\n",
       "      <th>6</th>\n",
       "      <td>015FF3EC72C1F4F6</td>\n",
       "      <td>2</td>\n",
       "    </tr>\n",
       "    <tr>\n",
       "      <th>7</th>\n",
       "      <td>01B0B891CA513468</td>\n",
       "      <td>3</td>\n",
       "    </tr>\n",
       "    <tr>\n",
       "      <th>10</th>\n",
       "      <td>01C17F099908DA14</td>\n",
       "      <td>1</td>\n",
       "    </tr>\n",
       "    <tr>\n",
       "      <th>...</th>\n",
       "      <td>...</td>\n",
       "      <td>...</td>\n",
       "    </tr>\n",
       "    <tr>\n",
       "      <th>2175</th>\n",
       "      <td>FDF5D9D1B047FA31</td>\n",
       "      <td>2</td>\n",
       "    </tr>\n",
       "    <tr>\n",
       "      <th>2178</th>\n",
       "      <td>FE244437A4224900</td>\n",
       "      <td>2</td>\n",
       "    </tr>\n",
       "    <tr>\n",
       "      <th>2181</th>\n",
       "      <td>FE8F9858BBE502D9</td>\n",
       "      <td>2</td>\n",
       "    </tr>\n",
       "    <tr>\n",
       "      <th>2189</th>\n",
       "      <td>FF8CF7057415EB29</td>\n",
       "      <td>2</td>\n",
       "    </tr>\n",
       "    <tr>\n",
       "      <th>2193</th>\n",
       "      <td>FFF28D02B1EACBE1</td>\n",
       "      <td>3</td>\n",
       "    </tr>\n",
       "  </tbody>\n",
       "</table>\n",
       "<p>706 rows × 2 columns</p>\n",
       "</div>"
      ],
      "text/plain": [
       "               user_id  event_name\n",
       "0     005E096DBD379BCF           2\n",
       "5     015D1E3BB893349D           2\n",
       "6     015FF3EC72C1F4F6           2\n",
       "7     01B0B891CA513468           3\n",
       "10    01C17F099908DA14           1\n",
       "...                ...         ...\n",
       "2175  FDF5D9D1B047FA31           2\n",
       "2178  FE244437A4224900           2\n",
       "2181  FE8F9858BBE502D9           2\n",
       "2189  FF8CF7057415EB29           2\n",
       "2193  FFF28D02B1EACBE1           3\n",
       "\n",
       "[706 rows x 2 columns]"
      ]
     },
     "execution_count": 76,
     "metadata": {},
     "output_type": "execute_result"
    }
   ],
   "source": [
    "#распределим количество событий на пользователя группы В \n",
    "rB = rec_sys_evB.groupby(['user_id'], as_index=False)[['event_name']].nunique()\n",
    "rB = rB.loc[rB['event_name'] !=0]\n",
    "\n",
    "rB"
   ]
  },
  {
   "cell_type": "code",
   "execution_count": 77,
   "metadata": {},
   "outputs": [
    {
     "name": "stdout",
     "output_type": "stream",
     "text": [
      "p-значение:  1.7460996347112436e-24\n",
      "Отвергаем нулевую гипотезу: распределение не нормально\n"
     ]
    }
   ],
   "source": [
    "# проверим распределение пользователей группы В по событиям на нормальность, \n",
    "#используя критерий Шапиро-Уилка.\n",
    "\n",
    "from scipy import stats as st\n",
    "\n",
    "sales_data = rB['event_name']\n",
    "\n",
    "alpha = 0.05 # ваш код\n",
    "\n",
    "results = st.shapiro(sales_data)\n",
    "p_value = results[1]\n",
    "\n",
    "print('p-значение: ', p_value)\n",
    "\n",
    "if p_value < alpha:\n",
    "    print('Отвергаем нулевую гипотезу: распределение не нормально')\n",
    "else:\n",
    "    print('Не получилось отвергнуть нулевую гипотезу, всё нормально') "
   ]
  },
  {
   "cell_type": "markdown",
   "metadata": {},
   "source": [
    "Итак, распределения событий по пользователям в обеих тестовых группах будем считать не нормальным."
   ]
  },
  {
   "cell_type": "code",
   "execution_count": 78,
   "metadata": {},
   "outputs": [
    {
     "data": {
      "text/html": [
       "<div>\n",
       "<style scoped>\n",
       "    .dataframe tbody tr th:only-of-type {\n",
       "        vertical-align: middle;\n",
       "    }\n",
       "\n",
       "    .dataframe tbody tr th {\n",
       "        vertical-align: top;\n",
       "    }\n",
       "\n",
       "    .dataframe thead th {\n",
       "        text-align: right;\n",
       "    }\n",
       "</style>\n",
       "<table border=\"1\" class=\"dataframe\">\n",
       "  <thead>\n",
       "    <tr style=\"text-align: right;\">\n",
       "      <th></th>\n",
       "      <th>event_name</th>\n",
       "    </tr>\n",
       "  </thead>\n",
       "  <tbody>\n",
       "    <tr>\n",
       "      <th>count</th>\n",
       "      <td>2109.000000</td>\n",
       "    </tr>\n",
       "    <tr>\n",
       "      <th>mean</th>\n",
       "      <td>2.282124</td>\n",
       "    </tr>\n",
       "    <tr>\n",
       "      <th>std</th>\n",
       "      <td>0.841617</td>\n",
       "    </tr>\n",
       "    <tr>\n",
       "      <th>min</th>\n",
       "      <td>1.000000</td>\n",
       "    </tr>\n",
       "    <tr>\n",
       "      <th>25%</th>\n",
       "      <td>2.000000</td>\n",
       "    </tr>\n",
       "    <tr>\n",
       "      <th>50%</th>\n",
       "      <td>2.000000</td>\n",
       "    </tr>\n",
       "    <tr>\n",
       "      <th>75%</th>\n",
       "      <td>3.000000</td>\n",
       "    </tr>\n",
       "    <tr>\n",
       "      <th>max</th>\n",
       "      <td>4.000000</td>\n",
       "    </tr>\n",
       "  </tbody>\n",
       "</table>\n",
       "</div>"
      ],
      "text/plain": [
       "        event_name\n",
       "count  2109.000000\n",
       "mean      2.282124\n",
       "std       0.841617\n",
       "min       1.000000\n",
       "25%       2.000000\n",
       "50%       2.000000\n",
       "75%       3.000000\n",
       "max       4.000000"
      ]
     },
     "execution_count": 78,
     "metadata": {},
     "output_type": "execute_result"
    }
   ],
   "source": [
    "rA.describe()"
   ]
  },
  {
   "cell_type": "code",
   "execution_count": 79,
   "metadata": {},
   "outputs": [
    {
     "data": {
      "text/html": [
       "<div>\n",
       "<style scoped>\n",
       "    .dataframe tbody tr th:only-of-type {\n",
       "        vertical-align: middle;\n",
       "    }\n",
       "\n",
       "    .dataframe tbody tr th {\n",
       "        vertical-align: top;\n",
       "    }\n",
       "\n",
       "    .dataframe thead th {\n",
       "        text-align: right;\n",
       "    }\n",
       "</style>\n",
       "<table border=\"1\" class=\"dataframe\">\n",
       "  <thead>\n",
       "    <tr style=\"text-align: right;\">\n",
       "      <th></th>\n",
       "      <th>event_name</th>\n",
       "    </tr>\n",
       "  </thead>\n",
       "  <tbody>\n",
       "    <tr>\n",
       "      <th>count</th>\n",
       "      <td>706.000000</td>\n",
       "    </tr>\n",
       "    <tr>\n",
       "      <th>mean</th>\n",
       "      <td>2.131728</td>\n",
       "    </tr>\n",
       "    <tr>\n",
       "      <th>std</th>\n",
       "      <td>0.856141</td>\n",
       "    </tr>\n",
       "    <tr>\n",
       "      <th>min</th>\n",
       "      <td>1.000000</td>\n",
       "    </tr>\n",
       "    <tr>\n",
       "      <th>25%</th>\n",
       "      <td>2.000000</td>\n",
       "    </tr>\n",
       "    <tr>\n",
       "      <th>50%</th>\n",
       "      <td>2.000000</td>\n",
       "    </tr>\n",
       "    <tr>\n",
       "      <th>75%</th>\n",
       "      <td>3.000000</td>\n",
       "    </tr>\n",
       "    <tr>\n",
       "      <th>max</th>\n",
       "      <td>4.000000</td>\n",
       "    </tr>\n",
       "  </tbody>\n",
       "</table>\n",
       "</div>"
      ],
      "text/plain": [
       "       event_name\n",
       "count  706.000000\n",
       "mean     2.131728\n",
       "std      0.856141\n",
       "min      1.000000\n",
       "25%      2.000000\n",
       "50%      2.000000\n",
       "75%      3.000000\n",
       "max      4.000000"
      ]
     },
     "execution_count": 79,
     "metadata": {},
     "output_type": "execute_result"
    }
   ],
   "source": [
    "rB.describe()"
   ]
  },
  {
   "cell_type": "code",
   "execution_count": 80,
   "metadata": {},
   "outputs": [
    {
     "data": {
      "text/plain": [
       "array([[<AxesSubplot:title={'center':'event_name'}>]], dtype=object)"
      ]
     },
     "execution_count": 80,
     "metadata": {},
     "output_type": "execute_result"
    },
    {
     "data": {
      "image/png": "[encoded data removed]",
      "text/plain": [
       "<Figure size 432x288 with 1 Axes>"
      ]
     },
     "metadata": {
      "needs_background": "light"
     },
     "output_type": "display_data"
    }
   ],
   "source": [
    "rA.hist()"
   ]
  },
  {
   "cell_type": "code",
   "execution_count": 81,
   "metadata": {},
   "outputs": [
    {
     "data": {
      "text/plain": [
       "array([[<AxesSubplot:title={'center':'event_name'}>]], dtype=object)"
      ]
     },
     "execution_count": 81,
     "metadata": {},
     "output_type": "execute_result"
    },
    {
     "data": {
      "image/png": "[encoded data removed]",
      "text/plain": [
       "<Figure size 432x288 with 1 Axes>"
      ]
     },
     "metadata": {
      "needs_background": "light"
     },
     "output_type": "display_data"
    }
   ],
   "source": [
    "rB.hist()"
   ]
  },
  {
   "cell_type": "markdown",
   "metadata": {},
   "source": [
    "Сравнивая распределение количества событий в разрезе групп видим, что после внедрением улучшенной рекомендательной системы пользователи стали совершать меньшее количество событий."
   ]
  },
  {
   "cell_type": "markdown",
   "metadata": {},
   "source": [
    "####  Количество событий  по дням."
   ]
  },
  {
   "cell_type": "code",
   "execution_count": 82,
   "metadata": {},
   "outputs": [
    {
     "data": {
      "text/html": [
       "<div>\n",
       "<style scoped>\n",
       "    .dataframe tbody tr th:only-of-type {\n",
       "        vertical-align: middle;\n",
       "    }\n",
       "\n",
       "    .dataframe tbody tr th {\n",
       "        vertical-align: top;\n",
       "    }\n",
       "\n",
       "    .dataframe thead th {\n",
       "        text-align: right;\n",
       "    }\n",
       "</style>\n",
       "<table border=\"1\" class=\"dataframe\">\n",
       "  <thead>\n",
       "    <tr style=\"text-align: right;\">\n",
       "      <th></th>\n",
       "      <th>event_dt</th>\n",
       "      <th>event_name</th>\n",
       "    </tr>\n",
       "  </thead>\n",
       "  <tbody>\n",
       "    <tr>\n",
       "      <th>0</th>\n",
       "      <td>2020-12-07 00:14:01</td>\n",
       "      <td>2</td>\n",
       "    </tr>\n",
       "    <tr>\n",
       "      <th>1</th>\n",
       "      <td>2020-12-07 00:31:08</td>\n",
       "      <td>2</td>\n",
       "    </tr>\n",
       "    <tr>\n",
       "      <th>2</th>\n",
       "      <td>2020-12-07 00:39:13</td>\n",
       "      <td>1</td>\n",
       "    </tr>\n",
       "    <tr>\n",
       "      <th>3</th>\n",
       "      <td>2020-12-07 00:39:14</td>\n",
       "      <td>1</td>\n",
       "    </tr>\n",
       "    <tr>\n",
       "      <th>4</th>\n",
       "      <td>2020-12-07 00:39:18</td>\n",
       "      <td>1</td>\n",
       "    </tr>\n",
       "    <tr>\n",
       "      <th>...</th>\n",
       "      <td>...</td>\n",
       "      <td>...</td>\n",
       "    </tr>\n",
       "    <tr>\n",
       "      <th>9854</th>\n",
       "      <td>2020-12-29 23:36:20</td>\n",
       "      <td>1</td>\n",
       "    </tr>\n",
       "    <tr>\n",
       "      <th>9855</th>\n",
       "      <td>2020-12-29 23:38:09</td>\n",
       "      <td>1</td>\n",
       "    </tr>\n",
       "    <tr>\n",
       "      <th>9856</th>\n",
       "      <td>2020-12-29 23:38:10</td>\n",
       "      <td>1</td>\n",
       "    </tr>\n",
       "    <tr>\n",
       "      <th>9857</th>\n",
       "      <td>2020-12-29 23:38:28</td>\n",
       "      <td>1</td>\n",
       "    </tr>\n",
       "    <tr>\n",
       "      <th>9858</th>\n",
       "      <td>2020-12-29 23:38:29</td>\n",
       "      <td>1</td>\n",
       "    </tr>\n",
       "  </tbody>\n",
       "</table>\n",
       "<p>9859 rows × 2 columns</p>\n",
       "</div>"
      ],
      "text/plain": [
       "                event_dt  event_name\n",
       "0    2020-12-07 00:14:01           2\n",
       "1    2020-12-07 00:31:08           2\n",
       "2    2020-12-07 00:39:13           1\n",
       "3    2020-12-07 00:39:14           1\n",
       "4    2020-12-07 00:39:18           1\n",
       "...                  ...         ...\n",
       "9854 2020-12-29 23:36:20           1\n",
       "9855 2020-12-29 23:38:09           1\n",
       "9856 2020-12-29 23:38:10           1\n",
       "9857 2020-12-29 23:38:28           1\n",
       "9858 2020-12-29 23:38:29           1\n",
       "\n",
       "[9859 rows x 2 columns]"
      ]
     },
     "execution_count": 82,
     "metadata": {},
     "output_type": "execute_result"
    }
   ],
   "source": [
    "#распределим количество событий по дням группы А \n",
    "rA_1 = rec_sys_evA.groupby('event_dt', as_index=False)[['event_name']].count()\n",
    "rA_1"
   ]
  },
  {
   "cell_type": "code",
   "execution_count": 83,
   "metadata": {},
   "outputs": [
    {
     "name": "stdout",
     "output_type": "stream",
     "text": [
      "p-значение:  0.0\n",
      "Отвергаем нулевую гипотезу: распределение не нормально\n"
     ]
    },
    {
     "name": "stderr",
     "output_type": "stream",
     "text": [
      "/opt/conda/lib/python3.9/site-packages/scipy/stats/_morestats.py:1761: UserWarning: p-value may not be accurate for N > 5000.\n",
      "  warnings.warn(\"p-value may not be accurate for N > 5000.\")\n"
     ]
    }
   ],
   "source": [
    "# проверим распределение количества событий по дням группы А на нормальность, \n",
    "#используя критерий Шапиро-Уилка.\n",
    "from scipy import stats as st\n",
    "\n",
    "sales_data = rA_1['event_name']\n",
    "\n",
    "alpha = 0.05 # ваш код\n",
    "\n",
    "results = st.shapiro(sales_data)\n",
    "p_value = results[1]\n",
    "\n",
    "print('p-значение: ', p_value)\n",
    "\n",
    "if p_value < alpha:\n",
    "    print('Отвергаем нулевую гипотезу: распределение не нормально')\n",
    "else:\n",
    "    print('Не получилось отвергнуть нулевую гипотезу, всё нормально') "
   ]
  },
  {
   "cell_type": "code",
   "execution_count": 84,
   "metadata": {},
   "outputs": [
    {
     "data": {
      "text/html": [
       "<div>\n",
       "<style scoped>\n",
       "    .dataframe tbody tr th:only-of-type {\n",
       "        vertical-align: middle;\n",
       "    }\n",
       "\n",
       "    .dataframe tbody tr th {\n",
       "        vertical-align: top;\n",
       "    }\n",
       "\n",
       "    .dataframe thead th {\n",
       "        text-align: right;\n",
       "    }\n",
       "</style>\n",
       "<table border=\"1\" class=\"dataframe\">\n",
       "  <thead>\n",
       "    <tr style=\"text-align: right;\">\n",
       "      <th></th>\n",
       "      <th>event_dt</th>\n",
       "      <th>event_name</th>\n",
       "    </tr>\n",
       "  </thead>\n",
       "  <tbody>\n",
       "    <tr>\n",
       "      <th>0</th>\n",
       "      <td>2020-12-07 00:05:57</td>\n",
       "      <td>2</td>\n",
       "    </tr>\n",
       "    <tr>\n",
       "      <th>1</th>\n",
       "      <td>2020-12-07 00:07:47</td>\n",
       "      <td>2</td>\n",
       "    </tr>\n",
       "    <tr>\n",
       "      <th>2</th>\n",
       "      <td>2020-12-07 00:07:48</td>\n",
       "      <td>1</td>\n",
       "    </tr>\n",
       "    <tr>\n",
       "      <th>3</th>\n",
       "      <td>2020-12-07 00:07:49</td>\n",
       "      <td>1</td>\n",
       "    </tr>\n",
       "    <tr>\n",
       "      <th>4</th>\n",
       "      <td>2020-12-07 00:25:02</td>\n",
       "      <td>2</td>\n",
       "    </tr>\n",
       "    <tr>\n",
       "      <th>...</th>\n",
       "      <td>...</td>\n",
       "      <td>...</td>\n",
       "    </tr>\n",
       "    <tr>\n",
       "      <th>2901</th>\n",
       "      <td>2020-12-29 22:17:13</td>\n",
       "      <td>1</td>\n",
       "    </tr>\n",
       "    <tr>\n",
       "      <th>2902</th>\n",
       "      <td>2020-12-29 23:24:34</td>\n",
       "      <td>1</td>\n",
       "    </tr>\n",
       "    <tr>\n",
       "      <th>2903</th>\n",
       "      <td>2020-12-29 23:27:00</td>\n",
       "      <td>1</td>\n",
       "    </tr>\n",
       "    <tr>\n",
       "      <th>2904</th>\n",
       "      <td>2020-12-30 12:42:56</td>\n",
       "      <td>1</td>\n",
       "    </tr>\n",
       "    <tr>\n",
       "      <th>2905</th>\n",
       "      <td>2020-12-30 12:42:57</td>\n",
       "      <td>1</td>\n",
       "    </tr>\n",
       "  </tbody>\n",
       "</table>\n",
       "<p>2906 rows × 2 columns</p>\n",
       "</div>"
      ],
      "text/plain": [
       "                event_dt  event_name\n",
       "0    2020-12-07 00:05:57           2\n",
       "1    2020-12-07 00:07:47           2\n",
       "2    2020-12-07 00:07:48           1\n",
       "3    2020-12-07 00:07:49           1\n",
       "4    2020-12-07 00:25:02           2\n",
       "...                  ...         ...\n",
       "2901 2020-12-29 22:17:13           1\n",
       "2902 2020-12-29 23:24:34           1\n",
       "2903 2020-12-29 23:27:00           1\n",
       "2904 2020-12-30 12:42:56           1\n",
       "2905 2020-12-30 12:42:57           1\n",
       "\n",
       "[2906 rows x 2 columns]"
      ]
     },
     "execution_count": 84,
     "metadata": {},
     "output_type": "execute_result"
    }
   ],
   "source": [
    "#распределим количество событий по дням группы В \n",
    "rB_1 = rec_sys_evB.groupby('event_dt', as_index=False)[['event_name']].count()\n",
    "rB_1"
   ]
  },
  {
   "cell_type": "code",
   "execution_count": 85,
   "metadata": {},
   "outputs": [
    {
     "name": "stdout",
     "output_type": "stream",
     "text": [
      "p-значение:  0.0\n",
      "Отвергаем нулевую гипотезу: распределение не нормально\n"
     ]
    }
   ],
   "source": [
    "# проверим распределение количества событий по дням группы B на нормальность, \n",
    "#используя критерий Шапиро-Уилка.\n",
    "from scipy import stats as st\n",
    "\n",
    "sales_data = rB_1['event_name']\n",
    "\n",
    "alpha = 0.05 # ваш код\n",
    "\n",
    "results = st.shapiro(sales_data)\n",
    "p_value = results[1]\n",
    "\n",
    "print('p-значение: ', p_value)\n",
    "\n",
    "if p_value < alpha:\n",
    "    print('Отвергаем нулевую гипотезу: распределение не нормально')\n",
    "else:\n",
    "    print('Не получилось отвергнуть нулевую гипотезу, всё нормально') "
   ]
  },
  {
   "cell_type": "code",
   "execution_count": 86,
   "metadata": {},
   "outputs": [
    {
     "data": {
      "text/html": [
       "<div>\n",
       "<style scoped>\n",
       "    .dataframe tbody tr th:only-of-type {\n",
       "        vertical-align: middle;\n",
       "    }\n",
       "\n",
       "    .dataframe tbody tr th {\n",
       "        vertical-align: top;\n",
       "    }\n",
       "\n",
       "    .dataframe thead th {\n",
       "        text-align: right;\n",
       "    }\n",
       "</style>\n",
       "<table border=\"1\" class=\"dataframe\">\n",
       "  <thead>\n",
       "    <tr style=\"text-align: right;\">\n",
       "      <th></th>\n",
       "      <th>event_name</th>\n",
       "    </tr>\n",
       "  </thead>\n",
       "  <tbody>\n",
       "    <tr>\n",
       "      <th>count</th>\n",
       "      <td>9859.000000</td>\n",
       "    </tr>\n",
       "    <tr>\n",
       "      <th>mean</th>\n",
       "      <td>1.515164</td>\n",
       "    </tr>\n",
       "    <tr>\n",
       "      <th>std</th>\n",
       "      <td>0.719020</td>\n",
       "    </tr>\n",
       "    <tr>\n",
       "      <th>min</th>\n",
       "      <td>1.000000</td>\n",
       "    </tr>\n",
       "    <tr>\n",
       "      <th>25%</th>\n",
       "      <td>1.000000</td>\n",
       "    </tr>\n",
       "    <tr>\n",
       "      <th>50%</th>\n",
       "      <td>1.000000</td>\n",
       "    </tr>\n",
       "    <tr>\n",
       "      <th>75%</th>\n",
       "      <td>2.000000</td>\n",
       "    </tr>\n",
       "    <tr>\n",
       "      <th>max</th>\n",
       "      <td>5.000000</td>\n",
       "    </tr>\n",
       "  </tbody>\n",
       "</table>\n",
       "</div>"
      ],
      "text/plain": [
       "        event_name\n",
       "count  9859.000000\n",
       "mean      1.515164\n",
       "std       0.719020\n",
       "min       1.000000\n",
       "25%       1.000000\n",
       "50%       1.000000\n",
       "75%       2.000000\n",
       "max       5.000000"
      ]
     },
     "execution_count": 86,
     "metadata": {},
     "output_type": "execute_result"
    }
   ],
   "source": [
    "rA_1.describe()"
   ]
  },
  {
   "cell_type": "code",
   "execution_count": 87,
   "metadata": {},
   "outputs": [
    {
     "data": {
      "text/html": [
       "<div>\n",
       "<style scoped>\n",
       "    .dataframe tbody tr th:only-of-type {\n",
       "        vertical-align: middle;\n",
       "    }\n",
       "\n",
       "    .dataframe tbody tr th {\n",
       "        vertical-align: top;\n",
       "    }\n",
       "\n",
       "    .dataframe thead th {\n",
       "        text-align: right;\n",
       "    }\n",
       "</style>\n",
       "<table border=\"1\" class=\"dataframe\">\n",
       "  <thead>\n",
       "    <tr style=\"text-align: right;\">\n",
       "      <th></th>\n",
       "      <th>event_name</th>\n",
       "    </tr>\n",
       "  </thead>\n",
       "  <tbody>\n",
       "    <tr>\n",
       "      <th>count</th>\n",
       "      <td>2906.000000</td>\n",
       "    </tr>\n",
       "    <tr>\n",
       "      <th>mean</th>\n",
       "      <td>1.419133</td>\n",
       "    </tr>\n",
       "    <tr>\n",
       "      <th>std</th>\n",
       "      <td>0.650035</td>\n",
       "    </tr>\n",
       "    <tr>\n",
       "      <th>min</th>\n",
       "      <td>1.000000</td>\n",
       "    </tr>\n",
       "    <tr>\n",
       "      <th>25%</th>\n",
       "      <td>1.000000</td>\n",
       "    </tr>\n",
       "    <tr>\n",
       "      <th>50%</th>\n",
       "      <td>1.000000</td>\n",
       "    </tr>\n",
       "    <tr>\n",
       "      <th>75%</th>\n",
       "      <td>2.000000</td>\n",
       "    </tr>\n",
       "    <tr>\n",
       "      <th>max</th>\n",
       "      <td>4.000000</td>\n",
       "    </tr>\n",
       "  </tbody>\n",
       "</table>\n",
       "</div>"
      ],
      "text/plain": [
       "        event_name\n",
       "count  2906.000000\n",
       "mean      1.419133\n",
       "std       0.650035\n",
       "min       1.000000\n",
       "25%       1.000000\n",
       "50%       1.000000\n",
       "75%       2.000000\n",
       "max       4.000000"
      ]
     },
     "execution_count": 87,
     "metadata": {},
     "output_type": "execute_result"
    }
   ],
   "source": [
    "rB_1.describe()"
   ]
  },
  {
   "cell_type": "markdown",
   "metadata": {},
   "source": [
    "Можно сделать вывод, что количество событий, в связи с внедрением улучшенной рекомендательной системы, значительно уменьшилось, но распределение их по датам не очень изменилось. "
   ]
  },
  {
   "cell_type": "markdown",
   "metadata": {},
   "source": [
    "Вывод п.2:\n",
    "\n",
    "После оценки корректности проведения теста можно сделать вывод данные не достаточно корректны:\n",
    "\n",
    "- временные границы проведения теста выбраны неверно:\n",
    "    - выпадают на предпраздничные и праздничные дни;\n",
    "    - совпадают с датами проведения маркетинговых активностей;\n",
    "    - обнаружено 5 263 пользователя, которые зарегистрировались после 21.12.2020г.\n",
    "    \n",
    "- аудитория теста тоже не совпадает с ожидаемой;\n",
    "\n",
    "- сравнивая распределение количества событий в разрезе групп видим, что после внедрением улучшенной рекомендательной системы пользователи стали совершать меньшее количество событий, особенности они перестали покупать;\n",
    "\n",
    "- количество событий, в связи с внедрением улучшенной рекомендательной системы, значительно уменьшилось, но распределение их по датам не очень изменилось.\n"
   ]
  },
  {
   "cell_type": "markdown",
   "metadata": {},
   "source": [
    "## Cтатистическая значимость различий в конверсии между группами."
   ]
  },
  {
   "cell_type": "markdown",
   "metadata": {},
   "source": [
    "Сначала объединим необходимые нам датасеты."
   ]
  },
  {
   "cell_type": "code",
   "execution_count": 88,
   "metadata": {},
   "outputs": [
    {
     "data": {
      "text/html": [
       "<div>\n",
       "<style scoped>\n",
       "    .dataframe tbody tr th:only-of-type {\n",
       "        vertical-align: middle;\n",
       "    }\n",
       "\n",
       "    .dataframe tbody tr th {\n",
       "        vertical-align: top;\n",
       "    }\n",
       "\n",
       "    .dataframe thead th {\n",
       "        text-align: right;\n",
       "    }\n",
       "</style>\n",
       "<table border=\"1\" class=\"dataframe\">\n",
       "  <thead>\n",
       "    <tr style=\"text-align: right;\">\n",
       "      <th></th>\n",
       "      <th>user_id</th>\n",
       "      <th>event_dt</th>\n",
       "      <th>event_name</th>\n",
       "      <th>details</th>\n",
       "    </tr>\n",
       "  </thead>\n",
       "  <tbody>\n",
       "    <tr>\n",
       "      <th>0</th>\n",
       "      <td>E1BDDCE0DAFA2679</td>\n",
       "      <td>2020-12-07 20:22:03</td>\n",
       "      <td>purchase</td>\n",
       "      <td>99.99</td>\n",
       "    </tr>\n",
       "    <tr>\n",
       "      <th>1</th>\n",
       "      <td>7B6452F081F49504</td>\n",
       "      <td>2020-12-07 09:22:53</td>\n",
       "      <td>purchase</td>\n",
       "      <td>9.99</td>\n",
       "    </tr>\n",
       "    <tr>\n",
       "      <th>2</th>\n",
       "      <td>9CD9F34546DF254C</td>\n",
       "      <td>2020-12-07 12:59:29</td>\n",
       "      <td>purchase</td>\n",
       "      <td>4.99</td>\n",
       "    </tr>\n",
       "    <tr>\n",
       "      <th>3</th>\n",
       "      <td>96F27A054B191457</td>\n",
       "      <td>2020-12-07 04:02:40</td>\n",
       "      <td>purchase</td>\n",
       "      <td>4.99</td>\n",
       "    </tr>\n",
       "    <tr>\n",
       "      <th>4</th>\n",
       "      <td>1FD7660FDF94CA1F</td>\n",
       "      <td>2020-12-07 10:15:09</td>\n",
       "      <td>purchase</td>\n",
       "      <td>4.99</td>\n",
       "    </tr>\n",
       "  </tbody>\n",
       "</table>\n",
       "</div>"
      ],
      "text/plain": [
       "            user_id            event_dt event_name  details\n",
       "0  E1BDDCE0DAFA2679 2020-12-07 20:22:03   purchase    99.99\n",
       "1  7B6452F081F49504 2020-12-07 09:22:53   purchase     9.99\n",
       "2  9CD9F34546DF254C 2020-12-07 12:59:29   purchase     4.99\n",
       "3  96F27A054B191457 2020-12-07 04:02:40   purchase     4.99\n",
       "4  1FD7660FDF94CA1F 2020-12-07 10:15:09   purchase     4.99"
      ]
     },
     "execution_count": 88,
     "metadata": {},
     "output_type": "execute_result"
    }
   ],
   "source": [
    "events.head()"
   ]
  },
  {
   "cell_type": "code",
   "execution_count": 89,
   "metadata": {},
   "outputs": [
    {
     "data": {
      "text/html": [
       "<div>\n",
       "<style scoped>\n",
       "    .dataframe tbody tr th:only-of-type {\n",
       "        vertical-align: middle;\n",
       "    }\n",
       "\n",
       "    .dataframe tbody tr th {\n",
       "        vertical-align: top;\n",
       "    }\n",
       "\n",
       "    .dataframe thead th {\n",
       "        text-align: right;\n",
       "    }\n",
       "</style>\n",
       "<table border=\"1\" class=\"dataframe\">\n",
       "  <thead>\n",
       "    <tr style=\"text-align: right;\">\n",
       "      <th></th>\n",
       "      <th>user_id</th>\n",
       "      <th>first_date</th>\n",
       "      <th>region</th>\n",
       "      <th>device</th>\n",
       "    </tr>\n",
       "  </thead>\n",
       "  <tbody>\n",
       "    <tr>\n",
       "      <th>0</th>\n",
       "      <td>D72A72121175D8BE</td>\n",
       "      <td>2020-12-07</td>\n",
       "      <td>EU</td>\n",
       "      <td>PC</td>\n",
       "    </tr>\n",
       "    <tr>\n",
       "      <th>1</th>\n",
       "      <td>F1C668619DFE6E65</td>\n",
       "      <td>2020-12-07</td>\n",
       "      <td>N.America</td>\n",
       "      <td>Android</td>\n",
       "    </tr>\n",
       "    <tr>\n",
       "      <th>2</th>\n",
       "      <td>2E1BF1D4C37EA01F</td>\n",
       "      <td>2020-12-07</td>\n",
       "      <td>EU</td>\n",
       "      <td>PC</td>\n",
       "    </tr>\n",
       "    <tr>\n",
       "      <th>3</th>\n",
       "      <td>50734A22C0C63768</td>\n",
       "      <td>2020-12-07</td>\n",
       "      <td>EU</td>\n",
       "      <td>iPhone</td>\n",
       "    </tr>\n",
       "    <tr>\n",
       "      <th>4</th>\n",
       "      <td>E1BDDCE0DAFA2679</td>\n",
       "      <td>2020-12-07</td>\n",
       "      <td>N.America</td>\n",
       "      <td>iPhone</td>\n",
       "    </tr>\n",
       "  </tbody>\n",
       "</table>\n",
       "</div>"
      ],
      "text/plain": [
       "            user_id first_date     region   device\n",
       "0  D72A72121175D8BE 2020-12-07         EU       PC\n",
       "1  F1C668619DFE6E65 2020-12-07  N.America  Android\n",
       "2  2E1BF1D4C37EA01F 2020-12-07         EU       PC\n",
       "3  50734A22C0C63768 2020-12-07         EU   iPhone\n",
       "4  E1BDDCE0DAFA2679 2020-12-07  N.America   iPhone"
      ]
     },
     "execution_count": 89,
     "metadata": {},
     "output_type": "execute_result"
    }
   ],
   "source": [
    "users.head()"
   ]
  },
  {
   "cell_type": "code",
   "execution_count": 90,
   "metadata": {},
   "outputs": [
    {
     "data": {
      "text/html": [
       "<div>\n",
       "<style scoped>\n",
       "    .dataframe tbody tr th:only-of-type {\n",
       "        vertical-align: middle;\n",
       "    }\n",
       "\n",
       "    .dataframe tbody tr th {\n",
       "        vertical-align: top;\n",
       "    }\n",
       "\n",
       "    .dataframe thead th {\n",
       "        text-align: right;\n",
       "    }\n",
       "</style>\n",
       "<table border=\"1\" class=\"dataframe\">\n",
       "  <thead>\n",
       "    <tr style=\"text-align: right;\">\n",
       "      <th></th>\n",
       "      <th>user_id</th>\n",
       "      <th>event_dt</th>\n",
       "      <th>event_name</th>\n",
       "      <th>details</th>\n",
       "      <th>first_date</th>\n",
       "      <th>region</th>\n",
       "      <th>device</th>\n",
       "    </tr>\n",
       "  </thead>\n",
       "  <tbody>\n",
       "    <tr>\n",
       "      <th>0</th>\n",
       "      <td>E1BDDCE0DAFA2679</td>\n",
       "      <td>2020-12-07 20:22:03</td>\n",
       "      <td>purchase</td>\n",
       "      <td>99.99</td>\n",
       "      <td>2020-12-07</td>\n",
       "      <td>N.America</td>\n",
       "      <td>iPhone</td>\n",
       "    </tr>\n",
       "    <tr>\n",
       "      <th>1</th>\n",
       "      <td>7B6452F081F49504</td>\n",
       "      <td>2020-12-07 09:22:53</td>\n",
       "      <td>purchase</td>\n",
       "      <td>9.99</td>\n",
       "      <td>2020-12-07</td>\n",
       "      <td>EU</td>\n",
       "      <td>iPhone</td>\n",
       "    </tr>\n",
       "    <tr>\n",
       "      <th>2</th>\n",
       "      <td>9CD9F34546DF254C</td>\n",
       "      <td>2020-12-07 12:59:29</td>\n",
       "      <td>purchase</td>\n",
       "      <td>4.99</td>\n",
       "      <td>2020-12-07</td>\n",
       "      <td>N.America</td>\n",
       "      <td>iPhone</td>\n",
       "    </tr>\n",
       "    <tr>\n",
       "      <th>3</th>\n",
       "      <td>96F27A054B191457</td>\n",
       "      <td>2020-12-07 04:02:40</td>\n",
       "      <td>purchase</td>\n",
       "      <td>4.99</td>\n",
       "      <td>2020-12-07</td>\n",
       "      <td>EU</td>\n",
       "      <td>iPhone</td>\n",
       "    </tr>\n",
       "    <tr>\n",
       "      <th>4</th>\n",
       "      <td>1FD7660FDF94CA1F</td>\n",
       "      <td>2020-12-07 10:15:09</td>\n",
       "      <td>purchase</td>\n",
       "      <td>4.99</td>\n",
       "      <td>2020-12-07</td>\n",
       "      <td>EU</td>\n",
       "      <td>Android</td>\n",
       "    </tr>\n",
       "  </tbody>\n",
       "</table>\n",
       "</div>"
      ],
      "text/plain": [
       "            user_id            event_dt event_name  details first_date  \\\n",
       "0  E1BDDCE0DAFA2679 2020-12-07 20:22:03   purchase    99.99 2020-12-07   \n",
       "1  7B6452F081F49504 2020-12-07 09:22:53   purchase     9.99 2020-12-07   \n",
       "2  9CD9F34546DF254C 2020-12-07 12:59:29   purchase     4.99 2020-12-07   \n",
       "3  96F27A054B191457 2020-12-07 04:02:40   purchase     4.99 2020-12-07   \n",
       "4  1FD7660FDF94CA1F 2020-12-07 10:15:09   purchase     4.99 2020-12-07   \n",
       "\n",
       "      region   device  \n",
       "0  N.America   iPhone  \n",
       "1         EU   iPhone  \n",
       "2  N.America   iPhone  \n",
       "3         EU   iPhone  \n",
       "4         EU  Android  "
      ]
     },
     "execution_count": 90,
     "metadata": {},
     "output_type": "execute_result"
    }
   ],
   "source": [
    "ev_us = events.merge(users, on = 'user_id', how = 'left')\n",
    "ev_us.head()"
   ]
  },
  {
   "cell_type": "code",
   "execution_count": 91,
   "metadata": {},
   "outputs": [
    {
     "data": {
      "text/html": [
       "<div>\n",
       "<style scoped>\n",
       "    .dataframe tbody tr th:only-of-type {\n",
       "        vertical-align: middle;\n",
       "    }\n",
       "\n",
       "    .dataframe tbody tr th {\n",
       "        vertical-align: top;\n",
       "    }\n",
       "\n",
       "    .dataframe thead th {\n",
       "        text-align: right;\n",
       "    }\n",
       "</style>\n",
       "<table border=\"1\" class=\"dataframe\">\n",
       "  <thead>\n",
       "    <tr style=\"text-align: right;\">\n",
       "      <th></th>\n",
       "      <th>user_id</th>\n",
       "      <th>group</th>\n",
       "      <th>ab_test</th>\n",
       "    </tr>\n",
       "  </thead>\n",
       "  <tbody>\n",
       "    <tr>\n",
       "      <th>1602</th>\n",
       "      <td>526BA4A669CC6CC2</td>\n",
       "      <td>A</td>\n",
       "      <td>recommender_system_test</td>\n",
       "    </tr>\n",
       "    <tr>\n",
       "      <th>1603</th>\n",
       "      <td>D2D3509933B9D5F3</td>\n",
       "      <td>A</td>\n",
       "      <td>recommender_system_test</td>\n",
       "    </tr>\n",
       "    <tr>\n",
       "      <th>1604</th>\n",
       "      <td>D6A6592338A322B0</td>\n",
       "      <td>A</td>\n",
       "      <td>recommender_system_test</td>\n",
       "    </tr>\n",
       "    <tr>\n",
       "      <th>1605</th>\n",
       "      <td>95A9423B37553B4B</td>\n",
       "      <td>A</td>\n",
       "      <td>recommender_system_test</td>\n",
       "    </tr>\n",
       "    <tr>\n",
       "      <th>1606</th>\n",
       "      <td>822A4D7433FDF914</td>\n",
       "      <td>A</td>\n",
       "      <td>recommender_system_test</td>\n",
       "    </tr>\n",
       "  </tbody>\n",
       "</table>\n",
       "</div>"
      ],
      "text/plain": [
       "               user_id group                  ab_test\n",
       "1602  526BA4A669CC6CC2     A  recommender_system_test\n",
       "1603  D2D3509933B9D5F3     A  recommender_system_test\n",
       "1604  D6A6592338A322B0     A  recommender_system_test\n",
       "1605  95A9423B37553B4B     A  recommender_system_test\n",
       "1606  822A4D7433FDF914     A  recommender_system_test"
      ]
     },
     "execution_count": 91,
     "metadata": {},
     "output_type": "execute_result"
    }
   ],
   "source": [
    "rec_sys_2.head()"
   ]
  },
  {
   "cell_type": "code",
   "execution_count": 92,
   "metadata": {},
   "outputs": [
    {
     "data": {
      "text/html": [
       "<div>\n",
       "<style scoped>\n",
       "    .dataframe tbody tr th:only-of-type {\n",
       "        vertical-align: middle;\n",
       "    }\n",
       "\n",
       "    .dataframe tbody tr th {\n",
       "        vertical-align: top;\n",
       "    }\n",
       "\n",
       "    .dataframe thead th {\n",
       "        text-align: right;\n",
       "    }\n",
       "</style>\n",
       "<table border=\"1\" class=\"dataframe\">\n",
       "  <thead>\n",
       "    <tr style=\"text-align: right;\">\n",
       "      <th></th>\n",
       "      <th>user_id</th>\n",
       "      <th>event_dt</th>\n",
       "      <th>event_name</th>\n",
       "      <th>details</th>\n",
       "      <th>first_date</th>\n",
       "      <th>region</th>\n",
       "      <th>device</th>\n",
       "      <th>group</th>\n",
       "      <th>ab_test</th>\n",
       "    </tr>\n",
       "  </thead>\n",
       "  <tbody>\n",
       "    <tr>\n",
       "      <th>0</th>\n",
       "      <td>E1BDDCE0DAFA2679</td>\n",
       "      <td>2020-12-07 20:22:03</td>\n",
       "      <td>purchase</td>\n",
       "      <td>99.99</td>\n",
       "      <td>2020-12-07</td>\n",
       "      <td>N.America</td>\n",
       "      <td>iPhone</td>\n",
       "      <td>NaN</td>\n",
       "      <td>NaN</td>\n",
       "    </tr>\n",
       "    <tr>\n",
       "      <th>1</th>\n",
       "      <td>7B6452F081F49504</td>\n",
       "      <td>2020-12-07 09:22:53</td>\n",
       "      <td>purchase</td>\n",
       "      <td>9.99</td>\n",
       "      <td>2020-12-07</td>\n",
       "      <td>EU</td>\n",
       "      <td>iPhone</td>\n",
       "      <td>NaN</td>\n",
       "      <td>NaN</td>\n",
       "    </tr>\n",
       "    <tr>\n",
       "      <th>2</th>\n",
       "      <td>9CD9F34546DF254C</td>\n",
       "      <td>2020-12-07 12:59:29</td>\n",
       "      <td>purchase</td>\n",
       "      <td>4.99</td>\n",
       "      <td>2020-12-07</td>\n",
       "      <td>N.America</td>\n",
       "      <td>iPhone</td>\n",
       "      <td>NaN</td>\n",
       "      <td>NaN</td>\n",
       "    </tr>\n",
       "    <tr>\n",
       "      <th>3</th>\n",
       "      <td>96F27A054B191457</td>\n",
       "      <td>2020-12-07 04:02:40</td>\n",
       "      <td>purchase</td>\n",
       "      <td>4.99</td>\n",
       "      <td>2020-12-07</td>\n",
       "      <td>EU</td>\n",
       "      <td>iPhone</td>\n",
       "      <td>NaN</td>\n",
       "      <td>NaN</td>\n",
       "    </tr>\n",
       "    <tr>\n",
       "      <th>4</th>\n",
       "      <td>1FD7660FDF94CA1F</td>\n",
       "      <td>2020-12-07 10:15:09</td>\n",
       "      <td>purchase</td>\n",
       "      <td>4.99</td>\n",
       "      <td>2020-12-07</td>\n",
       "      <td>EU</td>\n",
       "      <td>Android</td>\n",
       "      <td>NaN</td>\n",
       "      <td>NaN</td>\n",
       "    </tr>\n",
       "  </tbody>\n",
       "</table>\n",
       "</div>"
      ],
      "text/plain": [
       "            user_id            event_dt event_name  details first_date  \\\n",
       "0  E1BDDCE0DAFA2679 2020-12-07 20:22:03   purchase    99.99 2020-12-07   \n",
       "1  7B6452F081F49504 2020-12-07 09:22:53   purchase     9.99 2020-12-07   \n",
       "2  9CD9F34546DF254C 2020-12-07 12:59:29   purchase     4.99 2020-12-07   \n",
       "3  96F27A054B191457 2020-12-07 04:02:40   purchase     4.99 2020-12-07   \n",
       "4  1FD7660FDF94CA1F 2020-12-07 10:15:09   purchase     4.99 2020-12-07   \n",
       "\n",
       "      region   device group ab_test  \n",
       "0  N.America   iPhone   NaN     NaN  \n",
       "1         EU   iPhone   NaN     NaN  \n",
       "2  N.America   iPhone   NaN     NaN  \n",
       "3         EU   iPhone   NaN     NaN  \n",
       "4         EU  Android   NaN     NaN  "
      ]
     },
     "execution_count": 92,
     "metadata": {},
     "output_type": "execute_result"
    }
   ],
   "source": [
    "par_ev_us = ev_us.merge(rec_sys_2, on = 'user_id', how = 'left')\n",
    "par_ev_us.head()"
   ]
  },
  {
   "cell_type": "markdown",
   "metadata": {},
   "source": [
    "Теперь отсортируем данные по признаку: за 14 дней с момента регистрации в системе. То есть найдем тех пользователей, дата регистрации которых превышает 2020-12-21, и удалить их. "
   ]
  },
  {
   "cell_type": "code",
   "execution_count": 93,
   "metadata": {},
   "outputs": [
    {
     "name": "stdout",
     "output_type": "stream",
     "text": [
      "<class 'pandas.core.frame.DataFrame'>\n",
      "Int64Index: 440317 entries, 0 to 440316\n",
      "Data columns (total 9 columns):\n",
      " #   Column      Non-Null Count   Dtype         \n",
      "---  ------      --------------   -----         \n",
      " 0   user_id     440317 non-null  object        \n",
      " 1   event_dt    440317 non-null  datetime64[ns]\n",
      " 2   event_name  440317 non-null  object        \n",
      " 3   details     440317 non-null  float64       \n",
      " 4   first_date  440317 non-null  datetime64[ns]\n",
      " 5   region      440317 non-null  object        \n",
      " 6   device      440317 non-null  object        \n",
      " 7   group       19062 non-null   object        \n",
      " 8   ab_test     19062 non-null   object        \n",
      "dtypes: datetime64[ns](2), float64(1), object(6)\n",
      "memory usage: 33.6+ MB\n"
     ]
    }
   ],
   "source": [
    "par_ev_us.info()"
   ]
  },
  {
   "cell_type": "code",
   "execution_count": 94,
   "metadata": {},
   "outputs": [
    {
     "data": {
      "text/html": [
       "<div>\n",
       "<style scoped>\n",
       "    .dataframe tbody tr th:only-of-type {\n",
       "        vertical-align: middle;\n",
       "    }\n",
       "\n",
       "    .dataframe tbody tr th {\n",
       "        vertical-align: top;\n",
       "    }\n",
       "\n",
       "    .dataframe thead th {\n",
       "        text-align: right;\n",
       "    }\n",
       "</style>\n",
       "<table border=\"1\" class=\"dataframe\">\n",
       "  <thead>\n",
       "    <tr style=\"text-align: right;\">\n",
       "      <th></th>\n",
       "      <th>user_id</th>\n",
       "      <th>event_dt</th>\n",
       "      <th>event_name</th>\n",
       "      <th>details</th>\n",
       "      <th>first_date</th>\n",
       "      <th>region</th>\n",
       "      <th>device</th>\n",
       "      <th>group</th>\n",
       "      <th>ab_test</th>\n",
       "    </tr>\n",
       "  </thead>\n",
       "  <tbody>\n",
       "    <tr>\n",
       "      <th>44368</th>\n",
       "      <td>5A5833D3AEA75255</td>\n",
       "      <td>2020-12-22 23:18:38</td>\n",
       "      <td>purchase</td>\n",
       "      <td>4.99</td>\n",
       "      <td>2020-12-22</td>\n",
       "      <td>N.America</td>\n",
       "      <td>PC</td>\n",
       "      <td>NaN</td>\n",
       "      <td>NaN</td>\n",
       "    </tr>\n",
       "    <tr>\n",
       "      <th>44369</th>\n",
       "      <td>C32160D27E0B2324</td>\n",
       "      <td>2020-12-22 13:37:16</td>\n",
       "      <td>purchase</td>\n",
       "      <td>9.99</td>\n",
       "      <td>2020-12-22</td>\n",
       "      <td>N.America</td>\n",
       "      <td>Mac</td>\n",
       "      <td>NaN</td>\n",
       "      <td>NaN</td>\n",
       "    </tr>\n",
       "    <tr>\n",
       "      <th>44370</th>\n",
       "      <td>8AC580EDB35E2FF1</td>\n",
       "      <td>2020-12-22 02:30:07</td>\n",
       "      <td>purchase</td>\n",
       "      <td>9.99</td>\n",
       "      <td>2020-12-22</td>\n",
       "      <td>EU</td>\n",
       "      <td>Android</td>\n",
       "      <td>NaN</td>\n",
       "      <td>NaN</td>\n",
       "    </tr>\n",
       "    <tr>\n",
       "      <th>44371</th>\n",
       "      <td>E5467571E29E4A19</td>\n",
       "      <td>2020-12-22 04:14:04</td>\n",
       "      <td>purchase</td>\n",
       "      <td>4.99</td>\n",
       "      <td>2020-12-22</td>\n",
       "      <td>EU</td>\n",
       "      <td>iPhone</td>\n",
       "      <td>NaN</td>\n",
       "      <td>NaN</td>\n",
       "    </tr>\n",
       "    <tr>\n",
       "      <th>44372</th>\n",
       "      <td>2D0492BE083C2C9E</td>\n",
       "      <td>2020-12-22 04:23:04</td>\n",
       "      <td>purchase</td>\n",
       "      <td>499.99</td>\n",
       "      <td>2020-12-22</td>\n",
       "      <td>EU</td>\n",
       "      <td>Android</td>\n",
       "      <td>NaN</td>\n",
       "      <td>NaN</td>\n",
       "    </tr>\n",
       "    <tr>\n",
       "      <th>...</th>\n",
       "      <td>...</td>\n",
       "      <td>...</td>\n",
       "      <td>...</td>\n",
       "      <td>...</td>\n",
       "      <td>...</td>\n",
       "      <td>...</td>\n",
       "      <td>...</td>\n",
       "      <td>...</td>\n",
       "      <td>...</td>\n",
       "    </tr>\n",
       "    <tr>\n",
       "      <th>438413</th>\n",
       "      <td>A801F4F14C543707</td>\n",
       "      <td>2020-12-29 03:09:53</td>\n",
       "      <td>login</td>\n",
       "      <td>0.00</td>\n",
       "      <td>2020-12-23</td>\n",
       "      <td>N.America</td>\n",
       "      <td>PC</td>\n",
       "      <td>NaN</td>\n",
       "      <td>NaN</td>\n",
       "    </tr>\n",
       "    <tr>\n",
       "      <th>438414</th>\n",
       "      <td>69991E6AE74B5C8B</td>\n",
       "      <td>2020-12-29 19:10:53</td>\n",
       "      <td>login</td>\n",
       "      <td>0.00</td>\n",
       "      <td>2020-12-23</td>\n",
       "      <td>EU</td>\n",
       "      <td>iPhone</td>\n",
       "      <td>NaN</td>\n",
       "      <td>NaN</td>\n",
       "    </tr>\n",
       "    <tr>\n",
       "      <th>438415</th>\n",
       "      <td>DAEF8CF6E253DBCE</td>\n",
       "      <td>2020-12-29 22:46:23</td>\n",
       "      <td>login</td>\n",
       "      <td>0.00</td>\n",
       "      <td>2020-12-23</td>\n",
       "      <td>EU</td>\n",
       "      <td>Android</td>\n",
       "      <td>NaN</td>\n",
       "      <td>NaN</td>\n",
       "    </tr>\n",
       "    <tr>\n",
       "      <th>438416</th>\n",
       "      <td>32A46395A711AEFF</td>\n",
       "      <td>2020-12-29 07:51:45</td>\n",
       "      <td>login</td>\n",
       "      <td>0.00</td>\n",
       "      <td>2020-12-23</td>\n",
       "      <td>EU</td>\n",
       "      <td>iPhone</td>\n",
       "      <td>NaN</td>\n",
       "      <td>NaN</td>\n",
       "    </tr>\n",
       "    <tr>\n",
       "      <th>438417</th>\n",
       "      <td>2544D691FC5E4DCB</td>\n",
       "      <td>2020-12-29 02:46:51</td>\n",
       "      <td>login</td>\n",
       "      <td>0.00</td>\n",
       "      <td>2020-12-23</td>\n",
       "      <td>N.America</td>\n",
       "      <td>PC</td>\n",
       "      <td>NaN</td>\n",
       "      <td>NaN</td>\n",
       "    </tr>\n",
       "  </tbody>\n",
       "</table>\n",
       "<p>32567 rows × 9 columns</p>\n",
       "</div>"
      ],
      "text/plain": [
       "                 user_id            event_dt event_name  details first_date  \\\n",
       "44368   5A5833D3AEA75255 2020-12-22 23:18:38   purchase     4.99 2020-12-22   \n",
       "44369   C32160D27E0B2324 2020-12-22 13:37:16   purchase     9.99 2020-12-22   \n",
       "44370   8AC580EDB35E2FF1 2020-12-22 02:30:07   purchase     9.99 2020-12-22   \n",
       "44371   E5467571E29E4A19 2020-12-22 04:14:04   purchase     4.99 2020-12-22   \n",
       "44372   2D0492BE083C2C9E 2020-12-22 04:23:04   purchase   499.99 2020-12-22   \n",
       "...                  ...                 ...        ...      ...        ...   \n",
       "438413  A801F4F14C543707 2020-12-29 03:09:53      login     0.00 2020-12-23   \n",
       "438414  69991E6AE74B5C8B 2020-12-29 19:10:53      login     0.00 2020-12-23   \n",
       "438415  DAEF8CF6E253DBCE 2020-12-29 22:46:23      login     0.00 2020-12-23   \n",
       "438416  32A46395A711AEFF 2020-12-29 07:51:45      login     0.00 2020-12-23   \n",
       "438417  2544D691FC5E4DCB 2020-12-29 02:46:51      login     0.00 2020-12-23   \n",
       "\n",
       "           region   device group ab_test  \n",
       "44368   N.America       PC   NaN     NaN  \n",
       "44369   N.America      Mac   NaN     NaN  \n",
       "44370          EU  Android   NaN     NaN  \n",
       "44371          EU   iPhone   NaN     NaN  \n",
       "44372          EU  Android   NaN     NaN  \n",
       "...           ...      ...   ...     ...  \n",
       "438413  N.America       PC   NaN     NaN  \n",
       "438414         EU   iPhone   NaN     NaN  \n",
       "438415         EU  Android   NaN     NaN  \n",
       "438416         EU   iPhone   NaN     NaN  \n",
       "438417  N.America       PC   NaN     NaN  \n",
       "\n",
       "[32567 rows x 9 columns]"
      ]
     },
     "execution_count": 94,
     "metadata": {},
     "output_type": "execute_result"
    }
   ],
   "source": [
    "p1 = par_ev_us[par_ev_us['first_date'] > '2020-12-21']\n",
    "p1"
   ]
  },
  {
   "cell_type": "code",
   "execution_count": 95,
   "metadata": {},
   "outputs": [],
   "source": [
    "par_ev_us.drop(p1.index, axis=0, inplace=True)"
   ]
  },
  {
   "cell_type": "code",
   "execution_count": 96,
   "metadata": {},
   "outputs": [
    {
     "name": "stdout",
     "output_type": "stream",
     "text": [
      "<class 'pandas.core.frame.DataFrame'>\n",
      "Int64Index: 407750 entries, 0 to 440316\n",
      "Data columns (total 9 columns):\n",
      " #   Column      Non-Null Count   Dtype         \n",
      "---  ------      --------------   -----         \n",
      " 0   user_id     407750 non-null  object        \n",
      " 1   event_dt    407750 non-null  datetime64[ns]\n",
      " 2   event_name  407750 non-null  object        \n",
      " 3   details     407750 non-null  float64       \n",
      " 4   first_date  407750 non-null  datetime64[ns]\n",
      " 5   region      407750 non-null  object        \n",
      " 6   device      407750 non-null  object        \n",
      " 7   group       19062 non-null   object        \n",
      " 8   ab_test     19062 non-null   object        \n",
      "dtypes: datetime64[ns](2), float64(1), object(6)\n",
      "memory usage: 31.1+ MB\n"
     ]
    }
   ],
   "source": [
    "par_ev_us.info()"
   ]
  },
  {
   "cell_type": "markdown",
   "metadata": {},
   "source": [
    "Итак, получили отфильтрованный по дате регистрации (с 7 по 21 декабря) датасет par_ev_us, который мы будем использовать для анализа дальше."
   ]
  },
  {
   "cell_type": "markdown",
   "metadata": {},
   "source": [
    "### Воронка событий."
   ]
  },
  {
   "cell_type": "markdown",
   "metadata": {},
   "source": [
    "Найдем воронку событий и расчитаем конверсии к ним:\n",
    "\n",
    "- login - product_page\n",
    "- login - produc_cart\n",
    "- login - purchase"
   ]
  },
  {
   "cell_type": "markdown",
   "metadata": {},
   "source": [
    "I) login - product_page"
   ]
  },
  {
   "cell_type": "markdown",
   "metadata": {},
   "source": [
    "ГРУППА \"А\""
   ]
  },
  {
   "cell_type": "code",
   "execution_count": 97,
   "metadata": {},
   "outputs": [
    {
     "data": {
      "text/plain": [
       "2109"
      ]
     },
     "execution_count": 97,
     "metadata": {},
     "output_type": "execute_result"
    }
   ],
   "source": [
    "#найдем кол-во пользователей группы A, совершивших событие login, сохраним в переменной us_l_A\n",
    "us_l_A = par_ev_us.loc[(par_ev_us['event_name'] == 'login') \\\n",
    "              & (par_ev_us['group'] == 'A'), 'user_id'].nunique()\n",
    "us_l_A"
   ]
  },
  {
   "cell_type": "code",
   "execution_count": 98,
   "metadata": {},
   "outputs": [
    {
     "data": {
      "text/plain": [
       "1366"
      ]
     },
     "execution_count": 98,
     "metadata": {},
     "output_type": "execute_result"
    }
   ],
   "source": [
    "#найдем кол-во пользователей группы A, совершивших событие product_page, сохраним в переменной us_pp_A\n",
    "\n",
    "us_pp_A = par_ev_us.loc[(par_ev_us['event_name'] == 'product_page') \\\n",
    "              & (par_ev_us['group'] == 'A'), 'user_id'].nunique()\n",
    "us_pp_A"
   ]
  },
  {
   "cell_type": "code",
   "execution_count": 99,
   "metadata": {},
   "outputs": [
    {
     "data": {
      "text/plain": [
       "64.77"
      ]
     },
     "execution_count": 99,
     "metadata": {},
     "output_type": "execute_result"
    }
   ],
   "source": [
    "#найдем конверсию количества пользователей login - в количество пользователей product_page\n",
    "\n",
    "con_l_pp_A = round((us_pp_A / us_l_A) * 100, 2)\n",
    "con_l_pp_A\n"
   ]
  },
  {
   "cell_type": "markdown",
   "metadata": {},
   "source": [
    "Итак, конверсия воронки событий login - product_page пользователей группы А равна 64,77%.  \n"
   ]
  },
  {
   "cell_type": "markdown",
   "metadata": {},
   "source": [
    "ГРУППА \"В\""
   ]
  },
  {
   "cell_type": "code",
   "execution_count": 100,
   "metadata": {},
   "outputs": [
    {
     "data": {
      "text/plain": [
       "706"
      ]
     },
     "execution_count": 100,
     "metadata": {},
     "output_type": "execute_result"
    }
   ],
   "source": [
    "#найдем кол-во пользователей группы B, совершивших событие login, сохраним в переменной us_l_B\n",
    "us_l_B = par_ev_us.loc[(par_ev_us['event_name'] == 'login') \\\n",
    "              & (par_ev_us['group'] == 'B'), 'user_id'].nunique()\n",
    "us_l_B"
   ]
  },
  {
   "cell_type": "code",
   "execution_count": 101,
   "metadata": {},
   "outputs": [
    {
     "data": {
      "text/plain": [
       "401"
      ]
     },
     "execution_count": 101,
     "metadata": {},
     "output_type": "execute_result"
    }
   ],
   "source": [
    "#найдем кол-во пользователей группы B, совершивших событие product_page, сохраним в переменной us_pp_B\n",
    "\n",
    "us_pp_B = par_ev_us.loc[(par_ev_us['event_name'] == 'product_page') \\\n",
    "              & (par_ev_us['group'] == 'B'), 'user_id'].nunique()\n",
    "us_pp_B"
   ]
  },
  {
   "cell_type": "code",
   "execution_count": 102,
   "metadata": {},
   "outputs": [
    {
     "data": {
      "text/plain": [
       "56.8"
      ]
     },
     "execution_count": 102,
     "metadata": {},
     "output_type": "execute_result"
    }
   ],
   "source": [
    "#найдем конверсию количества пользователей login - в количество пользователей product_page\n",
    "\n",
    "con_l_pp_B = round((us_pp_B / us_l_B) * 100, 2)\n",
    "con_l_pp_B\n"
   ]
  },
  {
   "cell_type": "markdown",
   "metadata": {},
   "source": [
    "Итак, конверсия воронки событий login - product_page пользователей группы B равна 56,8%.  \n"
   ]
  },
  {
   "cell_type": "markdown",
   "metadata": {},
   "source": [
    "II) login - produc_cart"
   ]
  },
  {
   "cell_type": "markdown",
   "metadata": {},
   "source": [
    "ГРУППА \"А\""
   ]
  },
  {
   "cell_type": "code",
   "execution_count": 103,
   "metadata": {},
   "outputs": [
    {
     "data": {
      "text/plain": [
       "656"
      ]
     },
     "execution_count": 103,
     "metadata": {},
     "output_type": "execute_result"
    }
   ],
   "source": [
    "#найдем кол-во пользователей группы A, совершивших событие produc_cart, сохраним в переменной us_pc_A\n",
    "us_pc_A = par_ev_us.loc[(par_ev_us['event_name'] == 'product_cart') \\\n",
    "              & (par_ev_us['group'] == 'A'), 'user_id'].nunique()\n",
    "us_pc_A"
   ]
  },
  {
   "cell_type": "code",
   "execution_count": 104,
   "metadata": {},
   "outputs": [
    {
     "data": {
      "text/plain": [
       "31.1"
      ]
     },
     "execution_count": 104,
     "metadata": {},
     "output_type": "execute_result"
    }
   ],
   "source": [
    "#найдем конверсию количества пользователей login - в количество пользователей produc_cart\n",
    "\n",
    "con_l_pc_A = round((us_pc_A / us_l_A) * 100, 2)\n",
    "con_l_pc_A\n"
   ]
  },
  {
   "cell_type": "markdown",
   "metadata": {},
   "source": [
    "Итак, конверсия воронки событий login - produc_cart пользователей группы A равна 31,1%. "
   ]
  },
  {
   "cell_type": "markdown",
   "metadata": {},
   "source": [
    "ГРУППА \"B\""
   ]
  },
  {
   "cell_type": "code",
   "execution_count": 105,
   "metadata": {},
   "outputs": [
    {
     "data": {
      "text/plain": [
       "207"
      ]
     },
     "execution_count": 105,
     "metadata": {},
     "output_type": "execute_result"
    }
   ],
   "source": [
    "#найдем кол-во пользователей группы B, совершивших событие produc_cart, сохраним в переменной us_pc_B\n",
    "us_pc_B = par_ev_us.loc[(par_ev_us['event_name'] == 'product_cart') \\\n",
    "              & (par_ev_us['group'] == 'B'), 'user_id'].nunique()\n",
    "us_pc_B"
   ]
  },
  {
   "cell_type": "code",
   "execution_count": 106,
   "metadata": {},
   "outputs": [
    {
     "data": {
      "text/plain": [
       "29.32"
      ]
     },
     "execution_count": 106,
     "metadata": {},
     "output_type": "execute_result"
    }
   ],
   "source": [
    "#найдем конверсию количества пользователей login - в количество пользователей produc_cart\n",
    "\n",
    "con_l_pc_B = round((us_pc_B / us_l_B) * 100, 2)\n",
    "con_l_pc_B"
   ]
  },
  {
   "cell_type": "markdown",
   "metadata": {},
   "source": [
    "Итак, конверсия воронки событий login - produc_cart пользователей группы B равна 29,32%. "
   ]
  },
  {
   "cell_type": "markdown",
   "metadata": {},
   "source": [
    "III) login - purchase"
   ]
  },
  {
   "cell_type": "markdown",
   "metadata": {},
   "source": [
    "ГРУППА \"А\""
   ]
  },
  {
   "cell_type": "code",
   "execution_count": 107,
   "metadata": {},
   "outputs": [
    {
     "data": {
      "text/html": [
       "<div>\n",
       "<style scoped>\n",
       "    .dataframe tbody tr th:only-of-type {\n",
       "        vertical-align: middle;\n",
       "    }\n",
       "\n",
       "    .dataframe tbody tr th {\n",
       "        vertical-align: top;\n",
       "    }\n",
       "\n",
       "    .dataframe thead th {\n",
       "        text-align: right;\n",
       "    }\n",
       "</style>\n",
       "<table border=\"1\" class=\"dataframe\">\n",
       "  <thead>\n",
       "    <tr style=\"text-align: right;\">\n",
       "      <th></th>\n",
       "      <th>user_id</th>\n",
       "      <th>event_dt</th>\n",
       "      <th>event_name</th>\n",
       "      <th>details</th>\n",
       "      <th>first_date</th>\n",
       "      <th>region</th>\n",
       "      <th>device</th>\n",
       "      <th>group</th>\n",
       "      <th>ab_test</th>\n",
       "    </tr>\n",
       "  </thead>\n",
       "  <tbody>\n",
       "    <tr>\n",
       "      <th>0</th>\n",
       "      <td>E1BDDCE0DAFA2679</td>\n",
       "      <td>2020-12-07 20:22:03</td>\n",
       "      <td>purchase</td>\n",
       "      <td>99.99</td>\n",
       "      <td>2020-12-07</td>\n",
       "      <td>N.America</td>\n",
       "      <td>iPhone</td>\n",
       "      <td>NaN</td>\n",
       "      <td>NaN</td>\n",
       "    </tr>\n",
       "    <tr>\n",
       "      <th>1</th>\n",
       "      <td>7B6452F081F49504</td>\n",
       "      <td>2020-12-07 09:22:53</td>\n",
       "      <td>purchase</td>\n",
       "      <td>9.99</td>\n",
       "      <td>2020-12-07</td>\n",
       "      <td>EU</td>\n",
       "      <td>iPhone</td>\n",
       "      <td>NaN</td>\n",
       "      <td>NaN</td>\n",
       "    </tr>\n",
       "    <tr>\n",
       "      <th>2</th>\n",
       "      <td>9CD9F34546DF254C</td>\n",
       "      <td>2020-12-07 12:59:29</td>\n",
       "      <td>purchase</td>\n",
       "      <td>4.99</td>\n",
       "      <td>2020-12-07</td>\n",
       "      <td>N.America</td>\n",
       "      <td>iPhone</td>\n",
       "      <td>NaN</td>\n",
       "      <td>NaN</td>\n",
       "    </tr>\n",
       "    <tr>\n",
       "      <th>3</th>\n",
       "      <td>96F27A054B191457</td>\n",
       "      <td>2020-12-07 04:02:40</td>\n",
       "      <td>purchase</td>\n",
       "      <td>4.99</td>\n",
       "      <td>2020-12-07</td>\n",
       "      <td>EU</td>\n",
       "      <td>iPhone</td>\n",
       "      <td>NaN</td>\n",
       "      <td>NaN</td>\n",
       "    </tr>\n",
       "    <tr>\n",
       "      <th>4</th>\n",
       "      <td>1FD7660FDF94CA1F</td>\n",
       "      <td>2020-12-07 10:15:09</td>\n",
       "      <td>purchase</td>\n",
       "      <td>4.99</td>\n",
       "      <td>2020-12-07</td>\n",
       "      <td>EU</td>\n",
       "      <td>Android</td>\n",
       "      <td>NaN</td>\n",
       "      <td>NaN</td>\n",
       "    </tr>\n",
       "  </tbody>\n",
       "</table>\n",
       "</div>"
      ],
      "text/plain": [
       "            user_id            event_dt event_name  details first_date  \\\n",
       "0  E1BDDCE0DAFA2679 2020-12-07 20:22:03   purchase    99.99 2020-12-07   \n",
       "1  7B6452F081F49504 2020-12-07 09:22:53   purchase     9.99 2020-12-07   \n",
       "2  9CD9F34546DF254C 2020-12-07 12:59:29   purchase     4.99 2020-12-07   \n",
       "3  96F27A054B191457 2020-12-07 04:02:40   purchase     4.99 2020-12-07   \n",
       "4  1FD7660FDF94CA1F 2020-12-07 10:15:09   purchase     4.99 2020-12-07   \n",
       "\n",
       "      region   device group ab_test  \n",
       "0  N.America   iPhone   NaN     NaN  \n",
       "1         EU   iPhone   NaN     NaN  \n",
       "2  N.America   iPhone   NaN     NaN  \n",
       "3         EU   iPhone   NaN     NaN  \n",
       "4         EU  Android   NaN     NaN  "
      ]
     },
     "execution_count": 107,
     "metadata": {},
     "output_type": "execute_result"
    }
   ],
   "source": [
    "par_ev_us.head()"
   ]
  },
  {
   "cell_type": "code",
   "execution_count": 108,
   "metadata": {},
   "outputs": [
    {
     "data": {
      "text/plain": [
       "682"
      ]
     },
     "execution_count": 108,
     "metadata": {},
     "output_type": "execute_result"
    }
   ],
   "source": [
    "#найдем кол-во пользователей группы A, совершивших событие purchase, сохраним в переменной us_p_A\n",
    "us_p_A = par_ev_us.loc[(par_ev_us['event_name'] == 'purchase') \\\n",
    "              & (par_ev_us['group'] == 'A') & (par_ev_us['details'] != 0), 'user_id'].nunique()\n",
    "us_p_A"
   ]
  },
  {
   "cell_type": "code",
   "execution_count": 109,
   "metadata": {},
   "outputs": [
    {
     "data": {
      "text/plain": [
       "32.34"
      ]
     },
     "execution_count": 109,
     "metadata": {},
     "output_type": "execute_result"
    }
   ],
   "source": [
    "#найдем конверсию количества пользователей login - в количество пользователей purchase\n",
    "\n",
    "con_l_p_A = round((us_p_A / us_l_A) * 100, 2)\n",
    "con_l_p_A"
   ]
  },
  {
   "cell_type": "markdown",
   "metadata": {},
   "source": [
    "Итак, конверсия воронки событий login - purchase пользователей группы A равна 32,34%."
   ]
  },
  {
   "cell_type": "markdown",
   "metadata": {},
   "source": [
    "ГРУППА \"B\""
   ]
  },
  {
   "cell_type": "code",
   "execution_count": 110,
   "metadata": {},
   "outputs": [
    {
     "data": {
      "text/plain": [
       "191"
      ]
     },
     "execution_count": 110,
     "metadata": {},
     "output_type": "execute_result"
    }
   ],
   "source": [
    "#найдем кол-во пользователей группы B, совершивших событие purchase, сохраним в переменной us_p_B\n",
    "us_p_B = par_ev_us.loc[(par_ev_us['event_name'] == 'purchase') \\\n",
    "              & (par_ev_us['group'] == 'B') & (par_ev_us['details'] != 0), 'user_id'].nunique()\n",
    "us_p_B"
   ]
  },
  {
   "cell_type": "code",
   "execution_count": 111,
   "metadata": {},
   "outputs": [
    {
     "data": {
      "text/plain": [
       "27.05"
      ]
     },
     "execution_count": 111,
     "metadata": {},
     "output_type": "execute_result"
    }
   ],
   "source": [
    "#найдем конверсию количества пользователей login - в количество пользователей purchase\n",
    "\n",
    "con_l_p_B = round((us_p_B / us_l_B) * 100, 2)\n",
    "con_l_p_B"
   ]
  },
  {
   "cell_type": "markdown",
   "metadata": {},
   "source": [
    "Итак, конверсия воронки событий login - purchase пользователей группы B равна 27,05%."
   ]
  },
  {
   "cell_type": "code",
   "execution_count": 112,
   "metadata": {},
   "outputs": [
    {
     "data": {
      "image/png": "[encoded data removed]",
      "text/plain": [
       "<Figure size 360x360 with 1 Axes>"
      ]
     },
     "metadata": {
      "needs_background": "light"
     },
     "output_type": "display_data"
    }
   ],
   "source": [
    "index = np.arange(5)\n",
    "\n",
    "data = {'A': [con_l_pp_A, con_l_pc_A, con_l_p_A],\n",
    "        'B': [con_l_pp_B, con_l_pc_B, con_l_p_B],\n",
    "        }\n",
    "df = pd.DataFrame(data)\n",
    "df.plot(kind='bar', grid=True, figsize=(5, 5))\n",
    "\n",
    "plt.title('Конверсии воронки событий', fontsize = 10, color = 'blue')\n",
    "\n",
    "plt.show()"
   ]
  },
  {
   "cell_type": "markdown",
   "metadata": {},
   "source": [
    "Итак, судя по гистограмме выше, можно сказать, что введение улучшенной рекомендательной системы  ухудшело показатели конверсии воронки событий в целом."
   ]
  },
  {
   "cell_type": "markdown",
   "metadata": {},
   "source": [
    "### Различия в конверсиях."
   ]
  },
  {
   "cell_type": "markdown",
   "metadata": {},
   "source": [
    "Проверим: \n",
    "\n",
    "Ожидаемый эффект: за 14 дней с момента регистрации в системе пользователи покажут улучшение каждой метрики не менее, чем на 10%:\n",
    "\n",
    "- конверсии в просмотр карточек товаров — событие product_page\n",
    "- просмотры корзины — product_cart\n",
    "- покупки — purchase."
   ]
  },
  {
   "cell_type": "markdown",
   "metadata": {},
   "source": [
    "I) login - product_page"
   ]
  },
  {
   "cell_type": "markdown",
   "metadata": {},
   "source": [
    "1) Сформулируем нулевую гипотезу (Н0):\n",
    "\"Конверсии между группами одинаковые\"\n",
    "\n",
    "2) Альтернативная гипотеза (Н1):\n",
    "\"Конверсии между группами различны\""
   ]
  },
  {
   "cell_type": "code",
   "execution_count": 114,
   "metadata": {},
   "outputs": [
    {
     "name": "stdout",
     "output_type": "stream",
     "text": [
      "p-значение:  0.000\n",
      "Отвергаем нулевую гипотезу\n"
     ]
    }
   ],
   "source": [
    "import numpy as np\n",
    "from statsmodels.stats.proportion import proportions_ztest\n",
    "alpha = .05 # критический уровень статистической значимости\n",
    "# если p-value окажется меньше него - отвегнем гипотезу\n",
    "count = [us_pp_A, us_pp_B] \n",
    "\n",
    "nobs = [us_l_A, us_l_B]\n",
    "stat, pval = proportions_ztest(count, nobs)\n",
    "\n",
    "\n",
    "print('p-значение: ','{0:0.3f}'.format(pval))\n",
    "\n",
    "if pval < alpha:\n",
    "    print(\"Отвергаем нулевую гипотезу\")\n",
    "else:\n",
    "    print(\"Не получилось отвергнуть нулевую гипотезу\") \n",
    "\n"
   ]
  },
  {
   "cell_type": "markdown",
   "metadata": {},
   "source": [
    "Итак, конверсии между группами различны."
   ]
  },
  {
   "cell_type": "markdown",
   "metadata": {},
   "source": [
    "Найдем относительное их различие."
   ]
  },
  {
   "cell_type": "code",
   "execution_count": 115,
   "metadata": {},
   "outputs": [
    {
     "data": {
      "text/plain": [
       "56.798866855524075"
      ]
     },
     "execution_count": 115,
     "metadata": {},
     "output_type": "execute_result"
    }
   ],
   "source": [
    "# конверсия группы В\n",
    "(us_pp_B / us_l_B)*100"
   ]
  },
  {
   "cell_type": "code",
   "execution_count": 116,
   "metadata": {},
   "outputs": [
    {
     "data": {
      "text/plain": [
       "64.77003319108582"
      ]
     },
     "execution_count": 116,
     "metadata": {},
     "output_type": "execute_result"
    }
   ],
   "source": [
    "# конверсия группы А\n",
    "(us_pp_A / us_l_A)*100"
   ]
  },
  {
   "cell_type": "code",
   "execution_count": 117,
   "metadata": {},
   "outputs": [
    {
     "data": {
      "text/plain": [
       "-12.306873939750888"
      ]
     },
     "execution_count": 117,
     "metadata": {},
     "output_type": "execute_result"
    }
   ],
   "source": [
    "#прирост конверсии\n",
    "(((us_pp_B / us_l_B) - (us_pp_A / us_l_A)) / (us_pp_A/ us_l_A)) * 100"
   ]
  },
  {
   "cell_type": "markdown",
   "metadata": {},
   "source": [
    "То есть конверсия из событий login - в событие product_page показало уменьшение на 12%. Это не соответствет ожидаемому от теста результату."
   ]
  },
  {
   "cell_type": "markdown",
   "metadata": {},
   "source": [
    "II) login - produc_cart"
   ]
  },
  {
   "cell_type": "markdown",
   "metadata": {},
   "source": [
    "1) Сформулируем нулевую гипотезу (Н0):\n",
    "\"Конверсии между группами одинаковые\"\n",
    "\n",
    "2) Альтернативная гипотеза (Н1):\n",
    "\"Конверсии между группами различны\""
   ]
  },
  {
   "cell_type": "code",
   "execution_count": 118,
   "metadata": {},
   "outputs": [
    {
     "name": "stdout",
     "output_type": "stream",
     "text": [
      "p-значение:  0.373\n",
      "Не получилось отвергнуть нулевую гипотезу\n"
     ]
    }
   ],
   "source": [
    "import numpy as np\n",
    "from statsmodels.stats.proportion import proportions_ztest\n",
    "alpha = .05 # критический уровень статистической значимости\n",
    "# если p-value окажется меньше него - отвегнем гипотезу\n",
    "count = [us_pc_A, us_pc_B] \n",
    "\n",
    "nobs = [us_l_A, us_l_B]\n",
    "stat, pval = proportions_ztest(count, nobs) \n",
    "\n",
    "\n",
    "print('p-значение: ','{0:0.3f}'.format(pval))\n",
    "\n",
    "if pval < alpha:\n",
    "    print(\"Отвергаем нулевую гипотезу\")\n",
    "else:\n",
    "    print(\"Не получилось отвергнуть нулевую гипотезу\") \n",
    "\n"
   ]
  },
  {
   "cell_type": "markdown",
   "metadata": {},
   "source": [
    "Итак, конверсии между группами равны."
   ]
  },
  {
   "cell_type": "markdown",
   "metadata": {},
   "source": [
    "III) login - purchase"
   ]
  },
  {
   "cell_type": "markdown",
   "metadata": {},
   "source": [
    "1) Сформулируем нулевую гипотезу (Н0):\n",
    "\"Конверсии между группами одинаковые\"\n",
    "\n",
    "2) Альтернативная гипотеза (Н1):\n",
    "\"Конверсии между группами различны\""
   ]
  },
  {
   "cell_type": "code",
   "execution_count": 119,
   "metadata": {},
   "outputs": [
    {
     "name": "stdout",
     "output_type": "stream",
     "text": [
      "p-значение:  0.009\n",
      "Отвергаем нулевую гипотезу\n"
     ]
    }
   ],
   "source": [
    "import numpy as np\n",
    "from statsmodels.stats.proportion import proportions_ztest\n",
    "alpha = .05 # критический уровень статистической значимости\n",
    "# если p-value окажется меньше него - отвегнем гипотезу\n",
    "count = [us_p_A, us_p_B] \n",
    "\n",
    "nobs = [us_l_A, us_l_B]\n",
    "stat, pval = proportions_ztest(count, nobs) \n",
    "\n",
    "\n",
    "print('p-значение: ','{0:0.3f}'.format(pval))\n",
    "\n",
    "if pval < alpha:\n",
    "    print(\"Отвергаем нулевую гипотезу\")\n",
    "else:\n",
    "    print(\"Не получилось отвергнуть нулевую гипотезу\") \n"
   ]
  },
  {
   "cell_type": "markdown",
   "metadata": {},
   "source": [
    "Итак, конверсии между группами различны."
   ]
  },
  {
   "cell_type": "markdown",
   "metadata": {},
   "source": [
    "Найдем относительное их различие."
   ]
  },
  {
   "cell_type": "code",
   "execution_count": 120,
   "metadata": {},
   "outputs": [
    {
     "data": {
      "text/plain": [
       "27.053824362606232"
      ]
     },
     "execution_count": 120,
     "metadata": {},
     "output_type": "execute_result"
    }
   ],
   "source": [
    "# конверсия группы В\n",
    "(us_p_B / us_l_B)*100"
   ]
  },
  {
   "cell_type": "code",
   "execution_count": 121,
   "metadata": {},
   "outputs": [
    {
     "data": {
      "text/plain": [
       "32.33760075865339"
      ]
     },
     "execution_count": 121,
     "metadata": {},
     "output_type": "execute_result"
    }
   ],
   "source": [
    "# конверсия группы А\n",
    "(us_p_A / us_l_A)*100"
   ]
  },
  {
   "cell_type": "code",
   "execution_count": 122,
   "metadata": {},
   "outputs": [
    {
     "data": {
      "text/plain": [
       "-16.33941996959451"
      ]
     },
     "execution_count": 122,
     "metadata": {},
     "output_type": "execute_result"
    }
   ],
   "source": [
    "#прирост конверсии\n",
    "(((us_p_B / us_l_B) - (us_p_A / us_l_A)) / (us_p_A/ us_l_A)) * 100"
   ]
  },
  {
   "cell_type": "markdown",
   "metadata": {},
   "source": [
    "То есть конверсия из событий login - в событие purchase показало уменьшение на 16%. Это не соответствет ожидаемому от теста результату."
   ]
  },
  {
   "cell_type": "markdown",
   "metadata": {},
   "source": [
    "Вывод п.3.\n",
    "\n",
    "На основе анализа результатов теста делаем вывод, что внедрение улучшенной рекомендательной системы не дало ожидаемого эффекта. Конверсии не то, чтобы повысились на ожидаемый минимум 10%, но с введением новой рекомендательной системы даже понизились."
   ]
  },
  {
   "cell_type": "markdown",
   "metadata": {},
   "source": [
    "## ОБЩИЕ ВЫВОДЫ"
   ]
  },
  {
   "cell_type": "markdown",
   "metadata": {},
   "source": [
    "Перед началом анализа AB - теста была проведена подготовка данныех:\n",
    "\n",
    "- данные приведены к необходимому типу;\n",
    "- обнаружено и обосновано большое количество пропусков в датасете events столбец 'details'; \n",
    "- проведена проверка явных дубликатов, категорийных и численных данных  - ошибок и других аномалий не обнаружено \n",
    "\n",
    "После оценки корректности проведения теста можно сделать вывод данные не достаточно корректны:\n",
    "\n",
    "Вывод п.2:\n",
    "\n",
    "После оценки корректности проведения теста можно сделать вывод данные не достаточно корректны:\n",
    "\n",
    "- временные границы проведения теста выбраны неверно:\n",
    "    - выпадают на предпраздничные и праздничные дни;\n",
    "    - совпадают с датами проведения маркетинговых активностей;\n",
    "    - обнаружено 5 263 пользователя, которые зарегистрировались после 21.12.2020г.\n",
    "    \n",
    "- аудитория теста тоже не совпадает с ожидаемой;\n",
    "\n",
    "- сравнивая распределение количества событий в разрезе групп видим, что после внедрением улучшенной рекомендательной системы пользователи стали совершать меньшее количество событий, особенности они перестали покупать;\n",
    "\n",
    "- количество событий, в связи с внедрением улучшенной рекомендательной системы, значительно уменьшилось, но распределение их по датам не очень изменилось.\n",
    "\n",
    "    \n",
    "На основе анализа результатов теста делаем вывод, что внедрение улучшенной рекомендательной системы не дало ожидаемого эффекта. Конверсии не то, чтобы повысились на ожидаемый минимум 10%, но с введением новой рекомендательной системы даже понизились.\n"
   ]
  },
  {
   "cell_type": "markdown",
   "metadata": {},
   "source": [
    "## РЕКОМЕНДАЦИИ"
   ]
  },
  {
   "cell_type": "markdown",
   "metadata": {},
   "source": [
    "Проведенный AB - тест не дал ожидаемого результата от внедрения улучшенной рекомендательной системы. Возможно, если бы организация сбора данных и само проведение теста были бы более корректным - тест бы дал лучший результат. По данному исследованию нельзя судить об эффективности внедрения улучшенной рекомендательной системы."
   ]
  }
 ],
 "metadata": {
  "ExecuteTimeLog": [
   {
    "duration": 1492,
    "start_time": "2022-05-18T08:36:45.558Z"
   },
   {
    "duration": 1852,
    "start_time": "2022-05-18T08:39:13.283Z"
   },
   {
    "duration": 15,
    "start_time": "2022-05-18T08:39:36.983Z"
   },
   {
    "duration": 9,
    "start_time": "2022-05-18T08:39:51.054Z"
   },
   {
    "duration": 10,
    "start_time": "2022-05-18T08:40:09.497Z"
   },
   {
    "duration": 54,
    "start_time": "2022-05-18T11:33:56.000Z"
   },
   {
    "duration": 1356,
    "start_time": "2022-05-18T11:34:02.505Z"
   },
   {
    "duration": 1703,
    "start_time": "2022-05-18T11:34:03.863Z"
   },
   {
    "duration": 14,
    "start_time": "2022-05-18T11:34:05.568Z"
   },
   {
    "duration": 8,
    "start_time": "2022-05-18T11:34:05.585Z"
   },
   {
    "duration": 15,
    "start_time": "2022-05-18T11:34:05.595Z"
   },
   {
    "duration": 12,
    "start_time": "2022-05-18T11:34:05.612Z"
   },
   {
    "duration": 19,
    "start_time": "2022-05-18T11:34:23.853Z"
   },
   {
    "duration": 67,
    "start_time": "2022-05-18T11:34:36.650Z"
   },
   {
    "duration": 677,
    "start_time": "2022-05-18T11:37:17.396Z"
   },
   {
    "duration": 11,
    "start_time": "2022-05-18T11:37:27.844Z"
   },
   {
    "duration": 16,
    "start_time": "2022-05-18T11:38:04.103Z"
   },
   {
    "duration": 1164,
    "start_time": "2022-05-18T12:16:09.844Z"
   },
   {
    "duration": 594,
    "start_time": "2022-05-18T12:16:11.010Z"
   },
   {
    "duration": 13,
    "start_time": "2022-05-18T12:16:11.606Z"
   },
   {
    "duration": 9,
    "start_time": "2022-05-18T12:16:11.622Z"
   },
   {
    "duration": 13,
    "start_time": "2022-05-18T12:16:11.633Z"
   },
   {
    "duration": 11,
    "start_time": "2022-05-18T12:16:11.647Z"
   },
   {
    "duration": 13,
    "start_time": "2022-05-18T12:16:11.674Z"
   },
   {
    "duration": 22,
    "start_time": "2022-05-18T12:16:11.689Z"
   },
   {
    "duration": 78,
    "start_time": "2022-05-18T12:16:11.712Z"
   },
   {
    "duration": 11,
    "start_time": "2022-05-18T12:16:11.792Z"
   },
   {
    "duration": 7,
    "start_time": "2022-05-18T12:16:11.805Z"
   },
   {
    "duration": 155,
    "start_time": "2022-05-18T12:18:12.170Z"
   },
   {
    "duration": 13,
    "start_time": "2022-05-18T12:18:35.305Z"
   },
   {
    "duration": 18,
    "start_time": "2022-05-18T12:18:48.351Z"
   },
   {
    "duration": 57,
    "start_time": "2022-05-18T12:19:07.046Z"
   },
   {
    "duration": 6,
    "start_time": "2022-05-18T12:20:29.933Z"
   },
   {
    "duration": 12,
    "start_time": "2022-05-18T12:20:51.042Z"
   },
   {
    "duration": 41,
    "start_time": "2022-05-18T12:21:11.829Z"
   },
   {
    "duration": 48,
    "start_time": "2022-05-18T12:21:56.261Z"
   },
   {
    "duration": 8,
    "start_time": "2022-05-18T12:21:57.310Z"
   },
   {
    "duration": 12,
    "start_time": "2022-05-18T12:22:39.270Z"
   },
   {
    "duration": 113,
    "start_time": "2022-05-18T12:24:04.844Z"
   },
   {
    "duration": 39,
    "start_time": "2022-05-18T12:24:11.352Z"
   },
   {
    "duration": 13,
    "start_time": "2022-05-18T12:31:51.855Z"
   },
   {
    "duration": 11,
    "start_time": "2022-05-18T12:32:20.196Z"
   },
   {
    "duration": 15,
    "start_time": "2022-05-18T12:35:46.930Z"
   },
   {
    "duration": 12,
    "start_time": "2022-05-18T12:36:04.601Z"
   },
   {
    "duration": 7,
    "start_time": "2022-05-18T12:36:16.754Z"
   },
   {
    "duration": 13,
    "start_time": "2022-05-18T12:36:28.288Z"
   },
   {
    "duration": 43,
    "start_time": "2022-05-18T12:37:05.568Z"
   },
   {
    "duration": 5,
    "start_time": "2022-05-18T12:38:57.186Z"
   },
   {
    "duration": 31,
    "start_time": "2022-05-18T12:39:27.632Z"
   },
   {
    "duration": 186,
    "start_time": "2022-05-18T12:39:50.195Z"
   },
   {
    "duration": 9,
    "start_time": "2022-05-18T12:40:11.848Z"
   },
   {
    "duration": 10,
    "start_time": "2022-05-18T12:42:09.891Z"
   },
   {
    "duration": 7,
    "start_time": "2022-05-18T12:42:23.505Z"
   },
   {
    "duration": 10,
    "start_time": "2022-05-18T12:42:39.045Z"
   },
   {
    "duration": 10,
    "start_time": "2022-05-18T12:42:56.345Z"
   },
   {
    "duration": 9,
    "start_time": "2022-05-18T12:43:23.544Z"
   },
   {
    "duration": 6,
    "start_time": "2022-05-18T12:43:41.381Z"
   },
   {
    "duration": 5,
    "start_time": "2022-05-18T12:44:23.462Z"
   },
   {
    "duration": 7,
    "start_time": "2022-05-18T12:46:56.087Z"
   },
   {
    "duration": 6,
    "start_time": "2022-05-18T12:46:58.243Z"
   },
   {
    "duration": 10,
    "start_time": "2022-05-18T12:47:44.059Z"
   },
   {
    "duration": 11,
    "start_time": "2022-05-18T12:48:24.044Z"
   },
   {
    "duration": 37,
    "start_time": "2022-05-18T12:49:15.894Z"
   },
   {
    "duration": 7,
    "start_time": "2022-05-18T12:49:59.099Z"
   },
   {
    "duration": 9,
    "start_time": "2022-05-18T12:50:24.788Z"
   },
   {
    "duration": 7,
    "start_time": "2022-05-18T12:56:27.272Z"
   },
   {
    "duration": 9,
    "start_time": "2022-05-18T13:14:15.329Z"
   },
   {
    "duration": 7,
    "start_time": "2022-05-18T13:14:58.949Z"
   },
   {
    "duration": 19,
    "start_time": "2022-05-18T13:16:46.809Z"
   },
   {
    "duration": 7,
    "start_time": "2022-05-18T13:24:24.853Z"
   },
   {
    "duration": 7,
    "start_time": "2022-05-18T13:24:26.066Z"
   },
   {
    "duration": 20,
    "start_time": "2022-05-18T13:24:27.189Z"
   },
   {
    "duration": 13,
    "start_time": "2022-05-18T13:27:42.370Z"
   },
   {
    "duration": 22,
    "start_time": "2022-05-18T13:27:53.464Z"
   },
   {
    "duration": 10,
    "start_time": "2022-05-18T13:28:03.287Z"
   },
   {
    "duration": 5,
    "start_time": "2022-05-18T13:28:57.806Z"
   },
   {
    "duration": 15,
    "start_time": "2022-05-18T13:29:20.973Z"
   },
   {
    "duration": 10,
    "start_time": "2022-05-18T13:41:33.584Z"
   },
   {
    "duration": 13,
    "start_time": "2022-05-18T13:42:55.905Z"
   },
   {
    "duration": 16,
    "start_time": "2022-05-18T13:43:32.074Z"
   },
   {
    "duration": 8,
    "start_time": "2022-05-18T13:53:36.595Z"
   },
   {
    "duration": 30,
    "start_time": "2022-05-18T13:54:42.637Z"
   },
   {
    "duration": 37,
    "start_time": "2022-05-18T13:55:03.497Z"
   },
   {
    "duration": 41,
    "start_time": "2022-05-18T13:56:09.546Z"
   },
   {
    "duration": 1162,
    "start_time": "2022-05-18T13:56:35.968Z"
   },
   {
    "duration": 759,
    "start_time": "2022-05-18T13:56:37.132Z"
   },
   {
    "duration": 12,
    "start_time": "2022-05-18T13:56:37.893Z"
   },
   {
    "duration": 7,
    "start_time": "2022-05-18T13:56:37.908Z"
   },
   {
    "duration": 13,
    "start_time": "2022-05-18T13:56:37.917Z"
   },
   {
    "duration": 9,
    "start_time": "2022-05-18T13:56:37.931Z"
   },
   {
    "duration": 12,
    "start_time": "2022-05-18T13:56:37.941Z"
   },
   {
    "duration": 38,
    "start_time": "2022-05-18T13:56:37.954Z"
   },
   {
    "duration": 61,
    "start_time": "2022-05-18T13:56:37.993Z"
   },
   {
    "duration": 26,
    "start_time": "2022-05-18T13:56:38.057Z"
   },
   {
    "duration": 106,
    "start_time": "2022-05-18T13:56:38.085Z"
   },
   {
    "duration": 12,
    "start_time": "2022-05-18T13:56:38.193Z"
   },
   {
    "duration": 26,
    "start_time": "2022-05-18T13:56:38.206Z"
   },
   {
    "duration": 60,
    "start_time": "2022-05-18T13:56:38.233Z"
   },
   {
    "duration": 5,
    "start_time": "2022-05-18T13:56:38.295Z"
   },
   {
    "duration": 15,
    "start_time": "2022-05-18T13:56:38.302Z"
   },
   {
    "duration": 62,
    "start_time": "2022-05-18T13:56:38.319Z"
   },
   {
    "duration": 7,
    "start_time": "2022-05-18T13:56:38.383Z"
   },
   {
    "duration": 11,
    "start_time": "2022-05-18T13:56:38.392Z"
   },
   {
    "duration": 38,
    "start_time": "2022-05-18T13:56:38.405Z"
   },
   {
    "duration": 30,
    "start_time": "2022-05-18T13:56:38.445Z"
   },
   {
    "duration": 42,
    "start_time": "2022-05-18T13:56:38.477Z"
   },
   {
    "duration": 6,
    "start_time": "2022-05-18T13:56:38.521Z"
   },
   {
    "duration": 53,
    "start_time": "2022-05-18T13:56:38.529Z"
   },
   {
    "duration": 197,
    "start_time": "2022-05-18T13:56:38.584Z"
   },
   {
    "duration": 12,
    "start_time": "2022-05-18T13:56:38.783Z"
   },
   {
    "duration": 9,
    "start_time": "2022-05-18T13:56:38.797Z"
   },
   {
    "duration": 10,
    "start_time": "2022-05-18T13:56:38.809Z"
   },
   {
    "duration": 10,
    "start_time": "2022-05-18T13:56:38.820Z"
   },
   {
    "duration": 44,
    "start_time": "2022-05-18T13:56:38.832Z"
   },
   {
    "duration": 6,
    "start_time": "2022-05-18T13:56:38.877Z"
   },
   {
    "duration": 9,
    "start_time": "2022-05-18T13:56:38.884Z"
   },
   {
    "duration": 11,
    "start_time": "2022-05-18T13:56:38.895Z"
   },
   {
    "duration": 11,
    "start_time": "2022-05-18T13:56:38.908Z"
   },
   {
    "duration": 60,
    "start_time": "2022-05-18T13:56:38.921Z"
   },
   {
    "duration": 10,
    "start_time": "2022-05-18T13:56:38.982Z"
   },
   {
    "duration": 12,
    "start_time": "2022-05-18T13:56:38.994Z"
   },
   {
    "duration": 9,
    "start_time": "2022-05-18T13:56:39.008Z"
   },
   {
    "duration": 14,
    "start_time": "2022-05-18T13:56:39.019Z"
   },
   {
    "duration": 14,
    "start_time": "2022-05-18T13:56:39.035Z"
   },
   {
    "duration": 59,
    "start_time": "2022-05-18T13:56:39.050Z"
   },
   {
    "duration": 15,
    "start_time": "2022-05-18T13:56:39.111Z"
   },
   {
    "duration": 11,
    "start_time": "2022-05-18T13:56:39.127Z"
   },
   {
    "duration": 1357,
    "start_time": "2022-05-18T16:39:43.814Z"
   },
   {
    "duration": 888,
    "start_time": "2022-05-18T16:39:45.173Z"
   },
   {
    "duration": 13,
    "start_time": "2022-05-18T16:39:46.062Z"
   },
   {
    "duration": 10,
    "start_time": "2022-05-18T16:39:46.077Z"
   },
   {
    "duration": 13,
    "start_time": "2022-05-18T16:39:46.088Z"
   },
   {
    "duration": 13,
    "start_time": "2022-05-18T16:39:46.103Z"
   },
   {
    "duration": 15,
    "start_time": "2022-05-18T16:39:46.118Z"
   },
   {
    "duration": 19,
    "start_time": "2022-05-18T16:39:46.135Z"
   },
   {
    "duration": 58,
    "start_time": "2022-05-18T16:39:46.156Z"
   },
   {
    "duration": 10,
    "start_time": "2022-05-18T16:39:46.224Z"
   },
   {
    "duration": 110,
    "start_time": "2022-05-18T16:39:46.236Z"
   },
   {
    "duration": 10,
    "start_time": "2022-05-18T16:39:46.348Z"
   },
   {
    "duration": 20,
    "start_time": "2022-05-18T16:39:46.360Z"
   },
   {
    "duration": 52,
    "start_time": "2022-05-18T16:39:46.381Z"
   },
   {
    "duration": 5,
    "start_time": "2022-05-18T16:39:46.435Z"
   },
   {
    "duration": 14,
    "start_time": "2022-05-18T16:39:46.442Z"
   },
   {
    "duration": 38,
    "start_time": "2022-05-18T16:39:46.457Z"
   },
   {
    "duration": 30,
    "start_time": "2022-05-18T16:39:46.497Z"
   },
   {
    "duration": 10,
    "start_time": "2022-05-18T16:39:46.529Z"
   },
   {
    "duration": 35,
    "start_time": "2022-05-18T16:39:46.540Z"
   },
   {
    "duration": 9,
    "start_time": "2022-05-18T16:39:46.578Z"
   },
   {
    "duration": 61,
    "start_time": "2022-05-18T16:39:46.589Z"
   },
   {
    "duration": 6,
    "start_time": "2022-05-18T16:39:46.652Z"
   },
   {
    "duration": 32,
    "start_time": "2022-05-18T16:39:46.659Z"
   },
   {
    "duration": 198,
    "start_time": "2022-05-18T16:39:46.693Z"
   },
   {
    "duration": 10,
    "start_time": "2022-05-18T16:39:46.893Z"
   },
   {
    "duration": 22,
    "start_time": "2022-05-18T16:39:46.905Z"
   },
   {
    "duration": 17,
    "start_time": "2022-05-18T16:39:46.931Z"
   },
   {
    "duration": 10,
    "start_time": "2022-05-18T16:39:46.950Z"
   },
   {
    "duration": 12,
    "start_time": "2022-05-18T16:39:46.962Z"
   },
   {
    "duration": 8,
    "start_time": "2022-05-18T16:39:46.976Z"
   },
   {
    "duration": 8,
    "start_time": "2022-05-18T16:39:46.985Z"
   },
   {
    "duration": 38,
    "start_time": "2022-05-18T16:39:46.995Z"
   },
   {
    "duration": 15,
    "start_time": "2022-05-18T16:39:47.035Z"
   },
   {
    "duration": 61,
    "start_time": "2022-05-18T16:39:47.051Z"
   },
   {
    "duration": 6,
    "start_time": "2022-05-18T16:39:47.123Z"
   },
   {
    "duration": 8,
    "start_time": "2022-05-18T16:39:47.131Z"
   },
   {
    "duration": 11,
    "start_time": "2022-05-18T16:39:47.141Z"
   },
   {
    "duration": 12,
    "start_time": "2022-05-18T16:39:47.154Z"
   },
   {
    "duration": 8,
    "start_time": "2022-05-18T16:39:47.168Z"
   },
   {
    "duration": 67,
    "start_time": "2022-05-18T16:39:47.178Z"
   },
   {
    "duration": 15,
    "start_time": "2022-05-18T16:39:47.247Z"
   },
   {
    "duration": 12,
    "start_time": "2022-05-18T16:39:47.263Z"
   },
   {
    "duration": 10,
    "start_time": "2022-05-18T16:41:42.223Z"
   },
   {
    "duration": 22,
    "start_time": "2022-05-18T16:42:48.569Z"
   },
   {
    "duration": 10,
    "start_time": "2022-05-18T16:58:20.741Z"
   },
   {
    "duration": 9,
    "start_time": "2022-05-18T16:58:22.245Z"
   },
   {
    "duration": 26,
    "start_time": "2022-05-18T16:58:28.536Z"
   },
   {
    "duration": 56,
    "start_time": "2022-05-18T18:31:53.654Z"
   },
   {
    "duration": 1351,
    "start_time": "2022-05-18T18:32:00.752Z"
   },
   {
    "duration": 815,
    "start_time": "2022-05-18T18:32:02.105Z"
   },
   {
    "duration": 12,
    "start_time": "2022-05-18T18:32:02.921Z"
   },
   {
    "duration": 12,
    "start_time": "2022-05-18T18:32:02.935Z"
   },
   {
    "duration": 13,
    "start_time": "2022-05-18T18:32:02.949Z"
   },
   {
    "duration": 16,
    "start_time": "2022-05-18T18:32:02.963Z"
   },
   {
    "duration": 19,
    "start_time": "2022-05-18T18:32:02.981Z"
   },
   {
    "duration": 27,
    "start_time": "2022-05-18T18:32:03.002Z"
   },
   {
    "duration": 55,
    "start_time": "2022-05-18T18:32:03.031Z"
   },
   {
    "duration": 11,
    "start_time": "2022-05-18T18:32:03.088Z"
   },
   {
    "duration": 105,
    "start_time": "2022-05-18T18:32:03.100Z"
   },
   {
    "duration": 20,
    "start_time": "2022-05-18T18:32:03.207Z"
   },
   {
    "duration": 15,
    "start_time": "2022-05-18T18:32:03.229Z"
   },
   {
    "duration": 45,
    "start_time": "2022-05-18T18:32:03.248Z"
   },
   {
    "duration": 6,
    "start_time": "2022-05-18T18:32:03.295Z"
   },
   {
    "duration": 33,
    "start_time": "2022-05-18T18:32:03.302Z"
   },
   {
    "duration": 39,
    "start_time": "2022-05-18T18:32:03.336Z"
   },
   {
    "duration": 8,
    "start_time": "2022-05-18T18:32:03.376Z"
   },
   {
    "duration": 11,
    "start_time": "2022-05-18T18:32:03.386Z"
   },
   {
    "duration": 58,
    "start_time": "2022-05-18T18:32:03.399Z"
   },
   {
    "duration": 10,
    "start_time": "2022-05-18T18:32:03.459Z"
   },
   {
    "duration": 62,
    "start_time": "2022-05-18T18:32:03.471Z"
   },
   {
    "duration": 5,
    "start_time": "2022-05-18T18:32:03.535Z"
   },
   {
    "duration": 34,
    "start_time": "2022-05-18T18:32:03.542Z"
   },
   {
    "duration": 182,
    "start_time": "2022-05-18T18:32:03.578Z"
   },
   {
    "duration": 10,
    "start_time": "2022-05-18T18:32:03.762Z"
   },
   {
    "duration": 17,
    "start_time": "2022-05-18T18:32:03.774Z"
   },
   {
    "duration": 14,
    "start_time": "2022-05-18T18:32:03.793Z"
   },
   {
    "duration": 25,
    "start_time": "2022-05-18T18:32:03.808Z"
   },
   {
    "duration": 12,
    "start_time": "2022-05-18T18:32:03.835Z"
   },
   {
    "duration": 8,
    "start_time": "2022-05-18T18:32:03.849Z"
   },
   {
    "duration": 12,
    "start_time": "2022-05-18T18:32:03.858Z"
   },
   {
    "duration": 16,
    "start_time": "2022-05-18T18:32:03.872Z"
   },
   {
    "duration": 17,
    "start_time": "2022-05-18T18:32:03.890Z"
   },
   {
    "duration": 46,
    "start_time": "2022-05-18T18:32:03.908Z"
   },
   {
    "duration": 14,
    "start_time": "2022-05-18T18:32:03.957Z"
   },
   {
    "duration": 9,
    "start_time": "2022-05-18T18:32:03.973Z"
   },
   {
    "duration": 10,
    "start_time": "2022-05-18T18:32:03.983Z"
   },
   {
    "duration": 30,
    "start_time": "2022-05-18T18:32:03.995Z"
   },
   {
    "duration": 13,
    "start_time": "2022-05-18T18:32:04.027Z"
   },
   {
    "duration": 30,
    "start_time": "2022-05-18T18:32:04.045Z"
   },
   {
    "duration": 5,
    "start_time": "2022-05-18T18:32:04.076Z"
   },
   {
    "duration": 17,
    "start_time": "2022-05-18T18:32:04.082Z"
   },
   {
    "duration": 50,
    "start_time": "2022-05-18T18:32:04.101Z"
   },
   {
    "duration": 16,
    "start_time": "2022-05-18T18:32:04.152Z"
   },
   {
    "duration": 11,
    "start_time": "2022-05-18T18:32:04.170Z"
   },
   {
    "duration": 9,
    "start_time": "2022-05-18T18:33:53.151Z"
   },
   {
    "duration": 9,
    "start_time": "2022-05-18T18:33:57.389Z"
   },
   {
    "duration": 10,
    "start_time": "2022-05-18T18:33:58.581Z"
   },
   {
    "duration": 9,
    "start_time": "2022-05-18T18:34:13.289Z"
   },
   {
    "duration": 10,
    "start_time": "2022-05-18T18:45:24.193Z"
   },
   {
    "duration": 5,
    "start_time": "2022-05-18T18:46:26.629Z"
   },
   {
    "duration": 19,
    "start_time": "2022-05-18T18:47:01.596Z"
   },
   {
    "duration": 13,
    "start_time": "2022-05-18T18:54:53.064Z"
   },
   {
    "duration": 15,
    "start_time": "2022-05-18T18:55:23.473Z"
   },
   {
    "duration": 5,
    "start_time": "2022-05-18T18:58:47.088Z"
   },
   {
    "duration": 9,
    "start_time": "2022-05-18T18:58:47.947Z"
   },
   {
    "duration": 13,
    "start_time": "2022-05-18T19:01:48.796Z"
   },
   {
    "duration": 16,
    "start_time": "2022-05-18T19:02:02.530Z"
   },
   {
    "duration": 14,
    "start_time": "2022-05-18T19:02:54.388Z"
   },
   {
    "duration": 1181,
    "start_time": "2022-05-18T19:03:07.373Z"
   },
   {
    "duration": 528,
    "start_time": "2022-05-18T19:03:08.557Z"
   },
   {
    "duration": 12,
    "start_time": "2022-05-18T19:03:09.087Z"
   },
   {
    "duration": 15,
    "start_time": "2022-05-18T19:03:09.101Z"
   },
   {
    "duration": 15,
    "start_time": "2022-05-18T19:03:09.119Z"
   },
   {
    "duration": 14,
    "start_time": "2022-05-18T19:03:09.138Z"
   },
   {
    "duration": 15,
    "start_time": "2022-05-18T19:03:09.154Z"
   },
   {
    "duration": 26,
    "start_time": "2022-05-18T19:03:09.171Z"
   },
   {
    "duration": 83,
    "start_time": "2022-05-18T19:03:09.199Z"
   },
   {
    "duration": 12,
    "start_time": "2022-05-18T19:03:09.284Z"
   },
   {
    "duration": 115,
    "start_time": "2022-05-18T19:03:09.298Z"
   },
   {
    "duration": 15,
    "start_time": "2022-05-18T19:03:09.415Z"
   },
   {
    "duration": 23,
    "start_time": "2022-05-18T19:03:09.431Z"
   },
   {
    "duration": 86,
    "start_time": "2022-05-18T19:03:09.458Z"
   },
   {
    "duration": 7,
    "start_time": "2022-05-18T19:03:09.546Z"
   },
   {
    "duration": 19,
    "start_time": "2022-05-18T19:03:09.555Z"
   },
   {
    "duration": 69,
    "start_time": "2022-05-18T19:03:09.575Z"
   },
   {
    "duration": 8,
    "start_time": "2022-05-18T19:03:09.646Z"
   },
   {
    "duration": 18,
    "start_time": "2022-05-18T19:03:09.656Z"
   },
   {
    "duration": 51,
    "start_time": "2022-05-18T19:03:09.676Z"
   },
   {
    "duration": 10,
    "start_time": "2022-05-18T19:03:09.729Z"
   },
   {
    "duration": 40,
    "start_time": "2022-05-18T19:03:09.741Z"
   },
   {
    "duration": 7,
    "start_time": "2022-05-18T19:03:09.785Z"
   },
   {
    "duration": 64,
    "start_time": "2022-05-18T19:03:09.794Z"
   },
   {
    "duration": 204,
    "start_time": "2022-05-18T19:03:09.860Z"
   },
   {
    "duration": 12,
    "start_time": "2022-05-18T19:03:10.067Z"
   },
   {
    "duration": 13,
    "start_time": "2022-05-18T19:03:10.081Z"
   },
   {
    "duration": 32,
    "start_time": "2022-05-18T19:03:10.096Z"
   },
   {
    "duration": 11,
    "start_time": "2022-05-18T19:03:10.131Z"
   },
   {
    "duration": 24,
    "start_time": "2022-05-18T19:03:10.144Z"
   },
   {
    "duration": 35,
    "start_time": "2022-05-18T19:03:10.170Z"
   },
   {
    "duration": 37,
    "start_time": "2022-05-18T19:03:10.207Z"
   },
   {
    "duration": 39,
    "start_time": "2022-05-18T19:03:10.247Z"
   },
   {
    "duration": 28,
    "start_time": "2022-05-18T19:03:10.289Z"
   },
   {
    "duration": 80,
    "start_time": "2022-05-18T19:03:10.319Z"
   },
   {
    "duration": 65,
    "start_time": "2022-05-18T19:03:10.401Z"
   },
   {
    "duration": 65,
    "start_time": "2022-05-18T19:03:10.469Z"
   },
   {
    "duration": 52,
    "start_time": "2022-05-18T19:03:10.536Z"
   },
   {
    "duration": 44,
    "start_time": "2022-05-18T19:03:10.590Z"
   },
   {
    "duration": 19,
    "start_time": "2022-05-18T19:03:10.636Z"
   },
   {
    "duration": 26,
    "start_time": "2022-05-18T19:03:10.660Z"
   },
   {
    "duration": 25,
    "start_time": "2022-05-18T19:03:10.688Z"
   },
   {
    "duration": 12,
    "start_time": "2022-05-18T19:03:10.715Z"
   },
   {
    "duration": 12,
    "start_time": "2022-05-18T19:03:10.728Z"
   },
   {
    "duration": 16,
    "start_time": "2022-05-18T19:03:10.742Z"
   },
   {
    "duration": 13,
    "start_time": "2022-05-18T19:03:10.760Z"
   },
   {
    "duration": 17,
    "start_time": "2022-05-18T19:03:10.775Z"
   },
   {
    "duration": 35,
    "start_time": "2022-05-18T19:03:10.794Z"
   },
   {
    "duration": 11,
    "start_time": "2022-05-18T19:03:10.832Z"
   },
   {
    "duration": 13,
    "start_time": "2022-05-18T19:03:10.845Z"
   },
   {
    "duration": 39,
    "start_time": "2022-05-18T19:03:10.860Z"
   },
   {
    "duration": 7,
    "start_time": "2022-05-18T19:06:48.195Z"
   },
   {
    "duration": 9,
    "start_time": "2022-05-18T19:07:18.997Z"
   },
   {
    "duration": 37,
    "start_time": "2022-05-18T19:09:17.801Z"
   },
   {
    "duration": 219,
    "start_time": "2022-05-18T19:10:54.366Z"
   },
   {
    "duration": 7,
    "start_time": "2022-05-18T19:12:29.075Z"
   },
   {
    "duration": 6,
    "start_time": "2022-05-18T19:12:58.738Z"
   },
   {
    "duration": 6,
    "start_time": "2022-05-18T19:13:38.718Z"
   },
   {
    "duration": 8,
    "start_time": "2022-05-18T19:14:05.680Z"
   },
   {
    "duration": 31,
    "start_time": "2022-05-18T19:16:38.550Z"
   },
   {
    "duration": 7,
    "start_time": "2022-05-18T19:17:04.462Z"
   },
   {
    "duration": 5,
    "start_time": "2022-05-18T19:17:17.453Z"
   },
   {
    "duration": 13,
    "start_time": "2022-05-18T19:18:34.286Z"
   },
   {
    "duration": 8,
    "start_time": "2022-05-18T19:18:42.379Z"
   },
   {
    "duration": 7,
    "start_time": "2022-05-18T19:19:16.615Z"
   },
   {
    "duration": 8,
    "start_time": "2022-05-18T19:19:19.488Z"
   },
   {
    "duration": 7,
    "start_time": "2022-05-18T19:24:33.675Z"
   },
   {
    "duration": 10,
    "start_time": "2022-05-18T19:24:46.636Z"
   },
   {
    "duration": 4,
    "start_time": "2022-05-18T19:25:19.793Z"
   },
   {
    "duration": 5,
    "start_time": "2022-05-18T19:25:28.126Z"
   },
   {
    "duration": 4,
    "start_time": "2022-05-18T19:26:49.872Z"
   },
   {
    "duration": 5,
    "start_time": "2022-05-18T19:27:14.384Z"
   },
   {
    "duration": 5,
    "start_time": "2022-05-18T19:27:15.039Z"
   },
   {
    "duration": 13,
    "start_time": "2022-05-18T19:43:25.577Z"
   },
   {
    "duration": 8,
    "start_time": "2022-05-18T19:49:16.929Z"
   },
   {
    "duration": 14,
    "start_time": "2022-05-18T19:49:36.178Z"
   },
   {
    "duration": 40,
    "start_time": "2022-05-18T19:51:08.136Z"
   },
   {
    "duration": 19,
    "start_time": "2022-05-18T19:53:25.818Z"
   },
   {
    "duration": 25,
    "start_time": "2022-05-18T19:54:03.691Z"
   },
   {
    "duration": 10,
    "start_time": "2022-05-18T19:55:40.571Z"
   },
   {
    "duration": 15,
    "start_time": "2022-05-18T19:57:01.826Z"
   },
   {
    "duration": 14,
    "start_time": "2022-05-18T19:57:51.247Z"
   },
   {
    "duration": 16,
    "start_time": "2022-05-18T19:59:01.624Z"
   },
   {
    "duration": 8,
    "start_time": "2022-05-18T19:59:32.822Z"
   },
   {
    "duration": 15,
    "start_time": "2022-05-18T20:00:43.486Z"
   },
   {
    "duration": 5,
    "start_time": "2022-05-18T20:01:00.597Z"
   },
   {
    "duration": 11,
    "start_time": "2022-05-18T20:02:02.791Z"
   },
   {
    "duration": 4,
    "start_time": "2022-05-18T20:03:22.895Z"
   },
   {
    "duration": 113,
    "start_time": "2022-05-18T20:05:02.294Z"
   },
   {
    "duration": 1079,
    "start_time": "2022-05-18T20:05:48.774Z"
   },
   {
    "duration": 521,
    "start_time": "2022-05-18T20:05:49.856Z"
   },
   {
    "duration": 11,
    "start_time": "2022-05-18T20:05:50.379Z"
   },
   {
    "duration": 11,
    "start_time": "2022-05-18T20:05:50.391Z"
   },
   {
    "duration": 11,
    "start_time": "2022-05-18T20:05:50.404Z"
   },
   {
    "duration": 10,
    "start_time": "2022-05-18T20:05:50.417Z"
   },
   {
    "duration": 19,
    "start_time": "2022-05-18T20:05:50.429Z"
   },
   {
    "duration": 33,
    "start_time": "2022-05-18T20:05:50.450Z"
   },
   {
    "duration": 95,
    "start_time": "2022-05-18T20:05:50.485Z"
   },
   {
    "duration": 12,
    "start_time": "2022-05-18T20:05:50.581Z"
   },
   {
    "duration": 105,
    "start_time": "2022-05-18T20:05:50.595Z"
   },
   {
    "duration": 10,
    "start_time": "2022-05-18T20:05:50.702Z"
   },
   {
    "duration": 27,
    "start_time": "2022-05-18T20:05:50.714Z"
   },
   {
    "duration": 43,
    "start_time": "2022-05-18T20:05:50.744Z"
   },
   {
    "duration": 5,
    "start_time": "2022-05-18T20:05:50.789Z"
   },
   {
    "duration": 32,
    "start_time": "2022-05-18T20:05:50.796Z"
   },
   {
    "duration": 50,
    "start_time": "2022-05-18T20:05:50.830Z"
   },
   {
    "duration": 22,
    "start_time": "2022-05-18T20:05:50.882Z"
   },
   {
    "duration": 24,
    "start_time": "2022-05-18T20:05:50.906Z"
   },
   {
    "duration": 38,
    "start_time": "2022-05-18T20:05:50.932Z"
   },
   {
    "duration": 9,
    "start_time": "2022-05-18T20:05:50.972Z"
   },
   {
    "duration": 53,
    "start_time": "2022-05-18T20:05:50.982Z"
   },
   {
    "duration": 6,
    "start_time": "2022-05-18T20:05:51.037Z"
   },
   {
    "duration": 38,
    "start_time": "2022-05-18T20:05:51.044Z"
   },
   {
    "duration": 178,
    "start_time": "2022-05-18T20:05:51.083Z"
   },
   {
    "duration": 12,
    "start_time": "2022-05-18T20:05:51.263Z"
   },
   {
    "duration": 18,
    "start_time": "2022-05-18T20:05:51.276Z"
   },
   {
    "duration": 14,
    "start_time": "2022-05-18T20:05:51.296Z"
   },
   {
    "duration": 28,
    "start_time": "2022-05-18T20:05:51.311Z"
   },
   {
    "duration": 19,
    "start_time": "2022-05-18T20:05:51.341Z"
   },
   {
    "duration": 16,
    "start_time": "2022-05-18T20:05:51.362Z"
   },
   {
    "duration": 8,
    "start_time": "2022-05-18T20:05:51.379Z"
   },
   {
    "duration": 11,
    "start_time": "2022-05-18T20:05:51.389Z"
   },
   {
    "duration": 10,
    "start_time": "2022-05-18T20:05:51.402Z"
   },
   {
    "duration": 42,
    "start_time": "2022-05-18T20:05:51.414Z"
   },
   {
    "duration": 10,
    "start_time": "2022-05-18T20:05:51.458Z"
   },
   {
    "duration": 14,
    "start_time": "2022-05-18T20:05:51.470Z"
   },
   {
    "duration": 11,
    "start_time": "2022-05-18T20:05:51.486Z"
   },
   {
    "duration": 14,
    "start_time": "2022-05-18T20:05:51.498Z"
   },
   {
    "duration": 8,
    "start_time": "2022-05-18T20:05:51.527Z"
   },
   {
    "duration": 11,
    "start_time": "2022-05-18T20:05:51.539Z"
   },
   {
    "duration": 19,
    "start_time": "2022-05-18T20:05:51.551Z"
   },
   {
    "duration": 5,
    "start_time": "2022-05-18T20:05:51.572Z"
   },
   {
    "duration": 17,
    "start_time": "2022-05-18T20:05:51.579Z"
   },
   {
    "duration": 34,
    "start_time": "2022-05-18T20:05:51.598Z"
   },
   {
    "duration": 22,
    "start_time": "2022-05-18T20:05:51.634Z"
   },
   {
    "duration": 13,
    "start_time": "2022-05-18T20:05:51.658Z"
   },
   {
    "duration": 29,
    "start_time": "2022-05-18T20:05:51.672Z"
   },
   {
    "duration": 32,
    "start_time": "2022-05-18T20:05:51.703Z"
   },
   {
    "duration": 9,
    "start_time": "2022-05-18T20:05:51.737Z"
   },
   {
    "duration": 17,
    "start_time": "2022-05-18T20:05:51.748Z"
   },
   {
    "duration": 62,
    "start_time": "2022-05-18T20:05:51.766Z"
   },
   {
    "duration": 9,
    "start_time": "2022-05-18T20:05:51.830Z"
   },
   {
    "duration": 11,
    "start_time": "2022-05-18T20:05:51.841Z"
   },
   {
    "duration": 156,
    "start_time": "2022-05-18T20:05:51.854Z"
   },
   {
    "duration": 0,
    "start_time": "2022-05-18T20:05:52.013Z"
   },
   {
    "duration": 0,
    "start_time": "2022-05-18T20:05:52.014Z"
   },
   {
    "duration": 0,
    "start_time": "2022-05-18T20:05:52.016Z"
   },
   {
    "duration": 0,
    "start_time": "2022-05-18T20:05:52.017Z"
   },
   {
    "duration": 0,
    "start_time": "2022-05-18T20:05:52.018Z"
   },
   {
    "duration": 0,
    "start_time": "2022-05-18T20:05:52.030Z"
   },
   {
    "duration": 0,
    "start_time": "2022-05-18T20:05:52.035Z"
   },
   {
    "duration": 0,
    "start_time": "2022-05-18T20:05:52.037Z"
   },
   {
    "duration": 0,
    "start_time": "2022-05-18T20:05:52.038Z"
   },
   {
    "duration": 0,
    "start_time": "2022-05-18T20:05:52.039Z"
   },
   {
    "duration": 8,
    "start_time": "2022-05-18T20:06:53.499Z"
   },
   {
    "duration": 9,
    "start_time": "2022-05-18T20:07:09.487Z"
   },
   {
    "duration": 9,
    "start_time": "2022-05-18T20:07:10.063Z"
   },
   {
    "duration": 30,
    "start_time": "2022-05-18T20:07:11.056Z"
   },
   {
    "duration": 19,
    "start_time": "2022-05-18T20:07:11.586Z"
   },
   {
    "duration": 15,
    "start_time": "2022-05-18T20:07:13.854Z"
   },
   {
    "duration": 7,
    "start_time": "2022-05-18T20:07:14.809Z"
   },
   {
    "duration": 13,
    "start_time": "2022-05-18T20:07:17.544Z"
   },
   {
    "duration": 5,
    "start_time": "2022-05-18T20:07:20.519Z"
   },
   {
    "duration": 3,
    "start_time": "2022-05-18T20:37:37.380Z"
   },
   {
    "duration": 9,
    "start_time": "2022-05-18T20:39:09.969Z"
   },
   {
    "duration": 127,
    "start_time": "2022-05-18T20:39:45.666Z"
   },
   {
    "duration": 22,
    "start_time": "2022-05-18T20:40:23.485Z"
   },
   {
    "duration": 14,
    "start_time": "2022-05-18T20:41:51.468Z"
   },
   {
    "duration": 5,
    "start_time": "2022-05-18T20:42:05.722Z"
   },
   {
    "duration": 14,
    "start_time": "2022-05-18T20:42:33.790Z"
   },
   {
    "duration": 6,
    "start_time": "2022-05-18T20:42:42.318Z"
   },
   {
    "duration": 14,
    "start_time": "2022-05-18T20:43:22.874Z"
   },
   {
    "duration": 6,
    "start_time": "2022-05-18T20:43:47.440Z"
   },
   {
    "duration": 14,
    "start_time": "2022-05-18T20:43:58.324Z"
   },
   {
    "duration": 5,
    "start_time": "2022-05-18T20:44:13.006Z"
   },
   {
    "duration": 23,
    "start_time": "2022-05-18T20:47:16.578Z"
   },
   {
    "duration": 6,
    "start_time": "2022-05-18T20:47:39.286Z"
   },
   {
    "duration": 17,
    "start_time": "2022-05-18T20:48:02.880Z"
   },
   {
    "duration": 6,
    "start_time": "2022-05-18T20:48:27.166Z"
   },
   {
    "duration": 20,
    "start_time": "2022-05-18T20:49:12.356Z"
   },
   {
    "duration": 5,
    "start_time": "2022-05-18T20:49:26.531Z"
   },
   {
    "duration": 17,
    "start_time": "2022-05-18T20:51:42.191Z"
   },
   {
    "duration": 21,
    "start_time": "2022-05-18T20:52:26.278Z"
   },
   {
    "duration": 5,
    "start_time": "2022-05-18T20:54:08.834Z"
   },
   {
    "duration": 14,
    "start_time": "2022-05-18T20:54:09.929Z"
   },
   {
    "duration": 24,
    "start_time": "2022-05-18T20:54:52.700Z"
   },
   {
    "duration": 6,
    "start_time": "2022-05-18T20:55:22.684Z"
   },
   {
    "duration": 6,
    "start_time": "2022-05-18T20:56:15.922Z"
   },
   {
    "duration": 930,
    "start_time": "2022-05-18T21:01:09.104Z"
   },
   {
    "duration": 128,
    "start_time": "2022-05-18T21:01:35.307Z"
   },
   {
    "duration": 37,
    "start_time": "2022-05-18T21:02:38.638Z"
   },
   {
    "duration": 1242,
    "start_time": "2022-05-18T21:03:16.728Z"
   },
   {
    "duration": 562,
    "start_time": "2022-05-18T21:03:17.972Z"
   },
   {
    "duration": 15,
    "start_time": "2022-05-18T21:03:18.536Z"
   },
   {
    "duration": 10,
    "start_time": "2022-05-18T21:03:18.553Z"
   },
   {
    "duration": 16,
    "start_time": "2022-05-18T21:03:18.566Z"
   },
   {
    "duration": 13,
    "start_time": "2022-05-18T21:03:18.584Z"
   },
   {
    "duration": 29,
    "start_time": "2022-05-18T21:03:18.599Z"
   },
   {
    "duration": 17,
    "start_time": "2022-05-18T21:03:18.630Z"
   },
   {
    "duration": 61,
    "start_time": "2022-05-18T21:03:18.648Z"
   },
   {
    "duration": 24,
    "start_time": "2022-05-18T21:03:18.712Z"
   },
   {
    "duration": 116,
    "start_time": "2022-05-18T21:03:18.738Z"
   },
   {
    "duration": 14,
    "start_time": "2022-05-18T21:03:18.857Z"
   },
   {
    "duration": 31,
    "start_time": "2022-05-18T21:03:18.873Z"
   },
   {
    "duration": 88,
    "start_time": "2022-05-18T21:03:18.906Z"
   },
   {
    "duration": 8,
    "start_time": "2022-05-18T21:03:18.995Z"
   },
   {
    "duration": 36,
    "start_time": "2022-05-18T21:03:19.006Z"
   },
   {
    "duration": 77,
    "start_time": "2022-05-18T21:03:19.044Z"
   },
   {
    "duration": 12,
    "start_time": "2022-05-18T21:03:19.123Z"
   },
   {
    "duration": 19,
    "start_time": "2022-05-18T21:03:19.139Z"
   },
   {
    "duration": 55,
    "start_time": "2022-05-18T21:03:19.160Z"
   },
   {
    "duration": 18,
    "start_time": "2022-05-18T21:03:19.216Z"
   },
   {
    "duration": 72,
    "start_time": "2022-05-18T21:03:19.235Z"
   },
   {
    "duration": 21,
    "start_time": "2022-05-18T21:03:19.309Z"
   },
   {
    "duration": 28,
    "start_time": "2022-05-18T21:03:19.332Z"
   },
   {
    "duration": 240,
    "start_time": "2022-05-18T21:03:19.362Z"
   },
   {
    "duration": 11,
    "start_time": "2022-05-18T21:03:19.603Z"
   },
   {
    "duration": 12,
    "start_time": "2022-05-18T21:03:19.626Z"
   },
   {
    "duration": 12,
    "start_time": "2022-05-18T21:03:19.643Z"
   },
   {
    "duration": 14,
    "start_time": "2022-05-18T21:03:19.657Z"
   },
   {
    "duration": 12,
    "start_time": "2022-05-18T21:03:19.674Z"
   },
   {
    "duration": 14,
    "start_time": "2022-05-18T21:03:19.688Z"
   },
   {
    "duration": 27,
    "start_time": "2022-05-18T21:03:19.704Z"
   },
   {
    "duration": 19,
    "start_time": "2022-05-18T21:03:19.733Z"
   },
   {
    "duration": 16,
    "start_time": "2022-05-18T21:03:19.754Z"
   },
   {
    "duration": 74,
    "start_time": "2022-05-18T21:03:19.772Z"
   },
   {
    "duration": 15,
    "start_time": "2022-05-18T21:03:19.848Z"
   },
   {
    "duration": 10,
    "start_time": "2022-05-18T21:03:19.865Z"
   },
   {
    "duration": 8,
    "start_time": "2022-05-18T21:03:19.877Z"
   },
   {
    "duration": 22,
    "start_time": "2022-05-18T21:03:19.887Z"
   },
   {
    "duration": 20,
    "start_time": "2022-05-18T21:03:19.910Z"
   },
   {
    "duration": 9,
    "start_time": "2022-05-18T21:03:19.932Z"
   },
   {
    "duration": 19,
    "start_time": "2022-05-18T21:03:19.943Z"
   },
   {
    "duration": 4,
    "start_time": "2022-05-18T21:03:19.964Z"
   },
   {
    "duration": 11,
    "start_time": "2022-05-18T21:03:19.970Z"
   },
   {
    "duration": 44,
    "start_time": "2022-05-18T21:03:19.983Z"
   },
   {
    "duration": 18,
    "start_time": "2022-05-18T21:03:20.029Z"
   },
   {
    "duration": 18,
    "start_time": "2022-05-18T21:03:20.049Z"
   },
   {
    "duration": 26,
    "start_time": "2022-05-18T21:03:20.069Z"
   },
   {
    "duration": 10,
    "start_time": "2022-05-18T21:03:20.097Z"
   },
   {
    "duration": 8,
    "start_time": "2022-05-18T21:03:20.127Z"
   },
   {
    "duration": 17,
    "start_time": "2022-05-18T21:03:20.137Z"
   },
   {
    "duration": 43,
    "start_time": "2022-05-18T21:03:20.155Z"
   },
   {
    "duration": 27,
    "start_time": "2022-05-18T21:03:20.200Z"
   },
   {
    "duration": 6,
    "start_time": "2022-05-18T21:03:20.229Z"
   },
   {
    "duration": 14,
    "start_time": "2022-05-18T21:03:20.236Z"
   },
   {
    "duration": 11,
    "start_time": "2022-05-18T21:03:20.252Z"
   },
   {
    "duration": 12,
    "start_time": "2022-05-18T21:03:20.265Z"
   },
   {
    "duration": 10,
    "start_time": "2022-05-18T21:03:20.278Z"
   },
   {
    "duration": 23,
    "start_time": "2022-05-18T21:03:20.289Z"
   },
   {
    "duration": 133,
    "start_time": "2022-05-18T21:03:20.314Z"
   },
   {
    "duration": 27,
    "start_time": "2022-05-18T21:03:20.448Z"
   },
   {
    "duration": 19,
    "start_time": "2022-05-18T21:03:20.476Z"
   },
   {
    "duration": 33,
    "start_time": "2022-05-18T21:03:20.496Z"
   },
   {
    "duration": 32,
    "start_time": "2022-05-18T21:03:20.531Z"
   },
   {
    "duration": 10,
    "start_time": "2022-05-18T21:03:20.564Z"
   },
   {
    "duration": 47,
    "start_time": "2022-05-18T21:03:20.576Z"
   },
   {
    "duration": 172,
    "start_time": "2022-05-18T21:03:20.625Z"
   },
   {
    "duration": 0,
    "start_time": "2022-05-18T21:03:20.799Z"
   },
   {
    "duration": 0,
    "start_time": "2022-05-18T21:03:20.801Z"
   },
   {
    "duration": 0,
    "start_time": "2022-05-18T21:03:20.803Z"
   },
   {
    "duration": 1194,
    "start_time": "2022-05-18T21:04:34.162Z"
   },
   {
    "duration": 560,
    "start_time": "2022-05-18T21:04:35.358Z"
   },
   {
    "duration": 13,
    "start_time": "2022-05-18T21:04:35.920Z"
   },
   {
    "duration": 29,
    "start_time": "2022-05-18T21:04:35.935Z"
   },
   {
    "duration": 12,
    "start_time": "2022-05-18T21:04:35.965Z"
   },
   {
    "duration": 9,
    "start_time": "2022-05-18T21:04:35.979Z"
   },
   {
    "duration": 12,
    "start_time": "2022-05-18T21:04:35.989Z"
   },
   {
    "duration": 18,
    "start_time": "2022-05-18T21:04:36.003Z"
   },
   {
    "duration": 72,
    "start_time": "2022-05-18T21:04:36.023Z"
   },
   {
    "duration": 11,
    "start_time": "2022-05-18T21:04:36.097Z"
   },
   {
    "duration": 137,
    "start_time": "2022-05-18T21:04:36.110Z"
   },
   {
    "duration": 12,
    "start_time": "2022-05-18T21:04:36.250Z"
   },
   {
    "duration": 27,
    "start_time": "2022-05-18T21:04:36.264Z"
   },
   {
    "duration": 72,
    "start_time": "2022-05-18T21:04:36.293Z"
   },
   {
    "duration": 10,
    "start_time": "2022-05-18T21:04:36.367Z"
   },
   {
    "duration": 33,
    "start_time": "2022-05-18T21:04:36.379Z"
   },
   {
    "duration": 67,
    "start_time": "2022-05-18T21:04:36.414Z"
   },
   {
    "duration": 9,
    "start_time": "2022-05-18T21:04:36.483Z"
   },
   {
    "duration": 22,
    "start_time": "2022-05-18T21:04:36.494Z"
   },
   {
    "duration": 49,
    "start_time": "2022-05-18T21:04:36.518Z"
   },
   {
    "duration": 8,
    "start_time": "2022-05-18T21:04:36.569Z"
   },
   {
    "duration": 49,
    "start_time": "2022-05-18T21:04:36.579Z"
   },
   {
    "duration": 7,
    "start_time": "2022-05-18T21:04:36.630Z"
   },
   {
    "duration": 46,
    "start_time": "2022-05-18T21:04:36.638Z"
   },
   {
    "duration": 173,
    "start_time": "2022-05-18T21:04:36.692Z"
   },
   {
    "duration": 9,
    "start_time": "2022-05-18T21:04:36.866Z"
   },
   {
    "duration": 8,
    "start_time": "2022-05-18T21:04:36.876Z"
   },
   {
    "duration": 7,
    "start_time": "2022-05-18T21:04:36.887Z"
   },
   {
    "duration": 10,
    "start_time": "2022-05-18T21:04:36.896Z"
   },
   {
    "duration": 24,
    "start_time": "2022-05-18T21:04:36.926Z"
   },
   {
    "duration": 8,
    "start_time": "2022-05-18T21:04:36.952Z"
   },
   {
    "duration": 9,
    "start_time": "2022-05-18T21:04:36.961Z"
   },
   {
    "duration": 11,
    "start_time": "2022-05-18T21:04:36.971Z"
   },
   {
    "duration": 11,
    "start_time": "2022-05-18T21:04:36.984Z"
   },
   {
    "duration": 54,
    "start_time": "2022-05-18T21:04:36.996Z"
   },
   {
    "duration": 9,
    "start_time": "2022-05-18T21:04:37.052Z"
   },
   {
    "duration": 10,
    "start_time": "2022-05-18T21:04:37.062Z"
   },
   {
    "duration": 8,
    "start_time": "2022-05-18T21:04:37.074Z"
   },
   {
    "duration": 9,
    "start_time": "2022-05-18T21:04:37.084Z"
   },
   {
    "duration": 9,
    "start_time": "2022-05-18T21:04:37.094Z"
   },
   {
    "duration": 49,
    "start_time": "2022-05-18T21:04:37.104Z"
   },
   {
    "duration": 25,
    "start_time": "2022-05-18T21:04:37.154Z"
   },
   {
    "duration": 5,
    "start_time": "2022-05-18T21:04:37.180Z"
   },
   {
    "duration": 9,
    "start_time": "2022-05-18T21:04:37.187Z"
   },
   {
    "duration": 9,
    "start_time": "2022-05-18T21:04:37.197Z"
   },
   {
    "duration": 12,
    "start_time": "2022-05-18T21:04:37.207Z"
   },
   {
    "duration": 16,
    "start_time": "2022-05-18T21:04:37.220Z"
   },
   {
    "duration": 27,
    "start_time": "2022-05-18T21:04:37.238Z"
   },
   {
    "duration": 11,
    "start_time": "2022-05-18T21:04:37.267Z"
   },
   {
    "duration": 9,
    "start_time": "2022-05-18T21:04:37.279Z"
   },
   {
    "duration": 9,
    "start_time": "2022-05-18T21:04:37.290Z"
   },
   {
    "duration": 62,
    "start_time": "2022-05-18T21:04:37.300Z"
   },
   {
    "duration": 7,
    "start_time": "2022-05-18T21:04:37.364Z"
   },
   {
    "duration": 7,
    "start_time": "2022-05-18T21:04:37.373Z"
   },
   {
    "duration": 8,
    "start_time": "2022-05-18T21:04:37.382Z"
   },
   {
    "duration": 5,
    "start_time": "2022-05-18T21:04:37.392Z"
   },
   {
    "duration": 7,
    "start_time": "2022-05-18T21:04:37.427Z"
   },
   {
    "duration": 20,
    "start_time": "2022-05-18T21:04:37.437Z"
   },
   {
    "duration": 12,
    "start_time": "2022-05-18T21:04:37.459Z"
   },
   {
    "duration": 151,
    "start_time": "2022-05-18T21:04:37.473Z"
   },
   {
    "duration": 31,
    "start_time": "2022-05-18T21:04:37.627Z"
   },
   {
    "duration": 19,
    "start_time": "2022-05-18T21:04:37.660Z"
   },
   {
    "duration": 5,
    "start_time": "2022-05-18T21:04:37.681Z"
   },
   {
    "duration": 43,
    "start_time": "2022-05-18T21:04:37.688Z"
   },
   {
    "duration": 5,
    "start_time": "2022-05-18T21:04:37.733Z"
   },
   {
    "duration": 36,
    "start_time": "2022-05-18T21:04:37.740Z"
   },
   {
    "duration": 39,
    "start_time": "2022-05-18T21:06:58.885Z"
   },
   {
    "duration": 9,
    "start_time": "2022-05-18T21:06:58.925Z"
   },
   {
    "duration": 146785,
    "start_time": "2022-05-18T21:06:58.940Z"
   },
   {
    "duration": 8,
    "start_time": "2022-05-18T21:09:25.727Z"
   },
   {
    "duration": 1351,
    "start_time": "2022-05-19T06:48:30.084Z"
   },
   {
    "duration": 1946,
    "start_time": "2022-05-19T06:48:31.437Z"
   },
   {
    "duration": 14,
    "start_time": "2022-05-19T06:48:33.385Z"
   },
   {
    "duration": 8,
    "start_time": "2022-05-19T06:48:33.400Z"
   },
   {
    "duration": 9,
    "start_time": "2022-05-19T06:48:33.410Z"
   },
   {
    "duration": 10,
    "start_time": "2022-05-19T06:48:33.421Z"
   },
   {
    "duration": 12,
    "start_time": "2022-05-19T06:48:33.432Z"
   },
   {
    "duration": 46,
    "start_time": "2022-05-19T06:48:33.446Z"
   },
   {
    "duration": 78,
    "start_time": "2022-05-19T06:48:33.494Z"
   },
   {
    "duration": 18,
    "start_time": "2022-05-19T06:48:33.574Z"
   },
   {
    "duration": 110,
    "start_time": "2022-05-19T06:48:33.594Z"
   },
   {
    "duration": 10,
    "start_time": "2022-05-19T06:48:33.706Z"
   },
   {
    "duration": 19,
    "start_time": "2022-05-19T06:48:33.718Z"
   },
   {
    "duration": 63,
    "start_time": "2022-05-19T06:48:33.740Z"
   },
   {
    "duration": 5,
    "start_time": "2022-05-19T06:48:33.805Z"
   },
   {
    "duration": 13,
    "start_time": "2022-05-19T06:48:33.812Z"
   },
   {
    "duration": 58,
    "start_time": "2022-05-19T06:48:33.827Z"
   },
   {
    "duration": 8,
    "start_time": "2022-05-19T06:48:33.887Z"
   },
   {
    "duration": 14,
    "start_time": "2022-05-19T06:48:33.897Z"
   },
   {
    "duration": 34,
    "start_time": "2022-05-19T06:48:33.913Z"
   },
   {
    "duration": 9,
    "start_time": "2022-05-19T06:48:33.948Z"
   },
   {
    "duration": 63,
    "start_time": "2022-05-19T06:48:33.958Z"
   },
   {
    "duration": 5,
    "start_time": "2022-05-19T06:48:34.023Z"
   },
   {
    "duration": 55,
    "start_time": "2022-05-19T06:48:34.030Z"
   },
   {
    "duration": 254,
    "start_time": "2022-05-19T06:48:34.087Z"
   },
   {
    "duration": 10,
    "start_time": "2022-05-19T06:48:34.343Z"
   },
   {
    "duration": 9,
    "start_time": "2022-05-19T06:48:34.355Z"
   },
   {
    "duration": 26,
    "start_time": "2022-05-19T06:48:34.365Z"
   },
   {
    "duration": 12,
    "start_time": "2022-05-19T06:48:34.393Z"
   },
   {
    "duration": 10,
    "start_time": "2022-05-19T06:48:34.407Z"
   },
   {
    "duration": 8,
    "start_time": "2022-05-19T06:48:34.419Z"
   },
   {
    "duration": 11,
    "start_time": "2022-05-19T06:48:34.429Z"
   },
   {
    "duration": 41,
    "start_time": "2022-05-19T06:48:34.442Z"
   },
   {
    "duration": 13,
    "start_time": "2022-05-19T06:48:34.486Z"
   },
   {
    "duration": 43,
    "start_time": "2022-05-19T06:48:34.501Z"
   },
   {
    "duration": 8,
    "start_time": "2022-05-19T06:48:34.546Z"
   },
   {
    "duration": 10,
    "start_time": "2022-05-19T06:48:34.555Z"
   },
   {
    "duration": 10,
    "start_time": "2022-05-19T06:48:34.584Z"
   },
   {
    "duration": 9,
    "start_time": "2022-05-19T06:48:34.595Z"
   },
   {
    "duration": 12,
    "start_time": "2022-05-19T06:48:34.605Z"
   },
   {
    "duration": 9,
    "start_time": "2022-05-19T06:48:34.621Z"
   },
   {
    "duration": 18,
    "start_time": "2022-05-19T06:48:34.631Z"
   },
   {
    "duration": 5,
    "start_time": "2022-05-19T06:48:34.650Z"
   },
   {
    "duration": 36,
    "start_time": "2022-05-19T06:48:34.655Z"
   },
   {
    "duration": 9,
    "start_time": "2022-05-19T06:48:34.693Z"
   },
   {
    "duration": 13,
    "start_time": "2022-05-19T06:48:34.704Z"
   },
   {
    "duration": 8,
    "start_time": "2022-05-19T06:48:34.719Z"
   },
   {
    "duration": 14,
    "start_time": "2022-05-19T06:48:34.728Z"
   },
   {
    "duration": 46,
    "start_time": "2022-05-19T06:48:34.743Z"
   },
   {
    "duration": 7,
    "start_time": "2022-05-19T06:48:34.791Z"
   },
   {
    "duration": 10,
    "start_time": "2022-05-19T06:48:34.799Z"
   },
   {
    "duration": 35,
    "start_time": "2022-05-19T06:48:34.811Z"
   },
   {
    "duration": 6,
    "start_time": "2022-05-19T06:48:34.847Z"
   },
   {
    "duration": 32,
    "start_time": "2022-05-19T06:48:34.854Z"
   },
   {
    "duration": 7,
    "start_time": "2022-05-19T06:48:34.887Z"
   },
   {
    "duration": 13,
    "start_time": "2022-05-19T06:48:34.896Z"
   },
   {
    "duration": 9,
    "start_time": "2022-05-19T06:48:34.911Z"
   },
   {
    "duration": 13,
    "start_time": "2022-05-19T06:48:34.921Z"
   },
   {
    "duration": 12,
    "start_time": "2022-05-19T06:48:34.936Z"
   },
   {
    "duration": 186,
    "start_time": "2022-05-19T06:48:34.950Z"
   },
   {
    "duration": 22,
    "start_time": "2022-05-19T06:48:35.137Z"
   },
   {
    "duration": 31,
    "start_time": "2022-05-19T06:48:35.161Z"
   },
   {
    "duration": 5,
    "start_time": "2022-05-19T06:48:35.194Z"
   },
   {
    "duration": 22,
    "start_time": "2022-05-19T06:48:35.201Z"
   },
   {
    "duration": 6,
    "start_time": "2022-05-19T06:48:35.225Z"
   },
   {
    "duration": 106,
    "start_time": "2022-05-19T06:48:35.233Z"
   },
   {
    "duration": 1136,
    "start_time": "2022-05-19T06:49:24.190Z"
   },
   {
    "duration": 613,
    "start_time": "2022-05-19T06:49:25.328Z"
   },
   {
    "duration": 13,
    "start_time": "2022-05-19T06:49:25.943Z"
   },
   {
    "duration": 8,
    "start_time": "2022-05-19T06:49:25.959Z"
   },
   {
    "duration": 24,
    "start_time": "2022-05-19T06:49:25.969Z"
   },
   {
    "duration": 10,
    "start_time": "2022-05-19T06:49:25.995Z"
   },
   {
    "duration": 11,
    "start_time": "2022-05-19T06:49:26.007Z"
   },
   {
    "duration": 23,
    "start_time": "2022-05-19T06:49:26.020Z"
   },
   {
    "duration": 88,
    "start_time": "2022-05-19T06:49:26.044Z"
   },
   {
    "duration": 11,
    "start_time": "2022-05-19T06:49:26.135Z"
   },
   {
    "duration": 121,
    "start_time": "2022-05-19T06:49:26.147Z"
   },
   {
    "duration": 15,
    "start_time": "2022-05-19T06:49:26.270Z"
   },
   {
    "duration": 22,
    "start_time": "2022-05-19T06:49:26.287Z"
   },
   {
    "duration": 48,
    "start_time": "2022-05-19T06:49:26.310Z"
   },
   {
    "duration": 28,
    "start_time": "2022-05-19T06:49:26.359Z"
   },
   {
    "duration": 14,
    "start_time": "2022-05-19T06:49:26.389Z"
   },
   {
    "duration": 52,
    "start_time": "2022-05-19T06:49:26.405Z"
   },
   {
    "duration": 29,
    "start_time": "2022-05-19T06:49:26.459Z"
   },
   {
    "duration": 12,
    "start_time": "2022-05-19T06:49:26.490Z"
   },
   {
    "duration": 47,
    "start_time": "2022-05-19T06:49:26.504Z"
   },
   {
    "duration": 33,
    "start_time": "2022-05-19T06:49:26.553Z"
   },
   {
    "duration": 40,
    "start_time": "2022-05-19T06:49:26.587Z"
   },
   {
    "duration": 6,
    "start_time": "2022-05-19T06:49:26.628Z"
   },
   {
    "duration": 62,
    "start_time": "2022-05-19T06:49:26.636Z"
   },
   {
    "duration": 243,
    "start_time": "2022-05-19T06:49:26.701Z"
   },
   {
    "duration": 12,
    "start_time": "2022-05-19T06:49:26.946Z"
   },
   {
    "duration": 26,
    "start_time": "2022-05-19T06:49:26.960Z"
   },
   {
    "duration": 10,
    "start_time": "2022-05-19T06:49:26.993Z"
   },
   {
    "duration": 14,
    "start_time": "2022-05-19T06:49:27.005Z"
   },
   {
    "duration": 30,
    "start_time": "2022-05-19T06:49:27.021Z"
   },
   {
    "duration": 9,
    "start_time": "2022-05-19T06:49:27.054Z"
   },
   {
    "duration": 6,
    "start_time": "2022-05-19T06:49:27.084Z"
   },
   {
    "duration": 24,
    "start_time": "2022-05-19T06:49:27.092Z"
   },
   {
    "duration": 11,
    "start_time": "2022-05-19T06:49:27.118Z"
   },
   {
    "duration": 74,
    "start_time": "2022-05-19T06:49:27.131Z"
   },
   {
    "duration": 13,
    "start_time": "2022-05-19T06:49:27.208Z"
   },
   {
    "duration": 14,
    "start_time": "2022-05-19T06:49:27.223Z"
   },
   {
    "duration": 9,
    "start_time": "2022-05-19T06:49:27.239Z"
   },
   {
    "duration": 9,
    "start_time": "2022-05-19T06:49:27.249Z"
   },
   {
    "duration": 28,
    "start_time": "2022-05-19T06:49:27.261Z"
   },
   {
    "duration": 10,
    "start_time": "2022-05-19T06:49:27.291Z"
   },
   {
    "duration": 21,
    "start_time": "2022-05-19T06:49:27.303Z"
   },
   {
    "duration": 5,
    "start_time": "2022-05-19T06:49:27.325Z"
   },
   {
    "duration": 16,
    "start_time": "2022-05-19T06:49:27.332Z"
   },
   {
    "duration": 11,
    "start_time": "2022-05-19T06:49:27.384Z"
   },
   {
    "duration": 19,
    "start_time": "2022-05-19T06:49:27.397Z"
   },
   {
    "duration": 13,
    "start_time": "2022-05-19T06:49:27.418Z"
   },
   {
    "duration": 51,
    "start_time": "2022-05-19T06:49:27.433Z"
   },
   {
    "duration": 14,
    "start_time": "2022-05-19T06:49:27.487Z"
   },
   {
    "duration": 10,
    "start_time": "2022-05-19T06:49:27.503Z"
   },
   {
    "duration": 16,
    "start_time": "2022-05-19T06:49:27.514Z"
   },
   {
    "duration": 94,
    "start_time": "2022-05-19T06:49:27.533Z"
   },
   {
    "duration": 9,
    "start_time": "2022-05-19T06:49:27.629Z"
   },
   {
    "duration": 9,
    "start_time": "2022-05-19T06:49:27.643Z"
   },
   {
    "duration": 29,
    "start_time": "2022-05-19T06:49:27.654Z"
   },
   {
    "duration": 7,
    "start_time": "2022-05-19T06:49:27.686Z"
   },
   {
    "duration": 11,
    "start_time": "2022-05-19T06:49:27.695Z"
   },
   {
    "duration": 11,
    "start_time": "2022-05-19T06:49:27.709Z"
   },
   {
    "duration": 14,
    "start_time": "2022-05-19T06:49:27.722Z"
   },
   {
    "duration": 195,
    "start_time": "2022-05-19T06:49:27.738Z"
   },
   {
    "duration": 34,
    "start_time": "2022-05-19T06:49:27.936Z"
   },
   {
    "duration": 29,
    "start_time": "2022-05-19T06:49:27.984Z"
   },
   {
    "duration": 7,
    "start_time": "2022-05-19T06:49:28.016Z"
   },
   {
    "duration": 30,
    "start_time": "2022-05-19T06:49:28.026Z"
   },
   {
    "duration": 26,
    "start_time": "2022-05-19T06:49:28.058Z"
   },
   {
    "duration": 28,
    "start_time": "2022-05-19T06:49:28.086Z"
   },
   {
    "duration": 11,
    "start_time": "2022-05-19T06:49:28.116Z"
   },
   {
    "duration": 15,
    "start_time": "2022-05-19T06:49:28.128Z"
   },
   {
    "duration": 6,
    "start_time": "2022-05-19T06:49:28.145Z"
   },
   {
    "duration": 11,
    "start_time": "2022-05-19T07:24:22.109Z"
   },
   {
    "duration": 1089,
    "start_time": "2022-05-19T08:25:23.040Z"
   },
   {
    "duration": 588,
    "start_time": "2022-05-19T08:25:24.131Z"
   },
   {
    "duration": 11,
    "start_time": "2022-05-19T08:25:24.721Z"
   },
   {
    "duration": 11,
    "start_time": "2022-05-19T08:25:24.734Z"
   },
   {
    "duration": 15,
    "start_time": "2022-05-19T08:25:24.747Z"
   },
   {
    "duration": 10,
    "start_time": "2022-05-19T08:25:24.763Z"
   },
   {
    "duration": 22,
    "start_time": "2022-05-19T08:25:24.775Z"
   },
   {
    "duration": 23,
    "start_time": "2022-05-19T08:25:24.798Z"
   },
   {
    "duration": 66,
    "start_time": "2022-05-19T08:25:24.823Z"
   },
   {
    "duration": 11,
    "start_time": "2022-05-19T08:25:24.892Z"
   },
   {
    "duration": 114,
    "start_time": "2022-05-19T08:25:24.904Z"
   },
   {
    "duration": 10,
    "start_time": "2022-05-19T08:25:25.020Z"
   },
   {
    "duration": 28,
    "start_time": "2022-05-19T08:25:25.032Z"
   },
   {
    "duration": 53,
    "start_time": "2022-05-19T08:25:25.061Z"
   },
   {
    "duration": 6,
    "start_time": "2022-05-19T08:25:25.115Z"
   },
   {
    "duration": 19,
    "start_time": "2022-05-19T08:25:25.122Z"
   },
   {
    "duration": 53,
    "start_time": "2022-05-19T08:25:25.143Z"
   },
   {
    "duration": 6,
    "start_time": "2022-05-19T08:25:25.198Z"
   },
   {
    "duration": 22,
    "start_time": "2022-05-19T08:25:25.206Z"
   },
   {
    "duration": 48,
    "start_time": "2022-05-19T08:25:25.230Z"
   },
   {
    "duration": 10,
    "start_time": "2022-05-19T08:25:25.279Z"
   },
   {
    "duration": 45,
    "start_time": "2022-05-19T08:25:25.291Z"
   },
   {
    "duration": 5,
    "start_time": "2022-05-19T08:25:25.337Z"
   },
   {
    "duration": 41,
    "start_time": "2022-05-19T08:25:25.344Z"
   },
   {
    "duration": 195,
    "start_time": "2022-05-19T08:25:25.386Z"
   },
   {
    "duration": 11,
    "start_time": "2022-05-19T08:25:25.582Z"
   },
   {
    "duration": 24,
    "start_time": "2022-05-19T08:25:25.594Z"
   },
   {
    "duration": 11,
    "start_time": "2022-05-19T08:25:25.621Z"
   },
   {
    "duration": 28,
    "start_time": "2022-05-19T08:25:25.633Z"
   },
   {
    "duration": 27,
    "start_time": "2022-05-19T08:25:25.662Z"
   },
   {
    "duration": 14,
    "start_time": "2022-05-19T08:25:25.691Z"
   },
   {
    "duration": 19,
    "start_time": "2022-05-19T08:25:25.707Z"
   },
   {
    "duration": 14,
    "start_time": "2022-05-19T08:25:25.728Z"
   },
   {
    "duration": 21,
    "start_time": "2022-05-19T08:25:25.744Z"
   },
   {
    "duration": 41,
    "start_time": "2022-05-19T08:25:25.766Z"
   },
   {
    "duration": 20,
    "start_time": "2022-05-19T08:25:25.808Z"
   },
   {
    "duration": 12,
    "start_time": "2022-05-19T08:25:25.830Z"
   },
   {
    "duration": 11,
    "start_time": "2022-05-19T08:25:25.844Z"
   },
   {
    "duration": 15,
    "start_time": "2022-05-19T08:25:25.857Z"
   },
   {
    "duration": 13,
    "start_time": "2022-05-19T08:25:25.874Z"
   },
   {
    "duration": 18,
    "start_time": "2022-05-19T08:25:25.889Z"
   },
   {
    "duration": 20,
    "start_time": "2022-05-19T08:25:25.909Z"
   },
   {
    "duration": 11,
    "start_time": "2022-05-19T08:25:25.930Z"
   },
   {
    "duration": 23,
    "start_time": "2022-05-19T08:25:25.942Z"
   },
   {
    "duration": 17,
    "start_time": "2022-05-19T08:25:25.967Z"
   },
   {
    "duration": 20,
    "start_time": "2022-05-19T08:25:25.985Z"
   },
   {
    "duration": 25,
    "start_time": "2022-05-19T08:25:26.007Z"
   },
   {
    "duration": 22,
    "start_time": "2022-05-19T08:25:26.034Z"
   },
   {
    "duration": 11,
    "start_time": "2022-05-19T08:25:26.058Z"
   },
   {
    "duration": 21,
    "start_time": "2022-05-19T08:25:26.071Z"
   },
   {
    "duration": 10,
    "start_time": "2022-05-19T08:25:26.093Z"
   },
   {
    "duration": 39,
    "start_time": "2022-05-19T08:25:26.105Z"
   },
   {
    "duration": 7,
    "start_time": "2022-05-19T08:25:26.146Z"
   },
   {
    "duration": 7,
    "start_time": "2022-05-19T08:25:26.155Z"
   },
   {
    "duration": 23,
    "start_time": "2022-05-19T08:25:26.164Z"
   },
   {
    "duration": 5,
    "start_time": "2022-05-19T08:25:26.189Z"
   },
   {
    "duration": 6,
    "start_time": "2022-05-19T08:25:26.196Z"
   },
   {
    "duration": 9,
    "start_time": "2022-05-19T08:25:26.204Z"
   },
   {
    "duration": 9,
    "start_time": "2022-05-19T08:25:26.215Z"
   },
   {
    "duration": 163,
    "start_time": "2022-05-19T08:25:26.225Z"
   },
   {
    "duration": 21,
    "start_time": "2022-05-19T08:25:26.390Z"
   },
   {
    "duration": 15,
    "start_time": "2022-05-19T08:25:26.413Z"
   },
   {
    "duration": 5,
    "start_time": "2022-05-19T08:25:26.430Z"
   },
   {
    "duration": 20,
    "start_time": "2022-05-19T08:25:26.436Z"
   },
   {
    "duration": 27,
    "start_time": "2022-05-19T08:25:26.458Z"
   },
   {
    "duration": 21,
    "start_time": "2022-05-19T08:25:26.486Z"
   },
   {
    "duration": 5,
    "start_time": "2022-05-19T08:25:26.508Z"
   },
   {
    "duration": 22,
    "start_time": "2022-05-19T08:25:26.515Z"
   },
   {
    "duration": 4,
    "start_time": "2022-05-19T08:25:26.539Z"
   },
   {
    "duration": 11,
    "start_time": "2022-05-19T08:25:26.544Z"
   },
   {
    "duration": 29,
    "start_time": "2022-05-19T08:25:26.556Z"
   },
   {
    "duration": 8,
    "start_time": "2022-05-19T08:26:37.004Z"
   },
   {
    "duration": 200,
    "start_time": "2022-05-19T08:28:22.077Z"
   },
   {
    "duration": 188,
    "start_time": "2022-05-19T08:29:56.908Z"
   },
   {
    "duration": 108,
    "start_time": "2022-05-19T08:38:02.772Z"
   },
   {
    "duration": 185,
    "start_time": "2022-05-19T08:38:36.331Z"
   },
   {
    "duration": 155,
    "start_time": "2022-05-19T08:38:48.907Z"
   },
   {
    "duration": 1156,
    "start_time": "2022-05-19T08:39:25.186Z"
   },
   {
    "duration": 663,
    "start_time": "2022-05-19T08:39:26.344Z"
   },
   {
    "duration": 11,
    "start_time": "2022-05-19T08:39:27.009Z"
   },
   {
    "duration": 7,
    "start_time": "2022-05-19T08:39:27.023Z"
   },
   {
    "duration": 10,
    "start_time": "2022-05-19T08:39:27.031Z"
   },
   {
    "duration": 8,
    "start_time": "2022-05-19T08:39:27.043Z"
   },
   {
    "duration": 13,
    "start_time": "2022-05-19T08:39:27.052Z"
   },
   {
    "duration": 34,
    "start_time": "2022-05-19T08:39:27.066Z"
   },
   {
    "duration": 60,
    "start_time": "2022-05-19T08:39:27.102Z"
   },
   {
    "duration": 22,
    "start_time": "2022-05-19T08:39:27.164Z"
   },
   {
    "duration": 110,
    "start_time": "2022-05-19T08:39:27.188Z"
   },
   {
    "duration": 11,
    "start_time": "2022-05-19T08:39:27.300Z"
   },
   {
    "duration": 17,
    "start_time": "2022-05-19T08:39:27.313Z"
   },
   {
    "duration": 67,
    "start_time": "2022-05-19T08:39:27.332Z"
   },
   {
    "duration": 6,
    "start_time": "2022-05-19T08:39:27.401Z"
   },
   {
    "duration": 13,
    "start_time": "2022-05-19T08:39:27.409Z"
   },
   {
    "duration": 60,
    "start_time": "2022-05-19T08:39:27.423Z"
   },
   {
    "duration": 8,
    "start_time": "2022-05-19T08:39:27.485Z"
   },
   {
    "duration": 10,
    "start_time": "2022-05-19T08:39:27.495Z"
   },
   {
    "duration": 32,
    "start_time": "2022-05-19T08:39:27.507Z"
   },
   {
    "duration": 10,
    "start_time": "2022-05-19T08:39:27.541Z"
   },
   {
    "duration": 71,
    "start_time": "2022-05-19T08:39:27.553Z"
   },
   {
    "duration": 7,
    "start_time": "2022-05-19T08:39:27.626Z"
   },
   {
    "duration": 41,
    "start_time": "2022-05-19T08:39:27.635Z"
   },
   {
    "duration": 244,
    "start_time": "2022-05-19T08:39:27.684Z"
   },
   {
    "duration": 11,
    "start_time": "2022-05-19T08:39:27.930Z"
   },
   {
    "duration": 28,
    "start_time": "2022-05-19T08:39:27.943Z"
   },
   {
    "duration": 23,
    "start_time": "2022-05-19T08:39:27.975Z"
   },
   {
    "duration": 46,
    "start_time": "2022-05-19T08:39:28.000Z"
   },
   {
    "duration": 35,
    "start_time": "2022-05-19T08:39:28.048Z"
   },
   {
    "duration": 24,
    "start_time": "2022-05-19T08:39:28.086Z"
   },
   {
    "duration": 22,
    "start_time": "2022-05-19T08:39:28.112Z"
   },
   {
    "duration": 27,
    "start_time": "2022-05-19T08:39:28.137Z"
   },
   {
    "duration": 30,
    "start_time": "2022-05-19T08:39:28.166Z"
   },
   {
    "duration": 56,
    "start_time": "2022-05-19T08:39:28.198Z"
   },
   {
    "duration": 41,
    "start_time": "2022-05-19T08:39:28.255Z"
   },
   {
    "duration": 33,
    "start_time": "2022-05-19T08:39:28.298Z"
   },
   {
    "duration": 33,
    "start_time": "2022-05-19T08:39:28.333Z"
   },
   {
    "duration": 33,
    "start_time": "2022-05-19T08:39:28.368Z"
   },
   {
    "duration": 13,
    "start_time": "2022-05-19T08:39:28.402Z"
   },
   {
    "duration": 15,
    "start_time": "2022-05-19T08:39:28.417Z"
   },
   {
    "duration": 23,
    "start_time": "2022-05-19T08:39:28.433Z"
   },
   {
    "duration": 6,
    "start_time": "2022-05-19T08:39:28.457Z"
   },
   {
    "duration": 28,
    "start_time": "2022-05-19T08:39:28.464Z"
   },
   {
    "duration": 25,
    "start_time": "2022-05-19T08:39:28.493Z"
   },
   {
    "duration": 32,
    "start_time": "2022-05-19T08:39:28.520Z"
   },
   {
    "duration": 25,
    "start_time": "2022-05-19T08:39:28.553Z"
   },
   {
    "duration": 24,
    "start_time": "2022-05-19T08:39:28.581Z"
   },
   {
    "duration": 18,
    "start_time": "2022-05-19T08:39:28.606Z"
   },
   {
    "duration": 15,
    "start_time": "2022-05-19T08:39:28.626Z"
   },
   {
    "duration": 25,
    "start_time": "2022-05-19T08:39:28.643Z"
   },
   {
    "duration": 62,
    "start_time": "2022-05-19T08:39:28.670Z"
   },
   {
    "duration": 12,
    "start_time": "2022-05-19T08:39:28.734Z"
   },
   {
    "duration": 25,
    "start_time": "2022-05-19T08:39:28.748Z"
   },
   {
    "duration": 18,
    "start_time": "2022-05-19T08:39:28.774Z"
   },
   {
    "duration": 40,
    "start_time": "2022-05-19T08:39:28.793Z"
   },
   {
    "duration": 19,
    "start_time": "2022-05-19T08:39:28.835Z"
   },
   {
    "duration": 15,
    "start_time": "2022-05-19T08:39:28.856Z"
   },
   {
    "duration": 22,
    "start_time": "2022-05-19T08:39:28.873Z"
   },
   {
    "duration": 200,
    "start_time": "2022-05-19T08:39:28.896Z"
   },
   {
    "duration": 32,
    "start_time": "2022-05-19T08:39:29.097Z"
   },
   {
    "duration": 19,
    "start_time": "2022-05-19T08:39:29.131Z"
   },
   {
    "duration": 5,
    "start_time": "2022-05-19T08:39:29.151Z"
   },
   {
    "duration": 46,
    "start_time": "2022-05-19T08:39:29.157Z"
   },
   {
    "duration": 11,
    "start_time": "2022-05-19T08:39:29.205Z"
   },
   {
    "duration": 48,
    "start_time": "2022-05-19T08:39:29.218Z"
   },
   {
    "duration": 5,
    "start_time": "2022-05-19T08:39:29.268Z"
   },
   {
    "duration": 22,
    "start_time": "2022-05-19T08:39:29.276Z"
   },
   {
    "duration": 10,
    "start_time": "2022-05-19T08:39:29.300Z"
   },
   {
    "duration": 36,
    "start_time": "2022-05-19T08:39:29.312Z"
   },
   {
    "duration": 45,
    "start_time": "2022-05-19T08:39:29.350Z"
   },
   {
    "duration": 244,
    "start_time": "2022-05-19T08:39:29.397Z"
   },
   {
    "duration": 8,
    "start_time": "2022-05-19T08:39:29.642Z"
   },
   {
    "duration": 209,
    "start_time": "2022-05-19T08:39:29.652Z"
   },
   {
    "duration": 121,
    "start_time": "2022-05-19T08:39:29.862Z"
   },
   {
    "duration": 111,
    "start_time": "2022-05-19T08:41:00.210Z"
   },
   {
    "duration": 17,
    "start_time": "2022-05-19T08:41:12.581Z"
   },
   {
    "duration": 26,
    "start_time": "2022-05-19T08:41:15.394Z"
   },
   {
    "duration": 16,
    "start_time": "2022-05-19T08:41:18.855Z"
   },
   {
    "duration": 1089,
    "start_time": "2022-05-19T08:41:28.338Z"
   },
   {
    "duration": 595,
    "start_time": "2022-05-19T08:41:29.429Z"
   },
   {
    "duration": 15,
    "start_time": "2022-05-19T08:41:30.026Z"
   },
   {
    "duration": 15,
    "start_time": "2022-05-19T08:41:30.043Z"
   },
   {
    "duration": 23,
    "start_time": "2022-05-19T08:41:30.059Z"
   },
   {
    "duration": 15,
    "start_time": "2022-05-19T08:41:30.083Z"
   },
   {
    "duration": 15,
    "start_time": "2022-05-19T08:41:30.099Z"
   },
   {
    "duration": 30,
    "start_time": "2022-05-19T08:41:30.115Z"
   },
   {
    "duration": 60,
    "start_time": "2022-05-19T08:41:30.146Z"
   },
   {
    "duration": 11,
    "start_time": "2022-05-19T08:41:30.209Z"
   },
   {
    "duration": 111,
    "start_time": "2022-05-19T08:41:30.221Z"
   },
   {
    "duration": 11,
    "start_time": "2022-05-19T08:41:30.333Z"
   },
   {
    "duration": 23,
    "start_time": "2022-05-19T08:41:30.346Z"
   },
   {
    "duration": 53,
    "start_time": "2022-05-19T08:41:30.370Z"
   },
   {
    "duration": 6,
    "start_time": "2022-05-19T08:41:30.424Z"
   },
   {
    "duration": 19,
    "start_time": "2022-05-19T08:41:30.432Z"
   },
   {
    "duration": 61,
    "start_time": "2022-05-19T08:41:30.453Z"
   },
   {
    "duration": 7,
    "start_time": "2022-05-19T08:41:30.516Z"
   },
   {
    "duration": 20,
    "start_time": "2022-05-19T08:41:30.525Z"
   },
   {
    "duration": 42,
    "start_time": "2022-05-19T08:41:30.547Z"
   },
   {
    "duration": 10,
    "start_time": "2022-05-19T08:41:30.591Z"
   },
   {
    "duration": 45,
    "start_time": "2022-05-19T08:41:30.602Z"
   },
   {
    "duration": 5,
    "start_time": "2022-05-19T08:41:30.648Z"
   },
   {
    "duration": 61,
    "start_time": "2022-05-19T08:41:30.654Z"
   },
   {
    "duration": 212,
    "start_time": "2022-05-19T08:41:30.717Z"
   },
   {
    "duration": 9,
    "start_time": "2022-05-19T08:41:30.930Z"
   },
   {
    "duration": 8,
    "start_time": "2022-05-19T08:41:30.941Z"
   },
   {
    "duration": 10,
    "start_time": "2022-05-19T08:41:30.953Z"
   },
   {
    "duration": 24,
    "start_time": "2022-05-19T08:41:30.964Z"
   },
   {
    "duration": 12,
    "start_time": "2022-05-19T08:41:30.990Z"
   },
   {
    "duration": 12,
    "start_time": "2022-05-19T08:41:31.003Z"
   },
   {
    "duration": 10,
    "start_time": "2022-05-19T08:41:31.016Z"
   },
   {
    "duration": 26,
    "start_time": "2022-05-19T08:41:31.027Z"
   },
   {
    "duration": 22,
    "start_time": "2022-05-19T08:41:31.054Z"
   },
   {
    "duration": 50,
    "start_time": "2022-05-19T08:41:31.077Z"
   },
   {
    "duration": 21,
    "start_time": "2022-05-19T08:41:31.129Z"
   },
   {
    "duration": 14,
    "start_time": "2022-05-19T08:41:31.151Z"
   },
   {
    "duration": 15,
    "start_time": "2022-05-19T08:41:31.166Z"
   },
   {
    "duration": 21,
    "start_time": "2022-05-19T08:41:31.183Z"
   },
   {
    "duration": 15,
    "start_time": "2022-05-19T08:41:31.205Z"
   },
   {
    "duration": 16,
    "start_time": "2022-05-19T08:41:31.221Z"
   },
   {
    "duration": 19,
    "start_time": "2022-05-19T08:41:31.239Z"
   },
   {
    "duration": 5,
    "start_time": "2022-05-19T08:41:31.260Z"
   },
   {
    "duration": 117,
    "start_time": "2022-05-19T08:41:31.267Z"
   },
   {
    "duration": 0,
    "start_time": "2022-05-19T08:41:31.385Z"
   },
   {
    "duration": 0,
    "start_time": "2022-05-19T08:41:31.387Z"
   },
   {
    "duration": 0,
    "start_time": "2022-05-19T08:41:31.387Z"
   },
   {
    "duration": 0,
    "start_time": "2022-05-19T08:41:31.388Z"
   },
   {
    "duration": 0,
    "start_time": "2022-05-19T08:41:31.389Z"
   },
   {
    "duration": 0,
    "start_time": "2022-05-19T08:41:31.390Z"
   },
   {
    "duration": 0,
    "start_time": "2022-05-19T08:41:31.391Z"
   },
   {
    "duration": 0,
    "start_time": "2022-05-19T08:41:31.393Z"
   },
   {
    "duration": 1,
    "start_time": "2022-05-19T08:41:31.393Z"
   },
   {
    "duration": 0,
    "start_time": "2022-05-19T08:41:31.395Z"
   },
   {
    "duration": 0,
    "start_time": "2022-05-19T08:41:31.396Z"
   },
   {
    "duration": 0,
    "start_time": "2022-05-19T08:41:31.398Z"
   },
   {
    "duration": 0,
    "start_time": "2022-05-19T08:41:31.398Z"
   },
   {
    "duration": 0,
    "start_time": "2022-05-19T08:41:31.400Z"
   },
   {
    "duration": 0,
    "start_time": "2022-05-19T08:41:31.401Z"
   },
   {
    "duration": 0,
    "start_time": "2022-05-19T08:41:31.403Z"
   },
   {
    "duration": 0,
    "start_time": "2022-05-19T08:41:31.404Z"
   },
   {
    "duration": 0,
    "start_time": "2022-05-19T08:41:31.405Z"
   },
   {
    "duration": 0,
    "start_time": "2022-05-19T08:41:31.406Z"
   },
   {
    "duration": 0,
    "start_time": "2022-05-19T08:41:31.408Z"
   },
   {
    "duration": 1,
    "start_time": "2022-05-19T08:41:31.408Z"
   },
   {
    "duration": 0,
    "start_time": "2022-05-19T08:41:31.409Z"
   },
   {
    "duration": 0,
    "start_time": "2022-05-19T08:41:31.410Z"
   },
   {
    "duration": 0,
    "start_time": "2022-05-19T08:41:31.411Z"
   },
   {
    "duration": 0,
    "start_time": "2022-05-19T08:41:31.413Z"
   },
   {
    "duration": 0,
    "start_time": "2022-05-19T08:41:31.413Z"
   },
   {
    "duration": 0,
    "start_time": "2022-05-19T08:41:31.415Z"
   },
   {
    "duration": 0,
    "start_time": "2022-05-19T08:41:31.416Z"
   },
   {
    "duration": 0,
    "start_time": "2022-05-19T08:41:31.417Z"
   },
   {
    "duration": 0,
    "start_time": "2022-05-19T08:41:31.418Z"
   },
   {
    "duration": 0,
    "start_time": "2022-05-19T08:41:31.419Z"
   },
   {
    "duration": 16,
    "start_time": "2022-05-19T08:41:51.996Z"
   },
   {
    "duration": 1182,
    "start_time": "2022-05-19T08:42:03.964Z"
   },
   {
    "duration": 622,
    "start_time": "2022-05-19T08:42:05.148Z"
   },
   {
    "duration": 12,
    "start_time": "2022-05-19T08:42:05.771Z"
   },
   {
    "duration": 7,
    "start_time": "2022-05-19T08:42:05.785Z"
   },
   {
    "duration": 13,
    "start_time": "2022-05-19T08:42:05.793Z"
   },
   {
    "duration": 12,
    "start_time": "2022-05-19T08:42:05.808Z"
   },
   {
    "duration": 15,
    "start_time": "2022-05-19T08:42:05.821Z"
   },
   {
    "duration": 21,
    "start_time": "2022-05-19T08:42:05.838Z"
   },
   {
    "duration": 74,
    "start_time": "2022-05-19T08:42:05.861Z"
   },
   {
    "duration": 11,
    "start_time": "2022-05-19T08:42:05.937Z"
   },
   {
    "duration": 115,
    "start_time": "2022-05-19T08:42:05.950Z"
   },
   {
    "duration": 16,
    "start_time": "2022-05-19T08:42:06.067Z"
   },
   {
    "duration": 16,
    "start_time": "2022-05-19T08:42:06.085Z"
   },
   {
    "duration": 44,
    "start_time": "2022-05-19T08:42:06.103Z"
   },
   {
    "duration": 6,
    "start_time": "2022-05-19T08:42:06.148Z"
   },
   {
    "duration": 39,
    "start_time": "2022-05-19T08:42:06.155Z"
   },
   {
    "duration": 40,
    "start_time": "2022-05-19T08:42:06.196Z"
   },
   {
    "duration": 8,
    "start_time": "2022-05-19T08:42:06.237Z"
   },
   {
    "duration": 11,
    "start_time": "2022-05-19T08:42:06.246Z"
   },
   {
    "duration": 54,
    "start_time": "2022-05-19T08:42:06.258Z"
   },
   {
    "duration": 10,
    "start_time": "2022-05-19T08:42:06.313Z"
   },
   {
    "duration": 41,
    "start_time": "2022-05-19T08:42:06.324Z"
   },
   {
    "duration": 20,
    "start_time": "2022-05-19T08:42:06.367Z"
   },
   {
    "duration": 37,
    "start_time": "2022-05-19T08:42:06.388Z"
   },
   {
    "duration": 216,
    "start_time": "2022-05-19T08:42:06.427Z"
   },
   {
    "duration": 13,
    "start_time": "2022-05-19T08:42:06.644Z"
   },
   {
    "duration": 9,
    "start_time": "2022-05-19T08:42:06.659Z"
   },
   {
    "duration": 12,
    "start_time": "2022-05-19T08:42:06.688Z"
   },
   {
    "duration": 14,
    "start_time": "2022-05-19T08:42:06.702Z"
   },
   {
    "duration": 10,
    "start_time": "2022-05-19T08:42:06.718Z"
   },
   {
    "duration": 8,
    "start_time": "2022-05-19T08:42:06.730Z"
   },
   {
    "duration": 10,
    "start_time": "2022-05-19T08:42:06.739Z"
   },
   {
    "duration": 37,
    "start_time": "2022-05-19T08:42:06.751Z"
   },
   {
    "duration": 15,
    "start_time": "2022-05-19T08:42:06.790Z"
   },
   {
    "duration": 40,
    "start_time": "2022-05-19T08:42:06.806Z"
   },
   {
    "duration": 10,
    "start_time": "2022-05-19T08:42:06.848Z"
   },
   {
    "duration": 27,
    "start_time": "2022-05-19T08:42:06.860Z"
   },
   {
    "duration": 12,
    "start_time": "2022-05-19T08:42:06.889Z"
   },
   {
    "duration": 15,
    "start_time": "2022-05-19T08:42:06.903Z"
   },
   {
    "duration": 14,
    "start_time": "2022-05-19T08:42:06.920Z"
   },
   {
    "duration": 10,
    "start_time": "2022-05-19T08:42:06.936Z"
   },
   {
    "duration": 53,
    "start_time": "2022-05-19T08:42:06.948Z"
   },
   {
    "duration": 5,
    "start_time": "2022-05-19T08:42:07.003Z"
   },
   {
    "duration": 114,
    "start_time": "2022-05-19T08:42:07.010Z"
   },
   {
    "duration": 0,
    "start_time": "2022-05-19T08:42:07.126Z"
   },
   {
    "duration": 0,
    "start_time": "2022-05-19T08:42:07.127Z"
   },
   {
    "duration": 0,
    "start_time": "2022-05-19T08:42:07.128Z"
   },
   {
    "duration": 0,
    "start_time": "2022-05-19T08:42:07.129Z"
   },
   {
    "duration": 0,
    "start_time": "2022-05-19T08:42:07.130Z"
   },
   {
    "duration": 0,
    "start_time": "2022-05-19T08:42:07.131Z"
   },
   {
    "duration": 0,
    "start_time": "2022-05-19T08:42:07.132Z"
   },
   {
    "duration": 0,
    "start_time": "2022-05-19T08:42:07.133Z"
   },
   {
    "duration": 0,
    "start_time": "2022-05-19T08:42:07.134Z"
   },
   {
    "duration": 0,
    "start_time": "2022-05-19T08:42:07.135Z"
   },
   {
    "duration": 0,
    "start_time": "2022-05-19T08:42:07.137Z"
   },
   {
    "duration": 0,
    "start_time": "2022-05-19T08:42:07.138Z"
   },
   {
    "duration": 0,
    "start_time": "2022-05-19T08:42:07.138Z"
   },
   {
    "duration": 0,
    "start_time": "2022-05-19T08:42:07.140Z"
   },
   {
    "duration": 0,
    "start_time": "2022-05-19T08:42:07.140Z"
   },
   {
    "duration": 0,
    "start_time": "2022-05-19T08:42:07.141Z"
   },
   {
    "duration": 0,
    "start_time": "2022-05-19T08:42:07.142Z"
   },
   {
    "duration": 0,
    "start_time": "2022-05-19T08:42:07.143Z"
   },
   {
    "duration": 0,
    "start_time": "2022-05-19T08:42:07.145Z"
   },
   {
    "duration": 0,
    "start_time": "2022-05-19T08:42:07.145Z"
   },
   {
    "duration": 0,
    "start_time": "2022-05-19T08:42:07.147Z"
   },
   {
    "duration": 0,
    "start_time": "2022-05-19T08:42:07.184Z"
   },
   {
    "duration": 0,
    "start_time": "2022-05-19T08:42:07.185Z"
   },
   {
    "duration": 0,
    "start_time": "2022-05-19T08:42:07.186Z"
   },
   {
    "duration": 0,
    "start_time": "2022-05-19T08:42:07.187Z"
   },
   {
    "duration": 0,
    "start_time": "2022-05-19T08:42:07.189Z"
   },
   {
    "duration": 0,
    "start_time": "2022-05-19T08:42:07.190Z"
   },
   {
    "duration": 0,
    "start_time": "2022-05-19T08:42:07.191Z"
   },
   {
    "duration": 0,
    "start_time": "2022-05-19T08:42:07.192Z"
   },
   {
    "duration": 0,
    "start_time": "2022-05-19T08:42:07.193Z"
   },
   {
    "duration": 0,
    "start_time": "2022-05-19T08:42:07.194Z"
   },
   {
    "duration": 9,
    "start_time": "2022-05-19T08:43:04.508Z"
   },
   {
    "duration": 12,
    "start_time": "2022-05-19T08:43:12.786Z"
   },
   {
    "duration": 22,
    "start_time": "2022-05-19T08:43:20.486Z"
   },
   {
    "duration": 1329,
    "start_time": "2022-05-19T08:43:27.849Z"
   },
   {
    "duration": 642,
    "start_time": "2022-05-19T08:43:29.180Z"
   },
   {
    "duration": 15,
    "start_time": "2022-05-19T08:43:29.825Z"
   },
   {
    "duration": 10,
    "start_time": "2022-05-19T08:43:29.842Z"
   },
   {
    "duration": 13,
    "start_time": "2022-05-19T08:43:29.855Z"
   },
   {
    "duration": 20,
    "start_time": "2022-05-19T08:43:29.869Z"
   },
   {
    "duration": 14,
    "start_time": "2022-05-19T08:43:29.891Z"
   },
   {
    "duration": 20,
    "start_time": "2022-05-19T08:43:29.907Z"
   },
   {
    "duration": 118,
    "start_time": "2022-05-19T08:43:29.930Z"
   },
   {
    "duration": 13,
    "start_time": "2022-05-19T08:43:30.050Z"
   },
   {
    "duration": 109,
    "start_time": "2022-05-19T08:43:30.084Z"
   },
   {
    "duration": 11,
    "start_time": "2022-05-19T08:43:30.194Z"
   },
   {
    "duration": 23,
    "start_time": "2022-05-19T08:43:30.206Z"
   },
   {
    "duration": 72,
    "start_time": "2022-05-19T08:43:30.232Z"
   },
   {
    "duration": 8,
    "start_time": "2022-05-19T08:43:30.306Z"
   },
   {
    "duration": 40,
    "start_time": "2022-05-19T08:43:30.315Z"
   },
   {
    "duration": 56,
    "start_time": "2022-05-19T08:43:30.357Z"
   },
   {
    "duration": 12,
    "start_time": "2022-05-19T08:43:30.415Z"
   },
   {
    "duration": 13,
    "start_time": "2022-05-19T08:43:30.430Z"
   },
   {
    "duration": 63,
    "start_time": "2022-05-19T08:43:30.445Z"
   },
   {
    "duration": 12,
    "start_time": "2022-05-19T08:43:30.510Z"
   },
   {
    "duration": 60,
    "start_time": "2022-05-19T08:43:30.525Z"
   },
   {
    "duration": 8,
    "start_time": "2022-05-19T08:43:30.587Z"
   },
   {
    "duration": 70,
    "start_time": "2022-05-19T08:43:30.598Z"
   },
   {
    "duration": 227,
    "start_time": "2022-05-19T08:43:30.670Z"
   },
   {
    "duration": 10,
    "start_time": "2022-05-19T08:43:30.899Z"
   },
   {
    "duration": 11,
    "start_time": "2022-05-19T08:43:30.911Z"
   },
   {
    "duration": 36,
    "start_time": "2022-05-19T08:43:30.923Z"
   },
   {
    "duration": 20,
    "start_time": "2022-05-19T08:43:30.960Z"
   },
   {
    "duration": 30,
    "start_time": "2022-05-19T08:43:30.982Z"
   },
   {
    "duration": 10,
    "start_time": "2022-05-19T08:43:31.014Z"
   },
   {
    "duration": 25,
    "start_time": "2022-05-19T08:43:31.026Z"
   },
   {
    "duration": 35,
    "start_time": "2022-05-19T08:43:31.053Z"
   },
   {
    "duration": 58,
    "start_time": "2022-05-19T08:43:31.090Z"
   },
   {
    "duration": 41,
    "start_time": "2022-05-19T08:43:31.150Z"
   },
   {
    "duration": 29,
    "start_time": "2022-05-19T08:43:31.193Z"
   },
   {
    "duration": 11,
    "start_time": "2022-05-19T08:43:31.223Z"
   },
   {
    "duration": 10,
    "start_time": "2022-05-19T08:43:31.236Z"
   },
   {
    "duration": 19,
    "start_time": "2022-05-19T08:43:31.247Z"
   },
   {
    "duration": 36,
    "start_time": "2022-05-19T08:43:31.268Z"
   },
   {
    "duration": 12,
    "start_time": "2022-05-19T08:43:31.308Z"
   },
   {
    "duration": 19,
    "start_time": "2022-05-19T08:43:31.322Z"
   },
   {
    "duration": 5,
    "start_time": "2022-05-19T08:43:31.342Z"
   },
   {
    "duration": 129,
    "start_time": "2022-05-19T08:43:31.348Z"
   },
   {
    "duration": 1,
    "start_time": "2022-05-19T08:43:31.478Z"
   },
   {
    "duration": 0,
    "start_time": "2022-05-19T08:43:31.484Z"
   },
   {
    "duration": 0,
    "start_time": "2022-05-19T08:43:31.485Z"
   },
   {
    "duration": 0,
    "start_time": "2022-05-19T08:43:31.486Z"
   },
   {
    "duration": 0,
    "start_time": "2022-05-19T08:43:31.488Z"
   },
   {
    "duration": 0,
    "start_time": "2022-05-19T08:43:31.489Z"
   },
   {
    "duration": 0,
    "start_time": "2022-05-19T08:43:31.490Z"
   },
   {
    "duration": 0,
    "start_time": "2022-05-19T08:43:31.491Z"
   },
   {
    "duration": 0,
    "start_time": "2022-05-19T08:43:31.492Z"
   },
   {
    "duration": 0,
    "start_time": "2022-05-19T08:43:31.493Z"
   },
   {
    "duration": 0,
    "start_time": "2022-05-19T08:43:31.493Z"
   },
   {
    "duration": 0,
    "start_time": "2022-05-19T08:43:31.494Z"
   },
   {
    "duration": 0,
    "start_time": "2022-05-19T08:43:31.495Z"
   },
   {
    "duration": 0,
    "start_time": "2022-05-19T08:43:31.497Z"
   },
   {
    "duration": 0,
    "start_time": "2022-05-19T08:43:31.499Z"
   },
   {
    "duration": 0,
    "start_time": "2022-05-19T08:43:31.500Z"
   },
   {
    "duration": 0,
    "start_time": "2022-05-19T08:43:31.502Z"
   },
   {
    "duration": 0,
    "start_time": "2022-05-19T08:43:31.503Z"
   },
   {
    "duration": 0,
    "start_time": "2022-05-19T08:43:31.504Z"
   },
   {
    "duration": 0,
    "start_time": "2022-05-19T08:43:31.506Z"
   },
   {
    "duration": 0,
    "start_time": "2022-05-19T08:43:31.507Z"
   },
   {
    "duration": 0,
    "start_time": "2022-05-19T08:43:31.509Z"
   },
   {
    "duration": 0,
    "start_time": "2022-05-19T08:43:31.510Z"
   },
   {
    "duration": 0,
    "start_time": "2022-05-19T08:43:31.511Z"
   },
   {
    "duration": 0,
    "start_time": "2022-05-19T08:43:31.513Z"
   },
   {
    "duration": 0,
    "start_time": "2022-05-19T08:43:31.514Z"
   },
   {
    "duration": 0,
    "start_time": "2022-05-19T08:43:31.516Z"
   },
   {
    "duration": 0,
    "start_time": "2022-05-19T08:43:31.517Z"
   },
   {
    "duration": 0,
    "start_time": "2022-05-19T08:43:31.519Z"
   },
   {
    "duration": 0,
    "start_time": "2022-05-19T08:43:31.520Z"
   },
   {
    "duration": 0,
    "start_time": "2022-05-19T08:43:31.522Z"
   },
   {
    "duration": 12,
    "start_time": "2022-05-19T08:44:03.568Z"
   },
   {
    "duration": 9,
    "start_time": "2022-05-19T08:44:44.662Z"
   },
   {
    "duration": 8,
    "start_time": "2022-05-19T08:45:14.128Z"
   },
   {
    "duration": 8,
    "start_time": "2022-05-19T08:45:25.409Z"
   },
   {
    "duration": 10,
    "start_time": "2022-05-19T08:45:28.413Z"
   },
   {
    "duration": 208,
    "start_time": "2022-05-19T08:45:31.951Z"
   },
   {
    "duration": 8,
    "start_time": "2022-05-19T08:45:34.704Z"
   },
   {
    "duration": 8,
    "start_time": "2022-05-19T08:46:16.647Z"
   },
   {
    "duration": 10,
    "start_time": "2022-05-19T08:47:13.990Z"
   },
   {
    "duration": 1102,
    "start_time": "2022-05-19T08:47:22.136Z"
   },
   {
    "duration": 573,
    "start_time": "2022-05-19T08:47:23.240Z"
   },
   {
    "duration": 12,
    "start_time": "2022-05-19T08:47:23.814Z"
   },
   {
    "duration": 8,
    "start_time": "2022-05-19T08:47:23.828Z"
   },
   {
    "duration": 13,
    "start_time": "2022-05-19T08:47:23.837Z"
   },
   {
    "duration": 9,
    "start_time": "2022-05-19T08:47:23.852Z"
   },
   {
    "duration": 21,
    "start_time": "2022-05-19T08:47:23.862Z"
   },
   {
    "duration": 16,
    "start_time": "2022-05-19T08:47:23.885Z"
   },
   {
    "duration": 60,
    "start_time": "2022-05-19T08:47:23.903Z"
   },
   {
    "duration": 26,
    "start_time": "2022-05-19T08:47:23.965Z"
   },
   {
    "duration": 106,
    "start_time": "2022-05-19T08:47:23.993Z"
   },
   {
    "duration": 10,
    "start_time": "2022-05-19T08:47:24.101Z"
   },
   {
    "duration": 19,
    "start_time": "2022-05-19T08:47:24.113Z"
   },
   {
    "duration": 61,
    "start_time": "2022-05-19T08:47:24.133Z"
   },
   {
    "duration": 6,
    "start_time": "2022-05-19T08:47:24.196Z"
   },
   {
    "duration": 13,
    "start_time": "2022-05-19T08:47:24.203Z"
   },
   {
    "duration": 43,
    "start_time": "2022-05-19T08:47:24.218Z"
   },
   {
    "duration": 28,
    "start_time": "2022-05-19T08:47:24.262Z"
   },
   {
    "duration": 11,
    "start_time": "2022-05-19T08:47:24.291Z"
   },
   {
    "duration": 38,
    "start_time": "2022-05-19T08:47:24.303Z"
   },
   {
    "duration": 9,
    "start_time": "2022-05-19T08:47:24.342Z"
   },
   {
    "duration": 69,
    "start_time": "2022-05-19T08:47:24.352Z"
   },
   {
    "duration": 5,
    "start_time": "2022-05-19T08:47:24.423Z"
   },
   {
    "duration": 31,
    "start_time": "2022-05-19T08:47:24.430Z"
   },
   {
    "duration": 194,
    "start_time": "2022-05-19T08:47:24.463Z"
   },
   {
    "duration": 10,
    "start_time": "2022-05-19T08:47:24.659Z"
   },
   {
    "duration": 9,
    "start_time": "2022-05-19T08:47:24.684Z"
   },
   {
    "duration": 8,
    "start_time": "2022-05-19T08:47:24.697Z"
   },
   {
    "duration": 12,
    "start_time": "2022-05-19T08:47:24.706Z"
   },
   {
    "duration": 9,
    "start_time": "2022-05-19T08:47:24.719Z"
   },
   {
    "duration": 7,
    "start_time": "2022-05-19T08:47:24.729Z"
   },
   {
    "duration": 6,
    "start_time": "2022-05-19T08:47:24.737Z"
   },
   {
    "duration": 39,
    "start_time": "2022-05-19T08:47:24.745Z"
   },
   {
    "duration": 10,
    "start_time": "2022-05-19T08:47:24.786Z"
   },
   {
    "duration": 40,
    "start_time": "2022-05-19T08:47:24.797Z"
   },
   {
    "duration": 9,
    "start_time": "2022-05-19T08:47:24.839Z"
   },
   {
    "duration": 8,
    "start_time": "2022-05-19T08:47:24.849Z"
   },
   {
    "duration": 27,
    "start_time": "2022-05-19T08:47:24.859Z"
   },
   {
    "duration": 16,
    "start_time": "2022-05-19T08:47:24.888Z"
   },
   {
    "duration": 10,
    "start_time": "2022-05-19T08:47:24.905Z"
   },
   {
    "duration": 11,
    "start_time": "2022-05-19T08:47:24.917Z"
   },
   {
    "duration": 17,
    "start_time": "2022-05-19T08:47:24.929Z"
   },
   {
    "duration": 4,
    "start_time": "2022-05-19T08:47:24.948Z"
   },
   {
    "duration": 33,
    "start_time": "2022-05-19T08:47:24.953Z"
   },
   {
    "duration": 8,
    "start_time": "2022-05-19T08:47:24.988Z"
   },
   {
    "duration": 15,
    "start_time": "2022-05-19T08:47:24.997Z"
   },
   {
    "duration": 12,
    "start_time": "2022-05-19T08:47:25.014Z"
   },
   {
    "duration": 22,
    "start_time": "2022-05-19T08:47:25.027Z"
   },
   {
    "duration": 33,
    "start_time": "2022-05-19T08:47:25.051Z"
   },
   {
    "duration": 6,
    "start_time": "2022-05-19T08:47:25.086Z"
   },
   {
    "duration": 10,
    "start_time": "2022-05-19T08:47:25.094Z"
   },
   {
    "duration": 36,
    "start_time": "2022-05-19T08:47:25.106Z"
   },
   {
    "duration": 5,
    "start_time": "2022-05-19T08:47:25.144Z"
   },
   {
    "duration": 9,
    "start_time": "2022-05-19T08:47:25.151Z"
   },
   {
    "duration": 27,
    "start_time": "2022-05-19T08:47:25.161Z"
   },
   {
    "duration": 8,
    "start_time": "2022-05-19T08:47:25.189Z"
   },
   {
    "duration": 6,
    "start_time": "2022-05-19T08:47:25.198Z"
   },
   {
    "duration": 10,
    "start_time": "2022-05-19T08:47:25.206Z"
   },
   {
    "duration": 12,
    "start_time": "2022-05-19T08:47:25.217Z"
   },
   {
    "duration": 143,
    "start_time": "2022-05-19T08:47:25.231Z"
   },
   {
    "duration": 31,
    "start_time": "2022-05-19T08:47:25.376Z"
   },
   {
    "duration": 18,
    "start_time": "2022-05-19T08:47:25.409Z"
   },
   {
    "duration": 5,
    "start_time": "2022-05-19T08:47:25.428Z"
   },
   {
    "duration": 18,
    "start_time": "2022-05-19T08:47:25.434Z"
   },
   {
    "duration": 33,
    "start_time": "2022-05-19T08:47:25.454Z"
   },
   {
    "duration": 20,
    "start_time": "2022-05-19T08:47:25.489Z"
   },
   {
    "duration": 7,
    "start_time": "2022-05-19T08:47:25.510Z"
   },
   {
    "duration": 17,
    "start_time": "2022-05-19T08:47:25.519Z"
   },
   {
    "duration": 5,
    "start_time": "2022-05-19T08:47:25.538Z"
   },
   {
    "duration": 50,
    "start_time": "2022-05-19T08:47:25.545Z"
   },
   {
    "duration": 11,
    "start_time": "2022-05-19T08:47:25.598Z"
   },
   {
    "duration": 220,
    "start_time": "2022-05-19T08:47:25.611Z"
   },
   {
    "duration": 7,
    "start_time": "2022-05-19T08:47:25.833Z"
   },
   {
    "duration": 8,
    "start_time": "2022-05-19T08:47:25.842Z"
   },
   {
    "duration": 181,
    "start_time": "2022-05-19T08:47:25.851Z"
   },
   {
    "duration": 110,
    "start_time": "2022-05-19T08:47:26.033Z"
   },
   {
    "duration": 182,
    "start_time": "2022-05-19T08:47:56.468Z"
   },
   {
    "duration": 94,
    "start_time": "2022-05-19T08:48:06.096Z"
   },
   {
    "duration": 68,
    "start_time": "2022-05-19T08:49:08.839Z"
   },
   {
    "duration": 95,
    "start_time": "2022-05-19T08:49:33.127Z"
   },
   {
    "duration": 113,
    "start_time": "2022-05-19T08:49:54.910Z"
   },
   {
    "duration": 88,
    "start_time": "2022-05-19T08:50:15.765Z"
   },
   {
    "duration": 1171,
    "start_time": "2022-05-19T08:50:22.258Z"
   },
   {
    "duration": 598,
    "start_time": "2022-05-19T08:50:23.431Z"
   },
   {
    "duration": 12,
    "start_time": "2022-05-19T08:50:24.030Z"
   },
   {
    "duration": 33,
    "start_time": "2022-05-19T08:50:24.044Z"
   },
   {
    "duration": 27,
    "start_time": "2022-05-19T08:50:24.078Z"
   },
   {
    "duration": 29,
    "start_time": "2022-05-19T08:50:24.107Z"
   },
   {
    "duration": 22,
    "start_time": "2022-05-19T08:50:24.138Z"
   },
   {
    "duration": 26,
    "start_time": "2022-05-19T08:50:24.162Z"
   },
   {
    "duration": 77,
    "start_time": "2022-05-19T08:50:24.190Z"
   },
   {
    "duration": 11,
    "start_time": "2022-05-19T08:50:24.270Z"
   },
   {
    "duration": 111,
    "start_time": "2022-05-19T08:50:24.282Z"
   },
   {
    "duration": 12,
    "start_time": "2022-05-19T08:50:24.395Z"
   },
   {
    "duration": 31,
    "start_time": "2022-05-19T08:50:24.410Z"
   },
   {
    "duration": 84,
    "start_time": "2022-05-19T08:50:24.444Z"
   },
   {
    "duration": 9,
    "start_time": "2022-05-19T08:50:24.531Z"
   },
   {
    "duration": 33,
    "start_time": "2022-05-19T08:50:24.542Z"
   },
   {
    "duration": 44,
    "start_time": "2022-05-19T08:50:24.577Z"
   },
   {
    "duration": 7,
    "start_time": "2022-05-19T08:50:24.623Z"
   },
   {
    "duration": 35,
    "start_time": "2022-05-19T08:50:24.631Z"
   },
   {
    "duration": 47,
    "start_time": "2022-05-19T08:50:24.668Z"
   },
   {
    "duration": 11,
    "start_time": "2022-05-19T08:50:24.717Z"
   },
   {
    "duration": 53,
    "start_time": "2022-05-19T08:50:24.730Z"
   },
   {
    "duration": 5,
    "start_time": "2022-05-19T08:50:24.785Z"
   },
   {
    "duration": 46,
    "start_time": "2022-05-19T08:50:24.792Z"
   },
   {
    "duration": 202,
    "start_time": "2022-05-19T08:50:24.839Z"
   },
   {
    "duration": 10,
    "start_time": "2022-05-19T08:50:25.043Z"
   },
   {
    "duration": 14,
    "start_time": "2022-05-19T08:50:25.055Z"
   },
   {
    "duration": 31,
    "start_time": "2022-05-19T08:50:25.087Z"
   },
   {
    "duration": 24,
    "start_time": "2022-05-19T08:50:25.120Z"
   },
   {
    "duration": 31,
    "start_time": "2022-05-19T08:50:25.147Z"
   },
   {
    "duration": 22,
    "start_time": "2022-05-19T08:50:25.180Z"
   },
   {
    "duration": 26,
    "start_time": "2022-05-19T08:50:25.205Z"
   },
   {
    "duration": 36,
    "start_time": "2022-05-19T08:50:25.233Z"
   },
   {
    "duration": 37,
    "start_time": "2022-05-19T08:50:25.271Z"
   },
   {
    "duration": 57,
    "start_time": "2022-05-19T08:50:25.310Z"
   },
   {
    "duration": 10,
    "start_time": "2022-05-19T08:50:25.368Z"
   },
   {
    "duration": 23,
    "start_time": "2022-05-19T08:50:25.380Z"
   },
   {
    "duration": 22,
    "start_time": "2022-05-19T08:50:25.405Z"
   },
   {
    "duration": 16,
    "start_time": "2022-05-19T08:50:25.428Z"
   },
   {
    "duration": 25,
    "start_time": "2022-05-19T08:50:25.445Z"
   },
   {
    "duration": 21,
    "start_time": "2022-05-19T08:50:25.471Z"
   },
   {
    "duration": 29,
    "start_time": "2022-05-19T08:50:25.493Z"
   },
   {
    "duration": 6,
    "start_time": "2022-05-19T08:50:25.524Z"
   },
   {
    "duration": 23,
    "start_time": "2022-05-19T08:50:25.532Z"
   },
   {
    "duration": 24,
    "start_time": "2022-05-19T08:50:25.557Z"
   },
   {
    "duration": 33,
    "start_time": "2022-05-19T08:50:25.583Z"
   },
   {
    "duration": 26,
    "start_time": "2022-05-19T08:50:25.618Z"
   },
   {
    "duration": 31,
    "start_time": "2022-05-19T08:50:25.646Z"
   },
   {
    "duration": 15,
    "start_time": "2022-05-19T08:50:25.680Z"
   },
   {
    "duration": 25,
    "start_time": "2022-05-19T08:50:25.696Z"
   },
   {
    "duration": 32,
    "start_time": "2022-05-19T08:50:25.724Z"
   },
   {
    "duration": 63,
    "start_time": "2022-05-19T08:50:25.758Z"
   },
   {
    "duration": 11,
    "start_time": "2022-05-19T08:50:25.822Z"
   },
   {
    "duration": 56,
    "start_time": "2022-05-19T08:50:25.836Z"
   },
   {
    "duration": 25,
    "start_time": "2022-05-19T08:50:25.894Z"
   },
   {
    "duration": 11,
    "start_time": "2022-05-19T08:50:25.921Z"
   },
   {
    "duration": 20,
    "start_time": "2022-05-19T08:50:25.933Z"
   },
   {
    "duration": 21,
    "start_time": "2022-05-19T08:50:25.956Z"
   },
   {
    "duration": 24,
    "start_time": "2022-05-19T08:50:25.979Z"
   },
   {
    "duration": 165,
    "start_time": "2022-05-19T08:50:26.004Z"
   },
   {
    "duration": 33,
    "start_time": "2022-05-19T08:50:26.171Z"
   },
   {
    "duration": 17,
    "start_time": "2022-05-19T08:50:26.206Z"
   },
   {
    "duration": 5,
    "start_time": "2022-05-19T08:50:26.225Z"
   },
   {
    "duration": 28,
    "start_time": "2022-05-19T08:50:26.232Z"
   },
   {
    "duration": 21,
    "start_time": "2022-05-19T08:50:26.262Z"
   },
   {
    "duration": 45,
    "start_time": "2022-05-19T08:50:26.285Z"
   },
   {
    "duration": 11,
    "start_time": "2022-05-19T08:50:26.332Z"
   },
   {
    "duration": 25,
    "start_time": "2022-05-19T08:50:26.345Z"
   },
   {
    "duration": 5,
    "start_time": "2022-05-19T08:50:26.372Z"
   },
   {
    "duration": 40,
    "start_time": "2022-05-19T08:50:26.379Z"
   },
   {
    "duration": 31,
    "start_time": "2022-05-19T08:50:26.420Z"
   },
   {
    "duration": 189,
    "start_time": "2022-05-19T08:50:26.453Z"
   },
   {
    "duration": 8,
    "start_time": "2022-05-19T08:50:26.644Z"
   },
   {
    "duration": 199,
    "start_time": "2022-05-19T08:50:26.653Z"
   },
   {
    "duration": 118,
    "start_time": "2022-05-19T08:50:26.853Z"
   },
   {
    "duration": 113,
    "start_time": "2022-05-19T08:50:26.973Z"
   },
   {
    "duration": 81,
    "start_time": "2022-05-19T08:50:27.087Z"
   },
   {
    "duration": 103,
    "start_time": "2022-05-19T08:50:27.170Z"
   },
   {
    "duration": 61,
    "start_time": "2022-05-19T08:56:31.820Z"
   },
   {
    "duration": 117,
    "start_time": "2022-05-19T08:57:34.578Z"
   },
   {
    "duration": 37,
    "start_time": "2022-05-19T08:57:55.798Z"
   },
   {
    "duration": 36,
    "start_time": "2022-05-19T08:59:05.559Z"
   },
   {
    "duration": 36,
    "start_time": "2022-05-19T08:59:23.493Z"
   },
   {
    "duration": 49,
    "start_time": "2022-05-19T09:00:44.963Z"
   },
   {
    "duration": 48,
    "start_time": "2022-05-19T09:01:24.872Z"
   },
   {
    "duration": 25,
    "start_time": "2022-05-19T09:01:40.617Z"
   },
   {
    "duration": 48,
    "start_time": "2022-05-19T09:01:45.070Z"
   },
   {
    "duration": 25,
    "start_time": "2022-05-19T09:01:46.462Z"
   },
   {
    "duration": 32,
    "start_time": "2022-05-19T09:02:47.616Z"
   },
   {
    "duration": 34,
    "start_time": "2022-05-19T09:03:47.537Z"
   },
   {
    "duration": 25,
    "start_time": "2022-05-19T09:04:09.477Z"
   },
   {
    "duration": 41,
    "start_time": "2022-05-19T09:04:25.710Z"
   },
   {
    "duration": 29,
    "start_time": "2022-05-19T09:04:41.897Z"
   },
   {
    "duration": 46,
    "start_time": "2022-05-19T09:04:57.586Z"
   },
   {
    "duration": 37,
    "start_time": "2022-05-19T09:07:05.285Z"
   },
   {
    "duration": 26,
    "start_time": "2022-05-19T09:07:39.459Z"
   },
   {
    "duration": 29,
    "start_time": "2022-05-19T09:08:14.416Z"
   },
   {
    "duration": 46,
    "start_time": "2022-05-19T09:08:43.476Z"
   },
   {
    "duration": 33,
    "start_time": "2022-05-19T09:10:43.618Z"
   },
   {
    "duration": 1151,
    "start_time": "2022-05-19T09:11:02.492Z"
   },
   {
    "duration": 622,
    "start_time": "2022-05-19T09:11:03.646Z"
   },
   {
    "duration": 14,
    "start_time": "2022-05-19T09:11:04.270Z"
   },
   {
    "duration": 9,
    "start_time": "2022-05-19T09:11:04.285Z"
   },
   {
    "duration": 13,
    "start_time": "2022-05-19T09:11:04.296Z"
   },
   {
    "duration": 10,
    "start_time": "2022-05-19T09:11:04.310Z"
   },
   {
    "duration": 14,
    "start_time": "2022-05-19T09:11:04.322Z"
   },
   {
    "duration": 46,
    "start_time": "2022-05-19T09:11:04.338Z"
   },
   {
    "duration": 98,
    "start_time": "2022-05-19T09:11:04.386Z"
   },
   {
    "duration": 17,
    "start_time": "2022-05-19T09:11:04.486Z"
   },
   {
    "duration": 123,
    "start_time": "2022-05-19T09:11:04.505Z"
   },
   {
    "duration": 14,
    "start_time": "2022-05-19T09:11:04.629Z"
   },
   {
    "duration": 20,
    "start_time": "2022-05-19T09:11:04.645Z"
   },
   {
    "duration": 45,
    "start_time": "2022-05-19T09:11:04.684Z"
   },
   {
    "duration": 5,
    "start_time": "2022-05-19T09:11:04.733Z"
   },
   {
    "duration": 20,
    "start_time": "2022-05-19T09:11:04.740Z"
   },
   {
    "duration": 41,
    "start_time": "2022-05-19T09:11:04.784Z"
   },
   {
    "duration": 9,
    "start_time": "2022-05-19T09:11:04.827Z"
   },
   {
    "duration": 12,
    "start_time": "2022-05-19T09:11:04.838Z"
   },
   {
    "duration": 75,
    "start_time": "2022-05-19T09:11:04.853Z"
   },
   {
    "duration": 9,
    "start_time": "2022-05-19T09:11:04.930Z"
   },
   {
    "duration": 51,
    "start_time": "2022-05-19T09:11:04.940Z"
   },
   {
    "duration": 6,
    "start_time": "2022-05-19T09:11:04.992Z"
   },
   {
    "duration": 33,
    "start_time": "2022-05-19T09:11:05.000Z"
   },
   {
    "duration": 226,
    "start_time": "2022-05-19T09:11:05.035Z"
   },
   {
    "duration": 20,
    "start_time": "2022-05-19T09:11:05.263Z"
   },
   {
    "duration": 10,
    "start_time": "2022-05-19T09:11:05.285Z"
   },
   {
    "duration": 21,
    "start_time": "2022-05-19T09:11:05.296Z"
   },
   {
    "duration": 19,
    "start_time": "2022-05-19T09:11:05.319Z"
   },
   {
    "duration": 35,
    "start_time": "2022-05-19T09:11:05.339Z"
   },
   {
    "duration": 24,
    "start_time": "2022-05-19T09:11:05.376Z"
   },
   {
    "duration": 38,
    "start_time": "2022-05-19T09:11:05.401Z"
   },
   {
    "duration": 24,
    "start_time": "2022-05-19T09:11:05.441Z"
   },
   {
    "duration": 20,
    "start_time": "2022-05-19T09:11:05.467Z"
   },
   {
    "duration": 56,
    "start_time": "2022-05-19T09:11:05.489Z"
   },
   {
    "duration": 14,
    "start_time": "2022-05-19T09:11:05.547Z"
   },
   {
    "duration": 23,
    "start_time": "2022-05-19T09:11:05.563Z"
   },
   {
    "duration": 26,
    "start_time": "2022-05-19T09:11:05.588Z"
   },
   {
    "duration": 26,
    "start_time": "2022-05-19T09:11:05.616Z"
   },
   {
    "duration": 29,
    "start_time": "2022-05-19T09:11:05.644Z"
   },
   {
    "duration": 13,
    "start_time": "2022-05-19T09:11:05.679Z"
   },
   {
    "duration": 35,
    "start_time": "2022-05-19T09:11:05.693Z"
   },
   {
    "duration": 5,
    "start_time": "2022-05-19T09:11:05.730Z"
   },
   {
    "duration": 16,
    "start_time": "2022-05-19T09:11:05.737Z"
   },
   {
    "duration": 31,
    "start_time": "2022-05-19T09:11:05.754Z"
   },
   {
    "duration": 32,
    "start_time": "2022-05-19T09:11:05.786Z"
   },
   {
    "duration": 15,
    "start_time": "2022-05-19T09:11:05.820Z"
   },
   {
    "duration": 33,
    "start_time": "2022-05-19T09:11:05.837Z"
   },
   {
    "duration": 10,
    "start_time": "2022-05-19T09:11:05.872Z"
   },
   {
    "duration": 9,
    "start_time": "2022-05-19T09:11:05.884Z"
   },
   {
    "duration": 25,
    "start_time": "2022-05-19T09:11:05.895Z"
   },
   {
    "duration": 49,
    "start_time": "2022-05-19T09:11:05.921Z"
   },
   {
    "duration": 6,
    "start_time": "2022-05-19T09:11:05.972Z"
   },
   {
    "duration": 27,
    "start_time": "2022-05-19T09:11:05.980Z"
   },
   {
    "duration": 21,
    "start_time": "2022-05-19T09:11:06.009Z"
   },
   {
    "duration": 11,
    "start_time": "2022-05-19T09:11:06.032Z"
   },
   {
    "duration": 19,
    "start_time": "2022-05-19T09:11:06.046Z"
   },
   {
    "duration": 18,
    "start_time": "2022-05-19T09:11:06.066Z"
   },
   {
    "duration": 14,
    "start_time": "2022-05-19T09:11:06.085Z"
   },
   {
    "duration": 138,
    "start_time": "2022-05-19T09:11:06.101Z"
   },
   {
    "duration": 24,
    "start_time": "2022-05-19T09:11:06.241Z"
   },
   {
    "duration": 33,
    "start_time": "2022-05-19T09:11:06.267Z"
   },
   {
    "duration": 4,
    "start_time": "2022-05-19T09:11:06.302Z"
   },
   {
    "duration": 17,
    "start_time": "2022-05-19T09:11:06.308Z"
   },
   {
    "duration": 5,
    "start_time": "2022-05-19T09:11:06.327Z"
   },
   {
    "duration": 54,
    "start_time": "2022-05-19T09:11:06.333Z"
   },
   {
    "duration": 7,
    "start_time": "2022-05-19T09:11:06.388Z"
   },
   {
    "duration": 19,
    "start_time": "2022-05-19T09:11:06.397Z"
   },
   {
    "duration": 5,
    "start_time": "2022-05-19T09:11:06.417Z"
   },
   {
    "duration": 10,
    "start_time": "2022-05-19T09:11:06.424Z"
   },
   {
    "duration": 10,
    "start_time": "2022-05-19T09:11:06.435Z"
   },
   {
    "duration": 224,
    "start_time": "2022-05-19T09:11:06.446Z"
   },
   {
    "duration": 17,
    "start_time": "2022-05-19T09:11:06.672Z"
   },
   {
    "duration": 193,
    "start_time": "2022-05-19T09:11:06.691Z"
   },
   {
    "duration": 126,
    "start_time": "2022-05-19T09:11:06.886Z"
   },
   {
    "duration": 110,
    "start_time": "2022-05-19T09:11:07.014Z"
   },
   {
    "duration": 88,
    "start_time": "2022-05-19T09:11:07.126Z"
   },
   {
    "duration": 100,
    "start_time": "2022-05-19T09:11:07.216Z"
   },
   {
    "duration": 36,
    "start_time": "2022-05-19T09:11:07.318Z"
   },
   {
    "duration": 48,
    "start_time": "2022-05-19T09:11:07.355Z"
   },
   {
    "duration": 40,
    "start_time": "2022-05-19T09:11:07.404Z"
   },
   {
    "duration": 58,
    "start_time": "2022-05-19T09:11:07.446Z"
   },
   {
    "duration": 39,
    "start_time": "2022-05-19T09:11:07.506Z"
   },
   {
    "duration": 46,
    "start_time": "2022-05-19T09:11:07.546Z"
   },
   {
    "duration": 38,
    "start_time": "2022-05-19T09:11:07.594Z"
   },
   {
    "duration": 53,
    "start_time": "2022-05-19T09:11:07.634Z"
   },
   {
    "duration": 149,
    "start_time": "2022-05-19T09:11:07.689Z"
   },
   {
    "duration": 182,
    "start_time": "2022-05-19T09:19:23.980Z"
   },
   {
    "duration": 59,
    "start_time": "2022-05-19T09:21:06.605Z"
   },
   {
    "duration": 60,
    "start_time": "2022-05-19T09:22:02.074Z"
   },
   {
    "duration": 51,
    "start_time": "2022-05-19T09:22:33.115Z"
   },
   {
    "duration": 62,
    "start_time": "2022-05-19T09:23:17.270Z"
   },
   {
    "duration": 37,
    "start_time": "2022-05-19T09:23:44.816Z"
   },
   {
    "duration": 62,
    "start_time": "2022-05-19T09:24:13.265Z"
   },
   {
    "duration": 56,
    "start_time": "2022-05-19T09:24:48.552Z"
   },
   {
    "duration": 33,
    "start_time": "2022-05-19T09:25:19.190Z"
   },
   {
    "duration": 53,
    "start_time": "2022-05-19T09:25:48.271Z"
   },
   {
    "duration": 59,
    "start_time": "2022-05-19T09:26:12.664Z"
   },
   {
    "duration": 12,
    "start_time": "2022-05-19T09:26:15.269Z"
   },
   {
    "duration": 1269,
    "start_time": "2022-05-19T09:27:54.576Z"
   },
   {
    "duration": 626,
    "start_time": "2022-05-19T09:27:55.847Z"
   },
   {
    "duration": 16,
    "start_time": "2022-05-19T09:27:56.475Z"
   },
   {
    "duration": 10,
    "start_time": "2022-05-19T09:27:56.493Z"
   },
   {
    "duration": 16,
    "start_time": "2022-05-19T09:27:56.506Z"
   },
   {
    "duration": 13,
    "start_time": "2022-05-19T09:27:56.524Z"
   },
   {
    "duration": 18,
    "start_time": "2022-05-19T09:27:56.538Z"
   },
   {
    "duration": 20,
    "start_time": "2022-05-19T09:27:56.584Z"
   },
   {
    "duration": 79,
    "start_time": "2022-05-19T09:27:56.606Z"
   },
   {
    "duration": 20,
    "start_time": "2022-05-19T09:27:56.688Z"
   },
   {
    "duration": 134,
    "start_time": "2022-05-19T09:27:56.710Z"
   },
   {
    "duration": 16,
    "start_time": "2022-05-19T09:27:56.847Z"
   },
   {
    "duration": 26,
    "start_time": "2022-05-19T09:27:56.865Z"
   },
   {
    "duration": 89,
    "start_time": "2022-05-19T09:27:56.895Z"
   },
   {
    "duration": 7,
    "start_time": "2022-05-19T09:27:56.987Z"
   },
   {
    "duration": 19,
    "start_time": "2022-05-19T09:27:56.996Z"
   },
   {
    "duration": 45,
    "start_time": "2022-05-19T09:27:57.017Z"
   },
   {
    "duration": 11,
    "start_time": "2022-05-19T09:27:57.085Z"
   },
   {
    "duration": 18,
    "start_time": "2022-05-19T09:27:57.097Z"
   },
   {
    "duration": 41,
    "start_time": "2022-05-19T09:27:57.118Z"
   },
   {
    "duration": 33,
    "start_time": "2022-05-19T09:27:57.161Z"
   },
   {
    "duration": 65,
    "start_time": "2022-05-19T09:27:57.196Z"
   },
   {
    "duration": 24,
    "start_time": "2022-05-19T09:27:57.263Z"
   },
   {
    "duration": 40,
    "start_time": "2022-05-19T09:27:57.290Z"
   },
   {
    "duration": 206,
    "start_time": "2022-05-19T09:27:57.332Z"
   },
   {
    "duration": 10,
    "start_time": "2022-05-19T09:27:57.540Z"
   },
   {
    "duration": 11,
    "start_time": "2022-05-19T09:27:57.551Z"
   },
   {
    "duration": 31,
    "start_time": "2022-05-19T09:27:57.563Z"
   },
   {
    "duration": 13,
    "start_time": "2022-05-19T09:27:57.596Z"
   },
   {
    "duration": 10,
    "start_time": "2022-05-19T09:27:57.611Z"
   },
   {
    "duration": 11,
    "start_time": "2022-05-19T09:27:57.623Z"
   },
   {
    "duration": 14,
    "start_time": "2022-05-19T09:27:57.636Z"
   },
   {
    "duration": 43,
    "start_time": "2022-05-19T09:27:57.652Z"
   },
   {
    "duration": 14,
    "start_time": "2022-05-19T09:27:57.697Z"
   },
   {
    "duration": 50,
    "start_time": "2022-05-19T09:27:57.713Z"
   },
   {
    "duration": 8,
    "start_time": "2022-05-19T09:27:57.783Z"
   },
   {
    "duration": 9,
    "start_time": "2022-05-19T09:27:57.793Z"
   },
   {
    "duration": 9,
    "start_time": "2022-05-19T09:27:57.805Z"
   },
   {
    "duration": 13,
    "start_time": "2022-05-19T09:27:57.815Z"
   },
   {
    "duration": 10,
    "start_time": "2022-05-19T09:27:57.830Z"
   },
   {
    "duration": 52,
    "start_time": "2022-05-19T09:27:57.846Z"
   },
   {
    "duration": 29,
    "start_time": "2022-05-19T09:27:57.900Z"
   },
   {
    "duration": 6,
    "start_time": "2022-05-19T09:27:57.932Z"
   },
   {
    "duration": 12,
    "start_time": "2022-05-19T09:27:57.941Z"
   },
   {
    "duration": 37,
    "start_time": "2022-05-19T09:27:57.954Z"
   },
   {
    "duration": 24,
    "start_time": "2022-05-19T09:27:57.994Z"
   },
   {
    "duration": 13,
    "start_time": "2022-05-19T09:27:58.021Z"
   },
   {
    "duration": 21,
    "start_time": "2022-05-19T09:27:58.037Z"
   },
   {
    "duration": 17,
    "start_time": "2022-05-19T09:27:58.085Z"
   },
   {
    "duration": 13,
    "start_time": "2022-05-19T09:27:58.104Z"
   },
   {
    "duration": 12,
    "start_time": "2022-05-19T09:27:58.120Z"
   },
   {
    "duration": 80,
    "start_time": "2022-05-19T09:27:58.134Z"
   },
   {
    "duration": 8,
    "start_time": "2022-05-19T09:27:58.216Z"
   },
   {
    "duration": 8,
    "start_time": "2022-05-19T09:27:58.226Z"
   },
   {
    "duration": 9,
    "start_time": "2022-05-19T09:27:58.236Z"
   },
   {
    "duration": 6,
    "start_time": "2022-05-19T09:27:58.247Z"
   },
   {
    "duration": 34,
    "start_time": "2022-05-19T09:27:58.255Z"
   },
   {
    "duration": 11,
    "start_time": "2022-05-19T09:27:58.291Z"
   },
   {
    "duration": 14,
    "start_time": "2022-05-19T09:27:58.304Z"
   },
   {
    "duration": 177,
    "start_time": "2022-05-19T09:27:58.321Z"
   },
   {
    "duration": 24,
    "start_time": "2022-05-19T09:27:58.501Z"
   },
   {
    "duration": 24,
    "start_time": "2022-05-19T09:27:58.527Z"
   },
   {
    "duration": 30,
    "start_time": "2022-05-19T09:27:58.553Z"
   },
   {
    "duration": 21,
    "start_time": "2022-05-19T09:27:58.586Z"
   },
   {
    "duration": 5,
    "start_time": "2022-05-19T09:27:58.609Z"
   },
   {
    "duration": 21,
    "start_time": "2022-05-19T09:27:58.616Z"
   },
   {
    "duration": 7,
    "start_time": "2022-05-19T09:27:58.638Z"
   },
   {
    "duration": 53,
    "start_time": "2022-05-19T09:27:58.647Z"
   },
   {
    "duration": 6,
    "start_time": "2022-05-19T09:27:58.703Z"
   },
   {
    "duration": 19,
    "start_time": "2022-05-19T09:27:58.711Z"
   },
   {
    "duration": 13,
    "start_time": "2022-05-19T09:27:58.732Z"
   },
   {
    "duration": 238,
    "start_time": "2022-05-19T09:27:58.747Z"
   },
   {
    "duration": 12,
    "start_time": "2022-05-19T09:27:58.987Z"
   },
   {
    "duration": 243,
    "start_time": "2022-05-19T09:27:59.001Z"
   },
   {
    "duration": 114,
    "start_time": "2022-05-19T09:27:59.246Z"
   },
   {
    "duration": 113,
    "start_time": "2022-05-19T09:27:59.362Z"
   },
   {
    "duration": 87,
    "start_time": "2022-05-19T09:27:59.476Z"
   },
   {
    "duration": 109,
    "start_time": "2022-05-19T09:27:59.565Z"
   },
   {
    "duration": 42,
    "start_time": "2022-05-19T09:27:59.683Z"
   },
   {
    "duration": 71,
    "start_time": "2022-05-19T09:27:59.727Z"
   },
   {
    "duration": 46,
    "start_time": "2022-05-19T09:27:59.800Z"
   },
   {
    "duration": 61,
    "start_time": "2022-05-19T09:27:59.848Z"
   },
   {
    "duration": 49,
    "start_time": "2022-05-19T09:27:59.911Z"
   },
   {
    "duration": 75,
    "start_time": "2022-05-19T09:27:59.962Z"
   },
   {
    "duration": 44,
    "start_time": "2022-05-19T09:28:00.039Z"
   },
   {
    "duration": 54,
    "start_time": "2022-05-19T09:28:00.086Z"
   },
   {
    "duration": 160,
    "start_time": "2022-05-19T09:28:00.142Z"
   },
   {
    "duration": 75,
    "start_time": "2022-05-19T09:33:43.009Z"
   },
   {
    "duration": 1221,
    "start_time": "2022-05-19T09:33:53.713Z"
   },
   {
    "duration": 628,
    "start_time": "2022-05-19T09:33:54.937Z"
   },
   {
    "duration": 12,
    "start_time": "2022-05-19T09:33:55.567Z"
   },
   {
    "duration": 9,
    "start_time": "2022-05-19T09:33:55.582Z"
   },
   {
    "duration": 13,
    "start_time": "2022-05-19T09:33:55.592Z"
   },
   {
    "duration": 13,
    "start_time": "2022-05-19T09:33:55.606Z"
   },
   {
    "duration": 15,
    "start_time": "2022-05-19T09:33:55.621Z"
   },
   {
    "duration": 21,
    "start_time": "2022-05-19T09:33:55.638Z"
   },
   {
    "duration": 80,
    "start_time": "2022-05-19T09:33:55.683Z"
   },
   {
    "duration": 25,
    "start_time": "2022-05-19T09:33:55.766Z"
   },
   {
    "duration": 108,
    "start_time": "2022-05-19T09:33:55.793Z"
   },
   {
    "duration": 12,
    "start_time": "2022-05-19T09:33:55.903Z"
   },
   {
    "duration": 27,
    "start_time": "2022-05-19T09:33:55.916Z"
   },
   {
    "duration": 87,
    "start_time": "2022-05-19T09:33:55.945Z"
   },
   {
    "duration": 7,
    "start_time": "2022-05-19T09:33:56.034Z"
   },
   {
    "duration": 16,
    "start_time": "2022-05-19T09:33:56.043Z"
   },
   {
    "duration": 69,
    "start_time": "2022-05-19T09:33:56.083Z"
   },
   {
    "duration": 11,
    "start_time": "2022-05-19T09:33:56.154Z"
   },
   {
    "duration": 24,
    "start_time": "2022-05-19T09:33:56.166Z"
   },
   {
    "duration": 58,
    "start_time": "2022-05-19T09:33:56.192Z"
   },
   {
    "duration": 12,
    "start_time": "2022-05-19T09:33:56.252Z"
   },
   {
    "duration": 45,
    "start_time": "2022-05-19T09:33:56.283Z"
   },
   {
    "duration": 5,
    "start_time": "2022-05-19T09:33:56.330Z"
   },
   {
    "duration": 60,
    "start_time": "2022-05-19T09:33:56.337Z"
   },
   {
    "duration": 218,
    "start_time": "2022-05-19T09:33:56.399Z"
   },
   {
    "duration": 10,
    "start_time": "2022-05-19T09:33:56.620Z"
   },
   {
    "duration": 9,
    "start_time": "2022-05-19T09:33:56.631Z"
   },
   {
    "duration": 9,
    "start_time": "2022-05-19T09:33:56.644Z"
   },
   {
    "duration": 36,
    "start_time": "2022-05-19T09:33:56.654Z"
   },
   {
    "duration": 11,
    "start_time": "2022-05-19T09:33:56.692Z"
   },
   {
    "duration": 8,
    "start_time": "2022-05-19T09:33:56.705Z"
   },
   {
    "duration": 9,
    "start_time": "2022-05-19T09:33:56.716Z"
   },
   {
    "duration": 21,
    "start_time": "2022-05-19T09:33:56.727Z"
   },
   {
    "duration": 38,
    "start_time": "2022-05-19T09:33:56.750Z"
   },
   {
    "duration": 41,
    "start_time": "2022-05-19T09:33:56.790Z"
   },
   {
    "duration": 9,
    "start_time": "2022-05-19T09:33:56.833Z"
   },
   {
    "duration": 10,
    "start_time": "2022-05-19T09:33:56.844Z"
   },
   {
    "duration": 29,
    "start_time": "2022-05-19T09:33:56.856Z"
   },
   {
    "duration": 11,
    "start_time": "2022-05-19T09:33:56.887Z"
   },
   {
    "duration": 14,
    "start_time": "2022-05-19T09:33:56.900Z"
   },
   {
    "duration": 11,
    "start_time": "2022-05-19T09:33:56.916Z"
   },
   {
    "duration": 24,
    "start_time": "2022-05-19T09:33:56.929Z"
   },
   {
    "duration": 7,
    "start_time": "2022-05-19T09:33:56.984Z"
   },
   {
    "duration": 17,
    "start_time": "2022-05-19T09:33:56.994Z"
   },
   {
    "duration": 14,
    "start_time": "2022-05-19T09:33:57.013Z"
   },
   {
    "duration": 21,
    "start_time": "2022-05-19T09:33:57.029Z"
   },
   {
    "duration": 44,
    "start_time": "2022-05-19T09:33:57.052Z"
   },
   {
    "duration": 26,
    "start_time": "2022-05-19T09:33:57.098Z"
   },
   {
    "duration": 17,
    "start_time": "2022-05-19T09:33:57.126Z"
   },
   {
    "duration": 11,
    "start_time": "2022-05-19T09:33:57.145Z"
   },
   {
    "duration": 13,
    "start_time": "2022-05-19T09:33:57.187Z"
   },
   {
    "duration": 50,
    "start_time": "2022-05-19T09:33:57.202Z"
   },
   {
    "duration": 29,
    "start_time": "2022-05-19T09:33:57.256Z"
   },
   {
    "duration": 8,
    "start_time": "2022-05-19T09:33:57.287Z"
   },
   {
    "duration": 12,
    "start_time": "2022-05-19T09:33:57.298Z"
   },
   {
    "duration": 5,
    "start_time": "2022-05-19T09:33:57.312Z"
   },
   {
    "duration": 7,
    "start_time": "2022-05-19T09:33:57.319Z"
   },
   {
    "duration": 13,
    "start_time": "2022-05-19T09:33:57.328Z"
   },
   {
    "duration": 51,
    "start_time": "2022-05-19T09:33:57.343Z"
   },
   {
    "duration": 178,
    "start_time": "2022-05-19T09:33:57.396Z"
   },
   {
    "duration": 27,
    "start_time": "2022-05-19T09:33:57.576Z"
   },
   {
    "duration": 19,
    "start_time": "2022-05-19T09:33:57.605Z"
   },
   {
    "duration": 6,
    "start_time": "2022-05-19T09:33:57.626Z"
   },
   {
    "duration": 55,
    "start_time": "2022-05-19T09:33:57.634Z"
   },
   {
    "duration": 6,
    "start_time": "2022-05-19T09:33:57.691Z"
   },
   {
    "duration": 26,
    "start_time": "2022-05-19T09:33:57.700Z"
   },
   {
    "duration": 8,
    "start_time": "2022-05-19T09:33:57.728Z"
   },
   {
    "duration": 20,
    "start_time": "2022-05-19T09:33:57.738Z"
   },
   {
    "duration": 31,
    "start_time": "2022-05-19T09:33:57.760Z"
   },
   {
    "duration": 14,
    "start_time": "2022-05-19T09:33:57.793Z"
   },
   {
    "duration": 24,
    "start_time": "2022-05-19T09:33:57.810Z"
   },
   {
    "duration": 290,
    "start_time": "2022-05-19T09:33:57.835Z"
   },
   {
    "duration": 10,
    "start_time": "2022-05-19T09:33:58.128Z"
   },
   {
    "duration": 194,
    "start_time": "2022-05-19T09:33:58.139Z"
   },
   {
    "duration": 122,
    "start_time": "2022-05-19T09:33:58.336Z"
   },
   {
    "duration": 115,
    "start_time": "2022-05-19T09:33:58.459Z"
   },
   {
    "duration": 89,
    "start_time": "2022-05-19T09:33:58.576Z"
   },
   {
    "duration": 111,
    "start_time": "2022-05-19T09:33:58.666Z"
   },
   {
    "duration": 36,
    "start_time": "2022-05-19T09:33:58.783Z"
   },
   {
    "duration": 35,
    "start_time": "2022-05-19T09:33:58.821Z"
   },
   {
    "duration": 54,
    "start_time": "2022-05-19T09:33:58.858Z"
   },
   {
    "duration": 70,
    "start_time": "2022-05-19T09:33:58.919Z"
   },
   {
    "duration": 46,
    "start_time": "2022-05-19T09:33:58.991Z"
   },
   {
    "duration": 56,
    "start_time": "2022-05-19T09:33:59.038Z"
   },
   {
    "duration": 35,
    "start_time": "2022-05-19T09:33:59.095Z"
   },
   {
    "duration": 52,
    "start_time": "2022-05-19T09:33:59.133Z"
   },
   {
    "duration": 182,
    "start_time": "2022-05-19T09:33:59.187Z"
   },
   {
    "duration": 110,
    "start_time": "2022-05-19T09:34:46.893Z"
   },
   {
    "duration": 57,
    "start_time": "2022-05-19T10:17:09.723Z"
   },
   {
    "duration": 52,
    "start_time": "2022-05-19T10:17:35.939Z"
   },
   {
    "duration": 36,
    "start_time": "2022-05-19T10:18:09.752Z"
   },
   {
    "duration": 38,
    "start_time": "2022-05-19T10:18:50.398Z"
   },
   {
    "duration": 38,
    "start_time": "2022-05-19T10:19:09.659Z"
   },
   {
    "duration": 64,
    "start_time": "2022-05-19T10:19:38.030Z"
   },
   {
    "duration": 78,
    "start_time": "2022-05-19T10:20:27.420Z"
   },
   {
    "duration": 60,
    "start_time": "2022-05-19T10:20:34.377Z"
   },
   {
    "duration": 1244,
    "start_time": "2022-05-19T13:51:17.543Z"
   },
   {
    "duration": 1205,
    "start_time": "2022-05-19T13:51:25.885Z"
   },
   {
    "duration": 822,
    "start_time": "2022-05-19T13:51:27.092Z"
   },
   {
    "duration": 12,
    "start_time": "2022-05-19T13:51:27.915Z"
   },
   {
    "duration": 8,
    "start_time": "2022-05-19T13:51:27.929Z"
   },
   {
    "duration": 11,
    "start_time": "2022-05-19T13:51:27.939Z"
   },
   {
    "duration": 14,
    "start_time": "2022-05-19T13:51:27.952Z"
   },
   {
    "duration": 11,
    "start_time": "2022-05-19T13:51:27.967Z"
   },
   {
    "duration": 22,
    "start_time": "2022-05-19T13:51:27.980Z"
   },
   {
    "duration": 66,
    "start_time": "2022-05-19T13:51:28.003Z"
   },
   {
    "duration": 11,
    "start_time": "2022-05-19T13:51:28.072Z"
   },
   {
    "duration": 107,
    "start_time": "2022-05-19T13:51:28.085Z"
   },
   {
    "duration": 10,
    "start_time": "2022-05-19T13:51:28.193Z"
   },
   {
    "duration": 34,
    "start_time": "2022-05-19T13:51:28.204Z"
   },
   {
    "duration": 50,
    "start_time": "2022-05-19T13:51:28.239Z"
   },
   {
    "duration": 6,
    "start_time": "2022-05-19T13:51:28.291Z"
   },
   {
    "duration": 24,
    "start_time": "2022-05-19T13:51:28.298Z"
   },
   {
    "duration": 49,
    "start_time": "2022-05-19T13:51:28.324Z"
   },
   {
    "duration": 10,
    "start_time": "2022-05-19T13:51:28.374Z"
   },
   {
    "duration": 12,
    "start_time": "2022-05-19T13:51:28.386Z"
   },
   {
    "duration": 33,
    "start_time": "2022-05-19T13:51:28.400Z"
   },
   {
    "duration": 30,
    "start_time": "2022-05-19T13:51:28.434Z"
   },
   {
    "duration": 40,
    "start_time": "2022-05-19T13:51:28.465Z"
   },
   {
    "duration": 5,
    "start_time": "2022-05-19T13:51:28.506Z"
   },
   {
    "duration": 49,
    "start_time": "2022-05-19T13:51:28.513Z"
   },
   {
    "duration": 181,
    "start_time": "2022-05-19T13:51:28.564Z"
   },
   {
    "duration": 12,
    "start_time": "2022-05-19T13:51:28.747Z"
   },
   {
    "duration": 9,
    "start_time": "2022-05-19T13:51:28.761Z"
   },
   {
    "duration": 12,
    "start_time": "2022-05-19T13:51:28.774Z"
   },
   {
    "duration": 11,
    "start_time": "2022-05-19T13:51:28.788Z"
   },
   {
    "duration": 13,
    "start_time": "2022-05-19T13:51:28.801Z"
   },
   {
    "duration": 9,
    "start_time": "2022-05-19T13:51:28.816Z"
   },
   {
    "duration": 9,
    "start_time": "2022-05-19T13:51:28.827Z"
   },
   {
    "duration": 30,
    "start_time": "2022-05-19T13:51:28.837Z"
   },
   {
    "duration": 12,
    "start_time": "2022-05-19T13:51:28.869Z"
   },
   {
    "duration": 41,
    "start_time": "2022-05-19T13:51:28.883Z"
   },
   {
    "duration": 9,
    "start_time": "2022-05-19T13:51:28.926Z"
   },
   {
    "duration": 23,
    "start_time": "2022-05-19T13:51:28.937Z"
   },
   {
    "duration": 9,
    "start_time": "2022-05-19T13:51:28.961Z"
   },
   {
    "duration": 10,
    "start_time": "2022-05-19T13:51:28.971Z"
   },
   {
    "duration": 12,
    "start_time": "2022-05-19T13:51:28.982Z"
   },
   {
    "duration": 10,
    "start_time": "2022-05-19T13:51:28.995Z"
   },
   {
    "duration": 22,
    "start_time": "2022-05-19T13:51:29.007Z"
   },
   {
    "duration": 31,
    "start_time": "2022-05-19T13:51:29.031Z"
   },
   {
    "duration": 15,
    "start_time": "2022-05-19T13:51:29.063Z"
   },
   {
    "duration": 19,
    "start_time": "2022-05-19T13:51:29.079Z"
   },
   {
    "duration": 22,
    "start_time": "2022-05-19T13:51:29.100Z"
   },
   {
    "duration": 13,
    "start_time": "2022-05-19T13:51:29.124Z"
   },
   {
    "duration": 20,
    "start_time": "2022-05-19T13:51:29.139Z"
   },
   {
    "duration": 12,
    "start_time": "2022-05-19T13:51:29.161Z"
   },
   {
    "duration": 8,
    "start_time": "2022-05-19T13:51:29.175Z"
   },
   {
    "duration": 14,
    "start_time": "2022-05-19T13:51:29.185Z"
   },
   {
    "duration": 63,
    "start_time": "2022-05-19T13:51:29.201Z"
   },
   {
    "duration": 7,
    "start_time": "2022-05-19T13:51:29.266Z"
   },
   {
    "duration": 12,
    "start_time": "2022-05-19T13:51:29.274Z"
   },
   {
    "duration": 12,
    "start_time": "2022-05-19T13:51:29.288Z"
   },
   {
    "duration": 7,
    "start_time": "2022-05-19T13:51:29.301Z"
   },
   {
    "duration": 8,
    "start_time": "2022-05-19T13:51:29.310Z"
   },
   {
    "duration": 12,
    "start_time": "2022-05-19T13:51:29.320Z"
   },
   {
    "duration": 30,
    "start_time": "2022-05-19T13:51:29.334Z"
   },
   {
    "duration": 142,
    "start_time": "2022-05-19T13:51:29.366Z"
   },
   {
    "duration": 24,
    "start_time": "2022-05-19T13:51:29.509Z"
   },
   {
    "duration": 38,
    "start_time": "2022-05-19T13:51:29.535Z"
   },
   {
    "duration": 6,
    "start_time": "2022-05-19T13:51:29.575Z"
   },
   {
    "duration": 25,
    "start_time": "2022-05-19T13:51:29.583Z"
   },
   {
    "duration": 5,
    "start_time": "2022-05-19T13:51:29.610Z"
   },
   {
    "duration": 21,
    "start_time": "2022-05-19T13:51:29.616Z"
   },
   {
    "duration": 29,
    "start_time": "2022-05-19T13:51:29.638Z"
   },
   {
    "duration": 14,
    "start_time": "2022-05-19T13:51:29.669Z"
   },
   {
    "duration": 4,
    "start_time": "2022-05-19T13:51:29.685Z"
   },
   {
    "duration": 20,
    "start_time": "2022-05-19T13:51:29.691Z"
   },
   {
    "duration": 12,
    "start_time": "2022-05-19T13:51:29.712Z"
   },
   {
    "duration": 203,
    "start_time": "2022-05-19T13:51:29.725Z"
   },
   {
    "duration": 7,
    "start_time": "2022-05-19T13:51:29.930Z"
   },
   {
    "duration": 180,
    "start_time": "2022-05-19T13:51:29.938Z"
   },
   {
    "duration": 108,
    "start_time": "2022-05-19T13:51:30.120Z"
   },
   {
    "duration": 109,
    "start_time": "2022-05-19T13:51:30.229Z"
   },
   {
    "duration": 84,
    "start_time": "2022-05-19T13:51:30.340Z"
   },
   {
    "duration": 98,
    "start_time": "2022-05-19T13:51:30.425Z"
   },
   {
    "duration": 37,
    "start_time": "2022-05-19T13:51:30.525Z"
   },
   {
    "duration": 53,
    "start_time": "2022-05-19T13:51:30.564Z"
   },
   {
    "duration": 47,
    "start_time": "2022-05-19T13:51:30.618Z"
   },
   {
    "duration": 35,
    "start_time": "2022-05-19T13:51:30.670Z"
   },
   {
    "duration": 59,
    "start_time": "2022-05-19T13:51:30.706Z"
   },
   {
    "duration": 57,
    "start_time": "2022-05-19T13:51:30.767Z"
   },
   {
    "duration": 44,
    "start_time": "2022-05-19T13:51:30.826Z"
   },
   {
    "duration": 72,
    "start_time": "2022-05-19T13:51:30.872Z"
   },
   {
    "duration": 235,
    "start_time": "2022-05-19T13:51:30.946Z"
   },
   {
    "duration": 121,
    "start_time": "2022-05-19T13:54:32.524Z"
   },
   {
    "duration": 1003,
    "start_time": "2022-05-19T17:05:43.358Z"
   },
   {
    "duration": 11,
    "start_time": "2022-05-19T17:06:17.084Z"
   },
   {
    "duration": 1532,
    "start_time": "2022-05-19T17:06:37.881Z"
   },
   {
    "duration": 915,
    "start_time": "2022-05-19T17:06:39.416Z"
   },
   {
    "duration": 13,
    "start_time": "2022-05-19T17:06:40.334Z"
   },
   {
    "duration": 11,
    "start_time": "2022-05-19T17:06:40.349Z"
   },
   {
    "duration": 24,
    "start_time": "2022-05-19T17:06:40.366Z"
   },
   {
    "duration": 11,
    "start_time": "2022-05-19T17:06:40.392Z"
   },
   {
    "duration": 12,
    "start_time": "2022-05-19T17:06:40.405Z"
   },
   {
    "duration": 20,
    "start_time": "2022-05-19T17:06:40.419Z"
   },
   {
    "duration": 77,
    "start_time": "2022-05-19T17:06:40.440Z"
   },
   {
    "duration": 12,
    "start_time": "2022-05-19T17:06:40.518Z"
   },
   {
    "duration": 141,
    "start_time": "2022-05-19T17:06:40.531Z"
   },
   {
    "duration": 12,
    "start_time": "2022-05-19T17:06:40.678Z"
   },
   {
    "duration": 28,
    "start_time": "2022-05-19T17:06:40.692Z"
   },
   {
    "duration": 58,
    "start_time": "2022-05-19T17:06:40.724Z"
   },
   {
    "duration": 12,
    "start_time": "2022-05-19T17:06:40.784Z"
   },
   {
    "duration": 14,
    "start_time": "2022-05-19T17:06:40.798Z"
   },
   {
    "duration": 64,
    "start_time": "2022-05-19T17:06:40.813Z"
   },
   {
    "duration": 9,
    "start_time": "2022-05-19T17:06:40.883Z"
   },
   {
    "duration": 11,
    "start_time": "2022-05-19T17:06:40.893Z"
   },
   {
    "duration": 37,
    "start_time": "2022-05-19T17:06:40.905Z"
   },
   {
    "duration": 32,
    "start_time": "2022-05-19T17:06:40.944Z"
   },
   {
    "duration": 42,
    "start_time": "2022-05-19T17:06:40.978Z"
   },
   {
    "duration": 11,
    "start_time": "2022-05-19T17:06:41.021Z"
   },
   {
    "duration": 55,
    "start_time": "2022-05-19T17:06:41.034Z"
   },
   {
    "duration": 199,
    "start_time": "2022-05-19T17:06:41.091Z"
   },
   {
    "duration": 10,
    "start_time": "2022-05-19T17:06:41.291Z"
   },
   {
    "duration": 8,
    "start_time": "2022-05-19T17:06:41.303Z"
   },
   {
    "duration": 10,
    "start_time": "2022-05-19T17:06:41.313Z"
   },
   {
    "duration": 10,
    "start_time": "2022-05-19T17:06:41.324Z"
   },
   {
    "duration": 13,
    "start_time": "2022-05-19T17:06:41.364Z"
   },
   {
    "duration": 11,
    "start_time": "2022-05-19T17:06:41.382Z"
   },
   {
    "duration": 7,
    "start_time": "2022-05-19T17:06:41.395Z"
   },
   {
    "duration": 13,
    "start_time": "2022-05-19T17:06:41.403Z"
   },
   {
    "duration": 13,
    "start_time": "2022-05-19T17:06:41.418Z"
   },
   {
    "duration": 74,
    "start_time": "2022-05-19T17:06:41.433Z"
   },
   {
    "duration": 7,
    "start_time": "2022-05-19T17:06:41.509Z"
   },
   {
    "duration": 7,
    "start_time": "2022-05-19T17:06:41.518Z"
   },
   {
    "duration": 7,
    "start_time": "2022-05-19T17:06:41.527Z"
   },
   {
    "duration": 33,
    "start_time": "2022-05-19T17:06:41.536Z"
   },
   {
    "duration": 14,
    "start_time": "2022-05-19T17:06:41.578Z"
   },
   {
    "duration": 9,
    "start_time": "2022-05-19T17:06:41.596Z"
   },
   {
    "duration": 20,
    "start_time": "2022-05-19T17:06:41.607Z"
   },
   {
    "duration": 4,
    "start_time": "2022-05-19T17:06:41.629Z"
   },
   {
    "duration": 14,
    "start_time": "2022-05-19T17:06:41.635Z"
   },
   {
    "duration": 14,
    "start_time": "2022-05-19T17:06:41.669Z"
   },
   {
    "duration": 15,
    "start_time": "2022-05-19T17:06:41.685Z"
   },
   {
    "duration": 12,
    "start_time": "2022-05-19T17:06:41.701Z"
   },
   {
    "duration": 18,
    "start_time": "2022-05-19T17:06:41.715Z"
   },
   {
    "duration": 54,
    "start_time": "2022-05-19T17:06:41.735Z"
   },
   {
    "duration": 9,
    "start_time": "2022-05-19T17:06:41.792Z"
   },
   {
    "duration": 10,
    "start_time": "2022-05-19T17:06:41.803Z"
   },
   {
    "duration": 63,
    "start_time": "2022-05-19T17:06:41.815Z"
   },
   {
    "duration": 7,
    "start_time": "2022-05-19T17:06:41.880Z"
   },
   {
    "duration": 11,
    "start_time": "2022-05-19T17:06:41.889Z"
   },
   {
    "duration": 9,
    "start_time": "2022-05-19T17:06:41.901Z"
   },
   {
    "duration": 6,
    "start_time": "2022-05-19T17:06:41.912Z"
   },
   {
    "duration": 6,
    "start_time": "2022-05-19T17:06:41.919Z"
   },
   {
    "duration": 10,
    "start_time": "2022-05-19T17:06:41.927Z"
   },
   {
    "duration": 36,
    "start_time": "2022-05-19T17:06:41.939Z"
   },
   {
    "duration": 152,
    "start_time": "2022-05-19T17:06:41.979Z"
   },
   {
    "duration": 111,
    "start_time": "2022-05-19T17:06:42.133Z"
   },
   {
    "duration": 34,
    "start_time": "2022-05-19T17:06:42.246Z"
   },
   {
    "duration": 6,
    "start_time": "2022-05-19T17:06:42.282Z"
   },
   {
    "duration": 20,
    "start_time": "2022-05-19T17:06:42.289Z"
   },
   {
    "duration": 4,
    "start_time": "2022-05-19T17:06:42.311Z"
   },
   {
    "duration": 20,
    "start_time": "2022-05-19T17:06:42.317Z"
   },
   {
    "duration": 20,
    "start_time": "2022-05-19T17:06:42.365Z"
   },
   {
    "duration": 20,
    "start_time": "2022-05-19T17:06:42.388Z"
   },
   {
    "duration": 6,
    "start_time": "2022-05-19T17:06:42.410Z"
   },
   {
    "duration": 13,
    "start_time": "2022-05-19T17:06:42.418Z"
   },
   {
    "duration": 10,
    "start_time": "2022-05-19T17:06:42.432Z"
   },
   {
    "duration": 215,
    "start_time": "2022-05-19T17:06:42.444Z"
   },
   {
    "duration": 18,
    "start_time": "2022-05-19T17:06:42.664Z"
   },
   {
    "duration": 189,
    "start_time": "2022-05-19T17:06:42.684Z"
   },
   {
    "duration": 128,
    "start_time": "2022-05-19T17:06:42.879Z"
   },
   {
    "duration": 112,
    "start_time": "2022-05-19T17:06:43.008Z"
   },
   {
    "duration": 89,
    "start_time": "2022-05-19T17:06:43.121Z"
   },
   {
    "duration": 108,
    "start_time": "2022-05-19T17:06:43.212Z"
   },
   {
    "duration": 44,
    "start_time": "2022-05-19T17:06:43.321Z"
   },
   {
    "duration": 38,
    "start_time": "2022-05-19T17:06:43.373Z"
   },
   {
    "duration": 40,
    "start_time": "2022-05-19T17:06:43.413Z"
   },
   {
    "duration": 53,
    "start_time": "2022-05-19T17:06:43.455Z"
   },
   {
    "duration": 32,
    "start_time": "2022-05-19T17:06:43.510Z"
   },
   {
    "duration": 62,
    "start_time": "2022-05-19T17:06:43.543Z"
   },
   {
    "duration": 50,
    "start_time": "2022-05-19T17:06:43.607Z"
   },
   {
    "duration": 49,
    "start_time": "2022-05-19T17:06:43.666Z"
   },
   {
    "duration": 145,
    "start_time": "2022-05-19T17:06:43.717Z"
   },
   {
    "duration": 1335,
    "start_time": "2022-05-20T13:00:17.769Z"
   },
   {
    "duration": 965,
    "start_time": "2022-05-20T13:00:19.107Z"
   },
   {
    "duration": 13,
    "start_time": "2022-05-20T13:00:20.074Z"
   },
   {
    "duration": 11,
    "start_time": "2022-05-20T13:00:20.089Z"
   },
   {
    "duration": 11,
    "start_time": "2022-05-20T13:00:20.103Z"
   },
   {
    "duration": 15,
    "start_time": "2022-05-20T13:00:20.116Z"
   },
   {
    "duration": 25,
    "start_time": "2022-05-20T13:00:20.134Z"
   },
   {
    "duration": 30,
    "start_time": "2022-05-20T13:00:20.161Z"
   },
   {
    "duration": 60,
    "start_time": "2022-05-20T13:00:20.193Z"
   },
   {
    "duration": 18,
    "start_time": "2022-05-20T13:00:20.255Z"
   },
   {
    "duration": 120,
    "start_time": "2022-05-20T13:00:20.275Z"
   },
   {
    "duration": 11,
    "start_time": "2022-05-20T13:00:20.399Z"
   },
   {
    "duration": 23,
    "start_time": "2022-05-20T13:00:20.411Z"
   },
   {
    "duration": 57,
    "start_time": "2022-05-20T13:00:20.438Z"
   },
   {
    "duration": 6,
    "start_time": "2022-05-20T13:00:20.496Z"
   },
   {
    "duration": 16,
    "start_time": "2022-05-20T13:00:20.503Z"
   },
   {
    "duration": 61,
    "start_time": "2022-05-20T13:00:20.521Z"
   },
   {
    "duration": 8,
    "start_time": "2022-05-20T13:00:20.584Z"
   },
   {
    "duration": 25,
    "start_time": "2022-05-20T13:00:20.594Z"
   },
   {
    "duration": 54,
    "start_time": "2022-05-20T13:00:20.620Z"
   },
   {
    "duration": 9,
    "start_time": "2022-05-20T13:00:20.675Z"
   },
   {
    "duration": 36,
    "start_time": "2022-05-20T13:00:20.686Z"
   },
   {
    "duration": 16,
    "start_time": "2022-05-20T13:00:20.723Z"
   },
   {
    "duration": 64,
    "start_time": "2022-05-20T13:00:20.741Z"
   },
   {
    "duration": 182,
    "start_time": "2022-05-20T13:00:20.807Z"
   },
   {
    "duration": 9,
    "start_time": "2022-05-20T13:00:20.991Z"
   },
   {
    "duration": 9,
    "start_time": "2022-05-20T13:00:21.002Z"
   },
   {
    "duration": 11,
    "start_time": "2022-05-20T13:00:21.012Z"
   },
   {
    "duration": 29,
    "start_time": "2022-05-20T13:00:21.024Z"
   },
   {
    "duration": 15,
    "start_time": "2022-05-20T13:00:21.056Z"
   },
   {
    "duration": 9,
    "start_time": "2022-05-20T13:00:21.072Z"
   },
   {
    "duration": 7,
    "start_time": "2022-05-20T13:00:21.083Z"
   },
   {
    "duration": 18,
    "start_time": "2022-05-20T13:00:21.092Z"
   },
   {
    "duration": 11,
    "start_time": "2022-05-20T13:00:21.112Z"
   },
   {
    "duration": 59,
    "start_time": "2022-05-20T13:00:21.124Z"
   },
   {
    "duration": 12,
    "start_time": "2022-05-20T13:00:21.184Z"
   },
   {
    "duration": 12,
    "start_time": "2022-05-20T13:00:21.198Z"
   },
   {
    "duration": 8,
    "start_time": "2022-05-20T13:00:21.212Z"
   },
   {
    "duration": 34,
    "start_time": "2022-05-20T13:00:21.222Z"
   },
   {
    "duration": 13,
    "start_time": "2022-05-20T13:00:21.263Z"
   },
   {
    "duration": 9,
    "start_time": "2022-05-20T13:00:21.280Z"
   },
   {
    "duration": 25,
    "start_time": "2022-05-20T13:00:21.291Z"
   },
   {
    "duration": 5,
    "start_time": "2022-05-20T13:00:21.318Z"
   },
   {
    "duration": 16,
    "start_time": "2022-05-20T13:00:21.324Z"
   },
   {
    "duration": 27,
    "start_time": "2022-05-20T13:00:21.341Z"
   },
   {
    "duration": 53,
    "start_time": "2022-05-20T13:00:21.370Z"
   },
   {
    "duration": 11,
    "start_time": "2022-05-20T13:00:21.425Z"
   },
   {
    "duration": 28,
    "start_time": "2022-05-20T13:00:21.438Z"
   },
   {
    "duration": 10,
    "start_time": "2022-05-20T13:00:21.467Z"
   },
   {
    "duration": 9,
    "start_time": "2022-05-20T13:00:21.479Z"
   },
   {
    "duration": 13,
    "start_time": "2022-05-20T13:00:21.489Z"
   },
   {
    "duration": 54,
    "start_time": "2022-05-20T13:00:21.503Z"
   },
   {
    "duration": 7,
    "start_time": "2022-05-20T13:00:21.567Z"
   },
   {
    "duration": 7,
    "start_time": "2022-05-20T13:00:21.575Z"
   },
   {
    "duration": 11,
    "start_time": "2022-05-20T13:00:21.583Z"
   },
   {
    "duration": 9,
    "start_time": "2022-05-20T13:00:21.596Z"
   },
   {
    "duration": 9,
    "start_time": "2022-05-20T13:00:21.607Z"
   },
   {
    "duration": 13,
    "start_time": "2022-05-20T13:00:21.617Z"
   },
   {
    "duration": 21,
    "start_time": "2022-05-20T13:00:21.632Z"
   },
   {
    "duration": 145,
    "start_time": "2022-05-20T13:00:21.655Z"
   },
   {
    "duration": 87,
    "start_time": "2022-05-20T13:00:21.801Z"
   },
   {
    "duration": 16,
    "start_time": "2022-05-20T13:00:21.889Z"
   },
   {
    "duration": 5,
    "start_time": "2022-05-20T13:00:21.907Z"
   },
   {
    "duration": 46,
    "start_time": "2022-05-20T13:00:21.914Z"
   },
   {
    "duration": 6,
    "start_time": "2022-05-20T13:00:21.964Z"
   },
   {
    "duration": 30,
    "start_time": "2022-05-20T13:00:21.973Z"
   },
   {
    "duration": 7,
    "start_time": "2022-05-20T13:00:22.005Z"
   },
   {
    "duration": 52,
    "start_time": "2022-05-20T13:00:22.014Z"
   },
   {
    "duration": 6,
    "start_time": "2022-05-20T13:00:22.068Z"
   },
   {
    "duration": 25,
    "start_time": "2022-05-20T13:00:22.076Z"
   },
   {
    "duration": 18,
    "start_time": "2022-05-20T13:00:22.102Z"
   },
   {
    "duration": 210,
    "start_time": "2022-05-20T13:00:22.122Z"
   },
   {
    "duration": 8,
    "start_time": "2022-05-20T13:00:22.334Z"
   },
   {
    "duration": 177,
    "start_time": "2022-05-20T13:00:22.343Z"
   },
   {
    "duration": 121,
    "start_time": "2022-05-20T13:00:22.522Z"
   },
   {
    "duration": 124,
    "start_time": "2022-05-20T13:00:22.645Z"
   },
   {
    "duration": 77,
    "start_time": "2022-05-20T13:00:22.771Z"
   },
   {
    "duration": 89,
    "start_time": "2022-05-20T13:00:22.850Z"
   },
   {
    "duration": 59,
    "start_time": "2022-05-20T13:00:22.940Z"
   },
   {
    "duration": 47,
    "start_time": "2022-05-20T13:00:23.001Z"
   },
   {
    "duration": 69,
    "start_time": "2022-05-20T13:00:23.050Z"
   },
   {
    "duration": 66,
    "start_time": "2022-05-20T13:00:23.120Z"
   },
   {
    "duration": 53,
    "start_time": "2022-05-20T13:00:23.187Z"
   },
   {
    "duration": 66,
    "start_time": "2022-05-20T13:00:23.241Z"
   },
   {
    "duration": 64,
    "start_time": "2022-05-20T13:00:23.309Z"
   },
   {
    "duration": 34,
    "start_time": "2022-05-20T13:00:23.375Z"
   },
   {
    "duration": 31,
    "start_time": "2022-05-20T13:00:23.411Z"
   },
   {
    "duration": 7,
    "start_time": "2022-05-20T13:04:15.799Z"
   },
   {
    "duration": 7,
    "start_time": "2022-05-20T13:06:29.710Z"
   },
   {
    "duration": 8,
    "start_time": "2022-05-20T13:06:50.368Z"
   },
   {
    "duration": 12,
    "start_time": "2022-05-20T13:08:34.138Z"
   },
   {
    "duration": 59,
    "start_time": "2022-05-20T13:09:58.469Z"
   },
   {
    "duration": 48,
    "start_time": "2022-05-20T13:10:33.841Z"
   },
   {
    "duration": 105,
    "start_time": "2022-05-20T13:11:07.583Z"
   },
   {
    "duration": 42,
    "start_time": "2022-05-20T13:11:20.924Z"
   },
   {
    "duration": 43,
    "start_time": "2022-05-20T13:11:41.199Z"
   },
   {
    "duration": 36,
    "start_time": "2022-05-20T13:11:52.352Z"
   },
   {
    "duration": 41,
    "start_time": "2022-05-20T13:12:18.577Z"
   },
   {
    "duration": 6,
    "start_time": "2022-05-20T13:12:40.279Z"
   },
   {
    "duration": 58,
    "start_time": "2022-05-20T13:13:13.808Z"
   },
   {
    "duration": 30,
    "start_time": "2022-05-20T13:13:54.099Z"
   },
   {
    "duration": 7,
    "start_time": "2022-05-20T13:14:30.326Z"
   },
   {
    "duration": 111,
    "start_time": "2022-05-20T13:14:37.491Z"
   },
   {
    "duration": 11,
    "start_time": "2022-05-20T13:15:01.850Z"
   },
   {
    "duration": 5,
    "start_time": "2022-05-20T13:15:17.276Z"
   },
   {
    "duration": 14,
    "start_time": "2022-05-20T13:15:30.565Z"
   },
   {
    "duration": 7,
    "start_time": "2022-05-20T13:15:57.018Z"
   },
   {
    "duration": 8,
    "start_time": "2022-05-20T13:16:24.942Z"
   },
   {
    "duration": 3,
    "start_time": "2022-05-20T13:17:39.469Z"
   },
   {
    "duration": 4,
    "start_time": "2022-05-20T13:17:40.415Z"
   },
   {
    "duration": 5,
    "start_time": "2022-05-20T13:17:48.931Z"
   },
   {
    "duration": 4,
    "start_time": "2022-05-20T13:17:57.219Z"
   },
   {
    "duration": 3,
    "start_time": "2022-05-20T13:19:07.990Z"
   },
   {
    "duration": 4,
    "start_time": "2022-05-20T13:19:59.122Z"
   },
   {
    "duration": 5,
    "start_time": "2022-05-20T13:20:06.976Z"
   },
   {
    "duration": 5,
    "start_time": "2022-05-20T13:20:08.021Z"
   },
   {
    "duration": 3,
    "start_time": "2022-05-20T13:20:08.884Z"
   },
   {
    "duration": 1141,
    "start_time": "2022-05-20T13:39:30.250Z"
   },
   {
    "duration": 534,
    "start_time": "2022-05-20T13:39:31.393Z"
   },
   {
    "duration": 13,
    "start_time": "2022-05-20T13:39:31.929Z"
   },
   {
    "duration": 21,
    "start_time": "2022-05-20T13:39:31.944Z"
   },
   {
    "duration": 21,
    "start_time": "2022-05-20T13:39:31.967Z"
   },
   {
    "duration": 19,
    "start_time": "2022-05-20T13:39:31.989Z"
   },
   {
    "duration": 20,
    "start_time": "2022-05-20T13:39:32.010Z"
   },
   {
    "duration": 35,
    "start_time": "2022-05-20T13:39:32.032Z"
   },
   {
    "duration": 55,
    "start_time": "2022-05-20T13:39:32.069Z"
   },
   {
    "duration": 12,
    "start_time": "2022-05-20T13:39:32.127Z"
   },
   {
    "duration": 130,
    "start_time": "2022-05-20T13:39:32.140Z"
   },
   {
    "duration": 11,
    "start_time": "2022-05-20T13:39:32.272Z"
   },
   {
    "duration": 36,
    "start_time": "2022-05-20T13:39:32.284Z"
   },
   {
    "duration": 43,
    "start_time": "2022-05-20T13:39:32.322Z"
   },
   {
    "duration": 6,
    "start_time": "2022-05-20T13:39:32.367Z"
   },
   {
    "duration": 17,
    "start_time": "2022-05-20T13:39:32.375Z"
   },
   {
    "duration": 42,
    "start_time": "2022-05-20T13:39:32.394Z"
   },
   {
    "duration": 21,
    "start_time": "2022-05-20T13:39:32.437Z"
   },
   {
    "duration": 11,
    "start_time": "2022-05-20T13:39:32.460Z"
   },
   {
    "duration": 38,
    "start_time": "2022-05-20T13:39:32.472Z"
   },
   {
    "duration": 10,
    "start_time": "2022-05-20T13:39:32.511Z"
   },
   {
    "duration": 66,
    "start_time": "2022-05-20T13:39:32.523Z"
   },
   {
    "duration": 5,
    "start_time": "2022-05-20T13:39:32.591Z"
   },
   {
    "duration": 42,
    "start_time": "2022-05-20T13:39:32.599Z"
   },
   {
    "duration": 181,
    "start_time": "2022-05-20T13:39:32.652Z"
   },
   {
    "duration": 25,
    "start_time": "2022-05-20T13:39:32.834Z"
   },
   {
    "duration": 8,
    "start_time": "2022-05-20T13:39:32.860Z"
   },
   {
    "duration": 8,
    "start_time": "2022-05-20T13:39:32.872Z"
   },
   {
    "duration": 11,
    "start_time": "2022-05-20T13:39:32.882Z"
   },
   {
    "duration": 9,
    "start_time": "2022-05-20T13:39:32.895Z"
   },
   {
    "duration": 11,
    "start_time": "2022-05-20T13:39:32.905Z"
   },
   {
    "duration": 8,
    "start_time": "2022-05-20T13:39:32.918Z"
   },
   {
    "duration": 26,
    "start_time": "2022-05-20T13:39:32.927Z"
   },
   {
    "duration": 8,
    "start_time": "2022-05-20T13:39:32.955Z"
   },
   {
    "duration": 37,
    "start_time": "2022-05-20T13:39:32.964Z"
   },
   {
    "duration": 17,
    "start_time": "2022-05-20T13:39:33.002Z"
   },
   {
    "duration": 10,
    "start_time": "2022-05-20T13:39:33.021Z"
   },
   {
    "duration": 20,
    "start_time": "2022-05-20T13:39:33.032Z"
   },
   {
    "duration": 7,
    "start_time": "2022-05-20T13:39:33.054Z"
   },
   {
    "duration": 15,
    "start_time": "2022-05-20T13:39:33.063Z"
   },
   {
    "duration": 29,
    "start_time": "2022-05-20T13:39:33.080Z"
   },
   {
    "duration": 19,
    "start_time": "2022-05-20T13:39:33.111Z"
   },
   {
    "duration": 5,
    "start_time": "2022-05-20T13:39:33.132Z"
   },
   {
    "duration": 19,
    "start_time": "2022-05-20T13:39:33.138Z"
   },
   {
    "duration": 12,
    "start_time": "2022-05-20T13:39:33.159Z"
   },
   {
    "duration": 14,
    "start_time": "2022-05-20T13:39:33.172Z"
   },
   {
    "duration": 11,
    "start_time": "2022-05-20T13:39:33.187Z"
   },
   {
    "duration": 20,
    "start_time": "2022-05-20T13:39:33.200Z"
   },
   {
    "duration": 41,
    "start_time": "2022-05-20T13:39:33.222Z"
   },
   {
    "duration": 9,
    "start_time": "2022-05-20T13:39:33.265Z"
   },
   {
    "duration": 14,
    "start_time": "2022-05-20T13:39:33.275Z"
   },
   {
    "duration": 42,
    "start_time": "2022-05-20T13:39:33.290Z"
   },
   {
    "duration": 22,
    "start_time": "2022-05-20T13:39:33.333Z"
   },
   {
    "duration": 16,
    "start_time": "2022-05-20T13:39:33.356Z"
   },
   {
    "duration": 14,
    "start_time": "2022-05-20T13:39:33.373Z"
   },
   {
    "duration": 9,
    "start_time": "2022-05-20T13:39:33.388Z"
   },
   {
    "duration": 7,
    "start_time": "2022-05-20T13:39:33.399Z"
   },
   {
    "duration": 12,
    "start_time": "2022-05-20T13:39:33.407Z"
   },
   {
    "duration": 16,
    "start_time": "2022-05-20T13:39:33.420Z"
   },
   {
    "duration": 129,
    "start_time": "2022-05-20T13:39:33.437Z"
   },
   {
    "duration": 20,
    "start_time": "2022-05-20T13:39:33.568Z"
   },
   {
    "duration": 16,
    "start_time": "2022-05-20T13:39:33.590Z"
   },
   {
    "duration": 5,
    "start_time": "2022-05-20T13:39:33.607Z"
   },
   {
    "duration": 39,
    "start_time": "2022-05-20T13:39:33.614Z"
   },
   {
    "duration": 5,
    "start_time": "2022-05-20T13:39:33.655Z"
   },
   {
    "duration": 20,
    "start_time": "2022-05-20T13:39:33.661Z"
   },
   {
    "duration": 5,
    "start_time": "2022-05-20T13:39:33.683Z"
   },
   {
    "duration": 16,
    "start_time": "2022-05-20T13:39:33.690Z"
   },
   {
    "duration": 4,
    "start_time": "2022-05-20T13:39:33.708Z"
   },
   {
    "duration": 43,
    "start_time": "2022-05-20T13:39:33.713Z"
   },
   {
    "duration": 11,
    "start_time": "2022-05-20T13:39:33.757Z"
   },
   {
    "duration": 177,
    "start_time": "2022-05-20T13:39:33.769Z"
   },
   {
    "duration": 7,
    "start_time": "2022-05-20T13:39:33.948Z"
   },
   {
    "duration": 178,
    "start_time": "2022-05-20T13:39:33.957Z"
   },
   {
    "duration": 122,
    "start_time": "2022-05-20T13:39:34.137Z"
   },
   {
    "duration": 96,
    "start_time": "2022-05-20T13:39:34.261Z"
   },
   {
    "duration": 74,
    "start_time": "2022-05-20T13:39:34.358Z"
   },
   {
    "duration": 93,
    "start_time": "2022-05-20T13:39:34.433Z"
   },
   {
    "duration": 47,
    "start_time": "2022-05-20T13:39:34.528Z"
   },
   {
    "duration": 40,
    "start_time": "2022-05-20T13:39:34.577Z"
   },
   {
    "duration": 61,
    "start_time": "2022-05-20T13:39:34.619Z"
   },
   {
    "duration": 37,
    "start_time": "2022-05-20T13:39:34.686Z"
   },
   {
    "duration": 45,
    "start_time": "2022-05-20T13:39:34.725Z"
   },
   {
    "duration": 33,
    "start_time": "2022-05-20T13:39:34.772Z"
   },
   {
    "duration": 30,
    "start_time": "2022-05-20T13:39:34.807Z"
   },
   {
    "duration": 32,
    "start_time": "2022-05-20T13:39:34.852Z"
   },
   {
    "duration": 12,
    "start_time": "2022-05-20T13:39:34.886Z"
   },
   {
    "duration": 4,
    "start_time": "2022-05-20T13:39:34.900Z"
   },
   {
    "duration": 7,
    "start_time": "2022-05-20T13:39:34.905Z"
   },
   {
    "duration": 6,
    "start_time": "2022-05-20T13:39:34.913Z"
   },
   {
    "duration": 140,
    "start_time": "2022-05-20T13:39:34.921Z"
   },
   {
    "duration": 11,
    "start_time": "2022-05-20T13:40:29.840Z"
   },
   {
    "duration": 6,
    "start_time": "2022-05-20T13:41:00.210Z"
   },
   {
    "duration": 11,
    "start_time": "2022-05-20T13:42:56.669Z"
   },
   {
    "duration": 10,
    "start_time": "2022-05-20T13:43:37.440Z"
   },
   {
    "duration": 8,
    "start_time": "2022-05-20T13:43:48.216Z"
   },
   {
    "duration": 3,
    "start_time": "2022-05-20T13:45:23.728Z"
   },
   {
    "duration": 4,
    "start_time": "2022-05-20T13:45:24.631Z"
   },
   {
    "duration": 13,
    "start_time": "2022-05-20T13:45:25.525Z"
   },
   {
    "duration": 5,
    "start_time": "2022-05-20T13:47:54.352Z"
   },
   {
    "duration": 5,
    "start_time": "2022-05-20T13:48:08.256Z"
   },
   {
    "duration": 7,
    "start_time": "2022-05-20T13:48:18.010Z"
   },
   {
    "duration": 34,
    "start_time": "2022-05-20T13:48:58.728Z"
   },
   {
    "duration": 4,
    "start_time": "2022-05-20T13:50:36.433Z"
   },
   {
    "duration": 4,
    "start_time": "2022-05-20T13:50:53.087Z"
   },
   {
    "duration": 3,
    "start_time": "2022-05-20T13:50:54.236Z"
   },
   {
    "duration": 3,
    "start_time": "2022-05-20T13:50:56.043Z"
   },
   {
    "duration": 1312,
    "start_time": "2022-05-20T16:00:24.766Z"
   },
   {
    "duration": 926,
    "start_time": "2022-05-20T16:00:26.080Z"
   },
   {
    "duration": 14,
    "start_time": "2022-05-20T16:00:27.008Z"
   },
   {
    "duration": 9,
    "start_time": "2022-05-20T16:00:27.024Z"
   },
   {
    "duration": 15,
    "start_time": "2022-05-20T16:00:27.036Z"
   },
   {
    "duration": 14,
    "start_time": "2022-05-20T16:00:27.053Z"
   },
   {
    "duration": 13,
    "start_time": "2022-05-20T16:00:27.069Z"
   },
   {
    "duration": 28,
    "start_time": "2022-05-20T16:00:27.083Z"
   },
   {
    "duration": 75,
    "start_time": "2022-05-20T16:00:27.112Z"
   },
   {
    "duration": 13,
    "start_time": "2022-05-20T16:00:27.189Z"
   },
   {
    "duration": 129,
    "start_time": "2022-05-20T16:00:27.204Z"
   },
   {
    "duration": 9,
    "start_time": "2022-05-20T16:00:27.335Z"
   },
   {
    "duration": 23,
    "start_time": "2022-05-20T16:00:27.345Z"
   },
   {
    "duration": 40,
    "start_time": "2022-05-20T16:00:27.371Z"
   },
   {
    "duration": 5,
    "start_time": "2022-05-20T16:00:27.427Z"
   },
   {
    "duration": 14,
    "start_time": "2022-05-20T16:00:27.434Z"
   },
   {
    "duration": 38,
    "start_time": "2022-05-20T16:00:27.450Z"
   },
   {
    "duration": 8,
    "start_time": "2022-05-20T16:00:27.489Z"
   },
   {
    "duration": 33,
    "start_time": "2022-05-20T16:00:27.498Z"
   },
   {
    "duration": 36,
    "start_time": "2022-05-20T16:00:27.533Z"
   },
   {
    "duration": 10,
    "start_time": "2022-05-20T16:00:27.570Z"
   },
   {
    "duration": 54,
    "start_time": "2022-05-20T16:00:27.582Z"
   },
   {
    "duration": 5,
    "start_time": "2022-05-20T16:00:27.637Z"
   },
   {
    "duration": 31,
    "start_time": "2022-05-20T16:00:27.644Z"
   },
   {
    "duration": 199,
    "start_time": "2022-05-20T16:00:27.676Z"
   },
   {
    "duration": 9,
    "start_time": "2022-05-20T16:00:27.877Z"
   },
   {
    "duration": 8,
    "start_time": "2022-05-20T16:00:27.888Z"
   },
   {
    "duration": 10,
    "start_time": "2022-05-20T16:00:27.898Z"
   },
   {
    "duration": 9,
    "start_time": "2022-05-20T16:00:27.927Z"
   },
   {
    "duration": 9,
    "start_time": "2022-05-20T16:00:27.938Z"
   },
   {
    "duration": 7,
    "start_time": "2022-05-20T16:00:27.948Z"
   },
   {
    "duration": 7,
    "start_time": "2022-05-20T16:00:27.957Z"
   },
   {
    "duration": 16,
    "start_time": "2022-05-20T16:00:27.965Z"
   },
   {
    "duration": 13,
    "start_time": "2022-05-20T16:00:27.983Z"
   },
   {
    "duration": 60,
    "start_time": "2022-05-20T16:00:27.997Z"
   },
   {
    "duration": 8,
    "start_time": "2022-05-20T16:00:28.059Z"
   },
   {
    "duration": 8,
    "start_time": "2022-05-20T16:00:28.068Z"
   },
   {
    "duration": 8,
    "start_time": "2022-05-20T16:00:28.078Z"
   },
   {
    "duration": 13,
    "start_time": "2022-05-20T16:00:28.087Z"
   },
   {
    "duration": 31,
    "start_time": "2022-05-20T16:00:28.102Z"
   },
   {
    "duration": 10,
    "start_time": "2022-05-20T16:00:28.138Z"
   },
   {
    "duration": 18,
    "start_time": "2022-05-20T16:00:28.150Z"
   },
   {
    "duration": 4,
    "start_time": "2022-05-20T16:00:28.170Z"
   },
   {
    "duration": 8,
    "start_time": "2022-05-20T16:00:28.175Z"
   },
   {
    "duration": 43,
    "start_time": "2022-05-20T16:00:28.185Z"
   },
   {
    "duration": 14,
    "start_time": "2022-05-20T16:00:28.231Z"
   },
   {
    "duration": 10,
    "start_time": "2022-05-20T16:00:28.247Z"
   },
   {
    "duration": 16,
    "start_time": "2022-05-20T16:00:28.259Z"
   },
   {
    "duration": 10,
    "start_time": "2022-05-20T16:00:28.276Z"
   },
   {
    "duration": 40,
    "start_time": "2022-05-20T16:00:28.289Z"
   },
   {
    "duration": 13,
    "start_time": "2022-05-20T16:00:28.330Z"
   },
   {
    "duration": 38,
    "start_time": "2022-05-20T16:00:28.345Z"
   },
   {
    "duration": 6,
    "start_time": "2022-05-20T16:00:28.385Z"
   },
   {
    "duration": 11,
    "start_time": "2022-05-20T16:00:28.392Z"
   },
   {
    "duration": 28,
    "start_time": "2022-05-20T16:00:28.405Z"
   },
   {
    "duration": 7,
    "start_time": "2022-05-20T16:00:28.435Z"
   },
   {
    "duration": 7,
    "start_time": "2022-05-20T16:00:28.443Z"
   },
   {
    "duration": 9,
    "start_time": "2022-05-20T16:00:28.452Z"
   },
   {
    "duration": 11,
    "start_time": "2022-05-20T16:00:28.462Z"
   },
   {
    "duration": 164,
    "start_time": "2022-05-20T16:00:28.474Z"
   },
   {
    "duration": 23,
    "start_time": "2022-05-20T16:00:28.639Z"
   },
   {
    "duration": 16,
    "start_time": "2022-05-20T16:00:28.663Z"
   },
   {
    "duration": 5,
    "start_time": "2022-05-20T16:00:28.681Z"
   },
   {
    "duration": 42,
    "start_time": "2022-05-20T16:00:28.688Z"
   },
   {
    "duration": 5,
    "start_time": "2022-05-20T16:00:28.732Z"
   },
   {
    "duration": 28,
    "start_time": "2022-05-20T16:00:28.739Z"
   },
   {
    "duration": 11,
    "start_time": "2022-05-20T16:00:28.769Z"
   },
   {
    "duration": 16,
    "start_time": "2022-05-20T16:00:28.782Z"
   },
   {
    "duration": 5,
    "start_time": "2022-05-20T16:00:28.799Z"
   },
   {
    "duration": 10,
    "start_time": "2022-05-20T16:00:28.828Z"
   },
   {
    "duration": 13,
    "start_time": "2022-05-20T16:00:28.840Z"
   },
   {
    "duration": 209,
    "start_time": "2022-05-20T16:00:28.855Z"
   },
   {
    "duration": 7,
    "start_time": "2022-05-20T16:00:29.065Z"
   },
   {
    "duration": 171,
    "start_time": "2022-05-20T16:00:29.074Z"
   },
   {
    "duration": 114,
    "start_time": "2022-05-20T16:00:29.247Z"
   },
   {
    "duration": 108,
    "start_time": "2022-05-20T16:00:29.363Z"
   },
   {
    "duration": 93,
    "start_time": "2022-05-20T16:00:29.473Z"
   },
   {
    "duration": 92,
    "start_time": "2022-05-20T16:00:29.568Z"
   },
   {
    "duration": 33,
    "start_time": "2022-05-20T16:00:29.662Z"
   },
   {
    "duration": 50,
    "start_time": "2022-05-20T16:00:29.697Z"
   },
   {
    "duration": 34,
    "start_time": "2022-05-20T16:00:29.748Z"
   },
   {
    "duration": 50,
    "start_time": "2022-05-20T16:00:29.784Z"
   },
   {
    "duration": 36,
    "start_time": "2022-05-20T16:00:29.836Z"
   },
   {
    "duration": 32,
    "start_time": "2022-05-20T16:00:29.874Z"
   },
   {
    "duration": 48,
    "start_time": "2022-05-20T16:00:29.908Z"
   },
   {
    "duration": 33,
    "start_time": "2022-05-20T16:00:29.958Z"
   },
   {
    "duration": 15,
    "start_time": "2022-05-20T16:00:29.993Z"
   },
   {
    "duration": 18,
    "start_time": "2022-05-20T16:00:30.010Z"
   },
   {
    "duration": 4,
    "start_time": "2022-05-20T16:00:30.029Z"
   },
   {
    "duration": 21,
    "start_time": "2022-05-20T16:00:30.034Z"
   },
   {
    "duration": 24,
    "start_time": "2022-05-20T16:00:30.056Z"
   },
   {
    "duration": 7,
    "start_time": "2022-05-20T16:00:30.081Z"
   },
   {
    "duration": 17,
    "start_time": "2022-05-20T16:00:30.090Z"
   },
   {
    "duration": 41,
    "start_time": "2022-05-20T16:00:30.109Z"
   },
   {
    "duration": 33,
    "start_time": "2022-05-20T16:00:30.152Z"
   },
   {
    "duration": 1425,
    "start_time": "2022-05-21T17:37:54.982Z"
   },
   {
    "duration": 2019,
    "start_time": "2022-05-21T17:37:56.409Z"
   },
   {
    "duration": 12,
    "start_time": "2022-05-21T17:37:58.430Z"
   },
   {
    "duration": 9,
    "start_time": "2022-05-21T17:37:58.444Z"
   },
   {
    "duration": 19,
    "start_time": "2022-05-21T17:37:58.454Z"
   },
   {
    "duration": 13,
    "start_time": "2022-05-21T17:37:58.474Z"
   },
   {
    "duration": 15,
    "start_time": "2022-05-21T17:37:58.488Z"
   },
   {
    "duration": 24,
    "start_time": "2022-05-21T17:37:58.504Z"
   },
   {
    "duration": 74,
    "start_time": "2022-05-21T17:37:58.530Z"
   },
   {
    "duration": 13,
    "start_time": "2022-05-21T17:37:58.606Z"
   },
   {
    "duration": 119,
    "start_time": "2022-05-21T17:37:58.620Z"
   },
   {
    "duration": 12,
    "start_time": "2022-05-21T17:37:58.740Z"
   },
   {
    "duration": 33,
    "start_time": "2022-05-21T17:37:58.753Z"
   },
   {
    "duration": 50,
    "start_time": "2022-05-21T17:37:58.787Z"
   },
   {
    "duration": 8,
    "start_time": "2022-05-21T17:37:58.839Z"
   },
   {
    "duration": 42,
    "start_time": "2022-05-21T17:37:58.849Z"
   },
   {
    "duration": 46,
    "start_time": "2022-05-21T17:37:58.893Z"
   },
   {
    "duration": 8,
    "start_time": "2022-05-21T17:37:58.941Z"
   },
   {
    "duration": 33,
    "start_time": "2022-05-21T17:37:58.950Z"
   },
   {
    "duration": 33,
    "start_time": "2022-05-21T17:37:58.985Z"
   },
   {
    "duration": 10,
    "start_time": "2022-05-21T17:37:59.019Z"
   },
   {
    "duration": 54,
    "start_time": "2022-05-21T17:37:59.031Z"
   },
   {
    "duration": 5,
    "start_time": "2022-05-21T17:37:59.087Z"
   },
   {
    "duration": 32,
    "start_time": "2022-05-21T17:37:59.093Z"
   },
   {
    "duration": 221,
    "start_time": "2022-05-21T17:37:59.126Z"
   },
   {
    "duration": 11,
    "start_time": "2022-05-21T17:37:59.349Z"
   },
   {
    "duration": 23,
    "start_time": "2022-05-21T17:37:59.362Z"
   },
   {
    "duration": 11,
    "start_time": "2022-05-21T17:37:59.392Z"
   },
   {
    "duration": 15,
    "start_time": "2022-05-21T17:37:59.405Z"
   },
   {
    "duration": 11,
    "start_time": "2022-05-21T17:37:59.422Z"
   },
   {
    "duration": 12,
    "start_time": "2022-05-21T17:37:59.435Z"
   },
   {
    "duration": 35,
    "start_time": "2022-05-21T17:37:59.449Z"
   },
   {
    "duration": 18,
    "start_time": "2022-05-21T17:37:59.487Z"
   },
   {
    "duration": 14,
    "start_time": "2022-05-21T17:37:59.508Z"
   },
   {
    "duration": 39,
    "start_time": "2022-05-21T17:37:59.524Z"
   },
   {
    "duration": 8,
    "start_time": "2022-05-21T17:37:59.583Z"
   },
   {
    "duration": 8,
    "start_time": "2022-05-21T17:37:59.592Z"
   },
   {
    "duration": 8,
    "start_time": "2022-05-21T17:37:59.602Z"
   },
   {
    "duration": 9,
    "start_time": "2022-05-21T17:37:59.611Z"
   },
   {
    "duration": 9,
    "start_time": "2022-05-21T17:37:59.622Z"
   },
   {
    "duration": 12,
    "start_time": "2022-05-21T17:37:59.633Z"
   },
   {
    "duration": 56,
    "start_time": "2022-05-21T17:37:59.647Z"
   },
   {
    "duration": 5,
    "start_time": "2022-05-21T17:37:59.705Z"
   },
   {
    "duration": 9,
    "start_time": "2022-05-21T17:37:59.711Z"
   },
   {
    "duration": 13,
    "start_time": "2022-05-21T17:37:59.722Z"
   },
   {
    "duration": 48,
    "start_time": "2022-05-21T17:37:59.737Z"
   },
   {
    "duration": 10,
    "start_time": "2022-05-21T17:37:59.786Z"
   },
   {
    "duration": 15,
    "start_time": "2022-05-21T17:37:59.798Z"
   },
   {
    "duration": 10,
    "start_time": "2022-05-21T17:37:59.814Z"
   },
   {
    "duration": 7,
    "start_time": "2022-05-21T17:37:59.826Z"
   },
   {
    "duration": 11,
    "start_time": "2022-05-21T17:37:59.834Z"
   },
   {
    "duration": 71,
    "start_time": "2022-05-21T17:37:59.846Z"
   },
   {
    "duration": 7,
    "start_time": "2022-05-21T17:37:59.918Z"
   },
   {
    "duration": 7,
    "start_time": "2022-05-21T17:37:59.927Z"
   },
   {
    "duration": 9,
    "start_time": "2022-05-21T17:37:59.935Z"
   },
   {
    "duration": 7,
    "start_time": "2022-05-21T17:37:59.945Z"
   },
   {
    "duration": 31,
    "start_time": "2022-05-21T17:37:59.954Z"
   },
   {
    "duration": 8,
    "start_time": "2022-05-21T17:37:59.987Z"
   },
   {
    "duration": 14,
    "start_time": "2022-05-21T17:37:59.996Z"
   },
   {
    "duration": 161,
    "start_time": "2022-05-21T17:38:00.012Z"
   },
   {
    "duration": 29,
    "start_time": "2022-05-21T17:38:00.175Z"
   },
   {
    "duration": 17,
    "start_time": "2022-05-21T17:38:00.206Z"
   },
   {
    "duration": 5,
    "start_time": "2022-05-21T17:38:00.224Z"
   },
   {
    "duration": 25,
    "start_time": "2022-05-21T17:38:00.231Z"
   },
   {
    "duration": 26,
    "start_time": "2022-05-21T17:38:00.258Z"
   },
   {
    "duration": 24,
    "start_time": "2022-05-21T17:38:00.286Z"
   },
   {
    "duration": 11,
    "start_time": "2022-05-21T17:38:00.313Z"
   },
   {
    "duration": 14,
    "start_time": "2022-05-21T17:38:00.326Z"
   },
   {
    "duration": 5,
    "start_time": "2022-05-21T17:38:00.342Z"
   },
   {
    "duration": 9,
    "start_time": "2022-05-21T17:38:00.383Z"
   },
   {
    "duration": 13,
    "start_time": "2022-05-21T17:38:00.394Z"
   },
   {
    "duration": 215,
    "start_time": "2022-05-21T17:38:00.408Z"
   },
   {
    "duration": 7,
    "start_time": "2022-05-21T17:38:00.625Z"
   },
   {
    "duration": 195,
    "start_time": "2022-05-21T17:38:00.633Z"
   },
   {
    "duration": 105,
    "start_time": "2022-05-21T17:38:00.830Z"
   },
   {
    "duration": 122,
    "start_time": "2022-05-21T17:38:00.936Z"
   },
   {
    "duration": 96,
    "start_time": "2022-05-21T17:38:01.060Z"
   },
   {
    "duration": 97,
    "start_time": "2022-05-21T17:38:01.158Z"
   },
   {
    "duration": 40,
    "start_time": "2022-05-21T17:38:01.256Z"
   },
   {
    "duration": 41,
    "start_time": "2022-05-21T17:38:01.298Z"
   },
   {
    "duration": 46,
    "start_time": "2022-05-21T17:38:01.341Z"
   },
   {
    "duration": 37,
    "start_time": "2022-05-21T17:38:01.393Z"
   },
   {
    "duration": 58,
    "start_time": "2022-05-21T17:38:01.432Z"
   },
   {
    "duration": 55,
    "start_time": "2022-05-21T17:38:01.492Z"
   },
   {
    "duration": 44,
    "start_time": "2022-05-21T17:38:01.549Z"
   },
   {
    "duration": 85,
    "start_time": "2022-05-21T17:38:01.596Z"
   },
   {
    "duration": 28,
    "start_time": "2022-05-21T17:38:01.683Z"
   },
   {
    "duration": 20,
    "start_time": "2022-05-21T17:38:01.713Z"
   },
   {
    "duration": 8,
    "start_time": "2022-05-21T17:38:01.734Z"
   },
   {
    "duration": 6,
    "start_time": "2022-05-21T17:38:01.745Z"
   },
   {
    "duration": 11,
    "start_time": "2022-05-21T17:38:01.752Z"
   },
   {
    "duration": 7,
    "start_time": "2022-05-21T17:38:01.765Z"
   },
   {
    "duration": 14,
    "start_time": "2022-05-21T17:38:01.773Z"
   },
   {
    "duration": 7,
    "start_time": "2022-05-21T17:38:01.789Z"
   },
   {
    "duration": 9,
    "start_time": "2022-05-21T17:38:01.798Z"
   },
   {
    "duration": 20,
    "start_time": "2022-05-21T17:52:31.029Z"
   },
   {
    "duration": 24,
    "start_time": "2022-05-21T17:52:54.948Z"
   },
   {
    "duration": 23,
    "start_time": "2022-05-21T17:53:05.872Z"
   },
   {
    "duration": 116,
    "start_time": "2022-05-21T17:53:34.456Z"
   },
   {
    "duration": 153,
    "start_time": "2022-05-21T17:53:52.043Z"
   },
   {
    "duration": 149,
    "start_time": "2022-05-21T17:54:34.170Z"
   },
   {
    "duration": 6,
    "start_time": "2022-05-21T17:54:52.481Z"
   },
   {
    "duration": 4,
    "start_time": "2022-05-21T17:54:56.572Z"
   },
   {
    "duration": 4,
    "start_time": "2022-05-21T17:54:59.533Z"
   },
   {
    "duration": 6,
    "start_time": "2022-05-21T17:55:29.869Z"
   },
   {
    "duration": 4,
    "start_time": "2022-05-21T17:55:33.204Z"
   },
   {
    "duration": 5,
    "start_time": "2022-05-21T17:55:46.626Z"
   },
   {
    "duration": 4,
    "start_time": "2022-05-21T17:56:28.552Z"
   },
   {
    "duration": 5,
    "start_time": "2022-05-21T17:56:32.519Z"
   },
   {
    "duration": 4,
    "start_time": "2022-05-21T17:56:34.014Z"
   },
   {
    "duration": 57,
    "start_time": "2022-05-22T07:39:02.940Z"
   },
   {
    "duration": 1211,
    "start_time": "2022-05-22T07:39:09.976Z"
   },
   {
    "duration": 783,
    "start_time": "2022-05-22T07:39:11.189Z"
   },
   {
    "duration": 11,
    "start_time": "2022-05-22T07:39:11.974Z"
   },
   {
    "duration": 8,
    "start_time": "2022-05-22T07:39:11.987Z"
   },
   {
    "duration": 11,
    "start_time": "2022-05-22T07:39:11.996Z"
   },
   {
    "duration": 9,
    "start_time": "2022-05-22T07:39:12.008Z"
   },
   {
    "duration": 13,
    "start_time": "2022-05-22T07:39:12.019Z"
   },
   {
    "duration": 26,
    "start_time": "2022-05-22T07:39:12.034Z"
   },
   {
    "duration": 52,
    "start_time": "2022-05-22T07:39:12.061Z"
   },
   {
    "duration": 20,
    "start_time": "2022-05-22T07:39:12.116Z"
   },
   {
    "duration": 114,
    "start_time": "2022-05-22T07:39:12.138Z"
   },
   {
    "duration": 11,
    "start_time": "2022-05-22T07:39:12.253Z"
   },
   {
    "duration": 17,
    "start_time": "2022-05-22T07:39:12.266Z"
   },
   {
    "duration": 38,
    "start_time": "2022-05-22T07:39:12.284Z"
   },
   {
    "duration": 5,
    "start_time": "2022-05-22T07:39:12.324Z"
   },
   {
    "duration": 10,
    "start_time": "2022-05-22T07:39:12.352Z"
   },
   {
    "duration": 35,
    "start_time": "2022-05-22T07:39:12.364Z"
   },
   {
    "duration": 6,
    "start_time": "2022-05-22T07:39:12.400Z"
   },
   {
    "duration": 10,
    "start_time": "2022-05-22T07:39:12.408Z"
   },
   {
    "duration": 58,
    "start_time": "2022-05-22T07:39:12.420Z"
   },
   {
    "duration": 10,
    "start_time": "2022-05-22T07:39:12.480Z"
   },
   {
    "duration": 41,
    "start_time": "2022-05-22T07:39:12.492Z"
   },
   {
    "duration": 7,
    "start_time": "2022-05-22T07:39:12.552Z"
   },
   {
    "duration": 46,
    "start_time": "2022-05-22T07:39:12.560Z"
   },
   {
    "duration": 170,
    "start_time": "2022-05-22T07:39:12.608Z"
   },
   {
    "duration": 9,
    "start_time": "2022-05-22T07:39:12.779Z"
   },
   {
    "duration": 8,
    "start_time": "2022-05-22T07:39:12.790Z"
   },
   {
    "duration": 10,
    "start_time": "2022-05-22T07:39:12.802Z"
   },
   {
    "duration": 11,
    "start_time": "2022-05-22T07:39:12.813Z"
   },
   {
    "duration": 29,
    "start_time": "2022-05-22T07:39:12.825Z"
   },
   {
    "duration": 8,
    "start_time": "2022-05-22T07:39:12.856Z"
   },
   {
    "duration": 9,
    "start_time": "2022-05-22T07:39:12.865Z"
   },
   {
    "duration": 11,
    "start_time": "2022-05-22T07:39:12.876Z"
   },
   {
    "duration": 13,
    "start_time": "2022-05-22T07:39:12.888Z"
   },
   {
    "duration": 37,
    "start_time": "2022-05-22T07:39:12.903Z"
   },
   {
    "duration": 6,
    "start_time": "2022-05-22T07:39:12.952Z"
   },
   {
    "duration": 8,
    "start_time": "2022-05-22T07:39:12.960Z"
   },
   {
    "duration": 8,
    "start_time": "2022-05-22T07:39:12.970Z"
   },
   {
    "duration": 11,
    "start_time": "2022-05-22T07:39:12.979Z"
   },
   {
    "duration": 14,
    "start_time": "2022-05-22T07:39:12.991Z"
   },
   {
    "duration": 10,
    "start_time": "2022-05-22T07:39:13.006Z"
   },
   {
    "duration": 36,
    "start_time": "2022-05-22T07:39:13.017Z"
   },
   {
    "duration": 5,
    "start_time": "2022-05-22T07:39:13.054Z"
   },
   {
    "duration": 10,
    "start_time": "2022-05-22T07:39:13.061Z"
   },
   {
    "duration": 10,
    "start_time": "2022-05-22T07:39:13.073Z"
   },
   {
    "duration": 12,
    "start_time": "2022-05-22T07:39:13.085Z"
   },
   {
    "duration": 10,
    "start_time": "2022-05-22T07:39:13.099Z"
   },
   {
    "duration": 51,
    "start_time": "2022-05-22T07:39:13.111Z"
   },
   {
    "duration": 12,
    "start_time": "2022-05-22T07:39:13.164Z"
   },
   {
    "duration": 7,
    "start_time": "2022-05-22T07:39:13.177Z"
   },
   {
    "duration": 87,
    "start_time": "2022-05-22T07:39:13.185Z"
   },
   {
    "duration": 72,
    "start_time": "2022-05-22T07:39:13.274Z"
   },
   {
    "duration": 5,
    "start_time": "2022-05-22T07:39:13.347Z"
   },
   {
    "duration": 28,
    "start_time": "2022-05-22T07:39:13.354Z"
   },
   {
    "duration": 33,
    "start_time": "2022-05-22T07:39:13.383Z"
   },
   {
    "duration": 13,
    "start_time": "2022-05-22T07:39:13.418Z"
   },
   {
    "duration": 13,
    "start_time": "2022-05-22T07:39:13.433Z"
   },
   {
    "duration": 15,
    "start_time": "2022-05-22T07:39:13.447Z"
   },
   {
    "duration": 11,
    "start_time": "2022-05-22T07:39:13.464Z"
   },
   {
    "duration": 11,
    "start_time": "2022-05-22T07:39:13.477Z"
   },
   {
    "duration": 119,
    "start_time": "2022-05-22T07:39:13.490Z"
   },
   {
    "duration": 19,
    "start_time": "2022-05-22T07:39:13.611Z"
   },
   {
    "duration": 28,
    "start_time": "2022-05-22T07:39:13.632Z"
   },
   {
    "duration": 5,
    "start_time": "2022-05-22T07:39:13.661Z"
   },
   {
    "duration": 21,
    "start_time": "2022-05-22T07:39:13.667Z"
   },
   {
    "duration": 5,
    "start_time": "2022-05-22T07:39:13.689Z"
   },
   {
    "duration": 23,
    "start_time": "2022-05-22T07:39:13.695Z"
   },
   {
    "duration": 5,
    "start_time": "2022-05-22T07:39:13.720Z"
   },
   {
    "duration": 39,
    "start_time": "2022-05-22T07:39:13.726Z"
   },
   {
    "duration": 23,
    "start_time": "2022-05-22T07:39:13.766Z"
   },
   {
    "duration": 33,
    "start_time": "2022-05-22T07:39:13.791Z"
   },
   {
    "duration": 17,
    "start_time": "2022-05-22T07:39:13.826Z"
   },
   {
    "duration": 170,
    "start_time": "2022-05-22T07:39:13.844Z"
   },
   {
    "duration": 8,
    "start_time": "2022-05-22T07:39:14.016Z"
   },
   {
    "duration": 169,
    "start_time": "2022-05-22T07:39:14.025Z"
   },
   {
    "duration": 92,
    "start_time": "2022-05-22T07:39:14.196Z"
   },
   {
    "duration": 100,
    "start_time": "2022-05-22T07:39:14.289Z"
   },
   {
    "duration": 78,
    "start_time": "2022-05-22T07:39:14.391Z"
   },
   {
    "duration": 84,
    "start_time": "2022-05-22T07:39:14.470Z"
   },
   {
    "duration": 31,
    "start_time": "2022-05-22T07:39:14.555Z"
   },
   {
    "duration": 31,
    "start_time": "2022-05-22T07:39:14.587Z"
   },
   {
    "duration": 145,
    "start_time": "2022-05-22T07:39:14.623Z"
   },
   {
    "duration": 27,
    "start_time": "2022-05-22T07:39:14.770Z"
   },
   {
    "duration": 36,
    "start_time": "2022-05-22T07:39:14.799Z"
   },
   {
    "duration": 37,
    "start_time": "2022-05-22T07:39:14.836Z"
   },
   {
    "duration": 29,
    "start_time": "2022-05-22T07:39:14.875Z"
   },
   {
    "duration": 30,
    "start_time": "2022-05-22T07:39:14.906Z"
   },
   {
    "duration": 36,
    "start_time": "2022-05-22T07:39:14.952Z"
   },
   {
    "duration": 15,
    "start_time": "2022-05-22T07:39:14.990Z"
   },
   {
    "duration": 35,
    "start_time": "2022-05-22T07:39:15.007Z"
   },
   {
    "duration": 11,
    "start_time": "2022-05-22T07:39:15.043Z"
   },
   {
    "duration": 12,
    "start_time": "2022-05-22T07:39:15.056Z"
   },
   {
    "duration": 8,
    "start_time": "2022-05-22T07:39:15.070Z"
   },
   {
    "duration": 10,
    "start_time": "2022-05-22T07:39:15.080Z"
   },
   {
    "duration": 19,
    "start_time": "2022-05-22T07:39:15.091Z"
   },
   {
    "duration": 9,
    "start_time": "2022-05-22T07:39:15.112Z"
   },
   {
    "duration": 7,
    "start_time": "2022-05-22T07:39:15.123Z"
   },
   {
    "duration": 5,
    "start_time": "2022-05-22T07:39:57.467Z"
   },
   {
    "duration": 8,
    "start_time": "2022-05-22T07:46:06.180Z"
   },
   {
    "duration": 11,
    "start_time": "2022-05-22T07:46:55.476Z"
   },
   {
    "duration": 31,
    "start_time": "2022-05-22T07:49:43.528Z"
   },
   {
    "duration": 7,
    "start_time": "2022-05-22T07:50:32.587Z"
   },
   {
    "duration": 12,
    "start_time": "2022-05-22T07:53:15.098Z"
   },
   {
    "duration": 13,
    "start_time": "2022-05-22T07:53:32.971Z"
   },
   {
    "duration": 12,
    "start_time": "2022-05-22T07:58:10.912Z"
   },
   {
    "duration": 32,
    "start_time": "2022-05-22T07:58:13.913Z"
   },
   {
    "duration": 6,
    "start_time": "2022-05-22T07:58:17.667Z"
   },
   {
    "duration": 12,
    "start_time": "2022-05-22T07:58:18.660Z"
   },
   {
    "duration": 8,
    "start_time": "2022-05-22T07:59:31.086Z"
   },
   {
    "duration": 9,
    "start_time": "2022-05-22T08:00:08.191Z"
   },
   {
    "duration": 13,
    "start_time": "2022-05-22T08:01:50.368Z"
   },
   {
    "duration": 11,
    "start_time": "2022-05-22T08:02:17.671Z"
   },
   {
    "duration": 5,
    "start_time": "2022-05-22T08:02:18.663Z"
   },
   {
    "duration": 12,
    "start_time": "2022-05-22T08:04:56.629Z"
   },
   {
    "duration": 9,
    "start_time": "2022-05-22T08:12:21.405Z"
   },
   {
    "duration": 12,
    "start_time": "2022-05-22T08:13:43.984Z"
   },
   {
    "duration": 6,
    "start_time": "2022-05-22T08:13:46.148Z"
   },
   {
    "duration": 13,
    "start_time": "2022-05-22T08:13:47.130Z"
   },
   {
    "duration": 13,
    "start_time": "2022-05-22T08:14:11.278Z"
   },
   {
    "duration": 6,
    "start_time": "2022-05-22T08:16:32.434Z"
   },
   {
    "duration": 9,
    "start_time": "2022-05-22T08:19:48.920Z"
   },
   {
    "duration": 7,
    "start_time": "2022-05-22T08:20:48.659Z"
   },
   {
    "duration": 399,
    "start_time": "2022-05-22T08:39:49.396Z"
   },
   {
    "duration": 6,
    "start_time": "2022-05-22T08:41:02.975Z"
   },
   {
    "duration": 114,
    "start_time": "2022-05-22T08:41:09.086Z"
   },
   {
    "duration": 17,
    "start_time": "2022-05-22T08:41:24.815Z"
   },
   {
    "duration": 142,
    "start_time": "2022-05-22T08:41:57.846Z"
   },
   {
    "duration": 164,
    "start_time": "2022-05-22T08:42:14.226Z"
   },
   {
    "duration": 15,
    "start_time": "2022-05-22T08:43:08.058Z"
   },
   {
    "duration": 14,
    "start_time": "2022-05-22T08:43:39.070Z"
   },
   {
    "duration": 6,
    "start_time": "2022-05-22T08:45:27.044Z"
   },
   {
    "duration": 31,
    "start_time": "2022-05-22T08:45:48.022Z"
   },
   {
    "duration": 14,
    "start_time": "2022-05-22T08:46:03.083Z"
   },
   {
    "duration": 7,
    "start_time": "2022-05-22T08:46:59.735Z"
   },
   {
    "duration": 14,
    "start_time": "2022-05-22T08:47:15.155Z"
   },
   {
    "duration": 16,
    "start_time": "2022-05-22T08:47:42.307Z"
   },
   {
    "duration": 33,
    "start_time": "2022-05-22T08:54:03.537Z"
   },
   {
    "duration": 20,
    "start_time": "2022-05-22T08:54:37.575Z"
   },
   {
    "duration": 1111,
    "start_time": "2022-05-22T09:51:28.793Z"
   },
   {
    "duration": 570,
    "start_time": "2022-05-22T09:51:29.906Z"
   },
   {
    "duration": 14,
    "start_time": "2022-05-22T09:51:30.478Z"
   },
   {
    "duration": 49,
    "start_time": "2022-05-22T09:51:30.494Z"
   },
   {
    "duration": 20,
    "start_time": "2022-05-22T09:51:30.545Z"
   },
   {
    "duration": 36,
    "start_time": "2022-05-22T09:51:30.567Z"
   },
   {
    "duration": 26,
    "start_time": "2022-05-22T09:51:30.605Z"
   },
   {
    "duration": 45,
    "start_time": "2022-05-22T09:51:30.633Z"
   },
   {
    "duration": 64,
    "start_time": "2022-05-22T09:51:30.680Z"
   },
   {
    "duration": 11,
    "start_time": "2022-05-22T09:51:30.747Z"
   },
   {
    "duration": 102,
    "start_time": "2022-05-22T09:51:30.760Z"
   },
   {
    "duration": 11,
    "start_time": "2022-05-22T09:51:30.863Z"
   },
   {
    "duration": 39,
    "start_time": "2022-05-22T09:51:30.875Z"
   },
   {
    "duration": 50,
    "start_time": "2022-05-22T09:51:30.915Z"
   },
   {
    "duration": 6,
    "start_time": "2022-05-22T09:51:30.967Z"
   },
   {
    "duration": 25,
    "start_time": "2022-05-22T09:51:30.974Z"
   },
   {
    "duration": 45,
    "start_time": "2022-05-22T09:51:31.001Z"
   },
   {
    "duration": 8,
    "start_time": "2022-05-22T09:51:31.048Z"
   },
   {
    "duration": 18,
    "start_time": "2022-05-22T09:51:31.058Z"
   },
   {
    "duration": 50,
    "start_time": "2022-05-22T09:51:31.078Z"
   },
   {
    "duration": 9,
    "start_time": "2022-05-22T09:51:31.129Z"
   },
   {
    "duration": 49,
    "start_time": "2022-05-22T09:51:31.140Z"
   },
   {
    "duration": 6,
    "start_time": "2022-05-22T09:51:31.191Z"
   },
   {
    "duration": 44,
    "start_time": "2022-05-22T09:51:31.198Z"
   },
   {
    "duration": 175,
    "start_time": "2022-05-22T09:51:31.245Z"
   },
   {
    "duration": 9,
    "start_time": "2022-05-22T09:51:31.421Z"
   },
   {
    "duration": 21,
    "start_time": "2022-05-22T09:51:31.432Z"
   },
   {
    "duration": 18,
    "start_time": "2022-05-22T09:51:31.457Z"
   },
   {
    "duration": 18,
    "start_time": "2022-05-22T09:51:31.477Z"
   },
   {
    "duration": 26,
    "start_time": "2022-05-22T09:51:31.497Z"
   },
   {
    "duration": 19,
    "start_time": "2022-05-22T09:51:31.524Z"
   },
   {
    "duration": 27,
    "start_time": "2022-05-22T09:51:31.545Z"
   },
   {
    "duration": 40,
    "start_time": "2022-05-22T09:51:31.574Z"
   },
   {
    "duration": 22,
    "start_time": "2022-05-22T09:51:31.616Z"
   },
   {
    "duration": 37,
    "start_time": "2022-05-22T09:51:31.640Z"
   },
   {
    "duration": 18,
    "start_time": "2022-05-22T09:51:31.679Z"
   },
   {
    "duration": 23,
    "start_time": "2022-05-22T09:51:31.699Z"
   },
   {
    "duration": 14,
    "start_time": "2022-05-22T09:51:31.724Z"
   },
   {
    "duration": 14,
    "start_time": "2022-05-22T09:51:31.740Z"
   },
   {
    "duration": 11,
    "start_time": "2022-05-22T09:51:31.755Z"
   },
   {
    "duration": 9,
    "start_time": "2022-05-22T09:51:31.767Z"
   },
   {
    "duration": 25,
    "start_time": "2022-05-22T09:51:31.777Z"
   },
   {
    "duration": 5,
    "start_time": "2022-05-22T09:51:31.804Z"
   },
   {
    "duration": 13,
    "start_time": "2022-05-22T09:51:31.810Z"
   },
   {
    "duration": 22,
    "start_time": "2022-05-22T09:51:31.825Z"
   },
   {
    "duration": 23,
    "start_time": "2022-05-22T09:51:31.852Z"
   },
   {
    "duration": 17,
    "start_time": "2022-05-22T09:51:31.876Z"
   },
   {
    "duration": 10,
    "start_time": "2022-05-22T09:51:31.895Z"
   },
   {
    "duration": 21,
    "start_time": "2022-05-22T09:51:31.906Z"
   },
   {
    "duration": 15,
    "start_time": "2022-05-22T09:51:31.929Z"
   },
   {
    "duration": 12,
    "start_time": "2022-05-22T09:51:31.946Z"
   },
   {
    "duration": 21,
    "start_time": "2022-05-22T09:51:31.960Z"
   },
   {
    "duration": 23,
    "start_time": "2022-05-22T09:51:31.983Z"
   },
   {
    "duration": 7,
    "start_time": "2022-05-22T09:51:32.008Z"
   },
   {
    "duration": 19,
    "start_time": "2022-05-22T09:51:32.017Z"
   },
   {
    "duration": 62,
    "start_time": "2022-05-22T09:51:32.037Z"
   },
   {
    "duration": 12,
    "start_time": "2022-05-22T09:51:32.100Z"
   },
   {
    "duration": 7,
    "start_time": "2022-05-22T09:51:32.113Z"
   },
   {
    "duration": 17,
    "start_time": "2022-05-22T09:51:32.122Z"
   },
   {
    "duration": 9,
    "start_time": "2022-05-22T09:51:32.152Z"
   },
   {
    "duration": 20,
    "start_time": "2022-05-22T09:51:32.164Z"
   },
   {
    "duration": 7,
    "start_time": "2022-05-22T09:51:32.186Z"
   },
   {
    "duration": 13,
    "start_time": "2022-05-22T09:51:32.194Z"
   },
   {
    "duration": 34,
    "start_time": "2022-05-22T09:51:32.208Z"
   },
   {
    "duration": 140,
    "start_time": "2022-05-22T09:51:32.244Z"
   },
   {
    "duration": 21,
    "start_time": "2022-05-22T09:51:32.385Z"
   },
   {
    "duration": 15,
    "start_time": "2022-05-22T09:51:32.408Z"
   },
   {
    "duration": 5,
    "start_time": "2022-05-22T09:51:32.425Z"
   },
   {
    "duration": 14,
    "start_time": "2022-05-22T09:51:32.452Z"
   },
   {
    "duration": 4,
    "start_time": "2022-05-22T09:51:32.467Z"
   },
   {
    "duration": 14,
    "start_time": "2022-05-22T09:51:32.472Z"
   },
   {
    "duration": 12,
    "start_time": "2022-05-22T09:51:32.488Z"
   },
   {
    "duration": 270,
    "start_time": "2022-05-22T09:51:32.502Z"
   },
   {
    "duration": 162,
    "start_time": "2022-05-22T09:51:32.773Z"
   },
   {
    "duration": 27,
    "start_time": "2022-05-22T09:51:32.937Z"
   },
   {
    "duration": 7,
    "start_time": "2022-05-22T09:51:32.965Z"
   },
   {
    "duration": 19,
    "start_time": "2022-05-22T09:51:32.974Z"
   },
   {
    "duration": 5,
    "start_time": "2022-05-22T09:51:32.994Z"
   },
   {
    "duration": 12,
    "start_time": "2022-05-22T09:51:33.000Z"
   },
   {
    "duration": 10,
    "start_time": "2022-05-22T09:51:33.014Z"
   },
   {
    "duration": 188,
    "start_time": "2022-05-22T09:51:33.026Z"
   },
   {
    "duration": 7,
    "start_time": "2022-05-22T09:51:33.219Z"
   },
   {
    "duration": 166,
    "start_time": "2022-05-22T09:51:33.227Z"
   },
   {
    "duration": 92,
    "start_time": "2022-05-22T09:51:33.394Z"
   },
   {
    "duration": 99,
    "start_time": "2022-05-22T09:51:33.488Z"
   },
   {
    "duration": 85,
    "start_time": "2022-05-22T09:51:33.588Z"
   },
   {
    "duration": 87,
    "start_time": "2022-05-22T09:51:33.675Z"
   },
   {
    "duration": 33,
    "start_time": "2022-05-22T09:51:33.764Z"
   },
   {
    "duration": 41,
    "start_time": "2022-05-22T09:51:33.799Z"
   },
   {
    "duration": 152,
    "start_time": "2022-05-22T09:51:33.842Z"
   },
   {
    "duration": 34,
    "start_time": "2022-05-22T09:51:33.998Z"
   },
   {
    "duration": 42,
    "start_time": "2022-05-22T09:51:34.033Z"
   },
   {
    "duration": 32,
    "start_time": "2022-05-22T09:51:34.077Z"
   },
   {
    "duration": 51,
    "start_time": "2022-05-22T09:51:34.111Z"
   },
   {
    "duration": 32,
    "start_time": "2022-05-22T09:51:34.164Z"
   },
   {
    "duration": 39,
    "start_time": "2022-05-22T09:51:34.197Z"
   },
   {
    "duration": 23,
    "start_time": "2022-05-22T09:51:34.238Z"
   },
   {
    "duration": 4,
    "start_time": "2022-05-22T09:51:34.262Z"
   },
   {
    "duration": 15,
    "start_time": "2022-05-22T09:51:34.268Z"
   },
   {
    "duration": 8,
    "start_time": "2022-05-22T09:51:34.285Z"
   },
   {
    "duration": 7,
    "start_time": "2022-05-22T09:51:34.295Z"
   },
   {
    "duration": 10,
    "start_time": "2022-05-22T09:51:34.304Z"
   },
   {
    "duration": 8,
    "start_time": "2022-05-22T09:51:34.315Z"
   },
   {
    "duration": 10,
    "start_time": "2022-05-22T09:51:34.324Z"
   },
   {
    "duration": 18,
    "start_time": "2022-05-22T09:51:34.336Z"
   },
   {
    "duration": 11,
    "start_time": "2022-05-22T09:55:37.458Z"
   },
   {
    "duration": 109,
    "start_time": "2022-05-22T09:56:51.266Z"
   },
   {
    "duration": 132,
    "start_time": "2022-05-22T09:57:10.285Z"
   },
   {
    "duration": 105,
    "start_time": "2022-05-22T09:57:24.462Z"
   },
   {
    "duration": 16,
    "start_time": "2022-05-22T09:58:53.347Z"
   },
   {
    "duration": 4,
    "start_time": "2022-05-22T10:00:30.926Z"
   },
   {
    "duration": 14,
    "start_time": "2022-05-22T10:01:03.043Z"
   },
   {
    "duration": 22,
    "start_time": "2022-05-22T10:02:38.787Z"
   },
   {
    "duration": 21,
    "start_time": "2022-05-22T10:05:21.318Z"
   },
   {
    "duration": 20,
    "start_time": "2022-05-22T10:05:43.753Z"
   },
   {
    "duration": 15,
    "start_time": "2022-05-22T10:07:38.182Z"
   },
   {
    "duration": 10,
    "start_time": "2022-05-22T10:08:40.972Z"
   },
   {
    "duration": 22,
    "start_time": "2022-05-22T10:08:59.893Z"
   },
   {
    "duration": 8,
    "start_time": "2022-05-22T10:09:05.467Z"
   },
   {
    "duration": 23,
    "start_time": "2022-05-22T10:09:55.406Z"
   },
   {
    "duration": 8,
    "start_time": "2022-05-22T10:10:35.893Z"
   },
   {
    "duration": 30,
    "start_time": "2022-05-22T10:11:54.278Z"
   },
   {
    "duration": 13,
    "start_time": "2022-05-22T10:14:31.272Z"
   },
   {
    "duration": 12,
    "start_time": "2022-05-22T10:14:50.396Z"
   },
   {
    "duration": 938,
    "start_time": "2022-05-22T10:15:31.986Z"
   },
   {
    "duration": 1174,
    "start_time": "2022-05-22T10:35:13.824Z"
   },
   {
    "duration": 592,
    "start_time": "2022-05-22T10:35:15.000Z"
   },
   {
    "duration": 12,
    "start_time": "2022-05-22T10:35:15.594Z"
   },
   {
    "duration": 8,
    "start_time": "2022-05-22T10:35:15.608Z"
   },
   {
    "duration": 13,
    "start_time": "2022-05-22T10:35:15.617Z"
   },
   {
    "duration": 25,
    "start_time": "2022-05-22T10:35:15.632Z"
   },
   {
    "duration": 14,
    "start_time": "2022-05-22T10:35:15.658Z"
   },
   {
    "duration": 33,
    "start_time": "2022-05-22T10:35:15.674Z"
   },
   {
    "duration": 58,
    "start_time": "2022-05-22T10:35:15.708Z"
   },
   {
    "duration": 11,
    "start_time": "2022-05-22T10:35:15.769Z"
   },
   {
    "duration": 108,
    "start_time": "2022-05-22T10:35:15.781Z"
   },
   {
    "duration": 11,
    "start_time": "2022-05-22T10:35:15.890Z"
   },
   {
    "duration": 32,
    "start_time": "2022-05-22T10:35:15.903Z"
   },
   {
    "duration": 43,
    "start_time": "2022-05-22T10:35:15.937Z"
   },
   {
    "duration": 5,
    "start_time": "2022-05-22T10:35:15.982Z"
   },
   {
    "duration": 28,
    "start_time": "2022-05-22T10:35:15.989Z"
   },
   {
    "duration": 45,
    "start_time": "2022-05-22T10:35:16.019Z"
   },
   {
    "duration": 7,
    "start_time": "2022-05-22T10:35:16.066Z"
   },
   {
    "duration": 18,
    "start_time": "2022-05-22T10:35:16.075Z"
   },
   {
    "duration": 65,
    "start_time": "2022-05-22T10:35:16.095Z"
   },
   {
    "duration": 10,
    "start_time": "2022-05-22T10:35:16.162Z"
   },
   {
    "duration": 58,
    "start_time": "2022-05-22T10:35:16.174Z"
   },
   {
    "duration": 6,
    "start_time": "2022-05-22T10:35:16.234Z"
   },
   {
    "duration": 40,
    "start_time": "2022-05-22T10:35:16.241Z"
   },
   {
    "duration": 174,
    "start_time": "2022-05-22T10:35:16.283Z"
   },
   {
    "duration": 9,
    "start_time": "2022-05-22T10:35:16.459Z"
   },
   {
    "duration": 14,
    "start_time": "2022-05-22T10:35:16.470Z"
   },
   {
    "duration": 22,
    "start_time": "2022-05-22T10:35:16.489Z"
   },
   {
    "duration": 15,
    "start_time": "2022-05-22T10:35:16.513Z"
   },
   {
    "duration": 15,
    "start_time": "2022-05-22T10:35:16.530Z"
   },
   {
    "duration": 26,
    "start_time": "2022-05-22T10:35:16.552Z"
   },
   {
    "duration": 32,
    "start_time": "2022-05-22T10:35:16.579Z"
   },
   {
    "duration": 23,
    "start_time": "2022-05-22T10:35:16.612Z"
   },
   {
    "duration": 41,
    "start_time": "2022-05-22T10:35:16.636Z"
   },
   {
    "duration": 39,
    "start_time": "2022-05-22T10:35:16.679Z"
   },
   {
    "duration": 25,
    "start_time": "2022-05-22T10:35:16.719Z"
   },
   {
    "duration": 21,
    "start_time": "2022-05-22T10:35:16.745Z"
   },
   {
    "duration": 21,
    "start_time": "2022-05-22T10:35:16.768Z"
   },
   {
    "duration": 30,
    "start_time": "2022-05-22T10:35:16.791Z"
   },
   {
    "duration": 31,
    "start_time": "2022-05-22T10:35:16.822Z"
   },
   {
    "duration": 21,
    "start_time": "2022-05-22T10:35:16.854Z"
   },
   {
    "duration": 40,
    "start_time": "2022-05-22T10:35:16.876Z"
   },
   {
    "duration": 5,
    "start_time": "2022-05-22T10:35:16.917Z"
   },
   {
    "duration": 21,
    "start_time": "2022-05-22T10:35:16.923Z"
   },
   {
    "duration": 28,
    "start_time": "2022-05-22T10:35:16.945Z"
   },
   {
    "duration": 14,
    "start_time": "2022-05-22T10:35:16.974Z"
   },
   {
    "duration": 28,
    "start_time": "2022-05-22T10:35:16.990Z"
   },
   {
    "duration": 10,
    "start_time": "2022-05-22T10:35:17.019Z"
   },
   {
    "duration": 11,
    "start_time": "2022-05-22T10:35:17.030Z"
   },
   {
    "duration": 15,
    "start_time": "2022-05-22T10:35:17.042Z"
   },
   {
    "duration": 21,
    "start_time": "2022-05-22T10:35:17.058Z"
   },
   {
    "duration": 17,
    "start_time": "2022-05-22T10:35:17.081Z"
   },
   {
    "duration": 10,
    "start_time": "2022-05-22T10:35:17.100Z"
   },
   {
    "duration": 21,
    "start_time": "2022-05-22T10:35:17.112Z"
   },
   {
    "duration": 14,
    "start_time": "2022-05-22T10:35:17.135Z"
   },
   {
    "duration": 46,
    "start_time": "2022-05-22T10:35:17.151Z"
   },
   {
    "duration": 12,
    "start_time": "2022-05-22T10:35:17.199Z"
   },
   {
    "duration": 9,
    "start_time": "2022-05-22T10:35:17.213Z"
   },
   {
    "duration": 29,
    "start_time": "2022-05-22T10:35:17.224Z"
   },
   {
    "duration": 18,
    "start_time": "2022-05-22T10:35:17.254Z"
   },
   {
    "duration": 149,
    "start_time": "2022-05-22T10:35:17.274Z"
   },
   {
    "duration": 14,
    "start_time": "2022-05-22T10:35:17.424Z"
   },
   {
    "duration": 29,
    "start_time": "2022-05-22T10:35:17.439Z"
   },
   {
    "duration": 7,
    "start_time": "2022-05-22T10:35:17.470Z"
   },
   {
    "duration": 7,
    "start_time": "2022-05-22T10:35:17.479Z"
   },
   {
    "duration": 17,
    "start_time": "2022-05-22T10:35:17.488Z"
   },
   {
    "duration": 29,
    "start_time": "2022-05-22T10:35:17.507Z"
   },
   {
    "duration": 123,
    "start_time": "2022-05-22T10:35:17.538Z"
   },
   {
    "duration": 22,
    "start_time": "2022-05-22T10:35:17.663Z"
   },
   {
    "duration": 20,
    "start_time": "2022-05-22T10:35:17.687Z"
   },
   {
    "duration": 5,
    "start_time": "2022-05-22T10:35:17.709Z"
   },
   {
    "duration": 48,
    "start_time": "2022-05-22T10:35:17.716Z"
   },
   {
    "duration": 4,
    "start_time": "2022-05-22T10:35:17.766Z"
   },
   {
    "duration": 37,
    "start_time": "2022-05-22T10:35:17.772Z"
   },
   {
    "duration": 21,
    "start_time": "2022-05-22T10:35:17.810Z"
   },
   {
    "duration": 231,
    "start_time": "2022-05-22T10:35:17.833Z"
   },
   {
    "duration": 165,
    "start_time": "2022-05-22T10:35:18.065Z"
   },
   {
    "duration": 28,
    "start_time": "2022-05-22T10:35:18.231Z"
   },
   {
    "duration": 6,
    "start_time": "2022-05-22T10:35:18.260Z"
   },
   {
    "duration": 13,
    "start_time": "2022-05-22T10:35:18.268Z"
   },
   {
    "duration": 5,
    "start_time": "2022-05-22T10:35:18.283Z"
   },
   {
    "duration": 409,
    "start_time": "2022-05-22T10:35:18.293Z"
   },
   {
    "duration": 12,
    "start_time": "2022-05-22T10:35:18.704Z"
   },
   {
    "duration": 11,
    "start_time": "2022-05-22T10:35:18.718Z"
   },
   {
    "duration": 307,
    "start_time": "2022-05-22T10:35:18.731Z"
   },
   {
    "duration": 13,
    "start_time": "2022-05-22T10:35:19.039Z"
   },
   {
    "duration": 12,
    "start_time": "2022-05-22T10:35:19.054Z"
   },
   {
    "duration": 176,
    "start_time": "2022-05-22T10:35:19.068Z"
   },
   {
    "duration": 8,
    "start_time": "2022-05-22T10:35:19.246Z"
   },
   {
    "duration": 160,
    "start_time": "2022-05-22T10:35:19.256Z"
   },
   {
    "duration": 99,
    "start_time": "2022-05-22T10:35:19.417Z"
   },
   {
    "duration": 99,
    "start_time": "2022-05-22T10:35:19.518Z"
   },
   {
    "duration": 81,
    "start_time": "2022-05-22T10:35:19.619Z"
   },
   {
    "duration": 86,
    "start_time": "2022-05-22T10:35:19.702Z"
   },
   {
    "duration": 35,
    "start_time": "2022-05-22T10:35:19.789Z"
   },
   {
    "duration": 48,
    "start_time": "2022-05-22T10:35:19.826Z"
   },
   {
    "duration": 156,
    "start_time": "2022-05-22T10:35:19.876Z"
   },
   {
    "duration": 40,
    "start_time": "2022-05-22T10:35:20.034Z"
   },
   {
    "duration": 40,
    "start_time": "2022-05-22T10:35:20.075Z"
   },
   {
    "duration": 38,
    "start_time": "2022-05-22T10:35:20.117Z"
   },
   {
    "duration": 35,
    "start_time": "2022-05-22T10:35:20.157Z"
   },
   {
    "duration": 39,
    "start_time": "2022-05-22T10:35:20.194Z"
   },
   {
    "duration": 44,
    "start_time": "2022-05-22T10:35:20.235Z"
   },
   {
    "duration": 14,
    "start_time": "2022-05-22T10:35:20.280Z"
   },
   {
    "duration": 4,
    "start_time": "2022-05-22T10:35:20.296Z"
   },
   {
    "duration": 6,
    "start_time": "2022-05-22T10:35:20.301Z"
   },
   {
    "duration": 11,
    "start_time": "2022-05-22T10:35:20.309Z"
   },
   {
    "duration": 7,
    "start_time": "2022-05-22T10:35:20.323Z"
   },
   {
    "duration": 5,
    "start_time": "2022-05-22T10:35:20.352Z"
   },
   {
    "duration": 9,
    "start_time": "2022-05-22T10:35:20.359Z"
   },
   {
    "duration": 8,
    "start_time": "2022-05-22T10:35:20.370Z"
   },
   {
    "duration": 6,
    "start_time": "2022-05-22T10:35:20.379Z"
   },
   {
    "duration": 11,
    "start_time": "2022-05-22T10:35:55.780Z"
   },
   {
    "duration": 12,
    "start_time": "2022-05-22T10:35:57.359Z"
   },
   {
    "duration": 14,
    "start_time": "2022-05-22T10:38:00.479Z"
   },
   {
    "duration": 15,
    "start_time": "2022-05-22T10:38:14.021Z"
   },
   {
    "duration": 152238,
    "start_time": "2022-05-22T10:42:20.363Z"
   },
   {
    "duration": 1184,
    "start_time": "2022-05-22T10:54:02.027Z"
   },
   {
    "duration": 610,
    "start_time": "2022-05-22T10:54:03.213Z"
   },
   {
    "duration": 13,
    "start_time": "2022-05-22T10:54:03.825Z"
   },
   {
    "duration": 8,
    "start_time": "2022-05-22T10:54:03.840Z"
   },
   {
    "duration": 9,
    "start_time": "2022-05-22T10:54:03.852Z"
   },
   {
    "duration": 17,
    "start_time": "2022-05-22T10:54:03.863Z"
   },
   {
    "duration": 14,
    "start_time": "2022-05-22T10:54:03.881Z"
   },
   {
    "duration": 20,
    "start_time": "2022-05-22T10:54:03.897Z"
   },
   {
    "duration": 82,
    "start_time": "2022-05-22T10:54:03.919Z"
   },
   {
    "duration": 11,
    "start_time": "2022-05-22T10:54:04.003Z"
   },
   {
    "duration": 117,
    "start_time": "2022-05-22T10:54:04.015Z"
   },
   {
    "duration": 19,
    "start_time": "2022-05-22T10:54:04.134Z"
   },
   {
    "duration": 47,
    "start_time": "2022-05-22T10:54:04.154Z"
   },
   {
    "duration": 40,
    "start_time": "2022-05-22T10:54:04.203Z"
   },
   {
    "duration": 5,
    "start_time": "2022-05-22T10:54:04.245Z"
   },
   {
    "duration": 16,
    "start_time": "2022-05-22T10:54:04.252Z"
   },
   {
    "duration": 37,
    "start_time": "2022-05-22T10:54:04.270Z"
   },
   {
    "duration": 7,
    "start_time": "2022-05-22T10:54:04.309Z"
   },
   {
    "duration": 17,
    "start_time": "2022-05-22T10:54:04.318Z"
   },
   {
    "duration": 47,
    "start_time": "2022-05-22T10:54:04.337Z"
   },
   {
    "duration": 9,
    "start_time": "2022-05-22T10:54:04.386Z"
   },
   {
    "duration": 50,
    "start_time": "2022-05-22T10:54:04.397Z"
   },
   {
    "duration": 6,
    "start_time": "2022-05-22T10:54:04.449Z"
   },
   {
    "duration": 35,
    "start_time": "2022-05-22T10:54:04.456Z"
   },
   {
    "duration": 198,
    "start_time": "2022-05-22T10:54:04.493Z"
   },
   {
    "duration": 9,
    "start_time": "2022-05-22T10:54:04.693Z"
   },
   {
    "duration": 8,
    "start_time": "2022-05-22T10:54:04.704Z"
   },
   {
    "duration": 8,
    "start_time": "2022-05-22T10:54:04.718Z"
   },
   {
    "duration": 9,
    "start_time": "2022-05-22T10:54:04.753Z"
   },
   {
    "duration": 9,
    "start_time": "2022-05-22T10:54:04.764Z"
   },
   {
    "duration": 8,
    "start_time": "2022-05-22T10:54:04.774Z"
   },
   {
    "duration": 7,
    "start_time": "2022-05-22T10:54:04.783Z"
   },
   {
    "duration": 11,
    "start_time": "2022-05-22T10:54:04.792Z"
   },
   {
    "duration": 13,
    "start_time": "2022-05-22T10:54:04.804Z"
   },
   {
    "duration": 59,
    "start_time": "2022-05-22T10:54:04.819Z"
   },
   {
    "duration": 8,
    "start_time": "2022-05-22T10:54:04.880Z"
   },
   {
    "duration": 9,
    "start_time": "2022-05-22T10:54:04.890Z"
   },
   {
    "duration": 9,
    "start_time": "2022-05-22T10:54:04.901Z"
   },
   {
    "duration": 13,
    "start_time": "2022-05-22T10:54:04.911Z"
   },
   {
    "duration": 27,
    "start_time": "2022-05-22T10:54:04.926Z"
   },
   {
    "duration": 9,
    "start_time": "2022-05-22T10:54:04.954Z"
   },
   {
    "duration": 18,
    "start_time": "2022-05-22T10:54:04.966Z"
   },
   {
    "duration": 5,
    "start_time": "2022-05-22T10:54:04.986Z"
   },
   {
    "duration": 8,
    "start_time": "2022-05-22T10:54:04.993Z"
   },
   {
    "duration": 15,
    "start_time": "2022-05-22T10:54:05.003Z"
   },
   {
    "duration": 42,
    "start_time": "2022-05-22T10:54:05.020Z"
   },
   {
    "duration": 18,
    "start_time": "2022-05-22T10:54:05.065Z"
   },
   {
    "duration": 23,
    "start_time": "2022-05-22T10:54:05.085Z"
   },
   {
    "duration": 23,
    "start_time": "2022-05-22T10:54:05.109Z"
   },
   {
    "duration": 11,
    "start_time": "2022-05-22T10:54:05.134Z"
   },
   {
    "duration": 15,
    "start_time": "2022-05-22T10:54:05.147Z"
   },
   {
    "duration": 25,
    "start_time": "2022-05-22T10:54:05.163Z"
   },
   {
    "duration": 18,
    "start_time": "2022-05-22T10:54:05.190Z"
   },
   {
    "duration": 39,
    "start_time": "2022-05-22T10:54:05.210Z"
   },
   {
    "duration": 39,
    "start_time": "2022-05-22T10:54:05.251Z"
   },
   {
    "duration": 57,
    "start_time": "2022-05-22T10:54:05.292Z"
   },
   {
    "duration": 14,
    "start_time": "2022-05-22T10:54:05.351Z"
   },
   {
    "duration": 14,
    "start_time": "2022-05-22T10:54:05.368Z"
   },
   {
    "duration": 40,
    "start_time": "2022-05-22T10:54:05.384Z"
   },
   {
    "duration": 11,
    "start_time": "2022-05-22T10:54:05.426Z"
   },
   {
    "duration": 144,
    "start_time": "2022-05-22T10:54:05.439Z"
   },
   {
    "duration": 13,
    "start_time": "2022-05-22T10:54:05.584Z"
   },
   {
    "duration": 21,
    "start_time": "2022-05-22T10:54:05.599Z"
   },
   {
    "duration": 7,
    "start_time": "2022-05-22T10:54:05.621Z"
   },
   {
    "duration": 29,
    "start_time": "2022-05-22T10:54:05.630Z"
   },
   {
    "duration": 9,
    "start_time": "2022-05-22T10:54:05.660Z"
   },
   {
    "duration": 20,
    "start_time": "2022-05-22T10:54:05.671Z"
   },
   {
    "duration": 141,
    "start_time": "2022-05-22T10:54:05.693Z"
   },
   {
    "duration": 27,
    "start_time": "2022-05-22T10:54:05.836Z"
   },
   {
    "duration": 15,
    "start_time": "2022-05-22T10:54:05.865Z"
   },
   {
    "duration": 7,
    "start_time": "2022-05-22T10:54:05.881Z"
   },
   {
    "duration": 23,
    "start_time": "2022-05-22T10:54:05.889Z"
   },
   {
    "duration": 9,
    "start_time": "2022-05-22T10:54:05.913Z"
   },
   {
    "duration": 15,
    "start_time": "2022-05-22T10:54:05.923Z"
   },
   {
    "duration": 21,
    "start_time": "2022-05-22T10:54:05.939Z"
   },
   {
    "duration": 245,
    "start_time": "2022-05-22T10:54:05.962Z"
   },
   {
    "duration": 159,
    "start_time": "2022-05-22T10:54:06.209Z"
   },
   {
    "duration": 15,
    "start_time": "2022-05-22T10:54:06.370Z"
   },
   {
    "duration": 5,
    "start_time": "2022-05-22T10:54:06.387Z"
   },
   {
    "duration": 12,
    "start_time": "2022-05-22T10:54:06.393Z"
   },
   {
    "duration": 4,
    "start_time": "2022-05-22T10:54:06.407Z"
   },
   {
    "duration": 44,
    "start_time": "2022-05-22T10:54:06.417Z"
   },
   {
    "duration": 11,
    "start_time": "2022-05-22T10:54:06.463Z"
   },
   {
    "duration": 8,
    "start_time": "2022-05-22T10:54:06.476Z"
   },
   {
    "duration": 10,
    "start_time": "2022-05-22T10:54:06.485Z"
   },
   {
    "duration": 203,
    "start_time": "2022-05-22T10:54:06.496Z"
   },
   {
    "duration": 7,
    "start_time": "2022-05-22T10:54:06.701Z"
   },
   {
    "duration": 175,
    "start_time": "2022-05-22T10:54:06.710Z"
   },
   {
    "duration": 100,
    "start_time": "2022-05-22T10:54:06.887Z"
   },
   {
    "duration": 105,
    "start_time": "2022-05-22T10:54:06.989Z"
   },
   {
    "duration": 97,
    "start_time": "2022-05-22T10:54:07.095Z"
   },
   {
    "duration": 86,
    "start_time": "2022-05-22T10:54:07.194Z"
   },
   {
    "duration": 35,
    "start_time": "2022-05-22T10:54:07.282Z"
   },
   {
    "duration": 45,
    "start_time": "2022-05-22T10:54:07.319Z"
   },
   {
    "duration": 34,
    "start_time": "2022-05-22T10:54:07.366Z"
   },
   {
    "duration": 162,
    "start_time": "2022-05-22T10:54:07.402Z"
   },
   {
    "duration": 33,
    "start_time": "2022-05-22T10:54:07.566Z"
   },
   {
    "duration": 35,
    "start_time": "2022-05-22T10:54:07.601Z"
   },
   {
    "duration": 34,
    "start_time": "2022-05-22T10:54:07.651Z"
   },
   {
    "duration": 36,
    "start_time": "2022-05-22T10:54:07.686Z"
   },
   {
    "duration": 45,
    "start_time": "2022-05-22T10:54:07.724Z"
   },
   {
    "duration": 33,
    "start_time": "2022-05-22T10:54:07.770Z"
   },
   {
    "duration": 13,
    "start_time": "2022-05-22T10:54:07.804Z"
   },
   {
    "duration": 4,
    "start_time": "2022-05-22T10:54:07.818Z"
   },
   {
    "duration": 5,
    "start_time": "2022-05-22T10:54:07.823Z"
   },
   {
    "duration": 4,
    "start_time": "2022-05-22T10:54:07.852Z"
   },
   {
    "duration": 10,
    "start_time": "2022-05-22T10:54:07.857Z"
   },
   {
    "duration": 5,
    "start_time": "2022-05-22T10:54:07.868Z"
   },
   {
    "duration": 11,
    "start_time": "2022-05-22T10:54:07.875Z"
   },
   {
    "duration": 6,
    "start_time": "2022-05-22T10:54:07.887Z"
   },
   {
    "duration": 7,
    "start_time": "2022-05-22T10:54:07.894Z"
   },
   {
    "duration": 32,
    "start_time": "2022-05-22T10:55:21.512Z"
   },
   {
    "duration": 37,
    "start_time": "2022-05-22T10:56:08.195Z"
   },
   {
    "duration": 34,
    "start_time": "2022-05-22T10:56:09.185Z"
   },
   {
    "duration": 43,
    "start_time": "2022-05-22T10:57:45.169Z"
   },
   {
    "duration": 36,
    "start_time": "2022-05-22T10:57:50.467Z"
   },
   {
    "duration": 3,
    "start_time": "2022-05-22T11:00:48.909Z"
   },
   {
    "duration": 4,
    "start_time": "2022-05-22T11:02:40.214Z"
   },
   {
    "duration": 38,
    "start_time": "2022-05-22T11:04:58.234Z"
   },
   {
    "duration": 34,
    "start_time": "2022-05-22T11:05:17.348Z"
   },
   {
    "duration": 4,
    "start_time": "2022-05-22T11:05:31.438Z"
   },
   {
    "duration": 34,
    "start_time": "2022-05-22T11:09:08.036Z"
   },
   {
    "duration": 120,
    "start_time": "2022-05-22T11:09:09.029Z"
   },
   {
    "duration": 4,
    "start_time": "2022-05-22T11:09:18.697Z"
   },
   {
    "duration": 5,
    "start_time": "2022-05-22T11:09:39.374Z"
   },
   {
    "duration": 35,
    "start_time": "2022-05-22T11:11:39.875Z"
   },
   {
    "duration": 4,
    "start_time": "2022-05-22T11:12:06.343Z"
   },
   {
    "duration": 45,
    "start_time": "2022-05-22T11:14:02.546Z"
   },
   {
    "duration": 4,
    "start_time": "2022-05-22T11:15:24.485Z"
   },
   {
    "duration": 12,
    "start_time": "2022-05-22T11:16:27.254Z"
   },
   {
    "duration": 37,
    "start_time": "2022-05-22T11:19:14.617Z"
   },
   {
    "duration": 5,
    "start_time": "2022-05-22T11:19:16.822Z"
   },
   {
    "duration": 36,
    "start_time": "2022-05-22T11:38:02.664Z"
   },
   {
    "duration": 4,
    "start_time": "2022-05-22T11:38:03.726Z"
   },
   {
    "duration": 1143,
    "start_time": "2022-05-22T11:38:45.257Z"
   },
   {
    "duration": 562,
    "start_time": "2022-05-22T11:38:46.403Z"
   },
   {
    "duration": 12,
    "start_time": "2022-05-22T11:38:46.967Z"
   },
   {
    "duration": 13,
    "start_time": "2022-05-22T11:38:46.981Z"
   },
   {
    "duration": 11,
    "start_time": "2022-05-22T11:38:46.997Z"
   },
   {
    "duration": 11,
    "start_time": "2022-05-22T11:38:47.010Z"
   },
   {
    "duration": 34,
    "start_time": "2022-05-22T11:38:47.023Z"
   },
   {
    "duration": 18,
    "start_time": "2022-05-22T11:38:47.059Z"
   },
   {
    "duration": 56,
    "start_time": "2022-05-22T11:38:47.079Z"
   },
   {
    "duration": 16,
    "start_time": "2022-05-22T11:38:47.152Z"
   },
   {
    "duration": 140,
    "start_time": "2022-05-22T11:38:47.170Z"
   },
   {
    "duration": 10,
    "start_time": "2022-05-22T11:38:47.312Z"
   },
   {
    "duration": 35,
    "start_time": "2022-05-22T11:38:47.324Z"
   },
   {
    "duration": 42,
    "start_time": "2022-05-22T11:38:47.362Z"
   },
   {
    "duration": 6,
    "start_time": "2022-05-22T11:38:47.406Z"
   },
   {
    "duration": 13,
    "start_time": "2022-05-22T11:38:47.413Z"
   },
   {
    "duration": 58,
    "start_time": "2022-05-22T11:38:47.428Z"
   },
   {
    "duration": 7,
    "start_time": "2022-05-22T11:38:47.488Z"
   },
   {
    "duration": 11,
    "start_time": "2022-05-22T11:38:47.497Z"
   },
   {
    "duration": 55,
    "start_time": "2022-05-22T11:38:47.510Z"
   },
   {
    "duration": 9,
    "start_time": "2022-05-22T11:38:47.567Z"
   },
   {
    "duration": 35,
    "start_time": "2022-05-22T11:38:47.578Z"
   },
   {
    "duration": 5,
    "start_time": "2022-05-22T11:38:47.615Z"
   },
   {
    "duration": 59,
    "start_time": "2022-05-22T11:38:47.621Z"
   },
   {
    "duration": 198,
    "start_time": "2022-05-22T11:38:47.682Z"
   },
   {
    "duration": 10,
    "start_time": "2022-05-22T11:38:47.881Z"
   },
   {
    "duration": 9,
    "start_time": "2022-05-22T11:38:47.892Z"
   },
   {
    "duration": 12,
    "start_time": "2022-05-22T11:38:47.902Z"
   },
   {
    "duration": 14,
    "start_time": "2022-05-22T11:38:47.916Z"
   },
   {
    "duration": 7,
    "start_time": "2022-05-22T11:38:47.953Z"
   },
   {
    "duration": 7,
    "start_time": "2022-05-22T11:38:47.962Z"
   },
   {
    "duration": 10,
    "start_time": "2022-05-22T11:38:47.971Z"
   },
   {
    "duration": 15,
    "start_time": "2022-05-22T11:38:47.983Z"
   },
   {
    "duration": 13,
    "start_time": "2022-05-22T11:38:48.000Z"
   },
   {
    "duration": 53,
    "start_time": "2022-05-22T11:38:48.015Z"
   },
   {
    "duration": 6,
    "start_time": "2022-05-22T11:38:48.070Z"
   },
   {
    "duration": 10,
    "start_time": "2022-05-22T11:38:48.078Z"
   },
   {
    "duration": 11,
    "start_time": "2022-05-22T11:38:48.090Z"
   },
   {
    "duration": 17,
    "start_time": "2022-05-22T11:38:48.103Z"
   },
   {
    "duration": 31,
    "start_time": "2022-05-22T11:38:48.122Z"
   },
   {
    "duration": 11,
    "start_time": "2022-05-22T11:38:48.160Z"
   },
   {
    "duration": 25,
    "start_time": "2022-05-22T11:38:48.172Z"
   },
   {
    "duration": 5,
    "start_time": "2022-05-22T11:38:48.199Z"
   },
   {
    "duration": 8,
    "start_time": "2022-05-22T11:38:48.206Z"
   },
   {
    "duration": 40,
    "start_time": "2022-05-22T11:38:48.216Z"
   },
   {
    "duration": 19,
    "start_time": "2022-05-22T11:38:48.258Z"
   },
   {
    "duration": 10,
    "start_time": "2022-05-22T11:38:48.279Z"
   },
   {
    "duration": 10,
    "start_time": "2022-05-22T11:38:48.291Z"
   },
   {
    "duration": 10,
    "start_time": "2022-05-22T11:38:48.302Z"
   },
   {
    "duration": 10,
    "start_time": "2022-05-22T11:38:48.313Z"
   },
   {
    "duration": 31,
    "start_time": "2022-05-22T11:38:48.325Z"
   },
   {
    "duration": 15,
    "start_time": "2022-05-22T11:38:48.357Z"
   },
   {
    "duration": 10,
    "start_time": "2022-05-22T11:38:48.373Z"
   },
   {
    "duration": 10,
    "start_time": "2022-05-22T11:38:48.385Z"
   },
   {
    "duration": 12,
    "start_time": "2022-05-22T11:38:48.396Z"
   },
   {
    "duration": 73,
    "start_time": "2022-05-22T11:38:48.409Z"
   },
   {
    "duration": 12,
    "start_time": "2022-05-22T11:38:48.484Z"
   },
   {
    "duration": 15,
    "start_time": "2022-05-22T11:38:48.497Z"
   },
   {
    "duration": 15,
    "start_time": "2022-05-22T11:38:48.513Z"
   },
   {
    "duration": 28,
    "start_time": "2022-05-22T11:38:48.530Z"
   },
   {
    "duration": 146,
    "start_time": "2022-05-22T11:38:48.560Z"
   },
   {
    "duration": 14,
    "start_time": "2022-05-22T11:38:48.707Z"
   },
   {
    "duration": 34,
    "start_time": "2022-05-22T11:38:48.723Z"
   },
   {
    "duration": 7,
    "start_time": "2022-05-22T11:38:48.759Z"
   },
   {
    "duration": 8,
    "start_time": "2022-05-22T11:38:48.768Z"
   },
   {
    "duration": 7,
    "start_time": "2022-05-22T11:38:48.778Z"
   },
   {
    "duration": 10,
    "start_time": "2022-05-22T11:38:48.787Z"
   },
   {
    "duration": 158,
    "start_time": "2022-05-22T11:38:48.799Z"
   },
   {
    "duration": 22,
    "start_time": "2022-05-22T11:38:48.959Z"
   },
   {
    "duration": 18,
    "start_time": "2022-05-22T11:38:48.983Z"
   },
   {
    "duration": 5,
    "start_time": "2022-05-22T11:38:49.003Z"
   },
   {
    "duration": 43,
    "start_time": "2022-05-22T11:38:49.010Z"
   },
   {
    "duration": 5,
    "start_time": "2022-05-22T11:38:49.055Z"
   },
   {
    "duration": 15,
    "start_time": "2022-05-22T11:38:49.062Z"
   },
   {
    "duration": 12,
    "start_time": "2022-05-22T11:38:49.079Z"
   },
   {
    "duration": 251,
    "start_time": "2022-05-22T11:38:49.092Z"
   },
   {
    "duration": 187,
    "start_time": "2022-05-22T11:38:49.345Z"
   },
   {
    "duration": 24,
    "start_time": "2022-05-22T11:38:49.535Z"
   },
   {
    "duration": 6,
    "start_time": "2022-05-22T11:38:49.561Z"
   },
   {
    "duration": 15,
    "start_time": "2022-05-22T11:38:49.569Z"
   },
   {
    "duration": 5,
    "start_time": "2022-05-22T11:38:49.585Z"
   },
   {
    "duration": 19,
    "start_time": "2022-05-22T11:38:49.593Z"
   },
   {
    "duration": 42,
    "start_time": "2022-05-22T11:38:49.614Z"
   },
   {
    "duration": 9,
    "start_time": "2022-05-22T11:38:49.658Z"
   },
   {
    "duration": 10,
    "start_time": "2022-05-22T11:38:49.669Z"
   },
   {
    "duration": 196,
    "start_time": "2022-05-22T11:38:49.681Z"
   },
   {
    "duration": 6,
    "start_time": "2022-05-22T11:38:49.879Z"
   },
   {
    "duration": 174,
    "start_time": "2022-05-22T11:38:49.887Z"
   },
   {
    "duration": 106,
    "start_time": "2022-05-22T11:38:50.062Z"
   },
   {
    "duration": 107,
    "start_time": "2022-05-22T11:38:50.170Z"
   },
   {
    "duration": 90,
    "start_time": "2022-05-22T11:38:50.279Z"
   },
   {
    "duration": 88,
    "start_time": "2022-05-22T11:38:50.371Z"
   },
   {
    "duration": 32,
    "start_time": "2022-05-22T11:38:50.460Z"
   },
   {
    "duration": 30,
    "start_time": "2022-05-22T11:38:50.493Z"
   },
   {
    "duration": 4,
    "start_time": "2022-05-22T11:38:50.524Z"
   },
   {
    "duration": 53,
    "start_time": "2022-05-22T11:38:50.529Z"
   },
   {
    "duration": 37,
    "start_time": "2022-05-22T11:38:50.583Z"
   },
   {
    "duration": 4,
    "start_time": "2022-05-22T11:38:50.622Z"
   },
   {
    "duration": 45,
    "start_time": "2022-05-22T11:38:50.628Z"
   },
   {
    "duration": 4,
    "start_time": "2022-05-22T11:38:50.675Z"
   },
   {
    "duration": 37,
    "start_time": "2022-05-22T11:38:50.681Z"
   },
   {
    "duration": 4,
    "start_time": "2022-05-22T11:38:50.720Z"
   },
   {
    "duration": 30,
    "start_time": "2022-05-22T11:38:50.726Z"
   },
   {
    "duration": 35,
    "start_time": "2022-05-22T11:38:50.758Z"
   },
   {
    "duration": 6,
    "start_time": "2022-05-22T11:38:50.794Z"
   },
   {
    "duration": 35,
    "start_time": "2022-05-22T11:38:50.801Z"
   },
   {
    "duration": 6,
    "start_time": "2022-05-22T11:38:50.851Z"
   },
   {
    "duration": 151,
    "start_time": "2022-05-22T11:38:50.858Z"
   },
   {
    "duration": 30,
    "start_time": "2022-05-22T11:38:51.011Z"
   },
   {
    "duration": 29,
    "start_time": "2022-05-22T11:38:51.051Z"
   },
   {
    "duration": 31,
    "start_time": "2022-05-22T11:38:51.081Z"
   },
   {
    "duration": 53,
    "start_time": "2022-05-22T11:38:51.113Z"
   },
   {
    "duration": 13,
    "start_time": "2022-05-22T11:38:51.168Z"
   },
   {
    "duration": 4,
    "start_time": "2022-05-22T11:38:51.183Z"
   },
   {
    "duration": 8,
    "start_time": "2022-05-22T11:38:51.189Z"
   },
   {
    "duration": 6,
    "start_time": "2022-05-22T11:38:51.200Z"
   },
   {
    "duration": 6,
    "start_time": "2022-05-22T11:38:51.208Z"
   },
   {
    "duration": 37,
    "start_time": "2022-05-22T11:38:51.216Z"
   },
   {
    "duration": 7,
    "start_time": "2022-05-22T11:38:51.255Z"
   },
   {
    "duration": 7,
    "start_time": "2022-05-22T11:38:51.264Z"
   },
   {
    "duration": 10,
    "start_time": "2022-05-22T11:38:51.273Z"
   },
   {
    "duration": 1107,
    "start_time": "2022-05-22T11:42:40.509Z"
   },
   {
    "duration": 550,
    "start_time": "2022-05-22T11:42:41.618Z"
   },
   {
    "duration": 14,
    "start_time": "2022-05-22T11:42:42.170Z"
   },
   {
    "duration": 8,
    "start_time": "2022-05-22T11:42:42.186Z"
   },
   {
    "duration": 13,
    "start_time": "2022-05-22T11:42:42.196Z"
   },
   {
    "duration": 11,
    "start_time": "2022-05-22T11:42:42.210Z"
   },
   {
    "duration": 32,
    "start_time": "2022-05-22T11:42:42.223Z"
   },
   {
    "duration": 27,
    "start_time": "2022-05-22T11:42:42.257Z"
   },
   {
    "duration": 56,
    "start_time": "2022-05-22T11:42:42.285Z"
   },
   {
    "duration": 17,
    "start_time": "2022-05-22T11:42:42.344Z"
   },
   {
    "duration": 116,
    "start_time": "2022-05-22T11:42:42.362Z"
   },
   {
    "duration": 11,
    "start_time": "2022-05-22T11:42:42.480Z"
   },
   {
    "duration": 25,
    "start_time": "2022-05-22T11:42:42.493Z"
   },
   {
    "duration": 48,
    "start_time": "2022-05-22T11:42:42.520Z"
   },
   {
    "duration": 8,
    "start_time": "2022-05-22T11:42:42.570Z"
   },
   {
    "duration": 26,
    "start_time": "2022-05-22T11:42:42.580Z"
   },
   {
    "duration": 66,
    "start_time": "2022-05-22T11:42:42.608Z"
   },
   {
    "duration": 7,
    "start_time": "2022-05-22T11:42:42.676Z"
   },
   {
    "duration": 13,
    "start_time": "2022-05-22T11:42:42.684Z"
   },
   {
    "duration": 36,
    "start_time": "2022-05-22T11:42:42.698Z"
   },
   {
    "duration": 24,
    "start_time": "2022-05-22T11:42:42.735Z"
   },
   {
    "duration": 34,
    "start_time": "2022-05-22T11:42:42.761Z"
   },
   {
    "duration": 5,
    "start_time": "2022-05-22T11:42:42.797Z"
   },
   {
    "duration": 50,
    "start_time": "2022-05-22T11:42:42.803Z"
   },
   {
    "duration": 191,
    "start_time": "2022-05-22T11:42:42.855Z"
   },
   {
    "duration": 10,
    "start_time": "2022-05-22T11:42:43.047Z"
   },
   {
    "duration": 8,
    "start_time": "2022-05-22T11:42:43.059Z"
   },
   {
    "duration": 11,
    "start_time": "2022-05-22T11:42:43.071Z"
   },
   {
    "duration": 10,
    "start_time": "2022-05-22T11:42:43.084Z"
   },
   {
    "duration": 9,
    "start_time": "2022-05-22T11:42:43.096Z"
   },
   {
    "duration": 6,
    "start_time": "2022-05-22T11:42:43.106Z"
   },
   {
    "duration": 6,
    "start_time": "2022-05-22T11:42:43.113Z"
   },
   {
    "duration": 9,
    "start_time": "2022-05-22T11:42:43.152Z"
   },
   {
    "duration": 10,
    "start_time": "2022-05-22T11:42:43.163Z"
   },
   {
    "duration": 34,
    "start_time": "2022-05-22T11:42:43.175Z"
   },
   {
    "duration": 7,
    "start_time": "2022-05-22T11:42:43.211Z"
   },
   {
    "duration": 33,
    "start_time": "2022-05-22T11:42:43.220Z"
   },
   {
    "duration": 10,
    "start_time": "2022-05-22T11:42:43.254Z"
   },
   {
    "duration": 15,
    "start_time": "2022-05-22T11:42:43.265Z"
   },
   {
    "duration": 10,
    "start_time": "2022-05-22T11:42:43.282Z"
   },
   {
    "duration": 8,
    "start_time": "2022-05-22T11:42:43.294Z"
   },
   {
    "duration": 19,
    "start_time": "2022-05-22T11:42:43.303Z"
   },
   {
    "duration": 5,
    "start_time": "2022-05-22T11:42:43.323Z"
   },
   {
    "duration": 7,
    "start_time": "2022-05-22T11:42:43.351Z"
   },
   {
    "duration": 12,
    "start_time": "2022-05-22T11:42:43.360Z"
   },
   {
    "duration": 13,
    "start_time": "2022-05-22T11:42:43.373Z"
   },
   {
    "duration": 8,
    "start_time": "2022-05-22T11:42:43.387Z"
   },
   {
    "duration": 11,
    "start_time": "2022-05-22T11:42:43.397Z"
   },
   {
    "duration": 11,
    "start_time": "2022-05-22T11:42:43.410Z"
   },
   {
    "duration": 36,
    "start_time": "2022-05-22T11:42:43.423Z"
   },
   {
    "duration": 9,
    "start_time": "2022-05-22T11:42:43.461Z"
   },
   {
    "duration": 20,
    "start_time": "2022-05-22T11:42:43.472Z"
   },
   {
    "duration": 12,
    "start_time": "2022-05-22T11:42:43.494Z"
   },
   {
    "duration": 7,
    "start_time": "2022-05-22T11:42:43.508Z"
   },
   {
    "duration": 10,
    "start_time": "2022-05-22T11:42:43.516Z"
   },
   {
    "duration": 41,
    "start_time": "2022-05-22T11:42:43.552Z"
   },
   {
    "duration": 10,
    "start_time": "2022-05-22T11:42:43.595Z"
   },
   {
    "duration": 6,
    "start_time": "2022-05-22T11:42:43.607Z"
   },
   {
    "duration": 37,
    "start_time": "2022-05-22T11:42:43.615Z"
   },
   {
    "duration": 12,
    "start_time": "2022-05-22T11:42:43.653Z"
   },
   {
    "duration": 146,
    "start_time": "2022-05-22T11:42:43.666Z"
   },
   {
    "duration": 13,
    "start_time": "2022-05-22T11:42:43.814Z"
   },
   {
    "duration": 36,
    "start_time": "2022-05-22T11:42:43.828Z"
   },
   {
    "duration": 8,
    "start_time": "2022-05-22T11:42:43.865Z"
   },
   {
    "duration": 9,
    "start_time": "2022-05-22T11:42:43.875Z"
   },
   {
    "duration": 8,
    "start_time": "2022-05-22T11:42:43.886Z"
   },
   {
    "duration": 10,
    "start_time": "2022-05-22T11:42:43.896Z"
   },
   {
    "duration": 161,
    "start_time": "2022-05-22T11:42:43.908Z"
   },
   {
    "duration": 24,
    "start_time": "2022-05-22T11:42:44.071Z"
   },
   {
    "duration": 18,
    "start_time": "2022-05-22T11:42:44.096Z"
   },
   {
    "duration": 5,
    "start_time": "2022-05-22T11:42:44.116Z"
   },
   {
    "duration": 44,
    "start_time": "2022-05-22T11:42:44.123Z"
   },
   {
    "duration": 4,
    "start_time": "2022-05-22T11:42:44.169Z"
   },
   {
    "duration": 16,
    "start_time": "2022-05-22T11:42:44.175Z"
   },
   {
    "duration": 10,
    "start_time": "2022-05-22T11:42:44.193Z"
   },
   {
    "duration": 239,
    "start_time": "2022-05-22T11:42:44.204Z"
   },
   {
    "duration": 162,
    "start_time": "2022-05-22T11:42:44.445Z"
   },
   {
    "duration": 15,
    "start_time": "2022-05-22T11:42:44.609Z"
   },
   {
    "duration": 6,
    "start_time": "2022-05-22T11:42:44.626Z"
   },
   {
    "duration": 29,
    "start_time": "2022-05-22T11:42:44.634Z"
   },
   {
    "duration": 6,
    "start_time": "2022-05-22T11:42:44.665Z"
   },
   {
    "duration": 13,
    "start_time": "2022-05-22T11:42:44.677Z"
   },
   {
    "duration": 13,
    "start_time": "2022-05-22T11:42:44.692Z"
   },
   {
    "duration": 9,
    "start_time": "2022-05-22T11:42:44.708Z"
   },
   {
    "duration": 8,
    "start_time": "2022-05-22T11:42:44.753Z"
   },
   {
    "duration": 198,
    "start_time": "2022-05-22T11:42:44.763Z"
   },
   {
    "duration": 7,
    "start_time": "2022-05-22T11:42:44.962Z"
   },
   {
    "duration": 175,
    "start_time": "2022-05-22T11:42:44.970Z"
   },
   {
    "duration": 93,
    "start_time": "2022-05-22T11:42:45.147Z"
   },
   {
    "duration": 115,
    "start_time": "2022-05-22T11:42:45.242Z"
   },
   {
    "duration": 114,
    "start_time": "2022-05-22T11:42:45.372Z"
   },
   {
    "duration": 118,
    "start_time": "2022-05-22T11:42:45.489Z"
   },
   {
    "duration": 52,
    "start_time": "2022-05-22T11:42:45.609Z"
   },
   {
    "duration": 34,
    "start_time": "2022-05-22T11:42:45.663Z"
   },
   {
    "duration": 8,
    "start_time": "2022-05-22T11:42:45.698Z"
   },
   {
    "duration": 56,
    "start_time": "2022-05-22T11:42:45.708Z"
   },
   {
    "duration": 30,
    "start_time": "2022-05-22T11:42:45.765Z"
   },
   {
    "duration": 5,
    "start_time": "2022-05-22T11:42:45.796Z"
   },
   {
    "duration": 52,
    "start_time": "2022-05-22T11:42:45.803Z"
   },
   {
    "duration": 4,
    "start_time": "2022-05-22T11:42:45.856Z"
   },
   {
    "duration": 32,
    "start_time": "2022-05-22T11:42:45.862Z"
   },
   {
    "duration": 4,
    "start_time": "2022-05-22T11:42:45.895Z"
   },
   {
    "duration": 14,
    "start_time": "2022-05-22T11:42:45.901Z"
   },
   {
    "duration": 62,
    "start_time": "2022-05-22T11:42:45.916Z"
   },
   {
    "duration": 4,
    "start_time": "2022-05-22T11:42:45.980Z"
   },
   {
    "duration": 35,
    "start_time": "2022-05-22T11:42:45.986Z"
   },
   {
    "duration": 5,
    "start_time": "2022-05-22T11:42:46.022Z"
   },
   {
    "duration": 163,
    "start_time": "2022-05-22T11:42:46.029Z"
   },
   {
    "duration": 12,
    "start_time": "2022-05-22T11:42:46.194Z"
   },
   {
    "duration": 4,
    "start_time": "2022-05-22T11:42:46.207Z"
   },
   {
    "duration": 8,
    "start_time": "2022-05-22T11:42:46.212Z"
   },
   {
    "duration": 5,
    "start_time": "2022-05-22T11:42:46.222Z"
   },
   {
    "duration": 27,
    "start_time": "2022-05-22T11:42:46.229Z"
   },
   {
    "duration": 10,
    "start_time": "2022-05-22T11:42:46.257Z"
   },
   {
    "duration": 6,
    "start_time": "2022-05-22T11:42:46.269Z"
   },
   {
    "duration": 6,
    "start_time": "2022-05-22T11:42:46.276Z"
   },
   {
    "duration": 6,
    "start_time": "2022-05-22T11:42:46.284Z"
   },
   {
    "duration": 130,
    "start_time": "2022-05-22T11:47:23.399Z"
   },
   {
    "duration": 124,
    "start_time": "2022-05-22T11:48:18.721Z"
   },
   {
    "duration": 3,
    "start_time": "2022-05-22T11:55:42.664Z"
   },
   {
    "duration": 4,
    "start_time": "2022-05-22T11:56:06.961Z"
   },
   {
    "duration": 34,
    "start_time": "2022-05-22T12:07:15.099Z"
   },
   {
    "duration": 3,
    "start_time": "2022-05-22T12:08:04.669Z"
   },
   {
    "duration": 4,
    "start_time": "2022-05-22T12:09:08.058Z"
   },
   {
    "duration": 12,
    "start_time": "2022-05-22T12:10:11.260Z"
   },
   {
    "duration": 33,
    "start_time": "2022-05-22T12:10:13.027Z"
   },
   {
    "duration": 5,
    "start_time": "2022-05-22T12:10:30.421Z"
   },
   {
    "duration": 4,
    "start_time": "2022-05-22T12:11:20.461Z"
   },
   {
    "duration": 129,
    "start_time": "2022-05-22T12:11:40.705Z"
   },
   {
    "duration": 1262,
    "start_time": "2022-05-23T06:23:28.178Z"
   },
   {
    "duration": 642,
    "start_time": "2022-05-23T06:23:29.442Z"
   },
   {
    "duration": 12,
    "start_time": "2022-05-23T06:23:30.086Z"
   },
   {
    "duration": 8,
    "start_time": "2022-05-23T06:23:30.100Z"
   },
   {
    "duration": 32,
    "start_time": "2022-05-23T06:23:30.110Z"
   },
   {
    "duration": 19,
    "start_time": "2022-05-23T06:23:30.150Z"
   },
   {
    "duration": 23,
    "start_time": "2022-05-23T06:23:30.171Z"
   },
   {
    "duration": 36,
    "start_time": "2022-05-23T06:23:30.196Z"
   },
   {
    "duration": 91,
    "start_time": "2022-05-23T06:23:30.234Z"
   },
   {
    "duration": 20,
    "start_time": "2022-05-23T06:23:30.328Z"
   },
   {
    "duration": 144,
    "start_time": "2022-05-23T06:23:30.350Z"
   },
   {
    "duration": 12,
    "start_time": "2022-05-23T06:23:30.496Z"
   },
   {
    "duration": 68,
    "start_time": "2022-05-23T06:23:30.510Z"
   },
   {
    "duration": 52,
    "start_time": "2022-05-23T06:23:30.580Z"
   },
   {
    "duration": 5,
    "start_time": "2022-05-23T06:23:30.634Z"
   },
   {
    "duration": 23,
    "start_time": "2022-05-23T06:23:30.640Z"
   },
   {
    "duration": 50,
    "start_time": "2022-05-23T06:23:30.665Z"
   },
   {
    "duration": 19,
    "start_time": "2022-05-23T06:23:30.717Z"
   },
   {
    "duration": 38,
    "start_time": "2022-05-23T06:23:30.738Z"
   },
   {
    "duration": 85,
    "start_time": "2022-05-23T06:23:30.777Z"
   },
   {
    "duration": 12,
    "start_time": "2022-05-23T06:23:30.863Z"
   },
   {
    "duration": 39,
    "start_time": "2022-05-23T06:23:30.877Z"
   },
   {
    "duration": 42,
    "start_time": "2022-05-23T06:23:30.917Z"
   },
   {
    "duration": 39,
    "start_time": "2022-05-23T06:23:30.960Z"
   },
   {
    "duration": 228,
    "start_time": "2022-05-23T06:23:31.000Z"
   },
   {
    "duration": 17,
    "start_time": "2022-05-23T06:23:31.230Z"
   },
   {
    "duration": 62,
    "start_time": "2022-05-23T06:23:31.249Z"
   },
   {
    "duration": 16,
    "start_time": "2022-05-23T06:23:31.316Z"
   },
   {
    "duration": 51,
    "start_time": "2022-05-23T06:23:31.334Z"
   },
   {
    "duration": 24,
    "start_time": "2022-05-23T06:23:31.387Z"
   },
   {
    "duration": 22,
    "start_time": "2022-05-23T06:23:31.413Z"
   },
   {
    "duration": 22,
    "start_time": "2022-05-23T06:23:31.438Z"
   },
   {
    "duration": 24,
    "start_time": "2022-05-23T06:23:31.462Z"
   },
   {
    "duration": 30,
    "start_time": "2022-05-23T06:23:31.488Z"
   },
   {
    "duration": 84,
    "start_time": "2022-05-23T06:23:31.519Z"
   },
   {
    "duration": 27,
    "start_time": "2022-05-23T06:23:31.605Z"
   },
   {
    "duration": 27,
    "start_time": "2022-05-23T06:23:31.639Z"
   },
   {
    "duration": 11,
    "start_time": "2022-05-23T06:23:31.668Z"
   },
   {
    "duration": 18,
    "start_time": "2022-05-23T06:23:31.681Z"
   },
   {
    "duration": 16,
    "start_time": "2022-05-23T06:23:31.701Z"
   },
   {
    "duration": 22,
    "start_time": "2022-05-23T06:23:31.718Z"
   },
   {
    "duration": 55,
    "start_time": "2022-05-23T06:23:31.742Z"
   },
   {
    "duration": 8,
    "start_time": "2022-05-23T06:23:31.798Z"
   },
   {
    "duration": 13,
    "start_time": "2022-05-23T06:23:31.808Z"
   },
   {
    "duration": 42,
    "start_time": "2022-05-23T06:23:31.823Z"
   },
   {
    "duration": 41,
    "start_time": "2022-05-23T06:23:31.867Z"
   },
   {
    "duration": 16,
    "start_time": "2022-05-23T06:23:31.910Z"
   },
   {
    "duration": 46,
    "start_time": "2022-05-23T06:23:31.931Z"
   },
   {
    "duration": 18,
    "start_time": "2022-05-23T06:23:31.979Z"
   },
   {
    "duration": 13,
    "start_time": "2022-05-23T06:23:31.999Z"
   },
   {
    "duration": 31,
    "start_time": "2022-05-23T06:23:32.014Z"
   },
   {
    "duration": 45,
    "start_time": "2022-05-23T06:23:32.047Z"
   },
   {
    "duration": 10,
    "start_time": "2022-05-23T06:23:32.094Z"
   },
   {
    "duration": 13,
    "start_time": "2022-05-23T06:23:32.106Z"
   },
   {
    "duration": 50,
    "start_time": "2022-05-23T06:23:32.120Z"
   },
   {
    "duration": 52,
    "start_time": "2022-05-23T06:23:32.172Z"
   },
   {
    "duration": 34,
    "start_time": "2022-05-23T06:23:32.225Z"
   },
   {
    "duration": 12,
    "start_time": "2022-05-23T06:23:32.265Z"
   },
   {
    "duration": 26,
    "start_time": "2022-05-23T06:23:32.279Z"
   },
   {
    "duration": 14,
    "start_time": "2022-05-23T06:23:32.307Z"
   },
   {
    "duration": 186,
    "start_time": "2022-05-23T06:23:32.324Z"
   },
   {
    "duration": 26,
    "start_time": "2022-05-23T06:23:32.512Z"
   },
   {
    "duration": 33,
    "start_time": "2022-05-23T06:23:32.539Z"
   },
   {
    "duration": 13,
    "start_time": "2022-05-23T06:23:32.574Z"
   },
   {
    "duration": 8,
    "start_time": "2022-05-23T06:23:32.588Z"
   },
   {
    "duration": 7,
    "start_time": "2022-05-23T06:23:32.598Z"
   },
   {
    "duration": 29,
    "start_time": "2022-05-23T06:23:32.607Z"
   },
   {
    "duration": 180,
    "start_time": "2022-05-23T06:23:32.642Z"
   },
   {
    "duration": 38,
    "start_time": "2022-05-23T06:23:32.826Z"
   },
   {
    "duration": 51,
    "start_time": "2022-05-23T06:23:32.866Z"
   },
   {
    "duration": 53,
    "start_time": "2022-05-23T06:23:32.919Z"
   },
   {
    "duration": 47,
    "start_time": "2022-05-23T06:23:32.974Z"
   },
   {
    "duration": 16,
    "start_time": "2022-05-23T06:23:33.023Z"
   },
   {
    "duration": 55,
    "start_time": "2022-05-23T06:23:33.042Z"
   },
   {
    "duration": 17,
    "start_time": "2022-05-23T06:23:33.099Z"
   },
   {
    "duration": 360,
    "start_time": "2022-05-23T06:23:33.117Z"
   },
   {
    "duration": 196,
    "start_time": "2022-05-23T06:23:33.479Z"
   },
   {
    "duration": 16,
    "start_time": "2022-05-23T06:23:33.677Z"
   },
   {
    "duration": 26,
    "start_time": "2022-05-23T06:23:33.695Z"
   },
   {
    "duration": 65,
    "start_time": "2022-05-23T06:23:33.724Z"
   },
   {
    "duration": 13,
    "start_time": "2022-05-23T06:23:33.791Z"
   },
   {
    "duration": 23,
    "start_time": "2022-05-23T06:23:33.811Z"
   },
   {
    "duration": 49,
    "start_time": "2022-05-23T06:23:33.841Z"
   },
   {
    "duration": 12,
    "start_time": "2022-05-23T06:23:33.892Z"
   },
   {
    "duration": 23,
    "start_time": "2022-05-23T06:23:33.906Z"
   },
   {
    "duration": 252,
    "start_time": "2022-05-23T06:23:33.934Z"
   },
   {
    "duration": 8,
    "start_time": "2022-05-23T06:23:34.188Z"
   },
   {
    "duration": 208,
    "start_time": "2022-05-23T06:23:34.197Z"
   },
   {
    "duration": 135,
    "start_time": "2022-05-23T06:23:34.408Z"
   },
   {
    "duration": 103,
    "start_time": "2022-05-23T06:23:34.550Z"
   },
   {
    "duration": 98,
    "start_time": "2022-05-23T06:23:34.655Z"
   },
   {
    "duration": 114,
    "start_time": "2022-05-23T06:23:34.757Z"
   },
   {
    "duration": 42,
    "start_time": "2022-05-23T06:23:34.873Z"
   },
   {
    "duration": 53,
    "start_time": "2022-05-23T06:23:34.927Z"
   },
   {
    "duration": 5,
    "start_time": "2022-05-23T06:23:34.982Z"
   },
   {
    "duration": 63,
    "start_time": "2022-05-23T06:23:34.988Z"
   },
   {
    "duration": 36,
    "start_time": "2022-05-23T06:23:35.052Z"
   },
   {
    "duration": 6,
    "start_time": "2022-05-23T06:23:35.090Z"
   },
   {
    "duration": 64,
    "start_time": "2022-05-23T06:23:35.098Z"
   },
   {
    "duration": 7,
    "start_time": "2022-05-23T06:23:35.164Z"
   },
   {
    "duration": 36,
    "start_time": "2022-05-23T06:23:35.172Z"
   },
   {
    "duration": 38,
    "start_time": "2022-05-23T06:23:35.210Z"
   },
   {
    "duration": 31,
    "start_time": "2022-05-23T06:23:35.250Z"
   },
   {
    "duration": 37,
    "start_time": "2022-05-23T06:23:35.283Z"
   },
   {
    "duration": 9,
    "start_time": "2022-05-23T06:23:35.322Z"
   },
   {
    "duration": 66,
    "start_time": "2022-05-23T06:23:35.334Z"
   },
   {
    "duration": 9,
    "start_time": "2022-05-23T06:23:35.402Z"
   },
   {
    "duration": 147,
    "start_time": "2022-05-23T06:23:35.412Z"
   },
   {
    "duration": 0,
    "start_time": "2022-05-23T06:23:35.560Z"
   },
   {
    "duration": 0,
    "start_time": "2022-05-23T06:23:35.562Z"
   },
   {
    "duration": 0,
    "start_time": "2022-05-23T06:23:35.563Z"
   },
   {
    "duration": 0,
    "start_time": "2022-05-23T06:23:35.564Z"
   },
   {
    "duration": 0,
    "start_time": "2022-05-23T06:23:35.565Z"
   },
   {
    "duration": 0,
    "start_time": "2022-05-23T06:23:35.567Z"
   },
   {
    "duration": 0,
    "start_time": "2022-05-23T06:23:35.568Z"
   },
   {
    "duration": 0,
    "start_time": "2022-05-23T06:23:35.569Z"
   },
   {
    "duration": 0,
    "start_time": "2022-05-23T06:23:35.570Z"
   },
   {
    "duration": 0,
    "start_time": "2022-05-23T06:23:35.571Z"
   },
   {
    "duration": 45,
    "start_time": "2022-05-23T06:25:21.829Z"
   },
   {
    "duration": 912,
    "start_time": "2022-05-23T06:25:25.955Z"
   },
   {
    "duration": 6,
    "start_time": "2022-05-23T06:25:33.871Z"
   },
   {
    "duration": 6,
    "start_time": "2022-05-23T06:26:16.298Z"
   },
   {
    "duration": 95,
    "start_time": "2022-05-23T06:29:57.686Z"
   },
   {
    "duration": 104,
    "start_time": "2022-05-23T06:30:36.161Z"
   },
   {
    "duration": 11,
    "start_time": "2022-05-23T06:30:39.464Z"
   },
   {
    "duration": 23,
    "start_time": "2022-05-23T06:33:08.209Z"
   },
   {
    "duration": 30,
    "start_time": "2022-05-23T06:33:18.321Z"
   },
   {
    "duration": 34,
    "start_time": "2022-05-23T06:33:51.848Z"
   },
   {
    "duration": 38,
    "start_time": "2022-05-23T06:35:33.942Z"
   },
   {
    "duration": 44,
    "start_time": "2022-05-23T06:36:13.446Z"
   },
   {
    "duration": 12,
    "start_time": "2022-05-23T06:37:00.912Z"
   },
   {
    "duration": 45,
    "start_time": "2022-05-23T06:37:50.048Z"
   },
   {
    "duration": 237,
    "start_time": "2022-05-23T06:45:46.421Z"
   },
   {
    "duration": 582,
    "start_time": "2022-05-23T06:45:47.127Z"
   },
   {
    "duration": 5,
    "start_time": "2022-05-23T06:45:47.974Z"
   },
   {
    "duration": 4,
    "start_time": "2022-05-23T06:45:48.289Z"
   },
   {
    "duration": 15,
    "start_time": "2022-05-23T06:45:48.549Z"
   },
   {
    "duration": 7,
    "start_time": "2022-05-23T06:45:49.685Z"
   },
   {
    "duration": 6,
    "start_time": "2022-05-23T06:46:21.302Z"
   },
   {
    "duration": 4,
    "start_time": "2022-05-23T06:46:22.874Z"
   },
   {
    "duration": 4,
    "start_time": "2022-05-23T06:46:23.186Z"
   },
   {
    "duration": 4,
    "start_time": "2022-05-23T06:46:23.469Z"
   },
   {
    "duration": 56,
    "start_time": "2022-05-23T07:41:10.917Z"
   },
   {
    "duration": 1314,
    "start_time": "2022-05-23T07:41:24.362Z"
   },
   {
    "duration": 846,
    "start_time": "2022-05-23T07:41:25.678Z"
   },
   {
    "duration": 13,
    "start_time": "2022-05-23T07:41:26.525Z"
   },
   {
    "duration": 7,
    "start_time": "2022-05-23T07:41:26.540Z"
   },
   {
    "duration": 8,
    "start_time": "2022-05-23T07:41:26.550Z"
   },
   {
    "duration": 9,
    "start_time": "2022-05-23T07:41:26.560Z"
   },
   {
    "duration": 11,
    "start_time": "2022-05-23T07:41:26.570Z"
   },
   {
    "duration": 57,
    "start_time": "2022-05-23T07:41:26.583Z"
   },
   {
    "duration": 59,
    "start_time": "2022-05-23T07:41:26.641Z"
   },
   {
    "duration": 11,
    "start_time": "2022-05-23T07:41:26.701Z"
   },
   {
    "duration": 109,
    "start_time": "2022-05-23T07:41:26.714Z"
   },
   {
    "duration": 10,
    "start_time": "2022-05-23T07:41:26.825Z"
   },
   {
    "duration": 17,
    "start_time": "2022-05-23T07:41:26.837Z"
   },
   {
    "duration": 43,
    "start_time": "2022-05-23T07:41:26.857Z"
   },
   {
    "duration": 5,
    "start_time": "2022-05-23T07:41:26.923Z"
   },
   {
    "duration": 14,
    "start_time": "2022-05-23T07:41:26.930Z"
   },
   {
    "duration": 41,
    "start_time": "2022-05-23T07:41:26.945Z"
   },
   {
    "duration": 7,
    "start_time": "2022-05-23T07:41:26.988Z"
   },
   {
    "duration": 31,
    "start_time": "2022-05-23T07:41:26.997Z"
   },
   {
    "duration": 34,
    "start_time": "2022-05-23T07:41:27.030Z"
   },
   {
    "duration": 9,
    "start_time": "2022-05-23T07:41:27.065Z"
   },
   {
    "duration": 57,
    "start_time": "2022-05-23T07:41:27.075Z"
   },
   {
    "duration": 5,
    "start_time": "2022-05-23T07:41:27.134Z"
   },
   {
    "duration": 35,
    "start_time": "2022-05-23T07:41:27.141Z"
   },
   {
    "duration": 203,
    "start_time": "2022-05-23T07:41:27.178Z"
   },
   {
    "duration": 10,
    "start_time": "2022-05-23T07:41:27.383Z"
   },
   {
    "duration": 13,
    "start_time": "2022-05-23T07:41:27.394Z"
   },
   {
    "duration": 22,
    "start_time": "2022-05-23T07:41:27.408Z"
   },
   {
    "duration": 11,
    "start_time": "2022-05-23T07:41:27.431Z"
   },
   {
    "duration": 31,
    "start_time": "2022-05-23T07:41:27.443Z"
   },
   {
    "duration": 8,
    "start_time": "2022-05-23T07:41:27.476Z"
   },
   {
    "duration": 6,
    "start_time": "2022-05-23T07:41:27.486Z"
   },
   {
    "duration": 14,
    "start_time": "2022-05-23T07:41:27.494Z"
   },
   {
    "duration": 14,
    "start_time": "2022-05-23T07:41:27.509Z"
   },
   {
    "duration": 39,
    "start_time": "2022-05-23T07:41:27.525Z"
   },
   {
    "duration": 12,
    "start_time": "2022-05-23T07:41:27.567Z"
   },
   {
    "duration": 13,
    "start_time": "2022-05-23T07:41:27.581Z"
   },
   {
    "duration": 15,
    "start_time": "2022-05-23T07:41:27.595Z"
   },
   {
    "duration": 10,
    "start_time": "2022-05-23T07:41:27.622Z"
   },
   {
    "duration": 34,
    "start_time": "2022-05-23T07:41:27.633Z"
   },
   {
    "duration": 10,
    "start_time": "2022-05-23T07:41:27.673Z"
   },
   {
    "duration": 23,
    "start_time": "2022-05-23T07:41:27.685Z"
   },
   {
    "duration": 4,
    "start_time": "2022-05-23T07:41:27.710Z"
   },
   {
    "duration": 11,
    "start_time": "2022-05-23T07:41:27.716Z"
   },
   {
    "duration": 31,
    "start_time": "2022-05-23T07:41:27.728Z"
   },
   {
    "duration": 23,
    "start_time": "2022-05-23T07:41:27.760Z"
   },
   {
    "duration": 12,
    "start_time": "2022-05-23T07:41:27.784Z"
   },
   {
    "duration": 19,
    "start_time": "2022-05-23T07:41:27.797Z"
   },
   {
    "duration": 24,
    "start_time": "2022-05-23T07:41:27.817Z"
   },
   {
    "duration": 16,
    "start_time": "2022-05-23T07:41:27.843Z"
   },
   {
    "duration": 12,
    "start_time": "2022-05-23T07:41:27.861Z"
   },
   {
    "duration": 13,
    "start_time": "2022-05-23T07:41:27.874Z"
   },
   {
    "duration": 21,
    "start_time": "2022-05-23T07:41:27.889Z"
   },
   {
    "duration": 12,
    "start_time": "2022-05-23T07:41:27.912Z"
   },
   {
    "duration": 34,
    "start_time": "2022-05-23T07:41:27.926Z"
   },
   {
    "duration": 23,
    "start_time": "2022-05-23T07:41:27.962Z"
   },
   {
    "duration": 50,
    "start_time": "2022-05-23T07:41:27.987Z"
   },
   {
    "duration": 12,
    "start_time": "2022-05-23T07:41:28.039Z"
   },
   {
    "duration": 6,
    "start_time": "2022-05-23T07:41:28.053Z"
   },
   {
    "duration": 15,
    "start_time": "2022-05-23T07:41:28.061Z"
   },
   {
    "duration": 102,
    "start_time": "2022-05-23T07:41:28.078Z"
   },
   {
    "duration": 36,
    "start_time": "2022-05-23T07:41:28.182Z"
   },
   {
    "duration": 55,
    "start_time": "2022-05-23T07:41:28.219Z"
   },
   {
    "duration": 10,
    "start_time": "2022-05-23T07:41:28.275Z"
   },
   {
    "duration": 168,
    "start_time": "2022-05-23T07:41:28.287Z"
   },
   {
    "duration": 14,
    "start_time": "2022-05-23T07:41:28.457Z"
   },
   {
    "duration": 21,
    "start_time": "2022-05-23T07:41:28.472Z"
   },
   {
    "duration": 7,
    "start_time": "2022-05-23T07:41:28.495Z"
   },
   {
    "duration": 26,
    "start_time": "2022-05-23T07:41:28.503Z"
   },
   {
    "duration": 7,
    "start_time": "2022-05-23T07:41:28.531Z"
   },
   {
    "duration": 11,
    "start_time": "2022-05-23T07:41:28.539Z"
   },
   {
    "duration": 154,
    "start_time": "2022-05-23T07:41:28.551Z"
   },
   {
    "duration": 29,
    "start_time": "2022-05-23T07:41:28.707Z"
   },
   {
    "duration": 17,
    "start_time": "2022-05-23T07:41:28.737Z"
   },
   {
    "duration": 5,
    "start_time": "2022-05-23T07:41:28.756Z"
   },
   {
    "duration": 19,
    "start_time": "2022-05-23T07:41:28.762Z"
   },
   {
    "duration": 5,
    "start_time": "2022-05-23T07:41:28.782Z"
   },
   {
    "duration": 46,
    "start_time": "2022-05-23T07:41:28.788Z"
   },
   {
    "duration": 12,
    "start_time": "2022-05-23T07:41:28.835Z"
   },
   {
    "duration": 262,
    "start_time": "2022-05-23T07:41:28.849Z"
   },
   {
    "duration": 168,
    "start_time": "2022-05-23T07:41:29.112Z"
   },
   {
    "duration": 16,
    "start_time": "2022-05-23T07:41:29.282Z"
   },
   {
    "duration": 12,
    "start_time": "2022-05-23T07:41:29.299Z"
   },
   {
    "duration": 20,
    "start_time": "2022-05-23T07:41:29.312Z"
   },
   {
    "duration": 5,
    "start_time": "2022-05-23T07:41:29.334Z"
   },
   {
    "duration": 13,
    "start_time": "2022-05-23T07:41:29.340Z"
   },
   {
    "duration": 10,
    "start_time": "2022-05-23T07:41:29.354Z"
   },
   {
    "duration": 12,
    "start_time": "2022-05-23T07:41:29.366Z"
   },
   {
    "duration": 10,
    "start_time": "2022-05-23T07:41:29.379Z"
   },
   {
    "duration": 203,
    "start_time": "2022-05-23T07:41:29.390Z"
   },
   {
    "duration": 7,
    "start_time": "2022-05-23T07:41:29.594Z"
   },
   {
    "duration": 171,
    "start_time": "2022-05-23T07:41:29.602Z"
   },
   {
    "duration": 106,
    "start_time": "2022-05-23T07:41:29.774Z"
   },
   {
    "duration": 107,
    "start_time": "2022-05-23T07:41:29.882Z"
   },
   {
    "duration": 96,
    "start_time": "2022-05-23T07:41:29.991Z"
   },
   {
    "duration": 102,
    "start_time": "2022-05-23T07:41:30.089Z"
   },
   {
    "duration": 40,
    "start_time": "2022-05-23T07:41:30.192Z"
   },
   {
    "duration": 43,
    "start_time": "2022-05-23T07:41:30.234Z"
   },
   {
    "duration": 5,
    "start_time": "2022-05-23T07:41:30.279Z"
   },
   {
    "duration": 51,
    "start_time": "2022-05-23T07:41:30.286Z"
   },
   {
    "duration": 40,
    "start_time": "2022-05-23T07:41:30.339Z"
   },
   {
    "duration": 15,
    "start_time": "2022-05-23T07:41:30.381Z"
   },
   {
    "duration": 40,
    "start_time": "2022-05-23T07:41:30.398Z"
   },
   {
    "duration": 22,
    "start_time": "2022-05-23T07:41:30.440Z"
   },
   {
    "duration": 68,
    "start_time": "2022-05-23T07:41:30.463Z"
   },
   {
    "duration": 22,
    "start_time": "2022-05-23T07:41:30.533Z"
   },
   {
    "duration": 18,
    "start_time": "2022-05-23T07:41:30.557Z"
   },
   {
    "duration": 50,
    "start_time": "2022-05-23T07:41:30.577Z"
   },
   {
    "duration": 22,
    "start_time": "2022-05-23T07:41:30.629Z"
   },
   {
    "duration": 44,
    "start_time": "2022-05-23T07:41:30.653Z"
   },
   {
    "duration": 14,
    "start_time": "2022-05-23T07:41:30.699Z"
   },
   {
    "duration": 122,
    "start_time": "2022-05-23T07:41:30.714Z"
   },
   {
    "duration": 0,
    "start_time": "2022-05-23T07:41:30.839Z"
   },
   {
    "duration": 0,
    "start_time": "2022-05-23T07:41:30.840Z"
   },
   {
    "duration": 0,
    "start_time": "2022-05-23T07:41:30.841Z"
   },
   {
    "duration": 0,
    "start_time": "2022-05-23T07:41:30.842Z"
   },
   {
    "duration": 0,
    "start_time": "2022-05-23T07:41:30.843Z"
   },
   {
    "duration": 0,
    "start_time": "2022-05-23T07:41:30.844Z"
   },
   {
    "duration": 0,
    "start_time": "2022-05-23T07:41:30.846Z"
   },
   {
    "duration": 0,
    "start_time": "2022-05-23T07:41:30.847Z"
   },
   {
    "duration": 0,
    "start_time": "2022-05-23T07:41:30.848Z"
   },
   {
    "duration": 0,
    "start_time": "2022-05-23T07:41:30.849Z"
   },
   {
    "duration": 17,
    "start_time": "2022-05-23T07:49:37.479Z"
   },
   {
    "duration": 8,
    "start_time": "2022-05-23T07:50:53.832Z"
   },
   {
    "duration": 8,
    "start_time": "2022-05-23T07:50:55.539Z"
   },
   {
    "duration": 36,
    "start_time": "2022-05-23T07:51:26.201Z"
   },
   {
    "duration": 19,
    "start_time": "2022-05-23T07:52:41.442Z"
   },
   {
    "duration": 21,
    "start_time": "2022-05-23T07:53:04.065Z"
   },
   {
    "duration": 22,
    "start_time": "2022-05-23T07:53:16.076Z"
   },
   {
    "duration": 5,
    "start_time": "2022-05-23T07:53:17.669Z"
   },
   {
    "duration": 18,
    "start_time": "2022-05-23T07:53:39.202Z"
   },
   {
    "duration": 5,
    "start_time": "2022-05-23T07:53:43.082Z"
   },
   {
    "duration": 14,
    "start_time": "2022-05-23T07:53:47.673Z"
   },
   {
    "duration": 13,
    "start_time": "2022-05-23T07:53:50.661Z"
   },
   {
    "duration": 198,
    "start_time": "2022-05-23T07:53:52.762Z"
   },
   {
    "duration": 138,
    "start_time": "2022-05-23T07:53:55.237Z"
   },
   {
    "duration": 165,
    "start_time": "2022-05-23T07:57:58.115Z"
   },
   {
    "duration": 1197,
    "start_time": "2022-05-23T08:03:49.001Z"
   },
   {
    "duration": 635,
    "start_time": "2022-05-23T08:03:50.200Z"
   },
   {
    "duration": 12,
    "start_time": "2022-05-23T08:03:50.837Z"
   },
   {
    "duration": 14,
    "start_time": "2022-05-23T08:03:50.851Z"
   },
   {
    "duration": 13,
    "start_time": "2022-05-23T08:03:50.868Z"
   },
   {
    "duration": 11,
    "start_time": "2022-05-23T08:03:50.882Z"
   },
   {
    "duration": 13,
    "start_time": "2022-05-23T08:03:50.894Z"
   },
   {
    "duration": 31,
    "start_time": "2022-05-23T08:03:50.909Z"
   },
   {
    "duration": 61,
    "start_time": "2022-05-23T08:03:50.942Z"
   },
   {
    "duration": 30,
    "start_time": "2022-05-23T08:03:51.005Z"
   },
   {
    "duration": 117,
    "start_time": "2022-05-23T08:03:51.039Z"
   },
   {
    "duration": 9,
    "start_time": "2022-05-23T08:03:51.158Z"
   },
   {
    "duration": 17,
    "start_time": "2022-05-23T08:03:51.169Z"
   },
   {
    "duration": 63,
    "start_time": "2022-05-23T08:03:51.189Z"
   },
   {
    "duration": 5,
    "start_time": "2022-05-23T08:03:51.254Z"
   },
   {
    "duration": 14,
    "start_time": "2022-05-23T08:03:51.261Z"
   },
   {
    "duration": 68,
    "start_time": "2022-05-23T08:03:51.277Z"
   },
   {
    "duration": 8,
    "start_time": "2022-05-23T08:03:51.347Z"
   },
   {
    "duration": 12,
    "start_time": "2022-05-23T08:03:51.356Z"
   },
   {
    "duration": 61,
    "start_time": "2022-05-23T08:03:51.369Z"
   },
   {
    "duration": 11,
    "start_time": "2022-05-23T08:03:51.436Z"
   },
   {
    "duration": 44,
    "start_time": "2022-05-23T08:03:51.449Z"
   },
   {
    "duration": 5,
    "start_time": "2022-05-23T08:03:51.495Z"
   },
   {
    "duration": 53,
    "start_time": "2022-05-23T08:03:51.501Z"
   },
   {
    "duration": 196,
    "start_time": "2022-05-23T08:03:51.556Z"
   },
   {
    "duration": 10,
    "start_time": "2022-05-23T08:03:51.754Z"
   },
   {
    "duration": 9,
    "start_time": "2022-05-23T08:03:51.765Z"
   },
   {
    "duration": 11,
    "start_time": "2022-05-23T08:03:51.776Z"
   },
   {
    "duration": 11,
    "start_time": "2022-05-23T08:03:51.789Z"
   },
   {
    "duration": 39,
    "start_time": "2022-05-23T08:03:51.801Z"
   },
   {
    "duration": 8,
    "start_time": "2022-05-23T08:03:51.841Z"
   },
   {
    "duration": 7,
    "start_time": "2022-05-23T08:03:51.851Z"
   },
   {
    "duration": 13,
    "start_time": "2022-05-23T08:03:51.860Z"
   },
   {
    "duration": 12,
    "start_time": "2022-05-23T08:03:51.874Z"
   },
   {
    "duration": 70,
    "start_time": "2022-05-23T08:03:51.888Z"
   },
   {
    "duration": 9,
    "start_time": "2022-05-23T08:03:51.960Z"
   },
   {
    "duration": 9,
    "start_time": "2022-05-23T08:03:51.971Z"
   },
   {
    "duration": 9,
    "start_time": "2022-05-23T08:03:51.982Z"
   },
   {
    "duration": 43,
    "start_time": "2022-05-23T08:03:51.993Z"
   },
   {
    "duration": 13,
    "start_time": "2022-05-23T08:03:52.038Z"
   },
   {
    "duration": 12,
    "start_time": "2022-05-23T08:03:52.058Z"
   },
   {
    "duration": 29,
    "start_time": "2022-05-23T08:03:52.072Z"
   },
   {
    "duration": 37,
    "start_time": "2022-05-23T08:03:52.103Z"
   },
   {
    "duration": 12,
    "start_time": "2022-05-23T08:03:52.141Z"
   },
   {
    "duration": 11,
    "start_time": "2022-05-23T08:03:52.155Z"
   },
   {
    "duration": 19,
    "start_time": "2022-05-23T08:03:52.167Z"
   },
   {
    "duration": 9,
    "start_time": "2022-05-23T08:03:52.188Z"
   },
   {
    "duration": 9,
    "start_time": "2022-05-23T08:03:52.199Z"
   },
   {
    "duration": 17,
    "start_time": "2022-05-23T08:03:52.226Z"
   },
   {
    "duration": 7,
    "start_time": "2022-05-23T08:03:52.245Z"
   },
   {
    "duration": 5,
    "start_time": "2022-05-23T08:03:52.254Z"
   },
   {
    "duration": 14,
    "start_time": "2022-05-23T08:03:52.261Z"
   },
   {
    "duration": 17,
    "start_time": "2022-05-23T08:03:52.277Z"
   },
   {
    "duration": 20,
    "start_time": "2022-05-23T08:03:52.323Z"
   },
   {
    "duration": 22,
    "start_time": "2022-05-23T08:03:52.345Z"
   },
   {
    "duration": 22,
    "start_time": "2022-05-23T08:03:52.369Z"
   },
   {
    "duration": 46,
    "start_time": "2022-05-23T08:03:52.393Z"
   },
   {
    "duration": 12,
    "start_time": "2022-05-23T08:03:52.441Z"
   },
   {
    "duration": 6,
    "start_time": "2022-05-23T08:03:52.455Z"
   },
   {
    "duration": 15,
    "start_time": "2022-05-23T08:03:52.463Z"
   },
   {
    "duration": 110,
    "start_time": "2022-05-23T08:03:52.480Z"
   },
   {
    "duration": 51,
    "start_time": "2022-05-23T08:03:52.592Z"
   },
   {
    "duration": 59,
    "start_time": "2022-05-23T08:03:52.645Z"
   },
   {
    "duration": 33,
    "start_time": "2022-05-23T08:03:52.706Z"
   },
   {
    "duration": 191,
    "start_time": "2022-05-23T08:03:52.741Z"
   },
   {
    "duration": 18,
    "start_time": "2022-05-23T08:03:52.933Z"
   },
   {
    "duration": 27,
    "start_time": "2022-05-23T08:03:52.953Z"
   },
   {
    "duration": 6,
    "start_time": "2022-05-23T08:03:52.981Z"
   },
   {
    "duration": 12,
    "start_time": "2022-05-23T08:03:52.989Z"
   },
   {
    "duration": 35,
    "start_time": "2022-05-23T08:03:53.002Z"
   },
   {
    "duration": 10,
    "start_time": "2022-05-23T08:03:53.038Z"
   },
   {
    "duration": 145,
    "start_time": "2022-05-23T08:03:53.050Z"
   },
   {
    "duration": 40,
    "start_time": "2022-05-23T08:03:53.197Z"
   },
   {
    "duration": 20,
    "start_time": "2022-05-23T08:03:53.239Z"
   },
   {
    "duration": 4,
    "start_time": "2022-05-23T08:03:53.261Z"
   },
   {
    "duration": 19,
    "start_time": "2022-05-23T08:03:53.267Z"
   },
   {
    "duration": 5,
    "start_time": "2022-05-23T08:03:53.288Z"
   },
   {
    "duration": 42,
    "start_time": "2022-05-23T08:03:53.295Z"
   },
   {
    "duration": 11,
    "start_time": "2022-05-23T08:03:53.339Z"
   },
   {
    "duration": 240,
    "start_time": "2022-05-23T08:03:53.351Z"
   },
   {
    "duration": 161,
    "start_time": "2022-05-23T08:03:53.593Z"
   },
   {
    "duration": 15,
    "start_time": "2022-05-23T08:03:53.755Z"
   },
   {
    "duration": 6,
    "start_time": "2022-05-23T08:03:53.771Z"
   },
   {
    "duration": 14,
    "start_time": "2022-05-23T08:03:53.778Z"
   },
   {
    "duration": 4,
    "start_time": "2022-05-23T08:03:53.793Z"
   },
   {
    "duration": 27,
    "start_time": "2022-05-23T08:03:53.824Z"
   },
   {
    "duration": 12,
    "start_time": "2022-05-23T08:03:53.853Z"
   },
   {
    "duration": 16,
    "start_time": "2022-05-23T08:03:53.866Z"
   },
   {
    "duration": 10,
    "start_time": "2022-05-23T08:03:53.883Z"
   },
   {
    "duration": 226,
    "start_time": "2022-05-23T08:03:53.895Z"
   },
   {
    "duration": 14,
    "start_time": "2022-05-23T08:03:54.123Z"
   },
   {
    "duration": 179,
    "start_time": "2022-05-23T08:03:54.138Z"
   },
   {
    "duration": 114,
    "start_time": "2022-05-23T08:03:54.325Z"
   },
   {
    "duration": 111,
    "start_time": "2022-05-23T08:03:54.440Z"
   },
   {
    "duration": 94,
    "start_time": "2022-05-23T08:03:54.553Z"
   },
   {
    "duration": 112,
    "start_time": "2022-05-23T08:03:54.649Z"
   },
   {
    "duration": 39,
    "start_time": "2022-05-23T08:03:54.763Z"
   },
   {
    "duration": 55,
    "start_time": "2022-05-23T08:03:54.804Z"
   },
   {
    "duration": 5,
    "start_time": "2022-05-23T08:03:54.861Z"
   },
   {
    "duration": 72,
    "start_time": "2022-05-23T08:03:54.868Z"
   },
   {
    "duration": 37,
    "start_time": "2022-05-23T08:03:54.942Z"
   },
   {
    "duration": 4,
    "start_time": "2022-05-23T08:03:54.981Z"
   },
   {
    "duration": 54,
    "start_time": "2022-05-23T08:03:54.987Z"
   },
   {
    "duration": 6,
    "start_time": "2022-05-23T08:03:55.043Z"
   },
   {
    "duration": 37,
    "start_time": "2022-05-23T08:03:55.050Z"
   },
   {
    "duration": 4,
    "start_time": "2022-05-23T08:03:55.089Z"
   },
   {
    "duration": 33,
    "start_time": "2022-05-23T08:03:55.095Z"
   },
   {
    "duration": 35,
    "start_time": "2022-05-23T08:03:55.129Z"
   },
   {
    "duration": 5,
    "start_time": "2022-05-23T08:03:55.166Z"
   },
   {
    "duration": 56,
    "start_time": "2022-05-23T08:03:55.172Z"
   },
   {
    "duration": 4,
    "start_time": "2022-05-23T08:03:55.230Z"
   },
   {
    "duration": 147,
    "start_time": "2022-05-23T08:03:55.235Z"
   },
   {
    "duration": 156,
    "start_time": "2022-05-23T08:03:55.383Z"
   },
   {
    "duration": 13,
    "start_time": "2022-05-23T08:03:55.541Z"
   },
   {
    "duration": 4,
    "start_time": "2022-05-23T08:03:55.556Z"
   },
   {
    "duration": 5,
    "start_time": "2022-05-23T08:03:55.562Z"
   },
   {
    "duration": 8,
    "start_time": "2022-05-23T08:03:55.569Z"
   },
   {
    "duration": 10,
    "start_time": "2022-05-23T08:03:55.578Z"
   },
   {
    "duration": 46,
    "start_time": "2022-05-23T08:03:55.589Z"
   },
   {
    "duration": 8,
    "start_time": "2022-05-23T08:03:55.637Z"
   },
   {
    "duration": 6,
    "start_time": "2022-05-23T08:03:55.646Z"
   },
   {
    "duration": 4,
    "start_time": "2022-05-23T08:03:55.658Z"
   },
   {
    "duration": 1223,
    "start_time": "2022-05-23T08:45:00.046Z"
   },
   {
    "duration": 648,
    "start_time": "2022-05-23T08:45:01.271Z"
   },
   {
    "duration": 27,
    "start_time": "2022-05-23T08:45:01.921Z"
   },
   {
    "duration": 49,
    "start_time": "2022-05-23T08:45:01.951Z"
   },
   {
    "duration": 54,
    "start_time": "2022-05-23T08:45:02.002Z"
   },
   {
    "duration": 33,
    "start_time": "2022-05-23T08:45:02.058Z"
   },
   {
    "duration": 50,
    "start_time": "2022-05-23T08:45:02.093Z"
   },
   {
    "duration": 47,
    "start_time": "2022-05-23T08:45:02.146Z"
   },
   {
    "duration": 150,
    "start_time": "2022-05-23T08:45:02.195Z"
   },
   {
    "duration": 15,
    "start_time": "2022-05-23T08:45:02.348Z"
   },
   {
    "duration": 115,
    "start_time": "2022-05-23T08:45:02.365Z"
   },
   {
    "duration": 11,
    "start_time": "2022-05-23T08:45:02.482Z"
   },
   {
    "duration": 45,
    "start_time": "2022-05-23T08:45:02.495Z"
   },
   {
    "duration": 105,
    "start_time": "2022-05-23T08:45:02.541Z"
   },
   {
    "duration": 6,
    "start_time": "2022-05-23T08:45:02.649Z"
   },
   {
    "duration": 32,
    "start_time": "2022-05-23T08:45:02.657Z"
   },
   {
    "duration": 95,
    "start_time": "2022-05-23T08:45:02.690Z"
   },
   {
    "duration": 9,
    "start_time": "2022-05-23T08:45:02.787Z"
   },
   {
    "duration": 20,
    "start_time": "2022-05-23T08:45:02.798Z"
   },
   {
    "duration": 51,
    "start_time": "2022-05-23T08:45:02.820Z"
   },
   {
    "duration": 10,
    "start_time": "2022-05-23T08:45:02.873Z"
   },
   {
    "duration": 145,
    "start_time": "2022-05-23T08:45:02.884Z"
   },
   {
    "duration": 10,
    "start_time": "2022-05-23T08:45:03.037Z"
   },
   {
    "duration": 32,
    "start_time": "2022-05-23T08:45:03.049Z"
   },
   {
    "duration": 188,
    "start_time": "2022-05-23T08:45:03.083Z"
   },
   {
    "duration": 11,
    "start_time": "2022-05-23T08:45:03.274Z"
   },
   {
    "duration": 17,
    "start_time": "2022-05-23T08:45:03.287Z"
   },
   {
    "duration": 51,
    "start_time": "2022-05-23T08:45:03.309Z"
   },
   {
    "duration": 13,
    "start_time": "2022-05-23T08:45:03.361Z"
   },
   {
    "duration": 19,
    "start_time": "2022-05-23T08:45:03.375Z"
   },
   {
    "duration": 23,
    "start_time": "2022-05-23T08:45:03.396Z"
   },
   {
    "duration": 21,
    "start_time": "2022-05-23T08:45:03.421Z"
   },
   {
    "duration": 30,
    "start_time": "2022-05-23T08:45:03.446Z"
   },
   {
    "duration": 25,
    "start_time": "2022-05-23T08:45:03.478Z"
   },
   {
    "duration": 92,
    "start_time": "2022-05-23T08:45:03.504Z"
   },
   {
    "duration": 21,
    "start_time": "2022-05-23T08:45:03.597Z"
   },
   {
    "duration": 33,
    "start_time": "2022-05-23T08:45:03.620Z"
   },
   {
    "duration": 16,
    "start_time": "2022-05-23T08:45:03.655Z"
   },
   {
    "duration": 28,
    "start_time": "2022-05-23T08:45:03.672Z"
   },
   {
    "duration": 15,
    "start_time": "2022-05-23T08:45:03.702Z"
   },
   {
    "duration": 14,
    "start_time": "2022-05-23T08:45:03.719Z"
   },
   {
    "duration": 23,
    "start_time": "2022-05-23T08:45:03.742Z"
   },
   {
    "duration": 5,
    "start_time": "2022-05-23T08:45:03.767Z"
   },
   {
    "duration": 16,
    "start_time": "2022-05-23T08:45:03.773Z"
   },
   {
    "duration": 20,
    "start_time": "2022-05-23T08:45:03.791Z"
   },
   {
    "duration": 30,
    "start_time": "2022-05-23T08:45:03.813Z"
   },
   {
    "duration": 23,
    "start_time": "2022-05-23T08:45:03.844Z"
   },
   {
    "duration": 11,
    "start_time": "2022-05-23T08:45:03.869Z"
   },
   {
    "duration": 37,
    "start_time": "2022-05-23T08:45:03.883Z"
   },
   {
    "duration": 30,
    "start_time": "2022-05-23T08:45:03.923Z"
   },
   {
    "duration": 7,
    "start_time": "2022-05-23T08:45:03.955Z"
   },
   {
    "duration": 18,
    "start_time": "2022-05-23T08:45:03.964Z"
   },
   {
    "duration": 20,
    "start_time": "2022-05-23T08:45:03.984Z"
   },
   {
    "duration": 14,
    "start_time": "2022-05-23T08:45:04.005Z"
   },
   {
    "duration": 11,
    "start_time": "2022-05-23T08:45:04.021Z"
   },
   {
    "duration": 23,
    "start_time": "2022-05-23T08:45:04.040Z"
   },
   {
    "duration": 45,
    "start_time": "2022-05-23T08:45:04.065Z"
   },
   {
    "duration": 27,
    "start_time": "2022-05-23T08:45:04.111Z"
   },
   {
    "duration": 6,
    "start_time": "2022-05-23T08:45:04.140Z"
   },
   {
    "duration": 42,
    "start_time": "2022-05-23T08:45:04.148Z"
   },
   {
    "duration": 84,
    "start_time": "2022-05-23T08:45:04.192Z"
   },
   {
    "duration": 59,
    "start_time": "2022-05-23T08:45:04.278Z"
   },
   {
    "duration": 56,
    "start_time": "2022-05-23T08:45:04.339Z"
   },
   {
    "duration": 9,
    "start_time": "2022-05-23T08:45:04.397Z"
   },
   {
    "duration": 158,
    "start_time": "2022-05-23T08:45:04.407Z"
   },
   {
    "duration": 20,
    "start_time": "2022-05-23T08:45:04.566Z"
   },
   {
    "duration": 16,
    "start_time": "2022-05-23T08:45:04.589Z"
   },
   {
    "duration": 36,
    "start_time": "2022-05-23T08:45:04.607Z"
   },
   {
    "duration": 18,
    "start_time": "2022-05-23T08:45:04.644Z"
   },
   {
    "duration": 8,
    "start_time": "2022-05-23T08:45:04.664Z"
   },
   {
    "duration": 13,
    "start_time": "2022-05-23T08:45:04.674Z"
   },
   {
    "duration": 178,
    "start_time": "2022-05-23T08:45:04.689Z"
   },
   {
    "duration": 32,
    "start_time": "2022-05-23T08:45:04.869Z"
   },
   {
    "duration": 44,
    "start_time": "2022-05-23T08:45:04.902Z"
   },
   {
    "duration": 8,
    "start_time": "2022-05-23T08:45:04.948Z"
   },
   {
    "duration": 27,
    "start_time": "2022-05-23T08:45:04.958Z"
   },
   {
    "duration": 5,
    "start_time": "2022-05-23T08:45:04.987Z"
   },
   {
    "duration": 19,
    "start_time": "2022-05-23T08:45:04.994Z"
   },
   {
    "duration": 21,
    "start_time": "2022-05-23T08:45:05.034Z"
   },
   {
    "duration": 250,
    "start_time": "2022-05-23T08:45:05.057Z"
   },
   {
    "duration": 162,
    "start_time": "2022-05-23T08:45:05.309Z"
   },
   {
    "duration": 20,
    "start_time": "2022-05-23T08:45:05.479Z"
   },
   {
    "duration": 18,
    "start_time": "2022-05-23T08:45:05.501Z"
   },
   {
    "duration": 24,
    "start_time": "2022-05-23T08:45:05.528Z"
   },
   {
    "duration": 6,
    "start_time": "2022-05-23T08:45:05.554Z"
   },
   {
    "duration": 19,
    "start_time": "2022-05-23T08:45:05.561Z"
   },
   {
    "duration": 11,
    "start_time": "2022-05-23T08:45:05.582Z"
   },
   {
    "duration": 11,
    "start_time": "2022-05-23T08:45:05.595Z"
   },
   {
    "duration": 50,
    "start_time": "2022-05-23T08:45:05.608Z"
   },
   {
    "duration": 208,
    "start_time": "2022-05-23T08:45:05.660Z"
   },
   {
    "duration": 7,
    "start_time": "2022-05-23T08:45:05.870Z"
   },
   {
    "duration": 225,
    "start_time": "2022-05-23T08:45:05.879Z"
   },
   {
    "duration": 234,
    "start_time": "2022-05-23T08:45:06.106Z"
   },
   {
    "duration": 123,
    "start_time": "2022-05-23T08:45:06.341Z"
   },
   {
    "duration": 97,
    "start_time": "2022-05-23T08:45:06.466Z"
   },
   {
    "duration": 209,
    "start_time": "2022-05-23T08:45:06.566Z"
   },
   {
    "duration": 67,
    "start_time": "2022-05-23T08:45:06.777Z"
   },
   {
    "duration": 60,
    "start_time": "2022-05-23T08:45:06.847Z"
   },
   {
    "duration": 8,
    "start_time": "2022-05-23T08:45:06.909Z"
   },
   {
    "duration": 77,
    "start_time": "2022-05-23T08:45:06.919Z"
   },
   {
    "duration": 64,
    "start_time": "2022-05-23T08:45:06.997Z"
   },
   {
    "duration": 10,
    "start_time": "2022-05-23T08:45:07.063Z"
   },
   {
    "duration": 77,
    "start_time": "2022-05-23T08:45:07.075Z"
   },
   {
    "duration": 6,
    "start_time": "2022-05-23T08:45:07.154Z"
   },
   {
    "duration": 63,
    "start_time": "2022-05-23T08:45:07.161Z"
   },
   {
    "duration": 40,
    "start_time": "2022-05-23T08:45:07.229Z"
   },
   {
    "duration": 30,
    "start_time": "2022-05-23T08:45:07.271Z"
   },
   {
    "duration": 100,
    "start_time": "2022-05-23T08:45:07.303Z"
   },
   {
    "duration": 8,
    "start_time": "2022-05-23T08:45:07.405Z"
   },
   {
    "duration": 72,
    "start_time": "2022-05-23T08:45:07.415Z"
   },
   {
    "duration": 5,
    "start_time": "2022-05-23T08:45:07.489Z"
   },
   {
    "duration": 161,
    "start_time": "2022-05-23T08:45:07.496Z"
   },
   {
    "duration": 153,
    "start_time": "2022-05-23T08:45:07.659Z"
   },
   {
    "duration": 24,
    "start_time": "2022-05-23T08:45:07.813Z"
   },
   {
    "duration": 6,
    "start_time": "2022-05-23T08:45:07.841Z"
   },
   {
    "duration": 7,
    "start_time": "2022-05-23T08:45:07.848Z"
   },
   {
    "duration": 6,
    "start_time": "2022-05-23T08:45:07.857Z"
   },
   {
    "duration": 6,
    "start_time": "2022-05-23T08:45:07.864Z"
   },
   {
    "duration": 10,
    "start_time": "2022-05-23T08:45:07.872Z"
   },
   {
    "duration": 6,
    "start_time": "2022-05-23T08:45:07.884Z"
   },
   {
    "duration": 9,
    "start_time": "2022-05-23T08:45:07.892Z"
   },
   {
    "duration": 30,
    "start_time": "2022-05-23T08:45:07.902Z"
   }
  ],
  "kernelspec": {
   "display_name": "Python 3",
   "language": "python",
   "name": "python3"
  },
  "language_info": {
   "codemirror_mode": {
    "name": "ipython",
    "version": 3
   },
   "file_extension": ".py",
   "mimetype": "text/x-python",
   "name": "python",
   "nbconvert_exporter": "python",
   "pygments_lexer": "ipython3",
   "version": "3.8.8"
  },
  "toc": {
   "base_numbering": 1,
   "nav_menu": {},
   "number_sections": true,
   "sideBar": true,
   "skip_h1_title": true,
   "title_cell": "Table of Contents",
   "title_sidebar": "Contents",
   "toc_cell": false,
   "toc_position": {
    "height": "calc(100% - 180px)",
    "left": "10px",
    "top": "150px",
    "width": "270.390625px"
   },
   "toc_section_display": true,
   "toc_window_display": true
  }
 },
 "nbformat": 4,
 "nbformat_minor": 2
}
