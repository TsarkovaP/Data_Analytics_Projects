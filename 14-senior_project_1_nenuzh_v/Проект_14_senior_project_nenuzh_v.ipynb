{
 "cells": [
  {
   "cell_type": "markdown",
   "metadata": {},
   "source": [
    "# Исследование данных мобильного приложения \"Ненужные вещи\"."
   ]
  },
  {
   "cell_type": "markdown",
   "metadata": {},
   "source": [
    "Мобильное приложение \"Ненужные вещи\" - приложение, в котором пользователи продают свои ненужные вещи, размещая их на доске объявлений."
   ]
  },
  {
   "cell_type": "markdown",
   "metadata": {},
   "source": [
    "Цель: Выделение групп пользователей на основе их поведения, анализ этих групп и формулировка рекомендаций заказчику, для корректировки работы приложения."
   ]
  },
  {
   "cell_type": "markdown",
   "metadata": {},
   "source": [
    "Заказчик: Продуктовый менеджер компании-разработчика\n",
    "приложения. "
   ]
  },
  {
   "cell_type": "markdown",
   "metadata": {},
   "source": [
    "Описание данных:  Датасет содержит данные пользователей, впервые совершивших действия в приложении после 7 октября 2019 года."
   ]
  },
  {
   "cell_type": "markdown",
   "metadata": {},
   "source": [
    "## Загрузка данных и подготовка их к анализу."
   ]
  },
  {
   "cell_type": "markdown",
   "metadata": {},
   "source": [
    "###  *Загрузить данные.*"
   ]
  },
  {
   "cell_type": "code",
   "execution_count": 1,
   "metadata": {},
   "outputs": [],
   "source": [
    "#импорт библиотек\n",
    "import pandas as pd\n",
    "import datetime as dt\n",
    "import numpy as np\n",
    "from datetime import datetime, timedelta\n",
    "from matplotlib import pyplot as plt\n",
    "import seaborn as sns\n",
    "from scipy import stats as st\n",
    "import numpy as np\n",
    "import math\n",
    "import scipy.stats as stats"
   ]
  },
  {
   "cell_type": "code",
   "execution_count": 2,
   "metadata": {},
   "outputs": [],
   "source": [
    "#чтение файлов с данными и сохранение в соответствующую переменную\n",
    "\n",
    "dataset = pd.read_csv('/datasets/mobile_dataset.csv') \n",
    "sources = pd.read_csv('/datasets/mobile_soures.csv') "
   ]
  },
  {
   "cell_type": "code",
   "execution_count": 3,
   "metadata": {},
   "outputs": [
    {
     "data": {
      "text/html": [
       "<div>\n",
       "<style scoped>\n",
       "    .dataframe tbody tr th:only-of-type {\n",
       "        vertical-align: middle;\n",
       "    }\n",
       "\n",
       "    .dataframe tbody tr th {\n",
       "        vertical-align: top;\n",
       "    }\n",
       "\n",
       "    .dataframe thead th {\n",
       "        text-align: right;\n",
       "    }\n",
       "</style>\n",
       "<table border=\"1\" class=\"dataframe\">\n",
       "  <thead>\n",
       "    <tr style=\"text-align: right;\">\n",
       "      <th></th>\n",
       "      <th>event.time</th>\n",
       "      <th>event.name</th>\n",
       "      <th>user.id</th>\n",
       "    </tr>\n",
       "  </thead>\n",
       "  <tbody>\n",
       "    <tr>\n",
       "      <th>0</th>\n",
       "      <td>2019-10-07 00:00:00.431357</td>\n",
       "      <td>advert_open</td>\n",
       "      <td>020292ab-89bc-4156-9acf-68bc2783f894</td>\n",
       "    </tr>\n",
       "    <tr>\n",
       "      <th>1</th>\n",
       "      <td>2019-10-07 00:00:01.236320</td>\n",
       "      <td>tips_show</td>\n",
       "      <td>020292ab-89bc-4156-9acf-68bc2783f894</td>\n",
       "    </tr>\n",
       "    <tr>\n",
       "      <th>2</th>\n",
       "      <td>2019-10-07 00:00:02.245341</td>\n",
       "      <td>tips_show</td>\n",
       "      <td>cf7eda61-9349-469f-ac27-e5b6f5ec475c</td>\n",
       "    </tr>\n",
       "    <tr>\n",
       "      <th>3</th>\n",
       "      <td>2019-10-07 00:00:07.039334</td>\n",
       "      <td>tips_show</td>\n",
       "      <td>020292ab-89bc-4156-9acf-68bc2783f894</td>\n",
       "    </tr>\n",
       "    <tr>\n",
       "      <th>4</th>\n",
       "      <td>2019-10-07 00:00:56.319813</td>\n",
       "      <td>advert_open</td>\n",
       "      <td>cf7eda61-9349-469f-ac27-e5b6f5ec475c</td>\n",
       "    </tr>\n",
       "  </tbody>\n",
       "</table>\n",
       "</div>"
      ],
      "text/plain": [
       "                   event.time   event.name  \\\n",
       "0  2019-10-07 00:00:00.431357  advert_open   \n",
       "1  2019-10-07 00:00:01.236320    tips_show   \n",
       "2  2019-10-07 00:00:02.245341    tips_show   \n",
       "3  2019-10-07 00:00:07.039334    tips_show   \n",
       "4  2019-10-07 00:00:56.319813  advert_open   \n",
       "\n",
       "                                user.id  \n",
       "0  020292ab-89bc-4156-9acf-68bc2783f894  \n",
       "1  020292ab-89bc-4156-9acf-68bc2783f894  \n",
       "2  cf7eda61-9349-469f-ac27-e5b6f5ec475c  \n",
       "3  020292ab-89bc-4156-9acf-68bc2783f894  \n",
       "4  cf7eda61-9349-469f-ac27-e5b6f5ec475c  "
      ]
     },
     "execution_count": 3,
     "metadata": {},
     "output_type": "execute_result"
    }
   ],
   "source": [
    "dataset.head()"
   ]
  },
  {
   "cell_type": "code",
   "execution_count": 4,
   "metadata": {},
   "outputs": [
    {
     "data": {
      "text/html": [
       "<div>\n",
       "<style scoped>\n",
       "    .dataframe tbody tr th:only-of-type {\n",
       "        vertical-align: middle;\n",
       "    }\n",
       "\n",
       "    .dataframe tbody tr th {\n",
       "        vertical-align: top;\n",
       "    }\n",
       "\n",
       "    .dataframe thead th {\n",
       "        text-align: right;\n",
       "    }\n",
       "</style>\n",
       "<table border=\"1\" class=\"dataframe\">\n",
       "  <thead>\n",
       "    <tr style=\"text-align: right;\">\n",
       "      <th></th>\n",
       "      <th>userId</th>\n",
       "      <th>source</th>\n",
       "    </tr>\n",
       "  </thead>\n",
       "  <tbody>\n",
       "    <tr>\n",
       "      <th>0</th>\n",
       "      <td>020292ab-89bc-4156-9acf-68bc2783f894</td>\n",
       "      <td>other</td>\n",
       "    </tr>\n",
       "    <tr>\n",
       "      <th>1</th>\n",
       "      <td>cf7eda61-9349-469f-ac27-e5b6f5ec475c</td>\n",
       "      <td>yandex</td>\n",
       "    </tr>\n",
       "    <tr>\n",
       "      <th>2</th>\n",
       "      <td>8c356c42-3ba9-4cb6-80b8-3f868d0192c3</td>\n",
       "      <td>yandex</td>\n",
       "    </tr>\n",
       "    <tr>\n",
       "      <th>3</th>\n",
       "      <td>d9b06b47-0f36-419b-bbb0-3533e582a6cb</td>\n",
       "      <td>other</td>\n",
       "    </tr>\n",
       "    <tr>\n",
       "      <th>4</th>\n",
       "      <td>f32e1e2a-3027-4693-b793-b7b3ff274439</td>\n",
       "      <td>google</td>\n",
       "    </tr>\n",
       "  </tbody>\n",
       "</table>\n",
       "</div>"
      ],
      "text/plain": [
       "                                 userId  source\n",
       "0  020292ab-89bc-4156-9acf-68bc2783f894   other\n",
       "1  cf7eda61-9349-469f-ac27-e5b6f5ec475c  yandex\n",
       "2  8c356c42-3ba9-4cb6-80b8-3f868d0192c3  yandex\n",
       "3  d9b06b47-0f36-419b-bbb0-3533e582a6cb   other\n",
       "4  f32e1e2a-3027-4693-b793-b7b3ff274439  google"
      ]
     },
     "execution_count": 4,
     "metadata": {},
     "output_type": "execute_result"
    }
   ],
   "source": [
    "sources.head()"
   ]
  },
  {
   "cell_type": "markdown",
   "metadata": {},
   "source": [
    "###  *Предобработка данных.*"
   ]
  },
  {
   "cell_type": "markdown",
   "metadata": {},
   "source": [
    "#### Проверка типа данных"
   ]
  },
  {
   "cell_type": "code",
   "execution_count": 5,
   "metadata": {},
   "outputs": [
    {
     "name": "stdout",
     "output_type": "stream",
     "text": [
      "<class 'pandas.core.frame.DataFrame'>\n",
      "RangeIndex: 74197 entries, 0 to 74196\n",
      "Data columns (total 3 columns):\n",
      " #   Column      Non-Null Count  Dtype \n",
      "---  ------      --------------  ----- \n",
      " 0   event.time  74197 non-null  object\n",
      " 1   event.name  74197 non-null  object\n",
      " 2   user.id     74197 non-null  object\n",
      "dtypes: object(3)\n",
      "memory usage: 1.7+ MB\n"
     ]
    }
   ],
   "source": [
    "dataset.info()"
   ]
  },
  {
   "cell_type": "code",
   "execution_count": 6,
   "metadata": {},
   "outputs": [
    {
     "name": "stdout",
     "output_type": "stream",
     "text": [
      "<class 'pandas.core.frame.DataFrame'>\n",
      "RangeIndex: 4293 entries, 0 to 4292\n",
      "Data columns (total 2 columns):\n",
      " #   Column  Non-Null Count  Dtype \n",
      "---  ------  --------------  ----- \n",
      " 0   userId  4293 non-null   object\n",
      " 1   source  4293 non-null   object\n",
      "dtypes: object(2)\n",
      "memory usage: 67.2+ KB\n"
     ]
    }
   ],
   "source": [
    "sources.info()"
   ]
  },
  {
   "cell_type": "markdown",
   "metadata": {},
   "source": [
    "Необходимо перевести в тип дата данные столбца 'event.time' датасета dataset."
   ]
  },
  {
   "cell_type": "code",
   "execution_count": 7,
   "metadata": {},
   "outputs": [],
   "source": [
    "# преобразование данных о времени\n",
    "time_format = \"%Y-%m-%d %H:%M:%S\"\n",
    "dataset['event.time'] = pd.to_datetime(dataset['event.time'], format = time_format)"
   ]
  },
  {
   "cell_type": "code",
   "execution_count": 8,
   "metadata": {},
   "outputs": [
    {
     "name": "stdout",
     "output_type": "stream",
     "text": [
      "<class 'pandas.core.frame.DataFrame'>\n",
      "RangeIndex: 74197 entries, 0 to 74196\n",
      "Data columns (total 3 columns):\n",
      " #   Column      Non-Null Count  Dtype         \n",
      "---  ------      --------------  -----         \n",
      " 0   event.time  74197 non-null  datetime64[ns]\n",
      " 1   event.name  74197 non-null  object        \n",
      " 2   user.id     74197 non-null  object        \n",
      "dtypes: datetime64[ns](1), object(2)\n",
      "memory usage: 1.7+ MB\n"
     ]
    }
   ],
   "source": [
    "dataset.info()"
   ]
  },
  {
   "cell_type": "markdown",
   "metadata": {},
   "source": [
    "#### Пропуски в датафреймах"
   ]
  },
  {
   "cell_type": "code",
   "execution_count": 9,
   "metadata": {},
   "outputs": [
    {
     "data": {
      "text/plain": [
       "event.time    0\n",
       "event.name    0\n",
       "user.id       0\n",
       "dtype: int64"
      ]
     },
     "execution_count": 9,
     "metadata": {},
     "output_type": "execute_result"
    }
   ],
   "source": [
    "#подсчет пропусков\n",
    "dataset.isna().sum()"
   ]
  },
  {
   "cell_type": "code",
   "execution_count": 10,
   "metadata": {},
   "outputs": [
    {
     "data": {
      "text/plain": [
       "userId    0\n",
       "source    0\n",
       "dtype: int64"
      ]
     },
     "execution_count": 10,
     "metadata": {},
     "output_type": "execute_result"
    }
   ],
   "source": [
    "#подсчет пропусков\n",
    "sources.isna().sum()"
   ]
  },
  {
   "cell_type": "markdown",
   "metadata": {},
   "source": [
    "Итак, пропусков в данных не обнаружено."
   ]
  },
  {
   "cell_type": "markdown",
   "metadata": {},
   "source": [
    "#### Дубликаты в датафреймах"
   ]
  },
  {
   "cell_type": "markdown",
   "metadata": {},
   "source": [
    "Подсчитаем явные дубликаты."
   ]
  },
  {
   "cell_type": "code",
   "execution_count": 11,
   "metadata": {},
   "outputs": [
    {
     "data": {
      "text/plain": [
       "0"
      ]
     },
     "execution_count": 11,
     "metadata": {},
     "output_type": "execute_result"
    }
   ],
   "source": [
    "#подсчет явных дубликатов\n",
    "dataset.duplicated().sum()"
   ]
  },
  {
   "cell_type": "code",
   "execution_count": 12,
   "metadata": {},
   "outputs": [
    {
     "data": {
      "text/plain": [
       "0"
      ]
     },
     "execution_count": 12,
     "metadata": {},
     "output_type": "execute_result"
    }
   ],
   "source": [
    "sources.duplicated().sum()"
   ]
  },
  {
   "cell_type": "markdown",
   "metadata": {},
   "source": [
    "Таким образом, дубликатов в данных не обнаружено."
   ]
  },
  {
   "cell_type": "markdown",
   "metadata": {},
   "source": [
    "#### *Дополнительные проверки данных.*"
   ]
  },
  {
   "cell_type": "code",
   "execution_count": 13,
   "metadata": {},
   "outputs": [
    {
     "data": {
      "text/html": [
       "<div>\n",
       "<style scoped>\n",
       "    .dataframe tbody tr th:only-of-type {\n",
       "        vertical-align: middle;\n",
       "    }\n",
       "\n",
       "    .dataframe tbody tr th {\n",
       "        vertical-align: top;\n",
       "    }\n",
       "\n",
       "    .dataframe thead th {\n",
       "        text-align: right;\n",
       "    }\n",
       "</style>\n",
       "<table border=\"1\" class=\"dataframe\">\n",
       "  <thead>\n",
       "    <tr style=\"text-align: right;\">\n",
       "      <th></th>\n",
       "      <th>event.time</th>\n",
       "      <th>event.name</th>\n",
       "      <th>user.id</th>\n",
       "    </tr>\n",
       "  </thead>\n",
       "  <tbody>\n",
       "    <tr>\n",
       "      <th>0</th>\n",
       "      <td>2019-10-07 00:00:00.431357</td>\n",
       "      <td>advert_open</td>\n",
       "      <td>020292ab-89bc-4156-9acf-68bc2783f894</td>\n",
       "    </tr>\n",
       "    <tr>\n",
       "      <th>1</th>\n",
       "      <td>2019-10-07 00:00:01.236320</td>\n",
       "      <td>tips_show</td>\n",
       "      <td>020292ab-89bc-4156-9acf-68bc2783f894</td>\n",
       "    </tr>\n",
       "    <tr>\n",
       "      <th>2</th>\n",
       "      <td>2019-10-07 00:00:02.245341</td>\n",
       "      <td>tips_show</td>\n",
       "      <td>cf7eda61-9349-469f-ac27-e5b6f5ec475c</td>\n",
       "    </tr>\n",
       "    <tr>\n",
       "      <th>3</th>\n",
       "      <td>2019-10-07 00:00:07.039334</td>\n",
       "      <td>tips_show</td>\n",
       "      <td>020292ab-89bc-4156-9acf-68bc2783f894</td>\n",
       "    </tr>\n",
       "    <tr>\n",
       "      <th>4</th>\n",
       "      <td>2019-10-07 00:00:56.319813</td>\n",
       "      <td>advert_open</td>\n",
       "      <td>cf7eda61-9349-469f-ac27-e5b6f5ec475c</td>\n",
       "    </tr>\n",
       "  </tbody>\n",
       "</table>\n",
       "</div>"
      ],
      "text/plain": [
       "                  event.time   event.name  \\\n",
       "0 2019-10-07 00:00:00.431357  advert_open   \n",
       "1 2019-10-07 00:00:01.236320    tips_show   \n",
       "2 2019-10-07 00:00:02.245341    tips_show   \n",
       "3 2019-10-07 00:00:07.039334    tips_show   \n",
       "4 2019-10-07 00:00:56.319813  advert_open   \n",
       "\n",
       "                                user.id  \n",
       "0  020292ab-89bc-4156-9acf-68bc2783f894  \n",
       "1  020292ab-89bc-4156-9acf-68bc2783f894  \n",
       "2  cf7eda61-9349-469f-ac27-e5b6f5ec475c  \n",
       "3  020292ab-89bc-4156-9acf-68bc2783f894  \n",
       "4  cf7eda61-9349-469f-ac27-e5b6f5ec475c  "
      ]
     },
     "execution_count": 13,
     "metadata": {},
     "output_type": "execute_result"
    }
   ],
   "source": [
    "dataset.head()"
   ]
  },
  {
   "cell_type": "code",
   "execution_count": 14,
   "metadata": {},
   "outputs": [
    {
     "data": {
      "text/html": [
       "<div>\n",
       "<style scoped>\n",
       "    .dataframe tbody tr th:only-of-type {\n",
       "        vertical-align: middle;\n",
       "    }\n",
       "\n",
       "    .dataframe tbody tr th {\n",
       "        vertical-align: top;\n",
       "    }\n",
       "\n",
       "    .dataframe thead th {\n",
       "        text-align: right;\n",
       "    }\n",
       "</style>\n",
       "<table border=\"1\" class=\"dataframe\">\n",
       "  <thead>\n",
       "    <tr style=\"text-align: right;\">\n",
       "      <th></th>\n",
       "      <th>userId</th>\n",
       "      <th>source</th>\n",
       "    </tr>\n",
       "  </thead>\n",
       "  <tbody>\n",
       "    <tr>\n",
       "      <th>0</th>\n",
       "      <td>020292ab-89bc-4156-9acf-68bc2783f894</td>\n",
       "      <td>other</td>\n",
       "    </tr>\n",
       "    <tr>\n",
       "      <th>1</th>\n",
       "      <td>cf7eda61-9349-469f-ac27-e5b6f5ec475c</td>\n",
       "      <td>yandex</td>\n",
       "    </tr>\n",
       "    <tr>\n",
       "      <th>2</th>\n",
       "      <td>8c356c42-3ba9-4cb6-80b8-3f868d0192c3</td>\n",
       "      <td>yandex</td>\n",
       "    </tr>\n",
       "    <tr>\n",
       "      <th>3</th>\n",
       "      <td>d9b06b47-0f36-419b-bbb0-3533e582a6cb</td>\n",
       "      <td>other</td>\n",
       "    </tr>\n",
       "    <tr>\n",
       "      <th>4</th>\n",
       "      <td>f32e1e2a-3027-4693-b793-b7b3ff274439</td>\n",
       "      <td>google</td>\n",
       "    </tr>\n",
       "  </tbody>\n",
       "</table>\n",
       "</div>"
      ],
      "text/plain": [
       "                                 userId  source\n",
       "0  020292ab-89bc-4156-9acf-68bc2783f894   other\n",
       "1  cf7eda61-9349-469f-ac27-e5b6f5ec475c  yandex\n",
       "2  8c356c42-3ba9-4cb6-80b8-3f868d0192c3  yandex\n",
       "3  d9b06b47-0f36-419b-bbb0-3533e582a6cb   other\n",
       "4  f32e1e2a-3027-4693-b793-b7b3ff274439  google"
      ]
     },
     "execution_count": 14,
     "metadata": {},
     "output_type": "execute_result"
    }
   ],
   "source": [
    "sources.head()"
   ]
  },
  {
   "cell_type": "markdown",
   "metadata": {},
   "source": [
    "#####  Категориальные переменные"
   ]
  },
  {
   "cell_type": "markdown",
   "metadata": {},
   "source": [
    "Проверим категориальные переменные на корректность их написание."
   ]
  },
  {
   "cell_type": "code",
   "execution_count": 15,
   "metadata": {},
   "outputs": [
    {
     "data": {
      "text/plain": [
       "tips_show        40055\n",
       "photos_show      10012\n",
       "advert_open       6164\n",
       "contacts_show     4450\n",
       "map               3881\n",
       "search_1          3506\n",
       "favorites_add     1417\n",
       "search_5          1049\n",
       "tips_click         814\n",
       "search_4           701\n",
       "contacts_call      541\n",
       "search_3           522\n",
       "search_6           460\n",
       "search_2           324\n",
       "search_7           222\n",
       "show_contacts       79\n",
       "Name: event.name, dtype: int64"
      ]
     },
     "execution_count": 15,
     "metadata": {},
     "output_type": "execute_result"
    }
   ],
   "source": [
    "dataset['event.name'].value_counts()"
   ]
  },
  {
   "cell_type": "code",
   "execution_count": 16,
   "metadata": {},
   "outputs": [
    {
     "data": {
      "text/plain": [
       "yandex    1934\n",
       "other     1230\n",
       "google    1129\n",
       "Name: source, dtype: int64"
      ]
     },
     "execution_count": 16,
     "metadata": {},
     "output_type": "execute_result"
    }
   ],
   "source": [
    "sources['source'].value_counts()"
   ]
  },
  {
   "cell_type": "markdown",
   "metadata": {},
   "source": [
    "Проверка категорийных данных показала отсутсвие описок или ошибок в них."
   ]
  },
  {
   "cell_type": "markdown",
   "metadata": {},
   "source": [
    "##### Пользовательские профили."
   ]
  },
  {
   "cell_type": "markdown",
   "metadata": {},
   "source": [
    "Создадим пользовательские профили (датасет ses_time), где добавим столбцы:\n",
    "- начало сессии ('ses_time_min')\n",
    "- конец сессии ('ses_time_max')"
   ]
  },
  {
   "cell_type": "markdown",
   "metadata": {},
   "source": [
    "Сначала для удобства переименуем название данных 'show_contacts' на 'contacts_show', так как они отражают одно и то же событие. Приведем название с id пользователей к одному значению - user_id, в обеих таблицах. И объедим эти таблицы в один датасет dataset_sources."
   ]
  },
  {
   "cell_type": "code",
   "execution_count": 17,
   "metadata": {},
   "outputs": [],
   "source": [
    "#событие show_contacts переименуем в contacts_show\n",
    "dataset[dataset['event.name'] == 'show_contacts'] = dataset[dataset['event.name'] == 'contacts_show']"
   ]
  },
  {
   "cell_type": "code",
   "execution_count": 18,
   "metadata": {},
   "outputs": [],
   "source": [
    "#столбец id пользователя переименуем в user_id\n",
    "dataset = dataset.rename(columns={'event.time': 'event.time', 'event.name': 'event.name', \\\n",
    "                        'user.id': 'user_id', 'Session Start': \\\n",
    "                        'Session Start', 'Session End': 'Session End'})"
   ]
  },
  {
   "cell_type": "code",
   "execution_count": 19,
   "metadata": {},
   "outputs": [],
   "source": [
    "#столбец id пользователя переименуем в user_id\n",
    "sources = sources.rename(columns={'userId': 'user_id', 'source': 'source'})"
   ]
  },
  {
   "cell_type": "code",
   "execution_count": 20,
   "metadata": {},
   "outputs": [
    {
     "data": {
      "text/html": [
       "<div>\n",
       "<style scoped>\n",
       "    .dataframe tbody tr th:only-of-type {\n",
       "        vertical-align: middle;\n",
       "    }\n",
       "\n",
       "    .dataframe tbody tr th {\n",
       "        vertical-align: top;\n",
       "    }\n",
       "\n",
       "    .dataframe thead th {\n",
       "        text-align: right;\n",
       "    }\n",
       "</style>\n",
       "<table border=\"1\" class=\"dataframe\">\n",
       "  <thead>\n",
       "    <tr style=\"text-align: right;\">\n",
       "      <th></th>\n",
       "      <th>event.time</th>\n",
       "      <th>event.name</th>\n",
       "      <th>user_id</th>\n",
       "      <th>source</th>\n",
       "    </tr>\n",
       "  </thead>\n",
       "  <tbody>\n",
       "    <tr>\n",
       "      <th>0</th>\n",
       "      <td>2019-10-07 00:00:00.431357</td>\n",
       "      <td>advert_open</td>\n",
       "      <td>020292ab-89bc-4156-9acf-68bc2783f894</td>\n",
       "      <td>other</td>\n",
       "    </tr>\n",
       "    <tr>\n",
       "      <th>1</th>\n",
       "      <td>2019-10-07 00:00:01.236320</td>\n",
       "      <td>tips_show</td>\n",
       "      <td>020292ab-89bc-4156-9acf-68bc2783f894</td>\n",
       "      <td>other</td>\n",
       "    </tr>\n",
       "    <tr>\n",
       "      <th>2</th>\n",
       "      <td>2019-10-07 00:00:02.245341</td>\n",
       "      <td>tips_show</td>\n",
       "      <td>cf7eda61-9349-469f-ac27-e5b6f5ec475c</td>\n",
       "      <td>yandex</td>\n",
       "    </tr>\n",
       "    <tr>\n",
       "      <th>3</th>\n",
       "      <td>2019-10-07 00:00:07.039334</td>\n",
       "      <td>tips_show</td>\n",
       "      <td>020292ab-89bc-4156-9acf-68bc2783f894</td>\n",
       "      <td>other</td>\n",
       "    </tr>\n",
       "    <tr>\n",
       "      <th>4</th>\n",
       "      <td>2019-10-07 00:00:56.319813</td>\n",
       "      <td>advert_open</td>\n",
       "      <td>cf7eda61-9349-469f-ac27-e5b6f5ec475c</td>\n",
       "      <td>yandex</td>\n",
       "    </tr>\n",
       "  </tbody>\n",
       "</table>\n",
       "</div>"
      ],
      "text/plain": [
       "                  event.time   event.name  \\\n",
       "0 2019-10-07 00:00:00.431357  advert_open   \n",
       "1 2019-10-07 00:00:01.236320    tips_show   \n",
       "2 2019-10-07 00:00:02.245341    tips_show   \n",
       "3 2019-10-07 00:00:07.039334    tips_show   \n",
       "4 2019-10-07 00:00:56.319813  advert_open   \n",
       "\n",
       "                                user_id  source  \n",
       "0  020292ab-89bc-4156-9acf-68bc2783f894   other  \n",
       "1  020292ab-89bc-4156-9acf-68bc2783f894   other  \n",
       "2  cf7eda61-9349-469f-ac27-e5b6f5ec475c  yandex  \n",
       "3  020292ab-89bc-4156-9acf-68bc2783f894   other  \n",
       "4  cf7eda61-9349-469f-ac27-e5b6f5ec475c  yandex  "
      ]
     },
     "execution_count": 20,
     "metadata": {},
     "output_type": "execute_result"
    }
   ],
   "source": [
    "dataset_sources = dataset.merge(sources, on='user_id', how='left')\n",
    "dataset_sources.head()"
   ]
  },
  {
   "cell_type": "markdown",
   "metadata": {},
   "source": [
    "Создадим пользовательские профили, данные которых мы будем тспользовать в дальнейшем исследовании."
   ]
  },
  {
   "cell_type": "code",
   "execution_count": 21,
   "metadata": {},
   "outputs": [
    {
     "data": {
      "text/html": [
       "<div>\n",
       "<style scoped>\n",
       "    .dataframe tbody tr th:only-of-type {\n",
       "        vertical-align: middle;\n",
       "    }\n",
       "\n",
       "    .dataframe tbody tr th {\n",
       "        vertical-align: top;\n",
       "    }\n",
       "\n",
       "    .dataframe thead th {\n",
       "        text-align: right;\n",
       "    }\n",
       "</style>\n",
       "<table border=\"1\" class=\"dataframe\">\n",
       "  <thead>\n",
       "    <tr style=\"text-align: right;\">\n",
       "      <th></th>\n",
       "      <th>event.time</th>\n",
       "      <th>event.name</th>\n",
       "      <th>user_id</th>\n",
       "      <th>source</th>\n",
       "    </tr>\n",
       "  </thead>\n",
       "  <tbody>\n",
       "    <tr>\n",
       "      <th>0</th>\n",
       "      <td>2019-10-07 00:00:00.431357</td>\n",
       "      <td>advert_open</td>\n",
       "      <td>020292ab-89bc-4156-9acf-68bc2783f894</td>\n",
       "      <td>other</td>\n",
       "    </tr>\n",
       "    <tr>\n",
       "      <th>1</th>\n",
       "      <td>2019-10-07 00:00:01.236320</td>\n",
       "      <td>tips_show</td>\n",
       "      <td>020292ab-89bc-4156-9acf-68bc2783f894</td>\n",
       "      <td>other</td>\n",
       "    </tr>\n",
       "    <tr>\n",
       "      <th>2</th>\n",
       "      <td>2019-10-07 00:00:02.245341</td>\n",
       "      <td>tips_show</td>\n",
       "      <td>cf7eda61-9349-469f-ac27-e5b6f5ec475c</td>\n",
       "      <td>yandex</td>\n",
       "    </tr>\n",
       "    <tr>\n",
       "      <th>3</th>\n",
       "      <td>2019-10-07 00:00:07.039334</td>\n",
       "      <td>tips_show</td>\n",
       "      <td>020292ab-89bc-4156-9acf-68bc2783f894</td>\n",
       "      <td>other</td>\n",
       "    </tr>\n",
       "    <tr>\n",
       "      <th>4</th>\n",
       "      <td>2019-10-07 00:00:56.319813</td>\n",
       "      <td>advert_open</td>\n",
       "      <td>cf7eda61-9349-469f-ac27-e5b6f5ec475c</td>\n",
       "      <td>yandex</td>\n",
       "    </tr>\n",
       "  </tbody>\n",
       "</table>\n",
       "</div>"
      ],
      "text/plain": [
       "                  event.time   event.name  \\\n",
       "0 2019-10-07 00:00:00.431357  advert_open   \n",
       "1 2019-10-07 00:00:01.236320    tips_show   \n",
       "2 2019-10-07 00:00:02.245341    tips_show   \n",
       "3 2019-10-07 00:00:07.039334    tips_show   \n",
       "4 2019-10-07 00:00:56.319813  advert_open   \n",
       "\n",
       "                                user_id  source  \n",
       "0  020292ab-89bc-4156-9acf-68bc2783f894   other  \n",
       "1  020292ab-89bc-4156-9acf-68bc2783f894   other  \n",
       "2  cf7eda61-9349-469f-ac27-e5b6f5ec475c  yandex  \n",
       "3  020292ab-89bc-4156-9acf-68bc2783f894   other  \n",
       "4  cf7eda61-9349-469f-ac27-e5b6f5ec475c  yandex  "
      ]
     },
     "execution_count": 21,
     "metadata": {},
     "output_type": "execute_result"
    }
   ],
   "source": [
    "dataset_sources.head()"
   ]
  },
  {
   "cell_type": "code",
   "execution_count": 22,
   "metadata": {},
   "outputs": [
    {
     "data": {
      "text/html": [
       "<div>\n",
       "<style scoped>\n",
       "    .dataframe tbody tr th:only-of-type {\n",
       "        vertical-align: middle;\n",
       "    }\n",
       "\n",
       "    .dataframe tbody tr th {\n",
       "        vertical-align: top;\n",
       "    }\n",
       "\n",
       "    .dataframe thead th {\n",
       "        text-align: right;\n",
       "    }\n",
       "</style>\n",
       "<table border=\"1\" class=\"dataframe\">\n",
       "  <thead>\n",
       "    <tr style=\"text-align: right;\">\n",
       "      <th></th>\n",
       "      <th>event.time</th>\n",
       "      <th>event.name</th>\n",
       "      <th>user_id</th>\n",
       "      <th>source</th>\n",
       "      <th>event_day</th>\n",
       "    </tr>\n",
       "  </thead>\n",
       "  <tbody>\n",
       "    <tr>\n",
       "      <th>0</th>\n",
       "      <td>2019-10-07 00:00:00.431357</td>\n",
       "      <td>advert_open</td>\n",
       "      <td>020292ab-89bc-4156-9acf-68bc2783f894</td>\n",
       "      <td>other</td>\n",
       "      <td>2019-10-07</td>\n",
       "    </tr>\n",
       "    <tr>\n",
       "      <th>1</th>\n",
       "      <td>2019-10-07 00:00:01.236320</td>\n",
       "      <td>tips_show</td>\n",
       "      <td>020292ab-89bc-4156-9acf-68bc2783f894</td>\n",
       "      <td>other</td>\n",
       "      <td>2019-10-07</td>\n",
       "    </tr>\n",
       "    <tr>\n",
       "      <th>2</th>\n",
       "      <td>2019-10-07 00:00:02.245341</td>\n",
       "      <td>tips_show</td>\n",
       "      <td>cf7eda61-9349-469f-ac27-e5b6f5ec475c</td>\n",
       "      <td>yandex</td>\n",
       "      <td>2019-10-07</td>\n",
       "    </tr>\n",
       "    <tr>\n",
       "      <th>3</th>\n",
       "      <td>2019-10-07 00:00:07.039334</td>\n",
       "      <td>tips_show</td>\n",
       "      <td>020292ab-89bc-4156-9acf-68bc2783f894</td>\n",
       "      <td>other</td>\n",
       "      <td>2019-10-07</td>\n",
       "    </tr>\n",
       "    <tr>\n",
       "      <th>4</th>\n",
       "      <td>2019-10-07 00:00:56.319813</td>\n",
       "      <td>advert_open</td>\n",
       "      <td>cf7eda61-9349-469f-ac27-e5b6f5ec475c</td>\n",
       "      <td>yandex</td>\n",
       "      <td>2019-10-07</td>\n",
       "    </tr>\n",
       "  </tbody>\n",
       "</table>\n",
       "</div>"
      ],
      "text/plain": [
       "                  event.time   event.name  \\\n",
       "0 2019-10-07 00:00:00.431357  advert_open   \n",
       "1 2019-10-07 00:00:01.236320    tips_show   \n",
       "2 2019-10-07 00:00:02.245341    tips_show   \n",
       "3 2019-10-07 00:00:07.039334    tips_show   \n",
       "4 2019-10-07 00:00:56.319813  advert_open   \n",
       "\n",
       "                                user_id  source   event_day  \n",
       "0  020292ab-89bc-4156-9acf-68bc2783f894   other  2019-10-07  \n",
       "1  020292ab-89bc-4156-9acf-68bc2783f894   other  2019-10-07  \n",
       "2  cf7eda61-9349-469f-ac27-e5b6f5ec475c  yandex  2019-10-07  \n",
       "3  020292ab-89bc-4156-9acf-68bc2783f894   other  2019-10-07  \n",
       "4  cf7eda61-9349-469f-ac27-e5b6f5ec475c  yandex  2019-10-07  "
      ]
     },
     "execution_count": 22,
     "metadata": {},
     "output_type": "execute_result"
    }
   ],
   "source": [
    "dataset_sources['event_day'] = dataset_sources['event.time'].dt.date\n",
    "dataset_sources.head()"
   ]
  },
  {
   "cell_type": "code",
   "execution_count": 23,
   "metadata": {},
   "outputs": [
    {
     "data": {
      "text/html": [
       "<div>\n",
       "<style scoped>\n",
       "    .dataframe tbody tr th:only-of-type {\n",
       "        vertical-align: middle;\n",
       "    }\n",
       "\n",
       "    .dataframe tbody tr th {\n",
       "        vertical-align: top;\n",
       "    }\n",
       "\n",
       "    .dataframe thead th {\n",
       "        text-align: right;\n",
       "    }\n",
       "</style>\n",
       "<table border=\"1\" class=\"dataframe\">\n",
       "  <thead>\n",
       "    <tr style=\"text-align: right;\">\n",
       "      <th></th>\n",
       "      <th>user_id</th>\n",
       "      <th>event_day</th>\n",
       "      <th>ses_time_min</th>\n",
       "    </tr>\n",
       "  </thead>\n",
       "  <tbody>\n",
       "    <tr>\n",
       "      <th>0</th>\n",
       "      <td>0001b1d5-b74a-4cbf-aeb0-7df5947bf349</td>\n",
       "      <td>2019-10-07</td>\n",
       "      <td>2019-10-07 13:39:45.989359</td>\n",
       "    </tr>\n",
       "    <tr>\n",
       "      <th>1</th>\n",
       "      <td>0001b1d5-b74a-4cbf-aeb0-7df5947bf349</td>\n",
       "      <td>2019-10-09</td>\n",
       "      <td>2019-10-09 18:33:55.577963</td>\n",
       "    </tr>\n",
       "    <tr>\n",
       "      <th>2</th>\n",
       "      <td>0001b1d5-b74a-4cbf-aeb0-7df5947bf349</td>\n",
       "      <td>2019-10-21</td>\n",
       "      <td>2019-10-21 19:52:30.778932</td>\n",
       "    </tr>\n",
       "    <tr>\n",
       "      <th>3</th>\n",
       "      <td>0001b1d5-b74a-4cbf-aeb0-7df5947bf349</td>\n",
       "      <td>2019-10-22</td>\n",
       "      <td>2019-10-22 11:18:14.635436</td>\n",
       "    </tr>\n",
       "    <tr>\n",
       "      <th>4</th>\n",
       "      <td>00157779-810c-4498-9e05-a1e9e3cedf93</td>\n",
       "      <td>2019-10-19</td>\n",
       "      <td>2019-10-19 21:34:33.849769</td>\n",
       "    </tr>\n",
       "  </tbody>\n",
       "</table>\n",
       "</div>"
      ],
      "text/plain": [
       "                                user_id   event_day               ses_time_min\n",
       "0  0001b1d5-b74a-4cbf-aeb0-7df5947bf349  2019-10-07 2019-10-07 13:39:45.989359\n",
       "1  0001b1d5-b74a-4cbf-aeb0-7df5947bf349  2019-10-09 2019-10-09 18:33:55.577963\n",
       "2  0001b1d5-b74a-4cbf-aeb0-7df5947bf349  2019-10-21 2019-10-21 19:52:30.778932\n",
       "3  0001b1d5-b74a-4cbf-aeb0-7df5947bf349  2019-10-22 2019-10-22 11:18:14.635436\n",
       "4  00157779-810c-4498-9e05-a1e9e3cedf93  2019-10-19 2019-10-19 21:34:33.849769"
      ]
     },
     "execution_count": 23,
     "metadata": {},
     "output_type": "execute_result"
    }
   ],
   "source": [
    "ses_time_min = dataset_sources.groupby(['user_id', 'event_day']).agg({'event.time':'min'}).\\\n",
    "reset_index().rename(columns={'event.time':'ses_time_min'})\n",
    "ses_time_min.head()"
   ]
  },
  {
   "cell_type": "code",
   "execution_count": 24,
   "metadata": {},
   "outputs": [
    {
     "data": {
      "text/html": [
       "<div>\n",
       "<style scoped>\n",
       "    .dataframe tbody tr th:only-of-type {\n",
       "        vertical-align: middle;\n",
       "    }\n",
       "\n",
       "    .dataframe tbody tr th {\n",
       "        vertical-align: top;\n",
       "    }\n",
       "\n",
       "    .dataframe thead th {\n",
       "        text-align: right;\n",
       "    }\n",
       "</style>\n",
       "<table border=\"1\" class=\"dataframe\">\n",
       "  <thead>\n",
       "    <tr style=\"text-align: right;\">\n",
       "      <th></th>\n",
       "      <th>user_id</th>\n",
       "      <th>event_day</th>\n",
       "      <th>ses_time_max</th>\n",
       "    </tr>\n",
       "  </thead>\n",
       "  <tbody>\n",
       "    <tr>\n",
       "      <th>0</th>\n",
       "      <td>0001b1d5-b74a-4cbf-aeb0-7df5947bf349</td>\n",
       "      <td>2019-10-07</td>\n",
       "      <td>2019-10-07 13:49:41.716617</td>\n",
       "    </tr>\n",
       "    <tr>\n",
       "      <th>1</th>\n",
       "      <td>0001b1d5-b74a-4cbf-aeb0-7df5947bf349</td>\n",
       "      <td>2019-10-09</td>\n",
       "      <td>2019-10-09 18:42:22.963948</td>\n",
       "    </tr>\n",
       "    <tr>\n",
       "      <th>2</th>\n",
       "      <td>0001b1d5-b74a-4cbf-aeb0-7df5947bf349</td>\n",
       "      <td>2019-10-21</td>\n",
       "      <td>2019-10-21 20:07:30.051028</td>\n",
       "    </tr>\n",
       "    <tr>\n",
       "      <th>3</th>\n",
       "      <td>0001b1d5-b74a-4cbf-aeb0-7df5947bf349</td>\n",
       "      <td>2019-10-22</td>\n",
       "      <td>2019-10-22 11:30:52.807203</td>\n",
       "    </tr>\n",
       "    <tr>\n",
       "      <th>4</th>\n",
       "      <td>00157779-810c-4498-9e05-a1e9e3cedf93</td>\n",
       "      <td>2019-10-19</td>\n",
       "      <td>2019-10-19 21:59:54.637098</td>\n",
       "    </tr>\n",
       "  </tbody>\n",
       "</table>\n",
       "</div>"
      ],
      "text/plain": [
       "                                user_id   event_day               ses_time_max\n",
       "0  0001b1d5-b74a-4cbf-aeb0-7df5947bf349  2019-10-07 2019-10-07 13:49:41.716617\n",
       "1  0001b1d5-b74a-4cbf-aeb0-7df5947bf349  2019-10-09 2019-10-09 18:42:22.963948\n",
       "2  0001b1d5-b74a-4cbf-aeb0-7df5947bf349  2019-10-21 2019-10-21 20:07:30.051028\n",
       "3  0001b1d5-b74a-4cbf-aeb0-7df5947bf349  2019-10-22 2019-10-22 11:30:52.807203\n",
       "4  00157779-810c-4498-9e05-a1e9e3cedf93  2019-10-19 2019-10-19 21:59:54.637098"
      ]
     },
     "execution_count": 24,
     "metadata": {},
     "output_type": "execute_result"
    }
   ],
   "source": [
    "ses_time_max = dataset_sources.groupby(['user_id', 'event_day']).agg({'event.time':'max'}).\\\n",
    "reset_index().rename(columns={'event.time':'ses_time_max'})\n",
    "ses_time_max.head()"
   ]
  },
  {
   "cell_type": "code",
   "execution_count": 25,
   "metadata": {},
   "outputs": [
    {
     "data": {
      "text/html": [
       "<div>\n",
       "<style scoped>\n",
       "    .dataframe tbody tr th:only-of-type {\n",
       "        vertical-align: middle;\n",
       "    }\n",
       "\n",
       "    .dataframe tbody tr th {\n",
       "        vertical-align: top;\n",
       "    }\n",
       "\n",
       "    .dataframe thead th {\n",
       "        text-align: right;\n",
       "    }\n",
       "</style>\n",
       "<table border=\"1\" class=\"dataframe\">\n",
       "  <thead>\n",
       "    <tr style=\"text-align: right;\">\n",
       "      <th></th>\n",
       "      <th>user_id</th>\n",
       "      <th>event_day</th>\n",
       "      <th>ses_time_min</th>\n",
       "      <th>ses_time_max</th>\n",
       "    </tr>\n",
       "  </thead>\n",
       "  <tbody>\n",
       "    <tr>\n",
       "      <th>0</th>\n",
       "      <td>0001b1d5-b74a-4cbf-aeb0-7df5947bf349</td>\n",
       "      <td>2019-10-07</td>\n",
       "      <td>2019-10-07 13:39:45.989359</td>\n",
       "      <td>2019-10-07 13:49:41.716617</td>\n",
       "    </tr>\n",
       "    <tr>\n",
       "      <th>1</th>\n",
       "      <td>0001b1d5-b74a-4cbf-aeb0-7df5947bf349</td>\n",
       "      <td>2019-10-09</td>\n",
       "      <td>2019-10-09 18:33:55.577963</td>\n",
       "      <td>2019-10-09 18:42:22.963948</td>\n",
       "    </tr>\n",
       "    <tr>\n",
       "      <th>2</th>\n",
       "      <td>0001b1d5-b74a-4cbf-aeb0-7df5947bf349</td>\n",
       "      <td>2019-10-21</td>\n",
       "      <td>2019-10-21 19:52:30.778932</td>\n",
       "      <td>2019-10-21 20:07:30.051028</td>\n",
       "    </tr>\n",
       "    <tr>\n",
       "      <th>3</th>\n",
       "      <td>0001b1d5-b74a-4cbf-aeb0-7df5947bf349</td>\n",
       "      <td>2019-10-22</td>\n",
       "      <td>2019-10-22 11:18:14.635436</td>\n",
       "      <td>2019-10-22 11:30:52.807203</td>\n",
       "    </tr>\n",
       "    <tr>\n",
       "      <th>4</th>\n",
       "      <td>00157779-810c-4498-9e05-a1e9e3cedf93</td>\n",
       "      <td>2019-10-19</td>\n",
       "      <td>2019-10-19 21:34:33.849769</td>\n",
       "      <td>2019-10-19 21:59:54.637098</td>\n",
       "    </tr>\n",
       "  </tbody>\n",
       "</table>\n",
       "</div>"
      ],
      "text/plain": [
       "                                user_id   event_day  \\\n",
       "0  0001b1d5-b74a-4cbf-aeb0-7df5947bf349  2019-10-07   \n",
       "1  0001b1d5-b74a-4cbf-aeb0-7df5947bf349  2019-10-09   \n",
       "2  0001b1d5-b74a-4cbf-aeb0-7df5947bf349  2019-10-21   \n",
       "3  0001b1d5-b74a-4cbf-aeb0-7df5947bf349  2019-10-22   \n",
       "4  00157779-810c-4498-9e05-a1e9e3cedf93  2019-10-19   \n",
       "\n",
       "                ses_time_min               ses_time_max  \n",
       "0 2019-10-07 13:39:45.989359 2019-10-07 13:49:41.716617  \n",
       "1 2019-10-09 18:33:55.577963 2019-10-09 18:42:22.963948  \n",
       "2 2019-10-21 19:52:30.778932 2019-10-21 20:07:30.051028  \n",
       "3 2019-10-22 11:18:14.635436 2019-10-22 11:30:52.807203  \n",
       "4 2019-10-19 21:34:33.849769 2019-10-19 21:59:54.637098  "
      ]
     },
     "execution_count": 25,
     "metadata": {},
     "output_type": "execute_result"
    }
   ],
   "source": [
    "ses_time = ses_time_min.merge(ses_time_max , on=['user_id', 'event_day'] , how='left')\n",
    "ses_time.head()"
   ]
  },
  {
   "cell_type": "markdown",
   "metadata": {},
   "source": [
    "##### Численные данные."
   ]
  },
  {
   "cell_type": "markdown",
   "metadata": {},
   "source": [
    "Численными данными в данных датасетах будем считать информацию по датам - проверим их на наличие каких-то ошибок или аномалий"
   ]
  },
  {
   "cell_type": "markdown",
   "metadata": {},
   "source": [
    "Логично, что время начала сессии ('ses_time_min') было раньше, чем время окончания сессии ('ses_time_max'), поэтому оно должно быть меньше. Проверим: "
   ]
  },
  {
   "cell_type": "code",
   "execution_count": 26,
   "metadata": {},
   "outputs": [
    {
     "data": {
      "text/plain": [
       "user_id         0\n",
       "event_day       0\n",
       "ses_time_min    0\n",
       "ses_time_max    0\n",
       "dtype: int64"
      ]
     },
     "execution_count": 26,
     "metadata": {},
     "output_type": "execute_result"
    }
   ],
   "source": [
    "ses_time[ses_time['ses_time_max']< ses_time['ses_time_min']].count()"
   ]
  },
  {
   "cell_type": "markdown",
   "metadata": {},
   "source": [
    "Итак, аномалий в числовых данных не обнаружено."
   ]
  },
  {
   "cell_type": "markdown",
   "metadata": {},
   "source": [
    "Вывод по п.1:\n",
    "\n",
    "Итак, в данном пункте исследования были загружены основные данные и проведены следующие проверки:\n",
    "\n",
    "1) Переведены в тип дата:\n",
    "\n",
    "датасет dataset\n",
    "\n",
    "- event.time\n",
    "\n",
    "2) Проверка наличия пропусков и дубликатов в данных показала их отсутствие.\n",
    "\n",
    "3) Проверка категорийных и численных данных показала отсутсвие описок или ошибок в них.\n",
    "\n",
    "4) были созданы пользовательские профили\n",
    "\n",
    "\n"
   ]
  },
  {
   "cell_type": "markdown",
   "metadata": {},
   "source": [
    "## Исследовательский анализ данных."
   ]
  },
  {
   "cell_type": "markdown",
   "metadata": {},
   "source": [
    "Итак, мы создали расширенные пользовательские профили, определили время первого и последнего события по каждому пользователю - все это нам необходимо в дальнейшем исследовании. "
   ]
  },
  {
   "cell_type": "markdown",
   "metadata": {},
   "source": [
    "### Источники, с которых пользователи установливают приложение."
   ]
  },
  {
   "cell_type": "markdown",
   "metadata": {},
   "source": [
    "Выясним источники, с которых пользователь устанавливает приложение(столбец source)."
   ]
  },
  {
   "cell_type": "code",
   "execution_count": 27,
   "metadata": {},
   "outputs": [
    {
     "data": {
      "text/html": [
       "<div>\n",
       "<style scoped>\n",
       "    .dataframe tbody tr th:only-of-type {\n",
       "        vertical-align: middle;\n",
       "    }\n",
       "\n",
       "    .dataframe tbody tr th {\n",
       "        vertical-align: top;\n",
       "    }\n",
       "\n",
       "    .dataframe thead th {\n",
       "        text-align: right;\n",
       "    }\n",
       "</style>\n",
       "<table border=\"1\" class=\"dataframe\">\n",
       "  <thead>\n",
       "    <tr style=\"text-align: right;\">\n",
       "      <th></th>\n",
       "      <th>event.time</th>\n",
       "      <th>event.name</th>\n",
       "      <th>user_id</th>\n",
       "      <th>source</th>\n",
       "      <th>event_day</th>\n",
       "    </tr>\n",
       "  </thead>\n",
       "  <tbody>\n",
       "    <tr>\n",
       "      <th>0</th>\n",
       "      <td>2019-10-07 00:00:00.431357</td>\n",
       "      <td>advert_open</td>\n",
       "      <td>020292ab-89bc-4156-9acf-68bc2783f894</td>\n",
       "      <td>other</td>\n",
       "      <td>2019-10-07</td>\n",
       "    </tr>\n",
       "    <tr>\n",
       "      <th>1</th>\n",
       "      <td>2019-10-07 00:00:01.236320</td>\n",
       "      <td>tips_show</td>\n",
       "      <td>020292ab-89bc-4156-9acf-68bc2783f894</td>\n",
       "      <td>other</td>\n",
       "      <td>2019-10-07</td>\n",
       "    </tr>\n",
       "    <tr>\n",
       "      <th>2</th>\n",
       "      <td>2019-10-07 00:00:02.245341</td>\n",
       "      <td>tips_show</td>\n",
       "      <td>cf7eda61-9349-469f-ac27-e5b6f5ec475c</td>\n",
       "      <td>yandex</td>\n",
       "      <td>2019-10-07</td>\n",
       "    </tr>\n",
       "    <tr>\n",
       "      <th>3</th>\n",
       "      <td>2019-10-07 00:00:07.039334</td>\n",
       "      <td>tips_show</td>\n",
       "      <td>020292ab-89bc-4156-9acf-68bc2783f894</td>\n",
       "      <td>other</td>\n",
       "      <td>2019-10-07</td>\n",
       "    </tr>\n",
       "    <tr>\n",
       "      <th>4</th>\n",
       "      <td>2019-10-07 00:00:56.319813</td>\n",
       "      <td>advert_open</td>\n",
       "      <td>cf7eda61-9349-469f-ac27-e5b6f5ec475c</td>\n",
       "      <td>yandex</td>\n",
       "      <td>2019-10-07</td>\n",
       "    </tr>\n",
       "  </tbody>\n",
       "</table>\n",
       "</div>"
      ],
      "text/plain": [
       "                  event.time   event.name  \\\n",
       "0 2019-10-07 00:00:00.431357  advert_open   \n",
       "1 2019-10-07 00:00:01.236320    tips_show   \n",
       "2 2019-10-07 00:00:02.245341    tips_show   \n",
       "3 2019-10-07 00:00:07.039334    tips_show   \n",
       "4 2019-10-07 00:00:56.319813  advert_open   \n",
       "\n",
       "                                user_id  source   event_day  \n",
       "0  020292ab-89bc-4156-9acf-68bc2783f894   other  2019-10-07  \n",
       "1  020292ab-89bc-4156-9acf-68bc2783f894   other  2019-10-07  \n",
       "2  cf7eda61-9349-469f-ac27-e5b6f5ec475c  yandex  2019-10-07  \n",
       "3  020292ab-89bc-4156-9acf-68bc2783f894   other  2019-10-07  \n",
       "4  cf7eda61-9349-469f-ac27-e5b6f5ec475c  yandex  2019-10-07  "
      ]
     },
     "execution_count": 27,
     "metadata": {},
     "output_type": "execute_result"
    }
   ],
   "source": [
    "dataset_sources.head()"
   ]
  },
  {
   "cell_type": "code",
   "execution_count": 28,
   "metadata": {},
   "outputs": [
    {
     "data": {
      "text/html": [
       "<div>\n",
       "<style scoped>\n",
       "    .dataframe tbody tr th:only-of-type {\n",
       "        vertical-align: middle;\n",
       "    }\n",
       "\n",
       "    .dataframe tbody tr th {\n",
       "        vertical-align: top;\n",
       "    }\n",
       "\n",
       "    .dataframe thead th {\n",
       "        text-align: right;\n",
       "    }\n",
       "</style>\n",
       "<table border=\"1\" class=\"dataframe\">\n",
       "  <thead>\n",
       "    <tr style=\"text-align: right;\">\n",
       "      <th></th>\n",
       "      <th>user_id</th>\n",
       "    </tr>\n",
       "    <tr>\n",
       "      <th>source</th>\n",
       "      <th></th>\n",
       "    </tr>\n",
       "  </thead>\n",
       "  <tbody>\n",
       "    <tr>\n",
       "      <th>yandex</th>\n",
       "      <td>1934</td>\n",
       "    </tr>\n",
       "    <tr>\n",
       "      <th>other</th>\n",
       "      <td>1229</td>\n",
       "    </tr>\n",
       "    <tr>\n",
       "      <th>google</th>\n",
       "      <td>1129</td>\n",
       "    </tr>\n",
       "  </tbody>\n",
       "</table>\n",
       "</div>"
      ],
      "text/plain": [
       "        user_id\n",
       "source         \n",
       "yandex     1934\n",
       "other      1229\n",
       "google     1129"
      ]
     },
     "metadata": {},
     "output_type": "display_data"
    }
   ],
   "source": [
    "#сгруппируем по источникам\n",
    "#найдем количество пользователей\n",
    "#отсортируем по количеству \n",
    "\n",
    "display(dataset_sources.groupby('source').agg({'user_id':'nunique'})\\\n",
    "        .sort_values(by = 'user_id',ascending = False))"
   ]
  },
  {
   "cell_type": "code",
   "execution_count": 29,
   "metadata": {},
   "outputs": [
    {
     "data": {
      "text/plain": [
       "<AxesSubplot:title={'center':'Источники привлечения пользователей'}, xlabel='source'>"
      ]
     },
     "execution_count": 29,
     "metadata": {},
     "output_type": "execute_result"
    },
    {
     "data": {
      "image/png": "[encoded data removed]",
      "text/plain": [
       "<Figure size 432x288 with 1 Axes>"
      ]
     },
     "metadata": {
      "needs_background": "light"
     },
     "output_type": "display_data"
    }
   ],
   "source": [
    "dataset_sources.groupby('source').agg({'user_id':'nunique'})\\\n",
    "        .sort_values(by = 'user_id',ascending = False)\\\n",
    ".plot(y='user_id', kind='bar', title=('Источники привлечения пользователей'))"
   ]
  },
  {
   "cell_type": "markdown",
   "metadata": {},
   "source": [
    "Согласно полученным данным, yandex, как источник привлечения пользователей данного приложения, лидирует."
   ]
  },
  {
   "cell_type": "markdown",
   "metadata": {},
   "source": [
    "### Оценка пользовательской активности."
   ]
  },
  {
   "cell_type": "markdown",
   "metadata": {},
   "source": [
    "Чтобы посчитать дневную и недельную  активность пользователей (DAU, WAU), преобраузем данные о времени и выделим год, месяц и неделю начала сессии в отдельные столбцы. Построим графики."
   ]
  },
  {
   "cell_type": "code",
   "execution_count": 30,
   "metadata": {},
   "outputs": [
    {
     "data": {
      "text/html": [
       "<div>\n",
       "<style scoped>\n",
       "    .dataframe tbody tr th:only-of-type {\n",
       "        vertical-align: middle;\n",
       "    }\n",
       "\n",
       "    .dataframe tbody tr th {\n",
       "        vertical-align: top;\n",
       "    }\n",
       "\n",
       "    .dataframe thead th {\n",
       "        text-align: right;\n",
       "    }\n",
       "</style>\n",
       "<table border=\"1\" class=\"dataframe\">\n",
       "  <thead>\n",
       "    <tr style=\"text-align: right;\">\n",
       "      <th></th>\n",
       "      <th>user_id</th>\n",
       "      <th>event_day</th>\n",
       "      <th>ses_time_min</th>\n",
       "      <th>ses_time_max</th>\n",
       "    </tr>\n",
       "  </thead>\n",
       "  <tbody>\n",
       "    <tr>\n",
       "      <th>0</th>\n",
       "      <td>0001b1d5-b74a-4cbf-aeb0-7df5947bf349</td>\n",
       "      <td>2019-10-07</td>\n",
       "      <td>2019-10-07 13:39:45.989359</td>\n",
       "      <td>2019-10-07 13:49:41.716617</td>\n",
       "    </tr>\n",
       "    <tr>\n",
       "      <th>1</th>\n",
       "      <td>0001b1d5-b74a-4cbf-aeb0-7df5947bf349</td>\n",
       "      <td>2019-10-09</td>\n",
       "      <td>2019-10-09 18:33:55.577963</td>\n",
       "      <td>2019-10-09 18:42:22.963948</td>\n",
       "    </tr>\n",
       "    <tr>\n",
       "      <th>2</th>\n",
       "      <td>0001b1d5-b74a-4cbf-aeb0-7df5947bf349</td>\n",
       "      <td>2019-10-21</td>\n",
       "      <td>2019-10-21 19:52:30.778932</td>\n",
       "      <td>2019-10-21 20:07:30.051028</td>\n",
       "    </tr>\n",
       "    <tr>\n",
       "      <th>3</th>\n",
       "      <td>0001b1d5-b74a-4cbf-aeb0-7df5947bf349</td>\n",
       "      <td>2019-10-22</td>\n",
       "      <td>2019-10-22 11:18:14.635436</td>\n",
       "      <td>2019-10-22 11:30:52.807203</td>\n",
       "    </tr>\n",
       "    <tr>\n",
       "      <th>4</th>\n",
       "      <td>00157779-810c-4498-9e05-a1e9e3cedf93</td>\n",
       "      <td>2019-10-19</td>\n",
       "      <td>2019-10-19 21:34:33.849769</td>\n",
       "      <td>2019-10-19 21:59:54.637098</td>\n",
       "    </tr>\n",
       "  </tbody>\n",
       "</table>\n",
       "</div>"
      ],
      "text/plain": [
       "                                user_id   event_day  \\\n",
       "0  0001b1d5-b74a-4cbf-aeb0-7df5947bf349  2019-10-07   \n",
       "1  0001b1d5-b74a-4cbf-aeb0-7df5947bf349  2019-10-09   \n",
       "2  0001b1d5-b74a-4cbf-aeb0-7df5947bf349  2019-10-21   \n",
       "3  0001b1d5-b74a-4cbf-aeb0-7df5947bf349  2019-10-22   \n",
       "4  00157779-810c-4498-9e05-a1e9e3cedf93  2019-10-19   \n",
       "\n",
       "                ses_time_min               ses_time_max  \n",
       "0 2019-10-07 13:39:45.989359 2019-10-07 13:49:41.716617  \n",
       "1 2019-10-09 18:33:55.577963 2019-10-09 18:42:22.963948  \n",
       "2 2019-10-21 19:52:30.778932 2019-10-21 20:07:30.051028  \n",
       "3 2019-10-22 11:18:14.635436 2019-10-22 11:30:52.807203  \n",
       "4 2019-10-19 21:34:33.849769 2019-10-19 21:59:54.637098  "
      ]
     },
     "execution_count": 30,
     "metadata": {},
     "output_type": "execute_result"
    }
   ],
   "source": [
    "ses_time.head()"
   ]
  },
  {
   "cell_type": "code",
   "execution_count": 31,
   "metadata": {},
   "outputs": [
    {
     "data": {
      "text/html": [
       "<div>\n",
       "<style scoped>\n",
       "    .dataframe tbody tr th:only-of-type {\n",
       "        vertical-align: middle;\n",
       "    }\n",
       "\n",
       "    .dataframe tbody tr th {\n",
       "        vertical-align: top;\n",
       "    }\n",
       "\n",
       "    .dataframe thead th {\n",
       "        text-align: right;\n",
       "    }\n",
       "</style>\n",
       "<table border=\"1\" class=\"dataframe\">\n",
       "  <thead>\n",
       "    <tr style=\"text-align: right;\">\n",
       "      <th></th>\n",
       "      <th>user_id</th>\n",
       "      <th>event_day</th>\n",
       "      <th>ses_time_min</th>\n",
       "      <th>ses_time_max</th>\n",
       "      <th>Session_Start_year</th>\n",
       "      <th>Session_Start_month</th>\n",
       "      <th>Session_Start_week</th>\n",
       "      <th>Session_Start_date</th>\n",
       "    </tr>\n",
       "  </thead>\n",
       "  <tbody>\n",
       "    <tr>\n",
       "      <th>0</th>\n",
       "      <td>0001b1d5-b74a-4cbf-aeb0-7df5947bf349</td>\n",
       "      <td>2019-10-07</td>\n",
       "      <td>2019-10-07 13:39:45.989359</td>\n",
       "      <td>2019-10-07 13:49:41.716617</td>\n",
       "      <td>2019</td>\n",
       "      <td>2019-10-01</td>\n",
       "      <td>2019-10-03</td>\n",
       "      <td>2019-10-07</td>\n",
       "    </tr>\n",
       "    <tr>\n",
       "      <th>1</th>\n",
       "      <td>0001b1d5-b74a-4cbf-aeb0-7df5947bf349</td>\n",
       "      <td>2019-10-09</td>\n",
       "      <td>2019-10-09 18:33:55.577963</td>\n",
       "      <td>2019-10-09 18:42:22.963948</td>\n",
       "      <td>2019</td>\n",
       "      <td>2019-10-01</td>\n",
       "      <td>2019-10-03</td>\n",
       "      <td>2019-10-09</td>\n",
       "    </tr>\n",
       "    <tr>\n",
       "      <th>2</th>\n",
       "      <td>0001b1d5-b74a-4cbf-aeb0-7df5947bf349</td>\n",
       "      <td>2019-10-21</td>\n",
       "      <td>2019-10-21 19:52:30.778932</td>\n",
       "      <td>2019-10-21 20:07:30.051028</td>\n",
       "      <td>2019</td>\n",
       "      <td>2019-10-01</td>\n",
       "      <td>2019-10-17</td>\n",
       "      <td>2019-10-21</td>\n",
       "    </tr>\n",
       "    <tr>\n",
       "      <th>3</th>\n",
       "      <td>0001b1d5-b74a-4cbf-aeb0-7df5947bf349</td>\n",
       "      <td>2019-10-22</td>\n",
       "      <td>2019-10-22 11:18:14.635436</td>\n",
       "      <td>2019-10-22 11:30:52.807203</td>\n",
       "      <td>2019</td>\n",
       "      <td>2019-10-01</td>\n",
       "      <td>2019-10-17</td>\n",
       "      <td>2019-10-22</td>\n",
       "    </tr>\n",
       "    <tr>\n",
       "      <th>4</th>\n",
       "      <td>00157779-810c-4498-9e05-a1e9e3cedf93</td>\n",
       "      <td>2019-10-19</td>\n",
       "      <td>2019-10-19 21:34:33.849769</td>\n",
       "      <td>2019-10-19 21:59:54.637098</td>\n",
       "      <td>2019</td>\n",
       "      <td>2019-10-01</td>\n",
       "      <td>2019-10-17</td>\n",
       "      <td>2019-10-19</td>\n",
       "    </tr>\n",
       "  </tbody>\n",
       "</table>\n",
       "</div>"
      ],
      "text/plain": [
       "                                user_id   event_day  \\\n",
       "0  0001b1d5-b74a-4cbf-aeb0-7df5947bf349  2019-10-07   \n",
       "1  0001b1d5-b74a-4cbf-aeb0-7df5947bf349  2019-10-09   \n",
       "2  0001b1d5-b74a-4cbf-aeb0-7df5947bf349  2019-10-21   \n",
       "3  0001b1d5-b74a-4cbf-aeb0-7df5947bf349  2019-10-22   \n",
       "4  00157779-810c-4498-9e05-a1e9e3cedf93  2019-10-19   \n",
       "\n",
       "                ses_time_min               ses_time_max  Session_Start_year  \\\n",
       "0 2019-10-07 13:39:45.989359 2019-10-07 13:49:41.716617                2019   \n",
       "1 2019-10-09 18:33:55.577963 2019-10-09 18:42:22.963948                2019   \n",
       "2 2019-10-21 19:52:30.778932 2019-10-21 20:07:30.051028                2019   \n",
       "3 2019-10-22 11:18:14.635436 2019-10-22 11:30:52.807203                2019   \n",
       "4 2019-10-19 21:34:33.849769 2019-10-19 21:59:54.637098                2019   \n",
       "\n",
       "  Session_Start_month Session_Start_week Session_Start_date  \n",
       "0          2019-10-01         2019-10-03         2019-10-07  \n",
       "1          2019-10-01         2019-10-03         2019-10-09  \n",
       "2          2019-10-01         2019-10-17         2019-10-21  \n",
       "3          2019-10-01         2019-10-17         2019-10-22  \n",
       "4          2019-10-01         2019-10-17         2019-10-19  "
      ]
     },
     "metadata": {},
     "output_type": "display_data"
    }
   ],
   "source": [
    "# выделяем год, номер месяца и номер недели из времени начала сессии\n",
    "ses_time['Session_Start_year'] = ses_time['ses_time_min'].dt.year\n",
    "ses_time['Session_Start_month'] = ses_time['ses_time_min'].astype ('datetime64[M]')\n",
    "ses_time['Session_Start_week'] = ses_time['ses_time_min'].astype ('datetime64[W]')\n",
    "ses_time['Session_Start_date'] = ses_time['ses_time_min'].dt.date\n",
    "\n",
    "display(ses_time.head())"
   ]
  },
  {
   "cell_type": "code",
   "execution_count": 32,
   "metadata": {},
   "outputs": [
    {
     "data": {
      "text/plain": [
       "279"
      ]
     },
     "metadata": {},
     "output_type": "display_data"
    },
    {
     "data": {
      "text/plain": [
       "1425"
      ]
     },
     "metadata": {},
     "output_type": "display_data"
    }
   ],
   "source": [
    "#посчитаем DAU, WAU \n",
    "\n",
    "dau_total = (\n",
    "    ses_time.groupby('Session_Start_date').agg({'user_id': 'nunique'}).mean()\n",
    ")\n",
    "\n",
    "wau_total = (ses_time\n",
    " .groupby(['Session_Start_week'])\n",
    " .agg({'user_id': 'nunique', 'Session_Start_date' : 'nunique'})\n",
    " .query('Session_Start_date == 7')\n",
    ")['user_id'].mean()\n",
    "\n",
    "\n",
    "\n",
    "display(int(dau_total))\n",
    "display(int(wau_total)) \n"
   ]
  },
  {
   "cell_type": "code",
   "execution_count": 33,
   "metadata": {},
   "outputs": [
    {
     "data": {
      "image/png": "[encoded data removed]",
      "text/plain": [
       "<Figure size 720x720 with 1 Axes>"
      ]
     },
     "metadata": {
      "needs_background": "light"
     },
     "output_type": "display_data"
    }
   ],
   "source": [
    "#построим график DAU\n",
    "dau_total = (\n",
    "    ses_time.groupby('Session_Start_date').agg({'user_id': 'nunique'})\n",
    ")\\\n",
    ".plot(grid=True, figsize=(10, 10))\n",
    "plt.xlabel('Дата начала сессии', fontsize = 12, color = 'red')\n",
    "plt.ylabel('Кол-во уникальных пользователей в день', fontsize = 12, color = 'red')\n",
    "plt.title('График изменения DAU во времени', fontsize = 17, color = 'blue')\n",
    "plt.axhline(y=99, color='r', linestyle='-')\n",
    "plt.show()"
   ]
  },
  {
   "cell_type": "markdown",
   "metadata": {},
   "source": [
    "Судя по графику DAU: отмечаем цикличность показателя и тенденцию роста. К концу исследуемого периода DAU резко упало, но начинает расти."
   ]
  },
  {
   "cell_type": "code",
   "execution_count": 34,
   "metadata": {},
   "outputs": [
    {
     "data": {
      "text/html": [
       "<div>\n",
       "<style scoped>\n",
       "    .dataframe tbody tr th:only-of-type {\n",
       "        vertical-align: middle;\n",
       "    }\n",
       "\n",
       "    .dataframe tbody tr th {\n",
       "        vertical-align: top;\n",
       "    }\n",
       "\n",
       "    .dataframe thead th {\n",
       "        text-align: right;\n",
       "    }\n",
       "</style>\n",
       "<table border=\"1\" class=\"dataframe\">\n",
       "  <thead>\n",
       "    <tr style=\"text-align: right;\">\n",
       "      <th></th>\n",
       "      <th>user_id</th>\n",
       "      <th>Session_Start_date</th>\n",
       "    </tr>\n",
       "    <tr>\n",
       "      <th>Session_Start_week</th>\n",
       "      <th></th>\n",
       "      <th></th>\n",
       "    </tr>\n",
       "  </thead>\n",
       "  <tbody>\n",
       "    <tr>\n",
       "      <th>2019-10-10</th>\n",
       "      <td>1268</td>\n",
       "      <td>7</td>\n",
       "    </tr>\n",
       "    <tr>\n",
       "      <th>2019-10-17</th>\n",
       "      <td>1490</td>\n",
       "      <td>7</td>\n",
       "    </tr>\n",
       "    <tr>\n",
       "      <th>2019-10-24</th>\n",
       "      <td>1519</td>\n",
       "      <td>7</td>\n",
       "    </tr>\n",
       "  </tbody>\n",
       "</table>\n",
       "</div>"
      ],
      "text/plain": [
       "                    user_id  Session_Start_date\n",
       "Session_Start_week                             \n",
       "2019-10-10             1268                   7\n",
       "2019-10-17             1490                   7\n",
       "2019-10-24             1519                   7"
      ]
     },
     "execution_count": 34,
     "metadata": {},
     "output_type": "execute_result"
    }
   ],
   "source": [
    "ses_time \\\n",
    " .groupby(['Session_Start_week']) \\\n",
    " .agg({'user_id':'nunique', 'Session_Start_date':'nunique'}) \\\n",
    " .query('Session_Start_date == 7')"
   ]
  },
  {
   "cell_type": "code",
   "execution_count": 35,
   "metadata": {},
   "outputs": [
    {
     "data": {
      "image/png": "[encoded data removed]",
      "text/plain": [
       "<Figure size 720x720 with 1 Axes>"
      ]
     },
     "metadata": {
      "needs_background": "light"
     },
     "output_type": "display_data"
    }
   ],
   "source": [
    "#построим график WAU\n",
    "ses_time \\\n",
    " .groupby(['Session_Start_week']) \\\n",
    " .agg({'user_id':'nunique', 'Session_Start_date':'nunique'}) \\\n",
    " .query('Session_Start_date == 7').plot(grid=True, figsize=(10, 10))\n",
    "plt.xlabel('Недели', fontsize = 12, color = 'red')\n",
    "plt.ylabel('Кол-во уникальных пользователей в неделю', fontsize = 12, color = 'red')\n",
    "plt.title('График изменения WAU во времени', fontsize = 17, color = 'blue')\n",
    "plt.axhline(y=int(wau_total), color='r', linestyle='-')\n",
    "plt.show()"
   ]
  },
  {
   "cell_type": "markdown",
   "metadata": {},
   "source": [
    "По графику WAU видно, что этот показатель плавно растет."
   ]
  },
  {
   "cell_type": "markdown",
   "metadata": {},
   "source": [
    "Итак по графикам пользовательской активности видна тенденция роста, однако в конце октября 2019 года количество уникальных пользователей резко начало снижаться, но учитывая анализ динамики по дням - заметна цикличность данного показателя, и в начале ноября рост."
   ]
  },
  {
   "cell_type": "markdown",
   "metadata": {},
   "source": [
    "### Пользовательские сессии."
   ]
  },
  {
   "cell_type": "markdown",
   "metadata": {},
   "source": [
    "Средняя продолжительность сессии, или ASL, показывает, сколько в среднем длится сессия пользователя."
   ]
  },
  {
   "cell_type": "markdown",
   "metadata": {},
   "source": [
    "Найдём ASL — посчитаем длительность всех сессий и вычислим среднее."
   ]
  },
  {
   "cell_type": "code",
   "execution_count": 36,
   "metadata": {},
   "outputs": [
    {
     "data": {
      "text/html": [
       "<div>\n",
       "<style scoped>\n",
       "    .dataframe tbody tr th:only-of-type {\n",
       "        vertical-align: middle;\n",
       "    }\n",
       "\n",
       "    .dataframe tbody tr th {\n",
       "        vertical-align: top;\n",
       "    }\n",
       "\n",
       "    .dataframe thead th {\n",
       "        text-align: right;\n",
       "    }\n",
       "</style>\n",
       "<table border=\"1\" class=\"dataframe\">\n",
       "  <thead>\n",
       "    <tr style=\"text-align: right;\">\n",
       "      <th></th>\n",
       "      <th>user_id</th>\n",
       "      <th>event_day</th>\n",
       "      <th>ses_time_min</th>\n",
       "      <th>ses_time_max</th>\n",
       "      <th>Session_Start_year</th>\n",
       "      <th>Session_Start_month</th>\n",
       "      <th>Session_Start_week</th>\n",
       "      <th>Session_Start_date</th>\n",
       "    </tr>\n",
       "  </thead>\n",
       "  <tbody>\n",
       "    <tr>\n",
       "      <th>0</th>\n",
       "      <td>0001b1d5-b74a-4cbf-aeb0-7df5947bf349</td>\n",
       "      <td>2019-10-07</td>\n",
       "      <td>2019-10-07 13:39:45.989359</td>\n",
       "      <td>2019-10-07 13:49:41.716617</td>\n",
       "      <td>2019</td>\n",
       "      <td>2019-10-01</td>\n",
       "      <td>2019-10-03</td>\n",
       "      <td>2019-10-07</td>\n",
       "    </tr>\n",
       "    <tr>\n",
       "      <th>1</th>\n",
       "      <td>0001b1d5-b74a-4cbf-aeb0-7df5947bf349</td>\n",
       "      <td>2019-10-09</td>\n",
       "      <td>2019-10-09 18:33:55.577963</td>\n",
       "      <td>2019-10-09 18:42:22.963948</td>\n",
       "      <td>2019</td>\n",
       "      <td>2019-10-01</td>\n",
       "      <td>2019-10-03</td>\n",
       "      <td>2019-10-09</td>\n",
       "    </tr>\n",
       "    <tr>\n",
       "      <th>2</th>\n",
       "      <td>0001b1d5-b74a-4cbf-aeb0-7df5947bf349</td>\n",
       "      <td>2019-10-21</td>\n",
       "      <td>2019-10-21 19:52:30.778932</td>\n",
       "      <td>2019-10-21 20:07:30.051028</td>\n",
       "      <td>2019</td>\n",
       "      <td>2019-10-01</td>\n",
       "      <td>2019-10-17</td>\n",
       "      <td>2019-10-21</td>\n",
       "    </tr>\n",
       "    <tr>\n",
       "      <th>3</th>\n",
       "      <td>0001b1d5-b74a-4cbf-aeb0-7df5947bf349</td>\n",
       "      <td>2019-10-22</td>\n",
       "      <td>2019-10-22 11:18:14.635436</td>\n",
       "      <td>2019-10-22 11:30:52.807203</td>\n",
       "      <td>2019</td>\n",
       "      <td>2019-10-01</td>\n",
       "      <td>2019-10-17</td>\n",
       "      <td>2019-10-22</td>\n",
       "    </tr>\n",
       "    <tr>\n",
       "      <th>4</th>\n",
       "      <td>00157779-810c-4498-9e05-a1e9e3cedf93</td>\n",
       "      <td>2019-10-19</td>\n",
       "      <td>2019-10-19 21:34:33.849769</td>\n",
       "      <td>2019-10-19 21:59:54.637098</td>\n",
       "      <td>2019</td>\n",
       "      <td>2019-10-01</td>\n",
       "      <td>2019-10-17</td>\n",
       "      <td>2019-10-19</td>\n",
       "    </tr>\n",
       "  </tbody>\n",
       "</table>\n",
       "</div>"
      ],
      "text/plain": [
       "                                user_id   event_day  \\\n",
       "0  0001b1d5-b74a-4cbf-aeb0-7df5947bf349  2019-10-07   \n",
       "1  0001b1d5-b74a-4cbf-aeb0-7df5947bf349  2019-10-09   \n",
       "2  0001b1d5-b74a-4cbf-aeb0-7df5947bf349  2019-10-21   \n",
       "3  0001b1d5-b74a-4cbf-aeb0-7df5947bf349  2019-10-22   \n",
       "4  00157779-810c-4498-9e05-a1e9e3cedf93  2019-10-19   \n",
       "\n",
       "                ses_time_min               ses_time_max  Session_Start_year  \\\n",
       "0 2019-10-07 13:39:45.989359 2019-10-07 13:49:41.716617                2019   \n",
       "1 2019-10-09 18:33:55.577963 2019-10-09 18:42:22.963948                2019   \n",
       "2 2019-10-21 19:52:30.778932 2019-10-21 20:07:30.051028                2019   \n",
       "3 2019-10-22 11:18:14.635436 2019-10-22 11:30:52.807203                2019   \n",
       "4 2019-10-19 21:34:33.849769 2019-10-19 21:59:54.637098                2019   \n",
       "\n",
       "  Session_Start_month Session_Start_week Session_Start_date  \n",
       "0          2019-10-01         2019-10-03         2019-10-07  \n",
       "1          2019-10-01         2019-10-03         2019-10-09  \n",
       "2          2019-10-01         2019-10-17         2019-10-21  \n",
       "3          2019-10-01         2019-10-17         2019-10-22  \n",
       "4          2019-10-01         2019-10-17         2019-10-19  "
      ]
     },
     "execution_count": 36,
     "metadata": {},
     "output_type": "execute_result"
    }
   ],
   "source": [
    "ses_time.head()"
   ]
  },
  {
   "cell_type": "code",
   "execution_count": 37,
   "metadata": {},
   "outputs": [
    {
     "data": {
      "text/plain": [
       "4977"
      ]
     },
     "metadata": {},
     "output_type": "display_data"
    }
   ],
   "source": [
    "# считаем ASL в секундах\n",
    "\n",
    "ses_time['session_duration_sec'] = (\n",
    "    ses_time['ses_time_max'] - ses_time['ses_time_min']\n",
    ").dt.total_seconds()\n",
    "\n",
    "display(int((ses_time['session_duration_sec'].mean()))) "
   ]
  },
  {
   "cell_type": "code",
   "execution_count": 38,
   "metadata": {},
   "outputs": [
    {
     "data": {
      "text/plain": [
       "83.0"
      ]
     },
     "execution_count": 38,
     "metadata": {},
     "output_type": "execute_result"
    }
   ],
   "source": [
    "#переведем секунды в минуты и округлим до целого\n",
    "round((int((ses_time['session_duration_sec'].mean()))/60),0)"
   ]
  },
  {
   "cell_type": "markdown",
   "metadata": {},
   "source": [
    "Итог, что пользователям в среднем от начала до конца сессии необходимо 83 минуты (примерно 1,5 часа)."
   ]
  },
  {
   "cell_type": "markdown",
   "metadata": {},
   "source": [
    "Теперь взглянем на распределение."
   ]
  },
  {
   "cell_type": "code",
   "execution_count": 39,
   "metadata": {},
   "outputs": [
    {
     "data": {
      "image/png": "[encoded data removed]",
      "text/plain": [
       "<Figure size 432x288 with 1 Axes>"
      ]
     },
     "metadata": {
      "needs_background": "light"
     },
     "output_type": "display_data"
    }
   ],
   "source": [
    "# строим гистограмму\n",
    "\n",
    "ses_time['session_duration_sec'].hist(bins=30)\n",
    "plt.title('Продолжительность сессий')\n",
    "plt.show() "
   ]
  },
  {
   "cell_type": "markdown",
   "metadata": {},
   "source": [
    "Секунды, проведённые пользователями в приложении, имеют экспоненциальное распределение с пиком в районе нуля. И это нормально — в любом цифровом сервисе очень многие сессии заканчиваются техническими ошибками.\n",
    "Все «ошибочные» сессии на графике попадают в корзину, которая ближе всего к нулю, а успешные — «размазываются» в длинный хвост. "
   ]
  },
  {
   "cell_type": "markdown",
   "metadata": {},
   "source": [
    "### Продолжительность одной сессии."
   ]
  },
  {
   "cell_type": "markdown",
   "metadata": {},
   "source": [
    "Чтобы оценить «здоровье» сессий, ожидаемую длительность минимального пользовательского пути сравнивают с медианной продолжительностью сессии. "
   ]
  },
  {
   "cell_type": "code",
   "execution_count": 40,
   "metadata": {},
   "outputs": [
    {
     "data": {
      "text/plain": [
       "11.809974733333336"
      ]
     },
     "metadata": {},
     "output_type": "display_data"
    }
   ],
   "source": [
    "display(ses_time['session_duration_sec'].median()/60) "
   ]
  },
  {
   "cell_type": "markdown",
   "metadata": {},
   "source": [
    "Медианная продолжительность сессии - 11 минут, это больше радует, как средняя продолжительность (1,5 часа), но этот показатель лучше отражает реальность."
   ]
  },
  {
   "cell_type": "markdown",
   "metadata": {},
   "source": [
    "### Число пользовательских сессий."
   ]
  },
  {
   "cell_type": "markdown",
   "metadata": {},
   "source": [
    "Рассчитаем среднее число пользовательских сессий в день. Построим график. "
   ]
  },
  {
   "cell_type": "code",
   "execution_count": 41,
   "metadata": {},
   "outputs": [
    {
     "data": {
      "text/html": [
       "<div>\n",
       "<style scoped>\n",
       "    .dataframe tbody tr th:only-of-type {\n",
       "        vertical-align: middle;\n",
       "    }\n",
       "\n",
       "    .dataframe tbody tr th {\n",
       "        vertical-align: top;\n",
       "    }\n",
       "\n",
       "    .dataframe thead th {\n",
       "        text-align: right;\n",
       "    }\n",
       "</style>\n",
       "<table border=\"1\" class=\"dataframe\">\n",
       "  <thead>\n",
       "    <tr style=\"text-align: right;\">\n",
       "      <th></th>\n",
       "      <th>user_id</th>\n",
       "      <th>event_day</th>\n",
       "      <th>ses_time_min</th>\n",
       "      <th>ses_time_max</th>\n",
       "      <th>Session_Start_year</th>\n",
       "      <th>Session_Start_month</th>\n",
       "      <th>Session_Start_week</th>\n",
       "      <th>Session_Start_date</th>\n",
       "      <th>session_duration_sec</th>\n",
       "    </tr>\n",
       "  </thead>\n",
       "  <tbody>\n",
       "    <tr>\n",
       "      <th>0</th>\n",
       "      <td>0001b1d5-b74a-4cbf-aeb0-7df5947bf349</td>\n",
       "      <td>2019-10-07</td>\n",
       "      <td>2019-10-07 13:39:45.989359</td>\n",
       "      <td>2019-10-07 13:49:41.716617</td>\n",
       "      <td>2019</td>\n",
       "      <td>2019-10-01</td>\n",
       "      <td>2019-10-03</td>\n",
       "      <td>2019-10-07</td>\n",
       "      <td>595.727258</td>\n",
       "    </tr>\n",
       "    <tr>\n",
       "      <th>1</th>\n",
       "      <td>0001b1d5-b74a-4cbf-aeb0-7df5947bf349</td>\n",
       "      <td>2019-10-09</td>\n",
       "      <td>2019-10-09 18:33:55.577963</td>\n",
       "      <td>2019-10-09 18:42:22.963948</td>\n",
       "      <td>2019</td>\n",
       "      <td>2019-10-01</td>\n",
       "      <td>2019-10-03</td>\n",
       "      <td>2019-10-09</td>\n",
       "      <td>507.385985</td>\n",
       "    </tr>\n",
       "    <tr>\n",
       "      <th>2</th>\n",
       "      <td>0001b1d5-b74a-4cbf-aeb0-7df5947bf349</td>\n",
       "      <td>2019-10-21</td>\n",
       "      <td>2019-10-21 19:52:30.778932</td>\n",
       "      <td>2019-10-21 20:07:30.051028</td>\n",
       "      <td>2019</td>\n",
       "      <td>2019-10-01</td>\n",
       "      <td>2019-10-17</td>\n",
       "      <td>2019-10-21</td>\n",
       "      <td>899.272096</td>\n",
       "    </tr>\n",
       "    <tr>\n",
       "      <th>3</th>\n",
       "      <td>0001b1d5-b74a-4cbf-aeb0-7df5947bf349</td>\n",
       "      <td>2019-10-22</td>\n",
       "      <td>2019-10-22 11:18:14.635436</td>\n",
       "      <td>2019-10-22 11:30:52.807203</td>\n",
       "      <td>2019</td>\n",
       "      <td>2019-10-01</td>\n",
       "      <td>2019-10-17</td>\n",
       "      <td>2019-10-22</td>\n",
       "      <td>758.171767</td>\n",
       "    </tr>\n",
       "    <tr>\n",
       "      <th>4</th>\n",
       "      <td>00157779-810c-4498-9e05-a1e9e3cedf93</td>\n",
       "      <td>2019-10-19</td>\n",
       "      <td>2019-10-19 21:34:33.849769</td>\n",
       "      <td>2019-10-19 21:59:54.637098</td>\n",
       "      <td>2019</td>\n",
       "      <td>2019-10-01</td>\n",
       "      <td>2019-10-17</td>\n",
       "      <td>2019-10-19</td>\n",
       "      <td>1520.787329</td>\n",
       "    </tr>\n",
       "  </tbody>\n",
       "</table>\n",
       "</div>"
      ],
      "text/plain": [
       "                                user_id   event_day  \\\n",
       "0  0001b1d5-b74a-4cbf-aeb0-7df5947bf349  2019-10-07   \n",
       "1  0001b1d5-b74a-4cbf-aeb0-7df5947bf349  2019-10-09   \n",
       "2  0001b1d5-b74a-4cbf-aeb0-7df5947bf349  2019-10-21   \n",
       "3  0001b1d5-b74a-4cbf-aeb0-7df5947bf349  2019-10-22   \n",
       "4  00157779-810c-4498-9e05-a1e9e3cedf93  2019-10-19   \n",
       "\n",
       "                ses_time_min               ses_time_max  Session_Start_year  \\\n",
       "0 2019-10-07 13:39:45.989359 2019-10-07 13:49:41.716617                2019   \n",
       "1 2019-10-09 18:33:55.577963 2019-10-09 18:42:22.963948                2019   \n",
       "2 2019-10-21 19:52:30.778932 2019-10-21 20:07:30.051028                2019   \n",
       "3 2019-10-22 11:18:14.635436 2019-10-22 11:30:52.807203                2019   \n",
       "4 2019-10-19 21:34:33.849769 2019-10-19 21:59:54.637098                2019   \n",
       "\n",
       "  Session_Start_month Session_Start_week Session_Start_date  \\\n",
       "0          2019-10-01         2019-10-03         2019-10-07   \n",
       "1          2019-10-01         2019-10-03         2019-10-09   \n",
       "2          2019-10-01         2019-10-17         2019-10-21   \n",
       "3          2019-10-01         2019-10-17         2019-10-22   \n",
       "4          2019-10-01         2019-10-17         2019-10-19   \n",
       "\n",
       "   session_duration_sec  \n",
       "0            595.727258  \n",
       "1            507.385985  \n",
       "2            899.272096  \n",
       "3            758.171767  \n",
       "4           1520.787329  "
      ]
     },
     "execution_count": 41,
     "metadata": {},
     "output_type": "execute_result"
    }
   ],
   "source": [
    "ses_time.head()"
   ]
  },
  {
   "cell_type": "code",
   "execution_count": 42,
   "metadata": {},
   "outputs": [
    {
     "data": {
      "text/plain": [
       "279"
      ]
     },
     "metadata": {},
     "output_type": "display_data"
    }
   ],
   "source": [
    "session_count_mean = ses_time.groupby('Session_Start_date')\\\n",
    ".agg({'session_duration_sec': 'count'}).mean()\n",
    "display(int(session_count_mean))"
   ]
  },
  {
   "cell_type": "markdown",
   "metadata": {},
   "source": [
    "Построим график, отражающий распределение общего числа сессий в день."
   ]
  },
  {
   "cell_type": "code",
   "execution_count": 43,
   "metadata": {},
   "outputs": [
    {
     "data": {
      "image/png": "[encoded data removed]",
      "text/plain": [
       "<Figure size 720x720 with 1 Axes>"
      ]
     },
     "metadata": {
      "needs_background": "light"
     },
     "output_type": "display_data"
    }
   ],
   "source": [
    "ses_time.groupby('Session_Start_date').agg({'session_duration_sec': 'count'})\\\n",
    ".plot(grid=True, figsize=(10, 10))\n",
    "plt.xlabel('Даты', fontsize = 12, color = 'red')\n",
    "plt.ylabel('Число пользовательских сессий', fontsize = 12, color = 'red')\n",
    "plt.title('График распределение общего числа сессий в день', fontsize = 17, color = 'blue')\n",
    "plt.axhline(y=int(session_count_mean), color='r', linestyle='-')\n",
    "plt.show()"
   ]
  },
  {
   "cell_type": "markdown",
   "metadata": {},
   "source": [
    "По графику видна цикличность и тенденция к росту показателя  - число сессий в день. Хотя в в конце октября  заметен резкий спад и уже в начале ноября показатель уже пошел вверх."
   ]
  },
  {
   "cell_type": "markdown",
   "metadata": {},
   "source": [
    "Вывод по п. 2:\n",
    "- как источник привлечения пользователей данного приложения, yandex - лидирует;\n",
    "- в конце октября 2019 года количество уникальных пользователей резко начало снижаться, но учитывая анализ динамики по дням - заметна цикличность данного показателя, и в начале ноября рост;\n",
    "- по имеющимся данным, пользователям в среднем от начала до конца сессии необходимо примерно 1,5 часа. Однако, учитывая наличие выбросов, и рассчитав медианную продолжительность сессии - 11 минут, приходим к выводу, что этот показатель лучше отражает реальность.\n",
    "- рассчитано среднее число сессий в день - 279, динамика данного показателя показывает цикличность и тенденция к росту показателя  - число сессий в день. Хотя в в конце октября  заметен резкий спад и уже в начале ноября показатель уже пошел вверх."
   ]
  },
  {
   "cell_type": "markdown",
   "metadata": {},
   "source": [
    "## Выделение групп пользователей на основе действий"
   ]
  },
  {
   "cell_type": "markdown",
   "metadata": {},
   "source": [
    "Разделим всех пользователей на группы, исходя из источника, с которого пользователь установил приложение:\n",
    "- Yandex\n",
    "- Google\n",
    "- Other."
   ]
  },
  {
   "cell_type": "markdown",
   "metadata": {},
   "source": [
    "Рассчитав и проанализировав ряд метрик в разрезе этих групп, можно будет сделать вывод: какому именно источнику привлечения пользователей уделить большее внимание."
   ]
  },
  {
   "cell_type": "markdown",
   "metadata": {},
   "source": [
    "Создадим отдельные датафреймы исходных данных для этих групп и сохраним их в соответствующие переменные."
   ]
  },
  {
   "cell_type": "code",
   "execution_count": 44,
   "metadata": {},
   "outputs": [
    {
     "data": {
      "text/html": [
       "<div>\n",
       "<style scoped>\n",
       "    .dataframe tbody tr th:only-of-type {\n",
       "        vertical-align: middle;\n",
       "    }\n",
       "\n",
       "    .dataframe tbody tr th {\n",
       "        vertical-align: top;\n",
       "    }\n",
       "\n",
       "    .dataframe thead th {\n",
       "        text-align: right;\n",
       "    }\n",
       "</style>\n",
       "<table border=\"1\" class=\"dataframe\">\n",
       "  <thead>\n",
       "    <tr style=\"text-align: right;\">\n",
       "      <th></th>\n",
       "      <th>user_id</th>\n",
       "      <th>event_day</th>\n",
       "      <th>ses_time_min</th>\n",
       "      <th>ses_time_max</th>\n",
       "      <th>Session_Start_year</th>\n",
       "      <th>Session_Start_month</th>\n",
       "      <th>Session_Start_week</th>\n",
       "      <th>Session_Start_date</th>\n",
       "      <th>session_duration_sec</th>\n",
       "    </tr>\n",
       "  </thead>\n",
       "  <tbody>\n",
       "    <tr>\n",
       "      <th>0</th>\n",
       "      <td>0001b1d5-b74a-4cbf-aeb0-7df5947bf349</td>\n",
       "      <td>2019-10-07</td>\n",
       "      <td>2019-10-07 13:39:45.989359</td>\n",
       "      <td>2019-10-07 13:49:41.716617</td>\n",
       "      <td>2019</td>\n",
       "      <td>2019-10-01</td>\n",
       "      <td>2019-10-03</td>\n",
       "      <td>2019-10-07</td>\n",
       "      <td>595.727258</td>\n",
       "    </tr>\n",
       "    <tr>\n",
       "      <th>1</th>\n",
       "      <td>0001b1d5-b74a-4cbf-aeb0-7df5947bf349</td>\n",
       "      <td>2019-10-09</td>\n",
       "      <td>2019-10-09 18:33:55.577963</td>\n",
       "      <td>2019-10-09 18:42:22.963948</td>\n",
       "      <td>2019</td>\n",
       "      <td>2019-10-01</td>\n",
       "      <td>2019-10-03</td>\n",
       "      <td>2019-10-09</td>\n",
       "      <td>507.385985</td>\n",
       "    </tr>\n",
       "    <tr>\n",
       "      <th>2</th>\n",
       "      <td>0001b1d5-b74a-4cbf-aeb0-7df5947bf349</td>\n",
       "      <td>2019-10-21</td>\n",
       "      <td>2019-10-21 19:52:30.778932</td>\n",
       "      <td>2019-10-21 20:07:30.051028</td>\n",
       "      <td>2019</td>\n",
       "      <td>2019-10-01</td>\n",
       "      <td>2019-10-17</td>\n",
       "      <td>2019-10-21</td>\n",
       "      <td>899.272096</td>\n",
       "    </tr>\n",
       "    <tr>\n",
       "      <th>3</th>\n",
       "      <td>0001b1d5-b74a-4cbf-aeb0-7df5947bf349</td>\n",
       "      <td>2019-10-22</td>\n",
       "      <td>2019-10-22 11:18:14.635436</td>\n",
       "      <td>2019-10-22 11:30:52.807203</td>\n",
       "      <td>2019</td>\n",
       "      <td>2019-10-01</td>\n",
       "      <td>2019-10-17</td>\n",
       "      <td>2019-10-22</td>\n",
       "      <td>758.171767</td>\n",
       "    </tr>\n",
       "    <tr>\n",
       "      <th>4</th>\n",
       "      <td>00157779-810c-4498-9e05-a1e9e3cedf93</td>\n",
       "      <td>2019-10-19</td>\n",
       "      <td>2019-10-19 21:34:33.849769</td>\n",
       "      <td>2019-10-19 21:59:54.637098</td>\n",
       "      <td>2019</td>\n",
       "      <td>2019-10-01</td>\n",
       "      <td>2019-10-17</td>\n",
       "      <td>2019-10-19</td>\n",
       "      <td>1520.787329</td>\n",
       "    </tr>\n",
       "  </tbody>\n",
       "</table>\n",
       "</div>"
      ],
      "text/plain": [
       "                                user_id   event_day  \\\n",
       "0  0001b1d5-b74a-4cbf-aeb0-7df5947bf349  2019-10-07   \n",
       "1  0001b1d5-b74a-4cbf-aeb0-7df5947bf349  2019-10-09   \n",
       "2  0001b1d5-b74a-4cbf-aeb0-7df5947bf349  2019-10-21   \n",
       "3  0001b1d5-b74a-4cbf-aeb0-7df5947bf349  2019-10-22   \n",
       "4  00157779-810c-4498-9e05-a1e9e3cedf93  2019-10-19   \n",
       "\n",
       "                ses_time_min               ses_time_max  Session_Start_year  \\\n",
       "0 2019-10-07 13:39:45.989359 2019-10-07 13:49:41.716617                2019   \n",
       "1 2019-10-09 18:33:55.577963 2019-10-09 18:42:22.963948                2019   \n",
       "2 2019-10-21 19:52:30.778932 2019-10-21 20:07:30.051028                2019   \n",
       "3 2019-10-22 11:18:14.635436 2019-10-22 11:30:52.807203                2019   \n",
       "4 2019-10-19 21:34:33.849769 2019-10-19 21:59:54.637098                2019   \n",
       "\n",
       "  Session_Start_month Session_Start_week Session_Start_date  \\\n",
       "0          2019-10-01         2019-10-03         2019-10-07   \n",
       "1          2019-10-01         2019-10-03         2019-10-09   \n",
       "2          2019-10-01         2019-10-17         2019-10-21   \n",
       "3          2019-10-01         2019-10-17         2019-10-22   \n",
       "4          2019-10-01         2019-10-17         2019-10-19   \n",
       "\n",
       "   session_duration_sec  \n",
       "0            595.727258  \n",
       "1            507.385985  \n",
       "2            899.272096  \n",
       "3            758.171767  \n",
       "4           1520.787329  "
      ]
     },
     "execution_count": 44,
     "metadata": {},
     "output_type": "execute_result"
    }
   ],
   "source": [
    "ses_time.head()"
   ]
  },
  {
   "cell_type": "code",
   "execution_count": 45,
   "metadata": {},
   "outputs": [
    {
     "data": {
      "text/html": [
       "<div>\n",
       "<style scoped>\n",
       "    .dataframe tbody tr th:only-of-type {\n",
       "        vertical-align: middle;\n",
       "    }\n",
       "\n",
       "    .dataframe tbody tr th {\n",
       "        vertical-align: top;\n",
       "    }\n",
       "\n",
       "    .dataframe thead th {\n",
       "        text-align: right;\n",
       "    }\n",
       "</style>\n",
       "<table border=\"1\" class=\"dataframe\">\n",
       "  <thead>\n",
       "    <tr style=\"text-align: right;\">\n",
       "      <th></th>\n",
       "      <th>user_id</th>\n",
       "      <th>event_day</th>\n",
       "      <th>ses_time_min</th>\n",
       "      <th>ses_time_max</th>\n",
       "      <th>Session_Start_year</th>\n",
       "      <th>Session_Start_month</th>\n",
       "      <th>Session_Start_week</th>\n",
       "      <th>Session_Start_date</th>\n",
       "      <th>session_duration_sec</th>\n",
       "      <th>source</th>\n",
       "    </tr>\n",
       "  </thead>\n",
       "  <tbody>\n",
       "    <tr>\n",
       "      <th>0</th>\n",
       "      <td>0001b1d5-b74a-4cbf-aeb0-7df5947bf349</td>\n",
       "      <td>2019-10-07</td>\n",
       "      <td>2019-10-07 13:39:45.989359</td>\n",
       "      <td>2019-10-07 13:49:41.716617</td>\n",
       "      <td>2019</td>\n",
       "      <td>2019-10-01</td>\n",
       "      <td>2019-10-03</td>\n",
       "      <td>2019-10-07</td>\n",
       "      <td>595.727258</td>\n",
       "      <td>other</td>\n",
       "    </tr>\n",
       "    <tr>\n",
       "      <th>1</th>\n",
       "      <td>0001b1d5-b74a-4cbf-aeb0-7df5947bf349</td>\n",
       "      <td>2019-10-09</td>\n",
       "      <td>2019-10-09 18:33:55.577963</td>\n",
       "      <td>2019-10-09 18:42:22.963948</td>\n",
       "      <td>2019</td>\n",
       "      <td>2019-10-01</td>\n",
       "      <td>2019-10-03</td>\n",
       "      <td>2019-10-09</td>\n",
       "      <td>507.385985</td>\n",
       "      <td>other</td>\n",
       "    </tr>\n",
       "    <tr>\n",
       "      <th>2</th>\n",
       "      <td>0001b1d5-b74a-4cbf-aeb0-7df5947bf349</td>\n",
       "      <td>2019-10-21</td>\n",
       "      <td>2019-10-21 19:52:30.778932</td>\n",
       "      <td>2019-10-21 20:07:30.051028</td>\n",
       "      <td>2019</td>\n",
       "      <td>2019-10-01</td>\n",
       "      <td>2019-10-17</td>\n",
       "      <td>2019-10-21</td>\n",
       "      <td>899.272096</td>\n",
       "      <td>other</td>\n",
       "    </tr>\n",
       "    <tr>\n",
       "      <th>3</th>\n",
       "      <td>0001b1d5-b74a-4cbf-aeb0-7df5947bf349</td>\n",
       "      <td>2019-10-22</td>\n",
       "      <td>2019-10-22 11:18:14.635436</td>\n",
       "      <td>2019-10-22 11:30:52.807203</td>\n",
       "      <td>2019</td>\n",
       "      <td>2019-10-01</td>\n",
       "      <td>2019-10-17</td>\n",
       "      <td>2019-10-22</td>\n",
       "      <td>758.171767</td>\n",
       "      <td>other</td>\n",
       "    </tr>\n",
       "    <tr>\n",
       "      <th>4</th>\n",
       "      <td>00157779-810c-4498-9e05-a1e9e3cedf93</td>\n",
       "      <td>2019-10-19</td>\n",
       "      <td>2019-10-19 21:34:33.849769</td>\n",
       "      <td>2019-10-19 21:59:54.637098</td>\n",
       "      <td>2019</td>\n",
       "      <td>2019-10-01</td>\n",
       "      <td>2019-10-17</td>\n",
       "      <td>2019-10-19</td>\n",
       "      <td>1520.787329</td>\n",
       "      <td>yandex</td>\n",
       "    </tr>\n",
       "  </tbody>\n",
       "</table>\n",
       "</div>"
      ],
      "text/plain": [
       "                                user_id   event_day  \\\n",
       "0  0001b1d5-b74a-4cbf-aeb0-7df5947bf349  2019-10-07   \n",
       "1  0001b1d5-b74a-4cbf-aeb0-7df5947bf349  2019-10-09   \n",
       "2  0001b1d5-b74a-4cbf-aeb0-7df5947bf349  2019-10-21   \n",
       "3  0001b1d5-b74a-4cbf-aeb0-7df5947bf349  2019-10-22   \n",
       "4  00157779-810c-4498-9e05-a1e9e3cedf93  2019-10-19   \n",
       "\n",
       "                ses_time_min               ses_time_max  Session_Start_year  \\\n",
       "0 2019-10-07 13:39:45.989359 2019-10-07 13:49:41.716617                2019   \n",
       "1 2019-10-09 18:33:55.577963 2019-10-09 18:42:22.963948                2019   \n",
       "2 2019-10-21 19:52:30.778932 2019-10-21 20:07:30.051028                2019   \n",
       "3 2019-10-22 11:18:14.635436 2019-10-22 11:30:52.807203                2019   \n",
       "4 2019-10-19 21:34:33.849769 2019-10-19 21:59:54.637098                2019   \n",
       "\n",
       "  Session_Start_month Session_Start_week Session_Start_date  \\\n",
       "0          2019-10-01         2019-10-03         2019-10-07   \n",
       "1          2019-10-01         2019-10-03         2019-10-09   \n",
       "2          2019-10-01         2019-10-17         2019-10-21   \n",
       "3          2019-10-01         2019-10-17         2019-10-22   \n",
       "4          2019-10-01         2019-10-17         2019-10-19   \n",
       "\n",
       "   session_duration_sec  source  \n",
       "0            595.727258   other  \n",
       "1            507.385985   other  \n",
       "2            899.272096   other  \n",
       "3            758.171767   other  \n",
       "4           1520.787329  yandex  "
      ]
     },
     "execution_count": 45,
     "metadata": {},
     "output_type": "execute_result"
    }
   ],
   "source": [
    "ses_time_sources = ses_time.merge(sources, on='user_id', how = 'left')\n",
    "ses_time_sources.head()"
   ]
  },
  {
   "cell_type": "code",
   "execution_count": 46,
   "metadata": {},
   "outputs": [
    {
     "data": {
      "text/html": [
       "<div>\n",
       "<style scoped>\n",
       "    .dataframe tbody tr th:only-of-type {\n",
       "        vertical-align: middle;\n",
       "    }\n",
       "\n",
       "    .dataframe tbody tr th {\n",
       "        vertical-align: top;\n",
       "    }\n",
       "\n",
       "    .dataframe thead th {\n",
       "        text-align: right;\n",
       "    }\n",
       "</style>\n",
       "<table border=\"1\" class=\"dataframe\">\n",
       "  <thead>\n",
       "    <tr style=\"text-align: right;\">\n",
       "      <th></th>\n",
       "      <th>user_id</th>\n",
       "      <th>event_day</th>\n",
       "      <th>ses_time_min</th>\n",
       "      <th>ses_time_max</th>\n",
       "      <th>Session_Start_year</th>\n",
       "      <th>Session_Start_month</th>\n",
       "      <th>Session_Start_week</th>\n",
       "      <th>Session_Start_date</th>\n",
       "      <th>session_duration_sec</th>\n",
       "      <th>source</th>\n",
       "    </tr>\n",
       "  </thead>\n",
       "  <tbody>\n",
       "    <tr>\n",
       "      <th>4</th>\n",
       "      <td>00157779-810c-4498-9e05-a1e9e3cedf93</td>\n",
       "      <td>2019-10-19</td>\n",
       "      <td>2019-10-19 21:34:33.849769</td>\n",
       "      <td>2019-10-19 21:59:54.637098</td>\n",
       "      <td>2019</td>\n",
       "      <td>2019-10-01</td>\n",
       "      <td>2019-10-17</td>\n",
       "      <td>2019-10-19</td>\n",
       "      <td>1520.787329</td>\n",
       "      <td>yandex</td>\n",
       "    </tr>\n",
       "    <tr>\n",
       "      <th>5</th>\n",
       "      <td>00157779-810c-4498-9e05-a1e9e3cedf93</td>\n",
       "      <td>2019-10-20</td>\n",
       "      <td>2019-10-20 18:49:24.115634</td>\n",
       "      <td>2019-10-20 20:05:36.234073</td>\n",
       "      <td>2019</td>\n",
       "      <td>2019-10-01</td>\n",
       "      <td>2019-10-17</td>\n",
       "      <td>2019-10-20</td>\n",
       "      <td>4572.118439</td>\n",
       "      <td>yandex</td>\n",
       "    </tr>\n",
       "    <tr>\n",
       "      <th>6</th>\n",
       "      <td>00157779-810c-4498-9e05-a1e9e3cedf93</td>\n",
       "      <td>2019-10-24</td>\n",
       "      <td>2019-10-24 10:50:40.219833</td>\n",
       "      <td>2019-10-24 10:57:12.675110</td>\n",
       "      <td>2019</td>\n",
       "      <td>2019-10-01</td>\n",
       "      <td>2019-10-24</td>\n",
       "      <td>2019-10-24</td>\n",
       "      <td>392.455277</td>\n",
       "      <td>yandex</td>\n",
       "    </tr>\n",
       "    <tr>\n",
       "      <th>7</th>\n",
       "      <td>00157779-810c-4498-9e05-a1e9e3cedf93</td>\n",
       "      <td>2019-10-29</td>\n",
       "      <td>2019-10-29 21:18:24.850073</td>\n",
       "      <td>2019-10-29 22:10:25.712840</td>\n",
       "      <td>2019</td>\n",
       "      <td>2019-10-01</td>\n",
       "      <td>2019-10-24</td>\n",
       "      <td>2019-10-29</td>\n",
       "      <td>3120.862767</td>\n",
       "      <td>yandex</td>\n",
       "    </tr>\n",
       "    <tr>\n",
       "      <th>8</th>\n",
       "      <td>00157779-810c-4498-9e05-a1e9e3cedf93</td>\n",
       "      <td>2019-10-30</td>\n",
       "      <td>2019-10-30 07:50:45.948358</td>\n",
       "      <td>2019-10-30 08:26:53.933176</td>\n",
       "      <td>2019</td>\n",
       "      <td>2019-10-01</td>\n",
       "      <td>2019-10-24</td>\n",
       "      <td>2019-10-30</td>\n",
       "      <td>2167.984818</td>\n",
       "      <td>yandex</td>\n",
       "    </tr>\n",
       "  </tbody>\n",
       "</table>\n",
       "</div>"
      ],
      "text/plain": [
       "                                user_id   event_day  \\\n",
       "4  00157779-810c-4498-9e05-a1e9e3cedf93  2019-10-19   \n",
       "5  00157779-810c-4498-9e05-a1e9e3cedf93  2019-10-20   \n",
       "6  00157779-810c-4498-9e05-a1e9e3cedf93  2019-10-24   \n",
       "7  00157779-810c-4498-9e05-a1e9e3cedf93  2019-10-29   \n",
       "8  00157779-810c-4498-9e05-a1e9e3cedf93  2019-10-30   \n",
       "\n",
       "                ses_time_min               ses_time_max  Session_Start_year  \\\n",
       "4 2019-10-19 21:34:33.849769 2019-10-19 21:59:54.637098                2019   \n",
       "5 2019-10-20 18:49:24.115634 2019-10-20 20:05:36.234073                2019   \n",
       "6 2019-10-24 10:50:40.219833 2019-10-24 10:57:12.675110                2019   \n",
       "7 2019-10-29 21:18:24.850073 2019-10-29 22:10:25.712840                2019   \n",
       "8 2019-10-30 07:50:45.948358 2019-10-30 08:26:53.933176                2019   \n",
       "\n",
       "  Session_Start_month Session_Start_week Session_Start_date  \\\n",
       "4          2019-10-01         2019-10-17         2019-10-19   \n",
       "5          2019-10-01         2019-10-17         2019-10-20   \n",
       "6          2019-10-01         2019-10-24         2019-10-24   \n",
       "7          2019-10-01         2019-10-24         2019-10-29   \n",
       "8          2019-10-01         2019-10-24         2019-10-30   \n",
       "\n",
       "   session_duration_sec  source  \n",
       "4           1520.787329  yandex  \n",
       "5           4572.118439  yandex  \n",
       "6            392.455277  yandex  \n",
       "7           3120.862767  yandex  \n",
       "8           2167.984818  yandex  "
      ]
     },
     "execution_count": 46,
     "metadata": {},
     "output_type": "execute_result"
    }
   ],
   "source": [
    "profiles_sources_yandex = ses_time_sources.query('source == \"yandex\"')\n",
    "profiles_sources_yandex.head()"
   ]
  },
  {
   "cell_type": "code",
   "execution_count": 47,
   "metadata": {},
   "outputs": [
    {
     "data": {
      "text/html": [
       "<div>\n",
       "<style scoped>\n",
       "    .dataframe tbody tr th:only-of-type {\n",
       "        vertical-align: middle;\n",
       "    }\n",
       "\n",
       "    .dataframe tbody tr th {\n",
       "        vertical-align: top;\n",
       "    }\n",
       "\n",
       "    .dataframe thead th {\n",
       "        text-align: right;\n",
       "    }\n",
       "</style>\n",
       "<table border=\"1\" class=\"dataframe\">\n",
       "  <thead>\n",
       "    <tr style=\"text-align: right;\">\n",
       "      <th></th>\n",
       "      <th>user_id</th>\n",
       "      <th>event_day</th>\n",
       "      <th>ses_time_min</th>\n",
       "      <th>ses_time_max</th>\n",
       "      <th>Session_Start_year</th>\n",
       "      <th>Session_Start_month</th>\n",
       "      <th>Session_Start_week</th>\n",
       "      <th>Session_Start_date</th>\n",
       "      <th>session_duration_sec</th>\n",
       "      <th>source</th>\n",
       "    </tr>\n",
       "  </thead>\n",
       "  <tbody>\n",
       "    <tr>\n",
       "      <th>11</th>\n",
       "      <td>004690c3-5a84-4bb7-a8af-e0c8f8fca64e</td>\n",
       "      <td>2019-10-18</td>\n",
       "      <td>2019-10-18 22:14:05.555052</td>\n",
       "      <td>2019-10-18 22:17:40.719687</td>\n",
       "      <td>2019</td>\n",
       "      <td>2019-10-01</td>\n",
       "      <td>2019-10-17</td>\n",
       "      <td>2019-10-18</td>\n",
       "      <td>215.164635</td>\n",
       "      <td>google</td>\n",
       "    </tr>\n",
       "    <tr>\n",
       "      <th>12</th>\n",
       "      <td>004690c3-5a84-4bb7-a8af-e0c8f8fca64e</td>\n",
       "      <td>2019-10-20</td>\n",
       "      <td>2019-10-20 17:47:18.569612</td>\n",
       "      <td>2019-10-20 17:48:42.169252</td>\n",
       "      <td>2019</td>\n",
       "      <td>2019-10-01</td>\n",
       "      <td>2019-10-17</td>\n",
       "      <td>2019-10-20</td>\n",
       "      <td>83.599640</td>\n",
       "      <td>google</td>\n",
       "    </tr>\n",
       "    <tr>\n",
       "      <th>13</th>\n",
       "      <td>004690c3-5a84-4bb7-a8af-e0c8f8fca64e</td>\n",
       "      <td>2019-10-25</td>\n",
       "      <td>2019-10-25 22:17:31.839852</td>\n",
       "      <td>2019-10-25 22:45:50.328522</td>\n",
       "      <td>2019</td>\n",
       "      <td>2019-10-01</td>\n",
       "      <td>2019-10-24</td>\n",
       "      <td>2019-10-25</td>\n",
       "      <td>1698.488670</td>\n",
       "      <td>google</td>\n",
       "    </tr>\n",
       "    <tr>\n",
       "      <th>14</th>\n",
       "      <td>004690c3-5a84-4bb7-a8af-e0c8f8fca64e</td>\n",
       "      <td>2019-10-26</td>\n",
       "      <td>2019-10-26 23:34:21.527526</td>\n",
       "      <td>2019-10-26 23:44:21.330476</td>\n",
       "      <td>2019</td>\n",
       "      <td>2019-10-01</td>\n",
       "      <td>2019-10-24</td>\n",
       "      <td>2019-10-26</td>\n",
       "      <td>599.802950</td>\n",
       "      <td>google</td>\n",
       "    </tr>\n",
       "    <tr>\n",
       "      <th>15</th>\n",
       "      <td>004690c3-5a84-4bb7-a8af-e0c8f8fca64e</td>\n",
       "      <td>2019-10-27</td>\n",
       "      <td>2019-10-27 00:07:32.519908</td>\n",
       "      <td>2019-10-27 20:18:26.910719</td>\n",
       "      <td>2019</td>\n",
       "      <td>2019-10-01</td>\n",
       "      <td>2019-10-24</td>\n",
       "      <td>2019-10-27</td>\n",
       "      <td>72654.390811</td>\n",
       "      <td>google</td>\n",
       "    </tr>\n",
       "  </tbody>\n",
       "</table>\n",
       "</div>"
      ],
      "text/plain": [
       "                                 user_id   event_day  \\\n",
       "11  004690c3-5a84-4bb7-a8af-e0c8f8fca64e  2019-10-18   \n",
       "12  004690c3-5a84-4bb7-a8af-e0c8f8fca64e  2019-10-20   \n",
       "13  004690c3-5a84-4bb7-a8af-e0c8f8fca64e  2019-10-25   \n",
       "14  004690c3-5a84-4bb7-a8af-e0c8f8fca64e  2019-10-26   \n",
       "15  004690c3-5a84-4bb7-a8af-e0c8f8fca64e  2019-10-27   \n",
       "\n",
       "                 ses_time_min               ses_time_max  Session_Start_year  \\\n",
       "11 2019-10-18 22:14:05.555052 2019-10-18 22:17:40.719687                2019   \n",
       "12 2019-10-20 17:47:18.569612 2019-10-20 17:48:42.169252                2019   \n",
       "13 2019-10-25 22:17:31.839852 2019-10-25 22:45:50.328522                2019   \n",
       "14 2019-10-26 23:34:21.527526 2019-10-26 23:44:21.330476                2019   \n",
       "15 2019-10-27 00:07:32.519908 2019-10-27 20:18:26.910719                2019   \n",
       "\n",
       "   Session_Start_month Session_Start_week Session_Start_date  \\\n",
       "11          2019-10-01         2019-10-17         2019-10-18   \n",
       "12          2019-10-01         2019-10-17         2019-10-20   \n",
       "13          2019-10-01         2019-10-24         2019-10-25   \n",
       "14          2019-10-01         2019-10-24         2019-10-26   \n",
       "15          2019-10-01         2019-10-24         2019-10-27   \n",
       "\n",
       "    session_duration_sec  source  \n",
       "11            215.164635  google  \n",
       "12             83.599640  google  \n",
       "13           1698.488670  google  \n",
       "14            599.802950  google  \n",
       "15          72654.390811  google  "
      ]
     },
     "execution_count": 47,
     "metadata": {},
     "output_type": "execute_result"
    }
   ],
   "source": [
    "profiles_sources_google = ses_time_sources.query('source == \"google\"')\n",
    "profiles_sources_google.head()"
   ]
  },
  {
   "cell_type": "code",
   "execution_count": 48,
   "metadata": {},
   "outputs": [
    {
     "data": {
      "text/html": [
       "<div>\n",
       "<style scoped>\n",
       "    .dataframe tbody tr th:only-of-type {\n",
       "        vertical-align: middle;\n",
       "    }\n",
       "\n",
       "    .dataframe tbody tr th {\n",
       "        vertical-align: top;\n",
       "    }\n",
       "\n",
       "    .dataframe thead th {\n",
       "        text-align: right;\n",
       "    }\n",
       "</style>\n",
       "<table border=\"1\" class=\"dataframe\">\n",
       "  <thead>\n",
       "    <tr style=\"text-align: right;\">\n",
       "      <th></th>\n",
       "      <th>user_id</th>\n",
       "      <th>event_day</th>\n",
       "      <th>ses_time_min</th>\n",
       "      <th>ses_time_max</th>\n",
       "      <th>Session_Start_year</th>\n",
       "      <th>Session_Start_month</th>\n",
       "      <th>Session_Start_week</th>\n",
       "      <th>Session_Start_date</th>\n",
       "      <th>session_duration_sec</th>\n",
       "      <th>source</th>\n",
       "    </tr>\n",
       "  </thead>\n",
       "  <tbody>\n",
       "    <tr>\n",
       "      <th>0</th>\n",
       "      <td>0001b1d5-b74a-4cbf-aeb0-7df5947bf349</td>\n",
       "      <td>2019-10-07</td>\n",
       "      <td>2019-10-07 13:39:45.989359</td>\n",
       "      <td>2019-10-07 13:49:41.716617</td>\n",
       "      <td>2019</td>\n",
       "      <td>2019-10-01</td>\n",
       "      <td>2019-10-03</td>\n",
       "      <td>2019-10-07</td>\n",
       "      <td>595.727258</td>\n",
       "      <td>other</td>\n",
       "    </tr>\n",
       "    <tr>\n",
       "      <th>1</th>\n",
       "      <td>0001b1d5-b74a-4cbf-aeb0-7df5947bf349</td>\n",
       "      <td>2019-10-09</td>\n",
       "      <td>2019-10-09 18:33:55.577963</td>\n",
       "      <td>2019-10-09 18:42:22.963948</td>\n",
       "      <td>2019</td>\n",
       "      <td>2019-10-01</td>\n",
       "      <td>2019-10-03</td>\n",
       "      <td>2019-10-09</td>\n",
       "      <td>507.385985</td>\n",
       "      <td>other</td>\n",
       "    </tr>\n",
       "    <tr>\n",
       "      <th>2</th>\n",
       "      <td>0001b1d5-b74a-4cbf-aeb0-7df5947bf349</td>\n",
       "      <td>2019-10-21</td>\n",
       "      <td>2019-10-21 19:52:30.778932</td>\n",
       "      <td>2019-10-21 20:07:30.051028</td>\n",
       "      <td>2019</td>\n",
       "      <td>2019-10-01</td>\n",
       "      <td>2019-10-17</td>\n",
       "      <td>2019-10-21</td>\n",
       "      <td>899.272096</td>\n",
       "      <td>other</td>\n",
       "    </tr>\n",
       "    <tr>\n",
       "      <th>3</th>\n",
       "      <td>0001b1d5-b74a-4cbf-aeb0-7df5947bf349</td>\n",
       "      <td>2019-10-22</td>\n",
       "      <td>2019-10-22 11:18:14.635436</td>\n",
       "      <td>2019-10-22 11:30:52.807203</td>\n",
       "      <td>2019</td>\n",
       "      <td>2019-10-01</td>\n",
       "      <td>2019-10-17</td>\n",
       "      <td>2019-10-22</td>\n",
       "      <td>758.171767</td>\n",
       "      <td>other</td>\n",
       "    </tr>\n",
       "    <tr>\n",
       "      <th>40</th>\n",
       "      <td>013bbb57-ca6f-4af3-b586-4a046d3d3dee</td>\n",
       "      <td>2019-10-11</td>\n",
       "      <td>2019-10-11 12:20:48.990262</td>\n",
       "      <td>2019-10-11 17:20:17.974710</td>\n",
       "      <td>2019</td>\n",
       "      <td>2019-10-01</td>\n",
       "      <td>2019-10-10</td>\n",
       "      <td>2019-10-11</td>\n",
       "      <td>17968.984448</td>\n",
       "      <td>other</td>\n",
       "    </tr>\n",
       "  </tbody>\n",
       "</table>\n",
       "</div>"
      ],
      "text/plain": [
       "                                 user_id   event_day  \\\n",
       "0   0001b1d5-b74a-4cbf-aeb0-7df5947bf349  2019-10-07   \n",
       "1   0001b1d5-b74a-4cbf-aeb0-7df5947bf349  2019-10-09   \n",
       "2   0001b1d5-b74a-4cbf-aeb0-7df5947bf349  2019-10-21   \n",
       "3   0001b1d5-b74a-4cbf-aeb0-7df5947bf349  2019-10-22   \n",
       "40  013bbb57-ca6f-4af3-b586-4a046d3d3dee  2019-10-11   \n",
       "\n",
       "                 ses_time_min               ses_time_max  Session_Start_year  \\\n",
       "0  2019-10-07 13:39:45.989359 2019-10-07 13:49:41.716617                2019   \n",
       "1  2019-10-09 18:33:55.577963 2019-10-09 18:42:22.963948                2019   \n",
       "2  2019-10-21 19:52:30.778932 2019-10-21 20:07:30.051028                2019   \n",
       "3  2019-10-22 11:18:14.635436 2019-10-22 11:30:52.807203                2019   \n",
       "40 2019-10-11 12:20:48.990262 2019-10-11 17:20:17.974710                2019   \n",
       "\n",
       "   Session_Start_month Session_Start_week Session_Start_date  \\\n",
       "0           2019-10-01         2019-10-03         2019-10-07   \n",
       "1           2019-10-01         2019-10-03         2019-10-09   \n",
       "2           2019-10-01         2019-10-17         2019-10-21   \n",
       "3           2019-10-01         2019-10-17         2019-10-22   \n",
       "40          2019-10-01         2019-10-10         2019-10-11   \n",
       "\n",
       "    session_duration_sec source  \n",
       "0             595.727258  other  \n",
       "1             507.385985  other  \n",
       "2             899.272096  other  \n",
       "3             758.171767  other  \n",
       "40          17968.984448  other  "
      ]
     },
     "execution_count": 48,
     "metadata": {},
     "output_type": "execute_result"
    }
   ],
   "source": [
    "profiles_sources_other = ses_time_sources.query('source == \"other\"')\n",
    "profiles_sources_other.head()"
   ]
  },
  {
   "cell_type": "code",
   "execution_count": 49,
   "metadata": {},
   "outputs": [
    {
     "data": {
      "text/html": [
       "<div>\n",
       "<style scoped>\n",
       "    .dataframe tbody tr th:only-of-type {\n",
       "        vertical-align: middle;\n",
       "    }\n",
       "\n",
       "    .dataframe tbody tr th {\n",
       "        vertical-align: top;\n",
       "    }\n",
       "\n",
       "    .dataframe thead th {\n",
       "        text-align: right;\n",
       "    }\n",
       "</style>\n",
       "<table border=\"1\" class=\"dataframe\">\n",
       "  <thead>\n",
       "    <tr style=\"text-align: right;\">\n",
       "      <th></th>\n",
       "      <th>event.time</th>\n",
       "      <th>event.name</th>\n",
       "      <th>user_id</th>\n",
       "      <th>source</th>\n",
       "      <th>event_day</th>\n",
       "    </tr>\n",
       "  </thead>\n",
       "  <tbody>\n",
       "    <tr>\n",
       "      <th>2</th>\n",
       "      <td>2019-10-07 00:00:02.245341</td>\n",
       "      <td>tips_show</td>\n",
       "      <td>cf7eda61-9349-469f-ac27-e5b6f5ec475c</td>\n",
       "      <td>yandex</td>\n",
       "      <td>2019-10-07</td>\n",
       "    </tr>\n",
       "    <tr>\n",
       "      <th>4</th>\n",
       "      <td>2019-10-07 00:00:56.319813</td>\n",
       "      <td>advert_open</td>\n",
       "      <td>cf7eda61-9349-469f-ac27-e5b6f5ec475c</td>\n",
       "      <td>yandex</td>\n",
       "      <td>2019-10-07</td>\n",
       "    </tr>\n",
       "    <tr>\n",
       "      <th>5</th>\n",
       "      <td>2019-10-07 00:01:19.993624</td>\n",
       "      <td>tips_show</td>\n",
       "      <td>cf7eda61-9349-469f-ac27-e5b6f5ec475c</td>\n",
       "      <td>yandex</td>\n",
       "      <td>2019-10-07</td>\n",
       "    </tr>\n",
       "    <tr>\n",
       "      <th>8</th>\n",
       "      <td>2019-10-07 00:01:49.732803</td>\n",
       "      <td>advert_open</td>\n",
       "      <td>cf7eda61-9349-469f-ac27-e5b6f5ec475c</td>\n",
       "      <td>yandex</td>\n",
       "      <td>2019-10-07</td>\n",
       "    </tr>\n",
       "    <tr>\n",
       "      <th>11</th>\n",
       "      <td>2019-10-07 00:02:06.225301</td>\n",
       "      <td>tips_show</td>\n",
       "      <td>cf7eda61-9349-469f-ac27-e5b6f5ec475c</td>\n",
       "      <td>yandex</td>\n",
       "      <td>2019-10-07</td>\n",
       "    </tr>\n",
       "  </tbody>\n",
       "</table>\n",
       "</div>"
      ],
      "text/plain": [
       "                   event.time   event.name  \\\n",
       "2  2019-10-07 00:00:02.245341    tips_show   \n",
       "4  2019-10-07 00:00:56.319813  advert_open   \n",
       "5  2019-10-07 00:01:19.993624    tips_show   \n",
       "8  2019-10-07 00:01:49.732803  advert_open   \n",
       "11 2019-10-07 00:02:06.225301    tips_show   \n",
       "\n",
       "                                 user_id  source   event_day  \n",
       "2   cf7eda61-9349-469f-ac27-e5b6f5ec475c  yandex  2019-10-07  \n",
       "4   cf7eda61-9349-469f-ac27-e5b6f5ec475c  yandex  2019-10-07  \n",
       "5   cf7eda61-9349-469f-ac27-e5b6f5ec475c  yandex  2019-10-07  \n",
       "8   cf7eda61-9349-469f-ac27-e5b6f5ec475c  yandex  2019-10-07  \n",
       "11  cf7eda61-9349-469f-ac27-e5b6f5ec475c  yandex  2019-10-07  "
      ]
     },
     "execution_count": 49,
     "metadata": {},
     "output_type": "execute_result"
    }
   ],
   "source": [
    "dataset_sources_yandex = dataset_sources.query('source == \"yandex\"')\n",
    "dataset_sources_yandex.head()"
   ]
  },
  {
   "cell_type": "code",
   "execution_count": 50,
   "metadata": {},
   "outputs": [
    {
     "data": {
      "text/html": [
       "<div>\n",
       "<style scoped>\n",
       "    .dataframe tbody tr th:only-of-type {\n",
       "        vertical-align: middle;\n",
       "    }\n",
       "\n",
       "    .dataframe tbody tr th {\n",
       "        vertical-align: top;\n",
       "    }\n",
       "\n",
       "    .dataframe thead th {\n",
       "        text-align: right;\n",
       "    }\n",
       "</style>\n",
       "<table border=\"1\" class=\"dataframe\">\n",
       "  <thead>\n",
       "    <tr style=\"text-align: right;\">\n",
       "      <th></th>\n",
       "      <th>event.time</th>\n",
       "      <th>event.name</th>\n",
       "      <th>user_id</th>\n",
       "      <th>source</th>\n",
       "      <th>event_day</th>\n",
       "    </tr>\n",
       "  </thead>\n",
       "  <tbody>\n",
       "    <tr>\n",
       "      <th>37</th>\n",
       "      <td>2019-10-07 00:09:33.715659</td>\n",
       "      <td>tips_show</td>\n",
       "      <td>f32e1e2a-3027-4693-b793-b7b3ff274439</td>\n",
       "      <td>google</td>\n",
       "      <td>2019-10-07</td>\n",
       "    </tr>\n",
       "    <tr>\n",
       "      <th>44</th>\n",
       "      <td>2019-10-07 00:11:48.977227</td>\n",
       "      <td>tips_show</td>\n",
       "      <td>f32e1e2a-3027-4693-b793-b7b3ff274439</td>\n",
       "      <td>google</td>\n",
       "      <td>2019-10-07</td>\n",
       "    </tr>\n",
       "    <tr>\n",
       "      <th>49</th>\n",
       "      <td>2019-10-07 00:13:34.329171</td>\n",
       "      <td>tips_show</td>\n",
       "      <td>f32e1e2a-3027-4693-b793-b7b3ff274439</td>\n",
       "      <td>google</td>\n",
       "      <td>2019-10-07</td>\n",
       "    </tr>\n",
       "    <tr>\n",
       "      <th>50</th>\n",
       "      <td>2019-10-07 00:13:45.388325</td>\n",
       "      <td>tips_show</td>\n",
       "      <td>f32e1e2a-3027-4693-b793-b7b3ff274439</td>\n",
       "      <td>google</td>\n",
       "      <td>2019-10-07</td>\n",
       "    </tr>\n",
       "    <tr>\n",
       "      <th>57</th>\n",
       "      <td>2019-10-07 00:15:03.196647</td>\n",
       "      <td>tips_show</td>\n",
       "      <td>f32e1e2a-3027-4693-b793-b7b3ff274439</td>\n",
       "      <td>google</td>\n",
       "      <td>2019-10-07</td>\n",
       "    </tr>\n",
       "  </tbody>\n",
       "</table>\n",
       "</div>"
      ],
      "text/plain": [
       "                   event.time event.name  \\\n",
       "37 2019-10-07 00:09:33.715659  tips_show   \n",
       "44 2019-10-07 00:11:48.977227  tips_show   \n",
       "49 2019-10-07 00:13:34.329171  tips_show   \n",
       "50 2019-10-07 00:13:45.388325  tips_show   \n",
       "57 2019-10-07 00:15:03.196647  tips_show   \n",
       "\n",
       "                                 user_id  source   event_day  \n",
       "37  f32e1e2a-3027-4693-b793-b7b3ff274439  google  2019-10-07  \n",
       "44  f32e1e2a-3027-4693-b793-b7b3ff274439  google  2019-10-07  \n",
       "49  f32e1e2a-3027-4693-b793-b7b3ff274439  google  2019-10-07  \n",
       "50  f32e1e2a-3027-4693-b793-b7b3ff274439  google  2019-10-07  \n",
       "57  f32e1e2a-3027-4693-b793-b7b3ff274439  google  2019-10-07  "
      ]
     },
     "execution_count": 50,
     "metadata": {},
     "output_type": "execute_result"
    }
   ],
   "source": [
    "dataset_sources_google = dataset_sources.query('source == \"google\"')\n",
    "dataset_sources_google.head()"
   ]
  },
  {
   "cell_type": "code",
   "execution_count": 51,
   "metadata": {},
   "outputs": [
    {
     "data": {
      "text/html": [
       "<div>\n",
       "<style scoped>\n",
       "    .dataframe tbody tr th:only-of-type {\n",
       "        vertical-align: middle;\n",
       "    }\n",
       "\n",
       "    .dataframe tbody tr th {\n",
       "        vertical-align: top;\n",
       "    }\n",
       "\n",
       "    .dataframe thead th {\n",
       "        text-align: right;\n",
       "    }\n",
       "</style>\n",
       "<table border=\"1\" class=\"dataframe\">\n",
       "  <thead>\n",
       "    <tr style=\"text-align: right;\">\n",
       "      <th></th>\n",
       "      <th>event.time</th>\n",
       "      <th>event.name</th>\n",
       "      <th>user_id</th>\n",
       "      <th>source</th>\n",
       "      <th>event_day</th>\n",
       "    </tr>\n",
       "  </thead>\n",
       "  <tbody>\n",
       "    <tr>\n",
       "      <th>0</th>\n",
       "      <td>2019-10-07 00:00:00.431357</td>\n",
       "      <td>advert_open</td>\n",
       "      <td>020292ab-89bc-4156-9acf-68bc2783f894</td>\n",
       "      <td>other</td>\n",
       "      <td>2019-10-07</td>\n",
       "    </tr>\n",
       "    <tr>\n",
       "      <th>1</th>\n",
       "      <td>2019-10-07 00:00:01.236320</td>\n",
       "      <td>tips_show</td>\n",
       "      <td>020292ab-89bc-4156-9acf-68bc2783f894</td>\n",
       "      <td>other</td>\n",
       "      <td>2019-10-07</td>\n",
       "    </tr>\n",
       "    <tr>\n",
       "      <th>3</th>\n",
       "      <td>2019-10-07 00:00:07.039334</td>\n",
       "      <td>tips_show</td>\n",
       "      <td>020292ab-89bc-4156-9acf-68bc2783f894</td>\n",
       "      <td>other</td>\n",
       "      <td>2019-10-07</td>\n",
       "    </tr>\n",
       "    <tr>\n",
       "      <th>6</th>\n",
       "      <td>2019-10-07 00:01:27.770232</td>\n",
       "      <td>advert_open</td>\n",
       "      <td>020292ab-89bc-4156-9acf-68bc2783f894</td>\n",
       "      <td>other</td>\n",
       "      <td>2019-10-07</td>\n",
       "    </tr>\n",
       "    <tr>\n",
       "      <th>7</th>\n",
       "      <td>2019-10-07 00:01:34.804591</td>\n",
       "      <td>tips_show</td>\n",
       "      <td>020292ab-89bc-4156-9acf-68bc2783f894</td>\n",
       "      <td>other</td>\n",
       "      <td>2019-10-07</td>\n",
       "    </tr>\n",
       "  </tbody>\n",
       "</table>\n",
       "</div>"
      ],
      "text/plain": [
       "                  event.time   event.name  \\\n",
       "0 2019-10-07 00:00:00.431357  advert_open   \n",
       "1 2019-10-07 00:00:01.236320    tips_show   \n",
       "3 2019-10-07 00:00:07.039334    tips_show   \n",
       "6 2019-10-07 00:01:27.770232  advert_open   \n",
       "7 2019-10-07 00:01:34.804591    tips_show   \n",
       "\n",
       "                                user_id source   event_day  \n",
       "0  020292ab-89bc-4156-9acf-68bc2783f894  other  2019-10-07  \n",
       "1  020292ab-89bc-4156-9acf-68bc2783f894  other  2019-10-07  \n",
       "3  020292ab-89bc-4156-9acf-68bc2783f894  other  2019-10-07  \n",
       "6  020292ab-89bc-4156-9acf-68bc2783f894  other  2019-10-07  \n",
       "7  020292ab-89bc-4156-9acf-68bc2783f894  other  2019-10-07  "
      ]
     },
     "execution_count": 51,
     "metadata": {},
     "output_type": "execute_result"
    }
   ],
   "source": [
    "dataset_sources_other = dataset_sources.query('source == \"other\"')\n",
    "dataset_sources_other.head()"
   ]
  },
  {
   "cell_type": "markdown",
   "metadata": {},
   "source": [
    "## Расчет и анализ метрик \n",
    "\n",
    "В разбивке по каждой группе пользователей рассчитать и проанализировать следующие метрики:\n",
    "\n",
    "- retention rate,\n",
    "- время, проведённое в приложении,\n",
    "- частота действий,\n",
    "- конверсия в целевое события - просмотр контактов."
   ]
  },
  {
   "cell_type": "markdown",
   "metadata": {},
   "source": [
    "### Расчет retention rate."
   ]
  },
  {
   "cell_type": "markdown",
   "metadata": {},
   "source": [
    "- Для каждой группы пользователей рассчитать Retention Rate, или коэффициент удержания, который показывает, как долго клиенты остаются с компанией.\n",
    "- Построить тепловые карты к ним."
   ]
  },
  {
   "cell_type": "markdown",
   "metadata": {},
   "source": [
    "#### Yandex - как источник привлечения пользователей."
   ]
  },
  {
   "cell_type": "code",
   "execution_count": 52,
   "metadata": {},
   "outputs": [
    {
     "data": {
      "text/html": [
       "<div>\n",
       "<style scoped>\n",
       "    .dataframe tbody tr th:only-of-type {\n",
       "        vertical-align: middle;\n",
       "    }\n",
       "\n",
       "    .dataframe tbody tr th {\n",
       "        vertical-align: top;\n",
       "    }\n",
       "\n",
       "    .dataframe thead th {\n",
       "        text-align: right;\n",
       "    }\n",
       "</style>\n",
       "<table border=\"1\" class=\"dataframe\">\n",
       "  <thead>\n",
       "    <tr style=\"text-align: right;\">\n",
       "      <th></th>\n",
       "      <th>event.time</th>\n",
       "      <th>event.name</th>\n",
       "      <th>user_id</th>\n",
       "      <th>source</th>\n",
       "      <th>event_day</th>\n",
       "    </tr>\n",
       "  </thead>\n",
       "  <tbody>\n",
       "    <tr>\n",
       "      <th>2</th>\n",
       "      <td>2019-10-07 00:00:02.245341</td>\n",
       "      <td>tips_show</td>\n",
       "      <td>cf7eda61-9349-469f-ac27-e5b6f5ec475c</td>\n",
       "      <td>yandex</td>\n",
       "      <td>2019-10-07</td>\n",
       "    </tr>\n",
       "    <tr>\n",
       "      <th>4</th>\n",
       "      <td>2019-10-07 00:00:56.319813</td>\n",
       "      <td>advert_open</td>\n",
       "      <td>cf7eda61-9349-469f-ac27-e5b6f5ec475c</td>\n",
       "      <td>yandex</td>\n",
       "      <td>2019-10-07</td>\n",
       "    </tr>\n",
       "    <tr>\n",
       "      <th>5</th>\n",
       "      <td>2019-10-07 00:01:19.993624</td>\n",
       "      <td>tips_show</td>\n",
       "      <td>cf7eda61-9349-469f-ac27-e5b6f5ec475c</td>\n",
       "      <td>yandex</td>\n",
       "      <td>2019-10-07</td>\n",
       "    </tr>\n",
       "    <tr>\n",
       "      <th>8</th>\n",
       "      <td>2019-10-07 00:01:49.732803</td>\n",
       "      <td>advert_open</td>\n",
       "      <td>cf7eda61-9349-469f-ac27-e5b6f5ec475c</td>\n",
       "      <td>yandex</td>\n",
       "      <td>2019-10-07</td>\n",
       "    </tr>\n",
       "    <tr>\n",
       "      <th>11</th>\n",
       "      <td>2019-10-07 00:02:06.225301</td>\n",
       "      <td>tips_show</td>\n",
       "      <td>cf7eda61-9349-469f-ac27-e5b6f5ec475c</td>\n",
       "      <td>yandex</td>\n",
       "      <td>2019-10-07</td>\n",
       "    </tr>\n",
       "  </tbody>\n",
       "</table>\n",
       "</div>"
      ],
      "text/plain": [
       "                   event.time   event.name  \\\n",
       "2  2019-10-07 00:00:02.245341    tips_show   \n",
       "4  2019-10-07 00:00:56.319813  advert_open   \n",
       "5  2019-10-07 00:01:19.993624    tips_show   \n",
       "8  2019-10-07 00:01:49.732803  advert_open   \n",
       "11 2019-10-07 00:02:06.225301    tips_show   \n",
       "\n",
       "                                 user_id  source   event_day  \n",
       "2   cf7eda61-9349-469f-ac27-e5b6f5ec475c  yandex  2019-10-07  \n",
       "4   cf7eda61-9349-469f-ac27-e5b6f5ec475c  yandex  2019-10-07  \n",
       "5   cf7eda61-9349-469f-ac27-e5b6f5ec475c  yandex  2019-10-07  \n",
       "8   cf7eda61-9349-469f-ac27-e5b6f5ec475c  yandex  2019-10-07  \n",
       "11  cf7eda61-9349-469f-ac27-e5b6f5ec475c  yandex  2019-10-07  "
      ]
     },
     "execution_count": 52,
     "metadata": {},
     "output_type": "execute_result"
    }
   ],
   "source": [
    "dataset_sources_yandex.head()"
   ]
  },
  {
   "cell_type": "code",
   "execution_count": 53,
   "metadata": {},
   "outputs": [
    {
     "name": "stderr",
     "output_type": "stream",
     "text": [
      "/tmp/ipykernel_363/1435178945.py:2: SettingWithCopyWarning: \n",
      "A value is trying to be set on a copy of a slice from a DataFrame.\n",
      "Try using .loc[row_indexer,col_indexer] = value instead\n",
      "\n",
      "See the caveats in the documentation: https://pandas.pydata.org/pandas-docs/stable/user_guide/indexing.html#returning-a-view-versus-a-copy\n",
      "  dataset_sources_yandex['active_date'] = \\\n"
     ]
    },
    {
     "data": {
      "text/html": [
       "<div>\n",
       "<style scoped>\n",
       "    .dataframe tbody tr th:only-of-type {\n",
       "        vertical-align: middle;\n",
       "    }\n",
       "\n",
       "    .dataframe tbody tr th {\n",
       "        vertical-align: top;\n",
       "    }\n",
       "\n",
       "    .dataframe thead th {\n",
       "        text-align: right;\n",
       "    }\n",
       "</style>\n",
       "<table border=\"1\" class=\"dataframe\">\n",
       "  <thead>\n",
       "    <tr style=\"text-align: right;\">\n",
       "      <th></th>\n",
       "      <th>user_id</th>\n",
       "      <th>first_ts</th>\n",
       "      <th>event.time</th>\n",
       "      <th>event.name</th>\n",
       "      <th>source</th>\n",
       "      <th>event_day</th>\n",
       "      <th>active_date</th>\n",
       "    </tr>\n",
       "  </thead>\n",
       "  <tbody>\n",
       "    <tr>\n",
       "      <th>0</th>\n",
       "      <td>00157779-810c-4498-9e05-a1e9e3cedf93</td>\n",
       "      <td>2019-10-17</td>\n",
       "      <td>2019-10-19 21:34:33.849769</td>\n",
       "      <td>search_1</td>\n",
       "      <td>yandex</td>\n",
       "      <td>2019-10-19</td>\n",
       "      <td>2019-10-17</td>\n",
       "    </tr>\n",
       "    <tr>\n",
       "      <th>1</th>\n",
       "      <td>00157779-810c-4498-9e05-a1e9e3cedf93</td>\n",
       "      <td>2019-10-17</td>\n",
       "      <td>2019-10-19 21:35:19.296599</td>\n",
       "      <td>search_1</td>\n",
       "      <td>yandex</td>\n",
       "      <td>2019-10-19</td>\n",
       "      <td>2019-10-17</td>\n",
       "    </tr>\n",
       "    <tr>\n",
       "      <th>2</th>\n",
       "      <td>00157779-810c-4498-9e05-a1e9e3cedf93</td>\n",
       "      <td>2019-10-17</td>\n",
       "      <td>2019-10-19 21:36:44.344691</td>\n",
       "      <td>search_1</td>\n",
       "      <td>yandex</td>\n",
       "      <td>2019-10-19</td>\n",
       "      <td>2019-10-17</td>\n",
       "    </tr>\n",
       "    <tr>\n",
       "      <th>3</th>\n",
       "      <td>00157779-810c-4498-9e05-a1e9e3cedf93</td>\n",
       "      <td>2019-10-17</td>\n",
       "      <td>2019-10-19 21:40:38.990477</td>\n",
       "      <td>photos_show</td>\n",
       "      <td>yandex</td>\n",
       "      <td>2019-10-19</td>\n",
       "      <td>2019-10-17</td>\n",
       "    </tr>\n",
       "    <tr>\n",
       "      <th>4</th>\n",
       "      <td>00157779-810c-4498-9e05-a1e9e3cedf93</td>\n",
       "      <td>2019-10-17</td>\n",
       "      <td>2019-10-19 21:42:13.837523</td>\n",
       "      <td>photos_show</td>\n",
       "      <td>yandex</td>\n",
       "      <td>2019-10-19</td>\n",
       "      <td>2019-10-17</td>\n",
       "    </tr>\n",
       "  </tbody>\n",
       "</table>\n",
       "</div>"
      ],
      "text/plain": [
       "                                user_id   first_ts                 event.time  \\\n",
       "0  00157779-810c-4498-9e05-a1e9e3cedf93 2019-10-17 2019-10-19 21:34:33.849769   \n",
       "1  00157779-810c-4498-9e05-a1e9e3cedf93 2019-10-17 2019-10-19 21:35:19.296599   \n",
       "2  00157779-810c-4498-9e05-a1e9e3cedf93 2019-10-17 2019-10-19 21:36:44.344691   \n",
       "3  00157779-810c-4498-9e05-a1e9e3cedf93 2019-10-17 2019-10-19 21:40:38.990477   \n",
       "4  00157779-810c-4498-9e05-a1e9e3cedf93 2019-10-17 2019-10-19 21:42:13.837523   \n",
       "\n",
       "    event.name  source   event_day active_date  \n",
       "0     search_1  yandex  2019-10-19  2019-10-17  \n",
       "1     search_1  yandex  2019-10-19  2019-10-17  \n",
       "2     search_1  yandex  2019-10-19  2019-10-17  \n",
       "3  photos_show  yandex  2019-10-19  2019-10-17  \n",
       "4  photos_show  yandex  2019-10-19  2019-10-17  "
      ]
     },
     "execution_count": 53,
     "metadata": {},
     "output_type": "execute_result"
    }
   ],
   "source": [
    "# перевод формат дат\n",
    "dataset_sources_yandex['active_date'] = \\\n",
    "dataset_sources_yandex['event.time'].astype('datetime64[W]')\n",
    "\n",
    "# cгруппируем и найдем первый заход для каждого id\n",
    "first_ts = dataset_sources_yandex.groupby('user_id').\\\n",
    "agg({'event.time': 'min'}).reset_index()\n",
    "first_ts = first_ts.rename(columns={'event.time':'first_ts'})\n",
    "first_ts['first_ts'] = first_ts['first_ts'].astype('datetime64[W]')\n",
    "\n",
    "# объеденим датасеты\n",
    "dataset_sources_yandex = first_ts.merge(dataset_sources_yandex, on = 'user_id')\n",
    "\n",
    "# выводим результат\n",
    "dataset_sources_yandex.head()\n"
   ]
  },
  {
   "cell_type": "code",
   "execution_count": 54,
   "metadata": {},
   "outputs": [
    {
     "data": {
      "text/html": [
       "<div>\n",
       "<style scoped>\n",
       "    .dataframe tbody tr th:only-of-type {\n",
       "        vertical-align: middle;\n",
       "    }\n",
       "\n",
       "    .dataframe tbody tr th {\n",
       "        vertical-align: top;\n",
       "    }\n",
       "\n",
       "    .dataframe thead th {\n",
       "        text-align: right;\n",
       "    }\n",
       "</style>\n",
       "<table border=\"1\" class=\"dataframe\">\n",
       "  <thead>\n",
       "    <tr style=\"text-align: right;\">\n",
       "      <th></th>\n",
       "      <th>user_id</th>\n",
       "      <th>first_ts</th>\n",
       "      <th>event.time</th>\n",
       "      <th>event.name</th>\n",
       "      <th>source</th>\n",
       "      <th>event_day</th>\n",
       "      <th>active_date</th>\n",
       "      <th>lifetime</th>\n",
       "    </tr>\n",
       "  </thead>\n",
       "  <tbody>\n",
       "    <tr>\n",
       "      <th>0</th>\n",
       "      <td>00157779-810c-4498-9e05-a1e9e3cedf93</td>\n",
       "      <td>2019-10-17</td>\n",
       "      <td>2019-10-19 21:34:33.849769</td>\n",
       "      <td>search_1</td>\n",
       "      <td>yandex</td>\n",
       "      <td>2019-10-19</td>\n",
       "      <td>2019-10-17</td>\n",
       "      <td>0 days</td>\n",
       "    </tr>\n",
       "    <tr>\n",
       "      <th>1</th>\n",
       "      <td>00157779-810c-4498-9e05-a1e9e3cedf93</td>\n",
       "      <td>2019-10-17</td>\n",
       "      <td>2019-10-19 21:35:19.296599</td>\n",
       "      <td>search_1</td>\n",
       "      <td>yandex</td>\n",
       "      <td>2019-10-19</td>\n",
       "      <td>2019-10-17</td>\n",
       "      <td>0 days</td>\n",
       "    </tr>\n",
       "    <tr>\n",
       "      <th>2</th>\n",
       "      <td>00157779-810c-4498-9e05-a1e9e3cedf93</td>\n",
       "      <td>2019-10-17</td>\n",
       "      <td>2019-10-19 21:36:44.344691</td>\n",
       "      <td>search_1</td>\n",
       "      <td>yandex</td>\n",
       "      <td>2019-10-19</td>\n",
       "      <td>2019-10-17</td>\n",
       "      <td>0 days</td>\n",
       "    </tr>\n",
       "    <tr>\n",
       "      <th>3</th>\n",
       "      <td>00157779-810c-4498-9e05-a1e9e3cedf93</td>\n",
       "      <td>2019-10-17</td>\n",
       "      <td>2019-10-19 21:40:38.990477</td>\n",
       "      <td>photos_show</td>\n",
       "      <td>yandex</td>\n",
       "      <td>2019-10-19</td>\n",
       "      <td>2019-10-17</td>\n",
       "      <td>0 days</td>\n",
       "    </tr>\n",
       "    <tr>\n",
       "      <th>4</th>\n",
       "      <td>00157779-810c-4498-9e05-a1e9e3cedf93</td>\n",
       "      <td>2019-10-17</td>\n",
       "      <td>2019-10-19 21:42:13.837523</td>\n",
       "      <td>photos_show</td>\n",
       "      <td>yandex</td>\n",
       "      <td>2019-10-19</td>\n",
       "      <td>2019-10-17</td>\n",
       "      <td>0 days</td>\n",
       "    </tr>\n",
       "  </tbody>\n",
       "</table>\n",
       "</div>"
      ],
      "text/plain": [
       "                                user_id   first_ts                 event.time  \\\n",
       "0  00157779-810c-4498-9e05-a1e9e3cedf93 2019-10-17 2019-10-19 21:34:33.849769   \n",
       "1  00157779-810c-4498-9e05-a1e9e3cedf93 2019-10-17 2019-10-19 21:35:19.296599   \n",
       "2  00157779-810c-4498-9e05-a1e9e3cedf93 2019-10-17 2019-10-19 21:36:44.344691   \n",
       "3  00157779-810c-4498-9e05-a1e9e3cedf93 2019-10-17 2019-10-19 21:40:38.990477   \n",
       "4  00157779-810c-4498-9e05-a1e9e3cedf93 2019-10-17 2019-10-19 21:42:13.837523   \n",
       "\n",
       "    event.name  source   event_day active_date lifetime  \n",
       "0     search_1  yandex  2019-10-19  2019-10-17   0 days  \n",
       "1     search_1  yandex  2019-10-19  2019-10-17   0 days  \n",
       "2     search_1  yandex  2019-10-19  2019-10-17   0 days  \n",
       "3  photos_show  yandex  2019-10-19  2019-10-17   0 days  \n",
       "4  photos_show  yandex  2019-10-19  2019-10-17   0 days  "
      ]
     },
     "execution_count": 54,
     "metadata": {},
     "output_type": "execute_result"
    }
   ],
   "source": [
    "# расчет lifetime\n",
    "dataset_sources_yandex['lifetime'] =\\\n",
    "dataset_sources_yandex['active_date'] - dataset_sources_yandex['first_ts']\n",
    "\n",
    "# выводим результат\n",
    "dataset_sources_yandex.head()"
   ]
  },
  {
   "cell_type": "code",
   "execution_count": 55,
   "metadata": {},
   "outputs": [
    {
     "data": {
      "text/html": [
       "<div>\n",
       "<style scoped>\n",
       "    .dataframe tbody tr th:only-of-type {\n",
       "        vertical-align: middle;\n",
       "    }\n",
       "\n",
       "    .dataframe tbody tr th {\n",
       "        vertical-align: top;\n",
       "    }\n",
       "\n",
       "    .dataframe thead th {\n",
       "        text-align: right;\n",
       "    }\n",
       "</style>\n",
       "<table border=\"1\" class=\"dataframe\">\n",
       "  <thead>\n",
       "    <tr style=\"text-align: right;\">\n",
       "      <th>lifetime</th>\n",
       "      <th>0 days</th>\n",
       "      <th>7 days</th>\n",
       "      <th>14 days</th>\n",
       "      <th>21 days</th>\n",
       "      <th>28 days</th>\n",
       "    </tr>\n",
       "    <tr>\n",
       "      <th>first_ts</th>\n",
       "      <th></th>\n",
       "      <th></th>\n",
       "      <th></th>\n",
       "      <th></th>\n",
       "      <th></th>\n",
       "    </tr>\n",
       "  </thead>\n",
       "  <tbody>\n",
       "    <tr>\n",
       "      <th>2019-10-03</th>\n",
       "      <td>247.0</td>\n",
       "      <td>68.0</td>\n",
       "      <td>41.0</td>\n",
       "      <td>23.0</td>\n",
       "      <td>14.0</td>\n",
       "    </tr>\n",
       "    <tr>\n",
       "      <th>2019-10-10</th>\n",
       "      <td>518.0</td>\n",
       "      <td>123.0</td>\n",
       "      <td>78.0</td>\n",
       "      <td>35.0</td>\n",
       "      <td>NaN</td>\n",
       "    </tr>\n",
       "    <tr>\n",
       "      <th>2019-10-17</th>\n",
       "      <td>499.0</td>\n",
       "      <td>118.0</td>\n",
       "      <td>39.0</td>\n",
       "      <td>NaN</td>\n",
       "      <td>NaN</td>\n",
       "    </tr>\n",
       "    <tr>\n",
       "      <th>2019-10-24</th>\n",
       "      <td>462.0</td>\n",
       "      <td>73.0</td>\n",
       "      <td>NaN</td>\n",
       "      <td>NaN</td>\n",
       "      <td>NaN</td>\n",
       "    </tr>\n",
       "    <tr>\n",
       "      <th>2019-10-31</th>\n",
       "      <td>208.0</td>\n",
       "      <td>NaN</td>\n",
       "      <td>NaN</td>\n",
       "      <td>NaN</td>\n",
       "      <td>NaN</td>\n",
       "    </tr>\n",
       "  </tbody>\n",
       "</table>\n",
       "</div>"
      ],
      "text/plain": [
       "lifetime    0 days  7 days  14 days  21 days  28 days\n",
       "first_ts                                             \n",
       "2019-10-03   247.0    68.0     41.0     23.0     14.0\n",
       "2019-10-10   518.0   123.0     78.0     35.0      NaN\n",
       "2019-10-17   499.0   118.0     39.0      NaN      NaN\n",
       "2019-10-24   462.0    73.0      NaN      NaN      NaN\n",
       "2019-10-31   208.0     NaN      NaN      NaN      NaN"
      ]
     },
     "execution_count": 55,
     "metadata": {},
     "output_type": "execute_result"
    }
   ],
   "source": [
    "# строим таблицу удержания\n",
    "result_grouped = dataset_sources_yandex.pivot_table(\n",
    "    index=['first_ts'], columns='lifetime', values='user_id', aggfunc='nunique'\n",
    ")\n",
    "\n",
    "# выводим результат\n",
    "result_grouped"
   ]
  },
  {
   "cell_type": "code",
   "execution_count": 56,
   "metadata": {},
   "outputs": [
    {
     "data": {
      "text/html": [
       "<div>\n",
       "<style scoped>\n",
       "    .dataframe tbody tr th:only-of-type {\n",
       "        vertical-align: middle;\n",
       "    }\n",
       "\n",
       "    .dataframe tbody tr th {\n",
       "        vertical-align: top;\n",
       "    }\n",
       "\n",
       "    .dataframe thead th {\n",
       "        text-align: right;\n",
       "    }\n",
       "</style>\n",
       "<table border=\"1\" class=\"dataframe\">\n",
       "  <thead>\n",
       "    <tr style=\"text-align: right;\">\n",
       "      <th></th>\n",
       "      <th>cohort_size</th>\n",
       "    </tr>\n",
       "    <tr>\n",
       "      <th>first_ts</th>\n",
       "      <th></th>\n",
       "    </tr>\n",
       "  </thead>\n",
       "  <tbody>\n",
       "    <tr>\n",
       "      <th>2019-10-03</th>\n",
       "      <td>247</td>\n",
       "    </tr>\n",
       "    <tr>\n",
       "      <th>2019-10-10</th>\n",
       "      <td>518</td>\n",
       "    </tr>\n",
       "    <tr>\n",
       "      <th>2019-10-17</th>\n",
       "      <td>499</td>\n",
       "    </tr>\n",
       "    <tr>\n",
       "      <th>2019-10-24</th>\n",
       "      <td>462</td>\n",
       "    </tr>\n",
       "    <tr>\n",
       "      <th>2019-10-31</th>\n",
       "      <td>208</td>\n",
       "    </tr>\n",
       "  </tbody>\n",
       "</table>\n",
       "</div>"
      ],
      "text/plain": [
       "            cohort_size\n",
       "first_ts               \n",
       "2019-10-03          247\n",
       "2019-10-10          518\n",
       "2019-10-17          499\n",
       "2019-10-24          462\n",
       "2019-10-31          208"
      ]
     },
     "execution_count": 56,
     "metadata": {},
     "output_type": "execute_result"
    }
   ],
   "source": [
    "# вычисляем размеры когорт\n",
    "cohort_sizes = (\n",
    "    dataset_sources_yandex.groupby('first_ts')\n",
    "    .agg({'user_id': 'nunique'})\n",
    "    .rename(columns={'user_id': 'cohort_size'})\n",
    ")\n",
    "cohort_sizes"
   ]
  },
  {
   "cell_type": "code",
   "execution_count": 57,
   "metadata": {},
   "outputs": [
    {
     "data": {
      "text/html": [
       "<div>\n",
       "<style scoped>\n",
       "    .dataframe tbody tr th:only-of-type {\n",
       "        vertical-align: middle;\n",
       "    }\n",
       "\n",
       "    .dataframe tbody tr th {\n",
       "        vertical-align: top;\n",
       "    }\n",
       "\n",
       "    .dataframe thead th {\n",
       "        text-align: right;\n",
       "    }\n",
       "</style>\n",
       "<table border=\"1\" class=\"dataframe\">\n",
       "  <thead>\n",
       "    <tr style=\"text-align: right;\">\n",
       "      <th></th>\n",
       "      <th>0 days 00:00:00</th>\n",
       "      <th>7 days 00:00:00</th>\n",
       "      <th>14 days 00:00:00</th>\n",
       "      <th>21 days 00:00:00</th>\n",
       "      <th>28 days 00:00:00</th>\n",
       "    </tr>\n",
       "    <tr>\n",
       "      <th>first_ts</th>\n",
       "      <th></th>\n",
       "      <th></th>\n",
       "      <th></th>\n",
       "      <th></th>\n",
       "      <th></th>\n",
       "    </tr>\n",
       "  </thead>\n",
       "  <tbody>\n",
       "    <tr>\n",
       "      <th>2019-10-03</th>\n",
       "      <td>1.0</td>\n",
       "      <td>0.275304</td>\n",
       "      <td>0.165992</td>\n",
       "      <td>0.093117</td>\n",
       "      <td>0.05668</td>\n",
       "    </tr>\n",
       "    <tr>\n",
       "      <th>2019-10-10</th>\n",
       "      <td>1.0</td>\n",
       "      <td>0.237452</td>\n",
       "      <td>0.150579</td>\n",
       "      <td>0.067568</td>\n",
       "      <td>NaN</td>\n",
       "    </tr>\n",
       "    <tr>\n",
       "      <th>2019-10-17</th>\n",
       "      <td>1.0</td>\n",
       "      <td>0.236473</td>\n",
       "      <td>0.078156</td>\n",
       "      <td>NaN</td>\n",
       "      <td>NaN</td>\n",
       "    </tr>\n",
       "    <tr>\n",
       "      <th>2019-10-24</th>\n",
       "      <td>1.0</td>\n",
       "      <td>0.158009</td>\n",
       "      <td>NaN</td>\n",
       "      <td>NaN</td>\n",
       "      <td>NaN</td>\n",
       "    </tr>\n",
       "    <tr>\n",
       "      <th>2019-10-31</th>\n",
       "      <td>1.0</td>\n",
       "      <td>NaN</td>\n",
       "      <td>NaN</td>\n",
       "      <td>NaN</td>\n",
       "      <td>NaN</td>\n",
       "    </tr>\n",
       "  </tbody>\n",
       "</table>\n",
       "</div>"
      ],
      "text/plain": [
       "            0 days 00:00:00  7 days 00:00:00  14 days 00:00:00  \\\n",
       "first_ts                                                         \n",
       "2019-10-03              1.0         0.275304          0.165992   \n",
       "2019-10-10              1.0         0.237452          0.150579   \n",
       "2019-10-17              1.0         0.236473          0.078156   \n",
       "2019-10-24              1.0         0.158009               NaN   \n",
       "2019-10-31              1.0              NaN               NaN   \n",
       "\n",
       "            21 days 00:00:00  28 days 00:00:00  \n",
       "first_ts                                        \n",
       "2019-10-03          0.093117           0.05668  \n",
       "2019-10-10          0.067568               NaN  \n",
       "2019-10-17               NaN               NaN  \n",
       "2019-10-24               NaN               NaN  \n",
       "2019-10-31               NaN               NaN  "
      ]
     },
     "execution_count": 57,
     "metadata": {},
     "output_type": "execute_result"
    }
   ],
   "source": [
    "# объединяем размеры когорт и таблицу удержания\n",
    "result_grouped = cohort_sizes.merge(\n",
    "    result_grouped, on='first_ts', how='left'\n",
    ")\n",
    "\n",
    "# выводим результат (получится retention по количеству пользователей)\n",
    "result_grouped\n",
    "\n",
    "# делим данные таблицы удержания на размеры когорт (чтобы получить проценты)\n",
    "\n",
    "result_grouped = result_grouped.div(\n",
    "    result_grouped['cohort_size'], axis=0\n",
    ").drop(columns=['cohort_size'])\n",
    "\n",
    "# выводим результат\n",
    "result_grouped\n"
   ]
  },
  {
   "cell_type": "code",
   "execution_count": 58,
   "metadata": {},
   "outputs": [
    {
     "data": {
      "image/png": "[encoded data removed]",
      "text/plain": [
       "<Figure size 1080x432 with 2 Axes>"
      ]
     },
     "metadata": {
      "needs_background": "light"
     },
     "output_type": "display_data"
    }
   ],
   "source": [
    "#строим хитмэп\n",
    "\n",
    "plt.figure(figsize=(15, 6))  # задаём размер графика\n",
    "sns.heatmap(\n",
    "    result_grouped,  # удаляем размеры когорт\n",
    "    annot=True,  # включаем подписи\n",
    "    fmt='.2%',  # переводим значения в проценты\n",
    ")\n",
    "plt.title('Тепловая карта удержания, группы Yandex')  # название графика\n",
    "plt.show()"
   ]
  },
  {
   "cell_type": "markdown",
   "metadata": {},
   "source": [
    "Итак, по чуть более светлым пятнам на графике видно, что лучшее удержание  - показали пользователи на второй недели , привлечённые 2019-10-03 - 27,53%.\n"
   ]
  },
  {
   "cell_type": "code",
   "execution_count": 59,
   "metadata": {},
   "outputs": [
    {
     "data": {
      "text/plain": [
       "22.68"
      ]
     },
     "metadata": {},
     "output_type": "display_data"
    },
    {
     "data": {
      "text/plain": [
       "9.87"
      ]
     },
     "execution_count": 59,
     "metadata": {},
     "output_type": "execute_result"
    }
   ],
   "source": [
    "#среднее значение на 7 и 14 день\n",
    "\n",
    "rr_y_7 = round((27.53 + 23.75 + 23.65 + 15.8)/4, 2)\n",
    "display(rr_y_7)\n",
    "rr_y_14 = round((16.6 + 15.06 + 7.82)/4,2)\n",
    "rr_y_14\n"
   ]
  },
  {
   "cell_type": "markdown",
   "metadata": {},
   "source": [
    "#### Google - как источник привлечения пользователей."
   ]
  },
  {
   "cell_type": "code",
   "execution_count": 60,
   "metadata": {},
   "outputs": [
    {
     "name": "stderr",
     "output_type": "stream",
     "text": [
      "/tmp/ipykernel_363/3156985824.py:2: SettingWithCopyWarning: \n",
      "A value is trying to be set on a copy of a slice from a DataFrame.\n",
      "Try using .loc[row_indexer,col_indexer] = value instead\n",
      "\n",
      "See the caveats in the documentation: https://pandas.pydata.org/pandas-docs/stable/user_guide/indexing.html#returning-a-view-versus-a-copy\n",
      "  dataset_sources_google['active_date'] = \\\n"
     ]
    },
    {
     "data": {
      "text/html": [
       "<div>\n",
       "<style scoped>\n",
       "    .dataframe tbody tr th:only-of-type {\n",
       "        vertical-align: middle;\n",
       "    }\n",
       "\n",
       "    .dataframe tbody tr th {\n",
       "        vertical-align: top;\n",
       "    }\n",
       "\n",
       "    .dataframe thead th {\n",
       "        text-align: right;\n",
       "    }\n",
       "</style>\n",
       "<table border=\"1\" class=\"dataframe\">\n",
       "  <thead>\n",
       "    <tr style=\"text-align: right;\">\n",
       "      <th></th>\n",
       "      <th>user_id</th>\n",
       "      <th>first_ts</th>\n",
       "      <th>event.time</th>\n",
       "      <th>event.name</th>\n",
       "      <th>source</th>\n",
       "      <th>event_day</th>\n",
       "      <th>active_date</th>\n",
       "    </tr>\n",
       "  </thead>\n",
       "  <tbody>\n",
       "    <tr>\n",
       "      <th>0</th>\n",
       "      <td>004690c3-5a84-4bb7-a8af-e0c8f8fca64e</td>\n",
       "      <td>2019-10-17</td>\n",
       "      <td>2019-10-18 22:14:05.555052</td>\n",
       "      <td>search_7</td>\n",
       "      <td>google</td>\n",
       "      <td>2019-10-18</td>\n",
       "      <td>2019-10-17</td>\n",
       "    </tr>\n",
       "    <tr>\n",
       "      <th>1</th>\n",
       "      <td>004690c3-5a84-4bb7-a8af-e0c8f8fca64e</td>\n",
       "      <td>2019-10-17</td>\n",
       "      <td>2019-10-18 22:14:16.960831</td>\n",
       "      <td>search_5</td>\n",
       "      <td>google</td>\n",
       "      <td>2019-10-18</td>\n",
       "      <td>2019-10-17</td>\n",
       "    </tr>\n",
       "    <tr>\n",
       "      <th>2</th>\n",
       "      <td>004690c3-5a84-4bb7-a8af-e0c8f8fca64e</td>\n",
       "      <td>2019-10-17</td>\n",
       "      <td>2019-10-18 22:17:40.719687</td>\n",
       "      <td>map</td>\n",
       "      <td>google</td>\n",
       "      <td>2019-10-18</td>\n",
       "      <td>2019-10-17</td>\n",
       "    </tr>\n",
       "    <tr>\n",
       "      <th>3</th>\n",
       "      <td>004690c3-5a84-4bb7-a8af-e0c8f8fca64e</td>\n",
       "      <td>2019-10-17</td>\n",
       "      <td>2019-10-20 17:47:18.569612</td>\n",
       "      <td>search_7</td>\n",
       "      <td>google</td>\n",
       "      <td>2019-10-20</td>\n",
       "      <td>2019-10-17</td>\n",
       "    </tr>\n",
       "    <tr>\n",
       "      <th>4</th>\n",
       "      <td>004690c3-5a84-4bb7-a8af-e0c8f8fca64e</td>\n",
       "      <td>2019-10-17</td>\n",
       "      <td>2019-10-20 17:47:19.889629</td>\n",
       "      <td>search_4</td>\n",
       "      <td>google</td>\n",
       "      <td>2019-10-20</td>\n",
       "      <td>2019-10-17</td>\n",
       "    </tr>\n",
       "  </tbody>\n",
       "</table>\n",
       "</div>"
      ],
      "text/plain": [
       "                                user_id   first_ts                 event.time  \\\n",
       "0  004690c3-5a84-4bb7-a8af-e0c8f8fca64e 2019-10-17 2019-10-18 22:14:05.555052   \n",
       "1  004690c3-5a84-4bb7-a8af-e0c8f8fca64e 2019-10-17 2019-10-18 22:14:16.960831   \n",
       "2  004690c3-5a84-4bb7-a8af-e0c8f8fca64e 2019-10-17 2019-10-18 22:17:40.719687   \n",
       "3  004690c3-5a84-4bb7-a8af-e0c8f8fca64e 2019-10-17 2019-10-20 17:47:18.569612   \n",
       "4  004690c3-5a84-4bb7-a8af-e0c8f8fca64e 2019-10-17 2019-10-20 17:47:19.889629   \n",
       "\n",
       "  event.name  source   event_day active_date  \n",
       "0   search_7  google  2019-10-18  2019-10-17  \n",
       "1   search_5  google  2019-10-18  2019-10-17  \n",
       "2        map  google  2019-10-18  2019-10-17  \n",
       "3   search_7  google  2019-10-20  2019-10-17  \n",
       "4   search_4  google  2019-10-20  2019-10-17  "
      ]
     },
     "execution_count": 60,
     "metadata": {},
     "output_type": "execute_result"
    }
   ],
   "source": [
    "# перевод формат дат\n",
    "dataset_sources_google['active_date'] = \\\n",
    "dataset_sources_google['event.time'].astype('datetime64[W]')\n",
    "\n",
    "# cгруппируем и найдем первый заход для каждого id\n",
    "first_ts_g = dataset_sources_google.groupby('user_id').\\\n",
    "agg({'event.time': 'min'}).reset_index()\n",
    "first_ts_g = first_ts_g.rename(columns={'event.time':'first_ts'})\n",
    "first_ts_g['first_ts'] = first_ts_g['first_ts'].astype('datetime64[W]')\n",
    "\n",
    "# объеденим датасеты\n",
    "dataset_sources_google = first_ts_g.merge(dataset_sources_google, on = 'user_id')\n",
    "\n",
    "# выводим результат\n",
    "dataset_sources_google.head()\n"
   ]
  },
  {
   "cell_type": "code",
   "execution_count": 61,
   "metadata": {},
   "outputs": [
    {
     "data": {
      "text/html": [
       "<div>\n",
       "<style scoped>\n",
       "    .dataframe tbody tr th:only-of-type {\n",
       "        vertical-align: middle;\n",
       "    }\n",
       "\n",
       "    .dataframe tbody tr th {\n",
       "        vertical-align: top;\n",
       "    }\n",
       "\n",
       "    .dataframe thead th {\n",
       "        text-align: right;\n",
       "    }\n",
       "</style>\n",
       "<table border=\"1\" class=\"dataframe\">\n",
       "  <thead>\n",
       "    <tr style=\"text-align: right;\">\n",
       "      <th></th>\n",
       "      <th>user_id</th>\n",
       "      <th>first_ts</th>\n",
       "      <th>event.time</th>\n",
       "      <th>event.name</th>\n",
       "      <th>source</th>\n",
       "      <th>event_day</th>\n",
       "      <th>active_date</th>\n",
       "      <th>lifetime</th>\n",
       "    </tr>\n",
       "  </thead>\n",
       "  <tbody>\n",
       "    <tr>\n",
       "      <th>0</th>\n",
       "      <td>004690c3-5a84-4bb7-a8af-e0c8f8fca64e</td>\n",
       "      <td>2019-10-17</td>\n",
       "      <td>2019-10-18 22:14:05.555052</td>\n",
       "      <td>search_7</td>\n",
       "      <td>google</td>\n",
       "      <td>2019-10-18</td>\n",
       "      <td>2019-10-17</td>\n",
       "      <td>0 days</td>\n",
       "    </tr>\n",
       "    <tr>\n",
       "      <th>1</th>\n",
       "      <td>004690c3-5a84-4bb7-a8af-e0c8f8fca64e</td>\n",
       "      <td>2019-10-17</td>\n",
       "      <td>2019-10-18 22:14:16.960831</td>\n",
       "      <td>search_5</td>\n",
       "      <td>google</td>\n",
       "      <td>2019-10-18</td>\n",
       "      <td>2019-10-17</td>\n",
       "      <td>0 days</td>\n",
       "    </tr>\n",
       "    <tr>\n",
       "      <th>2</th>\n",
       "      <td>004690c3-5a84-4bb7-a8af-e0c8f8fca64e</td>\n",
       "      <td>2019-10-17</td>\n",
       "      <td>2019-10-18 22:17:40.719687</td>\n",
       "      <td>map</td>\n",
       "      <td>google</td>\n",
       "      <td>2019-10-18</td>\n",
       "      <td>2019-10-17</td>\n",
       "      <td>0 days</td>\n",
       "    </tr>\n",
       "    <tr>\n",
       "      <th>3</th>\n",
       "      <td>004690c3-5a84-4bb7-a8af-e0c8f8fca64e</td>\n",
       "      <td>2019-10-17</td>\n",
       "      <td>2019-10-20 17:47:18.569612</td>\n",
       "      <td>search_7</td>\n",
       "      <td>google</td>\n",
       "      <td>2019-10-20</td>\n",
       "      <td>2019-10-17</td>\n",
       "      <td>0 days</td>\n",
       "    </tr>\n",
       "    <tr>\n",
       "      <th>4</th>\n",
       "      <td>004690c3-5a84-4bb7-a8af-e0c8f8fca64e</td>\n",
       "      <td>2019-10-17</td>\n",
       "      <td>2019-10-20 17:47:19.889629</td>\n",
       "      <td>search_4</td>\n",
       "      <td>google</td>\n",
       "      <td>2019-10-20</td>\n",
       "      <td>2019-10-17</td>\n",
       "      <td>0 days</td>\n",
       "    </tr>\n",
       "  </tbody>\n",
       "</table>\n",
       "</div>"
      ],
      "text/plain": [
       "                                user_id   first_ts                 event.time  \\\n",
       "0  004690c3-5a84-4bb7-a8af-e0c8f8fca64e 2019-10-17 2019-10-18 22:14:05.555052   \n",
       "1  004690c3-5a84-4bb7-a8af-e0c8f8fca64e 2019-10-17 2019-10-18 22:14:16.960831   \n",
       "2  004690c3-5a84-4bb7-a8af-e0c8f8fca64e 2019-10-17 2019-10-18 22:17:40.719687   \n",
       "3  004690c3-5a84-4bb7-a8af-e0c8f8fca64e 2019-10-17 2019-10-20 17:47:18.569612   \n",
       "4  004690c3-5a84-4bb7-a8af-e0c8f8fca64e 2019-10-17 2019-10-20 17:47:19.889629   \n",
       "\n",
       "  event.name  source   event_day active_date lifetime  \n",
       "0   search_7  google  2019-10-18  2019-10-17   0 days  \n",
       "1   search_5  google  2019-10-18  2019-10-17   0 days  \n",
       "2        map  google  2019-10-18  2019-10-17   0 days  \n",
       "3   search_7  google  2019-10-20  2019-10-17   0 days  \n",
       "4   search_4  google  2019-10-20  2019-10-17   0 days  "
      ]
     },
     "execution_count": 61,
     "metadata": {},
     "output_type": "execute_result"
    }
   ],
   "source": [
    "# расчет lifetime\n",
    "dataset_sources_google['lifetime'] =\\\n",
    "dataset_sources_google['active_date'] - dataset_sources_google['first_ts']\n",
    "\n",
    "# выводим результат\n",
    "dataset_sources_google.head()"
   ]
  },
  {
   "cell_type": "code",
   "execution_count": 62,
   "metadata": {},
   "outputs": [
    {
     "data": {
      "text/html": [
       "<div>\n",
       "<style scoped>\n",
       "    .dataframe tbody tr th:only-of-type {\n",
       "        vertical-align: middle;\n",
       "    }\n",
       "\n",
       "    .dataframe tbody tr th {\n",
       "        vertical-align: top;\n",
       "    }\n",
       "\n",
       "    .dataframe thead th {\n",
       "        text-align: right;\n",
       "    }\n",
       "</style>\n",
       "<table border=\"1\" class=\"dataframe\">\n",
       "  <thead>\n",
       "    <tr style=\"text-align: right;\">\n",
       "      <th>lifetime</th>\n",
       "      <th>0 days</th>\n",
       "      <th>7 days</th>\n",
       "      <th>14 days</th>\n",
       "      <th>21 days</th>\n",
       "      <th>28 days</th>\n",
       "    </tr>\n",
       "    <tr>\n",
       "      <th>first_ts</th>\n",
       "      <th></th>\n",
       "      <th></th>\n",
       "      <th></th>\n",
       "      <th></th>\n",
       "      <th></th>\n",
       "    </tr>\n",
       "  </thead>\n",
       "  <tbody>\n",
       "    <tr>\n",
       "      <th>2019-10-03</th>\n",
       "      <td>142.0</td>\n",
       "      <td>36.0</td>\n",
       "      <td>17.0</td>\n",
       "      <td>16.0</td>\n",
       "      <td>12.0</td>\n",
       "    </tr>\n",
       "    <tr>\n",
       "      <th>2019-10-10</th>\n",
       "      <td>288.0</td>\n",
       "      <td>70.0</td>\n",
       "      <td>42.0</td>\n",
       "      <td>20.0</td>\n",
       "      <td>NaN</td>\n",
       "    </tr>\n",
       "    <tr>\n",
       "      <th>2019-10-17</th>\n",
       "      <td>327.0</td>\n",
       "      <td>74.0</td>\n",
       "      <td>26.0</td>\n",
       "      <td>NaN</td>\n",
       "      <td>NaN</td>\n",
       "    </tr>\n",
       "    <tr>\n",
       "      <th>2019-10-24</th>\n",
       "      <td>246.0</td>\n",
       "      <td>43.0</td>\n",
       "      <td>NaN</td>\n",
       "      <td>NaN</td>\n",
       "      <td>NaN</td>\n",
       "    </tr>\n",
       "    <tr>\n",
       "      <th>2019-10-31</th>\n",
       "      <td>126.0</td>\n",
       "      <td>NaN</td>\n",
       "      <td>NaN</td>\n",
       "      <td>NaN</td>\n",
       "      <td>NaN</td>\n",
       "    </tr>\n",
       "  </tbody>\n",
       "</table>\n",
       "</div>"
      ],
      "text/plain": [
       "lifetime    0 days  7 days  14 days  21 days  28 days\n",
       "first_ts                                             \n",
       "2019-10-03   142.0    36.0     17.0     16.0     12.0\n",
       "2019-10-10   288.0    70.0     42.0     20.0      NaN\n",
       "2019-10-17   327.0    74.0     26.0      NaN      NaN\n",
       "2019-10-24   246.0    43.0      NaN      NaN      NaN\n",
       "2019-10-31   126.0     NaN      NaN      NaN      NaN"
      ]
     },
     "execution_count": 62,
     "metadata": {},
     "output_type": "execute_result"
    }
   ],
   "source": [
    "# строим таблицу удержания\n",
    "result_grouped_g = dataset_sources_google.pivot_table(\n",
    "    index=['first_ts'], columns='lifetime', values='user_id', aggfunc='nunique'\n",
    ")\n",
    "\n",
    "# выводим результат\n",
    "result_grouped_g"
   ]
  },
  {
   "cell_type": "code",
   "execution_count": 63,
   "metadata": {},
   "outputs": [
    {
     "data": {
      "text/html": [
       "<div>\n",
       "<style scoped>\n",
       "    .dataframe tbody tr th:only-of-type {\n",
       "        vertical-align: middle;\n",
       "    }\n",
       "\n",
       "    .dataframe tbody tr th {\n",
       "        vertical-align: top;\n",
       "    }\n",
       "\n",
       "    .dataframe thead th {\n",
       "        text-align: right;\n",
       "    }\n",
       "</style>\n",
       "<table border=\"1\" class=\"dataframe\">\n",
       "  <thead>\n",
       "    <tr style=\"text-align: right;\">\n",
       "      <th></th>\n",
       "      <th>cohort_size</th>\n",
       "    </tr>\n",
       "    <tr>\n",
       "      <th>first_ts</th>\n",
       "      <th></th>\n",
       "    </tr>\n",
       "  </thead>\n",
       "  <tbody>\n",
       "    <tr>\n",
       "      <th>2019-10-03</th>\n",
       "      <td>142</td>\n",
       "    </tr>\n",
       "    <tr>\n",
       "      <th>2019-10-10</th>\n",
       "      <td>288</td>\n",
       "    </tr>\n",
       "    <tr>\n",
       "      <th>2019-10-17</th>\n",
       "      <td>327</td>\n",
       "    </tr>\n",
       "    <tr>\n",
       "      <th>2019-10-24</th>\n",
       "      <td>246</td>\n",
       "    </tr>\n",
       "    <tr>\n",
       "      <th>2019-10-31</th>\n",
       "      <td>126</td>\n",
       "    </tr>\n",
       "  </tbody>\n",
       "</table>\n",
       "</div>"
      ],
      "text/plain": [
       "            cohort_size\n",
       "first_ts               \n",
       "2019-10-03          142\n",
       "2019-10-10          288\n",
       "2019-10-17          327\n",
       "2019-10-24          246\n",
       "2019-10-31          126"
      ]
     },
     "execution_count": 63,
     "metadata": {},
     "output_type": "execute_result"
    }
   ],
   "source": [
    "# вычисляем размеры когорт\n",
    "cohort_sizes_g = (\n",
    "    dataset_sources_google.groupby('first_ts')\n",
    "    .agg({'user_id': 'nunique'})\n",
    "    .rename(columns={'user_id': 'cohort_size'})\n",
    ")\n",
    "cohort_sizes_g"
   ]
  },
  {
   "cell_type": "code",
   "execution_count": 64,
   "metadata": {},
   "outputs": [
    {
     "data": {
      "text/html": [
       "<div>\n",
       "<style scoped>\n",
       "    .dataframe tbody tr th:only-of-type {\n",
       "        vertical-align: middle;\n",
       "    }\n",
       "\n",
       "    .dataframe tbody tr th {\n",
       "        vertical-align: top;\n",
       "    }\n",
       "\n",
       "    .dataframe thead th {\n",
       "        text-align: right;\n",
       "    }\n",
       "</style>\n",
       "<table border=\"1\" class=\"dataframe\">\n",
       "  <thead>\n",
       "    <tr style=\"text-align: right;\">\n",
       "      <th></th>\n",
       "      <th>0 days 00:00:00</th>\n",
       "      <th>7 days 00:00:00</th>\n",
       "      <th>14 days 00:00:00</th>\n",
       "      <th>21 days 00:00:00</th>\n",
       "      <th>28 days 00:00:00</th>\n",
       "    </tr>\n",
       "    <tr>\n",
       "      <th>first_ts</th>\n",
       "      <th></th>\n",
       "      <th></th>\n",
       "      <th></th>\n",
       "      <th></th>\n",
       "      <th></th>\n",
       "    </tr>\n",
       "  </thead>\n",
       "  <tbody>\n",
       "    <tr>\n",
       "      <th>2019-10-03</th>\n",
       "      <td>1.0</td>\n",
       "      <td>0.253521</td>\n",
       "      <td>0.119718</td>\n",
       "      <td>0.112676</td>\n",
       "      <td>0.084507</td>\n",
       "    </tr>\n",
       "    <tr>\n",
       "      <th>2019-10-10</th>\n",
       "      <td>1.0</td>\n",
       "      <td>0.243056</td>\n",
       "      <td>0.145833</td>\n",
       "      <td>0.069444</td>\n",
       "      <td>NaN</td>\n",
       "    </tr>\n",
       "    <tr>\n",
       "      <th>2019-10-17</th>\n",
       "      <td>1.0</td>\n",
       "      <td>0.226300</td>\n",
       "      <td>0.079511</td>\n",
       "      <td>NaN</td>\n",
       "      <td>NaN</td>\n",
       "    </tr>\n",
       "    <tr>\n",
       "      <th>2019-10-24</th>\n",
       "      <td>1.0</td>\n",
       "      <td>0.174797</td>\n",
       "      <td>NaN</td>\n",
       "      <td>NaN</td>\n",
       "      <td>NaN</td>\n",
       "    </tr>\n",
       "    <tr>\n",
       "      <th>2019-10-31</th>\n",
       "      <td>1.0</td>\n",
       "      <td>NaN</td>\n",
       "      <td>NaN</td>\n",
       "      <td>NaN</td>\n",
       "      <td>NaN</td>\n",
       "    </tr>\n",
       "  </tbody>\n",
       "</table>\n",
       "</div>"
      ],
      "text/plain": [
       "            0 days 00:00:00  7 days 00:00:00  14 days 00:00:00  \\\n",
       "first_ts                                                         \n",
       "2019-10-03              1.0         0.253521          0.119718   \n",
       "2019-10-10              1.0         0.243056          0.145833   \n",
       "2019-10-17              1.0         0.226300          0.079511   \n",
       "2019-10-24              1.0         0.174797               NaN   \n",
       "2019-10-31              1.0              NaN               NaN   \n",
       "\n",
       "            21 days 00:00:00  28 days 00:00:00  \n",
       "first_ts                                        \n",
       "2019-10-03          0.112676          0.084507  \n",
       "2019-10-10          0.069444               NaN  \n",
       "2019-10-17               NaN               NaN  \n",
       "2019-10-24               NaN               NaN  \n",
       "2019-10-31               NaN               NaN  "
      ]
     },
     "execution_count": 64,
     "metadata": {},
     "output_type": "execute_result"
    }
   ],
   "source": [
    "# объединяем размеры когорт и таблицу удержания\n",
    "result_grouped_g = cohort_sizes_g.merge(\n",
    "    result_grouped_g, on='first_ts', how='left'\n",
    ")\n",
    "\n",
    "# выводим результат (получится retention по количеству пользователей)\n",
    "result_grouped_g\n",
    "\n",
    "# делим данные таблицы удержания на размеры когорт (чтобы получить проценты)\n",
    "\n",
    "result_grouped_g = result_grouped_g.div(\n",
    "    result_grouped_g['cohort_size'], axis=0\n",
    ").drop(columns=['cohort_size'])\n",
    "\n",
    "# выводим результат\n",
    "result_grouped_g\n"
   ]
  },
  {
   "cell_type": "code",
   "execution_count": 65,
   "metadata": {},
   "outputs": [
    {
     "data": {
      "image/png": "[encoded data removed]",
      "text/plain": [
       "<Figure size 1080x432 with 2 Axes>"
      ]
     },
     "metadata": {
      "needs_background": "light"
     },
     "output_type": "display_data"
    }
   ],
   "source": [
    "#строим хитмэп\n",
    "\n",
    "plt.figure(figsize=(15, 6))  # задаём размер графика\n",
    "sns.heatmap(\n",
    "    result_grouped_g,  # удаляем размеры когорт\n",
    "    annot=True,  # включаем подписи\n",
    "    fmt='.2%',  # переводим значения в проценты\n",
    ")\n",
    "plt.title('Тепловая карта удержания, группы Google')  # название графика\n",
    "plt.show()"
   ]
  },
  {
   "cell_type": "markdown",
   "metadata": {},
   "source": [
    "Лучшее удержание  - показали пользователи на второй недели , привлечённые 2019-10-03 - 25,35%."
   ]
  },
  {
   "cell_type": "code",
   "execution_count": 66,
   "metadata": {},
   "outputs": [
    {
     "data": {
      "text/plain": [
       "22.42"
      ]
     },
     "metadata": {},
     "output_type": "display_data"
    },
    {
     "data": {
      "text/plain": [
       "8.61"
      ]
     },
     "execution_count": 66,
     "metadata": {},
     "output_type": "execute_result"
    }
   ],
   "source": [
    "#среднее значение на 7 и 14 день\n",
    "\n",
    "rr_g_7 = round((25.35 + 24.31 + 22.63 + 17.4)/4, 2)\n",
    "display(rr_g_7)\n",
    "rr_g_14 = round((11.97 + 14.5 + 7.95)/4,2)\n",
    "rr_g_14\n"
   ]
  },
  {
   "cell_type": "markdown",
   "metadata": {},
   "source": [
    "#### 'Other' источники привлечения пользователей."
   ]
  },
  {
   "cell_type": "code",
   "execution_count": 67,
   "metadata": {},
   "outputs": [
    {
     "name": "stderr",
     "output_type": "stream",
     "text": [
      "/tmp/ipykernel_363/3137595152.py:2: SettingWithCopyWarning: \n",
      "A value is trying to be set on a copy of a slice from a DataFrame.\n",
      "Try using .loc[row_indexer,col_indexer] = value instead\n",
      "\n",
      "See the caveats in the documentation: https://pandas.pydata.org/pandas-docs/stable/user_guide/indexing.html#returning-a-view-versus-a-copy\n",
      "  dataset_sources_other['active_date'] = dataset_sources_other['event.time'].astype('datetime64[W]')\n"
     ]
    },
    {
     "data": {
      "text/html": [
       "<div>\n",
       "<style scoped>\n",
       "    .dataframe tbody tr th:only-of-type {\n",
       "        vertical-align: middle;\n",
       "    }\n",
       "\n",
       "    .dataframe tbody tr th {\n",
       "        vertical-align: top;\n",
       "    }\n",
       "\n",
       "    .dataframe thead th {\n",
       "        text-align: right;\n",
       "    }\n",
       "</style>\n",
       "<table border=\"1\" class=\"dataframe\">\n",
       "  <thead>\n",
       "    <tr style=\"text-align: right;\">\n",
       "      <th></th>\n",
       "      <th>0 days 00:00:00</th>\n",
       "      <th>7 days 00:00:00</th>\n",
       "      <th>14 days 00:00:00</th>\n",
       "      <th>21 days 00:00:00</th>\n",
       "      <th>28 days 00:00:00</th>\n",
       "    </tr>\n",
       "    <tr>\n",
       "      <th>first_ts</th>\n",
       "      <th></th>\n",
       "      <th></th>\n",
       "      <th></th>\n",
       "      <th></th>\n",
       "      <th></th>\n",
       "    </tr>\n",
       "  </thead>\n",
       "  <tbody>\n",
       "    <tr>\n",
       "      <th>2019-10-03</th>\n",
       "      <td>1.0</td>\n",
       "      <td>0.278481</td>\n",
       "      <td>0.215190</td>\n",
       "      <td>0.132911</td>\n",
       "      <td>0.082278</td>\n",
       "    </tr>\n",
       "    <tr>\n",
       "      <th>2019-10-10</th>\n",
       "      <td>1.0</td>\n",
       "      <td>0.219745</td>\n",
       "      <td>0.168790</td>\n",
       "      <td>0.076433</td>\n",
       "      <td>NaN</td>\n",
       "    </tr>\n",
       "    <tr>\n",
       "      <th>2019-10-17</th>\n",
       "      <td>1.0</td>\n",
       "      <td>0.261290</td>\n",
       "      <td>0.116129</td>\n",
       "      <td>NaN</td>\n",
       "      <td>NaN</td>\n",
       "    </tr>\n",
       "    <tr>\n",
       "      <th>2019-10-24</th>\n",
       "      <td>1.0</td>\n",
       "      <td>0.196721</td>\n",
       "      <td>NaN</td>\n",
       "      <td>NaN</td>\n",
       "      <td>NaN</td>\n",
       "    </tr>\n",
       "    <tr>\n",
       "      <th>2019-10-31</th>\n",
       "      <td>1.0</td>\n",
       "      <td>NaN</td>\n",
       "      <td>NaN</td>\n",
       "      <td>NaN</td>\n",
       "      <td>NaN</td>\n",
       "    </tr>\n",
       "  </tbody>\n",
       "</table>\n",
       "</div>"
      ],
      "text/plain": [
       "            0 days 00:00:00  7 days 00:00:00  14 days 00:00:00  \\\n",
       "first_ts                                                         \n",
       "2019-10-03              1.0         0.278481          0.215190   \n",
       "2019-10-10              1.0         0.219745          0.168790   \n",
       "2019-10-17              1.0         0.261290          0.116129   \n",
       "2019-10-24              1.0         0.196721               NaN   \n",
       "2019-10-31              1.0              NaN               NaN   \n",
       "\n",
       "            21 days 00:00:00  28 days 00:00:00  \n",
       "first_ts                                        \n",
       "2019-10-03          0.132911          0.082278  \n",
       "2019-10-10          0.076433               NaN  \n",
       "2019-10-17               NaN               NaN  \n",
       "2019-10-24               NaN               NaN  \n",
       "2019-10-31               NaN               NaN  "
      ]
     },
     "execution_count": 67,
     "metadata": {},
     "output_type": "execute_result"
    }
   ],
   "source": [
    "# перевод формат дат\n",
    "dataset_sources_other['active_date'] = dataset_sources_other['event.time'].astype('datetime64[W]')\n",
    "\n",
    "# cгруппируем и найдем первый заход для каждого id\n",
    "first_ts_ot = dataset_sources_other.groupby('user_id').agg({'event.time': 'min'}).reset_index()\n",
    "first_ts_ot = first_ts_ot.rename(columns={'event.time':'first_ts'})\n",
    "first_ts_ot['first_ts'] = first_ts_ot['first_ts'].astype('datetime64[W]')\n",
    "\n",
    "# объеденим датасеты\n",
    "dataset_sources_other = first_ts_ot.merge(dataset_sources_other, on = 'user_id')\n",
    "\n",
    "# выводим результат\n",
    "dataset_sources_other.head()\n",
    "\n",
    "# расчет lifetime\n",
    "dataset_sources_other['lifetime'] = \\\n",
    "dataset_sources_other['active_date'] - dataset_sources_other['first_ts']\n",
    "\n",
    "# выводим результат\n",
    "dataset_sources_other.head()\n",
    "\n",
    "# строим таблицу удержания\n",
    "result_grouped_ot = dataset_sources_other.pivot_table(\n",
    "    index=['first_ts'], columns='lifetime', values='user_id', aggfunc='nunique'\n",
    ")\n",
    "\n",
    "# выводим результат\n",
    "result_grouped_ot\n",
    "\n",
    "# вычисляем размеры когорт\n",
    "cohort_sizes_ot = (\n",
    "    dataset_sources_other.groupby('first_ts')\n",
    "    .agg({'user_id': 'nunique'})\n",
    "    .rename(columns={'user_id': 'cohort_size'})\n",
    ")\n",
    "\n",
    "# объединяем размеры когорт и таблицу удержания\n",
    "result_grouped_ot = cohort_sizes_ot.merge(\n",
    "    result_grouped_ot, on='first_ts', how='left'\n",
    ")\n",
    "\n",
    "# выводим результат (здесь у тебя получится retention по количеству пользователей)\n",
    "result_grouped_ot\n",
    "\n",
    "# делим данные таблицы удержания на размеры когорт (чтобы получить проценты)\n",
    "\n",
    "result_grouped_ot = result_grouped_ot.div(\n",
    "    result_grouped_ot['cohort_size'], axis=0\n",
    ").drop(columns=['cohort_size'])\n",
    "\n",
    "# выводим результат\n",
    "result_grouped_ot\n"
   ]
  },
  {
   "cell_type": "code",
   "execution_count": 68,
   "metadata": {},
   "outputs": [
    {
     "data": {
      "image/png": "[encoded data removed]",
      "text/plain": [
       "<Figure size 1080x432 with 2 Axes>"
      ]
     },
     "metadata": {
      "needs_background": "light"
     },
     "output_type": "display_data"
    }
   ],
   "source": [
    "#строим хитмэп\n",
    "\n",
    "plt.figure(figsize=(15, 6))  # задаём размер графика\n",
    "sns.heatmap(\n",
    "    result_grouped_ot,  # удаляем размеры когорт\n",
    "    annot=True,  # включаем подписи\n",
    "    fmt='.2%',  # переводим значения в проценты\n",
    ")\n",
    "plt.title('Тепловая карта удержания, группы Other')  # название графика\n",
    "plt.show()"
   ]
  },
  {
   "cell_type": "markdown",
   "metadata": {},
   "source": [
    "Для сравнительного анализа показателя Retention rate по группам, найдем их средние значения на 7 и 14 день.\n",
    "Yandex:\n",
    "7 день"
   ]
  },
  {
   "cell_type": "code",
   "execution_count": 69,
   "metadata": {},
   "outputs": [
    {
     "data": {
      "text/plain": [
       "23.91"
      ]
     },
     "metadata": {},
     "output_type": "display_data"
    },
    {
     "data": {
      "text/plain": [
       "12.5"
      ]
     },
     "execution_count": 69,
     "metadata": {},
     "output_type": "execute_result"
    }
   ],
   "source": [
    "#среднее значение на 7 и 14 день\n",
    "\n",
    "rr_ot_7 = round((27.85 + 21.97 + 26.13 + 19.67)/4, 2)\n",
    "display(rr_ot_7)\n",
    "rr_ot_14 = round((21.52 + 16.88 + 11.61)/4, 2)\n",
    "rr_ot_14\n"
   ]
  },
  {
   "cell_type": "code",
   "execution_count": 70,
   "metadata": {},
   "outputs": [
    {
     "data": {
      "text/plain": [
       "22.68"
      ]
     },
     "metadata": {},
     "output_type": "display_data"
    },
    {
     "data": {
      "text/plain": [
       "9.87"
      ]
     },
     "metadata": {},
     "output_type": "display_data"
    },
    {
     "data": {
      "text/plain": [
       "22.42"
      ]
     },
     "metadata": {},
     "output_type": "display_data"
    },
    {
     "data": {
      "text/plain": [
       "8.61"
      ]
     },
     "metadata": {},
     "output_type": "display_data"
    },
    {
     "data": {
      "text/plain": [
       "23.91"
      ]
     },
     "metadata": {},
     "output_type": "display_data"
    },
    {
     "data": {
      "text/plain": [
       "12.5"
      ]
     },
     "metadata": {},
     "output_type": "display_data"
    }
   ],
   "source": [
    "display(rr_y_7) \n",
    "display(rr_y_14) \n",
    "display(rr_g_7) \n",
    "display(rr_g_14) \n",
    "display(rr_ot_7) \n",
    "display(rr_ot_14) "
   ]
  },
  {
   "cell_type": "markdown",
   "metadata": {},
   "source": [
    "Итак, сравнивая среднее значение retention rate на 7 или 14 день в группах, приходим к выводу, что\n",
    "самый высокий коэффициент удержания имеют пользователи группы 'Other', на втором месте - пользователи Yandex и третье - пользователи Google."
   ]
  },
  {
   "cell_type": "markdown",
   "metadata": {},
   "source": [
    "### Время, проведённое в приложении"
   ]
  },
  {
   "cell_type": "markdown",
   "metadata": {},
   "source": [
    "Посчитать среднее время в часах, проведенное в приложении, в разбивке по группам. Сравнить и сделать вывод,"
   ]
  },
  {
   "cell_type": "markdown",
   "metadata": {},
   "source": [
    "Выше в п.2 мы уже анализировали показатель продолжительности пользовательской сессии в общем по всем данным, сейчас рассмотрим в разбивке по группам."
   ]
  },
  {
   "cell_type": "markdown",
   "metadata": {},
   "source": [
    "#### Yandex - как источник привлечения пользователей."
   ]
  },
  {
   "cell_type": "code",
   "execution_count": 71,
   "metadata": {},
   "outputs": [
    {
     "data": {
      "text/html": [
       "<div>\n",
       "<style scoped>\n",
       "    .dataframe tbody tr th:only-of-type {\n",
       "        vertical-align: middle;\n",
       "    }\n",
       "\n",
       "    .dataframe tbody tr th {\n",
       "        vertical-align: top;\n",
       "    }\n",
       "\n",
       "    .dataframe thead th {\n",
       "        text-align: right;\n",
       "    }\n",
       "</style>\n",
       "<table border=\"1\" class=\"dataframe\">\n",
       "  <thead>\n",
       "    <tr style=\"text-align: right;\">\n",
       "      <th></th>\n",
       "      <th>user_id</th>\n",
       "      <th>event_day</th>\n",
       "      <th>ses_time_min</th>\n",
       "      <th>ses_time_max</th>\n",
       "      <th>Session_Start_year</th>\n",
       "      <th>Session_Start_month</th>\n",
       "      <th>Session_Start_week</th>\n",
       "      <th>Session_Start_date</th>\n",
       "      <th>session_duration_sec</th>\n",
       "      <th>source</th>\n",
       "    </tr>\n",
       "  </thead>\n",
       "  <tbody>\n",
       "    <tr>\n",
       "      <th>4</th>\n",
       "      <td>00157779-810c-4498-9e05-a1e9e3cedf93</td>\n",
       "      <td>2019-10-19</td>\n",
       "      <td>2019-10-19 21:34:33.849769</td>\n",
       "      <td>2019-10-19 21:59:54.637098</td>\n",
       "      <td>2019</td>\n",
       "      <td>2019-10-01</td>\n",
       "      <td>2019-10-17</td>\n",
       "      <td>2019-10-19</td>\n",
       "      <td>1520.787329</td>\n",
       "      <td>yandex</td>\n",
       "    </tr>\n",
       "    <tr>\n",
       "      <th>5</th>\n",
       "      <td>00157779-810c-4498-9e05-a1e9e3cedf93</td>\n",
       "      <td>2019-10-20</td>\n",
       "      <td>2019-10-20 18:49:24.115634</td>\n",
       "      <td>2019-10-20 20:05:36.234073</td>\n",
       "      <td>2019</td>\n",
       "      <td>2019-10-01</td>\n",
       "      <td>2019-10-17</td>\n",
       "      <td>2019-10-20</td>\n",
       "      <td>4572.118439</td>\n",
       "      <td>yandex</td>\n",
       "    </tr>\n",
       "    <tr>\n",
       "      <th>6</th>\n",
       "      <td>00157779-810c-4498-9e05-a1e9e3cedf93</td>\n",
       "      <td>2019-10-24</td>\n",
       "      <td>2019-10-24 10:50:40.219833</td>\n",
       "      <td>2019-10-24 10:57:12.675110</td>\n",
       "      <td>2019</td>\n",
       "      <td>2019-10-01</td>\n",
       "      <td>2019-10-24</td>\n",
       "      <td>2019-10-24</td>\n",
       "      <td>392.455277</td>\n",
       "      <td>yandex</td>\n",
       "    </tr>\n",
       "    <tr>\n",
       "      <th>7</th>\n",
       "      <td>00157779-810c-4498-9e05-a1e9e3cedf93</td>\n",
       "      <td>2019-10-29</td>\n",
       "      <td>2019-10-29 21:18:24.850073</td>\n",
       "      <td>2019-10-29 22:10:25.712840</td>\n",
       "      <td>2019</td>\n",
       "      <td>2019-10-01</td>\n",
       "      <td>2019-10-24</td>\n",
       "      <td>2019-10-29</td>\n",
       "      <td>3120.862767</td>\n",
       "      <td>yandex</td>\n",
       "    </tr>\n",
       "    <tr>\n",
       "      <th>8</th>\n",
       "      <td>00157779-810c-4498-9e05-a1e9e3cedf93</td>\n",
       "      <td>2019-10-30</td>\n",
       "      <td>2019-10-30 07:50:45.948358</td>\n",
       "      <td>2019-10-30 08:26:53.933176</td>\n",
       "      <td>2019</td>\n",
       "      <td>2019-10-01</td>\n",
       "      <td>2019-10-24</td>\n",
       "      <td>2019-10-30</td>\n",
       "      <td>2167.984818</td>\n",
       "      <td>yandex</td>\n",
       "    </tr>\n",
       "  </tbody>\n",
       "</table>\n",
       "</div>"
      ],
      "text/plain": [
       "                                user_id   event_day  \\\n",
       "4  00157779-810c-4498-9e05-a1e9e3cedf93  2019-10-19   \n",
       "5  00157779-810c-4498-9e05-a1e9e3cedf93  2019-10-20   \n",
       "6  00157779-810c-4498-9e05-a1e9e3cedf93  2019-10-24   \n",
       "7  00157779-810c-4498-9e05-a1e9e3cedf93  2019-10-29   \n",
       "8  00157779-810c-4498-9e05-a1e9e3cedf93  2019-10-30   \n",
       "\n",
       "                ses_time_min               ses_time_max  Session_Start_year  \\\n",
       "4 2019-10-19 21:34:33.849769 2019-10-19 21:59:54.637098                2019   \n",
       "5 2019-10-20 18:49:24.115634 2019-10-20 20:05:36.234073                2019   \n",
       "6 2019-10-24 10:50:40.219833 2019-10-24 10:57:12.675110                2019   \n",
       "7 2019-10-29 21:18:24.850073 2019-10-29 22:10:25.712840                2019   \n",
       "8 2019-10-30 07:50:45.948358 2019-10-30 08:26:53.933176                2019   \n",
       "\n",
       "  Session_Start_month Session_Start_week Session_Start_date  \\\n",
       "4          2019-10-01         2019-10-17         2019-10-19   \n",
       "5          2019-10-01         2019-10-17         2019-10-20   \n",
       "6          2019-10-01         2019-10-24         2019-10-24   \n",
       "7          2019-10-01         2019-10-24         2019-10-29   \n",
       "8          2019-10-01         2019-10-24         2019-10-30   \n",
       "\n",
       "   session_duration_sec  source  \n",
       "4           1520.787329  yandex  \n",
       "5           4572.118439  yandex  \n",
       "6            392.455277  yandex  \n",
       "7           3120.862767  yandex  \n",
       "8           2167.984818  yandex  "
      ]
     },
     "execution_count": 71,
     "metadata": {},
     "output_type": "execute_result"
    }
   ],
   "source": [
    "profiles_sources_yandex.head()"
   ]
  },
  {
   "cell_type": "code",
   "execution_count": 72,
   "metadata": {},
   "outputs": [
    {
     "name": "stderr",
     "output_type": "stream",
     "text": [
      "/tmp/ipykernel_363/2237426479.py:3: SettingWithCopyWarning: \n",
      "A value is trying to be set on a copy of a slice from a DataFrame.\n",
      "Try using .loc[row_indexer,col_indexer] = value instead\n",
      "\n",
      "See the caveats in the documentation: https://pandas.pydata.org/pandas-docs/stable/user_guide/indexing.html#returning-a-view-versus-a-copy\n",
      "  profiles_sources_yandex['session_duration_sec'] = (\n"
     ]
    },
    {
     "data": {
      "text/plain": [
       "4850"
      ]
     },
     "metadata": {},
     "output_type": "display_data"
    }
   ],
   "source": [
    "# считаем ASL в секундах\n",
    "\n",
    "profiles_sources_yandex['session_duration_sec'] = (\n",
    "    profiles_sources_yandex['ses_time_max'] - profiles_sources_yandex['ses_time_min']\n",
    ").dt.total_seconds()\n",
    "\n",
    "display(int((profiles_sources_yandex['session_duration_sec'].mean()))) "
   ]
  },
  {
   "cell_type": "code",
   "execution_count": 73,
   "metadata": {},
   "outputs": [
    {
     "data": {
      "text/plain": [
       "81.0"
      ]
     },
     "execution_count": 73,
     "metadata": {},
     "output_type": "execute_result"
    }
   ],
   "source": [
    "#переведем секунды в минуты и округлим до целого\n",
    "round((int((profiles_sources_yandex['session_duration_sec'].mean()))/60),0)"
   ]
  },
  {
   "cell_type": "code",
   "execution_count": 74,
   "metadata": {},
   "outputs": [
    {
     "data": {
      "image/png": "[encoded data removed]",
      "text/plain": [
       "<Figure size 432x288 with 1 Axes>"
      ]
     },
     "metadata": {
      "needs_background": "light"
     },
     "output_type": "display_data"
    }
   ],
   "source": [
    "# строим гистограмму\n",
    "\n",
    "profiles_sources_yandex['session_duration_sec'].hist(bins=30)\n",
    "plt.title('Продолжительность сессий (Yandex)')\n",
    "plt.show()"
   ]
  },
  {
   "cell_type": "code",
   "execution_count": 75,
   "metadata": {},
   "outputs": [
    {
     "data": {
      "text/plain": [
       "12.0"
      ]
     },
     "metadata": {},
     "output_type": "display_data"
    }
   ],
   "source": [
    "ses_yandex = display(profiles_sources_yandex['session_duration_sec'].median()//60)\n",
    "ses_yandex"
   ]
  },
  {
   "cell_type": "markdown",
   "metadata": {},
   "source": [
    "Результаты по показателю средней продолжительности пользовательских сессий группы Yandex - 81 минута (примерно 1,5 часа), но медианное (более реальное, учитывая наличие выбросов (см. на графике)) - 12 мин."
   ]
  },
  {
   "cell_type": "markdown",
   "metadata": {},
   "source": [
    "#### Google - как источник привлечения пользователей."
   ]
  },
  {
   "cell_type": "code",
   "execution_count": 76,
   "metadata": {},
   "outputs": [
    {
     "name": "stderr",
     "output_type": "stream",
     "text": [
      "/tmp/ipykernel_363/1070706354.py:3: SettingWithCopyWarning: \n",
      "A value is trying to be set on a copy of a slice from a DataFrame.\n",
      "Try using .loc[row_indexer,col_indexer] = value instead\n",
      "\n",
      "See the caveats in the documentation: https://pandas.pydata.org/pandas-docs/stable/user_guide/indexing.html#returning-a-view-versus-a-copy\n",
      "  profiles_sources_google['session_duration_sec'] = (\n"
     ]
    },
    {
     "data": {
      "text/plain": [
       "5587"
      ]
     },
     "metadata": {},
     "output_type": "display_data"
    }
   ],
   "source": [
    "# считаем ASL в секундах\n",
    "\n",
    "profiles_sources_google['session_duration_sec'] = (\n",
    "    profiles_sources_google['ses_time_max'] - profiles_sources_google['ses_time_min']\n",
    ").dt.total_seconds()\n",
    "\n",
    "display(int((profiles_sources_google['session_duration_sec'].mean()))) "
   ]
  },
  {
   "cell_type": "code",
   "execution_count": 77,
   "metadata": {},
   "outputs": [
    {
     "data": {
      "text/plain": [
       "93.0"
      ]
     },
     "execution_count": 77,
     "metadata": {},
     "output_type": "execute_result"
    }
   ],
   "source": [
    "#переведем секунды в минуты и округлим до целого\n",
    "round((int((profiles_sources_google['session_duration_sec'].mean()))/60),0)"
   ]
  },
  {
   "cell_type": "code",
   "execution_count": 78,
   "metadata": {},
   "outputs": [
    {
     "data": {
      "image/png": "[encoded data removed]",
      "text/plain": [
       "<Figure size 432x288 with 1 Axes>"
      ]
     },
     "metadata": {
      "needs_background": "light"
     },
     "output_type": "display_data"
    }
   ],
   "source": [
    "# строим гистограмму\n",
    "\n",
    "profiles_sources_google['session_duration_sec'].hist(bins=30)\n",
    "plt.title('Продолжительность сессий (Google)')\n",
    "plt.show()"
   ]
  },
  {
   "cell_type": "code",
   "execution_count": 79,
   "metadata": {},
   "outputs": [
    {
     "data": {
      "text/plain": [
       "13.0"
      ]
     },
     "metadata": {},
     "output_type": "display_data"
    }
   ],
   "source": [
    "ses_google = display(profiles_sources_google['session_duration_sec'].median()//60) \n",
    "ses_google "
   ]
  },
  {
   "cell_type": "markdown",
   "metadata": {},
   "source": [
    "Результат группы пользователей Google: средняя продолжительность сессии - 93 минуты (1,5 часа), медианное - 13 минут. "
   ]
  },
  {
   "cell_type": "markdown",
   "metadata": {},
   "source": [
    "#### 'Other' источники привлечения пользователей."
   ]
  },
  {
   "cell_type": "code",
   "execution_count": 80,
   "metadata": {},
   "outputs": [
    {
     "name": "stderr",
     "output_type": "stream",
     "text": [
      "/tmp/ipykernel_363/1288489187.py:3: SettingWithCopyWarning: \n",
      "A value is trying to be set on a copy of a slice from a DataFrame.\n",
      "Try using .loc[row_indexer,col_indexer] = value instead\n",
      "\n",
      "See the caveats in the documentation: https://pandas.pydata.org/pandas-docs/stable/user_guide/indexing.html#returning-a-view-versus-a-copy\n",
      "  profiles_sources_other['session_duration_sec'] = (\n"
     ]
    },
    {
     "data": {
      "text/plain": [
       "4619"
      ]
     },
     "metadata": {},
     "output_type": "display_data"
    }
   ],
   "source": [
    "# считаем ASL в секундах\n",
    "\n",
    "profiles_sources_other['session_duration_sec'] = (\n",
    "    profiles_sources_other['ses_time_max'] - profiles_sources_other['ses_time_min']\n",
    ").dt.total_seconds()\n",
    "\n",
    "display(int((profiles_sources_other['session_duration_sec'].mean()))) "
   ]
  },
  {
   "cell_type": "code",
   "execution_count": 81,
   "metadata": {},
   "outputs": [
    {
     "data": {
      "text/plain": [
       "77.0"
      ]
     },
     "execution_count": 81,
     "metadata": {},
     "output_type": "execute_result"
    }
   ],
   "source": [
    "#переведем секунды в минуты и округлим до целого\n",
    "round((int((profiles_sources_other['session_duration_sec'].mean()))/60),0)"
   ]
  },
  {
   "cell_type": "code",
   "execution_count": 82,
   "metadata": {},
   "outputs": [
    {
     "data": {
      "image/png": "[encoded data removed]",
      "text/plain": [
       "<Figure size 432x288 with 1 Axes>"
      ]
     },
     "metadata": {
      "needs_background": "light"
     },
     "output_type": "display_data"
    }
   ],
   "source": [
    "# строим гистограмму\n",
    "\n",
    "profiles_sources_other['session_duration_sec'].hist(bins=30)\n",
    "plt.title('Продолжительность сессий (other)')\n",
    "plt.show()"
   ]
  },
  {
   "cell_type": "code",
   "execution_count": 83,
   "metadata": {},
   "outputs": [
    {
     "data": {
      "text/plain": [
       "9.0"
      ]
     },
     "metadata": {},
     "output_type": "display_data"
    }
   ],
   "source": [
    "ses_other = display(profiles_sources_other['session_duration_sec'].median()//60) \n",
    "ses_other"
   ]
  },
  {
   "cell_type": "markdown",
   "metadata": {},
   "source": [
    "Расчет средней продолжительности пользовательских сессий группы 'Other' показал - 77 минут. Но медианное время одной сесси в этой группе  - 9 минут. Это самые низкие показатели по сравнению с другими группами."
   ]
  },
  {
   "cell_type": "markdown",
   "metadata": {},
   "source": [
    "Для наглядности покажем продолжительность сессий разных групп на одной диаграмме."
   ]
  },
  {
   "cell_type": "code",
   "execution_count": 84,
   "metadata": {},
   "outputs": [
    {
     "data": {
      "image/png": "[encoded data removed]",
      "text/plain": [
       "<Figure size 360x360 with 1 Axes>"
      ]
     },
     "metadata": {
      "needs_background": "light"
     },
     "output_type": "display_data"
    }
   ],
   "source": [
    "index = np.arange(5)\n",
    "\n",
    "data = {'Yandex': [12],\n",
    "        'Google': [13],\n",
    "        'Other': [9]}\n",
    "df = pd.DataFrame(data)\n",
    "df.plot(kind='bar', grid=True, figsize=(5, 5))\n",
    "\n",
    "plt.title('Продолжительность сессий, мин.', fontsize = 10, color = 'blue')\n",
    "\n",
    "\n",
    "plt.show()"
   ]
  },
  {
   "cell_type": "markdown",
   "metadata": {},
   "source": [
    "Итак, \n",
    "- почти одинаковые показатели по временному интервалу выдали группы Yandex (12 мин.) и Google (13 мин.)\n",
    "- самую короткую продолжительность сессий показала группа Other (9 мин.)."
   ]
  },
  {
   "cell_type": "markdown",
   "metadata": {},
   "source": [
    "### Частота действий."
   ]
  },
  {
   "cell_type": "markdown",
   "metadata": {},
   "source": [
    "Рассчитать среднее количество действий, совершенных в приложении, в разбивке по группам. Сравнить и сделать вывод."
   ]
  },
  {
   "cell_type": "markdown",
   "metadata": {},
   "source": [
    "#### Yandex - как источник привлечения пользователей."
   ]
  },
  {
   "cell_type": "code",
   "execution_count": 85,
   "metadata": {},
   "outputs": [
    {
     "data": {
      "text/html": [
       "<div>\n",
       "<style scoped>\n",
       "    .dataframe tbody tr th:only-of-type {\n",
       "        vertical-align: middle;\n",
       "    }\n",
       "\n",
       "    .dataframe tbody tr th {\n",
       "        vertical-align: top;\n",
       "    }\n",
       "\n",
       "    .dataframe thead th {\n",
       "        text-align: right;\n",
       "    }\n",
       "</style>\n",
       "<table border=\"1\" class=\"dataframe\">\n",
       "  <thead>\n",
       "    <tr style=\"text-align: right;\">\n",
       "      <th></th>\n",
       "      <th>user_id</th>\n",
       "      <th>first_ts</th>\n",
       "      <th>event.time</th>\n",
       "      <th>event.name</th>\n",
       "      <th>source</th>\n",
       "      <th>event_day</th>\n",
       "      <th>active_date</th>\n",
       "      <th>lifetime</th>\n",
       "    </tr>\n",
       "  </thead>\n",
       "  <tbody>\n",
       "    <tr>\n",
       "      <th>0</th>\n",
       "      <td>00157779-810c-4498-9e05-a1e9e3cedf93</td>\n",
       "      <td>2019-10-17</td>\n",
       "      <td>2019-10-19 21:34:33.849769</td>\n",
       "      <td>search_1</td>\n",
       "      <td>yandex</td>\n",
       "      <td>2019-10-19</td>\n",
       "      <td>2019-10-17</td>\n",
       "      <td>0 days</td>\n",
       "    </tr>\n",
       "    <tr>\n",
       "      <th>1</th>\n",
       "      <td>00157779-810c-4498-9e05-a1e9e3cedf93</td>\n",
       "      <td>2019-10-17</td>\n",
       "      <td>2019-10-19 21:35:19.296599</td>\n",
       "      <td>search_1</td>\n",
       "      <td>yandex</td>\n",
       "      <td>2019-10-19</td>\n",
       "      <td>2019-10-17</td>\n",
       "      <td>0 days</td>\n",
       "    </tr>\n",
       "    <tr>\n",
       "      <th>2</th>\n",
       "      <td>00157779-810c-4498-9e05-a1e9e3cedf93</td>\n",
       "      <td>2019-10-17</td>\n",
       "      <td>2019-10-19 21:36:44.344691</td>\n",
       "      <td>search_1</td>\n",
       "      <td>yandex</td>\n",
       "      <td>2019-10-19</td>\n",
       "      <td>2019-10-17</td>\n",
       "      <td>0 days</td>\n",
       "    </tr>\n",
       "    <tr>\n",
       "      <th>3</th>\n",
       "      <td>00157779-810c-4498-9e05-a1e9e3cedf93</td>\n",
       "      <td>2019-10-17</td>\n",
       "      <td>2019-10-19 21:40:38.990477</td>\n",
       "      <td>photos_show</td>\n",
       "      <td>yandex</td>\n",
       "      <td>2019-10-19</td>\n",
       "      <td>2019-10-17</td>\n",
       "      <td>0 days</td>\n",
       "    </tr>\n",
       "    <tr>\n",
       "      <th>4</th>\n",
       "      <td>00157779-810c-4498-9e05-a1e9e3cedf93</td>\n",
       "      <td>2019-10-17</td>\n",
       "      <td>2019-10-19 21:42:13.837523</td>\n",
       "      <td>photos_show</td>\n",
       "      <td>yandex</td>\n",
       "      <td>2019-10-19</td>\n",
       "      <td>2019-10-17</td>\n",
       "      <td>0 days</td>\n",
       "    </tr>\n",
       "  </tbody>\n",
       "</table>\n",
       "</div>"
      ],
      "text/plain": [
       "                                user_id   first_ts                 event.time  \\\n",
       "0  00157779-810c-4498-9e05-a1e9e3cedf93 2019-10-17 2019-10-19 21:34:33.849769   \n",
       "1  00157779-810c-4498-9e05-a1e9e3cedf93 2019-10-17 2019-10-19 21:35:19.296599   \n",
       "2  00157779-810c-4498-9e05-a1e9e3cedf93 2019-10-17 2019-10-19 21:36:44.344691   \n",
       "3  00157779-810c-4498-9e05-a1e9e3cedf93 2019-10-17 2019-10-19 21:40:38.990477   \n",
       "4  00157779-810c-4498-9e05-a1e9e3cedf93 2019-10-17 2019-10-19 21:42:13.837523   \n",
       "\n",
       "    event.name  source   event_day active_date lifetime  \n",
       "0     search_1  yandex  2019-10-19  2019-10-17   0 days  \n",
       "1     search_1  yandex  2019-10-19  2019-10-17   0 days  \n",
       "2     search_1  yandex  2019-10-19  2019-10-17   0 days  \n",
       "3  photos_show  yandex  2019-10-19  2019-10-17   0 days  \n",
       "4  photos_show  yandex  2019-10-19  2019-10-17   0 days  "
      ]
     },
     "execution_count": 85,
     "metadata": {},
     "output_type": "execute_result"
    }
   ],
   "source": [
    "dataset_sources_yandex.head()"
   ]
  },
  {
   "cell_type": "markdown",
   "metadata": {},
   "source": [
    "Найдем среднее количество событий в группе пользователей Yandex."
   ]
  },
  {
   "cell_type": "code",
   "execution_count": 86,
   "metadata": {},
   "outputs": [
    {
     "data": {
      "text/plain": [
       "34266.0"
      ]
     },
     "execution_count": 86,
     "metadata": {},
     "output_type": "execute_result"
    }
   ],
   "source": [
    "dataset_sources_yandex['event.name'].count().mean()"
   ]
  },
  {
   "cell_type": "markdown",
   "metadata": {},
   "source": [
    "Теперь посмотрим какие действия в большем или меньшем приоритете в данной группе пользователей:"
   ]
  },
  {
   "cell_type": "code",
   "execution_count": 87,
   "metadata": {},
   "outputs": [
    {
     "data": {
      "text/html": [
       "<div>\n",
       "<style scoped>\n",
       "    .dataframe tbody tr th:only-of-type {\n",
       "        vertical-align: middle;\n",
       "    }\n",
       "\n",
       "    .dataframe tbody tr th {\n",
       "        vertical-align: top;\n",
       "    }\n",
       "\n",
       "    .dataframe thead th {\n",
       "        text-align: right;\n",
       "    }\n",
       "</style>\n",
       "<table border=\"1\" class=\"dataframe\">\n",
       "  <thead>\n",
       "    <tr style=\"text-align: right;\">\n",
       "      <th></th>\n",
       "      <th>user_id</th>\n",
       "    </tr>\n",
       "    <tr>\n",
       "      <th>event.name</th>\n",
       "      <th></th>\n",
       "    </tr>\n",
       "  </thead>\n",
       "  <tbody>\n",
       "    <tr>\n",
       "      <th>tips_show</th>\n",
       "      <td>1310</td>\n",
       "    </tr>\n",
       "    <tr>\n",
       "      <th>map</th>\n",
       "      <td>687</td>\n",
       "    </tr>\n",
       "    <tr>\n",
       "      <th>contacts_show</th>\n",
       "      <td>478</td>\n",
       "    </tr>\n",
       "    <tr>\n",
       "      <th>photos_show</th>\n",
       "      <td>443</td>\n",
       "    </tr>\n",
       "    <tr>\n",
       "      <th>search_1</th>\n",
       "      <td>345</td>\n",
       "    </tr>\n",
       "    <tr>\n",
       "      <th>advert_open</th>\n",
       "      <td>297</td>\n",
       "    </tr>\n",
       "    <tr>\n",
       "      <th>search_5</th>\n",
       "      <td>210</td>\n",
       "    </tr>\n",
       "    <tr>\n",
       "      <th>search_4</th>\n",
       "      <td>163</td>\n",
       "    </tr>\n",
       "    <tr>\n",
       "      <th>favorites_add</th>\n",
       "      <td>160</td>\n",
       "    </tr>\n",
       "    <tr>\n",
       "      <th>tips_click</th>\n",
       "      <td>150</td>\n",
       "    </tr>\n",
       "    <tr>\n",
       "      <th>search_6</th>\n",
       "      <td>105</td>\n",
       "    </tr>\n",
       "    <tr>\n",
       "      <th>contacts_call</th>\n",
       "      <td>92</td>\n",
       "    </tr>\n",
       "    <tr>\n",
       "      <th>search_2</th>\n",
       "      <td>77</td>\n",
       "    </tr>\n",
       "    <tr>\n",
       "      <th>search_3</th>\n",
       "      <td>61</td>\n",
       "    </tr>\n",
       "    <tr>\n",
       "      <th>search_7</th>\n",
       "      <td>56</td>\n",
       "    </tr>\n",
       "  </tbody>\n",
       "</table>\n",
       "</div>"
      ],
      "text/plain": [
       "               user_id\n",
       "event.name            \n",
       "tips_show         1310\n",
       "map                687\n",
       "contacts_show      478\n",
       "photos_show        443\n",
       "search_1           345\n",
       "advert_open        297\n",
       "search_5           210\n",
       "search_4           163\n",
       "favorites_add      160\n",
       "tips_click         150\n",
       "search_6           105\n",
       "contacts_call       92\n",
       "search_2            77\n",
       "search_3            61\n",
       "search_7            56"
      ]
     },
     "execution_count": 87,
     "metadata": {},
     "output_type": "execute_result"
    }
   ],
   "source": [
    "event_yandex = dataset_sources_yandex.groupby('event.name')\\\n",
    ".agg({'user_id':'nunique'}).sort_values(by = 'user_id',ascending = False)\n",
    "event_yandex"
   ]
  },
  {
   "cell_type": "code",
   "execution_count": 88,
   "metadata": {},
   "outputs": [
    {
     "data": {
      "image/png": "[encoded data removed]",
      "text/plain": [
       "<Figure size 720x720 with 1 Axes>"
      ]
     },
     "metadata": {
      "needs_background": "light"
     },
     "output_type": "display_data"
    }
   ],
   "source": [
    "dataset_sources_yandex.groupby('event.name')\\\n",
    ".agg({'user_id':'nunique'}).sort_values(by = 'user_id',ascending = False)\\\n",
    ".plot(y='user_id', kind='bar', grid=True, figsize=(10, 10))\n",
    "plt.title('Кол-во событий')\n",
    "plt.show()\n",
    "\n"
   ]
  },
  {
   "cell_type": "markdown",
   "metadata": {},
   "source": [
    "По диаграмме видно, что пользователи группы Yandex чаще совершают целевое события - просмотр контактов. Это третье событие после 'пользователь увидел рекомендованные объявления' и 'открыл карту размещенных объявлений'."
   ]
  },
  {
   "cell_type": "markdown",
   "metadata": {},
   "source": [
    "#### Google - как источник привлечения пользователей."
   ]
  },
  {
   "cell_type": "code",
   "execution_count": 89,
   "metadata": {},
   "outputs": [
    {
     "data": {
      "text/plain": [
       "20392.0"
      ]
     },
     "execution_count": 89,
     "metadata": {},
     "output_type": "execute_result"
    }
   ],
   "source": [
    "dataset_sources_google['event.name'].count().mean()"
   ]
  },
  {
   "cell_type": "code",
   "execution_count": 90,
   "metadata": {},
   "outputs": [
    {
     "data": {
      "text/html": [
       "<div>\n",
       "<style scoped>\n",
       "    .dataframe tbody tr th:only-of-type {\n",
       "        vertical-align: middle;\n",
       "    }\n",
       "\n",
       "    .dataframe tbody tr th {\n",
       "        vertical-align: top;\n",
       "    }\n",
       "\n",
       "    .dataframe thead th {\n",
       "        text-align: right;\n",
       "    }\n",
       "</style>\n",
       "<table border=\"1\" class=\"dataframe\">\n",
       "  <thead>\n",
       "    <tr style=\"text-align: right;\">\n",
       "      <th></th>\n",
       "      <th>user_id</th>\n",
       "    </tr>\n",
       "    <tr>\n",
       "      <th>event.name</th>\n",
       "      <th></th>\n",
       "    </tr>\n",
       "  </thead>\n",
       "  <tbody>\n",
       "    <tr>\n",
       "      <th>tips_show</th>\n",
       "      <td>651</td>\n",
       "    </tr>\n",
       "    <tr>\n",
       "      <th>photos_show</th>\n",
       "      <td>363</td>\n",
       "    </tr>\n",
       "    <tr>\n",
       "      <th>map</th>\n",
       "      <td>354</td>\n",
       "    </tr>\n",
       "    <tr>\n",
       "      <th>search_1</th>\n",
       "      <td>305</td>\n",
       "    </tr>\n",
       "    <tr>\n",
       "      <th>contacts_show</th>\n",
       "      <td>275</td>\n",
       "    </tr>\n",
       "    <tr>\n",
       "      <th>advert_open</th>\n",
       "      <td>195</td>\n",
       "    </tr>\n",
       "    <tr>\n",
       "      <th>search_5</th>\n",
       "      <td>137</td>\n",
       "    </tr>\n",
       "    <tr>\n",
       "      <th>favorites_add</th>\n",
       "      <td>114</td>\n",
       "    </tr>\n",
       "    <tr>\n",
       "      <th>search_4</th>\n",
       "      <td>108</td>\n",
       "    </tr>\n",
       "    <tr>\n",
       "      <th>tips_click</th>\n",
       "      <td>71</td>\n",
       "    </tr>\n",
       "    <tr>\n",
       "      <th>search_6</th>\n",
       "      <td>68</td>\n",
       "    </tr>\n",
       "    <tr>\n",
       "      <th>contacts_call</th>\n",
       "      <td>67</td>\n",
       "    </tr>\n",
       "    <tr>\n",
       "      <th>search_2</th>\n",
       "      <td>67</td>\n",
       "    </tr>\n",
       "    <tr>\n",
       "      <th>search_3</th>\n",
       "      <td>55</td>\n",
       "    </tr>\n",
       "    <tr>\n",
       "      <th>search_7</th>\n",
       "      <td>18</td>\n",
       "    </tr>\n",
       "  </tbody>\n",
       "</table>\n",
       "</div>"
      ],
      "text/plain": [
       "               user_id\n",
       "event.name            \n",
       "tips_show          651\n",
       "photos_show        363\n",
       "map                354\n",
       "search_1           305\n",
       "contacts_show      275\n",
       "advert_open        195\n",
       "search_5           137\n",
       "favorites_add      114\n",
       "search_4           108\n",
       "tips_click          71\n",
       "search_6            68\n",
       "contacts_call       67\n",
       "search_2            67\n",
       "search_3            55\n",
       "search_7            18"
      ]
     },
     "execution_count": 90,
     "metadata": {},
     "output_type": "execute_result"
    }
   ],
   "source": [
    "event_google = dataset_sources_google.groupby('event.name')\\\n",
    ".agg({'user_id':'nunique'}).sort_values(by = 'user_id',ascending = False)\n",
    "event_google"
   ]
  },
  {
   "cell_type": "code",
   "execution_count": 91,
   "metadata": {},
   "outputs": [
    {
     "data": {
      "image/png": "[encoded data removed]",
      "text/plain": [
       "<Figure size 720x720 with 1 Axes>"
      ]
     },
     "metadata": {
      "needs_background": "light"
     },
     "output_type": "display_data"
    }
   ],
   "source": [
    "dataset_sources_google.groupby('event.name')\\\n",
    ".agg({'user_id':'nunique'}).sort_values(by = 'user_id',ascending = False)\\\n",
    ".plot(y='user_id', kind='bar', grid=True, figsize=(10, 10))\n",
    "plt.title('Кол-во событий')\n",
    "plt.show()\n",
    "\n"
   ]
  },
  {
   "cell_type": "markdown",
   "metadata": {},
   "source": [
    "Пользователи группы Google \"доходят\" совершают целевое событие реже предыдущей группы. Событие 'просмотр контактов' стоит тут на 5 месте, после: 'пользователь увидел рекомендованные объявления', 'photos_show', 'пользователь открыл карту размещенных объявлений', 'какое-то событие, связанное с поиском по сайту'."
   ]
  },
  {
   "cell_type": "markdown",
   "metadata": {},
   "source": [
    "#### 'Other' - как источник привлечения пользователей."
   ]
  },
  {
   "cell_type": "code",
   "execution_count": 92,
   "metadata": {},
   "outputs": [
    {
     "data": {
      "text/plain": [
       "19460.0"
      ]
     },
     "execution_count": 92,
     "metadata": {},
     "output_type": "execute_result"
    }
   ],
   "source": [
    "dataset_sources_other['event.name'].count().mean()"
   ]
  },
  {
   "cell_type": "code",
   "execution_count": 93,
   "metadata": {},
   "outputs": [
    {
     "data": {
      "text/html": [
       "<div>\n",
       "<style scoped>\n",
       "    .dataframe tbody tr th:only-of-type {\n",
       "        vertical-align: middle;\n",
       "    }\n",
       "\n",
       "    .dataframe tbody tr th {\n",
       "        vertical-align: top;\n",
       "    }\n",
       "\n",
       "    .dataframe thead th {\n",
       "        text-align: right;\n",
       "    }\n",
       "</style>\n",
       "<table border=\"1\" class=\"dataframe\">\n",
       "  <thead>\n",
       "    <tr style=\"text-align: right;\">\n",
       "      <th></th>\n",
       "      <th>user_id</th>\n",
       "    </tr>\n",
       "    <tr>\n",
       "      <th>event.name</th>\n",
       "      <th></th>\n",
       "    </tr>\n",
       "  </thead>\n",
       "  <tbody>\n",
       "    <tr>\n",
       "      <th>tips_show</th>\n",
       "      <td>840</td>\n",
       "    </tr>\n",
       "    <tr>\n",
       "      <th>map</th>\n",
       "      <td>415</td>\n",
       "    </tr>\n",
       "    <tr>\n",
       "      <th>search_5</th>\n",
       "      <td>316</td>\n",
       "    </tr>\n",
       "    <tr>\n",
       "      <th>photos_show</th>\n",
       "      <td>289</td>\n",
       "    </tr>\n",
       "    <tr>\n",
       "      <th>advert_open</th>\n",
       "      <td>259</td>\n",
       "    </tr>\n",
       "    <tr>\n",
       "      <th>contacts_show</th>\n",
       "      <td>226</td>\n",
       "    </tr>\n",
       "    <tr>\n",
       "      <th>search_4</th>\n",
       "      <td>203</td>\n",
       "    </tr>\n",
       "    <tr>\n",
       "      <th>search_6</th>\n",
       "      <td>157</td>\n",
       "    </tr>\n",
       "    <tr>\n",
       "      <th>search_1</th>\n",
       "      <td>137</td>\n",
       "    </tr>\n",
       "    <tr>\n",
       "      <th>tips_click</th>\n",
       "      <td>101</td>\n",
       "    </tr>\n",
       "    <tr>\n",
       "      <th>search_2</th>\n",
       "      <td>98</td>\n",
       "    </tr>\n",
       "    <tr>\n",
       "      <th>search_3</th>\n",
       "      <td>92</td>\n",
       "    </tr>\n",
       "    <tr>\n",
       "      <th>search_7</th>\n",
       "      <td>83</td>\n",
       "    </tr>\n",
       "    <tr>\n",
       "      <th>favorites_add</th>\n",
       "      <td>77</td>\n",
       "    </tr>\n",
       "    <tr>\n",
       "      <th>contacts_call</th>\n",
       "      <td>54</td>\n",
       "    </tr>\n",
       "  </tbody>\n",
       "</table>\n",
       "</div>"
      ],
      "text/plain": [
       "               user_id\n",
       "event.name            \n",
       "tips_show          840\n",
       "map                415\n",
       "search_5           316\n",
       "photos_show        289\n",
       "advert_open        259\n",
       "contacts_show      226\n",
       "search_4           203\n",
       "search_6           157\n",
       "search_1           137\n",
       "tips_click         101\n",
       "search_2            98\n",
       "search_3            92\n",
       "search_7            83\n",
       "favorites_add       77\n",
       "contacts_call       54"
      ]
     },
     "execution_count": 93,
     "metadata": {},
     "output_type": "execute_result"
    }
   ],
   "source": [
    "event_other = dataset_sources_other.groupby('event.name')\\\n",
    ".agg({'user_id':'nunique'}).sort_values(by = 'user_id',ascending = False)\n",
    "event_other"
   ]
  },
  {
   "cell_type": "code",
   "execution_count": 94,
   "metadata": {},
   "outputs": [
    {
     "data": {
      "image/png": "[encoded data removed]",
      "text/plain": [
       "<Figure size 720x720 with 1 Axes>"
      ]
     },
     "metadata": {
      "needs_background": "light"
     },
     "output_type": "display_data"
    }
   ],
   "source": [
    "dataset_sources_other.groupby('event.name')\\\n",
    ".agg({'user_id':'nunique'}).sort_values(by = 'user_id',ascending = False)\\\n",
    ".plot(y='user_id', kind='bar', grid=True, figsize=(10, 10))\n",
    "plt.title('Кол-во событий')\n",
    "plt.show()"
   ]
  },
  {
   "cell_type": "markdown",
   "metadata": {},
   "source": [
    "Оставшаяся группа 'Other' реже всех предыдущих \"добирается\" до 'просмотра контактов' - 6 место. "
   ]
  },
  {
   "cell_type": "markdown",
   "metadata": {},
   "source": [
    "Для наглядности построим общую диаграмму для отображения пользователей всех трех групп."
   ]
  },
  {
   "cell_type": "code",
   "execution_count": 95,
   "metadata": {},
   "outputs": [
    {
     "data": {
      "image/png": "[encoded data removed]",
      "text/plain": [
       "<Figure size 720x720 with 1 Axes>"
      ]
     },
     "metadata": {
      "needs_background": "light"
     },
     "output_type": "display_data"
    }
   ],
   "source": [
    "index = np.arange(5)\n",
    "\n",
    "data = {'Yandex': event_yandex['user_id'],\n",
    "        'Google': event_google['user_id'],\n",
    "        'Other': event_other['user_id']}\n",
    "df = pd.DataFrame(data)\n",
    "df.plot(kind='bar',grid=True, figsize=(10, 10))\n",
    "\n",
    "plt.title('Количество событий по группам', fontsize = 12, color = 'blue')\n",
    "\n",
    "plt.show()"
   ]
  },
  {
   "cell_type": "markdown",
   "metadata": {},
   "source": [
    "Итак, можно сделать выводы:\n",
    "- пользователи группы Yandex: самая активная группа пользователей, так как показала наибольшее среднее количество событий (34266) и частоту целевого события (просмотр контактов - 3 место);\n",
    "- пользователи группы Google: среднее количество событий - 20392, частота целевого события - 5 место;\n",
    "- пользователи группы 'Other': среднее количество событий - 19460, частота целевого события - 6 место. Показатели этой группы практически совпадают с показателями группы Google."
   ]
  },
  {
   "cell_type": "markdown",
   "metadata": {},
   "source": [
    "### Конверсия в целевое действие — просмотр контактов."
   ]
  },
  {
   "cell_type": "markdown",
   "metadata": {},
   "source": [
    "Рассчитаем конверсию  в целевое действие  - 'просмотр контактов' (contacts_show), в разрезе групп. То есть найдем отношение количества уникальных пользователей, которые совершили целевое действие (contacts_show) и  общее количества уникальных пользователей. Сравним полученные результаты по группам. Построим диаграммы."
   ]
  },
  {
   "cell_type": "markdown",
   "metadata": {},
   "source": [
    "#### Yandex - как источник привлечения пользователей."
   ]
  },
  {
   "cell_type": "code",
   "execution_count": 96,
   "metadata": {},
   "outputs": [
    {
     "data": {
      "text/html": [
       "<div>\n",
       "<style scoped>\n",
       "    .dataframe tbody tr th:only-of-type {\n",
       "        vertical-align: middle;\n",
       "    }\n",
       "\n",
       "    .dataframe tbody tr th {\n",
       "        vertical-align: top;\n",
       "    }\n",
       "\n",
       "    .dataframe thead th {\n",
       "        text-align: right;\n",
       "    }\n",
       "</style>\n",
       "<table border=\"1\" class=\"dataframe\">\n",
       "  <thead>\n",
       "    <tr style=\"text-align: right;\">\n",
       "      <th></th>\n",
       "      <th>user_id</th>\n",
       "      <th>first_ts</th>\n",
       "      <th>event.time</th>\n",
       "      <th>event.name</th>\n",
       "      <th>source</th>\n",
       "      <th>event_day</th>\n",
       "      <th>active_date</th>\n",
       "      <th>lifetime</th>\n",
       "    </tr>\n",
       "  </thead>\n",
       "  <tbody>\n",
       "    <tr>\n",
       "      <th>0</th>\n",
       "      <td>00157779-810c-4498-9e05-a1e9e3cedf93</td>\n",
       "      <td>2019-10-17</td>\n",
       "      <td>2019-10-19 21:34:33.849769</td>\n",
       "      <td>search_1</td>\n",
       "      <td>yandex</td>\n",
       "      <td>2019-10-19</td>\n",
       "      <td>2019-10-17</td>\n",
       "      <td>0 days</td>\n",
       "    </tr>\n",
       "    <tr>\n",
       "      <th>1</th>\n",
       "      <td>00157779-810c-4498-9e05-a1e9e3cedf93</td>\n",
       "      <td>2019-10-17</td>\n",
       "      <td>2019-10-19 21:35:19.296599</td>\n",
       "      <td>search_1</td>\n",
       "      <td>yandex</td>\n",
       "      <td>2019-10-19</td>\n",
       "      <td>2019-10-17</td>\n",
       "      <td>0 days</td>\n",
       "    </tr>\n",
       "    <tr>\n",
       "      <th>2</th>\n",
       "      <td>00157779-810c-4498-9e05-a1e9e3cedf93</td>\n",
       "      <td>2019-10-17</td>\n",
       "      <td>2019-10-19 21:36:44.344691</td>\n",
       "      <td>search_1</td>\n",
       "      <td>yandex</td>\n",
       "      <td>2019-10-19</td>\n",
       "      <td>2019-10-17</td>\n",
       "      <td>0 days</td>\n",
       "    </tr>\n",
       "    <tr>\n",
       "      <th>3</th>\n",
       "      <td>00157779-810c-4498-9e05-a1e9e3cedf93</td>\n",
       "      <td>2019-10-17</td>\n",
       "      <td>2019-10-19 21:40:38.990477</td>\n",
       "      <td>photos_show</td>\n",
       "      <td>yandex</td>\n",
       "      <td>2019-10-19</td>\n",
       "      <td>2019-10-17</td>\n",
       "      <td>0 days</td>\n",
       "    </tr>\n",
       "    <tr>\n",
       "      <th>4</th>\n",
       "      <td>00157779-810c-4498-9e05-a1e9e3cedf93</td>\n",
       "      <td>2019-10-17</td>\n",
       "      <td>2019-10-19 21:42:13.837523</td>\n",
       "      <td>photos_show</td>\n",
       "      <td>yandex</td>\n",
       "      <td>2019-10-19</td>\n",
       "      <td>2019-10-17</td>\n",
       "      <td>0 days</td>\n",
       "    </tr>\n",
       "  </tbody>\n",
       "</table>\n",
       "</div>"
      ],
      "text/plain": [
       "                                user_id   first_ts                 event.time  \\\n",
       "0  00157779-810c-4498-9e05-a1e9e3cedf93 2019-10-17 2019-10-19 21:34:33.849769   \n",
       "1  00157779-810c-4498-9e05-a1e9e3cedf93 2019-10-17 2019-10-19 21:35:19.296599   \n",
       "2  00157779-810c-4498-9e05-a1e9e3cedf93 2019-10-17 2019-10-19 21:36:44.344691   \n",
       "3  00157779-810c-4498-9e05-a1e9e3cedf93 2019-10-17 2019-10-19 21:40:38.990477   \n",
       "4  00157779-810c-4498-9e05-a1e9e3cedf93 2019-10-17 2019-10-19 21:42:13.837523   \n",
       "\n",
       "    event.name  source   event_day active_date lifetime  \n",
       "0     search_1  yandex  2019-10-19  2019-10-17   0 days  \n",
       "1     search_1  yandex  2019-10-19  2019-10-17   0 days  \n",
       "2     search_1  yandex  2019-10-19  2019-10-17   0 days  \n",
       "3  photos_show  yandex  2019-10-19  2019-10-17   0 days  \n",
       "4  photos_show  yandex  2019-10-19  2019-10-17   0 days  "
      ]
     },
     "execution_count": 96,
     "metadata": {},
     "output_type": "execute_result"
    }
   ],
   "source": [
    "dataset_sources_yandex.head()"
   ]
  },
  {
   "cell_type": "code",
   "execution_count": 97,
   "metadata": {},
   "outputs": [
    {
     "data": {
      "text/plain": [
       "1934"
      ]
     },
     "execution_count": 97,
     "metadata": {},
     "output_type": "execute_result"
    }
   ],
   "source": [
    "#найдем общее количество уникальных пользователей в группе\n",
    "dataset_sources_yandex['user_id'] .nunique()"
   ]
  },
  {
   "cell_type": "code",
   "execution_count": 98,
   "metadata": {},
   "outputs": [
    {
     "data": {
      "text/plain": [
       "478"
      ]
     },
     "execution_count": 98,
     "metadata": {},
     "output_type": "execute_result"
    }
   ],
   "source": [
    "#количества уникальных пользователей, которые совершили событие contacts_show\n",
    "dataset_sources_yandex.loc[dataset_sources_yandex['event.name'] \\\n",
    "                           == 'contacts_show', 'user_id'].nunique()"
   ]
  },
  {
   "cell_type": "code",
   "execution_count": 99,
   "metadata": {},
   "outputs": [
    {
     "data": {
      "text/plain": [
       "24.72"
      ]
     },
     "execution_count": 99,
     "metadata": {},
     "output_type": "execute_result"
    }
   ],
   "source": [
    "conv_yandex = round(((dataset_sources_yandex.loc[dataset_sources_yandex['event.name'] \\\n",
    "                           == 'contacts_show', 'user_id'].nunique()) / \\\n",
    "(dataset_sources_yandex['user_id'].nunique())) *100, 2)\n",
    "conv_yandex"
   ]
  },
  {
   "cell_type": "markdown",
   "metadata": {},
   "source": [
    "#### Google - как источник привлечения пользователей."
   ]
  },
  {
   "cell_type": "code",
   "execution_count": 100,
   "metadata": {},
   "outputs": [
    {
     "data": {
      "text/plain": [
       "24.36"
      ]
     },
     "execution_count": 100,
     "metadata": {},
     "output_type": "execute_result"
    }
   ],
   "source": [
    "conv_google = round(((dataset_sources_google.loc[dataset_sources_google['event.name'] \\\n",
    "                           == 'contacts_show', 'user_id'].nunique()) / \\\n",
    "(dataset_sources_google['user_id'].nunique())) *100, 2)\n",
    "conv_google"
   ]
  },
  {
   "cell_type": "markdown",
   "metadata": {},
   "source": [
    "#### 'Other' - как источник привлечения пользователей."
   ]
  },
  {
   "cell_type": "code",
   "execution_count": 101,
   "metadata": {},
   "outputs": [
    {
     "data": {
      "text/plain": [
       "18.39"
      ]
     },
     "execution_count": 101,
     "metadata": {},
     "output_type": "execute_result"
    }
   ],
   "source": [
    "conv_other = round(((dataset_sources_other.loc[dataset_sources_other['event.name'] \\\n",
    "                           == 'contacts_show', 'user_id'].nunique()) / \\\n",
    "(dataset_sources_other['user_id'].nunique())) *100, 2)\n",
    "conv_other"
   ]
  },
  {
   "cell_type": "markdown",
   "metadata": {},
   "source": [
    "Отобразим результаты расчета конверсии на общей диаграмме."
   ]
  },
  {
   "cell_type": "code",
   "execution_count": 102,
   "metadata": {},
   "outputs": [
    {
     "data": {
      "image/png": "[encoded data removed]",
      "text/plain": [
       "<Figure size 360x360 with 1 Axes>"
      ]
     },
     "metadata": {
      "needs_background": "light"
     },
     "output_type": "display_data"
    }
   ],
   "source": [
    "index = np.arange(5)\n",
    "\n",
    "data = {'Yandex': [conv_yandex],\n",
    "        'Google': [conv_google],\n",
    "        'Other': [conv_other]}\n",
    "df = pd.DataFrame(data)\n",
    "df.plot(kind='bar', grid=True, figsize=(5, 5))\n",
    "\n",
    "plt.title('Конверсия в целевое действие по группам', fontsize = 10, color = 'blue')\n",
    "\n",
    "plt.show()"
   ]
  },
  {
   "cell_type": "markdown",
   "metadata": {},
   "source": [
    "Итак, лучшие конверсии в целевое событие показали группы пользователей Yandex (24,72%) и Google (24,36%) - почти совпадают, худший результат - группа Other (18,39%)."
   ]
  },
  {
   "cell_type": "markdown",
   "metadata": {},
   "source": [
    "Вывод по п. 4:\n",
    "\n",
    "\n",
    "\n",
    "Анализ метрик в разбивке по выбранным группам дал следующие результаты:\n",
    "\n",
    "*Группа Yandex.*\n",
    "\n",
    "- Коэффициент удержания на втором месте - пользователи Yandex (27,53%).\n",
    "\n",
    "- Временной интервал сессии почти совпадает с группой Google -  12 мин.\n",
    "\n",
    "- Пользователи группы Yandex: самая активная и быстрая группа пользователей, так как показала наибольшее среднее количество событий (34266) и частоту целевого события (просмотр контактов - 3 место)\n",
    "\n",
    " - Лучшая конверсия в целевое событие (почти как у группы Google) - 24,72%.\n",
    "\n",
    "*Группа Google*\n",
    "\n",
    "- Коэффициент удержания третье место - пользователи Google (25,35%).\n",
    "\n",
    "- Временной интервал сессии почти совпадает с группой Yandex - 13 мин.\n",
    "\n",
    "- Среднее количество событий - 20392, частота целевого события - 5 место;\n",
    "\n",
    "- Конверсию в целевое событие (почти как у группы Yandex) - 24,36%.\n",
    "\n",
    "\n",
    "*Группа Other*\n",
    "\n",
    "- Самый высокий коэффициент удержания имеют пользователи группы 'Other' - 27,85%.\n",
    "\n",
    "- Самую непродолжительную сессию показала группа Other (9 мин.)\n",
    "\n",
    "- Среднее количество событий - 19460, частота целевого события - 6 место. Показатели этой группы практически совпадают с показателями группы Google.\n",
    "\n",
    "- Худший результат по конверсии - 18,39%.\n",
    "\n",
    "\n",
    "Можно сделать вывод, что пользователи группы Yandex - за меньший промежуток времени, в отличии от других групп, приходят к целевому событию. А самые \"нерешительные\" группа Other."
   ]
  },
  {
   "cell_type": "markdown",
   "metadata": {},
   "source": [
    "## Ссылка на дашборд. "
   ]
  },
  {
   "cell_type": "markdown",
   "metadata": {},
   "source": [
    "https://public.tableau.com/app/profile/polina8799/viz/_16524747844230/Dashboard1?publish=yes"
   ]
  },
  {
   "cell_type": "markdown",
   "metadata": {},
   "source": [
    "## Ссылка на презентацию. "
   ]
  },
  {
   "cell_type": "markdown",
   "metadata": {},
   "source": [
    "https://disk.yandex.ru/i/KMjlS4cNfcQt2Q"
   ]
  },
  {
   "cell_type": "markdown",
   "metadata": {},
   "source": [
    "## Проверка гипотез"
   ]
  },
  {
   "cell_type": "markdown",
   "metadata": {},
   "source": [
    "### Гипотеза 1:"
   ]
  },
  {
   "cell_type": "markdown",
   "metadata": {},
   "source": [
    "Некоторые пользователи установили приложение по ссылке из yandex , другие — из google . Проверьте гипотезу: две эти группы\n",
    "демонстрируют разную конверсию в просмотры контактов."
   ]
  },
  {
   "cell_type": "markdown",
   "metadata": {},
   "source": [
    "1) Сформулируем нулевую гипотезу (Н0):\n",
    "\n",
    "\"Группы Yandex и Google демонстрируют одинаковую конверсию в целевое событие - просмотры контактов.\"\n",
    "\n",
    "2) Альтернативная гипотеза (Н1):\n",
    "\n",
    "\"Две эти группы демонстрируют разную конверсию в просмотры контактов.\""
   ]
  },
  {
   "cell_type": "markdown",
   "metadata": {},
   "source": [
    "Для проверки гипотезы  равенства конверсий воспользуемся специальным методом: proportions_ztest, так как этот тест на пропорции."
   ]
  },
  {
   "cell_type": "code",
   "execution_count": 106,
   "metadata": {},
   "outputs": [
    {
     "name": "stdout",
     "output_type": "stream",
     "text": [
      "p-значение:  0.824\n",
      "Не получилось отвергнуть нулевую гипотезу\n"
     ]
    }
   ],
   "source": [
    "\n",
    "import numpy as np\n",
    "from statsmodels.stats.proportion import proportions_ztest\n",
    "alpha = .05 # критический уровень статистической значимости\n",
    "# если p-value окажется меньше него - отвегнем гипотезу\n",
    "count = np.array([(dataset_sources_yandex.loc[dataset_sources_yandex['event.name'] \\\n",
    "                           == 'contacts_show', 'user_id'].nunique()),\\\n",
    "                  (dataset_sources_google.loc[dataset_sources_google['event.name'] \\\n",
    "                           == 'contacts_show', 'user_id'].nunique())])\n",
    "nobs = np.array([(dataset_sources_yandex['user_id'].nunique()), \\\n",
    "                 (dataset_sources_google['user_id'].nunique())])\n",
    "stat, pval = proportions_ztest(count, nobs)\n",
    "\n",
    "print('p-значение: ','{0:0.3f}'.format(pval))\n",
    "\n",
    "if pval < alpha:\n",
    "    print(\"Отвергаем нулевую гипотезу\")\n",
    "else:\n",
    "    print(\"Не получилось отвергнуть нулевую гипотезу\") \n",
    "                         \n"
   ]
  },
  {
   "cell_type": "markdown",
   "metadata": {},
   "source": [
    "То есть вывод: Группы Yandex и Google демонстрируют одинаковую конверсию в целевое событие - просмотры контактов."
   ]
  },
  {
   "cell_type": "markdown",
   "metadata": {},
   "source": [
    "### Гипотеза 2:"
   ]
  },
  {
   "cell_type": "markdown",
   "metadata": {},
   "source": [
    "Время сессии (интервал  времени от события: пользователь увидел объявление до целевого события: просмотр контактов) у групп пользователей: Yandex и Other -  различается."
   ]
  },
  {
   "cell_type": "markdown",
   "metadata": {},
   "source": [
    "1) Сформулируем нулевую гипотезу (Н0):\n",
    "\n",
    "\"Группы Yandex и Other имеют одинаковое время сессии.\"\n",
    "\n",
    "2) Альтернативная гипотеза (Н1):\n",
    "\n",
    "\"Две эти группы демонстрируют разное время сессий.\""
   ]
  },
  {
   "cell_type": "markdown",
   "metadata": {},
   "source": [
    "Для проверки гипотезы  равенства временного промежутка сессии воспользуемся специальным методом: st.ttest_ind  "
   ]
  },
  {
   "cell_type": "code",
   "execution_count": 104,
   "metadata": {},
   "outputs": [
    {
     "name": "stdout",
     "output_type": "stream",
     "text": [
      "p-значение:  0.43188943848978967\n",
      "Не получилось отвергнуть нулевую гипотезу\n"
     ]
    }
   ],
   "source": [
    "alpha = .05 # критический уровень статистической значимости\n",
    "# если p-value окажется меньше него - отвегнем гипотезу\n",
    "\n",
    "results = st.ttest_ind(profiles_sources_other['session_duration_sec'], \\\n",
    "                       profiles_sources_yandex['session_duration_sec'],  \n",
    "    \n",
    "    equal_var = False, nan_policy = 'omit') \n",
    "#агрумент nan_policy = 'omit' дает возможность обойти nan\n",
    "\n",
    "print('p-значение: ', results.pvalue)\n",
    "\n",
    "if results.pvalue < alpha:\n",
    "    print(\"Отвергаем нулевую гипотезу\")\n",
    "else:\n",
    "    print(\"Не получилось отвергнуть нулевую гипотезу\") \n",
    "    "
   ]
  },
  {
   "cell_type": "markdown",
   "metadata": {},
   "source": [
    "То есть вывод: будем считать, что группы Yandex и Other имеют одинаковое время сессии."
   ]
  },
  {
   "cell_type": "markdown",
   "metadata": {},
   "source": [
    "## Общий вывод."
   ]
  },
  {
   "cell_type": "markdown",
   "metadata": {},
   "source": [
    "Исследуя данные мобильного приложения \"Ненужные вещи\", приходим к выводам:\n",
    "\n",
    "- как источник привлечения пользователей данного приложения, yandex - лидирует;\n",
    "- в конце октября 2019 года количество уникальных пользователей резко начало снижаться, но учитывая анализ динамики по дням - заметна цикличность данного показателя, и в начале ноября рост;\n",
    "- по имеющимся данным, пользователям в среднем от начала до конца сессии необходимо примерно 1,5 часа. Однако, учитывая наличие выбросов, и рассчитав медианную продолжительность сессии - 11 минут, приходим к выводу, что этот показатель лучше отражает реальность.\n",
    "- рассчитано среднее число сессий в день - 279, динамика данного показателя показывает цикличность и тенденция к росту показателя  - число сессий в день. Хотя в в конце октября  заметен резкий спад и уже в начале ноября показатель уже пошел вверх.\n",
    "\n",
    "Анализ метрик в разбивке по выбранным группам дал следующие результаты:\n",
    "\n",
    "*Группа Yandex.*\n",
    "\n",
    "- Коэффициент удержания на втором месте - пользователи Yandex (27,53%).\n",
    "\n",
    "- Временной интервал сессии почти совпадает с группой Google -  12 мин.\n",
    "\n",
    "- Пользователи группы Yandex: самая активная и быстрая группа пользователей, так как показала наибольшее среднее количество событий (34266) и частоту целевого события (просмотр контактов - 3 место)\n",
    "\n",
    " - Лучшая конверсия в целевое событие (почти как у группы Google) - 24,72%.\n",
    "\n",
    "*Группа Google*\n",
    "\n",
    "- Коэффициент удержания третье место - пользователи Google (25,35%).\n",
    "\n",
    "- Временной интервал сессии почти совпадает с группой Yandex - 13 мин.\n",
    "\n",
    "- Среднее количество событий - 20392, частота целевого события - 5 место;\n",
    "\n",
    "- Конверсию в целевое событие (почти как у группы Yandex) - 24,36%.\n",
    "\n",
    "\n",
    "*Группа Other*\n",
    "\n",
    "- Самый высокий коэффициент удержания имеют пользователи группы 'Other' - 27,85%.\n",
    "\n",
    "- Самую непродолжительную сессию показала группа Other (9 мин.)\n",
    "\n",
    "- Среднее количество событий - 19460, частота целевого события - 6 место. Показатели этой группы практически совпадают с показателями группы Google.\n",
    "\n",
    "- Худший результат по конверсии - 18,39%.\n",
    "\n",
    "\n",
    "\n",
    "\n"
   ]
  },
  {
   "cell_type": "markdown",
   "metadata": {},
   "source": [
    "## Рекомендации:"
   ]
  },
  {
   "cell_type": "markdown",
   "metadata": {},
   "source": [
    "- Количество пользовательской активности имеет тенденцию к спаду, поэтому необходимо разработать план мероприятий по привлечению пользователей. \n",
    "- Более успешные результаты показали пользователи, привлеченные через Yandex. Эти пользователи - дольше остаются в приложении и за меньший промежуток времени, в отличии от других групп, приходят к целевому событию. А самые \"нерешительные\" группа Other. Исходя из этого, необходимо обратить большее внимание на Yandex - как на источник привлечения.\n",
    "\n"
   ]
  }
 ],
 "metadata": {
  "ExecuteTimeLog": [
   {
    "duration": 1610,
    "start_time": "2022-05-15T14:57:42.682Z"
   },
   {
    "duration": 126,
    "start_time": "2022-05-15T14:57:44.294Z"
   },
   {
    "duration": 18,
    "start_time": "2022-05-15T14:57:44.423Z"
   },
   {
    "duration": 11,
    "start_time": "2022-05-15T14:57:44.451Z"
   },
   {
    "duration": 24,
    "start_time": "2022-05-15T14:57:44.467Z"
   },
   {
    "duration": 14,
    "start_time": "2022-05-15T14:57:44.493Z"
   },
   {
    "duration": 63,
    "start_time": "2022-05-15T14:57:44.509Z"
   },
   {
    "duration": 22,
    "start_time": "2022-05-15T14:57:44.574Z"
   },
   {
    "duration": 16,
    "start_time": "2022-05-15T14:57:44.599Z"
   },
   {
    "duration": 35,
    "start_time": "2022-05-15T14:57:44.618Z"
   },
   {
    "duration": 41,
    "start_time": "2022-05-15T14:57:44.655Z"
   },
   {
    "duration": 8,
    "start_time": "2022-05-15T14:57:44.698Z"
   },
   {
    "duration": 11,
    "start_time": "2022-05-15T14:57:44.708Z"
   },
   {
    "duration": 9,
    "start_time": "2022-05-15T14:57:44.752Z"
   },
   {
    "duration": 21,
    "start_time": "2022-05-15T14:57:44.763Z"
   },
   {
    "duration": 10,
    "start_time": "2022-05-15T14:57:44.789Z"
   },
   {
    "duration": 47,
    "start_time": "2022-05-15T14:57:44.801Z"
   },
   {
    "duration": 7,
    "start_time": "2022-05-15T14:57:44.853Z"
   },
   {
    "duration": 8,
    "start_time": "2022-05-15T14:57:44.862Z"
   },
   {
    "duration": 44,
    "start_time": "2022-05-15T14:57:44.873Z"
   },
   {
    "duration": 44,
    "start_time": "2022-05-15T14:57:44.919Z"
   },
   {
    "duration": 23,
    "start_time": "2022-05-15T14:57:44.965Z"
   },
   {
    "duration": 71,
    "start_time": "2022-05-15T14:57:44.991Z"
   },
   {
    "duration": 6,
    "start_time": "2022-05-15T14:57:45.065Z"
   },
   {
    "duration": 228,
    "start_time": "2022-05-15T14:57:45.073Z"
   },
   {
    "duration": 11,
    "start_time": "2022-05-15T14:57:45.304Z"
   },
   {
    "duration": 41,
    "start_time": "2022-05-15T14:57:45.317Z"
   },
   {
    "duration": 15,
    "start_time": "2022-05-15T14:57:45.360Z"
   },
   {
    "duration": 24,
    "start_time": "2022-05-15T14:57:45.377Z"
   },
   {
    "duration": 12,
    "start_time": "2022-05-15T14:57:45.404Z"
   },
   {
    "duration": 31,
    "start_time": "2022-05-15T14:57:45.453Z"
   },
   {
    "duration": 290,
    "start_time": "2022-05-15T14:57:45.486Z"
   },
   {
    "duration": 16,
    "start_time": "2022-05-15T14:57:45.778Z"
   },
   {
    "duration": 28,
    "start_time": "2022-05-15T14:57:45.796Z"
   },
   {
    "duration": 48,
    "start_time": "2022-05-15T14:57:45.826Z"
   },
   {
    "duration": 615,
    "start_time": "2022-05-15T14:57:45.877Z"
   },
   {
    "duration": 18,
    "start_time": "2022-05-15T14:57:46.494Z"
   },
   {
    "duration": 451,
    "start_time": "2022-05-15T14:57:46.514Z"
   },
   {
    "duration": 14,
    "start_time": "2022-05-15T14:57:46.967Z"
   },
   {
    "duration": 490,
    "start_time": "2022-05-15T14:57:46.983Z"
   },
   {
    "duration": 8,
    "start_time": "2022-05-15T14:57:47.475Z"
   },
   {
    "duration": 5,
    "start_time": "2022-05-15T14:57:47.486Z"
   },
   {
    "duration": 258,
    "start_time": "2022-05-15T14:57:47.493Z"
   },
   {
    "duration": 6,
    "start_time": "2022-05-15T14:57:47.754Z"
   },
   {
    "duration": 21,
    "start_time": "2022-05-15T14:57:47.762Z"
   },
   {
    "duration": 11,
    "start_time": "2022-05-15T14:57:47.785Z"
   },
   {
    "duration": 498,
    "start_time": "2022-05-15T14:57:47.798Z"
   },
   {
    "duration": 16,
    "start_time": "2022-05-15T14:57:48.298Z"
   },
   {
    "duration": 41,
    "start_time": "2022-05-15T14:57:48.323Z"
   },
   {
    "duration": 19,
    "start_time": "2022-05-15T14:57:48.366Z"
   },
   {
    "duration": 18,
    "start_time": "2022-05-15T14:57:48.388Z"
   },
   {
    "duration": 53,
    "start_time": "2022-05-15T14:57:48.409Z"
   },
   {
    "duration": 18,
    "start_time": "2022-05-15T14:57:48.464Z"
   },
   {
    "duration": 17,
    "start_time": "2022-05-15T14:57:48.484Z"
   },
   {
    "duration": 12,
    "start_time": "2022-05-15T14:57:48.503Z"
   },
   {
    "duration": 82,
    "start_time": "2022-05-15T14:57:48.516Z"
   },
   {
    "duration": 17,
    "start_time": "2022-05-15T14:57:48.600Z"
   },
   {
    "duration": 67,
    "start_time": "2022-05-15T14:57:48.619Z"
   },
   {
    "duration": 18,
    "start_time": "2022-05-15T14:57:48.688Z"
   },
   {
    "duration": 43,
    "start_time": "2022-05-15T14:57:48.708Z"
   },
   {
    "duration": 515,
    "start_time": "2022-05-15T14:57:48.753Z"
   },
   {
    "duration": 38,
    "start_time": "2022-05-15T14:57:49.270Z"
   },
   {
    "duration": 17,
    "start_time": "2022-05-15T14:57:49.310Z"
   },
   {
    "duration": 36,
    "start_time": "2022-05-15T14:57:49.352Z"
   },
   {
    "duration": 16,
    "start_time": "2022-05-15T14:57:49.391Z"
   },
   {
    "duration": 113,
    "start_time": "2022-05-15T14:57:49.409Z"
   },
   {
    "duration": 565,
    "start_time": "2022-05-15T14:57:49.524Z"
   },
   {
    "duration": 88,
    "start_time": "2022-05-15T14:57:50.091Z"
   },
   {
    "duration": 563,
    "start_time": "2022-05-15T14:57:50.181Z"
   },
   {
    "duration": 14,
    "start_time": "2022-05-15T14:57:50.752Z"
   },
   {
    "duration": 17,
    "start_time": "2022-05-15T14:57:50.768Z"
   },
   {
    "duration": 361,
    "start_time": "2022-05-15T14:57:50.787Z"
   },
   {
    "duration": 7,
    "start_time": "2022-05-15T14:57:51.152Z"
   },
   {
    "duration": 16,
    "start_time": "2022-05-15T14:57:51.161Z"
   },
   {
    "duration": 6,
    "start_time": "2022-05-15T14:57:51.179Z"
   },
   {
    "duration": 267,
    "start_time": "2022-05-15T14:57:51.187Z"
   },
   {
    "duration": 7,
    "start_time": "2022-05-15T14:57:51.456Z"
   },
   {
    "duration": 10,
    "start_time": "2022-05-15T14:57:51.465Z"
   },
   {
    "duration": 8,
    "start_time": "2022-05-15T14:57:51.477Z"
   },
   {
    "duration": 268,
    "start_time": "2022-05-15T14:57:51.487Z"
   },
   {
    "duration": 6,
    "start_time": "2022-05-15T14:57:51.757Z"
   },
   {
    "duration": 207,
    "start_time": "2022-05-15T14:57:51.765Z"
   },
   {
    "duration": 16,
    "start_time": "2022-05-15T14:57:51.974Z"
   },
   {
    "duration": 8,
    "start_time": "2022-05-15T14:57:51.993Z"
   },
   {
    "duration": 53,
    "start_time": "2022-05-15T14:57:52.003Z"
   },
   {
    "duration": 386,
    "start_time": "2022-05-15T14:57:52.058Z"
   },
   {
    "duration": 8,
    "start_time": "2022-05-15T14:57:52.451Z"
   },
   {
    "duration": 27,
    "start_time": "2022-05-15T14:57:52.461Z"
   },
   {
    "duration": 388,
    "start_time": "2022-05-15T14:57:52.490Z"
   },
   {
    "duration": 8,
    "start_time": "2022-05-15T14:57:52.880Z"
   },
   {
    "duration": 20,
    "start_time": "2022-05-15T14:57:52.890Z"
   },
   {
    "duration": 508,
    "start_time": "2022-05-15T14:57:52.912Z"
   },
   {
    "duration": 572,
    "start_time": "2022-05-15T14:57:53.422Z"
   },
   {
    "duration": 16,
    "start_time": "2022-05-15T14:57:53.996Z"
   },
   {
    "duration": 38,
    "start_time": "2022-05-15T14:57:54.015Z"
   },
   {
    "duration": 10,
    "start_time": "2022-05-15T14:57:54.055Z"
   },
   {
    "duration": 28,
    "start_time": "2022-05-15T14:57:54.067Z"
   },
   {
    "duration": 14,
    "start_time": "2022-05-15T14:57:54.097Z"
   },
   {
    "duration": 43,
    "start_time": "2022-05-15T14:57:54.114Z"
   },
   {
    "duration": 301,
    "start_time": "2022-05-15T14:57:54.159Z"
   },
   {
    "duration": 199,
    "start_time": "2022-05-15T14:57:54.463Z"
   },
   {
    "duration": 0,
    "start_time": "2022-05-15T14:57:54.664Z"
   },
   {
    "duration": 9,
    "start_time": "2022-05-15T15:06:14.437Z"
   },
   {
    "duration": 14,
    "start_time": "2022-05-15T15:06:18.690Z"
   },
   {
    "duration": 8,
    "start_time": "2022-05-15T15:29:36.703Z"
   },
   {
    "duration": 6,
    "start_time": "2022-05-15T15:30:05.486Z"
   },
   {
    "duration": 8,
    "start_time": "2022-05-15T15:30:40.060Z"
   },
   {
    "duration": 33,
    "start_time": "2022-05-15T15:30:58.621Z"
   },
   {
    "duration": 31,
    "start_time": "2022-05-15T15:31:06.103Z"
   },
   {
    "duration": 1517,
    "start_time": "2022-05-16T15:31:11.954Z"
   },
   {
    "duration": 130,
    "start_time": "2022-05-16T15:31:13.473Z"
   },
   {
    "duration": 12,
    "start_time": "2022-05-16T15:31:13.604Z"
   },
   {
    "duration": 7,
    "start_time": "2022-05-16T15:31:13.619Z"
   },
   {
    "duration": 23,
    "start_time": "2022-05-16T15:31:13.627Z"
   },
   {
    "duration": 10,
    "start_time": "2022-05-16T15:31:13.652Z"
   },
   {
    "duration": 20,
    "start_time": "2022-05-16T15:31:13.664Z"
   },
   {
    "duration": 16,
    "start_time": "2022-05-16T15:31:13.686Z"
   },
   {
    "duration": 12,
    "start_time": "2022-05-16T15:31:13.704Z"
   },
   {
    "duration": 35,
    "start_time": "2022-05-16T15:31:13.719Z"
   },
   {
    "duration": 29,
    "start_time": "2022-05-16T15:31:13.756Z"
   },
   {
    "duration": 6,
    "start_time": "2022-05-16T15:31:13.786Z"
   },
   {
    "duration": 9,
    "start_time": "2022-05-16T15:31:13.794Z"
   },
   {
    "duration": 11,
    "start_time": "2022-05-16T15:31:13.804Z"
   },
   {
    "duration": 41,
    "start_time": "2022-05-16T15:31:13.816Z"
   },
   {
    "duration": 7,
    "start_time": "2022-05-16T15:31:13.859Z"
   },
   {
    "duration": 18,
    "start_time": "2022-05-16T15:31:13.868Z"
   },
   {
    "duration": 3,
    "start_time": "2022-05-16T15:31:13.888Z"
   },
   {
    "duration": 6,
    "start_time": "2022-05-16T15:31:13.893Z"
   },
   {
    "duration": 28,
    "start_time": "2022-05-16T15:31:13.900Z"
   },
   {
    "duration": 37,
    "start_time": "2022-05-16T15:31:13.929Z"
   },
   {
    "duration": 16,
    "start_time": "2022-05-16T15:31:13.968Z"
   },
   {
    "duration": 33,
    "start_time": "2022-05-16T15:31:13.986Z"
   },
   {
    "duration": 5,
    "start_time": "2022-05-16T15:31:14.049Z"
   },
   {
    "duration": 155,
    "start_time": "2022-05-16T15:31:14.056Z"
   },
   {
    "duration": 8,
    "start_time": "2022-05-16T15:31:14.213Z"
   },
   {
    "duration": 31,
    "start_time": "2022-05-16T15:31:14.223Z"
   },
   {
    "duration": 11,
    "start_time": "2022-05-16T15:31:14.258Z"
   },
   {
    "duration": 17,
    "start_time": "2022-05-16T15:31:14.270Z"
   },
   {
    "duration": 8,
    "start_time": "2022-05-16T15:31:14.289Z"
   },
   {
    "duration": 55,
    "start_time": "2022-05-16T15:31:14.299Z"
   },
   {
    "duration": 168,
    "start_time": "2022-05-16T15:31:14.356Z"
   },
   {
    "duration": 11,
    "start_time": "2022-05-16T15:31:14.526Z"
   },
   {
    "duration": 24,
    "start_time": "2022-05-16T15:31:14.539Z"
   },
   {
    "duration": 28,
    "start_time": "2022-05-16T15:31:14.564Z"
   },
   {
    "duration": 417,
    "start_time": "2022-05-16T15:31:14.593Z"
   },
   {
    "duration": 14,
    "start_time": "2022-05-16T15:31:15.012Z"
   },
   {
    "duration": 308,
    "start_time": "2022-05-16T15:31:15.029Z"
   },
   {
    "duration": 16,
    "start_time": "2022-05-16T15:31:15.339Z"
   },
   {
    "duration": 5,
    "start_time": "2022-05-16T15:31:15.357Z"
   },
   {
    "duration": 159,
    "start_time": "2022-05-16T15:31:15.364Z"
   },
   {
    "duration": 5,
    "start_time": "2022-05-16T15:31:15.526Z"
   },
   {
    "duration": 27,
    "start_time": "2022-05-16T15:31:15.533Z"
   },
   {
    "duration": 15,
    "start_time": "2022-05-16T15:31:15.562Z"
   },
   {
    "duration": 312,
    "start_time": "2022-05-16T15:31:15.579Z"
   },
   {
    "duration": 13,
    "start_time": "2022-05-16T15:31:15.892Z"
   },
   {
    "duration": 17,
    "start_time": "2022-05-16T15:31:15.906Z"
   },
   {
    "duration": 35,
    "start_time": "2022-05-16T15:31:15.924Z"
   },
   {
    "duration": 15,
    "start_time": "2022-05-16T15:31:15.960Z"
   },
   {
    "duration": 18,
    "start_time": "2022-05-16T15:31:15.976Z"
   },
   {
    "duration": 12,
    "start_time": "2022-05-16T15:31:15.996Z"
   },
   {
    "duration": 16,
    "start_time": "2022-05-16T15:31:16.010Z"
   },
   {
    "duration": 9,
    "start_time": "2022-05-16T15:31:16.051Z"
   },
   {
    "duration": 35,
    "start_time": "2022-05-16T15:31:16.061Z"
   },
   {
    "duration": 13,
    "start_time": "2022-05-16T15:31:16.098Z"
   },
   {
    "duration": 61,
    "start_time": "2022-05-16T15:31:16.113Z"
   },
   {
    "duration": 16,
    "start_time": "2022-05-16T15:31:16.175Z"
   },
   {
    "duration": 16,
    "start_time": "2022-05-16T15:31:16.193Z"
   },
   {
    "duration": 428,
    "start_time": "2022-05-16T15:31:16.211Z"
   },
   {
    "duration": 13,
    "start_time": "2022-05-16T15:31:16.641Z"
   },
   {
    "duration": 40,
    "start_time": "2022-05-16T15:31:16.656Z"
   },
   {
    "duration": 17,
    "start_time": "2022-05-16T15:31:16.698Z"
   },
   {
    "duration": 115,
    "start_time": "2022-05-16T15:31:16.718Z"
   },
   {
    "duration": 23,
    "start_time": "2022-05-16T15:31:16.835Z"
   },
   {
    "duration": 20,
    "start_time": "2022-05-16T15:31:16.859Z"
   },
   {
    "duration": 370,
    "start_time": "2022-05-16T15:31:16.880Z"
   },
   {
    "duration": 6,
    "start_time": "2022-05-16T15:31:17.251Z"
   },
   {
    "duration": 57,
    "start_time": "2022-05-16T15:31:17.259Z"
   },
   {
    "duration": 409,
    "start_time": "2022-05-16T15:31:17.318Z"
   },
   {
    "duration": 6,
    "start_time": "2022-05-16T15:31:17.730Z"
   },
   {
    "duration": 21,
    "start_time": "2022-05-16T15:31:17.737Z"
   },
   {
    "duration": 7,
    "start_time": "2022-05-16T15:31:17.760Z"
   },
   {
    "duration": 9,
    "start_time": "2022-05-16T15:31:17.769Z"
   },
   {
    "duration": 175,
    "start_time": "2022-05-16T15:31:17.780Z"
   },
   {
    "duration": 6,
    "start_time": "2022-05-16T15:31:17.957Z"
   },
   {
    "duration": 8,
    "start_time": "2022-05-16T15:31:17.965Z"
   },
   {
    "duration": 5,
    "start_time": "2022-05-16T15:31:17.975Z"
   },
   {
    "duration": 175,
    "start_time": "2022-05-16T15:31:17.982Z"
   },
   {
    "duration": 5,
    "start_time": "2022-05-16T15:31:18.159Z"
   },
   {
    "duration": 8,
    "start_time": "2022-05-16T15:31:18.166Z"
   },
   {
    "duration": 5,
    "start_time": "2022-05-16T15:31:18.176Z"
   },
   {
    "duration": 182,
    "start_time": "2022-05-16T15:31:18.187Z"
   },
   {
    "duration": 6,
    "start_time": "2022-05-16T15:31:18.370Z"
   },
   {
    "duration": 144,
    "start_time": "2022-05-16T15:31:18.377Z"
   },
   {
    "duration": 12,
    "start_time": "2022-05-16T15:31:18.522Z"
   },
   {
    "duration": 17,
    "start_time": "2022-05-16T15:31:18.535Z"
   },
   {
    "duration": 18,
    "start_time": "2022-05-16T15:31:18.553Z"
   },
   {
    "duration": 260,
    "start_time": "2022-05-16T15:31:18.572Z"
   },
   {
    "duration": 6,
    "start_time": "2022-05-16T15:31:18.834Z"
   },
   {
    "duration": 14,
    "start_time": "2022-05-16T15:31:18.850Z"
   },
   {
    "duration": 242,
    "start_time": "2022-05-16T15:31:18.866Z"
   },
   {
    "duration": 6,
    "start_time": "2022-05-16T15:31:19.110Z"
   },
   {
    "duration": 47,
    "start_time": "2022-05-16T15:31:19.118Z"
   },
   {
    "duration": 244,
    "start_time": "2022-05-16T15:31:19.167Z"
   },
   {
    "duration": 294,
    "start_time": "2022-05-16T15:31:19.413Z"
   },
   {
    "duration": 12,
    "start_time": "2022-05-16T15:31:19.709Z"
   },
   {
    "duration": 30,
    "start_time": "2022-05-16T15:31:19.723Z"
   },
   {
    "duration": 15,
    "start_time": "2022-05-16T15:31:19.754Z"
   },
   {
    "duration": 26,
    "start_time": "2022-05-16T15:31:19.770Z"
   },
   {
    "duration": 20,
    "start_time": "2022-05-16T15:31:19.798Z"
   },
   {
    "duration": 32,
    "start_time": "2022-05-16T15:31:19.820Z"
   },
   {
    "duration": 247,
    "start_time": "2022-05-16T15:31:19.854Z"
   },
   {
    "duration": 27,
    "start_time": "2022-05-16T15:31:20.103Z"
   },
   {
    "duration": 20,
    "start_time": "2022-05-16T15:31:20.132Z"
   },
   {
    "duration": 1240,
    "start_time": "2022-05-18T07:42:36.418Z"
   },
   {
    "duration": 140,
    "start_time": "2022-05-18T07:42:37.660Z"
   },
   {
    "duration": 14,
    "start_time": "2022-05-18T07:42:37.806Z"
   },
   {
    "duration": 6,
    "start_time": "2022-05-18T07:42:37.822Z"
   },
   {
    "duration": 30,
    "start_time": "2022-05-18T07:42:37.830Z"
   },
   {
    "duration": 34,
    "start_time": "2022-05-18T07:42:37.862Z"
   },
   {
    "duration": 31,
    "start_time": "2022-05-18T07:42:37.898Z"
   },
   {
    "duration": 23,
    "start_time": "2022-05-18T07:42:37.931Z"
   },
   {
    "duration": 18,
    "start_time": "2022-05-18T07:42:37.956Z"
   },
   {
    "duration": 26,
    "start_time": "2022-05-18T07:42:37.985Z"
   },
   {
    "duration": 36,
    "start_time": "2022-05-18T07:42:38.016Z"
   },
   {
    "duration": 9,
    "start_time": "2022-05-18T07:42:38.054Z"
   },
   {
    "duration": 24,
    "start_time": "2022-05-18T07:42:38.065Z"
   },
   {
    "duration": 14,
    "start_time": "2022-05-18T07:42:38.091Z"
   },
   {
    "duration": 16,
    "start_time": "2022-05-18T07:42:38.108Z"
   },
   {
    "duration": 7,
    "start_time": "2022-05-18T07:42:38.126Z"
   },
   {
    "duration": 26,
    "start_time": "2022-05-18T07:42:38.135Z"
   },
   {
    "duration": 27,
    "start_time": "2022-05-18T07:42:38.163Z"
   },
   {
    "duration": 14,
    "start_time": "2022-05-18T07:42:38.193Z"
   },
   {
    "duration": 33,
    "start_time": "2022-05-18T07:42:38.212Z"
   },
   {
    "duration": 10,
    "start_time": "2022-05-18T07:42:38.247Z"
   },
   {
    "duration": 62,
    "start_time": "2022-05-18T07:42:38.259Z"
   },
   {
    "duration": 40,
    "start_time": "2022-05-18T07:42:38.323Z"
   },
   {
    "duration": 64,
    "start_time": "2022-05-18T07:42:38.365Z"
   },
   {
    "duration": 17,
    "start_time": "2022-05-18T07:42:38.432Z"
   },
   {
    "duration": 17,
    "start_time": "2022-05-18T07:42:38.451Z"
   },
   {
    "duration": 29,
    "start_time": "2022-05-18T07:42:38.470Z"
   },
   {
    "duration": 30,
    "start_time": "2022-05-18T07:42:38.510Z"
   },
   {
    "duration": 195,
    "start_time": "2022-05-18T07:42:38.542Z"
   },
   {
    "duration": 10,
    "start_time": "2022-05-18T07:42:38.739Z"
   },
   {
    "duration": 38,
    "start_time": "2022-05-18T07:42:38.751Z"
   },
   {
    "duration": 123,
    "start_time": "2022-05-18T07:42:38.790Z"
   },
   {
    "duration": 556,
    "start_time": "2022-05-18T07:42:38.915Z"
   },
   {
    "duration": 34,
    "start_time": "2022-05-18T07:42:39.474Z"
   },
   {
    "duration": 329,
    "start_time": "2022-05-18T07:42:39.512Z"
   },
   {
    "duration": 14,
    "start_time": "2022-05-18T07:42:39.842Z"
   },
   {
    "duration": 47,
    "start_time": "2022-05-18T07:42:39.859Z"
   },
   {
    "duration": 9,
    "start_time": "2022-05-18T07:42:39.908Z"
   },
   {
    "duration": 185,
    "start_time": "2022-05-18T07:42:39.919Z"
   },
   {
    "duration": 6,
    "start_time": "2022-05-18T07:42:40.105Z"
   },
   {
    "duration": 23,
    "start_time": "2022-05-18T07:42:40.113Z"
   },
   {
    "duration": 15,
    "start_time": "2022-05-18T07:42:40.138Z"
   },
   {
    "duration": 392,
    "start_time": "2022-05-18T07:42:40.155Z"
   },
   {
    "duration": 18,
    "start_time": "2022-05-18T07:42:40.549Z"
   },
   {
    "duration": 51,
    "start_time": "2022-05-18T07:42:40.569Z"
   },
   {
    "duration": 19,
    "start_time": "2022-05-18T07:42:40.622Z"
   },
   {
    "duration": 57,
    "start_time": "2022-05-18T07:42:40.642Z"
   },
   {
    "duration": 20,
    "start_time": "2022-05-18T07:42:40.705Z"
   },
   {
    "duration": 38,
    "start_time": "2022-05-18T07:42:40.727Z"
   },
   {
    "duration": 29,
    "start_time": "2022-05-18T07:42:40.768Z"
   },
   {
    "duration": 16,
    "start_time": "2022-05-18T07:42:40.806Z"
   },
   {
    "duration": 13,
    "start_time": "2022-05-18T07:42:40.824Z"
   },
   {
    "duration": 72,
    "start_time": "2022-05-18T07:42:40.839Z"
   },
   {
    "duration": 17,
    "start_time": "2022-05-18T07:42:40.913Z"
   },
   {
    "duration": 64,
    "start_time": "2022-05-18T07:42:40.932Z"
   },
   {
    "duration": 20,
    "start_time": "2022-05-18T07:42:40.998Z"
   },
   {
    "duration": 17,
    "start_time": "2022-05-18T07:42:41.020Z"
   },
   {
    "duration": 433,
    "start_time": "2022-05-18T07:42:41.039Z"
   },
   {
    "duration": 17,
    "start_time": "2022-05-18T07:42:41.474Z"
   },
   {
    "duration": 50,
    "start_time": "2022-05-18T07:42:41.493Z"
   },
   {
    "duration": 13,
    "start_time": "2022-05-18T07:42:41.545Z"
   },
   {
    "duration": 47,
    "start_time": "2022-05-18T07:42:41.560Z"
   },
   {
    "duration": 13,
    "start_time": "2022-05-18T07:42:41.609Z"
   },
   {
    "duration": 21,
    "start_time": "2022-05-18T07:42:41.624Z"
   },
   {
    "duration": 483,
    "start_time": "2022-05-18T07:42:41.647Z"
   },
   {
    "duration": 7,
    "start_time": "2022-05-18T07:42:42.131Z"
   },
   {
    "duration": 90,
    "start_time": "2022-05-18T07:42:42.139Z"
   },
   {
    "duration": 499,
    "start_time": "2022-05-18T07:42:42.230Z"
   },
   {
    "duration": 7,
    "start_time": "2022-05-18T07:42:42.731Z"
   },
   {
    "duration": 29,
    "start_time": "2022-05-18T07:42:42.739Z"
   },
   {
    "duration": 34,
    "start_time": "2022-05-18T07:42:42.770Z"
   },
   {
    "duration": 8,
    "start_time": "2022-05-18T07:42:42.806Z"
   },
   {
    "duration": 10,
    "start_time": "2022-05-18T07:42:42.816Z"
   },
   {
    "duration": 181,
    "start_time": "2022-05-18T07:42:42.828Z"
   },
   {
    "duration": 6,
    "start_time": "2022-05-18T07:42:43.011Z"
   },
   {
    "duration": 17,
    "start_time": "2022-05-18T07:42:43.019Z"
   },
   {
    "duration": 17,
    "start_time": "2022-05-18T07:42:43.038Z"
   },
   {
    "duration": 200,
    "start_time": "2022-05-18T07:42:43.057Z"
   },
   {
    "duration": 5,
    "start_time": "2022-05-18T07:42:43.258Z"
   },
   {
    "duration": 37,
    "start_time": "2022-05-18T07:42:43.265Z"
   },
   {
    "duration": 23,
    "start_time": "2022-05-18T07:42:43.303Z"
   },
   {
    "duration": 318,
    "start_time": "2022-05-18T07:42:43.333Z"
   },
   {
    "duration": 6,
    "start_time": "2022-05-18T07:42:43.653Z"
   },
   {
    "duration": 165,
    "start_time": "2022-05-18T07:42:43.661Z"
   },
   {
    "duration": 12,
    "start_time": "2022-05-18T07:42:43.828Z"
   },
   {
    "duration": 7,
    "start_time": "2022-05-18T07:42:43.842Z"
   },
   {
    "duration": 42,
    "start_time": "2022-05-18T07:42:43.850Z"
   },
   {
    "duration": 262,
    "start_time": "2022-05-18T07:42:43.893Z"
   },
   {
    "duration": 6,
    "start_time": "2022-05-18T07:42:44.157Z"
   },
   {
    "duration": 26,
    "start_time": "2022-05-18T07:42:44.165Z"
   },
   {
    "duration": 247,
    "start_time": "2022-05-18T07:42:44.198Z"
   },
   {
    "duration": 7,
    "start_time": "2022-05-18T07:42:44.447Z"
   },
   {
    "duration": 36,
    "start_time": "2022-05-18T07:42:44.456Z"
   },
   {
    "duration": 273,
    "start_time": "2022-05-18T07:42:44.494Z"
   },
   {
    "duration": 386,
    "start_time": "2022-05-18T07:42:44.769Z"
   },
   {
    "duration": 13,
    "start_time": "2022-05-18T07:42:45.157Z"
   },
   {
    "duration": 32,
    "start_time": "2022-05-18T07:42:45.172Z"
   },
   {
    "duration": 10,
    "start_time": "2022-05-18T07:42:45.205Z"
   },
   {
    "duration": 14,
    "start_time": "2022-05-18T07:42:45.217Z"
   },
   {
    "duration": 14,
    "start_time": "2022-05-18T07:42:45.232Z"
   },
   {
    "duration": 43,
    "start_time": "2022-05-18T07:42:45.248Z"
   },
   {
    "duration": 143,
    "start_time": "2022-05-18T07:42:45.293Z"
   },
   {
    "duration": 25,
    "start_time": "2022-05-18T07:42:45.438Z"
   },
   {
    "duration": 28,
    "start_time": "2022-05-18T07:42:45.465Z"
   },
   {
    "duration": 36,
    "start_time": "2022-05-18T07:58:55.779Z"
   },
   {
    "duration": 31,
    "start_time": "2022-05-18T07:59:00.360Z"
   }
  ],
  "kernelspec": {
   "display_name": "Python 3",
   "language": "python",
   "name": "python3"
  },
  "language_info": {
   "codemirror_mode": {
    "name": "ipython",
    "version": 3
   },
   "file_extension": ".py",
   "mimetype": "text/x-python",
   "name": "python",
   "nbconvert_exporter": "python",
   "pygments_lexer": "ipython3",
   "version": "3.8.8"
  },
  "toc": {
   "base_numbering": 1,
   "nav_menu": {},
   "number_sections": true,
   "sideBar": true,
   "skip_h1_title": true,
   "title_cell": "Table of Contents",
   "title_sidebar": "Contents",
   "toc_cell": false,
   "toc_position": {
    "height": "calc(100% - 180px)",
    "left": "10px",
    "top": "150px",
    "width": "270.390625px"
   },
   "toc_section_display": true,
   "toc_window_display": true
  }
 },
 "nbformat": 4,
 "nbformat_minor": 2
}
