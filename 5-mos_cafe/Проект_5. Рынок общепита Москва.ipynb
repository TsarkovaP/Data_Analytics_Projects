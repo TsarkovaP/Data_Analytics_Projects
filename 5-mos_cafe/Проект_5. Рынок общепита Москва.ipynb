{
 "cells": [
  {
   "cell_type": "markdown",
   "metadata": {},
   "source": [
    "# Исследование рынка заведений общественного питания г.Москвы."
   ]
  },
  {
   "cell_type": "markdown",
   "metadata": {},
   "source": [
    "Проект - открытие небольшого кафе в Москве, где гостей должны обслуживать роботы. \n",
    "\n",
    "Заказчик этого исследования — инвесторы данного проекта.\n",
    "\n",
    "Необходимо изучить текущее положение дел на рынке заведений общественного питания г.Москвы. \n",
    "\n",
    "Работать будем с открытыми данными о заведениях общественного питания в Москве."
   ]
  },
  {
   "cell_type": "markdown",
   "metadata": {},
   "source": [
    "## Изучение данных"
   ]
  },
  {
   "cell_type": "code",
   "execution_count": 1,
   "metadata": {},
   "outputs": [],
   "source": [
    "#импорт библиотеку matplotlib для построения графиков\n",
    "import matplotlib.pyplot as plt\n",
    "\n",
    "#импорт бибилиотеки pandas\n",
    "import pandas as pd\n",
    "\n",
    "import seaborn as sns\n",
    "\n",
    "import numpy as np\n",
    "\n",
    "import plotly.express as px\n",
    "\n",
    "\n",
    "\n",
    "from plotly import graph_objects as go\n",
    "\n",
    "pd.set_option('display.float_format', '{:,.2f}'.format)\n",
    "\n",
    "#Сброс ограничений на число столбцов\n",
    "pd.set_option('display.max_columns', None)\n",
    "# Сброс ограничений на количество выводимых рядов\n",
    "pd.set_option('display.max_rows', None)\n",
    " \n",
    "\n",
    "#чтение файла с данными и сохранение в переменной data\n",
    "data = pd.read_csv('/datasets/rest_data.csv')\n",
    "#чтение файла с данными по районам и сохранение в переменной distr\n",
    "distr = pd.read_csv('https://my-files.su/Save/w2rqlk/mosgaz-streets.csv')"
   ]
  },
  {
   "cell_type": "code",
   "execution_count": 2,
   "metadata": {},
   "outputs": [
    {
     "data": {
      "text/html": [
       "<div>\n",
       "<style scoped>\n",
       "    .dataframe tbody tr th:only-of-type {\n",
       "        vertical-align: middle;\n",
       "    }\n",
       "\n",
       "    .dataframe tbody tr th {\n",
       "        vertical-align: top;\n",
       "    }\n",
       "\n",
       "    .dataframe thead th {\n",
       "        text-align: right;\n",
       "    }\n",
       "</style>\n",
       "<table border=\"1\" class=\"dataframe\">\n",
       "  <thead>\n",
       "    <tr style=\"text-align: right;\">\n",
       "      <th></th>\n",
       "      <th>streetname</th>\n",
       "      <th>areaid</th>\n",
       "      <th>okrug</th>\n",
       "      <th>area</th>\n",
       "    </tr>\n",
       "  </thead>\n",
       "  <tbody>\n",
       "    <tr>\n",
       "      <td>0</td>\n",
       "      <td>Выставочный переулок</td>\n",
       "      <td>17</td>\n",
       "      <td>ЦАО</td>\n",
       "      <td>Пресненский район</td>\n",
       "    </tr>\n",
       "    <tr>\n",
       "      <td>1</td>\n",
       "      <td>улица Гашека</td>\n",
       "      <td>17</td>\n",
       "      <td>ЦАО</td>\n",
       "      <td>Пресненский район</td>\n",
       "    </tr>\n",
       "    <tr>\n",
       "      <td>2</td>\n",
       "      <td>Большая Никитская улица</td>\n",
       "      <td>17</td>\n",
       "      <td>ЦАО</td>\n",
       "      <td>Пресненский район</td>\n",
       "    </tr>\n",
       "    <tr>\n",
       "      <td>3</td>\n",
       "      <td>Глубокий переулок</td>\n",
       "      <td>17</td>\n",
       "      <td>ЦАО</td>\n",
       "      <td>Пресненский район</td>\n",
       "    </tr>\n",
       "    <tr>\n",
       "      <td>4</td>\n",
       "      <td>Большой Гнездниковский переулок</td>\n",
       "      <td>17</td>\n",
       "      <td>ЦАО</td>\n",
       "      <td>Пресненский район</td>\n",
       "    </tr>\n",
       "  </tbody>\n",
       "</table>\n",
       "</div>"
      ],
      "text/plain": [
       "                        streetname  areaid okrug               area\n",
       "0             Выставочный переулок      17   ЦАО  Пресненский район\n",
       "1                     улица Гашека      17   ЦАО  Пресненский район\n",
       "2          Большая Никитская улица      17   ЦАО  Пресненский район\n",
       "3                Глубокий переулок      17   ЦАО  Пресненский район\n",
       "4  Большой Гнездниковский переулок      17   ЦАО  Пресненский район"
      ]
     },
     "execution_count": 2,
     "metadata": {},
     "output_type": "execute_result"
    }
   ],
   "source": [
    "distr.head()"
   ]
  },
  {
   "cell_type": "code",
   "execution_count": 3,
   "metadata": {},
   "outputs": [
    {
     "data": {
      "text/html": [
       "<div>\n",
       "<style scoped>\n",
       "    .dataframe tbody tr th:only-of-type {\n",
       "        vertical-align: middle;\n",
       "    }\n",
       "\n",
       "    .dataframe tbody tr th {\n",
       "        vertical-align: top;\n",
       "    }\n",
       "\n",
       "    .dataframe thead th {\n",
       "        text-align: right;\n",
       "    }\n",
       "</style>\n",
       "<table border=\"1\" class=\"dataframe\">\n",
       "  <thead>\n",
       "    <tr style=\"text-align: right;\">\n",
       "      <th></th>\n",
       "      <th>id</th>\n",
       "      <th>object_name</th>\n",
       "      <th>chain</th>\n",
       "      <th>object_type</th>\n",
       "      <th>address</th>\n",
       "      <th>number</th>\n",
       "    </tr>\n",
       "  </thead>\n",
       "  <tbody>\n",
       "    <tr>\n",
       "      <td>0</td>\n",
       "      <td>151635</td>\n",
       "      <td>СМЕТАНА</td>\n",
       "      <td>нет</td>\n",
       "      <td>кафе</td>\n",
       "      <td>город Москва, улица Егора Абакумова, дом 9</td>\n",
       "      <td>48</td>\n",
       "    </tr>\n",
       "    <tr>\n",
       "      <td>1</td>\n",
       "      <td>77874</td>\n",
       "      <td>Родник</td>\n",
       "      <td>нет</td>\n",
       "      <td>кафе</td>\n",
       "      <td>город Москва, улица Талалихина, дом 2/1, корпус 1</td>\n",
       "      <td>35</td>\n",
       "    </tr>\n",
       "    <tr>\n",
       "      <td>2</td>\n",
       "      <td>24309</td>\n",
       "      <td>Кафе «Академия»</td>\n",
       "      <td>нет</td>\n",
       "      <td>кафе</td>\n",
       "      <td>город Москва, Абельмановская улица, дом 6</td>\n",
       "      <td>95</td>\n",
       "    </tr>\n",
       "    <tr>\n",
       "      <td>3</td>\n",
       "      <td>21894</td>\n",
       "      <td>ПИЦЦЕТОРИЯ</td>\n",
       "      <td>да</td>\n",
       "      <td>кафе</td>\n",
       "      <td>город Москва, Абрамцевская улица, дом 1</td>\n",
       "      <td>40</td>\n",
       "    </tr>\n",
       "    <tr>\n",
       "      <td>4</td>\n",
       "      <td>119365</td>\n",
       "      <td>Кафе «Вишневая метель»</td>\n",
       "      <td>нет</td>\n",
       "      <td>кафе</td>\n",
       "      <td>город Москва, Абрамцевская улица, дом 9, корпус 1</td>\n",
       "      <td>50</td>\n",
       "    </tr>\n",
       "  </tbody>\n",
       "</table>\n",
       "</div>"
      ],
      "text/plain": [
       "       id             object_name chain object_type  \\\n",
       "0  151635                 СМЕТАНА   нет        кафе   \n",
       "1   77874                  Родник   нет        кафе   \n",
       "2   24309         Кафе «Академия»   нет        кафе   \n",
       "3   21894              ПИЦЦЕТОРИЯ    да        кафе   \n",
       "4  119365  Кафе «Вишневая метель»   нет        кафе   \n",
       "\n",
       "                                             address  number  \n",
       "0         город Москва, улица Егора Абакумова, дом 9      48  \n",
       "1  город Москва, улица Талалихина, дом 2/1, корпус 1      35  \n",
       "2          город Москва, Абельмановская улица, дом 6      95  \n",
       "3            город Москва, Абрамцевская улица, дом 1      40  \n",
       "4  город Москва, Абрамцевская улица, дом 9, корпус 1      50  "
      ]
     },
     "execution_count": 3,
     "metadata": {},
     "output_type": "execute_result"
    }
   ],
   "source": [
    "#вывод на экран первые 20 строк таблицы\n",
    "data.head()"
   ]
  },
  {
   "cell_type": "code",
   "execution_count": 4,
   "metadata": {},
   "outputs": [
    {
     "name": "stdout",
     "output_type": "stream",
     "text": [
      "<class 'pandas.core.frame.DataFrame'>\n",
      "RangeIndex: 15366 entries, 0 to 15365\n",
      "Data columns (total 6 columns):\n",
      "id             15366 non-null int64\n",
      "object_name    15366 non-null object\n",
      "chain          15366 non-null object\n",
      "object_type    15366 non-null object\n",
      "address        15366 non-null object\n",
      "number         15366 non-null int64\n",
      "dtypes: int64(2), object(4)\n",
      "memory usage: 720.4+ KB\n"
     ]
    }
   ],
   "source": [
    "#получение общей информации о данных в таблице \n",
    "data.info()"
   ]
  },
  {
   "cell_type": "code",
   "execution_count": 5,
   "metadata": {},
   "outputs": [
    {
     "data": {
      "text/html": [
       "<div>\n",
       "<style scoped>\n",
       "    .dataframe tbody tr th:only-of-type {\n",
       "        vertical-align: middle;\n",
       "    }\n",
       "\n",
       "    .dataframe tbody tr th {\n",
       "        vertical-align: top;\n",
       "    }\n",
       "\n",
       "    .dataframe thead th {\n",
       "        text-align: right;\n",
       "    }\n",
       "</style>\n",
       "<table border=\"1\" class=\"dataframe\">\n",
       "  <thead>\n",
       "    <tr style=\"text-align: right;\">\n",
       "      <th></th>\n",
       "      <th>id</th>\n",
       "      <th>number</th>\n",
       "    </tr>\n",
       "  </thead>\n",
       "  <tbody>\n",
       "    <tr>\n",
       "      <td>count</td>\n",
       "      <td>15,366.00</td>\n",
       "      <td>15,366.00</td>\n",
       "    </tr>\n",
       "    <tr>\n",
       "      <td>mean</td>\n",
       "      <td>119,720.07</td>\n",
       "      <td>59.55</td>\n",
       "    </tr>\n",
       "    <tr>\n",
       "      <td>std</td>\n",
       "      <td>73,036.13</td>\n",
       "      <td>74.74</td>\n",
       "    </tr>\n",
       "    <tr>\n",
       "      <td>min</td>\n",
       "      <td>838.00</td>\n",
       "      <td>0.00</td>\n",
       "    </tr>\n",
       "    <tr>\n",
       "      <td>25%</td>\n",
       "      <td>28,524.00</td>\n",
       "      <td>12.00</td>\n",
       "    </tr>\n",
       "    <tr>\n",
       "      <td>50%</td>\n",
       "      <td>144,974.50</td>\n",
       "      <td>40.00</td>\n",
       "    </tr>\n",
       "    <tr>\n",
       "      <td>75%</td>\n",
       "      <td>184,262.25</td>\n",
       "      <td>80.00</td>\n",
       "    </tr>\n",
       "    <tr>\n",
       "      <td>max</td>\n",
       "      <td>223,439.00</td>\n",
       "      <td>1,700.00</td>\n",
       "    </tr>\n",
       "  </tbody>\n",
       "</table>\n",
       "</div>"
      ],
      "text/plain": [
       "              id    number\n",
       "count  15,366.00 15,366.00\n",
       "mean  119,720.07     59.55\n",
       "std    73,036.13     74.74\n",
       "min       838.00      0.00\n",
       "25%    28,524.00     12.00\n",
       "50%   144,974.50     40.00\n",
       "75%   184,262.25     80.00\n",
       "max   223,439.00  1,700.00"
      ]
     },
     "execution_count": 5,
     "metadata": {},
     "output_type": "execute_result"
    }
   ],
   "source": [
    "#получение некоторых числовых показателей для столбцов с числовыми значениями\n",
    "data.describe()"
   ]
  },
  {
   "cell_type": "markdown",
   "metadata": {},
   "source": [
    "***Вывод п.1:\n",
    "I. Изучив общую информацию, делаем выводы:\n",
    "\n",
    "1) В таблице 6 столбцов.\n",
    "Согласно прилагаемой документации:\n",
    "id — идентификатор объекта;\n",
    "object_name — название объекта общественного питания;\n",
    "chain — сетевой ресторан;\n",
    "object_type — тип объекта общественного питания;\n",
    "address — адрес;\n",
    "number — количество посадочных мест.\n",
    "\n",
    "2) Количество значений во всех столбцах одинаковое - значит в данных пропусков нет.\n",
    "\n",
    "3) Типы данных соотвествуют данным.\n",
    "\n",
    "II. Согласно информации некоторых числовых показателей таблицы:\n",
    "\n",
    "1) вызвали подозрения некоторые параметры по столбцу number — количество посадочных мест, которые требуют проверки:\n",
    "\n",
    "- минимальное значение равно 0;\n",
    "- максимальное значение равно 1700."
   ]
  },
  {
   "cell_type": "markdown",
   "metadata": {},
   "source": [
    "## Предобработка данных"
   ]
  },
  {
   "cell_type": "markdown",
   "metadata": {},
   "source": [
    "### Проверка дубликатов"
   ]
  },
  {
   "cell_type": "markdown",
   "metadata": {},
   "source": [
    "Подсчитаем явные дубликаты."
   ]
  },
  {
   "cell_type": "code",
   "execution_count": 6,
   "metadata": {},
   "outputs": [
    {
     "data": {
      "text/plain": [
       "0"
      ]
     },
     "execution_count": 6,
     "metadata": {},
     "output_type": "execute_result"
    }
   ],
   "source": [
    "#подсчет явных дубликатов\n",
    "data.duplicated().sum()"
   ]
  },
  {
   "cell_type": "code",
   "execution_count": 7,
   "metadata": {},
   "outputs": [
    {
     "data": {
      "text/html": [
       "<div>\n",
       "<style scoped>\n",
       "    .dataframe tbody tr th:only-of-type {\n",
       "        vertical-align: middle;\n",
       "    }\n",
       "\n",
       "    .dataframe tbody tr th {\n",
       "        vertical-align: top;\n",
       "    }\n",
       "\n",
       "    .dataframe thead th {\n",
       "        text-align: right;\n",
       "    }\n",
       "</style>\n",
       "<table border=\"1\" class=\"dataframe\">\n",
       "  <thead>\n",
       "    <tr style=\"text-align: right;\">\n",
       "      <th></th>\n",
       "      <th>id</th>\n",
       "      <th>object_name</th>\n",
       "      <th>chain</th>\n",
       "      <th>object_type</th>\n",
       "      <th>address</th>\n",
       "      <th>number</th>\n",
       "    </tr>\n",
       "  </thead>\n",
       "  <tbody>\n",
       "    <tr>\n",
       "      <td>2374</td>\n",
       "      <td>28603</td>\n",
       "      <td>КОМБИНАТ ПИТАНИЯ МГТУ ИМ.Н.Э.БАУМАНА</td>\n",
       "      <td>нет</td>\n",
       "      <td>столовая</td>\n",
       "      <td>город Москва, 2-я Бауманская улица, дом 5, стр...</td>\n",
       "      <td>100</td>\n",
       "    </tr>\n",
       "    <tr>\n",
       "      <td>2381</td>\n",
       "      <td>28611</td>\n",
       "      <td>КОМБИНАТ ПИТАНИЯ МГТУ ИМ.Н.Э.БАУМАНА</td>\n",
       "      <td>нет</td>\n",
       "      <td>столовая</td>\n",
       "      <td>город Москва, 2-я Бауманская улица, дом 5, стр...</td>\n",
       "      <td>100</td>\n",
       "    </tr>\n",
       "    <tr>\n",
       "      <td>2869</td>\n",
       "      <td>25031</td>\n",
       "      <td>LALTRO BOSCO</td>\n",
       "      <td>нет</td>\n",
       "      <td>ресторан</td>\n",
       "      <td>город Москва, улица Петровка, дом 10</td>\n",
       "      <td>145</td>\n",
       "    </tr>\n",
       "    <tr>\n",
       "      <td>3480</td>\n",
       "      <td>20913</td>\n",
       "      <td>Буфет Мади</td>\n",
       "      <td>нет</td>\n",
       "      <td>буфет</td>\n",
       "      <td>город Москва, Ленинградский проспект, дом 64</td>\n",
       "      <td>40</td>\n",
       "    </tr>\n",
       "    <tr>\n",
       "      <td>3481</td>\n",
       "      <td>20914</td>\n",
       "      <td>Буфет Мади</td>\n",
       "      <td>нет</td>\n",
       "      <td>буфет</td>\n",
       "      <td>город Москва, Ленинградский проспект, дом 64</td>\n",
       "      <td>40</td>\n",
       "    </tr>\n",
       "  </tbody>\n",
       "</table>\n",
       "</div>"
      ],
      "text/plain": [
       "         id                           object_name chain object_type  \\\n",
       "2374  28603  КОМБИНАТ ПИТАНИЯ МГТУ ИМ.Н.Э.БАУМАНА   нет    столовая   \n",
       "2381  28611  КОМБИНАТ ПИТАНИЯ МГТУ ИМ.Н.Э.БАУМАНА   нет    столовая   \n",
       "2869  25031                          LALTRO BOSCO   нет    ресторан   \n",
       "3480  20913                            Буфет Мади   нет       буфет   \n",
       "3481  20914                            Буфет Мади   нет       буфет   \n",
       "\n",
       "                                                address  number  \n",
       "2374  город Москва, 2-я Бауманская улица, дом 5, стр...     100  \n",
       "2381  город Москва, 2-я Бауманская улица, дом 5, стр...     100  \n",
       "2869               город Москва, улица Петровка, дом 10     145  \n",
       "3480       город Москва, Ленинградский проспект, дом 64      40  \n",
       "3481       город Москва, Ленинградский проспект, дом 64      40  "
      ]
     },
     "execution_count": 7,
     "metadata": {},
     "output_type": "execute_result"
    }
   ],
   "source": [
    "# найдем дубликаты во всех столбцах, кроме столбца id\n",
    "data.loc[data.duplicated(subset = ['object_name','chain','object_type','address','number'], \\\n",
    "                         keep = False)].head()"
   ]
  },
  {
   "cell_type": "code",
   "execution_count": 8,
   "metadata": {},
   "outputs": [
    {
     "data": {
      "text/html": [
       "<div>\n",
       "<style scoped>\n",
       "    .dataframe tbody tr th:only-of-type {\n",
       "        vertical-align: middle;\n",
       "    }\n",
       "\n",
       "    .dataframe tbody tr th {\n",
       "        vertical-align: top;\n",
       "    }\n",
       "\n",
       "    .dataframe thead th {\n",
       "        text-align: right;\n",
       "    }\n",
       "</style>\n",
       "<table border=\"1\" class=\"dataframe\">\n",
       "  <thead>\n",
       "    <tr style=\"text-align: right;\">\n",
       "      <th></th>\n",
       "      <th>id</th>\n",
       "      <th>object_name</th>\n",
       "      <th>chain</th>\n",
       "      <th>object_type</th>\n",
       "      <th>address</th>\n",
       "      <th>number</th>\n",
       "    </tr>\n",
       "  </thead>\n",
       "  <tbody>\n",
       "    <tr>\n",
       "      <td>0</td>\n",
       "      <td>151635</td>\n",
       "      <td>СМЕТАНА</td>\n",
       "      <td>нет</td>\n",
       "      <td>кафе</td>\n",
       "      <td>город Москва, улица Егора Абакумова, дом 9</td>\n",
       "      <td>48</td>\n",
       "    </tr>\n",
       "    <tr>\n",
       "      <td>1</td>\n",
       "      <td>77874</td>\n",
       "      <td>Родник</td>\n",
       "      <td>нет</td>\n",
       "      <td>кафе</td>\n",
       "      <td>город Москва, улица Талалихина, дом 2/1, корпус 1</td>\n",
       "      <td>35</td>\n",
       "    </tr>\n",
       "    <tr>\n",
       "      <td>2</td>\n",
       "      <td>24309</td>\n",
       "      <td>Кафе «Академия»</td>\n",
       "      <td>нет</td>\n",
       "      <td>кафе</td>\n",
       "      <td>город Москва, Абельмановская улица, дом 6</td>\n",
       "      <td>95</td>\n",
       "    </tr>\n",
       "    <tr>\n",
       "      <td>3</td>\n",
       "      <td>21894</td>\n",
       "      <td>ПИЦЦЕТОРИЯ</td>\n",
       "      <td>да</td>\n",
       "      <td>кафе</td>\n",
       "      <td>город Москва, Абрамцевская улица, дом 1</td>\n",
       "      <td>40</td>\n",
       "    </tr>\n",
       "    <tr>\n",
       "      <td>4</td>\n",
       "      <td>119365</td>\n",
       "      <td>Кафе «Вишневая метель»</td>\n",
       "      <td>нет</td>\n",
       "      <td>кафе</td>\n",
       "      <td>город Москва, Абрамцевская улица, дом 9, корпус 1</td>\n",
       "      <td>50</td>\n",
       "    </tr>\n",
       "  </tbody>\n",
       "</table>\n",
       "</div>"
      ],
      "text/plain": [
       "       id             object_name chain object_type  \\\n",
       "0  151635                 СМЕТАНА   нет        кафе   \n",
       "1   77874                  Родник   нет        кафе   \n",
       "2   24309         Кафе «Академия»   нет        кафе   \n",
       "3   21894              ПИЦЦЕТОРИЯ    да        кафе   \n",
       "4  119365  Кафе «Вишневая метель»   нет        кафе   \n",
       "\n",
       "                                             address  number  \n",
       "0         город Москва, улица Егора Абакумова, дом 9      48  \n",
       "1  город Москва, улица Талалихина, дом 2/1, корпус 1      35  \n",
       "2          город Москва, Абельмановская улица, дом 6      95  \n",
       "3            город Москва, Абрамцевская улица, дом 1      40  \n",
       "4  город Москва, Абрамцевская улица, дом 9, корпус 1      50  "
      ]
     },
     "execution_count": 8,
     "metadata": {},
     "output_type": "execute_result"
    }
   ],
   "source": [
    "#удалим найденные дубликаты\n",
    "data.drop_duplicates(subset = ['object_name','chain','object_type','address','number'], \\\n",
    "                         keep = False).head()"
   ]
  },
  {
   "cell_type": "markdown",
   "metadata": {},
   "source": [
    "### Проверка числовых показателей"
   ]
  },
  {
   "cell_type": "markdown",
   "metadata": {},
   "source": [
    "Проверим некоторые параметры по столбцу number — количество посадочных мест:\n",
    "- минимальное значение равно 0;\n",
    "- максимальное значение равно 1700"
   ]
  },
  {
   "cell_type": "code",
   "execution_count": 9,
   "metadata": {},
   "outputs": [
    {
     "data": {
      "text/plain": [
       "12723    1700\n",
       "Name: number, dtype: int64"
      ]
     },
     "execution_count": 9,
     "metadata": {},
     "output_type": "execute_result"
    }
   ],
   "source": [
    "#найдем строку с максимальным значением столбца 'number'\n",
    "data[data['number'] == data['number'].max()]['number']"
   ]
  },
  {
   "cell_type": "code",
   "execution_count": 10,
   "metadata": {},
   "outputs": [
    {
     "data": {
      "text/plain": [
       "id                                                        199696\n",
       "object_name                                 Arena by Soho Family\n",
       "chain                                                        нет\n",
       "object_type                                                  бар\n",
       "address        город Москва, Кутузовский проспект, дом 36, ст...\n",
       "number                                                      1700\n",
       "Name: 12723, dtype: object"
      ]
     },
     "execution_count": 10,
     "metadata": {},
     "output_type": "execute_result"
    }
   ],
   "source": [
    "#выведем на экран строку с максимальным значением столбца 'number'\n",
    "data.loc[12723]"
   ]
  },
  {
   "cell_type": "markdown",
   "metadata": {},
   "source": [
    "Согласно информации из интернета: Arena by Soho Family рассчитана на прием до 4000 гостей и включает в себя просторный танцпол, гардероб на 6000 мест, балконы с барами, вместительную и комфортную бекстейдж зону, гримерные для артистов, VIP зал, караоке. То есть данные в 1700 посадочных мест правдоподобные."
   ]
  },
  {
   "cell_type": "code",
   "execution_count": 11,
   "metadata": {},
   "outputs": [
    {
     "data": {
      "text/html": [
       "<div>\n",
       "<style scoped>\n",
       "    .dataframe tbody tr th:only-of-type {\n",
       "        vertical-align: middle;\n",
       "    }\n",
       "\n",
       "    .dataframe tbody tr th {\n",
       "        vertical-align: top;\n",
       "    }\n",
       "\n",
       "    .dataframe thead th {\n",
       "        text-align: right;\n",
       "    }\n",
       "</style>\n",
       "<table border=\"1\" class=\"dataframe\">\n",
       "  <thead>\n",
       "    <tr style=\"text-align: right;\">\n",
       "      <th></th>\n",
       "      <th>id</th>\n",
       "      <th>object_name</th>\n",
       "      <th>chain</th>\n",
       "      <th>object_type</th>\n",
       "      <th>address</th>\n",
       "      <th>number</th>\n",
       "    </tr>\n",
       "  </thead>\n",
       "  <tbody>\n",
       "    <tr>\n",
       "      <td>137</td>\n",
       "      <td>115498</td>\n",
       "      <td>Пекарня &amp; Донер</td>\n",
       "      <td>нет</td>\n",
       "      <td>закусочная</td>\n",
       "      <td>город Москва, Бутырская улица, дом 9, корпус 2</td>\n",
       "      <td>0</td>\n",
       "    </tr>\n",
       "    <tr>\n",
       "      <td>154</td>\n",
       "      <td>152556</td>\n",
       "      <td>Шаурма в пите</td>\n",
       "      <td>нет</td>\n",
       "      <td>предприятие быстрого обслуживания</td>\n",
       "      <td>город Москва, Варшавское шоссе, дом 72, корпус 2</td>\n",
       "      <td>0</td>\n",
       "    </tr>\n",
       "    <tr>\n",
       "      <td>157</td>\n",
       "      <td>149568</td>\n",
       "      <td>Суши</td>\n",
       "      <td>нет</td>\n",
       "      <td>предприятие быстрого обслуживания</td>\n",
       "      <td>город Москва, улица Маршала Василевского, дом ...</td>\n",
       "      <td>0</td>\n",
       "    </tr>\n",
       "    <tr>\n",
       "      <td>190</td>\n",
       "      <td>126956</td>\n",
       "      <td>Шаурма, куры-гриль</td>\n",
       "      <td>нет</td>\n",
       "      <td>предприятие быстрого обслуживания</td>\n",
       "      <td>город Москва, 1-я Владимирская улица, дом 21</td>\n",
       "      <td>0</td>\n",
       "    </tr>\n",
       "    <tr>\n",
       "      <td>195</td>\n",
       "      <td>149531</td>\n",
       "      <td>Шаурма, куры-гриль</td>\n",
       "      <td>нет</td>\n",
       "      <td>предприятие быстрого обслуживания</td>\n",
       "      <td>город Москва, 2-я Владимирская улица, дом 44/10</td>\n",
       "      <td>0</td>\n",
       "    </tr>\n",
       "  </tbody>\n",
       "</table>\n",
       "</div>"
      ],
      "text/plain": [
       "         id         object_name chain                        object_type  \\\n",
       "137  115498     Пекарня & Донер   нет                         закусочная   \n",
       "154  152556       Шаурма в пите   нет  предприятие быстрого обслуживания   \n",
       "157  149568                Суши   нет  предприятие быстрого обслуживания   \n",
       "190  126956  Шаурма, куры-гриль   нет  предприятие быстрого обслуживания   \n",
       "195  149531  Шаурма, куры-гриль   нет  предприятие быстрого обслуживания   \n",
       "\n",
       "                                               address  number  \n",
       "137     город Москва, Бутырская улица, дом 9, корпус 2       0  \n",
       "154   город Москва, Варшавское шоссе, дом 72, корпус 2       0  \n",
       "157  город Москва, улица Маршала Василевского, дом ...       0  \n",
       "190       город Москва, 1-я Владимирская улица, дом 21       0  \n",
       "195    город Москва, 2-я Владимирская улица, дом 44/10       0  "
      ]
     },
     "execution_count": 11,
     "metadata": {},
     "output_type": "execute_result"
    }
   ],
   "source": [
    "#выведем на экран столбцы с количеством комнат равных 0\n",
    "data[data['number'] == data['number'].min()].head()"
   ]
  },
  {
   "cell_type": "markdown",
   "metadata": {},
   "source": [
    "Изучив данные по строкам со значением посадочных мест раных 0, видим, что все это - предприятия быстрого обслуживания, которые работают на доставку или \"на вынос\", в таких заведениях дествитедьно нет посадочных мест. То есть предоставленные данные так же правдоподобные."
   ]
  },
  {
   "cell_type": "markdown",
   "metadata": {},
   "source": [
    "***Вывод п.2:\n",
    "\n",
    "- явных дубликатов не обнаружено, НО в данных есть особенность - их собирали из различных источников и могло так получится, что один и тот же объект попал несколько раз. Поэтому мы  проверили это - выявили дубликаты без столбца id и потом их удалили;\n",
    "- числовые значение столбца number, которые вызвали подозрения, были проверены и подтверждена их прадоподобность."
   ]
  },
  {
   "cell_type": "markdown",
   "metadata": {},
   "source": [
    "## Исследовательский анализ"
   ]
  },
  {
   "cell_type": "markdown",
   "metadata": {},
   "source": [
    "### Cоотношение видов объектов общественного питания по количеству. "
   ]
  },
  {
   "cell_type": "code",
   "execution_count": 12,
   "metadata": {},
   "outputs": [
    {
     "data": {
      "text/html": [
       "<div>\n",
       "<style scoped>\n",
       "    .dataframe tbody tr th:only-of-type {\n",
       "        vertical-align: middle;\n",
       "    }\n",
       "\n",
       "    .dataframe tbody tr th {\n",
       "        vertical-align: top;\n",
       "    }\n",
       "\n",
       "    .dataframe thead th {\n",
       "        text-align: right;\n",
       "    }\n",
       "</style>\n",
       "<table border=\"1\" class=\"dataframe\">\n",
       "  <thead>\n",
       "    <tr style=\"text-align: right;\">\n",
       "      <th></th>\n",
       "      <th>id</th>\n",
       "      <th>object_name</th>\n",
       "      <th>chain</th>\n",
       "      <th>object_type</th>\n",
       "      <th>address</th>\n",
       "      <th>number</th>\n",
       "    </tr>\n",
       "  </thead>\n",
       "  <tbody>\n",
       "    <tr>\n",
       "      <td>0</td>\n",
       "      <td>151635</td>\n",
       "      <td>СМЕТАНА</td>\n",
       "      <td>нет</td>\n",
       "      <td>кафе</td>\n",
       "      <td>город Москва, улица Егора Абакумова, дом 9</td>\n",
       "      <td>48</td>\n",
       "    </tr>\n",
       "    <tr>\n",
       "      <td>1</td>\n",
       "      <td>77874</td>\n",
       "      <td>Родник</td>\n",
       "      <td>нет</td>\n",
       "      <td>кафе</td>\n",
       "      <td>город Москва, улица Талалихина, дом 2/1, корпус 1</td>\n",
       "      <td>35</td>\n",
       "    </tr>\n",
       "    <tr>\n",
       "      <td>2</td>\n",
       "      <td>24309</td>\n",
       "      <td>Кафе «Академия»</td>\n",
       "      <td>нет</td>\n",
       "      <td>кафе</td>\n",
       "      <td>город Москва, Абельмановская улица, дом 6</td>\n",
       "      <td>95</td>\n",
       "    </tr>\n",
       "    <tr>\n",
       "      <td>3</td>\n",
       "      <td>21894</td>\n",
       "      <td>ПИЦЦЕТОРИЯ</td>\n",
       "      <td>да</td>\n",
       "      <td>кафе</td>\n",
       "      <td>город Москва, Абрамцевская улица, дом 1</td>\n",
       "      <td>40</td>\n",
       "    </tr>\n",
       "    <tr>\n",
       "      <td>4</td>\n",
       "      <td>119365</td>\n",
       "      <td>Кафе «Вишневая метель»</td>\n",
       "      <td>нет</td>\n",
       "      <td>кафе</td>\n",
       "      <td>город Москва, Абрамцевская улица, дом 9, корпус 1</td>\n",
       "      <td>50</td>\n",
       "    </tr>\n",
       "  </tbody>\n",
       "</table>\n",
       "</div>"
      ],
      "text/plain": [
       "       id             object_name chain object_type  \\\n",
       "0  151635                 СМЕТАНА   нет        кафе   \n",
       "1   77874                  Родник   нет        кафе   \n",
       "2   24309         Кафе «Академия»   нет        кафе   \n",
       "3   21894              ПИЦЦЕТОРИЯ    да        кафе   \n",
       "4  119365  Кафе «Вишневая метель»   нет        кафе   \n",
       "\n",
       "                                             address  number  \n",
       "0         город Москва, улица Егора Абакумова, дом 9      48  \n",
       "1  город Москва, улица Талалихина, дом 2/1, корпус 1      35  \n",
       "2          город Москва, Абельмановская улица, дом 6      95  \n",
       "3            город Москва, Абрамцевская улица, дом 1      40  \n",
       "4  город Москва, Абрамцевская улица, дом 9, корпус 1      50  "
      ]
     },
     "execution_count": 12,
     "metadata": {},
     "output_type": "execute_result"
    }
   ],
   "source": [
    "data.head()"
   ]
  },
  {
   "cell_type": "code",
   "execution_count": 13,
   "metadata": {},
   "outputs": [
    {
     "data": {
      "text/plain": [
       "кафе                                 6099\n",
       "столовая                             2587\n",
       "ресторан                             2285\n",
       "предприятие быстрого обслуживания    1923\n",
       "бар                                   856\n",
       "буфет                                 585\n",
       "кафетерий                             398\n",
       "закусочная                            360\n",
       "магазин (отдел кулинарии)             273\n",
       "Name: object_type, dtype: int64"
      ]
     },
     "execution_count": 13,
     "metadata": {},
     "output_type": "execute_result"
    }
   ],
   "source": [
    "#соберем все уникальные совпадения столбца 'object_type'\n",
    "data['object_type'].value_counts()\n"
   ]
  },
  {
   "cell_type": "code",
   "execution_count": 14,
   "metadata": {},
   "outputs": [
    {
     "data": {
      "text/html": [
       "<div>\n",
       "<style scoped>\n",
       "    .dataframe tbody tr th:only-of-type {\n",
       "        vertical-align: middle;\n",
       "    }\n",
       "\n",
       "    .dataframe tbody tr th {\n",
       "        vertical-align: top;\n",
       "    }\n",
       "\n",
       "    .dataframe thead th {\n",
       "        text-align: right;\n",
       "    }\n",
       "</style>\n",
       "<table border=\"1\" class=\"dataframe\">\n",
       "  <thead>\n",
       "    <tr style=\"text-align: right;\">\n",
       "      <th></th>\n",
       "      <th>index</th>\n",
       "      <th>object_type</th>\n",
       "    </tr>\n",
       "  </thead>\n",
       "  <tbody>\n",
       "    <tr>\n",
       "      <td>0</td>\n",
       "      <td>кафе</td>\n",
       "      <td>6099</td>\n",
       "    </tr>\n",
       "    <tr>\n",
       "      <td>1</td>\n",
       "      <td>столовая</td>\n",
       "      <td>2587</td>\n",
       "    </tr>\n",
       "    <tr>\n",
       "      <td>2</td>\n",
       "      <td>ресторан</td>\n",
       "      <td>2285</td>\n",
       "    </tr>\n",
       "    <tr>\n",
       "      <td>3</td>\n",
       "      <td>предприятие быстрого обслуживания</td>\n",
       "      <td>1923</td>\n",
       "    </tr>\n",
       "    <tr>\n",
       "      <td>4</td>\n",
       "      <td>бар</td>\n",
       "      <td>856</td>\n",
       "    </tr>\n",
       "    <tr>\n",
       "      <td>5</td>\n",
       "      <td>буфет</td>\n",
       "      <td>585</td>\n",
       "    </tr>\n",
       "    <tr>\n",
       "      <td>6</td>\n",
       "      <td>кафетерий</td>\n",
       "      <td>398</td>\n",
       "    </tr>\n",
       "    <tr>\n",
       "      <td>7</td>\n",
       "      <td>закусочная</td>\n",
       "      <td>360</td>\n",
       "    </tr>\n",
       "    <tr>\n",
       "      <td>8</td>\n",
       "      <td>магазин (отдел кулинарии)</td>\n",
       "      <td>273</td>\n",
       "    </tr>\n",
       "  </tbody>\n",
       "</table>\n",
       "</div>"
      ],
      "text/plain": [
       "                               index  object_type\n",
       "0                               кафе         6099\n",
       "1                           столовая         2587\n",
       "2                           ресторан         2285\n",
       "3  предприятие быстрого обслуживания         1923\n",
       "4                                бар          856\n",
       "5                              буфет          585\n",
       "6                          кафетерий          398\n",
       "7                         закусочная          360\n",
       "8          магазин (отдел кулинарии)          273"
      ]
     },
     "execution_count": 14,
     "metadata": {},
     "output_type": "execute_result"
    }
   ],
   "source": [
    "#построим датафрейм и сбросим индексы\n",
    "uniq_type = pd.DataFrame(data['object_type'].value_counts()).reset_index()    \n",
    "uniq_type"
   ]
  },
  {
   "cell_type": "code",
   "execution_count": 15,
   "metadata": {},
   "outputs": [
    {
     "data": {
      "text/plain": [
       "Text(0, 0.5, 'Тип объекта')"
      ]
     },
     "execution_count": 15,
     "metadata": {},
     "output_type": "execute_result"
    },
    {
     "data": {
      "image/png": "[encoded data removed]",
      "text/plain": [
       "<Figure size 432x288 with 1 Axes>"
      ]
     },
     "metadata": {
      "needs_background": "light"
     },
     "output_type": "display_data"
    }
   ],
   "source": [
    "#построим столбчатую диаграмму\n",
    "ax = sns.barplot(x='object_type', y='index', data=uniq_type, color = 'blue', alpha=0.7) \n",
    "ax.set_title('Cоотношение видов объектов общ.пит. по кол-ву')\n",
    "ax.set_xlabel('Кол-во')\n",
    "ax.set_ylabel('Тип объекта')\n",
    "#plt.xticks(rotation=90)\n",
    "#plt.yticks(rotation=90)"
   ]
  },
  {
   "cell_type": "markdown",
   "metadata": {},
   "source": [
    "Согласно графика можно сделать вывод, что самый популярный вид объекта общ.пит. - кафе, а самый мало распространенный вид в Москве - магазин(отдел кулинарии)"
   ]
  },
  {
   "cell_type": "markdown",
   "metadata": {},
   "source": [
    "### Соотношение сетевых и несетевых заведений по количеству. "
   ]
  },
  {
   "cell_type": "code",
   "execution_count": 16,
   "metadata": {},
   "outputs": [
    {
     "data": {
      "text/plain": [
       "нет    12398\n",
       "да      2968\n",
       "Name: chain, dtype: int64"
      ]
     },
     "execution_count": 16,
     "metadata": {},
     "output_type": "execute_result"
    }
   ],
   "source": [
    "#соберем все уникальные совпадения столбца 'chain'\n",
    "data['chain'].value_counts()"
   ]
  },
  {
   "cell_type": "code",
   "execution_count": 17,
   "metadata": {},
   "outputs": [
    {
     "data": {
      "text/plain": [
       "4.17722371967655"
      ]
     },
     "execution_count": 17,
     "metadata": {},
     "output_type": "execute_result"
    }
   ],
   "source": [
    "#посчитаем соотношение сетевых и несетевых заведений по количеству\n",
    "(data[data['chain'] == 'нет']['chain']).count() / (data[data['chain'] == 'да']['chain']).count()"
   ]
  },
  {
   "cell_type": "code",
   "execution_count": 18,
   "metadata": {},
   "outputs": [
    {
     "data": {
      "text/html": [
       "<div>\n",
       "<style scoped>\n",
       "    .dataframe tbody tr th:only-of-type {\n",
       "        vertical-align: middle;\n",
       "    }\n",
       "\n",
       "    .dataframe tbody tr th {\n",
       "        vertical-align: top;\n",
       "    }\n",
       "\n",
       "    .dataframe thead th {\n",
       "        text-align: right;\n",
       "    }\n",
       "</style>\n",
       "<table border=\"1\" class=\"dataframe\">\n",
       "  <thead>\n",
       "    <tr style=\"text-align: right;\">\n",
       "      <th></th>\n",
       "      <th>index</th>\n",
       "      <th>chain</th>\n",
       "    </tr>\n",
       "  </thead>\n",
       "  <tbody>\n",
       "    <tr>\n",
       "      <td>0</td>\n",
       "      <td>нет</td>\n",
       "      <td>12398</td>\n",
       "    </tr>\n",
       "    <tr>\n",
       "      <td>1</td>\n",
       "      <td>да</td>\n",
       "      <td>2968</td>\n",
       "    </tr>\n",
       "  </tbody>\n",
       "</table>\n",
       "</div>"
      ],
      "text/plain": [
       "  index  chain\n",
       "0   нет  12398\n",
       "1    да   2968"
      ]
     },
     "execution_count": 18,
     "metadata": {},
     "output_type": "execute_result"
    }
   ],
   "source": [
    "#построим датафрейм и сбросим индексы\n",
    "uniq_chain = pd.DataFrame(data['chain'].value_counts()).reset_index() \n",
    "uniq_chain "
   ]
  },
  {
   "cell_type": "code",
   "execution_count": 19,
   "metadata": {},
   "outputs": [
    {
     "data": {
      "text/plain": [
       "(array([0, 1]), <a list of 2 Text xticklabel objects>)"
      ]
     },
     "execution_count": 19,
     "metadata": {},
     "output_type": "execute_result"
    },
    {
     "data": {
      "image/png": "[encoded data removed]",
      "text/plain": [
       "<Figure size 432x288 with 1 Axes>"
      ]
     },
     "metadata": {
      "needs_background": "light"
     },
     "output_type": "display_data"
    }
   ],
   "source": [
    "#построим столбчатую диаграмму\n",
    "ax = sns.barplot(x='index', y='chain', data=uniq_chain) \n",
    "ax.set_title('Cоотношение сетевых и несетевых объектов общ.пит. по кол-ву')\n",
    "ax.set_xlabel('Тип объекта')\n",
    "ax.set_ylabel('Кол-во')\n",
    "plt.xticks(rotation=45)"
   ]
  },
  {
   "cell_type": "markdown",
   "metadata": {},
   "source": [
    "Таким образом, количество несетевых объектов общ.пит. в 4 раза больше, чем количество сетевых."
   ]
  },
  {
   "cell_type": "markdown",
   "metadata": {},
   "source": [
    "### Сетевые объекты общественного питания"
   ]
  },
  {
   "cell_type": "code",
   "execution_count": 20,
   "metadata": {},
   "outputs": [
    {
     "data": {
      "text/html": [
       "<div>\n",
       "<style scoped>\n",
       "    .dataframe tbody tr th:only-of-type {\n",
       "        vertical-align: middle;\n",
       "    }\n",
       "\n",
       "    .dataframe tbody tr th {\n",
       "        vertical-align: top;\n",
       "    }\n",
       "\n",
       "    .dataframe thead th {\n",
       "        text-align: right;\n",
       "    }\n",
       "</style>\n",
       "<table border=\"1\" class=\"dataframe\">\n",
       "  <thead>\n",
       "    <tr style=\"text-align: right;\">\n",
       "      <th></th>\n",
       "      <th>id</th>\n",
       "      <th>object_name</th>\n",
       "      <th>chain</th>\n",
       "      <th>object_type</th>\n",
       "      <th>address</th>\n",
       "      <th>number</th>\n",
       "    </tr>\n",
       "  </thead>\n",
       "  <tbody>\n",
       "    <tr>\n",
       "      <td>3</td>\n",
       "      <td>21894</td>\n",
       "      <td>ПИЦЦЕТОРИЯ</td>\n",
       "      <td>да</td>\n",
       "      <td>кафе</td>\n",
       "      <td>город Москва, Абрамцевская улица, дом 1</td>\n",
       "      <td>40</td>\n",
       "    </tr>\n",
       "    <tr>\n",
       "      <td>6</td>\n",
       "      <td>148815</td>\n",
       "      <td>Брусника</td>\n",
       "      <td>да</td>\n",
       "      <td>кафе</td>\n",
       "      <td>город Москва, переулок Сивцев Вражек, дом 6/2</td>\n",
       "      <td>10</td>\n",
       "    </tr>\n",
       "    <tr>\n",
       "      <td>13</td>\n",
       "      <td>22579</td>\n",
       "      <td>Алло Пицца</td>\n",
       "      <td>да</td>\n",
       "      <td>кафе</td>\n",
       "      <td>город Москва, улица Авиаторов, дом 14</td>\n",
       "      <td>32</td>\n",
       "    </tr>\n",
       "    <tr>\n",
       "      <td>16</td>\n",
       "      <td>144107</td>\n",
       "      <td>Суши Wok</td>\n",
       "      <td>да</td>\n",
       "      <td>предприятие быстрого обслуживания</td>\n",
       "      <td>город Москва, Азовская улица, дом 3</td>\n",
       "      <td>7</td>\n",
       "    </tr>\n",
       "    <tr>\n",
       "      <td>18</td>\n",
       "      <td>58565</td>\n",
       "      <td>Тануки</td>\n",
       "      <td>да</td>\n",
       "      <td>ресторан</td>\n",
       "      <td>город Москва, Большая Академическая улица, дом 65</td>\n",
       "      <td>160</td>\n",
       "    </tr>\n",
       "  </tbody>\n",
       "</table>\n",
       "</div>"
      ],
      "text/plain": [
       "        id object_name chain                        object_type  \\\n",
       "3    21894  ПИЦЦЕТОРИЯ    да                               кафе   \n",
       "6   148815    Брусника    да                               кафе   \n",
       "13   22579  Алло Пицца    да                               кафе   \n",
       "16  144107    Суши Wok    да  предприятие быстрого обслуживания   \n",
       "18   58565      Тануки    да                           ресторан   \n",
       "\n",
       "                                              address  number  \n",
       "3             город Москва, Абрамцевская улица, дом 1      40  \n",
       "6       город Москва, переулок Сивцев Вражек, дом 6/2      10  \n",
       "13              город Москва, улица Авиаторов, дом 14      32  \n",
       "16                город Москва, Азовская улица, дом 3       7  \n",
       "18  город Москва, Большая Академическая улица, дом 65     160  "
      ]
     },
     "execution_count": 20,
     "metadata": {},
     "output_type": "execute_result"
    }
   ],
   "source": [
    "#выведим строки сетевых объектов общ.пит.\n",
    "type2 = data[data['chain'] == 'да']\n",
    "type2.head()"
   ]
  },
  {
   "cell_type": "markdown",
   "metadata": {},
   "source": [
    "- Для какого вида объекта общественного питания характерно сетевое распространение??"
   ]
  },
  {
   "cell_type": "code",
   "execution_count": 21,
   "metadata": {},
   "outputs": [
    {
     "data": {
      "text/html": [
       "<div>\n",
       "<style scoped>\n",
       "    .dataframe tbody tr th:only-of-type {\n",
       "        vertical-align: middle;\n",
       "    }\n",
       "\n",
       "    .dataframe tbody tr th {\n",
       "        vertical-align: top;\n",
       "    }\n",
       "\n",
       "    .dataframe thead th {\n",
       "        text-align: right;\n",
       "    }\n",
       "</style>\n",
       "<table border=\"1\" class=\"dataframe\">\n",
       "  <thead>\n",
       "    <tr style=\"text-align: right;\">\n",
       "      <th></th>\n",
       "      <th>id</th>\n",
       "      <th>object_name</th>\n",
       "      <th>chain</th>\n",
       "      <th>object_type</th>\n",
       "      <th>address</th>\n",
       "      <th>number</th>\n",
       "    </tr>\n",
       "  </thead>\n",
       "  <tbody>\n",
       "    <tr>\n",
       "      <td>0</td>\n",
       "      <td>151635</td>\n",
       "      <td>СМЕТАНА</td>\n",
       "      <td>нет</td>\n",
       "      <td>кафе</td>\n",
       "      <td>город Москва, улица Егора Абакумова, дом 9</td>\n",
       "      <td>48</td>\n",
       "    </tr>\n",
       "    <tr>\n",
       "      <td>1</td>\n",
       "      <td>77874</td>\n",
       "      <td>Родник</td>\n",
       "      <td>нет</td>\n",
       "      <td>кафе</td>\n",
       "      <td>город Москва, улица Талалихина, дом 2/1, корпус 1</td>\n",
       "      <td>35</td>\n",
       "    </tr>\n",
       "    <tr>\n",
       "      <td>2</td>\n",
       "      <td>24309</td>\n",
       "      <td>Кафе «Академия»</td>\n",
       "      <td>нет</td>\n",
       "      <td>кафе</td>\n",
       "      <td>город Москва, Абельмановская улица, дом 6</td>\n",
       "      <td>95</td>\n",
       "    </tr>\n",
       "    <tr>\n",
       "      <td>3</td>\n",
       "      <td>21894</td>\n",
       "      <td>ПИЦЦЕТОРИЯ</td>\n",
       "      <td>да</td>\n",
       "      <td>кафе</td>\n",
       "      <td>город Москва, Абрамцевская улица, дом 1</td>\n",
       "      <td>40</td>\n",
       "    </tr>\n",
       "    <tr>\n",
       "      <td>4</td>\n",
       "      <td>119365</td>\n",
       "      <td>Кафе «Вишневая метель»</td>\n",
       "      <td>нет</td>\n",
       "      <td>кафе</td>\n",
       "      <td>город Москва, Абрамцевская улица, дом 9, корпус 1</td>\n",
       "      <td>50</td>\n",
       "    </tr>\n",
       "  </tbody>\n",
       "</table>\n",
       "</div>"
      ],
      "text/plain": [
       "       id             object_name chain object_type  \\\n",
       "0  151635                 СМЕТАНА   нет        кафе   \n",
       "1   77874                  Родник   нет        кафе   \n",
       "2   24309         Кафе «Академия»   нет        кафе   \n",
       "3   21894              ПИЦЦЕТОРИЯ    да        кафе   \n",
       "4  119365  Кафе «Вишневая метель»   нет        кафе   \n",
       "\n",
       "                                             address  number  \n",
       "0         город Москва, улица Егора Абакумова, дом 9      48  \n",
       "1  город Москва, улица Талалихина, дом 2/1, корпус 1      35  \n",
       "2          город Москва, Абельмановская улица, дом 6      95  \n",
       "3            город Москва, Абрамцевская улица, дом 1      40  \n",
       "4  город Москва, Абрамцевская улица, дом 9, корпус 1      50  "
      ]
     },
     "execution_count": 21,
     "metadata": {},
     "output_type": "execute_result"
    }
   ],
   "source": [
    "data.head()"
   ]
  },
  {
   "cell_type": "code",
   "execution_count": 22,
   "metadata": {},
   "outputs": [
    {
     "data": {
      "text/html": [
       "<div>\n",
       "<style scoped>\n",
       "    .dataframe tbody tr th:only-of-type {\n",
       "        vertical-align: middle;\n",
       "    }\n",
       "\n",
       "    .dataframe tbody tr th {\n",
       "        vertical-align: top;\n",
       "    }\n",
       "\n",
       "    .dataframe thead th {\n",
       "        text-align: right;\n",
       "    }\n",
       "</style>\n",
       "<table border=\"1\" class=\"dataframe\">\n",
       "  <thead>\n",
       "    <tr style=\"text-align: right;\">\n",
       "      <th></th>\n",
       "      <th>chain</th>\n",
       "      <th>object_type</th>\n",
       "      <th>number</th>\n",
       "    </tr>\n",
       "  </thead>\n",
       "  <tbody>\n",
       "    <tr>\n",
       "      <td>0</td>\n",
       "      <td>да</td>\n",
       "      <td>бар</td>\n",
       "      <td>37</td>\n",
       "    </tr>\n",
       "    <tr>\n",
       "      <td>1</td>\n",
       "      <td>да</td>\n",
       "      <td>буфет</td>\n",
       "      <td>11</td>\n",
       "    </tr>\n",
       "    <tr>\n",
       "      <td>2</td>\n",
       "      <td>да</td>\n",
       "      <td>закусочная</td>\n",
       "      <td>56</td>\n",
       "    </tr>\n",
       "    <tr>\n",
       "      <td>3</td>\n",
       "      <td>да</td>\n",
       "      <td>кафе</td>\n",
       "      <td>1396</td>\n",
       "    </tr>\n",
       "    <tr>\n",
       "      <td>4</td>\n",
       "      <td>да</td>\n",
       "      <td>кафетерий</td>\n",
       "      <td>52</td>\n",
       "    </tr>\n",
       "    <tr>\n",
       "      <td>5</td>\n",
       "      <td>да</td>\n",
       "      <td>магазин (отдел кулинарии)</td>\n",
       "      <td>78</td>\n",
       "    </tr>\n",
       "    <tr>\n",
       "      <td>6</td>\n",
       "      <td>да</td>\n",
       "      <td>предприятие быстрого обслуживания</td>\n",
       "      <td>791</td>\n",
       "    </tr>\n",
       "    <tr>\n",
       "      <td>7</td>\n",
       "      <td>да</td>\n",
       "      <td>ресторан</td>\n",
       "      <td>544</td>\n",
       "    </tr>\n",
       "    <tr>\n",
       "      <td>8</td>\n",
       "      <td>да</td>\n",
       "      <td>столовая</td>\n",
       "      <td>3</td>\n",
       "    </tr>\n",
       "    <tr>\n",
       "      <td>9</td>\n",
       "      <td>нет</td>\n",
       "      <td>бар</td>\n",
       "      <td>819</td>\n",
       "    </tr>\n",
       "    <tr>\n",
       "      <td>10</td>\n",
       "      <td>нет</td>\n",
       "      <td>буфет</td>\n",
       "      <td>574</td>\n",
       "    </tr>\n",
       "    <tr>\n",
       "      <td>11</td>\n",
       "      <td>нет</td>\n",
       "      <td>закусочная</td>\n",
       "      <td>304</td>\n",
       "    </tr>\n",
       "    <tr>\n",
       "      <td>12</td>\n",
       "      <td>нет</td>\n",
       "      <td>кафе</td>\n",
       "      <td>4703</td>\n",
       "    </tr>\n",
       "    <tr>\n",
       "      <td>13</td>\n",
       "      <td>нет</td>\n",
       "      <td>кафетерий</td>\n",
       "      <td>346</td>\n",
       "    </tr>\n",
       "    <tr>\n",
       "      <td>14</td>\n",
       "      <td>нет</td>\n",
       "      <td>магазин (отдел кулинарии)</td>\n",
       "      <td>195</td>\n",
       "    </tr>\n",
       "    <tr>\n",
       "      <td>15</td>\n",
       "      <td>нет</td>\n",
       "      <td>предприятие быстрого обслуживания</td>\n",
       "      <td>1132</td>\n",
       "    </tr>\n",
       "    <tr>\n",
       "      <td>16</td>\n",
       "      <td>нет</td>\n",
       "      <td>ресторан</td>\n",
       "      <td>1741</td>\n",
       "    </tr>\n",
       "    <tr>\n",
       "      <td>17</td>\n",
       "      <td>нет</td>\n",
       "      <td>столовая</td>\n",
       "      <td>2584</td>\n",
       "    </tr>\n",
       "  </tbody>\n",
       "</table>\n",
       "</div>"
      ],
      "text/plain": [
       "   chain                        object_type  number\n",
       "0     да                                бар      37\n",
       "1     да                              буфет      11\n",
       "2     да                         закусочная      56\n",
       "3     да                               кафе    1396\n",
       "4     да                          кафетерий      52\n",
       "5     да          магазин (отдел кулинарии)      78\n",
       "6     да  предприятие быстрого обслуживания     791\n",
       "7     да                           ресторан     544\n",
       "8     да                           столовая       3\n",
       "9    нет                                бар     819\n",
       "10   нет                              буфет     574\n",
       "11   нет                         закусочная     304\n",
       "12   нет                               кафе    4703\n",
       "13   нет                          кафетерий     346\n",
       "14   нет          магазин (отдел кулинарии)     195\n",
       "15   нет  предприятие быстрого обслуживания    1132\n",
       "16   нет                           ресторан    1741\n",
       "17   нет                           столовая    2584"
      ]
     },
     "execution_count": 22,
     "metadata": {},
     "output_type": "execute_result"
    }
   ],
   "source": [
    "#сгруппируем по виду и типу объекта и посчитаем количество\n",
    "uniq_type3 = pd.DataFrame(data.groupby(['chain','object_type'])[['number']]\\\n",
    "                          .count()).reset_index() \n",
    "uniq_type3"
   ]
  },
  {
   "cell_type": "code",
   "execution_count": 23,
   "metadata": {},
   "outputs": [
    {
     "data": {
      "text/html": [
       "<div>\n",
       "<style scoped>\n",
       "    .dataframe tbody tr th:only-of-type {\n",
       "        vertical-align: middle;\n",
       "    }\n",
       "\n",
       "    .dataframe tbody tr th {\n",
       "        vertical-align: top;\n",
       "    }\n",
       "\n",
       "    .dataframe thead th {\n",
       "        text-align: right;\n",
       "    }\n",
       "</style>\n",
       "<table border=\"1\" class=\"dataframe\">\n",
       "  <thead>\n",
       "    <tr style=\"text-align: right;\">\n",
       "      <th></th>\n",
       "      <th>object_type</th>\n",
       "      <th>number</th>\n",
       "    </tr>\n",
       "  </thead>\n",
       "  <tbody>\n",
       "    <tr>\n",
       "      <td>0</td>\n",
       "      <td>бар</td>\n",
       "      <td>856</td>\n",
       "    </tr>\n",
       "    <tr>\n",
       "      <td>1</td>\n",
       "      <td>буфет</td>\n",
       "      <td>585</td>\n",
       "    </tr>\n",
       "    <tr>\n",
       "      <td>2</td>\n",
       "      <td>закусочная</td>\n",
       "      <td>360</td>\n",
       "    </tr>\n",
       "    <tr>\n",
       "      <td>3</td>\n",
       "      <td>кафе</td>\n",
       "      <td>6099</td>\n",
       "    </tr>\n",
       "    <tr>\n",
       "      <td>4</td>\n",
       "      <td>кафетерий</td>\n",
       "      <td>398</td>\n",
       "    </tr>\n",
       "    <tr>\n",
       "      <td>5</td>\n",
       "      <td>магазин (отдел кулинарии)</td>\n",
       "      <td>273</td>\n",
       "    </tr>\n",
       "    <tr>\n",
       "      <td>6</td>\n",
       "      <td>предприятие быстрого обслуживания</td>\n",
       "      <td>1923</td>\n",
       "    </tr>\n",
       "    <tr>\n",
       "      <td>7</td>\n",
       "      <td>ресторан</td>\n",
       "      <td>2285</td>\n",
       "    </tr>\n",
       "    <tr>\n",
       "      <td>8</td>\n",
       "      <td>столовая</td>\n",
       "      <td>2587</td>\n",
       "    </tr>\n",
       "  </tbody>\n",
       "</table>\n",
       "</div>"
      ],
      "text/plain": [
       "                         object_type  number\n",
       "0                                бар     856\n",
       "1                              буфет     585\n",
       "2                         закусочная     360\n",
       "3                               кафе    6099\n",
       "4                          кафетерий     398\n",
       "5          магазин (отдел кулинарии)     273\n",
       "6  предприятие быстрого обслуживания    1923\n",
       "7                           ресторан    2285\n",
       "8                           столовая    2587"
      ]
     },
     "execution_count": 23,
     "metadata": {},
     "output_type": "execute_result"
    }
   ],
   "source": [
    "#сгруппируем только по типу и посчитаем количество\n",
    "uniq_type4 = pd.DataFrame(data.groupby(['object_type'])[['number']]\\\n",
    "                          .count()).reset_index() \n",
    "\n",
    "uniq_type4"
   ]
  },
  {
   "cell_type": "code",
   "execution_count": 24,
   "metadata": {
    "scrolled": false
   },
   "outputs": [
    {
     "data": {
      "text/html": [
       "<div>\n",
       "<style scoped>\n",
       "    .dataframe tbody tr th:only-of-type {\n",
       "        vertical-align: middle;\n",
       "    }\n",
       "\n",
       "    .dataframe tbody tr th {\n",
       "        vertical-align: top;\n",
       "    }\n",
       "\n",
       "    .dataframe thead th {\n",
       "        text-align: right;\n",
       "    }\n",
       "</style>\n",
       "<table border=\"1\" class=\"dataframe\">\n",
       "  <thead>\n",
       "    <tr style=\"text-align: right;\">\n",
       "      <th></th>\n",
       "      <th>chain</th>\n",
       "      <th>object_type</th>\n",
       "      <th>number_x</th>\n",
       "      <th>number_y</th>\n",
       "    </tr>\n",
       "  </thead>\n",
       "  <tbody>\n",
       "    <tr>\n",
       "      <td>0</td>\n",
       "      <td>да</td>\n",
       "      <td>бар</td>\n",
       "      <td>37</td>\n",
       "      <td>856</td>\n",
       "    </tr>\n",
       "    <tr>\n",
       "      <td>1</td>\n",
       "      <td>да</td>\n",
       "      <td>буфет</td>\n",
       "      <td>11</td>\n",
       "      <td>585</td>\n",
       "    </tr>\n",
       "    <tr>\n",
       "      <td>2</td>\n",
       "      <td>да</td>\n",
       "      <td>закусочная</td>\n",
       "      <td>56</td>\n",
       "      <td>360</td>\n",
       "    </tr>\n",
       "    <tr>\n",
       "      <td>3</td>\n",
       "      <td>да</td>\n",
       "      <td>кафе</td>\n",
       "      <td>1396</td>\n",
       "      <td>6099</td>\n",
       "    </tr>\n",
       "    <tr>\n",
       "      <td>4</td>\n",
       "      <td>да</td>\n",
       "      <td>кафетерий</td>\n",
       "      <td>52</td>\n",
       "      <td>398</td>\n",
       "    </tr>\n",
       "    <tr>\n",
       "      <td>5</td>\n",
       "      <td>да</td>\n",
       "      <td>магазин (отдел кулинарии)</td>\n",
       "      <td>78</td>\n",
       "      <td>273</td>\n",
       "    </tr>\n",
       "    <tr>\n",
       "      <td>6</td>\n",
       "      <td>да</td>\n",
       "      <td>предприятие быстрого обслуживания</td>\n",
       "      <td>791</td>\n",
       "      <td>1923</td>\n",
       "    </tr>\n",
       "    <tr>\n",
       "      <td>7</td>\n",
       "      <td>да</td>\n",
       "      <td>ресторан</td>\n",
       "      <td>544</td>\n",
       "      <td>2285</td>\n",
       "    </tr>\n",
       "    <tr>\n",
       "      <td>8</td>\n",
       "      <td>да</td>\n",
       "      <td>столовая</td>\n",
       "      <td>3</td>\n",
       "      <td>2587</td>\n",
       "    </tr>\n",
       "    <tr>\n",
       "      <td>9</td>\n",
       "      <td>нет</td>\n",
       "      <td>бар</td>\n",
       "      <td>819</td>\n",
       "      <td>856</td>\n",
       "    </tr>\n",
       "    <tr>\n",
       "      <td>10</td>\n",
       "      <td>нет</td>\n",
       "      <td>буфет</td>\n",
       "      <td>574</td>\n",
       "      <td>585</td>\n",
       "    </tr>\n",
       "    <tr>\n",
       "      <td>11</td>\n",
       "      <td>нет</td>\n",
       "      <td>закусочная</td>\n",
       "      <td>304</td>\n",
       "      <td>360</td>\n",
       "    </tr>\n",
       "    <tr>\n",
       "      <td>12</td>\n",
       "      <td>нет</td>\n",
       "      <td>кафе</td>\n",
       "      <td>4703</td>\n",
       "      <td>6099</td>\n",
       "    </tr>\n",
       "    <tr>\n",
       "      <td>13</td>\n",
       "      <td>нет</td>\n",
       "      <td>кафетерий</td>\n",
       "      <td>346</td>\n",
       "      <td>398</td>\n",
       "    </tr>\n",
       "    <tr>\n",
       "      <td>14</td>\n",
       "      <td>нет</td>\n",
       "      <td>магазин (отдел кулинарии)</td>\n",
       "      <td>195</td>\n",
       "      <td>273</td>\n",
       "    </tr>\n",
       "    <tr>\n",
       "      <td>15</td>\n",
       "      <td>нет</td>\n",
       "      <td>предприятие быстрого обслуживания</td>\n",
       "      <td>1132</td>\n",
       "      <td>1923</td>\n",
       "    </tr>\n",
       "    <tr>\n",
       "      <td>16</td>\n",
       "      <td>нет</td>\n",
       "      <td>ресторан</td>\n",
       "      <td>1741</td>\n",
       "      <td>2285</td>\n",
       "    </tr>\n",
       "    <tr>\n",
       "      <td>17</td>\n",
       "      <td>нет</td>\n",
       "      <td>столовая</td>\n",
       "      <td>2584</td>\n",
       "      <td>2587</td>\n",
       "    </tr>\n",
       "  </tbody>\n",
       "</table>\n",
       "</div>"
      ],
      "text/plain": [
       "   chain                        object_type  number_x  number_y\n",
       "0     да                                бар        37       856\n",
       "1     да                              буфет        11       585\n",
       "2     да                         закусочная        56       360\n",
       "3     да                               кафе      1396      6099\n",
       "4     да                          кафетерий        52       398\n",
       "5     да          магазин (отдел кулинарии)        78       273\n",
       "6     да  предприятие быстрого обслуживания       791      1923\n",
       "7     да                           ресторан       544      2285\n",
       "8     да                           столовая         3      2587\n",
       "9    нет                                бар       819       856\n",
       "10   нет                              буфет       574       585\n",
       "11   нет                         закусочная       304       360\n",
       "12   нет                               кафе      4703      6099\n",
       "13   нет                          кафетерий       346       398\n",
       "14   нет          магазин (отдел кулинарии)       195       273\n",
       "15   нет  предприятие быстрого обслуживания      1132      1923\n",
       "16   нет                           ресторан      1741      2285\n",
       "17   нет                           столовая      2584      2587"
      ]
     },
     "execution_count": 24,
     "metadata": {},
     "output_type": "execute_result"
    }
   ],
   "source": [
    "#объединим два датасета по столбцу object_type\n",
    "uniq_type_mer = uniq_type3.merge(uniq_type4, on='object_type', how='left')\n",
    "uniq_type_mer"
   ]
  },
  {
   "cell_type": "code",
   "execution_count": 25,
   "metadata": {},
   "outputs": [
    {
     "data": {
      "text/html": [
       "<div>\n",
       "<style scoped>\n",
       "    .dataframe tbody tr th:only-of-type {\n",
       "        vertical-align: middle;\n",
       "    }\n",
       "\n",
       "    .dataframe tbody tr th {\n",
       "        vertical-align: top;\n",
       "    }\n",
       "\n",
       "    .dataframe thead th {\n",
       "        text-align: right;\n",
       "    }\n",
       "</style>\n",
       "<table border=\"1\" class=\"dataframe\">\n",
       "  <thead>\n",
       "    <tr style=\"text-align: right;\">\n",
       "      <th></th>\n",
       "      <th>chain</th>\n",
       "      <th>object_type</th>\n",
       "      <th>number_x</th>\n",
       "      <th>number_y</th>\n",
       "      <th>frac</th>\n",
       "    </tr>\n",
       "  </thead>\n",
       "  <tbody>\n",
       "    <tr>\n",
       "      <td>0</td>\n",
       "      <td>да</td>\n",
       "      <td>бар</td>\n",
       "      <td>37</td>\n",
       "      <td>856</td>\n",
       "      <td>4.32</td>\n",
       "    </tr>\n",
       "    <tr>\n",
       "      <td>1</td>\n",
       "      <td>да</td>\n",
       "      <td>буфет</td>\n",
       "      <td>11</td>\n",
       "      <td>585</td>\n",
       "      <td>1.88</td>\n",
       "    </tr>\n",
       "    <tr>\n",
       "      <td>2</td>\n",
       "      <td>да</td>\n",
       "      <td>закусочная</td>\n",
       "      <td>56</td>\n",
       "      <td>360</td>\n",
       "      <td>15.56</td>\n",
       "    </tr>\n",
       "    <tr>\n",
       "      <td>3</td>\n",
       "      <td>да</td>\n",
       "      <td>кафе</td>\n",
       "      <td>1396</td>\n",
       "      <td>6099</td>\n",
       "      <td>22.89</td>\n",
       "    </tr>\n",
       "    <tr>\n",
       "      <td>4</td>\n",
       "      <td>да</td>\n",
       "      <td>кафетерий</td>\n",
       "      <td>52</td>\n",
       "      <td>398</td>\n",
       "      <td>13.07</td>\n",
       "    </tr>\n",
       "    <tr>\n",
       "      <td>5</td>\n",
       "      <td>да</td>\n",
       "      <td>магазин (отдел кулинарии)</td>\n",
       "      <td>78</td>\n",
       "      <td>273</td>\n",
       "      <td>28.57</td>\n",
       "    </tr>\n",
       "    <tr>\n",
       "      <td>6</td>\n",
       "      <td>да</td>\n",
       "      <td>предприятие быстрого обслуживания</td>\n",
       "      <td>791</td>\n",
       "      <td>1923</td>\n",
       "      <td>41.13</td>\n",
       "    </tr>\n",
       "    <tr>\n",
       "      <td>7</td>\n",
       "      <td>да</td>\n",
       "      <td>ресторан</td>\n",
       "      <td>544</td>\n",
       "      <td>2285</td>\n",
       "      <td>23.81</td>\n",
       "    </tr>\n",
       "    <tr>\n",
       "      <td>8</td>\n",
       "      <td>да</td>\n",
       "      <td>столовая</td>\n",
       "      <td>3</td>\n",
       "      <td>2587</td>\n",
       "      <td>0.12</td>\n",
       "    </tr>\n",
       "    <tr>\n",
       "      <td>9</td>\n",
       "      <td>нет</td>\n",
       "      <td>бар</td>\n",
       "      <td>819</td>\n",
       "      <td>856</td>\n",
       "      <td>95.68</td>\n",
       "    </tr>\n",
       "    <tr>\n",
       "      <td>10</td>\n",
       "      <td>нет</td>\n",
       "      <td>буфет</td>\n",
       "      <td>574</td>\n",
       "      <td>585</td>\n",
       "      <td>98.12</td>\n",
       "    </tr>\n",
       "    <tr>\n",
       "      <td>11</td>\n",
       "      <td>нет</td>\n",
       "      <td>закусочная</td>\n",
       "      <td>304</td>\n",
       "      <td>360</td>\n",
       "      <td>84.44</td>\n",
       "    </tr>\n",
       "    <tr>\n",
       "      <td>12</td>\n",
       "      <td>нет</td>\n",
       "      <td>кафе</td>\n",
       "      <td>4703</td>\n",
       "      <td>6099</td>\n",
       "      <td>77.11</td>\n",
       "    </tr>\n",
       "    <tr>\n",
       "      <td>13</td>\n",
       "      <td>нет</td>\n",
       "      <td>кафетерий</td>\n",
       "      <td>346</td>\n",
       "      <td>398</td>\n",
       "      <td>86.93</td>\n",
       "    </tr>\n",
       "    <tr>\n",
       "      <td>14</td>\n",
       "      <td>нет</td>\n",
       "      <td>магазин (отдел кулинарии)</td>\n",
       "      <td>195</td>\n",
       "      <td>273</td>\n",
       "      <td>71.43</td>\n",
       "    </tr>\n",
       "    <tr>\n",
       "      <td>15</td>\n",
       "      <td>нет</td>\n",
       "      <td>предприятие быстрого обслуживания</td>\n",
       "      <td>1132</td>\n",
       "      <td>1923</td>\n",
       "      <td>58.87</td>\n",
       "    </tr>\n",
       "    <tr>\n",
       "      <td>16</td>\n",
       "      <td>нет</td>\n",
       "      <td>ресторан</td>\n",
       "      <td>1741</td>\n",
       "      <td>2285</td>\n",
       "      <td>76.19</td>\n",
       "    </tr>\n",
       "    <tr>\n",
       "      <td>17</td>\n",
       "      <td>нет</td>\n",
       "      <td>столовая</td>\n",
       "      <td>2584</td>\n",
       "      <td>2587</td>\n",
       "      <td>99.88</td>\n",
       "    </tr>\n",
       "  </tbody>\n",
       "</table>\n",
       "</div>"
      ],
      "text/plain": [
       "   chain                        object_type  number_x  number_y  frac\n",
       "0     да                                бар        37       856  4.32\n",
       "1     да                              буфет        11       585  1.88\n",
       "2     да                         закусочная        56       360 15.56\n",
       "3     да                               кафе      1396      6099 22.89\n",
       "4     да                          кафетерий        52       398 13.07\n",
       "5     да          магазин (отдел кулинарии)        78       273 28.57\n",
       "6     да  предприятие быстрого обслуживания       791      1923 41.13\n",
       "7     да                           ресторан       544      2285 23.81\n",
       "8     да                           столовая         3      2587  0.12\n",
       "9    нет                                бар       819       856 95.68\n",
       "10   нет                              буфет       574       585 98.12\n",
       "11   нет                         закусочная       304       360 84.44\n",
       "12   нет                               кафе      4703      6099 77.11\n",
       "13   нет                          кафетерий       346       398 86.93\n",
       "14   нет          магазин (отдел кулинарии)       195       273 71.43\n",
       "15   нет  предприятие быстрого обслуживания      1132      1923 58.87\n",
       "16   нет                           ресторан      1741      2285 76.19\n",
       "17   нет                           столовая      2584      2587 99.88"
      ]
     },
     "execution_count": 25,
     "metadata": {},
     "output_type": "execute_result"
    }
   ],
   "source": [
    "#добавим новый столбец с расчетом доли сетевых/несетевых объектов в общем количестве \n",
    "#заведений одного типа\n",
    "\n",
    "uniq_type_mer['frac'] = (uniq_type_mer['number_x'] / uniq_type_mer['number_y'])*100\n",
    "uniq_type_mer"
   ]
  },
  {
   "cell_type": "code",
   "execution_count": 26,
   "metadata": {},
   "outputs": [
    {
     "data": {
      "text/html": [
       "<div>\n",
       "<style scoped>\n",
       "    .dataframe tbody tr th:only-of-type {\n",
       "        vertical-align: middle;\n",
       "    }\n",
       "\n",
       "    .dataframe tbody tr th {\n",
       "        vertical-align: top;\n",
       "    }\n",
       "\n",
       "    .dataframe thead th {\n",
       "        text-align: right;\n",
       "    }\n",
       "</style>\n",
       "<table border=\"1\" class=\"dataframe\">\n",
       "  <thead>\n",
       "    <tr style=\"text-align: right;\">\n",
       "      <th></th>\n",
       "      <th>chain</th>\n",
       "      <th>object_type</th>\n",
       "      <th>number_x</th>\n",
       "      <th>number_y</th>\n",
       "      <th>frac</th>\n",
       "    </tr>\n",
       "  </thead>\n",
       "  <tbody>\n",
       "    <tr>\n",
       "      <td>8</td>\n",
       "      <td>да</td>\n",
       "      <td>столовая</td>\n",
       "      <td>3</td>\n",
       "      <td>2587</td>\n",
       "      <td>0.12</td>\n",
       "    </tr>\n",
       "    <tr>\n",
       "      <td>1</td>\n",
       "      <td>да</td>\n",
       "      <td>буфет</td>\n",
       "      <td>11</td>\n",
       "      <td>585</td>\n",
       "      <td>1.88</td>\n",
       "    </tr>\n",
       "    <tr>\n",
       "      <td>0</td>\n",
       "      <td>да</td>\n",
       "      <td>бар</td>\n",
       "      <td>37</td>\n",
       "      <td>856</td>\n",
       "      <td>4.32</td>\n",
       "    </tr>\n",
       "    <tr>\n",
       "      <td>4</td>\n",
       "      <td>да</td>\n",
       "      <td>кафетерий</td>\n",
       "      <td>52</td>\n",
       "      <td>398</td>\n",
       "      <td>13.07</td>\n",
       "    </tr>\n",
       "    <tr>\n",
       "      <td>2</td>\n",
       "      <td>да</td>\n",
       "      <td>закусочная</td>\n",
       "      <td>56</td>\n",
       "      <td>360</td>\n",
       "      <td>15.56</td>\n",
       "    </tr>\n",
       "    <tr>\n",
       "      <td>3</td>\n",
       "      <td>да</td>\n",
       "      <td>кафе</td>\n",
       "      <td>1396</td>\n",
       "      <td>6099</td>\n",
       "      <td>22.89</td>\n",
       "    </tr>\n",
       "    <tr>\n",
       "      <td>7</td>\n",
       "      <td>да</td>\n",
       "      <td>ресторан</td>\n",
       "      <td>544</td>\n",
       "      <td>2285</td>\n",
       "      <td>23.81</td>\n",
       "    </tr>\n",
       "    <tr>\n",
       "      <td>5</td>\n",
       "      <td>да</td>\n",
       "      <td>магазин (отдел кулинарии)</td>\n",
       "      <td>78</td>\n",
       "      <td>273</td>\n",
       "      <td>28.57</td>\n",
       "    </tr>\n",
       "    <tr>\n",
       "      <td>6</td>\n",
       "      <td>да</td>\n",
       "      <td>предприятие быстрого обслуживания</td>\n",
       "      <td>791</td>\n",
       "      <td>1923</td>\n",
       "      <td>41.13</td>\n",
       "    </tr>\n",
       "  </tbody>\n",
       "</table>\n",
       "</div>"
      ],
      "text/plain": [
       "  chain                        object_type  number_x  number_y  frac\n",
       "8    да                           столовая         3      2587  0.12\n",
       "1    да                              буфет        11       585  1.88\n",
       "0    да                                бар        37       856  4.32\n",
       "4    да                          кафетерий        52       398 13.07\n",
       "2    да                         закусочная        56       360 15.56\n",
       "3    да                               кафе      1396      6099 22.89\n",
       "7    да                           ресторан       544      2285 23.81\n",
       "5    да          магазин (отдел кулинарии)        78       273 28.57\n",
       "6    да  предприятие быстрого обслуживания       791      1923 41.13"
      ]
     },
     "execution_count": 26,
     "metadata": {},
     "output_type": "execute_result"
    }
   ],
   "source": [
    "#выделим из таблицы uniq_type_mer только данные по сетевым заведениям\n",
    "ch = uniq_type_mer.query(\"chain=='да'\").sort_values(by='frac', ascending=True)\n",
    "ch"
   ]
  },
  {
   "cell_type": "code",
   "execution_count": 27,
   "metadata": {},
   "outputs": [
    {
     "data": {
      "text/plain": [
       "Text(0, 0.5, 'Тип объекта')"
      ]
     },
     "execution_count": 27,
     "metadata": {},
     "output_type": "execute_result"
    },
    {
     "data": {
      "image/png": "[encoded data removed]",
      "text/plain": [
       "<Figure size 432x288 with 1 Axes>"
      ]
     },
     "metadata": {
      "needs_background": "light"
     },
     "output_type": "display_data"
    }
   ],
   "source": [
    "#построим столбчатую диаграмму\n",
    "ax = sns.barplot(x='frac', y='object_type', data=ch, color = 'blue', alpha=0.7) \n",
    "ax.set_title('Доля сетевого распространения')\n",
    "ax.set_xlabel('%%')\n",
    "ax.set_ylabel('Тип объекта')\n",
    "#plt.xticks(rotation=90)\n",
    "#plt.yticks(rotation=90)"
   ]
  },
  {
   "cell_type": "markdown",
   "metadata": {},
   "source": [
    "То есть делаем вывод: не смотря на то, что несетевое распространение объектов общ.пит. значительно превышает сетевое, для типа объекта  - предприятие быстрого обслуживания - характерно сетевое распространение."
   ]
  },
  {
   "cell_type": "code",
   "execution_count": 28,
   "metadata": {},
   "outputs": [
    {
     "data": {
      "image/png": "[encoded data removed]",
      "text/plain": [
       "<Figure size 648x432 with 1 Axes>"
      ]
     },
     "metadata": {
      "needs_background": "light"
     },
     "output_type": "display_data"
    }
   ],
   "source": [
    "vis_ = uniq_type_mer.query(\"chain=='да'\").sort_values(by='frac', ascending=True)\n",
    "\n",
    "fig, ax = plt.subplots(figsize=(9, 6))\n",
    "ax.barh(width=vis_['frac'], y=vis_['object_type'], color='#748BFF')\n",
    "ax.set_title(\"Доля сетевого распространения\")\n",
    "ax.grid(axis='x', color='white', alpha=0.5, linewidth=1)\n",
    "sns.despine(right=True, top=True, bottom=True);"
   ]
  },
  {
   "cell_type": "markdown",
   "metadata": {},
   "source": [
    "- Что характерно для сетевых заведений: \n",
    "много заведений с небольшим числом посадочных мест в каждом или мало заведений с большим количеством посадочных мест?"
   ]
  },
  {
   "cell_type": "code",
   "execution_count": 29,
   "metadata": {},
   "outputs": [
    {
     "data": {
      "text/html": [
       "<div>\n",
       "<style scoped>\n",
       "    .dataframe tbody tr th:only-of-type {\n",
       "        vertical-align: middle;\n",
       "    }\n",
       "\n",
       "    .dataframe tbody tr th {\n",
       "        vertical-align: top;\n",
       "    }\n",
       "\n",
       "    .dataframe thead th {\n",
       "        text-align: right;\n",
       "    }\n",
       "</style>\n",
       "<table border=\"1\" class=\"dataframe\">\n",
       "  <thead>\n",
       "    <tr style=\"text-align: right;\">\n",
       "      <th></th>\n",
       "      <th>id</th>\n",
       "      <th>object_name</th>\n",
       "      <th>chain</th>\n",
       "      <th>object_type</th>\n",
       "      <th>address</th>\n",
       "      <th>number</th>\n",
       "    </tr>\n",
       "  </thead>\n",
       "  <tbody>\n",
       "    <tr>\n",
       "      <td>3</td>\n",
       "      <td>21894</td>\n",
       "      <td>ПИЦЦЕТОРИЯ</td>\n",
       "      <td>да</td>\n",
       "      <td>кафе</td>\n",
       "      <td>город Москва, Абрамцевская улица, дом 1</td>\n",
       "      <td>40</td>\n",
       "    </tr>\n",
       "    <tr>\n",
       "      <td>6</td>\n",
       "      <td>148815</td>\n",
       "      <td>Брусника</td>\n",
       "      <td>да</td>\n",
       "      <td>кафе</td>\n",
       "      <td>город Москва, переулок Сивцев Вражек, дом 6/2</td>\n",
       "      <td>10</td>\n",
       "    </tr>\n",
       "    <tr>\n",
       "      <td>13</td>\n",
       "      <td>22579</td>\n",
       "      <td>Алло Пицца</td>\n",
       "      <td>да</td>\n",
       "      <td>кафе</td>\n",
       "      <td>город Москва, улица Авиаторов, дом 14</td>\n",
       "      <td>32</td>\n",
       "    </tr>\n",
       "    <tr>\n",
       "      <td>16</td>\n",
       "      <td>144107</td>\n",
       "      <td>Суши Wok</td>\n",
       "      <td>да</td>\n",
       "      <td>предприятие быстрого обслуживания</td>\n",
       "      <td>город Москва, Азовская улица, дом 3</td>\n",
       "      <td>7</td>\n",
       "    </tr>\n",
       "    <tr>\n",
       "      <td>18</td>\n",
       "      <td>58565</td>\n",
       "      <td>Тануки</td>\n",
       "      <td>да</td>\n",
       "      <td>ресторан</td>\n",
       "      <td>город Москва, Большая Академическая улица, дом 65</td>\n",
       "      <td>160</td>\n",
       "    </tr>\n",
       "  </tbody>\n",
       "</table>\n",
       "</div>"
      ],
      "text/plain": [
       "        id object_name chain                        object_type  \\\n",
       "3    21894  ПИЦЦЕТОРИЯ    да                               кафе   \n",
       "6   148815    Брусника    да                               кафе   \n",
       "13   22579  Алло Пицца    да                               кафе   \n",
       "16  144107    Суши Wok    да  предприятие быстрого обслуживания   \n",
       "18   58565      Тануки    да                           ресторан   \n",
       "\n",
       "                                              address  number  \n",
       "3             город Москва, Абрамцевская улица, дом 1      40  \n",
       "6       город Москва, переулок Сивцев Вражек, дом 6/2      10  \n",
       "13              город Москва, улица Авиаторов, дом 14      32  \n",
       "16                город Москва, Азовская улица, дом 3       7  \n",
       "18  город Москва, Большая Академическая улица, дом 65     160  "
      ]
     },
     "execution_count": 29,
     "metadata": {},
     "output_type": "execute_result"
    }
   ],
   "source": [
    "type2.head()"
   ]
  },
  {
   "cell_type": "code",
   "execution_count": 30,
   "metadata": {},
   "outputs": [
    {
     "data": {
      "text/html": [
       "<div>\n",
       "<style scoped>\n",
       "    .dataframe tbody tr th:only-of-type {\n",
       "        vertical-align: middle;\n",
       "    }\n",
       "\n",
       "    .dataframe tbody tr th {\n",
       "        vertical-align: top;\n",
       "    }\n",
       "\n",
       "    .dataframe thead th {\n",
       "        text-align: right;\n",
       "    }\n",
       "</style>\n",
       "<table border=\"1\" class=\"dataframe\">\n",
       "  <thead>\n",
       "    <tr style=\"text-align: right;\">\n",
       "      <th></th>\n",
       "      <th>object_name</th>\n",
       "      <th>number</th>\n",
       "      <th>id</th>\n",
       "    </tr>\n",
       "  </thead>\n",
       "  <tbody>\n",
       "    <tr>\n",
       "      <td>0</td>\n",
       "      <td>Beverly Hills Diner</td>\n",
       "      <td>88.00</td>\n",
       "      <td>1</td>\n",
       "    </tr>\n",
       "    <tr>\n",
       "      <td>1</td>\n",
       "      <td>Bierloga</td>\n",
       "      <td>75.00</td>\n",
       "      <td>1</td>\n",
       "    </tr>\n",
       "    <tr>\n",
       "      <td>2</td>\n",
       "      <td>Black &amp; White</td>\n",
       "      <td>40.00</td>\n",
       "      <td>1</td>\n",
       "    </tr>\n",
       "    <tr>\n",
       "      <td>3</td>\n",
       "      <td>Bocconcino</td>\n",
       "      <td>66.67</td>\n",
       "      <td>3</td>\n",
       "    </tr>\n",
       "    <tr>\n",
       "      <td>4</td>\n",
       "      <td>BooBo</td>\n",
       "      <td>46.00</td>\n",
       "      <td>1</td>\n",
       "    </tr>\n",
       "  </tbody>\n",
       "</table>\n",
       "</div>"
      ],
      "text/plain": [
       "           object_name  number  id\n",
       "0  Beverly Hills Diner   88.00   1\n",
       "1             Bierloga   75.00   1\n",
       "2        Black & White   40.00   1\n",
       "3           Bocconcino   66.67   3\n",
       "4                BooBo   46.00   1"
      ]
     },
     "execution_count": 30,
     "metadata": {},
     "output_type": "execute_result"
    }
   ],
   "source": [
    "#сгруппируем данные по сетям, рассчитаем среднее кол-во мест\n",
    "#и кол-во заведений в сети\n",
    "ch_group = type2.groupby('object_name', as_index=False).agg({'number': 'mean', 'id': 'count'})\n",
    "ch_group.head()"
   ]
  },
  {
   "cell_type": "code",
   "execution_count": 31,
   "metadata": {},
   "outputs": [
    {
     "data": {
      "image/png": "[encoded data removed]",
      "text/plain": [
       "<Figure size 648x432 with 1 Axes>"
      ]
     },
     "metadata": {
      "needs_background": "light"
     },
     "output_type": "display_data"
    }
   ],
   "source": [
    "#построим диаграмму рассеяния\n",
    "fig, ax = plt.subplots(figsize=(9, 6))\n",
    "ax.scatter(ch_group['number'], ch_group['id'], color='#748BFF', alpha=0.5)\n",
    "ax.set_title(\"Кол-во мест vs Кол-во заведений\")\n",
    "ax.grid(color='grey', alpha=0.5, linewidth=0.25)\n",
    "ax.set_xlabel(\"Среднее кол-во мест\")\n",
    "ax.set_ylabel(\"Кол-во заведений\")\n",
    "sns.despine(top=True, right=True);"
   ]
  },
  {
   "cell_type": "markdown",
   "metadata": {},
   "source": [
    "Из диаграммы видно, что сетевых объектов с малым количеством посадочных мест больше, чем сетевых объектов с большим количеством посадосчных мест."
   ]
  },
  {
   "cell_type": "code",
   "execution_count": 32,
   "metadata": {},
   "outputs": [
    {
     "data": {
      "text/html": [
       "<div>\n",
       "<style scoped>\n",
       "    .dataframe tbody tr th:only-of-type {\n",
       "        vertical-align: middle;\n",
       "    }\n",
       "\n",
       "    .dataframe tbody tr th {\n",
       "        vertical-align: top;\n",
       "    }\n",
       "\n",
       "    .dataframe thead th {\n",
       "        text-align: right;\n",
       "    }\n",
       "</style>\n",
       "<table border=\"1\" class=\"dataframe\">\n",
       "  <thead>\n",
       "    <tr style=\"text-align: right;\">\n",
       "      <th></th>\n",
       "      <th>object_name</th>\n",
       "      <th>number</th>\n",
       "      <th>id</th>\n",
       "    </tr>\n",
       "  </thead>\n",
       "  <tbody>\n",
       "    <tr>\n",
       "      <td>0</td>\n",
       "      <td>Beverly Hills Diner</td>\n",
       "      <td>88.00</td>\n",
       "      <td>1</td>\n",
       "    </tr>\n",
       "    <tr>\n",
       "      <td>1</td>\n",
       "      <td>Bierloga</td>\n",
       "      <td>75.00</td>\n",
       "      <td>1</td>\n",
       "    </tr>\n",
       "    <tr>\n",
       "      <td>2</td>\n",
       "      <td>Black &amp; White</td>\n",
       "      <td>40.00</td>\n",
       "      <td>1</td>\n",
       "    </tr>\n",
       "    <tr>\n",
       "      <td>3</td>\n",
       "      <td>Bocconcino</td>\n",
       "      <td>66.67</td>\n",
       "      <td>3</td>\n",
       "    </tr>\n",
       "    <tr>\n",
       "      <td>4</td>\n",
       "      <td>BooBo</td>\n",
       "      <td>46.00</td>\n",
       "      <td>1</td>\n",
       "    </tr>\n",
       "  </tbody>\n",
       "</table>\n",
       "</div>"
      ],
      "text/plain": [
       "           object_name  number  id\n",
       "0  Beverly Hills Diner   88.00   1\n",
       "1             Bierloga   75.00   1\n",
       "2        Black & White   40.00   1\n",
       "3           Bocconcino   66.67   3\n",
       "4                BooBo   46.00   1"
      ]
     },
     "execution_count": 32,
     "metadata": {},
     "output_type": "execute_result"
    }
   ],
   "source": [
    "vis_ = type2.groupby('object_name', as_index=False).agg({'number': 'mean', 'id': 'count'})\n",
    "vis_.head()"
   ]
  },
  {
   "cell_type": "code",
   "execution_count": 33,
   "metadata": {},
   "outputs": [
    {
     "data": {
      "image/png": "[encoded data removed]",
      "text/plain": [
       "<Figure size 648x432 with 1 Axes>"
      ]
     },
     "metadata": {
      "needs_background": "light"
     },
     "output_type": "display_data"
    }
   ],
   "source": [
    "fig, ax = plt.subplots(figsize=(9, 6))\n",
    "ax.scatter(vis_['number'], vis_['id'], color='#748BFF', alpha=0.25)\n",
    "ax.set_title(\"Кол-во мест vs Кол-во заведений\")\n",
    "ax.grid(color='grey', alpha=0.5, linewidth=0.25)\n",
    "ax.set_xlabel(\"Среднее кол-во мест\")\n",
    "ax.set_ylabel(\"Кол-во заведений\")\n",
    "sns.despine(top=True, right=True);"
   ]
  },
  {
   "cell_type": "markdown",
   "metadata": {},
   "source": [
    "### Среднее количество посадочных мест для каждого вида объекта общественного питания. "
   ]
  },
  {
   "cell_type": "code",
   "execution_count": 35,
   "metadata": {},
   "outputs": [
    {
     "data": {
      "text/html": [
       "<div>\n",
       "<style scoped>\n",
       "    .dataframe tbody tr th:only-of-type {\n",
       "        vertical-align: middle;\n",
       "    }\n",
       "\n",
       "    .dataframe tbody tr th {\n",
       "        vertical-align: top;\n",
       "    }\n",
       "\n",
       "    .dataframe thead th {\n",
       "        text-align: right;\n",
       "    }\n",
       "</style>\n",
       "<table border=\"1\" class=\"dataframe\">\n",
       "  <thead>\n",
       "    <tr style=\"text-align: right;\">\n",
       "      <th></th>\n",
       "      <th>id</th>\n",
       "      <th>object_name</th>\n",
       "      <th>chain</th>\n",
       "      <th>object_type</th>\n",
       "      <th>address</th>\n",
       "      <th>number</th>\n",
       "    </tr>\n",
       "  </thead>\n",
       "  <tbody>\n",
       "    <tr>\n",
       "      <td>0</td>\n",
       "      <td>151635</td>\n",
       "      <td>СМЕТАНА</td>\n",
       "      <td>нет</td>\n",
       "      <td>кафе</td>\n",
       "      <td>город Москва, улица Егора Абакумова, дом 9</td>\n",
       "      <td>48</td>\n",
       "    </tr>\n",
       "    <tr>\n",
       "      <td>1</td>\n",
       "      <td>77874</td>\n",
       "      <td>Родник</td>\n",
       "      <td>нет</td>\n",
       "      <td>кафе</td>\n",
       "      <td>город Москва, улица Талалихина, дом 2/1, корпус 1</td>\n",
       "      <td>35</td>\n",
       "    </tr>\n",
       "    <tr>\n",
       "      <td>2</td>\n",
       "      <td>24309</td>\n",
       "      <td>Кафе «Академия»</td>\n",
       "      <td>нет</td>\n",
       "      <td>кафе</td>\n",
       "      <td>город Москва, Абельмановская улица, дом 6</td>\n",
       "      <td>95</td>\n",
       "    </tr>\n",
       "    <tr>\n",
       "      <td>3</td>\n",
       "      <td>21894</td>\n",
       "      <td>ПИЦЦЕТОРИЯ</td>\n",
       "      <td>да</td>\n",
       "      <td>кафе</td>\n",
       "      <td>город Москва, Абрамцевская улица, дом 1</td>\n",
       "      <td>40</td>\n",
       "    </tr>\n",
       "    <tr>\n",
       "      <td>4</td>\n",
       "      <td>119365</td>\n",
       "      <td>Кафе «Вишневая метель»</td>\n",
       "      <td>нет</td>\n",
       "      <td>кафе</td>\n",
       "      <td>город Москва, Абрамцевская улица, дом 9, корпус 1</td>\n",
       "      <td>50</td>\n",
       "    </tr>\n",
       "  </tbody>\n",
       "</table>\n",
       "</div>"
      ],
      "text/plain": [
       "       id             object_name chain object_type  \\\n",
       "0  151635                 СМЕТАНА   нет        кафе   \n",
       "1   77874                  Родник   нет        кафе   \n",
       "2   24309         Кафе «Академия»   нет        кафе   \n",
       "3   21894              ПИЦЦЕТОРИЯ    да        кафе   \n",
       "4  119365  Кафе «Вишневая метель»   нет        кафе   \n",
       "\n",
       "                                             address  number  \n",
       "0         город Москва, улица Егора Абакумова, дом 9      48  \n",
       "1  город Москва, улица Талалихина, дом 2/1, корпус 1      35  \n",
       "2          город Москва, Абельмановская улица, дом 6      95  \n",
       "3            город Москва, Абрамцевская улица, дом 1      40  \n",
       "4  город Москва, Абрамцевская улица, дом 9, корпус 1      50  "
      ]
     },
     "execution_count": 35,
     "metadata": {},
     "output_type": "execute_result"
    }
   ],
   "source": [
    "data.head()"
   ]
  },
  {
   "cell_type": "code",
   "execution_count": 36,
   "metadata": {},
   "outputs": [
    {
     "data": {
      "text/html": [
       "<div>\n",
       "<style scoped>\n",
       "    .dataframe tbody tr th:only-of-type {\n",
       "        vertical-align: middle;\n",
       "    }\n",
       "\n",
       "    .dataframe tbody tr th {\n",
       "        vertical-align: top;\n",
       "    }\n",
       "\n",
       "    .dataframe thead th {\n",
       "        text-align: right;\n",
       "    }\n",
       "</style>\n",
       "<table border=\"1\" class=\"dataframe\">\n",
       "  <thead>\n",
       "    <tr style=\"text-align: right;\">\n",
       "      <th></th>\n",
       "      <th>object_type</th>\n",
       "      <th>number</th>\n",
       "    </tr>\n",
       "  </thead>\n",
       "  <tbody>\n",
       "    <tr>\n",
       "      <td>0</td>\n",
       "      <td>магазин (отдел кулинарии)</td>\n",
       "      <td>5.59</td>\n",
       "    </tr>\n",
       "    <tr>\n",
       "      <td>1</td>\n",
       "      <td>закусочная</td>\n",
       "      <td>7.61</td>\n",
       "    </tr>\n",
       "    <tr>\n",
       "      <td>2</td>\n",
       "      <td>кафетерий</td>\n",
       "      <td>9.12</td>\n",
       "    </tr>\n",
       "    <tr>\n",
       "      <td>3</td>\n",
       "      <td>предприятие быстрого обслуживания</td>\n",
       "      <td>20.55</td>\n",
       "    </tr>\n",
       "    <tr>\n",
       "      <td>4</td>\n",
       "      <td>кафе</td>\n",
       "      <td>39.72</td>\n",
       "    </tr>\n",
       "    <tr>\n",
       "      <td>5</td>\n",
       "      <td>бар</td>\n",
       "      <td>43.49</td>\n",
       "    </tr>\n",
       "    <tr>\n",
       "      <td>6</td>\n",
       "      <td>буфет</td>\n",
       "      <td>51.13</td>\n",
       "    </tr>\n",
       "    <tr>\n",
       "      <td>7</td>\n",
       "      <td>ресторан</td>\n",
       "      <td>96.83</td>\n",
       "    </tr>\n",
       "    <tr>\n",
       "      <td>8</td>\n",
       "      <td>столовая</td>\n",
       "      <td>130.25</td>\n",
       "    </tr>\n",
       "  </tbody>\n",
       "</table>\n",
       "</div>"
      ],
      "text/plain": [
       "                         object_type  number\n",
       "0          магазин (отдел кулинарии)    5.59\n",
       "1                         закусочная    7.61\n",
       "2                          кафетерий    9.12\n",
       "3  предприятие быстрого обслуживания   20.55\n",
       "4                               кафе   39.72\n",
       "5                                бар   43.49\n",
       "6                              буфет   51.13\n",
       "7                           ресторан   96.83\n",
       "8                           столовая  130.25"
      ]
     },
     "execution_count": 36,
     "metadata": {},
     "output_type": "execute_result"
    }
   ],
   "source": [
    "#построим сводную таблицу количества посадочных мест в разбивке по типу объекта\n",
    "ob_num = pd.DataFrame(data.pivot_table(index = 'object_type', values = 'number', aggfunc ='mean')\\\n",
    "                      .sort_values( by='number')).reset_index()\n",
    "ob_num"
   ]
  },
  {
   "cell_type": "code",
   "execution_count": 37,
   "metadata": {
    "scrolled": true
   },
   "outputs": [
    {
     "data": {
      "text/plain": [
       "Text(0, 0.5, 'Тип объекта')"
      ]
     },
     "execution_count": 37,
     "metadata": {},
     "output_type": "execute_result"
    },
    {
     "data": {
      "image/png": "[encoded data removed]",
      "text/plain": [
       "<Figure size 432x288 with 1 Axes>"
      ]
     },
     "metadata": {
      "needs_background": "light"
     },
     "output_type": "display_data"
    }
   ],
   "source": [
    "ax = sns.barplot(x='number', y='object_type', data=ob_num, color = 'blue', alpha=0.7) \n",
    "ax.set_title('ЛИДЕР ПО СРЕДНЕМУ КОЛИЧЕСТВУ ПОСАДОЧНЫХ МЕСТ')\n",
    "ax.set_xlabel('Кол-во')\n",
    "ax.set_ylabel('Тип объекта')\n",
    "#plt.xticks(rotation=80)\n"
   ]
  },
  {
   "cell_type": "markdown",
   "metadata": {},
   "source": [
    "Итак, лидером по среднему количеству посадочнух мест является тип объекта - столовая, а отдел кулинарии в магазинах имеет самое маленькое количество посадочных мест, что вполне логично."
   ]
  },
  {
   "cell_type": "markdown",
   "metadata": {},
   "source": [
    "### Как местоположение влияет на количество объектов общ.пит. в г. Москва"
   ]
  },
  {
   "cell_type": "markdown",
   "metadata": {},
   "source": [
    "#### Работа с данными"
   ]
  },
  {
   "cell_type": "markdown",
   "metadata": {},
   "source": [
    "##### Выделение улицы в отдельный столбец"
   ]
  },
  {
   "cell_type": "markdown",
   "metadata": {},
   "source": [
    "Выделим из общего адреса (столбец adress) только улицу и сохраним в отдельном столбце streetname."
   ]
  },
  {
   "cell_type": "code",
   "execution_count": 38,
   "metadata": {},
   "outputs": [
    {
     "data": {
      "text/html": [
       "<div>\n",
       "<style scoped>\n",
       "    .dataframe tbody tr th:only-of-type {\n",
       "        vertical-align: middle;\n",
       "    }\n",
       "\n",
       "    .dataframe tbody tr th {\n",
       "        vertical-align: top;\n",
       "    }\n",
       "\n",
       "    .dataframe thead th {\n",
       "        text-align: right;\n",
       "    }\n",
       "</style>\n",
       "<table border=\"1\" class=\"dataframe\">\n",
       "  <thead>\n",
       "    <tr style=\"text-align: right;\">\n",
       "      <th></th>\n",
       "      <th>id</th>\n",
       "      <th>object_name</th>\n",
       "      <th>chain</th>\n",
       "      <th>object_type</th>\n",
       "      <th>address</th>\n",
       "      <th>number</th>\n",
       "      <th>streetname</th>\n",
       "    </tr>\n",
       "  </thead>\n",
       "  <tbody>\n",
       "    <tr>\n",
       "      <td>0</td>\n",
       "      <td>151635</td>\n",
       "      <td>СМЕТАНА</td>\n",
       "      <td>нет</td>\n",
       "      <td>кафе</td>\n",
       "      <td>город Москва, улица Егора Абакумова, дом 9</td>\n",
       "      <td>48</td>\n",
       "      <td>улица Егора Абакумова</td>\n",
       "    </tr>\n",
       "    <tr>\n",
       "      <td>1</td>\n",
       "      <td>77874</td>\n",
       "      <td>Родник</td>\n",
       "      <td>нет</td>\n",
       "      <td>кафе</td>\n",
       "      <td>город Москва, улица Талалихина, дом 2/1, корпус 1</td>\n",
       "      <td>35</td>\n",
       "      <td>улица Талалихина</td>\n",
       "    </tr>\n",
       "    <tr>\n",
       "      <td>2</td>\n",
       "      <td>24309</td>\n",
       "      <td>Кафе «Академия»</td>\n",
       "      <td>нет</td>\n",
       "      <td>кафе</td>\n",
       "      <td>город Москва, Абельмановская улица, дом 6</td>\n",
       "      <td>95</td>\n",
       "      <td>Абельмановская улица</td>\n",
       "    </tr>\n",
       "    <tr>\n",
       "      <td>3</td>\n",
       "      <td>21894</td>\n",
       "      <td>ПИЦЦЕТОРИЯ</td>\n",
       "      <td>да</td>\n",
       "      <td>кафе</td>\n",
       "      <td>город Москва, Абрамцевская улица, дом 1</td>\n",
       "      <td>40</td>\n",
       "      <td>Абрамцевская улица</td>\n",
       "    </tr>\n",
       "    <tr>\n",
       "      <td>4</td>\n",
       "      <td>119365</td>\n",
       "      <td>Кафе «Вишневая метель»</td>\n",
       "      <td>нет</td>\n",
       "      <td>кафе</td>\n",
       "      <td>город Москва, Абрамцевская улица, дом 9, корпус 1</td>\n",
       "      <td>50</td>\n",
       "      <td>Абрамцевская улица</td>\n",
       "    </tr>\n",
       "  </tbody>\n",
       "</table>\n",
       "</div>"
      ],
      "text/plain": [
       "       id             object_name chain object_type  \\\n",
       "0  151635                 СМЕТАНА   нет        кафе   \n",
       "1   77874                  Родник   нет        кафе   \n",
       "2   24309         Кафе «Академия»   нет        кафе   \n",
       "3   21894              ПИЦЦЕТОРИЯ    да        кафе   \n",
       "4  119365  Кафе «Вишневая метель»   нет        кафе   \n",
       "\n",
       "                                             address  number  \\\n",
       "0         город Москва, улица Егора Абакумова, дом 9      48   \n",
       "1  город Москва, улица Талалихина, дом 2/1, корпус 1      35   \n",
       "2          город Москва, Абельмановская улица, дом 6      95   \n",
       "3            город Москва, Абрамцевская улица, дом 1      40   \n",
       "4  город Москва, Абрамцевская улица, дом 9, корпус 1      50   \n",
       "\n",
       "               streetname  \n",
       "0   улица Егора Абакумова  \n",
       "1        улица Талалихина  \n",
       "2    Абельмановская улица  \n",
       "3      Абрамцевская улица  \n",
       "4      Абрамцевская улица  "
      ]
     },
     "execution_count": 38,
     "metadata": {},
     "output_type": "execute_result"
    }
   ],
   "source": [
    "#создадим функцию для выделения подстроки в строке\n",
    "def adr_str (row):\n",
    "    \"\"\"\n",
    "    Создадим функцию, которая:\n",
    "    - принимает строку с запятой\n",
    "    - делит ее на части, с учетом запятой\n",
    "    - если подстрока[1] содержит слова: улица, бульвар, переулок..., то возвращает подстроку[1]\n",
    "    - иначе возвращает подстроку[2]\n",
    "    - иначе возвращаем 'Некорректные данные'\n",
    "    \"\"\"\n",
    "    st = ['улица', 'бульвар', 'переулок', 'проспект', 'шоссе', 'проезд', 'набережная', \\\n",
    "          'площадь','аллея', 'тупик', 'километр', 'город Зеленоград', 'квартал']\n",
    "    splitted_text = row.split(',')\n",
    "    for i in st:\n",
    "        if i in splitted_text[1]:\n",
    "            return splitted_text[1]\n",
    "    else: \n",
    "        try: \n",
    "            return splitted_text[2]\n",
    "        except: \n",
    "            return 'Некорректные данные'\n",
    "    \n",
    "\n",
    "#создадим новый столбец \n",
    "data['streetname'] = data['address'].apply(adr_str)    \n",
    "\n",
    "data.head()"
   ]
  },
  {
   "cell_type": "code",
   "execution_count": 39,
   "metadata": {},
   "outputs": [
    {
     "data": {
      "text/html": [
       "<div>\n",
       "<style scoped>\n",
       "    .dataframe tbody tr th:only-of-type {\n",
       "        vertical-align: middle;\n",
       "    }\n",
       "\n",
       "    .dataframe tbody tr th {\n",
       "        vertical-align: top;\n",
       "    }\n",
       "\n",
       "    .dataframe thead th {\n",
       "        text-align: right;\n",
       "    }\n",
       "</style>\n",
       "<table border=\"1\" class=\"dataframe\">\n",
       "  <thead>\n",
       "    <tr style=\"text-align: right;\">\n",
       "      <th></th>\n",
       "      <th>id</th>\n",
       "      <th>object_name</th>\n",
       "      <th>chain</th>\n",
       "      <th>object_type</th>\n",
       "      <th>address</th>\n",
       "      <th>number</th>\n",
       "      <th>streetname</th>\n",
       "    </tr>\n",
       "  </thead>\n",
       "  <tbody>\n",
       "    <tr>\n",
       "      <td>859</td>\n",
       "      <td>23601</td>\n",
       "      <td>Буфет - ГБОУ СОШ № 64</td>\n",
       "      <td>нет</td>\n",
       "      <td>буфет</td>\n",
       "      <td>Партизанская улица, дом 30</td>\n",
       "      <td>100</td>\n",
       "      <td>Некорректные данные</td>\n",
       "    </tr>\n",
       "    <tr>\n",
       "      <td>860</td>\n",
       "      <td>23604</td>\n",
       "      <td>Буфет - ГБОУ 60</td>\n",
       "      <td>нет</td>\n",
       "      <td>буфет</td>\n",
       "      <td>Партизанская улица, дом 30</td>\n",
       "      <td>100</td>\n",
       "      <td>Некорректные данные</td>\n",
       "    </tr>\n",
       "    <tr>\n",
       "      <td>7691</td>\n",
       "      <td>132359</td>\n",
       "      <td>Кафе «La Carotte»</td>\n",
       "      <td>нет</td>\n",
       "      <td>кафе</td>\n",
       "      <td>1-й Нагатинский проезд, дом 10</td>\n",
       "      <td>198</td>\n",
       "      <td>Некорректные данные</td>\n",
       "    </tr>\n",
       "    <tr>\n",
       "      <td>8813</td>\n",
       "      <td>145235</td>\n",
       "      <td>Кафе при АЗС</td>\n",
       "      <td>нет</td>\n",
       "      <td>кафе</td>\n",
       "      <td>проезд Добролюбова, дом 2</td>\n",
       "      <td>0</td>\n",
       "      <td>Некорректные данные</td>\n",
       "    </tr>\n",
       "    <tr>\n",
       "      <td>8843</td>\n",
       "      <td>19760</td>\n",
       "      <td>БУФЕТ ПРИ А-С ЮГО-ЗАПАД</td>\n",
       "      <td>нет</td>\n",
       "      <td>буфет</td>\n",
       "      <td>Ленинский проспект, владение 164</td>\n",
       "      <td>16</td>\n",
       "      <td>Некорректные данные</td>\n",
       "    </tr>\n",
       "  </tbody>\n",
       "</table>\n",
       "</div>"
      ],
      "text/plain": [
       "          id              object_name chain object_type  \\\n",
       "859    23601    Буфет - ГБОУ СОШ № 64   нет       буфет   \n",
       "860    23604          Буфет - ГБОУ 60   нет       буфет   \n",
       "7691  132359        Кафе «La Carotte»   нет        кафе   \n",
       "8813  145235             Кафе при АЗС   нет        кафе   \n",
       "8843   19760  БУФЕТ ПРИ А-С ЮГО-ЗАПАД   нет       буфет   \n",
       "\n",
       "                               address  number           streetname  \n",
       "859         Партизанская улица, дом 30     100  Некорректные данные  \n",
       "860         Партизанская улица, дом 30     100  Некорректные данные  \n",
       "7691    1-й Нагатинский проезд, дом 10     198  Некорректные данные  \n",
       "8813         проезд Добролюбова, дом 2       0  Некорректные данные  \n",
       "8843  Ленинский проспект, владение 164      16  Некорректные данные  "
      ]
     },
     "execution_count": 39,
     "metadata": {},
     "output_type": "execute_result"
    }
   ],
   "source": [
    "#проверим на наличие некорректных данных\n",
    "data.loc[data['streetname'] == 'Некорректные данные'].head()\n"
   ]
  },
  {
   "cell_type": "markdown",
   "metadata": {},
   "source": [
    "Выявили 20 строк с некорректными данными - в них не указан город, а адрес начинается сразу с указания улицы. Такие данные требуют доработки."
   ]
  },
  {
   "cell_type": "code",
   "execution_count": 40,
   "metadata": {},
   "outputs": [],
   "source": [
    "#создадим функцию для выделения подстроки в строке\n",
    "def part_str (row):\n",
    "    \"\"\"\n",
    "    Создадим функцию, которая:\n",
    "    - принимает строку с запятой\n",
    "    - делит ее на части, с учетом запятой\n",
    "    - возвращает подстроку до первой запятой\n",
    "    \"\"\"\n",
    "    splitted_text = row.split(',')\n",
    "    return splitted_text[0]\n",
    "    \n",
    "\n",
    "#создадим новый столбец \n",
    "data.loc[data['streetname'] == 'Некорректные данные','streetname'] = \\\n",
    "data.loc[data['streetname'] == 'Некорректные данные', 'address'].apply(part_str)    \n",
    "\n"
   ]
  },
  {
   "cell_type": "code",
   "execution_count": 41,
   "metadata": {},
   "outputs": [
    {
     "data": {
      "text/html": [
       "<div>\n",
       "<style scoped>\n",
       "    .dataframe tbody tr th:only-of-type {\n",
       "        vertical-align: middle;\n",
       "    }\n",
       "\n",
       "    .dataframe tbody tr th {\n",
       "        vertical-align: top;\n",
       "    }\n",
       "\n",
       "    .dataframe thead th {\n",
       "        text-align: right;\n",
       "    }\n",
       "</style>\n",
       "<table border=\"1\" class=\"dataframe\">\n",
       "  <thead>\n",
       "    <tr style=\"text-align: right;\">\n",
       "      <th></th>\n",
       "      <th>id</th>\n",
       "      <th>object_name</th>\n",
       "      <th>chain</th>\n",
       "      <th>object_type</th>\n",
       "      <th>address</th>\n",
       "      <th>number</th>\n",
       "      <th>streetname</th>\n",
       "    </tr>\n",
       "  </thead>\n",
       "  <tbody>\n",
       "  </tbody>\n",
       "</table>\n",
       "</div>"
      ],
      "text/plain": [
       "Empty DataFrame\n",
       "Columns: [id, object_name, chain, object_type, address, number, streetname]\n",
       "Index: []"
      ]
     },
     "execution_count": 41,
     "metadata": {},
     "output_type": "execute_result"
    }
   ],
   "source": [
    "data.loc[data['streetname'] == 'Некорректные данные']"
   ]
  },
  {
   "cell_type": "code",
   "execution_count": 42,
   "metadata": {},
   "outputs": [
    {
     "data": {
      "text/html": [
       "<div>\n",
       "<style scoped>\n",
       "    .dataframe tbody tr th:only-of-type {\n",
       "        vertical-align: middle;\n",
       "    }\n",
       "\n",
       "    .dataframe tbody tr th {\n",
       "        vertical-align: top;\n",
       "    }\n",
       "\n",
       "    .dataframe thead th {\n",
       "        text-align: right;\n",
       "    }\n",
       "</style>\n",
       "<table border=\"1\" class=\"dataframe\">\n",
       "  <thead>\n",
       "    <tr style=\"text-align: right;\">\n",
       "      <th></th>\n",
       "      <th>id</th>\n",
       "      <th>object_name</th>\n",
       "      <th>chain</th>\n",
       "      <th>object_type</th>\n",
       "      <th>address</th>\n",
       "      <th>number</th>\n",
       "      <th>streetname</th>\n",
       "    </tr>\n",
       "  </thead>\n",
       "  <tbody>\n",
       "    <tr>\n",
       "      <td>0</td>\n",
       "      <td>151635</td>\n",
       "      <td>СМЕТАНА</td>\n",
       "      <td>нет</td>\n",
       "      <td>кафе</td>\n",
       "      <td>город Москва, улица Егора Абакумова, дом 9</td>\n",
       "      <td>48</td>\n",
       "      <td>улица Егора Абакумова</td>\n",
       "    </tr>\n",
       "    <tr>\n",
       "      <td>1</td>\n",
       "      <td>77874</td>\n",
       "      <td>Родник</td>\n",
       "      <td>нет</td>\n",
       "      <td>кафе</td>\n",
       "      <td>город Москва, улица Талалихина, дом 2/1, корпус 1</td>\n",
       "      <td>35</td>\n",
       "      <td>улица Талалихина</td>\n",
       "    </tr>\n",
       "    <tr>\n",
       "      <td>2</td>\n",
       "      <td>24309</td>\n",
       "      <td>Кафе «Академия»</td>\n",
       "      <td>нет</td>\n",
       "      <td>кафе</td>\n",
       "      <td>город Москва, Абельмановская улица, дом 6</td>\n",
       "      <td>95</td>\n",
       "      <td>Абельмановская улица</td>\n",
       "    </tr>\n",
       "    <tr>\n",
       "      <td>3</td>\n",
       "      <td>21894</td>\n",
       "      <td>ПИЦЦЕТОРИЯ</td>\n",
       "      <td>да</td>\n",
       "      <td>кафе</td>\n",
       "      <td>город Москва, Абрамцевская улица, дом 1</td>\n",
       "      <td>40</td>\n",
       "      <td>Абрамцевская улица</td>\n",
       "    </tr>\n",
       "    <tr>\n",
       "      <td>4</td>\n",
       "      <td>119365</td>\n",
       "      <td>Кафе «Вишневая метель»</td>\n",
       "      <td>нет</td>\n",
       "      <td>кафе</td>\n",
       "      <td>город Москва, Абрамцевская улица, дом 9, корпус 1</td>\n",
       "      <td>50</td>\n",
       "      <td>Абрамцевская улица</td>\n",
       "    </tr>\n",
       "  </tbody>\n",
       "</table>\n",
       "</div>"
      ],
      "text/plain": [
       "       id             object_name chain object_type  \\\n",
       "0  151635                 СМЕТАНА   нет        кафе   \n",
       "1   77874                  Родник   нет        кафе   \n",
       "2   24309         Кафе «Академия»   нет        кафе   \n",
       "3   21894              ПИЦЦЕТОРИЯ    да        кафе   \n",
       "4  119365  Кафе «Вишневая метель»   нет        кафе   \n",
       "\n",
       "                                             address  number  \\\n",
       "0         город Москва, улица Егора Абакумова, дом 9      48   \n",
       "1  город Москва, улица Талалихина, дом 2/1, корпус 1      35   \n",
       "2          город Москва, Абельмановская улица, дом 6      95   \n",
       "3            город Москва, Абрамцевская улица, дом 1      40   \n",
       "4  город Москва, Абрамцевская улица, дом 9, корпус 1      50   \n",
       "\n",
       "              streetname  \n",
       "0  улица Егора Абакумова  \n",
       "1       улица Талалихина  \n",
       "2   Абельмановская улица  \n",
       "3     Абрамцевская улица  \n",
       "4     Абрамцевская улица  "
      ]
     },
     "execution_count": 42,
     "metadata": {},
     "output_type": "execute_result"
    }
   ],
   "source": [
    "#удалим пробел в данных столбца streetname\n",
    "data['streetname'] = data['streetname'].apply(lambda x:x.lstrip())\n",
    "data.head()"
   ]
  },
  {
   "cell_type": "markdown",
   "metadata": {},
   "source": [
    "Итак, мы выделили в отдельный столбец street  из полного адоеса только улицу."
   ]
  },
  {
   "cell_type": "code",
   "execution_count": 43,
   "metadata": {},
   "outputs": [
    {
     "data": {
      "text/html": [
       "<div>\n",
       "<style scoped>\n",
       "    .dataframe tbody tr th:only-of-type {\n",
       "        vertical-align: middle;\n",
       "    }\n",
       "\n",
       "    .dataframe tbody tr th {\n",
       "        vertical-align: top;\n",
       "    }\n",
       "\n",
       "    .dataframe thead th {\n",
       "        text-align: right;\n",
       "    }\n",
       "</style>\n",
       "<table border=\"1\" class=\"dataframe\">\n",
       "  <thead>\n",
       "    <tr style=\"text-align: right;\">\n",
       "      <th></th>\n",
       "      <th>streetname</th>\n",
       "      <th>okrug</th>\n",
       "      <th>area</th>\n",
       "    </tr>\n",
       "  </thead>\n",
       "  <tbody>\n",
       "    <tr>\n",
       "      <td>0</td>\n",
       "      <td>1-й Балтийский переулок</td>\n",
       "      <td>{САО}</td>\n",
       "      <td>{Район Аэропорт}</td>\n",
       "    </tr>\n",
       "    <tr>\n",
       "      <td>1</td>\n",
       "      <td>1-й Вязовский проезд</td>\n",
       "      <td>{ЮВАО}</td>\n",
       "      <td>{Рязанский район}</td>\n",
       "    </tr>\n",
       "    <tr>\n",
       "      <td>2</td>\n",
       "      <td>1-й Кадашёвский переулок</td>\n",
       "      <td>{ЦАО}</td>\n",
       "      <td>{Район Якиманка}</td>\n",
       "    </tr>\n",
       "    <tr>\n",
       "      <td>3</td>\n",
       "      <td>1-й Кожуховский проезд</td>\n",
       "      <td>{ЮАО}</td>\n",
       "      <td>{Даниловский район}</td>\n",
       "    </tr>\n",
       "    <tr>\n",
       "      <td>4</td>\n",
       "      <td>1-й Котляковский переулок</td>\n",
       "      <td>{ЮАО}</td>\n",
       "      <td>{Район Москворечье-Сабурово}</td>\n",
       "    </tr>\n",
       "    <tr>\n",
       "      <td>5</td>\n",
       "      <td>1-й Новотихвинский переулок</td>\n",
       "      <td>{СВАО}</td>\n",
       "      <td>{Район Марьина роща}</td>\n",
       "    </tr>\n",
       "    <tr>\n",
       "      <td>6</td>\n",
       "      <td>1-й Раушский переулок</td>\n",
       "      <td>{ЦАО}</td>\n",
       "      <td>{Район Замоскворечье}</td>\n",
       "    </tr>\n",
       "    <tr>\n",
       "      <td>7</td>\n",
       "      <td>1-й Рижский переулок</td>\n",
       "      <td>{СВАО}</td>\n",
       "      <td>{Алексеевский район}</td>\n",
       "    </tr>\n",
       "    <tr>\n",
       "      <td>8</td>\n",
       "      <td>1-й Сыромятнический переулок</td>\n",
       "      <td>{ЦАО}</td>\n",
       "      <td>{Басманный район}</td>\n",
       "    </tr>\n",
       "    <tr>\n",
       "      <td>9</td>\n",
       "      <td>1-й Троицкий переулок</td>\n",
       "      <td>{ЦАО}</td>\n",
       "      <td>{Мещанский район}</td>\n",
       "    </tr>\n",
       "    <tr>\n",
       "      <td>10</td>\n",
       "      <td>1-й проезд Подбельского</td>\n",
       "      <td>{ВАО}</td>\n",
       "      <td>{Район Богородское}</td>\n",
       "    </tr>\n",
       "    <tr>\n",
       "      <td>11</td>\n",
       "      <td>1-я Кабельная улица</td>\n",
       "      <td>{ЮВАО}</td>\n",
       "      <td>{Район Лефортово}</td>\n",
       "    </tr>\n",
       "    <tr>\n",
       "      <td>12</td>\n",
       "      <td>1-я Курьяновская улица</td>\n",
       "      <td>{ЮВАО}</td>\n",
       "      <td>{Район Печатники}</td>\n",
       "    </tr>\n",
       "    <tr>\n",
       "      <td>13</td>\n",
       "      <td>1-я Мясниковская улица</td>\n",
       "      <td>{ВАО}</td>\n",
       "      <td>{Район Богородское}</td>\n",
       "    </tr>\n",
       "    <tr>\n",
       "      <td>14</td>\n",
       "      <td>1-я Рыбинская улица</td>\n",
       "      <td>{ВАО}</td>\n",
       "      <td>{Район Сокольники}</td>\n",
       "    </tr>\n",
       "    <tr>\n",
       "      <td>15</td>\n",
       "      <td>1-я Сокольническая улица</td>\n",
       "      <td>{ВАО}</td>\n",
       "      <td>{Район Сокольники}</td>\n",
       "    </tr>\n",
       "    <tr>\n",
       "      <td>16</td>\n",
       "      <td>1-я улица Шелепихи</td>\n",
       "      <td>{ЦАО}</td>\n",
       "      <td>{Пресненский район}</td>\n",
       "    </tr>\n",
       "    <tr>\n",
       "      <td>17</td>\n",
       "      <td>10-я Радиальная улица</td>\n",
       "      <td>{ЮАО}</td>\n",
       "      <td>{Район Бирюлево Восточное}</td>\n",
       "    </tr>\n",
       "    <tr>\n",
       "      <td>18</td>\n",
       "      <td>10-я улица Соколиной Горы</td>\n",
       "      <td>{ВАО}</td>\n",
       "      <td>{Район Соколиная Гора}</td>\n",
       "    </tr>\n",
       "    <tr>\n",
       "      <td>19</td>\n",
       "      <td>12-й проезд Марьиной Рощи</td>\n",
       "      <td>{СВАО}</td>\n",
       "      <td>{Район Марьина роща}</td>\n",
       "    </tr>\n",
       "    <tr>\n",
       "      <td>20</td>\n",
       "      <td>12-я Парковая улица</td>\n",
       "      <td>{ВАО}</td>\n",
       "      <td>{Район Восточное Измайлово}</td>\n",
       "    </tr>\n",
       "    <tr>\n",
       "      <td>21</td>\n",
       "      <td>19-й Микрорайон</td>\n",
       "      <td>{Зеленоград}</td>\n",
       "      <td>{Район Крюково}</td>\n",
       "    </tr>\n",
       "    <tr>\n",
       "      <td>22</td>\n",
       "      <td>2-й Донской проезд</td>\n",
       "      <td>{ЮАО}</td>\n",
       "      <td>{Донской район}</td>\n",
       "    </tr>\n",
       "    <tr>\n",
       "      <td>23</td>\n",
       "      <td>2-й Колобовский переулок</td>\n",
       "      <td>{ЦАО}</td>\n",
       "      <td>{Тверской район}</td>\n",
       "    </tr>\n",
       "    <tr>\n",
       "      <td>24</td>\n",
       "      <td>2-й Крестовский переулок</td>\n",
       "      <td>{ЦАО}</td>\n",
       "      <td>{Мещанский район}</td>\n",
       "    </tr>\n",
       "    <tr>\n",
       "      <td>25</td>\n",
       "      <td>2-й Лесной переулок</td>\n",
       "      <td>{ЦАО}</td>\n",
       "      <td>{Тверской район}</td>\n",
       "    </tr>\n",
       "    <tr>\n",
       "      <td>26</td>\n",
       "      <td>2-й Митинский переулок</td>\n",
       "      <td>{СЗАО}</td>\n",
       "      <td>{Район Митино}</td>\n",
       "    </tr>\n",
       "    <tr>\n",
       "      <td>27</td>\n",
       "      <td>2-й Павловский переулок</td>\n",
       "      <td>{ЮАО}</td>\n",
       "      <td>{Даниловский район}</td>\n",
       "    </tr>\n",
       "    <tr>\n",
       "      <td>28</td>\n",
       "      <td>2-й Пехотный переулок</td>\n",
       "      <td>{СЗАО}</td>\n",
       "      <td>{Район Щукино}</td>\n",
       "    </tr>\n",
       "    <tr>\n",
       "      <td>29</td>\n",
       "      <td>2-й Пятигорский проезд</td>\n",
       "      <td>{ЮВАО}</td>\n",
       "      <td>{Рязанский район}</td>\n",
       "    </tr>\n",
       "    <tr>\n",
       "      <td>30</td>\n",
       "      <td>2-й Спасоналивковский переулок</td>\n",
       "      <td>{ЦАО}</td>\n",
       "      <td>{Район Якиманка}</td>\n",
       "    </tr>\n",
       "    <tr>\n",
       "      <td>31</td>\n",
       "      <td>2-й Хорошёвский проезд</td>\n",
       "      <td>{САО}</td>\n",
       "      <td>{Хорошевский район}</td>\n",
       "    </tr>\n",
       "    <tr>\n",
       "      <td>32</td>\n",
       "      <td>2-й Электрозаводский переулок</td>\n",
       "      <td>{ВАО}</td>\n",
       "      <td>{Район Преображенское}</td>\n",
       "    </tr>\n",
       "    <tr>\n",
       "      <td>33</td>\n",
       "      <td>2-я Вольская улица</td>\n",
       "      <td>{ЮВАО}</td>\n",
       "      <td>{Район Некрасовка}</td>\n",
       "    </tr>\n",
       "    <tr>\n",
       "      <td>34</td>\n",
       "      <td>2-я Горловская улица</td>\n",
       "      <td>{ЮЗАО}</td>\n",
       "      <td>{Район Южное Бутово}</td>\n",
       "    </tr>\n",
       "    <tr>\n",
       "      <td>35</td>\n",
       "      <td>2-я Кабельная улица</td>\n",
       "      <td>{ЮВАО}</td>\n",
       "      <td>{Район Лефортово}</td>\n",
       "    </tr>\n",
       "    <tr>\n",
       "      <td>36</td>\n",
       "      <td>2-я Карачаровская улица</td>\n",
       "      <td>{ЮВАО}</td>\n",
       "      <td>{Нижегородский район}</td>\n",
       "    </tr>\n",
       "    <tr>\n",
       "      <td>37</td>\n",
       "      <td>2-я Миусская улица</td>\n",
       "      <td>{ЦАО}</td>\n",
       "      <td>{Тверской район}</td>\n",
       "    </tr>\n",
       "    <tr>\n",
       "      <td>38</td>\n",
       "      <td>2-я Новоостанкинская улица</td>\n",
       "      <td>{СВАО}</td>\n",
       "      <td>{Останкинский район}</td>\n",
       "    </tr>\n",
       "    <tr>\n",
       "      <td>39</td>\n",
       "      <td>2-я Песчаная улица</td>\n",
       "      <td>{САО}</td>\n",
       "      <td>{Хорошевский район}</td>\n",
       "    </tr>\n",
       "    <tr>\n",
       "      <td>40</td>\n",
       "      <td>2-я Радиаторская улица</td>\n",
       "      <td>{САО}</td>\n",
       "      <td>{Войковский Район}</td>\n",
       "    </tr>\n",
       "    <tr>\n",
       "      <td>41</td>\n",
       "      <td>2-я Филёвская улица</td>\n",
       "      <td>{ЗАО}</td>\n",
       "      <td>{Район Филевский Парк}</td>\n",
       "    </tr>\n",
       "    <tr>\n",
       "      <td>42</td>\n",
       "      <td>2-я улица Дьяково-Городище</td>\n",
       "      <td>{ЮАО}</td>\n",
       "      <td>{Район Нагатинский затон}</td>\n",
       "    </tr>\n",
       "    <tr>\n",
       "      <td>43</td>\n",
       "      <td>3-й Балтийский переулок</td>\n",
       "      <td>{САО}</td>\n",
       "      <td>{Район Аэропорт}</td>\n",
       "    </tr>\n",
       "    <tr>\n",
       "      <td>44</td>\n",
       "      <td>3-й Дербеневский переулок</td>\n",
       "      <td>{ЮАО}</td>\n",
       "      <td>{Даниловский район}</td>\n",
       "    </tr>\n",
       "    <tr>\n",
       "      <td>45</td>\n",
       "      <td>3-й Ирининский переулок</td>\n",
       "      <td>{ЦАО}</td>\n",
       "      <td>{Басманный район}</td>\n",
       "    </tr>\n",
       "    <tr>\n",
       "      <td>46</td>\n",
       "      <td>3-й Котельнический переулок</td>\n",
       "      <td>{ЦАО}</td>\n",
       "      <td>{Таганский район}</td>\n",
       "    </tr>\n",
       "    <tr>\n",
       "      <td>47</td>\n",
       "      <td>3-й Неопалимовский переулок</td>\n",
       "      <td>{ЦАО}</td>\n",
       "      <td>{Район Хамовники}</td>\n",
       "    </tr>\n",
       "    <tr>\n",
       "      <td>48</td>\n",
       "      <td>3-й Нижнелихоборский проезд</td>\n",
       "      <td>{САО}</td>\n",
       "      <td>{Тимирязевский Район}</td>\n",
       "    </tr>\n",
       "    <tr>\n",
       "      <td>49</td>\n",
       "      <td>3-й Самотёчный переулок</td>\n",
       "      <td>{ЦАО}</td>\n",
       "      <td>{Тверской район}</td>\n",
       "    </tr>\n",
       "    <tr>\n",
       "      <td>50</td>\n",
       "      <td>3-я Кабельная улица</td>\n",
       "      <td>{ЮВАО}</td>\n",
       "      <td>{Район Лефортово}</td>\n",
       "    </tr>\n",
       "    <tr>\n",
       "      <td>51</td>\n",
       "      <td>3-я Карачаровская улица</td>\n",
       "      <td>{ЮВАО}</td>\n",
       "      <td>{Нижегородский район}</td>\n",
       "    </tr>\n",
       "    <tr>\n",
       "      <td>52</td>\n",
       "      <td>3-я Радиальная улица</td>\n",
       "      <td>{ЮАО}</td>\n",
       "      <td>{Район Бирюлево Восточное}</td>\n",
       "    </tr>\n",
       "    <tr>\n",
       "      <td>53</td>\n",
       "      <td>4-й Добрынинский переулок</td>\n",
       "      <td>{ЦАО}</td>\n",
       "      <td>{Район Якиманка}</td>\n",
       "    </tr>\n",
       "    <tr>\n",
       "      <td>54</td>\n",
       "      <td>4-й Западный проезд</td>\n",
       "      <td>{Зеленоград}</td>\n",
       "      <td>{Панфиловский район}</td>\n",
       "    </tr>\n",
       "    <tr>\n",
       "      <td>55</td>\n",
       "      <td>4-й Звенигородский переулок</td>\n",
       "      <td>{ЦАО}</td>\n",
       "      <td>{Пресненский район}</td>\n",
       "    </tr>\n",
       "    <tr>\n",
       "      <td>56</td>\n",
       "      <td>4-й Очаковский переулок</td>\n",
       "      <td>{ЗАО}</td>\n",
       "      <td>{Район Очаково-Матвеевское}</td>\n",
       "    </tr>\n",
       "    <tr>\n",
       "      <td>57</td>\n",
       "      <td>4-й Щипковский переулок</td>\n",
       "      <td>{ЦАО}</td>\n",
       "      <td>{Район Замоскворечье}</td>\n",
       "    </tr>\n",
       "    <tr>\n",
       "      <td>58</td>\n",
       "      <td>4-я Внуковская улица</td>\n",
       "      <td>{ЗАО}</td>\n",
       "      <td>{Район Внуково}</td>\n",
       "    </tr>\n",
       "    <tr>\n",
       "      <td>59</td>\n",
       "      <td>4-я Тверская-Ямская улица</td>\n",
       "      <td>{ЦАО}</td>\n",
       "      <td>{Тверской район}</td>\n",
       "    </tr>\n",
       "    <tr>\n",
       "      <td>60</td>\n",
       "      <td>5-й Лучевой просек</td>\n",
       "      <td>{ВАО}</td>\n",
       "      <td>{Район Сокольники}</td>\n",
       "    </tr>\n",
       "    <tr>\n",
       "      <td>61</td>\n",
       "      <td>5-й квартал Капотня</td>\n",
       "      <td>{ЮВАО}</td>\n",
       "      <td>{Район Капотня}</td>\n",
       "    </tr>\n",
       "    <tr>\n",
       "      <td>62</td>\n",
       "      <td>5-я Магистральная улица</td>\n",
       "      <td>{САО}</td>\n",
       "      <td>{Хорошевский район}</td>\n",
       "    </tr>\n",
       "    <tr>\n",
       "      <td>63</td>\n",
       "      <td>5-я улица Новые Сады</td>\n",
       "      <td>{ЗАО}</td>\n",
       "      <td>{Район Ново-Переделкино}</td>\n",
       "    </tr>\n",
       "    <tr>\n",
       "      <td>64</td>\n",
       "      <td>5-я улица Соколиной Горы</td>\n",
       "      <td>{ВАО}</td>\n",
       "      <td>{Район Соколиная Гора}</td>\n",
       "    </tr>\n",
       "    <tr>\n",
       "      <td>65</td>\n",
       "      <td>6-й Загородный проезд</td>\n",
       "      <td>{ЮЗАО}</td>\n",
       "      <td>{Район Котловка}</td>\n",
       "    </tr>\n",
       "    <tr>\n",
       "      <td>66</td>\n",
       "      <td>7-й Ростовский переулок</td>\n",
       "      <td>{ЦАО}</td>\n",
       "      <td>{Район Хамовники}</td>\n",
       "    </tr>\n",
       "    <tr>\n",
       "      <td>67</td>\n",
       "      <td>7-я улица Новые Сады</td>\n",
       "      <td>{ЗАО}</td>\n",
       "      <td>{Район Ново-Переделкино}</td>\n",
       "    </tr>\n",
       "    <tr>\n",
       "      <td>68</td>\n",
       "      <td>9-й проезд Марьиной Рощи</td>\n",
       "      <td>{СВАО}</td>\n",
       "      <td>{Район Марьина роща}</td>\n",
       "    </tr>\n",
       "    <tr>\n",
       "      <td>69</td>\n",
       "      <td>Абрамцевская просека</td>\n",
       "      <td>{ВАО}</td>\n",
       "      <td>{Район Метрогородок}</td>\n",
       "    </tr>\n",
       "    <tr>\n",
       "      <td>70</td>\n",
       "      <td>Абрамцевская улица</td>\n",
       "      <td>{СВАО}</td>\n",
       "      <td>{Район Лианозово}</td>\n",
       "    </tr>\n",
       "    <tr>\n",
       "      <td>71</td>\n",
       "      <td>Авиационная улица</td>\n",
       "      <td>{СЗАО}</td>\n",
       "      <td>{Район Щукино}</td>\n",
       "    </tr>\n",
       "    <tr>\n",
       "      <td>72</td>\n",
       "      <td>Алабушевская улица</td>\n",
       "      <td>{Зеленоград}</td>\n",
       "      <td>{Панфиловский район}</td>\n",
       "    </tr>\n",
       "    <tr>\n",
       "      <td>73</td>\n",
       "      <td>Алтуфьевское шоссе</td>\n",
       "      <td>{СВАО}</td>\n",
       "      <td>{Район Лианозово}</td>\n",
       "    </tr>\n",
       "    <tr>\n",
       "      <td>74</td>\n",
       "      <td>Аминьевское шоссе</td>\n",
       "      <td>{ЗАО}</td>\n",
       "      <td>{Можайский Район}</td>\n",
       "    </tr>\n",
       "    <tr>\n",
       "      <td>75</td>\n",
       "      <td>Ангелов переулок</td>\n",
       "      <td>{СЗАО}</td>\n",
       "      <td>{Район Митино}</td>\n",
       "    </tr>\n",
       "    <tr>\n",
       "      <td>76</td>\n",
       "      <td>Андреевский мост</td>\n",
       "      <td>{ЦАО}</td>\n",
       "      <td>{Район Якиманка}</td>\n",
       "    </tr>\n",
       "    <tr>\n",
       "      <td>77</td>\n",
       "      <td>Армавирская улица</td>\n",
       "      <td>{ЮВАО}</td>\n",
       "      <td>{Район Люблино}</td>\n",
       "    </tr>\n",
       "    <tr>\n",
       "      <td>78</td>\n",
       "      <td>Армянский переулок</td>\n",
       "      <td>{ЦАО}</td>\n",
       "      <td>{Басманный район}</td>\n",
       "    </tr>\n",
       "    <tr>\n",
       "      <td>79</td>\n",
       "      <td>Банный переулок</td>\n",
       "      <td>{ЦАО}</td>\n",
       "      <td>{Мещанский район}</td>\n",
       "    </tr>\n",
       "    <tr>\n",
       "      <td>80</td>\n",
       "      <td>Беговая улица</td>\n",
       "      <td>{САО}</td>\n",
       "      <td>{Хорошевский район}</td>\n",
       "    </tr>\n",
       "    <tr>\n",
       "      <td>81</td>\n",
       "      <td>Белореченская улица</td>\n",
       "      <td>{ЮВАО}</td>\n",
       "      <td>{Район Люблино}</td>\n",
       "    </tr>\n",
       "    <tr>\n",
       "      <td>82</td>\n",
       "      <td>Берников переулок</td>\n",
       "      <td>{ЦАО}</td>\n",
       "      <td>{Таганский район}</td>\n",
       "    </tr>\n",
       "    <tr>\n",
       "      <td>83</td>\n",
       "      <td>Бескудниковский бульвар</td>\n",
       "      <td>{САО}</td>\n",
       "      <td>{Бескудниковский Район}</td>\n",
       "    </tr>\n",
       "    <tr>\n",
       "      <td>84</td>\n",
       "      <td>Бибиревская улица</td>\n",
       "      <td>{СВАО}</td>\n",
       "      <td>{Район Бибирево}</td>\n",
       "    </tr>\n",
       "    <tr>\n",
       "      <td>85</td>\n",
       "      <td>Большая Андроньевская улица</td>\n",
       "      <td>{ЦАО}</td>\n",
       "      <td>{Таганский район}</td>\n",
       "    </tr>\n",
       "    <tr>\n",
       "      <td>86</td>\n",
       "      <td>Большая Екатерининская улица</td>\n",
       "      <td>{ЦАО}</td>\n",
       "      <td>{Мещанский район}</td>\n",
       "    </tr>\n",
       "    <tr>\n",
       "      <td>87</td>\n",
       "      <td>Большая Никитская улица</td>\n",
       "      <td>{ЦАО}</td>\n",
       "      <td>{Пресненский район}</td>\n",
       "    </tr>\n",
       "    <tr>\n",
       "      <td>88</td>\n",
       "      <td>Большая Садовая улица</td>\n",
       "      <td>{ЦАО}</td>\n",
       "      <td>{Пресненский район}</td>\n",
       "    </tr>\n",
       "    <tr>\n",
       "      <td>89</td>\n",
       "      <td>Большая Черкизовская улица</td>\n",
       "      <td>{ВАО}</td>\n",
       "      <td>{Район Преображенское}</td>\n",
       "    </tr>\n",
       "    <tr>\n",
       "      <td>90</td>\n",
       "      <td>Большая Черёмушкинская улица</td>\n",
       "      <td>{ЮЗАО}</td>\n",
       "      <td>{Академический район}</td>\n",
       "    </tr>\n",
       "    <tr>\n",
       "      <td>91</td>\n",
       "      <td>Большой Балканский переулок</td>\n",
       "      <td>{ЦАО}</td>\n",
       "      <td>{Красносельский район}</td>\n",
       "    </tr>\n",
       "    <tr>\n",
       "      <td>92</td>\n",
       "      <td>Большой Каретный переулок</td>\n",
       "      <td>{ЦАО}</td>\n",
       "      <td>{Тверской район}</td>\n",
       "    </tr>\n",
       "    <tr>\n",
       "      <td>93</td>\n",
       "      <td>Большой Козихинский переулок</td>\n",
       "      <td>{ЦАО}</td>\n",
       "      <td>{Пресненский район}</td>\n",
       "    </tr>\n",
       "    <tr>\n",
       "      <td>94</td>\n",
       "      <td>Большой Могильцевский переулок</td>\n",
       "      <td>{ЦАО}</td>\n",
       "      <td>{Район Хамовники}</td>\n",
       "    </tr>\n",
       "    <tr>\n",
       "      <td>95</td>\n",
       "      <td>Большой Саввинский переулок</td>\n",
       "      <td>{ЦАО}</td>\n",
       "      <td>{Район Хамовники}</td>\n",
       "    </tr>\n",
       "    <tr>\n",
       "      <td>96</td>\n",
       "      <td>Большой Староданиловский переулок</td>\n",
       "      <td>{ЮАО}</td>\n",
       "      <td>{Даниловский район}</td>\n",
       "    </tr>\n",
       "    <tr>\n",
       "      <td>97</td>\n",
       "      <td>Боровский проезд</td>\n",
       "      <td>{ЗАО}</td>\n",
       "      <td>{Район Солнцево}</td>\n",
       "    </tr>\n",
       "    <tr>\n",
       "      <td>98</td>\n",
       "      <td>Боровское шоссе</td>\n",
       "      <td>{ЗАО}</td>\n",
       "      <td>{Район Ново-Переделкино}</td>\n",
       "    </tr>\n",
       "    <tr>\n",
       "      <td>99</td>\n",
       "      <td>Бородинский мост</td>\n",
       "      <td>{ЦАО}</td>\n",
       "      <td>{Район Арбат}</td>\n",
       "    </tr>\n",
       "    <tr>\n",
       "      <td>100</td>\n",
       "      <td>Брянская улица</td>\n",
       "      <td>{ЗАО}</td>\n",
       "      <td>{Район Дорогомилово}</td>\n",
       "    </tr>\n",
       "    <tr>\n",
       "      <td>101</td>\n",
       "      <td>Булатниковская улица</td>\n",
       "      <td>{ЮАО}</td>\n",
       "      <td>{Район Бирюлево Западное}</td>\n",
       "    </tr>\n",
       "    <tr>\n",
       "      <td>102</td>\n",
       "      <td>Варшавское шоссе</td>\n",
       "      <td>{ЮАО}</td>\n",
       "      <td>{Район Чертаново Северное}</td>\n",
       "    </tr>\n",
       "    <tr>\n",
       "      <td>103</td>\n",
       "      <td>Велозаводская улица</td>\n",
       "      <td>{ЮВАО}</td>\n",
       "      <td>{Южнопортовый Район}</td>\n",
       "    </tr>\n",
       "    <tr>\n",
       "      <td>104</td>\n",
       "      <td>Верхнелихоборская улица</td>\n",
       "      <td>{САО}</td>\n",
       "      <td>{Район Западное Дегунино}</td>\n",
       "    </tr>\n",
       "    <tr>\n",
       "      <td>105</td>\n",
       "      <td>Верхний Борисовский мост</td>\n",
       "      <td>{ЮАО}</td>\n",
       "      <td>{Район Орехово-Борисово Северное}</td>\n",
       "    </tr>\n",
       "    <tr>\n",
       "      <td>106</td>\n",
       "      <td>Весенняя улица</td>\n",
       "      <td>{САО}</td>\n",
       "      <td>{Район Западное Дегунино}</td>\n",
       "    </tr>\n",
       "    <tr>\n",
       "      <td>107</td>\n",
       "      <td>Весковский тупик</td>\n",
       "      <td>{ЦАО}</td>\n",
       "      <td>{Тверской район}</td>\n",
       "    </tr>\n",
       "    <tr>\n",
       "      <td>108</td>\n",
       "      <td>Вишнёвая улица</td>\n",
       "      <td>{СЗАО}</td>\n",
       "      <td>{Район Покровское-Стрешнево}</td>\n",
       "    </tr>\n",
       "    <tr>\n",
       "      <td>109</td>\n",
       "      <td>Вознесенский переулок</td>\n",
       "      <td>{ЦАО}</td>\n",
       "      <td>{Тверской район}</td>\n",
       "    </tr>\n",
       "    <tr>\n",
       "      <td>110</td>\n",
       "      <td>Волгоградский проспект</td>\n",
       "      <td>{ЮВАО}</td>\n",
       "      <td>{Южнопортовый Район}</td>\n",
       "    </tr>\n",
       "    <tr>\n",
       "      <td>111</td>\n",
       "      <td>Воробьевское шоссе</td>\n",
       "      <td>{ЗАО}</td>\n",
       "      <td>{Район Раменки}</td>\n",
       "    </tr>\n",
       "    <tr>\n",
       "      <td>112</td>\n",
       "      <td>Воронежская улица</td>\n",
       "      <td>{ЮАО}</td>\n",
       "      <td>{Район Орехово-Борисово Южное}</td>\n",
       "    </tr>\n",
       "    <tr>\n",
       "      <td>113</td>\n",
       "      <td>Воронцовская улица</td>\n",
       "      <td>{ЦАО}</td>\n",
       "      <td>{Таганский район}</td>\n",
       "    </tr>\n",
       "    <tr>\n",
       "      <td>114</td>\n",
       "      <td>Восточная улица</td>\n",
       "      <td>{ЮАО}</td>\n",
       "      <td>{Даниловский район}</td>\n",
       "    </tr>\n",
       "    <tr>\n",
       "      <td>115</td>\n",
       "      <td>Востряковский проезд</td>\n",
       "      <td>{ЮАО}</td>\n",
       "      <td>{Район Бирюлево Западное}</td>\n",
       "    </tr>\n",
       "    <tr>\n",
       "      <td>116</td>\n",
       "      <td>Высоковольтный проезд</td>\n",
       "      <td>{СВАО}</td>\n",
       "      <td>{Район Отрадное}</td>\n",
       "    </tr>\n",
       "    <tr>\n",
       "      <td>117</td>\n",
       "      <td>Гарднеровский переулок</td>\n",
       "      <td>{ЦАО}</td>\n",
       "      <td>{Басманный район}</td>\n",
       "    </tr>\n",
       "    <tr>\n",
       "      <td>118</td>\n",
       "      <td>Гжельский переулок</td>\n",
       "      <td>{ЦАО}</td>\n",
       "      <td>{Таганский район}</td>\n",
       "    </tr>\n",
       "    <tr>\n",
       "      <td>119</td>\n",
       "      <td>Глебовская улица</td>\n",
       "      <td>{ВАО}</td>\n",
       "      <td>{Район Богородское}</td>\n",
       "    </tr>\n",
       "    <tr>\n",
       "      <td>120</td>\n",
       "      <td>Глебовский мост</td>\n",
       "      <td>{ВАО}</td>\n",
       "      <td>{Район Сокольники}</td>\n",
       "    </tr>\n",
       "    <tr>\n",
       "      <td>121</td>\n",
       "      <td>Гончарная набережная</td>\n",
       "      <td>{ЦАО}</td>\n",
       "      <td>{Таганский район}</td>\n",
       "    </tr>\n",
       "    <tr>\n",
       "      <td>122</td>\n",
       "      <td>Гродненская улица</td>\n",
       "      <td>{ЗАО}</td>\n",
       "      <td>{Можайский Район}</td>\n",
       "    </tr>\n",
       "    <tr>\n",
       "      <td>123</td>\n",
       "      <td>Давыдковский мост</td>\n",
       "      <td>{ЗАО}</td>\n",
       "      <td>{Район Очаково-Матвеевское}</td>\n",
       "    </tr>\n",
       "    <tr>\n",
       "      <td>124</td>\n",
       "      <td>Давыдовский переулок</td>\n",
       "      <td>{ЦАО}</td>\n",
       "      <td>{Красносельский район}</td>\n",
       "    </tr>\n",
       "    <tr>\n",
       "      <td>125</td>\n",
       "      <td>Даниловская площадь</td>\n",
       "      <td>{ЮАО}</td>\n",
       "      <td>{Даниловский район}</td>\n",
       "    </tr>\n",
       "    <tr>\n",
       "      <td>126</td>\n",
       "      <td>Дворникова улица</td>\n",
       "      <td>{ЮВАО}</td>\n",
       "      <td>{Район Лефортово}</td>\n",
       "    </tr>\n",
       "    <tr>\n",
       "      <td>127</td>\n",
       "      <td>Детская улица</td>\n",
       "      <td>{ВАО}</td>\n",
       "      <td>{Район Богородское}</td>\n",
       "    </tr>\n",
       "    <tr>\n",
       "      <td>128</td>\n",
       "      <td>Дмитровское шоссе</td>\n",
       "      <td>{СВАО}</td>\n",
       "      <td>{Район Лианозово}</td>\n",
       "    </tr>\n",
       "    <tr>\n",
       "      <td>129</td>\n",
       "      <td>Днепропетровская улица</td>\n",
       "      <td>{ЮАО}</td>\n",
       "      <td>{Район Чертаново Северное}</td>\n",
       "    </tr>\n",
       "    <tr>\n",
       "      <td>130</td>\n",
       "      <td>Доброслободская улица</td>\n",
       "      <td>{ЦАО}</td>\n",
       "      <td>{Басманный район}</td>\n",
       "    </tr>\n",
       "    <tr>\n",
       "      <td>131</td>\n",
       "      <td>Дорожная улица</td>\n",
       "      <td>{ЮАО}</td>\n",
       "      <td>{Район Чертаново Южное}</td>\n",
       "    </tr>\n",
       "    <tr>\n",
       "      <td>132</td>\n",
       "      <td>Дохтуровский переулок</td>\n",
       "      <td>{ЗАО}</td>\n",
       "      <td>{Район Дорогомилово}</td>\n",
       "    </tr>\n",
       "    <tr>\n",
       "      <td>133</td>\n",
       "      <td>Дубининская улица</td>\n",
       "      <td>{ЮАО}</td>\n",
       "      <td>{Даниловский район}</td>\n",
       "    </tr>\n",
       "    <tr>\n",
       "      <td>134</td>\n",
       "      <td>Дубнинская улица</td>\n",
       "      <td>{САО}</td>\n",
       "      <td>{Бескудниковский Район}</td>\n",
       "    </tr>\n",
       "    <tr>\n",
       "      <td>135</td>\n",
       "      <td>Дюссельдорфский парк</td>\n",
       "      <td>{ЮВАО}</td>\n",
       "      <td>{Район Марьино}</td>\n",
       "    </tr>\n",
       "    <tr>\n",
       "      <td>136</td>\n",
       "      <td>Елисеевский переулок</td>\n",
       "      <td>{ЦАО}</td>\n",
       "      <td>{Пресненский район}</td>\n",
       "    </tr>\n",
       "    <tr>\n",
       "      <td>137</td>\n",
       "      <td>Ельнинская улица</td>\n",
       "      <td>{ЗАО}</td>\n",
       "      <td>{Район Кунцево}</td>\n",
       "    </tr>\n",
       "    <tr>\n",
       "      <td>138</td>\n",
       "      <td>Заводской переулок</td>\n",
       "      <td>{Зеленоград}</td>\n",
       "      <td>{Район Крюково}</td>\n",
       "    </tr>\n",
       "    <tr>\n",
       "      <td>139</td>\n",
       "      <td>Западная улица</td>\n",
       "      <td>{ВАО}</td>\n",
       "      <td>{Район Восточный}</td>\n",
       "    </tr>\n",
       "    <tr>\n",
       "      <td>140</td>\n",
       "      <td>Западный Тушинский мост</td>\n",
       "      <td>{СЗАО}</td>\n",
       "      <td>{Район Покровское-Стрешнево}</td>\n",
       "    </tr>\n",
       "    <tr>\n",
       "      <td>141</td>\n",
       "      <td>Зарайская улица</td>\n",
       "      <td>{ЮВАО}</td>\n",
       "      <td>{Рязанский район}</td>\n",
       "    </tr>\n",
       "    <tr>\n",
       "      <td>142</td>\n",
       "      <td>Зональная улица</td>\n",
       "      <td>{СВАО}</td>\n",
       "      <td>{Район Лианозово}</td>\n",
       "    </tr>\n",
       "    <tr>\n",
       "      <td>143</td>\n",
       "      <td>Ивановская улица</td>\n",
       "      <td>{САО}</td>\n",
       "      <td>{Тимирязевский Район}</td>\n",
       "    </tr>\n",
       "    <tr>\n",
       "      <td>144</td>\n",
       "      <td>Ивановский проезд</td>\n",
       "      <td>{САО}</td>\n",
       "      <td>{Тимирязевский Район}</td>\n",
       "    </tr>\n",
       "    <tr>\n",
       "      <td>145</td>\n",
       "      <td>Ивовая улица</td>\n",
       "      <td>{СВАО}</td>\n",
       "      <td>{Район Свиблово}</td>\n",
       "    </tr>\n",
       "    <tr>\n",
       "      <td>146</td>\n",
       "      <td>Измайловский бульвар</td>\n",
       "      <td>{ВАО}</td>\n",
       "      <td>{Район Восточное Измайлово}</td>\n",
       "    </tr>\n",
       "    <tr>\n",
       "      <td>147</td>\n",
       "      <td>Измайловский проспект</td>\n",
       "      <td>{ВАО}</td>\n",
       "      <td>{Район Восточное Измайлово}</td>\n",
       "    </tr>\n",
       "    <tr>\n",
       "      <td>148</td>\n",
       "      <td>Индустриальный переулок</td>\n",
       "      <td>{ЦАО}</td>\n",
       "      <td>{Красносельский район}</td>\n",
       "    </tr>\n",
       "    <tr>\n",
       "      <td>149</td>\n",
       "      <td>Кавказский бульвар</td>\n",
       "      <td>{ЮАО}</td>\n",
       "      <td>{Район Царицыно}</td>\n",
       "    </tr>\n",
       "    <tr>\n",
       "      <td>150</td>\n",
       "      <td>Камчатская улица</td>\n",
       "      <td>{ВАО}</td>\n",
       "      <td>{Район Гольяново}</td>\n",
       "    </tr>\n",
       "    <tr>\n",
       "      <td>151</td>\n",
       "      <td>Карачаровское шоссе</td>\n",
       "      <td>{ЮВАО}</td>\n",
       "      <td>{Нижегородский район}</td>\n",
       "    </tr>\n",
       "    <tr>\n",
       "      <td>152</td>\n",
       "      <td>Каширский проезд</td>\n",
       "      <td>{ЮАО}</td>\n",
       "      <td>{Район Нагатино-Садовники}</td>\n",
       "    </tr>\n",
       "    <tr>\n",
       "      <td>153</td>\n",
       "      <td>Каширское шоссе</td>\n",
       "      <td>{ЮАО}</td>\n",
       "      <td>{Район Орехово-Борисово Южное}</td>\n",
       "    </tr>\n",
       "    <tr>\n",
       "      <td>154</td>\n",
       "      <td>Кировоградский проезд</td>\n",
       "      <td>{ЮАО}</td>\n",
       "      <td>{Район Чертаново Южное}</td>\n",
       "    </tr>\n",
       "    <tr>\n",
       "      <td>155</td>\n",
       "      <td>Клинский проезд</td>\n",
       "      <td>{САО}</td>\n",
       "      <td>{Район Ховрино}</td>\n",
       "    </tr>\n",
       "    <tr>\n",
       "      <td>156</td>\n",
       "      <td>Ковров переулок</td>\n",
       "      <td>{ЦАО}</td>\n",
       "      <td>{Таганский район}</td>\n",
       "    </tr>\n",
       "    <tr>\n",
       "      <td>157</td>\n",
       "      <td>Колокольников переулок</td>\n",
       "      <td>{ЦАО}</td>\n",
       "      <td>{Мещанский район}</td>\n",
       "    </tr>\n",
       "    <tr>\n",
       "      <td>158</td>\n",
       "      <td>Колымажный переулок</td>\n",
       "      <td>{ЦАО}</td>\n",
       "      <td>{Район Хамовники}</td>\n",
       "    </tr>\n",
       "    <tr>\n",
       "      <td>159</td>\n",
       "      <td>Композиторская улица</td>\n",
       "      <td>{ЦАО}</td>\n",
       "      <td>{Район Арбат}</td>\n",
       "    </tr>\n",
       "    <tr>\n",
       "      <td>160</td>\n",
       "      <td>Коптевская улица</td>\n",
       "      <td>{САО}</td>\n",
       "      <td>{Район Коптево}</td>\n",
       "    </tr>\n",
       "    <tr>\n",
       "      <td>161</td>\n",
       "      <td>Костомаровский мост</td>\n",
       "      <td>{ЦАО}</td>\n",
       "      <td>{Таганский район}</td>\n",
       "    </tr>\n",
       "    <tr>\n",
       "      <td>162</td>\n",
       "      <td>Костомаровский переулок</td>\n",
       "      <td>{ЦАО}</td>\n",
       "      <td>{Таганский район}</td>\n",
       "    </tr>\n",
       "    <tr>\n",
       "      <td>163</td>\n",
       "      <td>Кронштадтский бульвар</td>\n",
       "      <td>{САО}</td>\n",
       "      <td>{Головинский район}</td>\n",
       "    </tr>\n",
       "    <tr>\n",
       "      <td>164</td>\n",
       "      <td>Кусковский просек</td>\n",
       "      <td>{ВАО}</td>\n",
       "      <td>{Район Вешняки}</td>\n",
       "    </tr>\n",
       "    <tr>\n",
       "      <td>165</td>\n",
       "      <td>Лаврушинский переулок</td>\n",
       "      <td>{ЦАО}</td>\n",
       "      <td>{Район Якиманка}</td>\n",
       "    </tr>\n",
       "    <tr>\n",
       "      <td>166</td>\n",
       "      <td>Ленинградский мост</td>\n",
       "      <td>{САО}</td>\n",
       "      <td>{Район Левобережный}</td>\n",
       "    </tr>\n",
       "    <tr>\n",
       "      <td>167</td>\n",
       "      <td>Лермонтовская площадь</td>\n",
       "      <td>{ЦАО}</td>\n",
       "      <td>{Красносельский район}</td>\n",
       "    </tr>\n",
       "    <tr>\n",
       "      <td>168</td>\n",
       "      <td>Лермонтовский проспект</td>\n",
       "      <td>{ЮВАО}</td>\n",
       "      <td>{Район Выхино-Жулебино}</td>\n",
       "    </tr>\n",
       "    <tr>\n",
       "      <td>169</td>\n",
       "      <td>Летняя аллея</td>\n",
       "      <td>{САО}</td>\n",
       "      <td>{Район Аэропорт}</td>\n",
       "    </tr>\n",
       "    <tr>\n",
       "      <td>170</td>\n",
       "      <td>Лефортовский мост</td>\n",
       "      <td>{ЦАО}</td>\n",
       "      <td>{Басманный район}</td>\n",
       "    </tr>\n",
       "    <tr>\n",
       "      <td>171</td>\n",
       "      <td>Липовая аллея</td>\n",
       "      <td>{САО}</td>\n",
       "      <td>{Район Аэропорт}</td>\n",
       "    </tr>\n",
       "    <tr>\n",
       "      <td>172</td>\n",
       "      <td>Лубянская площадь</td>\n",
       "      <td>{ЦАО}</td>\n",
       "      <td>{Тверской район}</td>\n",
       "    </tr>\n",
       "    <tr>\n",
       "      <td>173</td>\n",
       "      <td>Лубянский проезд</td>\n",
       "      <td>{ЦАО}</td>\n",
       "      <td>{Басманный район}</td>\n",
       "    </tr>\n",
       "    <tr>\n",
       "      <td>174</td>\n",
       "      <td>Луганская улица</td>\n",
       "      <td>{ЮАО}</td>\n",
       "      <td>{Район Царицыно}</td>\n",
       "    </tr>\n",
       "    <tr>\n",
       "      <td>175</td>\n",
       "      <td>Лукинская улица</td>\n",
       "      <td>{ЗАО}</td>\n",
       "      <td>{Район Ново-Переделкино}</td>\n",
       "    </tr>\n",
       "    <tr>\n",
       "      <td>176</td>\n",
       "      <td>МКАД, 10-й километр</td>\n",
       "      <td>{ЮВАО}</td>\n",
       "      <td>{Район Выхино-Жулебино}</td>\n",
       "    </tr>\n",
       "    <tr>\n",
       "      <td>177</td>\n",
       "      <td>МКАД, 101-й километр</td>\n",
       "      <td>{ВАО}</td>\n",
       "      <td>{Район Гольяново}</td>\n",
       "    </tr>\n",
       "    <tr>\n",
       "      <td>178</td>\n",
       "      <td>МКАД, 102-й километр</td>\n",
       "      <td>{ВАО}</td>\n",
       "      <td>{Район Гольяново}</td>\n",
       "    </tr>\n",
       "    <tr>\n",
       "      <td>179</td>\n",
       "      <td>МКАД, 26-й километр</td>\n",
       "      <td>{ЮАО}</td>\n",
       "      <td>{Район Бирюлево Восточное}</td>\n",
       "    </tr>\n",
       "    <tr>\n",
       "      <td>180</td>\n",
       "      <td>МКАД, 28-й километр</td>\n",
       "      <td>{ЮАО}</td>\n",
       "      <td>{Район Бирюлево Восточное}</td>\n",
       "    </tr>\n",
       "    <tr>\n",
       "      <td>181</td>\n",
       "      <td>МКАД, 3-й километр</td>\n",
       "      <td>{ВАО}</td>\n",
       "      <td>{Район Ивановское}</td>\n",
       "    </tr>\n",
       "    <tr>\n",
       "      <td>182</td>\n",
       "      <td>МКАД, 30-й километр</td>\n",
       "      <td>{ЮАО}</td>\n",
       "      <td>{Район Бирюлево Западное}</td>\n",
       "    </tr>\n",
       "    <tr>\n",
       "      <td>183</td>\n",
       "      <td>МКАД, 32-й километр</td>\n",
       "      <td>{ЮАО}</td>\n",
       "      <td>{Район Бирюлево Западное}</td>\n",
       "    </tr>\n",
       "    <tr>\n",
       "      <td>184</td>\n",
       "      <td>МКАД, 34-й километр</td>\n",
       "      <td>{ЮЗАО}</td>\n",
       "      <td>{Район Северное Бутово}</td>\n",
       "    </tr>\n",
       "    <tr>\n",
       "      <td>185</td>\n",
       "      <td>МКАД, 43-й километр</td>\n",
       "      <td>{ЮЗАО}</td>\n",
       "      <td>{Район Теплый Стан}</td>\n",
       "    </tr>\n",
       "    <tr>\n",
       "      <td>186</td>\n",
       "      <td>МКАД, 48-й километр</td>\n",
       "      <td>{ЗАО}</td>\n",
       "      <td>{Район Очаково-Матвеевское}</td>\n",
       "    </tr>\n",
       "    <tr>\n",
       "      <td>187</td>\n",
       "      <td>МКАД, 5-й километр</td>\n",
       "      <td>{ВАО}</td>\n",
       "      <td>{Район Вешняки}</td>\n",
       "    </tr>\n",
       "    <tr>\n",
       "      <td>188</td>\n",
       "      <td>МКАД, 56-й километр</td>\n",
       "      <td>{ЗАО}</td>\n",
       "      <td>{Можайский Район}</td>\n",
       "    </tr>\n",
       "    <tr>\n",
       "      <td>189</td>\n",
       "      <td>МКАД, 6-й километр</td>\n",
       "      <td>{ВАО}</td>\n",
       "      <td>{Район Косино-Ухтомский}</td>\n",
       "    </tr>\n",
       "    <tr>\n",
       "      <td>190</td>\n",
       "      <td>МКАД, 64-й километр</td>\n",
       "      <td>{СЗАО}</td>\n",
       "      <td>{Район Строгино}</td>\n",
       "    </tr>\n",
       "    <tr>\n",
       "      <td>191</td>\n",
       "      <td>МКАД, 8-й километр</td>\n",
       "      <td>{ЮВАО}</td>\n",
       "      <td>{Район Выхино-Жулебино}</td>\n",
       "    </tr>\n",
       "    <tr>\n",
       "      <td>192</td>\n",
       "      <td>МКАД, 90-й километр</td>\n",
       "      <td>{СВАО}</td>\n",
       "      <td>{Район Северное Медведково}</td>\n",
       "    </tr>\n",
       "    <tr>\n",
       "      <td>193</td>\n",
       "      <td>МКАД, 99-й километр</td>\n",
       "      <td>{ВАО}</td>\n",
       "      <td>{Район Метрогородок}</td>\n",
       "    </tr>\n",
       "    <tr>\n",
       "      <td>194</td>\n",
       "      <td>Магаданская улица</td>\n",
       "      <td>{СВАО}</td>\n",
       "      <td>{Лосиноостровский район}</td>\n",
       "    </tr>\n",
       "    <tr>\n",
       "      <td>195</td>\n",
       "      <td>Малахитовая улица</td>\n",
       "      <td>{СВАО}</td>\n",
       "      <td>{Район Ростокино}</td>\n",
       "    </tr>\n",
       "    <tr>\n",
       "      <td>196</td>\n",
       "      <td>Малая Ботаническая улица</td>\n",
       "      <td>{СВАО}</td>\n",
       "      <td>{Район Марфино}</td>\n",
       "    </tr>\n",
       "    <tr>\n",
       "      <td>197</td>\n",
       "      <td>Малая Черкизовская улица</td>\n",
       "      <td>{ВАО}</td>\n",
       "      <td>{Район Богородское}</td>\n",
       "    </tr>\n",
       "    <tr>\n",
       "      <td>198</td>\n",
       "      <td>Малая Ширяевская улица</td>\n",
       "      <td>{ВАО}</td>\n",
       "      <td>{Район Сокольники}</td>\n",
       "    </tr>\n",
       "    <tr>\n",
       "      <td>199</td>\n",
       "      <td>Малое кольцо Московской железной дороги (МКМЖД)</td>\n",
       "      <td>{ЮВАО, ЦАО}</td>\n",
       "      <td>{Пресненский район, Южнопортовый Район}</td>\n",
       "    </tr>\n",
       "    <tr>\n",
       "      <td>200</td>\n",
       "      <td>Малый Боженинский переулок</td>\n",
       "      <td>{ЦАО}</td>\n",
       "      <td>{Район Хамовники}</td>\n",
       "    </tr>\n",
       "    <tr>\n",
       "      <td>201</td>\n",
       "      <td>Малый Демидовский переулок</td>\n",
       "      <td>{ЦАО}</td>\n",
       "      <td>{Басманный район}</td>\n",
       "    </tr>\n",
       "    <tr>\n",
       "      <td>202</td>\n",
       "      <td>Малый Знаменский переулок</td>\n",
       "      <td>{ЦАО}</td>\n",
       "      <td>{Район Хамовники}</td>\n",
       "    </tr>\n",
       "    <tr>\n",
       "      <td>203</td>\n",
       "      <td>Малый Калужский переулок</td>\n",
       "      <td>{ЮАО}</td>\n",
       "      <td>{Донской район}</td>\n",
       "    </tr>\n",
       "    <tr>\n",
       "      <td>204</td>\n",
       "      <td>Малый Рогожский переулок</td>\n",
       "      <td>{ЦАО}</td>\n",
       "      <td>{Таганский район}</td>\n",
       "    </tr>\n",
       "    <tr>\n",
       "      <td>205</td>\n",
       "      <td>Малый Татарский переулок</td>\n",
       "      <td>{ЦАО}</td>\n",
       "      <td>{Район Замоскворечье}</td>\n",
       "    </tr>\n",
       "    <tr>\n",
       "      <td>206</td>\n",
       "      <td>Мансуровский переулок</td>\n",
       "      <td>{ЦАО}</td>\n",
       "      <td>{Район Хамовники}</td>\n",
       "    </tr>\n",
       "    <tr>\n",
       "      <td>207</td>\n",
       "      <td>Международная улица</td>\n",
       "      <td>{ЦАО}</td>\n",
       "      <td>{Таганский район}</td>\n",
       "    </tr>\n",
       "    <tr>\n",
       "      <td>208</td>\n",
       "      <td>Мерзляковский переулок</td>\n",
       "      <td>{ЦАО}</td>\n",
       "      <td>{Пресненский район}</td>\n",
       "    </tr>\n",
       "    <tr>\n",
       "      <td>209</td>\n",
       "      <td>Мещерский проспект</td>\n",
       "      <td>{ЗАО}</td>\n",
       "      <td>{Район Солнцево}</td>\n",
       "    </tr>\n",
       "    <tr>\n",
       "      <td>210</td>\n",
       "      <td>Минская улица</td>\n",
       "      <td>{ЗАО}</td>\n",
       "      <td>{Район Фили-Давыдково, Район Дорогомилово, Рай...</td>\n",
       "    </tr>\n",
       "    <tr>\n",
       "      <td>211</td>\n",
       "      <td>Мирской переулок</td>\n",
       "      <td>{САО}</td>\n",
       "      <td>{Савеловский район}</td>\n",
       "    </tr>\n",
       "    <tr>\n",
       "      <td>212</td>\n",
       "      <td>Мичуринский проспект</td>\n",
       "      <td>{ЗАО}</td>\n",
       "      <td>{Район Тропарево-Никулино}</td>\n",
       "    </tr>\n",
       "    <tr>\n",
       "      <td>213</td>\n",
       "      <td>Московская Кольцевая Автодорога</td>\n",
       "      <td>{СЗАО, ВАО, ЮЗАО, САО}</td>\n",
       "      <td>{Район Северное Измайлово, Район Ховрино, Райо...</td>\n",
       "    </tr>\n",
       "    <tr>\n",
       "      <td>214</td>\n",
       "      <td>Мытная улица</td>\n",
       "      <td>{ЦАО}</td>\n",
       "      <td>{Район Замоскворечье}</td>\n",
       "    </tr>\n",
       "    <tr>\n",
       "      <td>215</td>\n",
       "      <td>Мякининский проезд</td>\n",
       "      <td>{СЗАО}</td>\n",
       "      <td>{Район Строгино}</td>\n",
       "    </tr>\n",
       "    <tr>\n",
       "      <td>216</td>\n",
       "      <td>Мясницкий проезд</td>\n",
       "      <td>{ЦАО}</td>\n",
       "      <td>{Красносельский район}</td>\n",
       "    </tr>\n",
       "    <tr>\n",
       "      <td>217</td>\n",
       "      <td>Мячковский бульвар</td>\n",
       "      <td>{ЮВАО}</td>\n",
       "      <td>{Район Марьино}</td>\n",
       "    </tr>\n",
       "    <tr>\n",
       "      <td>218</td>\n",
       "      <td>Нагатинская набережная</td>\n",
       "      <td>{ЮАО}</td>\n",
       "      <td>{Район Нагатинский затон}</td>\n",
       "    </tr>\n",
       "    <tr>\n",
       "      <td>219</td>\n",
       "      <td>Наримановская улица</td>\n",
       "      <td>{ВАО}</td>\n",
       "      <td>{Район Богородское}</td>\n",
       "    </tr>\n",
       "    <tr>\n",
       "      <td>220</td>\n",
       "      <td>Научный проезд</td>\n",
       "      <td>{ЮЗАО}</td>\n",
       "      <td>{Район Черемушки}</td>\n",
       "    </tr>\n",
       "    <tr>\n",
       "      <td>221</td>\n",
       "      <td>Нахимовский проспект</td>\n",
       "      <td>{ЮЗАО}</td>\n",
       "      <td>{Район Зюзино, Ломоносовский район, Район Чере...</td>\n",
       "    </tr>\n",
       "    <tr>\n",
       "      <td>222</td>\n",
       "      <td>Нащокинский переулок</td>\n",
       "      <td>{ЦАО}</td>\n",
       "      <td>{Район Хамовники}</td>\n",
       "    </tr>\n",
       "    <tr>\n",
       "      <td>223</td>\n",
       "      <td>Нижняя Первомайская улица</td>\n",
       "      <td>{ВАО}</td>\n",
       "      <td>{Район Измайлово}</td>\n",
       "    </tr>\n",
       "    <tr>\n",
       "      <td>224</td>\n",
       "      <td>Нижняя Сыромятническая улица</td>\n",
       "      <td>{ЦАО}</td>\n",
       "      <td>{Басманный район}</td>\n",
       "    </tr>\n",
       "    <tr>\n",
       "      <td>225</td>\n",
       "      <td>Нижняя улица</td>\n",
       "      <td>{САО}</td>\n",
       "      <td>{Район Беговой}</td>\n",
       "    </tr>\n",
       "    <tr>\n",
       "      <td>226</td>\n",
       "      <td>Николоваганьковский переулок</td>\n",
       "      <td>{ЦАО}</td>\n",
       "      <td>{Пресненский район}</td>\n",
       "    </tr>\n",
       "    <tr>\n",
       "      <td>227</td>\n",
       "      <td>Новгородская улица</td>\n",
       "      <td>{СВАО}</td>\n",
       "      <td>{Район Лианозово}</td>\n",
       "    </tr>\n",
       "    <tr>\n",
       "      <td>228</td>\n",
       "      <td>Новоандреевский мост</td>\n",
       "      <td>{ЮЗАО}</td>\n",
       "      <td>{Район Гагаринский}</td>\n",
       "    </tr>\n",
       "    <tr>\n",
       "      <td>229</td>\n",
       "      <td>Новомосковская улица</td>\n",
       "      <td>{СВАО}</td>\n",
       "      <td>{Останкинский район}</td>\n",
       "    </tr>\n",
       "    <tr>\n",
       "      <td>230</td>\n",
       "      <td>Новооскольская улица</td>\n",
       "      <td>{ЮЗАО}</td>\n",
       "      <td>{Район Южное Бутово}</td>\n",
       "    </tr>\n",
       "    <tr>\n",
       "      <td>231</td>\n",
       "      <td>Новопоселковая улица</td>\n",
       "      <td>{СЗАО}</td>\n",
       "      <td>{Район Южное Тушино}</td>\n",
       "    </tr>\n",
       "    <tr>\n",
       "      <td>232</td>\n",
       "      <td>Новорогожская улица</td>\n",
       "      <td>{ЦАО}</td>\n",
       "      <td>{Таганский район}</td>\n",
       "    </tr>\n",
       "    <tr>\n",
       "      <td>233</td>\n",
       "      <td>Новорязанская улица</td>\n",
       "      <td>{ЦАО}</td>\n",
       "      <td>{Басманный район}</td>\n",
       "    </tr>\n",
       "    <tr>\n",
       "      <td>234</td>\n",
       "      <td>Новоспасский мост</td>\n",
       "      <td>{ЦАО}</td>\n",
       "      <td>{Таганский район}</td>\n",
       "    </tr>\n",
       "    <tr>\n",
       "      <td>235</td>\n",
       "      <td>Новоцарицынское шоссе</td>\n",
       "      <td>{ЮАО}</td>\n",
       "      <td>{Район Царицыно}</td>\n",
       "    </tr>\n",
       "    <tr>\n",
       "      <td>236</td>\n",
       "      <td>Овчинниковская набережная</td>\n",
       "      <td>{ЦАО}</td>\n",
       "      <td>{Район Замоскворечье}</td>\n",
       "    </tr>\n",
       "    <tr>\n",
       "      <td>237</td>\n",
       "      <td>Окружной проезд</td>\n",
       "      <td>{ВАО}</td>\n",
       "      <td>{Район Соколиная Гора}</td>\n",
       "    </tr>\n",
       "    <tr>\n",
       "      <td>238</td>\n",
       "      <td>Орликов переулок</td>\n",
       "      <td>{ЦАО}</td>\n",
       "      <td>{Красносельский район}</td>\n",
       "    </tr>\n",
       "    <tr>\n",
       "      <td>239</td>\n",
       "      <td>Открытое шоссе</td>\n",
       "      <td>{ВАО}</td>\n",
       "      <td>{Район Богородское}</td>\n",
       "    </tr>\n",
       "    <tr>\n",
       "      <td>240</td>\n",
       "      <td>Очаковская улица</td>\n",
       "      <td>{ЗАО}</td>\n",
       "      <td>{Район Солнцево}</td>\n",
       "    </tr>\n",
       "    <tr>\n",
       "      <td>241</td>\n",
       "      <td>Павелецкая набережная</td>\n",
       "      <td>{ЮАО}</td>\n",
       "      <td>{Даниловский район}</td>\n",
       "    </tr>\n",
       "    <tr>\n",
       "      <td>242</td>\n",
       "      <td>Павловская улица</td>\n",
       "      <td>{ЮАО}</td>\n",
       "      <td>{Даниловский район}</td>\n",
       "    </tr>\n",
       "    <tr>\n",
       "      <td>243</td>\n",
       "      <td>Пантелеевская улица</td>\n",
       "      <td>{ЦАО}</td>\n",
       "      <td>{Красносельский район}</td>\n",
       "    </tr>\n",
       "    <tr>\n",
       "      <td>244</td>\n",
       "      <td>Парковая улица</td>\n",
       "      <td>{СЗАО}</td>\n",
       "      <td>{Район Митино}</td>\n",
       "    </tr>\n",
       "    <tr>\n",
       "      <td>245</td>\n",
       "      <td>Первомайский проезд</td>\n",
       "      <td>{ВАО}</td>\n",
       "      <td>{Район Восточное Измайлово}</td>\n",
       "    </tr>\n",
       "    <tr>\n",
       "      <td>246</td>\n",
       "      <td>Переяславский переулок</td>\n",
       "      <td>{ЦАО}</td>\n",
       "      <td>{Мещанский район}</td>\n",
       "    </tr>\n",
       "    <tr>\n",
       "      <td>247</td>\n",
       "      <td>Перовская улица</td>\n",
       "      <td>{ВАО}</td>\n",
       "      <td>{Район Новогиреево}</td>\n",
       "    </tr>\n",
       "    <tr>\n",
       "      <td>248</td>\n",
       "      <td>Перовский проезд</td>\n",
       "      <td>{ЮВАО}</td>\n",
       "      <td>{Нижегородский район}</td>\n",
       "    </tr>\n",
       "    <tr>\n",
       "      <td>249</td>\n",
       "      <td>Петровский бульвар</td>\n",
       "      <td>{ЦАО}</td>\n",
       "      <td>{Тверской район}</td>\n",
       "    </tr>\n",
       "    <tr>\n",
       "      <td>250</td>\n",
       "      <td>Пилотская улица</td>\n",
       "      <td>{ЗАО}</td>\n",
       "      <td>{Район Внуково}</td>\n",
       "    </tr>\n",
       "    <tr>\n",
       "      <td>251</td>\n",
       "      <td>Подколокольный переулок</td>\n",
       "      <td>{ЦАО}</td>\n",
       "      <td>{Таганский район}</td>\n",
       "    </tr>\n",
       "    <tr>\n",
       "      <td>252</td>\n",
       "      <td>Полянский переулок</td>\n",
       "      <td>{ЦАО}</td>\n",
       "      <td>{Район Якиманка}</td>\n",
       "    </tr>\n",
       "    <tr>\n",
       "      <td>253</td>\n",
       "      <td>Правая Дворцовая аллея</td>\n",
       "      <td>{САО}</td>\n",
       "      <td>{Район Аэропорт}</td>\n",
       "    </tr>\n",
       "    <tr>\n",
       "      <td>254</td>\n",
       "      <td>Преображенская набережная</td>\n",
       "      <td>{ВАО}</td>\n",
       "      <td>{Район Преображенское}</td>\n",
       "    </tr>\n",
       "    <tr>\n",
       "      <td>255</td>\n",
       "      <td>Пресненский переулок</td>\n",
       "      <td>{ЦАО}</td>\n",
       "      <td>{Пресненский район}</td>\n",
       "    </tr>\n",
       "    <tr>\n",
       "      <td>256</td>\n",
       "      <td>Проезд N 474</td>\n",
       "      <td>{Зеленоград}</td>\n",
       "      <td>{Панфиловский район}</td>\n",
       "    </tr>\n",
       "    <tr>\n",
       "      <td>257</td>\n",
       "      <td>Проезд N 4801</td>\n",
       "      <td>{Зеленоград}</td>\n",
       "      <td>{Район Матушкино-Савелки}</td>\n",
       "    </tr>\n",
       "    <tr>\n",
       "      <td>258</td>\n",
       "      <td>Проектируемый проезд N 5207</td>\n",
       "      <td>{САО}</td>\n",
       "      <td>{Район Западное Дегунино, Дмитровский район}</td>\n",
       "    </tr>\n",
       "    <tr>\n",
       "      <td>259</td>\n",
       "      <td>Проектируемый проезд N 5509</td>\n",
       "      <td>{САО}</td>\n",
       "      <td>{Хорошевский район}</td>\n",
       "    </tr>\n",
       "    <tr>\n",
       "      <td>260</td>\n",
       "      <td>Производственная улица</td>\n",
       "      <td>{ЗАО}</td>\n",
       "      <td>{Район Солнцево}</td>\n",
       "    </tr>\n",
       "    <tr>\n",
       "      <td>261</td>\n",
       "      <td>Профсоюзная улица</td>\n",
       "      <td>{ЮЗАО}</td>\n",
       "      <td>{Академический район}</td>\n",
       "    </tr>\n",
       "    <tr>\n",
       "      <td>262</td>\n",
       "      <td>Прудный переулок</td>\n",
       "      <td>{Зеленоград}</td>\n",
       "      <td>{Район Крюково}</td>\n",
       "    </tr>\n",
       "    <tr>\n",
       "      <td>263</td>\n",
       "      <td>Путевой проезд</td>\n",
       "      <td>{СВАО}</td>\n",
       "      <td>{Район Лианозово}</td>\n",
       "    </tr>\n",
       "    <tr>\n",
       "      <td>264</td>\n",
       "      <td>Путейский тупик</td>\n",
       "      <td>{ЦАО}</td>\n",
       "      <td>{Басманный район}</td>\n",
       "    </tr>\n",
       "    <tr>\n",
       "      <td>265</td>\n",
       "      <td>Рабфаковский переулок</td>\n",
       "      <td>{ЦАО}</td>\n",
       "      <td>{Басманный район}</td>\n",
       "    </tr>\n",
       "    <tr>\n",
       "      <td>266</td>\n",
       "      <td>Рижский проезд</td>\n",
       "      <td>{СВАО}</td>\n",
       "      <td>{Алексеевский район}</td>\n",
       "    </tr>\n",
       "    <tr>\n",
       "      <td>267</td>\n",
       "      <td>Россошанская улица</td>\n",
       "      <td>{ЮАО}</td>\n",
       "      <td>{Район Чертаново Южное}</td>\n",
       "    </tr>\n",
       "    <tr>\n",
       "      <td>268</td>\n",
       "      <td>Рублёвское шоссе</td>\n",
       "      <td>{ЗАО}</td>\n",
       "      <td>{Район Крылатское}</td>\n",
       "    </tr>\n",
       "    <tr>\n",
       "      <td>269</td>\n",
       "      <td>Рубцовская набережная</td>\n",
       "      <td>{ЦАО}</td>\n",
       "      <td>{Басманный район}</td>\n",
       "    </tr>\n",
       "    <tr>\n",
       "      <td>270</td>\n",
       "      <td>Русаковская улица</td>\n",
       "      <td>{ЦАО}</td>\n",
       "      <td>{Красносельский район}</td>\n",
       "    </tr>\n",
       "    <tr>\n",
       "      <td>271</td>\n",
       "      <td>Рыбников переулок</td>\n",
       "      <td>{ЦАО}</td>\n",
       "      <td>{Красносельский район}</td>\n",
       "    </tr>\n",
       "    <tr>\n",
       "      <td>272</td>\n",
       "      <td>Рябиновая улица</td>\n",
       "      <td>{ЗАО}</td>\n",
       "      <td>{Можайский Район}</td>\n",
       "    </tr>\n",
       "    <tr>\n",
       "      <td>273</td>\n",
       "      <td>Садовническая набережная</td>\n",
       "      <td>{ЦАО}</td>\n",
       "      <td>{Район Замоскворечье}</td>\n",
       "    </tr>\n",
       "    <tr>\n",
       "      <td>274</td>\n",
       "      <td>Садовнический мост</td>\n",
       "      <td>{ЦАО}</td>\n",
       "      <td>{Район Замоскворечье}</td>\n",
       "    </tr>\n",
       "    <tr>\n",
       "      <td>275</td>\n",
       "      <td>Северо-Западный тоннель</td>\n",
       "      <td>{СЗАО}</td>\n",
       "      <td>{Район Строгино}</td>\n",
       "    </tr>\n",
       "    <tr>\n",
       "      <td>276</td>\n",
       "      <td>Сельскохозяйственная улица</td>\n",
       "      <td>{СВАО}</td>\n",
       "      <td>{Останкинский район}</td>\n",
       "    </tr>\n",
       "    <tr>\n",
       "      <td>277</td>\n",
       "      <td>Семёновская площадь</td>\n",
       "      <td>{ВАО}</td>\n",
       "      <td>{Район Соколиная Гора}</td>\n",
       "    </tr>\n",
       "    <tr>\n",
       "      <td>278</td>\n",
       "      <td>Серебрянический переулок</td>\n",
       "      <td>{ЦАО}</td>\n",
       "      <td>{Таганский район}</td>\n",
       "    </tr>\n",
       "    <tr>\n",
       "      <td>279</td>\n",
       "      <td>Серпов переулок</td>\n",
       "      <td>{ЦАО}</td>\n",
       "      <td>{Район Хамовники}</td>\n",
       "    </tr>\n",
       "    <tr>\n",
       "      <td>280</td>\n",
       "      <td>Сеченовский переулок</td>\n",
       "      <td>{ЦАО}</td>\n",
       "      <td>{Район Хамовники}</td>\n",
       "    </tr>\n",
       "    <tr>\n",
       "      <td>281</td>\n",
       "      <td>Симферопольский проезд</td>\n",
       "      <td>{ЮАО}</td>\n",
       "      <td>{Нагорный район}</td>\n",
       "    </tr>\n",
       "    <tr>\n",
       "      <td>282</td>\n",
       "      <td>Смоленская-Сенная площадь</td>\n",
       "      <td>{ЦАО}</td>\n",
       "      <td>{Район Арбат}</td>\n",
       "    </tr>\n",
       "    <tr>\n",
       "      <td>283</td>\n",
       "      <td>Снежная улица</td>\n",
       "      <td>{СВАО}</td>\n",
       "      <td>{Район Свиблово}</td>\n",
       "    </tr>\n",
       "    <tr>\n",
       "      <td>284</td>\n",
       "      <td>Советская улица</td>\n",
       "      <td>{ЗАО, Зеленоград}</td>\n",
       "      <td>{Район Крюково, Район Кунцево}</td>\n",
       "    </tr>\n",
       "    <tr>\n",
       "      <td>285</td>\n",
       "      <td>Солнечная аллея</td>\n",
       "      <td>{Зеленоград}</td>\n",
       "      <td>{Панфиловский район}</td>\n",
       "    </tr>\n",
       "    <tr>\n",
       "      <td>286</td>\n",
       "      <td>Солянский тупик</td>\n",
       "      <td>{ЦАО}</td>\n",
       "      <td>{Таганский район}</td>\n",
       "    </tr>\n",
       "    <tr>\n",
       "      <td>287</td>\n",
       "      <td>Сосинская улица</td>\n",
       "      <td>{ЮВАО}</td>\n",
       "      <td>{Южнопортовый Район}</td>\n",
       "    </tr>\n",
       "    <tr>\n",
       "      <td>288</td>\n",
       "      <td>Средняя Калитниковская улица</td>\n",
       "      <td>{ЦАО}</td>\n",
       "      <td>{Таганский район}</td>\n",
       "    </tr>\n",
       "    <tr>\n",
       "      <td>289</td>\n",
       "      <td>Старокрымская улица</td>\n",
       "      <td>{ЮЗАО}</td>\n",
       "      <td>{Район Южное Бутово}</td>\n",
       "    </tr>\n",
       "    <tr>\n",
       "      <td>290</td>\n",
       "      <td>Старорублёвский мост</td>\n",
       "      <td>{ЗАО}</td>\n",
       "      <td>{Район Раменки}</td>\n",
       "    </tr>\n",
       "    <tr>\n",
       "      <td>291</td>\n",
       "      <td>Стремянный переулок</td>\n",
       "      <td>{ЦАО}</td>\n",
       "      <td>{Район Замоскворечье}</td>\n",
       "    </tr>\n",
       "    <tr>\n",
       "      <td>292</td>\n",
       "      <td>Строгановский проезд</td>\n",
       "      <td>{ЮВАО}</td>\n",
       "      <td>{Район Лефортово}</td>\n",
       "    </tr>\n",
       "    <tr>\n",
       "      <td>293</td>\n",
       "      <td>Студенецкий переулок</td>\n",
       "      <td>{ЦАО}</td>\n",
       "      <td>{Пресненский район}</td>\n",
       "    </tr>\n",
       "    <tr>\n",
       "      <td>294</td>\n",
       "      <td>Ступинский проезд</td>\n",
       "      <td>{ЮАО}</td>\n",
       "      <td>{Район Бирюлево Западное}</td>\n",
       "    </tr>\n",
       "    <tr>\n",
       "      <td>295</td>\n",
       "      <td>Сусоколовское шоссе</td>\n",
       "      <td>{СВАО}</td>\n",
       "      <td>{Район Марфино}</td>\n",
       "    </tr>\n",
       "    <tr>\n",
       "      <td>296</td>\n",
       "      <td>Таёжная улица</td>\n",
       "      <td>{СВАО}</td>\n",
       "      <td>{Лосиноостровский район}</td>\n",
       "    </tr>\n",
       "    <tr>\n",
       "      <td>297</td>\n",
       "      <td>Театральная площадь</td>\n",
       "      <td>{ЦАО}</td>\n",
       "      <td>{Тверской район}</td>\n",
       "    </tr>\n",
       "    <tr>\n",
       "      <td>298</td>\n",
       "      <td>Тессинский переулок</td>\n",
       "      <td>{ЦАО}</td>\n",
       "      <td>{Таганский район}</td>\n",
       "    </tr>\n",
       "    <tr>\n",
       "      <td>299</td>\n",
       "      <td>Тихорецкий бульвар</td>\n",
       "      <td>{ЮВАО}</td>\n",
       "      <td>{Район Люблино}</td>\n",
       "    </tr>\n",
       "    <tr>\n",
       "      <td>300</td>\n",
       "      <td>Тютчевская аллея</td>\n",
       "      <td>{ЮЗАО}</td>\n",
       "      <td>{Район Ясенево}</td>\n",
       "    </tr>\n",
       "    <tr>\n",
       "      <td>301</td>\n",
       "      <td>Уржумская улица</td>\n",
       "      <td>{СВАО}</td>\n",
       "      <td>{Район Свиблово}</td>\n",
       "    </tr>\n",
       "    <tr>\n",
       "      <td>302</td>\n",
       "      <td>Федеративный проспект</td>\n",
       "      <td>{ВАО}</td>\n",
       "      <td>{Район Ивановское}</td>\n",
       "    </tr>\n",
       "    <tr>\n",
       "      <td>303</td>\n",
       "      <td>Федоскинская улица</td>\n",
       "      <td>{СВАО}</td>\n",
       "      <td>{Ярославский Район}</td>\n",
       "    </tr>\n",
       "    <tr>\n",
       "      <td>304</td>\n",
       "      <td>Филаретовская улица</td>\n",
       "      <td>{Зеленоград}</td>\n",
       "      <td>{Панфиловский район}</td>\n",
       "    </tr>\n",
       "    <tr>\n",
       "      <td>305</td>\n",
       "      <td>Флотская улица</td>\n",
       "      <td>{САО}</td>\n",
       "      <td>{Молжаниновский район}</td>\n",
       "    </tr>\n",
       "    <tr>\n",
       "      <td>306</td>\n",
       "      <td>Фруктовая улица</td>\n",
       "      <td>{ЮЗАО}</td>\n",
       "      <td>{Район Зюзино}</td>\n",
       "    </tr>\n",
       "    <tr>\n",
       "      <td>307</td>\n",
       "      <td>Фрязевская улица</td>\n",
       "      <td>{ВАО}</td>\n",
       "      <td>{Район Ивановское}</td>\n",
       "    </tr>\n",
       "    <tr>\n",
       "      <td>308</td>\n",
       "      <td>Хованская улица</td>\n",
       "      <td>{СВАО}</td>\n",
       "      <td>{Останкинский район}</td>\n",
       "    </tr>\n",
       "    <tr>\n",
       "      <td>309</td>\n",
       "      <td>Ходынская улица</td>\n",
       "      <td>{ЦАО}</td>\n",
       "      <td>{Пресненский район}</td>\n",
       "    </tr>\n",
       "    <tr>\n",
       "      <td>310</td>\n",
       "      <td>Холодильный переулок</td>\n",
       "      <td>{ЮАО}</td>\n",
       "      <td>{Даниловский район}</td>\n",
       "    </tr>\n",
       "    <tr>\n",
       "      <td>311</td>\n",
       "      <td>Хомутовский тупик</td>\n",
       "      <td>{ЦАО}</td>\n",
       "      <td>{Басманный район}</td>\n",
       "    </tr>\n",
       "    <tr>\n",
       "      <td>312</td>\n",
       "      <td>Хорошёвский тупик</td>\n",
       "      <td>{САО}</td>\n",
       "      <td>{Хорошевский район}</td>\n",
       "    </tr>\n",
       "    <tr>\n",
       "      <td>313</td>\n",
       "      <td>Цветной бульвар</td>\n",
       "      <td>{ЦАО}</td>\n",
       "      <td>{Мещанский район}</td>\n",
       "    </tr>\n",
       "    <tr>\n",
       "      <td>314</td>\n",
       "      <td>Центральная улица</td>\n",
       "      <td>{СЗАО}</td>\n",
       "      <td>{Район Митино}</td>\n",
       "    </tr>\n",
       "    <tr>\n",
       "      <td>315</td>\n",
       "      <td>Чермянская улица</td>\n",
       "      <td>{СВАО}</td>\n",
       "      <td>{Район Северное Медведково}</td>\n",
       "    </tr>\n",
       "    <tr>\n",
       "      <td>316</td>\n",
       "      <td>Черневская улица</td>\n",
       "      <td>{ЮЗАО}</td>\n",
       "      <td>{Район Южное Бутово}</td>\n",
       "    </tr>\n",
       "    <tr>\n",
       "      <td>317</td>\n",
       "      <td>Шелепихинская набережная</td>\n",
       "      <td>{ЦАО}</td>\n",
       "      <td>{Пресненский район}</td>\n",
       "    </tr>\n",
       "    <tr>\n",
       "      <td>318</td>\n",
       "      <td>Шмитовский проезд</td>\n",
       "      <td>{ЦАО}</td>\n",
       "      <td>{Пресненский район}</td>\n",
       "    </tr>\n",
       "    <tr>\n",
       "      <td>319</td>\n",
       "      <td>Щёлковское шоссе</td>\n",
       "      <td>{ВАО}</td>\n",
       "      <td>{Район Северное Измайлово}</td>\n",
       "    </tr>\n",
       "    <tr>\n",
       "      <td>320</td>\n",
       "      <td>Электродная улица</td>\n",
       "      <td>{ВАО}</td>\n",
       "      <td>{Район Перово}</td>\n",
       "    </tr>\n",
       "    <tr>\n",
       "      <td>321</td>\n",
       "      <td>Электролитный проезд</td>\n",
       "      <td>{ЮАО}</td>\n",
       "      <td>{Нагорный район}</td>\n",
       "    </tr>\n",
       "    <tr>\n",
       "      <td>322</td>\n",
       "      <td>Южнопортовая улица</td>\n",
       "      <td>{ЮВАО}</td>\n",
       "      <td>{Южнопортовый Район}</td>\n",
       "    </tr>\n",
       "    <tr>\n",
       "      <td>323</td>\n",
       "      <td>Юровская улица</td>\n",
       "      <td>{СЗАО}</td>\n",
       "      <td>{Район Куркино}</td>\n",
       "    </tr>\n",
       "    <tr>\n",
       "      <td>324</td>\n",
       "      <td>Языковский переулок</td>\n",
       "      <td>{ЦАО}</td>\n",
       "      <td>{Район Хамовники}</td>\n",
       "    </tr>\n",
       "    <tr>\n",
       "      <td>325</td>\n",
       "      <td>Якиманский переулок</td>\n",
       "      <td>{ЦАО}</td>\n",
       "      <td>{Район Якиманка}</td>\n",
       "    </tr>\n",
       "    <tr>\n",
       "      <td>326</td>\n",
       "      <td>Яузская улица</td>\n",
       "      <td>{ЦАО}</td>\n",
       "      <td>{Таганский район}</td>\n",
       "    </tr>\n",
       "    <tr>\n",
       "      <td>327</td>\n",
       "      <td>аллея Витте</td>\n",
       "      <td>{ЮЗАО}</td>\n",
       "      <td>{Район Южное Бутово}</td>\n",
       "    </tr>\n",
       "    <tr>\n",
       "      <td>328</td>\n",
       "      <td>город Зеленоград</td>\n",
       "      <td>{Зеленоград}</td>\n",
       "      <td>{Район Матушкино-Савелки}</td>\n",
       "    </tr>\n",
       "    <tr>\n",
       "      <td>329</td>\n",
       "      <td>деревня Кутузово</td>\n",
       "      <td>{Зеленоград}</td>\n",
       "      <td>{Район Крюково}</td>\n",
       "    </tr>\n",
       "    <tr>\n",
       "      <td>330</td>\n",
       "      <td>квартал Новые Черёмушки 32а</td>\n",
       "      <td>{ЮЗАО}</td>\n",
       "      <td>{Район Черемушки}</td>\n",
       "    </tr>\n",
       "    <tr>\n",
       "      <td>331</td>\n",
       "      <td>квартал Самаркандский Бульвар 137а</td>\n",
       "      <td>{ЮВАО}</td>\n",
       "      <td>{Район Выхино-Жулебино}</td>\n",
       "    </tr>\n",
       "    <tr>\n",
       "      <td>332</td>\n",
       "      <td>мост Лужники</td>\n",
       "      <td>{ЮЗАО}</td>\n",
       "      <td>{Район Гагаринский}</td>\n",
       "    </tr>\n",
       "    <tr>\n",
       "      <td>333</td>\n",
       "      <td>набережная Академика Туполева</td>\n",
       "      <td>{ЦАО}</td>\n",
       "      <td>{Басманный район}</td>\n",
       "    </tr>\n",
       "    <tr>\n",
       "      <td>334</td>\n",
       "      <td>переулок 800-летия Москвы</td>\n",
       "      <td>{САО}</td>\n",
       "      <td>{Бескудниковский Район}</td>\n",
       "    </tr>\n",
       "    <tr>\n",
       "      <td>335</td>\n",
       "      <td>переулок Каменная Слобода</td>\n",
       "      <td>{ЦАО}</td>\n",
       "      <td>{Район Арбат}</td>\n",
       "    </tr>\n",
       "    <tr>\n",
       "      <td>336</td>\n",
       "      <td>площадь Академика Келдыша</td>\n",
       "      <td>{ЮЗАО}</td>\n",
       "      <td>{Обручевский район}</td>\n",
       "    </tr>\n",
       "    <tr>\n",
       "      <td>337</td>\n",
       "      <td>площадь Амилкара Кабрала</td>\n",
       "      <td>{ВАО}</td>\n",
       "      <td>{Район Вешняки}</td>\n",
       "    </tr>\n",
       "    <tr>\n",
       "      <td>338</td>\n",
       "      <td>площадь Киевского Вокзала</td>\n",
       "      <td>{ЗАО}</td>\n",
       "      <td>{Район Дорогомилово}</td>\n",
       "    </tr>\n",
       "    <tr>\n",
       "      <td>339</td>\n",
       "      <td>площадь Маршала Бабаджаняна</td>\n",
       "      <td>{СЗАО}</td>\n",
       "      <td>{Район Хорошево-Мневники}</td>\n",
       "    </tr>\n",
       "    <tr>\n",
       "      <td>340</td>\n",
       "      <td>площадь Петровские Ворота</td>\n",
       "      <td>{ЦАО}</td>\n",
       "      <td>{Тверской район}</td>\n",
       "    </tr>\n",
       "    <tr>\n",
       "      <td>341</td>\n",
       "      <td>площадь Сретенские Ворота</td>\n",
       "      <td>{ЦАО}</td>\n",
       "      <td>{Мещанский район}</td>\n",
       "    </tr>\n",
       "    <tr>\n",
       "      <td>342</td>\n",
       "      <td>посёлок Акулово</td>\n",
       "      <td>{ВАО}</td>\n",
       "      <td>{Район Восточный}</td>\n",
       "    </tr>\n",
       "    <tr>\n",
       "      <td>343</td>\n",
       "      <td>посёлок Милицейский</td>\n",
       "      <td>{ЮЗАО}</td>\n",
       "      <td>{Район Южное Бутово}</td>\n",
       "    </tr>\n",
       "    <tr>\n",
       "      <td>344</td>\n",
       "      <td>посёлок Шлюзы</td>\n",
       "      <td>{ЮВАО}</td>\n",
       "      <td>{Район Печатники}</td>\n",
       "    </tr>\n",
       "    <tr>\n",
       "      <td>345</td>\n",
       "      <td>проезд Девичьего Поля</td>\n",
       "      <td>{ЦАО}</td>\n",
       "      <td>{Район Хамовники}</td>\n",
       "    </tr>\n",
       "    <tr>\n",
       "      <td>346</td>\n",
       "      <td>проезд Досфлота</td>\n",
       "      <td>{СЗАО}</td>\n",
       "      <td>{Район Южное Тушино}</td>\n",
       "    </tr>\n",
       "    <tr>\n",
       "      <td>347</td>\n",
       "      <td>проезд Нансена</td>\n",
       "      <td>{СВАО}</td>\n",
       "      <td>{Район Свиблово}</td>\n",
       "    </tr>\n",
       "    <tr>\n",
       "      <td>348</td>\n",
       "      <td>проезд Одоевского</td>\n",
       "      <td>{ЮЗАО}</td>\n",
       "      <td>{Район Ясенево}</td>\n",
       "    </tr>\n",
       "    <tr>\n",
       "      <td>349</td>\n",
       "      <td>проезд Сокольнического Круга</td>\n",
       "      <td>{ВАО}</td>\n",
       "      <td>{Район Сокольники}</td>\n",
       "    </tr>\n",
       "    <tr>\n",
       "      <td>350</td>\n",
       "      <td>проспект Андропова</td>\n",
       "      <td>{ЮАО}</td>\n",
       "      <td>{Район Нагатинский затон}</td>\n",
       "    </tr>\n",
       "    <tr>\n",
       "      <td>351</td>\n",
       "      <td>проспект Мира</td>\n",
       "      <td>{СВАО}</td>\n",
       "      <td>{Ярославский Район, Район Ростокино}</td>\n",
       "    </tr>\n",
       "    <tr>\n",
       "      <td>352</td>\n",
       "      <td>улица 1 Мая</td>\n",
       "      <td>{Зеленоград}</td>\n",
       "      <td>{Район Крюково}</td>\n",
       "    </tr>\n",
       "    <tr>\n",
       "      <td>353</td>\n",
       "      <td>улица 10-летия Октября</td>\n",
       "      <td>{ЦАО}</td>\n",
       "      <td>{Район Хамовники}</td>\n",
       "    </tr>\n",
       "    <tr>\n",
       "      <td>354</td>\n",
       "      <td>улица Авиаконструктора Миля</td>\n",
       "      <td>{ЮВАО}</td>\n",
       "      <td>{Район Выхино-Жулебино}</td>\n",
       "    </tr>\n",
       "    <tr>\n",
       "      <td>355</td>\n",
       "      <td>улица Адмирала Лазарева</td>\n",
       "      <td>{ЮЗАО}</td>\n",
       "      <td>{Район Южное Бутово}</td>\n",
       "    </tr>\n",
       "    <tr>\n",
       "      <td>356</td>\n",
       "      <td>улица Академика Ильюшина</td>\n",
       "      <td>{САО}</td>\n",
       "      <td>{Район Аэропорт}</td>\n",
       "    </tr>\n",
       "    <tr>\n",
       "      <td>357</td>\n",
       "      <td>улица Академика Опарина</td>\n",
       "      <td>{ЮЗАО}</td>\n",
       "      <td>{Район Коньково}</td>\n",
       "    </tr>\n",
       "    <tr>\n",
       "      <td>358</td>\n",
       "      <td>улица Академика Скрябина</td>\n",
       "      <td>{ЮВАО}</td>\n",
       "      <td>{Рязанский район}</td>\n",
       "    </tr>\n",
       "    <tr>\n",
       "      <td>359</td>\n",
       "      <td>улица Алексея Свиридова</td>\n",
       "      <td>{ЗАО}</td>\n",
       "      <td>{Район Фили-Давыдково}</td>\n",
       "    </tr>\n",
       "    <tr>\n",
       "      <td>360</td>\n",
       "      <td>улица Анны Северьяновой</td>\n",
       "      <td>{ЦАО}</td>\n",
       "      <td>{Пресненский район}</td>\n",
       "    </tr>\n",
       "    <tr>\n",
       "      <td>361</td>\n",
       "      <td>улица Архитектора Власова</td>\n",
       "      <td>{ЮЗАО}</td>\n",
       "      <td>{Ломоносовский район}</td>\n",
       "    </tr>\n",
       "    <tr>\n",
       "      <td>362</td>\n",
       "      <td>улица Бажова</td>\n",
       "      <td>{СВАО}</td>\n",
       "      <td>{Район Ростокино}</td>\n",
       "    </tr>\n",
       "    <tr>\n",
       "      <td>363</td>\n",
       "      <td>улица Благуша</td>\n",
       "      <td>{ВАО}</td>\n",
       "      <td>{Район Соколиная Гора}</td>\n",
       "    </tr>\n",
       "    <tr>\n",
       "      <td>364</td>\n",
       "      <td>улица Большая Якиманка</td>\n",
       "      <td>{ЦАО}</td>\n",
       "      <td>{Район Якиманка}</td>\n",
       "    </tr>\n",
       "    <tr>\n",
       "      <td>365</td>\n",
       "      <td>улица Бурденко</td>\n",
       "      <td>{ЦАО}</td>\n",
       "      <td>{Район Хамовники}</td>\n",
       "    </tr>\n",
       "    <tr>\n",
       "      <td>366</td>\n",
       "      <td>улица Вавилова</td>\n",
       "      <td>{ЮЗАО}</td>\n",
       "      <td>{Академический район}</td>\n",
       "    </tr>\n",
       "    <tr>\n",
       "      <td>367</td>\n",
       "      <td>улица Васильцовский Стан</td>\n",
       "      <td>{ЮВАО}</td>\n",
       "      <td>{Рязанский район}</td>\n",
       "    </tr>\n",
       "    <tr>\n",
       "      <td>368</td>\n",
       "      <td>улица Верхняя Масловка</td>\n",
       "      <td>{САО}</td>\n",
       "      <td>{Савеловский район}</td>\n",
       "    </tr>\n",
       "    <tr>\n",
       "      <td>369</td>\n",
       "      <td>улица Вешних Вод</td>\n",
       "      <td>{СВАО}</td>\n",
       "      <td>{Ярославский Район}</td>\n",
       "    </tr>\n",
       "    <tr>\n",
       "      <td>370</td>\n",
       "      <td>улица Вилиса Лациса</td>\n",
       "      <td>{СЗАО}</td>\n",
       "      <td>{Район Северное Тушино}</td>\n",
       "    </tr>\n",
       "    <tr>\n",
       "      <td>371</td>\n",
       "      <td>улица Водопьянова</td>\n",
       "      <td>{СВАО}</td>\n",
       "      <td>{Район Лианозово}</td>\n",
       "    </tr>\n",
       "    <tr>\n",
       "      <td>372</td>\n",
       "      <td>улица Вострухина</td>\n",
       "      <td>{ЮВАО}</td>\n",
       "      <td>{Район Выхино-Жулебино}</td>\n",
       "    </tr>\n",
       "    <tr>\n",
       "      <td>373</td>\n",
       "      <td>улица Генерала Дорохова</td>\n",
       "      <td>{ЗАО}</td>\n",
       "      <td>{Можайский Район}</td>\n",
       "    </tr>\n",
       "    <tr>\n",
       "      <td>374</td>\n",
       "      <td>улица Губкина</td>\n",
       "      <td>{ЮЗАО}</td>\n",
       "      <td>{Академический район}</td>\n",
       "    </tr>\n",
       "    <tr>\n",
       "      <td>375</td>\n",
       "      <td>улица Демьяна Бедного</td>\n",
       "      <td>{СЗАО}</td>\n",
       "      <td>{Район Хорошево-Мневники}</td>\n",
       "    </tr>\n",
       "    <tr>\n",
       "      <td>376</td>\n",
       "      <td>улица Дениса Давыдова</td>\n",
       "      <td>{ЗАО}</td>\n",
       "      <td>{Район Дорогомилово}</td>\n",
       "    </tr>\n",
       "    <tr>\n",
       "      <td>377</td>\n",
       "      <td>улица Доватора</td>\n",
       "      <td>{ЦАО}</td>\n",
       "      <td>{Район Хамовники}</td>\n",
       "    </tr>\n",
       "    <tr>\n",
       "      <td>378</td>\n",
       "      <td>улица Екатерины Будановой</td>\n",
       "      <td>{ЗАО}</td>\n",
       "      <td>{Район Кунцево}</td>\n",
       "    </tr>\n",
       "    <tr>\n",
       "      <td>379</td>\n",
       "      <td>улица Ермакова Роща</td>\n",
       "      <td>{ЦАО}</td>\n",
       "      <td>{Пресненский район}</td>\n",
       "    </tr>\n",
       "    <tr>\n",
       "      <td>380</td>\n",
       "      <td>улица Знаменка</td>\n",
       "      <td>{ЦАО}</td>\n",
       "      <td>{Район Арбат}</td>\n",
       "    </tr>\n",
       "    <tr>\n",
       "      <td>381</td>\n",
       "      <td>улица Золоторожский Вал</td>\n",
       "      <td>{ЦАО}</td>\n",
       "      <td>{Таганский район}</td>\n",
       "    </tr>\n",
       "    <tr>\n",
       "      <td>382</td>\n",
       "      <td>улица Ибрагимова</td>\n",
       "      <td>{ВАО}</td>\n",
       "      <td>{Район Соколиная Гора}</td>\n",
       "    </tr>\n",
       "    <tr>\n",
       "      <td>383</td>\n",
       "      <td>улица Ивана Бабушкина</td>\n",
       "      <td>{ЮЗАО}</td>\n",
       "      <td>{Академический район}</td>\n",
       "    </tr>\n",
       "    <tr>\n",
       "      <td>384</td>\n",
       "      <td>улица Карьер</td>\n",
       "      <td>{ЮЗАО}</td>\n",
       "      <td>{Академический район}</td>\n",
       "    </tr>\n",
       "    <tr>\n",
       "      <td>385</td>\n",
       "      <td>улица Короленко</td>\n",
       "      <td>{ВАО}</td>\n",
       "      <td>{Район Сокольники}</td>\n",
       "    </tr>\n",
       "    <tr>\n",
       "      <td>386</td>\n",
       "      <td>улица Кошкина</td>\n",
       "      <td>{ЮАО}</td>\n",
       "      <td>{Район Москворечье-Сабурово}</td>\n",
       "    </tr>\n",
       "    <tr>\n",
       "      <td>387</td>\n",
       "      <td>улица Крупской</td>\n",
       "      <td>{Зеленоград}</td>\n",
       "      <td>{Район Крюково}</td>\n",
       "    </tr>\n",
       "    <tr>\n",
       "      <td>388</td>\n",
       "      <td>улица Кузнецкий Мост</td>\n",
       "      <td>{ЦАО}</td>\n",
       "      <td>{Тверской район}</td>\n",
       "    </tr>\n",
       "    <tr>\n",
       "      <td>389</td>\n",
       "      <td>улица Ленинская Слобода</td>\n",
       "      <td>{ЮАО}</td>\n",
       "      <td>{Даниловский район}</td>\n",
       "    </tr>\n",
       "    <tr>\n",
       "      <td>390</td>\n",
       "      <td>улица Лобанова</td>\n",
       "      <td>{ЮАО}</td>\n",
       "      <td>{Даниловский район}</td>\n",
       "    </tr>\n",
       "    <tr>\n",
       "      <td>391</td>\n",
       "      <td>улица Лобачика</td>\n",
       "      <td>{ВАО}</td>\n",
       "      <td>{Район Сокольники}</td>\n",
       "    </tr>\n",
       "    <tr>\n",
       "      <td>392</td>\n",
       "      <td>улица Малая Якиманка</td>\n",
       "      <td>{ЦАО}</td>\n",
       "      <td>{Район Якиманка}</td>\n",
       "    </tr>\n",
       "    <tr>\n",
       "      <td>393</td>\n",
       "      <td>улица Маршала Бирюзова</td>\n",
       "      <td>{СЗАО}</td>\n",
       "      <td>{Район Щукино}</td>\n",
       "    </tr>\n",
       "    <tr>\n",
       "      <td>394</td>\n",
       "      <td>улица Маршала Савицкого</td>\n",
       "      <td>{ЮЗАО}</td>\n",
       "      <td>{Район Южное Бутово}</td>\n",
       "    </tr>\n",
       "    <tr>\n",
       "      <td>395</td>\n",
       "      <td>улица Маршала Тухачевского</td>\n",
       "      <td>{СЗАО}</td>\n",
       "      <td>{Район Хорошево-Мневники}</td>\n",
       "    </tr>\n",
       "    <tr>\n",
       "      <td>396</td>\n",
       "      <td>улица Медиков</td>\n",
       "      <td>{ЮАО}</td>\n",
       "      <td>{Район Царицыно}</td>\n",
       "    </tr>\n",
       "    <tr>\n",
       "      <td>397</td>\n",
       "      <td>улица Мещерякова</td>\n",
       "      <td>{СЗАО}</td>\n",
       "      <td>{Район Покровское-Стрешнево}</td>\n",
       "    </tr>\n",
       "    <tr>\n",
       "      <td>398</td>\n",
       "      <td>улица Мусы Джалиля</td>\n",
       "      <td>{ЮАО}</td>\n",
       "      <td>{Район Зябликово}</td>\n",
       "    </tr>\n",
       "    <tr>\n",
       "      <td>399</td>\n",
       "      <td>улица Наташи Ковшовой</td>\n",
       "      <td>{ЗАО}</td>\n",
       "      <td>{Район Очаково-Матвеевское}</td>\n",
       "    </tr>\n",
       "    <tr>\n",
       "      <td>400</td>\n",
       "      <td>улица Нижние Мнёвники</td>\n",
       "      <td>{СЗАО}</td>\n",
       "      <td>{Район Хорошево-Мневники}</td>\n",
       "    </tr>\n",
       "    <tr>\n",
       "      <td>401</td>\n",
       "      <td>улица Николая Злобина</td>\n",
       "      <td>{Зеленоград}</td>\n",
       "      <td>{Район Матушкино-Савелки}</td>\n",
       "    </tr>\n",
       "    <tr>\n",
       "      <td>402</td>\n",
       "      <td>улица Николая Химушина</td>\n",
       "      <td>{ВАО}</td>\n",
       "      <td>{Район Метрогородок}</td>\n",
       "    </tr>\n",
       "    <tr>\n",
       "      <td>403</td>\n",
       "      <td>улица Острякова</td>\n",
       "      <td>{САО}</td>\n",
       "      <td>{Хорошевский район}</td>\n",
       "    </tr>\n",
       "    <tr>\n",
       "      <td>404</td>\n",
       "      <td>улица Павла Андреева</td>\n",
       "      <td>{ЦАО}</td>\n",
       "      <td>{Район Замоскворечье}</td>\n",
       "    </tr>\n",
       "    <tr>\n",
       "      <td>405</td>\n",
       "      <td>улица Павлика Морозова</td>\n",
       "      <td>{ЮЗАО}</td>\n",
       "      <td>{Район Южное Бутово}</td>\n",
       "    </tr>\n",
       "    <tr>\n",
       "      <td>406</td>\n",
       "      <td>улица Паршина</td>\n",
       "      <td>{СЗАО}</td>\n",
       "      <td>{Район Хорошево-Мневники}</td>\n",
       "    </tr>\n",
       "    <tr>\n",
       "      <td>407</td>\n",
       "      <td>улица Перерва</td>\n",
       "      <td>{ЮВАО}</td>\n",
       "      <td>{Район Люблино}</td>\n",
       "    </tr>\n",
       "    <tr>\n",
       "      <td>408</td>\n",
       "      <td>улица Рословка</td>\n",
       "      <td>{СЗАО}</td>\n",
       "      <td>{Район Митино}</td>\n",
       "    </tr>\n",
       "    <tr>\n",
       "      <td>409</td>\n",
       "      <td>улица Россолимо</td>\n",
       "      <td>{ЦАО}</td>\n",
       "      <td>{Район Хамовники}</td>\n",
       "    </tr>\n",
       "    <tr>\n",
       "      <td>410</td>\n",
       "      <td>улица Савельева</td>\n",
       "      <td>{ЦАО}</td>\n",
       "      <td>{Район Хамовники}</td>\n",
       "    </tr>\n",
       "    <tr>\n",
       "      <td>411</td>\n",
       "      <td>улица Саляма Адиля</td>\n",
       "      <td>{СЗАО}</td>\n",
       "      <td>{Район Хорошево-Мневники}</td>\n",
       "    </tr>\n",
       "    <tr>\n",
       "      <td>412</td>\n",
       "      <td>улица Серафимовича</td>\n",
       "      <td>{ЦАО}</td>\n",
       "      <td>{Район Якиманка}</td>\n",
       "    </tr>\n",
       "    <tr>\n",
       "      <td>413</td>\n",
       "      <td>улица Симоновский Вал</td>\n",
       "      <td>{ЦАО}</td>\n",
       "      <td>{Таганский район}</td>\n",
       "    </tr>\n",
       "    <tr>\n",
       "      <td>414</td>\n",
       "      <td>улица Советской Армии</td>\n",
       "      <td>{ЦАО}</td>\n",
       "      <td>{Мещанский район}</td>\n",
       "    </tr>\n",
       "    <tr>\n",
       "      <td>415</td>\n",
       "      <td>улица Строителей</td>\n",
       "      <td>{ЮЗАО}</td>\n",
       "      <td>{Ломоносовский район}</td>\n",
       "    </tr>\n",
       "    <tr>\n",
       "      <td>416</td>\n",
       "      <td>улица Твардовского</td>\n",
       "      <td>{СЗАО}</td>\n",
       "      <td>{Район Строгино}</td>\n",
       "    </tr>\n",
       "    <tr>\n",
       "      <td>417</td>\n",
       "      <td>улица Федосьино</td>\n",
       "      <td>{ЗАО}</td>\n",
       "      <td>{Район Ново-Переделкино}</td>\n",
       "    </tr>\n",
       "    <tr>\n",
       "      <td>418</td>\n",
       "      <td>улица Хромова</td>\n",
       "      <td>{ВАО}</td>\n",
       "      <td>{Район Преображенское}</td>\n",
       "    </tr>\n",
       "    <tr>\n",
       "      <td>419</td>\n",
       "      <td>улица ЦНИИМЭ</td>\n",
       "      <td>{Зеленоград}</td>\n",
       "      <td>{Район Крюково}</td>\n",
       "    </tr>\n",
       "    <tr>\n",
       "      <td>420</td>\n",
       "      <td>улица Цюрупы</td>\n",
       "      <td>{ЮЗАО}</td>\n",
       "      <td>{Район Черемушки}</td>\n",
       "    </tr>\n",
       "    <tr>\n",
       "      <td>421</td>\n",
       "      <td>улица Чечулина</td>\n",
       "      <td>{ВАО}</td>\n",
       "      <td>{Район Ивановское}</td>\n",
       "    </tr>\n",
       "    <tr>\n",
       "      <td>422</td>\n",
       "      <td>улица Чкалова</td>\n",
       "      <td>{СВАО}</td>\n",
       "      <td>{Район Лианозово}</td>\n",
       "    </tr>\n",
       "    <tr>\n",
       "      <td>423</td>\n",
       "      <td>улица Чёрное Озеро</td>\n",
       "      <td>{ВАО}</td>\n",
       "      <td>{Район Косино-Ухтомский}</td>\n",
       "    </tr>\n",
       "    <tr>\n",
       "      <td>424</td>\n",
       "      <td>улица Шаболовка</td>\n",
       "      <td>{ЦАО}</td>\n",
       "      <td>{Район Якиманка}</td>\n",
       "    </tr>\n",
       "    <tr>\n",
       "      <td>425</td>\n",
       "      <td>улица Шкулёва</td>\n",
       "      <td>{ЮВАО}</td>\n",
       "      <td>{Район Текстильщики}</td>\n",
       "    </tr>\n",
       "    <tr>\n",
       "      <td>426</td>\n",
       "      <td>улица Шухова</td>\n",
       "      <td>{ЮАО}</td>\n",
       "      <td>{Донской район}</td>\n",
       "    </tr>\n",
       "    <tr>\n",
       "      <td>427</td>\n",
       "      <td>улица Щербакова</td>\n",
       "      <td>{Зеленоград}</td>\n",
       "      <td>{Панфиловский район}</td>\n",
       "    </tr>\n",
       "    <tr>\n",
       "      <td>428</td>\n",
       "      <td>улица Юных Ленинцев</td>\n",
       "      <td>{ЮВАО}</td>\n",
       "      <td>{Район Текстильщики}</td>\n",
       "    </tr>\n",
       "  </tbody>\n",
       "</table>\n",
       "</div>"
      ],
      "text/plain": [
       "                                          streetname                   okrug  \\\n",
       "0                            1-й Балтийский переулок                   {САО}   \n",
       "1                               1-й Вязовский проезд                  {ЮВАО}   \n",
       "2                           1-й Кадашёвский переулок                   {ЦАО}   \n",
       "3                             1-й Кожуховский проезд                   {ЮАО}   \n",
       "4                          1-й Котляковский переулок                   {ЮАО}   \n",
       "5                        1-й Новотихвинский переулок                  {СВАО}   \n",
       "6                              1-й Раушский переулок                   {ЦАО}   \n",
       "7                               1-й Рижский переулок                  {СВАО}   \n",
       "8                       1-й Сыромятнический переулок                   {ЦАО}   \n",
       "9                              1-й Троицкий переулок                   {ЦАО}   \n",
       "10                           1-й проезд Подбельского                   {ВАО}   \n",
       "11                               1-я Кабельная улица                  {ЮВАО}   \n",
       "12                            1-я Курьяновская улица                  {ЮВАО}   \n",
       "13                            1-я Мясниковская улица                   {ВАО}   \n",
       "14                               1-я Рыбинская улица                   {ВАО}   \n",
       "15                          1-я Сокольническая улица                   {ВАО}   \n",
       "16                                1-я улица Шелепихи                   {ЦАО}   \n",
       "17                             10-я Радиальная улица                   {ЮАО}   \n",
       "18                         10-я улица Соколиной Горы                   {ВАО}   \n",
       "19                         12-й проезд Марьиной Рощи                  {СВАО}   \n",
       "20                               12-я Парковая улица                   {ВАО}   \n",
       "21                                   19-й Микрорайон            {Зеленоград}   \n",
       "22                                2-й Донской проезд                   {ЮАО}   \n",
       "23                          2-й Колобовский переулок                   {ЦАО}   \n",
       "24                          2-й Крестовский переулок                   {ЦАО}   \n",
       "25                               2-й Лесной переулок                   {ЦАО}   \n",
       "26                            2-й Митинский переулок                  {СЗАО}   \n",
       "27                           2-й Павловский переулок                   {ЮАО}   \n",
       "28                             2-й Пехотный переулок                  {СЗАО}   \n",
       "29                            2-й Пятигорский проезд                  {ЮВАО}   \n",
       "30                    2-й Спасоналивковский переулок                   {ЦАО}   \n",
       "31                            2-й Хорошёвский проезд                   {САО}   \n",
       "32                     2-й Электрозаводский переулок                   {ВАО}   \n",
       "33                                2-я Вольская улица                  {ЮВАО}   \n",
       "34                              2-я Горловская улица                  {ЮЗАО}   \n",
       "35                               2-я Кабельная улица                  {ЮВАО}   \n",
       "36                           2-я Карачаровская улица                  {ЮВАО}   \n",
       "37                                2-я Миусская улица                   {ЦАО}   \n",
       "38                        2-я Новоостанкинская улица                  {СВАО}   \n",
       "39                                2-я Песчаная улица                   {САО}   \n",
       "40                            2-я Радиаторская улица                   {САО}   \n",
       "41                               2-я Филёвская улица                   {ЗАО}   \n",
       "42                        2-я улица Дьяково-Городище                   {ЮАО}   \n",
       "43                           3-й Балтийский переулок                   {САО}   \n",
       "44                         3-й Дербеневский переулок                   {ЮАО}   \n",
       "45                           3-й Ирининский переулок                   {ЦАО}   \n",
       "46                       3-й Котельнический переулок                   {ЦАО}   \n",
       "47                       3-й Неопалимовский переулок                   {ЦАО}   \n",
       "48                       3-й Нижнелихоборский проезд                   {САО}   \n",
       "49                           3-й Самотёчный переулок                   {ЦАО}   \n",
       "50                               3-я Кабельная улица                  {ЮВАО}   \n",
       "51                           3-я Карачаровская улица                  {ЮВАО}   \n",
       "52                              3-я Радиальная улица                   {ЮАО}   \n",
       "53                         4-й Добрынинский переулок                   {ЦАО}   \n",
       "54                               4-й Западный проезд            {Зеленоград}   \n",
       "55                       4-й Звенигородский переулок                   {ЦАО}   \n",
       "56                           4-й Очаковский переулок                   {ЗАО}   \n",
       "57                           4-й Щипковский переулок                   {ЦАО}   \n",
       "58                              4-я Внуковская улица                   {ЗАО}   \n",
       "59                         4-я Тверская-Ямская улица                   {ЦАО}   \n",
       "60                                5-й Лучевой просек                   {ВАО}   \n",
       "61                               5-й квартал Капотня                  {ЮВАО}   \n",
       "62                           5-я Магистральная улица                   {САО}   \n",
       "63                              5-я улица Новые Сады                   {ЗАО}   \n",
       "64                          5-я улица Соколиной Горы                   {ВАО}   \n",
       "65                             6-й Загородный проезд                  {ЮЗАО}   \n",
       "66                           7-й Ростовский переулок                   {ЦАО}   \n",
       "67                              7-я улица Новые Сады                   {ЗАО}   \n",
       "68                          9-й проезд Марьиной Рощи                  {СВАО}   \n",
       "69                              Абрамцевская просека                   {ВАО}   \n",
       "70                                Абрамцевская улица                  {СВАО}   \n",
       "71                                 Авиационная улица                  {СЗАО}   \n",
       "72                                Алабушевская улица            {Зеленоград}   \n",
       "73                                Алтуфьевское шоссе                  {СВАО}   \n",
       "74                                 Аминьевское шоссе                   {ЗАО}   \n",
       "75                                  Ангелов переулок                  {СЗАО}   \n",
       "76                                  Андреевский мост                   {ЦАО}   \n",
       "77                                 Армавирская улица                  {ЮВАО}   \n",
       "78                                Армянский переулок                   {ЦАО}   \n",
       "79                                   Банный переулок                   {ЦАО}   \n",
       "80                                     Беговая улица                   {САО}   \n",
       "81                               Белореченская улица                  {ЮВАО}   \n",
       "82                                 Берников переулок                   {ЦАО}   \n",
       "83                           Бескудниковский бульвар                   {САО}   \n",
       "84                                 Бибиревская улица                  {СВАО}   \n",
       "85                       Большая Андроньевская улица                   {ЦАО}   \n",
       "86                      Большая Екатерининская улица                   {ЦАО}   \n",
       "87                           Большая Никитская улица                   {ЦАО}   \n",
       "88                             Большая Садовая улица                   {ЦАО}   \n",
       "89                        Большая Черкизовская улица                   {ВАО}   \n",
       "90                      Большая Черёмушкинская улица                  {ЮЗАО}   \n",
       "91                       Большой Балканский переулок                   {ЦАО}   \n",
       "92                         Большой Каретный переулок                   {ЦАО}   \n",
       "93                      Большой Козихинский переулок                   {ЦАО}   \n",
       "94                    Большой Могильцевский переулок                   {ЦАО}   \n",
       "95                       Большой Саввинский переулок                   {ЦАО}   \n",
       "96                 Большой Староданиловский переулок                   {ЮАО}   \n",
       "97                                  Боровский проезд                   {ЗАО}   \n",
       "98                                   Боровское шоссе                   {ЗАО}   \n",
       "99                                  Бородинский мост                   {ЦАО}   \n",
       "100                                   Брянская улица                   {ЗАО}   \n",
       "101                             Булатниковская улица                   {ЮАО}   \n",
       "102                                 Варшавское шоссе                   {ЮАО}   \n",
       "103                              Велозаводская улица                  {ЮВАО}   \n",
       "104                          Верхнелихоборская улица                   {САО}   \n",
       "105                         Верхний Борисовский мост                   {ЮАО}   \n",
       "106                                   Весенняя улица                   {САО}   \n",
       "107                                 Весковский тупик                   {ЦАО}   \n",
       "108                                   Вишнёвая улица                  {СЗАО}   \n",
       "109                            Вознесенский переулок                   {ЦАО}   \n",
       "110                           Волгоградский проспект                  {ЮВАО}   \n",
       "111                               Воробьевское шоссе                   {ЗАО}   \n",
       "112                                Воронежская улица                   {ЮАО}   \n",
       "113                               Воронцовская улица                   {ЦАО}   \n",
       "114                                  Восточная улица                   {ЮАО}   \n",
       "115                             Востряковский проезд                   {ЮАО}   \n",
       "116                            Высоковольтный проезд                  {СВАО}   \n",
       "117                           Гарднеровский переулок                   {ЦАО}   \n",
       "118                               Гжельский переулок                   {ЦАО}   \n",
       "119                                 Глебовская улица                   {ВАО}   \n",
       "120                                  Глебовский мост                   {ВАО}   \n",
       "121                             Гончарная набережная                   {ЦАО}   \n",
       "122                                Гродненская улица                   {ЗАО}   \n",
       "123                                Давыдковский мост                   {ЗАО}   \n",
       "124                             Давыдовский переулок                   {ЦАО}   \n",
       "125                              Даниловская площадь                   {ЮАО}   \n",
       "126                                 Дворникова улица                  {ЮВАО}   \n",
       "127                                    Детская улица                   {ВАО}   \n",
       "128                                Дмитровское шоссе                  {СВАО}   \n",
       "129                           Днепропетровская улица                   {ЮАО}   \n",
       "130                            Доброслободская улица                   {ЦАО}   \n",
       "131                                   Дорожная улица                   {ЮАО}   \n",
       "132                            Дохтуровский переулок                   {ЗАО}   \n",
       "133                                Дубининская улица                   {ЮАО}   \n",
       "134                                 Дубнинская улица                   {САО}   \n",
       "135                             Дюссельдорфский парк                  {ЮВАО}   \n",
       "136                             Елисеевский переулок                   {ЦАО}   \n",
       "137                                 Ельнинская улица                   {ЗАО}   \n",
       "138                               Заводской переулок            {Зеленоград}   \n",
       "139                                   Западная улица                   {ВАО}   \n",
       "140                          Западный Тушинский мост                  {СЗАО}   \n",
       "141                                  Зарайская улица                  {ЮВАО}   \n",
       "142                                  Зональная улица                  {СВАО}   \n",
       "143                                 Ивановская улица                   {САО}   \n",
       "144                                Ивановский проезд                   {САО}   \n",
       "145                                     Ивовая улица                  {СВАО}   \n",
       "146                             Измайловский бульвар                   {ВАО}   \n",
       "147                            Измайловский проспект                   {ВАО}   \n",
       "148                          Индустриальный переулок                   {ЦАО}   \n",
       "149                               Кавказский бульвар                   {ЮАО}   \n",
       "150                                 Камчатская улица                   {ВАО}   \n",
       "151                              Карачаровское шоссе                  {ЮВАО}   \n",
       "152                                 Каширский проезд                   {ЮАО}   \n",
       "153                                  Каширское шоссе                   {ЮАО}   \n",
       "154                            Кировоградский проезд                   {ЮАО}   \n",
       "155                                  Клинский проезд                   {САО}   \n",
       "156                                  Ковров переулок                   {ЦАО}   \n",
       "157                           Колокольников переулок                   {ЦАО}   \n",
       "158                              Колымажный переулок                   {ЦАО}   \n",
       "159                             Композиторская улица                   {ЦАО}   \n",
       "160                                 Коптевская улица                   {САО}   \n",
       "161                              Костомаровский мост                   {ЦАО}   \n",
       "162                          Костомаровский переулок                   {ЦАО}   \n",
       "163                            Кронштадтский бульвар                   {САО}   \n",
       "164                                Кусковский просек                   {ВАО}   \n",
       "165                            Лаврушинский переулок                   {ЦАО}   \n",
       "166                               Ленинградский мост                   {САО}   \n",
       "167                            Лермонтовская площадь                   {ЦАО}   \n",
       "168                           Лермонтовский проспект                  {ЮВАО}   \n",
       "169                                     Летняя аллея                   {САО}   \n",
       "170                                Лефортовский мост                   {ЦАО}   \n",
       "171                                    Липовая аллея                   {САО}   \n",
       "172                                Лубянская площадь                   {ЦАО}   \n",
       "173                                 Лубянский проезд                   {ЦАО}   \n",
       "174                                  Луганская улица                   {ЮАО}   \n",
       "175                                  Лукинская улица                   {ЗАО}   \n",
       "176                              МКАД, 10-й километр                  {ЮВАО}   \n",
       "177                             МКАД, 101-й километр                   {ВАО}   \n",
       "178                             МКАД, 102-й километр                   {ВАО}   \n",
       "179                              МКАД, 26-й километр                   {ЮАО}   \n",
       "180                              МКАД, 28-й километр                   {ЮАО}   \n",
       "181                               МКАД, 3-й километр                   {ВАО}   \n",
       "182                              МКАД, 30-й километр                   {ЮАО}   \n",
       "183                              МКАД, 32-й километр                   {ЮАО}   \n",
       "184                              МКАД, 34-й километр                  {ЮЗАО}   \n",
       "185                              МКАД, 43-й километр                  {ЮЗАО}   \n",
       "186                              МКАД, 48-й километр                   {ЗАО}   \n",
       "187                               МКАД, 5-й километр                   {ВАО}   \n",
       "188                              МКАД, 56-й километр                   {ЗАО}   \n",
       "189                               МКАД, 6-й километр                   {ВАО}   \n",
       "190                              МКАД, 64-й километр                  {СЗАО}   \n",
       "191                               МКАД, 8-й километр                  {ЮВАО}   \n",
       "192                              МКАД, 90-й километр                  {СВАО}   \n",
       "193                              МКАД, 99-й километр                   {ВАО}   \n",
       "194                                Магаданская улица                  {СВАО}   \n",
       "195                                Малахитовая улица                  {СВАО}   \n",
       "196                         Малая Ботаническая улица                  {СВАО}   \n",
       "197                         Малая Черкизовская улица                   {ВАО}   \n",
       "198                           Малая Ширяевская улица                   {ВАО}   \n",
       "199  Малое кольцо Московской железной дороги (МКМЖД)             {ЮВАО, ЦАО}   \n",
       "200                       Малый Боженинский переулок                   {ЦАО}   \n",
       "201                       Малый Демидовский переулок                   {ЦАО}   \n",
       "202                        Малый Знаменский переулок                   {ЦАО}   \n",
       "203                         Малый Калужский переулок                   {ЮАО}   \n",
       "204                         Малый Рогожский переулок                   {ЦАО}   \n",
       "205                         Малый Татарский переулок                   {ЦАО}   \n",
       "206                            Мансуровский переулок                   {ЦАО}   \n",
       "207                              Международная улица                   {ЦАО}   \n",
       "208                           Мерзляковский переулок                   {ЦАО}   \n",
       "209                               Мещерский проспект                   {ЗАО}   \n",
       "210                                    Минская улица                   {ЗАО}   \n",
       "211                                 Мирской переулок                   {САО}   \n",
       "212                             Мичуринский проспект                   {ЗАО}   \n",
       "213                  Московская Кольцевая Автодорога  {СЗАО, ВАО, ЮЗАО, САО}   \n",
       "214                                     Мытная улица                   {ЦАО}   \n",
       "215                               Мякининский проезд                  {СЗАО}   \n",
       "216                                 Мясницкий проезд                   {ЦАО}   \n",
       "217                               Мячковский бульвар                  {ЮВАО}   \n",
       "218                           Нагатинская набережная                   {ЮАО}   \n",
       "219                              Наримановская улица                   {ВАО}   \n",
       "220                                   Научный проезд                  {ЮЗАО}   \n",
       "221                             Нахимовский проспект                  {ЮЗАО}   \n",
       "222                             Нащокинский переулок                   {ЦАО}   \n",
       "223                        Нижняя Первомайская улица                   {ВАО}   \n",
       "224                     Нижняя Сыромятническая улица                   {ЦАО}   \n",
       "225                                     Нижняя улица                   {САО}   \n",
       "226                     Николоваганьковский переулок                   {ЦАО}   \n",
       "227                               Новгородская улица                  {СВАО}   \n",
       "228                             Новоандреевский мост                  {ЮЗАО}   \n",
       "229                             Новомосковская улица                  {СВАО}   \n",
       "230                             Новооскольская улица                  {ЮЗАО}   \n",
       "231                             Новопоселковая улица                  {СЗАО}   \n",
       "232                              Новорогожская улица                   {ЦАО}   \n",
       "233                              Новорязанская улица                   {ЦАО}   \n",
       "234                                Новоспасский мост                   {ЦАО}   \n",
       "235                            Новоцарицынское шоссе                   {ЮАО}   \n",
       "236                        Овчинниковская набережная                   {ЦАО}   \n",
       "237                                  Окружной проезд                   {ВАО}   \n",
       "238                                 Орликов переулок                   {ЦАО}   \n",
       "239                                   Открытое шоссе                   {ВАО}   \n",
       "240                                 Очаковская улица                   {ЗАО}   \n",
       "241                            Павелецкая набережная                   {ЮАО}   \n",
       "242                                 Павловская улица                   {ЮАО}   \n",
       "243                              Пантелеевская улица                   {ЦАО}   \n",
       "244                                   Парковая улица                  {СЗАО}   \n",
       "245                              Первомайский проезд                   {ВАО}   \n",
       "246                           Переяславский переулок                   {ЦАО}   \n",
       "247                                  Перовская улица                   {ВАО}   \n",
       "248                                 Перовский проезд                  {ЮВАО}   \n",
       "249                               Петровский бульвар                   {ЦАО}   \n",
       "250                                  Пилотская улица                   {ЗАО}   \n",
       "251                          Подколокольный переулок                   {ЦАО}   \n",
       "252                               Полянский переулок                   {ЦАО}   \n",
       "253                           Правая Дворцовая аллея                   {САО}   \n",
       "254                        Преображенская набережная                   {ВАО}   \n",
       "255                             Пресненский переулок                   {ЦАО}   \n",
       "256                                     Проезд N 474            {Зеленоград}   \n",
       "257                                    Проезд N 4801            {Зеленоград}   \n",
       "258                      Проектируемый проезд N 5207                   {САО}   \n",
       "259                      Проектируемый проезд N 5509                   {САО}   \n",
       "260                           Производственная улица                   {ЗАО}   \n",
       "261                                Профсоюзная улица                  {ЮЗАО}   \n",
       "262                                 Прудный переулок            {Зеленоград}   \n",
       "263                                   Путевой проезд                  {СВАО}   \n",
       "264                                  Путейский тупик                   {ЦАО}   \n",
       "265                            Рабфаковский переулок                   {ЦАО}   \n",
       "266                                   Рижский проезд                  {СВАО}   \n",
       "267                               Россошанская улица                   {ЮАО}   \n",
       "268                                 Рублёвское шоссе                   {ЗАО}   \n",
       "269                            Рубцовская набережная                   {ЦАО}   \n",
       "270                                Русаковская улица                   {ЦАО}   \n",
       "271                                Рыбников переулок                   {ЦАО}   \n",
       "272                                  Рябиновая улица                   {ЗАО}   \n",
       "273                         Садовническая набережная                   {ЦАО}   \n",
       "274                               Садовнический мост                   {ЦАО}   \n",
       "275                          Северо-Западный тоннель                  {СЗАО}   \n",
       "276                       Сельскохозяйственная улица                  {СВАО}   \n",
       "277                              Семёновская площадь                   {ВАО}   \n",
       "278                         Серебрянический переулок                   {ЦАО}   \n",
       "279                                  Серпов переулок                   {ЦАО}   \n",
       "280                             Сеченовский переулок                   {ЦАО}   \n",
       "281                           Симферопольский проезд                   {ЮАО}   \n",
       "282                        Смоленская-Сенная площадь                   {ЦАО}   \n",
       "283                                    Снежная улица                  {СВАО}   \n",
       "284                                  Советская улица       {ЗАО, Зеленоград}   \n",
       "285                                  Солнечная аллея            {Зеленоград}   \n",
       "286                                  Солянский тупик                   {ЦАО}   \n",
       "287                                  Сосинская улица                  {ЮВАО}   \n",
       "288                     Средняя Калитниковская улица                   {ЦАО}   \n",
       "289                              Старокрымская улица                  {ЮЗАО}   \n",
       "290                             Старорублёвский мост                   {ЗАО}   \n",
       "291                              Стремянный переулок                   {ЦАО}   \n",
       "292                             Строгановский проезд                  {ЮВАО}   \n",
       "293                             Студенецкий переулок                   {ЦАО}   \n",
       "294                                Ступинский проезд                   {ЮАО}   \n",
       "295                              Сусоколовское шоссе                  {СВАО}   \n",
       "296                                    Таёжная улица                  {СВАО}   \n",
       "297                              Театральная площадь                   {ЦАО}   \n",
       "298                              Тессинский переулок                   {ЦАО}   \n",
       "299                               Тихорецкий бульвар                  {ЮВАО}   \n",
       "300                                 Тютчевская аллея                  {ЮЗАО}   \n",
       "301                                  Уржумская улица                  {СВАО}   \n",
       "302                            Федеративный проспект                   {ВАО}   \n",
       "303                               Федоскинская улица                  {СВАО}   \n",
       "304                              Филаретовская улица            {Зеленоград}   \n",
       "305                                   Флотская улица                   {САО}   \n",
       "306                                  Фруктовая улица                  {ЮЗАО}   \n",
       "307                                 Фрязевская улица                   {ВАО}   \n",
       "308                                  Хованская улица                  {СВАО}   \n",
       "309                                  Ходынская улица                   {ЦАО}   \n",
       "310                             Холодильный переулок                   {ЮАО}   \n",
       "311                                Хомутовский тупик                   {ЦАО}   \n",
       "312                                Хорошёвский тупик                   {САО}   \n",
       "313                                  Цветной бульвар                   {ЦАО}   \n",
       "314                                Центральная улица                  {СЗАО}   \n",
       "315                                 Чермянская улица                  {СВАО}   \n",
       "316                                 Черневская улица                  {ЮЗАО}   \n",
       "317                         Шелепихинская набережная                   {ЦАО}   \n",
       "318                                Шмитовский проезд                   {ЦАО}   \n",
       "319                                 Щёлковское шоссе                   {ВАО}   \n",
       "320                                Электродная улица                   {ВАО}   \n",
       "321                             Электролитный проезд                   {ЮАО}   \n",
       "322                               Южнопортовая улица                  {ЮВАО}   \n",
       "323                                   Юровская улица                  {СЗАО}   \n",
       "324                              Языковский переулок                   {ЦАО}   \n",
       "325                              Якиманский переулок                   {ЦАО}   \n",
       "326                                    Яузская улица                   {ЦАО}   \n",
       "327                                      аллея Витте                  {ЮЗАО}   \n",
       "328                                 город Зеленоград            {Зеленоград}   \n",
       "329                                 деревня Кутузово            {Зеленоград}   \n",
       "330                      квартал Новые Черёмушки 32а                  {ЮЗАО}   \n",
       "331               квартал Самаркандский Бульвар 137а                  {ЮВАО}   \n",
       "332                                     мост Лужники                  {ЮЗАО}   \n",
       "333                    набережная Академика Туполева                   {ЦАО}   \n",
       "334                        переулок 800-летия Москвы                   {САО}   \n",
       "335                        переулок Каменная Слобода                   {ЦАО}   \n",
       "336                        площадь Академика Келдыша                  {ЮЗАО}   \n",
       "337                         площадь Амилкара Кабрала                   {ВАО}   \n",
       "338                        площадь Киевского Вокзала                   {ЗАО}   \n",
       "339                      площадь Маршала Бабаджаняна                  {СЗАО}   \n",
       "340                        площадь Петровские Ворота                   {ЦАО}   \n",
       "341                        площадь Сретенские Ворота                   {ЦАО}   \n",
       "342                                  посёлок Акулово                   {ВАО}   \n",
       "343                              посёлок Милицейский                  {ЮЗАО}   \n",
       "344                                    посёлок Шлюзы                  {ЮВАО}   \n",
       "345                            проезд Девичьего Поля                   {ЦАО}   \n",
       "346                                  проезд Досфлота                  {СЗАО}   \n",
       "347                                   проезд Нансена                  {СВАО}   \n",
       "348                                проезд Одоевского                  {ЮЗАО}   \n",
       "349                     проезд Сокольнического Круга                   {ВАО}   \n",
       "350                               проспект Андропова                   {ЮАО}   \n",
       "351                                    проспект Мира                  {СВАО}   \n",
       "352                                      улица 1 Мая            {Зеленоград}   \n",
       "353                           улица 10-летия Октября                   {ЦАО}   \n",
       "354                      улица Авиаконструктора Миля                  {ЮВАО}   \n",
       "355                          улица Адмирала Лазарева                  {ЮЗАО}   \n",
       "356                         улица Академика Ильюшина                   {САО}   \n",
       "357                          улица Академика Опарина                  {ЮЗАО}   \n",
       "358                         улица Академика Скрябина                  {ЮВАО}   \n",
       "359                          улица Алексея Свиридова                   {ЗАО}   \n",
       "360                          улица Анны Северьяновой                   {ЦАО}   \n",
       "361                        улица Архитектора Власова                  {ЮЗАО}   \n",
       "362                                     улица Бажова                  {СВАО}   \n",
       "363                                    улица Благуша                   {ВАО}   \n",
       "364                           улица Большая Якиманка                   {ЦАО}   \n",
       "365                                   улица Бурденко                   {ЦАО}   \n",
       "366                                   улица Вавилова                  {ЮЗАО}   \n",
       "367                         улица Васильцовский Стан                  {ЮВАО}   \n",
       "368                           улица Верхняя Масловка                   {САО}   \n",
       "369                                 улица Вешних Вод                  {СВАО}   \n",
       "370                              улица Вилиса Лациса                  {СЗАО}   \n",
       "371                                улица Водопьянова                  {СВАО}   \n",
       "372                                 улица Вострухина                  {ЮВАО}   \n",
       "373                          улица Генерала Дорохова                   {ЗАО}   \n",
       "374                                    улица Губкина                  {ЮЗАО}   \n",
       "375                            улица Демьяна Бедного                  {СЗАО}   \n",
       "376                            улица Дениса Давыдова                   {ЗАО}   \n",
       "377                                   улица Доватора                   {ЦАО}   \n",
       "378                        улица Екатерины Будановой                   {ЗАО}   \n",
       "379                              улица Ермакова Роща                   {ЦАО}   \n",
       "380                                   улица Знаменка                   {ЦАО}   \n",
       "381                          улица Золоторожский Вал                   {ЦАО}   \n",
       "382                                 улица Ибрагимова                   {ВАО}   \n",
       "383                            улица Ивана Бабушкина                  {ЮЗАО}   \n",
       "384                                     улица Карьер                  {ЮЗАО}   \n",
       "385                                  улица Короленко                   {ВАО}   \n",
       "386                                    улица Кошкина                   {ЮАО}   \n",
       "387                                   улица Крупской            {Зеленоград}   \n",
       "388                             улица Кузнецкий Мост                   {ЦАО}   \n",
       "389                          улица Ленинская Слобода                   {ЮАО}   \n",
       "390                                   улица Лобанова                   {ЮАО}   \n",
       "391                                   улица Лобачика                   {ВАО}   \n",
       "392                             улица Малая Якиманка                   {ЦАО}   \n",
       "393                           улица Маршала Бирюзова                  {СЗАО}   \n",
       "394                          улица Маршала Савицкого                  {ЮЗАО}   \n",
       "395                       улица Маршала Тухачевского                  {СЗАО}   \n",
       "396                                    улица Медиков                   {ЮАО}   \n",
       "397                                 улица Мещерякова                  {СЗАО}   \n",
       "398                               улица Мусы Джалиля                   {ЮАО}   \n",
       "399                            улица Наташи Ковшовой                   {ЗАО}   \n",
       "400                            улица Нижние Мнёвники                  {СЗАО}   \n",
       "401                            улица Николая Злобина            {Зеленоград}   \n",
       "402                           улица Николая Химушина                   {ВАО}   \n",
       "403                                  улица Острякова                   {САО}   \n",
       "404                             улица Павла Андреева                   {ЦАО}   \n",
       "405                           улица Павлика Морозова                  {ЮЗАО}   \n",
       "406                                    улица Паршина                  {СЗАО}   \n",
       "407                                    улица Перерва                  {ЮВАО}   \n",
       "408                                   улица Рословка                  {СЗАО}   \n",
       "409                                  улица Россолимо                   {ЦАО}   \n",
       "410                                  улица Савельева                   {ЦАО}   \n",
       "411                               улица Саляма Адиля                  {СЗАО}   \n",
       "412                               улица Серафимовича                   {ЦАО}   \n",
       "413                            улица Симоновский Вал                   {ЦАО}   \n",
       "414                            улица Советской Армии                   {ЦАО}   \n",
       "415                                 улица Строителей                  {ЮЗАО}   \n",
       "416                               улица Твардовского                  {СЗАО}   \n",
       "417                                  улица Федосьино                   {ЗАО}   \n",
       "418                                    улица Хромова                   {ВАО}   \n",
       "419                                     улица ЦНИИМЭ            {Зеленоград}   \n",
       "420                                     улица Цюрупы                  {ЮЗАО}   \n",
       "421                                   улица Чечулина                   {ВАО}   \n",
       "422                                    улица Чкалова                  {СВАО}   \n",
       "423                               улица Чёрное Озеро                   {ВАО}   \n",
       "424                                  улица Шаболовка                   {ЦАО}   \n",
       "425                                    улица Шкулёва                  {ЮВАО}   \n",
       "426                                     улица Шухова                   {ЮАО}   \n",
       "427                                  улица Щербакова            {Зеленоград}   \n",
       "428                              улица Юных Ленинцев                  {ЮВАО}   \n",
       "\n",
       "                                                  area  \n",
       "0                                     {Район Аэропорт}  \n",
       "1                                    {Рязанский район}  \n",
       "2                                     {Район Якиманка}  \n",
       "3                                  {Даниловский район}  \n",
       "4                         {Район Москворечье-Сабурово}  \n",
       "5                                 {Район Марьина роща}  \n",
       "6                                {Район Замоскворечье}  \n",
       "7                                 {Алексеевский район}  \n",
       "8                                    {Басманный район}  \n",
       "9                                    {Мещанский район}  \n",
       "10                                 {Район Богородское}  \n",
       "11                                   {Район Лефортово}  \n",
       "12                                   {Район Печатники}  \n",
       "13                                 {Район Богородское}  \n",
       "14                                  {Район Сокольники}  \n",
       "15                                  {Район Сокольники}  \n",
       "16                                 {Пресненский район}  \n",
       "17                          {Район Бирюлево Восточное}  \n",
       "18                              {Район Соколиная Гора}  \n",
       "19                                {Район Марьина роща}  \n",
       "20                         {Район Восточное Измайлово}  \n",
       "21                                     {Район Крюково}  \n",
       "22                                     {Донской район}  \n",
       "23                                    {Тверской район}  \n",
       "24                                   {Мещанский район}  \n",
       "25                                    {Тверской район}  \n",
       "26                                      {Район Митино}  \n",
       "27                                 {Даниловский район}  \n",
       "28                                      {Район Щукино}  \n",
       "29                                   {Рязанский район}  \n",
       "30                                    {Район Якиманка}  \n",
       "31                                 {Хорошевский район}  \n",
       "32                              {Район Преображенское}  \n",
       "33                                  {Район Некрасовка}  \n",
       "34                                {Район Южное Бутово}  \n",
       "35                                   {Район Лефортово}  \n",
       "36                               {Нижегородский район}  \n",
       "37                                    {Тверской район}  \n",
       "38                                {Останкинский район}  \n",
       "39                                 {Хорошевский район}  \n",
       "40                                  {Войковский Район}  \n",
       "41                              {Район Филевский Парк}  \n",
       "42                           {Район Нагатинский затон}  \n",
       "43                                    {Район Аэропорт}  \n",
       "44                                 {Даниловский район}  \n",
       "45                                   {Басманный район}  \n",
       "46                                   {Таганский район}  \n",
       "47                                   {Район Хамовники}  \n",
       "48                               {Тимирязевский Район}  \n",
       "49                                    {Тверской район}  \n",
       "50                                   {Район Лефортово}  \n",
       "51                               {Нижегородский район}  \n",
       "52                          {Район Бирюлево Восточное}  \n",
       "53                                    {Район Якиманка}  \n",
       "54                                {Панфиловский район}  \n",
       "55                                 {Пресненский район}  \n",
       "56                         {Район Очаково-Матвеевское}  \n",
       "57                               {Район Замоскворечье}  \n",
       "58                                     {Район Внуково}  \n",
       "59                                    {Тверской район}  \n",
       "60                                  {Район Сокольники}  \n",
       "61                                     {Район Капотня}  \n",
       "62                                 {Хорошевский район}  \n",
       "63                            {Район Ново-Переделкино}  \n",
       "64                              {Район Соколиная Гора}  \n",
       "65                                    {Район Котловка}  \n",
       "66                                   {Район Хамовники}  \n",
       "67                            {Район Ново-Переделкино}  \n",
       "68                                {Район Марьина роща}  \n",
       "69                                {Район Метрогородок}  \n",
       "70                                   {Район Лианозово}  \n",
       "71                                      {Район Щукино}  \n",
       "72                                {Панфиловский район}  \n",
       "73                                   {Район Лианозово}  \n",
       "74                                   {Можайский Район}  \n",
       "75                                      {Район Митино}  \n",
       "76                                    {Район Якиманка}  \n",
       "77                                     {Район Люблино}  \n",
       "78                                   {Басманный район}  \n",
       "79                                   {Мещанский район}  \n",
       "80                                 {Хорошевский район}  \n",
       "81                                     {Район Люблино}  \n",
       "82                                   {Таганский район}  \n",
       "83                             {Бескудниковский Район}  \n",
       "84                                    {Район Бибирево}  \n",
       "85                                   {Таганский район}  \n",
       "86                                   {Мещанский район}  \n",
       "87                                 {Пресненский район}  \n",
       "88                                 {Пресненский район}  \n",
       "89                              {Район Преображенское}  \n",
       "90                               {Академический район}  \n",
       "91                              {Красносельский район}  \n",
       "92                                    {Тверской район}  \n",
       "93                                 {Пресненский район}  \n",
       "94                                   {Район Хамовники}  \n",
       "95                                   {Район Хамовники}  \n",
       "96                                 {Даниловский район}  \n",
       "97                                    {Район Солнцево}  \n",
       "98                            {Район Ново-Переделкино}  \n",
       "99                                       {Район Арбат}  \n",
       "100                               {Район Дорогомилово}  \n",
       "101                          {Район Бирюлево Западное}  \n",
       "102                         {Район Чертаново Северное}  \n",
       "103                               {Южнопортовый Район}  \n",
       "104                          {Район Западное Дегунино}  \n",
       "105                  {Район Орехово-Борисово Северное}  \n",
       "106                          {Район Западное Дегунино}  \n",
       "107                                   {Тверской район}  \n",
       "108                       {Район Покровское-Стрешнево}  \n",
       "109                                   {Тверской район}  \n",
       "110                               {Южнопортовый Район}  \n",
       "111                                    {Район Раменки}  \n",
       "112                     {Район Орехово-Борисово Южное}  \n",
       "113                                  {Таганский район}  \n",
       "114                                {Даниловский район}  \n",
       "115                          {Район Бирюлево Западное}  \n",
       "116                                   {Район Отрадное}  \n",
       "117                                  {Басманный район}  \n",
       "118                                  {Таганский район}  \n",
       "119                                {Район Богородское}  \n",
       "120                                 {Район Сокольники}  \n",
       "121                                  {Таганский район}  \n",
       "122                                  {Можайский Район}  \n",
       "123                        {Район Очаково-Матвеевское}  \n",
       "124                             {Красносельский район}  \n",
       "125                                {Даниловский район}  \n",
       "126                                  {Район Лефортово}  \n",
       "127                                {Район Богородское}  \n",
       "128                                  {Район Лианозово}  \n",
       "129                         {Район Чертаново Северное}  \n",
       "130                                  {Басманный район}  \n",
       "131                            {Район Чертаново Южное}  \n",
       "132                               {Район Дорогомилово}  \n",
       "133                                {Даниловский район}  \n",
       "134                            {Бескудниковский Район}  \n",
       "135                                    {Район Марьино}  \n",
       "136                                {Пресненский район}  \n",
       "137                                    {Район Кунцево}  \n",
       "138                                    {Район Крюково}  \n",
       "139                                  {Район Восточный}  \n",
       "140                       {Район Покровское-Стрешнево}  \n",
       "141                                  {Рязанский район}  \n",
       "142                                  {Район Лианозово}  \n",
       "143                              {Тимирязевский Район}  \n",
       "144                              {Тимирязевский Район}  \n",
       "145                                   {Район Свиблово}  \n",
       "146                        {Район Восточное Измайлово}  \n",
       "147                        {Район Восточное Измайлово}  \n",
       "148                             {Красносельский район}  \n",
       "149                                   {Район Царицыно}  \n",
       "150                                  {Район Гольяново}  \n",
       "151                              {Нижегородский район}  \n",
       "152                         {Район Нагатино-Садовники}  \n",
       "153                     {Район Орехово-Борисово Южное}  \n",
       "154                            {Район Чертаново Южное}  \n",
       "155                                    {Район Ховрино}  \n",
       "156                                  {Таганский район}  \n",
       "157                                  {Мещанский район}  \n",
       "158                                  {Район Хамовники}  \n",
       "159                                      {Район Арбат}  \n",
       "160                                    {Район Коптево}  \n",
       "161                                  {Таганский район}  \n",
       "162                                  {Таганский район}  \n",
       "163                                {Головинский район}  \n",
       "164                                    {Район Вешняки}  \n",
       "165                                   {Район Якиманка}  \n",
       "166                               {Район Левобережный}  \n",
       "167                             {Красносельский район}  \n",
       "168                            {Район Выхино-Жулебино}  \n",
       "169                                   {Район Аэропорт}  \n",
       "170                                  {Басманный район}  \n",
       "171                                   {Район Аэропорт}  \n",
       "172                                   {Тверской район}  \n",
       "173                                  {Басманный район}  \n",
       "174                                   {Район Царицыно}  \n",
       "175                           {Район Ново-Переделкино}  \n",
       "176                            {Район Выхино-Жулебино}  \n",
       "177                                  {Район Гольяново}  \n",
       "178                                  {Район Гольяново}  \n",
       "179                         {Район Бирюлево Восточное}  \n",
       "180                         {Район Бирюлево Восточное}  \n",
       "181                                 {Район Ивановское}  \n",
       "182                          {Район Бирюлево Западное}  \n",
       "183                          {Район Бирюлево Западное}  \n",
       "184                            {Район Северное Бутово}  \n",
       "185                                {Район Теплый Стан}  \n",
       "186                        {Район Очаково-Матвеевское}  \n",
       "187                                    {Район Вешняки}  \n",
       "188                                  {Можайский Район}  \n",
       "189                           {Район Косино-Ухтомский}  \n",
       "190                                   {Район Строгино}  \n",
       "191                            {Район Выхино-Жулебино}  \n",
       "192                        {Район Северное Медведково}  \n",
       "193                               {Район Метрогородок}  \n",
       "194                           {Лосиноостровский район}  \n",
       "195                                  {Район Ростокино}  \n",
       "196                                    {Район Марфино}  \n",
       "197                                {Район Богородское}  \n",
       "198                                 {Район Сокольники}  \n",
       "199            {Пресненский район, Южнопортовый Район}  \n",
       "200                                  {Район Хамовники}  \n",
       "201                                  {Басманный район}  \n",
       "202                                  {Район Хамовники}  \n",
       "203                                    {Донской район}  \n",
       "204                                  {Таганский район}  \n",
       "205                              {Район Замоскворечье}  \n",
       "206                                  {Район Хамовники}  \n",
       "207                                  {Таганский район}  \n",
       "208                                {Пресненский район}  \n",
       "209                                   {Район Солнцево}  \n",
       "210  {Район Фили-Давыдково, Район Дорогомилово, Рай...  \n",
       "211                                {Савеловский район}  \n",
       "212                         {Район Тропарево-Никулино}  \n",
       "213  {Район Северное Измайлово, Район Ховрино, Райо...  \n",
       "214                              {Район Замоскворечье}  \n",
       "215                                   {Район Строгино}  \n",
       "216                             {Красносельский район}  \n",
       "217                                    {Район Марьино}  \n",
       "218                          {Район Нагатинский затон}  \n",
       "219                                {Район Богородское}  \n",
       "220                                  {Район Черемушки}  \n",
       "221  {Район Зюзино, Ломоносовский район, Район Чере...  \n",
       "222                                  {Район Хамовники}  \n",
       "223                                  {Район Измайлово}  \n",
       "224                                  {Басманный район}  \n",
       "225                                    {Район Беговой}  \n",
       "226                                {Пресненский район}  \n",
       "227                                  {Район Лианозово}  \n",
       "228                                {Район Гагаринский}  \n",
       "229                               {Останкинский район}  \n",
       "230                               {Район Южное Бутово}  \n",
       "231                               {Район Южное Тушино}  \n",
       "232                                  {Таганский район}  \n",
       "233                                  {Басманный район}  \n",
       "234                                  {Таганский район}  \n",
       "235                                   {Район Царицыно}  \n",
       "236                              {Район Замоскворечье}  \n",
       "237                             {Район Соколиная Гора}  \n",
       "238                             {Красносельский район}  \n",
       "239                                {Район Богородское}  \n",
       "240                                   {Район Солнцево}  \n",
       "241                                {Даниловский район}  \n",
       "242                                {Даниловский район}  \n",
       "243                             {Красносельский район}  \n",
       "244                                     {Район Митино}  \n",
       "245                        {Район Восточное Измайлово}  \n",
       "246                                  {Мещанский район}  \n",
       "247                                {Район Новогиреево}  \n",
       "248                              {Нижегородский район}  \n",
       "249                                   {Тверской район}  \n",
       "250                                    {Район Внуково}  \n",
       "251                                  {Таганский район}  \n",
       "252                                   {Район Якиманка}  \n",
       "253                                   {Район Аэропорт}  \n",
       "254                             {Район Преображенское}  \n",
       "255                                {Пресненский район}  \n",
       "256                               {Панфиловский район}  \n",
       "257                          {Район Матушкино-Савелки}  \n",
       "258       {Район Западное Дегунино, Дмитровский район}  \n",
       "259                                {Хорошевский район}  \n",
       "260                                   {Район Солнцево}  \n",
       "261                              {Академический район}  \n",
       "262                                    {Район Крюково}  \n",
       "263                                  {Район Лианозово}  \n",
       "264                                  {Басманный район}  \n",
       "265                                  {Басманный район}  \n",
       "266                               {Алексеевский район}  \n",
       "267                            {Район Чертаново Южное}  \n",
       "268                                 {Район Крылатское}  \n",
       "269                                  {Басманный район}  \n",
       "270                             {Красносельский район}  \n",
       "271                             {Красносельский район}  \n",
       "272                                  {Можайский Район}  \n",
       "273                              {Район Замоскворечье}  \n",
       "274                              {Район Замоскворечье}  \n",
       "275                                   {Район Строгино}  \n",
       "276                               {Останкинский район}  \n",
       "277                             {Район Соколиная Гора}  \n",
       "278                                  {Таганский район}  \n",
       "279                                  {Район Хамовники}  \n",
       "280                                  {Район Хамовники}  \n",
       "281                                   {Нагорный район}  \n",
       "282                                      {Район Арбат}  \n",
       "283                                   {Район Свиблово}  \n",
       "284                     {Район Крюково, Район Кунцево}  \n",
       "285                               {Панфиловский район}  \n",
       "286                                  {Таганский район}  \n",
       "287                               {Южнопортовый Район}  \n",
       "288                                  {Таганский район}  \n",
       "289                               {Район Южное Бутово}  \n",
       "290                                    {Район Раменки}  \n",
       "291                              {Район Замоскворечье}  \n",
       "292                                  {Район Лефортово}  \n",
       "293                                {Пресненский район}  \n",
       "294                          {Район Бирюлево Западное}  \n",
       "295                                    {Район Марфино}  \n",
       "296                           {Лосиноостровский район}  \n",
       "297                                   {Тверской район}  \n",
       "298                                  {Таганский район}  \n",
       "299                                    {Район Люблино}  \n",
       "300                                    {Район Ясенево}  \n",
       "301                                   {Район Свиблово}  \n",
       "302                                 {Район Ивановское}  \n",
       "303                                {Ярославский Район}  \n",
       "304                               {Панфиловский район}  \n",
       "305                             {Молжаниновский район}  \n",
       "306                                     {Район Зюзино}  \n",
       "307                                 {Район Ивановское}  \n",
       "308                               {Останкинский район}  \n",
       "309                                {Пресненский район}  \n",
       "310                                {Даниловский район}  \n",
       "311                                  {Басманный район}  \n",
       "312                                {Хорошевский район}  \n",
       "313                                  {Мещанский район}  \n",
       "314                                     {Район Митино}  \n",
       "315                        {Район Северное Медведково}  \n",
       "316                               {Район Южное Бутово}  \n",
       "317                                {Пресненский район}  \n",
       "318                                {Пресненский район}  \n",
       "319                         {Район Северное Измайлово}  \n",
       "320                                     {Район Перово}  \n",
       "321                                   {Нагорный район}  \n",
       "322                               {Южнопортовый Район}  \n",
       "323                                    {Район Куркино}  \n",
       "324                                  {Район Хамовники}  \n",
       "325                                   {Район Якиманка}  \n",
       "326                                  {Таганский район}  \n",
       "327                               {Район Южное Бутово}  \n",
       "328                          {Район Матушкино-Савелки}  \n",
       "329                                    {Район Крюково}  \n",
       "330                                  {Район Черемушки}  \n",
       "331                            {Район Выхино-Жулебино}  \n",
       "332                                {Район Гагаринский}  \n",
       "333                                  {Басманный район}  \n",
       "334                            {Бескудниковский Район}  \n",
       "335                                      {Район Арбат}  \n",
       "336                                {Обручевский район}  \n",
       "337                                    {Район Вешняки}  \n",
       "338                               {Район Дорогомилово}  \n",
       "339                          {Район Хорошево-Мневники}  \n",
       "340                                   {Тверской район}  \n",
       "341                                  {Мещанский район}  \n",
       "342                                  {Район Восточный}  \n",
       "343                               {Район Южное Бутово}  \n",
       "344                                  {Район Печатники}  \n",
       "345                                  {Район Хамовники}  \n",
       "346                               {Район Южное Тушино}  \n",
       "347                                   {Район Свиблово}  \n",
       "348                                    {Район Ясенево}  \n",
       "349                                 {Район Сокольники}  \n",
       "350                          {Район Нагатинский затон}  \n",
       "351               {Ярославский Район, Район Ростокино}  \n",
       "352                                    {Район Крюково}  \n",
       "353                                  {Район Хамовники}  \n",
       "354                            {Район Выхино-Жулебино}  \n",
       "355                               {Район Южное Бутово}  \n",
       "356                                   {Район Аэропорт}  \n",
       "357                                   {Район Коньково}  \n",
       "358                                  {Рязанский район}  \n",
       "359                             {Район Фили-Давыдково}  \n",
       "360                                {Пресненский район}  \n",
       "361                              {Ломоносовский район}  \n",
       "362                                  {Район Ростокино}  \n",
       "363                             {Район Соколиная Гора}  \n",
       "364                                   {Район Якиманка}  \n",
       "365                                  {Район Хамовники}  \n",
       "366                              {Академический район}  \n",
       "367                                  {Рязанский район}  \n",
       "368                                {Савеловский район}  \n",
       "369                                {Ярославский Район}  \n",
       "370                            {Район Северное Тушино}  \n",
       "371                                  {Район Лианозово}  \n",
       "372                            {Район Выхино-Жулебино}  \n",
       "373                                  {Можайский Район}  \n",
       "374                              {Академический район}  \n",
       "375                          {Район Хорошево-Мневники}  \n",
       "376                               {Район Дорогомилово}  \n",
       "377                                  {Район Хамовники}  \n",
       "378                                    {Район Кунцево}  \n",
       "379                                {Пресненский район}  \n",
       "380                                      {Район Арбат}  \n",
       "381                                  {Таганский район}  \n",
       "382                             {Район Соколиная Гора}  \n",
       "383                              {Академический район}  \n",
       "384                              {Академический район}  \n",
       "385                                 {Район Сокольники}  \n",
       "386                       {Район Москворечье-Сабурово}  \n",
       "387                                    {Район Крюково}  \n",
       "388                                   {Тверской район}  \n",
       "389                                {Даниловский район}  \n",
       "390                                {Даниловский район}  \n",
       "391                                 {Район Сокольники}  \n",
       "392                                   {Район Якиманка}  \n",
       "393                                     {Район Щукино}  \n",
       "394                               {Район Южное Бутово}  \n",
       "395                          {Район Хорошево-Мневники}  \n",
       "396                                   {Район Царицыно}  \n",
       "397                       {Район Покровское-Стрешнево}  \n",
       "398                                  {Район Зябликово}  \n",
       "399                        {Район Очаково-Матвеевское}  \n",
       "400                          {Район Хорошево-Мневники}  \n",
       "401                          {Район Матушкино-Савелки}  \n",
       "402                               {Район Метрогородок}  \n",
       "403                                {Хорошевский район}  \n",
       "404                              {Район Замоскворечье}  \n",
       "405                               {Район Южное Бутово}  \n",
       "406                          {Район Хорошево-Мневники}  \n",
       "407                                    {Район Люблино}  \n",
       "408                                     {Район Митино}  \n",
       "409                                  {Район Хамовники}  \n",
       "410                                  {Район Хамовники}  \n",
       "411                          {Район Хорошево-Мневники}  \n",
       "412                                   {Район Якиманка}  \n",
       "413                                  {Таганский район}  \n",
       "414                                  {Мещанский район}  \n",
       "415                              {Ломоносовский район}  \n",
       "416                                   {Район Строгино}  \n",
       "417                           {Район Ново-Переделкино}  \n",
       "418                             {Район Преображенское}  \n",
       "419                                    {Район Крюково}  \n",
       "420                                  {Район Черемушки}  \n",
       "421                                 {Район Ивановское}  \n",
       "422                                  {Район Лианозово}  \n",
       "423                           {Район Косино-Ухтомский}  \n",
       "424                                   {Район Якиманка}  \n",
       "425                               {Район Текстильщики}  \n",
       "426                                    {Донской район}  \n",
       "427                               {Панфиловский район}  \n",
       "428                               {Район Текстильщики}  "
      ]
     },
     "execution_count": 43,
     "metadata": {},
     "output_type": "execute_result"
    }
   ],
   "source": [
    "# пример подготовки данных\n",
    "distr.sample(frac=0.1).groupby('streetname', as_index=False).agg({'okrug': set, 'area': set})"
   ]
  },
  {
   "cell_type": "code",
   "execution_count": 45,
   "metadata": {},
   "outputs": [
    {
     "name": "stdout",
     "output_type": "stream",
     "text": [
      "Было: (15366, 7)\n"
     ]
    }
   ],
   "source": [
    "print(f\"Было: {data.shape}\")\n",
    "#print(f\"Стало (после merge): {data_mer.shape}\")"
   ]
  },
  {
   "cell_type": "markdown",
   "metadata": {},
   "source": [
    "#### Топ-10 улиц и районов Москвы по количеству объектов общ.пит."
   ]
  },
  {
   "cell_type": "markdown",
   "metadata": {},
   "source": [
    "Найдем топ-10 улиц по количеству объектов общ.пит. и построим график."
   ]
  },
  {
   "cell_type": "code",
   "execution_count": 46,
   "metadata": {},
   "outputs": [
    {
     "data": {
      "text/html": [
       "<div>\n",
       "<style scoped>\n",
       "    .dataframe tbody tr th:only-of-type {\n",
       "        vertical-align: middle;\n",
       "    }\n",
       "\n",
       "    .dataframe tbody tr th {\n",
       "        vertical-align: top;\n",
       "    }\n",
       "\n",
       "    .dataframe thead th {\n",
       "        text-align: right;\n",
       "    }\n",
       "</style>\n",
       "<table border=\"1\" class=\"dataframe\">\n",
       "  <thead>\n",
       "    <tr style=\"text-align: right;\">\n",
       "      <th></th>\n",
       "      <th>id</th>\n",
       "      <th>object_name</th>\n",
       "      <th>chain</th>\n",
       "      <th>object_type</th>\n",
       "      <th>address</th>\n",
       "      <th>number</th>\n",
       "      <th>streetname</th>\n",
       "    </tr>\n",
       "  </thead>\n",
       "  <tbody>\n",
       "    <tr>\n",
       "      <td>0</td>\n",
       "      <td>151635</td>\n",
       "      <td>СМЕТАНА</td>\n",
       "      <td>нет</td>\n",
       "      <td>кафе</td>\n",
       "      <td>город Москва, улица Егора Абакумова, дом 9</td>\n",
       "      <td>48</td>\n",
       "      <td>улица Егора Абакумова</td>\n",
       "    </tr>\n",
       "    <tr>\n",
       "      <td>1</td>\n",
       "      <td>77874</td>\n",
       "      <td>Родник</td>\n",
       "      <td>нет</td>\n",
       "      <td>кафе</td>\n",
       "      <td>город Москва, улица Талалихина, дом 2/1, корпус 1</td>\n",
       "      <td>35</td>\n",
       "      <td>улица Талалихина</td>\n",
       "    </tr>\n",
       "    <tr>\n",
       "      <td>2</td>\n",
       "      <td>24309</td>\n",
       "      <td>Кафе «Академия»</td>\n",
       "      <td>нет</td>\n",
       "      <td>кафе</td>\n",
       "      <td>город Москва, Абельмановская улица, дом 6</td>\n",
       "      <td>95</td>\n",
       "      <td>Абельмановская улица</td>\n",
       "    </tr>\n",
       "    <tr>\n",
       "      <td>3</td>\n",
       "      <td>21894</td>\n",
       "      <td>ПИЦЦЕТОРИЯ</td>\n",
       "      <td>да</td>\n",
       "      <td>кафе</td>\n",
       "      <td>город Москва, Абрамцевская улица, дом 1</td>\n",
       "      <td>40</td>\n",
       "      <td>Абрамцевская улица</td>\n",
       "    </tr>\n",
       "    <tr>\n",
       "      <td>4</td>\n",
       "      <td>119365</td>\n",
       "      <td>Кафе «Вишневая метель»</td>\n",
       "      <td>нет</td>\n",
       "      <td>кафе</td>\n",
       "      <td>город Москва, Абрамцевская улица, дом 9, корпус 1</td>\n",
       "      <td>50</td>\n",
       "      <td>Абрамцевская улица</td>\n",
       "    </tr>\n",
       "  </tbody>\n",
       "</table>\n",
       "</div>"
      ],
      "text/plain": [
       "       id             object_name chain object_type  \\\n",
       "0  151635                 СМЕТАНА   нет        кафе   \n",
       "1   77874                  Родник   нет        кафе   \n",
       "2   24309         Кафе «Академия»   нет        кафе   \n",
       "3   21894              ПИЦЦЕТОРИЯ    да        кафе   \n",
       "4  119365  Кафе «Вишневая метель»   нет        кафе   \n",
       "\n",
       "                                             address  number  \\\n",
       "0         город Москва, улица Егора Абакумова, дом 9      48   \n",
       "1  город Москва, улица Талалихина, дом 2/1, корпус 1      35   \n",
       "2          город Москва, Абельмановская улица, дом 6      95   \n",
       "3            город Москва, Абрамцевская улица, дом 1      40   \n",
       "4  город Москва, Абрамцевская улица, дом 9, корпус 1      50   \n",
       "\n",
       "              streetname  \n",
       "0  улица Егора Абакумова  \n",
       "1       улица Талалихина  \n",
       "2   Абельмановская улица  \n",
       "3     Абрамцевская улица  \n",
       "4     Абрамцевская улица  "
      ]
     },
     "execution_count": 46,
     "metadata": {},
     "output_type": "execute_result"
    }
   ],
   "source": [
    "data.head()"
   ]
  },
  {
   "cell_type": "code",
   "execution_count": 47,
   "metadata": {},
   "outputs": [
    {
     "data": {
      "text/html": [
       "<div>\n",
       "<style scoped>\n",
       "    .dataframe tbody tr th:only-of-type {\n",
       "        vertical-align: middle;\n",
       "    }\n",
       "\n",
       "    .dataframe tbody tr th {\n",
       "        vertical-align: top;\n",
       "    }\n",
       "\n",
       "    .dataframe thead th {\n",
       "        text-align: right;\n",
       "    }\n",
       "</style>\n",
       "<table border=\"1\" class=\"dataframe\">\n",
       "  <thead>\n",
       "    <tr style=\"text-align: right;\">\n",
       "      <th></th>\n",
       "      <th>index</th>\n",
       "      <th>streetname</th>\n",
       "      <th>count</th>\n",
       "      <th>mean</th>\n",
       "      <th>max</th>\n",
       "      <th>min</th>\n",
       "    </tr>\n",
       "  </thead>\n",
       "  <tbody>\n",
       "    <tr>\n",
       "      <td>0</td>\n",
       "      <td>1364</td>\n",
       "      <td>город Зеленоград</td>\n",
       "      <td>232</td>\n",
       "      <td>73.49</td>\n",
       "      <td>520</td>\n",
       "      <td>0</td>\n",
       "    </tr>\n",
       "    <tr>\n",
       "      <td>1</td>\n",
       "      <td>1489</td>\n",
       "      <td>проспект Мира</td>\n",
       "      <td>204</td>\n",
       "      <td>62.70</td>\n",
       "      <td>326</td>\n",
       "      <td>0</td>\n",
       "    </tr>\n",
       "    <tr>\n",
       "      <td>2</td>\n",
       "      <td>1011</td>\n",
       "      <td>Профсоюзная улица</td>\n",
       "      <td>182</td>\n",
       "      <td>46.41</td>\n",
       "      <td>240</td>\n",
       "      <td>0</td>\n",
       "    </tr>\n",
       "    <tr>\n",
       "      <td>3</td>\n",
       "      <td>693</td>\n",
       "      <td>Ленинградский проспект</td>\n",
       "      <td>171</td>\n",
       "      <td>52.69</td>\n",
       "      <td>625</td>\n",
       "      <td>0</td>\n",
       "    </tr>\n",
       "    <tr>\n",
       "      <td>4</td>\n",
       "      <td>997</td>\n",
       "      <td>Пресненская набережная</td>\n",
       "      <td>167</td>\n",
       "      <td>45.84</td>\n",
       "      <td>478</td>\n",
       "      <td>0</td>\n",
       "    </tr>\n",
       "    <tr>\n",
       "      <td>5</td>\n",
       "      <td>414</td>\n",
       "      <td>Варшавское шоссе</td>\n",
       "      <td>165</td>\n",
       "      <td>52.28</td>\n",
       "      <td>500</td>\n",
       "      <td>0</td>\n",
       "    </tr>\n",
       "    <tr>\n",
       "      <td>6</td>\n",
       "      <td>696</td>\n",
       "      <td>Ленинский проспект</td>\n",
       "      <td>148</td>\n",
       "      <td>63.15</td>\n",
       "      <td>495</td>\n",
       "      <td>0</td>\n",
       "    </tr>\n",
       "    <tr>\n",
       "      <td>7</td>\n",
       "      <td>1486</td>\n",
       "      <td>проспект Вернадского</td>\n",
       "      <td>132</td>\n",
       "      <td>66.97</td>\n",
       "      <td>1288</td>\n",
       "      <td>0</td>\n",
       "    </tr>\n",
       "    <tr>\n",
       "      <td>8</td>\n",
       "      <td>684</td>\n",
       "      <td>Кутузовский проспект</td>\n",
       "      <td>114</td>\n",
       "      <td>85.06</td>\n",
       "      <td>1700</td>\n",
       "      <td>0</td>\n",
       "    </tr>\n",
       "    <tr>\n",
       "      <td>9</td>\n",
       "      <td>609</td>\n",
       "      <td>Каширское шоссе</td>\n",
       "      <td>112</td>\n",
       "      <td>55.10</td>\n",
       "      <td>680</td>\n",
       "      <td>0</td>\n",
       "    </tr>\n",
       "  </tbody>\n",
       "</table>\n",
       "</div>"
      ],
      "text/plain": [
       "   index              streetname  count  mean   max  min\n",
       "0   1364        город Зеленоград    232 73.49   520    0\n",
       "1   1489           проспект Мира    204 62.70   326    0\n",
       "2   1011       Профсоюзная улица    182 46.41   240    0\n",
       "3    693  Ленинградский проспект    171 52.69   625    0\n",
       "4    997  Пресненская набережная    167 45.84   478    0\n",
       "5    414        Варшавское шоссе    165 52.28   500    0\n",
       "6    696      Ленинский проспект    148 63.15   495    0\n",
       "7   1486    проспект Вернадского    132 66.97  1288    0\n",
       "8    684    Кутузовский проспект    114 85.06  1700    0\n",
       "9    609         Каширское шоссе    112 55.10   680    0"
      ]
     },
     "execution_count": 47,
     "metadata": {},
     "output_type": "execute_result"
    }
   ],
   "source": [
    "#Сгруппируем данные по столбцу streetname, посчитаем кол-во объектов и кол-во посад.мест\n",
    "#отсортируем и возьмем первые 10 строк\n",
    "data_s = data.groupby('streetname', as_index=False).agg({'number':['count','mean', 'max','min']})\n",
    "#сбросим мультиназвания столбцов\n",
    "data_s.columns = [tup[1] if tup[1] else tup[0] for tup in data_s.columns]\n",
    "d_t10 = pd.DataFrame(data_s.sort_values(by = 'count', ascending=False)).reset_index().head(10)\n",
    "d_t10\n",
    "#data_s"
   ]
  },
  {
   "cell_type": "code",
   "execution_count": 48,
   "metadata": {},
   "outputs": [
    {
     "data": {
      "text/plain": [
       "Text(0, 0.5, 'Улица')"
      ]
     },
     "execution_count": 48,
     "metadata": {},
     "output_type": "execute_result"
    },
    {
     "data": {
      "image/png": "[encoded data removed]",
      "text/plain": [
       "<Figure size 432x288 with 1 Axes>"
      ]
     },
     "metadata": {
      "needs_background": "light"
     },
     "output_type": "display_data"
    }
   ],
   "source": [
    "#построим столбчатую диаграмму\n",
    "ax = sns.barplot(x='count', y='streetname', data=d_t10, color = 'blue', alpha=0.7) \n",
    "ax.set_title('Топ-10 улиц в Моске по кол-ву объектов')\n",
    "ax.set_xlabel('Кол-во')\n",
    "ax.set_ylabel('Улица')\n",
    "#plt.xticks(rotation=90)"
   ]
  },
  {
   "cell_type": "code",
   "execution_count": 49,
   "metadata": {},
   "outputs": [
    {
     "data": {
      "text/plain": [
       "['город Зеленоград',\n",
       " 'проспект Мира',\n",
       " 'Профсоюзная улица',\n",
       " 'Ленинградский проспект',\n",
       " 'Пресненская набережная',\n",
       " 'Варшавское шоссе',\n",
       " 'Ленинский проспект',\n",
       " 'проспект Вернадского',\n",
       " 'Кутузовский проспект',\n",
       " 'Каширское шоссе']"
      ]
     },
     "execution_count": 49,
     "metadata": {},
     "output_type": "execute_result"
    }
   ],
   "source": [
    "#Создадим список Топ-10 улиц и сохраним его в переменную top10\n",
    "top10 = list(d_t10['streetname'])\n",
    "top10"
   ]
  },
  {
   "cell_type": "markdown",
   "metadata": {},
   "source": [
    "Таким образом видим список топ-10 улиц Москвы, где больше всего сосредоточены объекты общ.пит. Скорее всего можно проследить закономерность: чем длиннее протяженность улицы и чем улица находится ближе к центральной части города - тем больше количество объектов общ.пит. она имеет. Исключением в списке - г.Зеленоград, так как он является одновременно не только улицей, но и одним из 12 округов г.Москвы. "
   ]
  },
  {
   "cell_type": "markdown",
   "metadata": {},
   "source": [
    "Найдем в каких районах Москвы находятся эти топ-10 улиц по количеству объектов общ.пит."
   ]
  },
  {
   "cell_type": "markdown",
   "metadata": {},
   "source": [
    "Объединим две таблицы: основную с объектами общ.пит и с районами г.Москвы."
   ]
  },
  {
   "cell_type": "code",
   "execution_count": 50,
   "metadata": {},
   "outputs": [
    {
     "data": {
      "text/html": [
       "<div>\n",
       "<style scoped>\n",
       "    .dataframe tbody tr th:only-of-type {\n",
       "        vertical-align: middle;\n",
       "    }\n",
       "\n",
       "    .dataframe tbody tr th {\n",
       "        vertical-align: top;\n",
       "    }\n",
       "\n",
       "    .dataframe thead th {\n",
       "        text-align: right;\n",
       "    }\n",
       "</style>\n",
       "<table border=\"1\" class=\"dataframe\">\n",
       "  <thead>\n",
       "    <tr style=\"text-align: right;\">\n",
       "      <th></th>\n",
       "      <th>streetname</th>\n",
       "      <th>areaid</th>\n",
       "      <th>okrug</th>\n",
       "      <th>area</th>\n",
       "    </tr>\n",
       "  </thead>\n",
       "  <tbody>\n",
       "    <tr>\n",
       "      <td>0</td>\n",
       "      <td>Выставочный переулок</td>\n",
       "      <td>17</td>\n",
       "      <td>ЦАО</td>\n",
       "      <td>Пресненский район</td>\n",
       "    </tr>\n",
       "    <tr>\n",
       "      <td>1</td>\n",
       "      <td>улица Гашека</td>\n",
       "      <td>17</td>\n",
       "      <td>ЦАО</td>\n",
       "      <td>Пресненский район</td>\n",
       "    </tr>\n",
       "    <tr>\n",
       "      <td>2</td>\n",
       "      <td>Большая Никитская улица</td>\n",
       "      <td>17</td>\n",
       "      <td>ЦАО</td>\n",
       "      <td>Пресненский район</td>\n",
       "    </tr>\n",
       "    <tr>\n",
       "      <td>3</td>\n",
       "      <td>Глубокий переулок</td>\n",
       "      <td>17</td>\n",
       "      <td>ЦАО</td>\n",
       "      <td>Пресненский район</td>\n",
       "    </tr>\n",
       "    <tr>\n",
       "      <td>4</td>\n",
       "      <td>Большой Гнездниковский переулок</td>\n",
       "      <td>17</td>\n",
       "      <td>ЦАО</td>\n",
       "      <td>Пресненский район</td>\n",
       "    </tr>\n",
       "  </tbody>\n",
       "</table>\n",
       "</div>"
      ],
      "text/plain": [
       "                        streetname  areaid okrug               area\n",
       "0             Выставочный переулок      17   ЦАО  Пресненский район\n",
       "1                     улица Гашека      17   ЦАО  Пресненский район\n",
       "2          Большая Никитская улица      17   ЦАО  Пресненский район\n",
       "3                Глубокий переулок      17   ЦАО  Пресненский район\n",
       "4  Большой Гнездниковский переулок      17   ЦАО  Пресненский район"
      ]
     },
     "execution_count": 50,
     "metadata": {},
     "output_type": "execute_result"
    }
   ],
   "source": [
    "distr.head()\n",
    "\n"
   ]
  },
  {
   "cell_type": "code",
   "execution_count": 51,
   "metadata": {},
   "outputs": [
    {
     "name": "stdout",
     "output_type": "stream",
     "text": [
      "<class 'pandas.core.frame.DataFrame'>\n",
      "RangeIndex: 4398 entries, 0 to 4397\n",
      "Data columns (total 4 columns):\n",
      "streetname    4398 non-null object\n",
      "areaid        4398 non-null int64\n",
      "okrug         4398 non-null object\n",
      "area          4398 non-null object\n",
      "dtypes: int64(1), object(3)\n",
      "memory usage: 137.6+ KB\n"
     ]
    }
   ],
   "source": [
    "distr.info()"
   ]
  },
  {
   "cell_type": "code",
   "execution_count": 52,
   "metadata": {},
   "outputs": [
    {
     "name": "stdout",
     "output_type": "stream",
     "text": [
      "<class 'pandas.core.frame.DataFrame'>\n",
      "RangeIndex: 15366 entries, 0 to 15365\n",
      "Data columns (total 7 columns):\n",
      "id             15366 non-null int64\n",
      "object_name    15366 non-null object\n",
      "chain          15366 non-null object\n",
      "object_type    15366 non-null object\n",
      "address        15366 non-null object\n",
      "number         15366 non-null int64\n",
      "streetname     15366 non-null object\n",
      "dtypes: int64(2), object(5)\n",
      "memory usage: 840.5+ KB\n"
     ]
    }
   ],
   "source": [
    "data.info()"
   ]
  },
  {
   "cell_type": "code",
   "execution_count": 53,
   "metadata": {},
   "outputs": [
    {
     "data": {
      "text/html": [
       "<div>\n",
       "<style scoped>\n",
       "    .dataframe tbody tr th:only-of-type {\n",
       "        vertical-align: middle;\n",
       "    }\n",
       "\n",
       "    .dataframe tbody tr th {\n",
       "        vertical-align: top;\n",
       "    }\n",
       "\n",
       "    .dataframe thead th {\n",
       "        text-align: right;\n",
       "    }\n",
       "</style>\n",
       "<table border=\"1\" class=\"dataframe\">\n",
       "  <thead>\n",
       "    <tr style=\"text-align: right;\">\n",
       "      <th></th>\n",
       "      <th>index</th>\n",
       "      <th>streetname</th>\n",
       "      <th>count</th>\n",
       "      <th>mean</th>\n",
       "      <th>max</th>\n",
       "      <th>min</th>\n",
       "      <th>areaid</th>\n",
       "      <th>okrug</th>\n",
       "      <th>area</th>\n",
       "    </tr>\n",
       "  </thead>\n",
       "  <tbody>\n",
       "    <tr>\n",
       "      <td>0</td>\n",
       "      <td>1364</td>\n",
       "      <td>город Зеленоград</td>\n",
       "      <td>232</td>\n",
       "      <td>73.49</td>\n",
       "      <td>520</td>\n",
       "      <td>0</td>\n",
       "      <td>51</td>\n",
       "      <td>Зеленоград</td>\n",
       "      <td>Район Крюково</td>\n",
       "    </tr>\n",
       "    <tr>\n",
       "      <td>1</td>\n",
       "      <td>1364</td>\n",
       "      <td>город Зеленоград</td>\n",
       "      <td>232</td>\n",
       "      <td>73.49</td>\n",
       "      <td>520</td>\n",
       "      <td>0</td>\n",
       "      <td>52</td>\n",
       "      <td>Зеленоград</td>\n",
       "      <td>Район Матушкино-Савелки</td>\n",
       "    </tr>\n",
       "    <tr>\n",
       "      <td>2</td>\n",
       "      <td>1364</td>\n",
       "      <td>город Зеленоград</td>\n",
       "      <td>232</td>\n",
       "      <td>73.49</td>\n",
       "      <td>520</td>\n",
       "      <td>0</td>\n",
       "      <td>53</td>\n",
       "      <td>Зеленоград</td>\n",
       "      <td>Панфиловский район</td>\n",
       "    </tr>\n",
       "    <tr>\n",
       "      <td>3</td>\n",
       "      <td>1489</td>\n",
       "      <td>проспект Мира</td>\n",
       "      <td>204</td>\n",
       "      <td>62.70</td>\n",
       "      <td>326</td>\n",
       "      <td>0</td>\n",
       "      <td>70</td>\n",
       "      <td>СВАО</td>\n",
       "      <td>Алексеевский район</td>\n",
       "    </tr>\n",
       "    <tr>\n",
       "      <td>4</td>\n",
       "      <td>1489</td>\n",
       "      <td>проспект Мира</td>\n",
       "      <td>204</td>\n",
       "      <td>62.70</td>\n",
       "      <td>326</td>\n",
       "      <td>0</td>\n",
       "      <td>86</td>\n",
       "      <td>СВАО</td>\n",
       "      <td>Ярославский Район</td>\n",
       "    </tr>\n",
       "    <tr>\n",
       "      <td>5</td>\n",
       "      <td>1489</td>\n",
       "      <td>проспект Мира</td>\n",
       "      <td>204</td>\n",
       "      <td>62.70</td>\n",
       "      <td>326</td>\n",
       "      <td>0</td>\n",
       "      <td>78</td>\n",
       "      <td>СВАО</td>\n",
       "      <td>Район Марьина роща</td>\n",
       "    </tr>\n",
       "    <tr>\n",
       "      <td>6</td>\n",
       "      <td>1489</td>\n",
       "      <td>проспект Мира</td>\n",
       "      <td>204</td>\n",
       "      <td>62.70</td>\n",
       "      <td>326</td>\n",
       "      <td>0</td>\n",
       "      <td>79</td>\n",
       "      <td>СВАО</td>\n",
       "      <td>Останкинский район</td>\n",
       "    </tr>\n",
       "    <tr>\n",
       "      <td>7</td>\n",
       "      <td>1489</td>\n",
       "      <td>проспект Мира</td>\n",
       "      <td>204</td>\n",
       "      <td>62.70</td>\n",
       "      <td>326</td>\n",
       "      <td>0</td>\n",
       "      <td>81</td>\n",
       "      <td>СВАО</td>\n",
       "      <td>Район Ростокино</td>\n",
       "    </tr>\n",
       "    <tr>\n",
       "      <td>8</td>\n",
       "      <td>1489</td>\n",
       "      <td>проспект Мира</td>\n",
       "      <td>204</td>\n",
       "      <td>62.70</td>\n",
       "      <td>326</td>\n",
       "      <td>0</td>\n",
       "      <td>82</td>\n",
       "      <td>СВАО</td>\n",
       "      <td>Район Свиблово</td>\n",
       "    </tr>\n",
       "    <tr>\n",
       "      <td>9</td>\n",
       "      <td>1489</td>\n",
       "      <td>проспект Мира</td>\n",
       "      <td>204</td>\n",
       "      <td>62.70</td>\n",
       "      <td>326</td>\n",
       "      <td>0</td>\n",
       "      <td>16</td>\n",
       "      <td>ЦАО</td>\n",
       "      <td>Мещанский район</td>\n",
       "    </tr>\n",
       "    <tr>\n",
       "      <td>10</td>\n",
       "      <td>1011</td>\n",
       "      <td>Профсоюзная улица</td>\n",
       "      <td>182</td>\n",
       "      <td>46.41</td>\n",
       "      <td>240</td>\n",
       "      <td>0</td>\n",
       "      <td>123</td>\n",
       "      <td>ЮЗАО</td>\n",
       "      <td>Академический район</td>\n",
       "    </tr>\n",
       "    <tr>\n",
       "      <td>11</td>\n",
       "      <td>1011</td>\n",
       "      <td>Профсоюзная улица</td>\n",
       "      <td>182</td>\n",
       "      <td>46.41</td>\n",
       "      <td>240</td>\n",
       "      <td>0</td>\n",
       "      <td>132</td>\n",
       "      <td>ЮЗАО</td>\n",
       "      <td>Район Черемушки</td>\n",
       "    </tr>\n",
       "    <tr>\n",
       "      <td>12</td>\n",
       "      <td>1011</td>\n",
       "      <td>Профсоюзная улица</td>\n",
       "      <td>182</td>\n",
       "      <td>46.41</td>\n",
       "      <td>240</td>\n",
       "      <td>0</td>\n",
       "      <td>134</td>\n",
       "      <td>ЮЗАО</td>\n",
       "      <td>Район Ясенево</td>\n",
       "    </tr>\n",
       "    <tr>\n",
       "      <td>13</td>\n",
       "      <td>1011</td>\n",
       "      <td>Профсоюзная улица</td>\n",
       "      <td>182</td>\n",
       "      <td>46.41</td>\n",
       "      <td>240</td>\n",
       "      <td>0</td>\n",
       "      <td>126</td>\n",
       "      <td>ЮЗАО</td>\n",
       "      <td>Район Коньково</td>\n",
       "    </tr>\n",
       "    <tr>\n",
       "      <td>14</td>\n",
       "      <td>1011</td>\n",
       "      <td>Профсоюзная улица</td>\n",
       "      <td>182</td>\n",
       "      <td>46.41</td>\n",
       "      <td>240</td>\n",
       "      <td>0</td>\n",
       "      <td>129</td>\n",
       "      <td>ЮЗАО</td>\n",
       "      <td>Обручевский район</td>\n",
       "    </tr>\n",
       "    <tr>\n",
       "      <td>15</td>\n",
       "      <td>1011</td>\n",
       "      <td>Профсоюзная улица</td>\n",
       "      <td>182</td>\n",
       "      <td>46.41</td>\n",
       "      <td>240</td>\n",
       "      <td>0</td>\n",
       "      <td>131</td>\n",
       "      <td>ЮЗАО</td>\n",
       "      <td>Район Теплый Стан</td>\n",
       "    </tr>\n",
       "    <tr>\n",
       "      <td>16</td>\n",
       "      <td>693</td>\n",
       "      <td>Ленинградский проспект</td>\n",
       "      <td>171</td>\n",
       "      <td>52.69</td>\n",
       "      <td>625</td>\n",
       "      <td>0</td>\n",
       "      <td>54</td>\n",
       "      <td>САО</td>\n",
       "      <td>Район Аэропорт</td>\n",
       "    </tr>\n",
       "    <tr>\n",
       "      <td>17</td>\n",
       "      <td>693</td>\n",
       "      <td>Ленинградский проспект</td>\n",
       "      <td>171</td>\n",
       "      <td>52.69</td>\n",
       "      <td>625</td>\n",
       "      <td>0</td>\n",
       "      <td>55</td>\n",
       "      <td>САО</td>\n",
       "      <td>Район Беговой</td>\n",
       "    </tr>\n",
       "    <tr>\n",
       "      <td>18</td>\n",
       "      <td>693</td>\n",
       "      <td>Ленинградский проспект</td>\n",
       "      <td>171</td>\n",
       "      <td>52.69</td>\n",
       "      <td>625</td>\n",
       "      <td>0</td>\n",
       "      <td>69</td>\n",
       "      <td>САО</td>\n",
       "      <td>Хорошевский район</td>\n",
       "    </tr>\n",
       "    <tr>\n",
       "      <td>19</td>\n",
       "      <td>693</td>\n",
       "      <td>Ленинградский проспект</td>\n",
       "      <td>171</td>\n",
       "      <td>52.69</td>\n",
       "      <td>625</td>\n",
       "      <td>0</td>\n",
       "      <td>66</td>\n",
       "      <td>САО</td>\n",
       "      <td>Район Сокол</td>\n",
       "    </tr>\n",
       "    <tr>\n",
       "      <td>20</td>\n",
       "      <td>997</td>\n",
       "      <td>Пресненская набережная</td>\n",
       "      <td>167</td>\n",
       "      <td>45.84</td>\n",
       "      <td>478</td>\n",
       "      <td>0</td>\n",
       "      <td>17</td>\n",
       "      <td>ЦАО</td>\n",
       "      <td>Пресненский район</td>\n",
       "    </tr>\n",
       "    <tr>\n",
       "      <td>21</td>\n",
       "      <td>414</td>\n",
       "      <td>Варшавское шоссе</td>\n",
       "      <td>165</td>\n",
       "      <td>52.28</td>\n",
       "      <td>500</td>\n",
       "      <td>0</td>\n",
       "      <td>109</td>\n",
       "      <td>ЮАО</td>\n",
       "      <td>Район Чертаново Центральное</td>\n",
       "    </tr>\n",
       "    <tr>\n",
       "      <td>22</td>\n",
       "      <td>414</td>\n",
       "      <td>Варшавское шоссе</td>\n",
       "      <td>165</td>\n",
       "      <td>52.28</td>\n",
       "      <td>500</td>\n",
       "      <td>0</td>\n",
       "      <td>108</td>\n",
       "      <td>ЮАО</td>\n",
       "      <td>Район Чертаново Северное</td>\n",
       "    </tr>\n",
       "    <tr>\n",
       "      <td>23</td>\n",
       "      <td>414</td>\n",
       "      <td>Варшавское шоссе</td>\n",
       "      <td>165</td>\n",
       "      <td>52.28</td>\n",
       "      <td>500</td>\n",
       "      <td>0</td>\n",
       "      <td>110</td>\n",
       "      <td>ЮАО</td>\n",
       "      <td>Район Чертаново Южное</td>\n",
       "    </tr>\n",
       "    <tr>\n",
       "      <td>24</td>\n",
       "      <td>414</td>\n",
       "      <td>Варшавское шоссе</td>\n",
       "      <td>165</td>\n",
       "      <td>52.28</td>\n",
       "      <td>500</td>\n",
       "      <td>0</td>\n",
       "      <td>99</td>\n",
       "      <td>ЮАО</td>\n",
       "      <td>Донской район</td>\n",
       "    </tr>\n",
       "    <tr>\n",
       "      <td>25</td>\n",
       "      <td>414</td>\n",
       "      <td>Варшавское шоссе</td>\n",
       "      <td>165</td>\n",
       "      <td>52.28</td>\n",
       "      <td>500</td>\n",
       "      <td>0</td>\n",
       "      <td>102</td>\n",
       "      <td>ЮАО</td>\n",
       "      <td>Район Нагатино-Садовники</td>\n",
       "    </tr>\n",
       "    <tr>\n",
       "      <td>26</td>\n",
       "      <td>414</td>\n",
       "      <td>Варшавское шоссе</td>\n",
       "      <td>165</td>\n",
       "      <td>52.28</td>\n",
       "      <td>500</td>\n",
       "      <td>0</td>\n",
       "      <td>104</td>\n",
       "      <td>ЮАО</td>\n",
       "      <td>Нагорный район</td>\n",
       "    </tr>\n",
       "    <tr>\n",
       "      <td>27</td>\n",
       "      <td>414</td>\n",
       "      <td>Варшавское шоссе</td>\n",
       "      <td>165</td>\n",
       "      <td>52.28</td>\n",
       "      <td>500</td>\n",
       "      <td>0</td>\n",
       "      <td>130</td>\n",
       "      <td>ЮЗАО</td>\n",
       "      <td>Район Северное Бутово</td>\n",
       "    </tr>\n",
       "    <tr>\n",
       "      <td>28</td>\n",
       "      <td>414</td>\n",
       "      <td>Варшавское шоссе</td>\n",
       "      <td>165</td>\n",
       "      <td>52.28</td>\n",
       "      <td>500</td>\n",
       "      <td>0</td>\n",
       "      <td>133</td>\n",
       "      <td>ЮЗАО</td>\n",
       "      <td>Район Южное Бутово</td>\n",
       "    </tr>\n",
       "    <tr>\n",
       "      <td>29</td>\n",
       "      <td>696</td>\n",
       "      <td>Ленинский проспект</td>\n",
       "      <td>148</td>\n",
       "      <td>63.15</td>\n",
       "      <td>495</td>\n",
       "      <td>0</td>\n",
       "      <td>44</td>\n",
       "      <td>ЗАО</td>\n",
       "      <td>Район Проспект Вернадского</td>\n",
       "    </tr>\n",
       "    <tr>\n",
       "      <td>30</td>\n",
       "      <td>696</td>\n",
       "      <td>Ленинский проспект</td>\n",
       "      <td>148</td>\n",
       "      <td>63.15</td>\n",
       "      <td>495</td>\n",
       "      <td>0</td>\n",
       "      <td>47</td>\n",
       "      <td>ЗАО</td>\n",
       "      <td>Район Тропарево-Никулино</td>\n",
       "    </tr>\n",
       "    <tr>\n",
       "      <td>31</td>\n",
       "      <td>696</td>\n",
       "      <td>Ленинский проспект</td>\n",
       "      <td>148</td>\n",
       "      <td>63.15</td>\n",
       "      <td>495</td>\n",
       "      <td>0</td>\n",
       "      <td>99</td>\n",
       "      <td>ЮАО</td>\n",
       "      <td>Донской район</td>\n",
       "    </tr>\n",
       "    <tr>\n",
       "      <td>32</td>\n",
       "      <td>696</td>\n",
       "      <td>Ленинский проспект</td>\n",
       "      <td>148</td>\n",
       "      <td>63.15</td>\n",
       "      <td>495</td>\n",
       "      <td>0</td>\n",
       "      <td>124</td>\n",
       "      <td>ЮЗАО</td>\n",
       "      <td>Район Гагаринский</td>\n",
       "    </tr>\n",
       "    <tr>\n",
       "      <td>33</td>\n",
       "      <td>696</td>\n",
       "      <td>Ленинский проспект</td>\n",
       "      <td>148</td>\n",
       "      <td>63.15</td>\n",
       "      <td>495</td>\n",
       "      <td>0</td>\n",
       "      <td>128</td>\n",
       "      <td>ЮЗАО</td>\n",
       "      <td>Ломоносовский район</td>\n",
       "    </tr>\n",
       "    <tr>\n",
       "      <td>34</td>\n",
       "      <td>696</td>\n",
       "      <td>Ленинский проспект</td>\n",
       "      <td>148</td>\n",
       "      <td>63.15</td>\n",
       "      <td>495</td>\n",
       "      <td>0</td>\n",
       "      <td>129</td>\n",
       "      <td>ЮЗАО</td>\n",
       "      <td>Обручевский район</td>\n",
       "    </tr>\n",
       "    <tr>\n",
       "      <td>35</td>\n",
       "      <td>696</td>\n",
       "      <td>Ленинский проспект</td>\n",
       "      <td>148</td>\n",
       "      <td>63.15</td>\n",
       "      <td>495</td>\n",
       "      <td>0</td>\n",
       "      <td>131</td>\n",
       "      <td>ЮЗАО</td>\n",
       "      <td>Район Теплый Стан</td>\n",
       "    </tr>\n",
       "    <tr>\n",
       "      <td>36</td>\n",
       "      <td>696</td>\n",
       "      <td>Ленинский проспект</td>\n",
       "      <td>148</td>\n",
       "      <td>63.15</td>\n",
       "      <td>495</td>\n",
       "      <td>0</td>\n",
       "      <td>21</td>\n",
       "      <td>ЦАО</td>\n",
       "      <td>Район Якиманка</td>\n",
       "    </tr>\n",
       "    <tr>\n",
       "      <td>37</td>\n",
       "      <td>1486</td>\n",
       "      <td>проспект Вернадского</td>\n",
       "      <td>132</td>\n",
       "      <td>66.97</td>\n",
       "      <td>1288</td>\n",
       "      <td>0</td>\n",
       "      <td>44</td>\n",
       "      <td>ЗАО</td>\n",
       "      <td>Район Проспект Вернадского</td>\n",
       "    </tr>\n",
       "    <tr>\n",
       "      <td>38</td>\n",
       "      <td>1486</td>\n",
       "      <td>проспект Вернадского</td>\n",
       "      <td>132</td>\n",
       "      <td>66.97</td>\n",
       "      <td>1288</td>\n",
       "      <td>0</td>\n",
       "      <td>45</td>\n",
       "      <td>ЗАО</td>\n",
       "      <td>Район Раменки</td>\n",
       "    </tr>\n",
       "    <tr>\n",
       "      <td>39</td>\n",
       "      <td>1486</td>\n",
       "      <td>проспект Вернадского</td>\n",
       "      <td>132</td>\n",
       "      <td>66.97</td>\n",
       "      <td>1288</td>\n",
       "      <td>0</td>\n",
       "      <td>47</td>\n",
       "      <td>ЗАО</td>\n",
       "      <td>Район Тропарево-Никулино</td>\n",
       "    </tr>\n",
       "    <tr>\n",
       "      <td>40</td>\n",
       "      <td>1486</td>\n",
       "      <td>проспект Вернадского</td>\n",
       "      <td>132</td>\n",
       "      <td>66.97</td>\n",
       "      <td>1288</td>\n",
       "      <td>0</td>\n",
       "      <td>124</td>\n",
       "      <td>ЮЗАО</td>\n",
       "      <td>Район Гагаринский</td>\n",
       "    </tr>\n",
       "    <tr>\n",
       "      <td>41</td>\n",
       "      <td>1486</td>\n",
       "      <td>проспект Вернадского</td>\n",
       "      <td>132</td>\n",
       "      <td>66.97</td>\n",
       "      <td>1288</td>\n",
       "      <td>0</td>\n",
       "      <td>128</td>\n",
       "      <td>ЮЗАО</td>\n",
       "      <td>Ломоносовский район</td>\n",
       "    </tr>\n",
       "    <tr>\n",
       "      <td>42</td>\n",
       "      <td>684</td>\n",
       "      <td>Кутузовский проспект</td>\n",
       "      <td>114</td>\n",
       "      <td>85.06</td>\n",
       "      <td>1700</td>\n",
       "      <td>0</td>\n",
       "      <td>38</td>\n",
       "      <td>ЗАО</td>\n",
       "      <td>Район Дорогомилово</td>\n",
       "    </tr>\n",
       "    <tr>\n",
       "      <td>43</td>\n",
       "      <td>684</td>\n",
       "      <td>Кутузовский проспект</td>\n",
       "      <td>114</td>\n",
       "      <td>85.06</td>\n",
       "      <td>1700</td>\n",
       "      <td>0</td>\n",
       "      <td>49</td>\n",
       "      <td>ЗАО</td>\n",
       "      <td>Район Фили-Давыдково</td>\n",
       "    </tr>\n",
       "    <tr>\n",
       "      <td>44</td>\n",
       "      <td>609</td>\n",
       "      <td>Каширское шоссе</td>\n",
       "      <td>112</td>\n",
       "      <td>55.10</td>\n",
       "      <td>680</td>\n",
       "      <td>0</td>\n",
       "      <td>101</td>\n",
       "      <td>ЮАО</td>\n",
       "      <td>Район Москворечье-Сабурово</td>\n",
       "    </tr>\n",
       "    <tr>\n",
       "      <td>45</td>\n",
       "      <td>609</td>\n",
       "      <td>Каширское шоссе</td>\n",
       "      <td>112</td>\n",
       "      <td>55.10</td>\n",
       "      <td>680</td>\n",
       "      <td>0</td>\n",
       "      <td>102</td>\n",
       "      <td>ЮАО</td>\n",
       "      <td>Район Нагатино-Садовники</td>\n",
       "    </tr>\n",
       "    <tr>\n",
       "      <td>46</td>\n",
       "      <td>609</td>\n",
       "      <td>Каширское шоссе</td>\n",
       "      <td>112</td>\n",
       "      <td>55.10</td>\n",
       "      <td>680</td>\n",
       "      <td>0</td>\n",
       "      <td>106</td>\n",
       "      <td>ЮАО</td>\n",
       "      <td>Район Орехово-Борисово Южное</td>\n",
       "    </tr>\n",
       "    <tr>\n",
       "      <td>47</td>\n",
       "      <td>609</td>\n",
       "      <td>Каширское шоссе</td>\n",
       "      <td>112</td>\n",
       "      <td>55.10</td>\n",
       "      <td>680</td>\n",
       "      <td>0</td>\n",
       "      <td>105</td>\n",
       "      <td>ЮАО</td>\n",
       "      <td>Район Орехово-Борисово Северное</td>\n",
       "    </tr>\n",
       "  </tbody>\n",
       "</table>\n",
       "</div>"
      ],
      "text/plain": [
       "    index              streetname  count  mean   max  min  areaid       okrug  \\\n",
       "0    1364        город Зеленоград    232 73.49   520    0      51  Зеленоград   \n",
       "1    1364        город Зеленоград    232 73.49   520    0      52  Зеленоград   \n",
       "2    1364        город Зеленоград    232 73.49   520    0      53  Зеленоград   \n",
       "3    1489           проспект Мира    204 62.70   326    0      70        СВАО   \n",
       "4    1489           проспект Мира    204 62.70   326    0      86        СВАО   \n",
       "5    1489           проспект Мира    204 62.70   326    0      78        СВАО   \n",
       "6    1489           проспект Мира    204 62.70   326    0      79        СВАО   \n",
       "7    1489           проспект Мира    204 62.70   326    0      81        СВАО   \n",
       "8    1489           проспект Мира    204 62.70   326    0      82        СВАО   \n",
       "9    1489           проспект Мира    204 62.70   326    0      16         ЦАО   \n",
       "10   1011       Профсоюзная улица    182 46.41   240    0     123        ЮЗАО   \n",
       "11   1011       Профсоюзная улица    182 46.41   240    0     132        ЮЗАО   \n",
       "12   1011       Профсоюзная улица    182 46.41   240    0     134        ЮЗАО   \n",
       "13   1011       Профсоюзная улица    182 46.41   240    0     126        ЮЗАО   \n",
       "14   1011       Профсоюзная улица    182 46.41   240    0     129        ЮЗАО   \n",
       "15   1011       Профсоюзная улица    182 46.41   240    0     131        ЮЗАО   \n",
       "16    693  Ленинградский проспект    171 52.69   625    0      54         САО   \n",
       "17    693  Ленинградский проспект    171 52.69   625    0      55         САО   \n",
       "18    693  Ленинградский проспект    171 52.69   625    0      69         САО   \n",
       "19    693  Ленинградский проспект    171 52.69   625    0      66         САО   \n",
       "20    997  Пресненская набережная    167 45.84   478    0      17         ЦАО   \n",
       "21    414        Варшавское шоссе    165 52.28   500    0     109         ЮАО   \n",
       "22    414        Варшавское шоссе    165 52.28   500    0     108         ЮАО   \n",
       "23    414        Варшавское шоссе    165 52.28   500    0     110         ЮАО   \n",
       "24    414        Варшавское шоссе    165 52.28   500    0      99         ЮАО   \n",
       "25    414        Варшавское шоссе    165 52.28   500    0     102         ЮАО   \n",
       "26    414        Варшавское шоссе    165 52.28   500    0     104         ЮАО   \n",
       "27    414        Варшавское шоссе    165 52.28   500    0     130        ЮЗАО   \n",
       "28    414        Варшавское шоссе    165 52.28   500    0     133        ЮЗАО   \n",
       "29    696      Ленинский проспект    148 63.15   495    0      44         ЗАО   \n",
       "30    696      Ленинский проспект    148 63.15   495    0      47         ЗАО   \n",
       "31    696      Ленинский проспект    148 63.15   495    0      99         ЮАО   \n",
       "32    696      Ленинский проспект    148 63.15   495    0     124        ЮЗАО   \n",
       "33    696      Ленинский проспект    148 63.15   495    0     128        ЮЗАО   \n",
       "34    696      Ленинский проспект    148 63.15   495    0     129        ЮЗАО   \n",
       "35    696      Ленинский проспект    148 63.15   495    0     131        ЮЗАО   \n",
       "36    696      Ленинский проспект    148 63.15   495    0      21         ЦАО   \n",
       "37   1486    проспект Вернадского    132 66.97  1288    0      44         ЗАО   \n",
       "38   1486    проспект Вернадского    132 66.97  1288    0      45         ЗАО   \n",
       "39   1486    проспект Вернадского    132 66.97  1288    0      47         ЗАО   \n",
       "40   1486    проспект Вернадского    132 66.97  1288    0     124        ЮЗАО   \n",
       "41   1486    проспект Вернадского    132 66.97  1288    0     128        ЮЗАО   \n",
       "42    684    Кутузовский проспект    114 85.06  1700    0      38         ЗАО   \n",
       "43    684    Кутузовский проспект    114 85.06  1700    0      49         ЗАО   \n",
       "44    609         Каширское шоссе    112 55.10   680    0     101         ЮАО   \n",
       "45    609         Каширское шоссе    112 55.10   680    0     102         ЮАО   \n",
       "46    609         Каширское шоссе    112 55.10   680    0     106         ЮАО   \n",
       "47    609         Каширское шоссе    112 55.10   680    0     105         ЮАО   \n",
       "\n",
       "                               area  \n",
       "0                     Район Крюково  \n",
       "1           Район Матушкино-Савелки  \n",
       "2                Панфиловский район  \n",
       "3                Алексеевский район  \n",
       "4                 Ярославский Район  \n",
       "5                Район Марьина роща  \n",
       "6                Останкинский район  \n",
       "7                   Район Ростокино  \n",
       "8                    Район Свиблово  \n",
       "9                   Мещанский район  \n",
       "10              Академический район  \n",
       "11                  Район Черемушки  \n",
       "12                    Район Ясенево  \n",
       "13                   Район Коньково  \n",
       "14                Обручевский район  \n",
       "15                Район Теплый Стан  \n",
       "16                   Район Аэропорт  \n",
       "17                    Район Беговой  \n",
       "18                Хорошевский район  \n",
       "19                      Район Сокол  \n",
       "20                Пресненский район  \n",
       "21      Район Чертаново Центральное  \n",
       "22         Район Чертаново Северное  \n",
       "23            Район Чертаново Южное  \n",
       "24                    Донской район  \n",
       "25         Район Нагатино-Садовники  \n",
       "26                   Нагорный район  \n",
       "27            Район Северное Бутово  \n",
       "28               Район Южное Бутово  \n",
       "29       Район Проспект Вернадского  \n",
       "30         Район Тропарево-Никулино  \n",
       "31                    Донской район  \n",
       "32                Район Гагаринский  \n",
       "33              Ломоносовский район  \n",
       "34                Обручевский район  \n",
       "35                Район Теплый Стан  \n",
       "36                   Район Якиманка  \n",
       "37       Район Проспект Вернадского  \n",
       "38                    Район Раменки  \n",
       "39         Район Тропарево-Никулино  \n",
       "40                Район Гагаринский  \n",
       "41              Ломоносовский район  \n",
       "42               Район Дорогомилово  \n",
       "43             Район Фили-Давыдково  \n",
       "44       Район Москворечье-Сабурово  \n",
       "45         Район Нагатино-Садовники  \n",
       "46     Район Орехово-Борисово Южное  \n",
       "47  Район Орехово-Борисово Северное  "
      ]
     },
     "execution_count": 53,
     "metadata": {},
     "output_type": "execute_result"
    }
   ],
   "source": [
    "#объединим две таблицы\n",
    "distr_t10 = d_t10.merge(distr, on='streetname', how='left')\n",
    "distr_t10"
   ]
  },
  {
   "cell_type": "code",
   "execution_count": 54,
   "metadata": {},
   "outputs": [
    {
     "data": {
      "text/html": [
       "<div>\n",
       "<style scoped>\n",
       "    .dataframe tbody tr th:only-of-type {\n",
       "        vertical-align: middle;\n",
       "    }\n",
       "\n",
       "    .dataframe tbody tr th {\n",
       "        vertical-align: top;\n",
       "    }\n",
       "\n",
       "    .dataframe thead th {\n",
       "        text-align: right;\n",
       "    }\n",
       "</style>\n",
       "<table border=\"1\" class=\"dataframe\">\n",
       "  <thead>\n",
       "    <tr style=\"text-align: right;\">\n",
       "      <th></th>\n",
       "      <th>area</th>\n",
       "      <th>streetname</th>\n",
       "    </tr>\n",
       "  </thead>\n",
       "  <tbody>\n",
       "    <tr>\n",
       "      <td>0</td>\n",
       "      <td>Район Проспект Вернадского</td>\n",
       "      <td>2</td>\n",
       "    </tr>\n",
       "    <tr>\n",
       "      <td>1</td>\n",
       "      <td>Донской район</td>\n",
       "      <td>2</td>\n",
       "    </tr>\n",
       "    <tr>\n",
       "      <td>2</td>\n",
       "      <td>Ломоносовский район</td>\n",
       "      <td>2</td>\n",
       "    </tr>\n",
       "    <tr>\n",
       "      <td>3</td>\n",
       "      <td>Обручевский район</td>\n",
       "      <td>2</td>\n",
       "    </tr>\n",
       "    <tr>\n",
       "      <td>4</td>\n",
       "      <td>Район Нагатино-Садовники</td>\n",
       "      <td>2</td>\n",
       "    </tr>\n",
       "    <tr>\n",
       "      <td>5</td>\n",
       "      <td>Район Теплый Стан</td>\n",
       "      <td>2</td>\n",
       "    </tr>\n",
       "    <tr>\n",
       "      <td>6</td>\n",
       "      <td>Район Тропарево-Никулино</td>\n",
       "      <td>2</td>\n",
       "    </tr>\n",
       "    <tr>\n",
       "      <td>7</td>\n",
       "      <td>Район Гагаринский</td>\n",
       "      <td>2</td>\n",
       "    </tr>\n",
       "    <tr>\n",
       "      <td>8</td>\n",
       "      <td>Район Фили-Давыдково</td>\n",
       "      <td>1</td>\n",
       "    </tr>\n",
       "    <tr>\n",
       "      <td>9</td>\n",
       "      <td>Район Ростокино</td>\n",
       "      <td>1</td>\n",
       "    </tr>\n",
       "    <tr>\n",
       "      <td>10</td>\n",
       "      <td>Район Свиблово</td>\n",
       "      <td>1</td>\n",
       "    </tr>\n",
       "    <tr>\n",
       "      <td>11</td>\n",
       "      <td>Район Северное Бутово</td>\n",
       "      <td>1</td>\n",
       "    </tr>\n",
       "    <tr>\n",
       "      <td>12</td>\n",
       "      <td>Район Сокол</td>\n",
       "      <td>1</td>\n",
       "    </tr>\n",
       "    <tr>\n",
       "      <td>13</td>\n",
       "      <td>Академический район</td>\n",
       "      <td>1</td>\n",
       "    </tr>\n",
       "    <tr>\n",
       "      <td>14</td>\n",
       "      <td>Район Черемушки</td>\n",
       "      <td>1</td>\n",
       "    </tr>\n",
       "    <tr>\n",
       "      <td>15</td>\n",
       "      <td>Район Раменки</td>\n",
       "      <td>1</td>\n",
       "    </tr>\n",
       "    <tr>\n",
       "      <td>16</td>\n",
       "      <td>Район Чертаново Центральное</td>\n",
       "      <td>1</td>\n",
       "    </tr>\n",
       "    <tr>\n",
       "      <td>17</td>\n",
       "      <td>Район Чертаново Южное</td>\n",
       "      <td>1</td>\n",
       "    </tr>\n",
       "    <tr>\n",
       "      <td>18</td>\n",
       "      <td>Район Южное Бутово</td>\n",
       "      <td>1</td>\n",
       "    </tr>\n",
       "    <tr>\n",
       "      <td>19</td>\n",
       "      <td>Район Якиманка</td>\n",
       "      <td>1</td>\n",
       "    </tr>\n",
       "    <tr>\n",
       "      <td>20</td>\n",
       "      <td>Район Ясенево</td>\n",
       "      <td>1</td>\n",
       "    </tr>\n",
       "    <tr>\n",
       "      <td>21</td>\n",
       "      <td>Хорошевский район</td>\n",
       "      <td>1</td>\n",
       "    </tr>\n",
       "    <tr>\n",
       "      <td>22</td>\n",
       "      <td>Район Чертаново Северное</td>\n",
       "      <td>1</td>\n",
       "    </tr>\n",
       "    <tr>\n",
       "      <td>23</td>\n",
       "      <td>Район Орехово-Борисово Северное</td>\n",
       "      <td>1</td>\n",
       "    </tr>\n",
       "    <tr>\n",
       "      <td>24</td>\n",
       "      <td>Район Орехово-Борисово Южное</td>\n",
       "      <td>1</td>\n",
       "    </tr>\n",
       "    <tr>\n",
       "      <td>25</td>\n",
       "      <td>Алексеевский район</td>\n",
       "      <td>1</td>\n",
       "    </tr>\n",
       "    <tr>\n",
       "      <td>26</td>\n",
       "      <td>Район Москворечье-Сабурово</td>\n",
       "      <td>1</td>\n",
       "    </tr>\n",
       "    <tr>\n",
       "      <td>27</td>\n",
       "      <td>Район Матушкино-Савелки</td>\n",
       "      <td>1</td>\n",
       "    </tr>\n",
       "    <tr>\n",
       "      <td>28</td>\n",
       "      <td>Район Марьина роща</td>\n",
       "      <td>1</td>\n",
       "    </tr>\n",
       "    <tr>\n",
       "      <td>29</td>\n",
       "      <td>Район Крюково</td>\n",
       "      <td>1</td>\n",
       "    </tr>\n",
       "    <tr>\n",
       "      <td>30</td>\n",
       "      <td>Район Коньково</td>\n",
       "      <td>1</td>\n",
       "    </tr>\n",
       "    <tr>\n",
       "      <td>31</td>\n",
       "      <td>Район Дорогомилово</td>\n",
       "      <td>1</td>\n",
       "    </tr>\n",
       "    <tr>\n",
       "      <td>32</td>\n",
       "      <td>Район Беговой</td>\n",
       "      <td>1</td>\n",
       "    </tr>\n",
       "    <tr>\n",
       "      <td>33</td>\n",
       "      <td>Район Аэропорт</td>\n",
       "      <td>1</td>\n",
       "    </tr>\n",
       "    <tr>\n",
       "      <td>34</td>\n",
       "      <td>Пресненский район</td>\n",
       "      <td>1</td>\n",
       "    </tr>\n",
       "    <tr>\n",
       "      <td>35</td>\n",
       "      <td>Панфиловский район</td>\n",
       "      <td>1</td>\n",
       "    </tr>\n",
       "    <tr>\n",
       "      <td>36</td>\n",
       "      <td>Останкинский район</td>\n",
       "      <td>1</td>\n",
       "    </tr>\n",
       "    <tr>\n",
       "      <td>37</td>\n",
       "      <td>Нагорный район</td>\n",
       "      <td>1</td>\n",
       "    </tr>\n",
       "    <tr>\n",
       "      <td>38</td>\n",
       "      <td>Мещанский район</td>\n",
       "      <td>1</td>\n",
       "    </tr>\n",
       "    <tr>\n",
       "      <td>39</td>\n",
       "      <td>Ярославский Район</td>\n",
       "      <td>1</td>\n",
       "    </tr>\n",
       "  </tbody>\n",
       "</table>\n",
       "</div>"
      ],
      "text/plain": [
       "                               area  streetname\n",
       "0        Район Проспект Вернадского           2\n",
       "1                     Донской район           2\n",
       "2               Ломоносовский район           2\n",
       "3                 Обручевский район           2\n",
       "4          Район Нагатино-Садовники           2\n",
       "5                 Район Теплый Стан           2\n",
       "6          Район Тропарево-Никулино           2\n",
       "7                 Район Гагаринский           2\n",
       "8              Район Фили-Давыдково           1\n",
       "9                   Район Ростокино           1\n",
       "10                   Район Свиблово           1\n",
       "11            Район Северное Бутово           1\n",
       "12                      Район Сокол           1\n",
       "13              Академический район           1\n",
       "14                  Район Черемушки           1\n",
       "15                    Район Раменки           1\n",
       "16      Район Чертаново Центральное           1\n",
       "17            Район Чертаново Южное           1\n",
       "18               Район Южное Бутово           1\n",
       "19                   Район Якиманка           1\n",
       "20                    Район Ясенево           1\n",
       "21                Хорошевский район           1\n",
       "22         Район Чертаново Северное           1\n",
       "23  Район Орехово-Борисово Северное           1\n",
       "24     Район Орехово-Борисово Южное           1\n",
       "25               Алексеевский район           1\n",
       "26       Район Москворечье-Сабурово           1\n",
       "27          Район Матушкино-Савелки           1\n",
       "28               Район Марьина роща           1\n",
       "29                    Район Крюково           1\n",
       "30                   Район Коньково           1\n",
       "31               Район Дорогомилово           1\n",
       "32                    Район Беговой           1\n",
       "33                   Район Аэропорт           1\n",
       "34                Пресненский район           1\n",
       "35               Панфиловский район           1\n",
       "36               Останкинский район           1\n",
       "37                   Нагорный район           1\n",
       "38                  Мещанский район           1\n",
       "39                Ярославский Район           1"
      ]
     },
     "execution_count": 54,
     "metadata": {},
     "output_type": "execute_result"
    }
   ],
   "source": [
    "#сгруппируем по районам отфильтрованный ранее по топ-10 улиц датафрейм, \n",
    "\n",
    "distr_t10_group = distr_t10.groupby('area')[['streetname']].count().sort_values(by = 'streetname', ascending=False)\\\n",
    ".reset_index()\n",
    "area_t10 = pd.DataFrame(distr_t10_group)\n",
    "area_t10 "
   ]
  },
  {
   "cell_type": "markdown",
   "metadata": {},
   "source": [
    "Получили список из 40 районов г.Москвы, где расположены топ-10 улиц по количеству заведений общ.пит. Список увеличился так как одна улица может проходить по нескольким районам."
   ]
  },
  {
   "cell_type": "markdown",
   "metadata": {},
   "source": [
    "Теперь посмотрим в каких округах находятся эти районы."
   ]
  },
  {
   "cell_type": "code",
   "execution_count": 55,
   "metadata": {},
   "outputs": [
    {
     "data": {
      "text/html": [
       "<div>\n",
       "<style scoped>\n",
       "    .dataframe tbody tr th:only-of-type {\n",
       "        vertical-align: middle;\n",
       "    }\n",
       "\n",
       "    .dataframe tbody tr th {\n",
       "        vertical-align: top;\n",
       "    }\n",
       "\n",
       "    .dataframe thead th {\n",
       "        text-align: right;\n",
       "    }\n",
       "</style>\n",
       "<table border=\"1\" class=\"dataframe\">\n",
       "  <thead>\n",
       "    <tr style=\"text-align: right;\">\n",
       "      <th></th>\n",
       "      <th>okrug</th>\n",
       "      <th>streetname</th>\n",
       "    </tr>\n",
       "  </thead>\n",
       "  <tbody>\n",
       "    <tr>\n",
       "      <td>0</td>\n",
       "      <td>ЮЗАО</td>\n",
       "      <td>14</td>\n",
       "    </tr>\n",
       "    <tr>\n",
       "      <td>1</td>\n",
       "      <td>ЮАО</td>\n",
       "      <td>11</td>\n",
       "    </tr>\n",
       "    <tr>\n",
       "      <td>2</td>\n",
       "      <td>ЗАО</td>\n",
       "      <td>7</td>\n",
       "    </tr>\n",
       "    <tr>\n",
       "      <td>3</td>\n",
       "      <td>СВАО</td>\n",
       "      <td>6</td>\n",
       "    </tr>\n",
       "    <tr>\n",
       "      <td>4</td>\n",
       "      <td>САО</td>\n",
       "      <td>4</td>\n",
       "    </tr>\n",
       "    <tr>\n",
       "      <td>5</td>\n",
       "      <td>Зеленоград</td>\n",
       "      <td>3</td>\n",
       "    </tr>\n",
       "    <tr>\n",
       "      <td>6</td>\n",
       "      <td>ЦАО</td>\n",
       "      <td>3</td>\n",
       "    </tr>\n",
       "  </tbody>\n",
       "</table>\n",
       "</div>"
      ],
      "text/plain": [
       "        okrug  streetname\n",
       "0        ЮЗАО          14\n",
       "1         ЮАО          11\n",
       "2         ЗАО           7\n",
       "3        СВАО           6\n",
       "4         САО           4\n",
       "5  Зеленоград           3\n",
       "6         ЦАО           3"
      ]
     },
     "execution_count": 55,
     "metadata": {},
     "output_type": "execute_result"
    }
   ],
   "source": [
    "#сгруппируем по округам отфильтрованный ранее по топ-10 улиц датафрейм, \n",
    "\n",
    "okrug_t10_group = distr_t10.groupby('okrug')[['streetname']].count()\\\n",
    ".sort_values(by = 'streetname', ascending=False)\\\n",
    ".reset_index()\n",
    "okr_t10 = pd.DataFrame(okrug_t10_group)\n",
    "okr_t10 "
   ]
  },
  {
   "cell_type": "code",
   "execution_count": 56,
   "metadata": {},
   "outputs": [
    {
     "data": {
      "text/plain": [
       "Text(0, 0.5, 'Округ')"
      ]
     },
     "execution_count": 56,
     "metadata": {},
     "output_type": "execute_result"
    },
    {
     "data": {
      "image/png": "[encoded data removed]",
      "text/plain": [
       "<Figure size 432x288 with 1 Axes>"
      ]
     },
     "metadata": {
      "needs_background": "light"
     },
     "output_type": "display_data"
    }
   ],
   "source": [
    "#построим столбчатую диаграмму\n",
    "ax = sns.barplot(x='streetname', y='okrug', data=okr_t10, color = 'blue', alpha=0.7) \n",
    "ax.set_title('Округа Топ-10 улиц в Моске по кол-ву объектов')\n",
    "ax.set_xlabel('Кол-во Топ-10 улиц')\n",
    "ax.set_ylabel('Округ')\n",
    "#plt.xticks(rotation=90)"
   ]
  },
  {
   "cell_type": "markdown",
   "metadata": {},
   "source": [
    "Сгруппировав данные по округам, видим: лидер среди топ-10 улиц - ЮЗАО, а ЦАО - в самом конце среди топов. Это объясняется, что ЦАО - самый небольшой по площади округ, а ЮЗАО - один из крупных."
   ]
  },
  {
   "cell_type": "markdown",
   "metadata": {},
   "source": [
    "##### Распределение количества посадочных мест для топ-10 улиц Москвы."
   ]
  },
  {
   "cell_type": "code",
   "execution_count": 57,
   "metadata": {},
   "outputs": [
    {
     "data": {
      "text/html": [
       "<div>\n",
       "<style scoped>\n",
       "    .dataframe tbody tr th:only-of-type {\n",
       "        vertical-align: middle;\n",
       "    }\n",
       "\n",
       "    .dataframe tbody tr th {\n",
       "        vertical-align: top;\n",
       "    }\n",
       "\n",
       "    .dataframe thead th {\n",
       "        text-align: right;\n",
       "    }\n",
       "</style>\n",
       "<table border=\"1\" class=\"dataframe\">\n",
       "  <thead>\n",
       "    <tr style=\"text-align: right;\">\n",
       "      <th></th>\n",
       "      <th>index</th>\n",
       "      <th>streetname</th>\n",
       "      <th>count</th>\n",
       "      <th>mean</th>\n",
       "      <th>max</th>\n",
       "      <th>min</th>\n",
       "      <th>areaid</th>\n",
       "      <th>okrug</th>\n",
       "      <th>area</th>\n",
       "    </tr>\n",
       "  </thead>\n",
       "  <tbody>\n",
       "    <tr>\n",
       "      <td>0</td>\n",
       "      <td>1364</td>\n",
       "      <td>город Зеленоград</td>\n",
       "      <td>232</td>\n",
       "      <td>73.49</td>\n",
       "      <td>520</td>\n",
       "      <td>0</td>\n",
       "      <td>51</td>\n",
       "      <td>Зеленоград</td>\n",
       "      <td>Район Крюково</td>\n",
       "    </tr>\n",
       "    <tr>\n",
       "      <td>1</td>\n",
       "      <td>1364</td>\n",
       "      <td>город Зеленоград</td>\n",
       "      <td>232</td>\n",
       "      <td>73.49</td>\n",
       "      <td>520</td>\n",
       "      <td>0</td>\n",
       "      <td>52</td>\n",
       "      <td>Зеленоград</td>\n",
       "      <td>Район Матушкино-Савелки</td>\n",
       "    </tr>\n",
       "    <tr>\n",
       "      <td>2</td>\n",
       "      <td>1364</td>\n",
       "      <td>город Зеленоград</td>\n",
       "      <td>232</td>\n",
       "      <td>73.49</td>\n",
       "      <td>520</td>\n",
       "      <td>0</td>\n",
       "      <td>53</td>\n",
       "      <td>Зеленоград</td>\n",
       "      <td>Панфиловский район</td>\n",
       "    </tr>\n",
       "    <tr>\n",
       "      <td>3</td>\n",
       "      <td>1489</td>\n",
       "      <td>проспект Мира</td>\n",
       "      <td>204</td>\n",
       "      <td>62.70</td>\n",
       "      <td>326</td>\n",
       "      <td>0</td>\n",
       "      <td>70</td>\n",
       "      <td>СВАО</td>\n",
       "      <td>Алексеевский район</td>\n",
       "    </tr>\n",
       "    <tr>\n",
       "      <td>4</td>\n",
       "      <td>1489</td>\n",
       "      <td>проспект Мира</td>\n",
       "      <td>204</td>\n",
       "      <td>62.70</td>\n",
       "      <td>326</td>\n",
       "      <td>0</td>\n",
       "      <td>86</td>\n",
       "      <td>СВАО</td>\n",
       "      <td>Ярославский Район</td>\n",
       "    </tr>\n",
       "  </tbody>\n",
       "</table>\n",
       "</div>"
      ],
      "text/plain": [
       "   index        streetname  count  mean  max  min  areaid       okrug  \\\n",
       "0   1364  город Зеленоград    232 73.49  520    0      51  Зеленоград   \n",
       "1   1364  город Зеленоград    232 73.49  520    0      52  Зеленоград   \n",
       "2   1364  город Зеленоград    232 73.49  520    0      53  Зеленоград   \n",
       "3   1489     проспект Мира    204 62.70  326    0      70        СВАО   \n",
       "4   1489     проспект Мира    204 62.70  326    0      86        СВАО   \n",
       "\n",
       "                      area  \n",
       "0            Район Крюково  \n",
       "1  Район Матушкино-Савелки  \n",
       "2       Панфиловский район  \n",
       "3       Алексеевский район  \n",
       "4        Ярославский Район  "
      ]
     },
     "execution_count": 57,
     "metadata": {},
     "output_type": "execute_result"
    }
   ],
   "source": [
    "distr_t10.head()"
   ]
  },
  {
   "cell_type": "markdown",
   "metadata": {},
   "source": [
    "Посмотрим среднее количество посадочных мест на одно заведение на топ-10 улицах."
   ]
  },
  {
   "cell_type": "code",
   "execution_count": 58,
   "metadata": {},
   "outputs": [
    {
     "data": {
      "text/html": [
       "<div>\n",
       "<style scoped>\n",
       "    .dataframe tbody tr th:only-of-type {\n",
       "        vertical-align: middle;\n",
       "    }\n",
       "\n",
       "    .dataframe tbody tr th {\n",
       "        vertical-align: top;\n",
       "    }\n",
       "\n",
       "    .dataframe thead th {\n",
       "        text-align: right;\n",
       "    }\n",
       "</style>\n",
       "<table border=\"1\" class=\"dataframe\">\n",
       "  <thead>\n",
       "    <tr style=\"text-align: right;\">\n",
       "      <th></th>\n",
       "      <th>streetname</th>\n",
       "      <th>mean</th>\n",
       "    </tr>\n",
       "  </thead>\n",
       "  <tbody>\n",
       "    <tr>\n",
       "      <td>2</td>\n",
       "      <td>Кутузовский проспект</td>\n",
       "      <td>85.06</td>\n",
       "    </tr>\n",
       "    <tr>\n",
       "      <td>7</td>\n",
       "      <td>город Зеленоград</td>\n",
       "      <td>73.49</td>\n",
       "    </tr>\n",
       "    <tr>\n",
       "      <td>8</td>\n",
       "      <td>проспект Вернадского</td>\n",
       "      <td>66.97</td>\n",
       "    </tr>\n",
       "    <tr>\n",
       "      <td>4</td>\n",
       "      <td>Ленинский проспект</td>\n",
       "      <td>63.15</td>\n",
       "    </tr>\n",
       "    <tr>\n",
       "      <td>9</td>\n",
       "      <td>проспект Мира</td>\n",
       "      <td>62.70</td>\n",
       "    </tr>\n",
       "    <tr>\n",
       "      <td>1</td>\n",
       "      <td>Каширское шоссе</td>\n",
       "      <td>55.10</td>\n",
       "    </tr>\n",
       "    <tr>\n",
       "      <td>3</td>\n",
       "      <td>Ленинградский проспект</td>\n",
       "      <td>52.69</td>\n",
       "    </tr>\n",
       "    <tr>\n",
       "      <td>0</td>\n",
       "      <td>Варшавское шоссе</td>\n",
       "      <td>52.28</td>\n",
       "    </tr>\n",
       "    <tr>\n",
       "      <td>6</td>\n",
       "      <td>Профсоюзная улица</td>\n",
       "      <td>46.41</td>\n",
       "    </tr>\n",
       "    <tr>\n",
       "      <td>5</td>\n",
       "      <td>Пресненская набережная</td>\n",
       "      <td>45.84</td>\n",
       "    </tr>\n",
       "  </tbody>\n",
       "</table>\n",
       "</div>"
      ],
      "text/plain": [
       "               streetname  mean\n",
       "2    Кутузовский проспект 85.06\n",
       "7        город Зеленоград 73.49\n",
       "8    проспект Вернадского 66.97\n",
       "4      Ленинский проспект 63.15\n",
       "9           проспект Мира 62.70\n",
       "1         Каширское шоссе 55.10\n",
       "3  Ленинградский проспект 52.69\n",
       "0        Варшавское шоссе 52.28\n",
       "6       Профсоюзная улица 46.41\n",
       "5  Пресненская набережная 45.84"
      ]
     },
     "execution_count": 58,
     "metadata": {},
     "output_type": "execute_result"
    }
   ],
   "source": [
    "#Сгруппируем данные по столбцу streetname\n",
    "d = distr_t10.groupby('streetname')[['mean']].agg(['mean'])\n",
    "#сбросим мультиназвание столбца\n",
    "d.columns = [tup[1] if tup[1] else tup[0] for tup in d.columns]\n",
    "#преобразуем в датафрейм, сбросим индексы и отсортируем\n",
    "d1 = pd.DataFrame(d).reset_index().sort_values(by = 'mean', ascending=False) \n",
    "\n",
    "d1"
   ]
  },
  {
   "cell_type": "code",
   "execution_count": 59,
   "metadata": {},
   "outputs": [
    {
     "data": {
      "text/plain": [
       "mean   58.90\n",
       "dtype: float64"
      ]
     },
     "execution_count": 59,
     "metadata": {},
     "output_type": "execute_result"
    }
   ],
   "source": [
    "d1.median()"
   ]
  },
  {
   "cell_type": "markdown",
   "metadata": {},
   "source": [
    "Среднее количество посадочных мест на одно заведение на топ-10 улицах составило примерно 60 мест. Есть исключение: Кутузовский проспект - 85 мест, но это количество объясняется нахождением на этой улице Arena by Soho Family. Это заведение рассчитано на прием до 4000 гостей и включает в себя просторный танцпол, гардероб на 6000 мест, балконы с барами, вместительную и комфортную бекстейдж зону, гримерные для артистов, VIP зал, караоке. "
   ]
  },
  {
   "cell_type": "markdown",
   "metadata": {},
   "source": [
    "Найдем заведения на топ-10 улицах с минимальным количеством посадочных мест и посмотрим, где таких заведений больше."
   ]
  },
  {
   "cell_type": "code",
   "execution_count": 61,
   "metadata": {},
   "outputs": [
    {
     "data": {
      "text/html": [
       "<div>\n",
       "<style scoped>\n",
       "    .dataframe tbody tr th:only-of-type {\n",
       "        vertical-align: middle;\n",
       "    }\n",
       "\n",
       "    .dataframe tbody tr th {\n",
       "        vertical-align: top;\n",
       "    }\n",
       "\n",
       "    .dataframe thead th {\n",
       "        text-align: right;\n",
       "    }\n",
       "</style>\n",
       "<table border=\"1\" class=\"dataframe\">\n",
       "  <thead>\n",
       "    <tr style=\"text-align: right;\">\n",
       "      <th></th>\n",
       "      <th>index</th>\n",
       "      <th>streetname</th>\n",
       "      <th>count</th>\n",
       "      <th>mean</th>\n",
       "      <th>max</th>\n",
       "      <th>min</th>\n",
       "      <th>areaid</th>\n",
       "      <th>okrug</th>\n",
       "      <th>area</th>\n",
       "    </tr>\n",
       "  </thead>\n",
       "  <tbody>\n",
       "    <tr>\n",
       "      <td>0</td>\n",
       "      <td>1364</td>\n",
       "      <td>город Зеленоград</td>\n",
       "      <td>232</td>\n",
       "      <td>73.49</td>\n",
       "      <td>520</td>\n",
       "      <td>0</td>\n",
       "      <td>51</td>\n",
       "      <td>Зеленоград</td>\n",
       "      <td>Район Крюково</td>\n",
       "    </tr>\n",
       "    <tr>\n",
       "      <td>1</td>\n",
       "      <td>1364</td>\n",
       "      <td>город Зеленоград</td>\n",
       "      <td>232</td>\n",
       "      <td>73.49</td>\n",
       "      <td>520</td>\n",
       "      <td>0</td>\n",
       "      <td>52</td>\n",
       "      <td>Зеленоград</td>\n",
       "      <td>Район Матушкино-Савелки</td>\n",
       "    </tr>\n",
       "    <tr>\n",
       "      <td>2</td>\n",
       "      <td>1364</td>\n",
       "      <td>город Зеленоград</td>\n",
       "      <td>232</td>\n",
       "      <td>73.49</td>\n",
       "      <td>520</td>\n",
       "      <td>0</td>\n",
       "      <td>53</td>\n",
       "      <td>Зеленоград</td>\n",
       "      <td>Панфиловский район</td>\n",
       "    </tr>\n",
       "    <tr>\n",
       "      <td>3</td>\n",
       "      <td>1489</td>\n",
       "      <td>проспект Мира</td>\n",
       "      <td>204</td>\n",
       "      <td>62.70</td>\n",
       "      <td>326</td>\n",
       "      <td>0</td>\n",
       "      <td>70</td>\n",
       "      <td>СВАО</td>\n",
       "      <td>Алексеевский район</td>\n",
       "    </tr>\n",
       "    <tr>\n",
       "      <td>4</td>\n",
       "      <td>1489</td>\n",
       "      <td>проспект Мира</td>\n",
       "      <td>204</td>\n",
       "      <td>62.70</td>\n",
       "      <td>326</td>\n",
       "      <td>0</td>\n",
       "      <td>86</td>\n",
       "      <td>СВАО</td>\n",
       "      <td>Ярославский Район</td>\n",
       "    </tr>\n",
       "  </tbody>\n",
       "</table>\n",
       "</div>"
      ],
      "text/plain": [
       "   index        streetname  count  mean  max  min  areaid       okrug  \\\n",
       "0   1364  город Зеленоград    232 73.49  520    0      51  Зеленоград   \n",
       "1   1364  город Зеленоград    232 73.49  520    0      52  Зеленоград   \n",
       "2   1364  город Зеленоград    232 73.49  520    0      53  Зеленоград   \n",
       "3   1489     проспект Мира    204 62.70  326    0      70        СВАО   \n",
       "4   1489     проспект Мира    204 62.70  326    0      86        СВАО   \n",
       "\n",
       "                      area  \n",
       "0            Район Крюково  \n",
       "1  Район Матушкино-Савелки  \n",
       "2       Панфиловский район  \n",
       "3       Алексеевский район  \n",
       "4        Ярославский Район  "
      ]
     },
     "execution_count": 61,
     "metadata": {},
     "output_type": "execute_result"
    }
   ],
   "source": [
    "#выведем на экран столбцы с количеством посадочных мест равных 0\n",
    "num_zero = distr_t10[distr_t10['min'] == distr_t10['min'].min()]\n",
    "num_zero.head()"
   ]
  },
  {
   "cell_type": "code",
   "execution_count": 62,
   "metadata": {},
   "outputs": [
    {
     "data": {
      "text/html": [
       "<div>\n",
       "<style scoped>\n",
       "    .dataframe tbody tr th:only-of-type {\n",
       "        vertical-align: middle;\n",
       "    }\n",
       "\n",
       "    .dataframe tbody tr th {\n",
       "        vertical-align: top;\n",
       "    }\n",
       "\n",
       "    .dataframe thead th {\n",
       "        text-align: right;\n",
       "    }\n",
       "</style>\n",
       "<table border=\"1\" class=\"dataframe\">\n",
       "  <thead>\n",
       "    <tr style=\"text-align: right;\">\n",
       "      <th></th>\n",
       "      <th>streetname</th>\n",
       "      <th>e</th>\n",
       "    </tr>\n",
       "  </thead>\n",
       "  <tbody>\n",
       "    <tr>\n",
       "      <td>0</td>\n",
       "      <td>Варшавское шоссе</td>\n",
       "      <td>8</td>\n",
       "    </tr>\n",
       "    <tr>\n",
       "      <td>4</td>\n",
       "      <td>Ленинский проспект</td>\n",
       "      <td>8</td>\n",
       "    </tr>\n",
       "    <tr>\n",
       "      <td>9</td>\n",
       "      <td>проспект Мира</td>\n",
       "      <td>7</td>\n",
       "    </tr>\n",
       "    <tr>\n",
       "      <td>6</td>\n",
       "      <td>Профсоюзная улица</td>\n",
       "      <td>6</td>\n",
       "    </tr>\n",
       "    <tr>\n",
       "      <td>8</td>\n",
       "      <td>проспект Вернадского</td>\n",
       "      <td>5</td>\n",
       "    </tr>\n",
       "    <tr>\n",
       "      <td>1</td>\n",
       "      <td>Каширское шоссе</td>\n",
       "      <td>4</td>\n",
       "    </tr>\n",
       "    <tr>\n",
       "      <td>3</td>\n",
       "      <td>Ленинградский проспект</td>\n",
       "      <td>4</td>\n",
       "    </tr>\n",
       "    <tr>\n",
       "      <td>7</td>\n",
       "      <td>город Зеленоград</td>\n",
       "      <td>3</td>\n",
       "    </tr>\n",
       "    <tr>\n",
       "      <td>2</td>\n",
       "      <td>Кутузовский проспект</td>\n",
       "      <td>2</td>\n",
       "    </tr>\n",
       "    <tr>\n",
       "      <td>5</td>\n",
       "      <td>Пресненская набережная</td>\n",
       "      <td>1</td>\n",
       "    </tr>\n",
       "  </tbody>\n",
       "</table>\n",
       "</div>"
      ],
      "text/plain": [
       "               streetname  e\n",
       "0        Варшавское шоссе  8\n",
       "4      Ленинский проспект  8\n",
       "9           проспект Мира  7\n",
       "6       Профсоюзная улица  6\n",
       "8    проспект Вернадского  5\n",
       "1         Каширское шоссе  4\n",
       "3  Ленинградский проспект  4\n",
       "7        город Зеленоград  3\n",
       "2    Кутузовский проспект  2\n",
       "5  Пресненская набережная  1"
      ]
     },
     "execution_count": 62,
     "metadata": {},
     "output_type": "execute_result"
    }
   ],
   "source": [
    "#Сгруппируем данные по столбцу streetname\n",
    "zero = num_zero.groupby('streetname')[['min']].agg(['count'])\n",
    "#сбросим мультиназвание столбца\n",
    "zero.columns = [tup[1] if tup[1] else tup[0] for tup in d.columns]\n",
    "#преобразуем в датафрейм, сбросим индексы и отсортируем\n",
    "zero1 = pd.DataFrame(zero).reset_index().sort_values(by = 'e', ascending=False) \n",
    "\n",
    "zero1"
   ]
  },
  {
   "cell_type": "markdown",
   "metadata": {},
   "source": [
    "То есть лидерующую. позицию среди топ-10 улиц Москвы по наличию предприятий быстрого обслуживания, которые работают на доставку или \"на вынос\" поделили: Варшавское шоссе и Ленинский проспект. "
   ]
  },
  {
   "cell_type": "markdown",
   "metadata": {},
   "source": [
    "Для наглядности анализа закономерности построим диаграммы таблиц, построенных выше."
   ]
  },
  {
   "cell_type": "code",
   "execution_count": 63,
   "metadata": {},
   "outputs": [
    {
     "data": {
      "text/plain": [
       "Text(0, 0.5, 'Улица')"
      ]
     },
     "execution_count": 63,
     "metadata": {},
     "output_type": "execute_result"
    },
    {
     "data": {
      "image/png": "[encoded data removed]",
      "text/plain": [
       "<Figure size 432x288 with 1 Axes>"
      ]
     },
     "metadata": {
      "needs_background": "light"
     },
     "output_type": "display_data"
    }
   ],
   "source": [
    "#построим столбчатую диаграмму\n",
    "ax = sns.barplot(x='mean', y='streetname', data=d1, color = 'blue', alpha=0.7) \n",
    "ax.set_title('Сред.кол-во мест в заведениях топ-10 улиц Москвы', pad=20)\n",
    "ax.set_xlabel('Кол-во')\n",
    "ax.set_ylabel('Улица')\n",
    "#plt.xticks(rotation=90)"
   ]
  },
  {
   "cell_type": "code",
   "execution_count": 64,
   "metadata": {},
   "outputs": [
    {
     "data": {
      "text/plain": [
       "Text(0, 0.5, 'Улица')"
      ]
     },
     "execution_count": 64,
     "metadata": {},
     "output_type": "execute_result"
    },
    {
     "data": {
      "image/png": "[encoded data removed]",
      "text/plain": [
       "<Figure size 432x288 with 1 Axes>"
      ]
     },
     "metadata": {
      "needs_background": "light"
     },
     "output_type": "display_data"
    }
   ],
   "source": [
    "#построим столбчатую диаграмму\n",
    "ax = sns.barplot(x='e', y='streetname', data=zero1, color = 'blue', alpha=0.7) \n",
    "ax.set_title('Кол-во объектов с мин. кол-вом мест на Топ-10 улицах Москвы', pad=20)\n",
    "ax.set_xlabel('Кол-во')\n",
    "ax.set_ylabel('Улица')\n",
    "#plt.xticks(rotation=90)"
   ]
  },
  {
   "cell_type": "markdown",
   "metadata": {},
   "source": [
    "#### Районы Москвы с одним объектом общ.пит."
   ]
  },
  {
   "cell_type": "markdown",
   "metadata": {},
   "source": [
    "Выделим в таблице улицы с одним объектом общ.пит."
   ]
  },
  {
   "cell_type": "code",
   "execution_count": 65,
   "metadata": {},
   "outputs": [
    {
     "data": {
      "text/html": [
       "<div>\n",
       "<style scoped>\n",
       "    .dataframe tbody tr th:only-of-type {\n",
       "        vertical-align: middle;\n",
       "    }\n",
       "\n",
       "    .dataframe tbody tr th {\n",
       "        vertical-align: top;\n",
       "    }\n",
       "\n",
       "    .dataframe thead th {\n",
       "        text-align: right;\n",
       "    }\n",
       "</style>\n",
       "<table border=\"1\" class=\"dataframe\">\n",
       "  <thead>\n",
       "    <tr style=\"text-align: right;\">\n",
       "      <th></th>\n",
       "      <th>streetname</th>\n",
       "      <th>e</th>\n",
       "    </tr>\n",
       "  </thead>\n",
       "  <tbody>\n",
       "    <tr>\n",
       "      <td>2</td>\n",
       "      <td>1-й Балтийский переулок</td>\n",
       "      <td>1</td>\n",
       "    </tr>\n",
       "    <tr>\n",
       "      <td>3</td>\n",
       "      <td>1-й Басманный переулок</td>\n",
       "      <td>1</td>\n",
       "    </tr>\n",
       "    <tr>\n",
       "      <td>4</td>\n",
       "      <td>1-й Ботанический проезд</td>\n",
       "      <td>1</td>\n",
       "    </tr>\n",
       "    <tr>\n",
       "      <td>7</td>\n",
       "      <td>1-й Вешняковский проезд</td>\n",
       "      <td>1</td>\n",
       "    </tr>\n",
       "    <tr>\n",
       "      <td>9</td>\n",
       "      <td>1-й Голутвинский переулок</td>\n",
       "      <td>1</td>\n",
       "    </tr>\n",
       "  </tbody>\n",
       "</table>\n",
       "</div>"
      ],
      "text/plain": [
       "                  streetname  e\n",
       "2    1-й Балтийский переулок  1\n",
       "3     1-й Басманный переулок  1\n",
       "4    1-й Ботанический проезд  1\n",
       "7    1-й Вешняковский проезд  1\n",
       "9  1-й Голутвинский переулок  1"
      ]
     },
     "execution_count": 65,
     "metadata": {},
     "output_type": "execute_result"
    }
   ],
   "source": [
    "#Сгруппируем данные по столбцу streetname и посчитаем кол-во объектов на этих улицах\n",
    "one_ob = data.groupby('streetname')[['number']].agg(['count'])\n",
    "#сбросим мультиназвание столбца\n",
    "one_ob.columns = [tup[1] if tup[1] else tup[0] for tup in d.columns]\n",
    "#преобразуем в датафрейм, сбросим индексы и отсортируем\n",
    "one_ob1 = pd.DataFrame(one_ob).reset_index()\n",
    "#выделим улицы с одним обектом общ.пит. и сохраним в таблицы one_ob2\n",
    "one_ob2 = one_ob1[one_ob1['e'] == 1]\n",
    "one_ob2.head()"
   ]
  },
  {
   "cell_type": "code",
   "execution_count": 66,
   "metadata": {},
   "outputs": [
    {
     "data": {
      "text/plain": [
       "streetname    599\n",
       "e             599\n",
       "dtype: int64"
      ]
     },
     "execution_count": 66,
     "metadata": {},
     "output_type": "execute_result"
    }
   ],
   "source": [
    "#подсчитаем количество улиц с одним обектом\n",
    "one_ob2.count()"
   ]
  },
  {
   "cell_type": "code",
   "execution_count": 67,
   "metadata": {},
   "outputs": [
    {
     "data": {
      "text/plain": [
       "16.119483315392895"
      ]
     },
     "execution_count": 67,
     "metadata": {},
     "output_type": "execute_result"
    }
   ],
   "source": [
    "(599/3716)*100"
   ]
  },
  {
   "cell_type": "markdown",
   "metadata": {},
   "source": [
    "Итак, количество улиц в Москве, где находится один объект общ.пит. составило 599 улиц. Учитывая, что всего улиц в Москве - 3716, толя таких улиц  - 16%. Что немало для столицы."
   ]
  },
  {
   "cell_type": "markdown",
   "metadata": {},
   "source": [
    "Посмотрим в каких округах сосредоточены такие улицы. "
   ]
  },
  {
   "cell_type": "code",
   "execution_count": 68,
   "metadata": {},
   "outputs": [
    {
     "data": {
      "text/html": [
       "<div>\n",
       "<style scoped>\n",
       "    .dataframe tbody tr th:only-of-type {\n",
       "        vertical-align: middle;\n",
       "    }\n",
       "\n",
       "    .dataframe tbody tr th {\n",
       "        vertical-align: top;\n",
       "    }\n",
       "\n",
       "    .dataframe thead th {\n",
       "        text-align: right;\n",
       "    }\n",
       "</style>\n",
       "<table border=\"1\" class=\"dataframe\">\n",
       "  <thead>\n",
       "    <tr style=\"text-align: right;\">\n",
       "      <th></th>\n",
       "      <th>streetname</th>\n",
       "      <th>e</th>\n",
       "      <th>areaid</th>\n",
       "      <th>okrug</th>\n",
       "      <th>area</th>\n",
       "    </tr>\n",
       "  </thead>\n",
       "  <tbody>\n",
       "    <tr>\n",
       "      <td>0</td>\n",
       "      <td>1-й Балтийский переулок</td>\n",
       "      <td>1</td>\n",
       "      <td>54.00</td>\n",
       "      <td>САО</td>\n",
       "      <td>Район Аэропорт</td>\n",
       "    </tr>\n",
       "    <tr>\n",
       "      <td>1</td>\n",
       "      <td>1-й Басманный переулок</td>\n",
       "      <td>1</td>\n",
       "      <td>13.00</td>\n",
       "      <td>ЦАО</td>\n",
       "      <td>Басманный район</td>\n",
       "    </tr>\n",
       "    <tr>\n",
       "      <td>2</td>\n",
       "      <td>1-й Басманный переулок</td>\n",
       "      <td>1</td>\n",
       "      <td>15.00</td>\n",
       "      <td>ЦАО</td>\n",
       "      <td>Красносельский район</td>\n",
       "    </tr>\n",
       "    <tr>\n",
       "      <td>3</td>\n",
       "      <td>1-й Ботанический проезд</td>\n",
       "      <td>1</td>\n",
       "      <td>82.00</td>\n",
       "      <td>СВАО</td>\n",
       "      <td>Район Свиблово</td>\n",
       "    </tr>\n",
       "    <tr>\n",
       "      <td>4</td>\n",
       "      <td>1-й Вешняковский проезд</td>\n",
       "      <td>1</td>\n",
       "      <td>120.00</td>\n",
       "      <td>ЮВАО</td>\n",
       "      <td>Рязанский район</td>\n",
       "    </tr>\n",
       "  </tbody>\n",
       "</table>\n",
       "</div>"
      ],
      "text/plain": [
       "                streetname  e  areaid okrug                  area\n",
       "0  1-й Балтийский переулок  1   54.00   САО        Район Аэропорт\n",
       "1   1-й Басманный переулок  1   13.00   ЦАО       Басманный район\n",
       "2   1-й Басманный переулок  1   15.00   ЦАО  Красносельский район\n",
       "3  1-й Ботанический проезд  1   82.00  СВАО        Район Свиблово\n",
       "4  1-й Вешняковский проезд  1  120.00  ЮВАО       Рязанский район"
      ]
     },
     "execution_count": 68,
     "metadata": {},
     "output_type": "execute_result"
    }
   ],
   "source": [
    "#объединим две таблицы\n",
    "distr_one = one_ob2.merge(distr, on='streetname', how='left')\n",
    "distr_one.head()"
   ]
  },
  {
   "cell_type": "code",
   "execution_count": 69,
   "metadata": {},
   "outputs": [
    {
     "data": {
      "text/html": [
       "<div>\n",
       "<style scoped>\n",
       "    .dataframe tbody tr th:only-of-type {\n",
       "        vertical-align: middle;\n",
       "    }\n",
       "\n",
       "    .dataframe tbody tr th {\n",
       "        vertical-align: top;\n",
       "    }\n",
       "\n",
       "    .dataframe thead th {\n",
       "        text-align: right;\n",
       "    }\n",
       "</style>\n",
       "<table border=\"1\" class=\"dataframe\">\n",
       "  <thead>\n",
       "    <tr style=\"text-align: right;\">\n",
       "      <th></th>\n",
       "      <th>okrug</th>\n",
       "      <th>area</th>\n",
       "    </tr>\n",
       "  </thead>\n",
       "  <tbody>\n",
       "    <tr>\n",
       "      <td>0</td>\n",
       "      <td>ВАО</td>\n",
       "      <td>67</td>\n",
       "    </tr>\n",
       "    <tr>\n",
       "      <td>1</td>\n",
       "      <td>ЗАО</td>\n",
       "      <td>44</td>\n",
       "    </tr>\n",
       "    <tr>\n",
       "      <td>2</td>\n",
       "      <td>Зеленоград</td>\n",
       "      <td>2</td>\n",
       "    </tr>\n",
       "    <tr>\n",
       "      <td>3</td>\n",
       "      <td>САО</td>\n",
       "      <td>55</td>\n",
       "    </tr>\n",
       "    <tr>\n",
       "      <td>4</td>\n",
       "      <td>СВАО</td>\n",
       "      <td>63</td>\n",
       "    </tr>\n",
       "    <tr>\n",
       "      <td>5</td>\n",
       "      <td>СЗАО</td>\n",
       "      <td>26</td>\n",
       "    </tr>\n",
       "    <tr>\n",
       "      <td>6</td>\n",
       "      <td>ЦАО</td>\n",
       "      <td>184</td>\n",
       "    </tr>\n",
       "    <tr>\n",
       "      <td>7</td>\n",
       "      <td>ЮАО</td>\n",
       "      <td>30</td>\n",
       "    </tr>\n",
       "    <tr>\n",
       "      <td>8</td>\n",
       "      <td>ЮВАО</td>\n",
       "      <td>55</td>\n",
       "    </tr>\n",
       "    <tr>\n",
       "      <td>9</td>\n",
       "      <td>ЮЗАО</td>\n",
       "      <td>28</td>\n",
       "    </tr>\n",
       "  </tbody>\n",
       "</table>\n",
       "</div>"
      ],
      "text/plain": [
       "        okrug  area\n",
       "0         ВАО    67\n",
       "1         ЗАО    44\n",
       "2  Зеленоград     2\n",
       "3         САО    55\n",
       "4        СВАО    63\n",
       "5        СЗАО    26\n",
       "6         ЦАО   184\n",
       "7         ЮАО    30\n",
       "8        ЮВАО    55\n",
       "9        ЮЗАО    28"
      ]
     },
     "execution_count": 69,
     "metadata": {},
     "output_type": "execute_result"
    }
   ],
   "source": [
    "#сгруппируем таблицу по округам\n",
    "\n",
    "d_one = distr_one.groupby('okrug')[['area']].count().reset_index()\n",
    "d_one = pd.DataFrame(d_one)\n",
    "d_one"
   ]
  },
  {
   "cell_type": "markdown",
   "metadata": {},
   "source": [
    "Получился список из 10 округов г.Москвы. Учитывая, что всего округов в Москве 12, то можно сделать вывод, что улицы с одним объектом общ.пит. в Москве встречаются равномерно по всей Москве."
   ]
  },
  {
   "cell_type": "markdown",
   "metadata": {},
   "source": [
    "Вывод п.3. \n",
    "\n",
    "Проведя анализ данных объектов общ.пит. в Москве, пришли к следующим результатам:\n",
    "\n",
    "1. Количество несетевых объектов общ.пит. в 4 раза больше, чем количество сетевых.\n",
    "\n",
    "\n",
    "2. Самый популярный вид объекта общ.пит. - кафе.  Результат вполне очевиден. \n",
    "   \n",
    "\n",
    "3. Подробнее изучив сетевые объекты общ.пит. Пришли к выводу, что подобных объектов с малым количеством посадочных мест больше, чем сетевых объектов с большим количеством посадочных мест. \n",
    "\n",
    "\n",
    "4. Лидером по среднему количеству посадочных мест является тип объекта - столовая, а отдел кулинарии в магазинах имеет самое маленькое количество посадочных мест, что вполне логично.\n",
    "\n",
    "\n",
    "5. Как местоположение влияет на количество объектов общ.пит. в г. Москва?  В исследовании выделили топ-10 улиц  Москвы где больше всего сосредоточены объекты общ.пит. Скорее всего можно проследить закономерность: чем длиннее протяженность улицы и чем улица находится ближе к центральной части города - тем больше количество объектов общ.пит. она имеет. Исключением в списке - г.Зеленоград, так как он является одновременно не только улицей, но и одним из 12 округов г.Москвы. Сгруппировав данные по округам, видим: лидер среди топ-10 улиц - ЮЗАО, а ЦАО - в самом конце среди топов. Это объясняется, что ЦАО - самый небольшой по площади округ, а ЮЗАО - один из крупных.\n",
    "\n",
    "\n",
    "6. Среднее количество посадочных мест на одно заведение на топ-10 улицах составило примерно 60 мест. Есть исключение: Кутузовский проспект - 85 мест, но это количество объясняется нахождением на этой улице Arena by Soho Family. Это заведение рассчитано на прием до 4000 гостей и включает в себя просторный танцпол, гардероб на 6000 мест, балконы с барами, вместительную и комфортную бекстейдж зону, гримерные для артистов, VIP зал, караоке. \n",
    "    Лидерующую. позицию среди топ-10 улиц Москвы по наличию предприятий быстрого обслуживания, которые работают на доставку или \"на вынос\" поделили: Варшавское шоссе и Ленинский проспект.\n",
    "\n",
    "7. Проанализировав улицы в Москве, где находится один объект общ.пит., пришли к выводам: количество таких улиц составило 599 улиц. Учитывая, что всего улиц в Москве - 3716, толя таких улиц  - 16%. Что немало для столицы. Сгруппировав эти улицы по округам получился список из 10 округов г.Москвы. Так как всего округов в Москве 12, то улицы с одним объектом общ.пит. в Москве встречаются равномерно по всей столице.\n"
   ]
  },
  {
   "cell_type": "markdown",
   "metadata": {},
   "source": [
    "## Общие выводы."
   ]
  },
  {
   "cell_type": "markdown",
   "metadata": {},
   "source": [
    "Итак, нами было проведено исследование по изучению текущего положения дел на рынке заведений общественного питания г.Москвы. Данное исследование необходимо инвесторам проекта по открытию небольшого кафе в Москве, где гостей должны обслуживать роботы. \n",
    "\n",
    "В п.1-п.2 были проведены изучение и предобработка предоставленных данных о заведениях общественного питания в Москве.\n",
    "\n",
    "\n",
    "Далее было проведено само исследование, в результате которого мы пришли к следующим выводам:\n",
    "\n",
    "1. Количество несетевых объектов общ.пит. в 4 раза больше, чем количество сетевых.  Это вполне неплохой показатель, который может сказать о разнообразии сферы общ. питания в Москве: объектов много и они могут удовлетворить любой вкус и любой бюджет.\n",
    "\n",
    "\n",
    "2. Самый популярный вид объекта общ.пит. - кафе.  Результат вполне очевиден. \n",
    "   Кафе – заведение общественного питания, схожее по некоторым параметрам с рестораном, но как правило с меньшим ассортиментом в меню и некоторыми различиями в обслуживании гостей. Этот тип заведений предназначен в первую очередь, чтобы дать возможность быстро перекусить или выпить чашку кофе за деловой или личной встречей.\n",
    "\n",
    "\n",
    "3. Подробнее изучив сетевые объекты общ.пит. Пришли к выводу, что подобных объектов с малым количеством посадочных мест больше, чем сетевых объектов с большим количеством посадочных мест. Действительно, ведь часто сетевые объекты общ.пит. работают на доставку или «на вынос», или рассчитаны на быстрый перекус. \n",
    "\n",
    "\n",
    "4. Лидером по среднему количеству посадочных мест является тип объекта - столовая, а отдел кулинарии в магазинах имеет самое маленькое количество посадочных мест, что вполне логично.\n",
    "\n",
    "\n",
    "5. Как местоположение влияет на количество объектов общ.пит. в г. Москва?  В исследовании выделили топ-10 улиц  Москвы где больше всего сосредоточены объекты общ.пит. Скорее всего можно проследить закономерность: чем длиннее протяженность улицы и чем улица находится ближе к центральной части города - тем больше количество объектов общ.пит. она имеет. Исключением в списке - г.Зеленоград, так как он является одновременно не только улицей, но и одним из 12 округов г.Москвы. Сгруппировав данные по округам, видим: лидер среди топ-10 улиц - ЮЗАО, а ЦАО - в самом конце среди топов. Это объясняется, что ЦАО - самый небольшой по площади округ, а ЮЗАО - один из крупных.\n",
    "\n",
    "\n",
    "\n",
    "6. Среднее количество посадочных мест на одно заведение на топ-10 улицах составило примерно 60 мест. Есть исключение: Кутузовский проспект - 85 мест, но это количество объясняется нахождением на этой улице Arena by Soho Family. Это заведение рассчитано на прием до 4000 гостей и включает в себя просторный танцпол, гардероб на 6000 мест, балконы с барами, вместительную и комфортную бекстейдж зону, гримерные для артистов, VIP зал, караоке. \n",
    "    Лидерующую. позицию среди топ-10 улиц Москвы по наличию предприятий быстрого обслуживания, которые работают на доставку или \"на вынос\" поделили: Варшавское шоссе и Ленинский проспект.\n",
    "\n",
    "\n",
    "7. Проанализировав улицы в Москве, где находится один объект общ.пит., пришли к выводам: количество таких улиц составило 599 улиц. Учитывая, что всего улиц в Москве - 3716, толя таких улиц  - 16%. Что немало для столицы. Сгруппировав эти улицы по округам получился список из 10 округов г.Москвы. Так как всего округов в Москве 12, то улицы с одним объектом общ.пит. в Москве встречаются равномерно по всей столице.\n",
    "\n",
    "Исходя из выводов по исследованию рынка заведений общ.пит. города Москвы, предполагаю, что новое кафе целесообразнее открывать в ЦАО г.Москвы, как более развитом, более посещаемом, но не перегруженном объектами общ.пит. округа Москвы. Тип обслуживание выбрать кафе не более чем на 60 посадочных мест, так как кафе - самый популярный для посетителей тип объекта. \n",
    "\n",
    " "
   ]
  },
  {
   "cell_type": "markdown",
   "metadata": {},
   "source": [
    "Презентация: < https://disk.yandex.ru/i/X-tMLNRJ16To7A >"
   ]
  }
 ],
 "metadata": {
  "ExecuteTimeLog": [
   {
    "duration": 262,
    "start_time": "2021-09-02T07:57:52.382Z"
   },
   {
    "duration": 1540,
    "start_time": "2021-09-02T08:31:47.756Z"
   },
   {
    "duration": 15,
    "start_time": "2021-09-02T08:32:23.185Z"
   },
   {
    "duration": 54,
    "start_time": "2021-09-02T08:33:41.610Z"
   },
   {
    "duration": 16,
    "start_time": "2021-09-02T08:33:43.941Z"
   },
   {
    "duration": 56,
    "start_time": "2021-09-02T08:34:17.897Z"
   },
   {
    "duration": 16,
    "start_time": "2021-09-02T08:34:19.469Z"
   },
   {
    "duration": 13,
    "start_time": "2021-09-02T08:35:23.251Z"
   },
   {
    "duration": 22,
    "start_time": "2021-09-02T08:35:56.444Z"
   },
   {
    "duration": 7,
    "start_time": "2021-09-02T09:00:32.754Z"
   },
   {
    "duration": 19,
    "start_time": "2021-09-02T09:00:52.478Z"
   },
   {
    "duration": 24,
    "start_time": "2021-09-02T09:02:55.869Z"
   },
   {
    "duration": 10,
    "start_time": "2021-09-02T09:06:02.468Z"
   },
   {
    "duration": 8,
    "start_time": "2021-09-02T09:08:11.911Z"
   },
   {
    "duration": 6,
    "start_time": "2021-09-02T09:08:40.580Z"
   },
   {
    "duration": 8,
    "start_time": "2021-09-02T09:09:16.076Z"
   },
   {
    "duration": 9,
    "start_time": "2021-09-02T09:30:09.135Z"
   },
   {
    "duration": 19,
    "start_time": "2021-09-02T09:32:34.018Z"
   },
   {
    "duration": 22,
    "start_time": "2021-09-02T09:33:11.649Z"
   },
   {
    "duration": 19,
    "start_time": "2021-09-02T09:33:28.526Z"
   },
   {
    "duration": 12,
    "start_time": "2021-09-02T09:44:46.372Z"
   },
   {
    "duration": 9,
    "start_time": "2021-09-02T09:46:33.321Z"
   },
   {
    "duration": 372,
    "start_time": "2021-09-02T09:49:30.976Z"
   },
   {
    "duration": 9,
    "start_time": "2021-09-02T09:50:18.297Z"
   },
   {
    "duration": 301,
    "start_time": "2021-09-02T09:50:20.963Z"
   },
   {
    "duration": 295,
    "start_time": "2021-09-02T09:52:35.419Z"
   },
   {
    "duration": 294,
    "start_time": "2021-09-02T09:52:51.800Z"
   },
   {
    "duration": 290,
    "start_time": "2021-09-02T09:53:04.610Z"
   },
   {
    "duration": 640,
    "start_time": "2021-09-02T10:00:38.489Z"
   },
   {
    "duration": 623,
    "start_time": "2021-09-02T10:01:50.733Z"
   },
   {
    "duration": 377,
    "start_time": "2021-09-02T10:04:32.732Z"
   },
   {
    "duration": 8,
    "start_time": "2021-09-02T10:08:35.978Z"
   },
   {
    "duration": 2077,
    "start_time": "2021-09-02T10:09:25.293Z"
   },
   {
    "duration": 22,
    "start_time": "2021-09-02T10:09:27.375Z"
   },
   {
    "duration": 24,
    "start_time": "2021-09-02T10:09:27.400Z"
   },
   {
    "duration": 49,
    "start_time": "2021-09-02T10:09:27.428Z"
   },
   {
    "duration": 3,
    "start_time": "2021-09-02T10:09:27.481Z"
   },
   {
    "duration": 43,
    "start_time": "2021-09-02T10:09:27.487Z"
   },
   {
    "duration": 28,
    "start_time": "2021-09-02T10:09:27.534Z"
   },
   {
    "duration": 9,
    "start_time": "2021-09-02T10:09:27.565Z"
   },
   {
    "duration": 35,
    "start_time": "2021-09-02T10:09:27.578Z"
   },
   {
    "duration": 14,
    "start_time": "2021-09-02T10:09:27.616Z"
   },
   {
    "duration": 34,
    "start_time": "2021-09-02T10:09:27.633Z"
   },
   {
    "duration": 353,
    "start_time": "2021-09-02T10:09:27.673Z"
   },
   {
    "duration": 9,
    "start_time": "2021-09-02T10:09:28.028Z"
   },
   {
    "duration": 233,
    "start_time": "2021-09-02T10:10:15.598Z"
   },
   {
    "duration": 352,
    "start_time": "2021-09-02T10:11:26.453Z"
   },
   {
    "duration": 237,
    "start_time": "2021-09-02T10:11:50.619Z"
   },
   {
    "duration": 219,
    "start_time": "2021-09-02T10:11:58.909Z"
   },
   {
    "duration": 5,
    "start_time": "2021-09-02T10:13:36.405Z"
   },
   {
    "duration": 31,
    "start_time": "2021-09-02T10:15:58.352Z"
   },
   {
    "duration": 19,
    "start_time": "2021-09-02T10:16:36.965Z"
   },
   {
    "duration": 14,
    "start_time": "2021-09-02T10:17:08.607Z"
   },
   {
    "duration": 11,
    "start_time": "2021-09-02T10:21:34.954Z"
   },
   {
    "duration": 12,
    "start_time": "2021-09-02T10:22:08.167Z"
   },
   {
    "duration": 23,
    "start_time": "2021-09-02T10:22:22.424Z"
   },
   {
    "duration": 21,
    "start_time": "2021-09-02T10:23:21.021Z"
   },
   {
    "duration": 428,
    "start_time": "2021-09-02T10:25:38.427Z"
   },
   {
    "duration": 266,
    "start_time": "2021-09-02T10:26:19.007Z"
   },
   {
    "duration": 1957,
    "start_time": "2021-09-02T10:26:29.428Z"
   },
   {
    "duration": 24,
    "start_time": "2021-09-02T10:26:31.387Z"
   },
   {
    "duration": 23,
    "start_time": "2021-09-02T10:26:31.415Z"
   },
   {
    "duration": 36,
    "start_time": "2021-09-02T10:26:31.442Z"
   },
   {
    "duration": 3,
    "start_time": "2021-09-02T10:26:31.481Z"
   },
   {
    "duration": 37,
    "start_time": "2021-09-02T10:26:31.486Z"
   },
   {
    "duration": 9,
    "start_time": "2021-09-02T10:26:31.526Z"
   },
   {
    "duration": 8,
    "start_time": "2021-09-02T10:26:31.562Z"
   },
   {
    "duration": 29,
    "start_time": "2021-09-02T10:26:31.573Z"
   },
   {
    "duration": 16,
    "start_time": "2021-09-02T10:26:31.605Z"
   },
   {
    "duration": 38,
    "start_time": "2021-09-02T10:26:31.624Z"
   },
   {
    "duration": 319,
    "start_time": "2021-09-02T10:26:31.665Z"
   },
   {
    "duration": 9,
    "start_time": "2021-09-02T10:26:31.987Z"
   },
   {
    "duration": 18,
    "start_time": "2021-09-02T10:26:31.999Z"
   },
   {
    "duration": 259,
    "start_time": "2021-09-02T10:26:32.020Z"
   },
   {
    "duration": 8,
    "start_time": "2021-09-02T10:26:32.283Z"
   },
   {
    "duration": 444,
    "start_time": "2021-09-02T10:26:32.294Z"
   },
   {
    "duration": 8,
    "start_time": "2021-09-02T10:26:51.755Z"
   },
   {
    "duration": 28,
    "start_time": "2021-09-02T10:27:09.749Z"
   },
   {
    "duration": 293,
    "start_time": "2021-09-02T10:27:16.414Z"
   },
   {
    "duration": 9,
    "start_time": "2021-09-02T10:27:58.761Z"
   },
   {
    "duration": 11,
    "start_time": "2021-09-02T10:29:03.344Z"
   },
   {
    "duration": 288,
    "start_time": "2021-09-02T10:30:26.181Z"
   },
   {
    "duration": 324,
    "start_time": "2021-09-02T10:31:49.444Z"
   },
   {
    "duration": 315,
    "start_time": "2021-09-02T10:32:02.697Z"
   },
   {
    "duration": 15,
    "start_time": "2021-09-02T10:40:13.387Z"
   },
   {
    "duration": 20,
    "start_time": "2021-09-02T10:42:26.876Z"
   },
   {
    "duration": 19,
    "start_time": "2021-09-02T10:44:21.277Z"
   },
   {
    "duration": 19,
    "start_time": "2021-09-02T10:44:57.982Z"
   },
   {
    "duration": 28,
    "start_time": "2021-09-02T10:47:04.447Z"
   },
   {
    "duration": 11,
    "start_time": "2021-09-02T10:47:18.829Z"
   },
   {
    "duration": 8,
    "start_time": "2021-09-02T10:53:31.476Z"
   },
   {
    "duration": 7,
    "start_time": "2021-09-02T10:54:01.384Z"
   },
   {
    "duration": 7,
    "start_time": "2021-09-02T10:54:04.915Z"
   },
   {
    "duration": 21,
    "start_time": "2021-09-02T10:56:25.597Z"
   },
   {
    "duration": 13,
    "start_time": "2021-09-02T10:57:12.194Z"
   },
   {
    "duration": 9,
    "start_time": "2021-09-02T10:57:46.186Z"
   },
   {
    "duration": 7,
    "start_time": "2021-09-02T10:58:07.585Z"
   },
   {
    "duration": 8,
    "start_time": "2021-09-02T10:58:32.459Z"
   },
   {
    "duration": 610,
    "start_time": "2021-09-02T10:59:07.955Z"
   },
   {
    "duration": 314,
    "start_time": "2021-09-02T10:59:18.496Z"
   },
   {
    "duration": 1683,
    "start_time": "2021-09-02T13:34:29.929Z"
   },
   {
    "duration": 2044,
    "start_time": "2021-09-02T13:34:44.732Z"
   },
   {
    "duration": 14,
    "start_time": "2021-09-02T13:34:46.777Z"
   },
   {
    "duration": 11,
    "start_time": "2021-09-02T13:34:46.792Z"
   },
   {
    "duration": 16,
    "start_time": "2021-09-02T13:34:46.805Z"
   },
   {
    "duration": 18,
    "start_time": "2021-09-02T13:34:46.823Z"
   },
   {
    "duration": 26,
    "start_time": "2021-09-02T13:34:46.842Z"
   },
   {
    "duration": 5,
    "start_time": "2021-09-02T13:34:46.871Z"
   },
   {
    "duration": 7,
    "start_time": "2021-09-02T13:34:46.878Z"
   },
   {
    "duration": 23,
    "start_time": "2021-09-02T13:34:46.886Z"
   },
   {
    "duration": 10,
    "start_time": "2021-09-02T13:34:46.911Z"
   },
   {
    "duration": 7,
    "start_time": "2021-09-02T13:34:46.923Z"
   },
   {
    "duration": 190,
    "start_time": "2021-09-02T13:34:46.932Z"
   },
   {
    "duration": 6,
    "start_time": "2021-09-02T13:34:47.124Z"
   },
   {
    "duration": 14,
    "start_time": "2021-09-02T13:34:47.132Z"
   },
   {
    "duration": 153,
    "start_time": "2021-09-02T13:34:47.148Z"
   },
   {
    "duration": 15,
    "start_time": "2021-09-02T13:34:47.303Z"
   },
   {
    "duration": 5,
    "start_time": "2021-09-02T13:34:47.320Z"
   },
   {
    "duration": 204,
    "start_time": "2021-09-02T13:34:47.326Z"
   },
   {
    "duration": 9,
    "start_time": "2021-09-02T13:34:47.531Z"
   },
   {
    "duration": 18,
    "start_time": "2021-09-02T13:34:47.542Z"
   },
   {
    "duration": 6,
    "start_time": "2021-09-02T13:34:47.562Z"
   },
   {
    "duration": 23,
    "start_time": "2021-09-02T13:34:47.569Z"
   },
   {
    "duration": 5,
    "start_time": "2021-09-02T13:34:47.595Z"
   },
   {
    "duration": 7,
    "start_time": "2021-09-02T13:35:32.772Z"
   },
   {
    "duration": 7,
    "start_time": "2021-09-02T13:35:53.694Z"
   },
   {
    "duration": 42,
    "start_time": "2021-09-02T13:54:46.437Z"
   },
   {
    "duration": 16,
    "start_time": "2021-09-02T13:55:30.563Z"
   },
   {
    "duration": 42,
    "start_time": "2021-09-02T14:01:23.248Z"
   },
   {
    "duration": 1655,
    "start_time": "2021-09-02T14:07:55.736Z"
   },
   {
    "duration": 1110,
    "start_time": "2021-09-02T14:11:57.271Z"
   },
   {
    "duration": 539,
    "start_time": "2021-09-02T14:16:57.555Z"
   },
   {
    "duration": 1402,
    "start_time": "2021-09-02T14:21:50.507Z"
   },
   {
    "duration": 182,
    "start_time": "2021-09-02T14:23:59.756Z"
   },
   {
    "duration": 138,
    "start_time": "2021-09-02T14:25:23.265Z"
   },
   {
    "duration": 141,
    "start_time": "2021-09-02T14:26:02.660Z"
   },
   {
    "duration": 13,
    "start_time": "2021-09-02T14:31:10.825Z"
   },
   {
    "duration": 11,
    "start_time": "2021-09-02T14:31:31.670Z"
   },
   {
    "duration": 10,
    "start_time": "2021-09-02T14:31:40.530Z"
   },
   {
    "duration": 8,
    "start_time": "2021-09-02T14:32:52.257Z"
   },
   {
    "duration": 7,
    "start_time": "2021-09-02T14:33:02.253Z"
   },
   {
    "duration": 1468,
    "start_time": "2021-09-02T14:36:09.230Z"
   },
   {
    "duration": 14,
    "start_time": "2021-09-02T14:36:54.241Z"
   },
   {
    "duration": 485,
    "start_time": "2021-09-02T14:41:01.508Z"
   },
   {
    "duration": 211,
    "start_time": "2021-09-02T14:41:14.848Z"
   },
   {
    "duration": 25545,
    "start_time": "2021-09-02T14:52:42.040Z"
   },
   {
    "duration": 581,
    "start_time": "2021-09-02T14:54:44.576Z"
   },
   {
    "duration": 36,
    "start_time": "2021-09-02T14:57:46.728Z"
   },
   {
    "duration": 3,
    "start_time": "2021-09-02T14:58:00.996Z"
   },
   {
    "duration": 13,
    "start_time": "2021-09-02T15:01:00.237Z"
   },
   {
    "duration": 15,
    "start_time": "2021-09-02T15:05:21.527Z"
   },
   {
    "duration": 1731,
    "start_time": "2021-09-02T15:41:19.113Z"
   },
   {
    "duration": 14,
    "start_time": "2021-09-02T15:41:20.847Z"
   },
   {
    "duration": 22,
    "start_time": "2021-09-02T15:41:20.863Z"
   },
   {
    "duration": 24,
    "start_time": "2021-09-02T15:41:20.887Z"
   },
   {
    "duration": 2,
    "start_time": "2021-09-02T15:41:20.912Z"
   },
   {
    "duration": 23,
    "start_time": "2021-09-02T15:41:20.916Z"
   },
   {
    "duration": 6,
    "start_time": "2021-09-02T15:41:20.940Z"
   },
   {
    "duration": 11,
    "start_time": "2021-09-02T15:41:20.949Z"
   },
   {
    "duration": 16,
    "start_time": "2021-09-02T15:41:20.962Z"
   },
   {
    "duration": 19,
    "start_time": "2021-09-02T15:41:20.980Z"
   },
   {
    "duration": 10,
    "start_time": "2021-09-02T15:41:21.000Z"
   },
   {
    "duration": 188,
    "start_time": "2021-09-02T15:41:21.012Z"
   },
   {
    "duration": 6,
    "start_time": "2021-09-02T15:41:21.202Z"
   },
   {
    "duration": 13,
    "start_time": "2021-09-02T15:41:21.210Z"
   },
   {
    "duration": 148,
    "start_time": "2021-09-02T15:41:21.225Z"
   },
   {
    "duration": 17,
    "start_time": "2021-09-02T15:41:21.375Z"
   },
   {
    "duration": 5,
    "start_time": "2021-09-02T15:41:21.394Z"
   },
   {
    "duration": 178,
    "start_time": "2021-09-02T15:41:21.400Z"
   },
   {
    "duration": 13,
    "start_time": "2021-09-02T15:41:21.580Z"
   },
   {
    "duration": 13,
    "start_time": "2021-09-02T15:41:21.594Z"
   },
   {
    "duration": 3,
    "start_time": "2021-09-02T15:41:21.609Z"
   },
   {
    "duration": 38,
    "start_time": "2021-09-02T15:41:21.614Z"
   },
   {
    "duration": 164,
    "start_time": "2021-09-02T15:41:21.654Z"
   },
   {
    "duration": 8,
    "start_time": "2021-09-02T15:41:21.820Z"
   },
   {
    "duration": 16,
    "start_time": "2021-09-02T15:41:21.830Z"
   },
   {
    "duration": 200,
    "start_time": "2021-09-02T15:41:21.847Z"
   },
   {
    "duration": 11,
    "start_time": "2021-09-02T15:41:22.049Z"
   },
   {
    "duration": 35,
    "start_time": "2021-09-02T15:41:22.062Z"
   },
   {
    "duration": 22,
    "start_time": "2021-09-02T15:41:40.761Z"
   },
   {
    "duration": 27,
    "start_time": "2021-09-02T15:45:30.950Z"
   },
   {
    "duration": 314,
    "start_time": "2021-09-02T15:48:55.661Z"
   },
   {
    "duration": 482,
    "start_time": "2021-09-02T15:49:16.797Z"
   },
   {
    "duration": 415,
    "start_time": "2021-09-03T06:27:57.190Z"
   },
   {
    "duration": 1558,
    "start_time": "2021-09-03T06:28:06.273Z"
   },
   {
    "duration": 13,
    "start_time": "2021-09-03T06:28:07.834Z"
   },
   {
    "duration": 12,
    "start_time": "2021-09-03T06:28:07.849Z"
   },
   {
    "duration": 14,
    "start_time": "2021-09-03T06:28:07.863Z"
   },
   {
    "duration": 2,
    "start_time": "2021-09-03T06:28:07.879Z"
   },
   {
    "duration": 16,
    "start_time": "2021-09-03T06:28:07.891Z"
   },
   {
    "duration": 5,
    "start_time": "2021-09-03T06:28:07.909Z"
   },
   {
    "duration": 5,
    "start_time": "2021-09-03T06:28:07.917Z"
   },
   {
    "duration": 13,
    "start_time": "2021-09-03T06:28:07.924Z"
   },
   {
    "duration": 8,
    "start_time": "2021-09-03T06:28:07.939Z"
   },
   {
    "duration": 8,
    "start_time": "2021-09-03T06:28:07.948Z"
   },
   {
    "duration": 216,
    "start_time": "2021-09-03T06:28:07.957Z"
   },
   {
    "duration": 7,
    "start_time": "2021-09-03T06:28:08.174Z"
   },
   {
    "duration": 16,
    "start_time": "2021-09-03T06:28:08.183Z"
   },
   {
    "duration": 142,
    "start_time": "2021-09-03T06:28:08.201Z"
   },
   {
    "duration": 15,
    "start_time": "2021-09-03T06:28:08.345Z"
   },
   {
    "duration": 6,
    "start_time": "2021-09-03T06:28:08.362Z"
   },
   {
    "duration": 201,
    "start_time": "2021-09-03T06:28:08.369Z"
   },
   {
    "duration": 8,
    "start_time": "2021-09-03T06:28:08.572Z"
   },
   {
    "duration": 14,
    "start_time": "2021-09-03T06:28:08.582Z"
   },
   {
    "duration": 4,
    "start_time": "2021-09-03T06:28:08.597Z"
   },
   {
    "duration": 39,
    "start_time": "2021-09-03T06:28:08.603Z"
   },
   {
    "duration": 169,
    "start_time": "2021-09-03T06:28:08.644Z"
   },
   {
    "duration": 8,
    "start_time": "2021-09-03T06:28:08.815Z"
   },
   {
    "duration": 14,
    "start_time": "2021-09-03T06:28:08.825Z"
   },
   {
    "duration": 206,
    "start_time": "2021-09-03T06:28:08.841Z"
   },
   {
    "duration": 13,
    "start_time": "2021-09-03T06:28:09.049Z"
   },
   {
    "duration": 45,
    "start_time": "2021-09-03T06:28:09.064Z"
   },
   {
    "duration": 363,
    "start_time": "2021-09-03T06:28:09.111Z"
   },
   {
    "duration": 13,
    "start_time": "2021-09-03T06:32:41.377Z"
   },
   {
    "duration": 1211,
    "start_time": "2021-09-03T06:40:41.884Z"
   },
   {
    "duration": 1103,
    "start_time": "2021-09-03T06:42:59.240Z"
   },
   {
    "duration": 264,
    "start_time": "2021-09-03T07:02:27.029Z"
   },
   {
    "duration": 249,
    "start_time": "2021-09-03T07:03:59.290Z"
   },
   {
    "duration": 1491,
    "start_time": "2021-09-03T07:04:10.349Z"
   },
   {
    "duration": 14,
    "start_time": "2021-09-03T07:04:11.842Z"
   },
   {
    "duration": 10,
    "start_time": "2021-09-03T07:04:11.859Z"
   },
   {
    "duration": 14,
    "start_time": "2021-09-03T07:04:11.870Z"
   },
   {
    "duration": 7,
    "start_time": "2021-09-03T07:04:11.885Z"
   },
   {
    "duration": 24,
    "start_time": "2021-09-03T07:04:11.893Z"
   },
   {
    "duration": 6,
    "start_time": "2021-09-03T07:04:11.918Z"
   },
   {
    "duration": 5,
    "start_time": "2021-09-03T07:04:11.926Z"
   },
   {
    "duration": 16,
    "start_time": "2021-09-03T07:04:11.933Z"
   },
   {
    "duration": 8,
    "start_time": "2021-09-03T07:04:11.950Z"
   },
   {
    "duration": 32,
    "start_time": "2021-09-03T07:04:11.960Z"
   },
   {
    "duration": 333,
    "start_time": "2021-09-03T07:04:11.994Z"
   },
   {
    "duration": -210,
    "start_time": "2021-09-03T07:04:12.539Z"
   },
   {
    "duration": -211,
    "start_time": "2021-09-03T07:04:12.541Z"
   },
   {
    "duration": -213,
    "start_time": "2021-09-03T07:04:12.544Z"
   },
   {
    "duration": -214,
    "start_time": "2021-09-03T07:04:12.546Z"
   },
   {
    "duration": -215,
    "start_time": "2021-09-03T07:04:12.548Z"
   },
   {
    "duration": -216,
    "start_time": "2021-09-03T07:04:12.550Z"
   },
   {
    "duration": -218,
    "start_time": "2021-09-03T07:04:12.553Z"
   },
   {
    "duration": -219,
    "start_time": "2021-09-03T07:04:12.555Z"
   },
   {
    "duration": -221,
    "start_time": "2021-09-03T07:04:12.558Z"
   },
   {
    "duration": -222,
    "start_time": "2021-09-03T07:04:12.560Z"
   },
   {
    "duration": -227,
    "start_time": "2021-09-03T07:04:12.566Z"
   },
   {
    "duration": -231,
    "start_time": "2021-09-03T07:04:12.571Z"
   },
   {
    "duration": -233,
    "start_time": "2021-09-03T07:04:12.573Z"
   },
   {
    "duration": -235,
    "start_time": "2021-09-03T07:04:12.576Z"
   },
   {
    "duration": -236,
    "start_time": "2021-09-03T07:04:12.578Z"
   },
   {
    "duration": -237,
    "start_time": "2021-09-03T07:04:12.580Z"
   },
   {
    "duration": -239,
    "start_time": "2021-09-03T07:04:12.583Z"
   },
   {
    "duration": 235,
    "start_time": "2021-09-03T07:04:36.506Z"
   },
   {
    "duration": 1131,
    "start_time": "2021-09-03T07:15:20.645Z"
   },
   {
    "duration": 89,
    "start_time": "2021-09-03T07:17:19.832Z"
   },
   {
    "duration": 1529,
    "start_time": "2021-09-03T07:18:01.796Z"
   },
   {
    "duration": 15,
    "start_time": "2021-09-03T07:18:03.327Z"
   },
   {
    "duration": 10,
    "start_time": "2021-09-03T07:18:03.348Z"
   },
   {
    "duration": 37,
    "start_time": "2021-09-03T07:18:03.359Z"
   },
   {
    "duration": 2,
    "start_time": "2021-09-03T07:18:03.398Z"
   },
   {
    "duration": 23,
    "start_time": "2021-09-03T07:18:03.402Z"
   },
   {
    "duration": 6,
    "start_time": "2021-09-03T07:18:03.428Z"
   },
   {
    "duration": 12,
    "start_time": "2021-09-03T07:18:03.437Z"
   },
   {
    "duration": 12,
    "start_time": "2021-09-03T07:18:03.452Z"
   },
   {
    "duration": 9,
    "start_time": "2021-09-03T07:18:03.492Z"
   },
   {
    "duration": 16,
    "start_time": "2021-09-03T07:18:03.502Z"
   },
   {
    "duration": 358,
    "start_time": "2021-09-03T07:18:03.519Z"
   },
   {
    "duration": -167,
    "start_time": "2021-09-03T07:18:04.046Z"
   },
   {
    "duration": -169,
    "start_time": "2021-09-03T07:18:04.049Z"
   },
   {
    "duration": -170,
    "start_time": "2021-09-03T07:18:04.051Z"
   },
   {
    "duration": -171,
    "start_time": "2021-09-03T07:18:04.053Z"
   },
   {
    "duration": -174,
    "start_time": "2021-09-03T07:18:04.057Z"
   },
   {
    "duration": -176,
    "start_time": "2021-09-03T07:18:04.060Z"
   },
   {
    "duration": -177,
    "start_time": "2021-09-03T07:18:04.062Z"
   },
   {
    "duration": -179,
    "start_time": "2021-09-03T07:18:04.065Z"
   },
   {
    "duration": -181,
    "start_time": "2021-09-03T07:18:04.067Z"
   },
   {
    "duration": -182,
    "start_time": "2021-09-03T07:18:04.069Z"
   },
   {
    "duration": -182,
    "start_time": "2021-09-03T07:18:04.071Z"
   },
   {
    "duration": -185,
    "start_time": "2021-09-03T07:18:04.074Z"
   },
   {
    "duration": -186,
    "start_time": "2021-09-03T07:18:04.076Z"
   },
   {
    "duration": -187,
    "start_time": "2021-09-03T07:18:04.078Z"
   },
   {
    "duration": -189,
    "start_time": "2021-09-03T07:18:04.081Z"
   },
   {
    "duration": -190,
    "start_time": "2021-09-03T07:18:04.083Z"
   },
   {
    "duration": -191,
    "start_time": "2021-09-03T07:18:04.085Z"
   },
   {
    "duration": 88,
    "start_time": "2021-09-03T07:18:20.967Z"
   },
   {
    "duration": 92,
    "start_time": "2021-09-03T07:20:45.339Z"
   },
   {
    "duration": 78,
    "start_time": "2021-09-03T07:20:53.290Z"
   },
   {
    "duration": 14,
    "start_time": "2021-09-03T07:21:07.299Z"
   },
   {
    "duration": 216,
    "start_time": "2021-09-03T07:21:11.005Z"
   },
   {
    "duration": 88,
    "start_time": "2021-09-03T07:22:32.397Z"
   },
   {
    "duration": 84,
    "start_time": "2021-09-03T07:23:05.955Z"
   },
   {
    "duration": 1139,
    "start_time": "2021-09-03T07:27:34.455Z"
   },
   {
    "duration": 292,
    "start_time": "2021-09-03T07:31:33.260Z"
   },
   {
    "duration": 268,
    "start_time": "2021-09-03T07:31:53.232Z"
   },
   {
    "duration": 261,
    "start_time": "2021-09-03T07:32:00.816Z"
   },
   {
    "duration": 174,
    "start_time": "2021-09-03T07:32:16.639Z"
   },
   {
    "duration": 423,
    "start_time": "2021-09-03T07:33:27.946Z"
   },
   {
    "duration": 176,
    "start_time": "2021-09-03T07:33:52.104Z"
   },
   {
    "duration": 1645,
    "start_time": "2021-09-03T07:36:17.421Z"
   },
   {
    "duration": 450,
    "start_time": "2021-09-03T07:43:41.157Z"
   },
   {
    "duration": 221,
    "start_time": "2021-09-03T07:44:12.688Z"
   },
   {
    "duration": 199,
    "start_time": "2021-09-03T07:44:56.216Z"
   },
   {
    "duration": 291,
    "start_time": "2021-09-03T07:45:41.165Z"
   },
   {
    "duration": 1119,
    "start_time": "2021-09-03T07:48:27.620Z"
   },
   {
    "duration": 271,
    "start_time": "2021-09-03T07:53:48.337Z"
   },
   {
    "duration": 1555,
    "start_time": "2021-09-03T07:54:46.282Z"
   },
   {
    "duration": 13,
    "start_time": "2021-09-03T07:54:47.839Z"
   },
   {
    "duration": 14,
    "start_time": "2021-09-03T07:54:47.854Z"
   },
   {
    "duration": 15,
    "start_time": "2021-09-03T07:54:47.870Z"
   },
   {
    "duration": 2,
    "start_time": "2021-09-03T07:54:47.891Z"
   },
   {
    "duration": 21,
    "start_time": "2021-09-03T07:54:47.894Z"
   },
   {
    "duration": 6,
    "start_time": "2021-09-03T07:54:47.917Z"
   },
   {
    "duration": 5,
    "start_time": "2021-09-03T07:54:47.925Z"
   },
   {
    "duration": 14,
    "start_time": "2021-09-03T07:54:47.932Z"
   },
   {
    "duration": 8,
    "start_time": "2021-09-03T07:54:47.948Z"
   },
   {
    "duration": 39,
    "start_time": "2021-09-03T07:54:47.958Z"
   },
   {
    "duration": 349,
    "start_time": "2021-09-03T07:54:47.999Z"
   },
   {
    "duration": -28,
    "start_time": "2021-09-03T07:54:48.379Z"
   },
   {
    "duration": -30,
    "start_time": "2021-09-03T07:54:48.382Z"
   },
   {
    "duration": -30,
    "start_time": "2021-09-03T07:54:48.383Z"
   },
   {
    "duration": -49,
    "start_time": "2021-09-03T07:54:48.404Z"
   },
   {
    "duration": -51,
    "start_time": "2021-09-03T07:54:48.407Z"
   },
   {
    "duration": -57,
    "start_time": "2021-09-03T07:54:48.415Z"
   },
   {
    "duration": -58,
    "start_time": "2021-09-03T07:54:48.417Z"
   },
   {
    "duration": -59,
    "start_time": "2021-09-03T07:54:48.419Z"
   },
   {
    "duration": -59,
    "start_time": "2021-09-03T07:54:48.421Z"
   },
   {
    "duration": -61,
    "start_time": "2021-09-03T07:54:48.424Z"
   },
   {
    "duration": -67,
    "start_time": "2021-09-03T07:54:48.432Z"
   },
   {
    "duration": -68,
    "start_time": "2021-09-03T07:54:48.434Z"
   },
   {
    "duration": -68,
    "start_time": "2021-09-03T07:54:48.436Z"
   },
   {
    "duration": -69,
    "start_time": "2021-09-03T07:54:48.438Z"
   },
   {
    "duration": -69,
    "start_time": "2021-09-03T07:54:48.440Z"
   },
   {
    "duration": -70,
    "start_time": "2021-09-03T07:54:48.443Z"
   },
   {
    "duration": 6337,
    "start_time": "2021-09-03T07:56:07.213Z"
   },
   {
    "duration": 305,
    "start_time": "2021-09-03T07:56:45.439Z"
   },
   {
    "duration": 11,
    "start_time": "2021-09-03T07:57:35.945Z"
   },
   {
    "duration": 204,
    "start_time": "2021-09-03T07:58:40.895Z"
   },
   {
    "duration": 411,
    "start_time": "2021-09-03T07:59:09.374Z"
   },
   {
    "duration": 28,
    "start_time": "2021-09-03T08:04:35.538Z"
   },
   {
    "duration": 25,
    "start_time": "2021-09-03T08:05:00.353Z"
   },
   {
    "duration": 1171,
    "start_time": "2021-09-03T08:06:34.639Z"
   },
   {
    "duration": 2120,
    "start_time": "2021-09-03T08:06:56.048Z"
   },
   {
    "duration": 117,
    "start_time": "2021-09-03T08:13:18.307Z"
   },
   {
    "duration": 123,
    "start_time": "2021-09-03T08:25:38.119Z"
   },
   {
    "duration": 78,
    "start_time": "2021-09-03T08:25:41.473Z"
   },
   {
    "duration": 26,
    "start_time": "2021-09-03T08:26:07.122Z"
   },
   {
    "duration": 31,
    "start_time": "2021-09-03T08:26:25.921Z"
   },
   {
    "duration": 28,
    "start_time": "2021-09-03T08:27:39.349Z"
   },
   {
    "duration": 86,
    "start_time": "2021-09-03T08:28:15.247Z"
   },
   {
    "duration": 27,
    "start_time": "2021-09-03T08:28:39.152Z"
   },
   {
    "duration": 27,
    "start_time": "2021-09-03T08:29:32.456Z"
   },
   {
    "duration": 29,
    "start_time": "2021-09-03T08:29:57.629Z"
   },
   {
    "duration": 28,
    "start_time": "2021-09-03T08:30:12.298Z"
   },
   {
    "duration": 18,
    "start_time": "2021-09-03T08:31:18.812Z"
   },
   {
    "duration": 14,
    "start_time": "2021-09-03T08:32:06.774Z"
   },
   {
    "duration": 12,
    "start_time": "2021-09-03T08:32:18.119Z"
   },
   {
    "duration": 28,
    "start_time": "2021-09-03T08:38:52.391Z"
   },
   {
    "duration": 14,
    "start_time": "2021-09-03T08:38:59.901Z"
   },
   {
    "duration": 14,
    "start_time": "2021-09-03T08:42:24.201Z"
   },
   {
    "duration": 14,
    "start_time": "2021-09-03T08:45:14.676Z"
   },
   {
    "duration": 11,
    "start_time": "2021-09-03T08:46:48.542Z"
   },
   {
    "duration": 13,
    "start_time": "2021-09-03T08:47:17.318Z"
   },
   {
    "duration": 1476,
    "start_time": "2021-09-03T08:47:42.040Z"
   },
   {
    "duration": 12,
    "start_time": "2021-09-03T08:47:43.518Z"
   },
   {
    "duration": 15,
    "start_time": "2021-09-03T08:47:43.532Z"
   },
   {
    "duration": 29,
    "start_time": "2021-09-03T08:47:43.549Z"
   },
   {
    "duration": 3,
    "start_time": "2021-09-03T08:47:43.579Z"
   },
   {
    "duration": 29,
    "start_time": "2021-09-03T08:47:43.583Z"
   },
   {
    "duration": 11,
    "start_time": "2021-09-03T08:47:43.614Z"
   },
   {
    "duration": 17,
    "start_time": "2021-09-03T08:47:43.626Z"
   },
   {
    "duration": 13,
    "start_time": "2021-09-03T08:47:43.645Z"
   },
   {
    "duration": 8,
    "start_time": "2021-09-03T08:47:43.659Z"
   },
   {
    "duration": 12,
    "start_time": "2021-09-03T08:47:43.668Z"
   },
   {
    "duration": 15,
    "start_time": "2021-09-03T08:47:43.682Z"
   },
   {
    "duration": 195,
    "start_time": "2021-09-03T08:47:43.699Z"
   },
   {
    "duration": 484,
    "start_time": "2021-09-03T08:47:43.896Z"
   },
   {
    "duration": 111,
    "start_time": "2021-09-03T08:47:44.271Z"
   },
   {
    "duration": 109,
    "start_time": "2021-09-03T08:47:44.275Z"
   },
   {
    "duration": 105,
    "start_time": "2021-09-03T08:47:44.280Z"
   },
   {
    "duration": 101,
    "start_time": "2021-09-03T08:47:44.285Z"
   },
   {
    "duration": 100,
    "start_time": "2021-09-03T08:47:44.287Z"
   },
   {
    "duration": 98,
    "start_time": "2021-09-03T08:47:44.290Z"
   },
   {
    "duration": 96,
    "start_time": "2021-09-03T08:47:44.293Z"
   },
   {
    "duration": 94,
    "start_time": "2021-09-03T08:47:44.296Z"
   },
   {
    "duration": 93,
    "start_time": "2021-09-03T08:47:44.298Z"
   },
   {
    "duration": 91,
    "start_time": "2021-09-03T08:47:44.301Z"
   },
   {
    "duration": 89,
    "start_time": "2021-09-03T08:47:44.304Z"
   },
   {
    "duration": 46,
    "start_time": "2021-09-03T08:47:44.348Z"
   },
   {
    "duration": 39,
    "start_time": "2021-09-03T08:47:44.356Z"
   },
   {
    "duration": 37,
    "start_time": "2021-09-03T08:47:44.359Z"
   },
   {
    "duration": 35,
    "start_time": "2021-09-03T08:47:44.362Z"
   },
   {
    "duration": 33,
    "start_time": "2021-09-03T08:47:44.365Z"
   },
   {
    "duration": 32,
    "start_time": "2021-09-03T08:47:44.367Z"
   },
   {
    "duration": 30,
    "start_time": "2021-09-03T08:47:44.370Z"
   },
   {
    "duration": 29,
    "start_time": "2021-09-03T08:47:44.372Z"
   },
   {
    "duration": 244,
    "start_time": "2021-09-03T08:48:00.331Z"
   },
   {
    "duration": 6049,
    "start_time": "2021-09-03T08:48:10.686Z"
   },
   {
    "duration": 30,
    "start_time": "2021-09-03T08:48:27.825Z"
   },
   {
    "duration": 16,
    "start_time": "2021-09-03T08:48:29.255Z"
   },
   {
    "duration": 1486,
    "start_time": "2021-09-03T08:48:46.570Z"
   },
   {
    "duration": 13,
    "start_time": "2021-09-03T08:48:48.058Z"
   },
   {
    "duration": 16,
    "start_time": "2021-09-03T08:48:48.073Z"
   },
   {
    "duration": 18,
    "start_time": "2021-09-03T08:48:48.090Z"
   },
   {
    "duration": 2,
    "start_time": "2021-09-03T08:48:48.110Z"
   },
   {
    "duration": 26,
    "start_time": "2021-09-03T08:48:48.113Z"
   },
   {
    "duration": 6,
    "start_time": "2021-09-03T08:48:48.140Z"
   },
   {
    "duration": 15,
    "start_time": "2021-09-03T08:48:48.147Z"
   },
   {
    "duration": 15,
    "start_time": "2021-09-03T08:48:48.165Z"
   },
   {
    "duration": 15,
    "start_time": "2021-09-03T08:48:48.182Z"
   },
   {
    "duration": 15,
    "start_time": "2021-09-03T08:48:48.198Z"
   },
   {
    "duration": 17,
    "start_time": "2021-09-03T08:48:48.215Z"
   },
   {
    "duration": 183,
    "start_time": "2021-09-03T08:48:48.233Z"
   },
   {
    "duration": 365,
    "start_time": "2021-09-03T08:48:48.418Z"
   },
   {
    "duration": -137,
    "start_time": "2021-09-03T08:48:48.922Z"
   },
   {
    "duration": -138,
    "start_time": "2021-09-03T08:48:48.924Z"
   },
   {
    "duration": -140,
    "start_time": "2021-09-03T08:48:48.927Z"
   },
   {
    "duration": -141,
    "start_time": "2021-09-03T08:48:48.929Z"
   },
   {
    "duration": -142,
    "start_time": "2021-09-03T08:48:48.931Z"
   },
   {
    "duration": -144,
    "start_time": "2021-09-03T08:48:48.934Z"
   },
   {
    "duration": -158,
    "start_time": "2021-09-03T08:48:48.949Z"
   },
   {
    "duration": -160,
    "start_time": "2021-09-03T08:48:48.952Z"
   },
   {
    "duration": -161,
    "start_time": "2021-09-03T08:48:48.954Z"
   },
   {
    "duration": -163,
    "start_time": "2021-09-03T08:48:48.957Z"
   },
   {
    "duration": -166,
    "start_time": "2021-09-03T08:48:48.961Z"
   },
   {
    "duration": -168,
    "start_time": "2021-09-03T08:48:48.964Z"
   },
   {
    "duration": -169,
    "start_time": "2021-09-03T08:48:48.966Z"
   },
   {
    "duration": -171,
    "start_time": "2021-09-03T08:48:48.969Z"
   },
   {
    "duration": -172,
    "start_time": "2021-09-03T08:48:48.971Z"
   },
   {
    "duration": -173,
    "start_time": "2021-09-03T08:48:48.973Z"
   },
   {
    "duration": -175,
    "start_time": "2021-09-03T08:48:48.975Z"
   },
   {
    "duration": -177,
    "start_time": "2021-09-03T08:48:48.978Z"
   },
   {
    "duration": -178,
    "start_time": "2021-09-03T08:48:48.980Z"
   },
   {
    "duration": 30,
    "start_time": "2021-09-03T08:48:55.764Z"
   },
   {
    "duration": 16,
    "start_time": "2021-09-03T08:49:02.671Z"
   },
   {
    "duration": 13,
    "start_time": "2021-09-03T08:49:10.247Z"
   },
   {
    "duration": 11,
    "start_time": "2021-09-03T08:49:18.397Z"
   },
   {
    "duration": 13,
    "start_time": "2021-09-03T08:49:23.733Z"
   },
   {
    "duration": 9,
    "start_time": "2021-09-03T08:50:28.434Z"
   },
   {
    "duration": 11,
    "start_time": "2021-09-03T08:50:34.579Z"
   },
   {
    "duration": 16,
    "start_time": "2021-09-03T08:50:37.715Z"
   },
   {
    "duration": 1551,
    "start_time": "2021-09-03T08:50:44.580Z"
   },
   {
    "duration": 13,
    "start_time": "2021-09-03T08:50:46.133Z"
   },
   {
    "duration": 17,
    "start_time": "2021-09-03T08:50:46.148Z"
   },
   {
    "duration": 21,
    "start_time": "2021-09-03T08:50:46.166Z"
   },
   {
    "duration": 1,
    "start_time": "2021-09-03T08:50:46.189Z"
   },
   {
    "duration": 31,
    "start_time": "2021-09-03T08:50:46.192Z"
   },
   {
    "duration": 6,
    "start_time": "2021-09-03T08:50:46.225Z"
   },
   {
    "duration": 13,
    "start_time": "2021-09-03T08:50:46.233Z"
   },
   {
    "duration": 17,
    "start_time": "2021-09-03T08:50:46.249Z"
   },
   {
    "duration": 15,
    "start_time": "2021-09-03T08:50:46.268Z"
   },
   {
    "duration": 9,
    "start_time": "2021-09-03T08:50:46.285Z"
   },
   {
    "duration": 15,
    "start_time": "2021-09-03T08:50:46.295Z"
   },
   {
    "duration": 206,
    "start_time": "2021-09-03T08:50:46.311Z"
   },
   {
    "duration": 388,
    "start_time": "2021-09-03T08:50:46.518Z"
   },
   {
    "duration": 19,
    "start_time": "2021-09-03T08:50:46.889Z"
   },
   {
    "duration": 18,
    "start_time": "2021-09-03T08:50:46.891Z"
   },
   {
    "duration": 14,
    "start_time": "2021-09-03T08:50:46.895Z"
   },
   {
    "duration": 11,
    "start_time": "2021-09-03T08:50:46.899Z"
   },
   {
    "duration": 10,
    "start_time": "2021-09-03T08:50:46.901Z"
   },
   {
    "duration": 8,
    "start_time": "2021-09-03T08:50:46.904Z"
   },
   {
    "duration": -12,
    "start_time": "2021-09-03T08:50:46.925Z"
   },
   {
    "duration": -15,
    "start_time": "2021-09-03T08:50:46.928Z"
   },
   {
    "duration": -24,
    "start_time": "2021-09-03T08:50:46.938Z"
   },
   {
    "duration": -27,
    "start_time": "2021-09-03T08:50:46.942Z"
   },
   {
    "duration": -29,
    "start_time": "2021-09-03T08:50:46.945Z"
   },
   {
    "duration": -33,
    "start_time": "2021-09-03T08:50:46.949Z"
   },
   {
    "duration": -34,
    "start_time": "2021-09-03T08:50:46.951Z"
   },
   {
    "duration": -35,
    "start_time": "2021-09-03T08:50:46.953Z"
   },
   {
    "duration": -37,
    "start_time": "2021-09-03T08:50:46.956Z"
   },
   {
    "duration": -38,
    "start_time": "2021-09-03T08:50:46.958Z"
   },
   {
    "duration": -39,
    "start_time": "2021-09-03T08:50:46.960Z"
   },
   {
    "duration": -40,
    "start_time": "2021-09-03T08:50:46.962Z"
   },
   {
    "duration": -41,
    "start_time": "2021-09-03T08:50:46.964Z"
   },
   {
    "duration": 28,
    "start_time": "2021-09-03T08:50:56.027Z"
   },
   {
    "duration": 17,
    "start_time": "2021-09-03T08:51:01.819Z"
   },
   {
    "duration": 12,
    "start_time": "2021-09-03T08:51:11.338Z"
   },
   {
    "duration": 11,
    "start_time": "2021-09-03T08:51:20.836Z"
   },
   {
    "duration": 15,
    "start_time": "2021-09-03T08:51:26.362Z"
   },
   {
    "duration": 256,
    "start_time": "2021-09-03T08:52:30.916Z"
   },
   {
    "duration": 288,
    "start_time": "2021-09-03T08:54:11.995Z"
   },
   {
    "duration": 246,
    "start_time": "2021-09-03T08:54:35.583Z"
   },
   {
    "duration": 13,
    "start_time": "2021-09-03T08:54:55.031Z"
   },
   {
    "duration": 470,
    "start_time": "2021-09-04T09:01:39.080Z"
   },
   {
    "duration": 250,
    "start_time": "2021-09-04T09:01:41.744Z"
   },
   {
    "duration": 2589,
    "start_time": "2021-09-04T09:01:49.009Z"
   },
   {
    "duration": 20,
    "start_time": "2021-09-04T09:01:51.605Z"
   },
   {
    "duration": 30,
    "start_time": "2021-09-04T09:01:51.628Z"
   },
   {
    "duration": 30,
    "start_time": "2021-09-04T09:01:51.660Z"
   },
   {
    "duration": 3,
    "start_time": "2021-09-04T09:01:51.693Z"
   },
   {
    "duration": 33,
    "start_time": "2021-09-04T09:01:51.698Z"
   },
   {
    "duration": 24,
    "start_time": "2021-09-04T09:01:51.736Z"
   },
   {
    "duration": 10,
    "start_time": "2021-09-04T09:01:51.764Z"
   },
   {
    "duration": 30,
    "start_time": "2021-09-04T09:01:51.777Z"
   },
   {
    "duration": 13,
    "start_time": "2021-09-04T09:01:51.809Z"
   },
   {
    "duration": 33,
    "start_time": "2021-09-04T09:01:51.824Z"
   },
   {
    "duration": 22,
    "start_time": "2021-09-04T09:01:51.859Z"
   },
   {
    "duration": 337,
    "start_time": "2021-09-04T09:01:51.884Z"
   },
   {
    "duration": 449,
    "start_time": "2021-09-04T09:01:52.224Z"
   },
   {
    "duration": 299,
    "start_time": "2021-09-04T09:01:52.377Z"
   },
   {
    "duration": 298,
    "start_time": "2021-09-04T09:01:52.380Z"
   },
   {
    "duration": 296,
    "start_time": "2021-09-04T09:01:52.383Z"
   },
   {
    "duration": 296,
    "start_time": "2021-09-04T09:01:52.385Z"
   },
   {
    "duration": 296,
    "start_time": "2021-09-04T09:01:52.387Z"
   },
   {
    "duration": 269,
    "start_time": "2021-09-04T09:01:52.416Z"
   },
   {
    "duration": 268,
    "start_time": "2021-09-04T09:01:52.419Z"
   },
   {
    "duration": 266,
    "start_time": "2021-09-04T09:01:52.422Z"
   },
   {
    "duration": 265,
    "start_time": "2021-09-04T09:01:52.425Z"
   },
   {
    "duration": 264,
    "start_time": "2021-09-04T09:01:52.427Z"
   },
   {
    "duration": 263,
    "start_time": "2021-09-04T09:01:52.430Z"
   },
   {
    "duration": 262,
    "start_time": "2021-09-04T09:01:52.433Z"
   },
   {
    "duration": 260,
    "start_time": "2021-09-04T09:01:52.436Z"
   },
   {
    "duration": 257,
    "start_time": "2021-09-04T09:01:52.441Z"
   },
   {
    "duration": 253,
    "start_time": "2021-09-04T09:01:52.446Z"
   },
   {
    "duration": 253,
    "start_time": "2021-09-04T09:01:52.448Z"
   },
   {
    "duration": 244,
    "start_time": "2021-09-04T09:01:52.459Z"
   },
   {
    "duration": 245,
    "start_time": "2021-09-04T09:01:52.461Z"
   },
   {
    "duration": 244,
    "start_time": "2021-09-04T09:01:52.464Z"
   },
   {
    "duration": 73,
    "start_time": "2021-09-04T09:02:04.901Z"
   },
   {
    "duration": 33,
    "start_time": "2021-09-04T09:02:10.614Z"
   },
   {
    "duration": 112,
    "start_time": "2021-09-04T09:02:42.755Z"
   },
   {
    "duration": 6,
    "start_time": "2021-09-04T09:02:48.364Z"
   },
   {
    "duration": 21,
    "start_time": "2021-09-04T09:02:52.684Z"
   },
   {
    "duration": 20,
    "start_time": "2021-09-04T09:02:57.889Z"
   },
   {
    "duration": 27,
    "start_time": "2021-09-04T09:03:17.912Z"
   },
   {
    "duration": 23,
    "start_time": "2021-09-04T09:03:30.885Z"
   },
   {
    "duration": 1958,
    "start_time": "2021-09-04T09:03:45.404Z"
   },
   {
    "duration": 20,
    "start_time": "2021-09-04T09:03:47.365Z"
   },
   {
    "duration": 20,
    "start_time": "2021-09-04T09:03:47.388Z"
   },
   {
    "duration": 86,
    "start_time": "2021-09-04T09:03:47.411Z"
   },
   {
    "duration": 3,
    "start_time": "2021-09-04T09:03:47.499Z"
   },
   {
    "duration": 35,
    "start_time": "2021-09-04T09:03:47.505Z"
   },
   {
    "duration": 10,
    "start_time": "2021-09-04T09:03:47.543Z"
   },
   {
    "duration": 18,
    "start_time": "2021-09-04T09:03:47.556Z"
   },
   {
    "duration": 22,
    "start_time": "2021-09-04T09:03:47.580Z"
   },
   {
    "duration": 14,
    "start_time": "2021-09-04T09:03:47.606Z"
   },
   {
    "duration": 34,
    "start_time": "2021-09-04T09:03:47.623Z"
   },
   {
    "duration": 31,
    "start_time": "2021-09-04T09:03:47.660Z"
   },
   {
    "duration": 316,
    "start_time": "2021-09-04T09:03:47.693Z"
   },
   {
    "duration": 468,
    "start_time": "2021-09-04T09:03:48.011Z"
   },
   {
    "duration": 295,
    "start_time": "2021-09-04T09:03:48.188Z"
   },
   {
    "duration": 294,
    "start_time": "2021-09-04T09:03:48.191Z"
   },
   {
    "duration": 294,
    "start_time": "2021-09-04T09:03:48.194Z"
   },
   {
    "duration": 294,
    "start_time": "2021-09-04T09:03:48.196Z"
   },
   {
    "duration": 293,
    "start_time": "2021-09-04T09:03:48.199Z"
   },
   {
    "duration": 289,
    "start_time": "2021-09-04T09:03:48.205Z"
   },
   {
    "duration": 286,
    "start_time": "2021-09-04T09:03:48.210Z"
   },
   {
    "duration": 285,
    "start_time": "2021-09-04T09:03:48.213Z"
   },
   {
    "duration": 283,
    "start_time": "2021-09-04T09:03:48.216Z"
   },
   {
    "duration": 284,
    "start_time": "2021-09-04T09:03:48.218Z"
   },
   {
    "duration": 282,
    "start_time": "2021-09-04T09:03:48.222Z"
   },
   {
    "duration": 281,
    "start_time": "2021-09-04T09:03:48.224Z"
   },
   {
    "duration": 275,
    "start_time": "2021-09-04T09:03:48.233Z"
   },
   {
    "duration": 275,
    "start_time": "2021-09-04T09:03:48.235Z"
   },
   {
    "duration": 274,
    "start_time": "2021-09-04T09:03:48.238Z"
   },
   {
    "duration": 259,
    "start_time": "2021-09-04T09:03:48.255Z"
   },
   {
    "duration": 257,
    "start_time": "2021-09-04T09:03:48.258Z"
   },
   {
    "duration": 255,
    "start_time": "2021-09-04T09:03:48.262Z"
   },
   {
    "duration": 254,
    "start_time": "2021-09-04T09:03:48.264Z"
   },
   {
    "duration": 7568,
    "start_time": "2021-09-04T09:03:58.670Z"
   },
   {
    "duration": 272,
    "start_time": "2021-09-04T09:04:17.514Z"
   },
   {
    "duration": 43,
    "start_time": "2021-09-04T09:04:23.202Z"
   },
   {
    "duration": 22,
    "start_time": "2021-09-04T09:04:24.953Z"
   },
   {
    "duration": 7,
    "start_time": "2021-09-04T09:04:29.313Z"
   },
   {
    "duration": 19,
    "start_time": "2021-09-04T09:04:30.595Z"
   },
   {
    "duration": 20,
    "start_time": "2021-09-04T09:04:32.360Z"
   },
   {
    "duration": 21,
    "start_time": "2021-09-04T11:02:38.373Z"
   },
   {
    "duration": 11,
    "start_time": "2021-09-04T11:02:45.453Z"
   },
   {
    "duration": 20,
    "start_time": "2021-09-04T11:03:17.565Z"
   },
   {
    "duration": 46,
    "start_time": "2021-09-04T11:03:38.803Z"
   },
   {
    "duration": 21,
    "start_time": "2021-09-04T11:03:40.634Z"
   },
   {
    "duration": 11,
    "start_time": "2021-09-04T11:03:45.611Z"
   },
   {
    "duration": 333,
    "start_time": "2021-09-04T11:08:59.404Z"
   },
   {
    "duration": 322,
    "start_time": "2021-09-04T11:09:15.894Z"
   },
   {
    "duration": 330,
    "start_time": "2021-09-04T11:09:30.616Z"
   },
   {
    "duration": 323,
    "start_time": "2021-09-04T11:09:56.026Z"
   },
   {
    "duration": 329,
    "start_time": "2021-09-04T11:10:03.438Z"
   },
   {
    "duration": 10,
    "start_time": "2021-09-04T11:11:11.277Z"
   },
   {
    "duration": 16,
    "start_time": "2021-09-04T11:11:13.114Z"
   },
   {
    "duration": 229,
    "start_time": "2021-09-04T11:11:17.284Z"
   },
   {
    "duration": 12,
    "start_time": "2021-09-04T11:13:32.756Z"
   },
   {
    "duration": 12,
    "start_time": "2021-09-04T11:14:08.116Z"
   },
   {
    "duration": 14,
    "start_time": "2021-09-04T11:14:36.425Z"
   },
   {
    "duration": 254,
    "start_time": "2021-09-04T11:18:20.394Z"
   },
   {
    "duration": 271,
    "start_time": "2021-09-04T11:19:09.745Z"
   },
   {
    "duration": 21,
    "start_time": "2021-09-04T11:22:19.471Z"
   },
   {
    "duration": 12,
    "start_time": "2021-09-04T11:22:35.593Z"
   },
   {
    "duration": 21,
    "start_time": "2021-09-04T11:22:42.290Z"
   },
   {
    "duration": 1767,
    "start_time": "2021-09-04T11:23:02.204Z"
   },
   {
    "duration": 20,
    "start_time": "2021-09-04T11:23:03.975Z"
   },
   {
    "duration": 21,
    "start_time": "2021-09-04T11:23:03.998Z"
   },
   {
    "duration": 34,
    "start_time": "2021-09-04T11:23:04.022Z"
   },
   {
    "duration": 3,
    "start_time": "2021-09-04T11:23:04.058Z"
   },
   {
    "duration": 36,
    "start_time": "2021-09-04T11:23:04.063Z"
   },
   {
    "duration": 8,
    "start_time": "2021-09-04T11:23:04.102Z"
   },
   {
    "duration": 9,
    "start_time": "2021-09-04T11:23:04.114Z"
   },
   {
    "duration": 19,
    "start_time": "2021-09-04T11:23:04.155Z"
   },
   {
    "duration": 17,
    "start_time": "2021-09-04T11:23:04.176Z"
   },
   {
    "duration": 18,
    "start_time": "2021-09-04T11:23:04.195Z"
   },
   {
    "duration": 41,
    "start_time": "2021-09-04T11:23:04.215Z"
   },
   {
    "duration": 366,
    "start_time": "2021-09-04T11:23:04.258Z"
   },
   {
    "duration": 10,
    "start_time": "2021-09-04T11:23:04.627Z"
   },
   {
    "duration": 17,
    "start_time": "2021-09-04T11:23:04.656Z"
   },
   {
    "duration": 23,
    "start_time": "2021-09-04T11:23:04.675Z"
   },
   {
    "duration": 452,
    "start_time": "2021-09-04T11:23:04.701Z"
   },
   {
    "duration": 70,
    "start_time": "2021-09-04T11:23:05.087Z"
   },
   {
    "duration": 69,
    "start_time": "2021-09-04T11:23:05.090Z"
   },
   {
    "duration": 69,
    "start_time": "2021-09-04T11:23:05.092Z"
   },
   {
    "duration": 51,
    "start_time": "2021-09-04T11:23:05.112Z"
   },
   {
    "duration": 50,
    "start_time": "2021-09-04T11:23:05.115Z"
   },
   {
    "duration": 50,
    "start_time": "2021-09-04T11:23:05.117Z"
   },
   {
    "duration": 50,
    "start_time": "2021-09-04T11:23:05.120Z"
   },
   {
    "duration": 50,
    "start_time": "2021-09-04T11:23:05.122Z"
   },
   {
    "duration": 49,
    "start_time": "2021-09-04T11:23:05.125Z"
   },
   {
    "duration": 47,
    "start_time": "2021-09-04T11:23:05.130Z"
   },
   {
    "duration": 45,
    "start_time": "2021-09-04T11:23:05.134Z"
   },
   {
    "duration": 44,
    "start_time": "2021-09-04T11:23:05.137Z"
   },
   {
    "duration": 42,
    "start_time": "2021-09-04T11:23:05.140Z"
   },
   {
    "duration": 41,
    "start_time": "2021-09-04T11:23:05.143Z"
   },
   {
    "duration": 41,
    "start_time": "2021-09-04T11:23:05.145Z"
   },
   {
    "duration": 33,
    "start_time": "2021-09-04T11:23:05.155Z"
   },
   {
    "duration": 46,
    "start_time": "2021-09-04T11:23:16.099Z"
   },
   {
    "duration": 23,
    "start_time": "2021-09-04T11:23:18.620Z"
   },
   {
    "duration": 11,
    "start_time": "2021-09-04T11:23:29.733Z"
   },
   {
    "duration": 21,
    "start_time": "2021-09-04T11:23:34.996Z"
   },
   {
    "duration": 9,
    "start_time": "2021-09-04T11:32:47.575Z"
   },
   {
    "duration": 3291,
    "start_time": "2021-09-04T11:33:27.114Z"
   },
   {
    "duration": 21,
    "start_time": "2021-09-04T11:33:48.544Z"
   },
   {
    "duration": 11,
    "start_time": "2021-09-04T11:34:36.066Z"
   },
   {
    "duration": 21,
    "start_time": "2021-09-04T11:34:40.586Z"
   },
   {
    "duration": 12,
    "start_time": "2021-09-04T11:37:11.405Z"
   },
   {
    "duration": 12,
    "start_time": "2021-09-04T11:37:17.736Z"
   },
   {
    "duration": 12,
    "start_time": "2021-09-04T11:37:19.216Z"
   },
   {
    "duration": 46,
    "start_time": "2021-09-04T11:37:34.522Z"
   },
   {
    "duration": 20,
    "start_time": "2021-09-04T11:37:35.936Z"
   },
   {
    "duration": 12,
    "start_time": "2021-09-04T11:37:42.342Z"
   },
   {
    "duration": 12,
    "start_time": "2021-09-04T11:37:43.667Z"
   },
   {
    "duration": 327,
    "start_time": "2021-09-04T11:54:59.571Z"
   },
   {
    "duration": 221,
    "start_time": "2021-09-04T12:09:17.795Z"
   },
   {
    "duration": 25,
    "start_time": "2021-09-04T12:10:06.373Z"
   },
   {
    "duration": 8,
    "start_time": "2021-09-04T12:10:27.768Z"
   },
   {
    "duration": 14,
    "start_time": "2021-09-04T12:12:32.791Z"
   },
   {
    "duration": 332,
    "start_time": "2021-09-04T12:13:57.338Z"
   },
   {
    "duration": 357,
    "start_time": "2021-09-04T12:14:11.036Z"
   },
   {
    "duration": 320,
    "start_time": "2021-09-04T12:14:33.377Z"
   },
   {
    "duration": 335,
    "start_time": "2021-09-04T12:14:52.534Z"
   },
   {
    "duration": -23,
    "start_time": "2021-09-04T12:20:10.485Z"
   },
   {
    "duration": 1793,
    "start_time": "2021-09-04T12:20:31.786Z"
   },
   {
    "duration": 20,
    "start_time": "2021-09-04T12:20:33.582Z"
   },
   {
    "duration": 19,
    "start_time": "2021-09-04T12:20:33.604Z"
   },
   {
    "duration": 38,
    "start_time": "2021-09-04T12:20:33.626Z"
   },
   {
    "duration": 3,
    "start_time": "2021-09-04T12:20:33.666Z"
   },
   {
    "duration": 31,
    "start_time": "2021-09-04T12:20:33.671Z"
   },
   {
    "duration": 7,
    "start_time": "2021-09-04T12:20:33.705Z"
   },
   {
    "duration": 11,
    "start_time": "2021-09-04T12:20:33.716Z"
   },
   {
    "duration": 19,
    "start_time": "2021-09-04T12:20:33.756Z"
   },
   {
    "duration": 12,
    "start_time": "2021-09-04T12:20:33.778Z"
   },
   {
    "duration": 24,
    "start_time": "2021-09-04T12:20:33.793Z"
   },
   {
    "duration": 40,
    "start_time": "2021-09-04T12:20:33.820Z"
   },
   {
    "duration": 339,
    "start_time": "2021-09-04T12:20:33.863Z"
   },
   {
    "duration": 9,
    "start_time": "2021-09-04T12:20:34.204Z"
   },
   {
    "duration": 15,
    "start_time": "2021-09-04T12:20:34.216Z"
   },
   {
    "duration": 14,
    "start_time": "2021-09-04T12:20:34.254Z"
   },
   {
    "duration": 242,
    "start_time": "2021-09-04T12:20:34.270Z"
   },
   {
    "duration": 22,
    "start_time": "2021-09-04T12:20:34.514Z"
   },
   {
    "duration": 14,
    "start_time": "2021-09-04T12:20:34.554Z"
   },
   {
    "duration": 353,
    "start_time": "2021-09-04T12:20:34.570Z"
   },
   {
    "duration": 14,
    "start_time": "2021-09-04T12:20:34.925Z"
   },
   {
    "duration": 31,
    "start_time": "2021-09-04T12:20:34.942Z"
   },
   {
    "duration": 7,
    "start_time": "2021-09-04T12:20:34.977Z"
   },
   {
    "duration": 100,
    "start_time": "2021-09-04T12:20:34.987Z"
   },
   {
    "duration": 282,
    "start_time": "2021-09-04T12:20:35.090Z"
   },
   {
    "duration": 14,
    "start_time": "2021-09-04T12:20:35.374Z"
   },
   {
    "duration": 23,
    "start_time": "2021-09-04T12:20:35.391Z"
   },
   {
    "duration": 358,
    "start_time": "2021-09-04T12:20:35.416Z"
   },
   {
    "duration": 46,
    "start_time": "2021-09-04T12:20:35.776Z"
   },
   {
    "duration": 54,
    "start_time": "2021-09-04T12:20:35.825Z"
   },
   {
    "duration": 16,
    "start_time": "2021-09-04T12:20:35.881Z"
   },
   {
    "duration": 20,
    "start_time": "2021-09-04T12:20:35.899Z"
   },
   {
    "duration": 335,
    "start_time": "2021-09-04T12:20:48.661Z"
   },
   {
    "duration": 13,
    "start_time": "2021-09-04T12:24:57.848Z"
   },
   {
    "duration": 240,
    "start_time": "2021-09-04T12:40:51.867Z"
   },
   {
    "duration": 238,
    "start_time": "2021-09-04T12:41:01.930Z"
   },
   {
    "duration": 21,
    "start_time": "2021-09-04T12:44:27.108Z"
   },
   {
    "duration": 456,
    "start_time": "2021-09-04T12:46:09.891Z"
   },
   {
    "duration": 286,
    "start_time": "2021-09-04T12:46:12.715Z"
   },
   {
    "duration": 22,
    "start_time": "2021-09-04T12:47:16.373Z"
   },
   {
    "duration": 427,
    "start_time": "2021-09-04T12:47:20.470Z"
   },
   {
    "duration": 326,
    "start_time": "2021-09-04T12:47:32.679Z"
   },
   {
    "duration": 419,
    "start_time": "2021-09-04T12:48:03.526Z"
   },
   {
    "duration": 329,
    "start_time": "2021-09-04T12:48:15.430Z"
   },
   {
    "duration": 337,
    "start_time": "2021-09-04T12:48:36.009Z"
   },
   {
    "duration": 331,
    "start_time": "2021-09-04T12:48:49.600Z"
   },
   {
    "duration": 268,
    "start_time": "2021-09-04T13:04:37.171Z"
   },
   {
    "duration": 2080,
    "start_time": "2021-09-04T13:04:54.332Z"
   },
   {
    "duration": 23,
    "start_time": "2021-09-04T13:04:56.415Z"
   },
   {
    "duration": 23,
    "start_time": "2021-09-04T13:04:56.442Z"
   },
   {
    "duration": 29,
    "start_time": "2021-09-04T13:04:56.469Z"
   },
   {
    "duration": 4,
    "start_time": "2021-09-04T13:04:56.501Z"
   },
   {
    "duration": 51,
    "start_time": "2021-09-04T13:04:56.508Z"
   },
   {
    "duration": 9,
    "start_time": "2021-09-04T13:04:56.562Z"
   },
   {
    "duration": 15,
    "start_time": "2021-09-04T13:04:56.577Z"
   },
   {
    "duration": 22,
    "start_time": "2021-09-04T13:04:56.596Z"
   },
   {
    "duration": 47,
    "start_time": "2021-09-04T13:04:56.621Z"
   },
   {
    "duration": 32,
    "start_time": "2021-09-04T13:04:56.670Z"
   },
   {
    "duration": 26,
    "start_time": "2021-09-04T13:04:56.705Z"
   },
   {
    "duration": 360,
    "start_time": "2021-09-04T13:04:56.734Z"
   },
   {
    "duration": 10,
    "start_time": "2021-09-04T13:04:57.097Z"
   },
   {
    "duration": 28,
    "start_time": "2021-09-04T13:04:57.109Z"
   },
   {
    "duration": 28,
    "start_time": "2021-09-04T13:04:57.139Z"
   },
   {
    "duration": 331,
    "start_time": "2021-09-04T13:04:57.170Z"
   },
   {
    "duration": 28,
    "start_time": "2021-09-04T13:04:57.504Z"
   },
   {
    "duration": 37,
    "start_time": "2021-09-04T13:04:57.534Z"
   },
   {
    "duration": 480,
    "start_time": "2021-09-04T13:04:57.574Z"
   },
   {
    "duration": 18,
    "start_time": "2021-09-04T13:04:58.057Z"
   },
   {
    "duration": 29,
    "start_time": "2021-09-04T13:04:58.078Z"
   },
   {
    "duration": 8,
    "start_time": "2021-09-04T13:04:58.113Z"
   },
   {
    "duration": 107,
    "start_time": "2021-09-04T13:04:58.156Z"
   },
   {
    "duration": 16,
    "start_time": "2021-09-04T13:04:58.266Z"
   },
   {
    "duration": 359,
    "start_time": "2021-09-04T13:04:58.285Z"
   },
   {
    "duration": 23,
    "start_time": "2021-09-04T13:04:58.647Z"
   },
   {
    "duration": 29,
    "start_time": "2021-09-04T13:04:58.672Z"
   },
   {
    "duration": 360,
    "start_time": "2021-09-04T13:04:58.704Z"
   },
   {
    "duration": 47,
    "start_time": "2021-09-04T13:04:59.066Z"
   },
   {
    "duration": 47,
    "start_time": "2021-09-04T13:04:59.116Z"
   },
   {
    "duration": 12,
    "start_time": "2021-09-04T13:04:59.166Z"
   },
   {
    "duration": 24,
    "start_time": "2021-09-04T13:04:59.180Z"
   },
   {
    "duration": 497,
    "start_time": "2021-09-04T13:04:59.207Z"
   },
   {
    "duration": 37,
    "start_time": "2021-09-04T13:04:59.670Z"
   },
   {
    "duration": 15,
    "start_time": "2021-09-04T13:05:20.534Z"
   },
   {
    "duration": 281,
    "start_time": "2021-09-04T13:08:09.094Z"
   },
   {
    "duration": 19,
    "start_time": "2021-09-04T13:08:38.082Z"
   },
   {
    "duration": 20,
    "start_time": "2021-09-04T13:09:13.856Z"
   },
   {
    "duration": 18,
    "start_time": "2021-09-04T13:09:48.540Z"
   },
   {
    "duration": 16,
    "start_time": "2021-09-04T13:10:45.578Z"
   },
   {
    "duration": 11,
    "start_time": "2021-09-04T13:11:49.564Z"
   },
   {
    "duration": 92,
    "start_time": "2021-09-04T13:11:55.996Z"
   },
   {
    "duration": 17,
    "start_time": "2021-09-04T13:12:09.461Z"
   },
   {
    "duration": 12,
    "start_time": "2021-09-04T13:12:18.656Z"
   },
   {
    "duration": 36,
    "start_time": "2021-09-04T13:12:33.786Z"
   },
   {
    "duration": 13,
    "start_time": "2021-09-04T13:14:34.435Z"
   },
   {
    "duration": 39,
    "start_time": "2021-09-04T13:16:14.933Z"
   },
   {
    "duration": 39,
    "start_time": "2021-09-04T13:16:52.799Z"
   },
   {
    "duration": 38,
    "start_time": "2021-09-04T13:17:27.182Z"
   },
   {
    "duration": 87,
    "start_time": "2021-09-04T13:18:34.452Z"
   },
   {
    "duration": 268,
    "start_time": "2021-09-04T13:18:42.680Z"
   },
   {
    "duration": 18,
    "start_time": "2021-09-04T13:19:15.876Z"
   },
   {
    "duration": 4,
    "start_time": "2021-09-04T13:26:56.956Z"
   },
   {
    "duration": 28,
    "start_time": "2021-09-04T13:27:13.042Z"
   },
   {
    "duration": 55,
    "start_time": "2021-09-04T13:27:32.735Z"
   },
   {
    "duration": 69,
    "start_time": "2021-09-04T13:29:31.291Z"
   },
   {
    "duration": 21,
    "start_time": "2021-09-04T13:29:33.975Z"
   },
   {
    "duration": 198,
    "start_time": "2021-09-04T13:29:38.127Z"
   },
   {
    "duration": 12,
    "start_time": "2021-09-04T13:29:41.188Z"
   },
   {
    "duration": 22,
    "start_time": "2021-09-04T13:29:45.406Z"
   },
   {
    "duration": 12,
    "start_time": "2021-09-04T13:29:57.545Z"
   },
   {
    "duration": 57,
    "start_time": "2021-09-04T13:30:02.709Z"
   },
   {
    "duration": 147,
    "start_time": "2021-09-04T13:30:42.075Z"
   },
   {
    "duration": 74,
    "start_time": "2021-09-04T13:31:44.639Z"
   },
   {
    "duration": 20,
    "start_time": "2021-09-04T13:31:46.446Z"
   },
   {
    "duration": 195,
    "start_time": "2021-09-04T13:31:50.559Z"
   },
   {
    "duration": 12,
    "start_time": "2021-09-04T13:31:51.324Z"
   },
   {
    "duration": 18,
    "start_time": "2021-09-04T13:31:55.509Z"
   },
   {
    "duration": 12,
    "start_time": "2021-09-04T13:32:01.721Z"
   },
   {
    "duration": 146,
    "start_time": "2021-09-04T13:32:02.962Z"
   },
   {
    "duration": 11,
    "start_time": "2021-09-04T13:36:39.243Z"
   },
   {
    "duration": 848,
    "start_time": "2021-09-04T13:39:03.696Z"
   },
   {
    "duration": -30,
    "start_time": "2021-09-04T13:45:21.088Z"
   },
   {
    "duration": 7338,
    "start_time": "2021-09-04T13:45:24.937Z"
   },
   {
    "duration": 149,
    "start_time": "2021-09-04T13:46:00.568Z"
   },
   {
    "duration": 524,
    "start_time": "2021-09-04T13:46:55.322Z"
   },
   {
    "duration": 216,
    "start_time": "2021-09-04T13:48:53.583Z"
   },
   {
    "duration": 583,
    "start_time": "2021-09-04T13:49:37.649Z"
   },
   {
    "duration": 581,
    "start_time": "2021-09-04T13:51:44.504Z"
   },
   {
    "duration": 20,
    "start_time": "2021-09-04T13:52:02.388Z"
   },
   {
    "duration": 142,
    "start_time": "2021-09-04T13:56:36.037Z"
   },
   {
    "duration": 261,
    "start_time": "2021-09-04T13:56:45.446Z"
   },
   {
    "duration": 309,
    "start_time": "2021-09-04T13:57:59.555Z"
   },
   {
    "duration": 6473,
    "start_time": "2021-09-04T14:01:32.758Z"
   },
   {
    "duration": 276,
    "start_time": "2021-09-04T14:11:08.756Z"
   },
   {
    "duration": 24,
    "start_time": "2021-09-04T14:12:28.407Z"
   },
   {
    "duration": 289,
    "start_time": "2021-09-04T14:12:30.097Z"
   },
   {
    "duration": 283,
    "start_time": "2021-09-04T14:13:53.494Z"
   },
   {
    "duration": 22,
    "start_time": "2021-09-04T14:15:07.747Z"
   },
   {
    "duration": 22,
    "start_time": "2021-09-04T14:15:29.918Z"
   },
   {
    "duration": 2536,
    "start_time": "2021-09-04T14:22:13.179Z"
   },
   {
    "duration": 22,
    "start_time": "2021-09-04T14:22:15.718Z"
   },
   {
    "duration": 14,
    "start_time": "2021-09-04T14:22:15.743Z"
   },
   {
    "duration": 26,
    "start_time": "2021-09-04T14:22:15.760Z"
   },
   {
    "duration": 3,
    "start_time": "2021-09-04T14:22:15.789Z"
   },
   {
    "duration": 27,
    "start_time": "2021-09-04T14:22:15.795Z"
   },
   {
    "duration": 15,
    "start_time": "2021-09-04T14:22:15.855Z"
   },
   {
    "duration": 7,
    "start_time": "2021-09-04T14:22:15.874Z"
   },
   {
    "duration": 19,
    "start_time": "2021-09-04T14:22:15.884Z"
   },
   {
    "duration": 15,
    "start_time": "2021-09-04T14:22:15.905Z"
   },
   {
    "duration": 12,
    "start_time": "2021-09-04T14:22:15.963Z"
   },
   {
    "duration": 18,
    "start_time": "2021-09-04T14:22:15.977Z"
   },
   {
    "duration": 374,
    "start_time": "2021-09-04T14:22:15.997Z"
   },
   {
    "duration": 10,
    "start_time": "2021-09-04T14:22:16.373Z"
   },
   {
    "duration": 15,
    "start_time": "2021-09-04T14:22:16.385Z"
   },
   {
    "duration": 14,
    "start_time": "2021-09-04T14:22:16.402Z"
   },
   {
    "duration": 253,
    "start_time": "2021-09-04T14:22:16.454Z"
   },
   {
    "duration": 23,
    "start_time": "2021-09-04T14:22:16.709Z"
   },
   {
    "duration": 34,
    "start_time": "2021-09-04T14:22:16.734Z"
   },
   {
    "duration": 363,
    "start_time": "2021-09-04T14:22:16.770Z"
   },
   {
    "duration": 28,
    "start_time": "2021-09-04T14:22:17.137Z"
   },
   {
    "duration": 20,
    "start_time": "2021-09-04T14:22:17.169Z"
   },
   {
    "duration": 7,
    "start_time": "2021-09-04T14:22:17.194Z"
   },
   {
    "duration": 109,
    "start_time": "2021-09-04T14:22:17.204Z"
   },
   {
    "duration": 12,
    "start_time": "2021-09-04T14:22:17.316Z"
   },
   {
    "duration": 283,
    "start_time": "2021-09-04T14:22:17.330Z"
   },
   {
    "duration": 14,
    "start_time": "2021-09-04T14:22:17.616Z"
   },
   {
    "duration": 42,
    "start_time": "2021-09-04T14:22:17.632Z"
   },
   {
    "duration": 373,
    "start_time": "2021-09-04T14:22:17.677Z"
   },
   {
    "duration": 51,
    "start_time": "2021-09-04T14:22:18.055Z"
   },
   {
    "duration": 54,
    "start_time": "2021-09-04T14:22:18.109Z"
   },
   {
    "duration": 12,
    "start_time": "2021-09-04T14:22:18.166Z"
   },
   {
    "duration": 14,
    "start_time": "2021-09-04T14:22:18.181Z"
   },
   {
    "duration": 26,
    "start_time": "2021-09-04T14:22:18.198Z"
   },
   {
    "duration": 412,
    "start_time": "2021-09-04T14:22:18.227Z"
   },
   {
    "duration": 211,
    "start_time": "2021-09-04T15:49:17.845Z"
   },
   {
    "duration": 4,
    "start_time": "2021-09-04T15:49:19.287Z"
   },
   {
    "duration": 7,
    "start_time": "2021-09-04T15:49:36.171Z"
   },
   {
    "duration": 824,
    "start_time": "2021-09-04T15:49:38.827Z"
   },
   {
    "duration": 1032,
    "start_time": "2021-09-04T15:50:30.774Z"
   },
   {
    "duration": 2697,
    "start_time": "2021-09-04T16:05:53.281Z"
   },
   {
    "duration": 283,
    "start_time": "2021-09-04T16:07:58.938Z"
   },
   {
    "duration": 19,
    "start_time": "2021-09-04T16:08:13.278Z"
   },
   {
    "duration": 23,
    "start_time": "2021-09-04T16:09:01.087Z"
   },
   {
    "duration": 35,
    "start_time": "2021-09-04T16:10:17.593Z"
   },
   {
    "duration": 2907,
    "start_time": "2021-09-04T16:11:31.830Z"
   },
   {
    "duration": 19,
    "start_time": "2021-09-04T16:12:11.651Z"
   },
   {
    "duration": 2739,
    "start_time": "2021-09-04T16:12:25.020Z"
   },
   {
    "duration": 7,
    "start_time": "2021-09-04T16:16:52.710Z"
   },
   {
    "duration": 2696,
    "start_time": "2021-09-04T16:16:56.205Z"
   },
   {
    "duration": 6,
    "start_time": "2021-09-04T16:17:40.354Z"
   },
   {
    "duration": 2755,
    "start_time": "2021-09-04T16:17:41.442Z"
   },
   {
    "duration": 2646,
    "start_time": "2021-09-04T16:17:48.003Z"
   },
   {
    "duration": 2557,
    "start_time": "2021-09-04T16:18:03.978Z"
   },
   {
    "duration": 7,
    "start_time": "2021-09-04T16:18:24.350Z"
   },
   {
    "duration": 2742,
    "start_time": "2021-09-04T16:18:26.238Z"
   },
   {
    "duration": 7,
    "start_time": "2021-09-04T16:19:38.610Z"
   },
   {
    "duration": 2618,
    "start_time": "2021-09-04T16:19:39.953Z"
   },
   {
    "duration": 7,
    "start_time": "2021-09-04T16:19:56.172Z"
   },
   {
    "duration": 2957,
    "start_time": "2021-09-04T16:19:56.823Z"
   },
   {
    "duration": 7,
    "start_time": "2021-09-04T16:20:30.296Z"
   },
   {
    "duration": 2994,
    "start_time": "2021-09-04T16:20:31.164Z"
   },
   {
    "duration": 20,
    "start_time": "2021-09-04T16:29:29.255Z"
   },
   {
    "duration": 303,
    "start_time": "2021-09-04T16:34:28.991Z"
   },
   {
    "duration": 274,
    "start_time": "2021-09-04T16:35:13.908Z"
   },
   {
    "duration": 5,
    "start_time": "2021-09-04T16:36:09.686Z"
   },
   {
    "duration": 22,
    "start_time": "2021-09-04T16:36:32.359Z"
   },
   {
    "duration": 6,
    "start_time": "2021-09-04T16:53:30.611Z"
   },
   {
    "duration": 258,
    "start_time": "2021-09-04T17:01:10.554Z"
   },
   {
    "duration": 32,
    "start_time": "2021-09-04T17:07:42.719Z"
   },
   {
    "duration": 267,
    "start_time": "2021-09-04T17:09:36.789Z"
   },
   {
    "duration": 9,
    "start_time": "2021-09-04T17:09:48.775Z"
   },
   {
    "duration": 3,
    "start_time": "2021-09-04T17:09:52.376Z"
   },
   {
    "duration": 4,
    "start_time": "2021-09-04T17:09:53.009Z"
   },
   {
    "duration": 6,
    "start_time": "2021-09-04T17:09:53.831Z"
   },
   {
    "duration": 250837,
    "start_time": "2021-09-04T17:09:55.129Z"
   },
   {
    "duration": 22,
    "start_time": "2021-09-04T17:14:05.946Z"
   },
   {
    "duration": 27,
    "start_time": "2021-09-04T17:16:26.716Z"
   },
   {
    "duration": 7,
    "start_time": "2021-09-04T17:18:54.507Z"
   },
   {
    "duration": 10,
    "start_time": "2021-09-04T17:23:52.136Z"
   },
   {
    "duration": 26,
    "start_time": "2021-09-04T17:24:07.735Z"
   },
   {
    "duration": 1356,
    "start_time": "2021-09-04T18:25:13.958Z"
   },
   {
    "duration": 616,
    "start_time": "2021-09-04T18:27:20.752Z"
   },
   {
    "duration": 543,
    "start_time": "2021-09-04T18:30:09.059Z"
   },
   {
    "duration": 266,
    "start_time": "2021-09-04T18:31:29.023Z"
   },
   {
    "duration": 6666,
    "start_time": "2021-09-04T18:34:14.368Z"
   },
   {
    "duration": 1713,
    "start_time": "2021-09-05T10:18:43.248Z"
   },
   {
    "duration": 14,
    "start_time": "2021-09-05T10:18:58.588Z"
   },
   {
    "duration": 31,
    "start_time": "2021-09-05T10:21:55.243Z"
   },
   {
    "duration": 16,
    "start_time": "2021-09-05T10:22:03.504Z"
   },
   {
    "duration": 11,
    "start_time": "2021-09-05T10:22:20.702Z"
   },
   {
    "duration": 17,
    "start_time": "2021-09-05T10:22:21.781Z"
   },
   {
    "duration": 15,
    "start_time": "2021-09-05T10:22:48.504Z"
   },
   {
    "duration": 293,
    "start_time": "2021-09-05T10:22:56.240Z"
   },
   {
    "duration": 1437,
    "start_time": "2021-09-05T10:23:06.194Z"
   },
   {
    "duration": 13,
    "start_time": "2021-09-05T10:23:07.634Z"
   },
   {
    "duration": 10,
    "start_time": "2021-09-05T10:23:07.648Z"
   },
   {
    "duration": 14,
    "start_time": "2021-09-05T10:23:07.659Z"
   },
   {
    "duration": 2,
    "start_time": "2021-09-05T10:23:07.674Z"
   },
   {
    "duration": 18,
    "start_time": "2021-09-05T10:23:07.677Z"
   },
   {
    "duration": 5,
    "start_time": "2021-09-05T10:23:07.697Z"
   },
   {
    "duration": 4,
    "start_time": "2021-09-05T10:23:07.704Z"
   },
   {
    "duration": 11,
    "start_time": "2021-09-05T10:23:07.710Z"
   },
   {
    "duration": 7,
    "start_time": "2021-09-05T10:23:07.723Z"
   },
   {
    "duration": 8,
    "start_time": "2021-09-05T10:23:07.732Z"
   },
   {
    "duration": 45,
    "start_time": "2021-09-05T10:23:07.741Z"
   },
   {
    "duration": 222,
    "start_time": "2021-09-05T10:23:07.788Z"
   },
   {
    "duration": 6,
    "start_time": "2021-09-05T10:23:08.012Z"
   },
   {
    "duration": 12,
    "start_time": "2021-09-05T10:23:08.019Z"
   },
   {
    "duration": 8,
    "start_time": "2021-09-05T10:23:08.032Z"
   },
   {
    "duration": 164,
    "start_time": "2021-09-05T10:23:08.042Z"
   },
   {
    "duration": 15,
    "start_time": "2021-09-05T10:23:08.207Z"
   },
   {
    "duration": 9,
    "start_time": "2021-09-05T10:23:08.223Z"
   },
   {
    "duration": 227,
    "start_time": "2021-09-05T10:23:08.233Z"
   },
   {
    "duration": 9,
    "start_time": "2021-09-05T10:23:08.461Z"
   },
   {
    "duration": 22,
    "start_time": "2021-09-05T10:23:08.471Z"
   },
   {
    "duration": 4,
    "start_time": "2021-09-05T10:23:08.496Z"
   },
   {
    "duration": 39,
    "start_time": "2021-09-05T10:23:08.502Z"
   },
   {
    "duration": 7,
    "start_time": "2021-09-05T10:23:08.543Z"
   },
   {
    "duration": 179,
    "start_time": "2021-09-05T10:23:08.551Z"
   },
   {
    "duration": 8,
    "start_time": "2021-09-05T10:23:08.732Z"
   },
   {
    "duration": 18,
    "start_time": "2021-09-05T10:23:08.742Z"
   },
   {
    "duration": 224,
    "start_time": "2021-09-05T10:23:08.761Z"
   },
   {
    "duration": 29,
    "start_time": "2021-09-05T10:23:08.986Z"
   },
   {
    "duration": 17,
    "start_time": "2021-09-05T10:23:09.016Z"
   },
   {
    "duration": 9,
    "start_time": "2021-09-05T10:23:09.034Z"
   },
   {
    "duration": 18,
    "start_time": "2021-09-05T10:23:09.045Z"
   },
   {
    "duration": 14,
    "start_time": "2021-09-05T10:23:09.085Z"
   },
   {
    "duration": 290,
    "start_time": "2021-09-05T10:23:09.101Z"
   },
   {
    "duration": 2,
    "start_time": "2021-09-05T10:23:09.390Z"
   },
   {
    "duration": -12,
    "start_time": "2021-09-05T10:23:09.405Z"
   },
   {
    "duration": -14,
    "start_time": "2021-09-05T10:23:09.408Z"
   },
   {
    "duration": -20,
    "start_time": "2021-09-05T10:23:09.415Z"
   },
   {
    "duration": -22,
    "start_time": "2021-09-05T10:23:09.418Z"
   },
   {
    "duration": 10,
    "start_time": "2021-09-05T10:23:41.551Z"
   },
   {
    "duration": 9,
    "start_time": "2021-09-05T10:23:50.681Z"
   },
   {
    "duration": 10,
    "start_time": "2021-09-05T10:23:58.263Z"
   },
   {
    "duration": 8,
    "start_time": "2021-09-05T10:25:37.964Z"
   },
   {
    "duration": 8,
    "start_time": "2021-09-05T10:25:38.726Z"
   },
   {
    "duration": 13,
    "start_time": "2021-09-05T10:25:54.438Z"
   },
   {
    "duration": 185,
    "start_time": "2021-09-05T10:25:55.757Z"
   },
   {
    "duration": 231,
    "start_time": "2021-09-05T10:26:18.256Z"
   },
   {
    "duration": 5,
    "start_time": "2021-09-05T10:26:38.334Z"
   },
   {
    "duration": 30,
    "start_time": "2021-09-05T10:26:39.438Z"
   },
   {
    "duration": 8,
    "start_time": "2021-09-05T10:26:59.417Z"
   },
   {
    "duration": 23,
    "start_time": "2021-09-05T10:28:44.327Z"
   },
   {
    "duration": 1639,
    "start_time": "2021-09-05T10:29:16.368Z"
   },
   {
    "duration": 15,
    "start_time": "2021-09-05T10:29:18.009Z"
   },
   {
    "duration": 8,
    "start_time": "2021-09-05T10:29:18.026Z"
   },
   {
    "duration": 15,
    "start_time": "2021-09-05T10:29:18.036Z"
   },
   {
    "duration": 4,
    "start_time": "2021-09-05T10:29:18.052Z"
   },
   {
    "duration": 26,
    "start_time": "2021-09-05T10:29:18.058Z"
   },
   {
    "duration": 5,
    "start_time": "2021-09-05T10:29:18.086Z"
   },
   {
    "duration": 9,
    "start_time": "2021-09-05T10:29:18.093Z"
   },
   {
    "duration": 16,
    "start_time": "2021-09-05T10:29:18.104Z"
   },
   {
    "duration": 8,
    "start_time": "2021-09-05T10:29:18.121Z"
   },
   {
    "duration": 8,
    "start_time": "2021-09-05T10:29:18.131Z"
   },
   {
    "duration": 13,
    "start_time": "2021-09-05T10:29:18.140Z"
   },
   {
    "duration": 258,
    "start_time": "2021-09-05T10:29:18.154Z"
   },
   {
    "duration": 8,
    "start_time": "2021-09-05T10:29:18.414Z"
   },
   {
    "duration": 12,
    "start_time": "2021-09-05T10:29:18.424Z"
   },
   {
    "duration": 10,
    "start_time": "2021-09-05T10:29:18.438Z"
   },
   {
    "duration": 166,
    "start_time": "2021-09-05T10:29:18.450Z"
   },
   {
    "duration": 14,
    "start_time": "2021-09-05T10:29:18.618Z"
   },
   {
    "duration": 9,
    "start_time": "2021-09-05T10:29:18.634Z"
   },
   {
    "duration": 236,
    "start_time": "2021-09-05T10:29:18.645Z"
   },
   {
    "duration": 8,
    "start_time": "2021-09-05T10:29:18.885Z"
   },
   {
    "duration": 14,
    "start_time": "2021-09-05T10:29:18.895Z"
   },
   {
    "duration": 4,
    "start_time": "2021-09-05T10:29:18.912Z"
   },
   {
    "duration": 38,
    "start_time": "2021-09-05T10:29:18.918Z"
   },
   {
    "duration": 32,
    "start_time": "2021-09-05T10:29:18.957Z"
   },
   {
    "duration": 159,
    "start_time": "2021-09-05T10:29:18.991Z"
   },
   {
    "duration": 9,
    "start_time": "2021-09-05T10:29:19.152Z"
   },
   {
    "duration": 29,
    "start_time": "2021-09-05T10:29:19.163Z"
   },
   {
    "duration": 214,
    "start_time": "2021-09-05T10:29:19.194Z"
   },
   {
    "duration": 30,
    "start_time": "2021-09-05T10:29:19.409Z"
   },
   {
    "duration": 23,
    "start_time": "2021-09-05T10:29:19.441Z"
   },
   {
    "duration": 27,
    "start_time": "2021-09-05T10:29:19.465Z"
   },
   {
    "duration": 16,
    "start_time": "2021-09-05T10:29:19.494Z"
   },
   {
    "duration": 48,
    "start_time": "2021-09-05T10:29:19.512Z"
   },
   {
    "duration": 256,
    "start_time": "2021-09-05T10:29:19.562Z"
   },
   {
    "duration": 4,
    "start_time": "2021-09-05T10:29:19.819Z"
   },
   {
    "duration": 40,
    "start_time": "2021-09-05T10:29:19.824Z"
   },
   {
    "duration": 7,
    "start_time": "2021-09-05T10:29:19.865Z"
   },
   {
    "duration": 29,
    "start_time": "2021-09-05T10:29:19.873Z"
   },
   {
    "duration": 9,
    "start_time": "2021-09-05T10:30:37.348Z"
   },
   {
    "duration": 7,
    "start_time": "2021-09-05T10:30:55.298Z"
   },
   {
    "duration": 31,
    "start_time": "2021-09-05T10:31:28.521Z"
   },
   {
    "duration": 313,
    "start_time": "2021-09-05T10:43:56.637Z"
   },
   {
    "duration": 10,
    "start_time": "2021-09-05T10:48:53.476Z"
   },
   {
    "duration": 7,
    "start_time": "2021-09-05T10:49:11.541Z"
   },
   {
    "duration": 9,
    "start_time": "2021-09-05T10:49:13.627Z"
   },
   {
    "duration": 6,
    "start_time": "2021-09-05T10:49:15.019Z"
   },
   {
    "duration": 32,
    "start_time": "2021-09-05T10:49:18.631Z"
   },
   {
    "duration": 15,
    "start_time": "2021-09-05T10:49:53.998Z"
   },
   {
    "duration": 15,
    "start_time": "2021-09-05T11:01:16.817Z"
   },
   {
    "duration": 12,
    "start_time": "2021-09-05T11:01:19.061Z"
   },
   {
    "duration": 11,
    "start_time": "2021-09-05T11:01:20.581Z"
   },
   {
    "duration": 6,
    "start_time": "2021-09-05T11:01:22.253Z"
   },
   {
    "duration": 31,
    "start_time": "2021-09-05T11:01:24.088Z"
   },
   {
    "duration": 15,
    "start_time": "2021-09-05T11:08:11.392Z"
   },
   {
    "duration": 7,
    "start_time": "2021-09-05T11:08:14.569Z"
   },
   {
    "duration": 10,
    "start_time": "2021-09-05T11:08:17.096Z"
   },
   {
    "duration": 7,
    "start_time": "2021-09-05T11:08:20.617Z"
   },
   {
    "duration": 37,
    "start_time": "2021-09-05T11:08:22.475Z"
   },
   {
    "duration": 25,
    "start_time": "2021-09-05T11:11:28.565Z"
   },
   {
    "duration": 223,
    "start_time": "2021-09-05T11:12:01.256Z"
   },
   {
    "duration": 4,
    "start_time": "2021-09-05T11:12:54.312Z"
   },
   {
    "duration": 21,
    "start_time": "2021-09-05T11:13:08.873Z"
   },
   {
    "duration": 12,
    "start_time": "2021-09-05T11:15:22.090Z"
   },
   {
    "duration": 300,
    "start_time": "2021-09-05T11:16:30.387Z"
   },
   {
    "duration": 224,
    "start_time": "2021-09-05T11:16:45.898Z"
   },
   {
    "duration": 1549,
    "start_time": "2021-09-05T11:20:47.534Z"
   },
   {
    "duration": 13,
    "start_time": "2021-09-05T11:20:49.085Z"
   },
   {
    "duration": 9,
    "start_time": "2021-09-05T11:20:49.100Z"
   },
   {
    "duration": 14,
    "start_time": "2021-09-05T11:20:49.110Z"
   },
   {
    "duration": 2,
    "start_time": "2021-09-05T11:20:49.125Z"
   },
   {
    "duration": 19,
    "start_time": "2021-09-05T11:20:49.128Z"
   },
   {
    "duration": 37,
    "start_time": "2021-09-05T11:20:49.149Z"
   },
   {
    "duration": 4,
    "start_time": "2021-09-05T11:20:49.189Z"
   },
   {
    "duration": 13,
    "start_time": "2021-09-05T11:20:49.195Z"
   },
   {
    "duration": 8,
    "start_time": "2021-09-05T11:20:49.209Z"
   },
   {
    "duration": 8,
    "start_time": "2021-09-05T11:20:49.219Z"
   },
   {
    "duration": 10,
    "start_time": "2021-09-05T11:20:49.228Z"
   },
   {
    "duration": 240,
    "start_time": "2021-09-05T11:20:49.239Z"
   },
   {
    "duration": 8,
    "start_time": "2021-09-05T11:20:49.480Z"
   },
   {
    "duration": 14,
    "start_time": "2021-09-05T11:20:49.490Z"
   },
   {
    "duration": 9,
    "start_time": "2021-09-05T11:20:49.506Z"
   },
   {
    "duration": 164,
    "start_time": "2021-09-05T11:20:49.516Z"
   },
   {
    "duration": 14,
    "start_time": "2021-09-05T11:20:49.684Z"
   },
   {
    "duration": 8,
    "start_time": "2021-09-05T11:20:49.700Z"
   },
   {
    "duration": 233,
    "start_time": "2021-09-05T11:20:49.709Z"
   },
   {
    "duration": 10,
    "start_time": "2021-09-05T11:20:49.944Z"
   },
   {
    "duration": 30,
    "start_time": "2021-09-05T11:20:49.955Z"
   },
   {
    "duration": 4,
    "start_time": "2021-09-05T11:20:49.989Z"
   },
   {
    "duration": 43,
    "start_time": "2021-09-05T11:20:49.995Z"
   },
   {
    "duration": 9,
    "start_time": "2021-09-05T11:20:50.039Z"
   },
   {
    "duration": 180,
    "start_time": "2021-09-05T11:20:50.049Z"
   },
   {
    "duration": 10,
    "start_time": "2021-09-05T11:20:50.230Z"
   },
   {
    "duration": 16,
    "start_time": "2021-09-05T11:20:50.241Z"
   },
   {
    "duration": 230,
    "start_time": "2021-09-05T11:20:50.259Z"
   },
   {
    "duration": 29,
    "start_time": "2021-09-05T11:20:50.491Z"
   },
   {
    "duration": 14,
    "start_time": "2021-09-05T11:20:50.521Z"
   },
   {
    "duration": 7,
    "start_time": "2021-09-05T11:20:50.537Z"
   },
   {
    "duration": 17,
    "start_time": "2021-09-05T11:20:50.546Z"
   },
   {
    "duration": 32,
    "start_time": "2021-09-05T11:20:50.565Z"
   },
   {
    "duration": 14,
    "start_time": "2021-09-05T11:20:50.598Z"
   },
   {
    "duration": 13,
    "start_time": "2021-09-05T11:20:50.613Z"
   },
   {
    "duration": 13,
    "start_time": "2021-09-05T11:20:50.627Z"
   },
   {
    "duration": 29,
    "start_time": "2021-09-05T11:20:50.642Z"
   },
   {
    "duration": 31,
    "start_time": "2021-09-05T11:20:50.673Z"
   },
   {
    "duration": 241,
    "start_time": "2021-09-05T11:20:50.706Z"
   },
   {
    "duration": 4,
    "start_time": "2021-09-05T11:20:50.949Z"
   },
   {
    "duration": 36,
    "start_time": "2021-09-05T11:20:50.955Z"
   },
   {
    "duration": 11,
    "start_time": "2021-09-05T11:20:50.992Z"
   },
   {
    "duration": 224,
    "start_time": "2021-09-05T11:20:51.005Z"
   },
   {
    "duration": 2,
    "start_time": "2021-09-05T11:22:20.380Z"
   },
   {
    "duration": 15,
    "start_time": "2021-09-05T11:25:15.240Z"
   },
   {
    "duration": 10,
    "start_time": "2021-09-05T12:42:21.185Z"
   },
   {
    "duration": 11,
    "start_time": "2021-09-05T12:46:45.006Z"
   },
   {
    "duration": 304,
    "start_time": "2021-09-05T12:46:48.925Z"
   },
   {
    "duration": 15,
    "start_time": "2021-09-05T12:51:09.035Z"
   },
   {
    "duration": 15,
    "start_time": "2021-09-05T12:52:15.714Z"
   },
   {
    "duration": 11,
    "start_time": "2021-09-05T12:53:46.968Z"
   },
   {
    "duration": 4,
    "start_time": "2021-09-05T13:06:33.778Z"
   },
   {
    "duration": 14,
    "start_time": "2021-09-05T13:06:45.652Z"
   },
   {
    "duration": 22,
    "start_time": "2021-09-05T13:07:54.302Z"
   },
   {
    "duration": 371,
    "start_time": "2021-09-05T14:43:50.539Z"
   },
   {
    "duration": 2524,
    "start_time": "2021-09-05T14:44:04.824Z"
   },
   {
    "duration": 23,
    "start_time": "2021-09-05T14:44:07.350Z"
   },
   {
    "duration": 23,
    "start_time": "2021-09-05T14:44:07.378Z"
   },
   {
    "duration": 58,
    "start_time": "2021-09-05T14:44:07.405Z"
   },
   {
    "duration": 4,
    "start_time": "2021-09-05T14:44:07.466Z"
   },
   {
    "duration": 44,
    "start_time": "2021-09-05T14:44:07.473Z"
   },
   {
    "duration": 11,
    "start_time": "2021-09-05T14:44:07.520Z"
   },
   {
    "duration": 10,
    "start_time": "2021-09-05T14:44:07.558Z"
   },
   {
    "duration": 29,
    "start_time": "2021-09-05T14:44:07.573Z"
   },
   {
    "duration": 50,
    "start_time": "2021-09-05T14:44:07.605Z"
   },
   {
    "duration": 15,
    "start_time": "2021-09-05T14:44:07.657Z"
   },
   {
    "duration": 17,
    "start_time": "2021-09-05T14:44:07.674Z"
   },
   {
    "duration": 372,
    "start_time": "2021-09-05T14:44:07.693Z"
   },
   {
    "duration": 9,
    "start_time": "2021-09-05T14:44:08.068Z"
   },
   {
    "duration": 50,
    "start_time": "2021-09-05T14:44:08.080Z"
   },
   {
    "duration": 14,
    "start_time": "2021-09-05T14:44:08.132Z"
   },
   {
    "duration": 239,
    "start_time": "2021-09-05T14:44:08.149Z"
   },
   {
    "duration": 24,
    "start_time": "2021-09-05T14:44:08.391Z"
   },
   {
    "duration": 38,
    "start_time": "2021-09-05T14:44:08.418Z"
   },
   {
    "duration": 360,
    "start_time": "2021-09-05T14:44:08.459Z"
   },
   {
    "duration": 36,
    "start_time": "2021-09-05T14:44:08.821Z"
   },
   {
    "duration": 38,
    "start_time": "2021-09-05T14:44:08.860Z"
   },
   {
    "duration": 12,
    "start_time": "2021-09-05T14:44:08.903Z"
   },
   {
    "duration": 79,
    "start_time": "2021-09-05T14:44:08.918Z"
   },
   {
    "duration": 14,
    "start_time": "2021-09-05T14:44:09.000Z"
   },
   {
    "duration": 290,
    "start_time": "2021-09-05T14:44:09.016Z"
   },
   {
    "duration": 15,
    "start_time": "2021-09-05T14:44:09.308Z"
   },
   {
    "duration": 45,
    "start_time": "2021-09-05T14:44:09.326Z"
   },
   {
    "duration": 368,
    "start_time": "2021-09-05T14:44:09.374Z"
   },
   {
    "duration": 55,
    "start_time": "2021-09-05T14:44:09.744Z"
   },
   {
    "duration": 22,
    "start_time": "2021-09-05T14:44:09.802Z"
   },
   {
    "duration": 33,
    "start_time": "2021-09-05T14:44:09.827Z"
   },
   {
    "duration": 44,
    "start_time": "2021-09-05T14:44:09.863Z"
   },
   {
    "duration": 52,
    "start_time": "2021-09-05T14:44:09.910Z"
   },
   {
    "duration": 38,
    "start_time": "2021-09-05T14:44:09.965Z"
   },
   {
    "duration": 34,
    "start_time": "2021-09-05T14:44:10.005Z"
   },
   {
    "duration": 27,
    "start_time": "2021-09-05T14:44:10.042Z"
   },
   {
    "duration": 58,
    "start_time": "2021-09-05T14:44:10.072Z"
   },
   {
    "duration": 32,
    "start_time": "2021-09-05T14:44:10.133Z"
   },
   {
    "duration": 386,
    "start_time": "2021-09-05T14:44:10.168Z"
   },
   {
    "duration": 6,
    "start_time": "2021-09-05T14:44:10.557Z"
   },
   {
    "duration": 66,
    "start_time": "2021-09-05T14:44:10.566Z"
   },
   {
    "duration": 17,
    "start_time": "2021-09-05T14:44:10.635Z"
   },
   {
    "duration": 368,
    "start_time": "2021-09-05T14:44:10.654Z"
   },
   {
    "duration": 31,
    "start_time": "2021-09-05T14:44:11.024Z"
   },
   {
    "duration": 41,
    "start_time": "2021-09-05T14:44:11.057Z"
   },
   {
    "duration": 20,
    "start_time": "2021-09-05T14:44:11.100Z"
   },
   {
    "duration": 36,
    "start_time": "2021-09-05T14:44:11.123Z"
   },
   {
    "duration": 463,
    "start_time": "2021-09-05T14:47:23.829Z"
   },
   {
    "duration": 29,
    "start_time": "2021-09-05T14:47:45.267Z"
   },
   {
    "duration": 41,
    "start_time": "2021-09-05T14:48:23.412Z"
   },
   {
    "duration": 2400,
    "start_time": "2021-09-05T14:48:52.253Z"
   },
   {
    "duration": 30,
    "start_time": "2021-09-05T14:48:54.656Z"
   },
   {
    "duration": 12,
    "start_time": "2021-09-05T14:48:54.690Z"
   },
   {
    "duration": 55,
    "start_time": "2021-09-05T14:48:54.705Z"
   },
   {
    "duration": 2,
    "start_time": "2021-09-05T14:48:54.763Z"
   },
   {
    "duration": 29,
    "start_time": "2021-09-05T14:48:54.768Z"
   },
   {
    "duration": 9,
    "start_time": "2021-09-05T14:48:54.800Z"
   },
   {
    "duration": 7,
    "start_time": "2021-09-05T14:48:54.854Z"
   },
   {
    "duration": 21,
    "start_time": "2021-09-05T14:48:54.865Z"
   },
   {
    "duration": 13,
    "start_time": "2021-09-05T14:48:54.889Z"
   },
   {
    "duration": 55,
    "start_time": "2021-09-05T14:48:54.905Z"
   },
   {
    "duration": 21,
    "start_time": "2021-09-05T14:48:54.964Z"
   },
   {
    "duration": 437,
    "start_time": "2021-09-05T14:48:54.988Z"
   },
   {
    "duration": 9,
    "start_time": "2021-09-05T14:48:55.428Z"
   },
   {
    "duration": 15,
    "start_time": "2021-09-05T14:48:55.454Z"
   },
   {
    "duration": 14,
    "start_time": "2021-09-05T14:48:55.471Z"
   },
   {
    "duration": 277,
    "start_time": "2021-09-05T14:48:55.488Z"
   },
   {
    "duration": 24,
    "start_time": "2021-09-05T14:48:55.768Z"
   },
   {
    "duration": 21,
    "start_time": "2021-09-05T14:48:55.795Z"
   },
   {
    "duration": 419,
    "start_time": "2021-09-05T14:48:55.819Z"
   },
   {
    "duration": 33,
    "start_time": "2021-09-05T14:48:56.241Z"
   },
   {
    "duration": 34,
    "start_time": "2021-09-05T14:48:56.277Z"
   },
   {
    "duration": 8,
    "start_time": "2021-09-05T14:48:56.316Z"
   },
   {
    "duration": 97,
    "start_time": "2021-09-05T14:48:56.328Z"
   },
   {
    "duration": 28,
    "start_time": "2021-09-05T14:48:56.429Z"
   },
   {
    "duration": 338,
    "start_time": "2021-09-05T14:48:56.460Z"
   },
   {
    "duration": 21,
    "start_time": "2021-09-05T14:48:56.801Z"
   },
   {
    "duration": 59,
    "start_time": "2021-09-05T14:48:56.825Z"
   },
   {
    "duration": 541,
    "start_time": "2021-09-05T14:48:56.887Z"
   },
   {
    "duration": 85,
    "start_time": "2021-09-05T14:48:57.432Z"
   },
   {
    "duration": 47,
    "start_time": "2021-09-05T14:48:57.520Z"
   },
   {
    "duration": 19,
    "start_time": "2021-09-05T14:48:57.571Z"
   },
   {
    "duration": 39,
    "start_time": "2021-09-05T14:48:57.593Z"
   },
   {
    "duration": 52,
    "start_time": "2021-09-05T14:48:57.635Z"
   },
   {
    "duration": 12,
    "start_time": "2021-09-05T14:48:57.689Z"
   },
   {
    "duration": 24,
    "start_time": "2021-09-05T14:48:57.704Z"
   },
   {
    "duration": 30,
    "start_time": "2021-09-05T14:48:57.731Z"
   },
   {
    "duration": 72,
    "start_time": "2021-09-05T14:48:57.764Z"
   },
   {
    "duration": 40,
    "start_time": "2021-09-05T14:48:57.838Z"
   },
   {
    "duration": 387,
    "start_time": "2021-09-05T14:48:57.880Z"
   },
   {
    "duration": 6,
    "start_time": "2021-09-05T14:48:58.270Z"
   },
   {
    "duration": 48,
    "start_time": "2021-09-05T14:48:58.278Z"
   },
   {
    "duration": 33,
    "start_time": "2021-09-05T14:48:58.328Z"
   },
   {
    "duration": 402,
    "start_time": "2021-09-05T14:48:58.363Z"
   },
   {
    "duration": 17,
    "start_time": "2021-09-05T14:48:58.768Z"
   },
   {
    "duration": 42,
    "start_time": "2021-09-05T14:48:58.788Z"
   },
   {
    "duration": 52,
    "start_time": "2021-09-05T14:48:58.833Z"
   },
   {
    "duration": 31,
    "start_time": "2021-09-05T14:48:58.887Z"
   },
   {
    "duration": 35,
    "start_time": "2021-09-05T14:48:58.920Z"
   },
   {
    "duration": 28,
    "start_time": "2021-09-05T14:49:29.710Z"
   },
   {
    "duration": 47,
    "start_time": "2021-09-05T14:50:03.917Z"
   },
   {
    "duration": 20,
    "start_time": "2021-09-05T14:50:10.708Z"
   },
   {
    "duration": 13,
    "start_time": "2021-09-05T14:50:25.402Z"
   },
   {
    "duration": 12,
    "start_time": "2021-09-05T14:50:27.560Z"
   },
   {
    "duration": 24,
    "start_time": "2021-09-05T14:50:37.064Z"
   },
   {
    "duration": 12,
    "start_time": "2021-09-05T14:50:41.791Z"
   },
   {
    "duration": 48,
    "start_time": "2021-09-05T14:50:55.573Z"
   },
   {
    "duration": 43,
    "start_time": "2021-09-05T14:51:55.319Z"
   },
   {
    "duration": 34,
    "start_time": "2021-09-05T14:52:15.438Z"
   },
   {
    "duration": 103,
    "start_time": "2021-09-05T14:58:05.669Z"
   },
   {
    "duration": 87,
    "start_time": "2021-09-05T14:58:13.718Z"
   },
   {
    "duration": 739,
    "start_time": "2021-09-05T14:58:22.111Z"
   },
   {
    "duration": 308,
    "start_time": "2021-09-05T14:58:43.535Z"
   },
   {
    "duration": 2278,
    "start_time": "2021-09-05T14:58:52.662Z"
   },
   {
    "duration": 20,
    "start_time": "2021-09-05T14:58:54.943Z"
   },
   {
    "duration": 17,
    "start_time": "2021-09-05T14:58:54.966Z"
   },
   {
    "duration": 22,
    "start_time": "2021-09-05T14:58:54.986Z"
   },
   {
    "duration": 3,
    "start_time": "2021-09-05T14:58:55.010Z"
   },
   {
    "duration": 64,
    "start_time": "2021-09-05T14:58:55.015Z"
   },
   {
    "duration": 9,
    "start_time": "2021-09-05T14:58:55.081Z"
   },
   {
    "duration": 13,
    "start_time": "2021-09-05T14:58:55.094Z"
   },
   {
    "duration": 59,
    "start_time": "2021-09-05T14:58:55.110Z"
   },
   {
    "duration": 13,
    "start_time": "2021-09-05T14:58:55.171Z"
   },
   {
    "duration": 12,
    "start_time": "2021-09-05T14:58:55.186Z"
   },
   {
    "duration": 56,
    "start_time": "2021-09-05T14:58:55.201Z"
   },
   {
    "duration": 349,
    "start_time": "2021-09-05T14:58:55.260Z"
   },
   {
    "duration": 9,
    "start_time": "2021-09-05T14:58:55.612Z"
   },
   {
    "duration": 37,
    "start_time": "2021-09-05T14:58:55.624Z"
   },
   {
    "duration": 13,
    "start_time": "2021-09-05T14:58:55.664Z"
   },
   {
    "duration": 252,
    "start_time": "2021-09-05T14:58:55.680Z"
   },
   {
    "duration": 33,
    "start_time": "2021-09-05T14:58:55.935Z"
   },
   {
    "duration": 13,
    "start_time": "2021-09-05T14:58:55.971Z"
   },
   {
    "duration": 360,
    "start_time": "2021-09-05T14:58:55.987Z"
   },
   {
    "duration": 14,
    "start_time": "2021-09-05T14:58:56.350Z"
   },
   {
    "duration": 25,
    "start_time": "2021-09-05T14:58:56.367Z"
   },
   {
    "duration": 7,
    "start_time": "2021-09-05T14:58:56.397Z"
   },
   {
    "duration": 109,
    "start_time": "2021-09-05T14:58:56.407Z"
   },
   {
    "duration": 19,
    "start_time": "2021-09-05T14:58:56.518Z"
   },
   {
    "duration": 272,
    "start_time": "2021-09-05T14:58:56.555Z"
   },
   {
    "duration": 14,
    "start_time": "2021-09-05T14:58:56.830Z"
   },
   {
    "duration": 24,
    "start_time": "2021-09-05T14:58:56.855Z"
   },
   {
    "duration": 375,
    "start_time": "2021-09-05T14:58:56.882Z"
   },
   {
    "duration": 50,
    "start_time": "2021-09-05T14:58:57.260Z"
   },
   {
    "duration": 47,
    "start_time": "2021-09-05T14:58:57.313Z"
   },
   {
    "duration": 13,
    "start_time": "2021-09-05T14:58:57.363Z"
   },
   {
    "duration": 24,
    "start_time": "2021-09-05T14:58:57.378Z"
   },
   {
    "duration": 36,
    "start_time": "2021-09-05T14:58:57.404Z"
   },
   {
    "duration": 18,
    "start_time": "2021-09-05T14:58:57.456Z"
   },
   {
    "duration": 24,
    "start_time": "2021-09-05T14:58:57.477Z"
   },
   {
    "duration": 12,
    "start_time": "2021-09-05T14:58:57.504Z"
   },
   {
    "duration": 91,
    "start_time": "2021-09-05T14:58:57.520Z"
   },
   {
    "duration": 53,
    "start_time": "2021-09-05T14:58:57.614Z"
   },
   {
    "duration": 379,
    "start_time": "2021-09-05T14:58:57.670Z"
   },
   {
    "duration": 6,
    "start_time": "2021-09-05T14:58:58.055Z"
   },
   {
    "duration": 64,
    "start_time": "2021-09-05T14:58:58.064Z"
   },
   {
    "duration": 46,
    "start_time": "2021-09-05T14:58:58.131Z"
   },
   {
    "duration": 599,
    "start_time": "2021-09-05T14:58:58.180Z"
   },
   {
    "duration": 7,
    "start_time": "2021-09-05T14:58:58.782Z"
   },
   {
    "duration": 12,
    "start_time": "2021-09-05T14:58:58.792Z"
   },
   {
    "duration": 6,
    "start_time": "2021-09-05T14:59:06.368Z"
   },
   {
    "duration": 4,
    "start_time": "2021-09-05T14:59:07.111Z"
   },
   {
    "duration": 6,
    "start_time": "2021-09-05T14:59:20.861Z"
   },
   {
    "duration": 16,
    "start_time": "2021-09-05T14:59:49.695Z"
   },
   {
    "duration": 21,
    "start_time": "2021-09-05T15:01:07.303Z"
   },
   {
    "duration": 18,
    "start_time": "2021-09-05T15:02:31.849Z"
   },
   {
    "duration": 2305,
    "start_time": "2021-09-05T15:04:03.406Z"
   },
   {
    "duration": 14,
    "start_time": "2021-09-05T15:06:44.156Z"
   },
   {
    "duration": 4965,
    "start_time": "2021-09-05T15:11:25.580Z"
   },
   {
    "duration": 13,
    "start_time": "2021-09-05T15:13:19.338Z"
   },
   {
    "duration": 17,
    "start_time": "2021-09-05T15:14:25.637Z"
   },
   {
    "duration": 39,
    "start_time": "2021-09-05T15:15:21.739Z"
   },
   {
    "duration": 42,
    "start_time": "2021-09-05T15:16:49.088Z"
   },
   {
    "duration": 13,
    "start_time": "2021-09-05T15:16:52.734Z"
   },
   {
    "duration": 2646,
    "start_time": "2021-09-05T15:17:08.736Z"
   },
   {
    "duration": 22,
    "start_time": "2021-09-05T15:17:11.385Z"
   },
   {
    "duration": 24,
    "start_time": "2021-09-05T15:17:11.412Z"
   },
   {
    "duration": 45,
    "start_time": "2021-09-05T15:17:11.440Z"
   },
   {
    "duration": 37,
    "start_time": "2021-09-05T15:17:11.488Z"
   },
   {
    "duration": 32,
    "start_time": "2021-09-05T15:17:11.529Z"
   },
   {
    "duration": 15,
    "start_time": "2021-09-05T15:17:11.563Z"
   },
   {
    "duration": 36,
    "start_time": "2021-09-05T15:17:11.584Z"
   },
   {
    "duration": 31,
    "start_time": "2021-09-05T15:17:11.625Z"
   },
   {
    "duration": 21,
    "start_time": "2021-09-05T15:17:11.659Z"
   },
   {
    "duration": 42,
    "start_time": "2021-09-05T15:17:11.682Z"
   },
   {
    "duration": 351,
    "start_time": "2021-09-05T15:17:11.728Z"
   },
   {
    "duration": 11,
    "start_time": "2021-09-05T15:17:12.083Z"
   },
   {
    "duration": 32,
    "start_time": "2021-09-05T15:17:12.097Z"
   },
   {
    "duration": 33,
    "start_time": "2021-09-05T15:17:12.131Z"
   },
   {
    "duration": 254,
    "start_time": "2021-09-05T15:17:12.166Z"
   },
   {
    "duration": 43,
    "start_time": "2021-09-05T15:17:12.423Z"
   },
   {
    "duration": 29,
    "start_time": "2021-09-05T15:17:12.469Z"
   },
   {
    "duration": 365,
    "start_time": "2021-09-05T15:17:12.501Z"
   },
   {
    "duration": 15,
    "start_time": "2021-09-05T15:17:12.868Z"
   },
   {
    "duration": 48,
    "start_time": "2021-09-05T15:17:12.886Z"
   },
   {
    "duration": 7,
    "start_time": "2021-09-05T15:17:12.936Z"
   },
   {
    "duration": 66,
    "start_time": "2021-09-05T15:17:12.957Z"
   },
   {
    "duration": 36,
    "start_time": "2021-09-05T15:17:13.027Z"
   },
   {
    "duration": 268,
    "start_time": "2021-09-05T15:17:13.066Z"
   },
   {
    "duration": 26,
    "start_time": "2021-09-05T15:17:13.337Z"
   },
   {
    "duration": 25,
    "start_time": "2021-09-05T15:17:13.366Z"
   },
   {
    "duration": 378,
    "start_time": "2021-09-05T15:17:13.393Z"
   },
   {
    "duration": 42,
    "start_time": "2021-09-05T15:17:13.773Z"
   },
   {
    "duration": 44,
    "start_time": "2021-09-05T15:17:13.817Z"
   },
   {
    "duration": 18,
    "start_time": "2021-09-05T15:17:13.863Z"
   },
   {
    "duration": 52,
    "start_time": "2021-09-05T15:17:13.884Z"
   },
   {
    "duration": 49,
    "start_time": "2021-09-05T15:17:13.939Z"
   },
   {
    "duration": 32,
    "start_time": "2021-09-05T15:17:13.990Z"
   },
   {
    "duration": 21,
    "start_time": "2021-09-05T15:17:14.025Z"
   },
   {
    "duration": 14,
    "start_time": "2021-09-05T15:17:14.049Z"
   },
   {
    "duration": 72,
    "start_time": "2021-09-05T15:17:14.065Z"
   },
   {
    "duration": 31,
    "start_time": "2021-09-05T15:17:14.140Z"
   },
   {
    "duration": 375,
    "start_time": "2021-09-05T15:17:14.174Z"
   },
   {
    "duration": 6,
    "start_time": "2021-09-05T15:17:14.554Z"
   },
   {
    "duration": 40,
    "start_time": "2021-09-05T15:17:14.563Z"
   },
   {
    "duration": 16,
    "start_time": "2021-09-05T15:17:14.606Z"
   },
   {
    "duration": 381,
    "start_time": "2021-09-05T15:17:14.654Z"
   },
   {
    "duration": 17,
    "start_time": "2021-09-05T15:17:15.038Z"
   },
   {
    "duration": 19,
    "start_time": "2021-09-05T15:17:15.057Z"
   },
   {
    "duration": 18,
    "start_time": "2021-09-05T15:17:15.078Z"
   },
   {
    "duration": 25,
    "start_time": "2021-09-05T15:18:05.304Z"
   },
   {
    "duration": 23,
    "start_time": "2021-09-05T15:20:35.289Z"
   },
   {
    "duration": 24,
    "start_time": "2021-09-05T15:21:23.234Z"
   },
   {
    "duration": 19,
    "start_time": "2021-09-05T15:21:35.966Z"
   },
   {
    "duration": 12,
    "start_time": "2021-09-05T15:24:58.303Z"
   },
   {
    "duration": 15,
    "start_time": "2021-09-05T15:25:10.951Z"
   },
   {
    "duration": 40,
    "start_time": "2021-09-05T15:25:39.802Z"
   },
   {
    "duration": 12,
    "start_time": "2021-09-05T15:25:46.488Z"
   },
   {
    "duration": 13,
    "start_time": "2021-09-05T15:26:02.486Z"
   },
   {
    "duration": 11,
    "start_time": "2021-09-05T15:26:17.838Z"
   },
   {
    "duration": 185,
    "start_time": "2021-09-05T15:26:27.672Z"
   },
   {
    "duration": 2366,
    "start_time": "2021-09-05T15:26:37.341Z"
   },
   {
    "duration": 21,
    "start_time": "2021-09-05T15:26:39.710Z"
   },
   {
    "duration": 35,
    "start_time": "2021-09-05T15:26:39.734Z"
   },
   {
    "duration": 36,
    "start_time": "2021-09-05T15:26:39.772Z"
   },
   {
    "duration": 31,
    "start_time": "2021-09-05T15:26:39.810Z"
   },
   {
    "duration": 18,
    "start_time": "2021-09-05T15:26:39.843Z"
   },
   {
    "duration": 31,
    "start_time": "2021-09-05T15:26:39.864Z"
   },
   {
    "duration": 31,
    "start_time": "2021-09-05T15:26:39.898Z"
   },
   {
    "duration": 28,
    "start_time": "2021-09-05T15:26:39.932Z"
   },
   {
    "duration": 31,
    "start_time": "2021-09-05T15:26:39.964Z"
   },
   {
    "duration": 30,
    "start_time": "2021-09-05T15:26:39.997Z"
   },
   {
    "duration": 406,
    "start_time": "2021-09-05T15:26:40.029Z"
   },
   {
    "duration": 16,
    "start_time": "2021-09-05T15:26:40.438Z"
   },
   {
    "duration": 28,
    "start_time": "2021-09-05T15:26:40.457Z"
   },
   {
    "duration": 34,
    "start_time": "2021-09-05T15:26:40.488Z"
   },
   {
    "duration": 254,
    "start_time": "2021-09-05T15:26:40.525Z"
   },
   {
    "duration": 24,
    "start_time": "2021-09-05T15:26:40.781Z"
   },
   {
    "duration": 14,
    "start_time": "2021-09-05T15:26:40.807Z"
   },
   {
    "duration": 408,
    "start_time": "2021-09-05T15:26:40.824Z"
   },
   {
    "duration": 24,
    "start_time": "2021-09-05T15:26:41.234Z"
   },
   {
    "duration": 48,
    "start_time": "2021-09-05T15:26:41.260Z"
   },
   {
    "duration": 19,
    "start_time": "2021-09-05T15:26:41.311Z"
   },
   {
    "duration": 93,
    "start_time": "2021-09-05T15:26:41.336Z"
   },
   {
    "duration": 13,
    "start_time": "2021-09-05T15:26:41.433Z"
   },
   {
    "duration": 286,
    "start_time": "2021-09-05T15:26:41.455Z"
   },
   {
    "duration": 23,
    "start_time": "2021-09-05T15:26:41.744Z"
   },
   {
    "duration": 37,
    "start_time": "2021-09-05T15:26:41.771Z"
   },
   {
    "duration": 554,
    "start_time": "2021-09-05T15:26:41.811Z"
   },
   {
    "duration": 47,
    "start_time": "2021-09-05T15:26:42.368Z"
   },
   {
    "duration": 40,
    "start_time": "2021-09-05T15:26:42.417Z"
   },
   {
    "duration": 32,
    "start_time": "2021-09-05T15:26:42.460Z"
   },
   {
    "duration": 11,
    "start_time": "2021-09-05T15:26:42.495Z"
   },
   {
    "duration": 19,
    "start_time": "2021-09-05T15:26:42.509Z"
   },
   {
    "duration": 35,
    "start_time": "2021-09-05T15:26:42.556Z"
   },
   {
    "duration": 16,
    "start_time": "2021-09-05T15:26:42.594Z"
   },
   {
    "duration": 45,
    "start_time": "2021-09-05T15:26:42.612Z"
   },
   {
    "duration": 11,
    "start_time": "2021-09-05T15:26:42.660Z"
   },
   {
    "duration": 48,
    "start_time": "2021-09-05T15:26:42.678Z"
   },
   {
    "duration": 66,
    "start_time": "2021-09-05T15:26:42.728Z"
   },
   {
    "duration": 421,
    "start_time": "2021-09-05T15:26:42.797Z"
   },
   {
    "duration": 6,
    "start_time": "2021-09-05T15:26:43.220Z"
   },
   {
    "duration": 60,
    "start_time": "2021-09-05T15:26:43.229Z"
   },
   {
    "duration": 17,
    "start_time": "2021-09-05T15:26:43.292Z"
   },
   {
    "duration": 581,
    "start_time": "2021-09-05T15:26:43.311Z"
   },
   {
    "duration": 35,
    "start_time": "2021-09-05T15:26:43.896Z"
   },
   {
    "duration": 45,
    "start_time": "2021-09-05T15:26:43.934Z"
   },
   {
    "duration": 17,
    "start_time": "2021-09-05T15:27:34.537Z"
   },
   {
    "duration": 46,
    "start_time": "2021-09-05T15:28:00.187Z"
   },
   {
    "duration": 80,
    "start_time": "2021-09-05T15:28:04.941Z"
   },
   {
    "duration": 12,
    "start_time": "2021-09-05T15:28:16.732Z"
   },
   {
    "duration": 12,
    "start_time": "2021-09-05T15:28:24.973Z"
   },
   {
    "duration": 2282,
    "start_time": "2021-09-05T15:28:34.963Z"
   },
   {
    "duration": 27,
    "start_time": "2021-09-05T15:28:37.247Z"
   },
   {
    "duration": 27,
    "start_time": "2021-09-05T15:28:37.278Z"
   },
   {
    "duration": 50,
    "start_time": "2021-09-05T15:28:37.308Z"
   },
   {
    "duration": 41,
    "start_time": "2021-09-05T15:28:37.362Z"
   },
   {
    "duration": 9,
    "start_time": "2021-09-05T15:28:37.406Z"
   },
   {
    "duration": 36,
    "start_time": "2021-09-05T15:28:37.418Z"
   },
   {
    "duration": 39,
    "start_time": "2021-09-05T15:28:37.459Z"
   },
   {
    "duration": 27,
    "start_time": "2021-09-05T15:28:37.501Z"
   },
   {
    "duration": 29,
    "start_time": "2021-09-05T15:28:37.531Z"
   },
   {
    "duration": 26,
    "start_time": "2021-09-05T15:28:37.564Z"
   },
   {
    "duration": 385,
    "start_time": "2021-09-05T15:28:37.592Z"
   },
   {
    "duration": 9,
    "start_time": "2021-09-05T15:28:37.980Z"
   },
   {
    "duration": 25,
    "start_time": "2021-09-05T15:28:37.991Z"
   },
   {
    "duration": 37,
    "start_time": "2021-09-05T15:28:38.019Z"
   },
   {
    "duration": 371,
    "start_time": "2021-09-05T15:28:38.060Z"
   },
   {
    "duration": 49,
    "start_time": "2021-09-05T15:28:38.434Z"
   },
   {
    "duration": 18,
    "start_time": "2021-09-05T15:28:38.488Z"
   },
   {
    "duration": 391,
    "start_time": "2021-09-05T15:28:38.509Z"
   },
   {
    "duration": 15,
    "start_time": "2021-09-05T15:28:38.904Z"
   },
   {
    "duration": 50,
    "start_time": "2021-09-05T15:28:38.923Z"
   },
   {
    "duration": 18,
    "start_time": "2021-09-05T15:28:38.976Z"
   },
   {
    "duration": 89,
    "start_time": "2021-09-05T15:28:38.999Z"
   },
   {
    "duration": 15,
    "start_time": "2021-09-05T15:28:39.092Z"
   },
   {
    "duration": 351,
    "start_time": "2021-09-05T15:28:39.110Z"
   },
   {
    "duration": 20,
    "start_time": "2021-09-05T15:28:39.465Z"
   },
   {
    "duration": 44,
    "start_time": "2021-09-05T15:28:39.488Z"
   },
   {
    "duration": 389,
    "start_time": "2021-09-05T15:28:39.535Z"
   },
   {
    "duration": 57,
    "start_time": "2021-09-05T15:28:39.927Z"
   },
   {
    "duration": 21,
    "start_time": "2021-09-05T15:28:39.987Z"
   },
   {
    "duration": 48,
    "start_time": "2021-09-05T15:28:40.011Z"
   },
   {
    "duration": 20,
    "start_time": "2021-09-05T15:28:40.062Z"
   },
   {
    "duration": 38,
    "start_time": "2021-09-05T15:28:40.084Z"
   },
   {
    "duration": 53,
    "start_time": "2021-09-05T15:28:40.124Z"
   },
   {
    "duration": 44,
    "start_time": "2021-09-05T15:28:40.179Z"
   },
   {
    "duration": 36,
    "start_time": "2021-09-05T15:28:40.227Z"
   },
   {
    "duration": 37,
    "start_time": "2021-09-05T15:28:40.267Z"
   },
   {
    "duration": 114,
    "start_time": "2021-09-05T15:28:40.307Z"
   },
   {
    "duration": 55,
    "start_time": "2021-09-05T15:28:40.424Z"
   },
   {
    "duration": 566,
    "start_time": "2021-09-05T15:28:40.482Z"
   },
   {
    "duration": 7,
    "start_time": "2021-09-05T15:28:41.051Z"
   },
   {
    "duration": 70,
    "start_time": "2021-09-05T15:28:41.061Z"
   },
   {
    "duration": 35,
    "start_time": "2021-09-05T15:28:41.134Z"
   },
   {
    "duration": 498,
    "start_time": "2021-09-05T15:28:41.171Z"
   },
   {
    "duration": 22,
    "start_time": "2021-09-05T15:28:41.672Z"
   },
   {
    "duration": 20,
    "start_time": "2021-09-05T15:28:41.697Z"
   },
   {
    "duration": 18,
    "start_time": "2021-09-05T15:32:32.350Z"
   },
   {
    "duration": 37,
    "start_time": "2021-09-05T15:33:45.879Z"
   },
   {
    "duration": 17,
    "start_time": "2021-09-05T15:36:53.678Z"
   },
   {
    "duration": 18,
    "start_time": "2021-09-05T15:37:03.487Z"
   },
   {
    "duration": 13,
    "start_time": "2021-09-05T15:37:23.739Z"
   },
   {
    "duration": 12,
    "start_time": "2021-09-05T15:38:58.805Z"
   },
   {
    "duration": 118,
    "start_time": "2021-09-05T15:39:04.365Z"
   },
   {
    "duration": 16,
    "start_time": "2021-09-05T15:39:11.782Z"
   },
   {
    "duration": 18,
    "start_time": "2021-09-05T15:41:09.277Z"
   },
   {
    "duration": 123,
    "start_time": "2021-09-05T15:43:21.964Z"
   },
   {
    "duration": 3475,
    "start_time": "2021-09-05T15:56:34.565Z"
   },
   {
    "duration": 18,
    "start_time": "2021-09-05T15:58:02.136Z"
   },
   {
    "duration": 92,
    "start_time": "2021-09-05T15:59:42.844Z"
   },
   {
    "duration": 33,
    "start_time": "2021-09-05T15:59:52.261Z"
   },
   {
    "duration": 246,
    "start_time": "2021-09-05T16:05:42.035Z"
   },
   {
    "duration": 16,
    "start_time": "2021-09-05T16:05:44.091Z"
   },
   {
    "duration": 15,
    "start_time": "2021-09-05T16:05:48.443Z"
   },
   {
    "duration": 21,
    "start_time": "2021-09-05T16:05:51.003Z"
   },
   {
    "duration": 30,
    "start_time": "2021-09-05T16:06:01.040Z"
   },
   {
    "duration": 7,
    "start_time": "2021-09-05T16:10:25.791Z"
   },
   {
    "duration": 19,
    "start_time": "2021-09-05T16:24:36.882Z"
   },
   {
    "duration": 2237,
    "start_time": "2021-09-05T16:25:41.329Z"
   },
   {
    "duration": 34,
    "start_time": "2021-09-05T16:25:43.571Z"
   },
   {
    "duration": 45,
    "start_time": "2021-09-05T16:25:43.609Z"
   },
   {
    "duration": 27,
    "start_time": "2021-09-05T16:25:43.658Z"
   },
   {
    "duration": 26,
    "start_time": "2021-09-05T16:25:43.687Z"
   },
   {
    "duration": 949,
    "start_time": "2021-09-05T16:25:43.716Z"
   },
   {
    "duration": 66,
    "start_time": "2021-09-05T16:25:44.606Z"
   },
   {
    "duration": 64,
    "start_time": "2021-09-05T16:25:44.610Z"
   },
   {
    "duration": 62,
    "start_time": "2021-09-05T16:25:44.613Z"
   },
   {
    "duration": 61,
    "start_time": "2021-09-05T16:25:44.616Z"
   },
   {
    "duration": 59,
    "start_time": "2021-09-05T16:25:44.619Z"
   },
   {
    "duration": 57,
    "start_time": "2021-09-05T16:25:44.622Z"
   },
   {
    "duration": 55,
    "start_time": "2021-09-05T16:25:44.625Z"
   },
   {
    "duration": 53,
    "start_time": "2021-09-05T16:25:44.628Z"
   },
   {
    "duration": 51,
    "start_time": "2021-09-05T16:25:44.631Z"
   },
   {
    "duration": 50,
    "start_time": "2021-09-05T16:25:44.633Z"
   },
   {
    "duration": 6,
    "start_time": "2021-09-05T16:25:44.678Z"
   },
   {
    "duration": 3,
    "start_time": "2021-09-05T16:25:44.682Z"
   },
   {
    "duration": 2,
    "start_time": "2021-09-05T16:25:44.685Z"
   },
   {
    "duration": -1,
    "start_time": "2021-09-05T16:25:44.690Z"
   },
   {
    "duration": -4,
    "start_time": "2021-09-05T16:25:44.694Z"
   },
   {
    "duration": -9,
    "start_time": "2021-09-05T16:25:44.700Z"
   },
   {
    "duration": -57,
    "start_time": "2021-09-05T16:25:44.750Z"
   },
   {
    "duration": -60,
    "start_time": "2021-09-05T16:25:44.754Z"
   },
   {
    "duration": -63,
    "start_time": "2021-09-05T16:25:44.758Z"
   },
   {
    "duration": -65,
    "start_time": "2021-09-05T16:25:44.762Z"
   },
   {
    "duration": -67,
    "start_time": "2021-09-05T16:25:44.765Z"
   },
   {
    "duration": -69,
    "start_time": "2021-09-05T16:25:44.768Z"
   },
   {
    "duration": -70,
    "start_time": "2021-09-05T16:25:44.771Z"
   },
   {
    "duration": -73,
    "start_time": "2021-09-05T16:25:44.775Z"
   },
   {
    "duration": -74,
    "start_time": "2021-09-05T16:25:44.778Z"
   },
   {
    "duration": -77,
    "start_time": "2021-09-05T16:25:44.782Z"
   },
   {
    "duration": -78,
    "start_time": "2021-09-05T16:25:44.785Z"
   },
   {
    "duration": -81,
    "start_time": "2021-09-05T16:25:44.789Z"
   },
   {
    "duration": -82,
    "start_time": "2021-09-05T16:25:44.792Z"
   },
   {
    "duration": -42,
    "start_time": "2021-09-05T16:25:44.796Z"
   },
   {
    "duration": -44,
    "start_time": "2021-09-05T16:25:44.800Z"
   },
   {
    "duration": -46,
    "start_time": "2021-09-05T16:25:44.804Z"
   },
   {
    "duration": -48,
    "start_time": "2021-09-05T16:25:44.807Z"
   },
   {
    "duration": -51,
    "start_time": "2021-09-05T16:25:44.811Z"
   },
   {
    "duration": -91,
    "start_time": "2021-09-05T16:25:44.852Z"
   },
   {
    "duration": -94,
    "start_time": "2021-09-05T16:25:44.856Z"
   },
   {
    "duration": -97,
    "start_time": "2021-09-05T16:25:44.861Z"
   },
   {
    "duration": -100,
    "start_time": "2021-09-05T16:25:44.865Z"
   },
   {
    "duration": -102,
    "start_time": "2021-09-05T16:25:44.868Z"
   },
   {
    "duration": -105,
    "start_time": "2021-09-05T16:25:44.872Z"
   },
   {
    "duration": -107,
    "start_time": "2021-09-05T16:25:44.875Z"
   },
   {
    "duration": -110,
    "start_time": "2021-09-05T16:25:44.879Z"
   },
   {
    "duration": -112,
    "start_time": "2021-09-05T16:25:44.882Z"
   },
   {
    "duration": -114,
    "start_time": "2021-09-05T16:25:44.886Z"
   },
   {
    "duration": 289,
    "start_time": "2021-09-05T16:26:00.365Z"
   },
   {
    "duration": 274,
    "start_time": "2021-09-05T16:26:12.093Z"
   },
   {
    "duration": 291,
    "start_time": "2021-09-05T16:27:01.010Z"
   },
   {
    "duration": 332,
    "start_time": "2021-09-05T16:27:07.706Z"
   },
   {
    "duration": 25,
    "start_time": "2021-09-05T16:27:08.971Z"
   },
   {
    "duration": 17,
    "start_time": "2021-09-05T16:27:11.164Z"
   },
   {
    "duration": 26,
    "start_time": "2021-09-05T16:27:14.749Z"
   },
   {
    "duration": 29,
    "start_time": "2021-09-05T16:27:20.268Z"
   },
   {
    "duration": 11,
    "start_time": "2021-09-05T16:27:23.967Z"
   },
   {
    "duration": 9,
    "start_time": "2021-09-05T16:27:26.574Z"
   },
   {
    "duration": 19,
    "start_time": "2021-09-05T16:27:28.678Z"
   },
   {
    "duration": 2266,
    "start_time": "2021-09-05T16:27:38.463Z"
   },
   {
    "duration": 22,
    "start_time": "2021-09-05T16:27:40.732Z"
   },
   {
    "duration": 20,
    "start_time": "2021-09-05T16:27:40.757Z"
   },
   {
    "duration": 23,
    "start_time": "2021-09-05T16:27:40.781Z"
   },
   {
    "duration": 61,
    "start_time": "2021-09-05T16:27:40.807Z"
   },
   {
    "duration": 12,
    "start_time": "2021-09-05T16:27:40.871Z"
   },
   {
    "duration": 14,
    "start_time": "2021-09-05T16:27:40.885Z"
   },
   {
    "duration": 20,
    "start_time": "2021-09-05T16:27:40.901Z"
   },
   {
    "duration": 18,
    "start_time": "2021-09-05T16:27:40.959Z"
   },
   {
    "duration": 10,
    "start_time": "2021-09-05T16:27:40.980Z"
   },
   {
    "duration": 34,
    "start_time": "2021-09-05T16:27:40.993Z"
   },
   {
    "duration": 405,
    "start_time": "2021-09-05T16:27:41.030Z"
   },
   {
    "duration": 20,
    "start_time": "2021-09-05T16:27:41.437Z"
   },
   {
    "duration": 20,
    "start_time": "2021-09-05T16:27:41.461Z"
   },
   {
    "duration": 15,
    "start_time": "2021-09-05T16:27:41.484Z"
   },
   {
    "duration": 287,
    "start_time": "2021-09-05T16:27:41.501Z"
   },
   {
    "duration": 22,
    "start_time": "2021-09-05T16:27:41.791Z"
   },
   {
    "duration": 45,
    "start_time": "2021-09-05T16:27:41.816Z"
   },
   {
    "duration": 366,
    "start_time": "2021-09-05T16:27:41.864Z"
   },
   {
    "duration": 24,
    "start_time": "2021-09-05T16:27:42.233Z"
   },
   {
    "duration": 25,
    "start_time": "2021-09-05T16:27:42.260Z"
   },
   {
    "duration": 7,
    "start_time": "2021-09-05T16:27:42.288Z"
   },
   {
    "duration": 118,
    "start_time": "2021-09-05T16:27:42.298Z"
   },
   {
    "duration": 15,
    "start_time": "2021-09-05T16:27:42.419Z"
   },
   {
    "duration": 275,
    "start_time": "2021-09-05T16:27:42.456Z"
   },
   {
    "duration": 23,
    "start_time": "2021-09-05T16:27:42.734Z"
   },
   {
    "duration": 32,
    "start_time": "2021-09-05T16:27:42.764Z"
   },
   {
    "duration": 520,
    "start_time": "2021-09-05T16:27:42.799Z"
   },
   {
    "duration": 63,
    "start_time": "2021-09-05T16:27:43.323Z"
   },
   {
    "duration": 38,
    "start_time": "2021-09-05T16:27:43.389Z"
   },
   {
    "duration": 19,
    "start_time": "2021-09-05T16:27:43.455Z"
   },
   {
    "duration": 15,
    "start_time": "2021-09-05T16:27:43.477Z"
   },
   {
    "duration": 27,
    "start_time": "2021-09-05T16:27:43.494Z"
   },
   {
    "duration": 52,
    "start_time": "2021-09-05T16:27:43.523Z"
   },
   {
    "duration": 16,
    "start_time": "2021-09-05T16:27:43.578Z"
   },
   {
    "duration": 10,
    "start_time": "2021-09-05T16:27:43.596Z"
   },
   {
    "duration": 96,
    "start_time": "2021-09-05T16:27:43.608Z"
   },
   {
    "duration": 32,
    "start_time": "2021-09-05T16:27:43.707Z"
   },
   {
    "duration": 476,
    "start_time": "2021-09-05T16:27:43.755Z"
   },
   {
    "duration": 6,
    "start_time": "2021-09-05T16:27:44.233Z"
   },
   {
    "duration": 45,
    "start_time": "2021-09-05T16:27:44.253Z"
   },
   {
    "duration": 18,
    "start_time": "2021-09-05T16:27:44.301Z"
   },
   {
    "duration": 422,
    "start_time": "2021-09-05T16:27:44.321Z"
   },
   {
    "duration": 23,
    "start_time": "2021-09-05T16:27:44.754Z"
   },
   {
    "duration": 17,
    "start_time": "2021-09-05T16:27:44.780Z"
   },
   {
    "duration": 57,
    "start_time": "2021-09-05T16:27:44.800Z"
   },
   {
    "duration": 24,
    "start_time": "2021-09-05T16:27:44.860Z"
   },
   {
    "duration": 18,
    "start_time": "2021-09-05T16:27:44.886Z"
   },
   {
    "duration": 180,
    "start_time": "2021-09-05T16:27:44.907Z"
   },
   {
    "duration": 24,
    "start_time": "2021-09-05T16:27:45.089Z"
   },
   {
    "duration": 30,
    "start_time": "2021-09-05T16:30:32.462Z"
   },
   {
    "duration": 559,
    "start_time": "2021-09-05T16:30:36.069Z"
   },
   {
    "duration": 7,
    "start_time": "2021-09-05T16:30:47.038Z"
   },
   {
    "duration": 3916,
    "start_time": "2021-09-05T16:30:50.585Z"
   },
   {
    "duration": 61,
    "start_time": "2021-09-05T16:30:54.505Z"
   },
   {
    "duration": 26,
    "start_time": "2021-09-05T16:31:16.186Z"
   },
   {
    "duration": 19,
    "start_time": "2021-09-05T16:31:21.144Z"
   },
   {
    "duration": 24,
    "start_time": "2021-09-05T16:31:34.539Z"
   },
   {
    "duration": 17,
    "start_time": "2021-09-05T16:31:36.290Z"
   },
   {
    "duration": 299,
    "start_time": "2021-09-05T16:33:20.402Z"
   },
   {
    "duration": 531,
    "start_time": "2021-09-05T16:35:04.739Z"
   },
   {
    "duration": 20,
    "start_time": "2021-09-05T16:36:38.788Z"
   },
   {
    "duration": 24,
    "start_time": "2021-09-05T16:37:29.442Z"
   },
   {
    "duration": 26,
    "start_time": "2021-09-05T16:38:06.472Z"
   },
   {
    "duration": 558,
    "start_time": "2021-09-05T16:38:34.351Z"
   },
   {
    "duration": 18,
    "start_time": "2021-09-05T16:39:29.135Z"
   },
   {
    "duration": 9,
    "start_time": "2021-09-05T16:47:55.742Z"
   },
   {
    "duration": 599,
    "start_time": "2021-09-05T17:00:49.632Z"
   },
   {
    "duration": 18,
    "start_time": "2021-09-05T17:02:28.464Z"
   },
   {
    "duration": 638,
    "start_time": "2021-09-05T17:02:41.953Z"
   },
   {
    "duration": 1423,
    "start_time": "2021-09-05T17:02:52.019Z"
   },
   {
    "duration": 836,
    "start_time": "2021-09-05T17:03:15.535Z"
   },
   {
    "duration": 447,
    "start_time": "2021-09-05T17:03:46.725Z"
   },
   {
    "duration": 541,
    "start_time": "2021-09-05T17:04:39.350Z"
   },
   {
    "duration": 573,
    "start_time": "2021-09-05T17:05:46.406Z"
   },
   {
    "duration": 701,
    "start_time": "2021-09-05T17:07:12.388Z"
   },
   {
    "duration": 584,
    "start_time": "2021-09-05T17:08:19.886Z"
   },
   {
    "duration": 576,
    "start_time": "2021-09-05T17:10:17.667Z"
   },
   {
    "duration": 882,
    "start_time": "2021-09-05T17:11:17.155Z"
   },
   {
    "duration": 596,
    "start_time": "2021-09-05T17:12:51.449Z"
   },
   {
    "duration": 622,
    "start_time": "2021-09-05T17:13:05.123Z"
   },
   {
    "duration": 608,
    "start_time": "2021-09-05T17:13:21.966Z"
   },
   {
    "duration": 647,
    "start_time": "2021-09-05T17:15:07.821Z"
   },
   {
    "duration": 969,
    "start_time": "2021-09-05T17:15:39.423Z"
   },
   {
    "duration": 750,
    "start_time": "2021-09-05T17:15:45.008Z"
   },
   {
    "duration": 571,
    "start_time": "2021-09-05T17:16:42.628Z"
   },
   {
    "duration": 604,
    "start_time": "2021-09-05T17:17:07.572Z"
   },
   {
    "duration": 740,
    "start_time": "2021-09-05T17:18:18.318Z"
   },
   {
    "duration": 646,
    "start_time": "2021-09-05T17:19:52.748Z"
   },
   {
    "duration": 21,
    "start_time": "2021-09-05T17:21:13.642Z"
   },
   {
    "duration": 2332,
    "start_time": "2021-09-05T17:21:26.901Z"
   },
   {
    "duration": 27,
    "start_time": "2021-09-05T17:21:29.235Z"
   },
   {
    "duration": 14,
    "start_time": "2021-09-05T17:21:29.272Z"
   },
   {
    "duration": 25,
    "start_time": "2021-09-05T17:21:29.289Z"
   },
   {
    "duration": 63,
    "start_time": "2021-09-05T17:21:29.317Z"
   },
   {
    "duration": 9,
    "start_time": "2021-09-05T17:21:29.383Z"
   },
   {
    "duration": 9,
    "start_time": "2021-09-05T17:21:29.395Z"
   },
   {
    "duration": 22,
    "start_time": "2021-09-05T17:21:29.408Z"
   },
   {
    "duration": 38,
    "start_time": "2021-09-05T17:21:29.434Z"
   },
   {
    "duration": 9,
    "start_time": "2021-09-05T17:21:29.478Z"
   },
   {
    "duration": 17,
    "start_time": "2021-09-05T17:21:29.490Z"
   },
   {
    "duration": 468,
    "start_time": "2021-09-05T17:21:29.509Z"
   },
   {
    "duration": 13,
    "start_time": "2021-09-05T17:21:29.980Z"
   },
   {
    "duration": 32,
    "start_time": "2021-09-05T17:21:29.996Z"
   },
   {
    "duration": 42,
    "start_time": "2021-09-05T17:21:30.032Z"
   },
   {
    "duration": 261,
    "start_time": "2021-09-05T17:21:30.077Z"
   },
   {
    "duration": 40,
    "start_time": "2021-09-05T17:21:30.342Z"
   },
   {
    "duration": 19,
    "start_time": "2021-09-05T17:21:30.385Z"
   },
   {
    "duration": 389,
    "start_time": "2021-09-05T17:21:30.407Z"
   },
   {
    "duration": 15,
    "start_time": "2021-09-05T17:21:30.798Z"
   },
   {
    "duration": 46,
    "start_time": "2021-09-05T17:21:30.816Z"
   },
   {
    "duration": 11,
    "start_time": "2021-09-05T17:21:30.864Z"
   },
   {
    "duration": 98,
    "start_time": "2021-09-05T17:21:30.881Z"
   },
   {
    "duration": 13,
    "start_time": "2021-09-05T17:21:30.983Z"
   },
   {
    "duration": 279,
    "start_time": "2021-09-05T17:21:30.999Z"
   },
   {
    "duration": 14,
    "start_time": "2021-09-05T17:21:31.281Z"
   },
   {
    "duration": 33,
    "start_time": "2021-09-05T17:21:31.298Z"
   },
   {
    "duration": 383,
    "start_time": "2021-09-05T17:21:31.334Z"
   },
   {
    "duration": 59,
    "start_time": "2021-09-05T17:21:31.720Z"
   },
   {
    "duration": 23,
    "start_time": "2021-09-05T17:21:31.781Z"
   },
   {
    "duration": 13,
    "start_time": "2021-09-05T17:21:31.807Z"
   },
   {
    "duration": 42,
    "start_time": "2021-09-05T17:21:31.822Z"
   },
   {
    "duration": 41,
    "start_time": "2021-09-05T17:21:31.869Z"
   },
   {
    "duration": 41,
    "start_time": "2021-09-05T17:21:31.913Z"
   },
   {
    "duration": 19,
    "start_time": "2021-09-05T17:21:31.963Z"
   },
   {
    "duration": 14,
    "start_time": "2021-09-05T17:21:31.986Z"
   },
   {
    "duration": 113,
    "start_time": "2021-09-05T17:21:32.003Z"
   },
   {
    "duration": 49,
    "start_time": "2021-09-05T17:21:32.119Z"
   },
   {
    "duration": 587,
    "start_time": "2021-09-05T17:21:32.173Z"
   },
   {
    "duration": 9,
    "start_time": "2021-09-05T17:21:32.763Z"
   },
   {
    "duration": 31,
    "start_time": "2021-09-05T17:21:32.779Z"
   },
   {
    "duration": 50,
    "start_time": "2021-09-05T17:21:32.812Z"
   },
   {
    "duration": 542,
    "start_time": "2021-09-05T17:21:32.865Z"
   },
   {
    "duration": 16,
    "start_time": "2021-09-05T17:21:33.410Z"
   },
   {
    "duration": 48,
    "start_time": "2021-09-05T17:21:33.429Z"
   },
   {
    "duration": 19,
    "start_time": "2021-09-05T17:21:33.480Z"
   },
   {
    "duration": 61,
    "start_time": "2021-09-05T17:21:33.503Z"
   },
   {
    "duration": 10,
    "start_time": "2021-09-05T17:21:33.566Z"
   },
   {
    "duration": 749,
    "start_time": "2021-09-05T17:21:33.578Z"
   },
   {
    "duration": 670,
    "start_time": "2021-09-05T17:21:34.329Z"
   },
   {
    "duration": 26,
    "start_time": "2021-09-05T17:21:35.002Z"
   },
   {
    "duration": 49,
    "start_time": "2021-09-05T17:21:35.031Z"
   },
   {
    "duration": 41,
    "start_time": "2021-09-05T17:21:35.084Z"
   },
   {
    "duration": 59,
    "start_time": "2021-09-05T17:21:35.129Z"
   },
   {
    "duration": 39,
    "start_time": "2021-09-05T17:21:35.191Z"
   },
   {
    "duration": 12,
    "start_time": "2021-09-05T17:22:51.806Z"
   },
   {
    "duration": 333,
    "start_time": "2021-09-05T17:23:07.180Z"
   },
   {
    "duration": 20,
    "start_time": "2021-09-05T17:23:38.788Z"
   },
   {
    "duration": 13,
    "start_time": "2021-09-05T17:24:05.148Z"
   },
   {
    "duration": 20,
    "start_time": "2021-09-05T17:24:18.140Z"
   },
   {
    "duration": 18,
    "start_time": "2021-09-05T17:25:52.922Z"
   },
   {
    "duration": 19,
    "start_time": "2021-09-05T17:26:02.213Z"
   },
   {
    "duration": 10,
    "start_time": "2021-09-05T17:26:04.598Z"
   },
   {
    "duration": 632,
    "start_time": "2021-09-05T17:26:13.555Z"
   },
   {
    "duration": 640,
    "start_time": "2021-09-05T17:26:35.318Z"
   },
   {
    "duration": 640,
    "start_time": "2021-09-05T17:26:46.201Z"
   },
   {
    "duration": 37,
    "start_time": "2021-09-05T17:30:40.334Z"
   },
   {
    "duration": 29,
    "start_time": "2021-09-05T17:35:17.675Z"
   },
   {
    "duration": 17,
    "start_time": "2021-09-05T17:36:14.811Z"
   },
   {
    "duration": 17,
    "start_time": "2021-09-05T17:36:22.228Z"
   },
   {
    "duration": 2337,
    "start_time": "2021-09-05T17:36:32.782Z"
   },
   {
    "duration": 19,
    "start_time": "2021-09-05T17:36:35.122Z"
   },
   {
    "duration": 28,
    "start_time": "2021-09-05T17:36:35.144Z"
   },
   {
    "duration": 25,
    "start_time": "2021-09-05T17:36:35.177Z"
   },
   {
    "duration": 49,
    "start_time": "2021-09-05T17:36:35.205Z"
   },
   {
    "duration": 11,
    "start_time": "2021-09-05T17:36:35.261Z"
   },
   {
    "duration": 15,
    "start_time": "2021-09-05T17:36:35.275Z"
   },
   {
    "duration": 22,
    "start_time": "2021-09-05T17:36:35.293Z"
   },
   {
    "duration": 55,
    "start_time": "2021-09-05T17:36:35.321Z"
   },
   {
    "duration": 14,
    "start_time": "2021-09-05T17:36:35.381Z"
   },
   {
    "duration": 17,
    "start_time": "2021-09-05T17:36:35.399Z"
   },
   {
    "duration": 419,
    "start_time": "2021-09-05T17:36:35.418Z"
   },
   {
    "duration": 19,
    "start_time": "2021-09-05T17:36:35.839Z"
   },
   {
    "duration": 26,
    "start_time": "2021-09-05T17:36:35.861Z"
   },
   {
    "duration": 15,
    "start_time": "2021-09-05T17:36:35.890Z"
   },
   {
    "duration": 295,
    "start_time": "2021-09-05T17:36:35.908Z"
   },
   {
    "duration": 24,
    "start_time": "2021-09-05T17:36:36.206Z"
   },
   {
    "duration": 53,
    "start_time": "2021-09-05T17:36:36.233Z"
   },
   {
    "duration": 428,
    "start_time": "2021-09-05T17:36:36.289Z"
   },
   {
    "duration": 15,
    "start_time": "2021-09-05T17:36:36.719Z"
   },
   {
    "duration": 35,
    "start_time": "2021-09-05T17:36:36.737Z"
   },
   {
    "duration": 9,
    "start_time": "2021-09-05T17:36:36.777Z"
   },
   {
    "duration": 124,
    "start_time": "2021-09-05T17:36:36.789Z"
   },
   {
    "duration": 13,
    "start_time": "2021-09-05T17:36:36.916Z"
   },
   {
    "duration": 284,
    "start_time": "2021-09-05T17:36:36.932Z"
   },
   {
    "duration": 15,
    "start_time": "2021-09-05T17:36:37.218Z"
   },
   {
    "duration": 34,
    "start_time": "2021-09-05T17:36:37.265Z"
   },
   {
    "duration": 426,
    "start_time": "2021-09-05T17:36:37.304Z"
   },
   {
    "duration": 63,
    "start_time": "2021-09-05T17:36:37.733Z"
   },
   {
    "duration": 24,
    "start_time": "2021-09-05T17:36:37.799Z"
   },
   {
    "duration": 48,
    "start_time": "2021-09-05T17:36:37.825Z"
   },
   {
    "duration": 19,
    "start_time": "2021-09-05T17:36:37.879Z"
   },
   {
    "duration": 23,
    "start_time": "2021-09-05T17:36:37.902Z"
   },
   {
    "duration": 36,
    "start_time": "2021-09-05T17:36:37.959Z"
   },
   {
    "duration": 19,
    "start_time": "2021-09-05T17:36:38.000Z"
   },
   {
    "duration": 48,
    "start_time": "2021-09-05T17:36:38.021Z"
   },
   {
    "duration": 58,
    "start_time": "2021-09-05T17:36:38.073Z"
   },
   {
    "duration": 68,
    "start_time": "2021-09-05T17:36:38.133Z"
   },
   {
    "duration": 546,
    "start_time": "2021-09-05T17:36:38.203Z"
   },
   {
    "duration": 15,
    "start_time": "2021-09-05T17:36:38.754Z"
   },
   {
    "duration": 44,
    "start_time": "2021-09-05T17:36:38.778Z"
   },
   {
    "duration": 47,
    "start_time": "2021-09-05T17:36:38.826Z"
   },
   {
    "duration": 585,
    "start_time": "2021-09-05T17:36:38.877Z"
   },
   {
    "duration": 25,
    "start_time": "2021-09-05T17:36:39.466Z"
   },
   {
    "duration": 25,
    "start_time": "2021-09-05T17:36:39.494Z"
   },
   {
    "duration": 55,
    "start_time": "2021-09-05T17:36:39.522Z"
   },
   {
    "duration": 24,
    "start_time": "2021-09-05T17:36:39.580Z"
   },
   {
    "duration": 10,
    "start_time": "2021-09-05T17:36:39.606Z"
   },
   {
    "duration": 977,
    "start_time": "2021-09-05T17:36:39.661Z"
   },
   {
    "duration": 737,
    "start_time": "2021-09-05T17:36:40.641Z"
   },
   {
    "duration": 26,
    "start_time": "2021-09-05T17:36:41.381Z"
   },
   {
    "duration": 48,
    "start_time": "2021-09-05T17:36:41.410Z"
   },
   {
    "duration": 31,
    "start_time": "2021-09-05T17:36:41.462Z"
   },
   {
    "duration": 17,
    "start_time": "2021-09-05T17:36:41.496Z"
   },
   {
    "duration": 82,
    "start_time": "2021-09-05T17:36:41.516Z"
   },
   {
    "duration": 24,
    "start_time": "2021-09-05T17:36:41.601Z"
   },
   {
    "duration": 17,
    "start_time": "2021-09-05T17:38:28.337Z"
   },
   {
    "duration": 93,
    "start_time": "2021-09-05T17:50:51.135Z"
   },
   {
    "duration": 127,
    "start_time": "2021-09-05T17:51:14.099Z"
   },
   {
    "duration": 91,
    "start_time": "2021-09-05T17:51:21.909Z"
   },
   {
    "duration": 20,
    "start_time": "2021-09-05T17:51:36.863Z"
   },
   {
    "duration": 17,
    "start_time": "2021-09-05T17:52:14.266Z"
   },
   {
    "duration": 17,
    "start_time": "2021-09-05T17:52:21.091Z"
   },
   {
    "duration": 10,
    "start_time": "2021-09-05T17:52:25.482Z"
   },
   {
    "duration": 680,
    "start_time": "2021-09-05T17:52:28.226Z"
   },
   {
    "duration": 672,
    "start_time": "2021-09-05T17:52:30.523Z"
   },
   {
    "duration": 258,
    "start_time": "2021-09-05T17:55:39.220Z"
   },
   {
    "duration": 294,
    "start_time": "2021-09-05T17:56:24.475Z"
   },
   {
    "duration": 529,
    "start_time": "2021-09-05T17:58:22.328Z"
   },
   {
    "duration": 979,
    "start_time": "2021-09-05T17:58:46.957Z"
   },
   {
    "duration": 7,
    "start_time": "2021-09-05T17:59:18.774Z"
   },
   {
    "duration": 986,
    "start_time": "2021-09-05T18:00:28.759Z"
   },
   {
    "duration": 280,
    "start_time": "2021-09-05T18:02:10.929Z"
   },
   {
    "duration": 36,
    "start_time": "2021-09-05T18:02:25.656Z"
   },
   {
    "duration": 239,
    "start_time": "2021-09-05T18:06:36.909Z"
   },
   {
    "duration": 261,
    "start_time": "2021-09-07T08:52:23.280Z"
   },
   {
    "duration": 1845,
    "start_time": "2021-09-07T08:53:26.194Z"
   },
   {
    "duration": 12,
    "start_time": "2021-09-07T08:53:28.041Z"
   },
   {
    "duration": 19,
    "start_time": "2021-09-07T08:53:28.057Z"
   },
   {
    "duration": 30,
    "start_time": "2021-09-07T08:53:28.078Z"
   },
   {
    "duration": 29,
    "start_time": "2021-09-07T08:53:28.110Z"
   },
   {
    "duration": 6,
    "start_time": "2021-09-07T08:53:28.140Z"
   },
   {
    "duration": 17,
    "start_time": "2021-09-07T08:53:28.147Z"
   },
   {
    "duration": 16,
    "start_time": "2021-09-07T08:53:28.167Z"
   },
   {
    "duration": 19,
    "start_time": "2021-09-07T08:53:28.185Z"
   },
   {
    "duration": 14,
    "start_time": "2021-09-07T08:53:28.206Z"
   },
   {
    "duration": 13,
    "start_time": "2021-09-07T08:53:28.222Z"
   },
   {
    "duration": 211,
    "start_time": "2021-09-07T08:53:28.237Z"
   },
   {
    "duration": 5,
    "start_time": "2021-09-07T08:53:28.450Z"
   },
   {
    "duration": 14,
    "start_time": "2021-09-07T08:53:28.457Z"
   },
   {
    "duration": 18,
    "start_time": "2021-09-07T08:53:28.473Z"
   },
   {
    "duration": 147,
    "start_time": "2021-09-07T08:53:28.493Z"
   },
   {
    "duration": 14,
    "start_time": "2021-09-07T08:53:28.642Z"
   },
   {
    "duration": 26,
    "start_time": "2021-09-07T08:53:28.658Z"
   },
   {
    "duration": 212,
    "start_time": "2021-09-07T08:53:28.686Z"
   },
   {
    "duration": 9,
    "start_time": "2021-09-07T08:53:28.901Z"
   },
   {
    "duration": 15,
    "start_time": "2021-09-07T08:53:28.912Z"
   },
   {
    "duration": 5,
    "start_time": "2021-09-07T08:53:28.929Z"
   },
   {
    "duration": 67,
    "start_time": "2021-09-07T08:53:28.936Z"
   },
   {
    "duration": 10,
    "start_time": "2021-09-07T08:53:29.005Z"
   },
   {
    "duration": 168,
    "start_time": "2021-09-07T08:53:29.016Z"
   },
   {
    "duration": 9,
    "start_time": "2021-09-07T08:53:29.189Z"
   },
   {
    "duration": 18,
    "start_time": "2021-09-07T08:53:29.201Z"
   },
   {
    "duration": 231,
    "start_time": "2021-09-07T08:53:29.221Z"
   },
   {
    "duration": 34,
    "start_time": "2021-09-07T08:53:29.454Z"
   },
   {
    "duration": 16,
    "start_time": "2021-09-07T08:53:29.490Z"
   },
   {
    "duration": 8,
    "start_time": "2021-09-07T08:53:29.507Z"
   },
   {
    "duration": 12,
    "start_time": "2021-09-07T08:53:29.516Z"
   },
   {
    "duration": 15,
    "start_time": "2021-09-07T08:53:29.529Z"
   },
   {
    "duration": 43,
    "start_time": "2021-09-07T08:53:29.546Z"
   },
   {
    "duration": 11,
    "start_time": "2021-09-07T08:53:29.591Z"
   },
   {
    "duration": 7,
    "start_time": "2021-09-07T08:53:29.604Z"
   },
   {
    "duration": 31,
    "start_time": "2021-09-07T08:53:29.614Z"
   },
   {
    "duration": 47,
    "start_time": "2021-09-07T08:53:29.647Z"
   },
   {
    "duration": 218,
    "start_time": "2021-09-07T08:53:29.695Z"
   },
   {
    "duration": 4,
    "start_time": "2021-09-07T08:53:29.915Z"
   },
   {
    "duration": 18,
    "start_time": "2021-09-07T08:53:29.920Z"
   },
   {
    "duration": 8,
    "start_time": "2021-09-07T08:53:29.940Z"
   },
   {
    "duration": 258,
    "start_time": "2021-09-07T08:53:29.950Z"
   },
   {
    "duration": 11,
    "start_time": "2021-09-07T08:53:30.209Z"
   },
   {
    "duration": 9,
    "start_time": "2021-09-07T08:53:30.221Z"
   },
   {
    "duration": 14,
    "start_time": "2021-09-07T08:53:30.232Z"
   },
   {
    "duration": 11,
    "start_time": "2021-09-07T08:53:30.248Z"
   },
   {
    "duration": 35,
    "start_time": "2021-09-07T08:53:30.260Z"
   },
   {
    "duration": 5,
    "start_time": "2021-09-07T08:53:30.297Z"
   },
   {
    "duration": 470,
    "start_time": "2021-09-07T08:53:30.304Z"
   },
   {
    "duration": 383,
    "start_time": "2021-09-07T08:53:30.775Z"
   },
   {
    "duration": 10,
    "start_time": "2021-09-07T08:53:31.160Z"
   },
   {
    "duration": 22,
    "start_time": "2021-09-07T08:53:31.172Z"
   },
   {
    "duration": 11,
    "start_time": "2021-09-07T08:53:31.196Z"
   },
   {
    "duration": 16,
    "start_time": "2021-09-07T08:53:31.209Z"
   },
   {
    "duration": 16,
    "start_time": "2021-09-07T08:53:31.227Z"
   },
   {
    "duration": 115,
    "start_time": "2021-09-07T08:53:31.245Z"
   },
   {
    "duration": 113,
    "start_time": "2021-09-07T08:53:31.362Z"
   },
   {
    "duration": 2,
    "start_time": "2021-09-07T09:49:13.836Z"
   },
   {
    "duration": 297,
    "start_time": "2021-09-07T20:19:55.274Z"
   },
   {
    "duration": 2053,
    "start_time": "2021-09-07T20:20:04.840Z"
   },
   {
    "duration": 20,
    "start_time": "2021-09-07T20:20:06.895Z"
   },
   {
    "duration": 32,
    "start_time": "2021-09-07T20:20:06.918Z"
   },
   {
    "duration": 41,
    "start_time": "2021-09-07T20:20:06.953Z"
   },
   {
    "duration": 34,
    "start_time": "2021-09-07T20:20:06.997Z"
   },
   {
    "duration": 9,
    "start_time": "2021-09-07T20:20:07.034Z"
   },
   {
    "duration": 13,
    "start_time": "2021-09-07T20:20:07.045Z"
   },
   {
    "duration": 19,
    "start_time": "2021-09-07T20:20:07.064Z"
   },
   {
    "duration": 14,
    "start_time": "2021-09-07T20:20:07.086Z"
   },
   {
    "duration": 14,
    "start_time": "2021-09-07T20:20:07.102Z"
   },
   {
    "duration": 45,
    "start_time": "2021-09-07T20:20:07.119Z"
   },
   {
    "duration": 343,
    "start_time": "2021-09-07T20:20:07.167Z"
   },
   {
    "duration": 9,
    "start_time": "2021-09-07T20:20:07.512Z"
   },
   {
    "duration": 24,
    "start_time": "2021-09-07T20:20:07.523Z"
   },
   {
    "duration": 15,
    "start_time": "2021-09-07T20:20:07.562Z"
   },
   {
    "duration": 244,
    "start_time": "2021-09-07T20:20:07.580Z"
   },
   {
    "duration": 35,
    "start_time": "2021-09-07T20:20:07.827Z"
   },
   {
    "duration": 13,
    "start_time": "2021-09-07T20:20:07.864Z"
   },
   {
    "duration": 347,
    "start_time": "2021-09-07T20:20:07.879Z"
   },
   {
    "duration": 15,
    "start_time": "2021-09-07T20:20:08.229Z"
   },
   {
    "duration": 35,
    "start_time": "2021-09-07T20:20:08.246Z"
   },
   {
    "duration": 6,
    "start_time": "2021-09-07T20:20:08.283Z"
   },
   {
    "duration": 92,
    "start_time": "2021-09-07T20:20:08.295Z"
   },
   {
    "duration": 11,
    "start_time": "2021-09-07T20:20:08.391Z"
   },
   {
    "duration": 267,
    "start_time": "2021-09-07T20:20:08.404Z"
   },
   {
    "duration": 14,
    "start_time": "2021-09-07T20:20:08.673Z"
   },
   {
    "duration": 26,
    "start_time": "2021-09-07T20:20:08.689Z"
   },
   {
    "duration": 378,
    "start_time": "2021-09-07T20:20:08.717Z"
   },
   {
    "duration": 40,
    "start_time": "2021-09-07T20:20:09.098Z"
   },
   {
    "duration": 41,
    "start_time": "2021-09-07T20:20:09.141Z"
   },
   {
    "duration": 11,
    "start_time": "2021-09-07T20:20:09.185Z"
   },
   {
    "duration": 22,
    "start_time": "2021-09-07T20:20:09.199Z"
   },
   {
    "duration": 49,
    "start_time": "2021-09-07T20:20:09.224Z"
   },
   {
    "duration": 18,
    "start_time": "2021-09-07T20:20:09.275Z"
   },
   {
    "duration": 19,
    "start_time": "2021-09-07T20:20:09.295Z"
   },
   {
    "duration": 10,
    "start_time": "2021-09-07T20:20:09.317Z"
   },
   {
    "duration": 75,
    "start_time": "2021-09-07T20:20:09.329Z"
   },
   {
    "duration": 29,
    "start_time": "2021-09-07T20:20:09.406Z"
   },
   {
    "duration": 365,
    "start_time": "2021-09-07T20:20:09.437Z"
   },
   {
    "duration": 6,
    "start_time": "2021-09-07T20:20:09.804Z"
   },
   {
    "duration": 49,
    "start_time": "2021-09-07T20:20:09.813Z"
   },
   {
    "duration": 16,
    "start_time": "2021-09-07T20:20:09.864Z"
   },
   {
    "duration": 362,
    "start_time": "2021-09-07T20:20:09.882Z"
   },
   {
    "duration": 24,
    "start_time": "2021-09-07T20:20:10.247Z"
   },
   {
    "duration": 21,
    "start_time": "2021-09-07T20:20:10.274Z"
   },
   {
    "duration": 19,
    "start_time": "2021-09-07T20:20:10.297Z"
   },
   {
    "duration": 45,
    "start_time": "2021-09-07T20:20:10.318Z"
   },
   {
    "duration": 18,
    "start_time": "2021-09-07T20:20:10.366Z"
   },
   {
    "duration": 9,
    "start_time": "2021-09-07T20:20:10.387Z"
   },
   {
    "duration": 712,
    "start_time": "2021-09-07T20:20:10.398Z"
   },
   {
    "duration": 651,
    "start_time": "2021-09-07T20:20:11.113Z"
   },
   {
    "duration": 18,
    "start_time": "2021-09-07T20:20:11.767Z"
   },
   {
    "duration": 25,
    "start_time": "2021-09-07T20:20:11.788Z"
   },
   {
    "duration": 51,
    "start_time": "2021-09-07T20:20:11.815Z"
   },
   {
    "duration": 15,
    "start_time": "2021-09-07T20:20:11.868Z"
   },
   {
    "duration": 29,
    "start_time": "2021-09-07T20:20:11.885Z"
   },
   {
    "duration": 168,
    "start_time": "2021-09-07T20:20:11.916Z"
   },
   {
    "duration": 209,
    "start_time": "2021-09-07T20:20:12.086Z"
   },
   {
    "duration": 5871,
    "start_time": "2021-09-07T20:20:12.297Z"
   },
   {
    "duration": 4883,
    "start_time": "2021-09-07T20:20:42.462Z"
   },
   {
    "duration": 160,
    "start_time": "2021-09-07T20:22:23.587Z"
   },
   {
    "duration": 15,
    "start_time": "2021-09-07T20:22:45.200Z"
   },
   {
    "duration": 188,
    "start_time": "2021-09-07T20:23:08.216Z"
   },
   {
    "duration": 12,
    "start_time": "2021-09-07T20:23:47.085Z"
   },
   {
    "duration": 451,
    "start_time": "2021-09-07T20:24:06.564Z"
   },
   {
    "duration": 269,
    "start_time": "2021-09-07T20:24:27.123Z"
   },
   {
    "duration": 25,
    "start_time": "2021-09-07T20:25:19.291Z"
   },
   {
    "duration": 228,
    "start_time": "2021-09-07T20:25:43.176Z"
   },
   {
    "duration": 17,
    "start_time": "2021-09-07T20:26:05.711Z"
   },
   {
    "duration": 14,
    "start_time": "2021-09-07T20:26:28.907Z"
   },
   {
    "duration": 6,
    "start_time": "2021-09-07T20:26:43.313Z"
   },
   {
    "duration": 18172,
    "start_time": "2021-09-08T04:22:24.590Z"
   },
   {
    "duration": 20,
    "start_time": "2021-09-08T04:22:42.765Z"
   },
   {
    "duration": 18,
    "start_time": "2021-09-08T04:22:42.788Z"
   },
   {
    "duration": 24,
    "start_time": "2021-09-08T04:22:42.808Z"
   },
   {
    "duration": 40,
    "start_time": "2021-09-08T04:22:42.834Z"
   },
   {
    "duration": 8,
    "start_time": "2021-09-08T04:22:42.876Z"
   },
   {
    "duration": 10,
    "start_time": "2021-09-08T04:22:42.886Z"
   },
   {
    "duration": 18,
    "start_time": "2021-09-08T04:22:42.899Z"
   },
   {
    "duration": 12,
    "start_time": "2021-09-08T04:22:42.955Z"
   },
   {
    "duration": 14,
    "start_time": "2021-09-08T04:22:42.969Z"
   },
   {
    "duration": 17,
    "start_time": "2021-09-08T04:22:42.985Z"
   },
   {
    "duration": 357,
    "start_time": "2021-09-08T04:22:43.004Z"
   },
   {
    "duration": 11,
    "start_time": "2021-09-08T04:22:43.364Z"
   },
   {
    "duration": 32,
    "start_time": "2021-09-08T04:22:43.377Z"
   },
   {
    "duration": 24,
    "start_time": "2021-09-08T04:22:43.411Z"
   },
   {
    "duration": 236,
    "start_time": "2021-09-08T04:22:43.437Z"
   },
   {
    "duration": 23,
    "start_time": "2021-09-08T04:22:43.676Z"
   },
   {
    "duration": 29,
    "start_time": "2021-09-08T04:22:43.702Z"
   },
   {
    "duration": 353,
    "start_time": "2021-09-08T04:22:43.734Z"
   },
   {
    "duration": 15,
    "start_time": "2021-09-08T04:22:44.089Z"
   },
   {
    "duration": 28,
    "start_time": "2021-09-08T04:22:44.107Z"
   },
   {
    "duration": 7,
    "start_time": "2021-09-08T04:22:44.154Z"
   },
   {
    "duration": 90,
    "start_time": "2021-09-08T04:22:44.167Z"
   },
   {
    "duration": 13,
    "start_time": "2021-09-08T04:22:44.260Z"
   },
   {
    "duration": 281,
    "start_time": "2021-09-08T04:22:44.276Z"
   },
   {
    "duration": 15,
    "start_time": "2021-09-08T04:22:44.559Z"
   },
   {
    "duration": 49,
    "start_time": "2021-09-08T04:22:44.576Z"
   },
   {
    "duration": 337,
    "start_time": "2021-09-08T04:22:44.627Z"
   },
   {
    "duration": 41,
    "start_time": "2021-09-08T04:22:44.967Z"
   },
   {
    "duration": 58,
    "start_time": "2021-09-08T04:22:45.010Z"
   },
   {
    "duration": 17,
    "start_time": "2021-09-08T04:22:45.070Z"
   },
   {
    "duration": 35,
    "start_time": "2021-09-08T04:22:45.089Z"
   },
   {
    "duration": 36,
    "start_time": "2021-09-08T04:22:45.126Z"
   },
   {
    "duration": 18,
    "start_time": "2021-09-08T04:22:45.164Z"
   },
   {
    "duration": 33,
    "start_time": "2021-09-08T04:22:45.184Z"
   },
   {
    "duration": 19,
    "start_time": "2021-09-08T04:22:45.220Z"
   },
   {
    "duration": 64,
    "start_time": "2021-09-08T04:22:45.241Z"
   },
   {
    "duration": 31,
    "start_time": "2021-09-08T04:22:45.308Z"
   },
   {
    "duration": 381,
    "start_time": "2021-09-08T04:22:45.341Z"
   },
   {
    "duration": 5,
    "start_time": "2021-09-08T04:22:45.724Z"
   },
   {
    "duration": 58,
    "start_time": "2021-09-08T04:22:45.732Z"
   },
   {
    "duration": 17,
    "start_time": "2021-09-08T04:22:45.793Z"
   },
   {
    "duration": 345,
    "start_time": "2021-09-08T04:22:45.813Z"
   },
   {
    "duration": 18,
    "start_time": "2021-09-08T04:22:46.161Z"
   },
   {
    "duration": 18,
    "start_time": "2021-09-08T04:22:46.182Z"
   },
   {
    "duration": 57,
    "start_time": "2021-09-08T04:22:46.203Z"
   },
   {
    "duration": 16,
    "start_time": "2021-09-08T04:22:46.263Z"
   },
   {
    "duration": 19,
    "start_time": "2021-09-08T04:22:46.281Z"
   },
   {
    "duration": 34,
    "start_time": "2021-09-08T04:22:46.303Z"
   },
   {
    "duration": 701,
    "start_time": "2021-09-08T04:22:46.340Z"
   },
   {
    "duration": 597,
    "start_time": "2021-09-08T04:22:47.044Z"
   },
   {
    "duration": 26,
    "start_time": "2021-09-08T04:22:47.643Z"
   },
   {
    "duration": 41,
    "start_time": "2021-09-08T04:22:47.672Z"
   },
   {
    "duration": 18,
    "start_time": "2021-09-08T04:22:47.716Z"
   },
   {
    "duration": 26,
    "start_time": "2021-09-08T04:22:47.736Z"
   },
   {
    "duration": 40,
    "start_time": "2021-09-08T04:22:47.765Z"
   },
   {
    "duration": 16,
    "start_time": "2021-09-08T04:22:47.808Z"
   },
   {
    "duration": 52,
    "start_time": "2021-09-08T04:22:47.826Z"
   },
   {
    "duration": 28,
    "start_time": "2021-09-08T04:22:47.880Z"
   },
   {
    "duration": 6,
    "start_time": "2021-09-08T04:32:56.354Z"
   },
   {
    "duration": 509,
    "start_time": "2021-09-08T04:33:04.592Z"
   },
   {
    "duration": 10,
    "start_time": "2021-09-08T04:33:29.354Z"
   },
   {
    "duration": 5,
    "start_time": "2021-09-08T04:38:08.329Z"
   },
   {
    "duration": 5,
    "start_time": "2021-09-08T04:38:57.095Z"
   },
   {
    "duration": 319,
    "start_time": "2021-09-08T13:47:53.764Z"
   },
   {
    "duration": 2011,
    "start_time": "2021-09-08T13:48:03.800Z"
   },
   {
    "duration": -45,
    "start_time": "2021-09-08T13:48:05.861Z"
   },
   {
    "duration": -49,
    "start_time": "2021-09-08T13:48:05.865Z"
   },
   {
    "duration": -52,
    "start_time": "2021-09-08T13:48:05.870Z"
   },
   {
    "duration": -59,
    "start_time": "2021-09-08T13:48:05.878Z"
   },
   {
    "duration": -63,
    "start_time": "2021-09-08T13:48:05.884Z"
   },
   {
    "duration": -66,
    "start_time": "2021-09-08T13:48:05.888Z"
   },
   {
    "duration": -68,
    "start_time": "2021-09-08T13:48:05.892Z"
   },
   {
    "duration": -70,
    "start_time": "2021-09-08T13:48:05.895Z"
   },
   {
    "duration": -72,
    "start_time": "2021-09-08T13:48:05.899Z"
   },
   {
    "duration": -75,
    "start_time": "2021-09-08T13:48:05.903Z"
   },
   {
    "duration": -76,
    "start_time": "2021-09-08T13:48:05.906Z"
   },
   {
    "duration": -118,
    "start_time": "2021-09-08T13:48:05.949Z"
   },
   {
    "duration": -121,
    "start_time": "2021-09-08T13:48:05.953Z"
   },
   {
    "duration": -124,
    "start_time": "2021-09-08T13:48:05.957Z"
   },
   {
    "duration": -127,
    "start_time": "2021-09-08T13:48:05.961Z"
   },
   {
    "duration": -136,
    "start_time": "2021-09-08T13:48:05.971Z"
   },
   {
    "duration": -139,
    "start_time": "2021-09-08T13:48:05.975Z"
   },
   {
    "duration": -142,
    "start_time": "2021-09-08T13:48:05.979Z"
   },
   {
    "duration": -145,
    "start_time": "2021-09-08T13:48:05.982Z"
   },
   {
    "duration": -148,
    "start_time": "2021-09-08T13:48:05.986Z"
   },
   {
    "duration": -151,
    "start_time": "2021-09-08T13:48:05.990Z"
   },
   {
    "duration": -153,
    "start_time": "2021-09-08T13:48:05.993Z"
   },
   {
    "duration": -155,
    "start_time": "2021-09-08T13:48:05.996Z"
   },
   {
    "duration": -158,
    "start_time": "2021-09-08T13:48:06.000Z"
   },
   {
    "duration": -161,
    "start_time": "2021-09-08T13:48:06.003Z"
   },
   {
    "duration": -164,
    "start_time": "2021-09-08T13:48:06.007Z"
   },
   {
    "duration": -167,
    "start_time": "2021-09-08T13:48:06.011Z"
   },
   {
    "duration": -170,
    "start_time": "2021-09-08T13:48:06.015Z"
   },
   {
    "duration": -172,
    "start_time": "2021-09-08T13:48:06.018Z"
   },
   {
    "duration": -176,
    "start_time": "2021-09-08T13:48:06.022Z"
   },
   {
    "duration": -179,
    "start_time": "2021-09-08T13:48:06.026Z"
   },
   {
    "duration": -181,
    "start_time": "2021-09-08T13:48:06.029Z"
   },
   {
    "duration": -183,
    "start_time": "2021-09-08T13:48:06.032Z"
   },
   {
    "duration": -186,
    "start_time": "2021-09-08T13:48:06.036Z"
   },
   {
    "duration": -147,
    "start_time": "2021-09-08T13:48:06.039Z"
   },
   {
    "duration": -150,
    "start_time": "2021-09-08T13:48:06.043Z"
   },
   {
    "duration": -152,
    "start_time": "2021-09-08T13:48:06.046Z"
   },
   {
    "duration": -155,
    "start_time": "2021-09-08T13:48:06.050Z"
   },
   {
    "duration": -157,
    "start_time": "2021-09-08T13:48:06.053Z"
   },
   {
    "duration": -160,
    "start_time": "2021-09-08T13:48:06.057Z"
   },
   {
    "duration": -162,
    "start_time": "2021-09-08T13:48:06.060Z"
   },
   {
    "duration": -165,
    "start_time": "2021-09-08T13:48:06.064Z"
   },
   {
    "duration": -168,
    "start_time": "2021-09-08T13:48:06.067Z"
   },
   {
    "duration": -171,
    "start_time": "2021-09-08T13:48:06.071Z"
   },
   {
    "duration": -173,
    "start_time": "2021-09-08T13:48:06.074Z"
   },
   {
    "duration": -175,
    "start_time": "2021-09-08T13:48:06.077Z"
   },
   {
    "duration": -177,
    "start_time": "2021-09-08T13:48:06.080Z"
   },
   {
    "duration": -179,
    "start_time": "2021-09-08T13:48:06.083Z"
   },
   {
    "duration": -181,
    "start_time": "2021-09-08T13:48:06.086Z"
   },
   {
    "duration": -184,
    "start_time": "2021-09-08T13:48:06.090Z"
   },
   {
    "duration": -186,
    "start_time": "2021-09-08T13:48:06.093Z"
   },
   {
    "duration": -188,
    "start_time": "2021-09-08T13:48:06.096Z"
   },
   {
    "duration": -190,
    "start_time": "2021-09-08T13:48:06.099Z"
   },
   {
    "duration": -192,
    "start_time": "2021-09-08T13:48:06.102Z"
   },
   {
    "duration": -193,
    "start_time": "2021-09-08T13:48:06.105Z"
   },
   {
    "duration": -196,
    "start_time": "2021-09-08T13:48:06.109Z"
   },
   {
    "duration": -195,
    "start_time": "2021-09-08T13:48:06.112Z"
   },
   {
    "duration": -197,
    "start_time": "2021-09-08T13:48:06.115Z"
   },
   {
    "duration": -198,
    "start_time": "2021-09-08T13:48:06.118Z"
   },
   {
    "duration": -200,
    "start_time": "2021-09-08T13:48:06.121Z"
   },
   {
    "duration": -202,
    "start_time": "2021-09-08T13:48:06.124Z"
   },
   {
    "duration": 1935,
    "start_time": "2021-09-08T13:53:40.901Z"
   },
   {
    "duration": -225,
    "start_time": "2021-09-08T13:53:43.065Z"
   },
   {
    "duration": -228,
    "start_time": "2021-09-08T13:53:43.069Z"
   },
   {
    "duration": -234,
    "start_time": "2021-09-08T13:53:43.076Z"
   },
   {
    "duration": -239,
    "start_time": "2021-09-08T13:53:43.082Z"
   },
   {
    "duration": -245,
    "start_time": "2021-09-08T13:53:43.088Z"
   },
   {
    "duration": -247,
    "start_time": "2021-09-08T13:53:43.092Z"
   },
   {
    "duration": -253,
    "start_time": "2021-09-08T13:53:43.098Z"
   },
   {
    "duration": -256,
    "start_time": "2021-09-08T13:53:43.102Z"
   },
   {
    "duration": -261,
    "start_time": "2021-09-08T13:53:43.108Z"
   },
   {
    "duration": -306,
    "start_time": "2021-09-08T13:53:43.154Z"
   },
   {
    "duration": -311,
    "start_time": "2021-09-08T13:53:43.159Z"
   },
   {
    "duration": -314,
    "start_time": "2021-09-08T13:53:43.163Z"
   },
   {
    "duration": -324,
    "start_time": "2021-09-08T13:53:43.173Z"
   },
   {
    "duration": -328,
    "start_time": "2021-09-08T13:53:43.178Z"
   },
   {
    "duration": -332,
    "start_time": "2021-09-08T13:53:43.183Z"
   },
   {
    "duration": -336,
    "start_time": "2021-09-08T13:53:43.187Z"
   },
   {
    "duration": -339,
    "start_time": "2021-09-08T13:53:43.191Z"
   },
   {
    "duration": -343,
    "start_time": "2021-09-08T13:53:43.195Z"
   },
   {
    "duration": -345,
    "start_time": "2021-09-08T13:53:43.198Z"
   },
   {
    "duration": -349,
    "start_time": "2021-09-08T13:53:43.202Z"
   },
   {
    "duration": -353,
    "start_time": "2021-09-08T13:53:43.207Z"
   },
   {
    "duration": -357,
    "start_time": "2021-09-08T13:53:43.211Z"
   },
   {
    "duration": -361,
    "start_time": "2021-09-08T13:53:43.216Z"
   },
   {
    "duration": -363,
    "start_time": "2021-09-08T13:53:43.219Z"
   },
   {
    "duration": -367,
    "start_time": "2021-09-08T13:53:43.223Z"
   },
   {
    "duration": -370,
    "start_time": "2021-09-08T13:53:43.227Z"
   },
   {
    "duration": -374,
    "start_time": "2021-09-08T13:53:43.231Z"
   },
   {
    "duration": -376,
    "start_time": "2021-09-08T13:53:43.234Z"
   },
   {
    "duration": -382,
    "start_time": "2021-09-08T13:53:43.240Z"
   },
   {
    "duration": -384,
    "start_time": "2021-09-08T13:53:43.243Z"
   },
   {
    "duration": -390,
    "start_time": "2021-09-08T13:53:43.249Z"
   },
   {
    "duration": -392,
    "start_time": "2021-09-08T13:53:43.252Z"
   },
   {
    "duration": -397,
    "start_time": "2021-09-08T13:53:43.257Z"
   },
   {
    "duration": -399,
    "start_time": "2021-09-08T13:53:43.260Z"
   },
   {
    "duration": -403,
    "start_time": "2021-09-08T13:53:43.264Z"
   },
   {
    "duration": -405,
    "start_time": "2021-09-08T13:53:43.267Z"
   },
   {
    "duration": -408,
    "start_time": "2021-09-08T13:53:43.271Z"
   },
   {
    "duration": -412,
    "start_time": "2021-09-08T13:53:43.275Z"
   },
   {
    "duration": -415,
    "start_time": "2021-09-08T13:53:43.279Z"
   },
   {
    "duration": -417,
    "start_time": "2021-09-08T13:53:43.282Z"
   },
   {
    "duration": -421,
    "start_time": "2021-09-08T13:53:43.286Z"
   },
   {
    "duration": -423,
    "start_time": "2021-09-08T13:53:43.289Z"
   },
   {
    "duration": -426,
    "start_time": "2021-09-08T13:53:43.293Z"
   },
   {
    "duration": -429,
    "start_time": "2021-09-08T13:53:43.297Z"
   },
   {
    "duration": -432,
    "start_time": "2021-09-08T13:53:43.301Z"
   },
   {
    "duration": -435,
    "start_time": "2021-09-08T13:53:43.304Z"
   },
   {
    "duration": -438,
    "start_time": "2021-09-08T13:53:43.308Z"
   },
   {
    "duration": -440,
    "start_time": "2021-09-08T13:53:43.311Z"
   },
   {
    "duration": -443,
    "start_time": "2021-09-08T13:53:43.315Z"
   },
   {
    "duration": -446,
    "start_time": "2021-09-08T13:53:43.319Z"
   },
   {
    "duration": -450,
    "start_time": "2021-09-08T13:53:43.323Z"
   },
   {
    "duration": -452,
    "start_time": "2021-09-08T13:53:43.326Z"
   },
   {
    "duration": -455,
    "start_time": "2021-09-08T13:53:43.330Z"
   },
   {
    "duration": -457,
    "start_time": "2021-09-08T13:53:43.333Z"
   },
   {
    "duration": -460,
    "start_time": "2021-09-08T13:53:43.337Z"
   },
   {
    "duration": -449,
    "start_time": "2021-09-08T13:53:43.340Z"
   },
   {
    "duration": -453,
    "start_time": "2021-09-08T13:53:43.345Z"
   },
   {
    "duration": -455,
    "start_time": "2021-09-08T13:53:43.348Z"
   },
   {
    "duration": -458,
    "start_time": "2021-09-08T13:53:43.351Z"
   },
   {
    "duration": -460,
    "start_time": "2021-09-08T13:53:43.354Z"
   },
   {
    "duration": -463,
    "start_time": "2021-09-08T13:53:43.358Z"
   },
   {
    "duration": 1774,
    "start_time": "2021-09-08T14:03:07.654Z"
   },
   {
    "duration": 449,
    "start_time": "2021-09-08T14:04:54.655Z"
   },
   {
    "duration": 4490,
    "start_time": "2021-09-08T15:07:51.091Z"
   },
   {
    "duration": 5795,
    "start_time": "2021-09-08T15:08:11.228Z"
   },
   {
    "duration": -123,
    "start_time": "2021-09-08T15:08:17.150Z"
   },
   {
    "duration": -134,
    "start_time": "2021-09-08T15:08:17.162Z"
   },
   {
    "duration": -137,
    "start_time": "2021-09-08T15:08:17.166Z"
   },
   {
    "duration": -141,
    "start_time": "2021-09-08T15:08:17.171Z"
   },
   {
    "duration": -148,
    "start_time": "2021-09-08T15:08:17.178Z"
   },
   {
    "duration": -154,
    "start_time": "2021-09-08T15:08:17.185Z"
   },
   {
    "duration": -157,
    "start_time": "2021-09-08T15:08:17.189Z"
   },
   {
    "duration": -163,
    "start_time": "2021-09-08T15:08:17.195Z"
   },
   {
    "duration": -184,
    "start_time": "2021-09-08T15:08:17.217Z"
   },
   {
    "duration": -187,
    "start_time": "2021-09-08T15:08:17.221Z"
   },
   {
    "duration": -189,
    "start_time": "2021-09-08T15:08:17.224Z"
   },
   {
    "duration": -193,
    "start_time": "2021-09-08T15:08:17.228Z"
   },
   {
    "duration": -196,
    "start_time": "2021-09-08T15:08:17.232Z"
   },
   {
    "duration": -199,
    "start_time": "2021-09-08T15:08:17.236Z"
   },
   {
    "duration": -205,
    "start_time": "2021-09-08T15:08:17.243Z"
   },
   {
    "duration": -208,
    "start_time": "2021-09-08T15:08:17.246Z"
   },
   {
    "duration": -210,
    "start_time": "2021-09-08T15:08:17.249Z"
   },
   {
    "duration": -214,
    "start_time": "2021-09-08T15:08:17.254Z"
   },
   {
    "duration": -216,
    "start_time": "2021-09-08T15:08:17.257Z"
   },
   {
    "duration": -218,
    "start_time": "2021-09-08T15:08:17.260Z"
   },
   {
    "duration": -222,
    "start_time": "2021-09-08T15:08:17.264Z"
   },
   {
    "duration": -225,
    "start_time": "2021-09-08T15:08:17.268Z"
   },
   {
    "duration": -227,
    "start_time": "2021-09-08T15:08:17.271Z"
   },
   {
    "duration": -230,
    "start_time": "2021-09-08T15:08:17.275Z"
   },
   {
    "duration": -233,
    "start_time": "2021-09-08T15:08:17.279Z"
   },
   {
    "duration": -236,
    "start_time": "2021-09-08T15:08:17.283Z"
   },
   {
    "duration": -238,
    "start_time": "2021-09-08T15:08:17.286Z"
   },
   {
    "duration": -241,
    "start_time": "2021-09-08T15:08:17.290Z"
   },
   {
    "duration": -244,
    "start_time": "2021-09-08T15:08:17.294Z"
   },
   {
    "duration": -247,
    "start_time": "2021-09-08T15:08:17.298Z"
   },
   {
    "duration": -249,
    "start_time": "2021-09-08T15:08:17.301Z"
   },
   {
    "duration": -252,
    "start_time": "2021-09-08T15:08:17.305Z"
   },
   {
    "duration": -255,
    "start_time": "2021-09-08T15:08:17.308Z"
   },
   {
    "duration": -264,
    "start_time": "2021-09-08T15:08:17.318Z"
   },
   {
    "duration": -267,
    "start_time": "2021-09-08T15:08:17.322Z"
   },
   {
    "duration": -270,
    "start_time": "2021-09-08T15:08:17.326Z"
   },
   {
    "duration": -273,
    "start_time": "2021-09-08T15:08:17.330Z"
   },
   {
    "duration": -277,
    "start_time": "2021-09-08T15:08:17.335Z"
   },
   {
    "duration": -279,
    "start_time": "2021-09-08T15:08:17.338Z"
   },
   {
    "duration": -286,
    "start_time": "2021-09-08T15:08:17.346Z"
   },
   {
    "duration": -288,
    "start_time": "2021-09-08T15:08:17.349Z"
   },
   {
    "duration": -292,
    "start_time": "2021-09-08T15:08:17.354Z"
   },
   {
    "duration": -295,
    "start_time": "2021-09-08T15:08:17.357Z"
   },
   {
    "duration": -299,
    "start_time": "2021-09-08T15:08:17.362Z"
   },
   {
    "duration": -303,
    "start_time": "2021-09-08T15:08:17.367Z"
   },
   {
    "duration": -278,
    "start_time": "2021-09-08T15:08:17.371Z"
   },
   {
    "duration": -281,
    "start_time": "2021-09-08T15:08:17.375Z"
   },
   {
    "duration": -284,
    "start_time": "2021-09-08T15:08:17.379Z"
   },
   {
    "duration": -286,
    "start_time": "2021-09-08T15:08:17.382Z"
   },
   {
    "duration": -289,
    "start_time": "2021-09-08T15:08:17.386Z"
   },
   {
    "duration": -292,
    "start_time": "2021-09-08T15:08:17.390Z"
   },
   {
    "duration": -295,
    "start_time": "2021-09-08T15:08:17.394Z"
   },
   {
    "duration": -297,
    "start_time": "2021-09-08T15:08:17.397Z"
   },
   {
    "duration": -301,
    "start_time": "2021-09-08T15:08:17.402Z"
   },
   {
    "duration": -303,
    "start_time": "2021-09-08T15:08:17.405Z"
   },
   {
    "duration": -306,
    "start_time": "2021-09-08T15:08:17.409Z"
   },
   {
    "duration": -309,
    "start_time": "2021-09-08T15:08:17.413Z"
   },
   {
    "duration": -313,
    "start_time": "2021-09-08T15:08:17.418Z"
   },
   {
    "duration": -332,
    "start_time": "2021-09-08T15:08:17.438Z"
   },
   {
    "duration": -336,
    "start_time": "2021-09-08T15:08:17.443Z"
   },
   {
    "duration": -338,
    "start_time": "2021-09-08T15:08:17.446Z"
   },
   {
    "duration": 1717,
    "start_time": "2021-09-08T15:13:39.450Z"
   },
   {
    "duration": 4927,
    "start_time": "2021-09-08T15:14:58.483Z"
   },
   {
    "duration": 792,
    "start_time": "2021-09-08T15:38:47.841Z"
   },
   {
    "duration": 2014,
    "start_time": "2021-09-08T15:39:04.932Z"
   },
   {
    "duration": 16,
    "start_time": "2021-09-08T15:39:06.948Z"
   },
   {
    "duration": 14,
    "start_time": "2021-09-08T15:39:06.966Z"
   },
   {
    "duration": 16,
    "start_time": "2021-09-08T15:39:06.982Z"
   },
   {
    "duration": 18,
    "start_time": "2021-09-08T15:39:07.000Z"
   },
   {
    "duration": 3297,
    "start_time": "2021-09-08T15:39:07.020Z"
   },
   {
    "duration": -401,
    "start_time": "2021-09-08T15:39:10.722Z"
   },
   {
    "duration": -403,
    "start_time": "2021-09-08T15:39:10.725Z"
   },
   {
    "duration": -406,
    "start_time": "2021-09-08T15:39:10.729Z"
   },
   {
    "duration": -410,
    "start_time": "2021-09-08T15:39:10.733Z"
   },
   {
    "duration": -460,
    "start_time": "2021-09-08T15:39:10.784Z"
   },
   {
    "duration": -462,
    "start_time": "2021-09-08T15:39:10.787Z"
   },
   {
    "duration": -466,
    "start_time": "2021-09-08T15:39:10.792Z"
   },
   {
    "duration": -469,
    "start_time": "2021-09-08T15:39:10.796Z"
   },
   {
    "duration": -473,
    "start_time": "2021-09-08T15:39:10.800Z"
   },
   {
    "duration": -480,
    "start_time": "2021-09-08T15:39:10.809Z"
   },
   {
    "duration": -487,
    "start_time": "2021-09-08T15:39:10.817Z"
   },
   {
    "duration": -489,
    "start_time": "2021-09-08T15:39:10.820Z"
   },
   {
    "duration": -492,
    "start_time": "2021-09-08T15:39:10.824Z"
   },
   {
    "duration": -494,
    "start_time": "2021-09-08T15:39:10.827Z"
   },
   {
    "duration": -497,
    "start_time": "2021-09-08T15:39:10.831Z"
   },
   {
    "duration": -499,
    "start_time": "2021-09-08T15:39:10.834Z"
   },
   {
    "duration": -502,
    "start_time": "2021-09-08T15:39:10.838Z"
   },
   {
    "duration": -504,
    "start_time": "2021-09-08T15:39:10.841Z"
   },
   {
    "duration": -507,
    "start_time": "2021-09-08T15:39:10.845Z"
   },
   {
    "duration": -509,
    "start_time": "2021-09-08T15:39:10.848Z"
   },
   {
    "duration": -511,
    "start_time": "2021-09-08T15:39:10.851Z"
   },
   {
    "duration": -513,
    "start_time": "2021-09-08T15:39:10.854Z"
   },
   {
    "duration": -516,
    "start_time": "2021-09-08T15:39:10.858Z"
   },
   {
    "duration": -518,
    "start_time": "2021-09-08T15:39:10.861Z"
   },
   {
    "duration": -521,
    "start_time": "2021-09-08T15:39:10.865Z"
   },
   {
    "duration": -523,
    "start_time": "2021-09-08T15:39:10.868Z"
   },
   {
    "duration": -525,
    "start_time": "2021-09-08T15:39:10.871Z"
   },
   {
    "duration": -527,
    "start_time": "2021-09-08T15:39:10.874Z"
   },
   {
    "duration": -531,
    "start_time": "2021-09-08T15:39:10.879Z"
   },
   {
    "duration": -533,
    "start_time": "2021-09-08T15:39:10.882Z"
   },
   {
    "duration": -535,
    "start_time": "2021-09-08T15:39:10.885Z"
   },
   {
    "duration": -537,
    "start_time": "2021-09-08T15:39:10.889Z"
   },
   {
    "duration": -539,
    "start_time": "2021-09-08T15:39:10.892Z"
   },
   {
    "duration": -542,
    "start_time": "2021-09-08T15:39:10.896Z"
   },
   {
    "duration": -545,
    "start_time": "2021-09-08T15:39:10.900Z"
   },
   {
    "duration": -546,
    "start_time": "2021-09-08T15:39:10.903Z"
   },
   {
    "duration": -548,
    "start_time": "2021-09-08T15:39:10.906Z"
   },
   {
    "duration": -550,
    "start_time": "2021-09-08T15:39:10.909Z"
   },
   {
    "duration": -553,
    "start_time": "2021-09-08T15:39:10.913Z"
   },
   {
    "duration": -556,
    "start_time": "2021-09-08T15:39:10.917Z"
   },
   {
    "duration": -558,
    "start_time": "2021-09-08T15:39:10.921Z"
   },
   {
    "duration": -560,
    "start_time": "2021-09-08T15:39:10.924Z"
   },
   {
    "duration": -563,
    "start_time": "2021-09-08T15:39:10.928Z"
   },
   {
    "duration": -562,
    "start_time": "2021-09-08T15:39:10.931Z"
   },
   {
    "duration": -564,
    "start_time": "2021-09-08T15:39:10.935Z"
   },
   {
    "duration": -566,
    "start_time": "2021-09-08T15:39:10.938Z"
   },
   {
    "duration": -569,
    "start_time": "2021-09-08T15:39:10.942Z"
   },
   {
    "duration": -571,
    "start_time": "2021-09-08T15:39:10.945Z"
   },
   {
    "duration": -574,
    "start_time": "2021-09-08T15:39:10.949Z"
   },
   {
    "duration": -576,
    "start_time": "2021-09-08T15:39:10.952Z"
   },
   {
    "duration": -577,
    "start_time": "2021-09-08T15:39:10.955Z"
   },
   {
    "duration": -579,
    "start_time": "2021-09-08T15:39:10.958Z"
   },
   {
    "duration": -582,
    "start_time": "2021-09-08T15:39:10.962Z"
   },
   {
    "duration": -584,
    "start_time": "2021-09-08T15:39:10.965Z"
   },
   {
    "duration": -577,
    "start_time": "2021-09-08T15:39:10.968Z"
   },
   {
    "duration": -579,
    "start_time": "2021-09-08T15:39:10.971Z"
   },
   {
    "duration": 1646,
    "start_time": "2021-09-08T15:39:46.557Z"
   },
   {
    "duration": 1829,
    "start_time": "2021-09-08T15:40:11.913Z"
   },
   {
    "duration": 2559,
    "start_time": "2021-09-08T16:14:14.170Z"
   },
   {
    "duration": 11,
    "start_time": "2021-09-08T16:14:16.732Z"
   },
   {
    "duration": 11,
    "start_time": "2021-09-08T16:14:16.746Z"
   },
   {
    "duration": 44,
    "start_time": "2021-09-08T16:14:16.760Z"
   },
   {
    "duration": 17,
    "start_time": "2021-09-08T16:14:16.806Z"
   },
   {
    "duration": 1874,
    "start_time": "2021-09-08T16:14:16.824Z"
   },
   {
    "duration": 63,
    "start_time": "2021-09-08T16:14:18.639Z"
   },
   {
    "duration": 58,
    "start_time": "2021-09-08T16:14:18.646Z"
   },
   {
    "duration": 55,
    "start_time": "2021-09-08T16:14:18.650Z"
   },
   {
    "duration": 52,
    "start_time": "2021-09-08T16:14:18.654Z"
   },
   {
    "duration": 47,
    "start_time": "2021-09-08T16:14:18.660Z"
   },
   {
    "duration": 43,
    "start_time": "2021-09-08T16:14:18.665Z"
   },
   {
    "duration": 40,
    "start_time": "2021-09-08T16:14:18.669Z"
   },
   {
    "duration": 26,
    "start_time": "2021-09-08T16:14:18.684Z"
   },
   {
    "duration": -33,
    "start_time": "2021-09-08T16:14:18.744Z"
   },
   {
    "duration": -38,
    "start_time": "2021-09-08T16:14:18.750Z"
   },
   {
    "duration": -58,
    "start_time": "2021-09-08T16:14:18.771Z"
   },
   {
    "duration": -62,
    "start_time": "2021-09-08T16:14:18.776Z"
   },
   {
    "duration": -64,
    "start_time": "2021-09-08T16:14:18.779Z"
   },
   {
    "duration": -68,
    "start_time": "2021-09-08T16:14:18.784Z"
   },
   {
    "duration": -74,
    "start_time": "2021-09-08T16:14:18.791Z"
   },
   {
    "duration": -78,
    "start_time": "2021-09-08T16:14:18.796Z"
   },
   {
    "duration": -80,
    "start_time": "2021-09-08T16:14:18.799Z"
   },
   {
    "duration": -86,
    "start_time": "2021-09-08T16:14:18.806Z"
   },
   {
    "duration": -91,
    "start_time": "2021-09-08T16:14:18.812Z"
   },
   {
    "duration": -94,
    "start_time": "2021-09-08T16:14:18.816Z"
   },
   {
    "duration": -97,
    "start_time": "2021-09-08T16:14:18.820Z"
   },
   {
    "duration": -124,
    "start_time": "2021-09-08T16:14:18.848Z"
   },
   {
    "duration": -130,
    "start_time": "2021-09-08T16:14:18.855Z"
   },
   {
    "duration": -146,
    "start_time": "2021-09-08T16:14:18.872Z"
   },
   {
    "duration": -150,
    "start_time": "2021-09-08T16:14:18.877Z"
   },
   {
    "duration": -156,
    "start_time": "2021-09-08T16:14:18.884Z"
   },
   {
    "duration": -161,
    "start_time": "2021-09-08T16:14:18.890Z"
   },
   {
    "duration": -164,
    "start_time": "2021-09-08T16:14:18.895Z"
   },
   {
    "duration": -168,
    "start_time": "2021-09-08T16:14:18.900Z"
   },
   {
    "duration": -171,
    "start_time": "2021-09-08T16:14:18.904Z"
   },
   {
    "duration": -174,
    "start_time": "2021-09-08T16:14:18.908Z"
   },
   {
    "duration": -177,
    "start_time": "2021-09-08T16:14:18.912Z"
   },
   {
    "duration": -183,
    "start_time": "2021-09-08T16:14:18.919Z"
   },
   {
    "duration": -187,
    "start_time": "2021-09-08T16:14:18.924Z"
   },
   {
    "duration": -190,
    "start_time": "2021-09-08T16:14:18.928Z"
   },
   {
    "duration": -247,
    "start_time": "2021-09-08T16:14:18.986Z"
   },
   {
    "duration": -202,
    "start_time": "2021-09-08T16:14:18.993Z"
   },
   {
    "duration": -207,
    "start_time": "2021-09-08T16:14:19.000Z"
   },
   {
    "duration": -236,
    "start_time": "2021-09-08T16:14:19.030Z"
   },
   {
    "duration": -243,
    "start_time": "2021-09-08T16:14:19.038Z"
   },
   {
    "duration": -250,
    "start_time": "2021-09-08T16:14:19.046Z"
   },
   {
    "duration": -254,
    "start_time": "2021-09-08T16:14:19.051Z"
   },
   {
    "duration": -261,
    "start_time": "2021-09-08T16:14:19.059Z"
   },
   {
    "duration": -268,
    "start_time": "2021-09-08T16:14:19.067Z"
   },
   {
    "duration": -272,
    "start_time": "2021-09-08T16:14:19.072Z"
   },
   {
    "duration": -276,
    "start_time": "2021-09-08T16:14:19.077Z"
   },
   {
    "duration": -309,
    "start_time": "2021-09-08T16:14:19.111Z"
   },
   {
    "duration": -321,
    "start_time": "2021-09-08T16:14:19.124Z"
   },
   {
    "duration": -328,
    "start_time": "2021-09-08T16:14:19.132Z"
   },
   {
    "duration": -332,
    "start_time": "2021-09-08T16:14:19.137Z"
   },
   {
    "duration": -335,
    "start_time": "2021-09-08T16:14:19.141Z"
   },
   {
    "duration": -339,
    "start_time": "2021-09-08T16:14:19.146Z"
   },
   {
    "duration": -342,
    "start_time": "2021-09-08T16:14:19.150Z"
   },
   {
    "duration": -346,
    "start_time": "2021-09-08T16:14:19.155Z"
   },
   {
    "duration": -349,
    "start_time": "2021-09-08T16:14:19.159Z"
   },
   {
    "duration": -352,
    "start_time": "2021-09-08T16:14:19.163Z"
   },
   {
    "duration": 4052,
    "start_time": "2021-09-08T16:18:27.376Z"
   },
   {
    "duration": 4289,
    "start_time": "2021-09-08T16:19:11.204Z"
   },
   {
    "duration": 4449,
    "start_time": "2021-09-08T16:23:40.275Z"
   },
   {
    "duration": 47763,
    "start_time": "2021-09-08T16:56:17.438Z"
   },
   {
    "duration": 13,
    "start_time": "2021-09-08T16:57:05.203Z"
   },
   {
    "duration": 9,
    "start_time": "2021-09-08T16:57:05.218Z"
   },
   {
    "duration": 15,
    "start_time": "2021-09-08T16:57:05.229Z"
   },
   {
    "duration": 17,
    "start_time": "2021-09-08T16:57:05.245Z"
   },
   {
    "duration": 1825,
    "start_time": "2021-09-08T16:57:05.263Z"
   },
   {
    "duration": -547,
    "start_time": "2021-09-08T16:57:07.639Z"
   },
   {
    "duration": -554,
    "start_time": "2021-09-08T16:57:07.647Z"
   },
   {
    "duration": -562,
    "start_time": "2021-09-08T16:57:07.656Z"
   },
   {
    "duration": -565,
    "start_time": "2021-09-08T16:57:07.660Z"
   },
   {
    "duration": -568,
    "start_time": "2021-09-08T16:57:07.664Z"
   },
   {
    "duration": -573,
    "start_time": "2021-09-08T16:57:07.670Z"
   },
   {
    "duration": -576,
    "start_time": "2021-09-08T16:57:07.674Z"
   },
   {
    "duration": -580,
    "start_time": "2021-09-08T16:57:07.679Z"
   },
   {
    "duration": -585,
    "start_time": "2021-09-08T16:57:07.685Z"
   },
   {
    "duration": -589,
    "start_time": "2021-09-08T16:57:07.690Z"
   },
   {
    "duration": -593,
    "start_time": "2021-09-08T16:57:07.695Z"
   },
   {
    "duration": -599,
    "start_time": "2021-09-08T16:57:07.702Z"
   },
   {
    "duration": -604,
    "start_time": "2021-09-08T16:57:07.707Z"
   },
   {
    "duration": -607,
    "start_time": "2021-09-08T16:57:07.711Z"
   },
   {
    "duration": -612,
    "start_time": "2021-09-08T16:57:07.717Z"
   },
   {
    "duration": -619,
    "start_time": "2021-09-08T16:57:07.725Z"
   },
   {
    "duration": -621,
    "start_time": "2021-09-08T16:57:07.728Z"
   },
   {
    "duration": -626,
    "start_time": "2021-09-08T16:57:07.734Z"
   },
   {
    "duration": -630,
    "start_time": "2021-09-08T16:57:07.739Z"
   },
   {
    "duration": -632,
    "start_time": "2021-09-08T16:57:07.742Z"
   },
   {
    "duration": -634,
    "start_time": "2021-09-08T16:57:07.745Z"
   },
   {
    "duration": -642,
    "start_time": "2021-09-08T16:57:07.754Z"
   },
   {
    "duration": -644,
    "start_time": "2021-09-08T16:57:07.757Z"
   },
   {
    "duration": -647,
    "start_time": "2021-09-08T16:57:07.761Z"
   },
   {
    "duration": -653,
    "start_time": "2021-09-08T16:57:07.768Z"
   },
   {
    "duration": -656,
    "start_time": "2021-09-08T16:57:07.772Z"
   },
   {
    "duration": -658,
    "start_time": "2021-09-08T16:57:07.775Z"
   },
   {
    "duration": -661,
    "start_time": "2021-09-08T16:57:07.779Z"
   },
   {
    "duration": -668,
    "start_time": "2021-09-08T16:57:07.787Z"
   },
   {
    "duration": -671,
    "start_time": "2021-09-08T16:57:07.791Z"
   },
   {
    "duration": -673,
    "start_time": "2021-09-08T16:57:07.794Z"
   },
   {
    "duration": -675,
    "start_time": "2021-09-08T16:57:07.797Z"
   },
   {
    "duration": -677,
    "start_time": "2021-09-08T16:57:07.800Z"
   },
   {
    "duration": -679,
    "start_time": "2021-09-08T16:57:07.803Z"
   },
   {
    "duration": -682,
    "start_time": "2021-09-08T16:57:07.807Z"
   },
   {
    "duration": -684,
    "start_time": "2021-09-08T16:57:07.810Z"
   },
   {
    "duration": -687,
    "start_time": "2021-09-08T16:57:07.814Z"
   },
   {
    "duration": -689,
    "start_time": "2021-09-08T16:57:07.817Z"
   },
   {
    "duration": -692,
    "start_time": "2021-09-08T16:57:07.821Z"
   },
   {
    "duration": -695,
    "start_time": "2021-09-08T16:57:07.825Z"
   },
   {
    "duration": -637,
    "start_time": "2021-09-08T16:57:07.828Z"
   },
   {
    "duration": -640,
    "start_time": "2021-09-08T16:57:07.832Z"
   },
   {
    "duration": -642,
    "start_time": "2021-09-08T16:57:07.835Z"
   },
   {
    "duration": -647,
    "start_time": "2021-09-08T16:57:07.841Z"
   },
   {
    "duration": -649,
    "start_time": "2021-09-08T16:57:07.844Z"
   },
   {
    "duration": -660,
    "start_time": "2021-09-08T16:57:07.856Z"
   },
   {
    "duration": -662,
    "start_time": "2021-09-08T16:57:07.859Z"
   },
   {
    "duration": -666,
    "start_time": "2021-09-08T16:57:07.864Z"
   },
   {
    "duration": -673,
    "start_time": "2021-09-08T16:57:07.872Z"
   },
   {
    "duration": -675,
    "start_time": "2021-09-08T16:57:07.875Z"
   },
   {
    "duration": -679,
    "start_time": "2021-09-08T16:57:07.879Z"
   },
   {
    "duration": -686,
    "start_time": "2021-09-08T16:57:07.887Z"
   },
   {
    "duration": -689,
    "start_time": "2021-09-08T16:57:07.891Z"
   },
   {
    "duration": -692,
    "start_time": "2021-09-08T16:57:07.895Z"
   },
   {
    "duration": -694,
    "start_time": "2021-09-08T16:57:07.898Z"
   },
   {
    "duration": -701,
    "start_time": "2021-09-08T16:57:07.906Z"
   },
   {
    "duration": 10,
    "start_time": "2021-09-08T16:57:39.517Z"
   },
   {
    "duration": 1791,
    "start_time": "2021-09-08T16:58:51.245Z"
   },
   {
    "duration": 1915,
    "start_time": "2021-09-08T16:59:50.415Z"
   },
   {
    "duration": 6402,
    "start_time": "2021-09-08T17:00:48.827Z"
   },
   {
    "duration": 95,
    "start_time": "2021-09-08T17:02:33.646Z"
   },
   {
    "duration": 16,
    "start_time": "2021-09-08T17:09:44.543Z"
   },
   {
    "duration": 22,
    "start_time": "2021-09-08T17:10:42.677Z"
   },
   {
    "duration": 17,
    "start_time": "2021-09-08T17:13:00.566Z"
   },
   {
    "duration": 22,
    "start_time": "2021-09-08T17:13:20.110Z"
   },
   {
    "duration": 251,
    "start_time": "2021-09-08T17:20:41.324Z"
   },
   {
    "duration": 13699,
    "start_time": "2021-09-08T17:22:46.163Z"
   },
   {
    "duration": 11,
    "start_time": "2021-09-08T17:22:59.864Z"
   },
   {
    "duration": 12,
    "start_time": "2021-09-08T17:22:59.877Z"
   },
   {
    "duration": 10,
    "start_time": "2021-09-08T17:22:59.890Z"
   },
   {
    "duration": 14,
    "start_time": "2021-09-08T17:22:59.902Z"
   },
   {
    "duration": 16,
    "start_time": "2021-09-08T17:22:59.917Z"
   },
   {
    "duration": 57,
    "start_time": "2021-09-08T17:22:59.935Z"
   },
   {
    "duration": 5,
    "start_time": "2021-09-08T17:22:59.994Z"
   },
   {
    "duration": 7,
    "start_time": "2021-09-08T17:23:00.003Z"
   },
   {
    "duration": 20,
    "start_time": "2021-09-08T17:23:00.012Z"
   },
   {
    "duration": 8,
    "start_time": "2021-09-08T17:23:00.034Z"
   },
   {
    "duration": 9,
    "start_time": "2021-09-08T17:23:00.044Z"
   },
   {
    "duration": 43,
    "start_time": "2021-09-08T17:23:00.055Z"
   },
   {
    "duration": 206,
    "start_time": "2021-09-08T17:23:00.100Z"
   },
   {
    "duration": 6,
    "start_time": "2021-09-08T17:23:00.308Z"
   },
   {
    "duration": 19,
    "start_time": "2021-09-08T17:23:00.316Z"
   },
   {
    "duration": 13,
    "start_time": "2021-09-08T17:23:00.336Z"
   },
   {
    "duration": 145,
    "start_time": "2021-09-08T17:23:00.350Z"
   },
   {
    "duration": 410,
    "start_time": "2021-09-08T17:23:00.497Z"
   },
   {
    "duration": 9,
    "start_time": "2021-09-08T17:23:00.909Z"
   },
   {
    "duration": 267,
    "start_time": "2021-09-08T17:23:00.919Z"
   },
   {
    "duration": 9,
    "start_time": "2021-09-08T17:23:01.191Z"
   },
   {
    "duration": 404,
    "start_time": "2021-09-08T17:23:01.202Z"
   },
   {
    "duration": 5,
    "start_time": "2021-09-08T17:23:01.608Z"
   },
   {
    "duration": 97,
    "start_time": "2021-09-08T17:23:01.615Z"
   },
   {
    "duration": 8,
    "start_time": "2021-09-08T17:23:01.714Z"
   },
   {
    "duration": 172,
    "start_time": "2021-09-08T17:23:01.726Z"
   },
   {
    "duration": 9,
    "start_time": "2021-09-08T17:23:01.900Z"
   },
   {
    "duration": 15,
    "start_time": "2021-09-08T17:23:01.911Z"
   },
   {
    "duration": 20,
    "start_time": "2021-09-08T17:23:01.927Z"
   },
   {
    "duration": 213,
    "start_time": "2021-09-08T17:23:01.949Z"
   },
   {
    "duration": 29,
    "start_time": "2021-09-08T17:23:02.164Z"
   },
   {
    "duration": 28,
    "start_time": "2021-09-08T17:23:02.195Z"
   },
   {
    "duration": 132,
    "start_time": "2021-09-08T17:23:02.224Z"
   },
   {
    "duration": 8,
    "start_time": "2021-09-08T17:23:02.357Z"
   },
   {
    "duration": 20,
    "start_time": "2021-09-08T17:23:02.367Z"
   },
   {
    "duration": 397,
    "start_time": "2021-09-08T17:23:02.389Z"
   },
   {
    "duration": 10,
    "start_time": "2021-09-08T17:23:02.791Z"
   },
   {
    "duration": 16,
    "start_time": "2021-09-08T17:23:02.802Z"
   },
   {
    "duration": 6306,
    "start_time": "2021-09-08T17:23:02.819Z"
   },
   {
    "duration": 118,
    "start_time": "2021-09-08T17:26:29.953Z"
   },
   {
    "duration": 2444,
    "start_time": "2021-09-08T17:26:48.119Z"
   },
   {
    "duration": 220,
    "start_time": "2021-09-08T17:42:11.162Z"
   },
   {
    "duration": 191,
    "start_time": "2021-09-08T17:42:37.376Z"
   },
   {
    "duration": 193,
    "start_time": "2021-09-08T17:42:52.235Z"
   },
   {
    "duration": 186,
    "start_time": "2021-09-08T17:43:48.949Z"
   },
   {
    "duration": 194,
    "start_time": "2021-09-08T17:44:08.447Z"
   },
   {
    "duration": 181,
    "start_time": "2021-09-08T17:45:14.056Z"
   },
   {
    "duration": 501,
    "start_time": "2021-09-08T17:46:41.073Z"
   },
   {
    "duration": 195,
    "start_time": "2021-09-08T17:46:52.197Z"
   },
   {
    "duration": 179,
    "start_time": "2021-09-08T17:47:37.967Z"
   },
   {
    "duration": 311,
    "start_time": "2021-09-08T17:48:02.287Z"
   },
   {
    "duration": 182,
    "start_time": "2021-09-08T17:48:15.326Z"
   },
   {
    "duration": 201,
    "start_time": "2021-09-08T17:53:53.493Z"
   },
   {
    "duration": 189,
    "start_time": "2021-09-08T17:54:03.812Z"
   },
   {
    "duration": 188,
    "start_time": "2021-09-08T17:54:10.334Z"
   },
   {
    "duration": 194,
    "start_time": "2021-09-08T17:54:19.722Z"
   },
   {
    "duration": 13,
    "start_time": "2021-09-08T17:56:13.294Z"
   },
   {
    "duration": 189,
    "start_time": "2021-09-08T17:57:44.736Z"
   },
   {
    "duration": 198,
    "start_time": "2021-09-08T17:57:59.391Z"
   },
   {
    "duration": 8,
    "start_time": "2021-09-08T18:05:58.097Z"
   },
   {
    "duration": 15,
    "start_time": "2021-09-08T18:07:43.031Z"
   },
   {
    "duration": 20,
    "start_time": "2021-09-08T18:10:01.243Z"
   },
   {
    "duration": 256,
    "start_time": "2021-09-08T18:12:49.977Z"
   },
   {
    "duration": 21,
    "start_time": "2021-09-08T18:24:50.433Z"
   },
   {
    "duration": 13,
    "start_time": "2021-09-08T18:26:56.041Z"
   },
   {
    "duration": 11,
    "start_time": "2021-09-08T18:27:41.122Z"
   },
   {
    "duration": 6837,
    "start_time": "2021-09-08T18:29:06.876Z"
   },
   {
    "duration": 12,
    "start_time": "2021-09-08T18:33:34.909Z"
   },
   {
    "duration": 6159,
    "start_time": "2021-09-08T18:35:31.291Z"
   },
   {
    "duration": 7,
    "start_time": "2021-09-08T18:37:17.589Z"
   },
   {
    "duration": 10,
    "start_time": "2021-09-08T18:37:24.420Z"
   },
   {
    "duration": 12,
    "start_time": "2021-09-08T18:38:01.177Z"
   },
   {
    "duration": 4,
    "start_time": "2021-09-08T18:41:02.505Z"
   },
   {
    "duration": 9,
    "start_time": "2021-09-08T18:41:15.541Z"
   },
   {
    "duration": 10,
    "start_time": "2021-09-08T18:43:51.919Z"
   },
   {
    "duration": 10,
    "start_time": "2021-09-08T18:49:13.312Z"
   },
   {
    "duration": 10,
    "start_time": "2021-09-08T18:49:35.286Z"
   },
   {
    "duration": 242,
    "start_time": "2021-09-08T18:52:48.409Z"
   },
   {
    "duration": 247,
    "start_time": "2021-09-08T18:53:44.080Z"
   },
   {
    "duration": 217,
    "start_time": "2021-09-08T19:03:56.312Z"
   },
   {
    "duration": 247,
    "start_time": "2021-09-08T19:04:53.513Z"
   },
   {
    "duration": 5,
    "start_time": "2021-09-08T19:07:18.795Z"
   },
   {
    "duration": 657,
    "start_time": "2021-09-08T19:07:50.462Z"
   },
   {
    "duration": 328,
    "start_time": "2021-09-08T19:12:36.068Z"
   },
   {
    "duration": 341,
    "start_time": "2021-09-08T19:13:39.196Z"
   },
   {
    "duration": 9,
    "start_time": "2021-09-08T19:16:53.744Z"
   },
   {
    "duration": 11,
    "start_time": "2021-09-08T19:17:25.548Z"
   },
   {
    "duration": 546,
    "start_time": "2021-09-08T19:20:44.027Z"
   },
   {
    "duration": 566,
    "start_time": "2021-09-08T19:25:38.047Z"
   },
   {
    "duration": 580,
    "start_time": "2021-09-08T19:58:25.017Z"
   },
   {
    "duration": 260,
    "start_time": "2021-09-08T20:00:58.964Z"
   },
   {
    "duration": 271,
    "start_time": "2021-09-08T20:06:05.518Z"
   },
   {
    "duration": 512,
    "start_time": "2021-09-08T20:06:50.133Z"
   },
   {
    "duration": 18,
    "start_time": "2021-09-08T20:08:02.166Z"
   },
   {
    "duration": 281,
    "start_time": "2021-09-08T20:09:20.764Z"
   },
   {
    "duration": 16,
    "start_time": "2021-09-08T20:09:31.630Z"
   },
   {
    "duration": 307,
    "start_time": "2021-09-08T20:22:09.448Z"
   },
   {
    "duration": 330,
    "start_time": "2021-09-08T20:23:11.301Z"
   },
   {
    "duration": 468,
    "start_time": "2021-09-08T20:23:26.208Z"
   },
   {
    "duration": 445,
    "start_time": "2021-09-08T20:23:37.090Z"
   },
   {
    "duration": 447,
    "start_time": "2021-09-08T20:29:48.783Z"
   },
   {
    "duration": 298,
    "start_time": "2021-09-08T20:32:30.874Z"
   },
   {
    "duration": 293,
    "start_time": "2021-09-08T20:35:41.601Z"
   },
   {
    "duration": 301,
    "start_time": "2021-09-08T20:47:47.774Z"
   },
   {
    "duration": 315,
    "start_time": "2021-09-08T20:49:25.792Z"
   },
   {
    "duration": 327,
    "start_time": "2021-09-08T20:50:01.742Z"
   },
   {
    "duration": 5,
    "start_time": "2021-09-08T20:54:38.665Z"
   },
   {
    "duration": 5,
    "start_time": "2021-09-08T20:55:00.449Z"
   },
   {
    "duration": 44,
    "start_time": "2021-09-08T20:55:08.733Z"
   },
   {
    "duration": 5,
    "start_time": "2021-09-08T20:56:24.855Z"
   },
   {
    "duration": 46,
    "start_time": "2021-09-08T20:56:46.294Z"
   },
   {
    "duration": 10,
    "start_time": "2021-09-08T20:56:55.861Z"
   },
   {
    "duration": 156,
    "start_time": "2021-09-08T20:57:03.888Z"
   },
   {
    "duration": 6,
    "start_time": "2021-09-08T20:57:13.867Z"
   },
   {
    "duration": 9,
    "start_time": "2021-09-08T20:59:52.996Z"
   },
   {
    "duration": 7,
    "start_time": "2021-09-08T20:59:54.084Z"
   },
   {
    "duration": 6161,
    "start_time": "2021-09-08T20:59:56.208Z"
   },
   {
    "duration": 13827,
    "start_time": "2021-09-09T09:01:45.151Z"
   },
   {
    "duration": 14,
    "start_time": "2021-09-09T09:01:58.980Z"
   },
   {
    "duration": 20,
    "start_time": "2021-09-09T09:01:58.996Z"
   },
   {
    "duration": 17,
    "start_time": "2021-09-09T09:01:59.018Z"
   },
   {
    "duration": 23,
    "start_time": "2021-09-09T09:01:59.037Z"
   },
   {
    "duration": 19,
    "start_time": "2021-09-09T09:01:59.062Z"
   },
   {
    "duration": 44,
    "start_time": "2021-09-09T09:01:59.083Z"
   },
   {
    "duration": 2544,
    "start_time": "2021-09-09T09:01:59.129Z"
   },
   {
    "duration": 9,
    "start_time": "2021-09-09T09:02:01.677Z"
   },
   {
    "duration": 14,
    "start_time": "2021-09-09T09:02:01.688Z"
   },
   {
    "duration": 65,
    "start_time": "2021-09-09T09:02:01.705Z"
   },
   {
    "duration": 16,
    "start_time": "2021-09-09T09:02:01.772Z"
   },
   {
    "duration": 56,
    "start_time": "2021-09-09T09:02:01.791Z"
   },
   {
    "duration": 23,
    "start_time": "2021-09-09T09:02:01.849Z"
   },
   {
    "duration": 544,
    "start_time": "2021-09-09T09:02:01.875Z"
   },
   {
    "duration": 22,
    "start_time": "2021-09-09T09:02:02.421Z"
   },
   {
    "duration": 29,
    "start_time": "2021-09-09T09:02:02.446Z"
   },
   {
    "duration": 23,
    "start_time": "2021-09-09T09:02:02.478Z"
   },
   {
    "duration": 192,
    "start_time": "2021-09-09T09:02:02.504Z"
   },
   {
    "duration": 12,
    "start_time": "2021-09-09T09:02:02.698Z"
   },
   {
    "duration": 17,
    "start_time": "2021-09-09T09:02:02.712Z"
   },
   {
    "duration": 32,
    "start_time": "2021-09-09T09:02:02.731Z"
   },
   {
    "duration": 12,
    "start_time": "2021-09-09T09:02:02.768Z"
   },
   {
    "duration": 13,
    "start_time": "2021-09-09T09:02:02.783Z"
   },
   {
    "duration": 21,
    "start_time": "2021-09-09T09:02:02.797Z"
   },
   {
    "duration": 384,
    "start_time": "2021-09-09T09:02:02.841Z"
   },
   {
    "duration": 15,
    "start_time": "2021-09-09T09:02:03.227Z"
   },
   {
    "duration": 513,
    "start_time": "2021-09-09T09:02:03.244Z"
   },
   {
    "duration": 4,
    "start_time": "2021-09-09T09:02:03.759Z"
   },
   {
    "duration": 94,
    "start_time": "2021-09-09T09:02:03.765Z"
   },
   {
    "duration": 13,
    "start_time": "2021-09-09T09:02:03.861Z"
   },
   {
    "duration": 216,
    "start_time": "2021-09-09T09:02:03.875Z"
   },
   {
    "duration": 6,
    "start_time": "2021-09-09T09:02:04.094Z"
   },
   {
    "duration": 15,
    "start_time": "2021-09-09T09:02:04.102Z"
   },
   {
    "duration": 40,
    "start_time": "2021-09-09T09:02:04.119Z"
   },
   {
    "duration": 259,
    "start_time": "2021-09-09T09:02:04.162Z"
   },
   {
    "duration": 46,
    "start_time": "2021-09-09T09:02:04.423Z"
   },
   {
    "duration": 16,
    "start_time": "2021-09-09T09:02:04.471Z"
   },
   {
    "duration": 158,
    "start_time": "2021-09-09T09:02:04.490Z"
   },
   {
    "duration": 11,
    "start_time": "2021-09-09T09:02:04.650Z"
   },
   {
    "duration": 18,
    "start_time": "2021-09-09T09:02:04.663Z"
   },
   {
    "duration": 512,
    "start_time": "2021-09-09T09:02:04.683Z"
   },
   {
    "duration": 14,
    "start_time": "2021-09-09T09:02:05.198Z"
   },
   {
    "duration": 10,
    "start_time": "2021-09-09T09:02:05.240Z"
   },
   {
    "duration": 7865,
    "start_time": "2021-09-09T09:02:05.254Z"
   },
   {
    "duration": 4,
    "start_time": "2021-09-09T09:02:13.121Z"
   },
   {
    "duration": 733,
    "start_time": "2021-09-09T09:24:20.785Z"
   },
   {
    "duration": 369,
    "start_time": "2021-09-09T09:24:58.524Z"
   },
   {
    "duration": 13918,
    "start_time": "2021-09-09T15:52:37.852Z"
   },
   {
    "duration": 13,
    "start_time": "2021-09-09T15:52:51.771Z"
   },
   {
    "duration": 14,
    "start_time": "2021-09-09T15:52:51.787Z"
   },
   {
    "duration": 12,
    "start_time": "2021-09-09T15:52:51.803Z"
   },
   {
    "duration": 20,
    "start_time": "2021-09-09T15:52:51.817Z"
   },
   {
    "duration": 20,
    "start_time": "2021-09-09T15:52:51.841Z"
   },
   {
    "duration": 41,
    "start_time": "2021-09-09T15:52:51.863Z"
   },
   {
    "duration": 2213,
    "start_time": "2021-09-09T15:52:51.907Z"
   },
   {
    "duration": 21,
    "start_time": "2021-09-09T15:52:54.122Z"
   },
   {
    "duration": 5,
    "start_time": "2021-09-09T15:52:54.145Z"
   },
   {
    "duration": 19,
    "start_time": "2021-09-09T15:52:54.152Z"
   },
   {
    "duration": 13,
    "start_time": "2021-09-09T15:52:54.173Z"
   },
   {
    "duration": 59,
    "start_time": "2021-09-09T15:52:54.188Z"
   },
   {
    "duration": 12,
    "start_time": "2021-09-09T15:52:54.249Z"
   },
   {
    "duration": 484,
    "start_time": "2021-09-09T15:52:54.263Z"
   },
   {
    "duration": 7,
    "start_time": "2021-09-09T15:52:54.749Z"
   },
   {
    "duration": 13,
    "start_time": "2021-09-09T15:52:54.758Z"
   },
   {
    "duration": 10,
    "start_time": "2021-09-09T15:52:54.773Z"
   },
   {
    "duration": 228,
    "start_time": "2021-09-09T15:52:54.785Z"
   },
   {
    "duration": 12,
    "start_time": "2021-09-09T15:52:55.015Z"
   },
   {
    "duration": 30,
    "start_time": "2021-09-09T15:52:55.029Z"
   },
   {
    "duration": 25,
    "start_time": "2021-09-09T15:52:55.061Z"
   },
   {
    "duration": 11,
    "start_time": "2021-09-09T15:52:55.091Z"
   },
   {
    "duration": 15,
    "start_time": "2021-09-09T15:52:55.105Z"
   },
   {
    "duration": 16,
    "start_time": "2021-09-09T15:52:55.141Z"
   },
   {
    "duration": 369,
    "start_time": "2021-09-09T15:52:55.159Z"
   },
   {
    "duration": 15,
    "start_time": "2021-09-09T15:52:55.529Z"
   },
   {
    "duration": 460,
    "start_time": "2021-09-09T15:52:55.546Z"
   },
   {
    "duration": 5,
    "start_time": "2021-09-09T15:52:56.007Z"
   },
   {
    "duration": 62,
    "start_time": "2021-09-09T15:52:56.013Z"
   },
   {
    "duration": 9,
    "start_time": "2021-09-09T15:52:56.077Z"
   },
   {
    "duration": 229,
    "start_time": "2021-09-09T15:52:56.088Z"
   },
   {
    "duration": 6,
    "start_time": "2021-09-09T15:52:56.319Z"
   },
   {
    "duration": 20,
    "start_time": "2021-09-09T15:52:56.326Z"
   },
   {
    "duration": 30,
    "start_time": "2021-09-09T15:52:56.347Z"
   },
   {
    "duration": 232,
    "start_time": "2021-09-09T15:52:56.378Z"
   },
   {
    "duration": 37,
    "start_time": "2021-09-09T15:52:56.612Z"
   },
   {
    "duration": 19,
    "start_time": "2021-09-09T15:52:56.651Z"
   },
   {
    "duration": 144,
    "start_time": "2021-09-09T15:52:56.672Z"
   },
   {
    "duration": 9,
    "start_time": "2021-09-09T15:52:56.818Z"
   },
   {
    "duration": 28,
    "start_time": "2021-09-09T15:52:56.828Z"
   },
   {
    "duration": 476,
    "start_time": "2021-09-09T15:52:56.858Z"
   },
   {
    "duration": 10,
    "start_time": "2021-09-09T15:52:57.341Z"
   },
   {
    "duration": 12,
    "start_time": "2021-09-09T15:52:57.352Z"
   },
   {
    "duration": 7032,
    "start_time": "2021-09-09T15:52:57.366Z"
   },
   {
    "duration": 4,
    "start_time": "2021-09-09T15:53:04.401Z"
   },
   {
    "duration": 54,
    "start_time": "2021-09-09T15:53:04.407Z"
   },
   {
    "duration": 505,
    "start_time": "2021-09-09T15:53:04.463Z"
   },
   {
    "duration": 4,
    "start_time": "2021-09-09T15:53:04.970Z"
   },
   {
    "duration": 70,
    "start_time": "2021-09-09T15:53:04.976Z"
   },
   {
    "duration": 12,
    "start_time": "2021-09-09T15:53:05.048Z"
   },
   {
    "duration": 504,
    "start_time": "2021-09-09T15:53:05.062Z"
   },
   {
    "duration": 12,
    "start_time": "2021-09-09T15:53:05.568Z"
   },
   {
    "duration": 66,
    "start_time": "2021-09-09T15:53:05.582Z"
   },
   {
    "duration": 16,
    "start_time": "2021-09-09T15:53:05.650Z"
   },
   {
    "duration": 12,
    "start_time": "2021-09-09T15:53:05.667Z"
   },
   {
    "duration": 202,
    "start_time": "2021-09-09T15:53:05.681Z"
   },
   {
    "duration": 59,
    "start_time": "2021-09-09T15:53:05.885Z"
   },
   {
    "duration": 679,
    "start_time": "2021-09-09T15:53:05.946Z"
   },
   {
    "duration": 434,
    "start_time": "2021-09-09T15:53:06.627Z"
   },
   {
    "duration": 14,
    "start_time": "2021-09-09T15:53:07.063Z"
   },
   {
    "duration": 144,
    "start_time": "2021-09-09T15:53:07.078Z"
   },
   {
    "duration": 61,
    "start_time": "2021-09-09T15:53:07.224Z"
   },
   {
    "duration": 11,
    "start_time": "2021-09-09T15:53:07.287Z"
   },
   {
    "duration": 48,
    "start_time": "2021-09-09T15:53:07.300Z"
   },
   {
    "duration": 16,
    "start_time": "2021-09-09T15:53:07.350Z"
   },
   {
    "duration": 11,
    "start_time": "2021-09-09T15:53:07.369Z"
   },
   {
    "duration": 4,
    "start_time": "2021-09-09T15:53:07.386Z"
   },
   {
    "duration": 9,
    "start_time": "2021-09-09T15:55:55.073Z"
   },
   {
    "duration": 13,
    "start_time": "2021-09-09T15:56:27.101Z"
   },
   {
    "duration": 409,
    "start_time": "2021-09-09T15:59:21.932Z"
   },
   {
    "duration": 2240,
    "start_time": "2021-09-09T16:00:14.936Z"
   },
   {
    "duration": 13900,
    "start_time": "2021-09-09T16:02:22.400Z"
   },
   {
    "duration": 14,
    "start_time": "2021-09-09T16:02:36.302Z"
   },
   {
    "duration": 12,
    "start_time": "2021-09-09T16:02:36.319Z"
   },
   {
    "duration": 20,
    "start_time": "2021-09-09T16:02:36.334Z"
   },
   {
    "duration": 28,
    "start_time": "2021-09-09T16:02:36.356Z"
   },
   {
    "duration": 30,
    "start_time": "2021-09-09T16:02:36.386Z"
   },
   {
    "duration": 43,
    "start_time": "2021-09-09T16:02:36.418Z"
   },
   {
    "duration": 2269,
    "start_time": "2021-09-09T16:02:36.465Z"
   },
   {
    "duration": 10,
    "start_time": "2021-09-09T16:02:38.736Z"
   },
   {
    "duration": 8,
    "start_time": "2021-09-09T16:02:38.749Z"
   },
   {
    "duration": 15,
    "start_time": "2021-09-09T16:02:38.759Z"
   },
   {
    "duration": 12,
    "start_time": "2021-09-09T16:02:38.775Z"
   },
   {
    "duration": 8,
    "start_time": "2021-09-09T16:02:38.842Z"
   },
   {
    "duration": 13,
    "start_time": "2021-09-09T16:02:38.852Z"
   },
   {
    "duration": 486,
    "start_time": "2021-09-09T16:02:38.867Z"
   },
   {
    "duration": 7,
    "start_time": "2021-09-09T16:02:39.355Z"
   },
   {
    "duration": 22,
    "start_time": "2021-09-09T16:02:39.364Z"
   },
   {
    "duration": 60,
    "start_time": "2021-09-09T16:02:39.388Z"
   },
   {
    "duration": 245,
    "start_time": "2021-09-09T16:02:39.450Z"
   },
   {
    "duration": 13,
    "start_time": "2021-09-09T16:02:39.698Z"
   },
   {
    "duration": 11,
    "start_time": "2021-09-09T16:02:39.713Z"
   },
   {
    "duration": 14,
    "start_time": "2021-09-09T16:02:39.742Z"
   },
   {
    "duration": 10,
    "start_time": "2021-09-09T16:02:39.761Z"
   },
   {
    "duration": 14,
    "start_time": "2021-09-09T16:02:39.774Z"
   },
   {
    "duration": 17,
    "start_time": "2021-09-09T16:02:39.790Z"
   },
   {
    "duration": 395,
    "start_time": "2021-09-09T16:02:39.809Z"
   },
   {
    "duration": 10,
    "start_time": "2021-09-09T16:02:40.206Z"
   },
   {
    "duration": 487,
    "start_time": "2021-09-09T16:02:40.217Z"
   },
   {
    "duration": 5,
    "start_time": "2021-09-09T16:02:40.705Z"
   },
   {
    "duration": 69,
    "start_time": "2021-09-09T16:02:40.712Z"
   },
   {
    "duration": 10,
    "start_time": "2021-09-09T16:02:40.782Z"
   },
   {
    "duration": 176,
    "start_time": "2021-09-09T16:02:40.841Z"
   },
   {
    "duration": 6,
    "start_time": "2021-09-09T16:02:41.019Z"
   },
   {
    "duration": 22,
    "start_time": "2021-09-09T16:02:41.026Z"
   },
   {
    "duration": 17,
    "start_time": "2021-09-09T16:02:41.050Z"
   },
   {
    "duration": 247,
    "start_time": "2021-09-09T16:02:41.069Z"
   },
   {
    "duration": 38,
    "start_time": "2021-09-09T16:02:41.318Z"
   },
   {
    "duration": 25,
    "start_time": "2021-09-09T16:02:41.358Z"
   },
   {
    "duration": 210,
    "start_time": "2021-09-09T16:02:41.385Z"
   },
   {
    "duration": 12,
    "start_time": "2021-09-09T16:02:41.598Z"
   },
   {
    "duration": 36,
    "start_time": "2021-09-09T16:02:41.612Z"
   },
   {
    "duration": 509,
    "start_time": "2021-09-09T16:02:41.650Z"
   },
   {
    "duration": 15,
    "start_time": "2021-09-09T16:02:42.161Z"
   },
   {
    "duration": 21,
    "start_time": "2021-09-09T16:02:42.179Z"
   },
   {
    "duration": 7511,
    "start_time": "2021-09-09T16:02:42.242Z"
   },
   {
    "duration": 4,
    "start_time": "2021-09-09T16:02:49.755Z"
   },
   {
    "duration": 21,
    "start_time": "2021-09-09T16:21:42.856Z"
   },
   {
    "duration": 23,
    "start_time": "2021-09-09T16:21:58.009Z"
   },
   {
    "duration": 13,
    "start_time": "2021-09-09T16:22:12.176Z"
   },
   {
    "duration": 11,
    "start_time": "2021-09-09T16:25:07.267Z"
   },
   {
    "duration": 11,
    "start_time": "2021-09-09T16:25:31.902Z"
   },
   {
    "duration": 10,
    "start_time": "2021-09-09T16:26:01.836Z"
   },
   {
    "duration": 215,
    "start_time": "2021-09-09T16:27:22.194Z"
   },
   {
    "duration": 213,
    "start_time": "2021-09-09T16:27:54.774Z"
   },
   {
    "duration": 10,
    "start_time": "2021-09-09T16:29:48.105Z"
   },
   {
    "duration": 8,
    "start_time": "2021-09-09T16:30:52.195Z"
   },
   {
    "duration": 25,
    "start_time": "2021-09-09T16:31:13.659Z"
   },
   {
    "duration": 5,
    "start_time": "2021-09-09T16:31:22.578Z"
   },
   {
    "duration": 20,
    "start_time": "2021-09-09T16:33:51.871Z"
   },
   {
    "duration": 239,
    "start_time": "2021-09-09T16:33:55.736Z"
   },
   {
    "duration": 238,
    "start_time": "2021-09-09T16:34:39.955Z"
   },
   {
    "duration": 234,
    "start_time": "2021-09-09T16:35:54.273Z"
   },
   {
    "duration": 230,
    "start_time": "2021-09-09T16:36:07.813Z"
   },
   {
    "duration": 244,
    "start_time": "2021-09-09T16:36:42.448Z"
   },
   {
    "duration": 5,
    "start_time": "2021-09-09T16:37:58.390Z"
   },
   {
    "duration": 24,
    "start_time": "2021-09-09T16:38:11.566Z"
   },
   {
    "duration": 13,
    "start_time": "2021-09-09T16:38:19.749Z"
   },
   {
    "duration": 240,
    "start_time": "2021-09-09T16:38:24.290Z"
   },
   {
    "duration": 329,
    "start_time": "2021-09-09T16:39:29.481Z"
   },
   {
    "duration": 235,
    "start_time": "2021-09-09T16:39:53.525Z"
   },
   {
    "duration": 11,
    "start_time": "2021-09-09T16:40:16.508Z"
   },
   {
    "duration": 12,
    "start_time": "2021-09-09T16:43:23.358Z"
   },
   {
    "duration": 12,
    "start_time": "2021-09-09T16:43:26.190Z"
   },
   {
    "duration": 12,
    "start_time": "2021-09-09T16:43:29.122Z"
   },
   {
    "duration": 13,
    "start_time": "2021-09-09T16:43:32.389Z"
   },
   {
    "duration": 412,
    "start_time": "2021-09-09T16:44:49.032Z"
   },
   {
    "duration": 413,
    "start_time": "2021-09-09T16:45:01.406Z"
   },
   {
    "duration": 366,
    "start_time": "2021-09-09T16:46:58.487Z"
   },
   {
    "duration": 127,
    "start_time": "2021-09-09T16:48:52.730Z"
   },
   {
    "duration": 413,
    "start_time": "2021-09-09T16:49:09.443Z"
   },
   {
    "duration": 404,
    "start_time": "2021-09-09T16:49:17.625Z"
   },
   {
    "duration": 405,
    "start_time": "2021-09-09T16:50:12.789Z"
   },
   {
    "duration": 546,
    "start_time": "2021-09-09T16:50:19.598Z"
   },
   {
    "duration": 134,
    "start_time": "2021-09-09T16:53:29.547Z"
   },
   {
    "duration": 16,
    "start_time": "2021-09-09T16:53:40.815Z"
   },
   {
    "duration": 51,
    "start_time": "2021-09-09T16:53:46.384Z"
   },
   {
    "duration": 10,
    "start_time": "2021-09-09T16:53:58.156Z"
   },
   {
    "duration": 12,
    "start_time": "2021-09-09T16:54:03.094Z"
   },
   {
    "duration": 17,
    "start_time": "2021-09-09T16:54:13.514Z"
   },
   {
    "duration": 16,
    "start_time": "2021-09-09T16:54:15.951Z"
   },
   {
    "duration": 11,
    "start_time": "2021-09-09T16:54:21.722Z"
   },
   {
    "duration": 4,
    "start_time": "2021-09-09T16:54:26.000Z"
   },
   {
    "duration": 27835,
    "start_time": "2021-09-10T04:40:33.897Z"
   },
   {
    "duration": 16,
    "start_time": "2021-09-10T04:41:01.734Z"
   },
   {
    "duration": 18,
    "start_time": "2021-09-10T04:41:01.753Z"
   },
   {
    "duration": 21,
    "start_time": "2021-09-10T04:41:01.774Z"
   },
   {
    "duration": 22,
    "start_time": "2021-09-10T04:41:01.797Z"
   },
   {
    "duration": 42,
    "start_time": "2021-09-10T04:41:01.821Z"
   },
   {
    "duration": 28,
    "start_time": "2021-09-10T04:41:01.865Z"
   },
   {
    "duration": 28,
    "start_time": "2021-09-10T04:41:01.898Z"
   },
   {
    "duration": 34,
    "start_time": "2021-09-10T04:41:01.929Z"
   },
   {
    "duration": 18,
    "start_time": "2021-09-10T04:41:01.966Z"
   },
   {
    "duration": 30,
    "start_time": "2021-09-10T04:41:01.986Z"
   },
   {
    "duration": 12,
    "start_time": "2021-09-10T04:41:02.019Z"
   },
   {
    "duration": 24,
    "start_time": "2021-09-10T04:41:02.033Z"
   },
   {
    "duration": 20,
    "start_time": "2021-09-10T04:41:02.060Z"
   },
   {
    "duration": 326,
    "start_time": "2021-09-10T04:41:02.082Z"
   },
   {
    "duration": 10,
    "start_time": "2021-09-10T04:41:02.410Z"
   },
   {
    "duration": 40,
    "start_time": "2021-09-10T04:41:02.422Z"
   },
   {
    "duration": 37,
    "start_time": "2021-09-10T04:41:02.465Z"
   },
   {
    "duration": 249,
    "start_time": "2021-09-10T04:41:02.505Z"
   },
   {
    "duration": 16,
    "start_time": "2021-09-10T04:41:02.761Z"
   },
   {
    "duration": 17,
    "start_time": "2021-09-10T04:41:02.780Z"
   },
   {
    "duration": 45,
    "start_time": "2021-09-10T04:41:02.799Z"
   },
   {
    "duration": 21,
    "start_time": "2021-09-10T04:41:02.850Z"
   },
   {
    "duration": 29,
    "start_time": "2021-09-10T04:41:02.875Z"
   },
   {
    "duration": 26,
    "start_time": "2021-09-10T04:41:02.907Z"
   },
   {
    "duration": 511,
    "start_time": "2021-09-10T04:41:02.936Z"
   },
   {
    "duration": 22,
    "start_time": "2021-09-10T04:41:03.449Z"
   },
   {
    "duration": 33,
    "start_time": "2021-09-10T04:41:03.473Z"
   },
   {
    "duration": 11,
    "start_time": "2021-09-10T04:41:03.508Z"
   },
   {
    "duration": 78,
    "start_time": "2021-09-10T04:41:03.521Z"
   },
   {
    "duration": 13,
    "start_time": "2021-09-10T04:41:03.601Z"
   },
   {
    "duration": 262,
    "start_time": "2021-09-10T04:41:03.616Z"
   },
   {
    "duration": 8,
    "start_time": "2021-09-10T04:41:03.880Z"
   },
   {
    "duration": 27,
    "start_time": "2021-09-10T04:41:03.890Z"
   },
   {
    "duration": 38,
    "start_time": "2021-09-10T04:41:03.919Z"
   },
   {
    "duration": 315,
    "start_time": "2021-09-10T04:41:03.960Z"
   },
   {
    "duration": 43,
    "start_time": "2021-09-10T04:41:04.277Z"
   },
   {
    "duration": 44,
    "start_time": "2021-09-10T04:41:04.322Z"
   },
   {
    "duration": 203,
    "start_time": "2021-09-10T04:41:04.368Z"
   },
   {
    "duration": 11,
    "start_time": "2021-09-10T04:41:04.573Z"
   },
   {
    "duration": 24,
    "start_time": "2021-09-10T04:41:04.587Z"
   },
   {
    "duration": 36,
    "start_time": "2021-09-10T04:41:04.614Z"
   },
   {
    "duration": 23,
    "start_time": "2021-09-10T04:41:04.652Z"
   },
   {
    "duration": 15,
    "start_time": "2021-09-10T04:41:04.677Z"
   },
   {
    "duration": 41,
    "start_time": "2021-09-10T04:41:04.695Z"
   },
   {
    "duration": 5,
    "start_time": "2021-09-10T04:41:04.738Z"
   },
   {
    "duration": 31,
    "start_time": "2021-09-10T04:41:04.763Z"
   },
   {
    "duration": 382,
    "start_time": "2021-09-10T04:41:04.797Z"
   },
   {
    "duration": 6,
    "start_time": "2021-09-10T04:41:05.181Z"
   },
   {
    "duration": 51,
    "start_time": "2021-09-10T04:41:05.190Z"
   },
   {
    "duration": 22,
    "start_time": "2021-09-10T04:41:05.243Z"
   },
   {
    "duration": 354,
    "start_time": "2021-09-10T04:41:05.268Z"
   },
   {
    "duration": 16,
    "start_time": "2021-09-10T04:41:05.624Z"
   },
   {
    "duration": 33,
    "start_time": "2021-09-10T04:41:05.643Z"
   },
   {
    "duration": 28,
    "start_time": "2021-09-10T04:41:05.678Z"
   },
   {
    "duration": 29,
    "start_time": "2021-09-10T04:41:05.709Z"
   },
   {
    "duration": 39,
    "start_time": "2021-09-10T04:41:05.741Z"
   },
   {
    "duration": 8,
    "start_time": "2021-09-10T04:41:05.783Z"
   },
   {
    "duration": 734,
    "start_time": "2021-09-10T04:41:05.794Z"
   },
   {
    "duration": 641,
    "start_time": "2021-09-10T04:41:06.531Z"
   },
   {
    "duration": 21,
    "start_time": "2021-09-10T04:41:07.174Z"
   },
   {
    "duration": 19,
    "start_time": "2021-09-10T04:41:07.197Z"
   },
   {
    "duration": 26,
    "start_time": "2021-09-10T04:41:07.218Z"
   },
   {
    "duration": 51,
    "start_time": "2021-09-10T04:41:07.247Z"
   },
   {
    "duration": 27,
    "start_time": "2021-09-10T04:41:07.300Z"
   },
   {
    "duration": 45,
    "start_time": "2021-09-10T04:41:07.329Z"
   },
   {
    "duration": 20,
    "start_time": "2021-09-10T04:41:07.377Z"
   },
   {
    "duration": 13,
    "start_time": "2021-09-10T04:55:17.757Z"
   },
   {
    "duration": 16,
    "start_time": "2021-09-10T04:55:42.173Z"
   },
   {
    "duration": 17,
    "start_time": "2021-09-10T04:56:06.642Z"
   },
   {
    "duration": 898,
    "start_time": "2021-09-10T04:56:15.834Z"
   },
   {
    "duration": 17,
    "start_time": "2021-09-10T04:56:22.888Z"
   },
   {
    "duration": 735,
    "start_time": "2021-09-10T05:00:36.852Z"
   },
   {
    "duration": 330,
    "start_time": "2021-09-10T05:00:50.389Z"
   },
   {
    "duration": 341,
    "start_time": "2021-09-10T05:01:08.523Z"
   },
   {
    "duration": 328,
    "start_time": "2021-09-10T05:01:13.972Z"
   },
   {
    "duration": 353,
    "start_time": "2021-09-10T05:01:28.463Z"
   },
   {
    "duration": 339,
    "start_time": "2021-09-10T05:01:37.425Z"
   },
   {
    "duration": 724,
    "start_time": "2021-09-10T05:15:58.314Z"
   },
   {
    "duration": 10,
    "start_time": "2021-09-10T05:16:31.411Z"
   },
   {
    "duration": 9,
    "start_time": "2021-09-10T05:16:57.191Z"
   },
   {
    "duration": 158,
    "start_time": "2021-09-10T05:19:09.641Z"
   },
   {
    "duration": 8,
    "start_time": "2021-09-10T05:19:34.868Z"
   },
   {
    "duration": 9,
    "start_time": "2021-09-10T05:19:56.604Z"
   },
   {
    "duration": 834,
    "start_time": "2021-09-10T05:23:53.913Z"
   },
   {
    "duration": 17,
    "start_time": "2021-09-10T05:24:41.406Z"
   },
   {
    "duration": 90,
    "start_time": "2021-09-10T05:24:51.802Z"
   },
   {
    "duration": 18,
    "start_time": "2021-09-10T05:25:07.204Z"
   },
   {
    "duration": 447,
    "start_time": "2021-09-10T05:26:36.371Z"
   },
   {
    "duration": 459,
    "start_time": "2021-09-10T05:26:59.461Z"
   },
   {
    "duration": 444,
    "start_time": "2021-09-10T05:27:42.298Z"
   },
   {
    "duration": 688,
    "start_time": "2021-09-10T05:29:15.783Z"
   },
   {
    "duration": 2451,
    "start_time": "2021-09-10T05:31:52.486Z"
   },
   {
    "duration": 322,
    "start_time": "2021-09-10T05:39:51.959Z"
   },
   {
    "duration": 6,
    "start_time": "2021-09-10T05:42:20.838Z"
   },
   {
    "duration": 14243,
    "start_time": "2021-09-10T17:26:38.584Z"
   },
   {
    "duration": 15,
    "start_time": "2021-09-10T17:26:52.830Z"
   },
   {
    "duration": 14,
    "start_time": "2021-09-10T17:26:52.847Z"
   },
   {
    "duration": 14,
    "start_time": "2021-09-10T17:26:52.863Z"
   },
   {
    "duration": 21,
    "start_time": "2021-09-10T17:26:52.880Z"
   },
   {
    "duration": 23,
    "start_time": "2021-09-10T17:26:52.904Z"
   },
   {
    "duration": 55,
    "start_time": "2021-09-10T17:26:52.929Z"
   },
   {
    "duration": 27,
    "start_time": "2021-09-10T17:26:52.988Z"
   },
   {
    "duration": 7,
    "start_time": "2021-09-10T17:26:53.018Z"
   },
   {
    "duration": 37,
    "start_time": "2021-09-10T17:26:53.027Z"
   },
   {
    "duration": 19,
    "start_time": "2021-09-10T17:26:53.067Z"
   },
   {
    "duration": 12,
    "start_time": "2021-09-10T17:26:53.088Z"
   },
   {
    "duration": 11,
    "start_time": "2021-09-10T17:26:53.102Z"
   },
   {
    "duration": 52,
    "start_time": "2021-09-10T17:26:53.115Z"
   },
   {
    "duration": 340,
    "start_time": "2021-09-10T17:26:53.169Z"
   },
   {
    "duration": 10,
    "start_time": "2021-09-10T17:26:53.511Z"
   },
   {
    "duration": 39,
    "start_time": "2021-09-10T17:26:53.524Z"
   },
   {
    "duration": 14,
    "start_time": "2021-09-10T17:26:53.565Z"
   },
   {
    "duration": 243,
    "start_time": "2021-09-10T17:26:53.582Z"
   },
   {
    "duration": 35,
    "start_time": "2021-09-10T17:26:53.828Z"
   },
   {
    "duration": 12,
    "start_time": "2021-09-10T17:26:53.866Z"
   },
   {
    "duration": 19,
    "start_time": "2021-09-10T17:26:53.881Z"
   },
   {
    "duration": 12,
    "start_time": "2021-09-10T17:26:53.906Z"
   },
   {
    "duration": 51,
    "start_time": "2021-09-10T17:26:53.922Z"
   },
   {
    "duration": 27,
    "start_time": "2021-09-10T17:26:53.976Z"
   },
   {
    "duration": 15,
    "start_time": "2021-09-10T17:26:54.005Z"
   },
   {
    "duration": 359,
    "start_time": "2021-09-10T17:26:54.022Z"
   },
   {
    "duration": 12,
    "start_time": "2021-09-10T17:26:54.384Z"
   },
   {
    "duration": 16,
    "start_time": "2021-09-10T17:26:54.398Z"
   },
   {
    "duration": 6,
    "start_time": "2021-09-10T17:26:54.416Z"
   },
   {
    "duration": 95,
    "start_time": "2021-09-10T17:26:54.425Z"
   },
   {
    "duration": 12,
    "start_time": "2021-09-10T17:26:54.522Z"
   },
   {
    "duration": 283,
    "start_time": "2021-09-10T17:26:54.537Z"
   },
   {
    "duration": 18,
    "start_time": "2021-09-10T17:26:54.822Z"
   },
   {
    "duration": 494,
    "start_time": "2021-09-10T17:26:54.842Z"
   },
   {
    "duration": 9,
    "start_time": "2021-09-10T17:26:55.339Z"
   },
   {
    "duration": 14,
    "start_time": "2021-09-10T17:26:55.364Z"
   },
   {
    "duration": 31,
    "start_time": "2021-09-10T17:26:55.381Z"
   },
   {
    "duration": 360,
    "start_time": "2021-09-10T17:26:55.416Z"
   },
   {
    "duration": 42,
    "start_time": "2021-09-10T17:26:55.778Z"
   },
   {
    "duration": 40,
    "start_time": "2021-09-10T17:26:55.823Z"
   },
   {
    "duration": 198,
    "start_time": "2021-09-10T17:26:55.866Z"
   },
   {
    "duration": 13,
    "start_time": "2021-09-10T17:26:56.066Z"
   },
   {
    "duration": 27,
    "start_time": "2021-09-10T17:26:56.081Z"
   },
   {
    "duration": 11,
    "start_time": "2021-09-10T17:26:56.111Z"
   },
   {
    "duration": 47,
    "start_time": "2021-09-10T17:26:56.124Z"
   },
   {
    "duration": 8,
    "start_time": "2021-09-10T17:26:56.174Z"
   },
   {
    "duration": 49,
    "start_time": "2021-09-10T17:26:56.185Z"
   },
   {
    "duration": 329,
    "start_time": "2021-09-10T17:26:56.262Z"
   },
   {
    "duration": 5,
    "start_time": "2021-09-10T17:26:56.593Z"
   },
   {
    "duration": 33,
    "start_time": "2021-09-10T17:26:56.601Z"
   },
   {
    "duration": 392,
    "start_time": "2021-09-10T17:26:56.636Z"
   },
   {
    "duration": 6,
    "start_time": "2021-09-10T17:26:57.030Z"
   },
   {
    "duration": 37,
    "start_time": "2021-09-10T17:26:57.038Z"
   },
   {
    "duration": 15,
    "start_time": "2021-09-10T17:26:57.078Z"
   },
   {
    "duration": 470,
    "start_time": "2021-09-10T17:26:57.095Z"
   },
   {
    "duration": 17,
    "start_time": "2021-09-10T17:26:57.568Z"
   },
   {
    "duration": 15,
    "start_time": "2021-09-10T17:26:57.587Z"
   },
   {
    "duration": 16,
    "start_time": "2021-09-10T17:26:57.605Z"
   },
   {
    "duration": 17,
    "start_time": "2021-09-10T17:26:57.662Z"
   },
   {
    "duration": 19,
    "start_time": "2021-09-10T17:26:57.682Z"
   },
   {
    "duration": 10,
    "start_time": "2021-09-10T17:26:57.703Z"
   },
   {
    "duration": 661,
    "start_time": "2021-09-10T17:26:57.715Z"
   },
   {
    "duration": 615,
    "start_time": "2021-09-10T17:26:58.379Z"
   },
   {
    "duration": 20,
    "start_time": "2021-09-10T17:26:58.998Z"
   },
   {
    "duration": 12,
    "start_time": "2021-09-10T17:26:59.020Z"
   },
   {
    "duration": 39,
    "start_time": "2021-09-10T17:26:59.034Z"
   },
   {
    "duration": 21,
    "start_time": "2021-09-10T17:26:59.081Z"
   },
   {
    "duration": 21,
    "start_time": "2021-09-10T17:26:59.104Z"
   },
   {
    "duration": 15,
    "start_time": "2021-09-10T17:26:59.162Z"
   },
   {
    "duration": 10,
    "start_time": "2021-09-10T17:26:59.179Z"
   },
   {
    "duration": 323,
    "start_time": "2021-09-10T17:29:49.398Z"
   },
   {
    "duration": 344,
    "start_time": "2021-09-10T17:30:20.613Z"
   },
   {
    "duration": 16,
    "start_time": "2021-09-10T17:31:18.286Z"
   },
   {
    "duration": 515,
    "start_time": "2021-09-10T17:31:20.565Z"
   },
   {
    "duration": 17,
    "start_time": "2021-09-10T17:31:58.845Z"
   },
   {
    "duration": 18,
    "start_time": "2021-09-10T17:36:07.079Z"
   },
   {
    "duration": 441,
    "start_time": "2021-09-10T17:40:50.516Z"
   },
   {
    "duration": 478,
    "start_time": "2021-09-10T17:41:15.355Z"
   },
   {
    "duration": 483,
    "start_time": "2021-09-10T17:41:25.441Z"
   },
   {
    "duration": 407,
    "start_time": "2021-09-10T17:52:18.214Z"
   },
   {
    "duration": 2151,
    "start_time": "2021-09-10T17:58:52.296Z"
   },
   {
    "duration": 9,
    "start_time": "2021-09-10T17:59:40.221Z"
   },
   {
    "duration": 35,
    "start_time": "2021-09-10T18:01:00.975Z"
   },
   {
    "duration": 9,
    "start_time": "2021-09-10T18:01:27.100Z"
   },
   {
    "duration": 35,
    "start_time": "2021-09-10T18:01:28.174Z"
   },
   {
    "duration": 42,
    "start_time": "2021-09-10T18:03:22.965Z"
   },
   {
    "duration": 9,
    "start_time": "2021-09-10T18:03:25.882Z"
   },
   {
    "duration": 32,
    "start_time": "2021-09-10T18:03:40.690Z"
   },
   {
    "duration": 6,
    "start_time": "2021-09-10T18:03:50.138Z"
   },
   {
    "duration": 23,
    "start_time": "2021-09-10T18:05:43.188Z"
   },
   {
    "duration": 331,
    "start_time": "2021-09-10T18:06:25.940Z"
   },
   {
    "duration": 6,
    "start_time": "2021-09-10T18:06:44.572Z"
   },
   {
    "duration": 21,
    "start_time": "2021-09-10T18:06:54.347Z"
   },
   {
    "duration": 2476,
    "start_time": "2021-09-10T18:06:59.494Z"
   },
   {
    "duration": 1539,
    "start_time": "2021-09-10T18:37:36.392Z"
   },
   {
    "duration": 17913,
    "start_time": "2021-09-10T18:37:54.076Z"
   },
   {
    "duration": 16,
    "start_time": "2021-09-10T18:38:11.992Z"
   },
   {
    "duration": 21,
    "start_time": "2021-09-10T18:38:12.011Z"
   },
   {
    "duration": 15,
    "start_time": "2021-09-10T18:38:12.035Z"
   },
   {
    "duration": 31,
    "start_time": "2021-09-10T18:38:12.053Z"
   },
   {
    "duration": 28,
    "start_time": "2021-09-10T18:38:12.087Z"
   },
   {
    "duration": 64,
    "start_time": "2021-09-10T18:38:12.118Z"
   },
   {
    "duration": 29,
    "start_time": "2021-09-10T18:38:12.185Z"
   },
   {
    "duration": 8,
    "start_time": "2021-09-10T18:38:12.220Z"
   },
   {
    "duration": 9,
    "start_time": "2021-09-10T18:38:12.264Z"
   },
   {
    "duration": 21,
    "start_time": "2021-09-10T18:38:12.275Z"
   },
   {
    "duration": 28,
    "start_time": "2021-09-10T18:38:12.298Z"
   },
   {
    "duration": 24,
    "start_time": "2021-09-10T18:38:12.328Z"
   },
   {
    "duration": 29,
    "start_time": "2021-09-10T18:38:12.354Z"
   },
   {
    "duration": 457,
    "start_time": "2021-09-10T18:38:12.386Z"
   },
   {
    "duration": 15,
    "start_time": "2021-09-10T18:38:12.846Z"
   },
   {
    "duration": 17,
    "start_time": "2021-09-10T18:38:12.865Z"
   },
   {
    "duration": 16,
    "start_time": "2021-09-10T18:38:12.884Z"
   },
   {
    "duration": 258,
    "start_time": "2021-09-10T18:38:12.903Z"
   },
   {
    "duration": 15,
    "start_time": "2021-09-10T18:38:13.164Z"
   },
   {
    "duration": 12,
    "start_time": "2021-09-10T18:38:13.182Z"
   },
   {
    "duration": 22,
    "start_time": "2021-09-10T18:38:13.197Z"
   },
   {
    "duration": 56,
    "start_time": "2021-09-10T18:38:13.221Z"
   },
   {
    "duration": 28,
    "start_time": "2021-09-10T18:38:13.280Z"
   },
   {
    "duration": 26,
    "start_time": "2021-09-10T18:38:13.310Z"
   },
   {
    "duration": 39,
    "start_time": "2021-09-10T18:38:13.339Z"
   },
   {
    "duration": 368,
    "start_time": "2021-09-10T18:38:13.385Z"
   },
   {
    "duration": 348,
    "start_time": "2021-09-10T18:38:13.761Z"
   },
   {
    "duration": 13,
    "start_time": "2021-09-10T18:38:14.111Z"
   },
   {
    "duration": 43,
    "start_time": "2021-09-10T18:38:14.126Z"
   },
   {
    "duration": 458,
    "start_time": "2021-09-10T18:38:14.171Z"
   },
   {
    "duration": 30,
    "start_time": "2021-09-10T18:38:14.631Z"
   },
   {
    "duration": 467,
    "start_time": "2021-09-10T18:38:14.664Z"
   },
   {
    "duration": 3386,
    "start_time": "2021-09-10T18:38:15.134Z"
   },
   {
    "duration": 404,
    "start_time": "2021-09-10T18:38:18.120Z"
   },
   {
    "duration": 401,
    "start_time": "2021-09-10T18:38:18.125Z"
   },
   {
    "duration": 398,
    "start_time": "2021-09-10T18:38:18.130Z"
   },
   {
    "duration": 397,
    "start_time": "2021-09-10T18:38:18.134Z"
   },
   {
    "duration": 394,
    "start_time": "2021-09-10T18:38:18.139Z"
   },
   {
    "duration": 393,
    "start_time": "2021-09-10T18:38:18.142Z"
   },
   {
    "duration": 392,
    "start_time": "2021-09-10T18:38:18.146Z"
   },
   {
    "duration": 390,
    "start_time": "2021-09-10T18:38:18.150Z"
   },
   {
    "duration": 388,
    "start_time": "2021-09-10T18:38:18.154Z"
   },
   {
    "duration": 386,
    "start_time": "2021-09-10T18:38:18.158Z"
   },
   {
    "duration": 384,
    "start_time": "2021-09-10T18:38:18.162Z"
   },
   {
    "duration": 332,
    "start_time": "2021-09-10T18:38:18.217Z"
   },
   {
    "duration": 329,
    "start_time": "2021-09-10T18:38:18.222Z"
   },
   {
    "duration": 326,
    "start_time": "2021-09-10T18:38:18.227Z"
   },
   {
    "duration": 322,
    "start_time": "2021-09-10T18:38:18.233Z"
   },
   {
    "duration": 319,
    "start_time": "2021-09-10T18:38:18.239Z"
   },
   {
    "duration": 313,
    "start_time": "2021-09-10T18:38:18.247Z"
   },
   {
    "duration": 308,
    "start_time": "2021-09-10T18:38:18.255Z"
   },
   {
    "duration": 306,
    "start_time": "2021-09-10T18:38:18.259Z"
   },
   {
    "duration": 305,
    "start_time": "2021-09-10T18:38:18.263Z"
   },
   {
    "duration": 302,
    "start_time": "2021-09-10T18:38:18.268Z"
   },
   {
    "duration": 300,
    "start_time": "2021-09-10T18:38:18.272Z"
   },
   {
    "duration": 298,
    "start_time": "2021-09-10T18:38:18.276Z"
   },
   {
    "duration": 296,
    "start_time": "2021-09-10T18:38:18.280Z"
   },
   {
    "duration": 293,
    "start_time": "2021-09-10T18:38:18.285Z"
   },
   {
    "duration": 292,
    "start_time": "2021-09-10T18:38:18.288Z"
   },
   {
    "duration": 289,
    "start_time": "2021-09-10T18:38:18.293Z"
   },
   {
    "duration": 288,
    "start_time": "2021-09-10T18:38:18.296Z"
   },
   {
    "duration": 286,
    "start_time": "2021-09-10T18:38:18.301Z"
   },
   {
    "duration": 285,
    "start_time": "2021-09-10T18:38:18.304Z"
   },
   {
    "duration": 282,
    "start_time": "2021-09-10T18:38:18.309Z"
   },
   {
    "duration": 280,
    "start_time": "2021-09-10T18:38:18.313Z"
   },
   {
    "duration": 277,
    "start_time": "2021-09-10T18:38:18.317Z"
   },
   {
    "duration": 275,
    "start_time": "2021-09-10T18:38:18.321Z"
   },
   {
    "duration": 271,
    "start_time": "2021-09-10T18:38:18.326Z"
   },
   {
    "duration": 269,
    "start_time": "2021-09-10T18:38:18.329Z"
   },
   {
    "duration": 266,
    "start_time": "2021-09-10T18:38:18.334Z"
   },
   {
    "duration": 1116,
    "start_time": "2021-09-10T18:38:26.178Z"
   },
   {
    "duration": 272,
    "start_time": "2021-09-10T18:38:27.025Z"
   },
   {
    "duration": 1628,
    "start_time": "2021-09-10T18:38:27.602Z"
   },
   {
    "duration": 1972,
    "start_time": "2021-09-10T18:38:46.454Z"
   },
   {
    "duration": 13,
    "start_time": "2021-09-10T18:39:18.030Z"
   },
   {
    "duration": 40,
    "start_time": "2021-09-10T18:40:12.390Z"
   },
   {
    "duration": 20,
    "start_time": "2021-09-10T18:40:15.065Z"
   },
   {
    "duration": 197,
    "start_time": "2021-09-10T18:40:19.730Z"
   },
   {
    "duration": 12,
    "start_time": "2021-09-10T18:40:22.245Z"
   },
   {
    "duration": 22,
    "start_time": "2021-09-10T18:40:29.166Z"
   },
   {
    "duration": 21,
    "start_time": "2021-09-10T18:40:38.271Z"
   },
   {
    "duration": 325,
    "start_time": "2021-09-10T18:40:48.437Z"
   },
   {
    "duration": 6,
    "start_time": "2021-09-10T18:43:15.524Z"
   },
   {
    "duration": 19,
    "start_time": "2021-09-10T18:44:18.891Z"
   },
   {
    "duration": 19,
    "start_time": "2021-09-10T18:45:02.627Z"
   },
   {
    "duration": 26,
    "start_time": "2021-09-10T18:45:16.561Z"
   },
   {
    "duration": 19,
    "start_time": "2021-09-10T18:50:38.198Z"
   },
   {
    "duration": 16,
    "start_time": "2021-09-10T19:16:06.804Z"
   },
   {
    "duration": 16,
    "start_time": "2021-09-10T19:42:47.259Z"
   },
   {
    "duration": 18,
    "start_time": "2021-09-10T19:42:55.595Z"
   },
   {
    "duration": 16,
    "start_time": "2021-09-10T19:42:58.712Z"
   },
   {
    "duration": 346,
    "start_time": "2021-09-10T19:50:14.507Z"
   },
   {
    "duration": 372,
    "start_time": "2021-09-10T19:50:39.792Z"
   },
   {
    "duration": 267,
    "start_time": "2021-09-10T19:51:12.595Z"
   },
   {
    "duration": 300,
    "start_time": "2021-09-10T19:51:23.852Z"
   },
   {
    "duration": 259,
    "start_time": "2021-09-10T19:51:38.811Z"
   },
   {
    "duration": 21,
    "start_time": "2021-09-10T19:56:11.674Z"
   },
   {
    "duration": 336,
    "start_time": "2021-09-10T19:58:47.904Z"
   },
   {
    "duration": 24,
    "start_time": "2021-09-10T20:00:50.581Z"
   },
   {
    "duration": 20,
    "start_time": "2021-09-10T20:02:13.210Z"
   },
   {
    "duration": 259,
    "start_time": "2021-09-10T20:03:33.756Z"
   },
   {
    "duration": 26,
    "start_time": "2021-09-10T20:07:56.514Z"
   },
   {
    "duration": 283,
    "start_time": "2021-09-10T20:08:33.839Z"
   },
   {
    "duration": 26,
    "start_time": "2021-09-10T20:08:47.469Z"
   },
   {
    "duration": 86,
    "start_time": "2021-09-10T20:15:36.119Z"
   },
   {
    "duration": 94,
    "start_time": "2021-09-10T20:16:07.066Z"
   },
   {
    "duration": 31,
    "start_time": "2021-09-10T20:16:14.167Z"
   },
   {
    "duration": 26,
    "start_time": "2021-09-10T20:23:50.878Z"
   },
   {
    "duration": 238,
    "start_time": "2021-09-10T20:25:16.397Z"
   },
   {
    "duration": 30,
    "start_time": "2021-09-10T20:26:01.767Z"
   },
   {
    "duration": 20,
    "start_time": "2021-09-10T20:26:51.706Z"
   },
   {
    "duration": 263,
    "start_time": "2021-09-10T20:27:09.110Z"
   },
   {
    "duration": 28,
    "start_time": "2021-09-10T20:28:12.508Z"
   },
   {
    "duration": 25,
    "start_time": "2021-09-10T20:28:40.818Z"
   },
   {
    "duration": 810,
    "start_time": "2021-09-10T20:31:28.713Z"
   },
   {
    "duration": 688,
    "start_time": "2021-09-10T20:32:06.282Z"
   },
   {
    "duration": 1932,
    "start_time": "2021-09-10T20:33:26.373Z"
   },
   {
    "duration": 599,
    "start_time": "2021-09-10T20:33:39.182Z"
   },
   {
    "duration": 2948,
    "start_time": "2021-09-10T20:34:02.676Z"
   },
   {
    "duration": 238,
    "start_time": "2021-09-10T20:34:37.901Z"
   },
   {
    "duration": 379,
    "start_time": "2021-09-10T20:34:51.982Z"
   },
   {
    "duration": 236,
    "start_time": "2021-09-10T20:35:08.348Z"
   },
   {
    "duration": 25,
    "start_time": "2021-09-10T20:35:29.708Z"
   },
   {
    "duration": 24,
    "start_time": "2021-09-10T20:36:08.584Z"
   },
   {
    "duration": 1700,
    "start_time": "2021-09-10T20:36:11.270Z"
   },
   {
    "duration": 315,
    "start_time": "2021-09-10T20:36:43.393Z"
   },
   {
    "duration": 6,
    "start_time": "2021-09-10T20:36:51.106Z"
   },
   {
    "duration": 27,
    "start_time": "2021-09-10T20:37:04.663Z"
   },
   {
    "duration": 19,
    "start_time": "2021-09-10T20:37:31.615Z"
   },
   {
    "duration": 16,
    "start_time": "2021-09-10T20:37:42.876Z"
   },
   {
    "duration": 288,
    "start_time": "2021-09-10T20:37:46.227Z"
   },
   {
    "duration": 13,
    "start_time": "2021-09-10T20:41:41.345Z"
   },
   {
    "duration": 233,
    "start_time": "2021-09-10T20:46:37.087Z"
   },
   {
    "duration": 18,
    "start_time": "2021-09-10T20:46:58.333Z"
   },
   {
    "duration": 15,
    "start_time": "2021-09-10T20:50:04.227Z"
   },
   {
    "duration": 16,
    "start_time": "2021-09-10T20:50:17.236Z"
   },
   {
    "duration": 16,
    "start_time": "2021-09-10T20:53:08.454Z"
   },
   {
    "duration": 20,
    "start_time": "2021-09-10T20:54:06.879Z"
   },
   {
    "duration": 19,
    "start_time": "2021-09-10T20:55:58.077Z"
   },
   {
    "duration": 20,
    "start_time": "2021-09-10T20:56:40.716Z"
   },
   {
    "duration": 288,
    "start_time": "2021-09-10T20:59:15.783Z"
   },
   {
    "duration": 267,
    "start_time": "2021-09-10T20:59:33.259Z"
   },
   {
    "duration": 20,
    "start_time": "2021-09-10T21:01:03.358Z"
   },
   {
    "duration": 21,
    "start_time": "2021-09-10T21:01:59.364Z"
   },
   {
    "duration": 22,
    "start_time": "2021-09-10T21:02:37.412Z"
   },
   {
    "duration": 21,
    "start_time": "2021-09-10T21:03:51.846Z"
   },
   {
    "duration": 15,
    "start_time": "2021-09-10T21:07:27.649Z"
   },
   {
    "duration": 21,
    "start_time": "2021-09-10T21:07:31.495Z"
   },
   {
    "duration": 14,
    "start_time": "2021-09-10T21:13:23.238Z"
   },
   {
    "duration": 26,
    "start_time": "2021-09-10T21:17:08.599Z"
   },
   {
    "duration": 13,
    "start_time": "2021-09-10T21:18:53.179Z"
   },
   {
    "duration": 15,
    "start_time": "2021-09-10T21:20:17.243Z"
   },
   {
    "duration": 10,
    "start_time": "2021-09-10T21:23:22.833Z"
   },
   {
    "duration": 12,
    "start_time": "2021-09-10T21:23:41.501Z"
   },
   {
    "duration": 18,
    "start_time": "2021-09-10T21:26:36.194Z"
   },
   {
    "duration": 33,
    "start_time": "2021-09-10T21:26:37.619Z"
   },
   {
    "duration": 492,
    "start_time": "2021-09-10T21:26:42.116Z"
   },
   {
    "duration": 292,
    "start_time": "2021-09-10T21:29:43.231Z"
   },
   {
    "duration": 21,
    "start_time": "2021-09-10T21:30:03.252Z"
   },
   {
    "duration": 288,
    "start_time": "2021-09-10T21:32:49.407Z"
   },
   {
    "duration": 13936,
    "start_time": "2021-09-10T21:33:00.710Z"
   },
   {
    "duration": 17,
    "start_time": "2021-09-10T21:33:14.649Z"
   },
   {
    "duration": 25,
    "start_time": "2021-09-10T21:33:14.669Z"
   },
   {
    "duration": 15,
    "start_time": "2021-09-10T21:33:14.697Z"
   },
   {
    "duration": 23,
    "start_time": "2021-09-10T21:33:14.714Z"
   },
   {
    "duration": 36,
    "start_time": "2021-09-10T21:33:14.740Z"
   },
   {
    "duration": 28,
    "start_time": "2021-09-10T21:33:14.778Z"
   },
   {
    "duration": 56,
    "start_time": "2021-09-10T21:33:14.809Z"
   },
   {
    "duration": 8,
    "start_time": "2021-09-10T21:33:14.869Z"
   },
   {
    "duration": 11,
    "start_time": "2021-09-10T21:33:14.880Z"
   },
   {
    "duration": 18,
    "start_time": "2021-09-10T21:33:14.893Z"
   },
   {
    "duration": 11,
    "start_time": "2021-09-10T21:33:14.913Z"
   },
   {
    "duration": 9,
    "start_time": "2021-09-10T21:33:14.962Z"
   },
   {
    "duration": 36,
    "start_time": "2021-09-10T21:33:14.974Z"
   },
   {
    "duration": 337,
    "start_time": "2021-09-10T21:33:15.012Z"
   },
   {
    "duration": 11,
    "start_time": "2021-09-10T21:33:15.352Z"
   },
   {
    "duration": 20,
    "start_time": "2021-09-10T21:33:15.366Z"
   },
   {
    "duration": 13,
    "start_time": "2021-09-10T21:33:15.389Z"
   },
   {
    "duration": 247,
    "start_time": "2021-09-10T21:33:15.404Z"
   },
   {
    "duration": 21,
    "start_time": "2021-09-10T21:33:15.654Z"
   },
   {
    "duration": 12,
    "start_time": "2021-09-10T21:33:15.677Z"
   },
   {
    "duration": 25,
    "start_time": "2021-09-10T21:33:15.691Z"
   },
   {
    "duration": 48,
    "start_time": "2021-09-10T21:33:15.718Z"
   },
   {
    "duration": 20,
    "start_time": "2021-09-10T21:33:15.770Z"
   },
   {
    "duration": 21,
    "start_time": "2021-09-10T21:33:15.794Z"
   },
   {
    "duration": 61,
    "start_time": "2021-09-10T21:33:15.818Z"
   },
   {
    "duration": 360,
    "start_time": "2021-09-10T21:33:15.886Z"
   },
   {
    "duration": 380,
    "start_time": "2021-09-10T21:33:16.249Z"
   },
   {
    "duration": 13,
    "start_time": "2021-09-10T21:33:16.631Z"
   },
   {
    "duration": 18,
    "start_time": "2021-09-10T21:33:16.661Z"
   },
   {
    "duration": 474,
    "start_time": "2021-09-10T21:33:16.681Z"
   },
   {
    "duration": 17,
    "start_time": "2021-09-10T21:33:17.157Z"
   },
   {
    "duration": 475,
    "start_time": "2021-09-10T21:33:17.176Z"
   },
   {
    "duration": 2156,
    "start_time": "2021-09-10T21:33:17.653Z"
   },
   {
    "duration": -243,
    "start_time": "2021-09-10T21:33:20.054Z"
   },
   {
    "duration": -247,
    "start_time": "2021-09-10T21:33:20.060Z"
   },
   {
    "duration": -250,
    "start_time": "2021-09-10T21:33:20.064Z"
   },
   {
    "duration": -254,
    "start_time": "2021-09-10T21:33:20.069Z"
   },
   {
    "duration": -256,
    "start_time": "2021-09-10T21:33:20.073Z"
   },
   {
    "duration": -261,
    "start_time": "2021-09-10T21:33:20.079Z"
   },
   {
    "duration": -264,
    "start_time": "2021-09-10T21:33:20.083Z"
   },
   {
    "duration": -267,
    "start_time": "2021-09-10T21:33:20.088Z"
   },
   {
    "duration": -270,
    "start_time": "2021-09-10T21:33:20.092Z"
   },
   {
    "duration": -274,
    "start_time": "2021-09-10T21:33:20.097Z"
   },
   {
    "duration": -277,
    "start_time": "2021-09-10T21:33:20.101Z"
   },
   {
    "duration": -279,
    "start_time": "2021-09-10T21:33:20.105Z"
   },
   {
    "duration": -282,
    "start_time": "2021-09-10T21:33:20.109Z"
   },
   {
    "duration": -285,
    "start_time": "2021-09-10T21:33:20.113Z"
   },
   {
    "duration": -287,
    "start_time": "2021-09-10T21:33:20.117Z"
   },
   {
    "duration": -290,
    "start_time": "2021-09-10T21:33:20.121Z"
   },
   {
    "duration": -337,
    "start_time": "2021-09-10T21:33:20.170Z"
   },
   {
    "duration": -341,
    "start_time": "2021-09-10T21:33:20.175Z"
   },
   {
    "duration": -343,
    "start_time": "2021-09-10T21:33:20.178Z"
   },
   {
    "duration": -347,
    "start_time": "2021-09-10T21:33:20.183Z"
   },
   {
    "duration": -349,
    "start_time": "2021-09-10T21:33:20.187Z"
   },
   {
    "duration": -354,
    "start_time": "2021-09-10T21:33:20.193Z"
   },
   {
    "duration": -357,
    "start_time": "2021-09-10T21:33:20.197Z"
   },
   {
    "duration": -367,
    "start_time": "2021-09-10T21:33:20.208Z"
   },
   {
    "duration": -369,
    "start_time": "2021-09-10T21:33:20.212Z"
   },
   {
    "duration": -373,
    "start_time": "2021-09-10T21:33:20.217Z"
   },
   {
    "duration": -376,
    "start_time": "2021-09-10T21:33:20.221Z"
   },
   {
    "duration": -379,
    "start_time": "2021-09-10T21:33:20.226Z"
   },
   {
    "duration": -382,
    "start_time": "2021-09-10T21:33:20.230Z"
   },
   {
    "duration": -386,
    "start_time": "2021-09-10T21:33:20.235Z"
   },
   {
    "duration": -378,
    "start_time": "2021-09-10T21:33:20.239Z"
   },
   {
    "duration": -381,
    "start_time": "2021-09-10T21:33:20.244Z"
   },
   {
    "duration": -384,
    "start_time": "2021-09-10T21:33:20.248Z"
   },
   {
    "duration": -386,
    "start_time": "2021-09-10T21:33:20.252Z"
   },
   {
    "duration": 753,
    "start_time": "2021-09-10T21:33:33.913Z"
   },
   {
    "duration": 292,
    "start_time": "2021-09-10T21:33:56.267Z"
   },
   {
    "duration": 13,
    "start_time": "2021-09-10T21:34:06.270Z"
   },
   {
    "duration": 300,
    "start_time": "2021-09-10T21:34:07.440Z"
   },
   {
    "duration": 31611,
    "start_time": "2021-09-10T21:34:42.046Z"
   },
   {
    "duration": 19,
    "start_time": "2021-09-10T21:35:13.660Z"
   },
   {
    "duration": 15,
    "start_time": "2021-09-10T21:35:13.684Z"
   },
   {
    "duration": 17,
    "start_time": "2021-09-10T21:35:13.703Z"
   },
   {
    "duration": 62,
    "start_time": "2021-09-10T21:35:13.723Z"
   },
   {
    "duration": 28,
    "start_time": "2021-09-10T21:35:13.788Z"
   },
   {
    "duration": 63,
    "start_time": "2021-09-10T21:35:13.819Z"
   },
   {
    "duration": 31,
    "start_time": "2021-09-10T21:35:13.885Z"
   },
   {
    "duration": 41,
    "start_time": "2021-09-10T21:35:13.922Z"
   },
   {
    "duration": 8,
    "start_time": "2021-09-10T21:35:13.968Z"
   },
   {
    "duration": 38,
    "start_time": "2021-09-10T21:35:13.979Z"
   },
   {
    "duration": 17,
    "start_time": "2021-09-10T21:35:14.020Z"
   },
   {
    "duration": 29,
    "start_time": "2021-09-10T21:35:14.041Z"
   },
   {
    "duration": 27,
    "start_time": "2021-09-10T21:35:14.073Z"
   },
   {
    "duration": 341,
    "start_time": "2021-09-10T21:35:14.104Z"
   },
   {
    "duration": 20,
    "start_time": "2021-09-10T21:35:14.448Z"
   },
   {
    "duration": 24,
    "start_time": "2021-09-10T21:35:14.471Z"
   },
   {
    "duration": 17,
    "start_time": "2021-09-10T21:35:14.499Z"
   },
   {
    "duration": 258,
    "start_time": "2021-09-10T21:35:14.519Z"
   },
   {
    "duration": 16,
    "start_time": "2021-09-10T21:35:14.780Z"
   },
   {
    "duration": 25,
    "start_time": "2021-09-10T21:35:14.798Z"
   },
   {
    "duration": 37,
    "start_time": "2021-09-10T21:35:14.826Z"
   },
   {
    "duration": 26,
    "start_time": "2021-09-10T21:35:14.865Z"
   },
   {
    "duration": 21,
    "start_time": "2021-09-10T21:35:14.894Z"
   },
   {
    "duration": 30,
    "start_time": "2021-09-10T21:35:14.917Z"
   },
   {
    "duration": 23,
    "start_time": "2021-09-10T21:35:14.950Z"
   },
   {
    "duration": 355,
    "start_time": "2021-09-10T21:35:14.979Z"
   },
   {
    "duration": 370,
    "start_time": "2021-09-10T21:35:15.338Z"
   },
   {
    "duration": 16,
    "start_time": "2021-09-10T21:35:15.711Z"
   },
   {
    "duration": 45,
    "start_time": "2021-09-10T21:35:15.730Z"
   },
   {
    "duration": 465,
    "start_time": "2021-09-10T21:35:15.778Z"
   },
   {
    "duration": 28,
    "start_time": "2021-09-10T21:35:16.247Z"
   },
   {
    "duration": 470,
    "start_time": "2021-09-10T21:35:16.278Z"
   },
   {
    "duration": 403,
    "start_time": "2021-09-10T21:35:16.751Z"
   },
   {
    "duration": 47,
    "start_time": "2021-09-10T21:35:17.110Z"
   },
   {
    "duration": 45,
    "start_time": "2021-09-10T21:35:17.114Z"
   },
   {
    "duration": 41,
    "start_time": "2021-09-10T21:35:17.120Z"
   },
   {
    "duration": 34,
    "start_time": "2021-09-10T21:35:17.130Z"
   },
   {
    "duration": 32,
    "start_time": "2021-09-10T21:35:17.134Z"
   },
   {
    "duration": 30,
    "start_time": "2021-09-10T21:35:17.139Z"
   },
   {
    "duration": 28,
    "start_time": "2021-09-10T21:35:17.143Z"
   },
   {
    "duration": 26,
    "start_time": "2021-09-10T21:35:17.147Z"
   },
   {
    "duration": 25,
    "start_time": "2021-09-10T21:35:17.151Z"
   },
   {
    "duration": 22,
    "start_time": "2021-09-10T21:35:17.156Z"
   },
   {
    "duration": 20,
    "start_time": "2021-09-10T21:35:17.160Z"
   },
   {
    "duration": -1,
    "start_time": "2021-09-10T21:35:17.183Z"
   },
   {
    "duration": -2,
    "start_time": "2021-09-10T21:35:17.187Z"
   },
   {
    "duration": -5,
    "start_time": "2021-09-10T21:35:17.192Z"
   },
   {
    "duration": -22,
    "start_time": "2021-09-10T21:35:17.211Z"
   },
   {
    "duration": -25,
    "start_time": "2021-09-10T21:35:17.216Z"
   },
   {
    "duration": -26,
    "start_time": "2021-09-10T21:35:17.220Z"
   },
   {
    "duration": -29,
    "start_time": "2021-09-10T21:35:17.225Z"
   },
   {
    "duration": -31,
    "start_time": "2021-09-10T21:35:17.229Z"
   },
   {
    "duration": -34,
    "start_time": "2021-09-10T21:35:17.234Z"
   },
   {
    "duration": -36,
    "start_time": "2021-09-10T21:35:17.238Z"
   },
   {
    "duration": 20,
    "start_time": "2021-09-10T21:35:17.242Z"
   },
   {
    "duration": 19,
    "start_time": "2021-09-10T21:35:17.246Z"
   },
   {
    "duration": 16,
    "start_time": "2021-09-10T21:35:17.251Z"
   },
   {
    "duration": 14,
    "start_time": "2021-09-10T21:35:17.255Z"
   },
   {
    "duration": 13,
    "start_time": "2021-09-10T21:35:17.259Z"
   },
   {
    "duration": 11,
    "start_time": "2021-09-10T21:35:17.263Z"
   },
   {
    "duration": 10,
    "start_time": "2021-09-10T21:35:17.267Z"
   },
   {
    "duration": 8,
    "start_time": "2021-09-10T21:35:17.271Z"
   },
   {
    "duration": -12,
    "start_time": "2021-09-10T21:35:17.293Z"
   },
   {
    "duration": -13,
    "start_time": "2021-09-10T21:35:17.296Z"
   },
   {
    "duration": -16,
    "start_time": "2021-09-10T21:35:17.301Z"
   },
   {
    "duration": -18,
    "start_time": "2021-09-10T21:35:17.305Z"
   },
   {
    "duration": -172,
    "start_time": "2021-09-10T21:35:17.462Z"
   },
   {
    "duration": 12,
    "start_time": "2021-09-10T21:35:37.929Z"
   },
   {
    "duration": 9,
    "start_time": "2021-09-10T21:35:39.140Z"
   },
   {
    "duration": 15,
    "start_time": "2021-09-10T21:35:40.036Z"
   },
   {
    "duration": 320,
    "start_time": "2021-09-10T21:35:41.361Z"
   },
   {
    "duration": 10,
    "start_time": "2021-09-10T21:35:49.091Z"
   },
   {
    "duration": 14,
    "start_time": "2021-09-10T21:35:50.078Z"
   },
   {
    "duration": 15,
    "start_time": "2021-09-10T21:35:51.129Z"
   },
   {
    "duration": 298,
    "start_time": "2021-09-10T21:35:52.178Z"
   },
   {
    "duration": 17,
    "start_time": "2021-09-10T21:35:53.235Z"
   },
   {
    "duration": 12,
    "start_time": "2021-09-10T21:35:53.812Z"
   },
   {
    "duration": 20,
    "start_time": "2021-09-10T21:35:54.368Z"
   },
   {
    "duration": 15,
    "start_time": "2021-09-10T21:35:54.917Z"
   },
   {
    "duration": 19,
    "start_time": "2021-09-10T21:35:55.511Z"
   },
   {
    "duration": 21,
    "start_time": "2021-09-10T21:35:56.097Z"
   },
   {
    "duration": 16,
    "start_time": "2021-09-10T21:35:56.620Z"
   },
   {
    "duration": 330,
    "start_time": "2021-09-10T21:35:57.543Z"
   },
   {
    "duration": 339,
    "start_time": "2021-09-10T21:36:03.713Z"
   },
   {
    "duration": 13,
    "start_time": "2021-09-10T21:36:06.986Z"
   },
   {
    "duration": 17,
    "start_time": "2021-09-10T21:36:07.637Z"
   },
   {
    "duration": 454,
    "start_time": "2021-09-10T21:36:08.175Z"
   },
   {
    "duration": 18,
    "start_time": "2021-09-10T21:36:15.267Z"
   },
   {
    "duration": 430,
    "start_time": "2021-09-10T21:36:16.689Z"
   },
   {
    "duration": 383,
    "start_time": "2021-09-10T21:36:18.435Z"
   },
   {
    "duration": 13,
    "start_time": "2021-09-10T21:36:22.326Z"
   },
   {
    "duration": 23,
    "start_time": "2021-09-10T21:36:30.412Z"
   },
   {
    "duration": 411,
    "start_time": "2021-09-10T21:36:33.178Z"
   },
   {
    "duration": 40,
    "start_time": "2021-09-10T21:36:37.725Z"
   },
   {
    "duration": 18,
    "start_time": "2021-09-10T21:36:38.312Z"
   },
   {
    "duration": 191,
    "start_time": "2021-09-10T21:36:38.706Z"
   },
   {
    "duration": 11,
    "start_time": "2021-09-10T21:36:38.900Z"
   },
   {
    "duration": 322,
    "start_time": "2021-09-10T21:36:43.555Z"
   },
   {
    "duration": 255,
    "start_time": "2021-09-10T21:36:46.707Z"
   },
   {
    "duration": 14,
    "start_time": "2021-09-10T21:36:57.337Z"
   },
   {
    "duration": 31,
    "start_time": "2021-09-10T21:37:00.724Z"
   },
   {
    "duration": 324,
    "start_time": "2021-09-10T21:37:01.863Z"
   },
   {
    "duration": 6,
    "start_time": "2021-09-10T21:37:02.190Z"
   },
   {
    "duration": 21,
    "start_time": "2021-09-10T21:37:03.687Z"
   },
   {
    "duration": 16,
    "start_time": "2021-09-10T21:37:04.161Z"
   },
   {
    "duration": 16,
    "start_time": "2021-09-10T21:37:05.580Z"
   },
   {
    "duration": 288,
    "start_time": "2021-09-10T21:37:06.722Z"
   },
   {
    "duration": 31,
    "start_time": "2021-09-10T21:38:43.243Z"
   },
   {
    "duration": 32,
    "start_time": "2021-09-10T21:39:58.150Z"
   },
   {
    "duration": 14,
    "start_time": "2021-09-10T21:40:25.895Z"
   },
   {
    "duration": 29,
    "start_time": "2021-09-10T21:40:43.143Z"
   },
   {
    "duration": 340,
    "start_time": "2021-09-10T21:40:50.559Z"
   },
   {
    "duration": 6,
    "start_time": "2021-09-10T21:40:56.657Z"
   },
   {
    "duration": 21,
    "start_time": "2021-09-10T21:41:03.084Z"
   },
   {
    "duration": 11,
    "start_time": "2021-09-10T21:42:56.862Z"
   },
   {
    "duration": 9,
    "start_time": "2021-09-10T21:43:59.112Z"
   },
   {
    "duration": 13,
    "start_time": "2021-09-10T21:44:20.084Z"
   },
   {
    "duration": 29225,
    "start_time": "2021-09-10T21:45:05.506Z"
   },
   {
    "duration": 15,
    "start_time": "2021-09-10T21:45:34.733Z"
   },
   {
    "duration": 13,
    "start_time": "2021-09-10T21:45:34.752Z"
   },
   {
    "duration": 14,
    "start_time": "2021-09-10T21:45:34.768Z"
   },
   {
    "duration": 21,
    "start_time": "2021-09-10T21:45:34.784Z"
   },
   {
    "duration": 26,
    "start_time": "2021-09-10T21:45:34.807Z"
   },
   {
    "duration": 26,
    "start_time": "2021-09-10T21:45:34.863Z"
   },
   {
    "duration": 27,
    "start_time": "2021-09-10T21:45:34.891Z"
   },
   {
    "duration": 40,
    "start_time": "2021-09-10T21:45:34.924Z"
   },
   {
    "duration": 8,
    "start_time": "2021-09-10T21:45:34.968Z"
   },
   {
    "duration": 29,
    "start_time": "2021-09-10T21:45:34.978Z"
   },
   {
    "duration": 13,
    "start_time": "2021-09-10T21:45:35.010Z"
   },
   {
    "duration": 38,
    "start_time": "2021-09-10T21:45:35.026Z"
   },
   {
    "duration": 16,
    "start_time": "2021-09-10T21:45:35.068Z"
   },
   {
    "duration": 343,
    "start_time": "2021-09-10T21:45:35.087Z"
   },
   {
    "duration": 11,
    "start_time": "2021-09-10T21:45:35.433Z"
   },
   {
    "duration": 16,
    "start_time": "2021-09-10T21:45:35.463Z"
   },
   {
    "duration": 15,
    "start_time": "2021-09-10T21:45:35.482Z"
   },
   {
    "duration": 265,
    "start_time": "2021-09-10T21:45:35.500Z"
   },
   {
    "duration": 19,
    "start_time": "2021-09-10T21:45:35.769Z"
   },
   {
    "duration": 15,
    "start_time": "2021-09-10T21:45:35.791Z"
   },
   {
    "duration": 60,
    "start_time": "2021-09-10T21:45:35.809Z"
   },
   {
    "duration": 17,
    "start_time": "2021-09-10T21:45:35.872Z"
   },
   {
    "duration": 19,
    "start_time": "2021-09-10T21:45:35.892Z"
   },
   {
    "duration": 55,
    "start_time": "2021-09-10T21:45:35.914Z"
   },
   {
    "duration": 18,
    "start_time": "2021-09-10T21:45:35.972Z"
   },
   {
    "duration": 373,
    "start_time": "2021-09-10T21:45:35.999Z"
   },
   {
    "duration": 350,
    "start_time": "2021-09-10T21:45:36.376Z"
   },
   {
    "duration": 14,
    "start_time": "2021-09-10T21:45:36.728Z"
   },
   {
    "duration": 31,
    "start_time": "2021-09-10T21:45:36.745Z"
   },
   {
    "duration": 465,
    "start_time": "2021-09-10T21:45:36.778Z"
   },
   {
    "duration": 24,
    "start_time": "2021-09-10T21:45:37.246Z"
   },
   {
    "duration": 485,
    "start_time": "2021-09-10T21:45:37.273Z"
   },
   {
    "duration": 566,
    "start_time": "2021-09-10T21:45:37.762Z"
   },
   {
    "duration": -1160,
    "start_time": "2021-09-10T21:45:39.490Z"
   },
   {
    "duration": -1162,
    "start_time": "2021-09-10T21:45:39.494Z"
   },
   {
    "duration": -1229,
    "start_time": "2021-09-10T21:45:39.562Z"
   },
   {
    "duration": -1233,
    "start_time": "2021-09-10T21:45:39.568Z"
   },
   {
    "duration": -1237,
    "start_time": "2021-09-10T21:45:39.573Z"
   },
   {
    "duration": -1246,
    "start_time": "2021-09-10T21:45:39.584Z"
   },
   {
    "duration": -1253,
    "start_time": "2021-09-10T21:45:39.592Z"
   },
   {
    "duration": -1256,
    "start_time": "2021-09-10T21:45:39.596Z"
   },
   {
    "duration": -1260,
    "start_time": "2021-09-10T21:45:39.602Z"
   },
   {
    "duration": -1263,
    "start_time": "2021-09-10T21:45:39.606Z"
   },
   {
    "duration": -1266,
    "start_time": "2021-09-10T21:45:39.611Z"
   },
   {
    "duration": -1291,
    "start_time": "2021-09-10T21:45:39.637Z"
   },
   {
    "duration": -1295,
    "start_time": "2021-09-10T21:45:39.642Z"
   },
   {
    "duration": -1297,
    "start_time": "2021-09-10T21:45:39.646Z"
   },
   {
    "duration": -1304,
    "start_time": "2021-09-10T21:45:39.654Z"
   },
   {
    "duration": -1305,
    "start_time": "2021-09-10T21:45:39.658Z"
   },
   {
    "duration": -1308,
    "start_time": "2021-09-10T21:45:39.663Z"
   },
   {
    "duration": -1310,
    "start_time": "2021-09-10T21:45:39.667Z"
   },
   {
    "duration": -1314,
    "start_time": "2021-09-10T21:45:39.672Z"
   },
   {
    "duration": -1317,
    "start_time": "2021-09-10T21:45:39.676Z"
   },
   {
    "duration": -1320,
    "start_time": "2021-09-10T21:45:39.681Z"
   },
   {
    "duration": -1323,
    "start_time": "2021-09-10T21:45:39.685Z"
   },
   {
    "duration": -1325,
    "start_time": "2021-09-10T21:45:39.689Z"
   },
   {
    "duration": -1328,
    "start_time": "2021-09-10T21:45:39.693Z"
   },
   {
    "duration": -1332,
    "start_time": "2021-09-10T21:45:39.698Z"
   },
   {
    "duration": -1334,
    "start_time": "2021-09-10T21:45:39.702Z"
   },
   {
    "duration": -1337,
    "start_time": "2021-09-10T21:45:39.706Z"
   },
   {
    "duration": -1340,
    "start_time": "2021-09-10T21:45:39.710Z"
   },
   {
    "duration": -1343,
    "start_time": "2021-09-10T21:45:39.714Z"
   },
   {
    "duration": -1345,
    "start_time": "2021-09-10T21:45:39.718Z"
   },
   {
    "duration": -1349,
    "start_time": "2021-09-10T21:45:39.723Z"
   },
   {
    "duration": -1352,
    "start_time": "2021-09-10T21:45:39.727Z"
   },
   {
    "duration": -1357,
    "start_time": "2021-09-10T21:45:39.733Z"
   },
   {
    "duration": -1359,
    "start_time": "2021-09-10T21:45:39.737Z"
   },
   {
    "duration": -1362,
    "start_time": "2021-09-10T21:45:39.741Z"
   },
   {
    "duration": -1365,
    "start_time": "2021-09-10T21:45:39.745Z"
   },
   {
    "duration": -1369,
    "start_time": "2021-09-10T21:45:39.750Z"
   },
   {
    "duration": 230,
    "start_time": "2021-09-10T21:46:13.666Z"
   },
   {
    "duration": 14,
    "start_time": "2021-09-10T21:46:24.871Z"
   },
   {
    "duration": 290,
    "start_time": "2021-09-10T21:46:26.078Z"
   },
   {
    "duration": 283,
    "start_time": "2021-09-10T21:46:26.576Z"
   },
   {
    "duration": 28,
    "start_time": "2021-09-10T21:46:50.036Z"
   },
   {
    "duration": 28,
    "start_time": "2021-09-10T21:46:50.261Z"
   },
   {
    "duration": 29,
    "start_time": "2021-09-10T21:46:50.823Z"
   },
   {
    "duration": 9,
    "start_time": "2021-09-10T21:46:51.741Z"
   },
   {
    "duration": 7,
    "start_time": "2021-09-10T21:46:51.758Z"
   },
   {
    "duration": 16,
    "start_time": "2021-09-10T21:46:52.133Z"
   },
   {
    "duration": 13,
    "start_time": "2021-09-10T21:46:53.392Z"
   },
   {
    "duration": 10,
    "start_time": "2021-09-10T21:46:53.961Z"
   },
   {
    "duration": 16,
    "start_time": "2021-09-10T21:46:54.234Z"
   },
   {
    "duration": 312,
    "start_time": "2021-09-10T21:46:54.886Z"
   },
   {
    "duration": 10,
    "start_time": "2021-09-10T21:46:55.577Z"
   },
   {
    "duration": 15,
    "start_time": "2021-09-10T21:46:55.935Z"
   },
   {
    "duration": 17,
    "start_time": "2021-09-10T21:46:55.953Z"
   },
   {
    "duration": 311,
    "start_time": "2021-09-10T21:46:56.606Z"
   },
   {
    "duration": 18,
    "start_time": "2021-09-10T21:46:56.992Z"
   },
   {
    "duration": 13,
    "start_time": "2021-09-10T21:46:57.652Z"
   },
   {
    "duration": 25,
    "start_time": "2021-09-10T21:46:58.202Z"
   },
   {
    "duration": 17,
    "start_time": "2021-09-10T21:46:58.770Z"
   },
   {
    "duration": 19,
    "start_time": "2021-09-10T21:46:59.476Z"
   },
   {
    "duration": 15,
    "start_time": "2021-09-10T21:47:00.129Z"
   },
   {
    "duration": 17,
    "start_time": "2021-09-10T21:47:00.599Z"
   },
   {
    "duration": 329,
    "start_time": "2021-09-10T21:47:01.178Z"
   },
   {
    "duration": 346,
    "start_time": "2021-09-10T21:47:02.227Z"
   },
   {
    "duration": 15,
    "start_time": "2021-09-10T21:47:02.577Z"
   },
   {
    "duration": 19,
    "start_time": "2021-09-10T21:47:02.997Z"
   },
   {
    "duration": 457,
    "start_time": "2021-09-10T21:47:03.668Z"
   },
   {
    "duration": 17,
    "start_time": "2021-09-10T21:47:04.464Z"
   },
   {
    "duration": 481,
    "start_time": "2021-09-10T21:47:05.028Z"
   },
   {
    "duration": 225,
    "start_time": "2021-09-10T21:47:05.513Z"
   },
   {
    "duration": -19,
    "start_time": "2021-09-10T21:47:05.759Z"
   },
   {
    "duration": 24,
    "start_time": "2021-09-10T21:47:05.886Z"
   },
   {
    "duration": 354,
    "start_time": "2021-09-10T21:47:06.420Z"
   },
   {
    "duration": 51,
    "start_time": "2021-09-10T21:47:06.987Z"
   },
   {
    "duration": 20,
    "start_time": "2021-09-10T21:47:07.473Z"
   },
   {
    "duration": 199,
    "start_time": "2021-09-10T21:47:08.182Z"
   },
   {
    "duration": 12,
    "start_time": "2021-09-10T21:47:08.518Z"
   },
   {
    "duration": 305,
    "start_time": "2021-09-10T21:47:10.617Z"
   },
   {
    "duration": 300,
    "start_time": "2021-09-10T21:47:11.859Z"
   },
   {
    "duration": 14,
    "start_time": "2021-09-10T21:47:13.128Z"
   },
   {
    "duration": 31,
    "start_time": "2021-09-10T21:47:13.778Z"
   },
   {
    "duration": 307,
    "start_time": "2021-09-10T21:47:14.222Z"
   },
   {
    "duration": 7,
    "start_time": "2021-09-10T21:47:15.858Z"
   },
   {
    "duration": 12,
    "start_time": "2021-09-10T21:47:17.315Z"
   },
   {
    "duration": 9,
    "start_time": "2021-09-10T21:47:17.967Z"
   },
   {
    "duration": 16,
    "start_time": "2021-09-10T21:47:17.979Z"
   },
   {
    "duration": 21,
    "start_time": "2021-09-10T21:47:18.212Z"
   },
   {
    "duration": 30,
    "start_time": "2021-09-10T21:50:47.674Z"
   },
   {
    "duration": 15,
    "start_time": "2021-09-10T21:51:29.781Z"
   },
   {
    "duration": 31,
    "start_time": "2021-09-10T21:51:31.208Z"
   },
   {
    "duration": 334,
    "start_time": "2021-09-10T21:51:35.544Z"
   },
   {
    "duration": 7,
    "start_time": "2021-09-10T21:51:48.492Z"
   },
   {
    "duration": 12,
    "start_time": "2021-09-10T21:52:01.846Z"
   },
   {
    "duration": 9,
    "start_time": "2021-09-10T21:52:02.879Z"
   },
   {
    "duration": 14,
    "start_time": "2021-09-10T21:52:03.970Z"
   },
   {
    "duration": 23,
    "start_time": "2021-09-10T21:52:08.582Z"
   },
   {
    "duration": 15,
    "start_time": "2021-09-10T21:52:25.773Z"
   },
   {
    "duration": 13808,
    "start_time": "2021-09-11T11:06:05.572Z"
   },
   {
    "duration": 12,
    "start_time": "2021-09-11T11:06:19.382Z"
   },
   {
    "duration": 11,
    "start_time": "2021-09-11T11:06:19.396Z"
   },
   {
    "duration": 16,
    "start_time": "2021-09-11T11:06:19.408Z"
   },
   {
    "duration": 18,
    "start_time": "2021-09-11T11:06:19.425Z"
   },
   {
    "duration": 19,
    "start_time": "2021-09-11T11:06:19.445Z"
   },
   {
    "duration": 20,
    "start_time": "2021-09-11T11:06:19.465Z"
   },
   {
    "duration": 22,
    "start_time": "2021-09-11T11:06:19.488Z"
   },
   {
    "duration": 29,
    "start_time": "2021-09-11T11:06:19.512Z"
   },
   {
    "duration": 4,
    "start_time": "2021-09-11T11:06:19.544Z"
   },
   {
    "duration": 20,
    "start_time": "2021-09-11T11:06:19.550Z"
   },
   {
    "duration": 9,
    "start_time": "2021-09-11T11:06:19.571Z"
   },
   {
    "duration": 9,
    "start_time": "2021-09-11T11:06:19.582Z"
   },
   {
    "duration": 12,
    "start_time": "2021-09-11T11:06:19.592Z"
   },
   {
    "duration": 250,
    "start_time": "2021-09-11T11:06:19.606Z"
   },
   {
    "duration": 7,
    "start_time": "2021-09-11T11:06:19.858Z"
   },
   {
    "duration": 21,
    "start_time": "2021-09-11T11:06:19.867Z"
   },
   {
    "duration": 10,
    "start_time": "2021-09-11T11:06:19.890Z"
   },
   {
    "duration": 172,
    "start_time": "2021-09-11T11:06:19.902Z"
   },
   {
    "duration": 13,
    "start_time": "2021-09-11T11:06:20.076Z"
   },
   {
    "duration": 17,
    "start_time": "2021-09-11T11:06:20.091Z"
   },
   {
    "duration": 32,
    "start_time": "2021-09-11T11:06:20.110Z"
   },
   {
    "duration": 14,
    "start_time": "2021-09-11T11:06:20.146Z"
   },
   {
    "duration": 13,
    "start_time": "2021-09-11T11:06:20.163Z"
   },
   {
    "duration": 22,
    "start_time": "2021-09-11T11:06:20.178Z"
   },
   {
    "duration": 13,
    "start_time": "2021-09-11T11:06:20.202Z"
   },
   {
    "duration": 334,
    "start_time": "2021-09-11T11:06:20.217Z"
   },
   {
    "duration": 244,
    "start_time": "2021-09-11T11:06:20.552Z"
   },
   {
    "duration": 11,
    "start_time": "2021-09-11T11:06:20.797Z"
   },
   {
    "duration": 15,
    "start_time": "2021-09-11T11:06:20.810Z"
   },
   {
    "duration": 384,
    "start_time": "2021-09-11T11:06:20.842Z"
   },
   {
    "duration": 20,
    "start_time": "2021-09-11T11:06:21.228Z"
   },
   {
    "duration": 356,
    "start_time": "2021-09-11T11:06:21.250Z"
   },
   {
    "duration": 385,
    "start_time": "2021-09-11T11:06:21.609Z"
   },
   {
    "duration": -195,
    "start_time": "2021-09-11T11:06:22.191Z"
   },
   {
    "duration": -197,
    "start_time": "2021-09-11T11:06:22.195Z"
   },
   {
    "duration": -201,
    "start_time": "2021-09-11T11:06:22.200Z"
   },
   {
    "duration": -205,
    "start_time": "2021-09-11T11:06:22.205Z"
   },
   {
    "duration": -207,
    "start_time": "2021-09-11T11:06:22.209Z"
   },
   {
    "duration": -210,
    "start_time": "2021-09-11T11:06:22.213Z"
   },
   {
    "duration": -228,
    "start_time": "2021-09-11T11:06:22.232Z"
   },
   {
    "duration": -231,
    "start_time": "2021-09-11T11:06:22.236Z"
   },
   {
    "duration": -235,
    "start_time": "2021-09-11T11:06:22.241Z"
   },
   {
    "duration": -238,
    "start_time": "2021-09-11T11:06:22.245Z"
   },
   {
    "duration": -241,
    "start_time": "2021-09-11T11:06:22.249Z"
   },
   {
    "duration": -244,
    "start_time": "2021-09-11T11:06:22.253Z"
   },
   {
    "duration": -247,
    "start_time": "2021-09-11T11:06:22.257Z"
   },
   {
    "duration": -248,
    "start_time": "2021-09-11T11:06:22.260Z"
   },
   {
    "duration": -252,
    "start_time": "2021-09-11T11:06:22.265Z"
   },
   {
    "duration": -254,
    "start_time": "2021-09-11T11:06:22.268Z"
   },
   {
    "duration": -258,
    "start_time": "2021-09-11T11:06:22.273Z"
   },
   {
    "duration": -260,
    "start_time": "2021-09-11T11:06:22.277Z"
   },
   {
    "duration": -263,
    "start_time": "2021-09-11T11:06:22.281Z"
   },
   {
    "duration": -265,
    "start_time": "2021-09-11T11:06:22.285Z"
   },
   {
    "duration": -269,
    "start_time": "2021-09-11T11:06:22.290Z"
   },
   {
    "duration": -270,
    "start_time": "2021-09-11T11:06:22.293Z"
   },
   {
    "duration": -274,
    "start_time": "2021-09-11T11:06:22.298Z"
   },
   {
    "duration": -274,
    "start_time": "2021-09-11T11:06:22.301Z"
   },
   {
    "duration": -277,
    "start_time": "2021-09-11T11:06:22.305Z"
   },
   {
    "duration": -279,
    "start_time": "2021-09-11T11:06:22.309Z"
   },
   {
    "duration": -282,
    "start_time": "2021-09-11T11:06:22.313Z"
   },
   {
    "duration": -284,
    "start_time": "2021-09-11T11:06:22.317Z"
   },
   {
    "duration": -281,
    "start_time": "2021-09-11T11:06:22.321Z"
   },
   {
    "duration": -283,
    "start_time": "2021-09-11T11:06:22.325Z"
   },
   {
    "duration": -285,
    "start_time": "2021-09-11T11:06:22.329Z"
   },
   {
    "duration": -288,
    "start_time": "2021-09-11T11:06:22.333Z"
   },
   {
    "duration": -290,
    "start_time": "2021-09-11T11:06:22.337Z"
   },
   {
    "duration": -293,
    "start_time": "2021-09-11T11:06:22.341Z"
   },
   {
    "duration": -296,
    "start_time": "2021-09-11T11:06:22.346Z"
   },
   {
    "duration": -299,
    "start_time": "2021-09-11T11:06:22.350Z"
   },
   {
    "duration": -301,
    "start_time": "2021-09-11T11:06:22.354Z"
   },
   {
    "duration": 30,
    "start_time": "2021-09-11T11:07:09.679Z"
   },
   {
    "duration": 15,
    "start_time": "2021-09-11T11:07:17.326Z"
   },
   {
    "duration": 131,
    "start_time": "2021-09-11T11:07:21.525Z"
   },
   {
    "duration": 9,
    "start_time": "2021-09-11T11:07:28.496Z"
   },
   {
    "duration": 10,
    "start_time": "2021-09-11T11:13:52.831Z"
   },
   {
    "duration": 16,
    "start_time": "2021-09-11T11:14:09.873Z"
   },
   {
    "duration": 9,
    "start_time": "2021-09-11T11:14:19.343Z"
   },
   {
    "duration": 24,
    "start_time": "2021-09-11T11:14:20.917Z"
   },
   {
    "duration": 214,
    "start_time": "2021-09-11T11:14:22.873Z"
   },
   {
    "duration": 4,
    "start_time": "2021-09-11T11:14:26.724Z"
   },
   {
    "duration": 8,
    "start_time": "2021-09-11T11:14:30.950Z"
   },
   {
    "duration": 8,
    "start_time": "2021-09-11T11:14:36.159Z"
   },
   {
    "duration": 16,
    "start_time": "2021-09-11T11:14:37.539Z"
   },
   {
    "duration": 22,
    "start_time": "2021-09-11T11:14:41.847Z"
   },
   {
    "duration": 13,
    "start_time": "2021-09-11T11:15:55.363Z"
   },
   {
    "duration": 102,
    "start_time": "2021-09-11T11:16:39.822Z"
   },
   {
    "duration": 215,
    "start_time": "2021-09-11T11:16:49.666Z"
   },
   {
    "duration": 5,
    "start_time": "2021-09-11T11:16:50.757Z"
   },
   {
    "duration": 9,
    "start_time": "2021-09-11T11:16:58.053Z"
   },
   {
    "duration": 7,
    "start_time": "2021-09-11T11:17:00.878Z"
   },
   {
    "duration": 23,
    "start_time": "2021-09-11T11:17:08.163Z"
   },
   {
    "duration": 13,
    "start_time": "2021-09-11T11:17:16.166Z"
   },
   {
    "duration": 188,
    "start_time": "2021-09-11T11:17:18.380Z"
   },
   {
    "duration": 10,
    "start_time": "2021-09-11T11:17:27.496Z"
   },
   {
    "duration": 7794,
    "start_time": "2021-09-11T11:17:36.449Z"
   },
   {
    "duration": 17,
    "start_time": "2021-09-11T11:18:07.072Z"
   },
   {
    "duration": 10,
    "start_time": "2021-09-11T11:18:14.196Z"
   },
   {
    "duration": 11,
    "start_time": "2021-09-11T11:18:23.288Z"
   },
   {
    "duration": 13,
    "start_time": "2021-09-11T11:19:53.201Z"
   },
   {
    "duration": 284,
    "start_time": "2021-09-11T11:20:24.304Z"
   },
   {
    "duration": 307,
    "start_time": "2021-09-11T11:21:53.348Z"
   },
   {
    "duration": 330,
    "start_time": "2021-09-11T11:22:07.145Z"
   },
   {
    "duration": 9,
    "start_time": "2021-09-11T11:23:53.534Z"
   },
   {
    "duration": 17,
    "start_time": "2021-09-11T11:29:41.084Z"
   },
   {
    "duration": 10,
    "start_time": "2021-09-11T11:30:01.150Z"
   },
   {
    "duration": 289,
    "start_time": "2021-09-11T11:34:09.854Z"
   },
   {
    "duration": 10,
    "start_time": "2021-09-11T11:34:37.147Z"
   },
   {
    "duration": 17,
    "start_time": "2021-09-11T11:34:39.216Z"
   },
   {
    "duration": 8,
    "start_time": "2021-09-11T11:34:40.697Z"
   },
   {
    "duration": 281,
    "start_time": "2021-09-11T11:34:44.639Z"
   },
   {
    "duration": 290,
    "start_time": "2021-09-11T11:35:19.115Z"
   },
   {
    "duration": 9,
    "start_time": "2021-09-11T11:35:36.000Z"
   },
   {
    "duration": 12,
    "start_time": "2021-09-11T11:35:46.552Z"
   },
   {
    "duration": 16,
    "start_time": "2021-09-11T11:36:43.278Z"
   },
   {
    "duration": 12,
    "start_time": "2021-09-11T11:40:32.484Z"
   },
   {
    "duration": 20,
    "start_time": "2021-09-11T11:40:39.991Z"
   },
   {
    "duration": 19,
    "start_time": "2021-09-11T11:41:19.513Z"
   },
   {
    "duration": 12,
    "start_time": "2021-09-11T11:41:29.586Z"
   },
   {
    "duration": 15,
    "start_time": "2021-09-11T11:42:02.498Z"
   },
   {
    "duration": 12,
    "start_time": "2021-09-11T11:42:43.677Z"
   },
   {
    "duration": 16,
    "start_time": "2021-09-11T11:42:47.453Z"
   },
   {
    "duration": 738,
    "start_time": "2021-09-11T11:49:46.349Z"
   },
   {
    "duration": 213,
    "start_time": "2021-09-11T11:50:18.345Z"
   },
   {
    "duration": 209,
    "start_time": "2021-09-11T11:51:00.681Z"
   },
   {
    "duration": 247,
    "start_time": "2021-09-11T11:51:58.768Z"
   },
   {
    "duration": 356,
    "start_time": "2021-09-11T11:52:42.008Z"
   },
   {
    "duration": 246,
    "start_time": "2021-09-11T11:52:56.878Z"
   },
   {
    "duration": 248,
    "start_time": "2021-09-11T11:53:54.746Z"
   },
   {
    "duration": 242,
    "start_time": "2021-09-11T11:54:49.540Z"
   },
   {
    "duration": 251,
    "start_time": "2021-09-11T11:55:00.943Z"
   },
   {
    "duration": 432,
    "start_time": "2021-09-11T11:55:43.970Z"
   },
   {
    "duration": 44,
    "start_time": "2021-09-11T12:01:18.955Z"
   },
   {
    "duration": 16,
    "start_time": "2021-09-11T12:01:55.699Z"
   },
   {
    "duration": 17,
    "start_time": "2021-09-11T12:02:48.603Z"
   },
   {
    "duration": 18,
    "start_time": "2021-09-11T12:03:02.773Z"
   },
   {
    "duration": 119,
    "start_time": "2021-09-11T12:03:43.889Z"
   },
   {
    "duration": 18,
    "start_time": "2021-09-11T12:05:39.025Z"
   },
   {
    "duration": 18,
    "start_time": "2021-09-11T12:06:58.411Z"
   },
   {
    "duration": 19,
    "start_time": "2021-09-11T12:07:57.476Z"
   },
   {
    "duration": 7,
    "start_time": "2021-09-11T12:09:30.765Z"
   },
   {
    "duration": 20,
    "start_time": "2021-09-11T12:09:50.167Z"
   },
   {
    "duration": 6,
    "start_time": "2021-09-11T12:09:51.840Z"
   },
   {
    "duration": 16,
    "start_time": "2021-09-11T12:11:51.963Z"
   },
   {
    "duration": 11,
    "start_time": "2021-09-11T12:14:04.487Z"
   },
   {
    "duration": 6,
    "start_time": "2021-09-11T12:14:56.917Z"
   },
   {
    "duration": 4,
    "start_time": "2021-09-11T12:20:32.591Z"
   },
   {
    "duration": 321,
    "start_time": "2021-09-11T12:22:38.589Z"
   },
   {
    "duration": 289,
    "start_time": "2021-09-11T12:23:01.145Z"
   },
   {
    "duration": 12,
    "start_time": "2021-09-11T12:23:20.765Z"
   },
   {
    "duration": 12,
    "start_time": "2021-09-11T12:23:28.624Z"
   },
   {
    "duration": 12,
    "start_time": "2021-09-11T12:23:41.207Z"
   },
   {
    "duration": 87,
    "start_time": "2021-09-11T12:24:02.816Z"
   },
   {
    "duration": 12,
    "start_time": "2021-09-11T12:24:06.968Z"
   },
   {
    "duration": 13,
    "start_time": "2021-09-11T12:25:13.877Z"
   },
   {
    "duration": 8,
    "start_time": "2021-09-11T12:25:14.934Z"
   },
   {
    "duration": 11,
    "start_time": "2021-09-11T12:25:16.402Z"
   },
   {
    "duration": 227,
    "start_time": "2021-09-11T12:25:18.844Z"
   },
   {
    "duration": 8,
    "start_time": "2021-09-11T12:26:00.035Z"
   },
   {
    "duration": 12,
    "start_time": "2021-09-11T12:26:01.341Z"
   },
   {
    "duration": 11,
    "start_time": "2021-09-11T12:26:02.829Z"
   },
   {
    "duration": 168,
    "start_time": "2021-09-11T12:26:06.424Z"
   },
   {
    "duration": 11,
    "start_time": "2021-09-11T12:26:15.360Z"
   },
   {
    "duration": 17,
    "start_time": "2021-09-11T12:26:16.398Z"
   },
   {
    "duration": 213,
    "start_time": "2021-09-11T12:26:25.356Z"
   },
   {
    "duration": 14,
    "start_time": "2021-09-11T12:40:08.120Z"
   },
   {
    "duration": 10,
    "start_time": "2021-09-11T12:40:11.688Z"
   },
   {
    "duration": 15,
    "start_time": "2021-09-11T12:40:14.034Z"
   },
   {
    "duration": 11,
    "start_time": "2021-09-11T12:40:18.139Z"
   },
   {
    "duration": 13,
    "start_time": "2021-09-11T12:40:21.657Z"
   },
   {
    "duration": 11,
    "start_time": "2021-09-11T12:40:23.288Z"
   },
   {
    "duration": 13,
    "start_time": "2021-09-11T12:40:24.806Z"
   },
   {
    "duration": 230,
    "start_time": "2021-09-11T12:42:11.242Z"
   },
   {
    "duration": 9,
    "start_time": "2021-09-11T12:43:57.741Z"
   },
   {
    "duration": 16,
    "start_time": "2021-09-11T12:43:59.226Z"
   },
   {
    "duration": 221,
    "start_time": "2021-09-11T12:44:05.438Z"
   },
   {
    "duration": 235,
    "start_time": "2021-09-11T12:52:59.290Z"
   },
   {
    "duration": 14,
    "start_time": "2021-09-11T12:53:16.802Z"
   },
   {
    "duration": 270,
    "start_time": "2021-09-11T12:54:59.402Z"
   },
   {
    "duration": 40321,
    "start_time": "2021-09-12T04:19:17.511Z"
   },
   {
    "duration": 11,
    "start_time": "2021-09-12T04:19:57.834Z"
   },
   {
    "duration": 9,
    "start_time": "2021-09-12T04:19:57.847Z"
   },
   {
    "duration": 14,
    "start_time": "2021-09-12T04:19:57.858Z"
   },
   {
    "duration": 15,
    "start_time": "2021-09-12T04:19:57.874Z"
   },
   {
    "duration": 18,
    "start_time": "2021-09-12T04:19:57.890Z"
   },
   {
    "duration": 19,
    "start_time": "2021-09-12T04:19:57.909Z"
   },
   {
    "duration": 18,
    "start_time": "2021-09-12T04:19:57.930Z"
   },
   {
    "duration": 5,
    "start_time": "2021-09-12T04:19:57.950Z"
   },
   {
    "duration": 5,
    "start_time": "2021-09-12T04:19:57.977Z"
   },
   {
    "duration": 12,
    "start_time": "2021-09-12T04:19:57.984Z"
   },
   {
    "duration": 8,
    "start_time": "2021-09-12T04:19:57.998Z"
   },
   {
    "duration": 7,
    "start_time": "2021-09-12T04:19:58.007Z"
   },
   {
    "duration": 12,
    "start_time": "2021-09-12T04:19:58.015Z"
   },
   {
    "duration": 234,
    "start_time": "2021-09-12T04:19:58.029Z"
   },
   {
    "duration": 12,
    "start_time": "2021-09-12T04:19:58.265Z"
   },
   {
    "duration": 10,
    "start_time": "2021-09-12T04:19:58.278Z"
   },
   {
    "duration": 9,
    "start_time": "2021-09-12T04:19:58.290Z"
   },
   {
    "duration": 157,
    "start_time": "2021-09-12T04:19:58.301Z"
   },
   {
    "duration": 18,
    "start_time": "2021-09-12T04:19:58.460Z"
   },
   {
    "duration": 12,
    "start_time": "2021-09-12T04:19:58.479Z"
   },
   {
    "duration": 14,
    "start_time": "2021-09-12T04:19:58.492Z"
   },
   {
    "duration": 10,
    "start_time": "2021-09-12T04:19:58.510Z"
   },
   {
    "duration": 11,
    "start_time": "2021-09-12T04:19:58.522Z"
   },
   {
    "duration": 14,
    "start_time": "2021-09-12T04:19:58.535Z"
   },
   {
    "duration": 12,
    "start_time": "2021-09-12T04:19:58.577Z"
   },
   {
    "duration": 213,
    "start_time": "2021-09-12T04:19:58.590Z"
   },
   {
    "duration": 215,
    "start_time": "2021-09-12T04:19:58.805Z"
   },
   {
    "duration": 9,
    "start_time": "2021-09-12T04:19:59.021Z"
   },
   {
    "duration": 12,
    "start_time": "2021-09-12T04:19:59.032Z"
   },
   {
    "duration": 369,
    "start_time": "2021-09-12T04:19:59.046Z"
   },
   {
    "duration": 11,
    "start_time": "2021-09-12T04:19:59.417Z"
   },
   {
    "duration": 335,
    "start_time": "2021-09-12T04:19:59.430Z"
   },
   {
    "duration": 375,
    "start_time": "2021-09-12T04:19:59.766Z"
   },
   {
    "duration": -1293,
    "start_time": "2021-09-12T04:20:01.435Z"
   },
   {
    "duration": -1306,
    "start_time": "2021-09-12T04:20:01.450Z"
   },
   {
    "duration": -1317,
    "start_time": "2021-09-12T04:20:01.461Z"
   },
   {
    "duration": -1327,
    "start_time": "2021-09-12T04:20:01.472Z"
   },
   {
    "duration": -1336,
    "start_time": "2021-09-12T04:20:01.482Z"
   },
   {
    "duration": -1346,
    "start_time": "2021-09-12T04:20:01.493Z"
   },
   {
    "duration": -1355,
    "start_time": "2021-09-12T04:20:01.503Z"
   },
   {
    "duration": -1365,
    "start_time": "2021-09-12T04:20:01.514Z"
   },
   {
    "duration": -1373,
    "start_time": "2021-09-12T04:20:01.523Z"
   },
   {
    "duration": -1399,
    "start_time": "2021-09-12T04:20:01.550Z"
   },
   {
    "duration": -1408,
    "start_time": "2021-09-12T04:20:01.560Z"
   },
   {
    "duration": -1418,
    "start_time": "2021-09-12T04:20:01.571Z"
   },
   {
    "duration": -1427,
    "start_time": "2021-09-12T04:20:01.581Z"
   },
   {
    "duration": -1437,
    "start_time": "2021-09-12T04:20:01.592Z"
   },
   {
    "duration": -1512,
    "start_time": "2021-09-12T04:20:01.668Z"
   },
   {
    "duration": -1541,
    "start_time": "2021-09-12T04:20:01.698Z"
   },
   {
    "duration": -1552,
    "start_time": "2021-09-12T04:20:01.710Z"
   },
   {
    "duration": -1567,
    "start_time": "2021-09-12T04:20:01.726Z"
   },
   {
    "duration": -1578,
    "start_time": "2021-09-12T04:20:01.738Z"
   },
   {
    "duration": -1589,
    "start_time": "2021-09-12T04:20:01.750Z"
   },
   {
    "duration": -1601,
    "start_time": "2021-09-12T04:20:01.763Z"
   },
   {
    "duration": -1613,
    "start_time": "2021-09-12T04:20:01.776Z"
   },
   {
    "duration": -1626,
    "start_time": "2021-09-12T04:20:01.790Z"
   },
   {
    "duration": -1654,
    "start_time": "2021-09-12T04:20:01.819Z"
   },
   {
    "duration": -1666,
    "start_time": "2021-09-12T04:20:01.832Z"
   },
   {
    "duration": -1679,
    "start_time": "2021-09-12T04:20:01.846Z"
   },
   {
    "duration": -1691,
    "start_time": "2021-09-12T04:20:01.859Z"
   },
   {
    "duration": -1705,
    "start_time": "2021-09-12T04:20:01.874Z"
   },
   {
    "duration": -1715,
    "start_time": "2021-09-12T04:20:01.885Z"
   },
   {
    "duration": -1727,
    "start_time": "2021-09-12T04:20:01.898Z"
   },
   {
    "duration": -1738,
    "start_time": "2021-09-12T04:20:01.910Z"
   },
   {
    "duration": -1779,
    "start_time": "2021-09-12T04:20:01.952Z"
   },
   {
    "duration": -1797,
    "start_time": "2021-09-12T04:20:01.971Z"
   },
   {
    "duration": 36513,
    "start_time": "2021-09-12T04:21:19.838Z"
   },
   {
    "duration": 11,
    "start_time": "2021-09-12T04:21:56.353Z"
   },
   {
    "duration": 14,
    "start_time": "2021-09-12T04:21:56.365Z"
   },
   {
    "duration": 11,
    "start_time": "2021-09-12T04:21:56.381Z"
   },
   {
    "duration": 23,
    "start_time": "2021-09-12T04:21:56.393Z"
   },
   {
    "duration": 22,
    "start_time": "2021-09-12T04:21:56.418Z"
   },
   {
    "duration": 18,
    "start_time": "2021-09-12T04:21:56.441Z"
   },
   {
    "duration": 31,
    "start_time": "2021-09-12T04:21:56.461Z"
   },
   {
    "duration": 6,
    "start_time": "2021-09-12T04:21:56.494Z"
   },
   {
    "duration": 16,
    "start_time": "2021-09-12T04:21:56.501Z"
   },
   {
    "duration": 43,
    "start_time": "2021-09-12T04:21:56.519Z"
   },
   {
    "duration": 17,
    "start_time": "2021-09-12T04:21:56.564Z"
   },
   {
    "duration": 17,
    "start_time": "2021-09-12T04:21:56.583Z"
   },
   {
    "duration": 13,
    "start_time": "2021-09-12T04:21:56.601Z"
   },
   {
    "duration": 204,
    "start_time": "2021-09-12T04:21:56.615Z"
   },
   {
    "duration": 6,
    "start_time": "2021-09-12T04:21:56.821Z"
   },
   {
    "duration": 23,
    "start_time": "2021-09-12T04:21:56.829Z"
   },
   {
    "duration": 10,
    "start_time": "2021-09-12T04:21:56.854Z"
   },
   {
    "duration": 152,
    "start_time": "2021-09-12T04:21:56.865Z"
   },
   {
    "duration": 11,
    "start_time": "2021-09-12T04:21:57.019Z"
   },
   {
    "duration": 20,
    "start_time": "2021-09-12T04:21:57.032Z"
   },
   {
    "duration": 25,
    "start_time": "2021-09-12T04:21:57.053Z"
   },
   {
    "duration": 11,
    "start_time": "2021-09-12T04:21:57.081Z"
   },
   {
    "duration": 11,
    "start_time": "2021-09-12T04:21:57.094Z"
   },
   {
    "duration": 19,
    "start_time": "2021-09-12T04:21:57.106Z"
   },
   {
    "duration": 12,
    "start_time": "2021-09-12T04:21:57.126Z"
   },
   {
    "duration": 248,
    "start_time": "2021-09-12T04:21:57.140Z"
   },
   {
    "duration": 217,
    "start_time": "2021-09-12T04:21:57.389Z"
   },
   {
    "duration": 8,
    "start_time": "2021-09-12T04:21:57.608Z"
   },
   {
    "duration": 17,
    "start_time": "2021-09-12T04:21:57.617Z"
   },
   {
    "duration": 337,
    "start_time": "2021-09-12T04:21:57.636Z"
   },
   {
    "duration": 13,
    "start_time": "2021-09-12T04:21:57.976Z"
   },
   {
    "duration": 350,
    "start_time": "2021-09-12T04:21:57.990Z"
   },
   {
    "duration": 2,
    "start_time": "2021-09-12T04:21:58.341Z"
   },
   {
    "duration": 15,
    "start_time": "2021-09-12T04:21:58.345Z"
   },
   {
    "duration": 23,
    "start_time": "2021-09-12T04:21:58.361Z"
   },
   {
    "duration": 199,
    "start_time": "2021-09-12T04:21:58.386Z"
   },
   {
    "duration": 26,
    "start_time": "2021-09-12T04:21:58.587Z"
   },
   {
    "duration": 12,
    "start_time": "2021-09-12T04:21:58.615Z"
   },
   {
    "duration": 138,
    "start_time": "2021-09-12T04:21:58.628Z"
   },
   {
    "duration": 13,
    "start_time": "2021-09-12T04:21:58.768Z"
   },
   {
    "duration": 19,
    "start_time": "2021-09-12T04:21:58.782Z"
   },
   {
    "duration": 279,
    "start_time": "2021-09-12T04:21:58.803Z"
   },
   {
    "duration": 350,
    "start_time": "2021-09-12T04:21:59.083Z"
   },
   {
    "duration": -2245,
    "start_time": "2021-09-12T04:22:01.680Z"
   },
   {
    "duration": -2256,
    "start_time": "2021-09-12T04:22:01.692Z"
   },
   {
    "duration": -2266,
    "start_time": "2021-09-12T04:22:01.703Z"
   },
   {
    "duration": -2279,
    "start_time": "2021-09-12T04:22:01.716Z"
   },
   {
    "duration": -2290,
    "start_time": "2021-09-12T04:22:01.728Z"
   },
   {
    "duration": -2301,
    "start_time": "2021-09-12T04:22:01.740Z"
   },
   {
    "duration": -2310,
    "start_time": "2021-09-12T04:22:01.751Z"
   },
   {
    "duration": -2364,
    "start_time": "2021-09-12T04:22:01.805Z"
   },
   {
    "duration": -2374,
    "start_time": "2021-09-12T04:22:01.816Z"
   },
   {
    "duration": -2387,
    "start_time": "2021-09-12T04:22:01.830Z"
   },
   {
    "duration": -2396,
    "start_time": "2021-09-12T04:22:01.840Z"
   },
   {
    "duration": -2407,
    "start_time": "2021-09-12T04:22:01.852Z"
   },
   {
    "duration": -2416,
    "start_time": "2021-09-12T04:22:01.862Z"
   },
   {
    "duration": -2428,
    "start_time": "2021-09-12T04:22:01.875Z"
   },
   {
    "duration": -2438,
    "start_time": "2021-09-12T04:22:01.886Z"
   },
   {
    "duration": -2464,
    "start_time": "2021-09-12T04:22:01.913Z"
   },
   {
    "duration": -2477,
    "start_time": "2021-09-12T04:22:01.927Z"
   },
   {
    "duration": -2489,
    "start_time": "2021-09-12T04:22:01.940Z"
   },
   {
    "duration": -2498,
    "start_time": "2021-09-12T04:22:01.950Z"
   },
   {
    "duration": -2509,
    "start_time": "2021-09-12T04:22:01.962Z"
   },
   {
    "duration": -2519,
    "start_time": "2021-09-12T04:22:01.972Z"
   },
   {
    "duration": -2530,
    "start_time": "2021-09-12T04:22:01.984Z"
   },
   {
    "duration": -2539,
    "start_time": "2021-09-12T04:22:01.994Z"
   },
   {
    "duration": 3,
    "start_time": "2021-09-12T04:26:11.150Z"
   },
   {
    "duration": 10,
    "start_time": "2021-09-12T04:26:14.677Z"
   },
   {
    "duration": 24,
    "start_time": "2021-09-12T04:26:22.383Z"
   },
   {
    "duration": 201,
    "start_time": "2021-09-12T04:26:26.508Z"
   },
   {
    "duration": 5,
    "start_time": "2021-09-12T04:26:29.633Z"
   },
   {
    "duration": 8,
    "start_time": "2021-09-12T04:26:33.421Z"
   },
   {
    "duration": 9,
    "start_time": "2021-09-12T04:26:34.327Z"
   },
   {
    "duration": 11,
    "start_time": "2021-09-12T04:26:39.574Z"
   },
   {
    "duration": 22,
    "start_time": "2021-09-12T04:26:40.388Z"
   },
   {
    "duration": 12,
    "start_time": "2021-09-12T04:26:52.374Z"
   },
   {
    "duration": 11,
    "start_time": "2021-09-12T04:26:59.596Z"
   },
   {
    "duration": 173,
    "start_time": "2021-09-12T04:27:00.517Z"
   },
   {
    "duration": 9,
    "start_time": "2021-09-12T04:27:03.016Z"
   },
   {
    "duration": 14,
    "start_time": "2021-09-12T04:27:04.329Z"
   },
   {
    "duration": 7,
    "start_time": "2021-09-12T04:27:09.265Z"
   },
   {
    "duration": 11,
    "start_time": "2021-09-12T04:27:10.879Z"
   },
   {
    "duration": 11,
    "start_time": "2021-09-12T04:27:17.813Z"
   },
   {
    "duration": 13,
    "start_time": "2021-09-12T04:27:18.413Z"
   },
   {
    "duration": 217,
    "start_time": "2021-09-12T04:27:20.341Z"
   },
   {
    "duration": 213,
    "start_time": "2021-09-12T04:27:20.994Z"
   },
   {
    "duration": 17,
    "start_time": "2021-09-12T04:27:28.324Z"
   },
   {
    "duration": 6,
    "start_time": "2021-09-12T04:27:28.994Z"
   },
   {
    "duration": 4,
    "start_time": "2021-09-12T04:27:30.189Z"
   },
   {
    "duration": 12,
    "start_time": "2021-09-12T04:27:31.960Z"
   },
   {
    "duration": 11,
    "start_time": "2021-09-12T04:27:33.220Z"
   }
  ],
  "kernelspec": {
   "display_name": "Python 3",
   "language": "python",
   "name": "python3"
  },
  "language_info": {
   "codemirror_mode": {
    "name": "ipython",
    "version": 3
   },
   "file_extension": ".py",
   "mimetype": "text/x-python",
   "name": "python",
   "nbconvert_exporter": "python",
   "pygments_lexer": "ipython3",
   "version": "3.8.8"
  },
  "toc": {
   "base_numbering": "1",
   "nav_menu": {},
   "number_sections": true,
   "sideBar": true,
   "skip_h1_title": true,
   "title_cell": "Содержание",
   "title_sidebar": "Contents",
   "toc_cell": true,
   "toc_position": {
    "height": "calc(100% - 180px)",
    "left": "10px",
    "top": "150px",
    "width": "291.390625px"
   },
   "toc_section_display": true,
   "toc_window_display": true
  }
 },
 "nbformat": 4,
 "nbformat_minor": 2
}
