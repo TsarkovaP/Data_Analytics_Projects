{
 "cells": [
  {
   "cell_type": "markdown",
   "metadata": {
    "id": "nlZBlglMDWKe"
   },
   "source": [
    "# Практические задания по SQL."
   ]
  },
  {
   "cell_type": "code",
   "execution_count": null,
   "metadata": {},
   "outputs": [],
   "source": [
    "import pandas as pd\n",
    "import matplotlib.pyplot as plt\n",
    "from sqlalchemy import create_engine \n",
    "import seaborn as sns\n"
   ]
  },
  {
   "cell_type": "markdown",
   "metadata": {},
   "source": [
    "Подключение к базе данных."
   ]
  },
  {
   "cell_type": "code",
   "execution_count": 3,
   "metadata": {
    "id": "6p-yGp7qDWKg"
   },
   "outputs": [],
   "source": [
    "db_config = {\n",
    "    'user': 'praktikum_student', # имя пользователя\n",
    "    'pwd': 'Sdf4$2;d-d30pp', # пароль\n",
    "    'host': 'rc1b-wcoijxj3yxfsf3fs.mdb.yandexcloud.net',\n",
    "    'port': 6432, # порт подключения\n",
    "    'db': 'data-analyst-advanced-sql' # название базы данных\n",
    "}  \n",
    "\n",
    "connection_string = 'postgresql://{}:{}@{}:{}/{}'.format(\n",
    "    db_config['user'],\n",
    "    db_config['pwd'],\n",
    "    db_config['host'],\n",
    "    db_config['port'],\n",
    "    db_config['db'],\n",
    ")"
   ]
  },
  {
   "cell_type": "markdown",
   "metadata": {
    "id": "2Rg8ZpS0DWKh"
   },
   "source": [
    "Создание подключения"
   ]
  },
  {
   "cell_type": "code",
   "execution_count": 4,
   "metadata": {
    "id": "DamCUTR6DWKi"
   },
   "outputs": [],
   "source": [
    "engine = create_engine(connection_string) "
   ]
  },
  {
   "cell_type": "code",
   "execution_count": 5,
   "metadata": {
    "id": "6Z_fw0yLDWKk"
   },
   "outputs": [],
   "source": [
    "query = '''\n",
    "SELECT *\n",
    "FROM stackoverflow.users\n",
    "LIMIT 10;\n",
    "'''\n",
    "\n",
    "sample_df = pd.read_sql_query(query, con=engine) "
   ]
  },
  {
   "cell_type": "code",
   "execution_count": 6,
   "metadata": {
    "id": "ZpuZ290oDWKk",
    "outputId": "22785a0a-e2bc-4559-ec3c-4879c4b377eb"
   },
   "outputs": [
    {
     "data": {
      "text/html": [
       "<div>\n",
       "<style scoped>\n",
       "    .dataframe tbody tr th:only-of-type {\n",
       "        vertical-align: middle;\n",
       "    }\n",
       "\n",
       "    .dataframe tbody tr th {\n",
       "        vertical-align: top;\n",
       "    }\n",
       "\n",
       "    .dataframe thead th {\n",
       "        text-align: right;\n",
       "    }\n",
       "</style>\n",
       "<table border=\"1\" class=\"dataframe\">\n",
       "  <thead>\n",
       "    <tr style=\"text-align: right;\">\n",
       "      <th></th>\n",
       "      <th>id</th>\n",
       "      <th>creation_date</th>\n",
       "      <th>display_name</th>\n",
       "      <th>last_access_date</th>\n",
       "      <th>location</th>\n",
       "      <th>reputation</th>\n",
       "      <th>views</th>\n",
       "    </tr>\n",
       "  </thead>\n",
       "  <tbody>\n",
       "    <tr>\n",
       "      <td>0</td>\n",
       "      <td>1</td>\n",
       "      <td>2008-07-31 14:22:31</td>\n",
       "      <td>Jeff Atwood</td>\n",
       "      <td>2018-08-29 02:34:23</td>\n",
       "      <td>El Cerrito, CA</td>\n",
       "      <td>44300</td>\n",
       "      <td>408587</td>\n",
       "    </tr>\n",
       "    <tr>\n",
       "      <td>1</td>\n",
       "      <td>2</td>\n",
       "      <td>2008-07-31 14:22:31</td>\n",
       "      <td>Geoff Dalgas</td>\n",
       "      <td>2018-08-23 17:31:56</td>\n",
       "      <td>Corvallis, OR</td>\n",
       "      <td>3491</td>\n",
       "      <td>23966</td>\n",
       "    </tr>\n",
       "    <tr>\n",
       "      <td>2</td>\n",
       "      <td>3</td>\n",
       "      <td>2008-07-31 14:22:31</td>\n",
       "      <td>Jarrod Dixon</td>\n",
       "      <td>2018-08-30 20:56:24</td>\n",
       "      <td>Raleigh, NC, United States</td>\n",
       "      <td>13418</td>\n",
       "      <td>24396</td>\n",
       "    </tr>\n",
       "    <tr>\n",
       "      <td>3</td>\n",
       "      <td>4</td>\n",
       "      <td>2008-07-31 14:22:31</td>\n",
       "      <td>Joel Spolsky</td>\n",
       "      <td>2018-08-14 22:18:15</td>\n",
       "      <td>New York, NY</td>\n",
       "      <td>28768</td>\n",
       "      <td>73755</td>\n",
       "    </tr>\n",
       "    <tr>\n",
       "      <td>4</td>\n",
       "      <td>5</td>\n",
       "      <td>2008-07-31 14:22:31</td>\n",
       "      <td>Jon Galloway</td>\n",
       "      <td>2018-08-29 16:48:36</td>\n",
       "      <td>San Diego, CA</td>\n",
       "      <td>39172</td>\n",
       "      <td>11700</td>\n",
       "    </tr>\n",
       "    <tr>\n",
       "      <td>5</td>\n",
       "      <td>8</td>\n",
       "      <td>2008-07-31 21:33:24</td>\n",
       "      <td>Eggs McLaren</td>\n",
       "      <td>2018-04-09 02:04:56</td>\n",
       "      <td>None</td>\n",
       "      <td>942</td>\n",
       "      <td>6372</td>\n",
       "    </tr>\n",
       "    <tr>\n",
       "      <td>6</td>\n",
       "      <td>9</td>\n",
       "      <td>2008-07-31 21:35:27</td>\n",
       "      <td>Kevin Dente</td>\n",
       "      <td>2018-08-30 18:18:03</td>\n",
       "      <td>Oakland, CA</td>\n",
       "      <td>14337</td>\n",
       "      <td>4949</td>\n",
       "    </tr>\n",
       "    <tr>\n",
       "      <td>7</td>\n",
       "      <td>11</td>\n",
       "      <td>2008-08-01 00:59:11</td>\n",
       "      <td>Anonymous User</td>\n",
       "      <td>2008-08-01 00:59:11</td>\n",
       "      <td>None</td>\n",
       "      <td>1890</td>\n",
       "      <td>2123</td>\n",
       "    </tr>\n",
       "    <tr>\n",
       "      <td>8</td>\n",
       "      <td>13</td>\n",
       "      <td>2008-08-01 04:18:05</td>\n",
       "      <td>Chris Jester-Young</td>\n",
       "      <td>2018-08-30 02:47:23</td>\n",
       "      <td>Raleigh, NC, United States</td>\n",
       "      <td>177138</td>\n",
       "      <td>35414</td>\n",
       "    </tr>\n",
       "    <tr>\n",
       "      <td>9</td>\n",
       "      <td>17</td>\n",
       "      <td>2008-08-01 12:02:22</td>\n",
       "      <td>Nick Berardi</td>\n",
       "      <td>2018-01-22 01:35:38</td>\n",
       "      <td>Issaquah, WA</td>\n",
       "      <td>44443</td>\n",
       "      <td>4786</td>\n",
       "    </tr>\n",
       "  </tbody>\n",
       "</table>\n",
       "</div>"
      ],
      "text/plain": [
       "   id       creation_date        display_name    last_access_date  \\\n",
       "0   1 2008-07-31 14:22:31         Jeff Atwood 2018-08-29 02:34:23   \n",
       "1   2 2008-07-31 14:22:31        Geoff Dalgas 2018-08-23 17:31:56   \n",
       "2   3 2008-07-31 14:22:31        Jarrod Dixon 2018-08-30 20:56:24   \n",
       "3   4 2008-07-31 14:22:31        Joel Spolsky 2018-08-14 22:18:15   \n",
       "4   5 2008-07-31 14:22:31        Jon Galloway 2018-08-29 16:48:36   \n",
       "5   8 2008-07-31 21:33:24        Eggs McLaren 2018-04-09 02:04:56   \n",
       "6   9 2008-07-31 21:35:27         Kevin Dente 2018-08-30 18:18:03   \n",
       "7  11 2008-08-01 00:59:11      Anonymous User 2008-08-01 00:59:11   \n",
       "8  13 2008-08-01 04:18:05  Chris Jester-Young 2018-08-30 02:47:23   \n",
       "9  17 2008-08-01 12:02:22        Nick Berardi 2018-01-22 01:35:38   \n",
       "\n",
       "                     location  reputation   views  \n",
       "0              El Cerrito, CA       44300  408587  \n",
       "1               Corvallis, OR        3491   23966  \n",
       "2  Raleigh, NC, United States       13418   24396  \n",
       "3                New York, NY       28768   73755  \n",
       "4               San Diego, CA       39172   11700  \n",
       "5                        None         942    6372  \n",
       "6                 Oakland, CA       14337    4949  \n",
       "7                        None        1890    2123  \n",
       "8  Raleigh, NC, United States      177138   35414  \n",
       "9                Issaquah, WA       44443    4786  "
      ]
     },
     "execution_count": 6,
     "metadata": {},
     "output_type": "execute_result"
    }
   ],
   "source": [
    "sample_df"
   ]
  },
  {
   "cell_type": "markdown",
   "metadata": {
    "id": "gnBMXkDBDWKm"
   },
   "source": [
    "### Задание 1"
   ]
  },
  {
   "cell_type": "markdown",
   "metadata": {
    "id": "vHsfOrrNDWKn"
   },
   "source": [
    "Выведите общую сумму просмотров постов за каждый месяц 2008 года. Если данных за какой-либо месяц в базе нет, такой месяц можно пропустить. Результат отсортируйте по убыванию общего количества просмотров."
   ]
  },
  {
   "cell_type": "markdown",
   "metadata": {
    "id": "N5rTgGNmDWKn"
   },
   "source": [
    "| month_date  | total_views |\n",
    "| ------------- | ------------- |\n",
    "| 2008-09-01  | 452928568  |\n",
    "| 2008-10-01  | 365400138  |\n",
    "| ...         | ... |"
   ]
  },
  {
   "cell_type": "code",
   "execution_count": 34,
   "metadata": {
    "id": "eWvykcXTDWKo"
   },
   "outputs": [],
   "source": [
    "# напишите запрос\n",
    "query = '''\n",
    "SELECT CAST(DATE_TRUNC('month', creation_date) AS date) AS month_date,\n",
    "       SUM(views_count) AS total_views\n",
    "FROM stackoverflow.posts\n",
    "GROUP BY CAST(DATE_TRUNC('month', creation_date) AS date)\n",
    "ORDER BY SUM(views_count) DESC;\n",
    "'''\n",
    "\n",
    "# выполните запрос\n",
    "sample_df_1 = pd.read_sql_query(query, con=engine) "
   ]
  },
  {
   "cell_type": "code",
   "execution_count": 35,
   "metadata": {},
   "outputs": [
    {
     "data": {
      "text/html": [
       "<div>\n",
       "<style scoped>\n",
       "    .dataframe tbody tr th:only-of-type {\n",
       "        vertical-align: middle;\n",
       "    }\n",
       "\n",
       "    .dataframe tbody tr th {\n",
       "        vertical-align: top;\n",
       "    }\n",
       "\n",
       "    .dataframe thead th {\n",
       "        text-align: right;\n",
       "    }\n",
       "</style>\n",
       "<table border=\"1\" class=\"dataframe\">\n",
       "  <thead>\n",
       "    <tr style=\"text-align: right;\">\n",
       "      <th></th>\n",
       "      <th>month_date</th>\n",
       "      <th>total_views</th>\n",
       "    </tr>\n",
       "  </thead>\n",
       "  <tbody>\n",
       "    <tr>\n",
       "      <td>0</td>\n",
       "      <td>2008-09-01</td>\n",
       "      <td>452928568</td>\n",
       "    </tr>\n",
       "    <tr>\n",
       "      <td>1</td>\n",
       "      <td>2008-10-01</td>\n",
       "      <td>365400138</td>\n",
       "    </tr>\n",
       "    <tr>\n",
       "      <td>2</td>\n",
       "      <td>2008-11-01</td>\n",
       "      <td>221759651</td>\n",
       "    </tr>\n",
       "    <tr>\n",
       "      <td>3</td>\n",
       "      <td>2008-12-01</td>\n",
       "      <td>197792841</td>\n",
       "    </tr>\n",
       "    <tr>\n",
       "      <td>4</td>\n",
       "      <td>2008-08-01</td>\n",
       "      <td>131367083</td>\n",
       "    </tr>\n",
       "    <tr>\n",
       "      <td>5</td>\n",
       "      <td>2008-07-01</td>\n",
       "      <td>669895</td>\n",
       "    </tr>\n",
       "  </tbody>\n",
       "</table>\n",
       "</div>"
      ],
      "text/plain": [
       "   month_date  total_views\n",
       "0  2008-09-01    452928568\n",
       "1  2008-10-01    365400138\n",
       "2  2008-11-01    221759651\n",
       "3  2008-12-01    197792841\n",
       "4  2008-08-01    131367083\n",
       "5  2008-07-01       669895"
      ]
     },
     "execution_count": 35,
     "metadata": {},
     "output_type": "execute_result"
    }
   ],
   "source": [
    "sample_df_1"
   ]
  },
  {
   "cell_type": "markdown",
   "metadata": {
    "id": "luxSj17oDWKq"
   },
   "source": [
    " - вывод по Заданию 1:\n",
    " \n",
    "Анализируя таблицу видно, что самая большая активность по просмотрам приходится на сентябрь-октябрь, летом отмечается очень низкая активность, к концу года тоже заметен спад. То есть на активность пользователей влияет сезонность."
   ]
  },
  {
   "cell_type": "markdown",
   "metadata": {
    "id": "FziIXkn5DWKr"
   },
   "source": [
    "### Задание 2"
   ]
  },
  {
   "cell_type": "markdown",
   "metadata": {
    "id": "fTGESZvYDWKr"
   },
   "source": [
    "Выведите список имён самых активных пользователей, которые в первый месяц после регистрации (включая день регистрации) дали больше 100 ответов. Вопросы, которые задавали пользователи, не учитывайте. Отсортируйте результат по полю с именами в лексикографическом порядке."
   ]
  },
  {
   "cell_type": "markdown",
   "metadata": {
    "id": "W5-tv6Y3DWKs"
   },
   "source": [
    "| display_name |\n",
    "| ------------ |\n",
    "| 1800 INFORMATION |\n",
    "| Adam Bellaire |\n",
    "| Adam Davis |\n",
    "| ... |"
   ]
  },
  {
   "cell_type": "code",
   "execution_count": 9,
   "metadata": {
    "id": "fIO-y-YjDWKt"
   },
   "outputs": [],
   "source": [
    "# напишите запрос\n",
    "query = '''\n",
    "\n",
    "SElECT u.display_name\n",
    "\n",
    "FROM stackoverflow.users AS u\n",
    "\n",
    "JOIN stackoverflow.posts AS p ON u.id = p.user_id\n",
    "JOIN stackoverflow.post_types AS p_t ON p.post_type_id = p_t.id \n",
    "\n",
    "WHERE (p_t.type = 'Answer') \n",
    "AND p.creation_date >= DATE_TRUNC('day', u.creation_date) \n",
    "AND p.creation_date <= DATE_TRUNC('day', u.creation_date) + INTERVAL '1 month'\n",
    "\n",
    "\n",
    "GROUP BY u.display_name \n",
    " \n",
    "\n",
    "HAVING (COUNT(p.id) > 100) \n",
    "\n",
    "ORDER BY u.display_name\n",
    "\n",
    "; \n",
    "'''\n",
    "\n",
    "# выполните запрос\n",
    "sample_df_2 = pd.read_sql_query(query, con=engine) "
   ]
  },
  {
   "cell_type": "code",
   "execution_count": 10,
   "metadata": {},
   "outputs": [
    {
     "data": {
      "text/html": [
       "<div>\n",
       "<style scoped>\n",
       "    .dataframe tbody tr th:only-of-type {\n",
       "        vertical-align: middle;\n",
       "    }\n",
       "\n",
       "    .dataframe tbody tr th {\n",
       "        vertical-align: top;\n",
       "    }\n",
       "\n",
       "    .dataframe thead th {\n",
       "        text-align: right;\n",
       "    }\n",
       "</style>\n",
       "<table border=\"1\" class=\"dataframe\">\n",
       "  <thead>\n",
       "    <tr style=\"text-align: right;\">\n",
       "      <th></th>\n",
       "      <th>display_name</th>\n",
       "    </tr>\n",
       "  </thead>\n",
       "  <tbody>\n",
       "    <tr>\n",
       "      <td>0</td>\n",
       "      <td>1800 INFORMATION</td>\n",
       "    </tr>\n",
       "    <tr>\n",
       "      <td>1</td>\n",
       "      <td>Adam Bellaire</td>\n",
       "    </tr>\n",
       "    <tr>\n",
       "      <td>2</td>\n",
       "      <td>Adam Davis</td>\n",
       "    </tr>\n",
       "    <tr>\n",
       "      <td>3</td>\n",
       "      <td>Adam Liss</td>\n",
       "    </tr>\n",
       "    <tr>\n",
       "      <td>4</td>\n",
       "      <td>Alan</td>\n",
       "    </tr>\n",
       "  </tbody>\n",
       "</table>\n",
       "</div>"
      ],
      "text/plain": [
       "       display_name\n",
       "0  1800 INFORMATION\n",
       "1     Adam Bellaire\n",
       "2        Adam Davis\n",
       "3         Adam Liss\n",
       "4              Alan"
      ]
     },
     "execution_count": 10,
     "metadata": {},
     "output_type": "execute_result"
    }
   ],
   "source": [
    "sample_df_2.head()"
   ]
  },
  {
   "cell_type": "markdown",
   "metadata": {
    "id": "JhM2xXj5DWKu"
   },
   "source": [
    "### Задание 3"
   ]
  },
  {
   "cell_type": "markdown",
   "metadata": {
    "id": "IS6xPqyyDWKu"
   },
   "source": [
    "Выведите количество постов за 2008 год по месяцам. Отберите посты от пользователей, которые зарегистрировались в сентябре 2008 года и сделали хотя бы один пост в декабре того же года. Отсортируйте таблицу по значению месяца по убыванию."
   ]
  },
  {
   "cell_type": "markdown",
   "metadata": {
    "id": "WmjhjV2xDWKv"
   },
   "source": [
    "| month | count |\n",
    "| ------|------ |\n",
    "| 2008-12-01 | 17641 |\n",
    "| 2008-11-01 | 182984 |\n",
    "| ... | ... |"
   ]
  },
  {
   "cell_type": "code",
   "execution_count": 11,
   "metadata": {
    "id": "kVu0FB8WDWKv"
   },
   "outputs": [],
   "source": [
    "# напишите запрос\n",
    "query = '''\n",
    "SELECT CAST(DATE_TRUNC ('month', p.creation_date) AS date) AS month,\n",
    "        COUNT (p.id) AS count\n",
    "\n",
    "FROM stackoverflow.users AS u\n",
    "\n",
    "INNER JOIN stackoverflow.posts AS p ON u.id = p.user_id\n",
    "\n",
    "\n",
    "\n",
    "WHERE u.id IN (SELECT u.id AS user\n",
    "       \n",
    "FROM stackoverflow.users AS u\n",
    "\n",
    "INNER JOIN stackoverflow.posts AS p ON u.id = p.user_id\n",
    "\n",
    "WHERE (CAST(DATE_TRUNC ('month', u.creation_date) AS date) = '2008-09-01') \n",
    "AND (CAST(DATE_TRUNC ('month', p.creation_date) AS date) = '2008-12-01')\n",
    "\n",
    "GROUP BY u.id)\n",
    "\n",
    "GROUP BY CAST(DATE_TRUNC ('month', p.creation_date) AS date)\n",
    "ORDER BY CAST(DATE_TRUNC ('month', p.creation_date) AS date) DESC;\n",
    "\n",
    "\n",
    "'''\n",
    "\n",
    "# выполните запрос\n",
    "sample_df_3 = pd.read_sql_query(query, con=engine) "
   ]
  },
  {
   "cell_type": "code",
   "execution_count": 12,
   "metadata": {},
   "outputs": [
    {
     "data": {
      "text/html": [
       "<div>\n",
       "<style scoped>\n",
       "    .dataframe tbody tr th:only-of-type {\n",
       "        vertical-align: middle;\n",
       "    }\n",
       "\n",
       "    .dataframe tbody tr th {\n",
       "        vertical-align: top;\n",
       "    }\n",
       "\n",
       "    .dataframe thead th {\n",
       "        text-align: right;\n",
       "    }\n",
       "</style>\n",
       "<table border=\"1\" class=\"dataframe\">\n",
       "  <thead>\n",
       "    <tr style=\"text-align: right;\">\n",
       "      <th></th>\n",
       "      <th>month</th>\n",
       "      <th>count</th>\n",
       "    </tr>\n",
       "  </thead>\n",
       "  <tbody>\n",
       "    <tr>\n",
       "      <td>0</td>\n",
       "      <td>2008-12-01</td>\n",
       "      <td>17641</td>\n",
       "    </tr>\n",
       "    <tr>\n",
       "      <td>1</td>\n",
       "      <td>2008-11-01</td>\n",
       "      <td>18294</td>\n",
       "    </tr>\n",
       "    <tr>\n",
       "      <td>2</td>\n",
       "      <td>2008-10-01</td>\n",
       "      <td>27171</td>\n",
       "    </tr>\n",
       "    <tr>\n",
       "      <td>3</td>\n",
       "      <td>2008-09-01</td>\n",
       "      <td>24870</td>\n",
       "    </tr>\n",
       "    <tr>\n",
       "      <td>4</td>\n",
       "      <td>2008-08-01</td>\n",
       "      <td>32</td>\n",
       "    </tr>\n",
       "  </tbody>\n",
       "</table>\n",
       "</div>"
      ],
      "text/plain": [
       "        month  count\n",
       "0  2008-12-01  17641\n",
       "1  2008-11-01  18294\n",
       "2  2008-10-01  27171\n",
       "3  2008-09-01  24870\n",
       "4  2008-08-01     32"
      ]
     },
     "execution_count": 12,
     "metadata": {},
     "output_type": "execute_result"
    }
   ],
   "source": [
    "sample_df_3"
   ]
  },
  {
   "cell_type": "markdown",
   "metadata": {
    "id": "CEIGGQ6ODWKy"
   },
   "source": [
    "- Вывод по заданию 3:\n",
    " \n",
    " Согласно таблице аномалией является количество постов в августе у пользователей, которые зарегистрировались только в сентябре. Скорее всего какая то некорректность в исходных данных."
   ]
  },
  {
   "cell_type": "markdown",
   "metadata": {
    "id": "5Pcizm0DDWKz"
   },
   "source": [
    "### Задание 4"
   ]
  },
  {
   "cell_type": "markdown",
   "metadata": {
    "id": "KUZPF6vHDWKz"
   },
   "source": [
    "Используя данные о постах, выведите несколько полей:\n",
    "\n",
    "- идентификатор пользователя, который написал пост;\n",
    "- дата создания поста;\n",
    "- количество просмотров у текущего поста;\n",
    "- сумму просмотров постов автора с накоплением.\n",
    "\n",
    "Данные в таблице должны быть отсортированы по возрастанию идентификаторов пользователей, а данные об одном и том же пользователе — по возрастанию даты создания поста."
   ]
  },
  {
   "cell_type": "markdown",
   "metadata": {
    "id": "ZpsTUVDYDWK0"
   },
   "source": [
    "| user_id | creation_date | views_count | cumulative_count |\n",
    "| ------ | -------------- | ----------- | ---------------- |\n",
    "| 1 | 2008-07-31 23:41:00  | 480476   | 480476  |\n",
    "| 1 | 2008-07-31 23:55:38  | 136033 | 616509  | \n",
    "| 1 | 2008-07-31 23:56:41  | 0 |  616509  |\n",
    "| ... | ... | ... | ... |\n",
    "| 2 | 2008-07-31 23:56:41 | 79087  | 79087 |\n",
    "| 2 | 2008-08-01 05:09:56 | 65443 | 144530 |\n",
    "| ... | ...  | ...  | ...  |"
   ]
  },
  {
   "cell_type": "code",
   "execution_count": 13,
   "metadata": {
    "id": "hDoJhMzfDWK0"
   },
   "outputs": [],
   "source": [
    "# напишите запрос\n",
    "query = '''\n",
    "SElECT \n",
    "       u.id AS user_id,\n",
    "       p.creation_date,\n",
    "       p.views_count,\n",
    "       SUM(p.views_count) OVER (PARTITION BY u.id ORDER BY p.creation_date)\n",
    "FROM stackoverflow.users AS u\n",
    "\n",
    "INNER JOIN stackoverflow.posts AS p ON u.id = p.user_id \n",
    "\n",
    "ORDER BY u.id, p.creation_date;\n",
    "'''\n",
    "\n",
    "# выполните запрос\n",
    "sample_df_4 = pd.read_sql_query(query, con=engine) "
   ]
  },
  {
   "cell_type": "code",
   "execution_count": 14,
   "metadata": {},
   "outputs": [
    {
     "data": {
      "text/html": [
       "<div>\n",
       "<style scoped>\n",
       "    .dataframe tbody tr th:only-of-type {\n",
       "        vertical-align: middle;\n",
       "    }\n",
       "\n",
       "    .dataframe tbody tr th {\n",
       "        vertical-align: top;\n",
       "    }\n",
       "\n",
       "    .dataframe thead th {\n",
       "        text-align: right;\n",
       "    }\n",
       "</style>\n",
       "<table border=\"1\" class=\"dataframe\">\n",
       "  <thead>\n",
       "    <tr style=\"text-align: right;\">\n",
       "      <th></th>\n",
       "      <th>user_id</th>\n",
       "      <th>creation_date</th>\n",
       "      <th>views_count</th>\n",
       "      <th>sum</th>\n",
       "    </tr>\n",
       "  </thead>\n",
       "  <tbody>\n",
       "    <tr>\n",
       "      <td>0</td>\n",
       "      <td>1</td>\n",
       "      <td>2008-07-31 23:41:00</td>\n",
       "      <td>480476</td>\n",
       "      <td>480476</td>\n",
       "    </tr>\n",
       "    <tr>\n",
       "      <td>1</td>\n",
       "      <td>1</td>\n",
       "      <td>2008-07-31 23:55:38</td>\n",
       "      <td>136033</td>\n",
       "      <td>616509</td>\n",
       "    </tr>\n",
       "    <tr>\n",
       "      <td>2</td>\n",
       "      <td>1</td>\n",
       "      <td>2008-07-31 23:56:41</td>\n",
       "      <td>0</td>\n",
       "      <td>616509</td>\n",
       "    </tr>\n",
       "    <tr>\n",
       "      <td>3</td>\n",
       "      <td>1</td>\n",
       "      <td>2008-08-04 02:45:08</td>\n",
       "      <td>0</td>\n",
       "      <td>616509</td>\n",
       "    </tr>\n",
       "    <tr>\n",
       "      <td>4</td>\n",
       "      <td>1</td>\n",
       "      <td>2008-08-04 04:31:03</td>\n",
       "      <td>0</td>\n",
       "      <td>616509</td>\n",
       "    </tr>\n",
       "    <tr>\n",
       "      <td>...</td>\n",
       "      <td>...</td>\n",
       "      <td>...</td>\n",
       "      <td>...</td>\n",
       "      <td>...</td>\n",
       "    </tr>\n",
       "    <tr>\n",
       "      <td>243791</td>\n",
       "      <td>5696608</td>\n",
       "      <td>2008-12-23 16:00:37</td>\n",
       "      <td>0</td>\n",
       "      <td>2804</td>\n",
       "    </tr>\n",
       "    <tr>\n",
       "      <td>243792</td>\n",
       "      <td>5696608</td>\n",
       "      <td>2008-12-23 17:35:09</td>\n",
       "      <td>0</td>\n",
       "      <td>2804</td>\n",
       "    </tr>\n",
       "    <tr>\n",
       "      <td>243793</td>\n",
       "      <td>5696608</td>\n",
       "      <td>2008-12-24 01:02:48</td>\n",
       "      <td>0</td>\n",
       "      <td>2804</td>\n",
       "    </tr>\n",
       "    <tr>\n",
       "      <td>243794</td>\n",
       "      <td>5696608</td>\n",
       "      <td>2008-12-30 14:34:45</td>\n",
       "      <td>0</td>\n",
       "      <td>2804</td>\n",
       "    </tr>\n",
       "    <tr>\n",
       "      <td>243795</td>\n",
       "      <td>5696608</td>\n",
       "      <td>2008-12-30 16:32:12</td>\n",
       "      <td>0</td>\n",
       "      <td>2804</td>\n",
       "    </tr>\n",
       "  </tbody>\n",
       "</table>\n",
       "<p>243796 rows × 4 columns</p>\n",
       "</div>"
      ],
      "text/plain": [
       "        user_id       creation_date  views_count     sum\n",
       "0             1 2008-07-31 23:41:00       480476  480476\n",
       "1             1 2008-07-31 23:55:38       136033  616509\n",
       "2             1 2008-07-31 23:56:41            0  616509\n",
       "3             1 2008-08-04 02:45:08            0  616509\n",
       "4             1 2008-08-04 04:31:03            0  616509\n",
       "...         ...                 ...          ...     ...\n",
       "243791  5696608 2008-12-23 16:00:37            0    2804\n",
       "243792  5696608 2008-12-23 17:35:09            0    2804\n",
       "243793  5696608 2008-12-24 01:02:48            0    2804\n",
       "243794  5696608 2008-12-30 14:34:45            0    2804\n",
       "243795  5696608 2008-12-30 16:32:12            0    2804\n",
       "\n",
       "[243796 rows x 4 columns]"
      ]
     },
     "execution_count": 14,
     "metadata": {},
     "output_type": "execute_result"
    }
   ],
   "source": [
    "sample_df_4"
   ]
  },
  {
   "cell_type": "markdown",
   "metadata": {
    "id": "N0kHRHvIDWK2"
   },
   "source": [
    "### Задание 5"
   ]
  },
  {
   "cell_type": "markdown",
   "metadata": {
    "id": "gBgvmPtODWK2"
   },
   "source": [
    "Найдите среднее количество постов пользователей в день за август 2008 года. Отберите данные о пользователях, которые опубликовали больше 120 постов за август. Дни без публикаций не учитывайте. \n",
    "\n",
    "Отсортируйте результат по возрастанию среднего количества постов. Значения можно не округлять."
   ]
  },
  {
   "cell_type": "markdown",
   "metadata": {
    "id": "nfzR08BODWK3"
   },
   "source": [
    "| user_id | avg_daily |\n",
    "| ------- | --------- |\n",
    "| 116     | 4.8076923076923077 |\n",
    "| 234     | 5.3043478260869565 |\n",
    "| ...     | ... |"
   ]
  },
  {
   "cell_type": "code",
   "execution_count": 15,
   "metadata": {
    "id": "YFyPNz5GDWK3"
   },
   "outputs": [],
   "source": [
    "# напишите запрос\n",
    "query = '''\n",
    "WITH srez AS\n",
    "(SELECT u.id AS users,\n",
    "       CAST(DATE_TRUNC('day', p.creation_date) AS date) AS day,\n",
    "       COUNT(p.id) AS count_p\n",
    "       \n",
    "       \n",
    "FROM stackoverflow.users AS u\n",
    "INNER JOIN stackoverflow.posts AS p ON u.id = p.user_id \n",
    "\n",
    "WHERE CAST(DATE_TRUNC('day', p.creation_date) AS date) >= '2008-08-01' \n",
    "AND CAST(DATE_TRUNC('day', p.creation_date) AS date) <= '2008-08-31'\n",
    "\n",
    "GROUP BY u.id, CAST(DATE_TRUNC('day', p.creation_date) AS date)\n",
    "ORDER BY u.id)\n",
    "\n",
    "SELECT users,\n",
    "       AVG(count_p)\n",
    "       \n",
    "FROM srez\n",
    " \n",
    "GROUP BY users\n",
    "HAVING SUM(count_p) > 120\n",
    "ORDER BY AVG(count_p)\n",
    ";'''\n",
    "\n",
    "# выполните запрос\n",
    "sample_df_5 = pd.read_sql_query(query, con=engine)"
   ]
  },
  {
   "cell_type": "code",
   "execution_count": 16,
   "metadata": {},
   "outputs": [
    {
     "data": {
      "text/html": [
       "<div>\n",
       "<style scoped>\n",
       "    .dataframe tbody tr th:only-of-type {\n",
       "        vertical-align: middle;\n",
       "    }\n",
       "\n",
       "    .dataframe tbody tr th {\n",
       "        vertical-align: top;\n",
       "    }\n",
       "\n",
       "    .dataframe thead th {\n",
       "        text-align: right;\n",
       "    }\n",
       "</style>\n",
       "<table border=\"1\" class=\"dataframe\">\n",
       "  <thead>\n",
       "    <tr style=\"text-align: right;\">\n",
       "      <th></th>\n",
       "      <th>users</th>\n",
       "      <th>avg</th>\n",
       "    </tr>\n",
       "  </thead>\n",
       "  <tbody>\n",
       "    <tr>\n",
       "      <td>0</td>\n",
       "      <td>116</td>\n",
       "      <td>4.777778</td>\n",
       "    </tr>\n",
       "    <tr>\n",
       "      <td>1</td>\n",
       "      <td>234</td>\n",
       "      <td>5.208333</td>\n",
       "    </tr>\n",
       "    <tr>\n",
       "      <td>2</td>\n",
       "      <td>91</td>\n",
       "      <td>5.681818</td>\n",
       "    </tr>\n",
       "    <tr>\n",
       "      <td>3</td>\n",
       "      <td>905</td>\n",
       "      <td>7.000000</td>\n",
       "    </tr>\n",
       "    <tr>\n",
       "      <td>4</td>\n",
       "      <td>383</td>\n",
       "      <td>7.277778</td>\n",
       "    </tr>\n",
       "  </tbody>\n",
       "</table>\n",
       "</div>"
      ],
      "text/plain": [
       "   users       avg\n",
       "0    116  4.777778\n",
       "1    234  5.208333\n",
       "2     91  5.681818\n",
       "3    905  7.000000\n",
       "4    383  7.277778"
      ]
     },
     "execution_count": 16,
     "metadata": {},
     "output_type": "execute_result"
    }
   ],
   "source": [
    "sample_df_5"
   ]
  },
  {
   "cell_type": "code",
   "execution_count": 17,
   "metadata": {},
   "outputs": [
    {
     "data": {
      "text/html": [
       "<div>\n",
       "<style scoped>\n",
       "    .dataframe tbody tr th:only-of-type {\n",
       "        vertical-align: middle;\n",
       "    }\n",
       "\n",
       "    .dataframe tbody tr th {\n",
       "        vertical-align: top;\n",
       "    }\n",
       "\n",
       "    .dataframe thead th {\n",
       "        text-align: right;\n",
       "    }\n",
       "</style>\n",
       "<table border=\"1\" class=\"dataframe\">\n",
       "  <thead>\n",
       "    <tr style=\"text-align: right;\">\n",
       "      <th></th>\n",
       "      <th>with_cast</th>\n",
       "      <th>no_cast</th>\n",
       "      <th>is_equal</th>\n",
       "    </tr>\n",
       "  </thead>\n",
       "  <tbody>\n",
       "    <tr>\n",
       "      <td>0</td>\n",
       "      <td>2021-12-10</td>\n",
       "      <td>2021-12-09 21:00:00+00:00</td>\n",
       "      <td>True</td>\n",
       "    </tr>\n",
       "  </tbody>\n",
       "</table>\n",
       "</div>"
      ],
      "text/plain": [
       "    with_cast                   no_cast  is_equal\n",
       "0  2021-12-10 2021-12-09 21:00:00+00:00      True"
      ]
     },
     "execution_count": 17,
     "metadata": {},
     "output_type": "execute_result"
    }
   ],
   "source": [
    "q = \"\"\"select CAST(DATE_TRUNC('day', now()) AS date) as with_cast,\n",
    "                DATE_TRUNC('day', now()) no_cast,\n",
    "                CAST(DATE_TRUNC('day', now()) AS date) = DATE_TRUNC('day', now()) as is_equal\"\"\"\n",
    "pd.read_sql_query(q, con=engine)"
   ]
  },
  {
   "cell_type": "markdown",
   "metadata": {
    "id": "EQ0dcFH4DWK5"
   },
   "source": [
    "### Задание 6"
   ]
  },
  {
   "cell_type": "markdown",
   "metadata": {
    "id": "c7flfg_hDWK5"
   },
   "source": [
    "Сколько в среднем дней в период с 1 по 7 декабря 2008 года включительно пользователи взаимодействовали с платформой? Для каждого пользователя отберите дни, в которые он или она опубликовали хотя бы один пост. Нужно получить одно целое число — не забудьте округлить результат. "
   ]
  },
  {
   "cell_type": "markdown",
   "metadata": {
    "id": "RC1Ibzm9DWK6"
   },
   "source": [
    "| result |\n",
    "| -----  |\n",
    "| <целое число> |"
   ]
  },
  {
   "cell_type": "code",
   "execution_count": 18,
   "metadata": {
    "id": "kZ7LXTr6DWK6"
   },
   "outputs": [],
   "source": [
    "# напишите запрос\n",
    "query = '''\n",
    "WITH srez AS\n",
    "(SELECT \n",
    "       user_id,\n",
    "       COUNT(DISTINCT(DATE_TRUNC('day',creation_date))) AS count\n",
    "FROM stackoverflow.posts\n",
    "\n",
    "\n",
    "WHERE CAST(DATE_TRUNC('day', creation_date) AS date) >= '2008-12-01' \n",
    "AND CAST(DATE_TRUNC('day', creation_date) AS date) <= '2008-12-07'\n",
    "GROUP BY user_id)\n",
    "\n",
    "SELECT ROUND(AVG(count), 0) AS result\n",
    "FROM srez\n",
    ";\n",
    "'''\n",
    "\n",
    "\n",
    "# выполните запрос\n",
    "sample_df_6 = pd.read_sql_query(query, con=engine)"
   ]
  },
  {
   "cell_type": "code",
   "execution_count": 19,
   "metadata": {},
   "outputs": [
    {
     "data": {
      "text/html": [
       "<div>\n",
       "<style scoped>\n",
       "    .dataframe tbody tr th:only-of-type {\n",
       "        vertical-align: middle;\n",
       "    }\n",
       "\n",
       "    .dataframe tbody tr th {\n",
       "        vertical-align: top;\n",
       "    }\n",
       "\n",
       "    .dataframe thead th {\n",
       "        text-align: right;\n",
       "    }\n",
       "</style>\n",
       "<table border=\"1\" class=\"dataframe\">\n",
       "  <thead>\n",
       "    <tr style=\"text-align: right;\">\n",
       "      <th></th>\n",
       "      <th>result</th>\n",
       "    </tr>\n",
       "  </thead>\n",
       "  <tbody>\n",
       "    <tr>\n",
       "      <td>0</td>\n",
       "      <td>2.0</td>\n",
       "    </tr>\n",
       "  </tbody>\n",
       "</table>\n",
       "</div>"
      ],
      "text/plain": [
       "   result\n",
       "0     2.0"
      ]
     },
     "execution_count": 19,
     "metadata": {},
     "output_type": "execute_result"
    }
   ],
   "source": [
    "sample_df_6"
   ]
  },
  {
   "cell_type": "markdown",
   "metadata": {
    "id": "LfUuYz-1DWK8"
   },
   "source": [
    "- Вывод по заданию 6:\n",
    "\n",
    "Согласно анализа за исследуемую неделю декабря 2008 года в среднем на каждого пользователя приходится 2 активных дня в неделю - очень низкий показатель. Необходимо исследовать этот показатель в другие временные периоды.  "
   ]
  },
  {
   "cell_type": "markdown",
   "metadata": {
    "id": "wfOmqmfLDWK8"
   },
   "source": [
    "### Задание 7"
   ]
  },
  {
   "cell_type": "markdown",
   "metadata": {
    "id": "X4ARQimADWK9"
   },
   "source": [
    "Выведите историю активности каждого пользователя в таком виде: идентификатор пользователя, дата публикации поста. Отсортируйте вывод по возрастанию идентификаторов пользователей, а для каждого пользователя — по возрастанию даты публикации.\n",
    "\n",
    "Добавьте в таблицу новое поле: для каждого поста в нём будет указано название месяца предпоследней публикации пользователя относительно текущей. Если такой публикации нет, укажите `NULL`.\n",
    "\n",
    "Посмотрите внимательно на образец таблицы: для первых двух постов предпоследней публикации нет, но, начиная с третьего поста, в новое поле входит нужный месяц. Для следующего пользователя в первые две записи поля `second_last_month` тоже войдёт `NULL`."
   ]
  },
  {
   "cell_type": "markdown",
   "metadata": {
    "id": "IGPjRP01DWK9"
   },
   "source": [
    "| user_id | creation_date | second_last_month |\n",
    "| ------- | ------------- | ----------------- |\n",
    "| 1       | 2008-07-31 23:41:00 | NULL |\n",
    "| 1       | 2008-07-31 23:55:38 | NULL |\n",
    "| 1       | 2008-07-31 23:56:41 | Июль |\n",
    "| 1       | 2008-08-04 02:45:08 | Июль |\n",
    "| 1       | 2008-08-04 04:31:03 | Июль |\n",
    "| 1       | 2008-08-04 08:04:42 | Август |\n",
    "| ... | ... | ... |"
   ]
  },
  {
   "cell_type": "code",
   "execution_count": 20,
   "metadata": {
    "id": "HzI1vhaMDWK-"
   },
   "outputs": [],
   "source": [
    "# напишите запрос\n",
    "query = '''\n",
    "\n",
    "WITH srez AS\n",
    "(SELECT user_id,\n",
    "       creation_date :: date,\n",
    "       (LAG(EXTRACT( MONTH FROM creation_date), 2, NULL) \n",
    "       OVER (PARTITION BY user_id ORDER BY creation_date :: date)) AS second_last_month\n",
    "FROM stackoverflow.posts  \n",
    "ORDER BY user_id, creation_date)\n",
    "\n",
    "SELECT user_id,\n",
    "       creation_date,\n",
    "       CASE second_last_month\n",
    "       WHEN 1.0 THEN 'Январь'\n",
    "       WHEN 2.0 THEN 'Февраль'\n",
    "       WHEN 3.0 THEN 'Март'\n",
    "       WHEN 4.0 THEN 'Апрель'\n",
    "       WHEN 5.0 THEN 'Май'\n",
    "       WHEN 6.0 THEN 'Июнь'\n",
    "       WHEN 7.0 THEN 'Июль'\n",
    "       WHEN 8.0 THEN 'Август'\n",
    "       WHEN 9.0 THEN 'Сентябрь'\n",
    "       WHEN 10.0 THEN 'Октябрь'\n",
    "       WHEN 11.0 THEN 'Ноябрь'\n",
    "       WHEN 12.0 THEN 'Декабрь'\n",
    "       END\n",
    "FROM srez;\n",
    "'''\n",
    "\n",
    "# выполните запрос\n",
    "sample_df_7 = pd.read_sql_query(query, con=engine)"
   ]
  },
  {
   "cell_type": "code",
   "execution_count": 21,
   "metadata": {},
   "outputs": [
    {
     "data": {
      "text/html": [
       "<div>\n",
       "<style scoped>\n",
       "    .dataframe tbody tr th:only-of-type {\n",
       "        vertical-align: middle;\n",
       "    }\n",
       "\n",
       "    .dataframe tbody tr th {\n",
       "        vertical-align: top;\n",
       "    }\n",
       "\n",
       "    .dataframe thead th {\n",
       "        text-align: right;\n",
       "    }\n",
       "</style>\n",
       "<table border=\"1\" class=\"dataframe\">\n",
       "  <thead>\n",
       "    <tr style=\"text-align: right;\">\n",
       "      <th></th>\n",
       "      <th>user_id</th>\n",
       "      <th>creation_date</th>\n",
       "      <th>case</th>\n",
       "    </tr>\n",
       "  </thead>\n",
       "  <tbody>\n",
       "    <tr>\n",
       "      <td>0</td>\n",
       "      <td>1</td>\n",
       "      <td>2008-07-31</td>\n",
       "      <td>None</td>\n",
       "    </tr>\n",
       "    <tr>\n",
       "      <td>1</td>\n",
       "      <td>1</td>\n",
       "      <td>2008-07-31</td>\n",
       "      <td>None</td>\n",
       "    </tr>\n",
       "    <tr>\n",
       "      <td>2</td>\n",
       "      <td>1</td>\n",
       "      <td>2008-07-31</td>\n",
       "      <td>Июль</td>\n",
       "    </tr>\n",
       "    <tr>\n",
       "      <td>3</td>\n",
       "      <td>1</td>\n",
       "      <td>2008-08-04</td>\n",
       "      <td>Июль</td>\n",
       "    </tr>\n",
       "    <tr>\n",
       "      <td>4</td>\n",
       "      <td>1</td>\n",
       "      <td>2008-08-04</td>\n",
       "      <td>Июль</td>\n",
       "    </tr>\n",
       "    <tr>\n",
       "      <td>...</td>\n",
       "      <td>...</td>\n",
       "      <td>...</td>\n",
       "      <td>...</td>\n",
       "    </tr>\n",
       "    <tr>\n",
       "      <td>243791</td>\n",
       "      <td>5696608</td>\n",
       "      <td>2008-12-23</td>\n",
       "      <td>Декабрь</td>\n",
       "    </tr>\n",
       "    <tr>\n",
       "      <td>243792</td>\n",
       "      <td>5696608</td>\n",
       "      <td>2008-12-23</td>\n",
       "      <td>Декабрь</td>\n",
       "    </tr>\n",
       "    <tr>\n",
       "      <td>243793</td>\n",
       "      <td>5696608</td>\n",
       "      <td>2008-12-24</td>\n",
       "      <td>Декабрь</td>\n",
       "    </tr>\n",
       "    <tr>\n",
       "      <td>243794</td>\n",
       "      <td>5696608</td>\n",
       "      <td>2008-12-30</td>\n",
       "      <td>Декабрь</td>\n",
       "    </tr>\n",
       "    <tr>\n",
       "      <td>243795</td>\n",
       "      <td>5696608</td>\n",
       "      <td>2008-12-30</td>\n",
       "      <td>Декабрь</td>\n",
       "    </tr>\n",
       "  </tbody>\n",
       "</table>\n",
       "<p>243796 rows × 3 columns</p>\n",
       "</div>"
      ],
      "text/plain": [
       "        user_id creation_date     case\n",
       "0             1    2008-07-31     None\n",
       "1             1    2008-07-31     None\n",
       "2             1    2008-07-31     Июль\n",
       "3             1    2008-08-04     Июль\n",
       "4             1    2008-08-04     Июль\n",
       "...         ...           ...      ...\n",
       "243791  5696608    2008-12-23  Декабрь\n",
       "243792  5696608    2008-12-23  Декабрь\n",
       "243793  5696608    2008-12-24  Декабрь\n",
       "243794  5696608    2008-12-30  Декабрь\n",
       "243795  5696608    2008-12-30  Декабрь\n",
       "\n",
       "[243796 rows x 3 columns]"
      ]
     },
     "execution_count": 21,
     "metadata": {},
     "output_type": "execute_result"
    }
   ],
   "source": [
    "sample_df_7"
   ]
  },
  {
   "cell_type": "markdown",
   "metadata": {
    "id": "tf9qq2yzDWK_"
   },
   "source": [
    "### Задание 8"
   ]
  },
  {
   "cell_type": "markdown",
   "metadata": {
    "id": "gfwLVXBYDWLA"
   },
   "source": [
    "Рассчитайте аналог Retention Rate по месяцам для пользователей StackOverflow. Объедините пользователей в когорты по месяцу их первого поста. Возвращение определяйте по наличию поста в текущем месяце. "
   ]
  },
  {
   "cell_type": "markdown",
   "metadata": {
    "id": "6jKaI53tDWLB"
   },
   "source": [
    "| cohort_dt | session_date | users_cnt | cohort_users_cnt | retention_rate |\n",
    "| --------- | ------------ | --------- | ---------------- | -------------- |\n",
    "| 2008-07-01 00:00:00 | 2008-07-01 00:00:00 | 3 | 3 | 100 |\n",
    "| 2008-07-01 00:00:00 | 2008-08-01 00:00:00 | 2 | 3 | 66,67 |\n",
    "| 2008-07-01 00:00:00 | 2008-09-01 00:00:00 | 1 | 3 | 33,33 |\n",
    "| 2008-07-01 00:00:00 | 2008-10-01 00:00:00 | 2 | 3 | 66,67 |\n",
    "| 2008-07-01 00:00:00 | 2008-11-01 00:00:00 | 1 | 3 | 33,33 |\n",
    "| 2008-07-01 00:00:00 | 2008-12-01 00:00:00 | 2 | 3 | 66,67 |\n",
    "| 2008-08-01 00:00:00 | 2008-08-01 00:00:00 | 2151 | 2151 | 100 | \n",
    "| ... | ... | ... | ... | ... |"
   ]
  },
  {
   "cell_type": "code",
   "execution_count": 22,
   "metadata": {},
   "outputs": [],
   "source": [
    "# напишите запрос\n",
    "query = '''\n",
    "\n",
    "WITH profile AS\n",
    "  (SELECT user_id,\n",
    "          DATE_TRUNC('month', MIN(creation_date))::date AS start_mn,\n",
    "          COUNT(*) OVER (PARTITION BY DATE_TRUNC('month', MIN(creation_date))::date ) AS cohort_users_cnt\n",
    "   FROM stackoverflow.posts \n",
    "   GROUP BY 1),\n",
    "\n",
    "sessions AS \n",
    "(SELECT user_id,\n",
    "        DATE_TRUNC('month', creation_date)::date AS event_mn\n",
    "FROM stackoverflow.posts \n",
    "GROUP BY 1,\n",
    "         2)\n",
    "\n",
    "SELECT p.start_mn cohort_dt,\n",
    "       event_mn,\n",
    "       COUNT(p.user_id) AS users_cnt,\n",
    "       cohort_users_cnt,\n",
    "       ROUND(COUNT(p.user_id) * 100.0 / cohort_users_cnt, 2) AS retention_rate\n",
    "FROM profile p\n",
    "JOIN sessions s ON p.user_id = s.user_id\n",
    "GROUP BY 1,\n",
    "         2,\n",
    "         4;  \n",
    "\n",
    "\n",
    "\n",
    "\n",
    "'''\n",
    "\n",
    "# выполните запрос\n",
    "sample_df_8 = pd.read_sql_query(query, con=engine)"
   ]
  },
  {
   "cell_type": "code",
   "execution_count": 23,
   "metadata": {},
   "outputs": [
    {
     "data": {
      "text/html": [
       "<div>\n",
       "<style scoped>\n",
       "    .dataframe tbody tr th:only-of-type {\n",
       "        vertical-align: middle;\n",
       "    }\n",
       "\n",
       "    .dataframe tbody tr th {\n",
       "        vertical-align: top;\n",
       "    }\n",
       "\n",
       "    .dataframe thead th {\n",
       "        text-align: right;\n",
       "    }\n",
       "</style>\n",
       "<table border=\"1\" class=\"dataframe\">\n",
       "  <thead>\n",
       "    <tr style=\"text-align: right;\">\n",
       "      <th></th>\n",
       "      <th>cohort_dt</th>\n",
       "      <th>event_mn</th>\n",
       "      <th>users_cnt</th>\n",
       "      <th>cohort_users_cnt</th>\n",
       "      <th>retention_rate</th>\n",
       "    </tr>\n",
       "  </thead>\n",
       "  <tbody>\n",
       "    <tr>\n",
       "      <td>0</td>\n",
       "      <td>2008-07-01</td>\n",
       "      <td>2008-07-01</td>\n",
       "      <td>3</td>\n",
       "      <td>3</td>\n",
       "      <td>100.00</td>\n",
       "    </tr>\n",
       "    <tr>\n",
       "      <td>1</td>\n",
       "      <td>2008-07-01</td>\n",
       "      <td>2008-08-01</td>\n",
       "      <td>2</td>\n",
       "      <td>3</td>\n",
       "      <td>66.67</td>\n",
       "    </tr>\n",
       "    <tr>\n",
       "      <td>2</td>\n",
       "      <td>2008-07-01</td>\n",
       "      <td>2008-09-01</td>\n",
       "      <td>1</td>\n",
       "      <td>3</td>\n",
       "      <td>33.33</td>\n",
       "    </tr>\n",
       "    <tr>\n",
       "      <td>3</td>\n",
       "      <td>2008-07-01</td>\n",
       "      <td>2008-10-01</td>\n",
       "      <td>2</td>\n",
       "      <td>3</td>\n",
       "      <td>66.67</td>\n",
       "    </tr>\n",
       "    <tr>\n",
       "      <td>4</td>\n",
       "      <td>2008-07-01</td>\n",
       "      <td>2008-11-01</td>\n",
       "      <td>1</td>\n",
       "      <td>3</td>\n",
       "      <td>33.33</td>\n",
       "    </tr>\n",
       "  </tbody>\n",
       "</table>\n",
       "</div>"
      ],
      "text/plain": [
       "    cohort_dt    event_mn  users_cnt  cohort_users_cnt  retention_rate\n",
       "0  2008-07-01  2008-07-01          3                 3          100.00\n",
       "1  2008-07-01  2008-08-01          2                 3           66.67\n",
       "2  2008-07-01  2008-09-01          1                 3           33.33\n",
       "3  2008-07-01  2008-10-01          2                 3           66.67\n",
       "4  2008-07-01  2008-11-01          1                 3           33.33"
      ]
     },
     "execution_count": 23,
     "metadata": {},
     "output_type": "execute_result"
    }
   ],
   "source": [
    "sample_df_8.head()"
   ]
  },
  {
   "cell_type": "code",
   "execution_count": 24,
   "metadata": {},
   "outputs": [
    {
     "data": {
      "text/html": [
       "<div>\n",
       "<style scoped>\n",
       "    .dataframe tbody tr th:only-of-type {\n",
       "        vertical-align: middle;\n",
       "    }\n",
       "\n",
       "    .dataframe tbody tr th {\n",
       "        vertical-align: top;\n",
       "    }\n",
       "\n",
       "    .dataframe thead th {\n",
       "        text-align: right;\n",
       "    }\n",
       "</style>\n",
       "<table border=\"1\" class=\"dataframe\">\n",
       "  <thead>\n",
       "    <tr style=\"text-align: right;\">\n",
       "      <th>event_mn</th>\n",
       "      <th>2008-07-01</th>\n",
       "      <th>2008-08-01</th>\n",
       "      <th>2008-09-01</th>\n",
       "      <th>2008-10-01</th>\n",
       "      <th>2008-11-01</th>\n",
       "      <th>2008-12-01</th>\n",
       "    </tr>\n",
       "    <tr>\n",
       "      <th>cohort_dt</th>\n",
       "      <th></th>\n",
       "      <th></th>\n",
       "      <th></th>\n",
       "      <th></th>\n",
       "      <th></th>\n",
       "      <th></th>\n",
       "    </tr>\n",
       "  </thead>\n",
       "  <tbody>\n",
       "    <tr>\n",
       "      <td>2008-07-01</td>\n",
       "      <td>100.0</td>\n",
       "      <td>66.67</td>\n",
       "      <td>33.33</td>\n",
       "      <td>66.67</td>\n",
       "      <td>33.33</td>\n",
       "      <td>66.67</td>\n",
       "    </tr>\n",
       "    <tr>\n",
       "      <td>2008-08-01</td>\n",
       "      <td>NaN</td>\n",
       "      <td>100.00</td>\n",
       "      <td>73.04</td>\n",
       "      <td>59.27</td>\n",
       "      <td>48.81</td>\n",
       "      <td>41.56</td>\n",
       "    </tr>\n",
       "    <tr>\n",
       "      <td>2008-09-01</td>\n",
       "      <td>NaN</td>\n",
       "      <td>NaN</td>\n",
       "      <td>100.00</td>\n",
       "      <td>53.82</td>\n",
       "      <td>38.63</td>\n",
       "      <td>32.56</td>\n",
       "    </tr>\n",
       "    <tr>\n",
       "      <td>2008-10-01</td>\n",
       "      <td>NaN</td>\n",
       "      <td>NaN</td>\n",
       "      <td>NaN</td>\n",
       "      <td>100.00</td>\n",
       "      <td>45.19</td>\n",
       "      <td>33.65</td>\n",
       "    </tr>\n",
       "    <tr>\n",
       "      <td>2008-11-01</td>\n",
       "      <td>NaN</td>\n",
       "      <td>NaN</td>\n",
       "      <td>NaN</td>\n",
       "      <td>NaN</td>\n",
       "      <td>100.00</td>\n",
       "      <td>40.36</td>\n",
       "    </tr>\n",
       "    <tr>\n",
       "      <td>2008-12-01</td>\n",
       "      <td>NaN</td>\n",
       "      <td>NaN</td>\n",
       "      <td>NaN</td>\n",
       "      <td>NaN</td>\n",
       "      <td>NaN</td>\n",
       "      <td>100.00</td>\n",
       "    </tr>\n",
       "  </tbody>\n",
       "</table>\n",
       "</div>"
      ],
      "text/plain": [
       "event_mn    2008-07-01  2008-08-01  2008-09-01  2008-10-01  2008-11-01  \\\n",
       "cohort_dt                                                                \n",
       "2008-07-01       100.0       66.67       33.33       66.67       33.33   \n",
       "2008-08-01         NaN      100.00       73.04       59.27       48.81   \n",
       "2008-09-01         NaN         NaN      100.00       53.82       38.63   \n",
       "2008-10-01         NaN         NaN         NaN      100.00       45.19   \n",
       "2008-11-01         NaN         NaN         NaN         NaN      100.00   \n",
       "2008-12-01         NaN         NaN         NaN         NaN         NaN   \n",
       "\n",
       "event_mn    2008-12-01  \n",
       "cohort_dt               \n",
       "2008-07-01       66.67  \n",
       "2008-08-01       41.56  \n",
       "2008-09-01       32.56  \n",
       "2008-10-01       33.65  \n",
       "2008-11-01       40.36  \n",
       "2008-12-01      100.00  "
      ]
     },
     "execution_count": 24,
     "metadata": {},
     "output_type": "execute_result"
    }
   ],
   "source": [
    "sample_df_8_1 = sample_df_8.pivot_table(index = 'cohort_dt', columns = 'event_mn', values = 'retention_rate')\n",
    "sample_df_8_1"
   ]
  },
  {
   "cell_type": "code",
   "execution_count": 25,
   "metadata": {},
   "outputs": [
    {
     "data": {
      "image/png": "[encoded data removed]",
      "text/plain": [
       "<Figure size 720x720 with 2 Axes>"
      ]
     },
     "metadata": {
      "needs_background": "light"
     },
     "output_type": "display_data"
    }
   ],
   "source": [
    "plt.figure(figsize=(10, 10)) # задаём размер графика\n",
    "sns.heatmap(sample_df_8_1, # датафрейм с данными\n",
    "            annot=True, # добавляем подписи\n",
    "            fmt='') # задаём исходный формат\n",
    "plt.title('Тепловая карта') # название графика\n",
    "plt.show() "
   ]
  },
  {
   "cell_type": "markdown",
   "metadata": {
    "id": "EgOfIsI4DWLC"
   },
   "source": [
    "Вывод по заданию 8:\n",
    "\n",
    "- согласно тепловой карте, самый лучший показатель по удержанию во втором месяце показала когорта, привлеченная в августе 2008 года;\n",
    "- выявлены аномалии в когорте, привлеченной в июле 2008 года: показатель удержания то растет, то падает на абсолютно одинаковые значения - необходим дополнительный анализ. и проверка исходных данных."
   ]
  },
  {
   "cell_type": "markdown",
   "metadata": {
    "id": "1k7oPWt5DWLK"
   },
   "source": [
    "### Задание 9"
   ]
  },
  {
   "cell_type": "markdown",
   "metadata": {
    "id": "ALsYVSyRDWLM"
   },
   "source": [
    "На сколько процентов менялось количество постов ежемесячно с 1 сентября по 31 декабря 2008 года? Отобразите таблицу со следующими полями:\n",
    "\n",
    "- номер месяца;\n",
    "- количество постов за месяц;\n",
    "- процент, который показывает, насколько изменилось количество постов в текущем месяце по сравнению с предыдущим.\n",
    "\n",
    "Если постов стало меньше, значение процента должно быть отрицательным, если больше — положительным."
   ]
  },
  {
   "cell_type": "markdown",
   "metadata": {
    "id": "u4E2zF8DDWLM"
   },
   "source": [
    "| creation_month | posts_count | percentage |\n",
    "| -------------- | ----------- | ---------- |\n",
    "| 9 | 70731 | NULL |\n",
    "| 10 | 63102 | -11 |\n",
    "| ... | ... | ... |"
   ]
  },
  {
   "cell_type": "code",
   "execution_count": 26,
   "metadata": {
    "id": "Mb5pShStDWLN"
   },
   "outputs": [],
   "source": [
    "# напишите запрос\n",
    "query = '''\n",
    "SELECT EXTRACT(MONTH FROM creation_date) AS creation_month,\n",
    "       COUNT(id) AS posts_count,\n",
    "       (COUNT(id)*100 / LAG(COUNT(id)) OVER ()) - 100 AS percentage\n",
    "FROM stackoverflow.posts \n",
    "\n",
    "WHERE (CAST (DATE_TRUNC ('day', creation_date) AS date)) >= '2008-09-01' \n",
    "AND (CAST (DATE_TRUNC ('day', creation_date) AS date))  <= '2008-12-31'\n",
    "\n",
    "GROUP BY EXTRACT(MONTH FROM creation_date)\n",
    "'''\n",
    "\n",
    "# выполните запрос\n",
    "sample_df_9 = pd.read_sql_query(query, con=engine)"
   ]
  },
  {
   "cell_type": "code",
   "execution_count": 27,
   "metadata": {},
   "outputs": [
    {
     "data": {
      "text/html": [
       "<div>\n",
       "<style scoped>\n",
       "    .dataframe tbody tr th:only-of-type {\n",
       "        vertical-align: middle;\n",
       "    }\n",
       "\n",
       "    .dataframe tbody tr th {\n",
       "        vertical-align: top;\n",
       "    }\n",
       "\n",
       "    .dataframe thead th {\n",
       "        text-align: right;\n",
       "    }\n",
       "</style>\n",
       "<table border=\"1\" class=\"dataframe\">\n",
       "  <thead>\n",
       "    <tr style=\"text-align: right;\">\n",
       "      <th></th>\n",
       "      <th>creation_month</th>\n",
       "      <th>posts_count</th>\n",
       "      <th>percentage</th>\n",
       "    </tr>\n",
       "  </thead>\n",
       "  <tbody>\n",
       "    <tr>\n",
       "      <td>0</td>\n",
       "      <td>9.0</td>\n",
       "      <td>70371</td>\n",
       "      <td>NaN</td>\n",
       "    </tr>\n",
       "    <tr>\n",
       "      <td>1</td>\n",
       "      <td>10.0</td>\n",
       "      <td>63102</td>\n",
       "      <td>-11.0</td>\n",
       "    </tr>\n",
       "    <tr>\n",
       "      <td>2</td>\n",
       "      <td>11.0</td>\n",
       "      <td>46975</td>\n",
       "      <td>-26.0</td>\n",
       "    </tr>\n",
       "    <tr>\n",
       "      <td>3</td>\n",
       "      <td>12.0</td>\n",
       "      <td>44592</td>\n",
       "      <td>-6.0</td>\n",
       "    </tr>\n",
       "  </tbody>\n",
       "</table>\n",
       "</div>"
      ],
      "text/plain": [
       "   creation_month  posts_count  percentage\n",
       "0             9.0        70371         NaN\n",
       "1            10.0        63102       -11.0\n",
       "2            11.0        46975       -26.0\n",
       "3            12.0        44592        -6.0"
      ]
     },
     "execution_count": 27,
     "metadata": {},
     "output_type": "execute_result"
    }
   ],
   "source": [
    "sample_df_9"
   ]
  },
  {
   "cell_type": "code",
   "execution_count": 28,
   "metadata": {},
   "outputs": [
    {
     "data": {
      "text/html": [
       "<div>\n",
       "<style scoped>\n",
       "    .dataframe tbody tr th:only-of-type {\n",
       "        vertical-align: middle;\n",
       "    }\n",
       "\n",
       "    .dataframe tbody tr th {\n",
       "        vertical-align: top;\n",
       "    }\n",
       "\n",
       "    .dataframe thead th {\n",
       "        text-align: right;\n",
       "    }\n",
       "</style>\n",
       "<table border=\"1\" class=\"dataframe\">\n",
       "  <thead>\n",
       "    <tr style=\"text-align: right;\">\n",
       "      <th></th>\n",
       "      <th>result</th>\n",
       "    </tr>\n",
       "  </thead>\n",
       "  <tbody>\n",
       "    <tr>\n",
       "      <td>0</td>\n",
       "      <td>7</td>\n",
       "    </tr>\n",
       "  </tbody>\n",
       "</table>\n",
       "</div>"
      ],
      "text/plain": [
       "   result\n",
       "0       7"
      ]
     },
     "execution_count": 28,
     "metadata": {},
     "output_type": "execute_result"
    }
   ],
   "source": [
    "query = '''\n",
    "select 125 / 17 as result;    \n",
    " '''\n",
    "pd.read_sql_query(query, con=engine) "
   ]
  },
  {
   "cell_type": "markdown",
   "metadata": {
    "id": "9NQE2y_MDWLP"
   },
   "source": [
    "Постройте круговую диаграмму с количеством постов по месяцам."
   ]
  },
  {
   "cell_type": "code",
   "execution_count": 29,
   "metadata": {},
   "outputs": [
    {
     "data": {
      "image/png": "[encoded data removed]",
      "text/plain": [
       "<Figure size 432x288 with 1 Axes>"
      ]
     },
     "metadata": {},
     "output_type": "display_data"
    }
   ],
   "source": [
    "labels = sample_df_9['creation_month']\n",
    "sizes = sample_df_9['posts_count']\n",
    "\n",
    "fig1, ax1 = plt.subplots()\n",
    "ax1.pie(sizes, labels=labels)\n",
    "ax1.axis('equal')  \n",
    "plt.show()"
   ]
  },
  {
   "cell_type": "markdown",
   "metadata": {},
   "source": [
    "Вывод по заданию 9:\n",
    "\n",
    "- к концу года количество постов уменьшается."
   ]
  },
  {
   "cell_type": "markdown",
   "metadata": {
    "id": "uw7qMtafDWLP"
   },
   "source": [
    "### Задание 10"
   ]
  },
  {
   "cell_type": "markdown",
   "metadata": {
    "id": "oRBpWKx3DWLQ"
   },
   "source": [
    "Выгрузите данные активности пользователя, который опубликовал больше всего постов за всё время. Выведите данные за октябрь 2008 года в таком виде:\n",
    "\n",
    "- номер недели;\n",
    "- дата и время последнего поста, опубликованного на этой неделе."
   ]
  },
  {
   "cell_type": "markdown",
   "metadata": {
    "id": "XjAWSn_3DWLQ"
   },
   "source": [
    "| week_creation | creation_date |\n",
    "| ------------- | ------------- |\n",
    "| 40 | 2008-10-05 09:00:58 |\n",
    "| 41 | 2008-10-12 21:22:23 |\n",
    "| ... | ... |"
   ]
  },
  {
   "cell_type": "code",
   "execution_count": 30,
   "metadata": {
    "id": "r5F5fSkwDWLQ"
   },
   "outputs": [],
   "source": [
    "# напишите запрос\n",
    "query = '''\n",
    "WITH user_id AS\n",
    "(SElECT DISTINCT user_id, \n",
    "                         COUNT(id)\n",
    "                  FROM stackoverflow.posts \n",
    "                  GROUP BY user_id\n",
    "                  ORDER BY COUNT(id) DESC\n",
    "                  LIMIT 1),\n",
    "date_week AS\n",
    "(SELECT user_id,\n",
    "       EXTRACT (WEEK FROM creation_date::date) AS week_creation, \n",
    "       creation_date           \n",
    "FROM stackoverflow.posts                  \n",
    "WHERE CAST (DATE_TRUNC ('month', creation_date) AS date) = '2008-10-01')\n",
    "\n",
    "SELECT DISTINCT week_creation,\n",
    "       MAX(creation_date) OVER (PARTITION BY week_creation)\n",
    "FROM user_id AS u\n",
    "LEFT JOIN date_week AS d_w ON u.user_id = d_w.user_id\n",
    "GROUP BY week_creation, creation_date;         \n",
    "'''\n",
    "\n",
    "# выполните запрос\n",
    "sample_df_10 = pd.read_sql_query(query, con=engine)"
   ]
  },
  {
   "cell_type": "code",
   "execution_count": 31,
   "metadata": {},
   "outputs": [
    {
     "data": {
      "text/html": [
       "<div>\n",
       "<style scoped>\n",
       "    .dataframe tbody tr th:only-of-type {\n",
       "        vertical-align: middle;\n",
       "    }\n",
       "\n",
       "    .dataframe tbody tr th {\n",
       "        vertical-align: top;\n",
       "    }\n",
       "\n",
       "    .dataframe thead th {\n",
       "        text-align: right;\n",
       "    }\n",
       "</style>\n",
       "<table border=\"1\" class=\"dataframe\">\n",
       "  <thead>\n",
       "    <tr style=\"text-align: right;\">\n",
       "      <th></th>\n",
       "      <th>week_creation</th>\n",
       "      <th>max</th>\n",
       "    </tr>\n",
       "  </thead>\n",
       "  <tbody>\n",
       "    <tr>\n",
       "      <td>0</td>\n",
       "      <td>40.0</td>\n",
       "      <td>2008-10-05 09:00:58</td>\n",
       "    </tr>\n",
       "    <tr>\n",
       "      <td>1</td>\n",
       "      <td>41.0</td>\n",
       "      <td>2008-10-12 21:22:23</td>\n",
       "    </tr>\n",
       "    <tr>\n",
       "      <td>2</td>\n",
       "      <td>42.0</td>\n",
       "      <td>2008-10-19 06:49:30</td>\n",
       "    </tr>\n",
       "    <tr>\n",
       "      <td>3</td>\n",
       "      <td>43.0</td>\n",
       "      <td>2008-10-26 21:44:36</td>\n",
       "    </tr>\n",
       "    <tr>\n",
       "      <td>4</td>\n",
       "      <td>44.0</td>\n",
       "      <td>2008-10-31 22:16:01</td>\n",
       "    </tr>\n",
       "  </tbody>\n",
       "</table>\n",
       "</div>"
      ],
      "text/plain": [
       "   week_creation                 max\n",
       "0           40.0 2008-10-05 09:00:58\n",
       "1           41.0 2008-10-12 21:22:23\n",
       "2           42.0 2008-10-19 06:49:30\n",
       "3           43.0 2008-10-26 21:44:36\n",
       "4           44.0 2008-10-31 22:16:01"
      ]
     },
     "execution_count": 31,
     "metadata": {},
     "output_type": "execute_result"
    }
   ],
   "source": [
    "sample_df_10"
   ]
  }
 ],
 "metadata": {
  "ExecuteTimeLog": [
   {
    "duration": 4032,
    "start_time": "2021-12-07T09:03:54.729Z"
   },
   {
    "duration": 1032,
    "start_time": "2021-12-07T09:03:59.490Z"
   },
   {
    "duration": 3379,
    "start_time": "2021-12-07T09:31:49.947Z"
   },
   {
    "duration": 976,
    "start_time": "2021-12-07T09:31:53.329Z"
   },
   {
    "duration": 4,
    "start_time": "2021-12-07T09:31:54.308Z"
   },
   {
    "duration": 37,
    "start_time": "2021-12-07T09:31:54.317Z"
   },
   {
    "duration": 167,
    "start_time": "2021-12-07T09:31:54.356Z"
   },
   {
    "duration": 24,
    "start_time": "2021-12-07T09:31:54.525Z"
   },
   {
    "duration": 445,
    "start_time": "2021-12-07T09:31:54.553Z"
   },
   {
    "duration": 1941,
    "start_time": "2021-12-07T09:31:53.061Z"
   },
   {
    "duration": 1939,
    "start_time": "2021-12-07T09:31:53.064Z"
   },
   {
    "duration": 1938,
    "start_time": "2021-12-07T09:31:53.067Z"
   },
   {
    "duration": 1936,
    "start_time": "2021-12-07T09:31:53.070Z"
   },
   {
    "duration": 1872,
    "start_time": "2021-12-07T09:31:53.136Z"
   },
   {
    "duration": 1869,
    "start_time": "2021-12-07T09:31:53.140Z"
   },
   {
    "duration": 1867,
    "start_time": "2021-12-07T09:31:53.143Z"
   },
   {
    "duration": 1866,
    "start_time": "2021-12-07T09:31:53.146Z"
   },
   {
    "duration": 1865,
    "start_time": "2021-12-07T09:31:53.148Z"
   },
   {
    "duration": 1859,
    "start_time": "2021-12-07T09:31:53.155Z"
   },
   {
    "duration": 1849,
    "start_time": "2021-12-07T09:31:53.167Z"
   },
   {
    "duration": 1845,
    "start_time": "2021-12-07T09:31:53.172Z"
   },
   {
    "duration": 1842,
    "start_time": "2021-12-07T09:31:53.176Z"
   },
   {
    "duration": 1841,
    "start_time": "2021-12-07T09:31:53.179Z"
   },
   {
    "duration": 1839,
    "start_time": "2021-12-07T09:31:53.182Z"
   },
   {
    "duration": 343,
    "start_time": "2021-12-07T09:36:22.555Z"
   },
   {
    "duration": 371,
    "start_time": "2021-12-07T09:36:49.924Z"
   },
   {
    "duration": 364,
    "start_time": "2021-12-07T09:37:08.327Z"
   },
   {
    "duration": 367,
    "start_time": "2021-12-07T09:37:25.118Z"
   },
   {
    "duration": 551,
    "start_time": "2021-12-07T09:37:53.805Z"
   },
   {
    "duration": 516,
    "start_time": "2021-12-07T09:38:00.070Z"
   },
   {
    "duration": 10,
    "start_time": "2021-12-07T09:40:59.101Z"
   },
   {
    "duration": 123,
    "start_time": "2021-12-07T09:41:29.130Z"
   },
   {
    "duration": 9,
    "start_time": "2021-12-07T09:41:29.791Z"
   },
   {
    "duration": 451,
    "start_time": "2021-12-07T09:45:11.773Z"
   },
   {
    "duration": 8,
    "start_time": "2021-12-07T09:45:12.511Z"
   },
   {
    "duration": 138,
    "start_time": "2021-12-07T09:45:32.227Z"
   },
   {
    "duration": 12,
    "start_time": "2021-12-07T09:45:33.269Z"
   },
   {
    "duration": 9,
    "start_time": "2021-12-07T09:46:25.664Z"
   },
   {
    "duration": 10,
    "start_time": "2021-12-07T09:46:48.071Z"
   },
   {
    "duration": 446,
    "start_time": "2021-12-07T10:33:28.656Z"
   },
   {
    "duration": 545,
    "start_time": "2021-12-07T10:33:38.987Z"
   },
   {
    "duration": 369,
    "start_time": "2021-12-07T10:35:47.214Z"
   },
   {
    "duration": 345,
    "start_time": "2021-12-07T10:36:33.735Z"
   },
   {
    "duration": 365,
    "start_time": "2021-12-07T10:42:26.820Z"
   },
   {
    "duration": 10,
    "start_time": "2021-12-07T10:42:28.740Z"
   },
   {
    "duration": 140,
    "start_time": "2021-12-07T10:42:57.352Z"
   },
   {
    "duration": 9,
    "start_time": "2021-12-07T10:42:58.388Z"
   },
   {
    "duration": 590,
    "start_time": "2021-12-07T10:43:06.264Z"
   },
   {
    "duration": 302,
    "start_time": "2021-12-07T10:43:13.664Z"
   },
   {
    "duration": 348,
    "start_time": "2021-12-07T10:47:13.728Z"
   },
   {
    "duration": 8,
    "start_time": "2021-12-07T10:47:16.874Z"
   },
   {
    "duration": 356,
    "start_time": "2021-12-07T10:54:04.152Z"
   },
   {
    "duration": 404,
    "start_time": "2021-12-07T10:54:39.581Z"
   },
   {
    "duration": 341,
    "start_time": "2021-12-07T10:55:46.903Z"
   },
   {
    "duration": 351,
    "start_time": "2021-12-07T10:57:22.519Z"
   },
   {
    "duration": 344,
    "start_time": "2021-12-07T10:57:53.090Z"
   },
   {
    "duration": 413,
    "start_time": "2021-12-07T10:58:02.044Z"
   },
   {
    "duration": 9,
    "start_time": "2021-12-07T10:58:04.898Z"
   },
   {
    "duration": 397,
    "start_time": "2021-12-07T10:59:37.178Z"
   },
   {
    "duration": 9,
    "start_time": "2021-12-07T10:59:38.838Z"
   },
   {
    "duration": 369,
    "start_time": "2021-12-07T11:01:06.773Z"
   },
   {
    "duration": 249,
    "start_time": "2021-12-07T11:03:33.498Z"
   },
   {
    "duration": 13,
    "start_time": "2021-12-07T11:03:35.300Z"
   },
   {
    "duration": 469,
    "start_time": "2021-12-07T11:09:27.956Z"
   },
   {
    "duration": 11,
    "start_time": "2021-12-07T11:09:28.743Z"
   },
   {
    "duration": 439,
    "start_time": "2021-12-07T11:09:43.956Z"
   },
   {
    "duration": 39,
    "start_time": "2021-12-07T11:09:45.350Z"
   },
   {
    "duration": 357,
    "start_time": "2021-12-07T11:10:46.441Z"
   },
   {
    "duration": 357,
    "start_time": "2021-12-07T11:11:42.821Z"
   },
   {
    "duration": 338,
    "start_time": "2021-12-07T11:12:15.298Z"
   },
   {
    "duration": 679,
    "start_time": "2021-12-07T12:41:31.749Z"
   },
   {
    "duration": 471,
    "start_time": "2021-12-07T12:41:33.012Z"
   },
   {
    "duration": 3338,
    "start_time": "2021-12-07T12:41:46.975Z"
   },
   {
    "duration": 704,
    "start_time": "2021-12-07T12:41:50.315Z"
   },
   {
    "duration": 5,
    "start_time": "2021-12-07T12:41:51.022Z"
   },
   {
    "duration": 39,
    "start_time": "2021-12-07T12:41:51.029Z"
   },
   {
    "duration": 233,
    "start_time": "2021-12-07T12:41:51.070Z"
   },
   {
    "duration": 16,
    "start_time": "2021-12-07T12:41:51.305Z"
   },
   {
    "duration": 152,
    "start_time": "2021-12-07T12:41:51.323Z"
   },
   {
    "duration": 7,
    "start_time": "2021-12-07T12:41:51.477Z"
   },
   {
    "duration": 365,
    "start_time": "2021-12-07T12:41:51.486Z"
   },
   {
    "duration": 9,
    "start_time": "2021-12-07T12:41:51.854Z"
   },
   {
    "duration": 6,
    "start_time": "2021-12-07T12:41:51.865Z"
   },
   {
    "duration": 6,
    "start_time": "2021-12-07T12:41:51.873Z"
   },
   {
    "duration": 8,
    "start_time": "2021-12-07T12:41:51.880Z"
   },
   {
    "duration": 6,
    "start_time": "2021-12-07T12:41:51.889Z"
   },
   {
    "duration": 6,
    "start_time": "2021-12-07T12:41:51.897Z"
   },
   {
    "duration": 6,
    "start_time": "2021-12-07T12:41:51.905Z"
   },
   {
    "duration": 7,
    "start_time": "2021-12-07T12:41:51.913Z"
   },
   {
    "duration": 7,
    "start_time": "2021-12-07T12:41:51.922Z"
   },
   {
    "duration": 8,
    "start_time": "2021-12-07T12:41:51.931Z"
   },
   {
    "duration": 10,
    "start_time": "2021-12-07T12:41:51.940Z"
   },
   {
    "duration": 8,
    "start_time": "2021-12-07T12:41:51.951Z"
   },
   {
    "duration": 8,
    "start_time": "2021-12-07T12:41:51.961Z"
   },
   {
    "duration": 7,
    "start_time": "2021-12-07T12:41:51.971Z"
   },
   {
    "duration": 355,
    "start_time": "2021-12-07T12:43:23.332Z"
   },
   {
    "duration": 302,
    "start_time": "2021-12-07T12:43:37.603Z"
   },
   {
    "duration": 316,
    "start_time": "2021-12-07T12:43:47.552Z"
   },
   {
    "duration": 843,
    "start_time": "2021-12-07T12:44:09.800Z"
   },
   {
    "duration": 9,
    "start_time": "2021-12-07T12:44:11.801Z"
   },
   {
    "duration": 1125,
    "start_time": "2021-12-07T12:44:36.759Z"
   },
   {
    "duration": 8,
    "start_time": "2021-12-07T12:44:38.222Z"
   },
   {
    "duration": 782,
    "start_time": "2021-12-07T12:45:01.635Z"
   },
   {
    "duration": 8,
    "start_time": "2021-12-07T12:45:04.142Z"
   },
   {
    "duration": 862,
    "start_time": "2021-12-07T12:47:18.462Z"
   },
   {
    "duration": 9,
    "start_time": "2021-12-07T12:47:19.542Z"
   },
   {
    "duration": 417,
    "start_time": "2021-12-07T12:50:05.402Z"
   },
   {
    "duration": 331,
    "start_time": "2021-12-07T12:50:16.762Z"
   },
   {
    "duration": 293,
    "start_time": "2021-12-07T12:51:37.922Z"
   },
   {
    "duration": 1257,
    "start_time": "2021-12-07T12:52:33.931Z"
   },
   {
    "duration": 10,
    "start_time": "2021-12-07T12:52:38.171Z"
   },
   {
    "duration": 1123,
    "start_time": "2021-12-07T12:53:16.081Z"
   },
   {
    "duration": 10,
    "start_time": "2021-12-07T12:53:18.049Z"
   },
   {
    "duration": 391,
    "start_time": "2021-12-07T12:54:22.480Z"
   },
   {
    "duration": 1112,
    "start_time": "2021-12-07T12:54:34.634Z"
   },
   {
    "duration": 9,
    "start_time": "2021-12-07T12:54:36.061Z"
   },
   {
    "duration": 1141,
    "start_time": "2021-12-07T12:54:48.482Z"
   },
   {
    "duration": 9,
    "start_time": "2021-12-07T12:54:50.521Z"
   },
   {
    "duration": 392,
    "start_time": "2021-12-07T12:55:07.782Z"
   },
   {
    "duration": 10,
    "start_time": "2021-12-07T12:55:08.812Z"
   },
   {
    "duration": 1405,
    "start_time": "2021-12-07T12:55:31.241Z"
   },
   {
    "duration": 353,
    "start_time": "2021-12-07T12:55:42.680Z"
   },
   {
    "duration": 1233,
    "start_time": "2021-12-07T12:56:21.030Z"
   },
   {
    "duration": 11,
    "start_time": "2021-12-07T12:56:22.266Z"
   },
   {
    "duration": 618,
    "start_time": "2021-12-07T12:57:01.370Z"
   },
   {
    "duration": 7,
    "start_time": "2021-12-07T12:57:03.381Z"
   },
   {
    "duration": 1276,
    "start_time": "2021-12-07T12:59:34.922Z"
   },
   {
    "duration": 8,
    "start_time": "2021-12-07T12:59:36.322Z"
   },
   {
    "duration": 310,
    "start_time": "2021-12-07T13:00:05.194Z"
   },
   {
    "duration": 11,
    "start_time": "2021-12-07T13:00:07.243Z"
   },
   {
    "duration": 300,
    "start_time": "2021-12-07T13:00:34.442Z"
   },
   {
    "duration": 424,
    "start_time": "2021-12-07T13:01:09.565Z"
   },
   {
    "duration": 299,
    "start_time": "2021-12-07T13:01:26.672Z"
   },
   {
    "duration": 389,
    "start_time": "2021-12-07T13:01:42.707Z"
   },
   {
    "duration": 1093,
    "start_time": "2021-12-07T13:02:15.282Z"
   },
   {
    "duration": 8,
    "start_time": "2021-12-07T13:02:17.323Z"
   },
   {
    "duration": 298,
    "start_time": "2021-12-07T13:02:51.882Z"
   },
   {
    "duration": 8,
    "start_time": "2021-12-07T13:02:52.922Z"
   },
   {
    "duration": 656,
    "start_time": "2021-12-07T13:03:44.440Z"
   },
   {
    "duration": 8,
    "start_time": "2021-12-07T13:03:46.240Z"
   },
   {
    "duration": 983,
    "start_time": "2021-12-07T13:08:13.337Z"
   },
   {
    "duration": 8,
    "start_time": "2021-12-07T13:08:19.332Z"
   },
   {
    "duration": 395,
    "start_time": "2021-12-07T18:02:43.564Z"
   },
   {
    "duration": 2515,
    "start_time": "2021-12-07T18:02:50.636Z"
   },
   {
    "duration": 781,
    "start_time": "2021-12-07T18:02:53.154Z"
   },
   {
    "duration": 3,
    "start_time": "2021-12-07T18:02:53.937Z"
   },
   {
    "duration": 39,
    "start_time": "2021-12-07T18:02:53.942Z"
   },
   {
    "duration": 220,
    "start_time": "2021-12-07T18:02:53.983Z"
   },
   {
    "duration": 13,
    "start_time": "2021-12-07T18:02:54.205Z"
   },
   {
    "duration": 154,
    "start_time": "2021-12-07T18:02:54.221Z"
   },
   {
    "duration": 7,
    "start_time": "2021-12-07T18:02:54.377Z"
   },
   {
    "duration": 372,
    "start_time": "2021-12-07T18:02:54.386Z"
   },
   {
    "duration": 2431,
    "start_time": "2021-12-07T18:02:52.329Z"
   },
   {
    "duration": 2426,
    "start_time": "2021-12-07T18:02:52.335Z"
   },
   {
    "duration": 2424,
    "start_time": "2021-12-07T18:02:52.338Z"
   },
   {
    "duration": 2419,
    "start_time": "2021-12-07T18:02:52.345Z"
   },
   {
    "duration": 2415,
    "start_time": "2021-12-07T18:02:52.350Z"
   },
   {
    "duration": 2414,
    "start_time": "2021-12-07T18:02:52.353Z"
   },
   {
    "duration": 2413,
    "start_time": "2021-12-07T18:02:52.355Z"
   },
   {
    "duration": 2411,
    "start_time": "2021-12-07T18:02:52.359Z"
   },
   {
    "duration": 2410,
    "start_time": "2021-12-07T18:02:52.362Z"
   },
   {
    "duration": 2408,
    "start_time": "2021-12-07T18:02:52.366Z"
   },
   {
    "duration": 2406,
    "start_time": "2021-12-07T18:02:52.369Z"
   },
   {
    "duration": 2404,
    "start_time": "2021-12-07T18:02:52.373Z"
   },
   {
    "duration": 2404,
    "start_time": "2021-12-07T18:02:52.375Z"
   },
   {
    "duration": 2401,
    "start_time": "2021-12-07T18:02:52.379Z"
   },
   {
    "duration": 337,
    "start_time": "2021-12-07T18:04:24.624Z"
   },
   {
    "duration": 318,
    "start_time": "2021-12-07T18:04:51.867Z"
   },
   {
    "duration": 315,
    "start_time": "2021-12-07T18:17:07.458Z"
   },
   {
    "duration": 2308,
    "start_time": "2021-12-07T18:17:50.162Z"
   },
   {
    "duration": 813,
    "start_time": "2021-12-07T18:17:52.473Z"
   },
   {
    "duration": 3,
    "start_time": "2021-12-07T18:17:53.289Z"
   },
   {
    "duration": 64,
    "start_time": "2021-12-07T18:17:53.295Z"
   },
   {
    "duration": 242,
    "start_time": "2021-12-07T18:17:53.362Z"
   },
   {
    "duration": 15,
    "start_time": "2021-12-07T18:17:53.605Z"
   },
   {
    "duration": 152,
    "start_time": "2021-12-07T18:17:53.622Z"
   },
   {
    "duration": 8,
    "start_time": "2021-12-07T18:17:53.782Z"
   },
   {
    "duration": 391,
    "start_time": "2021-12-07T18:17:53.793Z"
   },
   {
    "duration": 3871,
    "start_time": "2021-12-07T18:17:50.315Z"
   },
   {
    "duration": 3866,
    "start_time": "2021-12-07T18:17:50.321Z"
   },
   {
    "duration": 3862,
    "start_time": "2021-12-07T18:17:50.326Z"
   },
   {
    "duration": 3844,
    "start_time": "2021-12-07T18:17:50.345Z"
   },
   {
    "duration": 3841,
    "start_time": "2021-12-07T18:17:50.349Z"
   },
   {
    "duration": 3838,
    "start_time": "2021-12-07T18:17:50.353Z"
   },
   {
    "duration": 3835,
    "start_time": "2021-12-07T18:17:50.358Z"
   },
   {
    "duration": 3832,
    "start_time": "2021-12-07T18:17:50.362Z"
   },
   {
    "duration": 3828,
    "start_time": "2021-12-07T18:17:50.367Z"
   },
   {
    "duration": 3826,
    "start_time": "2021-12-07T18:17:50.370Z"
   },
   {
    "duration": 3822,
    "start_time": "2021-12-07T18:17:50.375Z"
   },
   {
    "duration": 3819,
    "start_time": "2021-12-07T18:17:50.379Z"
   },
   {
    "duration": 3816,
    "start_time": "2021-12-07T18:17:50.383Z"
   },
   {
    "duration": 3813,
    "start_time": "2021-12-07T18:17:50.387Z"
   },
   {
    "duration": 291,
    "start_time": "2021-12-07T18:18:30.975Z"
   },
   {
    "duration": 246,
    "start_time": "2021-12-07T18:18:32.649Z"
   },
   {
    "duration": 288,
    "start_time": "2021-12-07T18:34:31.054Z"
   },
   {
    "duration": 300,
    "start_time": "2021-12-07T18:34:46.784Z"
   },
   {
    "duration": 350,
    "start_time": "2021-12-07T18:36:17.632Z"
   },
   {
    "duration": 468,
    "start_time": "2021-12-07T18:36:19.061Z"
   },
   {
    "duration": 309,
    "start_time": "2021-12-07T18:40:05.652Z"
   },
   {
    "duration": 302,
    "start_time": "2021-12-07T18:40:09.090Z"
   },
   {
    "duration": 348,
    "start_time": "2021-12-07T18:40:42.465Z"
   },
   {
    "duration": 318,
    "start_time": "2021-12-07T18:40:59.780Z"
   },
   {
    "duration": 289,
    "start_time": "2021-12-07T18:42:53.098Z"
   },
   {
    "duration": 292,
    "start_time": "2021-12-07T18:56:37.929Z"
   },
   {
    "duration": 284,
    "start_time": "2021-12-07T18:58:26.122Z"
   },
   {
    "duration": 244,
    "start_time": "2021-12-07T18:58:41.247Z"
   },
   {
    "duration": 7,
    "start_time": "2021-12-07T18:58:45.042Z"
   },
   {
    "duration": 300,
    "start_time": "2021-12-07T19:00:47.075Z"
   },
   {
    "duration": 257,
    "start_time": "2021-12-07T19:01:00.707Z"
   },
   {
    "duration": 7,
    "start_time": "2021-12-07T19:01:02.910Z"
   },
   {
    "duration": 245,
    "start_time": "2021-12-07T19:01:31.115Z"
   },
   {
    "duration": 10,
    "start_time": "2021-12-07T19:01:32.167Z"
   },
   {
    "duration": 231,
    "start_time": "2021-12-07T19:01:42.691Z"
   },
   {
    "duration": 9,
    "start_time": "2021-12-07T19:01:44.875Z"
   },
   {
    "duration": 264,
    "start_time": "2021-12-07T19:04:50.346Z"
   },
   {
    "duration": 7,
    "start_time": "2021-12-07T19:04:51.501Z"
   },
   {
    "duration": 237,
    "start_time": "2021-12-07T19:05:51.672Z"
   },
   {
    "duration": 7,
    "start_time": "2021-12-07T19:05:52.655Z"
   },
   {
    "duration": 3,
    "start_time": "2021-12-07T19:10:11.402Z"
   },
   {
    "duration": 250,
    "start_time": "2021-12-07T19:11:04.040Z"
   },
   {
    "duration": 2665,
    "start_time": "2021-12-07T19:11:06.789Z"
   },
   {
    "duration": 22,
    "start_time": "2021-12-07T19:11:09.456Z"
   },
   {
    "duration": 295,
    "start_time": "2021-12-07T19:17:41.311Z"
   },
   {
    "duration": 347,
    "start_time": "2021-12-07T19:18:27.654Z"
   },
   {
    "duration": 291,
    "start_time": "2021-12-07T19:19:08.723Z"
   },
   {
    "duration": 291,
    "start_time": "2021-12-07T19:19:36.529Z"
   },
   {
    "duration": 178,
    "start_time": "2021-12-07T19:21:45.635Z"
   },
   {
    "duration": 8,
    "start_time": "2021-12-07T19:21:51.155Z"
   },
   {
    "duration": 186,
    "start_time": "2021-12-07T19:22:10.284Z"
   },
   {
    "duration": 7,
    "start_time": "2021-12-07T19:22:11.589Z"
   },
   {
    "duration": 197,
    "start_time": "2021-12-07T19:22:37.027Z"
   },
   {
    "duration": 8,
    "start_time": "2021-12-07T19:22:38.314Z"
   },
   {
    "duration": 296,
    "start_time": "2021-12-07T19:24:15.322Z"
   },
   {
    "duration": 295,
    "start_time": "2021-12-07T19:24:35.905Z"
   },
   {
    "duration": 7,
    "start_time": "2021-12-07T19:24:37.343Z"
   },
   {
    "duration": 130,
    "start_time": "2021-12-07T19:25:15.301Z"
   },
   {
    "duration": 7,
    "start_time": "2021-12-07T19:25:16.884Z"
   },
   {
    "duration": 291,
    "start_time": "2021-12-07T19:30:45.394Z"
   },
   {
    "duration": 284,
    "start_time": "2021-12-07T19:31:08.025Z"
   },
   {
    "duration": 294,
    "start_time": "2021-12-07T19:31:32.019Z"
   },
   {
    "duration": 280,
    "start_time": "2021-12-07T19:31:43.202Z"
   },
   {
    "duration": 288,
    "start_time": "2021-12-07T19:32:13.975Z"
   },
   {
    "duration": 310,
    "start_time": "2021-12-07T19:33:16.159Z"
   },
   {
    "duration": 287,
    "start_time": "2021-12-07T19:33:48.373Z"
   },
   {
    "duration": 122,
    "start_time": "2021-12-07T19:34:23.163Z"
   },
   {
    "duration": 7,
    "start_time": "2021-12-07T19:34:25.596Z"
   },
   {
    "duration": 407,
    "start_time": "2021-12-07T19:34:48.281Z"
   },
   {
    "duration": 6,
    "start_time": "2021-12-07T19:34:56.448Z"
   },
   {
    "duration": 124,
    "start_time": "2021-12-07T19:36:47.192Z"
   },
   {
    "duration": 7,
    "start_time": "2021-12-07T19:36:48.713Z"
   },
   {
    "duration": 330,
    "start_time": "2021-12-07T19:39:02.873Z"
   },
   {
    "duration": 304,
    "start_time": "2021-12-07T19:39:34.538Z"
   },
   {
    "duration": 152,
    "start_time": "2021-12-07T19:39:58.243Z"
   },
   {
    "duration": 10,
    "start_time": "2021-12-07T19:40:00.121Z"
   },
   {
    "duration": 155,
    "start_time": "2021-12-07T19:40:52.032Z"
   },
   {
    "duration": 10,
    "start_time": "2021-12-07T19:40:54.136Z"
   },
   {
    "duration": 167,
    "start_time": "2021-12-07T19:42:30.178Z"
   },
   {
    "duration": 14,
    "start_time": "2021-12-07T19:42:31.546Z"
   },
   {
    "duration": 130,
    "start_time": "2021-12-07T19:45:42.712Z"
   },
   {
    "duration": 10,
    "start_time": "2021-12-07T19:45:44.209Z"
   },
   {
    "duration": 559,
    "start_time": "2021-12-08T06:22:05.502Z"
   },
   {
    "duration": 394,
    "start_time": "2021-12-08T06:22:06.537Z"
   },
   {
    "duration": 4328,
    "start_time": "2021-12-08T06:22:14.653Z"
   },
   {
    "duration": 1024,
    "start_time": "2021-12-08T06:22:18.984Z"
   },
   {
    "duration": 7,
    "start_time": "2021-12-08T06:22:20.016Z"
   },
   {
    "duration": 61,
    "start_time": "2021-12-08T06:22:20.026Z"
   },
   {
    "duration": 35,
    "start_time": "2021-12-08T06:22:20.090Z"
   },
   {
    "duration": 19,
    "start_time": "2021-12-08T06:22:20.128Z"
   },
   {
    "duration": 121,
    "start_time": "2021-12-08T06:22:20.160Z"
   },
   {
    "duration": 11,
    "start_time": "2021-12-08T06:22:20.285Z"
   },
   {
    "duration": 213,
    "start_time": "2021-12-08T06:22:20.298Z"
   },
   {
    "duration": 9,
    "start_time": "2021-12-08T06:22:20.513Z"
   },
   {
    "duration": 504,
    "start_time": "2021-12-08T06:22:20.524Z"
   },
   {
    "duration": 2272,
    "start_time": "2021-12-08T06:22:18.759Z"
   },
   {
    "duration": 2270,
    "start_time": "2021-12-08T06:22:18.763Z"
   },
   {
    "duration": 2268,
    "start_time": "2021-12-08T06:22:18.766Z"
   },
   {
    "duration": 2266,
    "start_time": "2021-12-08T06:22:18.769Z"
   },
   {
    "duration": 2264,
    "start_time": "2021-12-08T06:22:18.772Z"
   },
   {
    "duration": 2231,
    "start_time": "2021-12-08T06:22:18.807Z"
   },
   {
    "duration": 2228,
    "start_time": "2021-12-08T06:22:18.811Z"
   },
   {
    "duration": 2226,
    "start_time": "2021-12-08T06:22:18.814Z"
   },
   {
    "duration": 2224,
    "start_time": "2021-12-08T06:22:18.817Z"
   },
   {
    "duration": 2223,
    "start_time": "2021-12-08T06:22:18.820Z"
   },
   {
    "duration": 2219,
    "start_time": "2021-12-08T06:22:18.825Z"
   },
   {
    "duration": 2219,
    "start_time": "2021-12-08T06:22:18.827Z"
   },
   {
    "duration": 2206,
    "start_time": "2021-12-08T06:22:18.841Z"
   },
   {
    "duration": 110,
    "start_time": "2021-12-08T06:22:36.268Z"
   },
   {
    "duration": 10,
    "start_time": "2021-12-08T06:22:38.749Z"
   },
   {
    "duration": 58,
    "start_time": "2021-12-08T06:24:19.028Z"
   },
   {
    "duration": 10,
    "start_time": "2021-12-08T06:24:21.183Z"
   },
   {
    "duration": 486,
    "start_time": "2021-12-08T06:29:03.889Z"
   },
   {
    "duration": 646,
    "start_time": "2021-12-08T06:29:34.647Z"
   },
   {
    "duration": 11,
    "start_time": "2021-12-08T06:29:36.307Z"
   },
   {
    "duration": 435,
    "start_time": "2021-12-08T06:30:09.004Z"
   },
   {
    "duration": 16,
    "start_time": "2021-12-08T06:30:10.912Z"
   },
   {
    "duration": 389,
    "start_time": "2021-12-08T06:30:35.931Z"
   },
   {
    "duration": 13,
    "start_time": "2021-12-08T06:30:36.909Z"
   },
   {
    "duration": 155,
    "start_time": "2021-12-08T06:35:01.188Z"
   },
   {
    "duration": 10,
    "start_time": "2021-12-08T06:35:02.267Z"
   },
   {
    "duration": 742,
    "start_time": "2021-12-08T06:35:34.938Z"
   },
   {
    "duration": 13,
    "start_time": "2021-12-08T06:35:35.944Z"
   },
   {
    "duration": 169,
    "start_time": "2021-12-08T06:35:55.280Z"
   },
   {
    "duration": 9,
    "start_time": "2021-12-08T06:35:56.328Z"
   },
   {
    "duration": 285,
    "start_time": "2021-12-08T06:48:16.628Z"
   },
   {
    "duration": 9,
    "start_time": "2021-12-08T06:48:17.677Z"
   },
   {
    "duration": 130,
    "start_time": "2021-12-08T06:56:31.037Z"
   },
   {
    "duration": 8,
    "start_time": "2021-12-08T06:56:32.365Z"
   },
   {
    "duration": 4,
    "start_time": "2021-12-08T07:00:48.462Z"
   },
   {
    "duration": 1217,
    "start_time": "2021-12-08T07:01:27.321Z"
   },
   {
    "duration": 24,
    "start_time": "2021-12-08T07:01:28.540Z"
   },
   {
    "duration": 1103,
    "start_time": "2021-12-08T07:05:47.377Z"
   },
   {
    "duration": 16,
    "start_time": "2021-12-08T07:05:48.483Z"
   },
   {
    "duration": 1102,
    "start_time": "2021-12-08T07:12:56.235Z"
   },
   {
    "duration": 20,
    "start_time": "2021-12-08T07:12:57.340Z"
   },
   {
    "duration": 1100,
    "start_time": "2021-12-08T07:14:48.379Z"
   },
   {
    "duration": 17,
    "start_time": "2021-12-08T07:14:49.930Z"
   },
   {
    "duration": 387,
    "start_time": "2021-12-08T07:17:40.649Z"
   },
   {
    "duration": 16,
    "start_time": "2021-12-08T07:17:41.436Z"
   },
   {
    "duration": 403,
    "start_time": "2021-12-08T07:18:10.118Z"
   },
   {
    "duration": 16,
    "start_time": "2021-12-08T07:18:11.147Z"
   },
   {
    "duration": 408,
    "start_time": "2021-12-08T07:18:31.729Z"
   },
   {
    "duration": 16,
    "start_time": "2021-12-08T07:18:32.520Z"
   },
   {
    "duration": 1121,
    "start_time": "2021-12-08T07:19:03.205Z"
   },
   {
    "duration": 16,
    "start_time": "2021-12-08T07:19:05.463Z"
   },
   {
    "duration": 417,
    "start_time": "2021-12-08T07:20:41.751Z"
   },
   {
    "duration": 805,
    "start_time": "2021-12-08T07:20:48.164Z"
   },
   {
    "duration": 809,
    "start_time": "2021-12-08T07:20:51.219Z"
   },
   {
    "duration": 14,
    "start_time": "2021-12-08T07:20:52.239Z"
   },
   {
    "duration": 868,
    "start_time": "2021-12-08T07:22:06.699Z"
   },
   {
    "duration": 15,
    "start_time": "2021-12-08T07:22:07.735Z"
   },
   {
    "duration": 274,
    "start_time": "2021-12-08T07:33:40.856Z"
   },
   {
    "duration": 2347,
    "start_time": "2021-12-08T07:33:49.366Z"
   },
   {
    "duration": 663,
    "start_time": "2021-12-08T07:33:51.715Z"
   },
   {
    "duration": 6,
    "start_time": "2021-12-08T07:33:52.382Z"
   },
   {
    "duration": 24,
    "start_time": "2021-12-08T07:33:52.389Z"
   },
   {
    "duration": 213,
    "start_time": "2021-12-08T07:33:52.414Z"
   },
   {
    "duration": 14,
    "start_time": "2021-12-08T07:33:52.629Z"
   },
   {
    "duration": 153,
    "start_time": "2021-12-08T07:33:52.645Z"
   },
   {
    "duration": 8,
    "start_time": "2021-12-08T07:33:52.801Z"
   },
   {
    "duration": 154,
    "start_time": "2021-12-08T07:33:52.811Z"
   },
   {
    "duration": 7,
    "start_time": "2021-12-08T07:33:52.967Z"
   },
   {
    "duration": 164,
    "start_time": "2021-12-08T07:33:52.976Z"
   },
   {
    "duration": 7,
    "start_time": "2021-12-08T07:33:53.142Z"
   },
   {
    "duration": 411,
    "start_time": "2021-12-08T07:33:53.150Z"
   },
   {
    "duration": 2090,
    "start_time": "2021-12-08T07:33:51.473Z"
   },
   {
    "duration": 2087,
    "start_time": "2021-12-08T07:33:51.477Z"
   },
   {
    "duration": 2083,
    "start_time": "2021-12-08T07:33:51.482Z"
   },
   {
    "duration": 2044,
    "start_time": "2021-12-08T07:33:51.522Z"
   },
   {
    "duration": 2041,
    "start_time": "2021-12-08T07:33:51.526Z"
   },
   {
    "duration": 2039,
    "start_time": "2021-12-08T07:33:51.529Z"
   },
   {
    "duration": 2035,
    "start_time": "2021-12-08T07:33:51.534Z"
   },
   {
    "duration": 2032,
    "start_time": "2021-12-08T07:33:51.538Z"
   },
   {
    "duration": 2028,
    "start_time": "2021-12-08T07:33:51.544Z"
   },
   {
    "duration": 2023,
    "start_time": "2021-12-08T07:33:51.550Z"
   },
   {
    "duration": 2020,
    "start_time": "2021-12-08T07:33:51.554Z"
   },
   {
    "duration": 295,
    "start_time": "2021-12-08T07:34:11.260Z"
   },
   {
    "duration": 1013,
    "start_time": "2021-12-08T07:34:28.430Z"
   },
   {
    "duration": 10,
    "start_time": "2021-12-08T07:34:31.813Z"
   },
   {
    "duration": 296,
    "start_time": "2021-12-08T07:34:50.331Z"
   },
   {
    "duration": 939,
    "start_time": "2021-12-08T07:35:02.322Z"
   },
   {
    "duration": 10,
    "start_time": "2021-12-08T07:35:04.081Z"
   },
   {
    "duration": 301,
    "start_time": "2021-12-08T07:36:04.509Z"
   },
   {
    "duration": 933,
    "start_time": "2021-12-08T07:36:40.160Z"
   },
   {
    "duration": 10,
    "start_time": "2021-12-08T07:36:41.245Z"
   },
   {
    "duration": 940,
    "start_time": "2021-12-08T07:37:24.771Z"
   },
   {
    "duration": 10,
    "start_time": "2021-12-08T07:37:25.714Z"
   },
   {
    "duration": 1384,
    "start_time": "2021-12-08T07:37:47.270Z"
   },
   {
    "duration": 913,
    "start_time": "2021-12-08T07:38:18.728Z"
   },
   {
    "duration": 10,
    "start_time": "2021-12-08T07:38:23.313Z"
   },
   {
    "duration": 262,
    "start_time": "2021-12-08T11:31:28.673Z"
   },
   {
    "duration": 2185,
    "start_time": "2021-12-08T11:31:36.609Z"
   },
   {
    "duration": 1009,
    "start_time": "2021-12-08T11:31:38.796Z"
   },
   {
    "duration": 4,
    "start_time": "2021-12-08T11:31:39.806Z"
   },
   {
    "duration": 32,
    "start_time": "2021-12-08T11:31:39.811Z"
   },
   {
    "duration": 219,
    "start_time": "2021-12-08T11:31:39.844Z"
   },
   {
    "duration": 11,
    "start_time": "2021-12-08T11:31:40.064Z"
   },
   {
    "duration": 153,
    "start_time": "2021-12-08T11:31:40.077Z"
   },
   {
    "duration": 6,
    "start_time": "2021-12-08T11:31:40.232Z"
   },
   {
    "duration": 181,
    "start_time": "2021-12-08T11:31:40.239Z"
   },
   {
    "duration": 5,
    "start_time": "2021-12-08T11:31:40.421Z"
   },
   {
    "duration": 172,
    "start_time": "2021-12-08T11:31:40.428Z"
   },
   {
    "duration": 6,
    "start_time": "2021-12-08T11:31:40.601Z"
   },
   {
    "duration": 1003,
    "start_time": "2021-12-08T11:31:40.608Z"
   },
   {
    "duration": 9,
    "start_time": "2021-12-08T11:31:41.612Z"
   },
   {
    "duration": 4,
    "start_time": "2021-12-08T11:31:41.623Z"
   },
   {
    "duration": 12,
    "start_time": "2021-12-08T11:31:41.628Z"
   },
   {
    "duration": 17,
    "start_time": "2021-12-08T11:31:41.642Z"
   },
   {
    "duration": 13,
    "start_time": "2021-12-08T11:31:41.660Z"
   },
   {
    "duration": 27,
    "start_time": "2021-12-08T11:31:41.674Z"
   },
   {
    "duration": 28,
    "start_time": "2021-12-08T11:31:41.702Z"
   },
   {
    "duration": 14,
    "start_time": "2021-12-08T11:31:41.731Z"
   },
   {
    "duration": 18,
    "start_time": "2021-12-08T11:31:41.747Z"
   },
   {
    "duration": 15,
    "start_time": "2021-12-08T11:31:41.767Z"
   },
   {
    "duration": 20,
    "start_time": "2021-12-08T11:31:41.783Z"
   },
   {
    "duration": 959,
    "start_time": "2021-12-08T11:36:29.144Z"
   },
   {
    "duration": 10,
    "start_time": "2021-12-08T11:36:31.239Z"
   },
   {
    "duration": 1374,
    "start_time": "2021-12-08T11:36:55.378Z"
   },
   {
    "duration": 9,
    "start_time": "2021-12-08T11:36:58.008Z"
   },
   {
    "duration": 968,
    "start_time": "2021-12-08T11:38:50.794Z"
   },
   {
    "duration": 10,
    "start_time": "2021-12-08T11:38:53.058Z"
   },
   {
    "duration": 330,
    "start_time": "2021-12-08T11:39:13.326Z"
   },
   {
    "duration": 1034,
    "start_time": "2021-12-08T11:39:30.566Z"
   },
   {
    "duration": 10,
    "start_time": "2021-12-08T11:39:32.907Z"
   },
   {
    "duration": 946,
    "start_time": "2021-12-08T11:41:03.211Z"
   },
   {
    "duration": 9,
    "start_time": "2021-12-08T11:41:04.265Z"
   },
   {
    "duration": 1096,
    "start_time": "2021-12-08T11:41:28.011Z"
   },
   {
    "duration": 10,
    "start_time": "2021-12-08T11:41:29.426Z"
   },
   {
    "duration": 1241,
    "start_time": "2021-12-08T11:41:53.823Z"
   },
   {
    "duration": 22,
    "start_time": "2021-12-08T11:41:55.067Z"
   },
   {
    "duration": 245,
    "start_time": "2021-12-08T11:47:59.617Z"
   },
   {
    "duration": 2481,
    "start_time": "2021-12-08T11:48:04.351Z"
   },
   {
    "duration": 12,
    "start_time": "2021-12-08T11:48:06.834Z"
   },
   {
    "duration": 291,
    "start_time": "2021-12-08T11:53:24.269Z"
   },
   {
    "duration": 73,
    "start_time": "2021-12-08T11:54:10.482Z"
   },
   {
    "duration": 6,
    "start_time": "2021-12-08T11:54:16.528Z"
   },
   {
    "duration": 637,
    "start_time": "2021-12-08T11:54:28.558Z"
   },
   {
    "duration": 6,
    "start_time": "2021-12-08T11:54:30.250Z"
   },
   {
    "duration": 662,
    "start_time": "2021-12-08T11:55:33.925Z"
   },
   {
    "duration": 6,
    "start_time": "2021-12-08T11:55:34.788Z"
   },
   {
    "duration": 273,
    "start_time": "2021-12-08T11:55:41.730Z"
   },
   {
    "duration": 321,
    "start_time": "2021-12-08T12:02:15.858Z"
   },
   {
    "duration": 292,
    "start_time": "2021-12-08T12:02:31.524Z"
   },
   {
    "duration": 285,
    "start_time": "2021-12-08T12:02:43.058Z"
   },
   {
    "duration": 146,
    "start_time": "2021-12-08T12:03:14.618Z"
   },
   {
    "duration": 7,
    "start_time": "2021-12-08T12:03:16.250Z"
   },
   {
    "duration": 9,
    "start_time": "2021-12-08T12:03:28.147Z"
   },
   {
    "duration": 132,
    "start_time": "2021-12-08T12:04:14.423Z"
   },
   {
    "duration": 8,
    "start_time": "2021-12-08T12:04:14.563Z"
   },
   {
    "duration": 1457,
    "start_time": "2021-12-08T12:05:50.272Z"
   },
   {
    "duration": 144,
    "start_time": "2021-12-08T12:07:30.372Z"
   },
   {
    "duration": 12,
    "start_time": "2021-12-08T12:07:31.486Z"
   },
   {
    "duration": 135,
    "start_time": "2021-12-08T12:08:18.608Z"
   },
   {
    "duration": 12,
    "start_time": "2021-12-08T12:08:20.701Z"
   },
   {
    "duration": 353,
    "start_time": "2021-12-08T12:09:16.394Z"
   },
   {
    "duration": 166,
    "start_time": "2021-12-08T12:09:38.502Z"
   },
   {
    "duration": 12,
    "start_time": "2021-12-08T12:09:39.419Z"
   },
   {
    "duration": 273,
    "start_time": "2021-12-08T12:10:25.687Z"
   },
   {
    "duration": 280,
    "start_time": "2021-12-08T12:10:39.685Z"
   },
   {
    "duration": 160,
    "start_time": "2021-12-08T12:10:53.370Z"
   },
   {
    "duration": 10,
    "start_time": "2021-12-08T12:10:54.843Z"
   },
   {
    "duration": 143,
    "start_time": "2021-12-08T12:12:49.532Z"
   },
   {
    "duration": 10,
    "start_time": "2021-12-08T12:12:51.421Z"
   },
   {
    "duration": 135,
    "start_time": "2021-12-08T12:13:05.325Z"
   },
   {
    "duration": 10,
    "start_time": "2021-12-08T12:13:07.069Z"
   },
   {
    "duration": 141,
    "start_time": "2021-12-08T12:16:22.102Z"
   },
   {
    "duration": 9,
    "start_time": "2021-12-08T12:16:23.268Z"
   },
   {
    "duration": 294,
    "start_time": "2021-12-08T12:27:05.947Z"
   },
   {
    "duration": 360,
    "start_time": "2021-12-08T12:27:53.764Z"
   },
   {
    "duration": 87,
    "start_time": "2021-12-08T12:28:16.087Z"
   },
   {
    "duration": 4,
    "start_time": "2021-12-08T12:28:18.216Z"
   },
   {
    "duration": 96,
    "start_time": "2021-12-08T12:29:47.509Z"
   },
   {
    "duration": 4,
    "start_time": "2021-12-08T12:29:49.480Z"
   },
   {
    "duration": 92,
    "start_time": "2021-12-08T12:31:28.420Z"
   },
   {
    "duration": 5,
    "start_time": "2021-12-08T12:31:29.668Z"
   },
   {
    "duration": 144,
    "start_time": "2021-12-08T12:31:50.478Z"
   },
   {
    "duration": 8,
    "start_time": "2021-12-08T12:31:51.526Z"
   },
   {
    "duration": 153,
    "start_time": "2021-12-08T12:32:33.013Z"
   },
   {
    "duration": 10,
    "start_time": "2021-12-08T12:32:34.429Z"
   },
   {
    "duration": 317,
    "start_time": "2021-12-08T12:33:41.632Z"
   },
   {
    "duration": 9,
    "start_time": "2021-12-08T12:33:42.587Z"
   },
   {
    "duration": 188,
    "start_time": "2021-12-08T12:34:26.286Z"
   },
   {
    "duration": 8,
    "start_time": "2021-12-08T12:34:27.343Z"
   },
   {
    "duration": 116,
    "start_time": "2021-12-08T12:35:48.023Z"
   },
   {
    "duration": 10,
    "start_time": "2021-12-08T12:35:50.630Z"
   },
   {
    "duration": 338,
    "start_time": "2021-12-08T12:36:23.676Z"
   },
   {
    "duration": 123,
    "start_time": "2021-12-08T12:36:50.615Z"
   },
   {
    "duration": 8,
    "start_time": "2021-12-08T12:36:51.690Z"
   },
   {
    "duration": 322,
    "start_time": "2021-12-08T12:37:23.843Z"
   },
   {
    "duration": 148,
    "start_time": "2021-12-08T12:37:42.438Z"
   },
   {
    "duration": 9,
    "start_time": "2021-12-08T12:37:43.929Z"
   },
   {
    "duration": 116,
    "start_time": "2021-12-08T12:38:18.715Z"
   },
   {
    "duration": 9,
    "start_time": "2021-12-08T12:38:20.069Z"
   },
   {
    "duration": 285,
    "start_time": "2021-12-08T12:39:10.575Z"
   },
   {
    "duration": 121,
    "start_time": "2021-12-08T12:39:30.454Z"
   },
   {
    "duration": 10,
    "start_time": "2021-12-08T12:39:31.879Z"
   },
   {
    "duration": 329,
    "start_time": "2021-12-08T12:41:31.987Z"
   },
   {
    "duration": 10,
    "start_time": "2021-12-08T12:41:32.712Z"
   },
   {
    "duration": 173,
    "start_time": "2021-12-08T12:41:47.834Z"
   },
   {
    "duration": 8,
    "start_time": "2021-12-08T12:41:48.736Z"
   },
   {
    "duration": 180,
    "start_time": "2021-12-08T12:45:07.388Z"
   },
   {
    "duration": 8,
    "start_time": "2021-12-08T12:45:08.383Z"
   },
   {
    "duration": 194,
    "start_time": "2021-12-08T12:46:03.576Z"
   },
   {
    "duration": 9,
    "start_time": "2021-12-08T12:46:04.590Z"
   },
   {
    "duration": 149,
    "start_time": "2021-12-08T12:47:19.170Z"
   },
   {
    "duration": 10,
    "start_time": "2021-12-08T12:47:20.088Z"
   },
   {
    "duration": 443,
    "start_time": "2021-12-08T12:51:49.290Z"
   },
   {
    "duration": 336,
    "start_time": "2021-12-08T12:52:14.750Z"
   },
   {
    "duration": 338,
    "start_time": "2021-12-08T12:52:18.501Z"
   },
   {
    "duration": 108,
    "start_time": "2021-12-08T12:52:43.443Z"
   },
   {
    "duration": 5,
    "start_time": "2021-12-08T12:52:45.149Z"
   },
   {
    "duration": 156,
    "start_time": "2021-12-08T12:52:58.284Z"
   },
   {
    "duration": 9,
    "start_time": "2021-12-08T12:52:59.858Z"
   },
   {
    "duration": 315,
    "start_time": "2021-12-08T12:53:26.113Z"
   },
   {
    "duration": 332,
    "start_time": "2021-12-08T12:53:51.296Z"
   },
   {
    "duration": 288,
    "start_time": "2021-12-08T12:54:20.732Z"
   },
   {
    "duration": 168,
    "start_time": "2021-12-08T12:54:38.057Z"
   },
   {
    "duration": 12,
    "start_time": "2021-12-08T12:54:39.730Z"
   },
   {
    "duration": 296,
    "start_time": "2021-12-08T12:55:19.889Z"
   },
   {
    "duration": 280,
    "start_time": "2021-12-08T12:56:03.958Z"
   },
   {
    "duration": 184,
    "start_time": "2021-12-08T12:56:20.145Z"
   },
   {
    "duration": 15,
    "start_time": "2021-12-08T12:56:21.643Z"
   },
   {
    "duration": 286,
    "start_time": "2021-12-08T12:57:39.147Z"
   },
   {
    "duration": 289,
    "start_time": "2021-12-08T12:58:00.773Z"
   },
   {
    "duration": 146,
    "start_time": "2021-12-08T12:59:25.968Z"
   },
   {
    "duration": 10,
    "start_time": "2021-12-08T12:59:26.864Z"
   },
   {
    "duration": 370,
    "start_time": "2021-12-08T13:06:17.868Z"
   },
   {
    "duration": 9,
    "start_time": "2021-12-08T13:06:19.406Z"
   },
   {
    "duration": 188,
    "start_time": "2021-12-08T13:07:07.880Z"
   },
   {
    "duration": 11,
    "start_time": "2021-12-08T13:07:09.205Z"
   },
   {
    "duration": 245,
    "start_time": "2021-12-08T13:09:54.285Z"
   },
   {
    "duration": 9,
    "start_time": "2021-12-08T13:09:57.731Z"
   },
   {
    "duration": 135,
    "start_time": "2021-12-08T13:11:18.188Z"
   },
   {
    "duration": 9,
    "start_time": "2021-12-08T13:11:21.355Z"
   },
   {
    "duration": 181,
    "start_time": "2021-12-08T13:13:36.613Z"
   },
   {
    "duration": 6,
    "start_time": "2021-12-08T13:13:38.269Z"
   },
   {
    "duration": 2592,
    "start_time": "2021-12-08T13:32:02.452Z"
   },
   {
    "duration": 43,
    "start_time": "2021-12-08T13:32:05.046Z"
   },
   {
    "duration": 455,
    "start_time": "2021-12-08T13:34:44.764Z"
   },
   {
    "duration": 8,
    "start_time": "2021-12-08T13:34:47.421Z"
   },
   {
    "duration": 286,
    "start_time": "2021-12-08T13:35:23.935Z"
   },
   {
    "duration": 627,
    "start_time": "2021-12-08T13:35:33.583Z"
   },
   {
    "duration": 8,
    "start_time": "2021-12-08T13:35:35.961Z"
   },
   {
    "duration": 128,
    "start_time": "2021-12-08T13:38:24.007Z"
   },
   {
    "duration": 10,
    "start_time": "2021-12-08T13:38:25.818Z"
   },
   {
    "duration": 284,
    "start_time": "2021-12-08T13:39:08.812Z"
   },
   {
    "duration": 130,
    "start_time": "2021-12-08T13:39:39.313Z"
   },
   {
    "duration": 126,
    "start_time": "2021-12-08T13:39:42.040Z"
   },
   {
    "duration": 8,
    "start_time": "2021-12-08T13:39:42.631Z"
   },
   {
    "duration": 128,
    "start_time": "2021-12-08T13:40:59.025Z"
   },
   {
    "duration": 8,
    "start_time": "2021-12-08T13:41:00.690Z"
   },
   {
    "duration": 274,
    "start_time": "2021-12-08T13:42:15.626Z"
   },
   {
    "duration": 118,
    "start_time": "2021-12-08T13:42:22.510Z"
   },
   {
    "duration": 135,
    "start_time": "2021-12-08T13:42:25.399Z"
   },
   {
    "duration": 8,
    "start_time": "2021-12-08T13:42:25.950Z"
   },
   {
    "duration": 597,
    "start_time": "2021-12-08T13:43:02.181Z"
   },
   {
    "duration": 321,
    "start_time": "2021-12-08T13:43:11.155Z"
   },
   {
    "duration": 284,
    "start_time": "2021-12-08T13:43:28.024Z"
   },
   {
    "duration": 290,
    "start_time": "2021-12-08T13:43:43.987Z"
   },
   {
    "duration": 135,
    "start_time": "2021-12-08T13:44:18.641Z"
   },
   {
    "duration": 9,
    "start_time": "2021-12-08T13:44:20.239Z"
   },
   {
    "duration": 146,
    "start_time": "2021-12-08T13:45:05.856Z"
   },
   {
    "duration": 9,
    "start_time": "2021-12-08T13:45:07.108Z"
   },
   {
    "duration": 145,
    "start_time": "2021-12-08T13:45:19.580Z"
   },
   {
    "duration": 351,
    "start_time": "2021-12-08T13:45:34.212Z"
   },
   {
    "duration": 135,
    "start_time": "2021-12-08T13:45:42.420Z"
   },
   {
    "duration": 8,
    "start_time": "2021-12-08T13:45:43.476Z"
   },
   {
    "duration": 3975,
    "start_time": "2021-12-08T16:15:53.546Z"
   },
   {
    "duration": 1011,
    "start_time": "2021-12-08T16:15:57.524Z"
   },
   {
    "duration": 5,
    "start_time": "2021-12-08T16:15:58.538Z"
   },
   {
    "duration": 49,
    "start_time": "2021-12-08T16:15:58.545Z"
   },
   {
    "duration": 34,
    "start_time": "2021-12-08T16:15:58.597Z"
   },
   {
    "duration": 18,
    "start_time": "2021-12-08T16:15:58.633Z"
   },
   {
    "duration": 127,
    "start_time": "2021-12-08T16:15:58.653Z"
   },
   {
    "duration": 9,
    "start_time": "2021-12-08T16:15:58.782Z"
   },
   {
    "duration": 175,
    "start_time": "2021-12-08T16:15:58.796Z"
   },
   {
    "duration": 9,
    "start_time": "2021-12-08T16:15:58.974Z"
   },
   {
    "duration": 157,
    "start_time": "2021-12-08T16:15:58.986Z"
   },
   {
    "duration": 9,
    "start_time": "2021-12-08T16:15:59.145Z"
   },
   {
    "duration": 1242,
    "start_time": "2021-12-08T16:15:59.157Z"
   },
   {
    "duration": 16,
    "start_time": "2021-12-08T16:16:00.401Z"
   },
   {
    "duration": 88,
    "start_time": "2021-12-08T16:16:00.419Z"
   },
   {
    "duration": 9,
    "start_time": "2021-12-08T16:16:00.509Z"
   },
   {
    "duration": 85,
    "start_time": "2021-12-08T16:16:00.520Z"
   },
   {
    "duration": 14,
    "start_time": "2021-12-08T16:16:00.607Z"
   },
   {
    "duration": 27,
    "start_time": "2021-12-08T16:16:00.624Z"
   },
   {
    "duration": 6,
    "start_time": "2021-12-08T16:16:00.654Z"
   },
   {
    "duration": 8,
    "start_time": "2021-12-08T16:16:00.664Z"
   },
   {
    "duration": 6,
    "start_time": "2021-12-08T16:16:00.674Z"
   },
   {
    "duration": 10,
    "start_time": "2021-12-08T16:16:00.682Z"
   },
   {
    "duration": 14,
    "start_time": "2021-12-08T16:16:00.695Z"
   },
   {
    "duration": 5,
    "start_time": "2021-12-08T16:16:00.712Z"
   },
   {
    "duration": 7,
    "start_time": "2021-12-08T16:16:00.720Z"
   },
   {
    "duration": 1177,
    "start_time": "2021-12-08T16:16:20.259Z"
   },
   {
    "duration": 15,
    "start_time": "2021-12-08T16:16:21.646Z"
   },
   {
    "duration": 463,
    "start_time": "2021-12-08T16:20:40.650Z"
   },
   {
    "duration": 521,
    "start_time": "2021-12-08T16:21:11.344Z"
   },
   {
    "duration": 482,
    "start_time": "2021-12-08T16:21:27.384Z"
   },
   {
    "duration": 412,
    "start_time": "2021-12-08T16:22:02.829Z"
   },
   {
    "duration": 463,
    "start_time": "2021-12-08T16:22:16.131Z"
   },
   {
    "duration": 76,
    "start_time": "2021-12-08T16:27:41.846Z"
   },
   {
    "duration": 414,
    "start_time": "2021-12-08T16:30:12.607Z"
   },
   {
    "duration": 98,
    "start_time": "2021-12-08T16:30:38.889Z"
   },
   {
    "duration": 22,
    "start_time": "2021-12-08T16:30:40.983Z"
   },
   {
    "duration": 68,
    "start_time": "2021-12-08T16:31:27.623Z"
   },
   {
    "duration": 16,
    "start_time": "2021-12-08T16:31:28.957Z"
   },
   {
    "duration": 460,
    "start_time": "2021-12-08T16:31:55.931Z"
   },
   {
    "duration": 89,
    "start_time": "2021-12-08T16:32:25.978Z"
   },
   {
    "duration": 19,
    "start_time": "2021-12-08T16:32:27.789Z"
   },
   {
    "duration": 420,
    "start_time": "2021-12-08T16:46:49.728Z"
   },
   {
    "duration": 404,
    "start_time": "2021-12-08T16:47:44.254Z"
   },
   {
    "duration": 432,
    "start_time": "2021-12-08T16:48:18.866Z"
   },
   {
    "duration": 15,
    "start_time": "2021-12-08T16:48:20.617Z"
   },
   {
    "duration": 684,
    "start_time": "2021-12-08T16:48:36.683Z"
   },
   {
    "duration": 275,
    "start_time": "2021-12-08T16:56:29.710Z"
   },
   {
    "duration": 28,
    "start_time": "2021-12-08T16:56:31.775Z"
   },
   {
    "duration": 400,
    "start_time": "2021-12-08T16:59:06.963Z"
   },
   {
    "duration": 417,
    "start_time": "2021-12-08T16:59:35.192Z"
   },
   {
    "duration": 61,
    "start_time": "2021-12-08T16:59:46.965Z"
   },
   {
    "duration": 12,
    "start_time": "2021-12-08T16:59:50.977Z"
   },
   {
    "duration": 56,
    "start_time": "2021-12-08T17:00:52.297Z"
   },
   {
    "duration": 10,
    "start_time": "2021-12-08T17:00:55.435Z"
   },
   {
    "duration": 491,
    "start_time": "2021-12-08T17:08:54.286Z"
   },
   {
    "duration": 59,
    "start_time": "2021-12-08T17:09:18.967Z"
   },
   {
    "duration": 12,
    "start_time": "2021-12-08T17:09:21.819Z"
   },
   {
    "duration": 93,
    "start_time": "2021-12-08T17:12:08.274Z"
   },
   {
    "duration": 12,
    "start_time": "2021-12-08T17:12:10.194Z"
   },
   {
    "duration": 398,
    "start_time": "2021-12-08T17:12:51.462Z"
   },
   {
    "duration": 94,
    "start_time": "2021-12-08T17:13:29.928Z"
   },
   {
    "duration": 11,
    "start_time": "2021-12-08T17:13:31.200Z"
   },
   {
    "duration": 48,
    "start_time": "2021-12-08T17:20:10.033Z"
   },
   {
    "duration": 7,
    "start_time": "2021-12-08T17:20:12.038Z"
   },
   {
    "duration": 482,
    "start_time": "2021-12-08T17:20:37.138Z"
   },
   {
    "duration": 612,
    "start_time": "2021-12-08T17:21:03.141Z"
   },
   {
    "duration": 88,
    "start_time": "2021-12-08T17:21:28.021Z"
   },
   {
    "duration": 8,
    "start_time": "2021-12-08T17:21:32.604Z"
   },
   {
    "duration": 971,
    "start_time": "2021-12-08T17:41:22.389Z"
   },
   {
    "duration": 13,
    "start_time": "2021-12-08T17:41:26.560Z"
   },
   {
    "duration": 1190,
    "start_time": "2021-12-08T17:42:31.010Z"
   },
   {
    "duration": 15,
    "start_time": "2021-12-08T17:42:32.290Z"
   },
   {
    "duration": 1133,
    "start_time": "2021-12-08T17:50:39.243Z"
   },
   {
    "duration": 15,
    "start_time": "2021-12-08T17:50:41.688Z"
   },
   {
    "duration": 1131,
    "start_time": "2021-12-08T17:55:51.094Z"
   },
   {
    "duration": 15,
    "start_time": "2021-12-08T17:55:52.674Z"
   },
   {
    "duration": 1136,
    "start_time": "2021-12-08T17:56:08.439Z"
   },
   {
    "duration": 13,
    "start_time": "2021-12-08T17:56:09.744Z"
   },
   {
    "duration": 1159,
    "start_time": "2021-12-08T18:22:22.832Z"
   },
   {
    "duration": 17,
    "start_time": "2021-12-08T18:22:26.746Z"
   },
   {
    "duration": 1687,
    "start_time": "2021-12-08T18:22:33.858Z"
   },
   {
    "duration": 16,
    "start_time": "2021-12-08T18:22:36.548Z"
   },
   {
    "duration": 1370,
    "start_time": "2021-12-08T18:23:33.626Z"
   },
   {
    "duration": 19,
    "start_time": "2021-12-08T18:23:34.999Z"
   },
   {
    "duration": 2053,
    "start_time": "2021-12-08T18:23:42.658Z"
   },
   {
    "duration": 14,
    "start_time": "2021-12-08T18:23:44.713Z"
   },
   {
    "duration": 1448,
    "start_time": "2021-12-08T18:23:58.137Z"
   },
   {
    "duration": 20,
    "start_time": "2021-12-08T18:23:59.588Z"
   },
   {
    "duration": 1285,
    "start_time": "2021-12-08T18:24:09.011Z"
   },
   {
    "duration": 21,
    "start_time": "2021-12-08T18:24:11.379Z"
   },
   {
    "duration": 1098,
    "start_time": "2021-12-08T18:32:58.511Z"
   },
   {
    "duration": 17,
    "start_time": "2021-12-08T18:32:59.611Z"
   },
   {
    "duration": 1346,
    "start_time": "2021-12-08T18:39:28.476Z"
   },
   {
    "duration": 444,
    "start_time": "2021-12-08T18:39:56.208Z"
   },
   {
    "duration": 726,
    "start_time": "2021-12-08T18:40:30.336Z"
   },
   {
    "duration": 599,
    "start_time": "2021-12-08T18:42:41.268Z"
   },
   {
    "duration": 977,
    "start_time": "2021-12-08T18:43:11.723Z"
   },
   {
    "duration": 19,
    "start_time": "2021-12-08T18:43:13.856Z"
   },
   {
    "duration": 406,
    "start_time": "2021-12-08T18:46:53.243Z"
   },
   {
    "duration": 406,
    "start_time": "2021-12-08T18:47:36.869Z"
   },
   {
    "duration": 1167,
    "start_time": "2021-12-08T18:48:02.118Z"
   },
   {
    "duration": 14,
    "start_time": "2021-12-08T18:48:05.325Z"
   },
   {
    "duration": 1113,
    "start_time": "2021-12-08T18:50:56.303Z"
   },
   {
    "duration": 15,
    "start_time": "2021-12-08T18:50:57.803Z"
   },
   {
    "duration": 328,
    "start_time": "2021-12-08T19:15:20.577Z"
   },
   {
    "duration": 15,
    "start_time": "2021-12-08T19:15:27.042Z"
   },
   {
    "duration": 33,
    "start_time": "2021-12-08T19:19:51.521Z"
   },
   {
    "duration": 379,
    "start_time": "2021-12-08T19:28:50.481Z"
   },
   {
    "duration": 11,
    "start_time": "2021-12-08T19:28:52.188Z"
   },
   {
    "duration": 117,
    "start_time": "2021-12-08T19:30:30.869Z"
   },
   {
    "duration": 13,
    "start_time": "2021-12-08T19:30:32.970Z"
   },
   {
    "duration": 421,
    "start_time": "2021-12-08T19:35:40.257Z"
   },
   {
    "duration": 416,
    "start_time": "2021-12-08T19:35:50.754Z"
   },
   {
    "duration": 261,
    "start_time": "2021-12-08T19:36:26.822Z"
   },
   {
    "duration": 13,
    "start_time": "2021-12-08T19:36:28.491Z"
   },
   {
    "duration": 83,
    "start_time": "2021-12-08T19:42:40.033Z"
   },
   {
    "duration": 13,
    "start_time": "2021-12-08T19:42:41.247Z"
   },
   {
    "duration": 445,
    "start_time": "2021-12-08T19:47:51.522Z"
   },
   {
    "duration": 424,
    "start_time": "2021-12-08T19:48:11.257Z"
   },
   {
    "duration": 406,
    "start_time": "2021-12-08T19:50:13.548Z"
   },
   {
    "duration": 620,
    "start_time": "2021-12-08T19:52:03.374Z"
   },
   {
    "duration": 413,
    "start_time": "2021-12-08T19:52:35.364Z"
   },
   {
    "duration": 518,
    "start_time": "2021-12-08T19:53:06.563Z"
   },
   {
    "duration": 531,
    "start_time": "2021-12-08T19:53:19.843Z"
   },
   {
    "duration": 432,
    "start_time": "2021-12-08T19:53:34.432Z"
   },
   {
    "duration": 9,
    "start_time": "2021-12-08T19:53:38.023Z"
   },
   {
    "duration": 439,
    "start_time": "2021-12-08T19:56:02.905Z"
   },
   {
    "duration": 281,
    "start_time": "2021-12-08T19:56:56.206Z"
   },
   {
    "duration": 15,
    "start_time": "2021-12-08T19:56:59.352Z"
   },
   {
    "duration": 282,
    "start_time": "2021-12-08T20:00:23.275Z"
   },
   {
    "duration": 15,
    "start_time": "2021-12-08T20:00:24.574Z"
   },
   {
    "duration": 269,
    "start_time": "2021-12-09T09:10:53.896Z"
   },
   {
    "duration": 2382,
    "start_time": "2021-12-09T09:11:01.654Z"
   },
   {
    "duration": 622,
    "start_time": "2021-12-09T09:11:04.038Z"
   },
   {
    "duration": 3,
    "start_time": "2021-12-09T09:11:04.662Z"
   },
   {
    "duration": 29,
    "start_time": "2021-12-09T09:11:04.667Z"
   },
   {
    "duration": 231,
    "start_time": "2021-12-09T09:11:04.697Z"
   },
   {
    "duration": 11,
    "start_time": "2021-12-09T09:11:04.930Z"
   },
   {
    "duration": 155,
    "start_time": "2021-12-09T09:11:04.943Z"
   },
   {
    "duration": 6,
    "start_time": "2021-12-09T09:11:05.100Z"
   },
   {
    "duration": 157,
    "start_time": "2021-12-09T09:11:05.109Z"
   },
   {
    "duration": 5,
    "start_time": "2021-12-09T09:11:05.268Z"
   },
   {
    "duration": 172,
    "start_time": "2021-12-09T09:11:05.275Z"
   },
   {
    "duration": 6,
    "start_time": "2021-12-09T09:11:05.448Z"
   },
   {
    "duration": 928,
    "start_time": "2021-12-09T09:11:05.455Z"
   },
   {
    "duration": 10,
    "start_time": "2021-12-09T09:11:06.385Z"
   },
   {
    "duration": 102,
    "start_time": "2021-12-09T09:11:06.397Z"
   },
   {
    "duration": 6,
    "start_time": "2021-12-09T09:11:06.500Z"
   },
   {
    "duration": 79,
    "start_time": "2021-12-09T09:11:06.508Z"
   },
   {
    "duration": 5,
    "start_time": "2021-12-09T09:11:06.589Z"
   },
   {
    "duration": 807,
    "start_time": "2021-12-09T09:11:06.595Z"
   },
   {
    "duration": 8,
    "start_time": "2021-12-09T09:11:07.404Z"
   },
   {
    "duration": 397,
    "start_time": "2021-12-09T09:11:07.414Z"
   },
   {
    "duration": 903,
    "start_time": "2021-12-09T09:11:06.910Z"
   },
   {
    "duration": 896,
    "start_time": "2021-12-09T09:11:06.918Z"
   },
   {
    "duration": 893,
    "start_time": "2021-12-09T09:11:06.922Z"
   },
   {
    "duration": 890,
    "start_time": "2021-12-09T09:11:06.926Z"
   },
   {
    "duration": 888,
    "start_time": "2021-12-09T09:11:06.929Z"
   },
   {
    "duration": 884,
    "start_time": "2021-12-09T09:11:06.933Z"
   },
   {
    "duration": 881,
    "start_time": "2021-12-09T09:11:06.937Z"
   },
   {
    "duration": 370,
    "start_time": "2021-12-09T09:12:50.927Z"
   },
   {
    "duration": 10,
    "start_time": "2021-12-09T09:12:54.992Z"
   },
   {
    "duration": 293,
    "start_time": "2021-12-09T09:13:15.233Z"
   },
   {
    "duration": 9,
    "start_time": "2021-12-09T09:13:16.076Z"
   },
   {
    "duration": 242,
    "start_time": "2021-12-09T09:13:20.447Z"
   },
   {
    "duration": 304,
    "start_time": "2021-12-09T09:15:21.284Z"
   },
   {
    "duration": 22,
    "start_time": "2021-12-09T09:16:00.756Z"
   },
   {
    "duration": 254,
    "start_time": "2021-12-09T09:20:56.557Z"
   },
   {
    "duration": 439,
    "start_time": "2021-12-09T09:22:00.219Z"
   },
   {
    "duration": 2034,
    "start_time": "2021-12-09T09:22:06.978Z"
   },
   {
    "duration": 1400,
    "start_time": "2021-12-09T09:22:09.015Z"
   },
   {
    "duration": 4,
    "start_time": "2021-12-09T09:22:10.419Z"
   },
   {
    "duration": 25,
    "start_time": "2021-12-09T09:22:10.424Z"
   },
   {
    "duration": 221,
    "start_time": "2021-12-09T09:22:10.451Z"
   },
   {
    "duration": 12,
    "start_time": "2021-12-09T09:22:10.673Z"
   },
   {
    "duration": 148,
    "start_time": "2021-12-09T09:22:10.687Z"
   },
   {
    "duration": 6,
    "start_time": "2021-12-09T09:22:10.838Z"
   },
   {
    "duration": 164,
    "start_time": "2021-12-09T09:22:10.845Z"
   },
   {
    "duration": 6,
    "start_time": "2021-12-09T09:22:11.011Z"
   },
   {
    "duration": 220,
    "start_time": "2021-12-09T09:22:11.018Z"
   },
   {
    "duration": 6,
    "start_time": "2021-12-09T09:22:11.240Z"
   },
   {
    "duration": 902,
    "start_time": "2021-12-09T09:22:11.247Z"
   },
   {
    "duration": 11,
    "start_time": "2021-12-09T09:22:12.150Z"
   },
   {
    "duration": 108,
    "start_time": "2021-12-09T09:22:12.162Z"
   },
   {
    "duration": 6,
    "start_time": "2021-12-09T09:22:12.271Z"
   },
   {
    "duration": 81,
    "start_time": "2021-12-09T09:22:12.278Z"
   },
   {
    "duration": 5,
    "start_time": "2021-12-09T09:22:12.360Z"
   },
   {
    "duration": 880,
    "start_time": "2021-12-09T09:22:12.366Z"
   },
   {
    "duration": 8,
    "start_time": "2021-12-09T09:22:13.248Z"
   },
   {
    "duration": 374,
    "start_time": "2021-12-09T09:22:13.257Z"
   },
   {
    "duration": 8,
    "start_time": "2021-12-09T09:22:13.633Z"
   },
   {
    "duration": 20,
    "start_time": "2021-12-09T09:22:13.642Z"
   },
   {
    "duration": 535,
    "start_time": "2021-12-09T09:22:13.663Z"
   },
   {
    "duration": 2,
    "start_time": "2021-12-09T09:22:14.199Z"
   },
   {
    "duration": 5,
    "start_time": "2021-12-09T09:22:14.204Z"
   },
   {
    "duration": 8,
    "start_time": "2021-12-09T09:22:14.210Z"
   },
   {
    "duration": 7,
    "start_time": "2021-12-09T09:22:14.220Z"
   },
   {
    "duration": 7,
    "start_time": "2021-12-09T09:22:14.229Z"
   },
   {
    "duration": 383,
    "start_time": "2021-12-09T09:23:06.579Z"
   },
   {
    "duration": 7,
    "start_time": "2021-12-09T09:26:55.208Z"
   },
   {
    "duration": 18,
    "start_time": "2021-12-09T09:26:57.335Z"
   },
   {
    "duration": 326,
    "start_time": "2021-12-09T10:14:42.209Z"
   },
   {
    "duration": 282,
    "start_time": "2021-12-09T10:15:04.837Z"
   },
   {
    "duration": 388,
    "start_time": "2021-12-09T10:15:11.570Z"
   },
   {
    "duration": 8,
    "start_time": "2021-12-09T10:15:14.150Z"
   },
   {
    "duration": 137,
    "start_time": "2021-12-09T10:16:33.359Z"
   },
   {
    "duration": 6,
    "start_time": "2021-12-09T10:16:34.959Z"
   },
   {
    "duration": 289,
    "start_time": "2021-12-09T10:19:26.485Z"
   },
   {
    "duration": 296,
    "start_time": "2021-12-09T10:19:52.239Z"
   },
   {
    "duration": 304,
    "start_time": "2021-12-09T10:20:54.857Z"
   },
   {
    "duration": 288,
    "start_time": "2021-12-09T10:22:27.906Z"
   },
   {
    "duration": 1420,
    "start_time": "2021-12-09T10:22:41.098Z"
   },
   {
    "duration": 287,
    "start_time": "2021-12-09T10:23:40.132Z"
   },
   {
    "duration": 124,
    "start_time": "2021-12-09T10:24:12.025Z"
   },
   {
    "duration": 7,
    "start_time": "2021-12-09T10:24:14.245Z"
   },
   {
    "duration": 127,
    "start_time": "2021-12-09T10:33:28.385Z"
   },
   {
    "duration": 7,
    "start_time": "2021-12-09T10:33:32.087Z"
   },
   {
    "duration": 123,
    "start_time": "2021-12-09T10:34:16.626Z"
   },
   {
    "duration": 7,
    "start_time": "2021-12-09T10:34:17.794Z"
   },
   {
    "duration": 152,
    "start_time": "2021-12-09T10:35:34.836Z"
   },
   {
    "duration": 8,
    "start_time": "2021-12-09T10:35:36.015Z"
   },
   {
    "duration": 125,
    "start_time": "2021-12-09T10:35:59.402Z"
   },
   {
    "duration": 7,
    "start_time": "2021-12-09T10:36:00.429Z"
   },
   {
    "duration": 184,
    "start_time": "2021-12-09T10:36:22.876Z"
   },
   {
    "duration": 9,
    "start_time": "2021-12-09T10:36:24.596Z"
   },
   {
    "duration": 192,
    "start_time": "2021-12-09T10:36:30.838Z"
   },
   {
    "duration": 7,
    "start_time": "2021-12-09T10:36:31.918Z"
   },
   {
    "duration": 124,
    "start_time": "2021-12-09T10:37:12.798Z"
   },
   {
    "duration": 7,
    "start_time": "2021-12-09T10:37:14.224Z"
   },
   {
    "duration": 126,
    "start_time": "2021-12-09T10:37:22.218Z"
   },
   {
    "duration": 7,
    "start_time": "2021-12-09T10:37:23.299Z"
   },
   {
    "duration": 128,
    "start_time": "2021-12-09T10:37:35.360Z"
   },
   {
    "duration": 7,
    "start_time": "2021-12-09T10:37:36.109Z"
   },
   {
    "duration": 126,
    "start_time": "2021-12-09T10:37:43.941Z"
   },
   {
    "duration": 6,
    "start_time": "2021-12-09T10:37:45.307Z"
   },
   {
    "duration": 155,
    "start_time": "2021-12-09T10:38:13.820Z"
   },
   {
    "duration": 7,
    "start_time": "2021-12-09T10:38:15.473Z"
   },
   {
    "duration": 242,
    "start_time": "2021-12-09T10:48:19.676Z"
   },
   {
    "duration": 60,
    "start_time": "2021-12-09T10:48:46.917Z"
   },
   {
    "duration": 153,
    "start_time": "2021-12-09T11:00:45.839Z"
   },
   {
    "duration": 7,
    "start_time": "2021-12-09T11:00:47.205Z"
   },
   {
    "duration": 160,
    "start_time": "2021-12-09T11:01:04.696Z"
   },
   {
    "duration": 7,
    "start_time": "2021-12-09T11:01:05.625Z"
   },
   {
    "duration": 176,
    "start_time": "2021-12-09T11:01:34.982Z"
   },
   {
    "duration": 7,
    "start_time": "2021-12-09T11:01:36.033Z"
   },
   {
    "duration": 166,
    "start_time": "2021-12-09T11:01:43.373Z"
   },
   {
    "duration": 8,
    "start_time": "2021-12-09T11:01:44.418Z"
   },
   {
    "duration": 105,
    "start_time": "2021-12-09T11:02:09.262Z"
   },
   {
    "duration": 6,
    "start_time": "2021-12-09T11:02:10.389Z"
   },
   {
    "duration": 401,
    "start_time": "2021-12-09T14:27:00.520Z"
   },
   {
    "duration": 3511,
    "start_time": "2021-12-09T14:27:11.903Z"
   },
   {
    "duration": 1479,
    "start_time": "2021-12-09T14:27:15.417Z"
   },
   {
    "duration": 5,
    "start_time": "2021-12-09T14:27:16.900Z"
   },
   {
    "duration": 186,
    "start_time": "2021-12-09T14:27:16.908Z"
   },
   {
    "duration": 206,
    "start_time": "2021-12-09T14:27:17.096Z"
   },
   {
    "duration": 18,
    "start_time": "2021-12-09T14:27:17.305Z"
   },
   {
    "duration": 159,
    "start_time": "2021-12-09T14:27:17.325Z"
   },
   {
    "duration": 9,
    "start_time": "2021-12-09T14:27:17.487Z"
   },
   {
    "duration": 226,
    "start_time": "2021-12-09T14:27:17.499Z"
   },
   {
    "duration": 8,
    "start_time": "2021-12-09T14:27:17.728Z"
   },
   {
    "duration": 201,
    "start_time": "2021-12-09T14:27:17.738Z"
   },
   {
    "duration": 10,
    "start_time": "2021-12-09T14:27:17.941Z"
   },
   {
    "duration": 1184,
    "start_time": "2021-12-09T14:27:17.954Z"
   },
   {
    "duration": 15,
    "start_time": "2021-12-09T14:27:19.140Z"
   },
   {
    "duration": 1845,
    "start_time": "2021-12-09T14:27:19.158Z"
   },
   {
    "duration": 9,
    "start_time": "2021-12-09T14:27:21.005Z"
   },
   {
    "duration": 102,
    "start_time": "2021-12-09T14:27:21.017Z"
   },
   {
    "duration": 8,
    "start_time": "2021-12-09T14:27:21.122Z"
   },
   {
    "duration": 1076,
    "start_time": "2021-12-09T14:27:21.133Z"
   },
   {
    "duration": 17,
    "start_time": "2021-12-09T14:27:22.211Z"
   },
   {
    "duration": 1139,
    "start_time": "2021-12-09T14:27:22.231Z"
   },
   {
    "duration": 11,
    "start_time": "2021-12-09T14:27:23.372Z"
   },
   {
    "duration": 32,
    "start_time": "2021-12-09T14:27:23.390Z"
   },
   {
    "duration": 598,
    "start_time": "2021-12-09T14:27:23.425Z"
   },
   {
    "duration": 119,
    "start_time": "2021-12-09T14:27:24.025Z"
   },
   {
    "duration": 10,
    "start_time": "2021-12-09T14:27:24.146Z"
   },
   {
    "duration": 98,
    "start_time": "2021-12-09T14:27:24.158Z"
   },
   {
    "duration": 441,
    "start_time": "2021-12-09T14:27:24.258Z"
   },
   {
    "duration": 2459,
    "start_time": "2021-12-09T14:27:22.243Z"
   },
   {
    "duration": 282,
    "start_time": "2021-12-09T14:44:09.540Z"
   },
   {
    "duration": 14,
    "start_time": "2021-12-09T14:44:12.697Z"
   },
   {
    "duration": 254,
    "start_time": "2021-12-09T14:45:24.794Z"
   },
   {
    "duration": 14,
    "start_time": "2021-12-09T14:45:26.483Z"
   },
   {
    "duration": 28,
    "start_time": "2021-12-09T14:46:54.118Z"
   },
   {
    "duration": 6,
    "start_time": "2021-12-09T14:46:54.956Z"
   },
   {
    "duration": 162,
    "start_time": "2021-12-09T15:03:58.308Z"
   },
   {
    "duration": 15,
    "start_time": "2021-12-09T15:04:01.209Z"
   },
   {
    "duration": 343,
    "start_time": "2021-12-09T15:08:24.649Z"
   },
   {
    "duration": 175,
    "start_time": "2021-12-09T15:09:09.411Z"
   },
   {
    "duration": 14,
    "start_time": "2021-12-09T15:09:10.768Z"
   },
   {
    "duration": 153,
    "start_time": "2021-12-09T15:09:58.743Z"
   },
   {
    "duration": 14,
    "start_time": "2021-12-09T15:10:01.139Z"
   },
   {
    "duration": 149,
    "start_time": "2021-12-09T15:10:30.115Z"
   },
   {
    "duration": 14,
    "start_time": "2021-12-09T15:10:31.893Z"
   },
   {
    "duration": 360,
    "start_time": "2021-12-09T15:11:30.444Z"
   },
   {
    "duration": 14,
    "start_time": "2021-12-09T15:11:31.812Z"
   },
   {
    "duration": 150,
    "start_time": "2021-12-09T15:11:49.601Z"
   },
   {
    "duration": 13,
    "start_time": "2021-12-09T15:11:50.629Z"
   },
   {
    "duration": 367,
    "start_time": "2021-12-09T15:15:40.975Z"
   },
   {
    "duration": 157,
    "start_time": "2021-12-09T15:17:00.241Z"
   },
   {
    "duration": 14,
    "start_time": "2021-12-09T15:17:04.406Z"
   },
   {
    "duration": 207,
    "start_time": "2021-12-09T15:17:45.333Z"
   },
   {
    "duration": 14,
    "start_time": "2021-12-09T15:17:46.292Z"
   },
   {
    "duration": 307,
    "start_time": "2021-12-09T15:18:17.748Z"
   },
   {
    "duration": 155,
    "start_time": "2021-12-09T15:18:45.382Z"
   },
   {
    "duration": 13,
    "start_time": "2021-12-09T15:18:46.824Z"
   },
   {
    "duration": 153,
    "start_time": "2021-12-09T15:19:05.305Z"
   },
   {
    "duration": 14,
    "start_time": "2021-12-09T15:19:07.088Z"
   },
   {
    "duration": 151,
    "start_time": "2021-12-09T15:19:39.253Z"
   },
   {
    "duration": 14,
    "start_time": "2021-12-09T15:19:40.959Z"
   },
   {
    "duration": 144,
    "start_time": "2021-12-09T15:20:38.399Z"
   },
   {
    "duration": 10,
    "start_time": "2021-12-09T15:20:39.914Z"
   },
   {
    "duration": 96007,
    "start_time": "2021-12-10T04:50:43.484Z"
   },
   {
    "duration": 1665,
    "start_time": "2021-12-10T04:52:19.494Z"
   },
   {
    "duration": 5,
    "start_time": "2021-12-10T04:52:21.163Z"
   },
   {
    "duration": 39,
    "start_time": "2021-12-10T04:52:21.171Z"
   },
   {
    "duration": 198,
    "start_time": "2021-12-10T04:52:21.213Z"
   },
   {
    "duration": 19,
    "start_time": "2021-12-10T04:52:21.414Z"
   },
   {
    "duration": 153,
    "start_time": "2021-12-10T04:52:21.436Z"
   },
   {
    "duration": 10,
    "start_time": "2021-12-10T04:52:21.594Z"
   },
   {
    "duration": 188,
    "start_time": "2021-12-10T04:52:21.608Z"
   },
   {
    "duration": 9,
    "start_time": "2021-12-10T04:52:21.799Z"
   },
   {
    "duration": 177,
    "start_time": "2021-12-10T04:52:21.810Z"
   },
   {
    "duration": 9,
    "start_time": "2021-12-10T04:52:21.989Z"
   },
   {
    "duration": 1371,
    "start_time": "2021-12-10T04:52:22.000Z"
   },
   {
    "duration": 16,
    "start_time": "2021-12-10T04:52:23.373Z"
   },
   {
    "duration": 983,
    "start_time": "2021-12-10T04:52:23.392Z"
   },
   {
    "duration": 10,
    "start_time": "2021-12-10T04:52:24.377Z"
   },
   {
    "duration": 81,
    "start_time": "2021-12-10T04:52:24.389Z"
   },
   {
    "duration": 8,
    "start_time": "2021-12-10T04:52:24.472Z"
   },
   {
    "duration": 2029,
    "start_time": "2021-12-10T04:52:24.483Z"
   },
   {
    "duration": 14,
    "start_time": "2021-12-10T04:52:26.515Z"
   },
   {
    "duration": 297,
    "start_time": "2021-12-10T04:52:26.532Z"
   },
   {
    "duration": 12,
    "start_time": "2021-12-10T04:52:26.832Z"
   },
   {
    "duration": 34,
    "start_time": "2021-12-10T04:52:26.849Z"
   },
   {
    "duration": 604,
    "start_time": "2021-12-10T04:52:26.886Z"
   },
   {
    "duration": 136,
    "start_time": "2021-12-10T04:52:27.493Z"
   },
   {
    "duration": 12,
    "start_time": "2021-12-10T04:52:27.632Z"
   },
   {
    "duration": 108,
    "start_time": "2021-12-10T04:52:27.647Z"
   },
   {
    "duration": 161,
    "start_time": "2021-12-10T04:52:27.768Z"
   },
   {
    "duration": 10,
    "start_time": "2021-12-10T04:52:27.931Z"
   },
   {
    "duration": 12,
    "start_time": "2021-12-10T04:55:12.056Z"
   },
   {
    "duration": 236,
    "start_time": "2021-12-10T04:59:02.400Z"
   },
   {
    "duration": 40,
    "start_time": "2021-12-10T04:59:07.644Z"
   },
   {
    "duration": 38,
    "start_time": "2021-12-10T05:00:35.371Z"
   },
   {
    "duration": 37,
    "start_time": "2021-12-10T05:00:46.202Z"
   },
   {
    "duration": 37,
    "start_time": "2021-12-10T05:00:59.188Z"
   },
   {
    "duration": 39,
    "start_time": "2021-12-10T05:01:02.885Z"
   },
   {
    "duration": 583,
    "start_time": "2021-12-10T05:01:12.842Z"
   },
   {
    "duration": 38,
    "start_time": "2021-12-10T05:01:18.836Z"
   },
   {
    "duration": 39,
    "start_time": "2021-12-10T05:01:37.395Z"
   },
   {
    "duration": 121,
    "start_time": "2021-12-10T05:02:14.233Z"
   },
   {
    "duration": 39,
    "start_time": "2021-12-10T05:03:04.737Z"
   },
   {
    "duration": 39,
    "start_time": "2021-12-10T05:03:11.959Z"
   },
   {
    "duration": 34,
    "start_time": "2021-12-10T05:06:48.488Z"
   },
   {
    "duration": 35,
    "start_time": "2021-12-10T05:06:54.433Z"
   },
   {
    "duration": 272,
    "start_time": "2021-12-10T05:46:03.706Z"
   },
   {
    "duration": 3,
    "start_time": "2021-12-10T05:46:16.589Z"
   },
   {
    "duration": 1139,
    "start_time": "2021-12-10T05:46:16.594Z"
   },
   {
    "duration": 3,
    "start_time": "2021-12-10T05:46:17.735Z"
   },
   {
    "duration": 32,
    "start_time": "2021-12-10T05:46:17.739Z"
   },
   {
    "duration": 234,
    "start_time": "2021-12-10T05:46:17.773Z"
   },
   {
    "duration": 15,
    "start_time": "2021-12-10T05:46:18.008Z"
   },
   {
    "duration": 234,
    "start_time": "2021-12-10T05:46:18.025Z"
   },
   {
    "duration": 6,
    "start_time": "2021-12-10T05:46:18.262Z"
   },
   {
    "duration": 298,
    "start_time": "2021-12-10T05:46:18.271Z"
   },
   {
    "duration": 8,
    "start_time": "2021-12-10T05:46:18.570Z"
   },
   {
    "duration": 301,
    "start_time": "2021-12-10T05:46:18.580Z"
   },
   {
    "duration": 6,
    "start_time": "2021-12-10T05:46:18.883Z"
   },
   {
    "duration": 1164,
    "start_time": "2021-12-10T05:46:18.891Z"
   },
   {
    "duration": 15,
    "start_time": "2021-12-10T05:46:20.056Z"
   },
   {
    "duration": 142,
    "start_time": "2021-12-10T05:46:20.073Z"
   },
   {
    "duration": 8,
    "start_time": "2021-12-10T05:46:20.217Z"
   },
   {
    "duration": 56,
    "start_time": "2021-12-10T05:46:20.227Z"
   },
   {
    "duration": 83,
    "start_time": "2021-12-10T05:46:20.284Z"
   },
   {
    "duration": 6,
    "start_time": "2021-12-10T05:46:20.369Z"
   },
   {
    "duration": 932,
    "start_time": "2021-12-10T05:46:20.377Z"
   },
   {
    "duration": 9,
    "start_time": "2021-12-10T05:46:21.311Z"
   },
   {
    "duration": 320,
    "start_time": "2021-12-10T05:46:21.322Z"
   },
   {
    "duration": 8,
    "start_time": "2021-12-10T05:46:21.645Z"
   },
   {
    "duration": 34,
    "start_time": "2021-12-10T05:46:21.655Z"
   },
   {
    "duration": 432,
    "start_time": "2021-12-10T05:46:21.690Z"
   },
   {
    "duration": 138,
    "start_time": "2021-12-10T05:46:22.124Z"
   },
   {
    "duration": 6,
    "start_time": "2021-12-10T05:46:22.264Z"
   },
   {
    "duration": 63,
    "start_time": "2021-12-10T05:46:22.272Z"
   },
   {
    "duration": 63,
    "start_time": "2021-12-10T05:46:22.337Z"
   },
   {
    "duration": 197,
    "start_time": "2021-12-10T05:46:22.401Z"
   },
   {
    "duration": 8,
    "start_time": "2021-12-10T05:46:22.599Z"
   },
   {
    "duration": 158,
    "start_time": "2021-12-10T05:46:49.090Z"
   },
   {
    "duration": 7,
    "start_time": "2021-12-10T05:46:50.607Z"
   },
   {
    "duration": 144,
    "start_time": "2021-12-10T05:47:08.347Z"
   },
   {
    "duration": 6,
    "start_time": "2021-12-10T05:47:10.079Z"
   }
  ],
  "colab": {
   "name": "AdvancedSQLProjectTemplate_edited_upd.ipynb",
   "provenance": []
  },
  "kernelspec": {
   "display_name": "Python 3",
   "language": "python",
   "name": "python3"
  },
  "language_info": {
   "codemirror_mode": {
    "name": "ipython",
    "version": 3
   },
   "file_extension": ".py",
   "mimetype": "text/x-python",
   "name": "python",
   "nbconvert_exporter": "python",
   "pygments_lexer": "ipython3",
   "version": "3.8.8"
  },
  "toc": {
   "base_numbering": 1,
   "nav_menu": {},
   "number_sections": true,
   "sideBar": true,
   "skip_h1_title": true,
   "title_cell": "Table of Contents",
   "title_sidebar": "Contents",
   "toc_cell": false,
   "toc_position": {
    "height": "calc(100% - 180px)",
    "left": "10px",
    "top": "150px",
    "width": "270.390625px"
   },
   "toc_section_display": true,
   "toc_window_display": true
  }
 },
 "nbformat": 4,
 "nbformat_minor": 1
}
