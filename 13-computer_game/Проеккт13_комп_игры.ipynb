{
 "cells": [
  {
   "cell_type": "markdown",
   "metadata": {},
   "source": [
    " # ПРОЕКТНАЯ РАБОТА"
   ]
  },
  {
   "cell_type": "markdown",
   "metadata": {},
   "source": [
    "ЗАКАЗЧИК: Интернет-магазин «Стримчик», который продаёт по всему миру компьютерные игры."
   ]
  },
  {
   "cell_type": "markdown",
   "metadata": {},
   "source": [
    "ЦЕЛЬ: Выявить определяющие успешность игры закономерности. что позволит сделать ставку на потенциально популярный продукт и спланировать рекламные кампании."
   ]
  },
  {
   "cell_type": "markdown",
   "metadata": {},
   "source": [
    "ДАННЫЕ: Данные до 2016 года. Представим, что сейчас декабрь 2016 г., и вы планируете кампанию на 2017-й. "
   ]
  },
  {
   "cell_type": "markdown",
   "metadata": {},
   "source": [
    "ОПИСАНИЕ ДАННЫХ: \n",
    "\n",
    "- Name — название игры\n",
    "- Platform — платформа\n",
    "- Year_of_Release — год выпуска\n",
    "- Genre — жанр игры\n",
    "- NA_sales — продажи в Северной Америке (миллионы проданных копий)\n",
    "- EU_sales — продажи в Европе (миллионы проданных копий)\n",
    "- JP_sales — продажи в Японии (миллионы проданных копий)\n",
    "- Other_sales — продажи в других странах (миллионы проданных копий)\n",
    "- Critic_Score — оценка критиков (максимум 100)\n",
    "- User_Score — оценка пользователей (максимум 10)\n",
    "- Rating — рейтинг от организации ESRB (англ. Entertainment Software Rating Board). Эта ассоциация определяет рейтинг компьютерных игр и присваивает им подходящую возрастную категорию.\n",
    "\n",
    "Данные за 2016 год могут быть неполными."
   ]
  },
  {
   "cell_type": "markdown",
   "metadata": {},
   "source": [
    "## Загрузка данных и подготовка их к анализу."
   ]
  },
  {
   "cell_type": "markdown",
   "metadata": {},
   "source": [
    "###  *Загрузить данные.*"
   ]
  },
  {
   "cell_type": "code",
   "execution_count": 1,
   "metadata": {},
   "outputs": [],
   "source": [
    "#импорт библиотек\n",
    "\n",
    "import pandas as pd\n",
    "import datetime as dt\n",
    "import numpy as np\n",
    "from datetime import datetime, timedelta\n",
    "from matplotlib import pyplot as plt\n",
    "import seaborn as sns\n",
    "from scipy import stats as st\n",
    "import numpy as np\n",
    "import math\n",
    "import scipy.stats as stats\n"
   ]
  },
  {
   "cell_type": "code",
   "execution_count": 2,
   "metadata": {},
   "outputs": [],
   "source": [
    "#чтение файлов с данными и сохранение в соответствующую переменную\n",
    "data = pd.read_csv('/datasets/games.csv') "
   ]
  },
  {
   "cell_type": "code",
   "execution_count": 3,
   "metadata": {},
   "outputs": [
    {
     "data": {
      "text/html": [
       "<div>\n",
       "<style scoped>\n",
       "    .dataframe tbody tr th:only-of-type {\n",
       "        vertical-align: middle;\n",
       "    }\n",
       "\n",
       "    .dataframe tbody tr th {\n",
       "        vertical-align: top;\n",
       "    }\n",
       "\n",
       "    .dataframe thead th {\n",
       "        text-align: right;\n",
       "    }\n",
       "</style>\n",
       "<table border=\"1\" class=\"dataframe\">\n",
       "  <thead>\n",
       "    <tr style=\"text-align: right;\">\n",
       "      <th></th>\n",
       "      <th>Name</th>\n",
       "      <th>Platform</th>\n",
       "      <th>Year_of_Release</th>\n",
       "      <th>Genre</th>\n",
       "      <th>NA_sales</th>\n",
       "      <th>EU_sales</th>\n",
       "      <th>JP_sales</th>\n",
       "      <th>Other_sales</th>\n",
       "      <th>Critic_Score</th>\n",
       "      <th>User_Score</th>\n",
       "      <th>Rating</th>\n",
       "    </tr>\n",
       "  </thead>\n",
       "  <tbody>\n",
       "    <tr>\n",
       "      <th>0</th>\n",
       "      <td>Wii Sports</td>\n",
       "      <td>Wii</td>\n",
       "      <td>2006.0</td>\n",
       "      <td>Sports</td>\n",
       "      <td>41.36</td>\n",
       "      <td>28.96</td>\n",
       "      <td>3.77</td>\n",
       "      <td>8.45</td>\n",
       "      <td>76.0</td>\n",
       "      <td>8</td>\n",
       "      <td>E</td>\n",
       "    </tr>\n",
       "    <tr>\n",
       "      <th>1</th>\n",
       "      <td>Super Mario Bros.</td>\n",
       "      <td>NES</td>\n",
       "      <td>1985.0</td>\n",
       "      <td>Platform</td>\n",
       "      <td>29.08</td>\n",
       "      <td>3.58</td>\n",
       "      <td>6.81</td>\n",
       "      <td>0.77</td>\n",
       "      <td>NaN</td>\n",
       "      <td>NaN</td>\n",
       "      <td>NaN</td>\n",
       "    </tr>\n",
       "    <tr>\n",
       "      <th>2</th>\n",
       "      <td>Mario Kart Wii</td>\n",
       "      <td>Wii</td>\n",
       "      <td>2008.0</td>\n",
       "      <td>Racing</td>\n",
       "      <td>15.68</td>\n",
       "      <td>12.76</td>\n",
       "      <td>3.79</td>\n",
       "      <td>3.29</td>\n",
       "      <td>82.0</td>\n",
       "      <td>8.3</td>\n",
       "      <td>E</td>\n",
       "    </tr>\n",
       "    <tr>\n",
       "      <th>3</th>\n",
       "      <td>Wii Sports Resort</td>\n",
       "      <td>Wii</td>\n",
       "      <td>2009.0</td>\n",
       "      <td>Sports</td>\n",
       "      <td>15.61</td>\n",
       "      <td>10.93</td>\n",
       "      <td>3.28</td>\n",
       "      <td>2.95</td>\n",
       "      <td>80.0</td>\n",
       "      <td>8</td>\n",
       "      <td>E</td>\n",
       "    </tr>\n",
       "    <tr>\n",
       "      <th>4</th>\n",
       "      <td>Pokemon Red/Pokemon Blue</td>\n",
       "      <td>GB</td>\n",
       "      <td>1996.0</td>\n",
       "      <td>Role-Playing</td>\n",
       "      <td>11.27</td>\n",
       "      <td>8.89</td>\n",
       "      <td>10.22</td>\n",
       "      <td>1.00</td>\n",
       "      <td>NaN</td>\n",
       "      <td>NaN</td>\n",
       "      <td>NaN</td>\n",
       "    </tr>\n",
       "  </tbody>\n",
       "</table>\n",
       "</div>"
      ],
      "text/plain": [
       "                       Name Platform  Year_of_Release         Genre  NA_sales  \\\n",
       "0                Wii Sports      Wii           2006.0        Sports     41.36   \n",
       "1         Super Mario Bros.      NES           1985.0      Platform     29.08   \n",
       "2            Mario Kart Wii      Wii           2008.0        Racing     15.68   \n",
       "3         Wii Sports Resort      Wii           2009.0        Sports     15.61   \n",
       "4  Pokemon Red/Pokemon Blue       GB           1996.0  Role-Playing     11.27   \n",
       "\n",
       "   EU_sales  JP_sales  Other_sales  Critic_Score User_Score Rating  \n",
       "0     28.96      3.77         8.45          76.0          8      E  \n",
       "1      3.58      6.81         0.77           NaN        NaN    NaN  \n",
       "2     12.76      3.79         3.29          82.0        8.3      E  \n",
       "3     10.93      3.28         2.95          80.0          8      E  \n",
       "4      8.89     10.22         1.00           NaN        NaN    NaN  "
      ]
     },
     "execution_count": 3,
     "metadata": {},
     "output_type": "execute_result"
    }
   ],
   "source": [
    "data.head()"
   ]
  },
  {
   "cell_type": "markdown",
   "metadata": {},
   "source": [
    "### Замена названия столбцов."
   ]
  },
  {
   "cell_type": "code",
   "execution_count": 4,
   "metadata": {},
   "outputs": [],
   "source": [
    "# приведем названия столбцов к нижнему регистру\n",
    "data.columns = map(str.lower, data.columns)"
   ]
  },
  {
   "cell_type": "code",
   "execution_count": 5,
   "metadata": {},
   "outputs": [
    {
     "data": {
      "text/plain": [
       "Index(['name', 'platform', 'year_of_release', 'genre', 'na_sales', 'eu_sales',\n",
       "       'jp_sales', 'other_sales', 'critic_score', 'user_score', 'rating'],\n",
       "      dtype='object')"
      ]
     },
     "execution_count": 5,
     "metadata": {},
     "output_type": "execute_result"
    }
   ],
   "source": [
    "data.columns"
   ]
  },
  {
   "cell_type": "markdown",
   "metadata": {},
   "source": [
    "###  *Проверка типа данных.*"
   ]
  },
  {
   "cell_type": "code",
   "execution_count": 6,
   "metadata": {},
   "outputs": [
    {
     "name": "stdout",
     "output_type": "stream",
     "text": [
      "<class 'pandas.core.frame.DataFrame'>\n",
      "RangeIndex: 16715 entries, 0 to 16714\n",
      "Data columns (total 11 columns):\n",
      " #   Column           Non-Null Count  Dtype  \n",
      "---  ------           --------------  -----  \n",
      " 0   name             16713 non-null  object \n",
      " 1   platform         16715 non-null  object \n",
      " 2   year_of_release  16446 non-null  float64\n",
      " 3   genre            16713 non-null  object \n",
      " 4   na_sales         16715 non-null  float64\n",
      " 5   eu_sales         16715 non-null  float64\n",
      " 6   jp_sales         16715 non-null  float64\n",
      " 7   other_sales      16715 non-null  float64\n",
      " 8   critic_score     8137 non-null   float64\n",
      " 9   user_score       10014 non-null  object \n",
      " 10  rating           9949 non-null   object \n",
      "dtypes: float64(6), object(5)\n",
      "memory usage: 1.4+ MB\n"
     ]
    }
   ],
   "source": [
    "data.info()"
   ]
  },
  {
   "cell_type": "markdown",
   "metadata": {},
   "source": [
    "#### Анализируя данные и тип столбца пришли к выводу, что необходимо преобразовать данные в нужные типы по следующим столбцам:\n",
    "\n",
    "- year_of_release (год выпуска) перевести в тип data\n",
    "- user_score (оценка пользователей (максимум 10)) - в тип float64\n"
   ]
  },
  {
   "cell_type": "code",
   "execution_count": 10,
   "metadata": {},
   "outputs": [
    {
     "data": {
      "text/plain": [
       "dtype('float64')"
      ]
     },
     "execution_count": 10,
     "metadata": {},
     "output_type": "execute_result"
    }
   ],
   "source": [
    "# # ещё раз посмотрим, что data['year_of_release'] у нас float\n",
    "\n",
    "data['year_of_release'].dtypes"
   ]
  },
  {
   "cell_type": "code",
   "execution_count": 88,
   "metadata": {},
   "outputs": [],
   "source": [
    "# # удалим записи у которых в 'year_of_release' пусто (без этого конвертация в int будет невозможна)\n",
    "# # \n",
    "# # если бы у нас была какая-то хорошая методика заполнения пропусков - заполнили бы года. Но в нашем случае только удаление.\n",
    "\n",
    "data.dropna(subset=['year_of_release'], inplace=True)"
   ]
  },
  {
   "cell_type": "code",
   "execution_count": 89,
   "metadata": {},
   "outputs": [],
   "source": [
    "# # приводим к int\n",
    "\n",
    "data['year_of_release'] = data['year_of_release'].astype('int')"
   ]
  },
  {
   "cell_type": "code",
   "execution_count": 90,
   "metadata": {},
   "outputs": [
    {
     "data": {
      "text/plain": [
       "dtype('int64')"
      ]
     },
     "execution_count": 90,
     "metadata": {},
     "output_type": "execute_result"
    }
   ],
   "source": [
    "# # видим, что data['year_of_release'] теперь int\n",
    "\n",
    "data['year_of_release'].dtypes"
   ]
  },
  {
   "cell_type": "code",
   "execution_count": 91,
   "metadata": {},
   "outputs": [
    {
     "data": {
      "text/html": [
       "<div>\n",
       "<style scoped>\n",
       "    .dataframe tbody tr th:only-of-type {\n",
       "        vertical-align: middle;\n",
       "    }\n",
       "\n",
       "    .dataframe tbody tr th {\n",
       "        vertical-align: top;\n",
       "    }\n",
       "\n",
       "    .dataframe thead th {\n",
       "        text-align: right;\n",
       "    }\n",
       "</style>\n",
       "<table border=\"1\" class=\"dataframe\">\n",
       "  <thead>\n",
       "    <tr style=\"text-align: right;\">\n",
       "      <th></th>\n",
       "      <th>name</th>\n",
       "      <th>platform</th>\n",
       "      <th>year_of_release</th>\n",
       "      <th>genre</th>\n",
       "      <th>na_sales</th>\n",
       "      <th>eu_sales</th>\n",
       "      <th>jp_sales</th>\n",
       "      <th>other_sales</th>\n",
       "      <th>critic_score</th>\n",
       "      <th>user_score</th>\n",
       "      <th>rating</th>\n",
       "      <th>total_sales</th>\n",
       "    </tr>\n",
       "  </thead>\n",
       "  <tbody>\n",
       "    <tr>\n",
       "      <th>0</th>\n",
       "      <td>Wii Sports</td>\n",
       "      <td>Wii</td>\n",
       "      <td>2006</td>\n",
       "      <td>Sports</td>\n",
       "      <td>41.36</td>\n",
       "      <td>28.96</td>\n",
       "      <td>3.77</td>\n",
       "      <td>8.45</td>\n",
       "      <td>76.0</td>\n",
       "      <td>8.0</td>\n",
       "      <td>E</td>\n",
       "      <td>82.54</td>\n",
       "    </tr>\n",
       "    <tr>\n",
       "      <th>1</th>\n",
       "      <td>Super Mario Bros.</td>\n",
       "      <td>NES</td>\n",
       "      <td>1985</td>\n",
       "      <td>Platform</td>\n",
       "      <td>29.08</td>\n",
       "      <td>3.58</td>\n",
       "      <td>6.81</td>\n",
       "      <td>0.77</td>\n",
       "      <td>nan</td>\n",
       "      <td>nan</td>\n",
       "      <td>nan</td>\n",
       "      <td>40.24</td>\n",
       "    </tr>\n",
       "    <tr>\n",
       "      <th>2</th>\n",
       "      <td>Mario Kart Wii</td>\n",
       "      <td>Wii</td>\n",
       "      <td>2008</td>\n",
       "      <td>Racing</td>\n",
       "      <td>15.68</td>\n",
       "      <td>12.76</td>\n",
       "      <td>3.79</td>\n",
       "      <td>3.29</td>\n",
       "      <td>82.0</td>\n",
       "      <td>8.3</td>\n",
       "      <td>E</td>\n",
       "      <td>35.52</td>\n",
       "    </tr>\n",
       "    <tr>\n",
       "      <th>3</th>\n",
       "      <td>Wii Sports Resort</td>\n",
       "      <td>Wii</td>\n",
       "      <td>2009</td>\n",
       "      <td>Sports</td>\n",
       "      <td>15.61</td>\n",
       "      <td>10.93</td>\n",
       "      <td>3.28</td>\n",
       "      <td>2.95</td>\n",
       "      <td>80.0</td>\n",
       "      <td>8.0</td>\n",
       "      <td>E</td>\n",
       "      <td>32.77</td>\n",
       "    </tr>\n",
       "    <tr>\n",
       "      <th>4</th>\n",
       "      <td>Pokemon Red/Pokemon Blue</td>\n",
       "      <td>GB</td>\n",
       "      <td>1996</td>\n",
       "      <td>Role-Playing</td>\n",
       "      <td>11.27</td>\n",
       "      <td>8.89</td>\n",
       "      <td>10.22</td>\n",
       "      <td>1.00</td>\n",
       "      <td>nan</td>\n",
       "      <td>nan</td>\n",
       "      <td>nan</td>\n",
       "      <td>31.38</td>\n",
       "    </tr>\n",
       "  </tbody>\n",
       "</table>\n",
       "</div>"
      ],
      "text/plain": [
       "                       name platform  year_of_release         genre  na_sales  \\\n",
       "0                Wii Sports      Wii             2006        Sports     41.36   \n",
       "1         Super Mario Bros.      NES             1985      Platform     29.08   \n",
       "2            Mario Kart Wii      Wii             2008        Racing     15.68   \n",
       "3         Wii Sports Resort      Wii             2009        Sports     15.61   \n",
       "4  Pokemon Red/Pokemon Blue       GB             1996  Role-Playing     11.27   \n",
       "\n",
       "   eu_sales  jp_sales  other_sales critic_score user_score rating  total_sales  \n",
       "0     28.96      3.77         8.45         76.0        8.0      E        82.54  \n",
       "1      3.58      6.81         0.77          nan        nan    nan        40.24  \n",
       "2     12.76      3.79         3.29         82.0        8.3      E        35.52  \n",
       "3     10.93      3.28         2.95         80.0        8.0      E        32.77  \n",
       "4      8.89     10.22         1.00          nan        nan    nan        31.38  "
      ]
     },
     "execution_count": 91,
     "metadata": {},
     "output_type": "execute_result"
    }
   ],
   "source": [
    "data.head()"
   ]
  },
  {
   "cell_type": "markdown",
   "metadata": {},
   "source": [
    "##### Обратим внимание на аббревиатуру 'tbd' в столбце с оценкой пользователей. Отдельно разберем это значение."
   ]
  },
  {
   "cell_type": "code",
   "execution_count": 16,
   "metadata": {},
   "outputs": [
    {
     "data": {
      "text/plain": [
       "array(['8', nan, '8.3', '8.5', '6.6', '8.4', '8.6', '7.7', '6.3', '7.4',\n",
       "       '8.2', '9', '7.9', '8.1', '8.7', '7.1', '3.4', '5.3', '4.8', '3.2',\n",
       "       '8.9', '6.4', '7.8', '7.5', '2.6', '7.2', '9.2', '7', '7.3', '4.3',\n",
       "       '7.6', '5.7', '5', '9.1', '6.5', 'tbd', '8.8', '6.9', '9.4', '6.8',\n",
       "       '6.1', '6.7', '5.4', '4', '4.9', '4.5', '9.3', '6.2', '4.2', '6',\n",
       "       '3.7', '4.1', '5.8', '5.6', '5.5', '4.4', '4.6', '5.9', '3.9',\n",
       "       '3.1', '2.9', '5.2', '3.3', '4.7', '5.1', '3.5', '2.5', '1.9', '3',\n",
       "       '2.7', '2.2', '2', '9.5', '2.1', '3.6', '2.8', '1.8', '3.8', '0',\n",
       "       '1.6', '9.6', '2.4', '1.7', '1.1', '0.3', '1.5', '0.7', '1.2',\n",
       "       '2.3', '0.5', '1.3', '0.2', '0.6', '1.4', '0.9', '1', '9.7'],\n",
       "      dtype=object)"
      ]
     },
     "execution_count": 16,
     "metadata": {},
     "output_type": "execute_result"
    }
   ],
   "source": [
    "data['user_score'].unique()"
   ]
  },
  {
   "cell_type": "markdown",
   "metadata": {},
   "source": [
    "  Аббревиатура 'tbd' - to be determined (перевод: предстоит определить). Используется, если какая-то информация еще не определена или решение по вопросу не принято. Акроним служит для отметки неясностей или пропусков, которые надо заполнить, в информации требований. То есть пользователь просто не знал как оценить и оставил этот пункт без ответа, поставив значение 'tbd', оставив возможность вернуться к этому вопросу. \n",
    "  Учитывая наши условия: мы не знаем вернулся ли пользователь к заполнению этого показателя или нет, мы имеем готовые данные, поэтому, в данном случае, можно принять значение 'tbd' за \"заглушку\" пропусков. "
   ]
  },
  {
   "cell_type": "markdown",
   "metadata": {},
   "source": [
    "Подсчитаем количество строк в таблице с указанием оценки пользователя - 'tbd'."
   ]
  },
  {
   "cell_type": "code",
   "execution_count": 17,
   "metadata": {},
   "outputs": [
    {
     "data": {
      "text/plain": [
       "2424"
      ]
     },
     "execution_count": 17,
     "metadata": {},
     "output_type": "execute_result"
    }
   ],
   "source": [
    "data.loc[data['user_score'] == 'tbd', 'user_score'].count()"
   ]
  },
  {
   "cell_type": "markdown",
   "metadata": {},
   "source": [
    "Количество строк большое, удалять - опасно, поэтому заменим его \"заглушкой\" - nan: такого рейтинга нет, и это значение не будет \"портить\" нам общий тип данных столбца."
   ]
  },
  {
   "cell_type": "code",
   "execution_count": 18,
   "metadata": {},
   "outputs": [],
   "source": [
    "data['user_score'] = data['user_score'].replace('tbd', np.nan)\n",
    "data['user_score'] = data['user_score'].astype(float)"
   ]
  },
  {
   "cell_type": "code",
   "execution_count": 19,
   "metadata": {},
   "outputs": [
    {
     "data": {
      "text/plain": [
       "0"
      ]
     },
     "execution_count": 19,
     "metadata": {},
     "output_type": "execute_result"
    }
   ],
   "source": [
    "#проверка\n",
    "data.loc[data['user_score'] == 'nan', 'user_score'].count()"
   ]
  },
  {
   "cell_type": "code",
   "execution_count": 20,
   "metadata": {},
   "outputs": [],
   "source": [
    "#преобразование типа оценка пользователей в числовой\n",
    "\n",
    "data['user_score'] = pd.to_numeric(data['user_score'])\n",
    "                                   #, errors='coerce') "
   ]
  },
  {
   "cell_type": "code",
   "execution_count": 21,
   "metadata": {},
   "outputs": [
    {
     "name": "stdout",
     "output_type": "stream",
     "text": [
      "<class 'pandas.core.frame.DataFrame'>\n",
      "RangeIndex: 16715 entries, 0 to 16714\n",
      "Data columns (total 11 columns):\n",
      " #   Column           Non-Null Count  Dtype  \n",
      "---  ------           --------------  -----  \n",
      " 0   name             16713 non-null  object \n",
      " 1   platform         16715 non-null  object \n",
      " 2   year_of_release  16446 non-null  float64\n",
      " 3   genre            16713 non-null  object \n",
      " 4   na_sales         16715 non-null  float64\n",
      " 5   eu_sales         16715 non-null  float64\n",
      " 6   jp_sales         16715 non-null  float64\n",
      " 7   other_sales      16715 non-null  float64\n",
      " 8   critic_score     8137 non-null   float64\n",
      " 9   user_score       7590 non-null   float64\n",
      " 10  rating           9949 non-null   object \n",
      "dtypes: float64(7), object(4)\n",
      "memory usage: 1.4+ MB\n"
     ]
    }
   ],
   "source": [
    "data.info()"
   ]
  },
  {
   "cell_type": "markdown",
   "metadata": {},
   "source": [
    "### Обработка пропусков"
   ]
  },
  {
   "cell_type": "markdown",
   "metadata": {},
   "source": [
    "Проверим наличие пропусков и в каких столбцах. Если доля пропусков от 5-15%% - их необходимо проработать.  \n"
   ]
  },
  {
   "cell_type": "code",
   "execution_count": 22,
   "metadata": {},
   "outputs": [
    {
     "data": {
      "text/html": [
       "<style  type=\"text/css\" >\n",
       "#T_8d26e_row0_col0,#T_8d26e_row1_col0,#T_8d26e_row3_col0,#T_8d26e_row4_col0,#T_8d26e_row5_col0,#T_8d26e_row6_col0,#T_8d26e_row7_col0{\n",
       "            background-color:  #3b4cc0;\n",
       "            color:  #f1f1f1;\n",
       "        }#T_8d26e_row2_col0{\n",
       "            background-color:  #4358cb;\n",
       "            color:  #f1f1f1;\n",
       "        }#T_8d26e_row8_col0{\n",
       "            background-color:  #ca3b37;\n",
       "            color:  #f1f1f1;\n",
       "        }#T_8d26e_row9_col0{\n",
       "            background-color:  #b40426;\n",
       "            color:  #f1f1f1;\n",
       "        }#T_8d26e_row10_col0{\n",
       "            background-color:  #f59d7e;\n",
       "            color:  #000000;\n",
       "        }</style><table id=\"T_8d26e_\" ><thead>    <tr>        <th class=\"blank level0\" ></th>        <th class=\"col_heading level0 col0\" >0</th>    </tr></thead><tbody>\n",
       "                <tr>\n",
       "                        <th id=\"T_8d26e_level0_row0\" class=\"row_heading level0 row0\" >name</th>\n",
       "                        <td id=\"T_8d26e_row0_col0\" class=\"data row0 col0\" >0.010000</td>\n",
       "            </tr>\n",
       "            <tr>\n",
       "                        <th id=\"T_8d26e_level0_row1\" class=\"row_heading level0 row1\" >platform</th>\n",
       "                        <td id=\"T_8d26e_row1_col0\" class=\"data row1 col0\" >0.000000</td>\n",
       "            </tr>\n",
       "            <tr>\n",
       "                        <th id=\"T_8d26e_level0_row2\" class=\"row_heading level0 row2\" >year_of_release</th>\n",
       "                        <td id=\"T_8d26e_row2_col0\" class=\"data row2 col0\" >1.610000</td>\n",
       "            </tr>\n",
       "            <tr>\n",
       "                        <th id=\"T_8d26e_level0_row3\" class=\"row_heading level0 row3\" >genre</th>\n",
       "                        <td id=\"T_8d26e_row3_col0\" class=\"data row3 col0\" >0.010000</td>\n",
       "            </tr>\n",
       "            <tr>\n",
       "                        <th id=\"T_8d26e_level0_row4\" class=\"row_heading level0 row4\" >na_sales</th>\n",
       "                        <td id=\"T_8d26e_row4_col0\" class=\"data row4 col0\" >0.000000</td>\n",
       "            </tr>\n",
       "            <tr>\n",
       "                        <th id=\"T_8d26e_level0_row5\" class=\"row_heading level0 row5\" >eu_sales</th>\n",
       "                        <td id=\"T_8d26e_row5_col0\" class=\"data row5 col0\" >0.000000</td>\n",
       "            </tr>\n",
       "            <tr>\n",
       "                        <th id=\"T_8d26e_level0_row6\" class=\"row_heading level0 row6\" >jp_sales</th>\n",
       "                        <td id=\"T_8d26e_row6_col0\" class=\"data row6 col0\" >0.000000</td>\n",
       "            </tr>\n",
       "            <tr>\n",
       "                        <th id=\"T_8d26e_level0_row7\" class=\"row_heading level0 row7\" >other_sales</th>\n",
       "                        <td id=\"T_8d26e_row7_col0\" class=\"data row7 col0\" >0.000000</td>\n",
       "            </tr>\n",
       "            <tr>\n",
       "                        <th id=\"T_8d26e_level0_row8\" class=\"row_heading level0 row8\" >critic_score</th>\n",
       "                        <td id=\"T_8d26e_row8_col0\" class=\"data row8 col0\" >51.320000</td>\n",
       "            </tr>\n",
       "            <tr>\n",
       "                        <th id=\"T_8d26e_level0_row9\" class=\"row_heading level0 row9\" >user_score</th>\n",
       "                        <td id=\"T_8d26e_row9_col0\" class=\"data row9 col0\" >54.590000</td>\n",
       "            </tr>\n",
       "            <tr>\n",
       "                        <th id=\"T_8d26e_level0_row10\" class=\"row_heading level0 row10\" >rating</th>\n",
       "                        <td id=\"T_8d26e_row10_col0\" class=\"data row10 col0\" >40.480000</td>\n",
       "            </tr>\n",
       "    </tbody></table>"
      ],
      "text/plain": [
       "<pandas.io.formats.style.Styler at 0x7f399ae5ae50>"
      ]
     },
     "execution_count": 22,
     "metadata": {},
     "output_type": "execute_result"
    }
   ],
   "source": [
    "pd.DataFrame(round((data.isna().mean()*100),2)).style.background_gradient('coolwarm')"
   ]
  },
  {
   "cell_type": "code",
   "execution_count": 23,
   "metadata": {},
   "outputs": [],
   "source": [
    "data.loc[data['critic_score'].isna(), 'critic_score'] = 'nan'"
   ]
  },
  {
   "cell_type": "code",
   "execution_count": 24,
   "metadata": {},
   "outputs": [],
   "source": [
    "data.loc[data['user_score'].isna(), 'user_score'] = 'nan'"
   ]
  },
  {
   "cell_type": "code",
   "execution_count": 25,
   "metadata": {},
   "outputs": [],
   "source": [
    "data.loc[data['rating'].isna(), 'rating'] = 'nan'"
   ]
  },
  {
   "cell_type": "code",
   "execution_count": 26,
   "metadata": {},
   "outputs": [
    {
     "data": {
      "text/html": [
       "<style  type=\"text/css\" >\n",
       "#T_433a9_row0_col0,#T_433a9_row3_col0{\n",
       "            background-color:  #3c4ec2;\n",
       "            color:  #f1f1f1;\n",
       "        }#T_433a9_row1_col0,#T_433a9_row4_col0,#T_433a9_row5_col0,#T_433a9_row6_col0,#T_433a9_row7_col0,#T_433a9_row8_col0,#T_433a9_row9_col0,#T_433a9_row10_col0{\n",
       "            background-color:  #3b4cc0;\n",
       "            color:  #f1f1f1;\n",
       "        }#T_433a9_row2_col0{\n",
       "            background-color:  #b40426;\n",
       "            color:  #f1f1f1;\n",
       "        }</style><table id=\"T_433a9_\" ><thead>    <tr>        <th class=\"blank level0\" ></th>        <th class=\"col_heading level0 col0\" >0</th>    </tr></thead><tbody>\n",
       "                <tr>\n",
       "                        <th id=\"T_433a9_level0_row0\" class=\"row_heading level0 row0\" >name</th>\n",
       "                        <td id=\"T_433a9_row0_col0\" class=\"data row0 col0\" >0.010000</td>\n",
       "            </tr>\n",
       "            <tr>\n",
       "                        <th id=\"T_433a9_level0_row1\" class=\"row_heading level0 row1\" >platform</th>\n",
       "                        <td id=\"T_433a9_row1_col0\" class=\"data row1 col0\" >0.000000</td>\n",
       "            </tr>\n",
       "            <tr>\n",
       "                        <th id=\"T_433a9_level0_row2\" class=\"row_heading level0 row2\" >year_of_release</th>\n",
       "                        <td id=\"T_433a9_row2_col0\" class=\"data row2 col0\" >1.610000</td>\n",
       "            </tr>\n",
       "            <tr>\n",
       "                        <th id=\"T_433a9_level0_row3\" class=\"row_heading level0 row3\" >genre</th>\n",
       "                        <td id=\"T_433a9_row3_col0\" class=\"data row3 col0\" >0.010000</td>\n",
       "            </tr>\n",
       "            <tr>\n",
       "                        <th id=\"T_433a9_level0_row4\" class=\"row_heading level0 row4\" >na_sales</th>\n",
       "                        <td id=\"T_433a9_row4_col0\" class=\"data row4 col0\" >0.000000</td>\n",
       "            </tr>\n",
       "            <tr>\n",
       "                        <th id=\"T_433a9_level0_row5\" class=\"row_heading level0 row5\" >eu_sales</th>\n",
       "                        <td id=\"T_433a9_row5_col0\" class=\"data row5 col0\" >0.000000</td>\n",
       "            </tr>\n",
       "            <tr>\n",
       "                        <th id=\"T_433a9_level0_row6\" class=\"row_heading level0 row6\" >jp_sales</th>\n",
       "                        <td id=\"T_433a9_row6_col0\" class=\"data row6 col0\" >0.000000</td>\n",
       "            </tr>\n",
       "            <tr>\n",
       "                        <th id=\"T_433a9_level0_row7\" class=\"row_heading level0 row7\" >other_sales</th>\n",
       "                        <td id=\"T_433a9_row7_col0\" class=\"data row7 col0\" >0.000000</td>\n",
       "            </tr>\n",
       "            <tr>\n",
       "                        <th id=\"T_433a9_level0_row8\" class=\"row_heading level0 row8\" >critic_score</th>\n",
       "                        <td id=\"T_433a9_row8_col0\" class=\"data row8 col0\" >0.000000</td>\n",
       "            </tr>\n",
       "            <tr>\n",
       "                        <th id=\"T_433a9_level0_row9\" class=\"row_heading level0 row9\" >user_score</th>\n",
       "                        <td id=\"T_433a9_row9_col0\" class=\"data row9 col0\" >0.000000</td>\n",
       "            </tr>\n",
       "            <tr>\n",
       "                        <th id=\"T_433a9_level0_row10\" class=\"row_heading level0 row10\" >rating</th>\n",
       "                        <td id=\"T_433a9_row10_col0\" class=\"data row10 col0\" >0.000000</td>\n",
       "            </tr>\n",
       "    </tbody></table>"
      ],
      "text/plain": [
       "<pandas.io.formats.style.Styler at 0x7f399ade4610>"
      ]
     },
     "execution_count": 26,
     "metadata": {},
     "output_type": "execute_result"
    }
   ],
   "source": [
    "pd.DataFrame(round((data.isna().mean()*100),2)).style.background_gradient('coolwarm')"
   ]
  },
  {
   "cell_type": "markdown",
   "metadata": {},
   "source": [
    "Обнаружено большое количество пропусков в столбцах:\n",
    "- critic_score (оценка критиков (максимум 100))\n",
    "- user_score (оценка пользователей (максимум 10))\n",
    "- rating (рейтинг от организации ESRB)\n",
    "\n",
    "Скорее всего причина пропусков - не заполнение данных показателей. Количество пропусков большое - удалять опасно, поэтому решили заменить \"заглушкой\" nan."
   ]
  },
  {
   "cell_type": "markdown",
   "metadata": {},
   "source": [
    "### Обработка дубликатов"
   ]
  },
  {
   "cell_type": "code",
   "execution_count": 27,
   "metadata": {},
   "outputs": [
    {
     "data": {
      "text/plain": [
       "0"
      ]
     },
     "execution_count": 27,
     "metadata": {},
     "output_type": "execute_result"
    }
   ],
   "source": [
    "#подсчет явных дубликатов\n",
    "data.duplicated().sum()"
   ]
  },
  {
   "cell_type": "markdown",
   "metadata": {},
   "source": [
    "Проверка показала, что в данных отсутствуют явные дубликаты."
   ]
  },
  {
   "cell_type": "code",
   "execution_count": 28,
   "metadata": {},
   "outputs": [
    {
     "data": {
      "text/plain": [
       "nan     6766\n",
       "E       3990\n",
       "T       2961\n",
       "M       1563\n",
       "E10+    1420\n",
       "EC         8\n",
       "K-A        3\n",
       "RP         3\n",
       "AO         1\n",
       "Name: rating, dtype: int64"
      ]
     },
     "execution_count": 28,
     "metadata": {},
     "output_type": "execute_result"
    }
   ],
   "source": [
    "data['rating'].value_counts()"
   ]
  },
  {
   "cell_type": "code",
   "execution_count": 29,
   "metadata": {},
   "outputs": [
    {
     "data": {
      "text/plain": [
       "PS2     2161\n",
       "DS      2151\n",
       "PS3     1331\n",
       "Wii     1320\n",
       "X360    1262\n",
       "PSP     1209\n",
       "PS      1197\n",
       "PC       974\n",
       "XB       824\n",
       "GBA      822\n",
       "GC       556\n",
       "3DS      520\n",
       "PSV      430\n",
       "PS4      392\n",
       "N64      319\n",
       "XOne     247\n",
       "SNES     239\n",
       "SAT      173\n",
       "WiiU     147\n",
       "2600     133\n",
       "NES       98\n",
       "GB        98\n",
       "DC        52\n",
       "GEN       29\n",
       "NG        12\n",
       "WS         6\n",
       "SCD        6\n",
       "3DO        3\n",
       "TG16       2\n",
       "GG         1\n",
       "PCFX       1\n",
       "Name: platform, dtype: int64"
      ]
     },
     "execution_count": 29,
     "metadata": {},
     "output_type": "execute_result"
    }
   ],
   "source": [
    "data['platform'].value_counts()"
   ]
  },
  {
   "cell_type": "markdown",
   "metadata": {},
   "source": [
    "Проверка категориальных данных столбца 'rating' - так же не выдало ошибок в данных."
   ]
  },
  {
   "cell_type": "markdown",
   "metadata": {},
   "source": [
    "### Суммарные продажи в регионах."
   ]
  },
  {
   "cell_type": "markdown",
   "metadata": {},
   "source": [
    "Посчитаем суммарные продажи во всех регионах и запишим их в отдельный столбец."
   ]
  },
  {
   "cell_type": "code",
   "execution_count": 30,
   "metadata": {},
   "outputs": [],
   "source": [
    "#найдем сумму продаж по всем регионам\n",
    "#data['total_sales'] = data['na_sales'] + data['eu_sales'] + data['jp_sales'] + data['other_sales']"
   ]
  },
  {
   "cell_type": "code",
   "execution_count": 31,
   "metadata": {},
   "outputs": [],
   "source": [
    "data['total_sales'] = \\\n",
    "data[['na_sales','eu_sales','jp_sales', 'other_sales']].sum(axis='columns')"
   ]
  },
  {
   "cell_type": "code",
   "execution_count": 32,
   "metadata": {},
   "outputs": [
    {
     "data": {
      "text/html": [
       "<div>\n",
       "<style scoped>\n",
       "    .dataframe tbody tr th:only-of-type {\n",
       "        vertical-align: middle;\n",
       "    }\n",
       "\n",
       "    .dataframe tbody tr th {\n",
       "        vertical-align: top;\n",
       "    }\n",
       "\n",
       "    .dataframe thead th {\n",
       "        text-align: right;\n",
       "    }\n",
       "</style>\n",
       "<table border=\"1\" class=\"dataframe\">\n",
       "  <thead>\n",
       "    <tr style=\"text-align: right;\">\n",
       "      <th></th>\n",
       "      <th>name</th>\n",
       "      <th>platform</th>\n",
       "      <th>year_of_release</th>\n",
       "      <th>genre</th>\n",
       "      <th>na_sales</th>\n",
       "      <th>eu_sales</th>\n",
       "      <th>jp_sales</th>\n",
       "      <th>other_sales</th>\n",
       "      <th>critic_score</th>\n",
       "      <th>user_score</th>\n",
       "      <th>rating</th>\n",
       "      <th>total_sales</th>\n",
       "    </tr>\n",
       "  </thead>\n",
       "  <tbody>\n",
       "    <tr>\n",
       "      <th>0</th>\n",
       "      <td>Wii Sports</td>\n",
       "      <td>Wii</td>\n",
       "      <td>2006.0</td>\n",
       "      <td>Sports</td>\n",
       "      <td>41.36</td>\n",
       "      <td>28.96</td>\n",
       "      <td>3.77</td>\n",
       "      <td>8.45</td>\n",
       "      <td>76.0</td>\n",
       "      <td>8.0</td>\n",
       "      <td>E</td>\n",
       "      <td>82.54</td>\n",
       "    </tr>\n",
       "    <tr>\n",
       "      <th>1</th>\n",
       "      <td>Super Mario Bros.</td>\n",
       "      <td>NES</td>\n",
       "      <td>1985.0</td>\n",
       "      <td>Platform</td>\n",
       "      <td>29.08</td>\n",
       "      <td>3.58</td>\n",
       "      <td>6.81</td>\n",
       "      <td>0.77</td>\n",
       "      <td>nan</td>\n",
       "      <td>nan</td>\n",
       "      <td>nan</td>\n",
       "      <td>40.24</td>\n",
       "    </tr>\n",
       "    <tr>\n",
       "      <th>2</th>\n",
       "      <td>Mario Kart Wii</td>\n",
       "      <td>Wii</td>\n",
       "      <td>2008.0</td>\n",
       "      <td>Racing</td>\n",
       "      <td>15.68</td>\n",
       "      <td>12.76</td>\n",
       "      <td>3.79</td>\n",
       "      <td>3.29</td>\n",
       "      <td>82.0</td>\n",
       "      <td>8.3</td>\n",
       "      <td>E</td>\n",
       "      <td>35.52</td>\n",
       "    </tr>\n",
       "    <tr>\n",
       "      <th>3</th>\n",
       "      <td>Wii Sports Resort</td>\n",
       "      <td>Wii</td>\n",
       "      <td>2009.0</td>\n",
       "      <td>Sports</td>\n",
       "      <td>15.61</td>\n",
       "      <td>10.93</td>\n",
       "      <td>3.28</td>\n",
       "      <td>2.95</td>\n",
       "      <td>80.0</td>\n",
       "      <td>8.0</td>\n",
       "      <td>E</td>\n",
       "      <td>32.77</td>\n",
       "    </tr>\n",
       "    <tr>\n",
       "      <th>4</th>\n",
       "      <td>Pokemon Red/Pokemon Blue</td>\n",
       "      <td>GB</td>\n",
       "      <td>1996.0</td>\n",
       "      <td>Role-Playing</td>\n",
       "      <td>11.27</td>\n",
       "      <td>8.89</td>\n",
       "      <td>10.22</td>\n",
       "      <td>1.00</td>\n",
       "      <td>nan</td>\n",
       "      <td>nan</td>\n",
       "      <td>nan</td>\n",
       "      <td>31.38</td>\n",
       "    </tr>\n",
       "  </tbody>\n",
       "</table>\n",
       "</div>"
      ],
      "text/plain": [
       "                       name platform  year_of_release         genre  na_sales  \\\n",
       "0                Wii Sports      Wii           2006.0        Sports     41.36   \n",
       "1         Super Mario Bros.      NES           1985.0      Platform     29.08   \n",
       "2            Mario Kart Wii      Wii           2008.0        Racing     15.68   \n",
       "3         Wii Sports Resort      Wii           2009.0        Sports     15.61   \n",
       "4  Pokemon Red/Pokemon Blue       GB           1996.0  Role-Playing     11.27   \n",
       "\n",
       "   eu_sales  jp_sales  other_sales critic_score user_score rating  total_sales  \n",
       "0     28.96      3.77         8.45         76.0        8.0      E        82.54  \n",
       "1      3.58      6.81         0.77          nan        nan    nan        40.24  \n",
       "2     12.76      3.79         3.29         82.0        8.3      E        35.52  \n",
       "3     10.93      3.28         2.95         80.0        8.0      E        32.77  \n",
       "4      8.89     10.22         1.00          nan        nan    nan        31.38  "
      ]
     },
     "execution_count": 32,
     "metadata": {},
     "output_type": "execute_result"
    }
   ],
   "source": [
    "data.head()"
   ]
  },
  {
   "cell_type": "markdown",
   "metadata": {},
   "source": [
    "## Исследовательский анализ данных."
   ]
  },
  {
   "cell_type": "markdown",
   "metadata": {},
   "source": [
    "### Количество игр по годам."
   ]
  },
  {
   "cell_type": "markdown",
   "metadata": {},
   "source": [
    "Посмотрим, сколько игр выпускалось в разные годы. "
   ]
  },
  {
   "cell_type": "code",
   "execution_count": 33,
   "metadata": {},
   "outputs": [
    {
     "data": {
      "text/html": [
       "<div>\n",
       "<style scoped>\n",
       "    .dataframe tbody tr th:only-of-type {\n",
       "        vertical-align: middle;\n",
       "    }\n",
       "\n",
       "    .dataframe tbody tr th {\n",
       "        vertical-align: top;\n",
       "    }\n",
       "\n",
       "    .dataframe thead th {\n",
       "        text-align: right;\n",
       "    }\n",
       "</style>\n",
       "<table border=\"1\" class=\"dataframe\">\n",
       "  <thead>\n",
       "    <tr style=\"text-align: right;\">\n",
       "      <th></th>\n",
       "      <th>name</th>\n",
       "      <th>platform</th>\n",
       "      <th>year_of_release</th>\n",
       "      <th>genre</th>\n",
       "      <th>na_sales</th>\n",
       "      <th>eu_sales</th>\n",
       "      <th>jp_sales</th>\n",
       "      <th>other_sales</th>\n",
       "      <th>critic_score</th>\n",
       "      <th>user_score</th>\n",
       "      <th>rating</th>\n",
       "      <th>total_sales</th>\n",
       "    </tr>\n",
       "  </thead>\n",
       "  <tbody>\n",
       "    <tr>\n",
       "      <th>0</th>\n",
       "      <td>Wii Sports</td>\n",
       "      <td>Wii</td>\n",
       "      <td>2006.0</td>\n",
       "      <td>Sports</td>\n",
       "      <td>41.36</td>\n",
       "      <td>28.96</td>\n",
       "      <td>3.77</td>\n",
       "      <td>8.45</td>\n",
       "      <td>76.0</td>\n",
       "      <td>8.0</td>\n",
       "      <td>E</td>\n",
       "      <td>82.54</td>\n",
       "    </tr>\n",
       "    <tr>\n",
       "      <th>1</th>\n",
       "      <td>Super Mario Bros.</td>\n",
       "      <td>NES</td>\n",
       "      <td>1985.0</td>\n",
       "      <td>Platform</td>\n",
       "      <td>29.08</td>\n",
       "      <td>3.58</td>\n",
       "      <td>6.81</td>\n",
       "      <td>0.77</td>\n",
       "      <td>nan</td>\n",
       "      <td>nan</td>\n",
       "      <td>nan</td>\n",
       "      <td>40.24</td>\n",
       "    </tr>\n",
       "    <tr>\n",
       "      <th>2</th>\n",
       "      <td>Mario Kart Wii</td>\n",
       "      <td>Wii</td>\n",
       "      <td>2008.0</td>\n",
       "      <td>Racing</td>\n",
       "      <td>15.68</td>\n",
       "      <td>12.76</td>\n",
       "      <td>3.79</td>\n",
       "      <td>3.29</td>\n",
       "      <td>82.0</td>\n",
       "      <td>8.3</td>\n",
       "      <td>E</td>\n",
       "      <td>35.52</td>\n",
       "    </tr>\n",
       "    <tr>\n",
       "      <th>3</th>\n",
       "      <td>Wii Sports Resort</td>\n",
       "      <td>Wii</td>\n",
       "      <td>2009.0</td>\n",
       "      <td>Sports</td>\n",
       "      <td>15.61</td>\n",
       "      <td>10.93</td>\n",
       "      <td>3.28</td>\n",
       "      <td>2.95</td>\n",
       "      <td>80.0</td>\n",
       "      <td>8.0</td>\n",
       "      <td>E</td>\n",
       "      <td>32.77</td>\n",
       "    </tr>\n",
       "    <tr>\n",
       "      <th>4</th>\n",
       "      <td>Pokemon Red/Pokemon Blue</td>\n",
       "      <td>GB</td>\n",
       "      <td>1996.0</td>\n",
       "      <td>Role-Playing</td>\n",
       "      <td>11.27</td>\n",
       "      <td>8.89</td>\n",
       "      <td>10.22</td>\n",
       "      <td>1.00</td>\n",
       "      <td>nan</td>\n",
       "      <td>nan</td>\n",
       "      <td>nan</td>\n",
       "      <td>31.38</td>\n",
       "    </tr>\n",
       "  </tbody>\n",
       "</table>\n",
       "</div>"
      ],
      "text/plain": [
       "                       name platform  year_of_release         genre  na_sales  \\\n",
       "0                Wii Sports      Wii           2006.0        Sports     41.36   \n",
       "1         Super Mario Bros.      NES           1985.0      Platform     29.08   \n",
       "2            Mario Kart Wii      Wii           2008.0        Racing     15.68   \n",
       "3         Wii Sports Resort      Wii           2009.0        Sports     15.61   \n",
       "4  Pokemon Red/Pokemon Blue       GB           1996.0  Role-Playing     11.27   \n",
       "\n",
       "   eu_sales  jp_sales  other_sales critic_score user_score rating  total_sales  \n",
       "0     28.96      3.77         8.45         76.0        8.0      E        82.54  \n",
       "1      3.58      6.81         0.77          nan        nan    nan        40.24  \n",
       "2     12.76      3.79         3.29         82.0        8.3      E        35.52  \n",
       "3     10.93      3.28         2.95         80.0        8.0      E        32.77  \n",
       "4      8.89     10.22         1.00          nan        nan    nan        31.38  "
      ]
     },
     "execution_count": 33,
     "metadata": {},
     "output_type": "execute_result"
    }
   ],
   "source": [
    "data.head()"
   ]
  },
  {
   "cell_type": "code",
   "execution_count": 34,
   "metadata": {},
   "outputs": [
    {
     "data": {
      "text/html": [
       "<div>\n",
       "<style scoped>\n",
       "    .dataframe tbody tr th:only-of-type {\n",
       "        vertical-align: middle;\n",
       "    }\n",
       "\n",
       "    .dataframe tbody tr th {\n",
       "        vertical-align: top;\n",
       "    }\n",
       "\n",
       "    .dataframe thead th {\n",
       "        text-align: right;\n",
       "    }\n",
       "</style>\n",
       "<table border=\"1\" class=\"dataframe\">\n",
       "  <thead>\n",
       "    <tr style=\"text-align: right;\">\n",
       "      <th></th>\n",
       "      <th>name</th>\n",
       "    </tr>\n",
       "    <tr>\n",
       "      <th>year_of_release</th>\n",
       "      <th></th>\n",
       "    </tr>\n",
       "  </thead>\n",
       "  <tbody>\n",
       "    <tr>\n",
       "      <th>1980.0</th>\n",
       "      <td>9</td>\n",
       "    </tr>\n",
       "    <tr>\n",
       "      <th>1981.0</th>\n",
       "      <td>46</td>\n",
       "    </tr>\n",
       "    <tr>\n",
       "      <th>1982.0</th>\n",
       "      <td>36</td>\n",
       "    </tr>\n",
       "    <tr>\n",
       "      <th>1983.0</th>\n",
       "      <td>17</td>\n",
       "    </tr>\n",
       "    <tr>\n",
       "      <th>1984.0</th>\n",
       "      <td>14</td>\n",
       "    </tr>\n",
       "    <tr>\n",
       "      <th>1985.0</th>\n",
       "      <td>14</td>\n",
       "    </tr>\n",
       "    <tr>\n",
       "      <th>1986.0</th>\n",
       "      <td>21</td>\n",
       "    </tr>\n",
       "    <tr>\n",
       "      <th>1987.0</th>\n",
       "      <td>16</td>\n",
       "    </tr>\n",
       "    <tr>\n",
       "      <th>1988.0</th>\n",
       "      <td>15</td>\n",
       "    </tr>\n",
       "    <tr>\n",
       "      <th>1989.0</th>\n",
       "      <td>17</td>\n",
       "    </tr>\n",
       "    <tr>\n",
       "      <th>1990.0</th>\n",
       "      <td>16</td>\n",
       "    </tr>\n",
       "    <tr>\n",
       "      <th>1991.0</th>\n",
       "      <td>41</td>\n",
       "    </tr>\n",
       "    <tr>\n",
       "      <th>1992.0</th>\n",
       "      <td>43</td>\n",
       "    </tr>\n",
       "    <tr>\n",
       "      <th>1993.0</th>\n",
       "      <td>60</td>\n",
       "    </tr>\n",
       "    <tr>\n",
       "      <th>1994.0</th>\n",
       "      <td>121</td>\n",
       "    </tr>\n",
       "    <tr>\n",
       "      <th>1995.0</th>\n",
       "      <td>219</td>\n",
       "    </tr>\n",
       "    <tr>\n",
       "      <th>1996.0</th>\n",
       "      <td>263</td>\n",
       "    </tr>\n",
       "    <tr>\n",
       "      <th>1997.0</th>\n",
       "      <td>289</td>\n",
       "    </tr>\n",
       "    <tr>\n",
       "      <th>1998.0</th>\n",
       "      <td>379</td>\n",
       "    </tr>\n",
       "    <tr>\n",
       "      <th>1999.0</th>\n",
       "      <td>338</td>\n",
       "    </tr>\n",
       "    <tr>\n",
       "      <th>2000.0</th>\n",
       "      <td>350</td>\n",
       "    </tr>\n",
       "    <tr>\n",
       "      <th>2001.0</th>\n",
       "      <td>482</td>\n",
       "    </tr>\n",
       "    <tr>\n",
       "      <th>2002.0</th>\n",
       "      <td>829</td>\n",
       "    </tr>\n",
       "    <tr>\n",
       "      <th>2003.0</th>\n",
       "      <td>775</td>\n",
       "    </tr>\n",
       "    <tr>\n",
       "      <th>2004.0</th>\n",
       "      <td>762</td>\n",
       "    </tr>\n",
       "    <tr>\n",
       "      <th>2005.0</th>\n",
       "      <td>939</td>\n",
       "    </tr>\n",
       "    <tr>\n",
       "      <th>2006.0</th>\n",
       "      <td>1006</td>\n",
       "    </tr>\n",
       "    <tr>\n",
       "      <th>2007.0</th>\n",
       "      <td>1197</td>\n",
       "    </tr>\n",
       "    <tr>\n",
       "      <th>2008.0</th>\n",
       "      <td>1427</td>\n",
       "    </tr>\n",
       "    <tr>\n",
       "      <th>2009.0</th>\n",
       "      <td>1426</td>\n",
       "    </tr>\n",
       "    <tr>\n",
       "      <th>2010.0</th>\n",
       "      <td>1255</td>\n",
       "    </tr>\n",
       "    <tr>\n",
       "      <th>2011.0</th>\n",
       "      <td>1136</td>\n",
       "    </tr>\n",
       "    <tr>\n",
       "      <th>2012.0</th>\n",
       "      <td>653</td>\n",
       "    </tr>\n",
       "    <tr>\n",
       "      <th>2013.0</th>\n",
       "      <td>544</td>\n",
       "    </tr>\n",
       "    <tr>\n",
       "      <th>2014.0</th>\n",
       "      <td>581</td>\n",
       "    </tr>\n",
       "    <tr>\n",
       "      <th>2015.0</th>\n",
       "      <td>606</td>\n",
       "    </tr>\n",
       "    <tr>\n",
       "      <th>2016.0</th>\n",
       "      <td>502</td>\n",
       "    </tr>\n",
       "  </tbody>\n",
       "</table>\n",
       "</div>"
      ],
      "text/plain": [
       "                 name\n",
       "year_of_release      \n",
       "1980.0              9\n",
       "1981.0             46\n",
       "1982.0             36\n",
       "1983.0             17\n",
       "1984.0             14\n",
       "1985.0             14\n",
       "1986.0             21\n",
       "1987.0             16\n",
       "1988.0             15\n",
       "1989.0             17\n",
       "1990.0             16\n",
       "1991.0             41\n",
       "1992.0             43\n",
       "1993.0             60\n",
       "1994.0            121\n",
       "1995.0            219\n",
       "1996.0            263\n",
       "1997.0            289\n",
       "1998.0            379\n",
       "1999.0            338\n",
       "2000.0            350\n",
       "2001.0            482\n",
       "2002.0            829\n",
       "2003.0            775\n",
       "2004.0            762\n",
       "2005.0            939\n",
       "2006.0           1006\n",
       "2007.0           1197\n",
       "2008.0           1427\n",
       "2009.0           1426\n",
       "2010.0           1255\n",
       "2011.0           1136\n",
       "2012.0            653\n",
       "2013.0            544\n",
       "2014.0            581\n",
       "2015.0            606\n",
       "2016.0            502"
      ]
     },
     "execution_count": 34,
     "metadata": {},
     "output_type": "execute_result"
    }
   ],
   "source": [
    "data_name = data.pivot_table(index='year_of_release', values='name', aggfunc='count')\n",
    "data_name"
   ]
  },
  {
   "cell_type": "code",
   "execution_count": 35,
   "metadata": {},
   "outputs": [
    {
     "data": {
      "image/png": "[encoded data removed]",
      "text/plain": [
       "<Figure size 720x720 with 1 Axes>"
      ]
     },
     "metadata": {
      "needs_background": "light"
     },
     "output_type": "display_data"
    }
   ],
   "source": [
    "data_name.plot(y='name', kind='bar', grid=True, figsize=(10, 10))\n",
    "plt.title('Кол-во игр по годам')\n",
    "plt.show()\n"
   ]
  },
  {
   "cell_type": "markdown",
   "metadata": {},
   "source": [
    "По графику видно, что лидеры по выпуску игр - это 2008 и 2009 годы. Начиная с 1991 года количество игр до 2008 года колеблется, но имеет тенденцию роста. А вот с 2009 года - заметна тенденция уменьшения количества выпускаемых игр."
   ]
  },
  {
   "cell_type": "markdown",
   "metadata": {},
   "source": [
    "### Анализ платформ."
   ]
  },
  {
   "cell_type": "markdown",
   "metadata": {},
   "source": [
    "Посмотрим как менялись продажи по платформам."
   ]
  },
  {
   "cell_type": "markdown",
   "metadata": {},
   "source": [
    "#### Построим суммарное количество продаж в разбивке по платформам и найдем среди них топ-5 лидеров."
   ]
  },
  {
   "cell_type": "code",
   "execution_count": 36,
   "metadata": {},
   "outputs": [
    {
     "data": {
      "text/html": [
       "<div>\n",
       "<style scoped>\n",
       "    .dataframe tbody tr th:only-of-type {\n",
       "        vertical-align: middle;\n",
       "    }\n",
       "\n",
       "    .dataframe tbody tr th {\n",
       "        vertical-align: top;\n",
       "    }\n",
       "\n",
       "    .dataframe thead th {\n",
       "        text-align: right;\n",
       "    }\n",
       "</style>\n",
       "<table border=\"1\" class=\"dataframe\">\n",
       "  <thead>\n",
       "    <tr style=\"text-align: right;\">\n",
       "      <th></th>\n",
       "      <th>name</th>\n",
       "      <th>platform</th>\n",
       "      <th>year_of_release</th>\n",
       "      <th>genre</th>\n",
       "      <th>na_sales</th>\n",
       "      <th>eu_sales</th>\n",
       "      <th>jp_sales</th>\n",
       "      <th>other_sales</th>\n",
       "      <th>critic_score</th>\n",
       "      <th>user_score</th>\n",
       "      <th>rating</th>\n",
       "      <th>total_sales</th>\n",
       "    </tr>\n",
       "  </thead>\n",
       "  <tbody>\n",
       "    <tr>\n",
       "      <th>0</th>\n",
       "      <td>Wii Sports</td>\n",
       "      <td>Wii</td>\n",
       "      <td>2006.0</td>\n",
       "      <td>Sports</td>\n",
       "      <td>41.36</td>\n",
       "      <td>28.96</td>\n",
       "      <td>3.77</td>\n",
       "      <td>8.45</td>\n",
       "      <td>76.0</td>\n",
       "      <td>8.0</td>\n",
       "      <td>E</td>\n",
       "      <td>82.54</td>\n",
       "    </tr>\n",
       "    <tr>\n",
       "      <th>1</th>\n",
       "      <td>Super Mario Bros.</td>\n",
       "      <td>NES</td>\n",
       "      <td>1985.0</td>\n",
       "      <td>Platform</td>\n",
       "      <td>29.08</td>\n",
       "      <td>3.58</td>\n",
       "      <td>6.81</td>\n",
       "      <td>0.77</td>\n",
       "      <td>nan</td>\n",
       "      <td>nan</td>\n",
       "      <td>nan</td>\n",
       "      <td>40.24</td>\n",
       "    </tr>\n",
       "    <tr>\n",
       "      <th>2</th>\n",
       "      <td>Mario Kart Wii</td>\n",
       "      <td>Wii</td>\n",
       "      <td>2008.0</td>\n",
       "      <td>Racing</td>\n",
       "      <td>15.68</td>\n",
       "      <td>12.76</td>\n",
       "      <td>3.79</td>\n",
       "      <td>3.29</td>\n",
       "      <td>82.0</td>\n",
       "      <td>8.3</td>\n",
       "      <td>E</td>\n",
       "      <td>35.52</td>\n",
       "    </tr>\n",
       "    <tr>\n",
       "      <th>3</th>\n",
       "      <td>Wii Sports Resort</td>\n",
       "      <td>Wii</td>\n",
       "      <td>2009.0</td>\n",
       "      <td>Sports</td>\n",
       "      <td>15.61</td>\n",
       "      <td>10.93</td>\n",
       "      <td>3.28</td>\n",
       "      <td>2.95</td>\n",
       "      <td>80.0</td>\n",
       "      <td>8.0</td>\n",
       "      <td>E</td>\n",
       "      <td>32.77</td>\n",
       "    </tr>\n",
       "    <tr>\n",
       "      <th>4</th>\n",
       "      <td>Pokemon Red/Pokemon Blue</td>\n",
       "      <td>GB</td>\n",
       "      <td>1996.0</td>\n",
       "      <td>Role-Playing</td>\n",
       "      <td>11.27</td>\n",
       "      <td>8.89</td>\n",
       "      <td>10.22</td>\n",
       "      <td>1.00</td>\n",
       "      <td>nan</td>\n",
       "      <td>nan</td>\n",
       "      <td>nan</td>\n",
       "      <td>31.38</td>\n",
       "    </tr>\n",
       "  </tbody>\n",
       "</table>\n",
       "</div>"
      ],
      "text/plain": [
       "                       name platform  year_of_release         genre  na_sales  \\\n",
       "0                Wii Sports      Wii           2006.0        Sports     41.36   \n",
       "1         Super Mario Bros.      NES           1985.0      Platform     29.08   \n",
       "2            Mario Kart Wii      Wii           2008.0        Racing     15.68   \n",
       "3         Wii Sports Resort      Wii           2009.0        Sports     15.61   \n",
       "4  Pokemon Red/Pokemon Blue       GB           1996.0  Role-Playing     11.27   \n",
       "\n",
       "   eu_sales  jp_sales  other_sales critic_score user_score rating  total_sales  \n",
       "0     28.96      3.77         8.45         76.0        8.0      E        82.54  \n",
       "1      3.58      6.81         0.77          nan        nan    nan        40.24  \n",
       "2     12.76      3.79         3.29         82.0        8.3      E        35.52  \n",
       "3     10.93      3.28         2.95         80.0        8.0      E        32.77  \n",
       "4      8.89     10.22         1.00          nan        nan    nan        31.38  "
      ]
     },
     "execution_count": 36,
     "metadata": {},
     "output_type": "execute_result"
    }
   ],
   "source": [
    "data.head()"
   ]
  },
  {
   "cell_type": "code",
   "execution_count": 37,
   "metadata": {},
   "outputs": [
    {
     "data": {
      "text/html": [
       "<div>\n",
       "<style scoped>\n",
       "    .dataframe tbody tr th:only-of-type {\n",
       "        vertical-align: middle;\n",
       "    }\n",
       "\n",
       "    .dataframe tbody tr th {\n",
       "        vertical-align: top;\n",
       "    }\n",
       "\n",
       "    .dataframe thead th {\n",
       "        text-align: right;\n",
       "    }\n",
       "</style>\n",
       "<table border=\"1\" class=\"dataframe\">\n",
       "  <thead>\n",
       "    <tr style=\"text-align: right;\">\n",
       "      <th></th>\n",
       "      <th>total_sales</th>\n",
       "    </tr>\n",
       "    <tr>\n",
       "      <th>platform</th>\n",
       "      <th></th>\n",
       "    </tr>\n",
       "  </thead>\n",
       "  <tbody>\n",
       "    <tr>\n",
       "      <th>PS2</th>\n",
       "      <td>1255.77</td>\n",
       "    </tr>\n",
       "    <tr>\n",
       "      <th>X360</th>\n",
       "      <td>971.42</td>\n",
       "    </tr>\n",
       "    <tr>\n",
       "      <th>PS3</th>\n",
       "      <td>939.65</td>\n",
       "    </tr>\n",
       "    <tr>\n",
       "      <th>Wii</th>\n",
       "      <td>907.51</td>\n",
       "    </tr>\n",
       "    <tr>\n",
       "      <th>DS</th>\n",
       "      <td>806.12</td>\n",
       "    </tr>\n",
       "    <tr>\n",
       "      <th>PS</th>\n",
       "      <td>730.86</td>\n",
       "    </tr>\n",
       "    <tr>\n",
       "      <th>GBA</th>\n",
       "      <td>317.85</td>\n",
       "    </tr>\n",
       "    <tr>\n",
       "      <th>PS4</th>\n",
       "      <td>314.14</td>\n",
       "    </tr>\n",
       "    <tr>\n",
       "      <th>PSP</th>\n",
       "      <td>294.05</td>\n",
       "    </tr>\n",
       "    <tr>\n",
       "      <th>PC</th>\n",
       "      <td>259.52</td>\n",
       "    </tr>\n",
       "    <tr>\n",
       "      <th>3DS</th>\n",
       "      <td>259.00</td>\n",
       "    </tr>\n",
       "    <tr>\n",
       "      <th>XB</th>\n",
       "      <td>257.74</td>\n",
       "    </tr>\n",
       "    <tr>\n",
       "      <th>GB</th>\n",
       "      <td>255.46</td>\n",
       "    </tr>\n",
       "    <tr>\n",
       "      <th>NES</th>\n",
       "      <td>251.05</td>\n",
       "    </tr>\n",
       "    <tr>\n",
       "      <th>N64</th>\n",
       "      <td>218.68</td>\n",
       "    </tr>\n",
       "    <tr>\n",
       "      <th>SNES</th>\n",
       "      <td>200.04</td>\n",
       "    </tr>\n",
       "    <tr>\n",
       "      <th>GC</th>\n",
       "      <td>198.93</td>\n",
       "    </tr>\n",
       "    <tr>\n",
       "      <th>XOne</th>\n",
       "      <td>159.32</td>\n",
       "    </tr>\n",
       "    <tr>\n",
       "      <th>2600</th>\n",
       "      <td>96.98</td>\n",
       "    </tr>\n",
       "    <tr>\n",
       "      <th>WiiU</th>\n",
       "      <td>82.19</td>\n",
       "    </tr>\n",
       "    <tr>\n",
       "      <th>PSV</th>\n",
       "      <td>54.07</td>\n",
       "    </tr>\n",
       "    <tr>\n",
       "      <th>SAT</th>\n",
       "      <td>33.59</td>\n",
       "    </tr>\n",
       "    <tr>\n",
       "      <th>GEN</th>\n",
       "      <td>30.77</td>\n",
       "    </tr>\n",
       "    <tr>\n",
       "      <th>DC</th>\n",
       "      <td>15.95</td>\n",
       "    </tr>\n",
       "    <tr>\n",
       "      <th>SCD</th>\n",
       "      <td>1.86</td>\n",
       "    </tr>\n",
       "    <tr>\n",
       "      <th>NG</th>\n",
       "      <td>1.44</td>\n",
       "    </tr>\n",
       "    <tr>\n",
       "      <th>WS</th>\n",
       "      <td>1.42</td>\n",
       "    </tr>\n",
       "    <tr>\n",
       "      <th>TG16</th>\n",
       "      <td>0.16</td>\n",
       "    </tr>\n",
       "    <tr>\n",
       "      <th>3DO</th>\n",
       "      <td>0.10</td>\n",
       "    </tr>\n",
       "    <tr>\n",
       "      <th>GG</th>\n",
       "      <td>0.04</td>\n",
       "    </tr>\n",
       "    <tr>\n",
       "      <th>PCFX</th>\n",
       "      <td>0.03</td>\n",
       "    </tr>\n",
       "  </tbody>\n",
       "</table>\n",
       "</div>"
      ],
      "text/plain": [
       "          total_sales\n",
       "platform             \n",
       "PS2           1255.77\n",
       "X360           971.42\n",
       "PS3            939.65\n",
       "Wii            907.51\n",
       "DS             806.12\n",
       "PS             730.86\n",
       "GBA            317.85\n",
       "PS4            314.14\n",
       "PSP            294.05\n",
       "PC             259.52\n",
       "3DS            259.00\n",
       "XB             257.74\n",
       "GB             255.46\n",
       "NES            251.05\n",
       "N64            218.68\n",
       "SNES           200.04\n",
       "GC             198.93\n",
       "XOne           159.32\n",
       "2600            96.98\n",
       "WiiU            82.19\n",
       "PSV             54.07\n",
       "SAT             33.59\n",
       "GEN             30.77\n",
       "DC              15.95\n",
       "SCD              1.86\n",
       "NG               1.44\n",
       "WS               1.42\n",
       "TG16             0.16\n",
       "3DO              0.10\n",
       "GG               0.04\n",
       "PCFX             0.03"
      ]
     },
     "execution_count": 37,
     "metadata": {},
     "output_type": "execute_result"
    }
   ],
   "source": [
    "data.pivot_table(\n",
    "    index='platform', values='total_sales', aggfunc= 'sum')\\\n",
    ".sort_values('total_sales', ascending=False)\n"
   ]
  },
  {
   "cell_type": "code",
   "execution_count": 38,
   "metadata": {},
   "outputs": [
    {
     "data": {
      "text/plain": [
       "['PS2', 'X360', 'PS3', 'Wii', 'DS']"
      ]
     },
     "execution_count": 38,
     "metadata": {},
     "output_type": "execute_result"
    }
   ],
   "source": [
    "#найдем топ-5\n",
    "tmp = data.pivot_table(index='platform', values='total_sales', aggfunc= 'sum').sort_values('total_sales', ascending=False)\n",
    "tmp.index[:5].tolist()"
   ]
  },
  {
   "cell_type": "markdown",
   "metadata": {},
   "source": [
    "Такие платформы:\n",
    "\n",
    "- PS2\t\n",
    "- X360\t\n",
    "- PS3\t\n",
    "- Wii\t\n",
    "- DS\n",
    "\n",
    "Показали самые высокие продажи и их мы отнесем в ТОП-5 лидеров платформ по продажам."
   ]
  },
  {
   "cell_type": "markdown",
   "metadata": {},
   "source": [
    "Проанализируем распределение ТОП-5 платформ по годам."
   ]
  },
  {
   "cell_type": "code",
   "execution_count": 39,
   "metadata": {},
   "outputs": [
    {
     "data": {
      "text/html": [
       "<div>\n",
       "<style scoped>\n",
       "    .dataframe tbody tr th:only-of-type {\n",
       "        vertical-align: middle;\n",
       "    }\n",
       "\n",
       "    .dataframe tbody tr th {\n",
       "        vertical-align: top;\n",
       "    }\n",
       "\n",
       "    .dataframe thead th {\n",
       "        text-align: right;\n",
       "    }\n",
       "</style>\n",
       "<table border=\"1\" class=\"dataframe\">\n",
       "  <thead>\n",
       "    <tr style=\"text-align: right;\">\n",
       "      <th></th>\n",
       "      <th>name</th>\n",
       "      <th>platform</th>\n",
       "      <th>year_of_release</th>\n",
       "      <th>genre</th>\n",
       "      <th>na_sales</th>\n",
       "      <th>eu_sales</th>\n",
       "      <th>jp_sales</th>\n",
       "      <th>other_sales</th>\n",
       "      <th>critic_score</th>\n",
       "      <th>user_score</th>\n",
       "      <th>rating</th>\n",
       "      <th>total_sales</th>\n",
       "    </tr>\n",
       "  </thead>\n",
       "  <tbody>\n",
       "    <tr>\n",
       "      <th>0</th>\n",
       "      <td>Wii Sports</td>\n",
       "      <td>Wii</td>\n",
       "      <td>2006.0</td>\n",
       "      <td>Sports</td>\n",
       "      <td>41.36</td>\n",
       "      <td>28.96</td>\n",
       "      <td>3.77</td>\n",
       "      <td>8.45</td>\n",
       "      <td>76.0</td>\n",
       "      <td>8.0</td>\n",
       "      <td>E</td>\n",
       "      <td>82.54</td>\n",
       "    </tr>\n",
       "    <tr>\n",
       "      <th>2</th>\n",
       "      <td>Mario Kart Wii</td>\n",
       "      <td>Wii</td>\n",
       "      <td>2008.0</td>\n",
       "      <td>Racing</td>\n",
       "      <td>15.68</td>\n",
       "      <td>12.76</td>\n",
       "      <td>3.79</td>\n",
       "      <td>3.29</td>\n",
       "      <td>82.0</td>\n",
       "      <td>8.3</td>\n",
       "      <td>E</td>\n",
       "      <td>35.52</td>\n",
       "    </tr>\n",
       "    <tr>\n",
       "      <th>3</th>\n",
       "      <td>Wii Sports Resort</td>\n",
       "      <td>Wii</td>\n",
       "      <td>2009.0</td>\n",
       "      <td>Sports</td>\n",
       "      <td>15.61</td>\n",
       "      <td>10.93</td>\n",
       "      <td>3.28</td>\n",
       "      <td>2.95</td>\n",
       "      <td>80.0</td>\n",
       "      <td>8.0</td>\n",
       "      <td>E</td>\n",
       "      <td>32.77</td>\n",
       "    </tr>\n",
       "    <tr>\n",
       "      <th>6</th>\n",
       "      <td>New Super Mario Bros.</td>\n",
       "      <td>DS</td>\n",
       "      <td>2006.0</td>\n",
       "      <td>Platform</td>\n",
       "      <td>11.28</td>\n",
       "      <td>9.14</td>\n",
       "      <td>6.50</td>\n",
       "      <td>2.88</td>\n",
       "      <td>89.0</td>\n",
       "      <td>8.5</td>\n",
       "      <td>E</td>\n",
       "      <td>29.80</td>\n",
       "    </tr>\n",
       "    <tr>\n",
       "      <th>7</th>\n",
       "      <td>Wii Play</td>\n",
       "      <td>Wii</td>\n",
       "      <td>2006.0</td>\n",
       "      <td>Misc</td>\n",
       "      <td>13.96</td>\n",
       "      <td>9.18</td>\n",
       "      <td>2.93</td>\n",
       "      <td>2.84</td>\n",
       "      <td>58.0</td>\n",
       "      <td>6.6</td>\n",
       "      <td>E</td>\n",
       "      <td>28.91</td>\n",
       "    </tr>\n",
       "  </tbody>\n",
       "</table>\n",
       "</div>"
      ],
      "text/plain": [
       "                    name platform  year_of_release     genre  na_sales  \\\n",
       "0             Wii Sports      Wii           2006.0    Sports     41.36   \n",
       "2         Mario Kart Wii      Wii           2008.0    Racing     15.68   \n",
       "3      Wii Sports Resort      Wii           2009.0    Sports     15.61   \n",
       "6  New Super Mario Bros.       DS           2006.0  Platform     11.28   \n",
       "7               Wii Play      Wii           2006.0      Misc     13.96   \n",
       "\n",
       "   eu_sales  jp_sales  other_sales critic_score user_score rating  total_sales  \n",
       "0     28.96      3.77         8.45         76.0        8.0      E        82.54  \n",
       "2     12.76      3.79         3.29         82.0        8.3      E        35.52  \n",
       "3     10.93      3.28         2.95         80.0        8.0      E        32.77  \n",
       "6      9.14      6.50         2.88         89.0        8.5      E        29.80  \n",
       "7      9.18      2.93         2.84         58.0        6.6      E        28.91  "
      ]
     },
     "execution_count": 39,
     "metadata": {},
     "output_type": "execute_result"
    }
   ],
   "source": [
    "#создадим срез данных по ТОП-5 платформам\n",
    "list = ['PS2', 'X360', 'PS3', 'Wii', 'DS']\n",
    "data.query('platform in @list').head()"
   ]
  },
  {
   "cell_type": "code",
   "execution_count": 40,
   "metadata": {},
   "outputs": [
    {
     "data": {
      "image/png": "[encoded data removed]",
      "text/plain": [
       "<Figure size 720x720 with 1 Axes>"
      ]
     },
     "metadata": {
      "needs_background": "light"
     },
     "output_type": "display_data"
    }
   ],
   "source": [
    "data.query('platform in @list')\\\n",
    ".pivot_table(index='year_of_release', columns='platform', values='total_sales', aggfunc='sum')\\\n",
    ".plot(grid=True, figsize=(10, 10))\n",
    "plt.ylabel('Суммарные продажи')\n",
    "plt.xlabel('Год')\n",
    "plt.title('Динамика продаж ТОП-5 платформ по годам')\n",
    "plt.show()"
   ]
  },
  {
   "cell_type": "markdown",
   "metadata": {},
   "source": [
    "По графикам можно примерно оценить период \"успешности\" платформы - 4-5 лет, то есть это период когда продажи по платформам растут и достигают своего пика. Делая прогноз на 2017 год, приходим к выводу, что платформы, которые запустили в 2013 году - 2017 должны достичь своего пика. Поэтому актуальный период определим с 2013-2017 гг."
   ]
  },
  {
   "cell_type": "markdown",
   "metadata": {},
   "source": [
    "Создадим срез основного датафрейма с актуальным периодом данных, то есть после 2013 года, и сохраним его в переменной data_2013 и дальнейшей анализ будем проводить на этом датафрейме."
   ]
  },
  {
   "cell_type": "code",
   "execution_count": 41,
   "metadata": {},
   "outputs": [
    {
     "data": {
      "text/html": [
       "<div>\n",
       "<style scoped>\n",
       "    .dataframe tbody tr th:only-of-type {\n",
       "        vertical-align: middle;\n",
       "    }\n",
       "\n",
       "    .dataframe tbody tr th {\n",
       "        vertical-align: top;\n",
       "    }\n",
       "\n",
       "    .dataframe thead th {\n",
       "        text-align: right;\n",
       "    }\n",
       "</style>\n",
       "<table border=\"1\" class=\"dataframe\">\n",
       "  <thead>\n",
       "    <tr style=\"text-align: right;\">\n",
       "      <th></th>\n",
       "      <th>name</th>\n",
       "      <th>platform</th>\n",
       "      <th>year_of_release</th>\n",
       "      <th>genre</th>\n",
       "      <th>na_sales</th>\n",
       "      <th>eu_sales</th>\n",
       "      <th>jp_sales</th>\n",
       "      <th>other_sales</th>\n",
       "      <th>critic_score</th>\n",
       "      <th>user_score</th>\n",
       "      <th>rating</th>\n",
       "      <th>total_sales</th>\n",
       "    </tr>\n",
       "  </thead>\n",
       "  <tbody>\n",
       "    <tr>\n",
       "      <th>16</th>\n",
       "      <td>Grand Theft Auto V</td>\n",
       "      <td>PS3</td>\n",
       "      <td>2013.0</td>\n",
       "      <td>Action</td>\n",
       "      <td>7.02</td>\n",
       "      <td>9.09</td>\n",
       "      <td>0.98</td>\n",
       "      <td>3.96</td>\n",
       "      <td>97.0</td>\n",
       "      <td>8.2</td>\n",
       "      <td>M</td>\n",
       "      <td>21.05</td>\n",
       "    </tr>\n",
       "    <tr>\n",
       "      <th>23</th>\n",
       "      <td>Grand Theft Auto V</td>\n",
       "      <td>X360</td>\n",
       "      <td>2013.0</td>\n",
       "      <td>Action</td>\n",
       "      <td>9.66</td>\n",
       "      <td>5.14</td>\n",
       "      <td>0.06</td>\n",
       "      <td>1.41</td>\n",
       "      <td>97.0</td>\n",
       "      <td>8.1</td>\n",
       "      <td>M</td>\n",
       "      <td>16.27</td>\n",
       "    </tr>\n",
       "    <tr>\n",
       "      <th>31</th>\n",
       "      <td>Call of Duty: Black Ops 3</td>\n",
       "      <td>PS4</td>\n",
       "      <td>2015.0</td>\n",
       "      <td>Shooter</td>\n",
       "      <td>6.03</td>\n",
       "      <td>5.86</td>\n",
       "      <td>0.36</td>\n",
       "      <td>2.38</td>\n",
       "      <td>nan</td>\n",
       "      <td>nan</td>\n",
       "      <td>nan</td>\n",
       "      <td>14.63</td>\n",
       "    </tr>\n",
       "    <tr>\n",
       "      <th>33</th>\n",
       "      <td>Pokemon X/Pokemon Y</td>\n",
       "      <td>3DS</td>\n",
       "      <td>2013.0</td>\n",
       "      <td>Role-Playing</td>\n",
       "      <td>5.28</td>\n",
       "      <td>4.19</td>\n",
       "      <td>4.35</td>\n",
       "      <td>0.78</td>\n",
       "      <td>nan</td>\n",
       "      <td>nan</td>\n",
       "      <td>nan</td>\n",
       "      <td>14.60</td>\n",
       "    </tr>\n",
       "    <tr>\n",
       "      <th>42</th>\n",
       "      <td>Grand Theft Auto V</td>\n",
       "      <td>PS4</td>\n",
       "      <td>2014.0</td>\n",
       "      <td>Action</td>\n",
       "      <td>3.96</td>\n",
       "      <td>6.31</td>\n",
       "      <td>0.38</td>\n",
       "      <td>1.97</td>\n",
       "      <td>97.0</td>\n",
       "      <td>8.3</td>\n",
       "      <td>M</td>\n",
       "      <td>12.62</td>\n",
       "    </tr>\n",
       "  </tbody>\n",
       "</table>\n",
       "</div>"
      ],
      "text/plain": [
       "                         name platform  year_of_release         genre  \\\n",
       "16         Grand Theft Auto V      PS3           2013.0        Action   \n",
       "23         Grand Theft Auto V     X360           2013.0        Action   \n",
       "31  Call of Duty: Black Ops 3      PS4           2015.0       Shooter   \n",
       "33        Pokemon X/Pokemon Y      3DS           2013.0  Role-Playing   \n",
       "42         Grand Theft Auto V      PS4           2014.0        Action   \n",
       "\n",
       "    na_sales  eu_sales  jp_sales  other_sales critic_score user_score rating  \\\n",
       "16      7.02      9.09      0.98         3.96         97.0        8.2      M   \n",
       "23      9.66      5.14      0.06         1.41         97.0        8.1      M   \n",
       "31      6.03      5.86      0.36         2.38          nan        nan    nan   \n",
       "33      5.28      4.19      4.35         0.78          nan        nan    nan   \n",
       "42      3.96      6.31      0.38         1.97         97.0        8.3      M   \n",
       "\n",
       "    total_sales  \n",
       "16        21.05  \n",
       "23        16.27  \n",
       "31        14.63  \n",
       "33        14.60  \n",
       "42        12.62  "
      ]
     },
     "execution_count": 41,
     "metadata": {},
     "output_type": "execute_result"
    }
   ],
   "source": [
    "data_2013 = data.query('year_of_release >= 2013')\n",
    "data_2013.head()"
   ]
  },
  {
   "cell_type": "markdown",
   "metadata": {},
   "source": [
    "#### Какие платформы лидируют по продажам, растут или падают? "
   ]
  },
  {
   "cell_type": "markdown",
   "metadata": {},
   "source": [
    "Выберем топ-5 прибыльных по продажам платформ заново, исходя из данных нового датафрейма."
   ]
  },
  {
   "cell_type": "code",
   "execution_count": 42,
   "metadata": {},
   "outputs": [
    {
     "data": {
      "text/plain": [
       "['PS4', 'PS3', 'XOne', '3DS', 'X360']"
      ]
     },
     "execution_count": 42,
     "metadata": {},
     "output_type": "execute_result"
    }
   ],
   "source": [
    "tmp_2013 = data_2013.pivot_table(index='platform', \\\n",
    "values='total_sales', aggfunc= 'sum').sort_values('total_sales', ascending=False)\n",
    "tmp_2013.index[:5].tolist()"
   ]
  },
  {
   "cell_type": "markdown",
   "metadata": {},
   "source": [
    "Итак, в актуальном периоде список ТОП-5 платформ по продажам изменился, теперь лидерами являются: ['PS4', 'PS3', 'XOne', '3DS', 'X360']."
   ]
  },
  {
   "cell_type": "markdown",
   "metadata": {},
   "source": [
    "#### Постройте график «ящик с усами» по глобальным продажам игр в разбивке по платформам."
   ]
  },
  {
   "cell_type": "code",
   "execution_count": 43,
   "metadata": {},
   "outputs": [
    {
     "data": {
      "text/plain": [
       "<AxesSubplot:>"
      ]
     },
     "execution_count": 43,
     "metadata": {},
     "output_type": "execute_result"
    },
    {
     "data": {
      "image/png": "[encoded data removed]",
      "text/plain": [
       "<Figure size 576x720 with 1 Axes>"
      ]
     },
     "metadata": {
      "needs_background": "light"
     },
     "output_type": "display_data"
    }
   ],
   "source": [
    "data_2013[data_2013['platform'] == 'PS4'].boxplot('total_sales', figsize=(8,10))\n",
    "    #set_ylim(0,0.8)\n",
    "    #plt.show()"
   ]
  },
  {
   "cell_type": "code",
   "execution_count": 44,
   "metadata": {},
   "outputs": [
    {
     "data": {
      "text/plain": [
       "<AxesSubplot:>"
      ]
     },
     "execution_count": 44,
     "metadata": {},
     "output_type": "execute_result"
    },
    {
     "data": {
      "image/png": "[encoded data removed]",
      "text/plain": [
       "<Figure size 576x720 with 1 Axes>"
      ]
     },
     "metadata": {
      "needs_background": "light"
     },
     "output_type": "display_data"
    }
   ],
   "source": [
    "data_2013[data_2013['platform'] == 'PS3'].boxplot('total_sales', figsize=(8,10))"
   ]
  },
  {
   "cell_type": "code",
   "execution_count": 45,
   "metadata": {},
   "outputs": [
    {
     "data": {
      "text/plain": [
       "<AxesSubplot:>"
      ]
     },
     "execution_count": 45,
     "metadata": {},
     "output_type": "execute_result"
    },
    {
     "data": {
      "image/png": "[encoded data removed]",
      "text/plain": [
       "<Figure size 576x720 with 1 Axes>"
      ]
     },
     "metadata": {
      "needs_background": "light"
     },
     "output_type": "display_data"
    }
   ],
   "source": [
    "data_2013[data_2013['platform'] == 'XOne'].boxplot('total_sales', figsize=(8,10))"
   ]
  },
  {
   "cell_type": "code",
   "execution_count": 46,
   "metadata": {},
   "outputs": [
    {
     "data": {
      "text/plain": [
       "<AxesSubplot:>"
      ]
     },
     "execution_count": 46,
     "metadata": {},
     "output_type": "execute_result"
    },
    {
     "data": {
      "image/png": "[encoded data removed]",
      "text/plain": [
       "<Figure size 576x720 with 1 Axes>"
      ]
     },
     "metadata": {
      "needs_background": "light"
     },
     "output_type": "display_data"
    }
   ],
   "source": [
    "data_2013[data_2013['platform'] == '3DS'].boxplot('total_sales', figsize=(8,10))"
   ]
  },
  {
   "cell_type": "code",
   "execution_count": 47,
   "metadata": {},
   "outputs": [
    {
     "data": {
      "text/plain": [
       "<AxesSubplot:>"
      ]
     },
     "execution_count": 47,
     "metadata": {},
     "output_type": "execute_result"
    },
    {
     "data": {
      "image/png": "[encoded data removed]",
      "text/plain": [
       "<Figure size 576x720 with 1 Axes>"
      ]
     },
     "metadata": {
      "needs_background": "light"
     },
     "output_type": "display_data"
    }
   ],
   "source": [
    "data_2013[data_2013['platform'] == 'X360'].boxplot('total_sales', figsize=(8,10))"
   ]
  },
  {
   "cell_type": "markdown",
   "metadata": {},
   "source": [
    "По графику делаем выводы по количеству продаж Топ-5 платформ: ['PS4', 'PS3', 'XOne', '3DS', 'X360']:\n",
    " \n",
    " - платформа PS2 - игры этой платформы в основном были проданы в количестве от 0 - 1 млн. проданных копий\n",
    " - платформа 'PS3' - от 0 - 0.5 млн. проданных копий\n",
    " - платформа 'XOne' - от 0 - 0.8 млн. проданных копий\n",
    " - платформа '3DS' - от 0 - 0.3 млн. проданных копий\n",
    " - платформа 'X360' - от 0 - 0.9 млн. проданных копий\n",
    " \n",
    " То есть среди ТОП-5 платформ так же можно выделить лидеров по качеству проданных игр - это платформы: X360 и PS2."
   ]
  },
  {
   "cell_type": "markdown",
   "metadata": {},
   "source": [
    "#### Как влияют на продажи отзывы пользователей и критиков. "
   ]
  },
  {
   "cell_type": "markdown",
   "metadata": {},
   "source": [
    "Посмотрим, как влияют на продажи внутри одной популярной платформы - X360, отзывы пользователей и критиков. "
   ]
  },
  {
   "cell_type": "code",
   "execution_count": 48,
   "metadata": {},
   "outputs": [
    {
     "data": {
      "text/html": [
       "<div>\n",
       "<style scoped>\n",
       "    .dataframe tbody tr th:only-of-type {\n",
       "        vertical-align: middle;\n",
       "    }\n",
       "\n",
       "    .dataframe tbody tr th {\n",
       "        vertical-align: top;\n",
       "    }\n",
       "\n",
       "    .dataframe thead th {\n",
       "        text-align: right;\n",
       "    }\n",
       "</style>\n",
       "<table border=\"1\" class=\"dataframe\">\n",
       "  <thead>\n",
       "    <tr style=\"text-align: right;\">\n",
       "      <th></th>\n",
       "      <th>name</th>\n",
       "      <th>platform</th>\n",
       "      <th>year_of_release</th>\n",
       "      <th>genre</th>\n",
       "      <th>na_sales</th>\n",
       "      <th>eu_sales</th>\n",
       "      <th>jp_sales</th>\n",
       "      <th>other_sales</th>\n",
       "      <th>critic_score</th>\n",
       "      <th>user_score</th>\n",
       "      <th>rating</th>\n",
       "      <th>total_sales</th>\n",
       "    </tr>\n",
       "  </thead>\n",
       "  <tbody>\n",
       "    <tr>\n",
       "      <th>23</th>\n",
       "      <td>Grand Theft Auto V</td>\n",
       "      <td>X360</td>\n",
       "      <td>2013.0</td>\n",
       "      <td>Action</td>\n",
       "      <td>9.66</td>\n",
       "      <td>5.14</td>\n",
       "      <td>0.06</td>\n",
       "      <td>1.41</td>\n",
       "      <td>97.0</td>\n",
       "      <td>8.1</td>\n",
       "      <td>M</td>\n",
       "      <td>16.27</td>\n",
       "    </tr>\n",
       "    <tr>\n",
       "      <th>60</th>\n",
       "      <td>Call of Duty: Ghosts</td>\n",
       "      <td>X360</td>\n",
       "      <td>2013.0</td>\n",
       "      <td>Shooter</td>\n",
       "      <td>6.73</td>\n",
       "      <td>2.56</td>\n",
       "      <td>0.04</td>\n",
       "      <td>0.91</td>\n",
       "      <td>73.0</td>\n",
       "      <td>2.6</td>\n",
       "      <td>M</td>\n",
       "      <td>10.24</td>\n",
       "    </tr>\n",
       "    <tr>\n",
       "      <th>72</th>\n",
       "      <td>Minecraft</td>\n",
       "      <td>X360</td>\n",
       "      <td>2013.0</td>\n",
       "      <td>Misc</td>\n",
       "      <td>5.70</td>\n",
       "      <td>2.65</td>\n",
       "      <td>0.02</td>\n",
       "      <td>0.81</td>\n",
       "      <td>nan</td>\n",
       "      <td>nan</td>\n",
       "      <td>nan</td>\n",
       "      <td>9.18</td>\n",
       "    </tr>\n",
       "    <tr>\n",
       "      <th>263</th>\n",
       "      <td>Call of Duty: Advanced Warfare</td>\n",
       "      <td>X360</td>\n",
       "      <td>2014.0</td>\n",
       "      <td>Shooter</td>\n",
       "      <td>2.77</td>\n",
       "      <td>1.11</td>\n",
       "      <td>0.00</td>\n",
       "      <td>0.40</td>\n",
       "      <td>nan</td>\n",
       "      <td>4.9</td>\n",
       "      <td>M</td>\n",
       "      <td>4.28</td>\n",
       "    </tr>\n",
       "    <tr>\n",
       "      <th>271</th>\n",
       "      <td>FIFA 14</td>\n",
       "      <td>X360</td>\n",
       "      <td>2013.0</td>\n",
       "      <td>Sports</td>\n",
       "      <td>0.92</td>\n",
       "      <td>2.89</td>\n",
       "      <td>0.01</td>\n",
       "      <td>0.40</td>\n",
       "      <td>84.0</td>\n",
       "      <td>4.2</td>\n",
       "      <td>E</td>\n",
       "      <td>4.22</td>\n",
       "    </tr>\n",
       "  </tbody>\n",
       "</table>\n",
       "</div>"
      ],
      "text/plain": [
       "                               name platform  year_of_release    genre  \\\n",
       "23               Grand Theft Auto V     X360           2013.0   Action   \n",
       "60             Call of Duty: Ghosts     X360           2013.0  Shooter   \n",
       "72                        Minecraft     X360           2013.0     Misc   \n",
       "263  Call of Duty: Advanced Warfare     X360           2014.0  Shooter   \n",
       "271                         FIFA 14     X360           2013.0   Sports   \n",
       "\n",
       "     na_sales  eu_sales  jp_sales  other_sales critic_score user_score rating  \\\n",
       "23       9.66      5.14      0.06         1.41         97.0        8.1      M   \n",
       "60       6.73      2.56      0.04         0.91         73.0        2.6      M   \n",
       "72       5.70      2.65      0.02         0.81          nan        nan    nan   \n",
       "263      2.77      1.11      0.00         0.40          nan        4.9      M   \n",
       "271      0.92      2.89      0.01         0.40         84.0        4.2      E   \n",
       "\n",
       "     total_sales  \n",
       "23         16.27  \n",
       "60         10.24  \n",
       "72          9.18  \n",
       "263         4.28  \n",
       "271         4.22  "
      ]
     },
     "execution_count": 48,
     "metadata": {},
     "output_type": "execute_result"
    }
   ],
   "source": [
    "list_X360 = ['X360']\n",
    "\n",
    "data_X360 = data_2013.query('platform in @list_X360')\n",
    "data_X360.head()"
   ]
  },
  {
   "cell_type": "code",
   "execution_count": 49,
   "metadata": {},
   "outputs": [
    {
     "name": "stdout",
     "output_type": "stream",
     "text": [
      "<class 'pandas.core.frame.DataFrame'>\n",
      "Int64Index: 186 entries, 23 to 16654\n",
      "Data columns (total 12 columns):\n",
      " #   Column           Non-Null Count  Dtype  \n",
      "---  ------           --------------  -----  \n",
      " 0   name             186 non-null    object \n",
      " 1   platform         186 non-null    object \n",
      " 2   year_of_release  186 non-null    float64\n",
      " 3   genre            186 non-null    object \n",
      " 4   na_sales         186 non-null    float64\n",
      " 5   eu_sales         186 non-null    float64\n",
      " 6   jp_sales         186 non-null    float64\n",
      " 7   other_sales      186 non-null    float64\n",
      " 8   critic_score     186 non-null    object \n",
      " 9   user_score       186 non-null    object \n",
      " 10  rating           186 non-null    object \n",
      " 11  total_sales      186 non-null    float64\n",
      "dtypes: float64(6), object(6)\n",
      "memory usage: 18.9+ KB\n"
     ]
    }
   ],
   "source": [
    "data_X360.info()"
   ]
  },
  {
   "cell_type": "code",
   "execution_count": 50,
   "metadata": {},
   "outputs": [
    {
     "data": {
      "image/png": "[encoded data removed]",
      "text/plain": [
       "<Figure size 432x288 with 1 Axes>"
      ]
     },
     "metadata": {
      "needs_background": "light"
     },
     "output_type": "display_data"
    }
   ],
   "source": [
    "#построим диаграмму рассеяния\n",
    "data_X360.plot(x='critic_score', y='total_sales', kind='scatter', grid=True) \n",
    "_= plt.title('Зависимость между кол-вом продаж и отзывов критиков', pad =20)\n"
   ]
  },
  {
   "cell_type": "code",
   "execution_count": 51,
   "metadata": {},
   "outputs": [
    {
     "data": {
      "image/png": "[encoded data removed]",
      "text/plain": [
       "<Figure size 432x288 with 1 Axes>"
      ]
     },
     "metadata": {
      "needs_background": "light"
     },
     "output_type": "display_data"
    }
   ],
   "source": [
    "#построим диаграмму рассеяния\n",
    "data_X360.plot(x='user_score', y='total_sales', kind='scatter', grid=True) \n",
    "_= plt.title('Зависимость между кол-вом продаж и отзывов пользователей', pad =20)"
   ]
  },
  {
   "cell_type": "markdown",
   "metadata": {},
   "source": [
    "Теперь посчитаем корреляцию между отзывами и продажами платформы - X360. "
   ]
  },
  {
   "cell_type": "code",
   "execution_count": 52,
   "metadata": {},
   "outputs": [
    {
     "name": "stderr",
     "output_type": "stream",
     "text": [
      "/tmp/ipykernel_53/3127532558.py:1: SettingWithCopyWarning: \n",
      "A value is trying to be set on a copy of a slice from a DataFrame.\n",
      "Try using .loc[row_indexer,col_indexer] = value instead\n",
      "\n",
      "See the caveats in the documentation: https://pandas.pydata.org/pandas-docs/stable/user_guide/indexing.html#returning-a-view-versus-a-copy\n",
      "  data_X360['critic_score'] = data_X360['critic_score'].astype(float)\n",
      "/tmp/ipykernel_53/3127532558.py:2: SettingWithCopyWarning: \n",
      "A value is trying to be set on a copy of a slice from a DataFrame.\n",
      "Try using .loc[row_indexer,col_indexer] = value instead\n",
      "\n",
      "See the caveats in the documentation: https://pandas.pydata.org/pandas-docs/stable/user_guide/indexing.html#returning-a-view-versus-a-copy\n",
      "  data_X360['user_score'] = data_X360['user_score'].astype(float)\n"
     ]
    },
    {
     "data": {
      "text/html": [
       "<div>\n",
       "<style scoped>\n",
       "    .dataframe tbody tr th:only-of-type {\n",
       "        vertical-align: middle;\n",
       "    }\n",
       "\n",
       "    .dataframe tbody tr th {\n",
       "        vertical-align: top;\n",
       "    }\n",
       "\n",
       "    .dataframe thead th {\n",
       "        text-align: right;\n",
       "    }\n",
       "</style>\n",
       "<table border=\"1\" class=\"dataframe\">\n",
       "  <thead>\n",
       "    <tr style=\"text-align: right;\">\n",
       "      <th></th>\n",
       "      <th>year_of_release</th>\n",
       "      <th>na_sales</th>\n",
       "      <th>eu_sales</th>\n",
       "      <th>jp_sales</th>\n",
       "      <th>other_sales</th>\n",
       "      <th>critic_score</th>\n",
       "      <th>user_score</th>\n",
       "      <th>total_sales</th>\n",
       "    </tr>\n",
       "  </thead>\n",
       "  <tbody>\n",
       "    <tr>\n",
       "      <th>year_of_release</th>\n",
       "      <td>1.000000</td>\n",
       "      <td>-0.218293</td>\n",
       "      <td>-0.203537</td>\n",
       "      <td>-0.285360</td>\n",
       "      <td>-0.218199</td>\n",
       "      <td>-0.245439</td>\n",
       "      <td>-0.248736</td>\n",
       "      <td>-0.220495</td>\n",
       "    </tr>\n",
       "    <tr>\n",
       "      <th>na_sales</th>\n",
       "      <td>-0.218293</td>\n",
       "      <td>1.000000</td>\n",
       "      <td>0.866574</td>\n",
       "      <td>0.634340</td>\n",
       "      <td>0.985236</td>\n",
       "      <td>0.342724</td>\n",
       "      <td>-0.012298</td>\n",
       "      <td>0.984299</td>\n",
       "    </tr>\n",
       "    <tr>\n",
       "      <th>eu_sales</th>\n",
       "      <td>-0.203537</td>\n",
       "      <td>0.866574</td>\n",
       "      <td>1.000000</td>\n",
       "      <td>0.612002</td>\n",
       "      <td>0.934769</td>\n",
       "      <td>0.336418</td>\n",
       "      <td>-0.009435</td>\n",
       "      <td>0.941008</td>\n",
       "    </tr>\n",
       "    <tr>\n",
       "      <th>jp_sales</th>\n",
       "      <td>-0.285360</td>\n",
       "      <td>0.634340</td>\n",
       "      <td>0.612002</td>\n",
       "      <td>1.000000</td>\n",
       "      <td>0.641529</td>\n",
       "      <td>0.290613</td>\n",
       "      <td>0.112592</td>\n",
       "      <td>0.648860</td>\n",
       "    </tr>\n",
       "    <tr>\n",
       "      <th>other_sales</th>\n",
       "      <td>-0.218199</td>\n",
       "      <td>0.985236</td>\n",
       "      <td>0.934769</td>\n",
       "      <td>0.641529</td>\n",
       "      <td>1.000000</td>\n",
       "      <td>0.349204</td>\n",
       "      <td>-0.018868</td>\n",
       "      <td>0.998640</td>\n",
       "    </tr>\n",
       "    <tr>\n",
       "      <th>critic_score</th>\n",
       "      <td>-0.245439</td>\n",
       "      <td>0.342724</td>\n",
       "      <td>0.336418</td>\n",
       "      <td>0.290613</td>\n",
       "      <td>0.349204</td>\n",
       "      <td>1.000000</td>\n",
       "      <td>0.520946</td>\n",
       "      <td>0.350345</td>\n",
       "    </tr>\n",
       "    <tr>\n",
       "      <th>user_score</th>\n",
       "      <td>-0.248736</td>\n",
       "      <td>-0.012298</td>\n",
       "      <td>-0.009435</td>\n",
       "      <td>0.112592</td>\n",
       "      <td>-0.018868</td>\n",
       "      <td>0.520946</td>\n",
       "      <td>1.000000</td>\n",
       "      <td>-0.011742</td>\n",
       "    </tr>\n",
       "    <tr>\n",
       "      <th>total_sales</th>\n",
       "      <td>-0.220495</td>\n",
       "      <td>0.984299</td>\n",
       "      <td>0.941008</td>\n",
       "      <td>0.648860</td>\n",
       "      <td>0.998640</td>\n",
       "      <td>0.350345</td>\n",
       "      <td>-0.011742</td>\n",
       "      <td>1.000000</td>\n",
       "    </tr>\n",
       "  </tbody>\n",
       "</table>\n",
       "</div>"
      ],
      "text/plain": [
       "                 year_of_release  na_sales  eu_sales  jp_sales  other_sales  \\\n",
       "year_of_release         1.000000 -0.218293 -0.203537 -0.285360    -0.218199   \n",
       "na_sales               -0.218293  1.000000  0.866574  0.634340     0.985236   \n",
       "eu_sales               -0.203537  0.866574  1.000000  0.612002     0.934769   \n",
       "jp_sales               -0.285360  0.634340  0.612002  1.000000     0.641529   \n",
       "other_sales            -0.218199  0.985236  0.934769  0.641529     1.000000   \n",
       "critic_score           -0.245439  0.342724  0.336418  0.290613     0.349204   \n",
       "user_score             -0.248736 -0.012298 -0.009435  0.112592    -0.018868   \n",
       "total_sales            -0.220495  0.984299  0.941008  0.648860     0.998640   \n",
       "\n",
       "                 critic_score  user_score  total_sales  \n",
       "year_of_release     -0.245439   -0.248736    -0.220495  \n",
       "na_sales             0.342724   -0.012298     0.984299  \n",
       "eu_sales             0.336418   -0.009435     0.941008  \n",
       "jp_sales             0.290613    0.112592     0.648860  \n",
       "other_sales          0.349204   -0.018868     0.998640  \n",
       "critic_score         1.000000    0.520946     0.350345  \n",
       "user_score           0.520946    1.000000    -0.011742  \n",
       "total_sales          0.350345   -0.011742     1.000000  "
      ]
     },
     "execution_count": 52,
     "metadata": {},
     "output_type": "execute_result"
    }
   ],
   "source": [
    "data_X360['critic_score'] = data_X360['critic_score'].astype(float)\n",
    "data_X360['user_score'] = data_X360['user_score'].astype(float)\n",
    "data_X360.corr()"
   ]
  },
  {
   "cell_type": "markdown",
   "metadata": {},
   "source": [
    "Итак, по графикам и матрице корреляции можно сделать вывод о платформе X360: нет зависимости продаж от количества отзывов критиков (совсем небольшой процент) или пользователей (вообще отрицательный показатель). "
   ]
  },
  {
   "cell_type": "markdown",
   "metadata": {},
   "source": [
    "Подтвердим или опровергнем подобные выводы на любой рандомной платформе, например PS4."
   ]
  },
  {
   "cell_type": "code",
   "execution_count": 53,
   "metadata": {},
   "outputs": [
    {
     "data": {
      "text/html": [
       "<div>\n",
       "<style scoped>\n",
       "    .dataframe tbody tr th:only-of-type {\n",
       "        vertical-align: middle;\n",
       "    }\n",
       "\n",
       "    .dataframe tbody tr th {\n",
       "        vertical-align: top;\n",
       "    }\n",
       "\n",
       "    .dataframe thead th {\n",
       "        text-align: right;\n",
       "    }\n",
       "</style>\n",
       "<table border=\"1\" class=\"dataframe\">\n",
       "  <thead>\n",
       "    <tr style=\"text-align: right;\">\n",
       "      <th></th>\n",
       "      <th>name</th>\n",
       "      <th>platform</th>\n",
       "      <th>year_of_release</th>\n",
       "      <th>genre</th>\n",
       "      <th>na_sales</th>\n",
       "      <th>eu_sales</th>\n",
       "      <th>jp_sales</th>\n",
       "      <th>other_sales</th>\n",
       "      <th>critic_score</th>\n",
       "      <th>user_score</th>\n",
       "      <th>rating</th>\n",
       "      <th>total_sales</th>\n",
       "    </tr>\n",
       "  </thead>\n",
       "  <tbody>\n",
       "    <tr>\n",
       "      <th>31</th>\n",
       "      <td>Call of Duty: Black Ops 3</td>\n",
       "      <td>PS4</td>\n",
       "      <td>2015.0</td>\n",
       "      <td>Shooter</td>\n",
       "      <td>6.03</td>\n",
       "      <td>5.86</td>\n",
       "      <td>0.36</td>\n",
       "      <td>2.38</td>\n",
       "      <td>nan</td>\n",
       "      <td>nan</td>\n",
       "      <td>nan</td>\n",
       "      <td>14.63</td>\n",
       "    </tr>\n",
       "    <tr>\n",
       "      <th>42</th>\n",
       "      <td>Grand Theft Auto V</td>\n",
       "      <td>PS4</td>\n",
       "      <td>2014.0</td>\n",
       "      <td>Action</td>\n",
       "      <td>3.96</td>\n",
       "      <td>6.31</td>\n",
       "      <td>0.38</td>\n",
       "      <td>1.97</td>\n",
       "      <td>97.0</td>\n",
       "      <td>8.3</td>\n",
       "      <td>M</td>\n",
       "      <td>12.62</td>\n",
       "    </tr>\n",
       "    <tr>\n",
       "      <th>77</th>\n",
       "      <td>FIFA 16</td>\n",
       "      <td>PS4</td>\n",
       "      <td>2015.0</td>\n",
       "      <td>Sports</td>\n",
       "      <td>1.12</td>\n",
       "      <td>6.12</td>\n",
       "      <td>0.06</td>\n",
       "      <td>1.28</td>\n",
       "      <td>82.0</td>\n",
       "      <td>4.3</td>\n",
       "      <td>E</td>\n",
       "      <td>8.58</td>\n",
       "    </tr>\n",
       "    <tr>\n",
       "      <th>87</th>\n",
       "      <td>Star Wars Battlefront (2015)</td>\n",
       "      <td>PS4</td>\n",
       "      <td>2015.0</td>\n",
       "      <td>Shooter</td>\n",
       "      <td>2.99</td>\n",
       "      <td>3.49</td>\n",
       "      <td>0.22</td>\n",
       "      <td>1.28</td>\n",
       "      <td>nan</td>\n",
       "      <td>nan</td>\n",
       "      <td>nan</td>\n",
       "      <td>7.98</td>\n",
       "    </tr>\n",
       "    <tr>\n",
       "      <th>92</th>\n",
       "      <td>Call of Duty: Advanced Warfare</td>\n",
       "      <td>PS4</td>\n",
       "      <td>2014.0</td>\n",
       "      <td>Shooter</td>\n",
       "      <td>2.81</td>\n",
       "      <td>3.48</td>\n",
       "      <td>0.14</td>\n",
       "      <td>1.23</td>\n",
       "      <td>83.0</td>\n",
       "      <td>5.7</td>\n",
       "      <td>M</td>\n",
       "      <td>7.66</td>\n",
       "    </tr>\n",
       "  </tbody>\n",
       "</table>\n",
       "</div>"
      ],
      "text/plain": [
       "                              name platform  year_of_release    genre  \\\n",
       "31       Call of Duty: Black Ops 3      PS4           2015.0  Shooter   \n",
       "42              Grand Theft Auto V      PS4           2014.0   Action   \n",
       "77                         FIFA 16      PS4           2015.0   Sports   \n",
       "87    Star Wars Battlefront (2015)      PS4           2015.0  Shooter   \n",
       "92  Call of Duty: Advanced Warfare      PS4           2014.0  Shooter   \n",
       "\n",
       "    na_sales  eu_sales  jp_sales  other_sales critic_score user_score rating  \\\n",
       "31      6.03      5.86      0.36         2.38          nan        nan    nan   \n",
       "42      3.96      6.31      0.38         1.97         97.0        8.3      M   \n",
       "77      1.12      6.12      0.06         1.28         82.0        4.3      E   \n",
       "87      2.99      3.49      0.22         1.28          nan        nan    nan   \n",
       "92      2.81      3.48      0.14         1.23         83.0        5.7      M   \n",
       "\n",
       "    total_sales  \n",
       "31        14.63  \n",
       "42        12.62  \n",
       "77         8.58  \n",
       "87         7.98  \n",
       "92         7.66  "
      ]
     },
     "execution_count": 53,
     "metadata": {},
     "output_type": "execute_result"
    }
   ],
   "source": [
    "list_PS4 = ['PS4']\n",
    "data_PS4 = data_2013.query('platform in @list_PS4')\n",
    "data_PS4.head()"
   ]
  },
  {
   "cell_type": "code",
   "execution_count": 54,
   "metadata": {},
   "outputs": [
    {
     "name": "stderr",
     "output_type": "stream",
     "text": [
      "/tmp/ipykernel_53/1984970452.py:1: SettingWithCopyWarning: \n",
      "A value is trying to be set on a copy of a slice from a DataFrame.\n",
      "Try using .loc[row_indexer,col_indexer] = value instead\n",
      "\n",
      "See the caveats in the documentation: https://pandas.pydata.org/pandas-docs/stable/user_guide/indexing.html#returning-a-view-versus-a-copy\n",
      "  data_PS4['critic_score'] = data_PS4['critic_score'].astype(float)\n",
      "/tmp/ipykernel_53/1984970452.py:2: SettingWithCopyWarning: \n",
      "A value is trying to be set on a copy of a slice from a DataFrame.\n",
      "Try using .loc[row_indexer,col_indexer] = value instead\n",
      "\n",
      "See the caveats in the documentation: https://pandas.pydata.org/pandas-docs/stable/user_guide/indexing.html#returning-a-view-versus-a-copy\n",
      "  data_PS4['user_score'] = data_PS4['user_score'].astype(float)\n"
     ]
    }
   ],
   "source": [
    "data_PS4['critic_score'] = data_PS4['critic_score'].astype(float)\n",
    "data_PS4['user_score'] = data_PS4['user_score'].astype(float)\n"
   ]
  },
  {
   "cell_type": "code",
   "execution_count": 55,
   "metadata": {},
   "outputs": [
    {
     "data": {
      "image/png": "[encoded data removed]",
      "text/plain": [
       "<Figure size 432x288 with 1 Axes>"
      ]
     },
     "metadata": {
      "needs_background": "light"
     },
     "output_type": "display_data"
    }
   ],
   "source": [
    "#построим диаграмму рассеяния\n",
    "data_PS4.plot(x='critic_score', y='total_sales', kind='scatter', grid=True) \n",
    "_= plt.title('Зависимость между кол-вом продаж и отзывов критиков', pad =20)\n"
   ]
  },
  {
   "cell_type": "code",
   "execution_count": 56,
   "metadata": {},
   "outputs": [
    {
     "data": {
      "image/png": "[encoded data removed]",
      "text/plain": [
       "<Figure size 432x288 with 1 Axes>"
      ]
     },
     "metadata": {
      "needs_background": "light"
     },
     "output_type": "display_data"
    }
   ],
   "source": [
    "#построим диаграмму рассеяния\n",
    "data_PS4.plot(x='user_score', y='total_sales', kind='scatter', grid=True) \n",
    "_= plt.title('Зависимость между кол-вом продаж и отзывов пользователей', pad =20)\n"
   ]
  },
  {
   "cell_type": "code",
   "execution_count": 57,
   "metadata": {},
   "outputs": [
    {
     "data": {
      "text/html": [
       "<div>\n",
       "<style scoped>\n",
       "    .dataframe tbody tr th:only-of-type {\n",
       "        vertical-align: middle;\n",
       "    }\n",
       "\n",
       "    .dataframe tbody tr th {\n",
       "        vertical-align: top;\n",
       "    }\n",
       "\n",
       "    .dataframe thead th {\n",
       "        text-align: right;\n",
       "    }\n",
       "</style>\n",
       "<table border=\"1\" class=\"dataframe\">\n",
       "  <thead>\n",
       "    <tr style=\"text-align: right;\">\n",
       "      <th></th>\n",
       "      <th>year_of_release</th>\n",
       "      <th>na_sales</th>\n",
       "      <th>eu_sales</th>\n",
       "      <th>jp_sales</th>\n",
       "      <th>other_sales</th>\n",
       "      <th>critic_score</th>\n",
       "      <th>user_score</th>\n",
       "      <th>total_sales</th>\n",
       "    </tr>\n",
       "  </thead>\n",
       "  <tbody>\n",
       "    <tr>\n",
       "      <th>year_of_release</th>\n",
       "      <td>1.000000</td>\n",
       "      <td>-0.248961</td>\n",
       "      <td>-0.208306</td>\n",
       "      <td>-0.060993</td>\n",
       "      <td>-0.234796</td>\n",
       "      <td>-0.021142</td>\n",
       "      <td>0.152447</td>\n",
       "      <td>-0.235032</td>\n",
       "    </tr>\n",
       "    <tr>\n",
       "      <th>na_sales</th>\n",
       "      <td>-0.248961</td>\n",
       "      <td>1.000000</td>\n",
       "      <td>0.785362</td>\n",
       "      <td>0.472981</td>\n",
       "      <td>0.944259</td>\n",
       "      <td>0.415008</td>\n",
       "      <td>-0.020933</td>\n",
       "      <td>0.928160</td>\n",
       "    </tr>\n",
       "    <tr>\n",
       "      <th>eu_sales</th>\n",
       "      <td>-0.208306</td>\n",
       "      <td>0.785362</td>\n",
       "      <td>1.000000</td>\n",
       "      <td>0.464563</td>\n",
       "      <td>0.944698</td>\n",
       "      <td>0.346720</td>\n",
       "      <td>-0.048925</td>\n",
       "      <td>0.958157</td>\n",
       "    </tr>\n",
       "    <tr>\n",
       "      <th>jp_sales</th>\n",
       "      <td>-0.060993</td>\n",
       "      <td>0.472981</td>\n",
       "      <td>0.464563</td>\n",
       "      <td>1.000000</td>\n",
       "      <td>0.496467</td>\n",
       "      <td>0.322358</td>\n",
       "      <td>0.171332</td>\n",
       "      <td>0.527129</td>\n",
       "    </tr>\n",
       "    <tr>\n",
       "      <th>other_sales</th>\n",
       "      <td>-0.234796</td>\n",
       "      <td>0.944259</td>\n",
       "      <td>0.944698</td>\n",
       "      <td>0.496467</td>\n",
       "      <td>1.000000</td>\n",
       "      <td>0.409191</td>\n",
       "      <td>-0.035639</td>\n",
       "      <td>0.998051</td>\n",
       "    </tr>\n",
       "    <tr>\n",
       "      <th>critic_score</th>\n",
       "      <td>-0.021142</td>\n",
       "      <td>0.415008</td>\n",
       "      <td>0.346720</td>\n",
       "      <td>0.322358</td>\n",
       "      <td>0.409191</td>\n",
       "      <td>1.000000</td>\n",
       "      <td>0.557654</td>\n",
       "      <td>0.406568</td>\n",
       "    </tr>\n",
       "    <tr>\n",
       "      <th>user_score</th>\n",
       "      <td>0.152447</td>\n",
       "      <td>-0.020933</td>\n",
       "      <td>-0.048925</td>\n",
       "      <td>0.171332</td>\n",
       "      <td>-0.035639</td>\n",
       "      <td>0.557654</td>\n",
       "      <td>1.000000</td>\n",
       "      <td>-0.031957</td>\n",
       "    </tr>\n",
       "    <tr>\n",
       "      <th>total_sales</th>\n",
       "      <td>-0.235032</td>\n",
       "      <td>0.928160</td>\n",
       "      <td>0.958157</td>\n",
       "      <td>0.527129</td>\n",
       "      <td>0.998051</td>\n",
       "      <td>0.406568</td>\n",
       "      <td>-0.031957</td>\n",
       "      <td>1.000000</td>\n",
       "    </tr>\n",
       "  </tbody>\n",
       "</table>\n",
       "</div>"
      ],
      "text/plain": [
       "                 year_of_release  na_sales  eu_sales  jp_sales  other_sales  \\\n",
       "year_of_release         1.000000 -0.248961 -0.208306 -0.060993    -0.234796   \n",
       "na_sales               -0.248961  1.000000  0.785362  0.472981     0.944259   \n",
       "eu_sales               -0.208306  0.785362  1.000000  0.464563     0.944698   \n",
       "jp_sales               -0.060993  0.472981  0.464563  1.000000     0.496467   \n",
       "other_sales            -0.234796  0.944259  0.944698  0.496467     1.000000   \n",
       "critic_score           -0.021142  0.415008  0.346720  0.322358     0.409191   \n",
       "user_score              0.152447 -0.020933 -0.048925  0.171332    -0.035639   \n",
       "total_sales            -0.235032  0.928160  0.958157  0.527129     0.998051   \n",
       "\n",
       "                 critic_score  user_score  total_sales  \n",
       "year_of_release     -0.021142    0.152447    -0.235032  \n",
       "na_sales             0.415008   -0.020933     0.928160  \n",
       "eu_sales             0.346720   -0.048925     0.958157  \n",
       "jp_sales             0.322358    0.171332     0.527129  \n",
       "other_sales          0.409191   -0.035639     0.998051  \n",
       "critic_score         1.000000    0.557654     0.406568  \n",
       "user_score           0.557654    1.000000    -0.031957  \n",
       "total_sales          0.406568   -0.031957     1.000000  "
      ]
     },
     "execution_count": 57,
     "metadata": {},
     "output_type": "execute_result"
    }
   ],
   "source": [
    "data_PS4.corr()"
   ]
  },
  {
   "cell_type": "markdown",
   "metadata": {},
   "source": [
    "Выше сказанные выводы так же подтвердились и на этой платформе."
   ]
  },
  {
   "cell_type": "markdown",
   "metadata": {},
   "source": [
    "#### Распределение по жанрам."
   ]
  },
  {
   "cell_type": "markdown",
   "metadata": {},
   "source": [
    "Посмотрим на общее распределение игр по жанрам. "
   ]
  },
  {
   "cell_type": "code",
   "execution_count": 58,
   "metadata": {},
   "outputs": [
    {
     "data": {
      "text/html": [
       "<div>\n",
       "<style scoped>\n",
       "    .dataframe tbody tr th:only-of-type {\n",
       "        vertical-align: middle;\n",
       "    }\n",
       "\n",
       "    .dataframe tbody tr th {\n",
       "        vertical-align: top;\n",
       "    }\n",
       "\n",
       "    .dataframe thead th {\n",
       "        text-align: right;\n",
       "    }\n",
       "</style>\n",
       "<table border=\"1\" class=\"dataframe\">\n",
       "  <thead>\n",
       "    <tr style=\"text-align: right;\">\n",
       "      <th></th>\n",
       "      <th>name</th>\n",
       "    </tr>\n",
       "    <tr>\n",
       "      <th>genre</th>\n",
       "      <th></th>\n",
       "    </tr>\n",
       "  </thead>\n",
       "  <tbody>\n",
       "    <tr>\n",
       "      <th>Action</th>\n",
       "      <td>766</td>\n",
       "    </tr>\n",
       "    <tr>\n",
       "      <th>Role-Playing</th>\n",
       "      <td>292</td>\n",
       "    </tr>\n",
       "    <tr>\n",
       "      <th>Adventure</th>\n",
       "      <td>245</td>\n",
       "    </tr>\n",
       "    <tr>\n",
       "      <th>Sports</th>\n",
       "      <td>214</td>\n",
       "    </tr>\n",
       "    <tr>\n",
       "      <th>Shooter</th>\n",
       "      <td>187</td>\n",
       "    </tr>\n",
       "    <tr>\n",
       "      <th>Misc</th>\n",
       "      <td>155</td>\n",
       "    </tr>\n",
       "    <tr>\n",
       "      <th>Racing</th>\n",
       "      <td>85</td>\n",
       "    </tr>\n",
       "    <tr>\n",
       "      <th>Fighting</th>\n",
       "      <td>80</td>\n",
       "    </tr>\n",
       "    <tr>\n",
       "      <th>Platform</th>\n",
       "      <td>74</td>\n",
       "    </tr>\n",
       "    <tr>\n",
       "      <th>Simulation</th>\n",
       "      <td>62</td>\n",
       "    </tr>\n",
       "    <tr>\n",
       "      <th>Strategy</th>\n",
       "      <td>56</td>\n",
       "    </tr>\n",
       "    <tr>\n",
       "      <th>Puzzle</th>\n",
       "      <td>17</td>\n",
       "    </tr>\n",
       "  </tbody>\n",
       "</table>\n",
       "</div>"
      ],
      "text/plain": [
       "              name\n",
       "genre             \n",
       "Action         766\n",
       "Role-Playing   292\n",
       "Adventure      245\n",
       "Sports         214\n",
       "Shooter        187\n",
       "Misc           155\n",
       "Racing          85\n",
       "Fighting        80\n",
       "Platform        74\n",
       "Simulation      62\n",
       "Strategy        56\n",
       "Puzzle          17"
      ]
     },
     "execution_count": 58,
     "metadata": {},
     "output_type": "execute_result"
    }
   ],
   "source": [
    "data_genre = data_2013.pivot_table(index='genre', values='name', aggfunc='count')\\\n",
    ".sort_values('name', ascending=False)\n",
    "data_genre"
   ]
  },
  {
   "cell_type": "markdown",
   "metadata": {},
   "source": [
    "Лидерами по популярности являются жанры: Action, Role-Playing, Adventure. Меньше всего по количеству игр: Simulation, Strategy, Puzzle\t "
   ]
  },
  {
   "cell_type": "markdown",
   "metadata": {},
   "source": [
    "Выделим жанры с высокими и низкими продажами, сравнивая медианные значения продаж, так как за высокими показателями общих продаж может скрываться множество мелких игр с низкими продажами и анализ медианных показателей позволит найти жанр, который приносит высокий доход."
   ]
  },
  {
   "cell_type": "code",
   "execution_count": 59,
   "metadata": {},
   "outputs": [
    {
     "data": {
      "text/html": [
       "<div>\n",
       "<style scoped>\n",
       "    .dataframe tbody tr th:only-of-type {\n",
       "        vertical-align: middle;\n",
       "    }\n",
       "\n",
       "    .dataframe tbody tr th {\n",
       "        vertical-align: top;\n",
       "    }\n",
       "\n",
       "    .dataframe thead th {\n",
       "        text-align: right;\n",
       "    }\n",
       "</style>\n",
       "<table border=\"1\" class=\"dataframe\">\n",
       "  <thead>\n",
       "    <tr style=\"text-align: right;\">\n",
       "      <th></th>\n",
       "      <th>total_sales</th>\n",
       "    </tr>\n",
       "    <tr>\n",
       "      <th>genre</th>\n",
       "      <th></th>\n",
       "    </tr>\n",
       "  </thead>\n",
       "  <tbody>\n",
       "    <tr>\n",
       "      <th>Shooter</th>\n",
       "      <td>0.450</td>\n",
       "    </tr>\n",
       "    <tr>\n",
       "      <th>Sports</th>\n",
       "      <td>0.240</td>\n",
       "    </tr>\n",
       "    <tr>\n",
       "      <th>Platform</th>\n",
       "      <td>0.225</td>\n",
       "    </tr>\n",
       "    <tr>\n",
       "      <th>Role-Playing</th>\n",
       "      <td>0.125</td>\n",
       "    </tr>\n",
       "    <tr>\n",
       "      <th>Fighting</th>\n",
       "      <td>0.125</td>\n",
       "    </tr>\n",
       "    <tr>\n",
       "      <th>Racing</th>\n",
       "      <td>0.120</td>\n",
       "    </tr>\n",
       "    <tr>\n",
       "      <th>Action</th>\n",
       "      <td>0.110</td>\n",
       "    </tr>\n",
       "    <tr>\n",
       "      <th>Simulation</th>\n",
       "      <td>0.100</td>\n",
       "    </tr>\n",
       "    <tr>\n",
       "      <th>Misc</th>\n",
       "      <td>0.100</td>\n",
       "    </tr>\n",
       "    <tr>\n",
       "      <th>Strategy</th>\n",
       "      <td>0.080</td>\n",
       "    </tr>\n",
       "    <tr>\n",
       "      <th>Puzzle</th>\n",
       "      <td>0.060</td>\n",
       "    </tr>\n",
       "    <tr>\n",
       "      <th>Adventure</th>\n",
       "      <td>0.030</td>\n",
       "    </tr>\n",
       "  </tbody>\n",
       "</table>\n",
       "</div>"
      ],
      "text/plain": [
       "              total_sales\n",
       "genre                    \n",
       "Shooter             0.450\n",
       "Sports              0.240\n",
       "Platform            0.225\n",
       "Role-Playing        0.125\n",
       "Fighting            0.125\n",
       "Racing              0.120\n",
       "Action              0.110\n",
       "Simulation          0.100\n",
       "Misc                0.100\n",
       "Strategy            0.080\n",
       "Puzzle              0.060\n",
       "Adventure           0.030"
      ]
     },
     "execution_count": 59,
     "metadata": {},
     "output_type": "execute_result"
    }
   ],
   "source": [
    "data_genre_sales = data_2013\\\n",
    ".pivot_table(index='genre', values='total_sales', aggfunc='median')\\\n",
    ".sort_values('total_sales', ascending=False)\n",
    "data_genre_sales"
   ]
  },
  {
   "cell_type": "markdown",
   "metadata": {},
   "source": [
    "Лидерами по продажам являются жанры: Shooter, Sports, Platform. Меньше всего продавались игры жанров: Strategy, Puzzle, Adventure.   "
   ]
  },
  {
   "cell_type": "markdown",
   "metadata": {},
   "source": [
    "Сравнивая лидеров и аутсайдеров по количеству и продажам, видно, что они разные."
   ]
  },
  {
   "cell_type": "markdown",
   "metadata": {},
   "source": [
    "## Портрет пользователя каждого региона."
   ]
  },
  {
   "cell_type": "markdown",
   "metadata": {},
   "source": [
    "Определим для пользователя каждого региона (NA, EU, JP):\n",
    "\n",
    "- Самые популярные платформы (топ-5). Различия в долях продаж.\n",
    "- Самые популярные жанры (топ-5). \n",
    "- Влияет ли рейтинг ESRB на продажи в отдельном регионе?"
   ]
  },
  {
   "cell_type": "markdown",
   "metadata": {},
   "source": [
    "### Самые популярные платформы (топ-5)"
   ]
  },
  {
   "cell_type": "code",
   "execution_count": 60,
   "metadata": {},
   "outputs": [
    {
     "data": {
      "text/html": [
       "<div>\n",
       "<style scoped>\n",
       "    .dataframe tbody tr th:only-of-type {\n",
       "        vertical-align: middle;\n",
       "    }\n",
       "\n",
       "    .dataframe tbody tr th {\n",
       "        vertical-align: top;\n",
       "    }\n",
       "\n",
       "    .dataframe thead th {\n",
       "        text-align: right;\n",
       "    }\n",
       "</style>\n",
       "<table border=\"1\" class=\"dataframe\">\n",
       "  <thead>\n",
       "    <tr style=\"text-align: right;\">\n",
       "      <th></th>\n",
       "      <th>name</th>\n",
       "      <th>platform</th>\n",
       "      <th>year_of_release</th>\n",
       "      <th>genre</th>\n",
       "      <th>na_sales</th>\n",
       "      <th>eu_sales</th>\n",
       "      <th>jp_sales</th>\n",
       "      <th>other_sales</th>\n",
       "      <th>critic_score</th>\n",
       "      <th>user_score</th>\n",
       "      <th>rating</th>\n",
       "      <th>total_sales</th>\n",
       "    </tr>\n",
       "  </thead>\n",
       "  <tbody>\n",
       "    <tr>\n",
       "      <th>16</th>\n",
       "      <td>Grand Theft Auto V</td>\n",
       "      <td>PS3</td>\n",
       "      <td>2013.0</td>\n",
       "      <td>Action</td>\n",
       "      <td>7.02</td>\n",
       "      <td>9.09</td>\n",
       "      <td>0.98</td>\n",
       "      <td>3.96</td>\n",
       "      <td>97.0</td>\n",
       "      <td>8.2</td>\n",
       "      <td>M</td>\n",
       "      <td>21.05</td>\n",
       "    </tr>\n",
       "    <tr>\n",
       "      <th>23</th>\n",
       "      <td>Grand Theft Auto V</td>\n",
       "      <td>X360</td>\n",
       "      <td>2013.0</td>\n",
       "      <td>Action</td>\n",
       "      <td>9.66</td>\n",
       "      <td>5.14</td>\n",
       "      <td>0.06</td>\n",
       "      <td>1.41</td>\n",
       "      <td>97.0</td>\n",
       "      <td>8.1</td>\n",
       "      <td>M</td>\n",
       "      <td>16.27</td>\n",
       "    </tr>\n",
       "    <tr>\n",
       "      <th>31</th>\n",
       "      <td>Call of Duty: Black Ops 3</td>\n",
       "      <td>PS4</td>\n",
       "      <td>2015.0</td>\n",
       "      <td>Shooter</td>\n",
       "      <td>6.03</td>\n",
       "      <td>5.86</td>\n",
       "      <td>0.36</td>\n",
       "      <td>2.38</td>\n",
       "      <td>nan</td>\n",
       "      <td>nan</td>\n",
       "      <td>nan</td>\n",
       "      <td>14.63</td>\n",
       "    </tr>\n",
       "    <tr>\n",
       "      <th>33</th>\n",
       "      <td>Pokemon X/Pokemon Y</td>\n",
       "      <td>3DS</td>\n",
       "      <td>2013.0</td>\n",
       "      <td>Role-Playing</td>\n",
       "      <td>5.28</td>\n",
       "      <td>4.19</td>\n",
       "      <td>4.35</td>\n",
       "      <td>0.78</td>\n",
       "      <td>nan</td>\n",
       "      <td>nan</td>\n",
       "      <td>nan</td>\n",
       "      <td>14.60</td>\n",
       "    </tr>\n",
       "    <tr>\n",
       "      <th>42</th>\n",
       "      <td>Grand Theft Auto V</td>\n",
       "      <td>PS4</td>\n",
       "      <td>2014.0</td>\n",
       "      <td>Action</td>\n",
       "      <td>3.96</td>\n",
       "      <td>6.31</td>\n",
       "      <td>0.38</td>\n",
       "      <td>1.97</td>\n",
       "      <td>97.0</td>\n",
       "      <td>8.3</td>\n",
       "      <td>M</td>\n",
       "      <td>12.62</td>\n",
       "    </tr>\n",
       "  </tbody>\n",
       "</table>\n",
       "</div>"
      ],
      "text/plain": [
       "                         name platform  year_of_release         genre  \\\n",
       "16         Grand Theft Auto V      PS3           2013.0        Action   \n",
       "23         Grand Theft Auto V     X360           2013.0        Action   \n",
       "31  Call of Duty: Black Ops 3      PS4           2015.0       Shooter   \n",
       "33        Pokemon X/Pokemon Y      3DS           2013.0  Role-Playing   \n",
       "42         Grand Theft Auto V      PS4           2014.0        Action   \n",
       "\n",
       "    na_sales  eu_sales  jp_sales  other_sales critic_score user_score rating  \\\n",
       "16      7.02      9.09      0.98         3.96         97.0        8.2      M   \n",
       "23      9.66      5.14      0.06         1.41         97.0        8.1      M   \n",
       "31      6.03      5.86      0.36         2.38          nan        nan    nan   \n",
       "33      5.28      4.19      4.35         0.78          nan        nan    nan   \n",
       "42      3.96      6.31      0.38         1.97         97.0        8.3      M   \n",
       "\n",
       "    total_sales  \n",
       "16        21.05  \n",
       "23        16.27  \n",
       "31        14.63  \n",
       "33        14.60  \n",
       "42        12.62  "
      ]
     },
     "execution_count": 60,
     "metadata": {},
     "output_type": "execute_result"
    }
   ],
   "source": [
    "data_2013.head()"
   ]
  },
  {
   "cell_type": "code",
   "execution_count": 61,
   "metadata": {},
   "outputs": [
    {
     "data": {
      "text/html": [
       "<div>\n",
       "<style scoped>\n",
       "    .dataframe tbody tr th:only-of-type {\n",
       "        vertical-align: middle;\n",
       "    }\n",
       "\n",
       "    .dataframe tbody tr th {\n",
       "        vertical-align: top;\n",
       "    }\n",
       "\n",
       "    .dataframe thead th {\n",
       "        text-align: right;\n",
       "    }\n",
       "</style>\n",
       "<table border=\"1\" class=\"dataframe\">\n",
       "  <thead>\n",
       "    <tr style=\"text-align: right;\">\n",
       "      <th></th>\n",
       "      <th>platform</th>\n",
       "      <th>na_sales</th>\n",
       "      <th>eu_sales</th>\n",
       "      <th>jp_sales</th>\n",
       "      <th>total_sales</th>\n",
       "    </tr>\n",
       "  </thead>\n",
       "  <tbody>\n",
       "    <tr>\n",
       "      <th>0</th>\n",
       "      <td>3DS</td>\n",
       "      <td>38.20</td>\n",
       "      <td>30.96</td>\n",
       "      <td>67.81</td>\n",
       "      <td>143.25</td>\n",
       "    </tr>\n",
       "    <tr>\n",
       "      <th>1</th>\n",
       "      <td>DS</td>\n",
       "      <td>0.57</td>\n",
       "      <td>0.85</td>\n",
       "      <td>0.00</td>\n",
       "      <td>1.54</td>\n",
       "    </tr>\n",
       "    <tr>\n",
       "      <th>2</th>\n",
       "      <td>PC</td>\n",
       "      <td>11.11</td>\n",
       "      <td>25.36</td>\n",
       "      <td>0.00</td>\n",
       "      <td>39.43</td>\n",
       "    </tr>\n",
       "    <tr>\n",
       "      <th>3</th>\n",
       "      <td>PS3</td>\n",
       "      <td>63.50</td>\n",
       "      <td>67.81</td>\n",
       "      <td>23.35</td>\n",
       "      <td>181.43</td>\n",
       "    </tr>\n",
       "    <tr>\n",
       "      <th>4</th>\n",
       "      <td>PS4</td>\n",
       "      <td>108.74</td>\n",
       "      <td>141.09</td>\n",
       "      <td>15.96</td>\n",
       "      <td>314.14</td>\n",
       "    </tr>\n",
       "    <tr>\n",
       "      <th>5</th>\n",
       "      <td>PSP</td>\n",
       "      <td>0.00</td>\n",
       "      <td>0.17</td>\n",
       "      <td>3.29</td>\n",
       "      <td>3.50</td>\n",
       "    </tr>\n",
       "    <tr>\n",
       "      <th>6</th>\n",
       "      <td>PSV</td>\n",
       "      <td>5.04</td>\n",
       "      <td>6.10</td>\n",
       "      <td>18.59</td>\n",
       "      <td>32.99</td>\n",
       "    </tr>\n",
       "    <tr>\n",
       "      <th>7</th>\n",
       "      <td>Wii</td>\n",
       "      <td>6.56</td>\n",
       "      <td>5.93</td>\n",
       "      <td>0.05</td>\n",
       "      <td>13.66</td>\n",
       "    </tr>\n",
       "    <tr>\n",
       "      <th>8</th>\n",
       "      <td>WiiU</td>\n",
       "      <td>29.21</td>\n",
       "      <td>19.85</td>\n",
       "      <td>10.88</td>\n",
       "      <td>64.63</td>\n",
       "    </tr>\n",
       "    <tr>\n",
       "      <th>9</th>\n",
       "      <td>X360</td>\n",
       "      <td>81.66</td>\n",
       "      <td>42.52</td>\n",
       "      <td>0.51</td>\n",
       "      <td>136.80</td>\n",
       "    </tr>\n",
       "    <tr>\n",
       "      <th>10</th>\n",
       "      <td>XOne</td>\n",
       "      <td>93.12</td>\n",
       "      <td>51.59</td>\n",
       "      <td>0.34</td>\n",
       "      <td>159.32</td>\n",
       "    </tr>\n",
       "  </tbody>\n",
       "</table>\n",
       "</div>"
      ],
      "text/plain": [
       "   platform  na_sales  eu_sales  jp_sales  total_sales\n",
       "0       3DS     38.20     30.96     67.81       143.25\n",
       "1        DS      0.57      0.85      0.00         1.54\n",
       "2        PC     11.11     25.36      0.00        39.43\n",
       "3       PS3     63.50     67.81     23.35       181.43\n",
       "4       PS4    108.74    141.09     15.96       314.14\n",
       "5       PSP      0.00      0.17      3.29         3.50\n",
       "6       PSV      5.04      6.10     18.59        32.99\n",
       "7       Wii      6.56      5.93      0.05        13.66\n",
       "8      WiiU     29.21     19.85     10.88        64.63\n",
       "9      X360     81.66     42.52      0.51       136.80\n",
       "10     XOne     93.12     51.59      0.34       159.32"
      ]
     },
     "execution_count": 61,
     "metadata": {},
     "output_type": "execute_result"
    }
   ],
   "source": [
    "#сгруппируем по платформам и посчитаем суммарные продажи по регионам\n",
    "data_platform_sales = data_2013.groupby(['platform'])[['na_sales', 'eu_sales', 'jp_sales', 'total_sales']]\\\n",
    ".agg(['sum']).reset_index()\n",
    "\n",
    "#переименуем столбцы\n",
    "data_platform_sales.columns = ['platform','na_sales', 'eu_sales', 'jp_sales', 'total_sales'] \n",
    "data_platform_sales"
   ]
  },
  {
   "cell_type": "markdown",
   "metadata": {},
   "source": [
    "Найдем доли продаж по регионам и выделим их в отдельные столбецы."
   ]
  },
  {
   "cell_type": "code",
   "execution_count": 62,
   "metadata": {},
   "outputs": [],
   "source": [
    "data_platform_sales['na_sales_share'] \\\n",
    "= round(((data_platform_sales['na_sales'] / data_platform_sales['total_sales'])*100), 2)\n"
   ]
  },
  {
   "cell_type": "code",
   "execution_count": 63,
   "metadata": {},
   "outputs": [],
   "source": [
    "data_platform_sales['eu_sales_share'] \\\n",
    "= round(((data_platform_sales['eu_sales'] / data_platform_sales['total_sales'])*100), 2)\n"
   ]
  },
  {
   "cell_type": "code",
   "execution_count": 64,
   "metadata": {},
   "outputs": [
    {
     "data": {
      "text/html": [
       "<div>\n",
       "<style scoped>\n",
       "    .dataframe tbody tr th:only-of-type {\n",
       "        vertical-align: middle;\n",
       "    }\n",
       "\n",
       "    .dataframe tbody tr th {\n",
       "        vertical-align: top;\n",
       "    }\n",
       "\n",
       "    .dataframe thead th {\n",
       "        text-align: right;\n",
       "    }\n",
       "</style>\n",
       "<table border=\"1\" class=\"dataframe\">\n",
       "  <thead>\n",
       "    <tr style=\"text-align: right;\">\n",
       "      <th></th>\n",
       "      <th>platform</th>\n",
       "      <th>na_sales</th>\n",
       "      <th>eu_sales</th>\n",
       "      <th>jp_sales</th>\n",
       "      <th>total_sales</th>\n",
       "      <th>na_sales_share</th>\n",
       "      <th>eu_sales_share</th>\n",
       "      <th>jp_sales_share</th>\n",
       "    </tr>\n",
       "  </thead>\n",
       "  <tbody>\n",
       "    <tr>\n",
       "      <th>0</th>\n",
       "      <td>3DS</td>\n",
       "      <td>38.20</td>\n",
       "      <td>30.96</td>\n",
       "      <td>67.81</td>\n",
       "      <td>143.25</td>\n",
       "      <td>26.67</td>\n",
       "      <td>21.61</td>\n",
       "      <td>47.34</td>\n",
       "    </tr>\n",
       "    <tr>\n",
       "      <th>1</th>\n",
       "      <td>DS</td>\n",
       "      <td>0.57</td>\n",
       "      <td>0.85</td>\n",
       "      <td>0.00</td>\n",
       "      <td>1.54</td>\n",
       "      <td>37.01</td>\n",
       "      <td>55.19</td>\n",
       "      <td>0.00</td>\n",
       "    </tr>\n",
       "    <tr>\n",
       "      <th>2</th>\n",
       "      <td>PC</td>\n",
       "      <td>11.11</td>\n",
       "      <td>25.36</td>\n",
       "      <td>0.00</td>\n",
       "      <td>39.43</td>\n",
       "      <td>28.18</td>\n",
       "      <td>64.32</td>\n",
       "      <td>0.00</td>\n",
       "    </tr>\n",
       "    <tr>\n",
       "      <th>3</th>\n",
       "      <td>PS3</td>\n",
       "      <td>63.50</td>\n",
       "      <td>67.81</td>\n",
       "      <td>23.35</td>\n",
       "      <td>181.43</td>\n",
       "      <td>35.00</td>\n",
       "      <td>37.38</td>\n",
       "      <td>12.87</td>\n",
       "    </tr>\n",
       "    <tr>\n",
       "      <th>4</th>\n",
       "      <td>PS4</td>\n",
       "      <td>108.74</td>\n",
       "      <td>141.09</td>\n",
       "      <td>15.96</td>\n",
       "      <td>314.14</td>\n",
       "      <td>34.62</td>\n",
       "      <td>44.91</td>\n",
       "      <td>5.08</td>\n",
       "    </tr>\n",
       "  </tbody>\n",
       "</table>\n",
       "</div>"
      ],
      "text/plain": [
       "  platform  na_sales  eu_sales  jp_sales  total_sales  na_sales_share  \\\n",
       "0      3DS     38.20     30.96     67.81       143.25           26.67   \n",
       "1       DS      0.57      0.85      0.00         1.54           37.01   \n",
       "2       PC     11.11     25.36      0.00        39.43           28.18   \n",
       "3      PS3     63.50     67.81     23.35       181.43           35.00   \n",
       "4      PS4    108.74    141.09     15.96       314.14           34.62   \n",
       "\n",
       "   eu_sales_share  jp_sales_share  \n",
       "0           21.61           47.34  \n",
       "1           55.19            0.00  \n",
       "2           64.32            0.00  \n",
       "3           37.38           12.87  \n",
       "4           44.91            5.08  "
      ]
     },
     "execution_count": 64,
     "metadata": {},
     "output_type": "execute_result"
    }
   ],
   "source": [
    "data_platform_sales['jp_sales_share'] \\\n",
    "= round(((data_platform_sales['jp_sales'] / data_platform_sales['total_sales'])*100), 2)\n",
    "data_platform_sales.head()"
   ]
  },
  {
   "cell_type": "markdown",
   "metadata": {},
   "source": [
    "Найдем ТОП-5 платформ в разбивке по регионам."
   ]
  },
  {
   "cell_type": "code",
   "execution_count": 65,
   "metadata": {},
   "outputs": [
    {
     "data": {
      "text/html": [
       "<div>\n",
       "<style scoped>\n",
       "    .dataframe tbody tr th:only-of-type {\n",
       "        vertical-align: middle;\n",
       "    }\n",
       "\n",
       "    .dataframe tbody tr th {\n",
       "        vertical-align: top;\n",
       "    }\n",
       "\n",
       "    .dataframe thead th {\n",
       "        text-align: right;\n",
       "    }\n",
       "</style>\n",
       "<table border=\"1\" class=\"dataframe\">\n",
       "  <thead>\n",
       "    <tr style=\"text-align: right;\">\n",
       "      <th></th>\n",
       "      <th>platform</th>\n",
       "      <th>na_sales</th>\n",
       "      <th>eu_sales</th>\n",
       "      <th>jp_sales</th>\n",
       "      <th>total_sales</th>\n",
       "      <th>na_sales_share</th>\n",
       "      <th>eu_sales_share</th>\n",
       "      <th>jp_sales_share</th>\n",
       "    </tr>\n",
       "  </thead>\n",
       "  <tbody>\n",
       "    <tr>\n",
       "      <th>4</th>\n",
       "      <td>PS4</td>\n",
       "      <td>108.74</td>\n",
       "      <td>141.09</td>\n",
       "      <td>15.96</td>\n",
       "      <td>314.14</td>\n",
       "      <td>34.62</td>\n",
       "      <td>44.91</td>\n",
       "      <td>5.08</td>\n",
       "    </tr>\n",
       "    <tr>\n",
       "      <th>10</th>\n",
       "      <td>XOne</td>\n",
       "      <td>93.12</td>\n",
       "      <td>51.59</td>\n",
       "      <td>0.34</td>\n",
       "      <td>159.32</td>\n",
       "      <td>58.45</td>\n",
       "      <td>32.38</td>\n",
       "      <td>0.21</td>\n",
       "    </tr>\n",
       "    <tr>\n",
       "      <th>9</th>\n",
       "      <td>X360</td>\n",
       "      <td>81.66</td>\n",
       "      <td>42.52</td>\n",
       "      <td>0.51</td>\n",
       "      <td>136.80</td>\n",
       "      <td>59.69</td>\n",
       "      <td>31.08</td>\n",
       "      <td>0.37</td>\n",
       "    </tr>\n",
       "    <tr>\n",
       "      <th>3</th>\n",
       "      <td>PS3</td>\n",
       "      <td>63.50</td>\n",
       "      <td>67.81</td>\n",
       "      <td>23.35</td>\n",
       "      <td>181.43</td>\n",
       "      <td>35.00</td>\n",
       "      <td>37.38</td>\n",
       "      <td>12.87</td>\n",
       "    </tr>\n",
       "    <tr>\n",
       "      <th>0</th>\n",
       "      <td>3DS</td>\n",
       "      <td>38.20</td>\n",
       "      <td>30.96</td>\n",
       "      <td>67.81</td>\n",
       "      <td>143.25</td>\n",
       "      <td>26.67</td>\n",
       "      <td>21.61</td>\n",
       "      <td>47.34</td>\n",
       "    </tr>\n",
       "  </tbody>\n",
       "</table>\n",
       "</div>"
      ],
      "text/plain": [
       "   platform  na_sales  eu_sales  jp_sales  total_sales  na_sales_share  \\\n",
       "4       PS4    108.74    141.09     15.96       314.14           34.62   \n",
       "10     XOne     93.12     51.59      0.34       159.32           58.45   \n",
       "9      X360     81.66     42.52      0.51       136.80           59.69   \n",
       "3       PS3     63.50     67.81     23.35       181.43           35.00   \n",
       "0       3DS     38.20     30.96     67.81       143.25           26.67   \n",
       "\n",
       "    eu_sales_share  jp_sales_share  \n",
       "4            44.91            5.08  \n",
       "10           32.38            0.21  \n",
       "9            31.08            0.37  \n",
       "3            37.38           12.87  \n",
       "0            21.61           47.34  "
      ]
     },
     "execution_count": 65,
     "metadata": {},
     "output_type": "execute_result"
    }
   ],
   "source": [
    "#na_sales\n",
    "data_platform_sales.sort_values('na_sales', ascending=False).head()\n"
   ]
  },
  {
   "cell_type": "code",
   "execution_count": 66,
   "metadata": {},
   "outputs": [
    {
     "data": {
      "text/html": [
       "<div>\n",
       "<style scoped>\n",
       "    .dataframe tbody tr th:only-of-type {\n",
       "        vertical-align: middle;\n",
       "    }\n",
       "\n",
       "    .dataframe tbody tr th {\n",
       "        vertical-align: top;\n",
       "    }\n",
       "\n",
       "    .dataframe thead th {\n",
       "        text-align: right;\n",
       "    }\n",
       "</style>\n",
       "<table border=\"1\" class=\"dataframe\">\n",
       "  <thead>\n",
       "    <tr style=\"text-align: right;\">\n",
       "      <th></th>\n",
       "      <th>platform</th>\n",
       "      <th>na_sales</th>\n",
       "      <th>eu_sales</th>\n",
       "      <th>jp_sales</th>\n",
       "      <th>total_sales</th>\n",
       "      <th>na_sales_share</th>\n",
       "      <th>eu_sales_share</th>\n",
       "      <th>jp_sales_share</th>\n",
       "    </tr>\n",
       "  </thead>\n",
       "  <tbody>\n",
       "    <tr>\n",
       "      <th>4</th>\n",
       "      <td>PS4</td>\n",
       "      <td>108.74</td>\n",
       "      <td>141.09</td>\n",
       "      <td>15.96</td>\n",
       "      <td>314.14</td>\n",
       "      <td>34.62</td>\n",
       "      <td>44.91</td>\n",
       "      <td>5.08</td>\n",
       "    </tr>\n",
       "    <tr>\n",
       "      <th>3</th>\n",
       "      <td>PS3</td>\n",
       "      <td>63.50</td>\n",
       "      <td>67.81</td>\n",
       "      <td>23.35</td>\n",
       "      <td>181.43</td>\n",
       "      <td>35.00</td>\n",
       "      <td>37.38</td>\n",
       "      <td>12.87</td>\n",
       "    </tr>\n",
       "    <tr>\n",
       "      <th>10</th>\n",
       "      <td>XOne</td>\n",
       "      <td>93.12</td>\n",
       "      <td>51.59</td>\n",
       "      <td>0.34</td>\n",
       "      <td>159.32</td>\n",
       "      <td>58.45</td>\n",
       "      <td>32.38</td>\n",
       "      <td>0.21</td>\n",
       "    </tr>\n",
       "    <tr>\n",
       "      <th>9</th>\n",
       "      <td>X360</td>\n",
       "      <td>81.66</td>\n",
       "      <td>42.52</td>\n",
       "      <td>0.51</td>\n",
       "      <td>136.80</td>\n",
       "      <td>59.69</td>\n",
       "      <td>31.08</td>\n",
       "      <td>0.37</td>\n",
       "    </tr>\n",
       "    <tr>\n",
       "      <th>0</th>\n",
       "      <td>3DS</td>\n",
       "      <td>38.20</td>\n",
       "      <td>30.96</td>\n",
       "      <td>67.81</td>\n",
       "      <td>143.25</td>\n",
       "      <td>26.67</td>\n",
       "      <td>21.61</td>\n",
       "      <td>47.34</td>\n",
       "    </tr>\n",
       "  </tbody>\n",
       "</table>\n",
       "</div>"
      ],
      "text/plain": [
       "   platform  na_sales  eu_sales  jp_sales  total_sales  na_sales_share  \\\n",
       "4       PS4    108.74    141.09     15.96       314.14           34.62   \n",
       "3       PS3     63.50     67.81     23.35       181.43           35.00   \n",
       "10     XOne     93.12     51.59      0.34       159.32           58.45   \n",
       "9      X360     81.66     42.52      0.51       136.80           59.69   \n",
       "0       3DS     38.20     30.96     67.81       143.25           26.67   \n",
       "\n",
       "    eu_sales_share  jp_sales_share  \n",
       "4            44.91            5.08  \n",
       "3            37.38           12.87  \n",
       "10           32.38            0.21  \n",
       "9            31.08            0.37  \n",
       "0            21.61           47.34  "
      ]
     },
     "execution_count": 66,
     "metadata": {},
     "output_type": "execute_result"
    }
   ],
   "source": [
    "#eu_sales\n",
    "data_platform_sales.sort_values('eu_sales', ascending=False).head()"
   ]
  },
  {
   "cell_type": "code",
   "execution_count": 67,
   "metadata": {},
   "outputs": [
    {
     "data": {
      "text/html": [
       "<div>\n",
       "<style scoped>\n",
       "    .dataframe tbody tr th:only-of-type {\n",
       "        vertical-align: middle;\n",
       "    }\n",
       "\n",
       "    .dataframe tbody tr th {\n",
       "        vertical-align: top;\n",
       "    }\n",
       "\n",
       "    .dataframe thead th {\n",
       "        text-align: right;\n",
       "    }\n",
       "</style>\n",
       "<table border=\"1\" class=\"dataframe\">\n",
       "  <thead>\n",
       "    <tr style=\"text-align: right;\">\n",
       "      <th></th>\n",
       "      <th>platform</th>\n",
       "      <th>na_sales</th>\n",
       "      <th>eu_sales</th>\n",
       "      <th>jp_sales</th>\n",
       "      <th>total_sales</th>\n",
       "      <th>na_sales_share</th>\n",
       "      <th>eu_sales_share</th>\n",
       "      <th>jp_sales_share</th>\n",
       "    </tr>\n",
       "  </thead>\n",
       "  <tbody>\n",
       "    <tr>\n",
       "      <th>0</th>\n",
       "      <td>3DS</td>\n",
       "      <td>38.20</td>\n",
       "      <td>30.96</td>\n",
       "      <td>67.81</td>\n",
       "      <td>143.25</td>\n",
       "      <td>26.67</td>\n",
       "      <td>21.61</td>\n",
       "      <td>47.34</td>\n",
       "    </tr>\n",
       "    <tr>\n",
       "      <th>3</th>\n",
       "      <td>PS3</td>\n",
       "      <td>63.50</td>\n",
       "      <td>67.81</td>\n",
       "      <td>23.35</td>\n",
       "      <td>181.43</td>\n",
       "      <td>35.00</td>\n",
       "      <td>37.38</td>\n",
       "      <td>12.87</td>\n",
       "    </tr>\n",
       "    <tr>\n",
       "      <th>6</th>\n",
       "      <td>PSV</td>\n",
       "      <td>5.04</td>\n",
       "      <td>6.10</td>\n",
       "      <td>18.59</td>\n",
       "      <td>32.99</td>\n",
       "      <td>15.28</td>\n",
       "      <td>18.49</td>\n",
       "      <td>56.35</td>\n",
       "    </tr>\n",
       "    <tr>\n",
       "      <th>4</th>\n",
       "      <td>PS4</td>\n",
       "      <td>108.74</td>\n",
       "      <td>141.09</td>\n",
       "      <td>15.96</td>\n",
       "      <td>314.14</td>\n",
       "      <td>34.62</td>\n",
       "      <td>44.91</td>\n",
       "      <td>5.08</td>\n",
       "    </tr>\n",
       "    <tr>\n",
       "      <th>8</th>\n",
       "      <td>WiiU</td>\n",
       "      <td>29.21</td>\n",
       "      <td>19.85</td>\n",
       "      <td>10.88</td>\n",
       "      <td>64.63</td>\n",
       "      <td>45.20</td>\n",
       "      <td>30.71</td>\n",
       "      <td>16.83</td>\n",
       "    </tr>\n",
       "  </tbody>\n",
       "</table>\n",
       "</div>"
      ],
      "text/plain": [
       "  platform  na_sales  eu_sales  jp_sales  total_sales  na_sales_share  \\\n",
       "0      3DS     38.20     30.96     67.81       143.25           26.67   \n",
       "3      PS3     63.50     67.81     23.35       181.43           35.00   \n",
       "6      PSV      5.04      6.10     18.59        32.99           15.28   \n",
       "4      PS4    108.74    141.09     15.96       314.14           34.62   \n",
       "8     WiiU     29.21     19.85     10.88        64.63           45.20   \n",
       "\n",
       "   eu_sales_share  jp_sales_share  \n",
       "0           21.61           47.34  \n",
       "3           37.38           12.87  \n",
       "6           18.49           56.35  \n",
       "4           44.91            5.08  \n",
       "8           30.71           16.83  "
      ]
     },
     "execution_count": 67,
     "metadata": {},
     "output_type": "execute_result"
    }
   ],
   "source": [
    "#jp_sales\n",
    "data_platform_sales.sort_values('jp_sales', ascending=False).head()"
   ]
  },
  {
   "cell_type": "markdown",
   "metadata": {},
   "source": [
    "Итак, ТОП-5 платформ:\n",
    "\n",
    "в Северной Америке:\n",
    "- PS4,\n",
    "- XOne,\n",
    "- X360,\n",
    "- PS3,\n",
    "- 3DS\n",
    "\n",
    "в Европе:\n",
    "- PS4,\n",
    "- PS3,\n",
    "- XOne,\n",
    "- X360,\n",
    "- 3DS\n",
    "\n",
    "в Японии:\n",
    "- 3DS,\n",
    "- PS3,\n",
    "- PSV,\n",
    "- PS4,\n",
    "- WiiU"
   ]
  },
  {
   "cell_type": "markdown",
   "metadata": {},
   "source": [
    "Рассматривая ТОП-5 платформ, видно, что платформы, входящие в ТОП, в принципе похожи во всех регионах. Отличие платформа - PSV и WiiU - популярная в Японии. Анализируя доли продаж по этим группам, видно, что лидером является Европа - часто почти половина продаж, исключение - платформа 3DS - половина продаж, которой приходится на Японию.   "
   ]
  },
  {
   "cell_type": "markdown",
   "metadata": {},
   "source": [
    "### Самые популярные жанры (топ-5)."
   ]
  },
  {
   "cell_type": "code",
   "execution_count": 68,
   "metadata": {},
   "outputs": [
    {
     "data": {
      "text/html": [
       "<div>\n",
       "<style scoped>\n",
       "    .dataframe tbody tr th:only-of-type {\n",
       "        vertical-align: middle;\n",
       "    }\n",
       "\n",
       "    .dataframe tbody tr th {\n",
       "        vertical-align: top;\n",
       "    }\n",
       "\n",
       "    .dataframe thead th {\n",
       "        text-align: right;\n",
       "    }\n",
       "</style>\n",
       "<table border=\"1\" class=\"dataframe\">\n",
       "  <thead>\n",
       "    <tr style=\"text-align: right;\">\n",
       "      <th></th>\n",
       "      <th>genre</th>\n",
       "      <th>na_sales</th>\n",
       "      <th>eu_sales</th>\n",
       "      <th>jp_sales</th>\n",
       "      <th>total_sales</th>\n",
       "    </tr>\n",
       "  </thead>\n",
       "  <tbody>\n",
       "    <tr>\n",
       "      <th>0</th>\n",
       "      <td>Action</td>\n",
       "      <td>126.05</td>\n",
       "      <td>118.13</td>\n",
       "      <td>40.49</td>\n",
       "      <td>321.87</td>\n",
       "    </tr>\n",
       "    <tr>\n",
       "      <th>1</th>\n",
       "      <td>Adventure</td>\n",
       "      <td>7.14</td>\n",
       "      <td>8.25</td>\n",
       "      <td>5.82</td>\n",
       "      <td>23.64</td>\n",
       "    </tr>\n",
       "    <tr>\n",
       "      <th>2</th>\n",
       "      <td>Fighting</td>\n",
       "      <td>15.55</td>\n",
       "      <td>8.55</td>\n",
       "      <td>7.65</td>\n",
       "      <td>35.31</td>\n",
       "    </tr>\n",
       "    <tr>\n",
       "      <th>3</th>\n",
       "      <td>Misc</td>\n",
       "      <td>27.49</td>\n",
       "      <td>20.04</td>\n",
       "      <td>9.20</td>\n",
       "      <td>62.82</td>\n",
       "    </tr>\n",
       "    <tr>\n",
       "      <th>4</th>\n",
       "      <td>Platform</td>\n",
       "      <td>18.14</td>\n",
       "      <td>15.58</td>\n",
       "      <td>4.79</td>\n",
       "      <td>42.63</td>\n",
       "    </tr>\n",
       "    <tr>\n",
       "      <th>5</th>\n",
       "      <td>Puzzle</td>\n",
       "      <td>0.83</td>\n",
       "      <td>1.00</td>\n",
       "      <td>1.18</td>\n",
       "      <td>3.17</td>\n",
       "    </tr>\n",
       "    <tr>\n",
       "      <th>6</th>\n",
       "      <td>Racing</td>\n",
       "      <td>12.96</td>\n",
       "      <td>20.19</td>\n",
       "      <td>2.30</td>\n",
       "      <td>39.89</td>\n",
       "    </tr>\n",
       "    <tr>\n",
       "      <th>7</th>\n",
       "      <td>Role-Playing</td>\n",
       "      <td>46.40</td>\n",
       "      <td>36.97</td>\n",
       "      <td>51.04</td>\n",
       "      <td>145.89</td>\n",
       "    </tr>\n",
       "    <tr>\n",
       "      <th>8</th>\n",
       "      <td>Shooter</td>\n",
       "      <td>109.74</td>\n",
       "      <td>87.86</td>\n",
       "      <td>6.61</td>\n",
       "      <td>232.98</td>\n",
       "    </tr>\n",
       "    <tr>\n",
       "      <th>9</th>\n",
       "      <td>Simulation</td>\n",
       "      <td>4.86</td>\n",
       "      <td>10.92</td>\n",
       "      <td>4.52</td>\n",
       "      <td>21.76</td>\n",
       "    </tr>\n",
       "    <tr>\n",
       "      <th>10</th>\n",
       "      <td>Sports</td>\n",
       "      <td>65.27</td>\n",
       "      <td>60.52</td>\n",
       "      <td>5.41</td>\n",
       "      <td>150.65</td>\n",
       "    </tr>\n",
       "    <tr>\n",
       "      <th>11</th>\n",
       "      <td>Strategy</td>\n",
       "      <td>3.28</td>\n",
       "      <td>4.22</td>\n",
       "      <td>1.77</td>\n",
       "      <td>10.08</td>\n",
       "    </tr>\n",
       "  </tbody>\n",
       "</table>\n",
       "</div>"
      ],
      "text/plain": [
       "           genre  na_sales  eu_sales  jp_sales  total_sales\n",
       "0         Action    126.05    118.13     40.49       321.87\n",
       "1      Adventure      7.14      8.25      5.82        23.64\n",
       "2       Fighting     15.55      8.55      7.65        35.31\n",
       "3           Misc     27.49     20.04      9.20        62.82\n",
       "4       Platform     18.14     15.58      4.79        42.63\n",
       "5         Puzzle      0.83      1.00      1.18         3.17\n",
       "6         Racing     12.96     20.19      2.30        39.89\n",
       "7   Role-Playing     46.40     36.97     51.04       145.89\n",
       "8        Shooter    109.74     87.86      6.61       232.98\n",
       "9     Simulation      4.86     10.92      4.52        21.76\n",
       "10        Sports     65.27     60.52      5.41       150.65\n",
       "11      Strategy      3.28      4.22      1.77        10.08"
      ]
     },
     "execution_count": 68,
     "metadata": {},
     "output_type": "execute_result"
    }
   ],
   "source": [
    "#сгруппируем по жанрам и посчитаем суммарные продажи по регионам\n",
    "data_genre_sales = data_2013.groupby(['genre'])[['na_sales', 'eu_sales', 'jp_sales', 'total_sales']]\\\n",
    ".agg(['sum']).reset_index()\n",
    "\n",
    "#переименуем столбцы\n",
    "data_genre_sales.columns = ['genre','na_sales', 'eu_sales', 'jp_sales', 'total_sales'] \n",
    "data_genre_sales"
   ]
  },
  {
   "cell_type": "markdown",
   "metadata": {},
   "source": [
    "Найдем самые популярные жанры ТОП-5 в разбивке по регионам."
   ]
  },
  {
   "cell_type": "code",
   "execution_count": 69,
   "metadata": {},
   "outputs": [
    {
     "data": {
      "text/html": [
       "<div>\n",
       "<style scoped>\n",
       "    .dataframe tbody tr th:only-of-type {\n",
       "        vertical-align: middle;\n",
       "    }\n",
       "\n",
       "    .dataframe tbody tr th {\n",
       "        vertical-align: top;\n",
       "    }\n",
       "\n",
       "    .dataframe thead th {\n",
       "        text-align: right;\n",
       "    }\n",
       "</style>\n",
       "<table border=\"1\" class=\"dataframe\">\n",
       "  <thead>\n",
       "    <tr style=\"text-align: right;\">\n",
       "      <th></th>\n",
       "      <th>genre</th>\n",
       "      <th>na_sales</th>\n",
       "      <th>eu_sales</th>\n",
       "      <th>jp_sales</th>\n",
       "      <th>total_sales</th>\n",
       "    </tr>\n",
       "  </thead>\n",
       "  <tbody>\n",
       "    <tr>\n",
       "      <th>0</th>\n",
       "      <td>Action</td>\n",
       "      <td>126.05</td>\n",
       "      <td>118.13</td>\n",
       "      <td>40.49</td>\n",
       "      <td>321.87</td>\n",
       "    </tr>\n",
       "    <tr>\n",
       "      <th>8</th>\n",
       "      <td>Shooter</td>\n",
       "      <td>109.74</td>\n",
       "      <td>87.86</td>\n",
       "      <td>6.61</td>\n",
       "      <td>232.98</td>\n",
       "    </tr>\n",
       "    <tr>\n",
       "      <th>10</th>\n",
       "      <td>Sports</td>\n",
       "      <td>65.27</td>\n",
       "      <td>60.52</td>\n",
       "      <td>5.41</td>\n",
       "      <td>150.65</td>\n",
       "    </tr>\n",
       "    <tr>\n",
       "      <th>7</th>\n",
       "      <td>Role-Playing</td>\n",
       "      <td>46.40</td>\n",
       "      <td>36.97</td>\n",
       "      <td>51.04</td>\n",
       "      <td>145.89</td>\n",
       "    </tr>\n",
       "    <tr>\n",
       "      <th>3</th>\n",
       "      <td>Misc</td>\n",
       "      <td>27.49</td>\n",
       "      <td>20.04</td>\n",
       "      <td>9.20</td>\n",
       "      <td>62.82</td>\n",
       "    </tr>\n",
       "  </tbody>\n",
       "</table>\n",
       "</div>"
      ],
      "text/plain": [
       "           genre  na_sales  eu_sales  jp_sales  total_sales\n",
       "0         Action    126.05    118.13     40.49       321.87\n",
       "8        Shooter    109.74     87.86      6.61       232.98\n",
       "10        Sports     65.27     60.52      5.41       150.65\n",
       "7   Role-Playing     46.40     36.97     51.04       145.89\n",
       "3           Misc     27.49     20.04      9.20        62.82"
      ]
     },
     "execution_count": 69,
     "metadata": {},
     "output_type": "execute_result"
    }
   ],
   "source": [
    "#na_sales\n",
    "data_genre_sales.sort_values('na_sales', ascending=False).head()"
   ]
  },
  {
   "cell_type": "code",
   "execution_count": 70,
   "metadata": {},
   "outputs": [
    {
     "data": {
      "text/html": [
       "<div>\n",
       "<style scoped>\n",
       "    .dataframe tbody tr th:only-of-type {\n",
       "        vertical-align: middle;\n",
       "    }\n",
       "\n",
       "    .dataframe tbody tr th {\n",
       "        vertical-align: top;\n",
       "    }\n",
       "\n",
       "    .dataframe thead th {\n",
       "        text-align: right;\n",
       "    }\n",
       "</style>\n",
       "<table border=\"1\" class=\"dataframe\">\n",
       "  <thead>\n",
       "    <tr style=\"text-align: right;\">\n",
       "      <th></th>\n",
       "      <th>genre</th>\n",
       "      <th>na_sales</th>\n",
       "      <th>eu_sales</th>\n",
       "      <th>jp_sales</th>\n",
       "      <th>total_sales</th>\n",
       "    </tr>\n",
       "  </thead>\n",
       "  <tbody>\n",
       "    <tr>\n",
       "      <th>0</th>\n",
       "      <td>Action</td>\n",
       "      <td>126.05</td>\n",
       "      <td>118.13</td>\n",
       "      <td>40.49</td>\n",
       "      <td>321.87</td>\n",
       "    </tr>\n",
       "    <tr>\n",
       "      <th>8</th>\n",
       "      <td>Shooter</td>\n",
       "      <td>109.74</td>\n",
       "      <td>87.86</td>\n",
       "      <td>6.61</td>\n",
       "      <td>232.98</td>\n",
       "    </tr>\n",
       "    <tr>\n",
       "      <th>10</th>\n",
       "      <td>Sports</td>\n",
       "      <td>65.27</td>\n",
       "      <td>60.52</td>\n",
       "      <td>5.41</td>\n",
       "      <td>150.65</td>\n",
       "    </tr>\n",
       "    <tr>\n",
       "      <th>7</th>\n",
       "      <td>Role-Playing</td>\n",
       "      <td>46.40</td>\n",
       "      <td>36.97</td>\n",
       "      <td>51.04</td>\n",
       "      <td>145.89</td>\n",
       "    </tr>\n",
       "    <tr>\n",
       "      <th>6</th>\n",
       "      <td>Racing</td>\n",
       "      <td>12.96</td>\n",
       "      <td>20.19</td>\n",
       "      <td>2.30</td>\n",
       "      <td>39.89</td>\n",
       "    </tr>\n",
       "  </tbody>\n",
       "</table>\n",
       "</div>"
      ],
      "text/plain": [
       "           genre  na_sales  eu_sales  jp_sales  total_sales\n",
       "0         Action    126.05    118.13     40.49       321.87\n",
       "8        Shooter    109.74     87.86      6.61       232.98\n",
       "10        Sports     65.27     60.52      5.41       150.65\n",
       "7   Role-Playing     46.40     36.97     51.04       145.89\n",
       "6         Racing     12.96     20.19      2.30        39.89"
      ]
     },
     "execution_count": 70,
     "metadata": {},
     "output_type": "execute_result"
    }
   ],
   "source": [
    "#eu_sales\n",
    "data_genre_sales.sort_values('eu_sales', ascending=False).head()"
   ]
  },
  {
   "cell_type": "code",
   "execution_count": 71,
   "metadata": {},
   "outputs": [
    {
     "data": {
      "text/html": [
       "<div>\n",
       "<style scoped>\n",
       "    .dataframe tbody tr th:only-of-type {\n",
       "        vertical-align: middle;\n",
       "    }\n",
       "\n",
       "    .dataframe tbody tr th {\n",
       "        vertical-align: top;\n",
       "    }\n",
       "\n",
       "    .dataframe thead th {\n",
       "        text-align: right;\n",
       "    }\n",
       "</style>\n",
       "<table border=\"1\" class=\"dataframe\">\n",
       "  <thead>\n",
       "    <tr style=\"text-align: right;\">\n",
       "      <th></th>\n",
       "      <th>genre</th>\n",
       "      <th>na_sales</th>\n",
       "      <th>eu_sales</th>\n",
       "      <th>jp_sales</th>\n",
       "      <th>total_sales</th>\n",
       "    </tr>\n",
       "  </thead>\n",
       "  <tbody>\n",
       "    <tr>\n",
       "      <th>7</th>\n",
       "      <td>Role-Playing</td>\n",
       "      <td>46.40</td>\n",
       "      <td>36.97</td>\n",
       "      <td>51.04</td>\n",
       "      <td>145.89</td>\n",
       "    </tr>\n",
       "    <tr>\n",
       "      <th>0</th>\n",
       "      <td>Action</td>\n",
       "      <td>126.05</td>\n",
       "      <td>118.13</td>\n",
       "      <td>40.49</td>\n",
       "      <td>321.87</td>\n",
       "    </tr>\n",
       "    <tr>\n",
       "      <th>3</th>\n",
       "      <td>Misc</td>\n",
       "      <td>27.49</td>\n",
       "      <td>20.04</td>\n",
       "      <td>9.20</td>\n",
       "      <td>62.82</td>\n",
       "    </tr>\n",
       "    <tr>\n",
       "      <th>2</th>\n",
       "      <td>Fighting</td>\n",
       "      <td>15.55</td>\n",
       "      <td>8.55</td>\n",
       "      <td>7.65</td>\n",
       "      <td>35.31</td>\n",
       "    </tr>\n",
       "    <tr>\n",
       "      <th>8</th>\n",
       "      <td>Shooter</td>\n",
       "      <td>109.74</td>\n",
       "      <td>87.86</td>\n",
       "      <td>6.61</td>\n",
       "      <td>232.98</td>\n",
       "    </tr>\n",
       "  </tbody>\n",
       "</table>\n",
       "</div>"
      ],
      "text/plain": [
       "          genre  na_sales  eu_sales  jp_sales  total_sales\n",
       "7  Role-Playing     46.40     36.97     51.04       145.89\n",
       "0        Action    126.05    118.13     40.49       321.87\n",
       "3          Misc     27.49     20.04      9.20        62.82\n",
       "2      Fighting     15.55      8.55      7.65        35.31\n",
       "8       Shooter    109.74     87.86      6.61       232.98"
      ]
     },
     "execution_count": 71,
     "metadata": {},
     "output_type": "execute_result"
    }
   ],
   "source": [
    "#jp_sales\n",
    "data_genre_sales.sort_values('jp_sales', ascending=False).head()"
   ]
  },
  {
   "cell_type": "markdown",
   "metadata": {},
   "source": [
    "Итак, ТОП-5 жанров:\n",
    "\n",
    "в Северной Америке:\n",
    "- Action,\n",
    "- Shooter,\n",
    "- Sports,\n",
    "- Role-Playing,\n",
    "- Misc\n",
    "\n",
    "в Европе:\n",
    "- Action,\n",
    "- Shooter,\n",
    "- Sports,\n",
    "- Role-Playing,\n",
    "- Racing\n",
    "\n",
    "в Японии:\n",
    "- Role-Playing,\n",
    "- Action,\n",
    "- Misc,\n",
    "- Fighting,\n",
    "- Shooter"
   ]
  },
  {
   "cell_type": "markdown",
   "metadata": {},
   "source": [
    "Заметно почти абсолютное совпадение жанров группы ТОП-5 в Северной Америке и Европе. Набор ТОП-5 жанров  Японии похож, но в эту группу еще попал жанр Fighting - так же популярный в Японии. Скорее всего это связаны со сходством и различием культур населения этих регионов."
   ]
  },
  {
   "cell_type": "markdown",
   "metadata": {},
   "source": [
    "### Влияет ли рейтинг ESRB на продажи в отдельном регионе?"
   ]
  },
  {
   "cell_type": "code",
   "execution_count": 72,
   "metadata": {},
   "outputs": [
    {
     "data": {
      "text/html": [
       "<div>\n",
       "<style scoped>\n",
       "    .dataframe tbody tr th:only-of-type {\n",
       "        vertical-align: middle;\n",
       "    }\n",
       "\n",
       "    .dataframe tbody tr th {\n",
       "        vertical-align: top;\n",
       "    }\n",
       "\n",
       "    .dataframe thead th {\n",
       "        text-align: right;\n",
       "    }\n",
       "</style>\n",
       "<table border=\"1\" class=\"dataframe\">\n",
       "  <thead>\n",
       "    <tr style=\"text-align: right;\">\n",
       "      <th></th>\n",
       "      <th>name</th>\n",
       "      <th>platform</th>\n",
       "      <th>year_of_release</th>\n",
       "      <th>genre</th>\n",
       "      <th>na_sales</th>\n",
       "      <th>eu_sales</th>\n",
       "      <th>jp_sales</th>\n",
       "      <th>other_sales</th>\n",
       "      <th>critic_score</th>\n",
       "      <th>user_score</th>\n",
       "      <th>rating</th>\n",
       "      <th>total_sales</th>\n",
       "    </tr>\n",
       "  </thead>\n",
       "  <tbody>\n",
       "    <tr>\n",
       "      <th>16</th>\n",
       "      <td>Grand Theft Auto V</td>\n",
       "      <td>PS3</td>\n",
       "      <td>2013.0</td>\n",
       "      <td>Action</td>\n",
       "      <td>7.02</td>\n",
       "      <td>9.09</td>\n",
       "      <td>0.98</td>\n",
       "      <td>3.96</td>\n",
       "      <td>97.0</td>\n",
       "      <td>8.2</td>\n",
       "      <td>M</td>\n",
       "      <td>21.05</td>\n",
       "    </tr>\n",
       "    <tr>\n",
       "      <th>23</th>\n",
       "      <td>Grand Theft Auto V</td>\n",
       "      <td>X360</td>\n",
       "      <td>2013.0</td>\n",
       "      <td>Action</td>\n",
       "      <td>9.66</td>\n",
       "      <td>5.14</td>\n",
       "      <td>0.06</td>\n",
       "      <td>1.41</td>\n",
       "      <td>97.0</td>\n",
       "      <td>8.1</td>\n",
       "      <td>M</td>\n",
       "      <td>16.27</td>\n",
       "    </tr>\n",
       "    <tr>\n",
       "      <th>31</th>\n",
       "      <td>Call of Duty: Black Ops 3</td>\n",
       "      <td>PS4</td>\n",
       "      <td>2015.0</td>\n",
       "      <td>Shooter</td>\n",
       "      <td>6.03</td>\n",
       "      <td>5.86</td>\n",
       "      <td>0.36</td>\n",
       "      <td>2.38</td>\n",
       "      <td>nan</td>\n",
       "      <td>nan</td>\n",
       "      <td>nan</td>\n",
       "      <td>14.63</td>\n",
       "    </tr>\n",
       "    <tr>\n",
       "      <th>33</th>\n",
       "      <td>Pokemon X/Pokemon Y</td>\n",
       "      <td>3DS</td>\n",
       "      <td>2013.0</td>\n",
       "      <td>Role-Playing</td>\n",
       "      <td>5.28</td>\n",
       "      <td>4.19</td>\n",
       "      <td>4.35</td>\n",
       "      <td>0.78</td>\n",
       "      <td>nan</td>\n",
       "      <td>nan</td>\n",
       "      <td>nan</td>\n",
       "      <td>14.60</td>\n",
       "    </tr>\n",
       "    <tr>\n",
       "      <th>42</th>\n",
       "      <td>Grand Theft Auto V</td>\n",
       "      <td>PS4</td>\n",
       "      <td>2014.0</td>\n",
       "      <td>Action</td>\n",
       "      <td>3.96</td>\n",
       "      <td>6.31</td>\n",
       "      <td>0.38</td>\n",
       "      <td>1.97</td>\n",
       "      <td>97.0</td>\n",
       "      <td>8.3</td>\n",
       "      <td>M</td>\n",
       "      <td>12.62</td>\n",
       "    </tr>\n",
       "  </tbody>\n",
       "</table>\n",
       "</div>"
      ],
      "text/plain": [
       "                         name platform  year_of_release         genre  \\\n",
       "16         Grand Theft Auto V      PS3           2013.0        Action   \n",
       "23         Grand Theft Auto V     X360           2013.0        Action   \n",
       "31  Call of Duty: Black Ops 3      PS4           2015.0       Shooter   \n",
       "33        Pokemon X/Pokemon Y      3DS           2013.0  Role-Playing   \n",
       "42         Grand Theft Auto V      PS4           2014.0        Action   \n",
       "\n",
       "    na_sales  eu_sales  jp_sales  other_sales critic_score user_score rating  \\\n",
       "16      7.02      9.09      0.98         3.96         97.0        8.2      M   \n",
       "23      9.66      5.14      0.06         1.41         97.0        8.1      M   \n",
       "31      6.03      5.86      0.36         2.38          nan        nan    nan   \n",
       "33      5.28      4.19      4.35         0.78          nan        nan    nan   \n",
       "42      3.96      6.31      0.38         1.97         97.0        8.3      M   \n",
       "\n",
       "    total_sales  \n",
       "16        21.05  \n",
       "23        16.27  \n",
       "31        14.63  \n",
       "33        14.60  \n",
       "42        12.62  "
      ]
     },
     "execution_count": 72,
     "metadata": {},
     "output_type": "execute_result"
    }
   ],
   "source": [
    "data_2013.head()"
   ]
  },
  {
   "cell_type": "code",
   "execution_count": 73,
   "metadata": {},
   "outputs": [
    {
     "data": {
      "text/html": [
       "<div>\n",
       "<style scoped>\n",
       "    .dataframe tbody tr th:only-of-type {\n",
       "        vertical-align: middle;\n",
       "    }\n",
       "\n",
       "    .dataframe tbody tr th {\n",
       "        vertical-align: top;\n",
       "    }\n",
       "\n",
       "    .dataframe thead th {\n",
       "        text-align: right;\n",
       "    }\n",
       "</style>\n",
       "<table border=\"1\" class=\"dataframe\">\n",
       "  <thead>\n",
       "    <tr style=\"text-align: right;\">\n",
       "      <th></th>\n",
       "      <th>rating</th>\n",
       "      <th>na_sales</th>\n",
       "      <th>eu_sales</th>\n",
       "      <th>jp_sales</th>\n",
       "      <th>total_sales</th>\n",
       "    </tr>\n",
       "  </thead>\n",
       "  <tbody>\n",
       "    <tr>\n",
       "      <th>0</th>\n",
       "      <td>E</td>\n",
       "      <td>79.05</td>\n",
       "      <td>83.36</td>\n",
       "      <td>15.14</td>\n",
       "      <td>200.16</td>\n",
       "    </tr>\n",
       "    <tr>\n",
       "      <th>1</th>\n",
       "      <td>E10+</td>\n",
       "      <td>54.24</td>\n",
       "      <td>42.69</td>\n",
       "      <td>5.89</td>\n",
       "      <td>115.39</td>\n",
       "    </tr>\n",
       "    <tr>\n",
       "      <th>2</th>\n",
       "      <td>M</td>\n",
       "      <td>165.21</td>\n",
       "      <td>145.32</td>\n",
       "      <td>14.11</td>\n",
       "      <td>371.68</td>\n",
       "    </tr>\n",
       "    <tr>\n",
       "      <th>3</th>\n",
       "      <td>T</td>\n",
       "      <td>49.79</td>\n",
       "      <td>41.95</td>\n",
       "      <td>20.59</td>\n",
       "      <td>126.62</td>\n",
       "    </tr>\n",
       "    <tr>\n",
       "      <th>4</th>\n",
       "      <td>nan</td>\n",
       "      <td>89.42</td>\n",
       "      <td>78.91</td>\n",
       "      <td>85.05</td>\n",
       "      <td>276.84</td>\n",
       "    </tr>\n",
       "  </tbody>\n",
       "</table>\n",
       "</div>"
      ],
      "text/plain": [
       "  rating  na_sales  eu_sales  jp_sales  total_sales\n",
       "0      E     79.05     83.36     15.14       200.16\n",
       "1   E10+     54.24     42.69      5.89       115.39\n",
       "2      M    165.21    145.32     14.11       371.68\n",
       "3      T     49.79     41.95     20.59       126.62\n",
       "4    nan     89.42     78.91     85.05       276.84"
      ]
     },
     "execution_count": 73,
     "metadata": {},
     "output_type": "execute_result"
    }
   ],
   "source": [
    "#сгруппируем по рейтингу и посчитаем суммарные продажи по регионам\n",
    "data_rating = data_2013.groupby(['rating'])[['na_sales', 'eu_sales', 'jp_sales', 'total_sales']]\\\n",
    ".agg(['sum']).reset_index()\n",
    "\n",
    "#переименуем столбцы\n",
    "data_rating.columns = ['rating','na_sales', 'eu_sales', 'jp_sales', 'total_sales'] \n",
    "data_rating"
   ]
  },
  {
   "cell_type": "markdown",
   "metadata": {},
   "source": [
    "Найдем какие группы рейтинга показывают больше продаж в разных регионах."
   ]
  },
  {
   "cell_type": "code",
   "execution_count": 74,
   "metadata": {},
   "outputs": [
    {
     "data": {
      "text/html": [
       "<div>\n",
       "<style scoped>\n",
       "    .dataframe tbody tr th:only-of-type {\n",
       "        vertical-align: middle;\n",
       "    }\n",
       "\n",
       "    .dataframe tbody tr th {\n",
       "        vertical-align: top;\n",
       "    }\n",
       "\n",
       "    .dataframe thead th {\n",
       "        text-align: right;\n",
       "    }\n",
       "</style>\n",
       "<table border=\"1\" class=\"dataframe\">\n",
       "  <thead>\n",
       "    <tr style=\"text-align: right;\">\n",
       "      <th></th>\n",
       "      <th>rating</th>\n",
       "      <th>na_sales</th>\n",
       "      <th>eu_sales</th>\n",
       "      <th>jp_sales</th>\n",
       "      <th>total_sales</th>\n",
       "    </tr>\n",
       "  </thead>\n",
       "  <tbody>\n",
       "    <tr>\n",
       "      <th>2</th>\n",
       "      <td>M</td>\n",
       "      <td>165.21</td>\n",
       "      <td>145.32</td>\n",
       "      <td>14.11</td>\n",
       "      <td>371.68</td>\n",
       "    </tr>\n",
       "    <tr>\n",
       "      <th>4</th>\n",
       "      <td>nan</td>\n",
       "      <td>89.42</td>\n",
       "      <td>78.91</td>\n",
       "      <td>85.05</td>\n",
       "      <td>276.84</td>\n",
       "    </tr>\n",
       "    <tr>\n",
       "      <th>0</th>\n",
       "      <td>E</td>\n",
       "      <td>79.05</td>\n",
       "      <td>83.36</td>\n",
       "      <td>15.14</td>\n",
       "      <td>200.16</td>\n",
       "    </tr>\n",
       "    <tr>\n",
       "      <th>1</th>\n",
       "      <td>E10+</td>\n",
       "      <td>54.24</td>\n",
       "      <td>42.69</td>\n",
       "      <td>5.89</td>\n",
       "      <td>115.39</td>\n",
       "    </tr>\n",
       "    <tr>\n",
       "      <th>3</th>\n",
       "      <td>T</td>\n",
       "      <td>49.79</td>\n",
       "      <td>41.95</td>\n",
       "      <td>20.59</td>\n",
       "      <td>126.62</td>\n",
       "    </tr>\n",
       "  </tbody>\n",
       "</table>\n",
       "</div>"
      ],
      "text/plain": [
       "  rating  na_sales  eu_sales  jp_sales  total_sales\n",
       "2      M    165.21    145.32     14.11       371.68\n",
       "4    nan     89.42     78.91     85.05       276.84\n",
       "0      E     79.05     83.36     15.14       200.16\n",
       "1   E10+     54.24     42.69      5.89       115.39\n",
       "3      T     49.79     41.95     20.59       126.62"
      ]
     },
     "execution_count": 74,
     "metadata": {},
     "output_type": "execute_result"
    }
   ],
   "source": [
    "#na_sales\n",
    "data_rating.sort_values('na_sales', ascending=False)"
   ]
  },
  {
   "cell_type": "code",
   "execution_count": 75,
   "metadata": {},
   "outputs": [
    {
     "data": {
      "text/html": [
       "<div>\n",
       "<style scoped>\n",
       "    .dataframe tbody tr th:only-of-type {\n",
       "        vertical-align: middle;\n",
       "    }\n",
       "\n",
       "    .dataframe tbody tr th {\n",
       "        vertical-align: top;\n",
       "    }\n",
       "\n",
       "    .dataframe thead th {\n",
       "        text-align: right;\n",
       "    }\n",
       "</style>\n",
       "<table border=\"1\" class=\"dataframe\">\n",
       "  <thead>\n",
       "    <tr style=\"text-align: right;\">\n",
       "      <th></th>\n",
       "      <th>rating</th>\n",
       "      <th>na_sales</th>\n",
       "      <th>eu_sales</th>\n",
       "      <th>jp_sales</th>\n",
       "      <th>total_sales</th>\n",
       "    </tr>\n",
       "  </thead>\n",
       "  <tbody>\n",
       "    <tr>\n",
       "      <th>2</th>\n",
       "      <td>M</td>\n",
       "      <td>165.21</td>\n",
       "      <td>145.32</td>\n",
       "      <td>14.11</td>\n",
       "      <td>371.68</td>\n",
       "    </tr>\n",
       "    <tr>\n",
       "      <th>0</th>\n",
       "      <td>E</td>\n",
       "      <td>79.05</td>\n",
       "      <td>83.36</td>\n",
       "      <td>15.14</td>\n",
       "      <td>200.16</td>\n",
       "    </tr>\n",
       "    <tr>\n",
       "      <th>4</th>\n",
       "      <td>nan</td>\n",
       "      <td>89.42</td>\n",
       "      <td>78.91</td>\n",
       "      <td>85.05</td>\n",
       "      <td>276.84</td>\n",
       "    </tr>\n",
       "    <tr>\n",
       "      <th>1</th>\n",
       "      <td>E10+</td>\n",
       "      <td>54.24</td>\n",
       "      <td>42.69</td>\n",
       "      <td>5.89</td>\n",
       "      <td>115.39</td>\n",
       "    </tr>\n",
       "    <tr>\n",
       "      <th>3</th>\n",
       "      <td>T</td>\n",
       "      <td>49.79</td>\n",
       "      <td>41.95</td>\n",
       "      <td>20.59</td>\n",
       "      <td>126.62</td>\n",
       "    </tr>\n",
       "  </tbody>\n",
       "</table>\n",
       "</div>"
      ],
      "text/plain": [
       "  rating  na_sales  eu_sales  jp_sales  total_sales\n",
       "2      M    165.21    145.32     14.11       371.68\n",
       "0      E     79.05     83.36     15.14       200.16\n",
       "4    nan     89.42     78.91     85.05       276.84\n",
       "1   E10+     54.24     42.69      5.89       115.39\n",
       "3      T     49.79     41.95     20.59       126.62"
      ]
     },
     "execution_count": 75,
     "metadata": {},
     "output_type": "execute_result"
    }
   ],
   "source": [
    "#eu_sales\n",
    "data_rating.sort_values('eu_sales', ascending=False)"
   ]
  },
  {
   "cell_type": "code",
   "execution_count": 76,
   "metadata": {},
   "outputs": [
    {
     "data": {
      "text/html": [
       "<div>\n",
       "<style scoped>\n",
       "    .dataframe tbody tr th:only-of-type {\n",
       "        vertical-align: middle;\n",
       "    }\n",
       "\n",
       "    .dataframe tbody tr th {\n",
       "        vertical-align: top;\n",
       "    }\n",
       "\n",
       "    .dataframe thead th {\n",
       "        text-align: right;\n",
       "    }\n",
       "</style>\n",
       "<table border=\"1\" class=\"dataframe\">\n",
       "  <thead>\n",
       "    <tr style=\"text-align: right;\">\n",
       "      <th></th>\n",
       "      <th>rating</th>\n",
       "      <th>na_sales</th>\n",
       "      <th>eu_sales</th>\n",
       "      <th>jp_sales</th>\n",
       "      <th>total_sales</th>\n",
       "    </tr>\n",
       "  </thead>\n",
       "  <tbody>\n",
       "    <tr>\n",
       "      <th>4</th>\n",
       "      <td>nan</td>\n",
       "      <td>89.42</td>\n",
       "      <td>78.91</td>\n",
       "      <td>85.05</td>\n",
       "      <td>276.84</td>\n",
       "    </tr>\n",
       "    <tr>\n",
       "      <th>3</th>\n",
       "      <td>T</td>\n",
       "      <td>49.79</td>\n",
       "      <td>41.95</td>\n",
       "      <td>20.59</td>\n",
       "      <td>126.62</td>\n",
       "    </tr>\n",
       "    <tr>\n",
       "      <th>0</th>\n",
       "      <td>E</td>\n",
       "      <td>79.05</td>\n",
       "      <td>83.36</td>\n",
       "      <td>15.14</td>\n",
       "      <td>200.16</td>\n",
       "    </tr>\n",
       "    <tr>\n",
       "      <th>2</th>\n",
       "      <td>M</td>\n",
       "      <td>165.21</td>\n",
       "      <td>145.32</td>\n",
       "      <td>14.11</td>\n",
       "      <td>371.68</td>\n",
       "    </tr>\n",
       "    <tr>\n",
       "      <th>1</th>\n",
       "      <td>E10+</td>\n",
       "      <td>54.24</td>\n",
       "      <td>42.69</td>\n",
       "      <td>5.89</td>\n",
       "      <td>115.39</td>\n",
       "    </tr>\n",
       "  </tbody>\n",
       "</table>\n",
       "</div>"
      ],
      "text/plain": [
       "  rating  na_sales  eu_sales  jp_sales  total_sales\n",
       "4    nan     89.42     78.91     85.05       276.84\n",
       "3      T     49.79     41.95     20.59       126.62\n",
       "0      E     79.05     83.36     15.14       200.16\n",
       "2      M    165.21    145.32     14.11       371.68\n",
       "1   E10+     54.24     42.69      5.89       115.39"
      ]
     },
     "execution_count": 76,
     "metadata": {},
     "output_type": "execute_result"
    }
   ],
   "source": [
    "#jp_sales\n",
    "data_rating.sort_values('jp_sales', ascending=False)"
   ]
  },
  {
   "cell_type": "markdown",
   "metadata": {},
   "source": [
    "Итак, выберем так же 5 групп рейтинга, которые показали больше продаж:\n",
    "\n",
    "в Северной Америке:\n",
    "\n",
    "Большое количество игр осталось без оценки возрастного рейтинга - 78,91 млн. проданных копий.\n",
    "\n",
    "- М («Для взрослых»: Материалы игры не подходят для подростков младше 17 лет. Проекты с данным рейтингом могут содержать достаточно жестокое насилие, большое количество крови с расчленением, непристойные сексуальные сцены или грубую ненормативную лексику, нежелательную для младшей аудитории.)\n",
    "- Е («Для всех»: Содержание вполне подходит для возрастной категории от 6 лет. Такие игры могут понравиться и взрослым. Игры с этим рейтингом могут содержать минимальное насилие, в основном «мультяшного» характера.)\n",
    "- E10+ («Для всех от 10 лет и старше»: Проекты с данным рейтингом могут содержать или немного больше мультипликационного или мягкого насилия, или несколько откровенные сцены, или минимальное количество крови.)\n",
    "- Т («Подросткам»: Игра подходит для лиц от 13 лет. Проекты из данной категории могут содержать насилие, непристойные сцены, грубый юмор, в меру откровенное сексуальное содержимое, кровь или нечастое использование ненормативной лексики.)\n",
    "\n",
    "\n",
    "в Европе:\n",
    "\n",
    "Так же большое количество игр без оценки возрастного рейтинга - 89,42 млн. проданных копий.\n",
    "\n",
    "- М\n",
    "- Е\n",
    "- E10+\n",
    "- Т\n",
    "\n",
    "\n",
    "в Японии:\n",
    "\n",
    "Количество игр без возрастного рейтинга - 85,05 млн. проданных копий.\n",
    "\n",
    "- Т\n",
    "- Е\n",
    "- М\n",
    "- E10+\n"
   ]
  },
  {
   "cell_type": "markdown",
   "metadata": {},
   "source": [
    "То есть можно сказать, что популярность игр по возрастному рейтингу игр в регионах практически одинакова. "
   ]
  },
  {
   "cell_type": "markdown",
   "metadata": {},
   "source": [
    "### Проверка гипотез."
   ]
  },
  {
   "cell_type": "markdown",
   "metadata": {},
   "source": [
    "#### Гипотеза 1:"
   ]
  },
  {
   "cell_type": "markdown",
   "metadata": {},
   "source": [
    "\"Средние пользовательские рейтинги платформ Xbox One и PC одинаковые\""
   ]
  },
  {
   "cell_type": "markdown",
   "metadata": {},
   "source": [
    "1) Сформулируем нулевую гипотезу (Н0):\n",
    "\n",
    "\"Средние пользовательские рейтинги платформ Xbox One и PC одинаковые.\"\n",
    "\n",
    "2) Альтернативная гипотеза (Н1):\n",
    "\n",
    "\"Средние пользовательские рейтинги платформ Xbox One и PC разные.\""
   ]
  },
  {
   "cell_type": "code",
   "execution_count": 77,
   "metadata": {},
   "outputs": [
    {
     "data": {
      "text/html": [
       "<div>\n",
       "<style scoped>\n",
       "    .dataframe tbody tr th:only-of-type {\n",
       "        vertical-align: middle;\n",
       "    }\n",
       "\n",
       "    .dataframe tbody tr th {\n",
       "        vertical-align: top;\n",
       "    }\n",
       "\n",
       "    .dataframe thead th {\n",
       "        text-align: right;\n",
       "    }\n",
       "</style>\n",
       "<table border=\"1\" class=\"dataframe\">\n",
       "  <thead>\n",
       "    <tr style=\"text-align: right;\">\n",
       "      <th></th>\n",
       "      <th>name</th>\n",
       "      <th>platform</th>\n",
       "      <th>year_of_release</th>\n",
       "      <th>genre</th>\n",
       "      <th>na_sales</th>\n",
       "      <th>eu_sales</th>\n",
       "      <th>jp_sales</th>\n",
       "      <th>other_sales</th>\n",
       "      <th>critic_score</th>\n",
       "      <th>user_score</th>\n",
       "      <th>rating</th>\n",
       "      <th>total_sales</th>\n",
       "    </tr>\n",
       "  </thead>\n",
       "  <tbody>\n",
       "    <tr>\n",
       "      <th>99</th>\n",
       "      <td>Call of Duty: Black Ops 3</td>\n",
       "      <td>XOne</td>\n",
       "      <td>2015.0</td>\n",
       "      <td>Shooter</td>\n",
       "      <td>4.59</td>\n",
       "      <td>2.11</td>\n",
       "      <td>0.01</td>\n",
       "      <td>0.68</td>\n",
       "      <td>nan</td>\n",
       "      <td>nan</td>\n",
       "      <td>nan</td>\n",
       "      <td>7.39</td>\n",
       "    </tr>\n",
       "    <tr>\n",
       "      <th>165</th>\n",
       "      <td>Grand Theft Auto V</td>\n",
       "      <td>XOne</td>\n",
       "      <td>2014.0</td>\n",
       "      <td>Action</td>\n",
       "      <td>2.81</td>\n",
       "      <td>2.19</td>\n",
       "      <td>0.00</td>\n",
       "      <td>0.47</td>\n",
       "      <td>97.0</td>\n",
       "      <td>7.9</td>\n",
       "      <td>M</td>\n",
       "      <td>5.47</td>\n",
       "    </tr>\n",
       "    <tr>\n",
       "      <th>179</th>\n",
       "      <td>Call of Duty: Advanced Warfare</td>\n",
       "      <td>XOne</td>\n",
       "      <td>2014.0</td>\n",
       "      <td>Shooter</td>\n",
       "      <td>3.22</td>\n",
       "      <td>1.55</td>\n",
       "      <td>0.01</td>\n",
       "      <td>0.48</td>\n",
       "      <td>81.0</td>\n",
       "      <td>5.4</td>\n",
       "      <td>M</td>\n",
       "      <td>5.26</td>\n",
       "    </tr>\n",
       "    <tr>\n",
       "      <th>242</th>\n",
       "      <td>Halo 5: Guardians</td>\n",
       "      <td>XOne</td>\n",
       "      <td>2015.0</td>\n",
       "      <td>Shooter</td>\n",
       "      <td>2.78</td>\n",
       "      <td>1.27</td>\n",
       "      <td>0.03</td>\n",
       "      <td>0.41</td>\n",
       "      <td>84.0</td>\n",
       "      <td>6.4</td>\n",
       "      <td>T</td>\n",
       "      <td>4.49</td>\n",
       "    </tr>\n",
       "    <tr>\n",
       "      <th>270</th>\n",
       "      <td>Fallout 4</td>\n",
       "      <td>XOne</td>\n",
       "      <td>2015.0</td>\n",
       "      <td>Role-Playing</td>\n",
       "      <td>2.51</td>\n",
       "      <td>1.32</td>\n",
       "      <td>0.01</td>\n",
       "      <td>0.38</td>\n",
       "      <td>88.0</td>\n",
       "      <td>6.2</td>\n",
       "      <td>M</td>\n",
       "      <td>4.22</td>\n",
       "    </tr>\n",
       "  </tbody>\n",
       "</table>\n",
       "</div>"
      ],
      "text/plain": [
       "                               name platform  year_of_release         genre  \\\n",
       "99        Call of Duty: Black Ops 3     XOne           2015.0       Shooter   \n",
       "165              Grand Theft Auto V     XOne           2014.0        Action   \n",
       "179  Call of Duty: Advanced Warfare     XOne           2014.0       Shooter   \n",
       "242               Halo 5: Guardians     XOne           2015.0       Shooter   \n",
       "270                       Fallout 4     XOne           2015.0  Role-Playing   \n",
       "\n",
       "     na_sales  eu_sales  jp_sales  other_sales critic_score user_score rating  \\\n",
       "99       4.59      2.11      0.01         0.68          nan        nan    nan   \n",
       "165      2.81      2.19      0.00         0.47         97.0        7.9      M   \n",
       "179      3.22      1.55      0.01         0.48         81.0        5.4      M   \n",
       "242      2.78      1.27      0.03         0.41         84.0        6.4      T   \n",
       "270      2.51      1.32      0.01         0.38         88.0        6.2      M   \n",
       "\n",
       "     total_sales  \n",
       "99          7.39  \n",
       "165         5.47  \n",
       "179         5.26  \n",
       "242         4.49  \n",
       "270         4.22  "
      ]
     },
     "execution_count": 77,
     "metadata": {},
     "output_type": "execute_result"
    }
   ],
   "source": [
    "#рассчитаем средний пользовательский рейтинг на платформе Xbox One\n",
    "\n",
    "list_XOne = ['XOne']\n",
    "data_2013.query('platform in @list_XOne').head()"
   ]
  },
  {
   "cell_type": "code",
   "execution_count": 78,
   "metadata": {},
   "outputs": [
    {
     "data": {
      "text/plain": [
       "6.8"
      ]
     },
     "execution_count": 78,
     "metadata": {},
     "output_type": "execute_result"
    }
   ],
   "source": [
    "mediam_user_score_XOne = data_2013.query('platform in @list_XOne')['user_score'].median()\n",
    "mediam_user_score_XOne"
   ]
  },
  {
   "cell_type": "code",
   "execution_count": 79,
   "metadata": {},
   "outputs": [
    {
     "data": {
      "text/html": [
       "<div>\n",
       "<style scoped>\n",
       "    .dataframe tbody tr th:only-of-type {\n",
       "        vertical-align: middle;\n",
       "    }\n",
       "\n",
       "    .dataframe tbody tr th {\n",
       "        vertical-align: top;\n",
       "    }\n",
       "\n",
       "    .dataframe thead th {\n",
       "        text-align: right;\n",
       "    }\n",
       "</style>\n",
       "<table border=\"1\" class=\"dataframe\">\n",
       "  <thead>\n",
       "    <tr style=\"text-align: right;\">\n",
       "      <th></th>\n",
       "      <th>name</th>\n",
       "      <th>platform</th>\n",
       "      <th>year_of_release</th>\n",
       "      <th>genre</th>\n",
       "      <th>na_sales</th>\n",
       "      <th>eu_sales</th>\n",
       "      <th>jp_sales</th>\n",
       "      <th>other_sales</th>\n",
       "      <th>critic_score</th>\n",
       "      <th>user_score</th>\n",
       "      <th>rating</th>\n",
       "      <th>total_sales</th>\n",
       "    </tr>\n",
       "  </thead>\n",
       "  <tbody>\n",
       "    <tr>\n",
       "      <th>458</th>\n",
       "      <td>The Sims 4</td>\n",
       "      <td>PC</td>\n",
       "      <td>2014.0</td>\n",
       "      <td>Simulation</td>\n",
       "      <td>1.00</td>\n",
       "      <td>1.82</td>\n",
       "      <td>0.0</td>\n",
       "      <td>0.23</td>\n",
       "      <td>70.0</td>\n",
       "      <td>3.9</td>\n",
       "      <td>T</td>\n",
       "      <td>3.05</td>\n",
       "    </tr>\n",
       "    <tr>\n",
       "      <th>1095</th>\n",
       "      <td>StarCraft II: Heart of the Swarm</td>\n",
       "      <td>PC</td>\n",
       "      <td>2013.0</td>\n",
       "      <td>Strategy</td>\n",
       "      <td>0.83</td>\n",
       "      <td>0.66</td>\n",
       "      <td>0.0</td>\n",
       "      <td>0.18</td>\n",
       "      <td>86.0</td>\n",
       "      <td>7.9</td>\n",
       "      <td>T</td>\n",
       "      <td>1.67</td>\n",
       "    </tr>\n",
       "    <tr>\n",
       "      <th>1351</th>\n",
       "      <td>SimCity (2013)</td>\n",
       "      <td>PC</td>\n",
       "      <td>2013.0</td>\n",
       "      <td>Simulation</td>\n",
       "      <td>0.48</td>\n",
       "      <td>0.77</td>\n",
       "      <td>0.0</td>\n",
       "      <td>0.17</td>\n",
       "      <td>64.0</td>\n",
       "      <td>2.2</td>\n",
       "      <td>E10+</td>\n",
       "      <td>1.42</td>\n",
       "    </tr>\n",
       "    <tr>\n",
       "      <th>1437</th>\n",
       "      <td>Battlefield 4</td>\n",
       "      <td>PC</td>\n",
       "      <td>2013.0</td>\n",
       "      <td>Shooter</td>\n",
       "      <td>0.39</td>\n",
       "      <td>0.87</td>\n",
       "      <td>0.0</td>\n",
       "      <td>0.10</td>\n",
       "      <td>81.0</td>\n",
       "      <td>6.0</td>\n",
       "      <td>M</td>\n",
       "      <td>1.36</td>\n",
       "    </tr>\n",
       "    <tr>\n",
       "      <th>1530</th>\n",
       "      <td>Fallout 4</td>\n",
       "      <td>PC</td>\n",
       "      <td>2015.0</td>\n",
       "      <td>Role-Playing</td>\n",
       "      <td>0.51</td>\n",
       "      <td>0.67</td>\n",
       "      <td>0.0</td>\n",
       "      <td>0.10</td>\n",
       "      <td>84.0</td>\n",
       "      <td>5.4</td>\n",
       "      <td>M</td>\n",
       "      <td>1.28</td>\n",
       "    </tr>\n",
       "  </tbody>\n",
       "</table>\n",
       "</div>"
      ],
      "text/plain": [
       "                                  name platform  year_of_release  \\\n",
       "458                         The Sims 4       PC           2014.0   \n",
       "1095  StarCraft II: Heart of the Swarm       PC           2013.0   \n",
       "1351                    SimCity (2013)       PC           2013.0   \n",
       "1437                     Battlefield 4       PC           2013.0   \n",
       "1530                         Fallout 4       PC           2015.0   \n",
       "\n",
       "             genre  na_sales  eu_sales  jp_sales  other_sales critic_score  \\\n",
       "458     Simulation      1.00      1.82       0.0         0.23         70.0   \n",
       "1095      Strategy      0.83      0.66       0.0         0.18         86.0   \n",
       "1351    Simulation      0.48      0.77       0.0         0.17         64.0   \n",
       "1437       Shooter      0.39      0.87       0.0         0.10         81.0   \n",
       "1530  Role-Playing      0.51      0.67       0.0         0.10         84.0   \n",
       "\n",
       "     user_score rating  total_sales  \n",
       "458         3.9      T         3.05  \n",
       "1095        7.9      T         1.67  \n",
       "1351        2.2   E10+         1.42  \n",
       "1437        6.0      M         1.36  \n",
       "1530        5.4      M         1.28  "
      ]
     },
     "execution_count": 79,
     "metadata": {},
     "output_type": "execute_result"
    }
   ],
   "source": [
    "#рассчитаем средний пользовательский рейтинг на платформе PC\n",
    "\n",
    "list_PC = ['PC']\n",
    "data_2013.query('platform in @list_PC').head()"
   ]
  },
  {
   "cell_type": "code",
   "execution_count": 80,
   "metadata": {},
   "outputs": [
    {
     "data": {
      "text/plain": [
       "6.8"
      ]
     },
     "execution_count": 80,
     "metadata": {},
     "output_type": "execute_result"
    }
   ],
   "source": [
    "mediam_user_score_PC = data_2013.query('platform in @list_PC')['user_score'].median()\n",
    "mediam_user_score_PC"
   ]
  },
  {
   "cell_type": "markdown",
   "metadata": {},
   "source": [
    "Для проверки гипотезы  равенства средних пользовательских рейтингов платформ Xbox One и PC воспользуемся специальным методом: st.ttest_ind  "
   ]
  },
  {
   "cell_type": "code",
   "execution_count": 81,
   "metadata": {},
   "outputs": [
    {
     "name": "stdout",
     "output_type": "stream",
     "text": [
      "p-значение:  0.1475959401343034\n",
      "Не получилось отвергнуть нулевую гипотезу\n"
     ]
    }
   ],
   "source": [
    "\n",
    "alpha = .05 # критический уровень статистической значимости\n",
    "# если p-value окажется меньше него - отвегнем гипотезу\n",
    "\n",
    "results = st.ttest_ind(\n",
    "    data_2013.query('platform in @list_XOne and user_score != \"nan\"')['user_score'], \n",
    "    data_2013.query('platform in @list_PC and user_score != \"nan\"')['user_score'],\\\n",
    "    equal_var = False, nan_policy = 'omit') \n",
    "#агрумент nan_policy = 'omit' дает возможность обойти nan\n",
    "\n",
    "print('p-значение: ', results.pvalue)\n",
    "\n",
    "if results.pvalue < alpha:\n",
    "    print(\"Отвергаем нулевую гипотезу\")\n",
    "else:\n",
    "    print(\"Не получилось отвергнуть нулевую гипотезу\") "
   ]
  },
  {
   "cell_type": "markdown",
   "metadata": {},
   "source": [
    "Итак, средние пользовательские рейтинги платформ Xbox One и PC можно считать одинаковые. "
   ]
  },
  {
   "cell_type": "markdown",
   "metadata": {},
   "source": [
    "#### Гипотеза 2:"
   ]
  },
  {
   "cell_type": "markdown",
   "metadata": {},
   "source": [
    "\"Средние пользовательские рейтинги жанров Action (англ. «действие», экшен-игры) и Sports (англ. «спортивные соревнования») разные.\""
   ]
  },
  {
   "cell_type": "markdown",
   "metadata": {},
   "source": [
    "1) Сформулируем нулевую гипотезу (Н0):\n",
    "\n",
    "\"Средние пользовательские рейтинги жанров Action (англ. «действие», экшен-игры) и Sports (англ. «спортивные соревнования») одинаковые.\"\n",
    "\n",
    "2) Альтернативная гипотеза (Н1):\n",
    "\n",
    "\"Средние пользовательские рейтинги жанров Action (англ. «действие», экшен-игры) и Sports (англ. «спортивные соревнования») разные.\""
   ]
  },
  {
   "cell_type": "code",
   "execution_count": 82,
   "metadata": {},
   "outputs": [
    {
     "data": {
      "text/html": [
       "<div>\n",
       "<style scoped>\n",
       "    .dataframe tbody tr th:only-of-type {\n",
       "        vertical-align: middle;\n",
       "    }\n",
       "\n",
       "    .dataframe tbody tr th {\n",
       "        vertical-align: top;\n",
       "    }\n",
       "\n",
       "    .dataframe thead th {\n",
       "        text-align: right;\n",
       "    }\n",
       "</style>\n",
       "<table border=\"1\" class=\"dataframe\">\n",
       "  <thead>\n",
       "    <tr style=\"text-align: right;\">\n",
       "      <th></th>\n",
       "      <th>name</th>\n",
       "      <th>platform</th>\n",
       "      <th>year_of_release</th>\n",
       "      <th>genre</th>\n",
       "      <th>na_sales</th>\n",
       "      <th>eu_sales</th>\n",
       "      <th>jp_sales</th>\n",
       "      <th>other_sales</th>\n",
       "      <th>critic_score</th>\n",
       "      <th>user_score</th>\n",
       "      <th>rating</th>\n",
       "      <th>total_sales</th>\n",
       "    </tr>\n",
       "  </thead>\n",
       "  <tbody>\n",
       "    <tr>\n",
       "      <th>16</th>\n",
       "      <td>Grand Theft Auto V</td>\n",
       "      <td>PS3</td>\n",
       "      <td>2013.0</td>\n",
       "      <td>Action</td>\n",
       "      <td>7.02</td>\n",
       "      <td>9.09</td>\n",
       "      <td>0.98</td>\n",
       "      <td>3.96</td>\n",
       "      <td>97.0</td>\n",
       "      <td>8.2</td>\n",
       "      <td>M</td>\n",
       "      <td>21.05</td>\n",
       "    </tr>\n",
       "    <tr>\n",
       "      <th>23</th>\n",
       "      <td>Grand Theft Auto V</td>\n",
       "      <td>X360</td>\n",
       "      <td>2013.0</td>\n",
       "      <td>Action</td>\n",
       "      <td>9.66</td>\n",
       "      <td>5.14</td>\n",
       "      <td>0.06</td>\n",
       "      <td>1.41</td>\n",
       "      <td>97.0</td>\n",
       "      <td>8.1</td>\n",
       "      <td>M</td>\n",
       "      <td>16.27</td>\n",
       "    </tr>\n",
       "    <tr>\n",
       "      <th>31</th>\n",
       "      <td>Call of Duty: Black Ops 3</td>\n",
       "      <td>PS4</td>\n",
       "      <td>2015.0</td>\n",
       "      <td>Shooter</td>\n",
       "      <td>6.03</td>\n",
       "      <td>5.86</td>\n",
       "      <td>0.36</td>\n",
       "      <td>2.38</td>\n",
       "      <td>nan</td>\n",
       "      <td>nan</td>\n",
       "      <td>nan</td>\n",
       "      <td>14.63</td>\n",
       "    </tr>\n",
       "    <tr>\n",
       "      <th>33</th>\n",
       "      <td>Pokemon X/Pokemon Y</td>\n",
       "      <td>3DS</td>\n",
       "      <td>2013.0</td>\n",
       "      <td>Role-Playing</td>\n",
       "      <td>5.28</td>\n",
       "      <td>4.19</td>\n",
       "      <td>4.35</td>\n",
       "      <td>0.78</td>\n",
       "      <td>nan</td>\n",
       "      <td>nan</td>\n",
       "      <td>nan</td>\n",
       "      <td>14.60</td>\n",
       "    </tr>\n",
       "    <tr>\n",
       "      <th>42</th>\n",
       "      <td>Grand Theft Auto V</td>\n",
       "      <td>PS4</td>\n",
       "      <td>2014.0</td>\n",
       "      <td>Action</td>\n",
       "      <td>3.96</td>\n",
       "      <td>6.31</td>\n",
       "      <td>0.38</td>\n",
       "      <td>1.97</td>\n",
       "      <td>97.0</td>\n",
       "      <td>8.3</td>\n",
       "      <td>M</td>\n",
       "      <td>12.62</td>\n",
       "    </tr>\n",
       "  </tbody>\n",
       "</table>\n",
       "</div>"
      ],
      "text/plain": [
       "                         name platform  year_of_release         genre  \\\n",
       "16         Grand Theft Auto V      PS3           2013.0        Action   \n",
       "23         Grand Theft Auto V     X360           2013.0        Action   \n",
       "31  Call of Duty: Black Ops 3      PS4           2015.0       Shooter   \n",
       "33        Pokemon X/Pokemon Y      3DS           2013.0  Role-Playing   \n",
       "42         Grand Theft Auto V      PS4           2014.0        Action   \n",
       "\n",
       "    na_sales  eu_sales  jp_sales  other_sales critic_score user_score rating  \\\n",
       "16      7.02      9.09      0.98         3.96         97.0        8.2      M   \n",
       "23      9.66      5.14      0.06         1.41         97.0        8.1      M   \n",
       "31      6.03      5.86      0.36         2.38          nan        nan    nan   \n",
       "33      5.28      4.19      4.35         0.78          nan        nan    nan   \n",
       "42      3.96      6.31      0.38         1.97         97.0        8.3      M   \n",
       "\n",
       "    total_sales  \n",
       "16        21.05  \n",
       "23        16.27  \n",
       "31        14.63  \n",
       "33        14.60  \n",
       "42        12.62  "
      ]
     },
     "execution_count": 82,
     "metadata": {},
     "output_type": "execute_result"
    }
   ],
   "source": [
    "data_2013.head()"
   ]
  },
  {
   "cell_type": "code",
   "execution_count": 83,
   "metadata": {},
   "outputs": [
    {
     "data": {
      "text/html": [
       "<div>\n",
       "<style scoped>\n",
       "    .dataframe tbody tr th:only-of-type {\n",
       "        vertical-align: middle;\n",
       "    }\n",
       "\n",
       "    .dataframe tbody tr th {\n",
       "        vertical-align: top;\n",
       "    }\n",
       "\n",
       "    .dataframe thead th {\n",
       "        text-align: right;\n",
       "    }\n",
       "</style>\n",
       "<table border=\"1\" class=\"dataframe\">\n",
       "  <thead>\n",
       "    <tr style=\"text-align: right;\">\n",
       "      <th></th>\n",
       "      <th>name</th>\n",
       "      <th>platform</th>\n",
       "      <th>year_of_release</th>\n",
       "      <th>genre</th>\n",
       "      <th>na_sales</th>\n",
       "      <th>eu_sales</th>\n",
       "      <th>jp_sales</th>\n",
       "      <th>other_sales</th>\n",
       "      <th>critic_score</th>\n",
       "      <th>user_score</th>\n",
       "      <th>rating</th>\n",
       "      <th>total_sales</th>\n",
       "    </tr>\n",
       "  </thead>\n",
       "  <tbody>\n",
       "    <tr>\n",
       "      <th>16</th>\n",
       "      <td>Grand Theft Auto V</td>\n",
       "      <td>PS3</td>\n",
       "      <td>2013.0</td>\n",
       "      <td>Action</td>\n",
       "      <td>7.02</td>\n",
       "      <td>9.09</td>\n",
       "      <td>0.98</td>\n",
       "      <td>3.96</td>\n",
       "      <td>97.0</td>\n",
       "      <td>8.2</td>\n",
       "      <td>M</td>\n",
       "      <td>21.05</td>\n",
       "    </tr>\n",
       "    <tr>\n",
       "      <th>23</th>\n",
       "      <td>Grand Theft Auto V</td>\n",
       "      <td>X360</td>\n",
       "      <td>2013.0</td>\n",
       "      <td>Action</td>\n",
       "      <td>9.66</td>\n",
       "      <td>5.14</td>\n",
       "      <td>0.06</td>\n",
       "      <td>1.41</td>\n",
       "      <td>97.0</td>\n",
       "      <td>8.1</td>\n",
       "      <td>M</td>\n",
       "      <td>16.27</td>\n",
       "    </tr>\n",
       "    <tr>\n",
       "      <th>42</th>\n",
       "      <td>Grand Theft Auto V</td>\n",
       "      <td>PS4</td>\n",
       "      <td>2014.0</td>\n",
       "      <td>Action</td>\n",
       "      <td>3.96</td>\n",
       "      <td>6.31</td>\n",
       "      <td>0.38</td>\n",
       "      <td>1.97</td>\n",
       "      <td>97.0</td>\n",
       "      <td>8.3</td>\n",
       "      <td>M</td>\n",
       "      <td>12.62</td>\n",
       "    </tr>\n",
       "    <tr>\n",
       "      <th>149</th>\n",
       "      <td>The Last of Us</td>\n",
       "      <td>PS3</td>\n",
       "      <td>2013.0</td>\n",
       "      <td>Action</td>\n",
       "      <td>2.41</td>\n",
       "      <td>2.18</td>\n",
       "      <td>0.28</td>\n",
       "      <td>0.99</td>\n",
       "      <td>95.0</td>\n",
       "      <td>9.1</td>\n",
       "      <td>M</td>\n",
       "      <td>5.86</td>\n",
       "    </tr>\n",
       "    <tr>\n",
       "      <th>165</th>\n",
       "      <td>Grand Theft Auto V</td>\n",
       "      <td>XOne</td>\n",
       "      <td>2014.0</td>\n",
       "      <td>Action</td>\n",
       "      <td>2.81</td>\n",
       "      <td>2.19</td>\n",
       "      <td>0.00</td>\n",
       "      <td>0.47</td>\n",
       "      <td>97.0</td>\n",
       "      <td>7.9</td>\n",
       "      <td>M</td>\n",
       "      <td>5.47</td>\n",
       "    </tr>\n",
       "  </tbody>\n",
       "</table>\n",
       "</div>"
      ],
      "text/plain": [
       "                   name platform  year_of_release   genre  na_sales  eu_sales  \\\n",
       "16   Grand Theft Auto V      PS3           2013.0  Action      7.02      9.09   \n",
       "23   Grand Theft Auto V     X360           2013.0  Action      9.66      5.14   \n",
       "42   Grand Theft Auto V      PS4           2014.0  Action      3.96      6.31   \n",
       "149      The Last of Us      PS3           2013.0  Action      2.41      2.18   \n",
       "165  Grand Theft Auto V     XOne           2014.0  Action      2.81      2.19   \n",
       "\n",
       "     jp_sales  other_sales critic_score user_score rating  total_sales  \n",
       "16       0.98         3.96         97.0        8.2      M        21.05  \n",
       "23       0.06         1.41         97.0        8.1      M        16.27  \n",
       "42       0.38         1.97         97.0        8.3      M        12.62  \n",
       "149      0.28         0.99         95.0        9.1      M         5.86  \n",
       "165      0.00         0.47         97.0        7.9      M         5.47  "
      ]
     },
     "execution_count": 83,
     "metadata": {},
     "output_type": "execute_result"
    }
   ],
   "source": [
    "#рассчитаем средний пользовательский рейтинг жанра Action\n",
    "\n",
    "list_Action = ['Action']\n",
    "data_2013.query('genre in @list_Action').head()"
   ]
  },
  {
   "cell_type": "code",
   "execution_count": 84,
   "metadata": {},
   "outputs": [
    {
     "data": {
      "text/plain": [
       "7.1"
      ]
     },
     "execution_count": 84,
     "metadata": {},
     "output_type": "execute_result"
    }
   ],
   "source": [
    "mediam_user_score_Action = data_2013\\\n",
    ".query('genre in @list_Action')['user_score'].median()\n",
    "mediam_user_score_Action"
   ]
  },
  {
   "cell_type": "code",
   "execution_count": 85,
   "metadata": {},
   "outputs": [
    {
     "data": {
      "text/html": [
       "<div>\n",
       "<style scoped>\n",
       "    .dataframe tbody tr th:only-of-type {\n",
       "        vertical-align: middle;\n",
       "    }\n",
       "\n",
       "    .dataframe tbody tr th {\n",
       "        vertical-align: top;\n",
       "    }\n",
       "\n",
       "    .dataframe thead th {\n",
       "        text-align: right;\n",
       "    }\n",
       "</style>\n",
       "<table border=\"1\" class=\"dataframe\">\n",
       "  <thead>\n",
       "    <tr style=\"text-align: right;\">\n",
       "      <th></th>\n",
       "      <th>name</th>\n",
       "      <th>platform</th>\n",
       "      <th>year_of_release</th>\n",
       "      <th>genre</th>\n",
       "      <th>na_sales</th>\n",
       "      <th>eu_sales</th>\n",
       "      <th>jp_sales</th>\n",
       "      <th>other_sales</th>\n",
       "      <th>critic_score</th>\n",
       "      <th>user_score</th>\n",
       "      <th>rating</th>\n",
       "      <th>total_sales</th>\n",
       "    </tr>\n",
       "  </thead>\n",
       "  <tbody>\n",
       "    <tr>\n",
       "      <th>77</th>\n",
       "      <td>FIFA 16</td>\n",
       "      <td>PS4</td>\n",
       "      <td>2015.0</td>\n",
       "      <td>Sports</td>\n",
       "      <td>1.12</td>\n",
       "      <td>6.12</td>\n",
       "      <td>0.06</td>\n",
       "      <td>1.28</td>\n",
       "      <td>82.0</td>\n",
       "      <td>4.3</td>\n",
       "      <td>E</td>\n",
       "      <td>8.58</td>\n",
       "    </tr>\n",
       "    <tr>\n",
       "      <th>94</th>\n",
       "      <td>FIFA 17</td>\n",
       "      <td>PS4</td>\n",
       "      <td>2016.0</td>\n",
       "      <td>Sports</td>\n",
       "      <td>0.66</td>\n",
       "      <td>5.75</td>\n",
       "      <td>0.08</td>\n",
       "      <td>1.11</td>\n",
       "      <td>85.0</td>\n",
       "      <td>5.0</td>\n",
       "      <td>E</td>\n",
       "      <td>7.60</td>\n",
       "    </tr>\n",
       "    <tr>\n",
       "      <th>126</th>\n",
       "      <td>FIFA 14</td>\n",
       "      <td>PS3</td>\n",
       "      <td>2013.0</td>\n",
       "      <td>Sports</td>\n",
       "      <td>0.78</td>\n",
       "      <td>4.24</td>\n",
       "      <td>0.07</td>\n",
       "      <td>1.37</td>\n",
       "      <td>86.0</td>\n",
       "      <td>4.3</td>\n",
       "      <td>E</td>\n",
       "      <td>6.46</td>\n",
       "    </tr>\n",
       "    <tr>\n",
       "      <th>143</th>\n",
       "      <td>FIFA 15</td>\n",
       "      <td>PS4</td>\n",
       "      <td>2014.0</td>\n",
       "      <td>Sports</td>\n",
       "      <td>0.80</td>\n",
       "      <td>4.33</td>\n",
       "      <td>0.05</td>\n",
       "      <td>0.90</td>\n",
       "      <td>82.0</td>\n",
       "      <td>5.7</td>\n",
       "      <td>E</td>\n",
       "      <td>6.08</td>\n",
       "    </tr>\n",
       "    <tr>\n",
       "      <th>264</th>\n",
       "      <td>FIFA 15</td>\n",
       "      <td>PS3</td>\n",
       "      <td>2014.0</td>\n",
       "      <td>Sports</td>\n",
       "      <td>0.58</td>\n",
       "      <td>3.02</td>\n",
       "      <td>0.04</td>\n",
       "      <td>0.64</td>\n",
       "      <td>nan</td>\n",
       "      <td>4.5</td>\n",
       "      <td>E</td>\n",
       "      <td>4.28</td>\n",
       "    </tr>\n",
       "  </tbody>\n",
       "</table>\n",
       "</div>"
      ],
      "text/plain": [
       "        name platform  year_of_release   genre  na_sales  eu_sales  jp_sales  \\\n",
       "77   FIFA 16      PS4           2015.0  Sports      1.12      6.12      0.06   \n",
       "94   FIFA 17      PS4           2016.0  Sports      0.66      5.75      0.08   \n",
       "126  FIFA 14      PS3           2013.0  Sports      0.78      4.24      0.07   \n",
       "143  FIFA 15      PS4           2014.0  Sports      0.80      4.33      0.05   \n",
       "264  FIFA 15      PS3           2014.0  Sports      0.58      3.02      0.04   \n",
       "\n",
       "     other_sales critic_score user_score rating  total_sales  \n",
       "77          1.28         82.0        4.3      E         8.58  \n",
       "94          1.11         85.0        5.0      E         7.60  \n",
       "126         1.37         86.0        4.3      E         6.46  \n",
       "143         0.90         82.0        5.7      E         6.08  \n",
       "264         0.64          nan        4.5      E         4.28  "
      ]
     },
     "execution_count": 85,
     "metadata": {},
     "output_type": "execute_result"
    }
   ],
   "source": [
    "#рассчитаем средний пользовательский рейтинг жанра Action\n",
    "\n",
    "list_Sports = ['Sports']\n",
    "data_2013.query('genre in @list_Sports').head()"
   ]
  },
  {
   "cell_type": "code",
   "execution_count": 86,
   "metadata": {},
   "outputs": [
    {
     "data": {
      "text/plain": [
       "5.5"
      ]
     },
     "execution_count": 86,
     "metadata": {},
     "output_type": "execute_result"
    }
   ],
   "source": [
    "mediam_user_score_Sports = data_2013\\\n",
    ".query('genre in @list_Sports')['user_score'].median()\n",
    "mediam_user_score_Sports"
   ]
  },
  {
   "cell_type": "markdown",
   "metadata": {},
   "source": [
    "Для проверки гипотезы равенства средних пользовательских рейтингов платформ Xbox One и PC воспользуемся специальным методом: st.ttest_ind"
   ]
  },
  {
   "cell_type": "code",
   "execution_count": 87,
   "metadata": {},
   "outputs": [
    {
     "name": "stdout",
     "output_type": "stream",
     "text": [
      "p-значение:  1.4460039700700163e-20\n",
      "Отвергаем нулевую гипотезу\n"
     ]
    }
   ],
   "source": [
    "alpha = .05 # критический уровень статистической значимости\n",
    "# если p-value окажется меньше него - отвегнем гипотезу\n",
    "\n",
    "results = st.ttest_ind(\n",
    "    data_2013.query('genre in @list_Action and user_score != \"nan\"')['user_score'], \n",
    "    data_2013.query('genre in @list_Sports and user_score != \"nan\"')['user_score'], equal_var = False, nan_policy = 'omit') \n",
    "#агрумент nan_policy = 'omit' дает возможность обойти nan\n",
    "\n",
    "print('p-значение: ', results.pvalue)\n",
    "\n",
    "if results.pvalue < alpha:\n",
    "    print(\"Отвергаем нулевую гипотезу\")\n",
    "else:\n",
    "    print(\"Не получилось отвергнуть нулевую гипотезу\") "
   ]
  },
  {
   "cell_type": "markdown",
   "metadata": {},
   "source": [
    "Итак, проверив гипотезы, пришли к выводу, что средние пользовательские рейтинги жанров Action (англ. «действие», экшен-игры) и Sports (англ. «спортивные соревнования») разные. "
   ]
  },
  {
   "cell_type": "markdown",
   "metadata": {},
   "source": [
    "## ОБЩИЕ ВЫВОДЫ:"
   ]
  },
  {
   "cell_type": "markdown",
   "metadata": {},
   "source": [
    "Нами быд проведен анализ данных (за 2016г.) интернет-магазина «Стримчик», который продаёт по всему миру компьютерные игры. \n",
    "\n",
    "1. В начале исследования была проведена предподготовка данных: проверка наличия пропуков, дубликатов, проверка типа данных и приведения некоторых к нужному виду.\n",
    "\n",
    "\n",
    "2. Далее был проведен анализ существующих платформ. Который дал следующие результаты:\n",
    "\n",
    "- делая прогноз на 2017 год, приходим к выводу, что платформы, которые запустили в 2013 году - 2017 должны достичь своего пика. Поэтому актуальный период определим с 2013-2017 гг. И дальнейшее исследование проходило на данных актуального периода, то есть с 2013 года.\n",
    "\n",
    "- по количеству продаж Топ-5 платформ: 'PS4', 'PS3', 'XOne', '3DS', 'X360' имеют показатели:\n",
    "\n",
    "    - платформа PS2 - игры этой платформы в основном были проданы в количестве от 0 - 1 млн. проданных копий\n",
    " - платформа 'PS3' - от 0 - 0.5 млн. проданных копий\n",
    " - платформа 'XOne' - от 0 - 0.8 млн. проданных копий\n",
    " - платформа '3DS' - от 0 - 0.3 млн. проданных копий\n",
    " - платформа 'X360' - от 0 - 0.9 млн. проданных копий\n",
    " \n",
    " То есть среди ТОП-5 платформ так же можно выделить лидеров по качеству проданных игр - это платформы: X360 и PS2.\n",
    "\n",
    "- проведя выборочную проверку платформ выяснили, что нет зависимости продаж от количества отзывов критиков или пользователей. \n",
    "\n",
    "- сравнивая, в разбивке по жанрам, лидеров и аутсайдеров по количеству и продажам , видно, что они почти совпадают, а именно:\n",
    "    Лидерами по популярности являются жанры: Action, Role-Playing, Adventure. Меньше всего по количеству игр: Simulation, Strategy, Puzzle.\t\n",
    "    Лидерами по продажам являются жанры: Shooter, Sports, Platform. Меньше всего продавались игры жанров: Strategy, Puzzle, Adventure.      \n",
    "    \n",
    "3. Так же определили примерный портрет пользователя каждого региона (NA, EU, JP) и сравнительная характеристика дала следующее:\n",
    "\n",
    "- Рассматривая ТОП-5 платформ, видно, что платформы, входящие в ТОП, в принципе похожи во всех регионах. Отличие платформа - PSV и WiiU - популярная в Японии. Анализируя доли продаж по этим группам, видно, что лидером является Европа - часто почти половина продаж, исключение - платформа 3DS - половина продаж, которой приходится на Японию.   \n",
    "\n",
    "Итак, ТОП-5 платформ:\n",
    "\n",
    "в Северной Америке:\n",
    "- PS4,\n",
    "- XOne,\n",
    "- X360,\n",
    "- PS3,\n",
    "- 3DS\n",
    "\n",
    "в Европе:\n",
    "- PS4,\n",
    "- PS3,\n",
    "- XOne,\n",
    "- X360,\n",
    "- 3DS\n",
    "\n",
    "в Японии:\n",
    "- 3DS,\n",
    "- PS3,\n",
    "- PSV,\n",
    "- PS4,\n",
    "- WiiU\n",
    "\n",
    "\n",
    "- Заметно почти абсолютное совпадение жанров группы ТОП-5 в Северной Америке и Европе. Набор ТОП-5 жанров  Японии похож, но в эту группу еще попал жанр Fighting - так же популярный в Японии. Скорее всего это связаны со сходством и различием культур населения этих регионов.\n",
    "\n",
    "Итак, ТОП-5 жанров:\n",
    "\n",
    "в Северной Америке:\n",
    "- Action,\n",
    "- Shooter,\n",
    "- Sports,\n",
    "- Role-Playing,\n",
    "- Misc\n",
    "\n",
    "в Европе:\n",
    "- Action,\n",
    "- Shooter,\n",
    "- Sports,\n",
    "- Role-Playing,\n",
    "- Racing\n",
    "\n",
    "в Японии:\n",
    "- Role-Playing,\n",
    "- Action,\n",
    "- Misc,\n",
    "- Fighting,\n",
    "- Shooter\n",
    "\n",
    "- То есть можно сказать, что популярность игр по возрастному рейтингу игр в регионах практически одинакова. \n",
    "\n",
    "в Северной Америке:\n",
    "\n",
    "Большое количество игр осталось без оценки возрастного рейтинга - 78,91 млн. проданных копий.\n",
    "\n",
    "- М («Для взрослых»: Материалы игры не подходят для подростков младше 17 лет. Проекты с данным рейтингом могут содержать достаточно жестокое насилие, большое количество крови с расчленением, непристойные сексуальные сцены или грубую ненормативную лексику, нежелательную для младшей аудитории.)\n",
    "- Е («Для всех»: Содержание вполне подходит для возрастной категории от 6 лет. Такие игры могут понравиться и взрослым. Игры с этим рейтингом могут содержать минимальное насилие, в основном «мультяшного» характера.)\n",
    "- E10+ («Для всех от 10 лет и старше»: Проекты с данным рейтингом могут содержать или немного больше мультипликационного или мягкого насилия, или несколько откровенные сцены, или минимальное количество крови.)\n",
    "- Т («Подросткам»: Игра подходит для лиц от 13 лет. Проекты из данной категории могут содержать насилие, непристойные сцены, грубый юмор, в меру откровенное сексуальное содержимое, кровь или нечастое использование ненормативной лексики.)\n",
    "\n",
    "\n",
    "в Европе:\n",
    "\n",
    "Так же большое количество игр без оценки возрастного рейтинга - 89,42 млн. проданных копий.\n",
    "\n",
    "- М\n",
    "- Е\n",
    "- E10+\n",
    "- Т\n",
    "\n",
    "\n",
    "в Японии:\n",
    "\n",
    "Количество игр без возрастного рейтинга - 85,05 млн. проданных копий.\n",
    "\n",
    "- Т\n",
    "- Е\n",
    "- М\n",
    "- E10+\n",
    "\n",
    "\n",
    "4. Также были проверены и приняты гипотезы:\n",
    "- Средние пользовательские рейтинги платформ Xbox One и PC можно считать одинаковые. \n",
    "- Средние пользовательские рейтинги жанров Action (англ. «действие», экшен-игры) и Sports (англ. «спортивные соревнования») разные. \n",
    "\n"
   ]
  },
  {
   "cell_type": "markdown",
   "metadata": {},
   "source": [
    "### РЕКОМЕНДАЦИИ:"
   ]
  },
  {
   "cell_type": "markdown",
   "metadata": {},
   "source": [
    "Учитывая вышесказанное, можем сформулировать рекомендации, которые позволят сделать ставки на потенциально популярные ТОП-продуктов и спланировать рекламные кампании.\n",
    "\n",
    "К таким ТОП- продуктам мы смогли отнести:\n",
    "\n",
    "Платформы:\n",
    "'PS4', 'PS3', 'XOne', '3DS', 'X360'.\n",
    "\n",
    "Жанры:\n",
    "по количеству игр - Action, Role-Playing, Adventure \n",
    "по количеству продаж - Shooter, Sports, Platform.\n",
    "\n",
    "По рейтингу: М, Е, E10+, Т.\n"
   ]
  }
 ],
 "metadata": {
  "ExecuteTimeLog": [
   {
    "duration": 1461,
    "start_time": "2022-03-28T17:21:44.612Z"
   },
   {
    "duration": 57,
    "start_time": "2022-03-28T17:22:42.099Z"
   },
   {
    "duration": 19,
    "start_time": "2022-03-28T17:22:53.553Z"
   },
   {
    "duration": 102,
    "start_time": "2022-03-28T17:30:28.305Z"
   },
   {
    "duration": 3,
    "start_time": "2022-03-28T17:30:32.532Z"
   },
   {
    "duration": 53,
    "start_time": "2022-03-28T17:30:33.180Z"
   },
   {
    "duration": 14,
    "start_time": "2022-03-28T17:30:33.949Z"
   },
   {
    "duration": 3,
    "start_time": "2022-03-28T17:30:36.029Z"
   },
   {
    "duration": 15,
    "start_time": "2022-03-28T17:30:45.180Z"
   },
   {
    "duration": 16,
    "start_time": "2022-03-28T17:33:37.601Z"
   },
   {
    "duration": 12,
    "start_time": "2022-03-28T17:44:28.288Z"
   },
   {
    "duration": 16,
    "start_time": "2022-03-28T17:44:56.718Z"
   },
   {
    "duration": 12,
    "start_time": "2022-03-28T17:45:14.349Z"
   },
   {
    "duration": 16,
    "start_time": "2022-03-28T17:45:15.797Z"
   },
   {
    "duration": 16,
    "start_time": "2022-03-28T18:31:56.748Z"
   },
   {
    "duration": 171,
    "start_time": "2022-03-28T18:32:00.157Z"
   },
   {
    "duration": 1317,
    "start_time": "2022-03-28T18:32:33.448Z"
   },
   {
    "duration": 7,
    "start_time": "2022-03-28T18:32:45.626Z"
   },
   {
    "duration": 14,
    "start_time": "2022-03-28T18:32:47.350Z"
   },
   {
    "duration": 5,
    "start_time": "2022-03-28T18:34:45.998Z"
   },
   {
    "duration": 14,
    "start_time": "2022-03-28T18:34:47.678Z"
   },
   {
    "duration": 17,
    "start_time": "2022-03-28T18:35:07.702Z"
   },
   {
    "duration": 6,
    "start_time": "2022-03-28T18:38:02.967Z"
   },
   {
    "duration": 20,
    "start_time": "2022-03-28T18:38:04.087Z"
   },
   {
    "duration": 15,
    "start_time": "2022-03-28T18:38:12.604Z"
   },
   {
    "duration": 45,
    "start_time": "2022-03-28T19:00:47.174Z"
   },
   {
    "duration": 1253,
    "start_time": "2022-03-28T19:00:54.775Z"
   },
   {
    "duration": 44,
    "start_time": "2022-03-28T19:00:56.032Z"
   },
   {
    "duration": 17,
    "start_time": "2022-03-28T19:00:56.078Z"
   },
   {
    "duration": 3,
    "start_time": "2022-03-28T19:00:56.096Z"
   },
   {
    "duration": 14,
    "start_time": "2022-03-28T19:00:56.101Z"
   },
   {
    "duration": 26,
    "start_time": "2022-03-28T19:00:56.116Z"
   },
   {
    "duration": 110,
    "start_time": "2022-03-28T19:00:56.143Z"
   },
   {
    "duration": 0,
    "start_time": "2022-03-28T19:00:56.254Z"
   },
   {
    "duration": 0,
    "start_time": "2022-03-28T19:00:56.256Z"
   },
   {
    "duration": 14,
    "start_time": "2022-03-28T19:01:13.234Z"
   },
   {
    "duration": 14,
    "start_time": "2022-03-28T19:01:17.891Z"
   },
   {
    "duration": 8,
    "start_time": "2022-03-28T19:01:46.692Z"
   },
   {
    "duration": 7,
    "start_time": "2022-03-28T19:01:56.159Z"
   },
   {
    "duration": 14,
    "start_time": "2022-03-28T19:01:59.134Z"
   },
   {
    "duration": 12,
    "start_time": "2022-03-28T19:02:33.383Z"
   },
   {
    "duration": 12,
    "start_time": "2022-03-28T19:02:47.385Z"
   },
   {
    "duration": 494,
    "start_time": "2022-03-28T19:08:20.988Z"
   },
   {
    "duration": 8,
    "start_time": "2022-03-28T19:14:13.181Z"
   },
   {
    "duration": 13,
    "start_time": "2022-03-28T19:14:27.821Z"
   },
   {
    "duration": 3,
    "start_time": "2022-03-28T19:16:11.793Z"
   },
   {
    "duration": 9,
    "start_time": "2022-03-28T19:16:12.680Z"
   },
   {
    "duration": 12,
    "start_time": "2022-03-28T19:16:13.728Z"
   },
   {
    "duration": 13,
    "start_time": "2022-03-28T19:17:01.091Z"
   },
   {
    "duration": 15,
    "start_time": "2022-03-28T19:17:01.991Z"
   },
   {
    "duration": 3,
    "start_time": "2022-03-28T19:17:03.178Z"
   },
   {
    "duration": 3,
    "start_time": "2022-03-28T19:17:03.826Z"
   },
   {
    "duration": 13,
    "start_time": "2022-03-28T19:17:04.604Z"
   },
   {
    "duration": 1763,
    "start_time": "2022-03-29T07:11:33.192Z"
   },
   {
    "duration": 63,
    "start_time": "2022-03-29T07:11:34.958Z"
   },
   {
    "duration": 26,
    "start_time": "2022-03-29T07:11:35.023Z"
   },
   {
    "duration": 3,
    "start_time": "2022-03-29T07:11:35.052Z"
   },
   {
    "duration": 22,
    "start_time": "2022-03-29T07:11:35.058Z"
   },
   {
    "duration": 22,
    "start_time": "2022-03-29T07:11:35.082Z"
   },
   {
    "duration": 37,
    "start_time": "2022-03-29T07:11:35.106Z"
   },
   {
    "duration": 18,
    "start_time": "2022-03-29T07:11:35.145Z"
   },
   {
    "duration": 13,
    "start_time": "2022-03-29T07:11:35.165Z"
   },
   {
    "duration": 18,
    "start_time": "2022-03-29T07:11:35.181Z"
   },
   {
    "duration": 44,
    "start_time": "2022-03-29T07:11:35.201Z"
   },
   {
    "duration": 95,
    "start_time": "2022-03-29T07:11:35.247Z"
   },
   {
    "duration": 18,
    "start_time": "2022-03-29T07:14:43.079Z"
   },
   {
    "duration": 19,
    "start_time": "2022-03-29T07:14:44.252Z"
   },
   {
    "duration": 4,
    "start_time": "2022-03-29T07:14:47.690Z"
   },
   {
    "duration": 19,
    "start_time": "2022-03-29T07:14:48.762Z"
   },
   {
    "duration": 22,
    "start_time": "2022-03-29T07:14:52.919Z"
   },
   {
    "duration": 1465,
    "start_time": "2022-03-29T07:18:05.771Z"
   },
   {
    "duration": 65,
    "start_time": "2022-03-29T07:18:07.239Z"
   },
   {
    "duration": 24,
    "start_time": "2022-03-29T07:18:07.306Z"
   },
   {
    "duration": 13,
    "start_time": "2022-03-29T07:18:07.333Z"
   },
   {
    "duration": 26,
    "start_time": "2022-03-29T07:18:07.348Z"
   },
   {
    "duration": 19,
    "start_time": "2022-03-29T07:18:07.377Z"
   },
   {
    "duration": 7,
    "start_time": "2022-03-29T07:18:07.399Z"
   },
   {
    "duration": 50,
    "start_time": "2022-03-29T07:18:07.408Z"
   },
   {
    "duration": 11,
    "start_time": "2022-03-29T07:18:07.460Z"
   },
   {
    "duration": 20,
    "start_time": "2022-03-29T07:18:07.474Z"
   },
   {
    "duration": 107,
    "start_time": "2022-03-29T07:18:07.496Z"
   },
   {
    "duration": 20,
    "start_time": "2022-03-29T07:31:14.784Z"
   },
   {
    "duration": 1795,
    "start_time": "2022-03-29T08:53:29.681Z"
   },
   {
    "duration": 51,
    "start_time": "2022-03-29T08:53:31.479Z"
   },
   {
    "duration": 42,
    "start_time": "2022-03-29T08:53:31.532Z"
   },
   {
    "duration": 5,
    "start_time": "2022-03-29T08:53:31.577Z"
   },
   {
    "duration": 30,
    "start_time": "2022-03-29T08:53:31.587Z"
   },
   {
    "duration": 29,
    "start_time": "2022-03-29T08:53:31.619Z"
   },
   {
    "duration": 9,
    "start_time": "2022-03-29T08:53:31.673Z"
   },
   {
    "duration": 31,
    "start_time": "2022-03-29T08:53:31.684Z"
   },
   {
    "duration": 23,
    "start_time": "2022-03-29T08:53:31.717Z"
   },
   {
    "duration": 43,
    "start_time": "2022-03-29T08:53:31.742Z"
   },
   {
    "duration": 103,
    "start_time": "2022-03-29T08:53:31.788Z"
   },
   {
    "duration": 160,
    "start_time": "2022-03-29T08:55:52.373Z"
   },
   {
    "duration": 26,
    "start_time": "2022-03-29T08:56:01.578Z"
   },
   {
    "duration": 9,
    "start_time": "2022-03-29T08:58:03.210Z"
   },
   {
    "duration": 16,
    "start_time": "2022-03-29T09:02:14.499Z"
   },
   {
    "duration": 20,
    "start_time": "2022-03-29T09:05:19.423Z"
   },
   {
    "duration": 8,
    "start_time": "2022-03-29T09:08:17.753Z"
   },
   {
    "duration": 22,
    "start_time": "2022-03-29T09:08:26.623Z"
   },
   {
    "duration": 6,
    "start_time": "2022-03-29T09:11:06.576Z"
   },
   {
    "duration": 22,
    "start_time": "2022-03-29T09:11:07.281Z"
   },
   {
    "duration": 12,
    "start_time": "2022-03-29T09:22:12.408Z"
   },
   {
    "duration": 8,
    "start_time": "2022-03-29T09:22:58.254Z"
   },
   {
    "duration": 7,
    "start_time": "2022-03-29T09:24:25.993Z"
   },
   {
    "duration": 10,
    "start_time": "2022-03-29T09:53:13.254Z"
   },
   {
    "duration": 44,
    "start_time": "2022-03-29T10:21:42.931Z"
   },
   {
    "duration": 1253,
    "start_time": "2022-03-29T10:22:03.763Z"
   },
   {
    "duration": 44,
    "start_time": "2022-03-29T10:22:05.019Z"
   },
   {
    "duration": 19,
    "start_time": "2022-03-29T10:22:05.064Z"
   },
   {
    "duration": 4,
    "start_time": "2022-03-29T10:22:05.093Z"
   },
   {
    "duration": 14,
    "start_time": "2022-03-29T10:22:05.307Z"
   },
   {
    "duration": 15,
    "start_time": "2022-03-29T10:22:05.833Z"
   },
   {
    "duration": 6,
    "start_time": "2022-03-29T10:22:06.184Z"
   },
   {
    "duration": 12,
    "start_time": "2022-03-29T10:22:07.408Z"
   },
   {
    "duration": 7,
    "start_time": "2022-03-29T10:22:08.023Z"
   },
   {
    "duration": 13,
    "start_time": "2022-03-29T10:22:08.963Z"
   },
   {
    "duration": 53,
    "start_time": "2022-03-29T10:22:10.954Z"
   },
   {
    "duration": 1471,
    "start_time": "2022-03-29T10:22:14.101Z"
   },
   {
    "duration": 7,
    "start_time": "2022-03-29T10:22:22.897Z"
   },
   {
    "duration": 6,
    "start_time": "2022-03-29T10:23:38.032Z"
   },
   {
    "duration": 3,
    "start_time": "2022-03-29T10:23:47.542Z"
   },
   {
    "duration": 35,
    "start_time": "2022-03-29T10:23:47.839Z"
   },
   {
    "duration": 15,
    "start_time": "2022-03-29T10:23:47.995Z"
   },
   {
    "duration": 3,
    "start_time": "2022-03-29T10:23:49.104Z"
   },
   {
    "duration": 14,
    "start_time": "2022-03-29T10:23:49.522Z"
   },
   {
    "duration": 15,
    "start_time": "2022-03-29T10:23:51.623Z"
   },
   {
    "duration": 6,
    "start_time": "2022-03-29T10:23:54.776Z"
   },
   {
    "duration": 14,
    "start_time": "2022-03-29T10:23:55.299Z"
   },
   {
    "duration": 5,
    "start_time": "2022-03-29T10:23:57.277Z"
   },
   {
    "duration": 9,
    "start_time": "2022-03-29T10:31:49.309Z"
   },
   {
    "duration": 5,
    "start_time": "2022-03-29T10:31:56.328Z"
   },
   {
    "duration": 11,
    "start_time": "2022-03-29T10:36:39.964Z"
   },
   {
    "duration": 14,
    "start_time": "2022-03-29T10:36:42.904Z"
   },
   {
    "duration": 6,
    "start_time": "2022-03-29T10:37:05.147Z"
   },
   {
    "duration": 1148,
    "start_time": "2022-03-29T10:38:08.506Z"
   },
   {
    "duration": 44,
    "start_time": "2022-03-29T10:38:09.656Z"
   },
   {
    "duration": 19,
    "start_time": "2022-03-29T10:38:09.702Z"
   },
   {
    "duration": 3,
    "start_time": "2022-03-29T10:38:09.723Z"
   },
   {
    "duration": 14,
    "start_time": "2022-03-29T10:38:09.728Z"
   },
   {
    "duration": 16,
    "start_time": "2022-03-29T10:38:09.744Z"
   },
   {
    "duration": 4,
    "start_time": "2022-03-29T10:38:09.762Z"
   },
   {
    "duration": 48,
    "start_time": "2022-03-29T10:38:09.768Z"
   },
   {
    "duration": 7,
    "start_time": "2022-03-29T10:38:09.817Z"
   },
   {
    "duration": 10,
    "start_time": "2022-03-29T10:38:09.826Z"
   },
   {
    "duration": 14,
    "start_time": "2022-03-29T10:38:09.838Z"
   },
   {
    "duration": 5,
    "start_time": "2022-03-29T10:38:09.853Z"
   },
   {
    "duration": 81,
    "start_time": "2022-03-29T10:38:09.860Z"
   },
   {
    "duration": 18,
    "start_time": "2022-03-29T10:38:09.942Z"
   },
   {
    "duration": 7,
    "start_time": "2022-03-29T10:38:09.962Z"
   },
   {
    "duration": 18,
    "start_time": "2022-03-29T10:38:09.971Z"
   },
   {
    "duration": 18,
    "start_time": "2022-03-29T10:38:09.991Z"
   },
   {
    "duration": 17,
    "start_time": "2022-03-29T10:38:10.010Z"
   },
   {
    "duration": 8,
    "start_time": "2022-03-29T10:39:51.285Z"
   },
   {
    "duration": 8,
    "start_time": "2022-03-29T10:40:10.255Z"
   },
   {
    "duration": 10,
    "start_time": "2022-03-29T10:40:37.303Z"
   },
   {
    "duration": 7,
    "start_time": "2022-03-29T10:40:47.006Z"
   },
   {
    "duration": 9,
    "start_time": "2022-03-29T10:44:11.907Z"
   },
   {
    "duration": 100,
    "start_time": "2022-03-29T10:44:33.225Z"
   },
   {
    "duration": 11,
    "start_time": "2022-03-29T10:44:46.392Z"
   },
   {
    "duration": 10,
    "start_time": "2022-03-29T10:45:40.617Z"
   },
   {
    "duration": 8,
    "start_time": "2022-03-29T10:46:17.777Z"
   },
   {
    "duration": 9,
    "start_time": "2022-03-29T10:46:46.394Z"
   },
   {
    "duration": 7,
    "start_time": "2022-03-29T10:48:31.279Z"
   },
   {
    "duration": 7,
    "start_time": "2022-03-29T10:59:09.458Z"
   },
   {
    "duration": 4,
    "start_time": "2022-03-29T10:59:43.478Z"
   },
   {
    "duration": 4,
    "start_time": "2022-03-29T11:00:08.979Z"
   },
   {
    "duration": 16,
    "start_time": "2022-03-29T11:00:24.579Z"
   },
   {
    "duration": 18,
    "start_time": "2022-03-29T11:02:14.126Z"
   },
   {
    "duration": 1121,
    "start_time": "2022-03-29T11:03:34.988Z"
   },
   {
    "duration": 36,
    "start_time": "2022-03-29T11:03:36.111Z"
   },
   {
    "duration": 18,
    "start_time": "2022-03-29T11:03:36.148Z"
   },
   {
    "duration": 2,
    "start_time": "2022-03-29T11:03:36.169Z"
   },
   {
    "duration": 15,
    "start_time": "2022-03-29T11:03:36.173Z"
   },
   {
    "duration": 33,
    "start_time": "2022-03-29T11:03:36.189Z"
   },
   {
    "duration": 6,
    "start_time": "2022-03-29T11:03:36.223Z"
   },
   {
    "duration": 13,
    "start_time": "2022-03-29T11:03:36.231Z"
   },
   {
    "duration": 8,
    "start_time": "2022-03-29T11:03:36.246Z"
   },
   {
    "duration": 8,
    "start_time": "2022-03-29T11:03:36.257Z"
   },
   {
    "duration": 11,
    "start_time": "2022-03-29T11:03:36.266Z"
   },
   {
    "duration": 76,
    "start_time": "2022-03-29T11:03:36.279Z"
   },
   {
    "duration": 5,
    "start_time": "2022-03-29T11:03:36.357Z"
   },
   {
    "duration": 7,
    "start_time": "2022-03-29T11:03:36.363Z"
   },
   {
    "duration": 6,
    "start_time": "2022-03-29T11:03:36.372Z"
   },
   {
    "duration": 38,
    "start_time": "2022-03-29T11:03:36.380Z"
   },
   {
    "duration": 17,
    "start_time": "2022-03-29T11:03:36.420Z"
   },
   {
    "duration": 6,
    "start_time": "2022-03-29T11:03:36.438Z"
   },
   {
    "duration": 11,
    "start_time": "2022-03-29T11:03:36.446Z"
   },
   {
    "duration": 7,
    "start_time": "2022-03-29T11:03:36.459Z"
   },
   {
    "duration": 14,
    "start_time": "2022-03-29T11:03:36.467Z"
   },
   {
    "duration": 48,
    "start_time": "2022-03-29T12:36:56.208Z"
   },
   {
    "duration": 1321,
    "start_time": "2022-03-29T12:37:10.821Z"
   },
   {
    "duration": 43,
    "start_time": "2022-03-29T12:37:12.144Z"
   },
   {
    "duration": 19,
    "start_time": "2022-03-29T12:37:12.189Z"
   },
   {
    "duration": 3,
    "start_time": "2022-03-29T12:37:12.210Z"
   },
   {
    "duration": 27,
    "start_time": "2022-03-29T12:37:12.214Z"
   },
   {
    "duration": 22,
    "start_time": "2022-03-29T12:37:12.243Z"
   },
   {
    "duration": 24,
    "start_time": "2022-03-29T12:37:12.267Z"
   },
   {
    "duration": 33,
    "start_time": "2022-03-29T12:37:12.293Z"
   },
   {
    "duration": 8,
    "start_time": "2022-03-29T12:37:12.328Z"
   },
   {
    "duration": 28,
    "start_time": "2022-03-29T12:37:12.339Z"
   },
   {
    "duration": 16,
    "start_time": "2022-03-29T12:37:12.369Z"
   },
   {
    "duration": 66,
    "start_time": "2022-03-29T12:37:12.387Z"
   },
   {
    "duration": 6,
    "start_time": "2022-03-29T12:37:12.455Z"
   },
   {
    "duration": 20,
    "start_time": "2022-03-29T12:37:12.462Z"
   },
   {
    "duration": 20,
    "start_time": "2022-03-29T12:37:12.484Z"
   },
   {
    "duration": 31,
    "start_time": "2022-03-29T12:37:12.506Z"
   },
   {
    "duration": 21,
    "start_time": "2022-03-29T12:37:12.539Z"
   },
   {
    "duration": 11,
    "start_time": "2022-03-29T12:37:12.561Z"
   },
   {
    "duration": 16,
    "start_time": "2022-03-29T12:37:12.574Z"
   },
   {
    "duration": 24,
    "start_time": "2022-03-29T12:37:12.591Z"
   },
   {
    "duration": 27,
    "start_time": "2022-03-29T12:37:12.617Z"
   },
   {
    "duration": 24,
    "start_time": "2022-03-29T12:37:12.646Z"
   },
   {
    "duration": 26,
    "start_time": "2022-03-29T12:40:40.174Z"
   },
   {
    "duration": 10,
    "start_time": "2022-03-29T12:41:10.779Z"
   },
   {
    "duration": 24,
    "start_time": "2022-03-29T12:41:48.299Z"
   },
   {
    "duration": 12,
    "start_time": "2022-03-29T12:42:25.188Z"
   },
   {
    "duration": 337,
    "start_time": "2022-03-29T12:43:23.020Z"
   },
   {
    "duration": 12,
    "start_time": "2022-03-29T12:43:51.559Z"
   },
   {
    "duration": 225,
    "start_time": "2022-03-29T12:48:28.415Z"
   },
   {
    "duration": 97,
    "start_time": "2022-03-29T12:54:24.265Z"
   },
   {
    "duration": 2747,
    "start_time": "2022-03-29T12:54:32.049Z"
   },
   {
    "duration": 303,
    "start_time": "2022-03-29T12:55:06.585Z"
   },
   {
    "duration": 299,
    "start_time": "2022-03-29T12:56:00.969Z"
   },
   {
    "duration": 13,
    "start_time": "2022-03-29T12:56:18.869Z"
   },
   {
    "duration": 260,
    "start_time": "2022-03-29T13:04:51.638Z"
   },
   {
    "duration": 14,
    "start_time": "2022-03-29T13:05:11.924Z"
   },
   {
    "duration": 9,
    "start_time": "2022-03-29T13:12:43.703Z"
   },
   {
    "duration": 155,
    "start_time": "2022-03-29T13:12:52.393Z"
   },
   {
    "duration": 9,
    "start_time": "2022-03-29T13:14:51.741Z"
   },
   {
    "duration": 10,
    "start_time": "2022-03-29T13:15:05.489Z"
   },
   {
    "duration": 16,
    "start_time": "2022-03-29T13:16:29.263Z"
   },
   {
    "duration": 137,
    "start_time": "2022-03-29T13:17:47.234Z"
   },
   {
    "duration": 121,
    "start_time": "2022-03-29T13:18:59.182Z"
   },
   {
    "duration": 1904,
    "start_time": "2022-03-29T13:19:04.923Z"
   },
   {
    "duration": 1974,
    "start_time": "2022-03-29T13:19:34.538Z"
   },
   {
    "duration": 13,
    "start_time": "2022-03-29T13:22:41.618Z"
   },
   {
    "duration": 361,
    "start_time": "2022-03-29T13:23:04.485Z"
   },
   {
    "duration": 339,
    "start_time": "2022-03-29T13:24:14.354Z"
   },
   {
    "duration": 14,
    "start_time": "2022-03-29T13:30:49.700Z"
   },
   {
    "duration": 13,
    "start_time": "2022-03-29T13:32:09.851Z"
   },
   {
    "duration": 19,
    "start_time": "2022-03-29T13:32:34.597Z"
   },
   {
    "duration": 29,
    "start_time": "2022-03-29T13:32:58.181Z"
   },
   {
    "duration": 13,
    "start_time": "2022-03-29T13:33:41.732Z"
   },
   {
    "duration": 14,
    "start_time": "2022-03-29T13:34:25.980Z"
   },
   {
    "duration": 1155,
    "start_time": "2022-03-29T14:03:02.102Z"
   },
   {
    "duration": 38,
    "start_time": "2022-03-29T14:03:03.259Z"
   },
   {
    "duration": 17,
    "start_time": "2022-03-29T14:03:03.299Z"
   },
   {
    "duration": 7,
    "start_time": "2022-03-29T14:03:03.318Z"
   },
   {
    "duration": 23,
    "start_time": "2022-03-29T14:03:03.326Z"
   },
   {
    "duration": 16,
    "start_time": "2022-03-29T14:03:03.351Z"
   },
   {
    "duration": 5,
    "start_time": "2022-03-29T14:03:03.369Z"
   },
   {
    "duration": 15,
    "start_time": "2022-03-29T14:03:03.375Z"
   },
   {
    "duration": 7,
    "start_time": "2022-03-29T14:03:03.392Z"
   },
   {
    "duration": 35,
    "start_time": "2022-03-29T14:03:03.402Z"
   },
   {
    "duration": 13,
    "start_time": "2022-03-29T14:03:03.439Z"
   },
   {
    "duration": 54,
    "start_time": "2022-03-29T14:03:03.454Z"
   },
   {
    "duration": 5,
    "start_time": "2022-03-29T14:03:03.510Z"
   },
   {
    "duration": 25,
    "start_time": "2022-03-29T14:03:03.517Z"
   },
   {
    "duration": 15,
    "start_time": "2022-03-29T14:03:03.544Z"
   },
   {
    "duration": 28,
    "start_time": "2022-03-29T14:03:03.560Z"
   },
   {
    "duration": 20,
    "start_time": "2022-03-29T14:03:03.590Z"
   },
   {
    "duration": 6,
    "start_time": "2022-03-29T14:03:03.612Z"
   },
   {
    "duration": 19,
    "start_time": "2022-03-29T14:03:03.620Z"
   },
   {
    "duration": 7,
    "start_time": "2022-03-29T14:03:03.640Z"
   },
   {
    "duration": 26,
    "start_time": "2022-03-29T14:03:03.649Z"
   },
   {
    "duration": 18,
    "start_time": "2022-03-29T14:03:03.676Z"
   },
   {
    "duration": 21,
    "start_time": "2022-03-29T14:03:03.696Z"
   },
   {
    "duration": 394,
    "start_time": "2022-03-29T14:03:03.719Z"
   },
   {
    "duration": 30,
    "start_time": "2022-03-29T14:03:04.115Z"
   },
   {
    "duration": 2836,
    "start_time": "2022-03-29T14:03:09.522Z"
   },
   {
    "duration": 38,
    "start_time": "2022-03-29T14:03:12.360Z"
   },
   {
    "duration": 17,
    "start_time": "2022-03-29T14:03:12.400Z"
   },
   {
    "duration": 2,
    "start_time": "2022-03-29T14:03:12.419Z"
   },
   {
    "duration": 24,
    "start_time": "2022-03-29T14:03:12.423Z"
   },
   {
    "duration": 14,
    "start_time": "2022-03-29T14:03:12.449Z"
   },
   {
    "duration": 7,
    "start_time": "2022-03-29T14:03:12.464Z"
   },
   {
    "duration": 20,
    "start_time": "2022-03-29T14:03:12.472Z"
   },
   {
    "duration": 11,
    "start_time": "2022-03-29T14:03:12.493Z"
   },
   {
    "duration": 34,
    "start_time": "2022-03-29T14:03:12.505Z"
   },
   {
    "duration": 11,
    "start_time": "2022-03-29T14:03:12.540Z"
   },
   {
    "duration": 56,
    "start_time": "2022-03-29T14:03:12.552Z"
   },
   {
    "duration": 6,
    "start_time": "2022-03-29T14:03:12.609Z"
   },
   {
    "duration": 23,
    "start_time": "2022-03-29T14:03:12.618Z"
   },
   {
    "duration": 8,
    "start_time": "2022-03-29T14:03:12.643Z"
   },
   {
    "duration": 20,
    "start_time": "2022-03-29T14:03:12.653Z"
   },
   {
    "duration": 20,
    "start_time": "2022-03-29T14:03:12.674Z"
   },
   {
    "duration": 7,
    "start_time": "2022-03-29T14:03:12.695Z"
   },
   {
    "duration": 35,
    "start_time": "2022-03-29T14:03:12.704Z"
   },
   {
    "duration": 6,
    "start_time": "2022-03-29T14:03:12.741Z"
   },
   {
    "duration": 19,
    "start_time": "2022-03-29T14:03:12.749Z"
   },
   {
    "duration": 15,
    "start_time": "2022-03-29T14:03:12.770Z"
   },
   {
    "duration": 20,
    "start_time": "2022-03-29T14:03:12.787Z"
   },
   {
    "duration": 384,
    "start_time": "2022-03-29T14:03:12.808Z"
   },
   {
    "duration": 19,
    "start_time": "2022-03-29T14:03:13.194Z"
   },
   {
    "duration": 46,
    "start_time": "2022-03-29T14:09:27.157Z"
   },
   {
    "duration": 133,
    "start_time": "2022-03-29T14:11:05.610Z"
   },
   {
    "duration": 6,
    "start_time": "2022-03-29T14:11:21.240Z"
   },
   {
    "duration": 7,
    "start_time": "2022-03-29T14:11:22.651Z"
   },
   {
    "duration": 1379,
    "start_time": "2022-03-29T14:11:38.155Z"
   },
   {
    "duration": 44,
    "start_time": "2022-03-29T14:11:39.538Z"
   },
   {
    "duration": 17,
    "start_time": "2022-03-29T14:11:39.583Z"
   },
   {
    "duration": 13,
    "start_time": "2022-03-29T14:11:39.602Z"
   },
   {
    "duration": 16,
    "start_time": "2022-03-29T14:11:39.617Z"
   },
   {
    "duration": 24,
    "start_time": "2022-03-29T14:11:39.634Z"
   },
   {
    "duration": 17,
    "start_time": "2022-03-29T14:11:39.660Z"
   },
   {
    "duration": 21,
    "start_time": "2022-03-29T14:11:39.679Z"
   },
   {
    "duration": 11,
    "start_time": "2022-03-29T14:11:39.701Z"
   },
   {
    "duration": 10,
    "start_time": "2022-03-29T14:11:39.715Z"
   },
   {
    "duration": 12,
    "start_time": "2022-03-29T14:11:39.726Z"
   },
   {
    "duration": 62,
    "start_time": "2022-03-29T14:11:39.740Z"
   },
   {
    "duration": 6,
    "start_time": "2022-03-29T14:11:39.804Z"
   },
   {
    "duration": 9,
    "start_time": "2022-03-29T14:11:39.811Z"
   },
   {
    "duration": 16,
    "start_time": "2022-03-29T14:11:39.822Z"
   },
   {
    "duration": 27,
    "start_time": "2022-03-29T14:11:39.840Z"
   },
   {
    "duration": 32,
    "start_time": "2022-03-29T14:11:39.868Z"
   },
   {
    "duration": 7,
    "start_time": "2022-03-29T14:11:39.901Z"
   },
   {
    "duration": 17,
    "start_time": "2022-03-29T14:11:39.909Z"
   },
   {
    "duration": 12,
    "start_time": "2022-03-29T14:11:39.927Z"
   },
   {
    "duration": 33,
    "start_time": "2022-03-29T14:11:39.941Z"
   },
   {
    "duration": 23,
    "start_time": "2022-03-29T14:11:39.976Z"
   },
   {
    "duration": 29,
    "start_time": "2022-03-29T14:11:40.001Z"
   },
   {
    "duration": 395,
    "start_time": "2022-03-29T14:11:40.032Z"
   },
   {
    "duration": 27,
    "start_time": "2022-03-29T14:11:40.429Z"
   },
   {
    "duration": 14,
    "start_time": "2022-03-29T14:11:40.457Z"
   },
   {
    "duration": 661,
    "start_time": "2022-03-29T14:11:40.473Z"
   },
   {
    "duration": 205,
    "start_time": "2022-03-29T14:14:14.121Z"
   },
   {
    "duration": 9,
    "start_time": "2022-03-29T14:14:54.250Z"
   },
   {
    "duration": 19,
    "start_time": "2022-03-29T14:15:09.835Z"
   },
   {
    "duration": 129,
    "start_time": "2022-03-29T14:17:09.827Z"
   },
   {
    "duration": 1664,
    "start_time": "2022-03-29T14:17:27.430Z"
   },
   {
    "duration": 591,
    "start_time": "2022-03-29T14:17:55.858Z"
   },
   {
    "duration": 57,
    "start_time": "2022-03-29T14:20:24.284Z"
   },
   {
    "duration": 2254,
    "start_time": "2022-03-29T14:21:21.522Z"
   },
   {
    "duration": 57,
    "start_time": "2022-03-29T14:21:50.008Z"
   },
   {
    "duration": 15,
    "start_time": "2022-03-29T14:23:05.807Z"
   },
   {
    "duration": 14,
    "start_time": "2022-03-29T14:23:45.833Z"
   },
   {
    "duration": 16,
    "start_time": "2022-03-29T14:24:53.868Z"
   },
   {
    "duration": 14,
    "start_time": "2022-03-29T14:26:20.303Z"
   },
   {
    "duration": 14,
    "start_time": "2022-03-29T14:27:59.740Z"
   },
   {
    "duration": 122,
    "start_time": "2022-03-29T14:39:28.434Z"
   },
   {
    "duration": 15,
    "start_time": "2022-03-29T14:40:32.064Z"
   },
   {
    "duration": 118,
    "start_time": "2022-03-29T14:41:16.073Z"
   },
   {
    "duration": 13,
    "start_time": "2022-03-29T14:42:03.542Z"
   },
   {
    "duration": 22,
    "start_time": "2022-03-29T14:42:36.378Z"
   },
   {
    "duration": 30,
    "start_time": "2022-03-29T14:43:01.554Z"
   },
   {
    "duration": 16,
    "start_time": "2022-03-29T14:43:56.684Z"
   },
   {
    "duration": 27,
    "start_time": "2022-03-29T14:45:49.086Z"
   },
   {
    "duration": 8,
    "start_time": "2022-03-29T14:49:08.131Z"
   },
   {
    "duration": 27,
    "start_time": "2022-03-29T14:49:22.933Z"
   },
   {
    "duration": 15,
    "start_time": "2022-03-29T14:50:37.278Z"
   },
   {
    "duration": 148,
    "start_time": "2022-03-29T14:50:55.358Z"
   },
   {
    "duration": 12,
    "start_time": "2022-03-29T14:51:00.626Z"
   },
   {
    "duration": 13,
    "start_time": "2022-03-29T14:51:09.319Z"
   },
   {
    "duration": 69,
    "start_time": "2022-03-29T17:51:01.706Z"
   },
   {
    "duration": 1731,
    "start_time": "2022-03-29T17:51:09.639Z"
   },
   {
    "duration": 43,
    "start_time": "2022-03-29T17:51:11.372Z"
   },
   {
    "duration": 26,
    "start_time": "2022-03-29T17:51:11.417Z"
   },
   {
    "duration": 5,
    "start_time": "2022-03-29T17:51:11.447Z"
   },
   {
    "duration": 45,
    "start_time": "2022-03-29T17:51:11.454Z"
   },
   {
    "duration": 24,
    "start_time": "2022-03-29T17:51:11.502Z"
   },
   {
    "duration": 8,
    "start_time": "2022-03-29T17:51:11.528Z"
   },
   {
    "duration": 54,
    "start_time": "2022-03-29T17:51:11.538Z"
   },
   {
    "duration": 11,
    "start_time": "2022-03-29T17:51:11.594Z"
   },
   {
    "duration": 15,
    "start_time": "2022-03-29T17:51:11.609Z"
   },
   {
    "duration": 15,
    "start_time": "2022-03-29T17:51:11.625Z"
   },
   {
    "duration": 103,
    "start_time": "2022-03-29T17:51:11.643Z"
   },
   {
    "duration": 7,
    "start_time": "2022-03-29T17:51:11.748Z"
   },
   {
    "duration": 27,
    "start_time": "2022-03-29T17:51:11.757Z"
   },
   {
    "duration": 6,
    "start_time": "2022-03-29T17:51:11.786Z"
   },
   {
    "duration": 22,
    "start_time": "2022-03-29T17:51:11.795Z"
   },
   {
    "duration": 23,
    "start_time": "2022-03-29T17:51:11.820Z"
   },
   {
    "duration": 42,
    "start_time": "2022-03-29T17:51:11.845Z"
   },
   {
    "duration": 12,
    "start_time": "2022-03-29T17:51:11.889Z"
   },
   {
    "duration": 8,
    "start_time": "2022-03-29T17:51:11.903Z"
   },
   {
    "duration": 21,
    "start_time": "2022-03-29T17:51:11.914Z"
   },
   {
    "duration": 54,
    "start_time": "2022-03-29T17:51:11.938Z"
   },
   {
    "duration": 24,
    "start_time": "2022-03-29T17:51:11.994Z"
   },
   {
    "duration": 557,
    "start_time": "2022-03-29T17:51:12.021Z"
   },
   {
    "duration": 20,
    "start_time": "2022-03-29T17:51:12.583Z"
   },
   {
    "duration": 41,
    "start_time": "2022-03-29T17:51:12.606Z"
   },
   {
    "duration": 147,
    "start_time": "2022-03-29T17:51:12.650Z"
   },
   {
    "duration": 0,
    "start_time": "2022-03-29T17:51:12.800Z"
   },
   {
    "duration": 0,
    "start_time": "2022-03-29T17:51:12.801Z"
   },
   {
    "duration": 0,
    "start_time": "2022-03-29T17:51:12.802Z"
   },
   {
    "duration": 0,
    "start_time": "2022-03-29T17:51:12.804Z"
   },
   {
    "duration": 49,
    "start_time": "2022-03-30T08:28:00.775Z"
   },
   {
    "duration": 8,
    "start_time": "2022-03-30T08:28:08.153Z"
   },
   {
    "duration": 1297,
    "start_time": "2022-03-30T08:28:15.248Z"
   },
   {
    "duration": 43,
    "start_time": "2022-03-30T08:28:16.548Z"
   },
   {
    "duration": 18,
    "start_time": "2022-03-30T08:28:16.593Z"
   },
   {
    "duration": 3,
    "start_time": "2022-03-30T08:28:16.613Z"
   },
   {
    "duration": 24,
    "start_time": "2022-03-30T08:28:16.618Z"
   },
   {
    "duration": 19,
    "start_time": "2022-03-30T08:28:16.644Z"
   },
   {
    "duration": 16,
    "start_time": "2022-03-30T08:28:16.665Z"
   },
   {
    "duration": 21,
    "start_time": "2022-03-30T08:28:16.683Z"
   },
   {
    "duration": 7,
    "start_time": "2022-03-30T08:28:16.706Z"
   },
   {
    "duration": 21,
    "start_time": "2022-03-30T08:28:16.715Z"
   },
   {
    "duration": 12,
    "start_time": "2022-03-30T08:28:16.737Z"
   },
   {
    "duration": 54,
    "start_time": "2022-03-30T08:28:16.750Z"
   },
   {
    "duration": 5,
    "start_time": "2022-03-30T08:28:16.806Z"
   },
   {
    "duration": 29,
    "start_time": "2022-03-30T08:28:16.815Z"
   },
   {
    "duration": 9,
    "start_time": "2022-03-30T08:28:16.845Z"
   },
   {
    "duration": 18,
    "start_time": "2022-03-30T08:28:16.856Z"
   },
   {
    "duration": 20,
    "start_time": "2022-03-30T08:28:16.875Z"
   },
   {
    "duration": 7,
    "start_time": "2022-03-30T08:28:16.896Z"
   },
   {
    "duration": 30,
    "start_time": "2022-03-30T08:28:16.904Z"
   },
   {
    "duration": 4,
    "start_time": "2022-03-30T08:28:16.936Z"
   },
   {
    "duration": 20,
    "start_time": "2022-03-30T08:28:16.942Z"
   },
   {
    "duration": 18,
    "start_time": "2022-03-30T08:28:16.964Z"
   },
   {
    "duration": 23,
    "start_time": "2022-03-30T08:28:16.985Z"
   },
   {
    "duration": 387,
    "start_time": "2022-03-30T08:28:17.010Z"
   },
   {
    "duration": 14,
    "start_time": "2022-03-30T08:28:17.399Z"
   },
   {
    "duration": 28,
    "start_time": "2022-03-30T08:28:17.415Z"
   },
   {
    "duration": 25,
    "start_time": "2022-03-30T08:28:17.445Z"
   },
   {
    "duration": 123,
    "start_time": "2022-03-30T08:28:17.472Z"
   },
   {
    "duration": 0,
    "start_time": "2022-03-30T08:28:17.597Z"
   },
   {
    "duration": 0,
    "start_time": "2022-03-30T08:28:17.599Z"
   },
   {
    "duration": 0,
    "start_time": "2022-03-30T08:28:17.600Z"
   },
   {
    "duration": 77,
    "start_time": "2022-03-30T08:42:08.190Z"
   },
   {
    "duration": 1432,
    "start_time": "2022-03-30T08:42:20.136Z"
   },
   {
    "duration": 41,
    "start_time": "2022-03-30T08:42:21.571Z"
   },
   {
    "duration": 20,
    "start_time": "2022-03-30T08:42:21.614Z"
   },
   {
    "duration": 6,
    "start_time": "2022-03-30T08:42:21.636Z"
   },
   {
    "duration": 24,
    "start_time": "2022-03-30T08:42:21.644Z"
   },
   {
    "duration": 31,
    "start_time": "2022-03-30T08:42:21.670Z"
   },
   {
    "duration": 7,
    "start_time": "2022-03-30T08:42:21.703Z"
   },
   {
    "duration": 18,
    "start_time": "2022-03-30T08:42:21.711Z"
   },
   {
    "duration": 9,
    "start_time": "2022-03-30T08:42:21.730Z"
   },
   {
    "duration": 8,
    "start_time": "2022-03-30T08:42:21.743Z"
   },
   {
    "duration": 15,
    "start_time": "2022-03-30T08:42:21.753Z"
   },
   {
    "duration": 87,
    "start_time": "2022-03-30T08:42:21.770Z"
   },
   {
    "duration": 6,
    "start_time": "2022-03-30T08:42:21.859Z"
   },
   {
    "duration": 9,
    "start_time": "2022-03-30T08:42:21.867Z"
   },
   {
    "duration": 26,
    "start_time": "2022-03-30T08:42:21.877Z"
   },
   {
    "duration": 26,
    "start_time": "2022-03-30T08:42:21.904Z"
   },
   {
    "duration": 20,
    "start_time": "2022-03-30T08:42:21.932Z"
   },
   {
    "duration": 8,
    "start_time": "2022-03-30T08:42:21.954Z"
   },
   {
    "duration": 41,
    "start_time": "2022-03-30T08:42:21.963Z"
   },
   {
    "duration": 7,
    "start_time": "2022-03-30T08:42:22.005Z"
   },
   {
    "duration": 18,
    "start_time": "2022-03-30T08:42:22.014Z"
   },
   {
    "duration": 17,
    "start_time": "2022-03-30T08:42:22.034Z"
   },
   {
    "duration": 22,
    "start_time": "2022-03-30T08:42:22.053Z"
   },
   {
    "duration": 427,
    "start_time": "2022-03-30T08:42:22.077Z"
   },
   {
    "duration": 17,
    "start_time": "2022-03-30T08:42:22.506Z"
   },
   {
    "duration": 23,
    "start_time": "2022-03-30T08:42:22.525Z"
   },
   {
    "duration": 27,
    "start_time": "2022-03-30T08:42:22.550Z"
   },
   {
    "duration": 20,
    "start_time": "2022-03-30T08:42:22.602Z"
   },
   {
    "duration": 123,
    "start_time": "2022-03-30T08:42:22.624Z"
   },
   {
    "duration": 0,
    "start_time": "2022-03-30T08:42:22.749Z"
   },
   {
    "duration": 0,
    "start_time": "2022-03-30T08:42:22.750Z"
   },
   {
    "duration": 17,
    "start_time": "2022-03-30T08:43:14.485Z"
   },
   {
    "duration": 21,
    "start_time": "2022-03-30T08:43:57.250Z"
   },
   {
    "duration": 24,
    "start_time": "2022-03-30T08:44:14.201Z"
   },
   {
    "duration": 28,
    "start_time": "2022-03-30T08:47:25.662Z"
   },
   {
    "duration": 375,
    "start_time": "2022-03-30T09:05:04.271Z"
   },
   {
    "duration": 261,
    "start_time": "2022-03-30T09:08:18.345Z"
   },
   {
    "duration": 21,
    "start_time": "2022-03-30T09:16:07.572Z"
   },
   {
    "duration": 2477,
    "start_time": "2022-03-30T09:16:15.414Z"
   },
   {
    "duration": 83,
    "start_time": "2022-03-30T09:16:36.253Z"
   },
   {
    "duration": 155,
    "start_time": "2022-03-30T09:17:40.872Z"
   },
   {
    "duration": 20,
    "start_time": "2022-03-30T09:17:50.728Z"
   },
   {
    "duration": 16,
    "start_time": "2022-03-30T09:18:53.842Z"
   },
   {
    "duration": 2242,
    "start_time": "2022-03-30T09:19:30.705Z"
   },
   {
    "duration": 358,
    "start_time": "2022-03-30T09:19:46.960Z"
   },
   {
    "duration": 433,
    "start_time": "2022-03-30T09:20:46.692Z"
   },
   {
    "duration": 17,
    "start_time": "2022-03-30T09:31:30.110Z"
   },
   {
    "duration": 20,
    "start_time": "2022-03-30T09:31:53.982Z"
   },
   {
    "duration": 111,
    "start_time": "2022-03-30T09:47:54.883Z"
   },
   {
    "duration": 232,
    "start_time": "2022-03-30T09:48:16.132Z"
   },
   {
    "duration": 33,
    "start_time": "2022-03-30T09:49:18.648Z"
   },
   {
    "duration": 20,
    "start_time": "2022-03-30T09:49:33.325Z"
   },
   {
    "duration": 22,
    "start_time": "2022-03-30T09:50:02.867Z"
   },
   {
    "duration": 42,
    "start_time": "2022-03-30T09:50:13.998Z"
   },
   {
    "duration": 579,
    "start_time": "2022-03-30T10:11:48.255Z"
   },
   {
    "duration": 678,
    "start_time": "2022-03-30T10:12:42.355Z"
   },
   {
    "duration": 801,
    "start_time": "2022-03-30T10:13:09.949Z"
   },
   {
    "duration": 746,
    "start_time": "2022-03-30T10:13:26.728Z"
   },
   {
    "duration": 690,
    "start_time": "2022-03-30T10:13:47.154Z"
   },
   {
    "duration": 823,
    "start_time": "2022-03-30T10:14:05.502Z"
   },
   {
    "duration": 720,
    "start_time": "2022-03-30T10:14:26.034Z"
   },
   {
    "duration": 547,
    "start_time": "2022-03-30T10:20:30.403Z"
   },
   {
    "duration": 1887,
    "start_time": "2022-03-30T10:20:44.358Z"
   },
   {
    "duration": 1840,
    "start_time": "2022-03-30T10:21:10.706Z"
   },
   {
    "duration": 1773,
    "start_time": "2022-03-30T10:21:43.103Z"
   },
   {
    "duration": 2472,
    "start_time": "2022-03-30T10:22:04.892Z"
   },
   {
    "duration": 1122,
    "start_time": "2022-03-30T10:22:26.748Z"
   },
   {
    "duration": 4162,
    "start_time": "2022-03-30T10:34:47.849Z"
   },
   {
    "duration": 2372,
    "start_time": "2022-03-30T10:36:13.090Z"
   },
   {
    "duration": 1858,
    "start_time": "2022-03-30T10:36:30.551Z"
   },
   {
    "duration": 1803,
    "start_time": "2022-03-30T10:36:40.311Z"
   },
   {
    "duration": 30,
    "start_time": "2022-03-30T10:42:34.245Z"
   },
   {
    "duration": 170,
    "start_time": "2022-03-30T10:47:14.104Z"
   },
   {
    "duration": 198,
    "start_time": "2022-03-30T10:48:07.345Z"
   },
   {
    "duration": 18,
    "start_time": "2022-03-30T10:49:50.455Z"
   },
   {
    "duration": 1244,
    "start_time": "2022-03-30T10:50:39.798Z"
   },
   {
    "duration": 40,
    "start_time": "2022-03-30T10:50:41.044Z"
   },
   {
    "duration": 25,
    "start_time": "2022-03-30T10:50:41.086Z"
   },
   {
    "duration": 4,
    "start_time": "2022-03-30T10:50:41.113Z"
   },
   {
    "duration": 19,
    "start_time": "2022-03-30T10:50:41.118Z"
   },
   {
    "duration": 20,
    "start_time": "2022-03-30T10:50:41.139Z"
   },
   {
    "duration": 7,
    "start_time": "2022-03-30T10:50:41.160Z"
   },
   {
    "duration": 45,
    "start_time": "2022-03-30T10:50:41.169Z"
   },
   {
    "duration": 10,
    "start_time": "2022-03-30T10:50:41.216Z"
   },
   {
    "duration": 8,
    "start_time": "2022-03-30T10:50:41.229Z"
   },
   {
    "duration": 16,
    "start_time": "2022-03-30T10:50:41.239Z"
   },
   {
    "duration": 82,
    "start_time": "2022-03-30T10:50:41.257Z"
   },
   {
    "duration": 6,
    "start_time": "2022-03-30T10:50:41.342Z"
   },
   {
    "duration": 8,
    "start_time": "2022-03-30T10:50:41.350Z"
   },
   {
    "duration": 7,
    "start_time": "2022-03-30T10:50:41.360Z"
   },
   {
    "duration": 42,
    "start_time": "2022-03-30T10:50:41.369Z"
   },
   {
    "duration": 23,
    "start_time": "2022-03-30T10:50:41.413Z"
   },
   {
    "duration": 9,
    "start_time": "2022-03-30T10:50:41.438Z"
   },
   {
    "duration": 15,
    "start_time": "2022-03-30T10:50:41.449Z"
   },
   {
    "duration": 35,
    "start_time": "2022-03-30T10:50:41.466Z"
   },
   {
    "duration": 19,
    "start_time": "2022-03-30T10:50:41.504Z"
   },
   {
    "duration": 20,
    "start_time": "2022-03-30T10:50:41.525Z"
   },
   {
    "duration": 129,
    "start_time": "2022-03-30T10:50:41.547Z"
   },
   {
    "duration": 0,
    "start_time": "2022-03-30T10:50:41.678Z"
   },
   {
    "duration": 0,
    "start_time": "2022-03-30T10:50:41.680Z"
   },
   {
    "duration": 0,
    "start_time": "2022-03-30T10:50:41.681Z"
   },
   {
    "duration": 0,
    "start_time": "2022-03-30T10:50:41.682Z"
   },
   {
    "duration": 0,
    "start_time": "2022-03-30T10:50:41.683Z"
   },
   {
    "duration": 0,
    "start_time": "2022-03-30T10:50:41.684Z"
   },
   {
    "duration": 0,
    "start_time": "2022-03-30T10:50:41.685Z"
   },
   {
    "duration": 33,
    "start_time": "2022-03-30T10:51:13.856Z"
   },
   {
    "duration": 349,
    "start_time": "2022-03-30T10:51:18.177Z"
   },
   {
    "duration": 1910,
    "start_time": "2022-03-30T10:51:19.463Z"
   },
   {
    "duration": 116,
    "start_time": "2022-03-30T10:51:25.129Z"
   },
   {
    "duration": 37,
    "start_time": "2022-03-30T10:59:55.657Z"
   },
   {
    "duration": 20,
    "start_time": "2022-03-30T11:00:19.383Z"
   },
   {
    "duration": 19,
    "start_time": "2022-03-30T11:01:16.332Z"
   },
   {
    "duration": 24,
    "start_time": "2022-03-30T11:02:35.733Z"
   },
   {
    "duration": 20,
    "start_time": "2022-03-30T11:05:31.960Z"
   },
   {
    "duration": 101,
    "start_time": "2022-03-30T12:18:40.472Z"
   },
   {
    "duration": 1752,
    "start_time": "2022-03-30T12:18:51.353Z"
   },
   {
    "duration": 64,
    "start_time": "2022-03-30T12:18:53.110Z"
   },
   {
    "duration": 33,
    "start_time": "2022-03-30T12:18:53.185Z"
   },
   {
    "duration": 5,
    "start_time": "2022-03-30T12:18:53.222Z"
   },
   {
    "duration": 38,
    "start_time": "2022-03-30T12:18:53.229Z"
   },
   {
    "duration": 34,
    "start_time": "2022-03-30T12:18:53.282Z"
   },
   {
    "duration": 17,
    "start_time": "2022-03-30T12:18:53.319Z"
   },
   {
    "duration": 42,
    "start_time": "2022-03-30T12:18:53.338Z"
   },
   {
    "duration": 25,
    "start_time": "2022-03-30T12:18:53.382Z"
   },
   {
    "duration": 27,
    "start_time": "2022-03-30T12:18:53.411Z"
   },
   {
    "duration": 39,
    "start_time": "2022-03-30T12:18:53.441Z"
   },
   {
    "duration": 117,
    "start_time": "2022-03-30T12:18:53.483Z"
   },
   {
    "duration": 9,
    "start_time": "2022-03-30T12:18:53.603Z"
   },
   {
    "duration": 15,
    "start_time": "2022-03-30T12:18:53.615Z"
   },
   {
    "duration": 9,
    "start_time": "2022-03-30T12:18:53.633Z"
   },
   {
    "duration": 54,
    "start_time": "2022-03-30T12:18:53.644Z"
   },
   {
    "duration": 27,
    "start_time": "2022-03-30T12:18:53.701Z"
   },
   {
    "duration": 13,
    "start_time": "2022-03-30T12:18:53.730Z"
   },
   {
    "duration": 42,
    "start_time": "2022-03-30T12:18:53.745Z"
   },
   {
    "duration": 22,
    "start_time": "2022-03-30T12:18:53.791Z"
   },
   {
    "duration": 38,
    "start_time": "2022-03-30T12:18:53.816Z"
   },
   {
    "duration": 38,
    "start_time": "2022-03-30T12:18:53.856Z"
   },
   {
    "duration": 159,
    "start_time": "2022-03-30T12:18:53.896Z"
   },
   {
    "duration": 0,
    "start_time": "2022-03-30T12:18:54.057Z"
   },
   {
    "duration": 0,
    "start_time": "2022-03-30T12:18:54.059Z"
   },
   {
    "duration": 0,
    "start_time": "2022-03-30T12:18:54.061Z"
   },
   {
    "duration": 0,
    "start_time": "2022-03-30T12:18:54.063Z"
   },
   {
    "duration": 0,
    "start_time": "2022-03-30T12:18:54.065Z"
   },
   {
    "duration": 0,
    "start_time": "2022-03-30T12:18:54.067Z"
   },
   {
    "duration": 2285,
    "start_time": "2022-03-30T12:19:43.757Z"
   },
   {
    "duration": 2081,
    "start_time": "2022-03-30T12:19:56.203Z"
   },
   {
    "duration": 2154,
    "start_time": "2022-03-30T12:20:19.156Z"
   },
   {
    "duration": 22,
    "start_time": "2022-03-30T12:30:01.719Z"
   },
   {
    "duration": 533,
    "start_time": "2022-03-30T12:30:15.151Z"
   },
   {
    "duration": 42,
    "start_time": "2022-03-30T12:30:26.587Z"
   },
   {
    "duration": 599,
    "start_time": "2022-03-30T12:30:27.195Z"
   },
   {
    "duration": 27,
    "start_time": "2022-03-30T12:35:02.549Z"
   },
   {
    "duration": 8,
    "start_time": "2022-03-30T12:35:38.129Z"
   },
   {
    "duration": 28,
    "start_time": "2022-03-30T12:36:07.096Z"
   },
   {
    "duration": 449,
    "start_time": "2022-03-30T12:39:14.177Z"
   },
   {
    "duration": 308,
    "start_time": "2022-03-30T12:40:50.549Z"
   },
   {
    "duration": 235,
    "start_time": "2022-03-30T12:41:23.625Z"
   },
   {
    "duration": 204,
    "start_time": "2022-03-30T12:43:06.370Z"
   },
   {
    "duration": 203,
    "start_time": "2022-03-30T12:44:42.196Z"
   },
   {
    "duration": 230,
    "start_time": "2022-03-30T12:46:29.887Z"
   },
   {
    "duration": 18,
    "start_time": "2022-03-30T12:48:48.211Z"
   },
   {
    "duration": 5,
    "start_time": "2022-03-30T12:54:00.953Z"
   },
   {
    "duration": 25,
    "start_time": "2022-03-30T12:54:19.826Z"
   },
   {
    "duration": 570,
    "start_time": "2022-03-30T12:57:48.277Z"
   },
   {
    "duration": 280,
    "start_time": "2022-03-30T12:58:01.327Z"
   },
   {
    "duration": 602,
    "start_time": "2022-03-30T12:58:03.583Z"
   },
   {
    "duration": 208,
    "start_time": "2022-03-30T12:58:27.423Z"
   },
   {
    "duration": 172,
    "start_time": "2022-03-30T12:59:09.555Z"
   },
   {
    "duration": 148,
    "start_time": "2022-03-30T13:00:06.420Z"
   },
   {
    "duration": 216,
    "start_time": "2022-03-30T13:00:19.397Z"
   },
   {
    "duration": 1805,
    "start_time": "2022-03-30T13:00:37.249Z"
   },
   {
    "duration": 64,
    "start_time": "2022-03-30T13:00:39.057Z"
   },
   {
    "duration": 29,
    "start_time": "2022-03-30T13:00:39.124Z"
   },
   {
    "duration": 5,
    "start_time": "2022-03-30T13:00:39.155Z"
   },
   {
    "duration": 54,
    "start_time": "2022-03-30T13:00:39.187Z"
   },
   {
    "duration": 25,
    "start_time": "2022-03-30T13:00:39.244Z"
   },
   {
    "duration": 8,
    "start_time": "2022-03-30T13:00:39.272Z"
   },
   {
    "duration": 57,
    "start_time": "2022-03-30T13:00:39.283Z"
   },
   {
    "duration": 26,
    "start_time": "2022-03-30T13:00:39.343Z"
   },
   {
    "duration": 65,
    "start_time": "2022-03-30T13:00:39.372Z"
   },
   {
    "duration": 15,
    "start_time": "2022-03-30T13:00:39.439Z"
   },
   {
    "duration": 104,
    "start_time": "2022-03-30T13:00:39.456Z"
   },
   {
    "duration": 9,
    "start_time": "2022-03-30T13:00:39.562Z"
   },
   {
    "duration": 33,
    "start_time": "2022-03-30T13:00:39.593Z"
   },
   {
    "duration": 17,
    "start_time": "2022-03-30T13:00:39.628Z"
   },
   {
    "duration": 27,
    "start_time": "2022-03-30T13:00:39.648Z"
   },
   {
    "duration": 48,
    "start_time": "2022-03-30T13:00:39.677Z"
   },
   {
    "duration": 13,
    "start_time": "2022-03-30T13:00:39.727Z"
   },
   {
    "duration": 12,
    "start_time": "2022-03-30T13:00:39.744Z"
   },
   {
    "duration": 32,
    "start_time": "2022-03-30T13:00:39.758Z"
   },
   {
    "duration": 58,
    "start_time": "2022-03-30T13:00:39.797Z"
   },
   {
    "duration": 46,
    "start_time": "2022-03-30T13:00:39.858Z"
   },
   {
    "duration": 37,
    "start_time": "2022-03-30T13:00:39.909Z"
   },
   {
    "duration": 893,
    "start_time": "2022-03-30T13:00:39.950Z"
   },
   {
    "duration": 22,
    "start_time": "2022-03-30T13:00:40.846Z"
   },
   {
    "duration": 58,
    "start_time": "2022-03-30T13:00:40.870Z"
   },
   {
    "duration": 86,
    "start_time": "2022-03-30T13:00:40.931Z"
   },
   {
    "duration": 669,
    "start_time": "2022-03-30T13:00:41.020Z"
   },
   {
    "duration": 2724,
    "start_time": "2022-03-30T13:00:41.695Z"
   },
   {
    "duration": 26,
    "start_time": "2022-03-30T13:00:44.422Z"
   },
   {
    "duration": 273,
    "start_time": "2022-03-30T13:00:44.451Z"
   },
   {
    "duration": 278,
    "start_time": "2022-03-30T13:00:44.727Z"
   },
   {
    "duration": 195,
    "start_time": "2022-03-30T13:00:45.010Z"
   },
   {
    "duration": 145,
    "start_time": "2022-03-30T13:01:37.323Z"
   },
   {
    "duration": 22,
    "start_time": "2022-03-30T13:02:10.647Z"
   },
   {
    "duration": 20,
    "start_time": "2022-03-30T13:02:51.305Z"
   },
   {
    "duration": 15,
    "start_time": "2022-03-30T13:03:42.715Z"
   },
   {
    "duration": 17,
    "start_time": "2022-03-30T13:03:56.812Z"
   },
   {
    "duration": 11,
    "start_time": "2022-03-30T13:07:06.223Z"
   },
   {
    "duration": 6,
    "start_time": "2022-03-30T13:14:37.037Z"
   },
   {
    "duration": 8,
    "start_time": "2022-03-30T13:15:05.003Z"
   },
   {
    "duration": 15,
    "start_time": "2022-03-30T13:15:23.723Z"
   },
   {
    "duration": 736,
    "start_time": "2022-03-30T13:20:41.218Z"
   },
   {
    "duration": 8,
    "start_time": "2022-03-30T13:25:27.791Z"
   },
   {
    "duration": 5,
    "start_time": "2022-03-30T13:25:31.675Z"
   },
   {
    "duration": 7,
    "start_time": "2022-03-30T13:26:44.312Z"
   },
   {
    "duration": 11,
    "start_time": "2022-03-30T13:27:21.588Z"
   },
   {
    "duration": 566,
    "start_time": "2022-03-30T13:29:54.513Z"
   },
   {
    "duration": 18,
    "start_time": "2022-03-30T13:33:57.122Z"
   },
   {
    "duration": 0,
    "start_time": "2022-03-30T13:33:57.142Z"
   },
   {
    "duration": 71,
    "start_time": "2022-03-30T16:25:17.895Z"
   },
   {
    "duration": 1855,
    "start_time": "2022-03-30T16:25:44.853Z"
   },
   {
    "duration": 55,
    "start_time": "2022-03-30T16:25:46.711Z"
   },
   {
    "duration": 26,
    "start_time": "2022-03-30T16:25:46.768Z"
   },
   {
    "duration": 4,
    "start_time": "2022-03-30T16:25:46.797Z"
   },
   {
    "duration": 36,
    "start_time": "2022-03-30T16:25:46.803Z"
   },
   {
    "duration": 38,
    "start_time": "2022-03-30T16:25:46.841Z"
   },
   {
    "duration": 13,
    "start_time": "2022-03-30T16:25:46.881Z"
   },
   {
    "duration": 31,
    "start_time": "2022-03-30T16:25:46.896Z"
   },
   {
    "duration": 20,
    "start_time": "2022-03-30T16:25:46.930Z"
   },
   {
    "duration": 24,
    "start_time": "2022-03-30T16:25:46.954Z"
   },
   {
    "duration": 23,
    "start_time": "2022-03-30T16:25:46.980Z"
   },
   {
    "duration": 101,
    "start_time": "2022-03-30T16:25:47.005Z"
   },
   {
    "duration": 8,
    "start_time": "2022-03-30T16:25:47.108Z"
   },
   {
    "duration": 10,
    "start_time": "2022-03-30T16:25:47.118Z"
   },
   {
    "duration": 36,
    "start_time": "2022-03-30T16:25:47.130Z"
   },
   {
    "duration": 28,
    "start_time": "2022-03-30T16:25:47.169Z"
   },
   {
    "duration": 40,
    "start_time": "2022-03-30T16:25:47.199Z"
   },
   {
    "duration": 11,
    "start_time": "2022-03-30T16:25:47.241Z"
   },
   {
    "duration": 28,
    "start_time": "2022-03-30T16:25:47.255Z"
   },
   {
    "duration": 30,
    "start_time": "2022-03-30T16:25:47.285Z"
   },
   {
    "duration": 45,
    "start_time": "2022-03-30T16:25:47.318Z"
   },
   {
    "duration": 48,
    "start_time": "2022-03-30T16:25:47.365Z"
   },
   {
    "duration": 33,
    "start_time": "2022-03-30T16:25:47.415Z"
   },
   {
    "duration": 580,
    "start_time": "2022-03-30T16:25:47.451Z"
   },
   {
    "duration": 42,
    "start_time": "2022-03-30T16:25:48.034Z"
   },
   {
    "duration": 44,
    "start_time": "2022-03-30T16:25:48.079Z"
   },
   {
    "duration": 47,
    "start_time": "2022-03-30T16:25:48.126Z"
   },
   {
    "duration": 799,
    "start_time": "2022-03-30T16:25:48.181Z"
   },
   {
    "duration": 2865,
    "start_time": "2022-03-30T16:25:48.982Z"
   },
   {
    "duration": 44,
    "start_time": "2022-03-30T16:25:51.849Z"
   },
   {
    "duration": 592,
    "start_time": "2022-03-30T16:25:51.896Z"
   },
   {
    "duration": 600,
    "start_time": "2022-03-30T16:25:52.491Z"
   },
   {
    "duration": 480,
    "start_time": "2022-03-30T16:25:53.094Z"
   },
   {
    "duration": 426,
    "start_time": "2022-03-30T16:25:53.577Z"
   },
   {
    "duration": 108,
    "start_time": "2022-03-30T16:25:54.006Z"
   },
   {
    "duration": 573,
    "start_time": "2022-03-30T16:25:54.117Z"
   },
   {
    "duration": 0,
    "start_time": "2022-03-30T16:25:54.692Z"
   },
   {
    "duration": 0,
    "start_time": "2022-03-30T16:25:54.694Z"
   },
   {
    "duration": 7,
    "start_time": "2022-03-30T16:26:39.558Z"
   },
   {
    "duration": 23,
    "start_time": "2022-03-30T16:26:56.546Z"
   },
   {
    "duration": 19,
    "start_time": "2022-03-30T16:28:56.542Z"
   },
   {
    "duration": 16,
    "start_time": "2022-03-30T16:29:28.614Z"
   },
   {
    "duration": 16,
    "start_time": "2022-03-30T16:40:38.151Z"
   },
   {
    "duration": 13,
    "start_time": "2022-03-30T16:41:09.664Z"
   },
   {
    "duration": 11,
    "start_time": "2022-03-30T16:41:41.446Z"
   },
   {
    "duration": 22,
    "start_time": "2022-03-30T16:43:08.153Z"
   },
   {
    "duration": 12,
    "start_time": "2022-03-30T16:43:32.588Z"
   },
   {
    "duration": 12,
    "start_time": "2022-03-30T16:45:27.435Z"
   },
   {
    "duration": 17,
    "start_time": "2022-03-30T16:45:45.298Z"
   },
   {
    "duration": 6,
    "start_time": "2022-03-30T16:47:53.875Z"
   },
   {
    "duration": 6,
    "start_time": "2022-03-30T16:48:11.535Z"
   },
   {
    "duration": 18,
    "start_time": "2022-03-30T16:48:41.057Z"
   },
   {
    "duration": 44,
    "start_time": "2022-03-30T17:08:50.489Z"
   },
   {
    "duration": 1339,
    "start_time": "2022-03-30T17:08:57.738Z"
   },
   {
    "duration": 51,
    "start_time": "2022-03-30T17:08:59.080Z"
   },
   {
    "duration": 15,
    "start_time": "2022-03-30T17:08:59.133Z"
   },
   {
    "duration": 2,
    "start_time": "2022-03-30T17:08:59.150Z"
   },
   {
    "duration": 14,
    "start_time": "2022-03-30T17:08:59.154Z"
   },
   {
    "duration": 15,
    "start_time": "2022-03-30T17:08:59.169Z"
   },
   {
    "duration": 5,
    "start_time": "2022-03-30T17:08:59.185Z"
   },
   {
    "duration": 13,
    "start_time": "2022-03-30T17:08:59.191Z"
   },
   {
    "duration": 6,
    "start_time": "2022-03-30T17:08:59.206Z"
   },
   {
    "duration": 7,
    "start_time": "2022-03-30T17:08:59.213Z"
   },
   {
    "duration": 10,
    "start_time": "2022-03-30T17:08:59.221Z"
   },
   {
    "duration": 71,
    "start_time": "2022-03-30T17:08:59.232Z"
   },
   {
    "duration": 5,
    "start_time": "2022-03-30T17:08:59.304Z"
   },
   {
    "duration": 4,
    "start_time": "2022-03-30T17:08:59.312Z"
   },
   {
    "duration": 4,
    "start_time": "2022-03-30T17:08:59.318Z"
   },
   {
    "duration": 15,
    "start_time": "2022-03-30T17:08:59.324Z"
   },
   {
    "duration": 17,
    "start_time": "2022-03-30T17:08:59.340Z"
   },
   {
    "duration": 6,
    "start_time": "2022-03-30T17:08:59.381Z"
   },
   {
    "duration": 9,
    "start_time": "2022-03-30T17:08:59.388Z"
   },
   {
    "duration": 6,
    "start_time": "2022-03-30T17:08:59.399Z"
   },
   {
    "duration": 15,
    "start_time": "2022-03-30T17:08:59.406Z"
   },
   {
    "duration": 12,
    "start_time": "2022-03-30T17:08:59.423Z"
   },
   {
    "duration": 15,
    "start_time": "2022-03-30T17:08:59.437Z"
   },
   {
    "duration": 331,
    "start_time": "2022-03-30T17:08:59.453Z"
   },
   {
    "duration": 13,
    "start_time": "2022-03-30T17:08:59.785Z"
   },
   {
    "duration": 13,
    "start_time": "2022-03-30T17:08:59.800Z"
   },
   {
    "duration": 16,
    "start_time": "2022-03-30T17:08:59.814Z"
   },
   {
    "duration": 296,
    "start_time": "2022-03-30T17:08:59.831Z"
   },
   {
    "duration": 1024,
    "start_time": "2022-03-30T17:09:00.129Z"
   },
   {
    "duration": 15,
    "start_time": "2022-03-30T17:09:01.155Z"
   },
   {
    "duration": 136,
    "start_time": "2022-03-30T17:09:01.181Z"
   },
   {
    "duration": 114,
    "start_time": "2022-03-30T17:09:01.318Z"
   },
   {
    "duration": 81,
    "start_time": "2022-03-30T17:09:01.433Z"
   },
   {
    "duration": 79,
    "start_time": "2022-03-30T17:09:01.515Z"
   },
   {
    "duration": 4,
    "start_time": "2022-03-30T17:09:01.596Z"
   },
   {
    "duration": 14,
    "start_time": "2022-03-30T17:09:01.601Z"
   },
   {
    "duration": 10,
    "start_time": "2022-03-30T17:09:01.617Z"
   },
   {
    "duration": 15,
    "start_time": "2022-03-30T17:09:01.629Z"
   },
   {
    "duration": 13,
    "start_time": "2022-03-30T17:10:13.773Z"
   },
   {
    "duration": 13,
    "start_time": "2022-03-30T17:11:07.578Z"
   },
   {
    "duration": 87,
    "start_time": "2022-03-30T17:13:47.333Z"
   },
   {
    "duration": 8,
    "start_time": "2022-03-30T17:14:42.659Z"
   },
   {
    "duration": 11,
    "start_time": "2022-03-30T17:15:23.931Z"
   },
   {
    "duration": 17,
    "start_time": "2022-03-30T17:16:13.386Z"
   },
   {
    "duration": 13,
    "start_time": "2022-03-30T17:21:51.399Z"
   },
   {
    "duration": 11,
    "start_time": "2022-03-30T17:24:07.629Z"
   },
   {
    "duration": 1186,
    "start_time": "2022-03-30T17:24:28.991Z"
   },
   {
    "duration": 49,
    "start_time": "2022-03-30T17:24:30.181Z"
   },
   {
    "duration": 16,
    "start_time": "2022-03-30T17:24:30.231Z"
   },
   {
    "duration": 3,
    "start_time": "2022-03-30T17:24:30.249Z"
   },
   {
    "duration": 31,
    "start_time": "2022-03-30T17:24:30.253Z"
   },
   {
    "duration": 23,
    "start_time": "2022-03-30T17:24:30.286Z"
   },
   {
    "duration": 4,
    "start_time": "2022-03-30T17:24:30.311Z"
   },
   {
    "duration": 23,
    "start_time": "2022-03-30T17:24:30.317Z"
   },
   {
    "duration": 12,
    "start_time": "2022-03-30T17:24:30.342Z"
   },
   {
    "duration": 15,
    "start_time": "2022-03-30T17:24:30.356Z"
   },
   {
    "duration": 15,
    "start_time": "2022-03-30T17:24:30.373Z"
   },
   {
    "duration": 52,
    "start_time": "2022-03-30T17:24:30.390Z"
   },
   {
    "duration": 5,
    "start_time": "2022-03-30T17:24:30.443Z"
   },
   {
    "duration": 14,
    "start_time": "2022-03-30T17:24:30.450Z"
   },
   {
    "duration": 15,
    "start_time": "2022-03-30T17:24:30.465Z"
   },
   {
    "duration": 30,
    "start_time": "2022-03-30T17:24:30.481Z"
   },
   {
    "duration": 18,
    "start_time": "2022-03-30T17:24:30.513Z"
   },
   {
    "duration": 6,
    "start_time": "2022-03-30T17:24:30.533Z"
   },
   {
    "duration": 11,
    "start_time": "2022-03-30T17:24:30.540Z"
   },
   {
    "duration": 17,
    "start_time": "2022-03-30T17:24:30.552Z"
   },
   {
    "duration": 34,
    "start_time": "2022-03-30T17:24:30.571Z"
   },
   {
    "duration": 29,
    "start_time": "2022-03-30T17:24:30.607Z"
   },
   {
    "duration": 22,
    "start_time": "2022-03-30T17:24:30.637Z"
   },
   {
    "duration": 323,
    "start_time": "2022-03-30T17:24:30.660Z"
   },
   {
    "duration": 14,
    "start_time": "2022-03-30T17:24:30.984Z"
   },
   {
    "duration": 34,
    "start_time": "2022-03-30T17:24:31.000Z"
   },
   {
    "duration": 79,
    "start_time": "2022-03-30T17:24:31.035Z"
   },
   {
    "duration": 320,
    "start_time": "2022-03-30T17:24:31.117Z"
   },
   {
    "duration": 1013,
    "start_time": "2022-03-30T17:24:31.439Z"
   },
   {
    "duration": 16,
    "start_time": "2022-03-30T17:24:32.454Z"
   },
   {
    "duration": 136,
    "start_time": "2022-03-30T17:24:32.481Z"
   },
   {
    "duration": 111,
    "start_time": "2022-03-30T17:24:32.619Z"
   },
   {
    "duration": 86,
    "start_time": "2022-03-30T17:24:32.731Z"
   },
   {
    "duration": 95,
    "start_time": "2022-03-30T17:24:32.818Z"
   },
   {
    "duration": 4,
    "start_time": "2022-03-30T17:24:32.915Z"
   },
   {
    "duration": 11,
    "start_time": "2022-03-30T17:24:32.921Z"
   },
   {
    "duration": 12,
    "start_time": "2022-03-30T17:24:32.933Z"
   },
   {
    "duration": 47,
    "start_time": "2022-03-30T17:24:32.946Z"
   },
   {
    "duration": 16,
    "start_time": "2022-03-30T17:24:32.994Z"
   },
   {
    "duration": 12,
    "start_time": "2022-03-30T17:24:33.011Z"
   },
   {
    "duration": 13,
    "start_time": "2022-03-30T17:25:09.785Z"
   },
   {
    "duration": 10,
    "start_time": "2022-03-30T17:25:12.341Z"
   },
   {
    "duration": 1292,
    "start_time": "2022-03-30T17:26:48.196Z"
   },
   {
    "duration": 50,
    "start_time": "2022-03-30T17:26:49.491Z"
   },
   {
    "duration": 16,
    "start_time": "2022-03-30T17:26:49.543Z"
   },
   {
    "duration": 16,
    "start_time": "2022-03-30T17:26:49.561Z"
   },
   {
    "duration": 3,
    "start_time": "2022-03-30T17:26:49.579Z"
   },
   {
    "duration": 16,
    "start_time": "2022-03-30T17:26:49.584Z"
   },
   {
    "duration": 20,
    "start_time": "2022-03-30T17:26:49.602Z"
   },
   {
    "duration": 6,
    "start_time": "2022-03-30T17:26:49.624Z"
   },
   {
    "duration": 14,
    "start_time": "2022-03-30T17:26:49.632Z"
   },
   {
    "duration": 7,
    "start_time": "2022-03-30T17:26:49.648Z"
   },
   {
    "duration": 29,
    "start_time": "2022-03-30T17:26:49.656Z"
   },
   {
    "duration": 10,
    "start_time": "2022-03-30T17:26:49.687Z"
   },
   {
    "duration": 50,
    "start_time": "2022-03-30T17:26:49.699Z"
   },
   {
    "duration": 6,
    "start_time": "2022-03-30T17:26:49.752Z"
   },
   {
    "duration": 24,
    "start_time": "2022-03-30T17:26:49.760Z"
   },
   {
    "duration": 8,
    "start_time": "2022-03-30T17:26:49.786Z"
   },
   {
    "duration": 18,
    "start_time": "2022-03-30T17:26:49.796Z"
   },
   {
    "duration": 17,
    "start_time": "2022-03-30T17:26:49.815Z"
   },
   {
    "duration": 7,
    "start_time": "2022-03-30T17:26:49.833Z"
   },
   {
    "duration": 13,
    "start_time": "2022-03-30T17:26:49.841Z"
   },
   {
    "duration": 25,
    "start_time": "2022-03-30T17:26:49.856Z"
   },
   {
    "duration": 13,
    "start_time": "2022-03-30T17:26:49.882Z"
   },
   {
    "duration": 19,
    "start_time": "2022-03-30T17:26:49.897Z"
   },
   {
    "duration": 13,
    "start_time": "2022-03-30T17:26:49.918Z"
   },
   {
    "duration": 16,
    "start_time": "2022-03-30T17:26:49.932Z"
   },
   {
    "duration": 423,
    "start_time": "2022-03-30T17:26:49.950Z"
   },
   {
    "duration": 14,
    "start_time": "2022-03-30T17:26:50.375Z"
   },
   {
    "duration": 22,
    "start_time": "2022-03-30T17:26:50.390Z"
   },
   {
    "duration": 19,
    "start_time": "2022-03-30T17:26:50.414Z"
   },
   {
    "duration": 317,
    "start_time": "2022-03-30T17:26:50.434Z"
   },
   {
    "duration": 1093,
    "start_time": "2022-03-30T17:26:50.753Z"
   },
   {
    "duration": 17,
    "start_time": "2022-03-30T17:26:51.848Z"
   },
   {
    "duration": 151,
    "start_time": "2022-03-30T17:26:51.880Z"
   },
   {
    "duration": 128,
    "start_time": "2022-03-30T17:26:52.033Z"
   },
   {
    "duration": 74,
    "start_time": "2022-03-30T17:26:52.163Z"
   },
   {
    "duration": 93,
    "start_time": "2022-03-30T17:26:52.239Z"
   },
   {
    "duration": 5,
    "start_time": "2022-03-30T17:26:52.333Z"
   },
   {
    "duration": 17,
    "start_time": "2022-03-30T17:26:52.339Z"
   },
   {
    "duration": 32,
    "start_time": "2022-03-30T17:26:52.358Z"
   },
   {
    "duration": 17,
    "start_time": "2022-03-30T17:26:52.392Z"
   },
   {
    "duration": 16,
    "start_time": "2022-03-30T17:26:52.412Z"
   },
   {
    "duration": 13,
    "start_time": "2022-03-30T17:26:52.430Z"
   },
   {
    "duration": 90,
    "start_time": "2022-03-30T17:31:32.213Z"
   },
   {
    "duration": 10,
    "start_time": "2022-03-30T17:31:47.599Z"
   },
   {
    "duration": 13,
    "start_time": "2022-03-30T17:32:05.947Z"
   },
   {
    "duration": 8,
    "start_time": "2022-03-30T17:32:19.619Z"
   },
   {
    "duration": 13,
    "start_time": "2022-03-30T17:32:22.562Z"
   },
   {
    "duration": 15,
    "start_time": "2022-03-30T17:34:00.450Z"
   },
   {
    "duration": 13,
    "start_time": "2022-03-30T17:34:25.819Z"
   },
   {
    "duration": 1168,
    "start_time": "2022-03-30T17:35:22.478Z"
   },
   {
    "duration": 40,
    "start_time": "2022-03-30T17:35:23.647Z"
   },
   {
    "duration": 16,
    "start_time": "2022-03-30T17:35:23.688Z"
   },
   {
    "duration": 3,
    "start_time": "2022-03-30T17:35:23.706Z"
   },
   {
    "duration": 14,
    "start_time": "2022-03-30T17:35:23.711Z"
   },
   {
    "duration": 14,
    "start_time": "2022-03-30T17:35:23.727Z"
   },
   {
    "duration": 6,
    "start_time": "2022-03-30T17:35:23.742Z"
   },
   {
    "duration": 38,
    "start_time": "2022-03-30T17:35:23.749Z"
   },
   {
    "duration": 9,
    "start_time": "2022-03-30T17:35:23.788Z"
   },
   {
    "duration": 7,
    "start_time": "2022-03-30T17:35:23.800Z"
   },
   {
    "duration": 10,
    "start_time": "2022-03-30T17:35:23.809Z"
   },
   {
    "duration": 13,
    "start_time": "2022-03-30T17:35:23.821Z"
   },
   {
    "duration": 75,
    "start_time": "2022-03-30T17:35:23.836Z"
   },
   {
    "duration": 5,
    "start_time": "2022-03-30T17:35:23.913Z"
   },
   {
    "duration": 7,
    "start_time": "2022-03-30T17:35:23.920Z"
   },
   {
    "duration": 5,
    "start_time": "2022-03-30T17:35:23.928Z"
   },
   {
    "duration": 15,
    "start_time": "2022-03-30T17:35:23.935Z"
   },
   {
    "duration": 37,
    "start_time": "2022-03-30T17:35:23.952Z"
   },
   {
    "duration": 7,
    "start_time": "2022-03-30T17:35:23.990Z"
   },
   {
    "duration": 11,
    "start_time": "2022-03-30T17:35:23.998Z"
   },
   {
    "duration": 14,
    "start_time": "2022-03-30T17:35:24.010Z"
   },
   {
    "duration": 15,
    "start_time": "2022-03-30T17:35:24.026Z"
   },
   {
    "duration": 16,
    "start_time": "2022-03-30T17:35:24.043Z"
   },
   {
    "duration": 21,
    "start_time": "2022-03-30T17:35:24.060Z"
   },
   {
    "duration": 15,
    "start_time": "2022-03-30T17:35:24.082Z"
   },
   {
    "duration": 422,
    "start_time": "2022-03-30T17:35:24.099Z"
   },
   {
    "duration": 13,
    "start_time": "2022-03-30T17:35:24.523Z"
   },
   {
    "duration": 13,
    "start_time": "2022-03-30T17:35:24.539Z"
   },
   {
    "duration": 37,
    "start_time": "2022-03-30T17:35:24.553Z"
   },
   {
    "duration": 289,
    "start_time": "2022-03-30T17:35:24.592Z"
   },
   {
    "duration": 1042,
    "start_time": "2022-03-30T17:35:24.882Z"
   },
   {
    "duration": 17,
    "start_time": "2022-03-30T17:35:25.926Z"
   },
   {
    "duration": 141,
    "start_time": "2022-03-30T17:35:25.945Z"
   },
   {
    "duration": 116,
    "start_time": "2022-03-30T17:35:26.087Z"
   },
   {
    "duration": 78,
    "start_time": "2022-03-30T17:35:26.205Z"
   },
   {
    "duration": 100,
    "start_time": "2022-03-30T17:35:26.284Z"
   },
   {
    "duration": 5,
    "start_time": "2022-03-30T17:35:26.386Z"
   },
   {
    "duration": 12,
    "start_time": "2022-03-30T17:35:26.392Z"
   },
   {
    "duration": 10,
    "start_time": "2022-03-30T17:35:26.405Z"
   },
   {
    "duration": 13,
    "start_time": "2022-03-30T17:35:26.417Z"
   },
   {
    "duration": 16,
    "start_time": "2022-03-30T17:35:26.431Z"
   },
   {
    "duration": 14,
    "start_time": "2022-03-30T17:35:26.481Z"
   },
   {
    "duration": 7,
    "start_time": "2022-03-30T17:39:28.028Z"
   },
   {
    "duration": 7,
    "start_time": "2022-03-30T17:39:42.558Z"
   },
   {
    "duration": 5,
    "start_time": "2022-03-30T17:40:17.550Z"
   },
   {
    "duration": 8,
    "start_time": "2022-03-30T17:40:31.571Z"
   },
   {
    "duration": 7,
    "start_time": "2022-03-30T17:40:45.057Z"
   },
   {
    "duration": 6,
    "start_time": "2022-03-30T17:41:21.279Z"
   },
   {
    "duration": 1202,
    "start_time": "2022-03-30T17:41:29.384Z"
   },
   {
    "duration": 40,
    "start_time": "2022-03-30T17:41:30.588Z"
   },
   {
    "duration": 15,
    "start_time": "2022-03-30T17:41:30.630Z"
   },
   {
    "duration": 2,
    "start_time": "2022-03-30T17:41:30.647Z"
   },
   {
    "duration": 24,
    "start_time": "2022-03-30T17:41:30.651Z"
   },
   {
    "duration": 26,
    "start_time": "2022-03-30T17:41:30.676Z"
   },
   {
    "duration": 11,
    "start_time": "2022-03-30T17:41:30.704Z"
   },
   {
    "duration": 23,
    "start_time": "2022-03-30T17:41:30.716Z"
   },
   {
    "duration": 8,
    "start_time": "2022-03-30T17:41:30.741Z"
   },
   {
    "duration": 15,
    "start_time": "2022-03-30T17:41:30.752Z"
   },
   {
    "duration": 11,
    "start_time": "2022-03-30T17:41:30.768Z"
   },
   {
    "duration": 15,
    "start_time": "2022-03-30T17:41:30.780Z"
   },
   {
    "duration": 215,
    "start_time": "2022-03-30T17:41:30.797Z"
   },
   {
    "duration": 0,
    "start_time": "2022-03-30T17:41:31.015Z"
   },
   {
    "duration": 0,
    "start_time": "2022-03-30T17:41:31.016Z"
   },
   {
    "duration": 0,
    "start_time": "2022-03-30T17:41:31.017Z"
   },
   {
    "duration": 0,
    "start_time": "2022-03-30T17:41:31.019Z"
   },
   {
    "duration": 0,
    "start_time": "2022-03-30T17:41:31.020Z"
   },
   {
    "duration": 0,
    "start_time": "2022-03-30T17:41:31.021Z"
   },
   {
    "duration": 0,
    "start_time": "2022-03-30T17:41:31.023Z"
   },
   {
    "duration": 0,
    "start_time": "2022-03-30T17:41:31.024Z"
   },
   {
    "duration": 0,
    "start_time": "2022-03-30T17:41:31.025Z"
   },
   {
    "duration": 1,
    "start_time": "2022-03-30T17:41:31.025Z"
   },
   {
    "duration": 0,
    "start_time": "2022-03-30T17:41:31.026Z"
   },
   {
    "duration": 0,
    "start_time": "2022-03-30T17:41:31.027Z"
   },
   {
    "duration": 0,
    "start_time": "2022-03-30T17:41:31.028Z"
   },
   {
    "duration": 0,
    "start_time": "2022-03-30T17:41:31.029Z"
   },
   {
    "duration": 0,
    "start_time": "2022-03-30T17:41:31.030Z"
   },
   {
    "duration": 0,
    "start_time": "2022-03-30T17:41:31.031Z"
   },
   {
    "duration": 0,
    "start_time": "2022-03-30T17:41:31.032Z"
   },
   {
    "duration": 0,
    "start_time": "2022-03-30T17:41:31.033Z"
   },
   {
    "duration": 0,
    "start_time": "2022-03-30T17:41:31.034Z"
   },
   {
    "duration": 0,
    "start_time": "2022-03-30T17:41:31.035Z"
   },
   {
    "duration": 0,
    "start_time": "2022-03-30T17:41:31.036Z"
   },
   {
    "duration": 0,
    "start_time": "2022-03-30T17:41:31.037Z"
   },
   {
    "duration": 0,
    "start_time": "2022-03-30T17:41:31.038Z"
   },
   {
    "duration": 0,
    "start_time": "2022-03-30T17:41:31.038Z"
   },
   {
    "duration": 0,
    "start_time": "2022-03-30T17:41:31.039Z"
   },
   {
    "duration": 0,
    "start_time": "2022-03-30T17:41:31.040Z"
   },
   {
    "duration": 0,
    "start_time": "2022-03-30T17:41:31.041Z"
   },
   {
    "duration": 0,
    "start_time": "2022-03-30T17:41:31.042Z"
   },
   {
    "duration": 0,
    "start_time": "2022-03-30T17:41:31.043Z"
   },
   {
    "duration": 0,
    "start_time": "2022-03-30T17:41:31.044Z"
   },
   {
    "duration": 0,
    "start_time": "2022-03-30T17:41:31.046Z"
   },
   {
    "duration": 5,
    "start_time": "2022-03-30T17:41:59.268Z"
   },
   {
    "duration": 7,
    "start_time": "2022-03-30T17:43:14.768Z"
   },
   {
    "duration": 13,
    "start_time": "2022-03-30T17:43:17.498Z"
   },
   {
    "duration": 89,
    "start_time": "2022-03-30T17:43:37.370Z"
   },
   {
    "duration": 1161,
    "start_time": "2022-03-30T17:44:36.848Z"
   },
   {
    "duration": 39,
    "start_time": "2022-03-30T17:44:38.011Z"
   },
   {
    "duration": 17,
    "start_time": "2022-03-30T17:44:38.051Z"
   },
   {
    "duration": 3,
    "start_time": "2022-03-30T17:44:38.071Z"
   },
   {
    "duration": 11,
    "start_time": "2022-03-30T17:44:38.081Z"
   },
   {
    "duration": 14,
    "start_time": "2022-03-30T17:44:38.094Z"
   },
   {
    "duration": 6,
    "start_time": "2022-03-30T17:44:38.109Z"
   },
   {
    "duration": 12,
    "start_time": "2022-03-30T17:44:38.116Z"
   },
   {
    "duration": 14,
    "start_time": "2022-03-30T17:44:38.130Z"
   },
   {
    "duration": 5,
    "start_time": "2022-03-30T17:44:38.147Z"
   },
   {
    "duration": 5,
    "start_time": "2022-03-30T17:44:38.181Z"
   },
   {
    "duration": 9,
    "start_time": "2022-03-30T17:44:38.187Z"
   },
   {
    "duration": 15,
    "start_time": "2022-03-30T17:44:38.197Z"
   },
   {
    "duration": 46,
    "start_time": "2022-03-30T17:44:38.213Z"
   },
   {
    "duration": 32,
    "start_time": "2022-03-30T17:44:38.261Z"
   },
   {
    "duration": 6,
    "start_time": "2022-03-30T17:44:38.294Z"
   },
   {
    "duration": 7,
    "start_time": "2022-03-30T17:44:38.302Z"
   },
   {
    "duration": 5,
    "start_time": "2022-03-30T17:44:38.311Z"
   },
   {
    "duration": 17,
    "start_time": "2022-03-30T17:44:38.317Z"
   },
   {
    "duration": 16,
    "start_time": "2022-03-30T17:44:38.335Z"
   },
   {
    "duration": 39,
    "start_time": "2022-03-30T17:44:38.353Z"
   },
   {
    "duration": 14,
    "start_time": "2022-03-30T17:44:38.394Z"
   },
   {
    "duration": 327,
    "start_time": "2022-03-30T17:44:38.410Z"
   },
   {
    "duration": 14,
    "start_time": "2022-03-30T17:44:38.738Z"
   },
   {
    "duration": 27,
    "start_time": "2022-03-30T17:44:38.754Z"
   },
   {
    "duration": 16,
    "start_time": "2022-03-30T17:44:38.782Z"
   },
   {
    "duration": 283,
    "start_time": "2022-03-30T17:44:38.800Z"
   },
   {
    "duration": 1010,
    "start_time": "2022-03-30T17:44:39.086Z"
   },
   {
    "duration": 16,
    "start_time": "2022-03-30T17:44:40.098Z"
   },
   {
    "duration": 138,
    "start_time": "2022-03-30T17:44:40.115Z"
   },
   {
    "duration": 119,
    "start_time": "2022-03-30T17:44:40.255Z"
   },
   {
    "duration": 88,
    "start_time": "2022-03-30T17:44:40.376Z"
   },
   {
    "duration": 99,
    "start_time": "2022-03-30T17:44:40.465Z"
   },
   {
    "duration": 4,
    "start_time": "2022-03-30T17:44:40.581Z"
   },
   {
    "duration": 15,
    "start_time": "2022-03-30T17:44:40.587Z"
   },
   {
    "duration": 10,
    "start_time": "2022-03-30T17:44:40.604Z"
   },
   {
    "duration": 11,
    "start_time": "2022-03-30T17:44:40.616Z"
   },
   {
    "duration": 15,
    "start_time": "2022-03-30T17:44:40.628Z"
   },
   {
    "duration": 36,
    "start_time": "2022-03-30T17:44:40.645Z"
   },
   {
    "duration": 97,
    "start_time": "2022-03-30T17:47:02.693Z"
   },
   {
    "duration": 188,
    "start_time": "2022-03-30T17:47:24.869Z"
   },
   {
    "duration": 109,
    "start_time": "2022-03-30T17:47:35.475Z"
   },
   {
    "duration": 14,
    "start_time": "2022-03-30T17:48:34.969Z"
   },
   {
    "duration": 22,
    "start_time": "2022-03-30T17:48:54.965Z"
   },
   {
    "duration": 13,
    "start_time": "2022-03-30T17:48:59.335Z"
   },
   {
    "duration": 186,
    "start_time": "2022-03-30T17:49:08.868Z"
   },
   {
    "duration": 149,
    "start_time": "2022-03-30T17:49:10.290Z"
   },
   {
    "duration": 113,
    "start_time": "2022-03-30T17:50:26.121Z"
   },
   {
    "duration": 13,
    "start_time": "2022-03-30T17:51:52.103Z"
   },
   {
    "duration": 10,
    "start_time": "2022-03-30T17:53:13.152Z"
   },
   {
    "duration": 114,
    "start_time": "2022-03-30T18:02:39.948Z"
   },
   {
    "duration": 112,
    "start_time": "2022-03-30T18:02:59.164Z"
   },
   {
    "duration": 17,
    "start_time": "2022-03-30T18:20:30.476Z"
   },
   {
    "duration": 128,
    "start_time": "2022-03-30T18:22:18.918Z"
   },
   {
    "duration": 123,
    "start_time": "2022-03-30T18:22:22.233Z"
   },
   {
    "duration": 11,
    "start_time": "2022-03-30T18:22:49.287Z"
   },
   {
    "duration": 15,
    "start_time": "2022-03-30T18:25:33.159Z"
   },
   {
    "duration": 13,
    "start_time": "2022-03-30T18:26:23.090Z"
   },
   {
    "duration": 2317,
    "start_time": "2022-03-31T13:04:05.181Z"
   },
   {
    "duration": 85,
    "start_time": "2022-03-31T13:04:07.502Z"
   },
   {
    "duration": 37,
    "start_time": "2022-03-31T13:04:07.590Z"
   },
   {
    "duration": 12,
    "start_time": "2022-03-31T13:04:07.631Z"
   },
   {
    "duration": 32,
    "start_time": "2022-03-31T13:04:07.645Z"
   },
   {
    "duration": 32,
    "start_time": "2022-03-31T13:04:07.680Z"
   },
   {
    "duration": 34,
    "start_time": "2022-03-31T13:04:07.714Z"
   },
   {
    "duration": 23,
    "start_time": "2022-03-31T13:04:07.750Z"
   },
   {
    "duration": 12,
    "start_time": "2022-03-31T13:04:07.775Z"
   },
   {
    "duration": 11,
    "start_time": "2022-03-31T13:04:07.793Z"
   },
   {
    "duration": 9,
    "start_time": "2022-03-31T13:04:07.843Z"
   },
   {
    "duration": 20,
    "start_time": "2022-03-31T13:04:07.855Z"
   },
   {
    "duration": 29,
    "start_time": "2022-03-31T13:04:07.878Z"
   },
   {
    "duration": 124,
    "start_time": "2022-03-31T13:04:07.909Z"
   },
   {
    "duration": 24,
    "start_time": "2022-03-31T13:04:08.035Z"
   },
   {
    "duration": 9,
    "start_time": "2022-03-31T13:04:08.061Z"
   },
   {
    "duration": 12,
    "start_time": "2022-03-31T13:04:08.073Z"
   },
   {
    "duration": 7,
    "start_time": "2022-03-31T13:04:08.087Z"
   },
   {
    "duration": 61,
    "start_time": "2022-03-31T13:04:08.096Z"
   },
   {
    "duration": 27,
    "start_time": "2022-03-31T13:04:08.160Z"
   },
   {
    "duration": 53,
    "start_time": "2022-03-31T13:04:08.190Z"
   },
   {
    "duration": 831,
    "start_time": "2022-03-31T13:04:08.245Z"
   },
   {
    "duration": 30,
    "start_time": "2022-03-31T13:04:09.079Z"
   },
   {
    "duration": 44,
    "start_time": "2022-03-31T13:04:09.111Z"
   },
   {
    "duration": 28,
    "start_time": "2022-03-31T13:04:09.158Z"
   },
   {
    "duration": 539,
    "start_time": "2022-03-31T13:04:09.188Z"
   },
   {
    "duration": 2299,
    "start_time": "2022-03-31T13:04:09.729Z"
   },
   {
    "duration": 39,
    "start_time": "2022-03-31T13:04:12.044Z"
   },
   {
    "duration": 18,
    "start_time": "2022-03-31T13:04:12.085Z"
   },
   {
    "duration": 250,
    "start_time": "2022-03-31T13:04:12.106Z"
   },
   {
    "duration": 305,
    "start_time": "2022-03-31T13:04:12.359Z"
   },
   {
    "duration": 17,
    "start_time": "2022-03-31T13:04:12.667Z"
   },
   {
    "duration": 26,
    "start_time": "2022-03-31T13:04:12.686Z"
   },
   {
    "duration": 312,
    "start_time": "2022-03-31T13:04:12.714Z"
   },
   {
    "duration": 244,
    "start_time": "2022-03-31T13:04:13.028Z"
   },
   {
    "duration": 18,
    "start_time": "2022-03-31T13:04:13.275Z"
   },
   {
    "duration": 27,
    "start_time": "2022-03-31T13:04:13.298Z"
   },
   {
    "duration": 34,
    "start_time": "2022-03-31T13:04:13.343Z"
   },
   {
    "duration": 310,
    "start_time": "2022-03-31T13:08:11.186Z"
   },
   {
    "duration": 26,
    "start_time": "2022-03-31T13:12:39.439Z"
   },
   {
    "duration": 40,
    "start_time": "2022-03-31T13:27:17.314Z"
   },
   {
    "duration": 1235,
    "start_time": "2022-03-31T13:33:02.661Z"
   },
   {
    "duration": 39,
    "start_time": "2022-03-31T13:33:13.547Z"
   },
   {
    "duration": 1054,
    "start_time": "2022-03-31T13:33:31.747Z"
   },
   {
    "duration": 35,
    "start_time": "2022-03-31T13:33:55.866Z"
   },
   {
    "duration": 37,
    "start_time": "2022-03-31T13:34:53.812Z"
   },
   {
    "duration": 33,
    "start_time": "2022-03-31T13:38:30.213Z"
   },
   {
    "duration": 22,
    "start_time": "2022-03-31T13:40:54.164Z"
   },
   {
    "duration": 14,
    "start_time": "2022-03-31T13:41:03.331Z"
   },
   {
    "duration": 11,
    "start_time": "2022-03-31T13:43:05.220Z"
   },
   {
    "duration": 23,
    "start_time": "2022-03-31T13:43:12.280Z"
   },
   {
    "duration": 37,
    "start_time": "2022-03-31T13:43:13.332Z"
   },
   {
    "duration": 23,
    "start_time": "2022-03-31T13:43:15.211Z"
   },
   {
    "duration": 14,
    "start_time": "2022-03-31T13:43:25.967Z"
   },
   {
    "duration": 12,
    "start_time": "2022-03-31T13:46:27.165Z"
   },
   {
    "duration": 18,
    "start_time": "2022-03-31T13:46:54.840Z"
   },
   {
    "duration": 43,
    "start_time": "2022-03-31T13:56:23.155Z"
   },
   {
    "duration": 16,
    "start_time": "2022-03-31T13:56:34.080Z"
   },
   {
    "duration": 16,
    "start_time": "2022-03-31T13:56:35.856Z"
   },
   {
    "duration": 15,
    "start_time": "2022-03-31T13:56:37.483Z"
   },
   {
    "duration": 31,
    "start_time": "2022-03-31T13:58:35.691Z"
   },
   {
    "duration": 3795,
    "start_time": "2022-03-31T14:00:56.593Z"
   },
   {
    "duration": 1536,
    "start_time": "2022-03-31T14:01:24.104Z"
   },
   {
    "duration": 62,
    "start_time": "2022-03-31T14:01:25.643Z"
   },
   {
    "duration": 25,
    "start_time": "2022-03-31T14:01:25.707Z"
   },
   {
    "duration": 4,
    "start_time": "2022-03-31T14:01:25.734Z"
   },
   {
    "duration": 20,
    "start_time": "2022-03-31T14:01:25.744Z"
   },
   {
    "duration": 21,
    "start_time": "2022-03-31T14:01:25.766Z"
   },
   {
    "duration": 7,
    "start_time": "2022-03-31T14:01:25.789Z"
   },
   {
    "duration": 47,
    "start_time": "2022-03-31T14:01:25.797Z"
   },
   {
    "duration": 8,
    "start_time": "2022-03-31T14:01:25.846Z"
   },
   {
    "duration": 10,
    "start_time": "2022-03-31T14:01:25.856Z"
   },
   {
    "duration": 10,
    "start_time": "2022-03-31T14:01:25.868Z"
   },
   {
    "duration": 10,
    "start_time": "2022-03-31T14:01:25.880Z"
   },
   {
    "duration": 53,
    "start_time": "2022-03-31T14:01:25.892Z"
   },
   {
    "duration": 74,
    "start_time": "2022-03-31T14:01:25.949Z"
   },
   {
    "duration": 32,
    "start_time": "2022-03-31T14:01:26.025Z"
   },
   {
    "duration": 9,
    "start_time": "2022-03-31T14:01:26.059Z"
   },
   {
    "duration": 9,
    "start_time": "2022-03-31T14:01:26.071Z"
   },
   {
    "duration": 8,
    "start_time": "2022-03-31T14:01:26.082Z"
   },
   {
    "duration": 59,
    "start_time": "2022-03-31T14:01:26.093Z"
   },
   {
    "duration": 24,
    "start_time": "2022-03-31T14:01:26.154Z"
   },
   {
    "duration": 25,
    "start_time": "2022-03-31T14:01:26.180Z"
   },
   {
    "duration": 567,
    "start_time": "2022-03-31T14:01:26.207Z"
   },
   {
    "duration": 21,
    "start_time": "2022-03-31T14:01:26.775Z"
   },
   {
    "duration": 22,
    "start_time": "2022-03-31T14:01:26.798Z"
   },
   {
    "duration": 45,
    "start_time": "2022-03-31T14:01:26.822Z"
   },
   {
    "duration": 504,
    "start_time": "2022-03-31T14:01:26.869Z"
   },
   {
    "duration": 2135,
    "start_time": "2022-03-31T14:01:27.375Z"
   },
   {
    "duration": 37,
    "start_time": "2022-03-31T14:01:29.512Z"
   },
   {
    "duration": 24,
    "start_time": "2022-03-31T14:01:29.551Z"
   },
   {
    "duration": 240,
    "start_time": "2022-03-31T14:01:29.577Z"
   },
   {
    "duration": 231,
    "start_time": "2022-03-31T14:01:29.818Z"
   },
   {
    "duration": 18,
    "start_time": "2022-03-31T14:01:30.052Z"
   },
   {
    "duration": 36,
    "start_time": "2022-03-31T14:01:30.073Z"
   },
   {
    "duration": 261,
    "start_time": "2022-03-31T14:01:30.112Z"
   },
   {
    "duration": 234,
    "start_time": "2022-03-31T14:01:30.375Z"
   },
   {
    "duration": 33,
    "start_time": "2022-03-31T14:01:30.611Z"
   },
   {
    "duration": 22,
    "start_time": "2022-03-31T14:01:30.646Z"
   },
   {
    "duration": 30,
    "start_time": "2022-03-31T14:01:30.671Z"
   },
   {
    "duration": 42,
    "start_time": "2022-03-31T14:01:30.703Z"
   },
   {
    "duration": 35,
    "start_time": "2022-03-31T14:01:30.747Z"
   },
   {
    "duration": 4468,
    "start_time": "2022-03-31T14:01:30.787Z"
   },
   {
    "duration": 0,
    "start_time": "2022-03-31T14:01:35.257Z"
   },
   {
    "duration": 0,
    "start_time": "2022-03-31T14:01:35.259Z"
   },
   {
    "duration": 0,
    "start_time": "2022-03-31T14:01:35.260Z"
   },
   {
    "duration": 1463,
    "start_time": "2022-03-31T14:42:44.802Z"
   },
   {
    "duration": 51,
    "start_time": "2022-03-31T14:42:46.268Z"
   },
   {
    "duration": 31,
    "start_time": "2022-03-31T14:42:46.322Z"
   },
   {
    "duration": 19,
    "start_time": "2022-03-31T14:42:46.356Z"
   },
   {
    "duration": 25,
    "start_time": "2022-03-31T14:42:46.377Z"
   },
   {
    "duration": 21,
    "start_time": "2022-03-31T14:42:46.404Z"
   },
   {
    "duration": 7,
    "start_time": "2022-03-31T14:42:46.427Z"
   },
   {
    "duration": 30,
    "start_time": "2022-03-31T14:42:46.449Z"
   },
   {
    "duration": 7,
    "start_time": "2022-03-31T14:42:46.481Z"
   },
   {
    "duration": 7,
    "start_time": "2022-03-31T14:42:46.492Z"
   },
   {
    "duration": 6,
    "start_time": "2022-03-31T14:42:46.502Z"
   },
   {
    "duration": 47,
    "start_time": "2022-03-31T14:42:46.510Z"
   },
   {
    "duration": 36,
    "start_time": "2022-03-31T14:42:46.560Z"
   },
   {
    "duration": 86,
    "start_time": "2022-03-31T14:42:46.598Z"
   },
   {
    "duration": 21,
    "start_time": "2022-03-31T14:42:46.687Z"
   },
   {
    "duration": 10,
    "start_time": "2022-03-31T14:42:46.710Z"
   },
   {
    "duration": 40,
    "start_time": "2022-03-31T14:42:46.722Z"
   },
   {
    "duration": 16,
    "start_time": "2022-03-31T14:42:46.764Z"
   },
   {
    "duration": 23,
    "start_time": "2022-03-31T14:42:46.782Z"
   },
   {
    "duration": 42,
    "start_time": "2022-03-31T14:42:46.808Z"
   },
   {
    "duration": 40,
    "start_time": "2022-03-31T14:42:46.852Z"
   },
   {
    "duration": 594,
    "start_time": "2022-03-31T14:42:46.895Z"
   },
   {
    "duration": 21,
    "start_time": "2022-03-31T14:42:47.491Z"
   },
   {
    "duration": 50,
    "start_time": "2022-03-31T14:42:47.514Z"
   },
   {
    "duration": 29,
    "start_time": "2022-03-31T14:42:47.566Z"
   },
   {
    "duration": 567,
    "start_time": "2022-03-31T14:42:47.598Z"
   },
   {
    "duration": 2218,
    "start_time": "2022-03-31T14:42:48.170Z"
   },
   {
    "duration": 26,
    "start_time": "2022-03-31T14:42:50.393Z"
   },
   {
    "duration": 38,
    "start_time": "2022-03-31T14:42:50.421Z"
   },
   {
    "duration": 243,
    "start_time": "2022-03-31T14:42:50.461Z"
   },
   {
    "duration": 233,
    "start_time": "2022-03-31T14:42:50.706Z"
   },
   {
    "duration": 23,
    "start_time": "2022-03-31T14:42:50.941Z"
   },
   {
    "duration": 31,
    "start_time": "2022-03-31T14:42:50.972Z"
   },
   {
    "duration": 262,
    "start_time": "2022-03-31T14:42:51.006Z"
   },
   {
    "duration": 241,
    "start_time": "2022-03-31T14:42:51.271Z"
   },
   {
    "duration": 33,
    "start_time": "2022-03-31T14:42:51.514Z"
   },
   {
    "duration": 28,
    "start_time": "2022-03-31T14:42:51.556Z"
   },
   {
    "duration": 20,
    "start_time": "2022-03-31T14:42:51.586Z"
   },
   {
    "duration": 38,
    "start_time": "2022-03-31T14:42:51.608Z"
   },
   {
    "duration": 41,
    "start_time": "2022-03-31T14:42:51.649Z"
   },
   {
    "duration": 4052,
    "start_time": "2022-03-31T14:42:51.693Z"
   },
   {
    "duration": 0,
    "start_time": "2022-03-31T14:42:55.747Z"
   },
   {
    "duration": 0,
    "start_time": "2022-03-31T14:42:55.749Z"
   },
   {
    "duration": 0,
    "start_time": "2022-03-31T14:42:55.751Z"
   },
   {
    "duration": 4068,
    "start_time": "2022-03-31T14:43:36.333Z"
   },
   {
    "duration": 18,
    "start_time": "2022-03-31T14:44:51.068Z"
   },
   {
    "duration": 19,
    "start_time": "2022-03-31T14:45:39.683Z"
   },
   {
    "duration": 24,
    "start_time": "2022-03-31T14:46:12.256Z"
   },
   {
    "duration": 19,
    "start_time": "2022-03-31T14:46:28.064Z"
   },
   {
    "duration": 17,
    "start_time": "2022-03-31T14:46:30.004Z"
   },
   {
    "duration": 17,
    "start_time": "2022-03-31T14:46:31.285Z"
   },
   {
    "duration": 35,
    "start_time": "2022-03-31T14:46:52.260Z"
   },
   {
    "duration": 23,
    "start_time": "2022-03-31T14:46:54.435Z"
   },
   {
    "duration": 20,
    "start_time": "2022-03-31T14:46:56.554Z"
   },
   {
    "duration": 18,
    "start_time": "2022-03-31T14:46:58.368Z"
   },
   {
    "duration": 18,
    "start_time": "2022-03-31T14:47:44.763Z"
   },
   {
    "duration": 16,
    "start_time": "2022-03-31T14:47:46.157Z"
   },
   {
    "duration": 20,
    "start_time": "2022-03-31T14:47:47.331Z"
   },
   {
    "duration": 17,
    "start_time": "2022-03-31T14:48:20.724Z"
   },
   {
    "duration": 16,
    "start_time": "2022-03-31T14:48:24.170Z"
   },
   {
    "duration": 18,
    "start_time": "2022-03-31T14:48:25.610Z"
   },
   {
    "duration": 17,
    "start_time": "2022-03-31T14:49:36.832Z"
   },
   {
    "duration": 11,
    "start_time": "2022-03-31T14:50:04.771Z"
   },
   {
    "duration": 18,
    "start_time": "2022-03-31T14:50:12.333Z"
   },
   {
    "duration": 23,
    "start_time": "2022-03-31T14:50:56.724Z"
   },
   {
    "duration": 20,
    "start_time": "2022-03-31T14:51:21.326Z"
   },
   {
    "duration": 201,
    "start_time": "2022-03-31T14:56:27.484Z"
   },
   {
    "duration": 8,
    "start_time": "2022-03-31T14:56:37.250Z"
   },
   {
    "duration": 8,
    "start_time": "2022-03-31T14:57:19.107Z"
   },
   {
    "duration": 8,
    "start_time": "2022-03-31T14:57:19.803Z"
   },
   {
    "duration": 6,
    "start_time": "2022-03-31T14:57:20.783Z"
   },
   {
    "duration": 6,
    "start_time": "2022-03-31T14:57:21.442Z"
   },
   {
    "duration": 6,
    "start_time": "2022-03-31T14:57:24.320Z"
   },
   {
    "duration": 32,
    "start_time": "2022-03-31T14:59:01.440Z"
   },
   {
    "duration": 40,
    "start_time": "2022-03-31T15:00:10.980Z"
   },
   {
    "duration": 3399,
    "start_time": "2022-03-31T15:02:09.458Z"
   },
   {
    "duration": 26,
    "start_time": "2022-03-31T15:03:14.898Z"
   },
   {
    "duration": 19,
    "start_time": "2022-03-31T15:03:29.122Z"
   },
   {
    "duration": 20,
    "start_time": "2022-03-31T15:03:38.961Z"
   },
   {
    "duration": 18,
    "start_time": "2022-03-31T15:04:15.245Z"
   },
   {
    "duration": 5,
    "start_time": "2022-03-31T15:04:24.719Z"
   },
   {
    "duration": 6,
    "start_time": "2022-03-31T15:04:29.697Z"
   },
   {
    "duration": 19,
    "start_time": "2022-03-31T15:04:33.288Z"
   },
   {
    "duration": 18,
    "start_time": "2022-03-31T15:04:47.444Z"
   },
   {
    "duration": 18,
    "start_time": "2022-03-31T15:04:49.624Z"
   },
   {
    "duration": 18,
    "start_time": "2022-03-31T15:04:53.460Z"
   },
   {
    "duration": 35,
    "start_time": "2022-03-31T15:16:43.916Z"
   },
   {
    "duration": 22,
    "start_time": "2022-03-31T15:20:04.791Z"
   },
   {
    "duration": 22,
    "start_time": "2022-03-31T15:20:06.972Z"
   },
   {
    "duration": 22,
    "start_time": "2022-03-31T15:20:09.372Z"
   },
   {
    "duration": 223,
    "start_time": "2022-03-31T15:24:23.232Z"
   },
   {
    "duration": 21,
    "start_time": "2022-03-31T15:36:52.485Z"
   },
   {
    "duration": 40,
    "start_time": "2022-03-31T15:38:00.216Z"
   },
   {
    "duration": 33,
    "start_time": "2022-03-31T15:38:28.179Z"
   },
   {
    "duration": 15,
    "start_time": "2022-03-31T15:39:17.177Z"
   },
   {
    "duration": 15,
    "start_time": "2022-03-31T15:39:49.968Z"
   },
   {
    "duration": 15,
    "start_time": "2022-03-31T15:40:16.997Z"
   },
   {
    "duration": 15,
    "start_time": "2022-03-31T15:40:41.398Z"
   },
   {
    "duration": 16,
    "start_time": "2022-03-31T15:40:42.719Z"
   },
   {
    "duration": 16,
    "start_time": "2022-03-31T15:40:44.100Z"
   },
   {
    "duration": 22,
    "start_time": "2022-03-31T15:41:21.937Z"
   },
   {
    "duration": 34,
    "start_time": "2022-03-31T15:41:26.438Z"
   },
   {
    "duration": 35,
    "start_time": "2022-03-31T15:41:50.344Z"
   },
   {
    "duration": 213,
    "start_time": "2022-03-31T15:47:46.122Z"
   },
   {
    "duration": 2067,
    "start_time": "2022-04-01T08:46:25.539Z"
   },
   {
    "duration": 716,
    "start_time": "2022-04-01T08:46:27.608Z"
   },
   {
    "duration": 25,
    "start_time": "2022-04-01T08:46:28.326Z"
   },
   {
    "duration": 7,
    "start_time": "2022-04-01T08:46:28.354Z"
   },
   {
    "duration": 36,
    "start_time": "2022-04-01T08:46:28.363Z"
   },
   {
    "duration": 34,
    "start_time": "2022-04-01T08:46:28.402Z"
   },
   {
    "duration": 9,
    "start_time": "2022-04-01T08:46:28.439Z"
   },
   {
    "duration": 26,
    "start_time": "2022-04-01T08:46:28.450Z"
   },
   {
    "duration": 19,
    "start_time": "2022-04-01T08:46:28.478Z"
   },
   {
    "duration": 22,
    "start_time": "2022-04-01T08:46:28.500Z"
   },
   {
    "duration": 13,
    "start_time": "2022-04-01T08:46:28.524Z"
   },
   {
    "duration": 21,
    "start_time": "2022-04-01T08:46:28.539Z"
   },
   {
    "duration": 33,
    "start_time": "2022-04-01T08:46:28.563Z"
   },
   {
    "duration": 82,
    "start_time": "2022-04-01T08:46:28.598Z"
   },
   {
    "duration": 21,
    "start_time": "2022-04-01T08:46:28.682Z"
   },
   {
    "duration": 12,
    "start_time": "2022-04-01T08:46:28.705Z"
   },
   {
    "duration": 27,
    "start_time": "2022-04-01T08:46:28.718Z"
   },
   {
    "duration": 18,
    "start_time": "2022-04-01T08:46:28.747Z"
   },
   {
    "duration": 26,
    "start_time": "2022-04-01T08:46:28.767Z"
   },
   {
    "duration": 10,
    "start_time": "2022-04-01T08:46:28.795Z"
   },
   {
    "duration": 33,
    "start_time": "2022-04-01T08:46:28.806Z"
   },
   {
    "duration": 24,
    "start_time": "2022-04-01T08:46:28.841Z"
   },
   {
    "duration": 14,
    "start_time": "2022-04-01T08:46:28.868Z"
   },
   {
    "duration": 13,
    "start_time": "2022-04-01T08:46:28.884Z"
   },
   {
    "duration": 27,
    "start_time": "2022-04-01T08:46:28.900Z"
   },
   {
    "duration": 36,
    "start_time": "2022-04-01T08:46:28.929Z"
   },
   {
    "duration": 578,
    "start_time": "2022-04-01T08:46:28.968Z"
   },
   {
    "duration": 21,
    "start_time": "2022-04-01T08:46:29.552Z"
   },
   {
    "duration": 83,
    "start_time": "2022-04-01T08:46:29.575Z"
   },
   {
    "duration": 32,
    "start_time": "2022-04-01T08:46:29.661Z"
   },
   {
    "duration": 760,
    "start_time": "2022-04-01T08:46:29.695Z"
   },
   {
    "duration": 2339,
    "start_time": "2022-04-01T08:46:30.457Z"
   },
   {
    "duration": 27,
    "start_time": "2022-04-01T08:46:32.799Z"
   },
   {
    "duration": 17,
    "start_time": "2022-04-01T08:46:32.844Z"
   },
   {
    "duration": 242,
    "start_time": "2022-04-01T08:46:32.863Z"
   },
   {
    "duration": 223,
    "start_time": "2022-04-01T08:46:33.108Z"
   },
   {
    "duration": 30,
    "start_time": "2022-04-01T08:46:33.334Z"
   },
   {
    "duration": 37,
    "start_time": "2022-04-01T08:46:33.366Z"
   },
   {
    "duration": 358,
    "start_time": "2022-04-01T08:46:33.406Z"
   },
   {
    "duration": 244,
    "start_time": "2022-04-01T08:46:33.767Z"
   },
   {
    "duration": 36,
    "start_time": "2022-04-01T08:46:34.013Z"
   },
   {
    "duration": 22,
    "start_time": "2022-04-01T08:46:34.051Z"
   },
   {
    "duration": 23,
    "start_time": "2022-04-01T08:46:34.075Z"
   },
   {
    "duration": 50,
    "start_time": "2022-04-01T08:46:34.100Z"
   },
   {
    "duration": 51,
    "start_time": "2022-04-01T08:46:34.152Z"
   },
   {
    "duration": 5,
    "start_time": "2022-04-01T08:46:34.205Z"
   },
   {
    "duration": 23,
    "start_time": "2022-04-01T08:46:34.212Z"
   },
   {
    "duration": 30,
    "start_time": "2022-04-01T08:46:34.238Z"
   },
   {
    "duration": 33,
    "start_time": "2022-04-01T08:46:34.270Z"
   },
   {
    "duration": 26,
    "start_time": "2022-04-01T08:46:34.305Z"
   },
   {
    "duration": 28,
    "start_time": "2022-04-01T08:46:34.333Z"
   },
   {
    "duration": 50,
    "start_time": "2022-04-01T08:46:34.363Z"
   },
   {
    "duration": 29,
    "start_time": "2022-04-01T08:46:34.415Z"
   },
   {
    "duration": 15,
    "start_time": "2022-04-01T08:46:34.447Z"
   },
   {
    "duration": 20,
    "start_time": "2022-04-01T08:46:34.464Z"
   },
   {
    "duration": 34,
    "start_time": "2022-04-01T08:46:34.486Z"
   },
   {
    "duration": 51,
    "start_time": "2022-04-01T08:46:34.523Z"
   },
   {
    "duration": 25,
    "start_time": "2022-04-01T08:46:34.576Z"
   },
   {
    "duration": 23,
    "start_time": "2022-04-01T08:46:34.603Z"
   },
   {
    "duration": 24,
    "start_time": "2022-04-01T08:46:34.628Z"
   },
   {
    "duration": 23,
    "start_time": "2022-04-01T09:18:29.468Z"
   },
   {
    "duration": 23,
    "start_time": "2022-04-01T09:18:47.341Z"
   },
   {
    "duration": 22,
    "start_time": "2022-04-01T09:19:03.484Z"
   },
   {
    "duration": 16,
    "start_time": "2022-04-01T09:20:04.594Z"
   },
   {
    "duration": 35,
    "start_time": "2022-04-01T09:20:15.949Z"
   },
   {
    "duration": 23,
    "start_time": "2022-04-01T09:20:39.673Z"
   },
   {
    "duration": 26,
    "start_time": "2022-04-01T09:21:02.760Z"
   },
   {
    "duration": 13,
    "start_time": "2022-04-01T09:22:25.045Z"
   },
   {
    "duration": 9,
    "start_time": "2022-04-01T09:22:36.874Z"
   },
   {
    "duration": 25,
    "start_time": "2022-04-01T09:24:58.208Z"
   },
   {
    "duration": 10,
    "start_time": "2022-04-01T09:25:20.475Z"
   },
   {
    "duration": 10,
    "start_time": "2022-04-01T09:25:52.384Z"
   },
   {
    "duration": 22,
    "start_time": "2022-04-01T09:37:49.941Z"
   },
   {
    "duration": 256,
    "start_time": "2022-04-01T09:41:18.385Z"
   },
   {
    "duration": 20,
    "start_time": "2022-04-01T09:45:31.972Z"
   },
   {
    "duration": 27,
    "start_time": "2022-04-01T09:46:59.051Z"
   },
   {
    "duration": 13,
    "start_time": "2022-04-01T09:50:05.677Z"
   },
   {
    "duration": 27,
    "start_time": "2022-04-01T09:51:08.727Z"
   },
   {
    "duration": 10,
    "start_time": "2022-04-01T09:51:12.777Z"
   },
   {
    "duration": 16,
    "start_time": "2022-04-01T09:52:39.377Z"
   },
   {
    "duration": 1768,
    "start_time": "2022-04-01T12:06:51.404Z"
   },
   {
    "duration": 54,
    "start_time": "2022-04-01T12:06:53.174Z"
   },
   {
    "duration": 29,
    "start_time": "2022-04-01T12:06:53.230Z"
   },
   {
    "duration": 4,
    "start_time": "2022-04-01T12:06:53.261Z"
   },
   {
    "duration": 21,
    "start_time": "2022-04-01T12:06:53.268Z"
   },
   {
    "duration": 54,
    "start_time": "2022-04-01T12:06:53.291Z"
   },
   {
    "duration": 9,
    "start_time": "2022-04-01T12:06:53.347Z"
   },
   {
    "duration": 25,
    "start_time": "2022-04-01T12:06:53.358Z"
   },
   {
    "duration": 9,
    "start_time": "2022-04-01T12:06:53.386Z"
   },
   {
    "duration": 47,
    "start_time": "2022-04-01T12:06:53.397Z"
   },
   {
    "duration": 12,
    "start_time": "2022-04-01T12:06:53.447Z"
   },
   {
    "duration": 10,
    "start_time": "2022-04-01T12:06:53.461Z"
   },
   {
    "duration": 21,
    "start_time": "2022-04-01T12:06:53.473Z"
   },
   {
    "duration": 133,
    "start_time": "2022-04-01T12:06:53.498Z"
   },
   {
    "duration": 33,
    "start_time": "2022-04-01T12:06:53.634Z"
   },
   {
    "duration": 9,
    "start_time": "2022-04-01T12:06:53.669Z"
   },
   {
    "duration": 12,
    "start_time": "2022-04-01T12:06:53.680Z"
   },
   {
    "duration": 7,
    "start_time": "2022-04-01T12:06:53.695Z"
   },
   {
    "duration": 66,
    "start_time": "2022-04-01T12:06:53.704Z"
   },
   {
    "duration": 28,
    "start_time": "2022-04-01T12:06:53.772Z"
   },
   {
    "duration": 59,
    "start_time": "2022-04-01T12:06:53.802Z"
   },
   {
    "duration": 566,
    "start_time": "2022-04-01T12:06:53.864Z"
   },
   {
    "duration": 30,
    "start_time": "2022-04-01T12:06:54.432Z"
   },
   {
    "duration": 23,
    "start_time": "2022-04-01T12:06:54.464Z"
   },
   {
    "duration": 55,
    "start_time": "2022-04-01T12:06:54.489Z"
   },
   {
    "duration": 524,
    "start_time": "2022-04-01T12:06:54.547Z"
   },
   {
    "duration": 2625,
    "start_time": "2022-04-01T12:06:55.073Z"
   },
   {
    "duration": 43,
    "start_time": "2022-04-01T12:06:57.700Z"
   },
   {
    "duration": 21,
    "start_time": "2022-04-01T12:06:57.745Z"
   },
   {
    "duration": 320,
    "start_time": "2022-04-01T12:06:57.769Z"
   },
   {
    "duration": 234,
    "start_time": "2022-04-01T12:06:58.091Z"
   },
   {
    "duration": 26,
    "start_time": "2022-04-01T12:06:58.327Z"
   },
   {
    "duration": 24,
    "start_time": "2022-04-01T12:06:58.356Z"
   },
   {
    "duration": 248,
    "start_time": "2022-04-01T12:06:58.383Z"
   },
   {
    "duration": 309,
    "start_time": "2022-04-01T12:06:58.634Z"
   },
   {
    "duration": 16,
    "start_time": "2022-04-01T12:06:58.945Z"
   },
   {
    "duration": 20,
    "start_time": "2022-04-01T12:06:58.963Z"
   },
   {
    "duration": 19,
    "start_time": "2022-04-01T12:06:58.986Z"
   },
   {
    "duration": 22,
    "start_time": "2022-04-01T12:06:59.043Z"
   },
   {
    "duration": 47,
    "start_time": "2022-04-01T12:06:59.067Z"
   },
   {
    "duration": 7,
    "start_time": "2022-04-01T12:06:59.145Z"
   },
   {
    "duration": 8,
    "start_time": "2022-04-01T12:06:59.154Z"
   },
   {
    "duration": 28,
    "start_time": "2022-04-01T12:06:59.164Z"
   },
   {
    "duration": 26,
    "start_time": "2022-04-01T12:06:59.194Z"
   },
   {
    "duration": 23,
    "start_time": "2022-04-01T12:06:59.243Z"
   },
   {
    "duration": 17,
    "start_time": "2022-04-01T12:06:59.269Z"
   },
   {
    "duration": 66,
    "start_time": "2022-04-01T12:06:59.289Z"
   },
   {
    "duration": 15,
    "start_time": "2022-04-01T12:06:59.357Z"
   },
   {
    "duration": 18,
    "start_time": "2022-04-01T12:06:59.374Z"
   },
   {
    "duration": 51,
    "start_time": "2022-04-01T12:06:59.395Z"
   },
   {
    "duration": 28,
    "start_time": "2022-04-01T12:06:59.448Z"
   },
   {
    "duration": 33,
    "start_time": "2022-04-01T12:06:59.479Z"
   },
   {
    "duration": 15,
    "start_time": "2022-04-01T12:06:59.543Z"
   },
   {
    "duration": 15,
    "start_time": "2022-04-01T12:06:59.560Z"
   },
   {
    "duration": 15,
    "start_time": "2022-04-01T12:06:59.577Z"
   },
   {
    "duration": 72,
    "start_time": "2022-04-01T12:06:59.594Z"
   },
   {
    "duration": 20,
    "start_time": "2022-04-01T12:06:59.669Z"
   },
   {
    "duration": 26,
    "start_time": "2022-04-01T12:06:59.691Z"
   },
   {
    "duration": 30,
    "start_time": "2022-04-01T12:06:59.720Z"
   },
   {
    "duration": 14,
    "start_time": "2022-04-01T12:06:59.753Z"
   },
   {
    "duration": 22,
    "start_time": "2022-04-01T12:06:59.770Z"
   },
   {
    "duration": 60,
    "start_time": "2022-04-01T12:06:59.794Z"
   },
   {
    "duration": 11,
    "start_time": "2022-04-01T12:06:59.856Z"
   },
   {
    "duration": 26,
    "start_time": "2022-04-01T12:06:59.869Z"
   },
   {
    "duration": 11,
    "start_time": "2022-04-01T12:06:59.897Z"
   },
   {
    "duration": 18,
    "start_time": "2022-04-01T12:06:59.943Z"
   },
   {
    "duration": 1278,
    "start_time": "2022-04-04T14:02:14.470Z"
   },
   {
    "duration": 35,
    "start_time": "2022-04-04T14:02:15.750Z"
   },
   {
    "duration": 16,
    "start_time": "2022-04-04T14:02:15.786Z"
   },
   {
    "duration": 2,
    "start_time": "2022-04-04T14:02:15.804Z"
   },
   {
    "duration": 14,
    "start_time": "2022-04-04T14:02:15.808Z"
   },
   {
    "duration": 16,
    "start_time": "2022-04-04T14:02:15.823Z"
   },
   {
    "duration": 25,
    "start_time": "2022-04-04T14:02:15.840Z"
   },
   {
    "duration": 12,
    "start_time": "2022-04-04T14:02:15.867Z"
   },
   {
    "duration": 7,
    "start_time": "2022-04-04T14:02:15.881Z"
   },
   {
    "duration": 8,
    "start_time": "2022-04-04T14:02:15.889Z"
   },
   {
    "duration": 6,
    "start_time": "2022-04-04T14:02:15.898Z"
   },
   {
    "duration": 9,
    "start_time": "2022-04-04T14:02:15.906Z"
   },
   {
    "duration": 14,
    "start_time": "2022-04-04T14:02:15.917Z"
   },
   {
    "duration": 65,
    "start_time": "2022-04-04T14:02:15.933Z"
   },
   {
    "duration": 14,
    "start_time": "2022-04-04T14:02:16.000Z"
   },
   {
    "duration": 7,
    "start_time": "2022-04-04T14:02:16.015Z"
   },
   {
    "duration": 8,
    "start_time": "2022-04-04T14:02:16.023Z"
   },
   {
    "duration": 31,
    "start_time": "2022-04-04T14:02:16.032Z"
   },
   {
    "duration": 14,
    "start_time": "2022-04-04T14:02:16.065Z"
   },
   {
    "duration": 16,
    "start_time": "2022-04-04T14:02:16.081Z"
   },
   {
    "duration": 22,
    "start_time": "2022-04-04T14:02:16.098Z"
   },
   {
    "duration": 335,
    "start_time": "2022-04-04T14:02:16.122Z"
   },
   {
    "duration": 15,
    "start_time": "2022-04-04T14:02:16.459Z"
   },
   {
    "duration": 16,
    "start_time": "2022-04-04T14:02:16.476Z"
   },
   {
    "duration": 17,
    "start_time": "2022-04-04T14:02:16.494Z"
   },
   {
    "duration": 306,
    "start_time": "2022-04-04T14:02:16.513Z"
   },
   {
    "duration": 1570,
    "start_time": "2022-04-04T14:02:16.821Z"
   },
   {
    "duration": 71,
    "start_time": "2022-04-04T14:02:18.393Z"
   },
   {
    "duration": 12,
    "start_time": "2022-04-04T14:02:18.465Z"
   },
   {
    "duration": 287,
    "start_time": "2022-04-04T14:02:18.478Z"
   },
   {
    "duration": 158,
    "start_time": "2022-04-04T14:02:18.767Z"
   },
   {
    "duration": 12,
    "start_time": "2022-04-04T14:02:18.926Z"
   },
   {
    "duration": 32,
    "start_time": "2022-04-04T14:02:18.939Z"
   },
   {
    "duration": 138,
    "start_time": "2022-04-04T14:02:18.973Z"
   },
   {
    "duration": 124,
    "start_time": "2022-04-04T14:02:19.113Z"
   },
   {
    "duration": 11,
    "start_time": "2022-04-04T14:02:19.239Z"
   },
   {
    "duration": 22,
    "start_time": "2022-04-04T14:02:19.251Z"
   },
   {
    "duration": 12,
    "start_time": "2022-04-04T14:02:19.274Z"
   },
   {
    "duration": 13,
    "start_time": "2022-04-04T14:02:19.288Z"
   },
   {
    "duration": 24,
    "start_time": "2022-04-04T14:02:19.303Z"
   },
   {
    "duration": 3,
    "start_time": "2022-04-04T14:02:19.331Z"
   },
   {
    "duration": 30,
    "start_time": "2022-04-04T14:02:19.335Z"
   },
   {
    "duration": 17,
    "start_time": "2022-04-04T14:02:19.366Z"
   },
   {
    "duration": 13,
    "start_time": "2022-04-04T14:02:19.385Z"
   },
   {
    "duration": 12,
    "start_time": "2022-04-04T14:02:19.399Z"
   },
   {
    "duration": 58,
    "start_time": "2022-04-04T14:02:19.412Z"
   },
   {
    "duration": 21,
    "start_time": "2022-04-04T14:02:19.472Z"
   },
   {
    "duration": 9,
    "start_time": "2022-04-04T14:02:19.494Z"
   },
   {
    "duration": 64,
    "start_time": "2022-04-04T14:02:19.504Z"
   },
   {
    "duration": 12,
    "start_time": "2022-04-04T14:02:19.569Z"
   },
   {
    "duration": 16,
    "start_time": "2022-04-04T14:02:19.582Z"
   },
   {
    "duration": 72,
    "start_time": "2022-04-04T14:02:19.599Z"
   },
   {
    "duration": 9,
    "start_time": "2022-04-04T14:02:19.672Z"
   },
   {
    "duration": 11,
    "start_time": "2022-04-04T14:02:19.682Z"
   },
   {
    "duration": 11,
    "start_time": "2022-04-04T14:02:19.694Z"
   },
   {
    "duration": 66,
    "start_time": "2022-04-04T14:02:19.706Z"
   },
   {
    "duration": 7,
    "start_time": "2022-04-04T14:02:19.773Z"
   },
   {
    "duration": 21,
    "start_time": "2022-04-04T14:02:19.782Z"
   },
   {
    "duration": 59,
    "start_time": "2022-04-04T14:02:19.805Z"
   },
   {
    "duration": 11,
    "start_time": "2022-04-04T14:02:19.865Z"
   },
   {
    "duration": 16,
    "start_time": "2022-04-04T14:02:19.878Z"
   },
   {
    "duration": 68,
    "start_time": "2022-04-04T14:02:19.896Z"
   },
   {
    "duration": 8,
    "start_time": "2022-04-04T14:02:19.965Z"
   },
   {
    "duration": 15,
    "start_time": "2022-04-04T14:02:19.975Z"
   },
   {
    "duration": 6,
    "start_time": "2022-04-04T14:02:19.992Z"
   },
   {
    "duration": 68,
    "start_time": "2022-04-04T14:02:19.999Z"
   },
   {
    "duration": 10,
    "start_time": "2022-04-04T14:46:01.991Z"
   },
   {
    "duration": 14,
    "start_time": "2022-04-04T14:46:05.507Z"
   },
   {
    "duration": 12,
    "start_time": "2022-04-04T14:48:01.749Z"
   },
   {
    "duration": 11,
    "start_time": "2022-04-04T14:48:19.383Z"
   },
   {
    "duration": 12,
    "start_time": "2022-04-04T14:48:29.062Z"
   },
   {
    "duration": 154,
    "start_time": "2022-04-04T15:13:50.976Z"
   },
   {
    "duration": 3,
    "start_time": "2022-04-04T15:18:05.499Z"
   },
   {
    "duration": 53,
    "start_time": "2022-04-04T15:18:05.506Z"
   },
   {
    "duration": 13,
    "start_time": "2022-04-04T15:18:05.561Z"
   },
   {
    "duration": 6,
    "start_time": "2022-04-04T15:18:05.576Z"
   },
   {
    "duration": 17,
    "start_time": "2022-04-04T15:18:05.584Z"
   },
   {
    "duration": 18,
    "start_time": "2022-04-04T15:18:05.603Z"
   },
   {
    "duration": 5,
    "start_time": "2022-04-04T15:18:05.622Z"
   },
   {
    "duration": 14,
    "start_time": "2022-04-04T15:18:05.628Z"
   },
   {
    "duration": 11,
    "start_time": "2022-04-04T15:18:05.663Z"
   },
   {
    "duration": 7,
    "start_time": "2022-04-04T15:18:05.675Z"
   },
   {
    "duration": 9,
    "start_time": "2022-04-04T15:18:05.685Z"
   },
   {
    "duration": 19,
    "start_time": "2022-04-04T15:18:05.696Z"
   },
   {
    "duration": 24,
    "start_time": "2022-04-04T15:18:05.717Z"
   },
   {
    "duration": 13,
    "start_time": "2022-04-04T15:18:05.743Z"
   },
   {
    "duration": 13,
    "start_time": "2022-04-04T15:18:05.758Z"
   },
   {
    "duration": 6,
    "start_time": "2022-04-04T15:18:05.773Z"
   },
   {
    "duration": 21,
    "start_time": "2022-04-04T15:18:05.781Z"
   },
   {
    "duration": 12,
    "start_time": "2022-04-04T15:18:05.803Z"
   },
   {
    "duration": 42,
    "start_time": "2022-04-04T15:18:05.817Z"
   },
   {
    "duration": 38,
    "start_time": "2022-04-04T15:18:05.861Z"
   },
   {
    "duration": 29,
    "start_time": "2022-04-04T15:18:05.900Z"
   },
   {
    "duration": 337,
    "start_time": "2022-04-04T15:18:05.930Z"
   },
   {
    "duration": 20,
    "start_time": "2022-04-04T15:18:06.270Z"
   },
   {
    "duration": 23,
    "start_time": "2022-04-04T15:18:06.292Z"
   },
   {
    "duration": 51,
    "start_time": "2022-04-04T15:18:06.317Z"
   },
   {
    "duration": 367,
    "start_time": "2022-04-04T15:18:06.370Z"
   },
   {
    "duration": 1286,
    "start_time": "2022-04-04T15:18:06.740Z"
   },
   {
    "duration": 18,
    "start_time": "2022-04-04T15:18:08.028Z"
   },
   {
    "duration": 11,
    "start_time": "2022-04-04T15:18:08.063Z"
   },
   {
    "duration": 131,
    "start_time": "2022-04-04T15:18:08.076Z"
   },
   {
    "duration": 21,
    "start_time": "2022-04-04T15:18:16.405Z"
   },
   {
    "duration": 3,
    "start_time": "2022-04-04T15:27:44.985Z"
   },
   {
    "duration": 42,
    "start_time": "2022-04-04T15:27:44.992Z"
   },
   {
    "duration": 13,
    "start_time": "2022-04-04T15:27:45.037Z"
   },
   {
    "duration": 9,
    "start_time": "2022-04-04T15:27:45.052Z"
   },
   {
    "duration": 32,
    "start_time": "2022-04-04T15:27:45.063Z"
   },
   {
    "duration": 33,
    "start_time": "2022-04-04T15:27:45.096Z"
   },
   {
    "duration": 7,
    "start_time": "2022-04-04T15:27:45.130Z"
   },
   {
    "duration": 36,
    "start_time": "2022-04-04T15:27:45.138Z"
   },
   {
    "duration": 14,
    "start_time": "2022-04-04T15:27:45.175Z"
   },
   {
    "duration": 17,
    "start_time": "2022-04-04T15:27:45.190Z"
   },
   {
    "duration": 17,
    "start_time": "2022-04-04T15:27:45.209Z"
   },
   {
    "duration": 26,
    "start_time": "2022-04-04T15:27:45.227Z"
   },
   {
    "duration": 31,
    "start_time": "2022-04-04T15:27:45.255Z"
   },
   {
    "duration": 13,
    "start_time": "2022-04-04T15:27:45.288Z"
   },
   {
    "duration": 24,
    "start_time": "2022-04-04T15:27:45.302Z"
   },
   {
    "duration": 11,
    "start_time": "2022-04-04T15:27:45.328Z"
   },
   {
    "duration": 55,
    "start_time": "2022-04-04T15:27:45.340Z"
   },
   {
    "duration": 9,
    "start_time": "2022-04-04T15:27:45.396Z"
   },
   {
    "duration": 27,
    "start_time": "2022-04-04T15:27:45.407Z"
   },
   {
    "duration": 35,
    "start_time": "2022-04-04T15:27:45.436Z"
   },
   {
    "duration": 36,
    "start_time": "2022-04-04T15:27:45.473Z"
   },
   {
    "duration": 317,
    "start_time": "2022-04-04T15:27:45.511Z"
   },
   {
    "duration": 13,
    "start_time": "2022-04-04T15:27:45.830Z"
   },
   {
    "duration": 29,
    "start_time": "2022-04-04T15:27:45.845Z"
   },
   {
    "duration": 17,
    "start_time": "2022-04-04T15:27:45.876Z"
   },
   {
    "duration": 241,
    "start_time": "2022-04-04T15:27:45.895Z"
   },
   {
    "duration": 1270,
    "start_time": "2022-04-04T15:27:46.138Z"
   },
   {
    "duration": 24,
    "start_time": "2022-04-04T15:27:47.410Z"
   },
   {
    "duration": 31,
    "start_time": "2022-04-04T15:27:47.439Z"
   },
   {
    "duration": 211,
    "start_time": "2022-04-04T15:27:47.472Z"
   },
   {
    "duration": 121,
    "start_time": "2022-04-04T15:27:47.685Z"
   },
   {
    "duration": 11,
    "start_time": "2022-04-04T15:27:47.807Z"
   },
   {
    "duration": 16,
    "start_time": "2022-04-04T15:27:47.819Z"
   },
   {
    "duration": 151,
    "start_time": "2022-04-04T15:27:47.837Z"
   },
   {
    "duration": 136,
    "start_time": "2022-04-04T15:27:47.989Z"
   },
   {
    "duration": 12,
    "start_time": "2022-04-04T15:27:48.127Z"
   },
   {
    "duration": 32,
    "start_time": "2022-04-04T15:27:48.141Z"
   },
   {
    "duration": 13,
    "start_time": "2022-04-04T15:27:48.175Z"
   },
   {
    "duration": 16,
    "start_time": "2022-04-04T15:27:48.190Z"
   },
   {
    "duration": 29,
    "start_time": "2022-04-04T15:27:48.208Z"
   },
   {
    "duration": 4,
    "start_time": "2022-04-04T15:27:48.238Z"
   },
   {
    "duration": 3,
    "start_time": "2022-04-04T15:27:48.263Z"
   },
   {
    "duration": 16,
    "start_time": "2022-04-04T15:27:48.268Z"
   },
   {
    "duration": 12,
    "start_time": "2022-04-04T15:27:48.285Z"
   },
   {
    "duration": 12,
    "start_time": "2022-04-04T15:27:48.299Z"
   },
   {
    "duration": 12,
    "start_time": "2022-04-04T15:27:48.313Z"
   },
   {
    "duration": 45,
    "start_time": "2022-04-04T15:27:48.327Z"
   },
   {
    "duration": 9,
    "start_time": "2022-04-04T15:27:48.373Z"
   },
   {
    "duration": 12,
    "start_time": "2022-04-04T15:27:48.383Z"
   },
   {
    "duration": 14,
    "start_time": "2022-04-04T15:27:48.396Z"
   },
   {
    "duration": 20,
    "start_time": "2022-04-04T15:27:48.412Z"
   },
   {
    "duration": 14,
    "start_time": "2022-04-04T15:28:01.439Z"
   },
   {
    "duration": 45,
    "start_time": "2022-04-05T12:39:55.550Z"
   },
   {
    "duration": 1346,
    "start_time": "2022-04-05T12:40:01.689Z"
   },
   {
    "duration": 41,
    "start_time": "2022-04-05T12:40:03.037Z"
   },
   {
    "duration": 18,
    "start_time": "2022-04-05T12:40:03.079Z"
   },
   {
    "duration": 3,
    "start_time": "2022-04-05T12:40:03.108Z"
   },
   {
    "duration": 35,
    "start_time": "2022-04-05T12:40:03.113Z"
   },
   {
    "duration": 25,
    "start_time": "2022-04-05T12:40:03.150Z"
   },
   {
    "duration": 16,
    "start_time": "2022-04-05T12:40:03.177Z"
   },
   {
    "duration": 7,
    "start_time": "2022-04-05T12:40:03.194Z"
   },
   {
    "duration": 18,
    "start_time": "2022-04-05T12:40:03.203Z"
   },
   {
    "duration": 9,
    "start_time": "2022-04-05T12:40:03.223Z"
   },
   {
    "duration": 10,
    "start_time": "2022-04-05T12:40:03.234Z"
   },
   {
    "duration": 6,
    "start_time": "2022-04-05T12:40:03.245Z"
   },
   {
    "duration": 9,
    "start_time": "2022-04-05T12:40:03.253Z"
   },
   {
    "duration": 16,
    "start_time": "2022-04-05T12:40:03.264Z"
   },
   {
    "duration": 72,
    "start_time": "2022-04-05T12:40:03.281Z"
   },
   {
    "duration": 16,
    "start_time": "2022-04-05T12:40:03.355Z"
   },
   {
    "duration": 6,
    "start_time": "2022-04-05T12:40:03.373Z"
   },
   {
    "duration": 29,
    "start_time": "2022-04-05T12:40:03.381Z"
   },
   {
    "duration": 7,
    "start_time": "2022-04-05T12:40:03.411Z"
   },
   {
    "duration": 37,
    "start_time": "2022-04-05T12:40:03.420Z"
   },
   {
    "duration": 17,
    "start_time": "2022-04-05T12:40:03.459Z"
   },
   {
    "duration": 24,
    "start_time": "2022-04-05T12:40:03.478Z"
   },
   {
    "duration": 363,
    "start_time": "2022-04-05T12:40:03.504Z"
   },
   {
    "duration": 16,
    "start_time": "2022-04-05T12:40:03.868Z"
   },
   {
    "duration": 31,
    "start_time": "2022-04-05T12:40:03.886Z"
   },
   {
    "duration": 20,
    "start_time": "2022-04-05T12:40:03.918Z"
   },
   {
    "duration": 347,
    "start_time": "2022-04-05T12:40:03.940Z"
   },
   {
    "duration": 1160,
    "start_time": "2022-04-05T12:40:04.291Z"
   },
   {
    "duration": 19,
    "start_time": "2022-04-05T12:40:05.452Z"
   },
   {
    "duration": 11,
    "start_time": "2022-04-05T12:40:05.473Z"
   },
   {
    "duration": 163,
    "start_time": "2022-04-05T12:40:05.485Z"
   },
   {
    "duration": 143,
    "start_time": "2022-04-05T12:40:05.649Z"
   },
   {
    "duration": 16,
    "start_time": "2022-04-05T12:40:05.793Z"
   },
   {
    "duration": 22,
    "start_time": "2022-04-05T12:40:05.811Z"
   },
   {
    "duration": 163,
    "start_time": "2022-04-05T12:40:05.834Z"
   },
   {
    "duration": 147,
    "start_time": "2022-04-05T12:40:05.999Z"
   },
   {
    "duration": 13,
    "start_time": "2022-04-05T12:40:06.147Z"
   },
   {
    "duration": 14,
    "start_time": "2022-04-05T12:40:06.161Z"
   },
   {
    "duration": 39,
    "start_time": "2022-04-05T12:40:06.177Z"
   },
   {
    "duration": 13,
    "start_time": "2022-04-05T12:40:06.218Z"
   },
   {
    "duration": 32,
    "start_time": "2022-04-05T12:40:06.233Z"
   },
   {
    "duration": 4,
    "start_time": "2022-04-05T12:40:06.266Z"
   },
   {
    "duration": 6,
    "start_time": "2022-04-05T12:40:06.272Z"
   },
   {
    "duration": 32,
    "start_time": "2022-04-05T12:40:06.280Z"
   },
   {
    "duration": 14,
    "start_time": "2022-04-05T12:40:06.314Z"
   },
   {
    "duration": 14,
    "start_time": "2022-04-05T12:40:06.330Z"
   },
   {
    "duration": 13,
    "start_time": "2022-04-05T12:40:06.346Z"
   },
   {
    "duration": 22,
    "start_time": "2022-04-05T12:40:06.361Z"
   },
   {
    "duration": 32,
    "start_time": "2022-04-05T12:40:06.385Z"
   },
   {
    "duration": 11,
    "start_time": "2022-04-05T12:40:06.419Z"
   },
   {
    "duration": 14,
    "start_time": "2022-04-05T12:40:06.432Z"
   },
   {
    "duration": 16,
    "start_time": "2022-04-05T12:40:06.447Z"
   },
   {
    "duration": 45,
    "start_time": "2022-04-05T12:40:06.465Z"
   },
   {
    "duration": 11,
    "start_time": "2022-04-05T12:40:06.512Z"
   },
   {
    "duration": 13,
    "start_time": "2022-04-05T12:40:06.524Z"
   },
   {
    "duration": 13,
    "start_time": "2022-04-05T12:40:06.538Z"
   },
   {
    "duration": 20,
    "start_time": "2022-04-05T12:40:06.553Z"
   },
   {
    "duration": 36,
    "start_time": "2022-04-05T12:40:06.574Z"
   },
   {
    "duration": 18,
    "start_time": "2022-04-05T12:40:06.612Z"
   },
   {
    "duration": 8,
    "start_time": "2022-04-05T12:40:06.631Z"
   },
   {
    "duration": 10,
    "start_time": "2022-04-05T12:40:06.641Z"
   },
   {
    "duration": 15,
    "start_time": "2022-04-05T12:40:06.653Z"
   },
   {
    "duration": 47,
    "start_time": "2022-04-05T12:40:06.670Z"
   },
   {
    "duration": 7,
    "start_time": "2022-04-05T12:40:06.719Z"
   },
   {
    "duration": 17,
    "start_time": "2022-04-05T12:40:06.728Z"
   },
   {
    "duration": 8,
    "start_time": "2022-04-05T12:40:06.747Z"
   },
   {
    "duration": 11,
    "start_time": "2022-04-05T12:40:06.756Z"
   },
   {
    "duration": 106,
    "start_time": "2022-04-05T12:43:22.823Z"
   },
   {
    "duration": 18,
    "start_time": "2022-04-05T12:47:34.961Z"
   },
   {
    "duration": 3,
    "start_time": "2022-04-05T12:47:54.284Z"
   },
   {
    "duration": 17,
    "start_time": "2022-04-05T12:47:55.053Z"
   },
   {
    "duration": 15,
    "start_time": "2022-04-05T12:48:07.664Z"
   },
   {
    "duration": 2,
    "start_time": "2022-04-05T12:48:10.384Z"
   },
   {
    "duration": 17,
    "start_time": "2022-04-05T12:48:11.502Z"
   },
   {
    "duration": 15,
    "start_time": "2022-04-05T12:48:27.614Z"
   },
   {
    "duration": 13,
    "start_time": "2022-04-05T12:49:05.412Z"
   },
   {
    "duration": 2,
    "start_time": "2022-04-05T12:49:06.159Z"
   },
   {
    "duration": 4,
    "start_time": "2022-04-05T12:52:06.873Z"
   },
   {
    "duration": 9,
    "start_time": "2022-04-05T12:52:37.656Z"
   },
   {
    "duration": 6,
    "start_time": "2022-04-05T12:53:02.041Z"
   },
   {
    "duration": 6,
    "start_time": "2022-04-05T12:53:06.883Z"
   },
   {
    "duration": 5,
    "start_time": "2022-04-05T12:53:08.985Z"
   },
   {
    "duration": 5,
    "start_time": "2022-04-05T12:53:09.696Z"
   },
   {
    "duration": 1067,
    "start_time": "2022-04-05T12:53:23.024Z"
   },
   {
    "duration": 38,
    "start_time": "2022-04-05T12:53:24.093Z"
   },
   {
    "duration": 17,
    "start_time": "2022-04-05T12:53:24.133Z"
   },
   {
    "duration": 3,
    "start_time": "2022-04-05T12:53:24.152Z"
   },
   {
    "duration": 5,
    "start_time": "2022-04-05T12:53:24.157Z"
   },
   {
    "duration": 18,
    "start_time": "2022-04-05T12:53:24.163Z"
   },
   {
    "duration": 28,
    "start_time": "2022-04-05T12:53:24.182Z"
   },
   {
    "duration": 5,
    "start_time": "2022-04-05T12:53:24.212Z"
   },
   {
    "duration": 14,
    "start_time": "2022-04-05T12:53:24.218Z"
   },
   {
    "duration": 6,
    "start_time": "2022-04-05T12:53:24.233Z"
   },
   {
    "duration": 7,
    "start_time": "2022-04-05T12:53:24.240Z"
   },
   {
    "duration": 5,
    "start_time": "2022-04-05T12:53:24.248Z"
   },
   {
    "duration": 6,
    "start_time": "2022-04-05T12:53:24.254Z"
   },
   {
    "duration": 7,
    "start_time": "2022-04-05T12:53:24.263Z"
   },
   {
    "duration": 39,
    "start_time": "2022-04-05T12:53:24.272Z"
   },
   {
    "duration": 50,
    "start_time": "2022-04-05T12:53:24.313Z"
   },
   {
    "duration": 16,
    "start_time": "2022-04-05T12:53:24.364Z"
   },
   {
    "duration": 31,
    "start_time": "2022-04-05T12:53:24.382Z"
   },
   {
    "duration": 7,
    "start_time": "2022-04-05T12:53:24.415Z"
   },
   {
    "duration": 5,
    "start_time": "2022-04-05T12:53:24.424Z"
   },
   {
    "duration": 14,
    "start_time": "2022-04-05T12:53:24.430Z"
   },
   {
    "duration": 14,
    "start_time": "2022-04-05T12:53:24.446Z"
   },
   {
    "duration": 16,
    "start_time": "2022-04-05T12:53:24.461Z"
   },
   {
    "duration": 399,
    "start_time": "2022-04-05T12:53:24.479Z"
   },
   {
    "duration": 16,
    "start_time": "2022-04-05T12:53:24.880Z"
   },
   {
    "duration": 17,
    "start_time": "2022-04-05T12:53:24.909Z"
   },
   {
    "duration": 19,
    "start_time": "2022-04-05T12:53:24.928Z"
   },
   {
    "duration": 334,
    "start_time": "2022-04-05T12:53:24.948Z"
   },
   {
    "duration": 1095,
    "start_time": "2022-04-05T12:53:25.283Z"
   },
   {
    "duration": 18,
    "start_time": "2022-04-05T12:53:26.379Z"
   },
   {
    "duration": 20,
    "start_time": "2022-04-05T12:53:26.398Z"
   },
   {
    "duration": 146,
    "start_time": "2022-04-05T12:53:26.419Z"
   },
   {
    "duration": 124,
    "start_time": "2022-04-05T12:53:26.567Z"
   },
   {
    "duration": 16,
    "start_time": "2022-04-05T12:53:26.693Z"
   },
   {
    "duration": 17,
    "start_time": "2022-04-05T12:53:26.711Z"
   },
   {
    "duration": 161,
    "start_time": "2022-04-05T12:53:26.729Z"
   },
   {
    "duration": 146,
    "start_time": "2022-04-05T12:53:26.892Z"
   },
   {
    "duration": 13,
    "start_time": "2022-04-05T12:53:27.040Z"
   },
   {
    "duration": 19,
    "start_time": "2022-04-05T12:53:27.054Z"
   },
   {
    "duration": 22,
    "start_time": "2022-04-05T12:53:27.075Z"
   },
   {
    "duration": 14,
    "start_time": "2022-04-05T12:53:27.110Z"
   },
   {
    "duration": 27,
    "start_time": "2022-04-05T12:53:27.125Z"
   },
   {
    "duration": 4,
    "start_time": "2022-04-05T12:53:27.154Z"
   },
   {
    "duration": 7,
    "start_time": "2022-04-05T12:53:27.159Z"
   },
   {
    "duration": 40,
    "start_time": "2022-04-05T12:53:27.168Z"
   },
   {
    "duration": 14,
    "start_time": "2022-04-05T12:53:27.210Z"
   },
   {
    "duration": 13,
    "start_time": "2022-04-05T12:53:27.226Z"
   },
   {
    "duration": 12,
    "start_time": "2022-04-05T12:53:27.241Z"
   },
   {
    "duration": 25,
    "start_time": "2022-04-05T12:53:27.255Z"
   },
   {
    "duration": 11,
    "start_time": "2022-04-05T12:53:27.308Z"
   },
   {
    "duration": 10,
    "start_time": "2022-04-05T12:53:27.321Z"
   },
   {
    "duration": 18,
    "start_time": "2022-04-05T12:53:27.333Z"
   },
   {
    "duration": 15,
    "start_time": "2022-04-05T12:53:27.353Z"
   },
   {
    "duration": 44,
    "start_time": "2022-04-05T12:53:27.369Z"
   },
   {
    "duration": 11,
    "start_time": "2022-04-05T12:53:27.415Z"
   },
   {
    "duration": 11,
    "start_time": "2022-04-05T12:53:27.428Z"
   },
   {
    "duration": 11,
    "start_time": "2022-04-05T12:53:27.440Z"
   },
   {
    "duration": 17,
    "start_time": "2022-04-05T12:53:27.453Z"
   },
   {
    "duration": 41,
    "start_time": "2022-04-05T12:53:27.471Z"
   },
   {
    "duration": 18,
    "start_time": "2022-04-05T12:53:27.514Z"
   },
   {
    "duration": 7,
    "start_time": "2022-04-05T12:53:27.533Z"
   },
   {
    "duration": 11,
    "start_time": "2022-04-05T12:53:27.541Z"
   },
   {
    "duration": 14,
    "start_time": "2022-04-05T12:53:27.554Z"
   },
   {
    "duration": 52,
    "start_time": "2022-04-05T12:53:27.569Z"
   },
   {
    "duration": 8,
    "start_time": "2022-04-05T12:53:27.622Z"
   },
   {
    "duration": 16,
    "start_time": "2022-04-05T12:53:27.632Z"
   },
   {
    "duration": 8,
    "start_time": "2022-04-05T12:53:27.650Z"
   },
   {
    "duration": 12,
    "start_time": "2022-04-05T12:53:27.659Z"
   },
   {
    "duration": 4,
    "start_time": "2022-04-05T12:53:59.126Z"
   },
   {
    "duration": 5,
    "start_time": "2022-04-05T12:54:04.709Z"
   },
   {
    "duration": 6,
    "start_time": "2022-04-05T12:54:06.722Z"
   },
   {
    "duration": 5,
    "start_time": "2022-04-05T12:54:06.854Z"
   },
   {
    "duration": 6,
    "start_time": "2022-04-05T12:54:12.600Z"
   },
   {
    "duration": 5,
    "start_time": "2022-04-05T12:54:14.716Z"
   },
   {
    "duration": 6,
    "start_time": "2022-04-05T12:54:16.651Z"
   },
   {
    "duration": 6,
    "start_time": "2022-04-05T12:54:17.274Z"
   },
   {
    "duration": 1128,
    "start_time": "2022-04-05T12:54:24.071Z"
   },
   {
    "duration": 40,
    "start_time": "2022-04-05T12:54:25.200Z"
   },
   {
    "duration": 16,
    "start_time": "2022-04-05T12:54:25.242Z"
   },
   {
    "duration": 3,
    "start_time": "2022-04-05T12:54:25.259Z"
   },
   {
    "duration": 5,
    "start_time": "2022-04-05T12:54:25.264Z"
   },
   {
    "duration": 15,
    "start_time": "2022-04-05T12:54:25.270Z"
   },
   {
    "duration": 4,
    "start_time": "2022-04-05T12:54:25.287Z"
   },
   {
    "duration": 2,
    "start_time": "2022-04-05T12:54:25.309Z"
   },
   {
    "duration": 14,
    "start_time": "2022-04-05T12:54:25.313Z"
   },
   {
    "duration": 5,
    "start_time": "2022-04-05T12:54:25.328Z"
   },
   {
    "duration": 6,
    "start_time": "2022-04-05T12:54:25.335Z"
   },
   {
    "duration": 6,
    "start_time": "2022-04-05T12:54:25.343Z"
   },
   {
    "duration": 8,
    "start_time": "2022-04-05T12:54:25.351Z"
   },
   {
    "duration": 8,
    "start_time": "2022-04-05T12:54:25.362Z"
   },
   {
    "duration": 46,
    "start_time": "2022-04-05T12:54:25.371Z"
   },
   {
    "duration": 47,
    "start_time": "2022-04-05T12:54:25.419Z"
   },
   {
    "duration": 14,
    "start_time": "2022-04-05T12:54:25.467Z"
   },
   {
    "duration": 6,
    "start_time": "2022-04-05T12:54:25.483Z"
   },
   {
    "duration": 6,
    "start_time": "2022-04-05T12:54:25.509Z"
   },
   {
    "duration": 4,
    "start_time": "2022-04-05T12:54:25.517Z"
   },
   {
    "duration": 13,
    "start_time": "2022-04-05T12:54:25.523Z"
   },
   {
    "duration": 14,
    "start_time": "2022-04-05T12:54:25.538Z"
   },
   {
    "duration": 15,
    "start_time": "2022-04-05T12:54:25.554Z"
   },
   {
    "duration": 382,
    "start_time": "2022-04-05T12:54:25.571Z"
   },
   {
    "duration": 14,
    "start_time": "2022-04-05T12:54:25.955Z"
   },
   {
    "duration": 19,
    "start_time": "2022-04-05T12:54:25.971Z"
   },
   {
    "duration": 30,
    "start_time": "2022-04-05T12:54:25.991Z"
   },
   {
    "duration": 314,
    "start_time": "2022-04-05T12:54:26.022Z"
   },
   {
    "duration": 1077,
    "start_time": "2022-04-05T12:54:26.338Z"
   },
   {
    "duration": 17,
    "start_time": "2022-04-05T12:54:27.417Z"
   },
   {
    "duration": 11,
    "start_time": "2022-04-05T12:54:27.435Z"
   },
   {
    "duration": 157,
    "start_time": "2022-04-05T12:54:27.448Z"
   },
   {
    "duration": 126,
    "start_time": "2022-04-05T12:54:27.608Z"
   },
   {
    "duration": 12,
    "start_time": "2022-04-05T12:54:27.735Z"
   },
   {
    "duration": 18,
    "start_time": "2022-04-05T12:54:27.748Z"
   },
   {
    "duration": 158,
    "start_time": "2022-04-05T12:54:27.767Z"
   },
   {
    "duration": 135,
    "start_time": "2022-04-05T12:54:27.927Z"
   },
   {
    "duration": 12,
    "start_time": "2022-04-05T12:54:28.064Z"
   },
   {
    "duration": 14,
    "start_time": "2022-04-05T12:54:28.077Z"
   },
   {
    "duration": 14,
    "start_time": "2022-04-05T12:54:28.109Z"
   },
   {
    "duration": 14,
    "start_time": "2022-04-05T12:54:28.127Z"
   },
   {
    "duration": 35,
    "start_time": "2022-04-05T12:54:28.143Z"
   },
   {
    "duration": 4,
    "start_time": "2022-04-05T12:54:28.179Z"
   },
   {
    "duration": 25,
    "start_time": "2022-04-05T12:54:28.184Z"
   },
   {
    "duration": 16,
    "start_time": "2022-04-05T12:54:28.210Z"
   },
   {
    "duration": 14,
    "start_time": "2022-04-05T12:54:28.228Z"
   },
   {
    "duration": 14,
    "start_time": "2022-04-05T12:54:28.244Z"
   },
   {
    "duration": 18,
    "start_time": "2022-04-05T12:54:28.260Z"
   },
   {
    "duration": 47,
    "start_time": "2022-04-05T12:54:28.279Z"
   },
   {
    "duration": 11,
    "start_time": "2022-04-05T12:54:28.327Z"
   },
   {
    "duration": 16,
    "start_time": "2022-04-05T12:54:28.340Z"
   },
   {
    "duration": 13,
    "start_time": "2022-04-05T12:54:28.357Z"
   },
   {
    "duration": 18,
    "start_time": "2022-04-05T12:54:28.371Z"
   },
   {
    "duration": 22,
    "start_time": "2022-04-05T12:54:28.408Z"
   },
   {
    "duration": 10,
    "start_time": "2022-04-05T12:54:28.432Z"
   },
   {
    "duration": 12,
    "start_time": "2022-04-05T12:54:28.444Z"
   },
   {
    "duration": 14,
    "start_time": "2022-04-05T12:54:28.458Z"
   },
   {
    "duration": 43,
    "start_time": "2022-04-05T12:54:28.474Z"
   },
   {
    "duration": 7,
    "start_time": "2022-04-05T12:54:28.519Z"
   },
   {
    "duration": 20,
    "start_time": "2022-04-05T12:54:28.527Z"
   },
   {
    "duration": 7,
    "start_time": "2022-04-05T12:54:28.548Z"
   },
   {
    "duration": 14,
    "start_time": "2022-04-05T12:54:28.556Z"
   },
   {
    "duration": 40,
    "start_time": "2022-04-05T12:54:28.572Z"
   },
   {
    "duration": 19,
    "start_time": "2022-04-05T12:54:28.614Z"
   },
   {
    "duration": 8,
    "start_time": "2022-04-05T12:54:28.634Z"
   },
   {
    "duration": 17,
    "start_time": "2022-04-05T12:54:28.643Z"
   },
   {
    "duration": 11,
    "start_time": "2022-04-05T12:54:28.662Z"
   },
   {
    "duration": 36,
    "start_time": "2022-04-05T12:54:28.674Z"
   },
   {
    "duration": 4,
    "start_time": "2022-04-05T12:56:28.860Z"
   },
   {
    "duration": 12,
    "start_time": "2022-04-05T12:56:32.860Z"
   },
   {
    "duration": 6,
    "start_time": "2022-04-05T13:00:18.043Z"
   },
   {
    "duration": 5,
    "start_time": "2022-04-05T13:01:00.331Z"
   },
   {
    "duration": 7,
    "start_time": "2022-04-05T13:01:14.961Z"
   },
   {
    "duration": 6,
    "start_time": "2022-04-05T13:01:47.609Z"
   },
   {
    "duration": 5,
    "start_time": "2022-04-05T13:02:13.210Z"
   },
   {
    "duration": 17,
    "start_time": "2022-04-05T13:02:29.640Z"
   },
   {
    "duration": 7,
    "start_time": "2022-04-05T13:04:15.890Z"
   },
   {
    "duration": 7,
    "start_time": "2022-04-05T13:05:16.591Z"
   },
   {
    "duration": 8,
    "start_time": "2022-04-05T13:06:28.300Z"
   },
   {
    "duration": 3,
    "start_time": "2022-04-05T13:06:46.043Z"
   },
   {
    "duration": 6,
    "start_time": "2022-04-05T13:06:46.714Z"
   },
   {
    "duration": 15,
    "start_time": "2022-04-05T13:06:49.882Z"
   },
   {
    "duration": 382,
    "start_time": "2022-04-05T13:08:54.397Z"
   },
   {
    "duration": 11,
    "start_time": "2022-04-05T13:11:47.859Z"
   },
   {
    "duration": 12,
    "start_time": "2022-04-05T13:12:50.568Z"
   },
   {
    "duration": 11,
    "start_time": "2022-04-05T13:13:36.015Z"
   },
   {
    "duration": 12,
    "start_time": "2022-04-05T13:13:40.345Z"
   },
   {
    "duration": 11,
    "start_time": "2022-04-05T13:13:42.283Z"
   },
   {
    "duration": 1046,
    "start_time": "2022-04-05T13:13:49.339Z"
   },
   {
    "duration": 43,
    "start_time": "2022-04-05T13:13:50.387Z"
   },
   {
    "duration": 19,
    "start_time": "2022-04-05T13:13:50.431Z"
   },
   {
    "duration": 3,
    "start_time": "2022-04-05T13:13:50.451Z"
   },
   {
    "duration": 5,
    "start_time": "2022-04-05T13:13:50.456Z"
   },
   {
    "duration": 19,
    "start_time": "2022-04-05T13:13:50.462Z"
   },
   {
    "duration": 29,
    "start_time": "2022-04-05T13:13:50.482Z"
   },
   {
    "duration": 3,
    "start_time": "2022-04-05T13:13:50.513Z"
   },
   {
    "duration": 13,
    "start_time": "2022-04-05T13:13:50.517Z"
   },
   {
    "duration": 5,
    "start_time": "2022-04-05T13:13:50.532Z"
   },
   {
    "duration": 6,
    "start_time": "2022-04-05T13:13:50.539Z"
   },
   {
    "duration": 5,
    "start_time": "2022-04-05T13:13:50.547Z"
   },
   {
    "duration": 5,
    "start_time": "2022-04-05T13:13:50.554Z"
   },
   {
    "duration": 720,
    "start_time": "2022-04-05T13:13:50.562Z"
   },
   {
    "duration": 0,
    "start_time": "2022-04-05T13:13:51.284Z"
   },
   {
    "duration": 0,
    "start_time": "2022-04-05T13:13:51.286Z"
   },
   {
    "duration": 0,
    "start_time": "2022-04-05T13:13:51.287Z"
   },
   {
    "duration": 0,
    "start_time": "2022-04-05T13:13:51.288Z"
   },
   {
    "duration": 0,
    "start_time": "2022-04-05T13:13:51.289Z"
   },
   {
    "duration": 0,
    "start_time": "2022-04-05T13:13:51.289Z"
   },
   {
    "duration": 0,
    "start_time": "2022-04-05T13:13:51.291Z"
   },
   {
    "duration": 0,
    "start_time": "2022-04-05T13:13:51.292Z"
   },
   {
    "duration": 0,
    "start_time": "2022-04-05T13:13:51.293Z"
   },
   {
    "duration": 0,
    "start_time": "2022-04-05T13:13:51.294Z"
   },
   {
    "duration": 0,
    "start_time": "2022-04-05T13:13:51.294Z"
   },
   {
    "duration": 0,
    "start_time": "2022-04-05T13:13:51.295Z"
   },
   {
    "duration": 0,
    "start_time": "2022-04-05T13:13:51.296Z"
   },
   {
    "duration": 1,
    "start_time": "2022-04-05T13:13:51.297Z"
   },
   {
    "duration": 0,
    "start_time": "2022-04-05T13:13:51.299Z"
   },
   {
    "duration": 0,
    "start_time": "2022-04-05T13:13:51.300Z"
   },
   {
    "duration": 0,
    "start_time": "2022-04-05T13:13:51.301Z"
   },
   {
    "duration": 0,
    "start_time": "2022-04-05T13:13:51.302Z"
   },
   {
    "duration": 0,
    "start_time": "2022-04-05T13:13:51.303Z"
   },
   {
    "duration": 0,
    "start_time": "2022-04-05T13:13:51.304Z"
   },
   {
    "duration": 0,
    "start_time": "2022-04-05T13:13:51.305Z"
   },
   {
    "duration": 0,
    "start_time": "2022-04-05T13:13:51.306Z"
   },
   {
    "duration": 0,
    "start_time": "2022-04-05T13:13:51.307Z"
   },
   {
    "duration": 0,
    "start_time": "2022-04-05T13:13:51.308Z"
   },
   {
    "duration": 1,
    "start_time": "2022-04-05T13:13:51.309Z"
   },
   {
    "duration": 0,
    "start_time": "2022-04-05T13:13:51.310Z"
   },
   {
    "duration": 0,
    "start_time": "2022-04-05T13:13:51.311Z"
   },
   {
    "duration": 0,
    "start_time": "2022-04-05T13:13:51.312Z"
   },
   {
    "duration": 0,
    "start_time": "2022-04-05T13:13:51.314Z"
   },
   {
    "duration": 0,
    "start_time": "2022-04-05T13:13:51.315Z"
   },
   {
    "duration": 0,
    "start_time": "2022-04-05T13:13:51.316Z"
   },
   {
    "duration": 0,
    "start_time": "2022-04-05T13:13:51.316Z"
   },
   {
    "duration": 0,
    "start_time": "2022-04-05T13:13:51.318Z"
   },
   {
    "duration": 0,
    "start_time": "2022-04-05T13:13:51.319Z"
   },
   {
    "duration": 0,
    "start_time": "2022-04-05T13:13:51.320Z"
   },
   {
    "duration": 0,
    "start_time": "2022-04-05T13:13:51.321Z"
   },
   {
    "duration": 0,
    "start_time": "2022-04-05T13:13:51.322Z"
   },
   {
    "duration": 0,
    "start_time": "2022-04-05T13:13:51.322Z"
   },
   {
    "duration": 0,
    "start_time": "2022-04-05T13:13:51.323Z"
   },
   {
    "duration": 0,
    "start_time": "2022-04-05T13:13:51.324Z"
   },
   {
    "duration": 0,
    "start_time": "2022-04-05T13:13:51.326Z"
   },
   {
    "duration": 0,
    "start_time": "2022-04-05T13:13:51.327Z"
   },
   {
    "duration": 0,
    "start_time": "2022-04-05T13:13:51.328Z"
   },
   {
    "duration": 0,
    "start_time": "2022-04-05T13:13:51.328Z"
   },
   {
    "duration": 0,
    "start_time": "2022-04-05T13:13:51.329Z"
   },
   {
    "duration": 0,
    "start_time": "2022-04-05T13:13:51.331Z"
   },
   {
    "duration": 0,
    "start_time": "2022-04-05T13:13:51.332Z"
   },
   {
    "duration": 0,
    "start_time": "2022-04-05T13:13:51.333Z"
   },
   {
    "duration": 0,
    "start_time": "2022-04-05T13:13:51.334Z"
   },
   {
    "duration": 0,
    "start_time": "2022-04-05T13:13:51.335Z"
   },
   {
    "duration": 0,
    "start_time": "2022-04-05T13:13:51.336Z"
   },
   {
    "duration": 0,
    "start_time": "2022-04-05T13:13:51.337Z"
   },
   {
    "duration": 0,
    "start_time": "2022-04-05T13:13:51.338Z"
   },
   {
    "duration": 0,
    "start_time": "2022-04-05T13:13:51.339Z"
   },
   {
    "duration": 1,
    "start_time": "2022-04-05T13:13:51.339Z"
   },
   {
    "duration": 0,
    "start_time": "2022-04-05T13:13:51.340Z"
   },
   {
    "duration": 0,
    "start_time": "2022-04-05T13:13:51.342Z"
   },
   {
    "duration": 0,
    "start_time": "2022-04-05T13:13:51.343Z"
   },
   {
    "duration": 0,
    "start_time": "2022-04-05T13:13:51.344Z"
   },
   {
    "duration": 0,
    "start_time": "2022-04-05T13:13:51.409Z"
   },
   {
    "duration": 13,
    "start_time": "2022-04-05T13:14:07.373Z"
   },
   {
    "duration": 13,
    "start_time": "2022-04-05T13:14:08.037Z"
   },
   {
    "duration": 5,
    "start_time": "2022-04-05T13:14:21.707Z"
   },
   {
    "duration": 15,
    "start_time": "2022-04-05T13:14:24.074Z"
   },
   {
    "duration": 15,
    "start_time": "2022-04-05T13:14:30.039Z"
   },
   {
    "duration": 16,
    "start_time": "2022-04-05T13:14:30.710Z"
   },
   {
    "duration": 403,
    "start_time": "2022-04-05T13:14:31.918Z"
   },
   {
    "duration": 13,
    "start_time": "2022-04-05T13:14:38.514Z"
   },
   {
    "duration": 16,
    "start_time": "2022-04-05T13:14:40.931Z"
   },
   {
    "duration": 13,
    "start_time": "2022-04-05T13:14:44.499Z"
   },
   {
    "duration": 11,
    "start_time": "2022-04-05T13:14:49.314Z"
   },
   {
    "duration": 12,
    "start_time": "2022-04-05T13:15:28.331Z"
   },
   {
    "duration": 11,
    "start_time": "2022-04-05T13:15:30.332Z"
   },
   {
    "duration": 17,
    "start_time": "2022-04-05T13:15:52.881Z"
   },
   {
    "duration": 316,
    "start_time": "2022-04-05T13:18:00.943Z"
   },
   {
    "duration": 116,
    "start_time": "2022-04-05T13:18:48.897Z"
   },
   {
    "duration": 9,
    "start_time": "2022-04-05T13:23:06.225Z"
   },
   {
    "duration": 258,
    "start_time": "2022-04-05T13:23:13.480Z"
   },
   {
    "duration": 8,
    "start_time": "2022-04-05T13:23:17.892Z"
   },
   {
    "duration": 7,
    "start_time": "2022-04-05T13:23:34.715Z"
   },
   {
    "duration": 6,
    "start_time": "2022-04-05T13:24:06.058Z"
   },
   {
    "duration": 9,
    "start_time": "2022-04-05T13:28:22.586Z"
   },
   {
    "duration": 6,
    "start_time": "2022-04-05T13:28:29.812Z"
   },
   {
    "duration": 9,
    "start_time": "2022-04-05T13:28:31.531Z"
   },
   {
    "duration": 18,
    "start_time": "2022-04-05T13:28:49.367Z"
   },
   {
    "duration": 9,
    "start_time": "2022-04-05T13:28:59.640Z"
   },
   {
    "duration": 16,
    "start_time": "2022-04-05T13:29:24.888Z"
   },
   {
    "duration": 11,
    "start_time": "2022-04-05T13:29:31.130Z"
   },
   {
    "duration": 3,
    "start_time": "2022-04-05T13:37:50.390Z"
   },
   {
    "duration": 142,
    "start_time": "2022-04-05T13:37:51.243Z"
   },
   {
    "duration": 97,
    "start_time": "2022-04-05T13:38:27.029Z"
   },
   {
    "duration": 78,
    "start_time": "2022-04-05T13:38:41.888Z"
   },
   {
    "duration": 69,
    "start_time": "2022-04-05T13:38:49.408Z"
   },
   {
    "duration": 228,
    "start_time": "2022-04-05T13:38:55.900Z"
   },
   {
    "duration": 115,
    "start_time": "2022-04-05T13:39:30.124Z"
   },
   {
    "duration": 1141,
    "start_time": "2022-04-05T14:09:52.985Z"
   },
   {
    "duration": 37,
    "start_time": "2022-04-05T14:09:54.128Z"
   },
   {
    "duration": 17,
    "start_time": "2022-04-05T14:09:54.166Z"
   },
   {
    "duration": 7,
    "start_time": "2022-04-05T14:09:54.186Z"
   },
   {
    "duration": 20,
    "start_time": "2022-04-05T14:09:54.194Z"
   },
   {
    "duration": 21,
    "start_time": "2022-04-05T14:09:54.216Z"
   },
   {
    "duration": 7,
    "start_time": "2022-04-05T14:09:54.238Z"
   },
   {
    "duration": 11,
    "start_time": "2022-04-05T14:09:54.247Z"
   },
   {
    "duration": 28,
    "start_time": "2022-04-05T14:09:54.260Z"
   },
   {
    "duration": 7,
    "start_time": "2022-04-05T14:09:54.291Z"
   },
   {
    "duration": 13,
    "start_time": "2022-04-05T14:09:54.300Z"
   },
   {
    "duration": 16,
    "start_time": "2022-04-05T14:09:54.315Z"
   },
   {
    "duration": 19,
    "start_time": "2022-04-05T14:09:54.333Z"
   },
   {
    "duration": 719,
    "start_time": "2022-04-05T14:09:54.354Z"
   },
   {
    "duration": 0,
    "start_time": "2022-04-05T14:09:55.076Z"
   },
   {
    "duration": 0,
    "start_time": "2022-04-05T14:09:55.078Z"
   },
   {
    "duration": 0,
    "start_time": "2022-04-05T14:09:55.079Z"
   },
   {
    "duration": 0,
    "start_time": "2022-04-05T14:09:55.080Z"
   },
   {
    "duration": 0,
    "start_time": "2022-04-05T14:09:55.081Z"
   },
   {
    "duration": 0,
    "start_time": "2022-04-05T14:09:55.083Z"
   },
   {
    "duration": 0,
    "start_time": "2022-04-05T14:09:55.084Z"
   },
   {
    "duration": 0,
    "start_time": "2022-04-05T14:09:55.085Z"
   },
   {
    "duration": 0,
    "start_time": "2022-04-05T14:09:55.086Z"
   },
   {
    "duration": 0,
    "start_time": "2022-04-05T14:09:55.087Z"
   },
   {
    "duration": 0,
    "start_time": "2022-04-05T14:09:55.088Z"
   },
   {
    "duration": 0,
    "start_time": "2022-04-05T14:09:55.089Z"
   },
   {
    "duration": 1,
    "start_time": "2022-04-05T14:09:55.090Z"
   },
   {
    "duration": 0,
    "start_time": "2022-04-05T14:09:55.091Z"
   },
   {
    "duration": 0,
    "start_time": "2022-04-05T14:09:55.093Z"
   },
   {
    "duration": 0,
    "start_time": "2022-04-05T14:09:55.094Z"
   },
   {
    "duration": 0,
    "start_time": "2022-04-05T14:09:55.095Z"
   },
   {
    "duration": 0,
    "start_time": "2022-04-05T14:09:55.096Z"
   },
   {
    "duration": 0,
    "start_time": "2022-04-05T14:09:55.097Z"
   },
   {
    "duration": 0,
    "start_time": "2022-04-05T14:09:55.098Z"
   },
   {
    "duration": 0,
    "start_time": "2022-04-05T14:09:55.099Z"
   },
   {
    "duration": 0,
    "start_time": "2022-04-05T14:09:55.100Z"
   },
   {
    "duration": 0,
    "start_time": "2022-04-05T14:09:55.101Z"
   },
   {
    "duration": 0,
    "start_time": "2022-04-05T14:09:55.102Z"
   },
   {
    "duration": 0,
    "start_time": "2022-04-05T14:09:55.103Z"
   },
   {
    "duration": 0,
    "start_time": "2022-04-05T14:09:55.104Z"
   },
   {
    "duration": 0,
    "start_time": "2022-04-05T14:09:55.105Z"
   },
   {
    "duration": 0,
    "start_time": "2022-04-05T14:09:55.106Z"
   },
   {
    "duration": 0,
    "start_time": "2022-04-05T14:09:55.108Z"
   },
   {
    "duration": 0,
    "start_time": "2022-04-05T14:09:55.109Z"
   },
   {
    "duration": 0,
    "start_time": "2022-04-05T14:09:55.110Z"
   },
   {
    "duration": 0,
    "start_time": "2022-04-05T14:09:55.111Z"
   },
   {
    "duration": 0,
    "start_time": "2022-04-05T14:09:55.113Z"
   },
   {
    "duration": 0,
    "start_time": "2022-04-05T14:09:55.114Z"
   },
   {
    "duration": 0,
    "start_time": "2022-04-05T14:09:55.115Z"
   },
   {
    "duration": 0,
    "start_time": "2022-04-05T14:09:55.117Z"
   },
   {
    "duration": 0,
    "start_time": "2022-04-05T14:09:55.120Z"
   },
   {
    "duration": 0,
    "start_time": "2022-04-05T14:09:55.121Z"
   },
   {
    "duration": 0,
    "start_time": "2022-04-05T14:09:55.122Z"
   },
   {
    "duration": 0,
    "start_time": "2022-04-05T14:09:55.123Z"
   },
   {
    "duration": 0,
    "start_time": "2022-04-05T14:09:55.125Z"
   },
   {
    "duration": 0,
    "start_time": "2022-04-05T14:09:55.125Z"
   },
   {
    "duration": 0,
    "start_time": "2022-04-05T14:09:55.126Z"
   },
   {
    "duration": 0,
    "start_time": "2022-04-05T14:09:55.127Z"
   },
   {
    "duration": 0,
    "start_time": "2022-04-05T14:09:55.128Z"
   },
   {
    "duration": 0,
    "start_time": "2022-04-05T14:09:55.129Z"
   },
   {
    "duration": 0,
    "start_time": "2022-04-05T14:09:55.131Z"
   },
   {
    "duration": 0,
    "start_time": "2022-04-05T14:09:55.132Z"
   },
   {
    "duration": 0,
    "start_time": "2022-04-05T14:09:55.132Z"
   },
   {
    "duration": 0,
    "start_time": "2022-04-05T14:09:55.134Z"
   },
   {
    "duration": 0,
    "start_time": "2022-04-05T14:09:55.135Z"
   },
   {
    "duration": 0,
    "start_time": "2022-04-05T14:09:55.136Z"
   },
   {
    "duration": 0,
    "start_time": "2022-04-05T14:09:55.137Z"
   },
   {
    "duration": 0,
    "start_time": "2022-04-05T14:09:55.138Z"
   },
   {
    "duration": 0,
    "start_time": "2022-04-05T14:09:55.139Z"
   },
   {
    "duration": 0,
    "start_time": "2022-04-05T14:09:55.140Z"
   },
   {
    "duration": 0,
    "start_time": "2022-04-05T14:09:55.141Z"
   },
   {
    "duration": 0,
    "start_time": "2022-04-05T14:09:55.142Z"
   },
   {
    "duration": 0,
    "start_time": "2022-04-05T14:09:55.143Z"
   },
   {
    "duration": 0,
    "start_time": "2022-04-05T14:09:55.144Z"
   },
   {
    "duration": 0,
    "start_time": "2022-04-05T14:09:55.145Z"
   },
   {
    "duration": 0,
    "start_time": "2022-04-05T14:09:55.146Z"
   },
   {
    "duration": 0,
    "start_time": "2022-04-05T14:09:55.147Z"
   },
   {
    "duration": 1171,
    "start_time": "2022-04-05T14:10:20.145Z"
   },
   {
    "duration": 42,
    "start_time": "2022-04-05T14:10:21.318Z"
   },
   {
    "duration": 19,
    "start_time": "2022-04-05T14:10:21.361Z"
   },
   {
    "duration": 3,
    "start_time": "2022-04-05T14:10:21.382Z"
   },
   {
    "duration": 23,
    "start_time": "2022-04-05T14:10:21.387Z"
   },
   {
    "duration": 19,
    "start_time": "2022-04-05T14:10:21.411Z"
   },
   {
    "duration": 6,
    "start_time": "2022-04-05T14:10:21.431Z"
   },
   {
    "duration": 5,
    "start_time": "2022-04-05T14:10:21.438Z"
   },
   {
    "duration": 16,
    "start_time": "2022-04-05T14:10:21.445Z"
   },
   {
    "duration": 13,
    "start_time": "2022-04-05T14:10:21.464Z"
   },
   {
    "duration": 7,
    "start_time": "2022-04-05T14:10:21.508Z"
   },
   {
    "duration": 6,
    "start_time": "2022-04-05T14:10:21.517Z"
   },
   {
    "duration": 6,
    "start_time": "2022-04-05T14:10:21.525Z"
   },
   {
    "duration": 1149,
    "start_time": "2022-04-05T14:10:21.533Z"
   },
   {
    "duration": 0,
    "start_time": "2022-04-05T14:10:22.685Z"
   },
   {
    "duration": 0,
    "start_time": "2022-04-05T14:10:22.686Z"
   },
   {
    "duration": 0,
    "start_time": "2022-04-05T14:10:22.687Z"
   },
   {
    "duration": 0,
    "start_time": "2022-04-05T14:10:22.688Z"
   },
   {
    "duration": 0,
    "start_time": "2022-04-05T14:10:22.689Z"
   },
   {
    "duration": 0,
    "start_time": "2022-04-05T14:10:22.690Z"
   },
   {
    "duration": 0,
    "start_time": "2022-04-05T14:10:22.692Z"
   },
   {
    "duration": 0,
    "start_time": "2022-04-05T14:10:22.693Z"
   },
   {
    "duration": 0,
    "start_time": "2022-04-05T14:10:22.694Z"
   },
   {
    "duration": 0,
    "start_time": "2022-04-05T14:10:22.695Z"
   },
   {
    "duration": 0,
    "start_time": "2022-04-05T14:10:22.696Z"
   },
   {
    "duration": 0,
    "start_time": "2022-04-05T14:10:22.697Z"
   },
   {
    "duration": 0,
    "start_time": "2022-04-05T14:10:22.698Z"
   },
   {
    "duration": 0,
    "start_time": "2022-04-05T14:10:22.699Z"
   },
   {
    "duration": 0,
    "start_time": "2022-04-05T14:10:22.700Z"
   },
   {
    "duration": 0,
    "start_time": "2022-04-05T14:10:22.702Z"
   },
   {
    "duration": 1,
    "start_time": "2022-04-05T14:10:22.702Z"
   },
   {
    "duration": 1,
    "start_time": "2022-04-05T14:10:22.703Z"
   },
   {
    "duration": 0,
    "start_time": "2022-04-05T14:10:22.705Z"
   },
   {
    "duration": 0,
    "start_time": "2022-04-05T14:10:22.706Z"
   },
   {
    "duration": 0,
    "start_time": "2022-04-05T14:10:22.707Z"
   },
   {
    "duration": 0,
    "start_time": "2022-04-05T14:10:22.708Z"
   },
   {
    "duration": 0,
    "start_time": "2022-04-05T14:10:22.709Z"
   },
   {
    "duration": 0,
    "start_time": "2022-04-05T14:10:22.710Z"
   },
   {
    "duration": 0,
    "start_time": "2022-04-05T14:10:22.711Z"
   },
   {
    "duration": 0,
    "start_time": "2022-04-05T14:10:22.712Z"
   },
   {
    "duration": 0,
    "start_time": "2022-04-05T14:10:22.713Z"
   },
   {
    "duration": 0,
    "start_time": "2022-04-05T14:10:22.715Z"
   },
   {
    "duration": 1,
    "start_time": "2022-04-05T14:10:22.715Z"
   },
   {
    "duration": 1,
    "start_time": "2022-04-05T14:10:22.716Z"
   },
   {
    "duration": 0,
    "start_time": "2022-04-05T14:10:22.717Z"
   },
   {
    "duration": 0,
    "start_time": "2022-04-05T14:10:22.718Z"
   },
   {
    "duration": 0,
    "start_time": "2022-04-05T14:10:22.719Z"
   },
   {
    "duration": 0,
    "start_time": "2022-04-05T14:10:22.720Z"
   },
   {
    "duration": 0,
    "start_time": "2022-04-05T14:10:22.721Z"
   },
   {
    "duration": 0,
    "start_time": "2022-04-05T14:10:22.722Z"
   },
   {
    "duration": 0,
    "start_time": "2022-04-05T14:10:22.724Z"
   },
   {
    "duration": 0,
    "start_time": "2022-04-05T14:10:22.724Z"
   },
   {
    "duration": 0,
    "start_time": "2022-04-05T14:10:22.725Z"
   },
   {
    "duration": 0,
    "start_time": "2022-04-05T14:10:22.726Z"
   },
   {
    "duration": 0,
    "start_time": "2022-04-05T14:10:22.727Z"
   },
   {
    "duration": 0,
    "start_time": "2022-04-05T14:10:22.728Z"
   },
   {
    "duration": 0,
    "start_time": "2022-04-05T14:10:22.729Z"
   },
   {
    "duration": 0,
    "start_time": "2022-04-05T14:10:22.730Z"
   },
   {
    "duration": 0,
    "start_time": "2022-04-05T14:10:22.731Z"
   },
   {
    "duration": 0,
    "start_time": "2022-04-05T14:10:22.732Z"
   },
   {
    "duration": 0,
    "start_time": "2022-04-05T14:10:22.733Z"
   },
   {
    "duration": 0,
    "start_time": "2022-04-05T14:10:22.734Z"
   },
   {
    "duration": 0,
    "start_time": "2022-04-05T14:10:22.735Z"
   },
   {
    "duration": 0,
    "start_time": "2022-04-05T14:10:22.737Z"
   },
   {
    "duration": 0,
    "start_time": "2022-04-05T14:10:22.738Z"
   },
   {
    "duration": 0,
    "start_time": "2022-04-05T14:10:22.739Z"
   },
   {
    "duration": 0,
    "start_time": "2022-04-05T14:10:22.740Z"
   },
   {
    "duration": 0,
    "start_time": "2022-04-05T14:10:22.741Z"
   },
   {
    "duration": 0,
    "start_time": "2022-04-05T14:10:22.742Z"
   },
   {
    "duration": 0,
    "start_time": "2022-04-05T14:10:22.743Z"
   },
   {
    "duration": 0,
    "start_time": "2022-04-05T14:10:22.744Z"
   },
   {
    "duration": 0,
    "start_time": "2022-04-05T14:10:22.745Z"
   },
   {
    "duration": 0,
    "start_time": "2022-04-05T14:10:22.747Z"
   },
   {
    "duration": 0,
    "start_time": "2022-04-05T14:10:22.748Z"
   },
   {
    "duration": 0,
    "start_time": "2022-04-05T14:10:22.809Z"
   },
   {
    "duration": 0,
    "start_time": "2022-04-05T14:10:22.810Z"
   },
   {
    "duration": 0,
    "start_time": "2022-04-05T14:10:22.811Z"
   },
   {
    "duration": 1041,
    "start_time": "2022-04-05T14:10:39.497Z"
   },
   {
    "duration": 6,
    "start_time": "2022-04-05T14:11:39.498Z"
   },
   {
    "duration": 4,
    "start_time": "2022-04-05T14:11:43.708Z"
   },
   {
    "duration": 20,
    "start_time": "2022-04-05T14:11:46.363Z"
   },
   {
    "duration": 59,
    "start_time": "2022-04-05T14:13:36.032Z"
   },
   {
    "duration": 3,
    "start_time": "2022-04-05T14:13:45.680Z"
   },
   {
    "duration": 37,
    "start_time": "2022-04-05T14:13:46.528Z"
   },
   {
    "duration": 14,
    "start_time": "2022-04-05T14:13:48.947Z"
   },
   {
    "duration": 4,
    "start_time": "2022-04-05T14:13:52.978Z"
   },
   {
    "duration": 4,
    "start_time": "2022-04-05T14:13:54.421Z"
   },
   {
    "duration": 15,
    "start_time": "2022-04-05T14:13:57.290Z"
   },
   {
    "duration": 6,
    "start_time": "2022-04-05T14:14:01.158Z"
   },
   {
    "duration": 3,
    "start_time": "2022-04-05T14:14:02.722Z"
   },
   {
    "duration": 14,
    "start_time": "2022-04-05T14:14:05.134Z"
   },
   {
    "duration": 7,
    "start_time": "2022-04-05T14:14:09.624Z"
   },
   {
    "duration": 8,
    "start_time": "2022-04-05T14:14:11.849Z"
   },
   {
    "duration": 6,
    "start_time": "2022-04-05T14:14:13.516Z"
   },
   {
    "duration": 8,
    "start_time": "2022-04-05T14:14:14.183Z"
   },
   {
    "duration": 5,
    "start_time": "2022-04-05T14:14:16.669Z"
   },
   {
    "duration": 20,
    "start_time": "2022-04-05T14:14:19.363Z"
   },
   {
    "duration": 20,
    "start_time": "2022-04-05T14:14:41.586Z"
   },
   {
    "duration": 6,
    "start_time": "2022-04-05T14:14:55.501Z"
   },
   {
    "duration": 4,
    "start_time": "2022-04-05T14:14:56.502Z"
   },
   {
    "duration": 4,
    "start_time": "2022-04-05T14:14:57.134Z"
   },
   {
    "duration": 17,
    "start_time": "2022-04-05T14:14:58.188Z"
   },
   {
    "duration": 18,
    "start_time": "2022-04-05T14:15:09.438Z"
   },
   {
    "duration": 7,
    "start_time": "2022-04-05T14:15:10.783Z"
   },
   {
    "duration": 7,
    "start_time": "2022-04-05T14:15:15.948Z"
   },
   {
    "duration": 3,
    "start_time": "2022-04-05T14:15:23.139Z"
   },
   {
    "duration": 8,
    "start_time": "2022-04-05T14:15:23.982Z"
   },
   {
    "duration": 15,
    "start_time": "2022-04-05T14:15:30.171Z"
   },
   {
    "duration": 14,
    "start_time": "2022-04-05T14:15:35.972Z"
   },
   {
    "duration": 21,
    "start_time": "2022-04-05T14:15:37.409Z"
   },
   {
    "duration": 463,
    "start_time": "2022-04-05T14:15:41.905Z"
   },
   {
    "duration": 15,
    "start_time": "2022-04-05T14:15:52.270Z"
   },
   {
    "duration": 17,
    "start_time": "2022-04-05T14:15:52.961Z"
   },
   {
    "duration": 12,
    "start_time": "2022-04-05T14:15:56.499Z"
   },
   {
    "duration": 19,
    "start_time": "2022-04-05T14:16:01.077Z"
   },
   {
    "duration": 336,
    "start_time": "2022-04-05T14:16:03.765Z"
   },
   {
    "duration": 18,
    "start_time": "2022-04-05T14:16:13.622Z"
   },
   {
    "duration": 12,
    "start_time": "2022-04-05T14:16:18.152Z"
   },
   {
    "duration": 3,
    "start_time": "2022-04-05T14:16:24.673Z"
   },
   {
    "duration": 126,
    "start_time": "2022-04-05T14:16:26.742Z"
   },
   {
    "duration": 109,
    "start_time": "2022-04-05T14:17:16.768Z"
   },
   {
    "duration": 124,
    "start_time": "2022-04-05T14:18:09.465Z"
   },
   {
    "duration": 187,
    "start_time": "2022-04-05T14:18:44.371Z"
   },
   {
    "duration": 128,
    "start_time": "2022-04-05T14:19:28.329Z"
   },
   {
    "duration": 148,
    "start_time": "2022-04-05T14:20:18.511Z"
   },
   {
    "duration": 21,
    "start_time": "2022-04-05T14:28:09.327Z"
   },
   {
    "duration": 12,
    "start_time": "2022-04-05T14:28:15.084Z"
   },
   {
    "duration": 160,
    "start_time": "2022-04-05T14:28:18.226Z"
   },
   {
    "duration": 1274,
    "start_time": "2022-04-05T14:28:23.740Z"
   },
   {
    "duration": 31,
    "start_time": "2022-04-05T14:29:56.621Z"
   },
   {
    "duration": 13,
    "start_time": "2022-04-05T14:30:10.218Z"
   },
   {
    "duration": 3,
    "start_time": "2022-04-05T14:30:11.491Z"
   },
   {
    "duration": 15,
    "start_time": "2022-04-05T14:30:13.345Z"
   },
   {
    "duration": 5,
    "start_time": "2022-04-05T14:30:16.425Z"
   },
   {
    "duration": 7,
    "start_time": "2022-04-05T14:30:20.686Z"
   },
   {
    "duration": 5,
    "start_time": "2022-04-05T14:30:29.122Z"
   },
   {
    "duration": 6,
    "start_time": "2022-04-05T14:30:30.067Z"
   },
   {
    "duration": 5,
    "start_time": "2022-04-05T14:30:33.665Z"
   },
   {
    "duration": 3,
    "start_time": "2022-04-05T14:30:42.326Z"
   },
   {
    "duration": 5,
    "start_time": "2022-04-05T14:30:46.884Z"
   },
   {
    "duration": 3,
    "start_time": "2022-04-05T14:30:48.879Z"
   },
   {
    "duration": 16,
    "start_time": "2022-04-05T14:30:52.068Z"
   },
   {
    "duration": 16,
    "start_time": "2022-04-05T14:31:07.120Z"
   },
   {
    "duration": 1143,
    "start_time": "2022-04-05T14:31:13.866Z"
   },
   {
    "duration": 45,
    "start_time": "2022-04-05T14:31:15.011Z"
   },
   {
    "duration": 18,
    "start_time": "2022-04-05T14:31:15.058Z"
   },
   {
    "duration": 3,
    "start_time": "2022-04-05T14:31:15.078Z"
   },
   {
    "duration": 9,
    "start_time": "2022-04-05T14:31:15.083Z"
   },
   {
    "duration": 25,
    "start_time": "2022-04-05T14:31:15.093Z"
   },
   {
    "duration": 5,
    "start_time": "2022-04-05T14:31:15.120Z"
   },
   {
    "duration": 4,
    "start_time": "2022-04-05T14:31:15.127Z"
   },
   {
    "duration": 17,
    "start_time": "2022-04-05T14:31:15.133Z"
   },
   {
    "duration": 7,
    "start_time": "2022-04-05T14:31:15.153Z"
   },
   {
    "duration": 8,
    "start_time": "2022-04-05T14:31:15.162Z"
   },
   {
    "duration": 37,
    "start_time": "2022-04-05T14:31:15.172Z"
   },
   {
    "duration": 6,
    "start_time": "2022-04-05T14:31:15.211Z"
   },
   {
    "duration": 605,
    "start_time": "2022-04-05T14:31:15.219Z"
   },
   {
    "duration": 0,
    "start_time": "2022-04-05T14:31:15.829Z"
   },
   {
    "duration": 0,
    "start_time": "2022-04-05T14:31:15.830Z"
   },
   {
    "duration": 0,
    "start_time": "2022-04-05T14:31:15.832Z"
   },
   {
    "duration": 0,
    "start_time": "2022-04-05T14:31:15.833Z"
   },
   {
    "duration": 0,
    "start_time": "2022-04-05T14:31:15.835Z"
   },
   {
    "duration": 0,
    "start_time": "2022-04-05T14:31:15.836Z"
   },
   {
    "duration": 0,
    "start_time": "2022-04-05T14:31:15.837Z"
   },
   {
    "duration": 0,
    "start_time": "2022-04-05T14:31:15.839Z"
   },
   {
    "duration": 0,
    "start_time": "2022-04-05T14:31:15.840Z"
   },
   {
    "duration": 0,
    "start_time": "2022-04-05T14:31:15.841Z"
   },
   {
    "duration": 0,
    "start_time": "2022-04-05T14:31:15.843Z"
   },
   {
    "duration": 0,
    "start_time": "2022-04-05T14:31:15.844Z"
   },
   {
    "duration": 0,
    "start_time": "2022-04-05T14:31:15.846Z"
   },
   {
    "duration": 0,
    "start_time": "2022-04-05T14:31:15.848Z"
   },
   {
    "duration": 0,
    "start_time": "2022-04-05T14:31:15.849Z"
   },
   {
    "duration": 0,
    "start_time": "2022-04-05T14:31:15.852Z"
   },
   {
    "duration": 0,
    "start_time": "2022-04-05T14:31:15.853Z"
   },
   {
    "duration": 0,
    "start_time": "2022-04-05T14:31:15.855Z"
   },
   {
    "duration": 0,
    "start_time": "2022-04-05T14:31:15.856Z"
   },
   {
    "duration": 0,
    "start_time": "2022-04-05T14:31:15.857Z"
   },
   {
    "duration": 0,
    "start_time": "2022-04-05T14:31:15.858Z"
   },
   {
    "duration": 0,
    "start_time": "2022-04-05T14:31:15.859Z"
   },
   {
    "duration": 0,
    "start_time": "2022-04-05T14:31:15.860Z"
   },
   {
    "duration": 0,
    "start_time": "2022-04-05T14:31:15.861Z"
   },
   {
    "duration": 0,
    "start_time": "2022-04-05T14:31:15.863Z"
   },
   {
    "duration": 0,
    "start_time": "2022-04-05T14:31:15.864Z"
   },
   {
    "duration": 0,
    "start_time": "2022-04-05T14:31:15.865Z"
   },
   {
    "duration": 0,
    "start_time": "2022-04-05T14:31:15.866Z"
   },
   {
    "duration": 0,
    "start_time": "2022-04-05T14:31:15.909Z"
   },
   {
    "duration": 0,
    "start_time": "2022-04-05T14:31:15.910Z"
   },
   {
    "duration": 0,
    "start_time": "2022-04-05T14:31:15.911Z"
   },
   {
    "duration": 0,
    "start_time": "2022-04-05T14:31:15.913Z"
   },
   {
    "duration": 0,
    "start_time": "2022-04-05T14:31:15.914Z"
   },
   {
    "duration": 0,
    "start_time": "2022-04-05T14:31:15.915Z"
   },
   {
    "duration": 0,
    "start_time": "2022-04-05T14:31:15.916Z"
   },
   {
    "duration": 0,
    "start_time": "2022-04-05T14:31:15.916Z"
   },
   {
    "duration": 0,
    "start_time": "2022-04-05T14:31:15.918Z"
   },
   {
    "duration": 0,
    "start_time": "2022-04-05T14:31:15.919Z"
   },
   {
    "duration": 0,
    "start_time": "2022-04-05T14:31:15.920Z"
   },
   {
    "duration": 0,
    "start_time": "2022-04-05T14:31:15.921Z"
   },
   {
    "duration": 0,
    "start_time": "2022-04-05T14:31:15.922Z"
   },
   {
    "duration": 0,
    "start_time": "2022-04-05T14:31:15.923Z"
   },
   {
    "duration": 0,
    "start_time": "2022-04-05T14:31:15.924Z"
   },
   {
    "duration": 0,
    "start_time": "2022-04-05T14:31:15.925Z"
   },
   {
    "duration": 0,
    "start_time": "2022-04-05T14:31:15.926Z"
   },
   {
    "duration": 0,
    "start_time": "2022-04-05T14:31:15.927Z"
   },
   {
    "duration": 0,
    "start_time": "2022-04-05T14:31:15.928Z"
   },
   {
    "duration": 0,
    "start_time": "2022-04-05T14:31:15.929Z"
   },
   {
    "duration": 0,
    "start_time": "2022-04-05T14:31:15.931Z"
   },
   {
    "duration": 1,
    "start_time": "2022-04-05T14:31:15.932Z"
   },
   {
    "duration": 0,
    "start_time": "2022-04-05T14:31:15.934Z"
   },
   {
    "duration": 0,
    "start_time": "2022-04-05T14:31:15.935Z"
   },
   {
    "duration": 0,
    "start_time": "2022-04-05T14:31:15.937Z"
   },
   {
    "duration": 0,
    "start_time": "2022-04-05T14:31:15.938Z"
   },
   {
    "duration": 0,
    "start_time": "2022-04-05T14:31:15.940Z"
   },
   {
    "duration": 0,
    "start_time": "2022-04-05T14:31:15.941Z"
   },
   {
    "duration": 0,
    "start_time": "2022-04-05T14:31:15.942Z"
   },
   {
    "duration": 0,
    "start_time": "2022-04-05T14:31:15.944Z"
   },
   {
    "duration": 0,
    "start_time": "2022-04-05T14:31:16.008Z"
   },
   {
    "duration": 0,
    "start_time": "2022-04-05T14:31:16.010Z"
   },
   {
    "duration": 0,
    "start_time": "2022-04-05T14:31:16.012Z"
   },
   {
    "duration": 0,
    "start_time": "2022-04-05T14:31:16.013Z"
   },
   {
    "duration": 0,
    "start_time": "2022-04-05T14:31:16.014Z"
   },
   {
    "duration": 0,
    "start_time": "2022-04-05T14:31:16.016Z"
   },
   {
    "duration": 0,
    "start_time": "2022-04-05T14:31:16.017Z"
   },
   {
    "duration": 0,
    "start_time": "2022-04-05T14:31:16.018Z"
   },
   {
    "duration": 7,
    "start_time": "2022-04-05T14:35:08.203Z"
   },
   {
    "duration": 3,
    "start_time": "2022-04-05T14:35:50.398Z"
   },
   {
    "duration": 33,
    "start_time": "2022-04-05T14:35:51.754Z"
   },
   {
    "duration": 13,
    "start_time": "2022-04-05T14:35:52.222Z"
   },
   {
    "duration": 3,
    "start_time": "2022-04-05T14:35:54.492Z"
   },
   {
    "duration": 5,
    "start_time": "2022-04-05T14:35:56.127Z"
   },
   {
    "duration": 13,
    "start_time": "2022-04-05T14:35:57.336Z"
   },
   {
    "duration": 3,
    "start_time": "2022-04-05T14:36:52.443Z"
   },
   {
    "duration": 16,
    "start_time": "2022-04-05T14:36:53.153Z"
   },
   {
    "duration": 59,
    "start_time": "2022-04-05T14:37:09.161Z"
   },
   {
    "duration": 5,
    "start_time": "2022-04-05T14:37:17.282Z"
   },
   {
    "duration": 2,
    "start_time": "2022-04-05T14:37:21.486Z"
   },
   {
    "duration": 14,
    "start_time": "2022-04-05T14:37:24.741Z"
   },
   {
    "duration": 5,
    "start_time": "2022-04-05T14:37:26.380Z"
   },
   {
    "duration": 6,
    "start_time": "2022-04-05T14:37:31.940Z"
   },
   {
    "duration": 7,
    "start_time": "2022-04-05T14:37:34.061Z"
   },
   {
    "duration": 5,
    "start_time": "2022-04-05T14:37:36.239Z"
   },
   {
    "duration": 6,
    "start_time": "2022-04-05T14:37:46.322Z"
   },
   {
    "duration": 5,
    "start_time": "2022-04-05T14:37:48.146Z"
   },
   {
    "duration": 5,
    "start_time": "2022-04-05T14:37:53.651Z"
   },
   {
    "duration": 14,
    "start_time": "2022-04-05T14:38:00.411Z"
   },
   {
    "duration": 8,
    "start_time": "2022-04-05T14:38:01.685Z"
   },
   {
    "duration": 6,
    "start_time": "2022-04-05T14:38:04.760Z"
   },
   {
    "duration": 13,
    "start_time": "2022-04-05T14:38:13.303Z"
   },
   {
    "duration": 2,
    "start_time": "2022-04-05T14:38:14.849Z"
   },
   {
    "duration": 15,
    "start_time": "2022-04-05T14:38:17.179Z"
   },
   {
    "duration": 6,
    "start_time": "2022-04-05T14:38:19.006Z"
   },
   {
    "duration": 6,
    "start_time": "2022-04-05T14:38:25.477Z"
   },
   {
    "duration": 5,
    "start_time": "2022-04-05T14:38:27.653Z"
   },
   {
    "duration": 5,
    "start_time": "2022-04-05T14:38:28.485Z"
   },
   {
    "duration": 3,
    "start_time": "2022-04-05T14:38:34.419Z"
   },
   {
    "duration": 13,
    "start_time": "2022-04-05T14:38:37.542Z"
   },
   {
    "duration": 54,
    "start_time": "2022-04-05T14:38:39.938Z"
   },
   {
    "duration": 6,
    "start_time": "2022-04-05T14:38:44.955Z"
   },
   {
    "duration": 6,
    "start_time": "2022-04-05T14:38:45.628Z"
   },
   {
    "duration": 5,
    "start_time": "2022-04-05T14:38:46.508Z"
   },
   {
    "duration": 26,
    "start_time": "2022-04-05T14:38:47.545Z"
   },
   {
    "duration": 19,
    "start_time": "2022-04-05T14:39:02.662Z"
   },
   {
    "duration": 7,
    "start_time": "2022-04-05T14:39:03.694Z"
   },
   {
    "duration": 8,
    "start_time": "2022-04-05T14:39:09.072Z"
   },
   {
    "duration": 2,
    "start_time": "2022-04-05T14:39:17.891Z"
   },
   {
    "duration": 9,
    "start_time": "2022-04-05T14:39:21.754Z"
   },
   {
    "duration": 15,
    "start_time": "2022-04-05T14:39:23.872Z"
   },
   {
    "duration": 15,
    "start_time": "2022-04-05T14:39:30.333Z"
   },
   {
    "duration": 15,
    "start_time": "2022-04-05T14:39:30.876Z"
   },
   {
    "duration": 408,
    "start_time": "2022-04-05T14:39:34.820Z"
   },
   {
    "duration": 16,
    "start_time": "2022-04-05T14:39:41.205Z"
   },
   {
    "duration": 16,
    "start_time": "2022-04-05T14:39:41.898Z"
   },
   {
    "duration": 12,
    "start_time": "2022-04-05T14:39:42.907Z"
   },
   {
    "duration": 19,
    "start_time": "2022-04-05T14:39:45.644Z"
   },
   {
    "duration": 320,
    "start_time": "2022-04-05T14:39:50.233Z"
   },
   {
    "duration": 23,
    "start_time": "2022-04-05T14:39:56.060Z"
   },
   {
    "duration": 12,
    "start_time": "2022-04-05T14:40:01.926Z"
   },
   {
    "duration": 126,
    "start_time": "2022-04-05T14:40:03.987Z"
   },
   {
    "duration": 121,
    "start_time": "2022-04-05T14:40:04.309Z"
   },
   {
    "duration": 199,
    "start_time": "2022-04-05T14:40:04.580Z"
   },
   {
    "duration": 124,
    "start_time": "2022-04-05T14:40:04.838Z"
   },
   {
    "duration": 129,
    "start_time": "2022-04-05T14:40:05.787Z"
   },
   {
    "duration": 38,
    "start_time": "2022-04-05T14:40:15.800Z"
   },
   {
    "duration": 33,
    "start_time": "2022-04-05T14:40:37.057Z"
   },
   {
    "duration": 18,
    "start_time": "2022-04-05T14:41:03.916Z"
   },
   {
    "duration": 12,
    "start_time": "2022-04-05T14:41:08.934Z"
   },
   {
    "duration": 165,
    "start_time": "2022-04-05T14:41:14.246Z"
   },
   {
    "duration": 166,
    "start_time": "2022-04-05T14:41:15.858Z"
   },
   {
    "duration": 10,
    "start_time": "2022-04-05T14:41:56.470Z"
   },
   {
    "duration": 20,
    "start_time": "2022-04-05T14:44:08.173Z"
   },
   {
    "duration": 11,
    "start_time": "2022-04-05T14:44:14.242Z"
   },
   {
    "duration": 168,
    "start_time": "2022-04-05T14:44:22.728Z"
   },
   {
    "duration": 157,
    "start_time": "2022-04-05T14:44:23.446Z"
   },
   {
    "duration": 10,
    "start_time": "2022-04-05T14:44:25.861Z"
   },
   {
    "duration": 15,
    "start_time": "2022-04-05T14:47:41.566Z"
   },
   {
    "duration": 18,
    "start_time": "2022-04-05T14:48:08.444Z"
   },
   {
    "duration": 19,
    "start_time": "2022-04-05T14:49:30.685Z"
   },
   {
    "duration": 15,
    "start_time": "2022-04-05T14:49:34.434Z"
   },
   {
    "duration": 174,
    "start_time": "2022-04-05T14:49:36.757Z"
   },
   {
    "duration": 160,
    "start_time": "2022-04-05T14:49:38.315Z"
   },
   {
    "duration": 4,
    "start_time": "2022-04-05T14:51:33.688Z"
   },
   {
    "duration": 6,
    "start_time": "2022-04-05T14:52:13.344Z"
   },
   {
    "duration": 19,
    "start_time": "2022-04-05T14:52:53.136Z"
   },
   {
    "duration": 16,
    "start_time": "2022-04-05T14:58:33.367Z"
   },
   {
    "duration": 106,
    "start_time": "2022-04-05T14:58:34.850Z"
   },
   {
    "duration": 123,
    "start_time": "2022-04-05T14:58:54.859Z"
   },
   {
    "duration": 6,
    "start_time": "2022-04-05T15:00:13.837Z"
   },
   {
    "duration": 139,
    "start_time": "2022-04-05T15:00:15.142Z"
   },
   {
    "duration": 250,
    "start_time": "2022-04-05T15:00:24.252Z"
   },
   {
    "duration": 134,
    "start_time": "2022-04-05T15:00:45.434Z"
   },
   {
    "duration": 155,
    "start_time": "2022-04-05T15:00:46.444Z"
   },
   {
    "duration": 17,
    "start_time": "2022-04-05T15:00:53.299Z"
   },
   {
    "duration": 1155,
    "start_time": "2022-04-05T15:01:31.985Z"
   },
   {
    "duration": 38,
    "start_time": "2022-04-05T15:01:33.142Z"
   },
   {
    "duration": 17,
    "start_time": "2022-04-05T15:01:33.182Z"
   },
   {
    "duration": 3,
    "start_time": "2022-04-05T15:01:33.209Z"
   },
   {
    "duration": 6,
    "start_time": "2022-04-05T15:01:33.213Z"
   },
   {
    "duration": 15,
    "start_time": "2022-04-05T15:01:33.221Z"
   },
   {
    "duration": 5,
    "start_time": "2022-04-05T15:01:33.237Z"
   },
   {
    "duration": 4,
    "start_time": "2022-04-05T15:01:33.244Z"
   },
   {
    "duration": 16,
    "start_time": "2022-04-05T15:01:33.249Z"
   },
   {
    "duration": 6,
    "start_time": "2022-04-05T15:01:33.267Z"
   },
   {
    "duration": 37,
    "start_time": "2022-04-05T15:01:33.274Z"
   },
   {
    "duration": 7,
    "start_time": "2022-04-05T15:01:33.313Z"
   },
   {
    "duration": 7,
    "start_time": "2022-04-05T15:01:33.322Z"
   },
   {
    "duration": 12,
    "start_time": "2022-04-05T15:01:33.330Z"
   },
   {
    "duration": 18,
    "start_time": "2022-04-05T15:01:33.344Z"
   },
   {
    "duration": 74,
    "start_time": "2022-04-05T15:01:33.364Z"
   },
   {
    "duration": 6,
    "start_time": "2022-04-05T15:01:33.440Z"
   },
   {
    "duration": 7,
    "start_time": "2022-04-05T15:01:33.448Z"
   },
   {
    "duration": 5,
    "start_time": "2022-04-05T15:01:33.457Z"
   },
   {
    "duration": 16,
    "start_time": "2022-04-05T15:01:33.464Z"
   },
   {
    "duration": 48,
    "start_time": "2022-04-05T15:01:33.481Z"
   },
   {
    "duration": 6,
    "start_time": "2022-04-05T15:01:33.531Z"
   },
   {
    "duration": 8,
    "start_time": "2022-04-05T15:01:33.539Z"
   },
   {
    "duration": 6,
    "start_time": "2022-04-05T15:01:33.548Z"
   },
   {
    "duration": 11,
    "start_time": "2022-04-05T15:01:33.556Z"
   },
   {
    "duration": 17,
    "start_time": "2022-04-05T15:01:33.568Z"
   },
   {
    "duration": 36,
    "start_time": "2022-04-05T15:01:33.587Z"
   },
   {
    "duration": 15,
    "start_time": "2022-04-05T15:01:33.627Z"
   },
   {
    "duration": 428,
    "start_time": "2022-04-05T15:01:33.643Z"
   },
   {
    "duration": 15,
    "start_time": "2022-04-05T15:01:34.073Z"
   },
   {
    "duration": 27,
    "start_time": "2022-04-05T15:01:34.090Z"
   },
   {
    "duration": 13,
    "start_time": "2022-04-05T15:01:34.118Z"
   },
   {
    "duration": 20,
    "start_time": "2022-04-05T15:01:34.132Z"
   },
   {
    "duration": 352,
    "start_time": "2022-04-05T15:01:34.154Z"
   },
   {
    "duration": 18,
    "start_time": "2022-04-05T15:01:34.508Z"
   },
   {
    "duration": 10,
    "start_time": "2022-04-05T15:01:34.528Z"
   },
   {
    "duration": 143,
    "start_time": "2022-04-05T15:01:34.540Z"
   },
   {
    "duration": 117,
    "start_time": "2022-04-05T15:01:34.684Z"
   },
   {
    "duration": 132,
    "start_time": "2022-04-05T15:01:34.808Z"
   },
   {
    "duration": 203,
    "start_time": "2022-04-05T15:01:34.942Z"
   },
   {
    "duration": 142,
    "start_time": "2022-04-05T15:01:35.146Z"
   },
   {
    "duration": 28,
    "start_time": "2022-04-05T15:01:35.289Z"
   },
   {
    "duration": 17,
    "start_time": "2022-04-05T15:01:35.319Z"
   },
   {
    "duration": 182,
    "start_time": "2022-04-05T15:01:35.338Z"
   },
   {
    "duration": 172,
    "start_time": "2022-04-05T15:01:35.522Z"
   },
   {
    "duration": 23,
    "start_time": "2022-04-05T15:01:35.696Z"
   },
   {
    "duration": 16,
    "start_time": "2022-04-05T15:01:35.721Z"
   },
   {
    "duration": 6,
    "start_time": "2022-04-05T15:01:35.739Z"
   },
   {
    "duration": 156,
    "start_time": "2022-04-05T15:01:35.747Z"
   },
   {
    "duration": 160,
    "start_time": "2022-04-05T15:01:35.908Z"
   },
   {
    "duration": 13,
    "start_time": "2022-04-05T15:01:36.070Z"
   },
   {
    "duration": 35,
    "start_time": "2022-04-05T15:01:36.084Z"
   },
   {
    "duration": 14,
    "start_time": "2022-04-05T15:01:36.121Z"
   },
   {
    "duration": 25,
    "start_time": "2022-04-05T15:01:36.137Z"
   },
   {
    "duration": 46,
    "start_time": "2022-04-05T15:01:36.164Z"
   },
   {
    "duration": 4,
    "start_time": "2022-04-05T15:01:36.211Z"
   },
   {
    "duration": 12,
    "start_time": "2022-04-05T15:01:36.217Z"
   },
   {
    "duration": 16,
    "start_time": "2022-04-05T15:01:36.231Z"
   },
   {
    "duration": 14,
    "start_time": "2022-04-05T15:01:36.249Z"
   },
   {
    "duration": 19,
    "start_time": "2022-04-05T15:01:36.264Z"
   },
   {
    "duration": 33,
    "start_time": "2022-04-05T15:01:36.285Z"
   },
   {
    "duration": 28,
    "start_time": "2022-04-05T15:01:36.320Z"
   },
   {
    "duration": 10,
    "start_time": "2022-04-05T15:01:36.349Z"
   },
   {
    "duration": 11,
    "start_time": "2022-04-05T15:01:36.361Z"
   },
   {
    "duration": 41,
    "start_time": "2022-04-05T15:01:36.373Z"
   },
   {
    "duration": 16,
    "start_time": "2022-04-05T15:01:36.415Z"
   },
   {
    "duration": 24,
    "start_time": "2022-04-05T15:01:36.433Z"
   },
   {
    "duration": 11,
    "start_time": "2022-04-05T15:01:36.458Z"
   },
   {
    "duration": 41,
    "start_time": "2022-04-05T15:01:36.470Z"
   },
   {
    "duration": 23,
    "start_time": "2022-04-05T15:01:36.513Z"
   },
   {
    "duration": 27,
    "start_time": "2022-04-05T15:01:36.538Z"
   },
   {
    "duration": 28,
    "start_time": "2022-04-05T15:01:36.567Z"
   },
   {
    "duration": 43,
    "start_time": "2022-04-05T15:01:36.597Z"
   },
   {
    "duration": 26,
    "start_time": "2022-04-05T15:01:36.642Z"
   },
   {
    "duration": 1067,
    "start_time": "2022-04-05T15:01:36.669Z"
   },
   {
    "duration": 0,
    "start_time": "2022-04-05T15:01:37.737Z"
   },
   {
    "duration": 0,
    "start_time": "2022-04-05T15:01:37.738Z"
   },
   {
    "duration": 0,
    "start_time": "2022-04-05T15:01:37.739Z"
   },
   {
    "duration": 0,
    "start_time": "2022-04-05T15:01:37.740Z"
   },
   {
    "duration": 0,
    "start_time": "2022-04-05T15:01:37.740Z"
   },
   {
    "duration": 0,
    "start_time": "2022-04-05T15:01:37.741Z"
   },
   {
    "duration": 17,
    "start_time": "2022-04-05T15:03:22.190Z"
   },
   {
    "duration": 5,
    "start_time": "2022-04-05T15:03:24.872Z"
   },
   {
    "duration": 18,
    "start_time": "2022-04-05T15:04:48.575Z"
   },
   {
    "duration": 6,
    "start_time": "2022-04-05T15:05:07.343Z"
   },
   {
    "duration": 154,
    "start_time": "2022-04-05T15:05:16.644Z"
   },
   {
    "duration": 152,
    "start_time": "2022-04-05T15:05:24.278Z"
   },
   {
    "duration": 13,
    "start_time": "2022-04-05T15:05:36.647Z"
   },
   {
    "duration": 18,
    "start_time": "2022-04-05T15:06:06.432Z"
   },
   {
    "duration": 13,
    "start_time": "2022-04-05T15:07:11.719Z"
   },
   {
    "duration": 15,
    "start_time": "2022-04-05T15:07:28.128Z"
   },
   {
    "duration": 20,
    "start_time": "2022-04-05T15:07:58.428Z"
   },
   {
    "duration": 14,
    "start_time": "2022-04-05T15:09:22.257Z"
   },
   {
    "duration": 14,
    "start_time": "2022-04-05T15:09:34.097Z"
   },
   {
    "duration": 22,
    "start_time": "2022-04-05T15:13:39.604Z"
   },
   {
    "duration": 32,
    "start_time": "2022-04-05T15:13:54.261Z"
   },
   {
    "duration": 6,
    "start_time": "2022-04-05T15:14:09.606Z"
   },
   {
    "duration": 6,
    "start_time": "2022-04-05T15:14:10.689Z"
   },
   {
    "duration": 20,
    "start_time": "2022-04-05T15:14:11.541Z"
   },
   {
    "duration": 20,
    "start_time": "2022-04-05T15:14:22.161Z"
   },
   {
    "duration": 19,
    "start_time": "2022-04-05T15:14:26.849Z"
   },
   {
    "duration": 18,
    "start_time": "2022-04-05T15:14:28.241Z"
   },
   {
    "duration": 5,
    "start_time": "2022-04-05T15:15:44.568Z"
   },
   {
    "duration": 91,
    "start_time": "2022-04-05T15:16:11.424Z"
   },
   {
    "duration": 13,
    "start_time": "2022-04-05T15:16:18.323Z"
   },
   {
    "duration": 13,
    "start_time": "2022-04-05T15:17:02.371Z"
   },
   {
    "duration": 3,
    "start_time": "2022-04-05T15:21:28.860Z"
   },
   {
    "duration": 4,
    "start_time": "2022-04-05T15:21:29.972Z"
   },
   {
    "duration": 14,
    "start_time": "2022-04-05T15:21:31.071Z"
   },
   {
    "duration": 24,
    "start_time": "2022-04-05T15:24:11.507Z"
   },
   {
    "duration": 11,
    "start_time": "2022-04-05T15:24:21.561Z"
   },
   {
    "duration": 10,
    "start_time": "2022-04-05T15:24:26.345Z"
   },
   {
    "duration": 10,
    "start_time": "2022-04-05T15:24:28.105Z"
   },
   {
    "duration": 15,
    "start_time": "2022-04-05T15:28:42.344Z"
   },
   {
    "duration": 21,
    "start_time": "2022-04-05T15:28:53.823Z"
   },
   {
    "duration": 12,
    "start_time": "2022-04-05T15:30:16.044Z"
   },
   {
    "duration": 10,
    "start_time": "2022-04-05T15:30:25.871Z"
   },
   {
    "duration": 10,
    "start_time": "2022-04-05T15:30:59.361Z"
   },
   {
    "duration": 18,
    "start_time": "2022-04-05T17:00:18.241Z"
   },
   {
    "duration": 10,
    "start_time": "2022-04-05T17:00:29.774Z"
   },
   {
    "duration": 17,
    "start_time": "2022-04-05T17:00:40.656Z"
   },
   {
    "duration": 9,
    "start_time": "2022-04-05T17:00:49.842Z"
   },
   {
    "duration": 505,
    "start_time": "2022-04-05T17:01:14.602Z"
   },
   {
    "duration": 12,
    "start_time": "2022-04-05T17:02:24.071Z"
   },
   {
    "duration": 21,
    "start_time": "2022-04-05T17:02:55.249Z"
   },
   {
    "duration": 16,
    "start_time": "2022-04-05T17:03:05.230Z"
   },
   {
    "duration": 8,
    "start_time": "2022-04-05T17:03:25.487Z"
   },
   {
    "duration": 17,
    "start_time": "2022-04-05T17:03:34.040Z"
   },
   {
    "duration": 7,
    "start_time": "2022-04-05T17:03:47.482Z"
   },
   {
    "duration": 99,
    "start_time": "2022-04-05T17:04:04.339Z"
   },
   {
    "duration": 12,
    "start_time": "2022-04-05T17:04:29.501Z"
   },
   {
    "duration": 196,
    "start_time": "2022-04-05T18:12:00.329Z"
   },
   {
    "duration": 1450,
    "start_time": "2022-04-05T18:12:13.164Z"
   },
   {
    "duration": 46,
    "start_time": "2022-04-05T18:12:14.615Z"
   },
   {
    "duration": 18,
    "start_time": "2022-04-05T18:12:14.663Z"
   },
   {
    "duration": 3,
    "start_time": "2022-04-05T18:12:14.683Z"
   },
   {
    "duration": 16,
    "start_time": "2022-04-05T18:12:14.688Z"
   },
   {
    "duration": 15,
    "start_time": "2022-04-05T18:12:14.706Z"
   },
   {
    "duration": 6,
    "start_time": "2022-04-05T18:12:14.723Z"
   },
   {
    "duration": 4,
    "start_time": "2022-04-05T18:12:14.730Z"
   },
   {
    "duration": 14,
    "start_time": "2022-04-05T18:12:22.237Z"
   },
   {
    "duration": 3,
    "start_time": "2022-04-05T18:17:00.217Z"
   },
   {
    "duration": 54,
    "start_time": "2022-04-05T18:17:00.222Z"
   },
   {
    "duration": 13,
    "start_time": "2022-04-05T18:17:00.278Z"
   },
   {
    "duration": 9,
    "start_time": "2022-04-05T18:17:00.293Z"
   },
   {
    "duration": 11,
    "start_time": "2022-04-05T18:17:00.304Z"
   },
   {
    "duration": 28,
    "start_time": "2022-04-05T18:17:00.317Z"
   },
   {
    "duration": 16,
    "start_time": "2022-04-05T18:17:00.347Z"
   },
   {
    "duration": 7,
    "start_time": "2022-04-05T18:17:00.365Z"
   },
   {
    "duration": 38,
    "start_time": "2022-04-05T18:17:00.374Z"
   },
   {
    "duration": 106,
    "start_time": "2022-04-05T18:17:00.413Z"
   },
   {
    "duration": 0,
    "start_time": "2022-04-05T18:17:00.521Z"
   },
   {
    "duration": 0,
    "start_time": "2022-04-05T18:17:00.522Z"
   },
   {
    "duration": 4,
    "start_time": "2022-04-05T18:18:57.592Z"
   },
   {
    "duration": 14,
    "start_time": "2022-04-05T18:18:58.563Z"
   },
   {
    "duration": 4,
    "start_time": "2022-04-05T18:20:54.864Z"
   },
   {
    "duration": 43,
    "start_time": "2022-04-05T18:20:54.870Z"
   },
   {
    "duration": 13,
    "start_time": "2022-04-05T18:20:54.915Z"
   },
   {
    "duration": 3,
    "start_time": "2022-04-05T18:20:54.930Z"
   },
   {
    "duration": 5,
    "start_time": "2022-04-05T18:20:54.935Z"
   },
   {
    "duration": 14,
    "start_time": "2022-04-05T18:20:54.942Z"
   },
   {
    "duration": 2,
    "start_time": "2022-04-05T18:20:54.958Z"
   },
   {
    "duration": 4,
    "start_time": "2022-04-05T18:20:54.962Z"
   },
   {
    "duration": 39,
    "start_time": "2022-04-05T18:20:54.968Z"
   },
   {
    "duration": 12,
    "start_time": "2022-04-05T18:20:59.876Z"
   },
   {
    "duration": 3,
    "start_time": "2022-04-05T18:21:06.467Z"
   },
   {
    "duration": 17,
    "start_time": "2022-04-05T18:21:06.472Z"
   },
   {
    "duration": 13,
    "start_time": "2022-04-05T18:21:14.217Z"
   },
   {
    "duration": 4,
    "start_time": "2022-04-05T18:22:41.899Z"
   },
   {
    "duration": 40,
    "start_time": "2022-04-05T18:22:41.906Z"
   },
   {
    "duration": 13,
    "start_time": "2022-04-05T18:22:41.948Z"
   },
   {
    "duration": 5,
    "start_time": "2022-04-05T18:22:41.963Z"
   },
   {
    "duration": 7,
    "start_time": "2022-04-05T18:22:41.969Z"
   },
   {
    "duration": 29,
    "start_time": "2022-04-05T18:22:41.978Z"
   },
   {
    "duration": 2,
    "start_time": "2022-04-05T18:22:42.008Z"
   },
   {
    "duration": 4,
    "start_time": "2022-04-05T18:22:42.012Z"
   },
   {
    "duration": 12,
    "start_time": "2022-04-05T18:22:42.017Z"
   },
   {
    "duration": 12,
    "start_time": "2022-04-05T18:22:54.280Z"
   },
   {
    "duration": 3,
    "start_time": "2022-04-05T18:24:10.977Z"
   },
   {
    "duration": 13,
    "start_time": "2022-04-05T18:24:13.576Z"
   },
   {
    "duration": 13,
    "start_time": "2022-04-05T18:24:18.048Z"
   },
   {
    "duration": 9,
    "start_time": "2022-04-05T18:25:13.941Z"
   },
   {
    "duration": 8,
    "start_time": "2022-04-05T18:25:19.399Z"
   },
   {
    "duration": 13,
    "start_time": "2022-04-05T18:25:21.351Z"
   },
   {
    "duration": 3,
    "start_time": "2022-04-05T18:25:26.375Z"
   },
   {
    "duration": 14,
    "start_time": "2022-04-05T18:25:36.368Z"
   },
   {
    "duration": 3,
    "start_time": "2022-04-05T18:25:46.869Z"
   },
   {
    "duration": 43,
    "start_time": "2022-04-05T18:25:46.874Z"
   },
   {
    "duration": 14,
    "start_time": "2022-04-05T18:25:46.919Z"
   },
   {
    "duration": 3,
    "start_time": "2022-04-05T18:25:46.935Z"
   },
   {
    "duration": 6,
    "start_time": "2022-04-05T18:25:46.940Z"
   },
   {
    "duration": 14,
    "start_time": "2022-04-05T18:25:46.948Z"
   },
   {
    "duration": 3,
    "start_time": "2022-04-05T18:25:46.963Z"
   },
   {
    "duration": 6,
    "start_time": "2022-04-05T18:25:46.967Z"
   },
   {
    "duration": 41,
    "start_time": "2022-04-05T18:25:46.974Z"
   },
   {
    "duration": 7,
    "start_time": "2022-04-05T18:25:52.186Z"
   },
   {
    "duration": 13,
    "start_time": "2022-04-05T18:25:53.978Z"
   },
   {
    "duration": 1337,
    "start_time": "2022-04-06T06:22:15.596Z"
   },
   {
    "duration": 42,
    "start_time": "2022-04-06T06:22:16.935Z"
   },
   {
    "duration": 17,
    "start_time": "2022-04-06T06:22:16.979Z"
   },
   {
    "duration": 3,
    "start_time": "2022-04-06T06:22:16.998Z"
   },
   {
    "duration": 10,
    "start_time": "2022-04-06T06:22:17.003Z"
   },
   {
    "duration": 25,
    "start_time": "2022-04-06T06:22:17.014Z"
   },
   {
    "duration": 6,
    "start_time": "2022-04-06T06:22:17.041Z"
   },
   {
    "duration": 5,
    "start_time": "2022-04-06T06:22:17.048Z"
   },
   {
    "duration": 97,
    "start_time": "2022-04-06T06:22:26.423Z"
   },
   {
    "duration": 14,
    "start_time": "2022-04-06T06:24:02.845Z"
   },
   {
    "duration": 9,
    "start_time": "2022-04-06T06:24:06.446Z"
   },
   {
    "duration": 14,
    "start_time": "2022-04-06T06:24:09.211Z"
   },
   {
    "duration": 3,
    "start_time": "2022-04-06T06:24:43.298Z"
   },
   {
    "duration": 55,
    "start_time": "2022-04-06T06:24:43.303Z"
   },
   {
    "duration": 19,
    "start_time": "2022-04-06T06:24:43.360Z"
   },
   {
    "duration": 4,
    "start_time": "2022-04-06T06:24:43.382Z"
   },
   {
    "duration": 6,
    "start_time": "2022-04-06T06:24:43.388Z"
   },
   {
    "duration": 44,
    "start_time": "2022-04-06T06:24:43.396Z"
   },
   {
    "duration": 6,
    "start_time": "2022-04-06T06:24:43.442Z"
   },
   {
    "duration": 3,
    "start_time": "2022-04-06T06:24:43.451Z"
   },
   {
    "duration": 25,
    "start_time": "2022-04-06T06:24:43.457Z"
   },
   {
    "duration": 14,
    "start_time": "2022-04-06T06:24:45.714Z"
   },
   {
    "duration": 3,
    "start_time": "2022-04-06T06:24:54.083Z"
   },
   {
    "duration": 13,
    "start_time": "2022-04-06T06:24:55.955Z"
   },
   {
    "duration": 14,
    "start_time": "2022-04-06T06:24:58.930Z"
   },
   {
    "duration": 6,
    "start_time": "2022-04-06T06:25:40.912Z"
   },
   {
    "duration": 4,
    "start_time": "2022-04-06T06:35:09.862Z"
   },
   {
    "duration": 37,
    "start_time": "2022-04-06T06:35:09.868Z"
   },
   {
    "duration": 12,
    "start_time": "2022-04-06T06:35:09.907Z"
   },
   {
    "duration": 6,
    "start_time": "2022-04-06T06:35:09.921Z"
   },
   {
    "duration": 6,
    "start_time": "2022-04-06T06:35:09.928Z"
   },
   {
    "duration": 15,
    "start_time": "2022-04-06T06:35:09.935Z"
   },
   {
    "duration": 2,
    "start_time": "2022-04-06T06:35:09.952Z"
   },
   {
    "duration": 5,
    "start_time": "2022-04-06T06:35:09.955Z"
   },
   {
    "duration": 4,
    "start_time": "2022-04-06T06:36:08.243Z"
   },
   {
    "duration": 4,
    "start_time": "2022-04-06T06:36:29.677Z"
   },
   {
    "duration": 6,
    "start_time": "2022-04-06T06:37:07.197Z"
   },
   {
    "duration": 4,
    "start_time": "2022-04-06T06:37:08.725Z"
   },
   {
    "duration": 4,
    "start_time": "2022-04-06T06:37:20.639Z"
   },
   {
    "duration": 4,
    "start_time": "2022-04-06T06:37:31.104Z"
   },
   {
    "duration": 4,
    "start_time": "2022-04-06T06:46:04.247Z"
   },
   {
    "duration": 38,
    "start_time": "2022-04-06T06:46:04.254Z"
   },
   {
    "duration": 14,
    "start_time": "2022-04-06T06:46:04.294Z"
   },
   {
    "duration": 3,
    "start_time": "2022-04-06T06:46:04.310Z"
   },
   {
    "duration": 16,
    "start_time": "2022-04-06T06:46:04.315Z"
   },
   {
    "duration": 18,
    "start_time": "2022-04-06T06:46:04.333Z"
   },
   {
    "duration": 6,
    "start_time": "2022-04-06T06:46:04.353Z"
   },
   {
    "duration": 3,
    "start_time": "2022-04-06T06:46:04.361Z"
   },
   {
    "duration": 3,
    "start_time": "2022-04-06T06:46:04.367Z"
   },
   {
    "duration": 5,
    "start_time": "2022-04-06T06:46:04.371Z"
   },
   {
    "duration": 6,
    "start_time": "2022-04-06T06:46:04.377Z"
   },
   {
    "duration": 6,
    "start_time": "2022-04-06T06:46:04.384Z"
   },
   {
    "duration": 5,
    "start_time": "2022-04-06T06:46:04.392Z"
   },
   {
    "duration": 3,
    "start_time": "2022-04-06T06:46:04.433Z"
   },
   {
    "duration": 16,
    "start_time": "2022-04-06T06:46:04.438Z"
   },
   {
    "duration": 97,
    "start_time": "2022-04-06T06:55:18.912Z"
   },
   {
    "duration": 138,
    "start_time": "2022-04-06T06:56:31.782Z"
   },
   {
    "duration": 101,
    "start_time": "2022-04-06T06:58:48.879Z"
   },
   {
    "duration": 3,
    "start_time": "2022-04-06T07:40:23.742Z"
   },
   {
    "duration": 41,
    "start_time": "2022-04-06T07:40:23.747Z"
   },
   {
    "duration": 13,
    "start_time": "2022-04-06T07:40:23.790Z"
   },
   {
    "duration": 7,
    "start_time": "2022-04-06T07:40:23.805Z"
   },
   {
    "duration": 20,
    "start_time": "2022-04-06T07:40:23.814Z"
   },
   {
    "duration": 15,
    "start_time": "2022-04-06T07:40:23.835Z"
   },
   {
    "duration": 6,
    "start_time": "2022-04-06T07:40:23.851Z"
   },
   {
    "duration": 3,
    "start_time": "2022-04-06T07:40:23.858Z"
   },
   {
    "duration": 4,
    "start_time": "2022-04-06T07:40:23.864Z"
   },
   {
    "duration": 5,
    "start_time": "2022-04-06T07:40:23.869Z"
   },
   {
    "duration": 5,
    "start_time": "2022-04-06T07:40:23.875Z"
   },
   {
    "duration": 4,
    "start_time": "2022-04-06T07:40:23.882Z"
   },
   {
    "duration": 5,
    "start_time": "2022-04-06T07:40:23.887Z"
   },
   {
    "duration": 4,
    "start_time": "2022-04-06T07:40:23.893Z"
   },
   {
    "duration": 45,
    "start_time": "2022-04-06T07:40:23.899Z"
   },
   {
    "duration": 7,
    "start_time": "2022-04-06T07:40:23.945Z"
   },
   {
    "duration": 8,
    "start_time": "2022-04-06T07:40:23.954Z"
   },
   {
    "duration": 7,
    "start_time": "2022-04-06T07:40:23.963Z"
   },
   {
    "duration": 10,
    "start_time": "2022-04-06T07:40:23.972Z"
   },
   {
    "duration": 10,
    "start_time": "2022-04-06T07:40:23.983Z"
   },
   {
    "duration": 40,
    "start_time": "2022-04-06T07:40:23.995Z"
   },
   {
    "duration": 52,
    "start_time": "2022-04-06T07:40:24.037Z"
   },
   {
    "duration": 6,
    "start_time": "2022-04-06T07:40:24.091Z"
   },
   {
    "duration": 5,
    "start_time": "2022-04-06T07:40:24.100Z"
   },
   {
    "duration": 31,
    "start_time": "2022-04-06T07:40:24.107Z"
   },
   {
    "duration": 17,
    "start_time": "2022-04-06T07:40:24.139Z"
   },
   {
    "duration": 19,
    "start_time": "2022-04-06T07:40:24.158Z"
   },
   {
    "duration": 7,
    "start_time": "2022-04-06T07:40:24.179Z"
   },
   {
    "duration": 11,
    "start_time": "2022-04-06T07:40:24.187Z"
   },
   {
    "duration": 20,
    "start_time": "2022-04-06T07:40:29.896Z"
   },
   {
    "duration": 7,
    "start_time": "2022-04-06T07:40:59.560Z"
   },
   {
    "duration": 7,
    "start_time": "2022-04-06T07:41:06.288Z"
   },
   {
    "duration": 6,
    "start_time": "2022-04-06T07:41:12.304Z"
   },
   {
    "duration": 150,
    "start_time": "2022-04-06T07:42:17.050Z"
   },
   {
    "duration": 991,
    "start_time": "2022-04-06T07:58:18.212Z"
   },
   {
    "duration": 68,
    "start_time": "2022-04-07T07:34:32.264Z"
   },
   {
    "duration": 1749,
    "start_time": "2022-04-07T07:34:38.455Z"
   },
   {
    "duration": 48,
    "start_time": "2022-04-07T07:34:40.207Z"
   },
   {
    "duration": 36,
    "start_time": "2022-04-07T07:34:40.257Z"
   },
   {
    "duration": 5,
    "start_time": "2022-04-07T07:34:40.297Z"
   },
   {
    "duration": 8,
    "start_time": "2022-04-07T07:34:40.305Z"
   },
   {
    "duration": 22,
    "start_time": "2022-04-07T07:34:40.315Z"
   },
   {
    "duration": 4,
    "start_time": "2022-04-07T07:34:40.373Z"
   },
   {
    "duration": 5,
    "start_time": "2022-04-07T07:34:40.380Z"
   },
   {
    "duration": 10,
    "start_time": "2022-04-07T07:34:40.387Z"
   },
   {
    "duration": 6,
    "start_time": "2022-04-07T07:34:40.402Z"
   },
   {
    "duration": 4,
    "start_time": "2022-04-07T07:34:40.411Z"
   },
   {
    "duration": 5,
    "start_time": "2022-04-07T07:34:40.418Z"
   },
   {
    "duration": 6,
    "start_time": "2022-04-07T07:34:40.425Z"
   },
   {
    "duration": 6,
    "start_time": "2022-04-07T07:34:40.475Z"
   },
   {
    "duration": 22,
    "start_time": "2022-04-07T07:34:40.484Z"
   },
   {
    "duration": 10,
    "start_time": "2022-04-07T07:34:40.508Z"
   },
   {
    "duration": 55,
    "start_time": "2022-04-07T07:34:40.520Z"
   },
   {
    "duration": 9,
    "start_time": "2022-04-07T07:34:40.578Z"
   },
   {
    "duration": 11,
    "start_time": "2022-04-07T07:34:40.590Z"
   },
   {
    "duration": 9,
    "start_time": "2022-04-07T07:34:40.603Z"
   },
   {
    "duration": 22,
    "start_time": "2022-04-07T07:34:40.614Z"
   },
   {
    "duration": 109,
    "start_time": "2022-04-07T07:34:40.638Z"
   },
   {
    "duration": 7,
    "start_time": "2022-04-07T07:34:40.749Z"
   },
   {
    "duration": 19,
    "start_time": "2022-04-07T07:34:40.758Z"
   },
   {
    "duration": 11,
    "start_time": "2022-04-07T07:34:40.780Z"
   },
   {
    "duration": 24,
    "start_time": "2022-04-07T07:34:40.794Z"
   },
   {
    "duration": 25,
    "start_time": "2022-04-07T07:34:40.821Z"
   },
   {
    "duration": 9,
    "start_time": "2022-04-07T07:34:40.877Z"
   },
   {
    "duration": 11,
    "start_time": "2022-04-07T07:34:40.888Z"
   },
   {
    "duration": 6,
    "start_time": "2022-04-07T07:34:40.901Z"
   },
   {
    "duration": 13,
    "start_time": "2022-04-07T07:34:40.909Z"
   },
   {
    "duration": 52,
    "start_time": "2022-04-07T07:34:40.924Z"
   },
   {
    "duration": 23,
    "start_time": "2022-04-07T07:34:40.978Z"
   },
   {
    "duration": 25,
    "start_time": "2022-04-07T07:34:41.003Z"
   },
   {
    "duration": 606,
    "start_time": "2022-04-07T07:34:41.030Z"
   },
   {
    "duration": 21,
    "start_time": "2022-04-07T07:34:41.638Z"
   },
   {
    "duration": 35,
    "start_time": "2022-04-07T07:34:41.661Z"
   },
   {
    "duration": 17,
    "start_time": "2022-04-07T07:34:41.697Z"
   },
   {
    "duration": 59,
    "start_time": "2022-04-07T07:34:41.716Z"
   },
   {
    "duration": 393,
    "start_time": "2022-04-07T07:34:41.778Z"
   },
   {
    "duration": 28,
    "start_time": "2022-04-07T07:34:42.173Z"
   },
   {
    "duration": 18,
    "start_time": "2022-04-07T07:34:42.203Z"
   },
   {
    "duration": 258,
    "start_time": "2022-04-07T07:34:42.223Z"
   },
   {
    "duration": 209,
    "start_time": "2022-04-07T07:34:42.484Z"
   },
   {
    "duration": 227,
    "start_time": "2022-04-07T07:34:42.696Z"
   },
   {
    "duration": 226,
    "start_time": "2022-04-07T07:34:42.926Z"
   },
   {
    "duration": 307,
    "start_time": "2022-04-07T07:34:43.155Z"
   },
   {
    "duration": 30,
    "start_time": "2022-04-07T07:34:43.465Z"
   },
   {
    "duration": 20,
    "start_time": "2022-04-07T07:34:43.498Z"
   },
   {
    "duration": 280,
    "start_time": "2022-04-07T07:34:43.521Z"
   },
   {
    "duration": 278,
    "start_time": "2022-04-07T07:34:43.804Z"
   },
   {
    "duration": 23,
    "start_time": "2022-04-07T07:34:44.085Z"
   },
   {
    "duration": 25,
    "start_time": "2022-04-07T07:34:44.111Z"
   },
   {
    "duration": 38,
    "start_time": "2022-04-07T07:34:44.138Z"
   },
   {
    "duration": 263,
    "start_time": "2022-04-07T07:34:44.179Z"
   },
   {
    "duration": 253,
    "start_time": "2022-04-07T07:34:44.445Z"
   },
   {
    "duration": 19,
    "start_time": "2022-04-07T07:34:44.701Z"
   },
   {
    "duration": 22,
    "start_time": "2022-04-07T07:34:44.722Z"
   },
   {
    "duration": 45,
    "start_time": "2022-04-07T07:34:44.746Z"
   },
   {
    "duration": 21,
    "start_time": "2022-04-07T07:34:44.793Z"
   },
   {
    "duration": 63,
    "start_time": "2022-04-07T07:34:44.816Z"
   },
   {
    "duration": 5,
    "start_time": "2022-04-07T07:34:44.881Z"
   },
   {
    "duration": 11,
    "start_time": "2022-04-07T07:34:44.889Z"
   },
   {
    "duration": 20,
    "start_time": "2022-04-07T07:34:44.903Z"
   },
   {
    "duration": 26,
    "start_time": "2022-04-07T07:34:44.925Z"
   },
   {
    "duration": 19,
    "start_time": "2022-04-07T07:34:44.974Z"
   },
   {
    "duration": 27,
    "start_time": "2022-04-07T07:34:44.996Z"
   },
   {
    "duration": 62,
    "start_time": "2022-04-07T07:34:45.026Z"
   },
   {
    "duration": 16,
    "start_time": "2022-04-07T07:34:45.091Z"
   },
   {
    "duration": 17,
    "start_time": "2022-04-07T07:34:45.110Z"
   },
   {
    "duration": 48,
    "start_time": "2022-04-07T07:34:45.130Z"
   },
   {
    "duration": 24,
    "start_time": "2022-04-07T07:34:45.181Z"
   },
   {
    "duration": 33,
    "start_time": "2022-04-07T07:34:45.207Z"
   },
   {
    "duration": 34,
    "start_time": "2022-04-07T07:34:45.242Z"
   },
   {
    "duration": 20,
    "start_time": "2022-04-07T07:34:45.279Z"
   },
   {
    "duration": 15,
    "start_time": "2022-04-07T07:34:45.302Z"
   },
   {
    "duration": 58,
    "start_time": "2022-04-07T07:34:45.320Z"
   },
   {
    "duration": 14,
    "start_time": "2022-04-07T07:34:45.381Z"
   },
   {
    "duration": 26,
    "start_time": "2022-04-07T07:34:45.397Z"
   },
   {
    "duration": 12,
    "start_time": "2022-04-07T07:34:45.426Z"
   },
   {
    "duration": 44,
    "start_time": "2022-04-07T07:34:45.441Z"
   },
   {
    "duration": 21,
    "start_time": "2022-04-07T07:34:45.493Z"
   },
   {
    "duration": 26,
    "start_time": "2022-04-07T07:34:45.517Z"
   },
   {
    "duration": 39,
    "start_time": "2022-04-07T07:34:45.545Z"
   },
   {
    "duration": 25,
    "start_time": "2022-04-07T07:34:45.587Z"
   },
   {
    "duration": 11,
    "start_time": "2022-04-07T07:34:45.615Z"
   },
   {
    "duration": 58,
    "start_time": "2022-04-07T07:34:45.629Z"
   },
   {
    "duration": 11,
    "start_time": "2022-04-07T07:35:38.145Z"
   },
   {
    "duration": 6,
    "start_time": "2022-04-07T07:35:44.421Z"
   },
   {
    "duration": 6,
    "start_time": "2022-04-07T07:35:54.514Z"
   },
   {
    "duration": 21,
    "start_time": "2022-04-07T07:36:33.953Z"
   }
  ],
  "kernelspec": {
   "display_name": "Python 3",
   "language": "python",
   "name": "python3"
  },
  "language_info": {
   "codemirror_mode": {
    "name": "ipython",
    "version": 3
   },
   "file_extension": ".py",
   "mimetype": "text/x-python",
   "name": "python",
   "nbconvert_exporter": "python",
   "pygments_lexer": "ipython3",
   "version": "3.8.8"
  },
  "toc": {
   "base_numbering": 1,
   "nav_menu": {},
   "number_sections": true,
   "sideBar": true,
   "skip_h1_title": true,
   "title_cell": "Table of Contents",
   "title_sidebar": "Contents",
   "toc_cell": false,
   "toc_position": {
    "height": "calc(100% - 180px)",
    "left": "10px",
    "top": "150px",
    "width": "257px"
   },
   "toc_section_display": true,
   "toc_window_display": true
  }
 },
 "nbformat": 4,
 "nbformat_minor": 2
}
